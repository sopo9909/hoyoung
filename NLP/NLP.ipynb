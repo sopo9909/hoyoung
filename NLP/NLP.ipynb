{
 "cells": [
  {
   "cell_type": "markdown",
   "metadata": {},
   "source": [
    "### 자연어 처리(NLP)\n",
    "* 언어모델\n",
    "    - 순차적 언어모델(시퀀셜 단어 모델)(기계적 단어 모델)\n",
    "        * 단어1(나는)0.5 * 단어2(너를)0.1 * [단어3(좋아해)0.2]\n",
    "        * 단어추천 시스템예 (자동 완성)\n",
    "        * 수집된 단어를 분해-> 단어의 순서대로 가중치 모델 설정 -> 알고리즘으로 추천\n",
    "        \n",
    "    - 통계적 언어모델\n",
    "        * 전체 단어의 개수 카운트 기반의 모델\n",
    "        * 조건부 확률 정리기반 (베이지안 정리) 문장 기반의 처리\n",
    "        \n",
    "    - 인공지능 기반의 언어모델\n",
    "        * ML \n",
    "        * 딥러닝 기반\n",
    "        \n",
    "    - 융합형 모델\n",
    "        * 융합형 데이터 처리가 가능\n",
    "        \n",
    "        \n",
    "    \n",
    "        "
   ]
  },
  {
   "cell_type": "markdown",
   "metadata": {},
   "source": [
    "* 각 모델별 한계\n",
    "    - 순차기반 언어: 언어 순서의 자유도\n",
    "        * 나는 너를 매우 사랑해 / 너를 나는 매우 사랑해 / 매우 너를 나는 사랑해\n",
    "        * i love you so much/ you love i so much / love i you much so\n",
    "    - 띄어 쓰기 문제\n",
    "        * 나는너를사랑해\n",
    "        * iloveyousomuch\n",
    "    - 데이터 풀의 문제\n",
    "        * 꿹 너를 P(성북구 너를)/P(꿹:0) 분모가 0이 되는 경우 조건부 확률 사용 불가\n",
    "        * 충분한 데이터가 없을경우 사용 불가: 데이터 희소성 문제(data sparsity problem)\n",
    "\n",
    "        * ? 단어 블럭으로 알아보면 되지 않을까?"
   ]
  },
  {
   "cell_type": "markdown",
   "metadata": {},
   "source": [
    "### 카운트 기반 모델 BOW\n",
    "    - BOW(Bag of Words)\n",
    "        * 순서기반보다 유사 의미 파악 가능\n",
    "        * 유사 문장 기반의 의미 분석\n",
    "|문장|나는| 너를| 매우| 사랑해|모두|\n",
    "|--------------------|--|--|--|--|--|\n",
    "|*나는 너를 매우 사랑해|1| 1| 1| 1|0|\n",
    "|*너를 나는 매우 사랑해|1| 1| 1| 1|0|\n",
    "|*매우 너를 나는 사랑해|1| 1| 1| 1|0|\n",
    "|나는 너를 사랑해|1| 1| 0| 1|0|\n",
    "|나는 매우 모두 사랑해|1| 1| 0| 1|0|"
   ]
  },
  {
   "cell_type": "markdown",
   "metadata": {},
   "source": [
    "### 카운트 기반모델\n",
    "    - N-gram\n",
    "        * 언어의 순서 기반의 의미 부여\n",
    "        * 전체 문단의 맥락을 부여 가능\n",
    "        \n",
    "    - 예\n",
    "        * 나는 너를 매우 사랑해 진짜 / 너를 나는 진짜 매우 사랑해 \n",
    "    - 2 gram ( bi gram)\n",
    "        * 나는 너를\n",
    "        * 너를 매우\n",
    "        * 매우 사랑해\n",
    "        * 사랑해 진짜\n",
    "    - 3 gram ( tri gram)\n",
    "        * 나는 너를 매우\n",
    "        * 너를 매우 사랑해\n",
    "        \n"
   ]
  },
  {
   "cell_type": "markdown",
   "metadata": {},
   "source": [
    "* n-gram 기반 BOW\n",
    "    * 장점\n",
    "        - 문장간 미묘한 의미 분석\n",
    "        - 주제의 강도 파악\n",
    "        - 전체적 주제파악이 디테일\n",
    "    * 단점\n",
    "        - 희소의 문제 발생: 빅데이터가 필요\n",
    "        - n 숫자 지정의 문제: 하이퍼 파라미터 조정-> 펄플렉서티\n",
    "            * 펄플렉서티: 모호함 계수 -> 낮을수록\n",
    "        - Term Document Matrix(DTM,TDM)\n",
    "        - 한 줄은 BOW\n",
    "    \n",
    "|문장|나는 너를| 너를 매우| 매우 사랑해| 너를 나는|나는 매우|\n",
    "|--------------------|--|--|--|--|--|\n",
    "|*나는 너를 매우 사랑해|1| 1| 1| 0|0|\n",
    "|*너를 나는 매우 사랑해|0| 0| 1| 1|1|\n",
    "|*매우 너를 나는 사랑해|0| 0|0| 1|0|\n",
    "|나는 너를 사랑해|1| 0| 0| 0|0|\n",
    "|나는 매우 모두 사랑해|0| 0| 0| 0|0|"
   ]
  },
  {
   "cell_type": "markdown",
   "metadata": {},
   "source": [
    "### 주제 ?\n",
    "* 많이 나오는 단어?\n",
    "    - 의미있는 단어(명사,형용사,동사)\n",
    "    - 조사, 어미 등은 가중치\n",
    "* 다른 기사에서도 많이 나오는 단어는 늘 쓰는 말\n",
    "    - 형식적인 말들\n",
    "    - 늘 쓰는 단어들은 중요하지 않다\n",
    "* TF(Term of Frequency) 단어 빈도 / IDF 역빈도(Inverse Document Frequency)"
   ]
  },
  {
   "cell_type": "code",
   "execution_count": null,
   "metadata": {},
   "outputs": [],
   "source": []
  }
 ],
 "metadata": {
  "kernelspec": {
   "display_name": "Python 3",
   "language": "python",
   "name": "python3"
  },
  "language_info": {
   "codemirror_mode": {
    "name": "ipython",
    "version": 3
   },
   "file_extension": ".py",
   "mimetype": "text/x-python",
   "name": "python",
   "nbconvert_exporter": "python",
   "pygments_lexer": "ipython3",
   "version": "3.8.5"
  },
  "toc": {
   "base_numbering": 1,
   "nav_menu": {},
   "number_sections": true,
   "sideBar": true,
   "skip_h1_title": false,
   "title_cell": "Table of Contents",
   "title_sidebar": "Contents",
   "toc_cell": false,
   "toc_position": {},
   "toc_section_display": true,
   "toc_window_display": false
  },
  "varInspector": {
   "cols": {
    "lenName": 16,
    "lenType": 16,
    "lenVar": 40
   },
   "kernels_config": {
    "python": {
     "delete_cmd_postfix": "",
     "delete_cmd_prefix": "del ",
     "library": "var_list.py",
     "varRefreshCmd": "print(var_dic_list())"
    },
    "r": {
     "delete_cmd_postfix": ") ",
     "delete_cmd_prefix": "rm(",
     "library": "var_list.r",
     "varRefreshCmd": "cat(var_dic_list()) "
    }
   },
   "types_to_exclude": [
    "module",
    "function",
    "builtin_function_or_method",
    "instance",
    "_Feature"
   ],
   "window_display": false
  }
 },
 "nbformat": 4,
 "nbformat_minor": 5
}
