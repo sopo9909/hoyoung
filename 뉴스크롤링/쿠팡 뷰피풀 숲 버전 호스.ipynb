{
 "cells": [
  {
   "cell_type": "code",
   "execution_count": null,
   "metadata": {},
   "outputs": [],
   "source": []
  },
  {
   "cell_type": "code",
   "execution_count": null,
   "metadata": {},
   "outputs": [],
   "source": []
  },
  {
   "cell_type": "code",
   "execution_count": 1,
   "metadata": {
    "ExecuteTime": {
     "end_time": "2021-04-01T00:41:07.006032Z",
     "start_time": "2021-04-01T00:41:06.664436Z"
    }
   },
   "outputs": [],
   "source": [
    "from selenium import webdriver\n",
    "from selenium.webdriver.common.keys import Keys\n",
    "from bs4 import BeautifulSoup\n",
    "from selenium.webdriver.support.ui import WebDriverWait\n",
    "from selenium.webdriver.support import expected_conditions as EC\n",
    "from selenium.common.exceptions import TimeoutException\n",
    "import time\n",
    "import requests\n",
    "import re\n",
    "import sqlite3\n",
    "options = webdriver.ChromeOptions()\n",
    "#options.add_argument('headless')\n",
    "options.add_argument(\"start-maximized\")\n",
    "options.add_argument(\"disable-infobars\")\n",
    "options.add_argument(\"--disable-extensions\")\n",
    "options.add_argument('lang=ko_KR')\n",
    "options.add_argument('authority= www.coupang.com')\n",
    "options.add_argument('user-agent=Mozilla/5.0 (Windows NT 10.0; Win64; x64) AppleWebKit/537.36 (KHTML, like Gecko) Chrome/89.0.4389.90 Safari/537.36')\n",
    "options.add_argument('accept=text/html,application/xhtml+xml,application/xml;q=0.9,image/avif,image/webp,image/apng,*/*;q=0.8,application/signed-exchange;v=b3;q=0.9')\n",
    "options.add_argument('cookie=sid=e75eeb9defde46139683c18adb35203a948c0d3e; PCID=27432903235840507024460; overrideAbTestGroup=%5B%5D; MARKETID=27432903235840507024460; bm_sz=DC5C34CE31904F0FF94A2D8E148848B0~YAAQddojF7tk13N4AQAAg2jweAvPajrDO/uPUYwdXozHv2SFFe9iyIMiMNOChTb9CQtH9FmRzI0N/noAJXr+UaQKp0qAou3Ru00JPX4Iat/lXTO8+sNlheJOlAdNoxObgqjtKtZXgiaG4/v9x0OmBLP5bBZueV3kts5o3adaFDgcL7Xh8QEelY2VAlTUAXrZ1Q==; _fbp=fb.1.1616936724605.320452491; bm_sv=B7B343F763238B2AB780F1C1727D5625~CBc8xXUQu1Ukozdr08cb8NIeyDJRoP1cLpv4IBRMxM5n3qRbKiJnEGWtCPoF6bz9kc9so+5W7QZOPly+rEvgYlZrb/TIxA85Vkx+5tiTD871m2T0693WmnKhU+TznY/S/iaL2/+evFuzyktw6c7Fx2ebx8m3Fs3SYof28f0hgMw=; ak_bmsc=731321ED51499E0E7F7BE5F947876BC01723DA75C44F0000147F6060A836AC6C~plRhbR98IP8fD8TSTwa1N47Lg32D/corCNS/et/K0XrpVFgLnej4X0+mg/4XdqbyoDPC8/dyENsaY6+CsIM0dhCi+fwXn4rSPxp7MCxi3pvzSR2Cz8SCLPI5igO1qQAF2eW10YtcZjegz/19wFa4EatSJEdSi0Rt2OwdIDetOqDFgC7JTZ0Pt6dGVtNCqPKUFgmNl+/DV1O2+VOYZUVWTt8E54Li0XjLrQl+bPoSexLY1sUsRHg8b8ZdoteBA72ZTV+um1nYfxDhIjTlt9gi+eJ14Ofmm8j6Wh83JkQ4nKVNk=; _abck=447EC68AFE4E8CA6A5C6A0B3E3F67B09~0~YAAQddojF+1l13N4AQAAHG3weAU1LQrI4XvEe5Bf24dUMBU/1pcNI931S9CoSmJQK6Rznvc6fry2bmcWl0Q9NIy3NhaxfGsWlRPB6Qu5qo1OAauX+oYFu0+91XAtiaQuE3Le3SnLDXBgp1ZYLbqPAhbA6mOkFDOcbRcHKvb87j1OQLsM6/B7xFC20LdCviWnwHaZ1850G0EeQak+/IwVISPF0x9pyh7uu/5lMpu3be3n2P6jP91dOCH4AAwOFad0WqTvAPYnGDz5A55OYc2IN/cOQJqg0Xx6dDoVeLiuwWUxikoAOJ1luJiCp93YX9r2LEOxSsuZAkBfI6kTzplfRK1r72DXd2JUUYUb4tWB6qbkED3zqOfNXhRfFoyOj7gTp0YJ2m3BQk+n53mLTahGDK56Ulj8rp+83Q==~-1~-1~-1; searchSoterTooltip=OFF; baby-isWide=wide')"
   ]
  },
  {
   "cell_type": "code",
   "execution_count": 2,
   "metadata": {
    "ExecuteTime": {
     "end_time": "2021-04-01T00:41:09.434559Z",
     "start_time": "2021-04-01T00:41:09.419621Z"
    }
   },
   "outputs": [],
   "source": [
    "def tototo(review3):\n",
    "    if len(review3)==2:\n",
    "        if review3[0].text=='아주 만족해요':\n",
    "            reviewF=5\n",
    "        elif review3[0].text=='적당히 만족해요':\n",
    "            reviewF=3\n",
    "        else:\n",
    "            reviewF=1\n",
    "        if review3[1].text=='예상보다 오래 남아요':\n",
    "            reviewT=5\n",
    "        elif review3[1].text=='적당히 지속 돼요':\n",
    "            reviewT=3\n",
    "        else:\n",
    "            reviewT=1\n",
    "    elif len(review3)==1:\n",
    "        if review3[0].text=='아주 만족해요':\n",
    "            reviewF=5\n",
    "            reviewT=''\n",
    "        elif review3[0].text=='적당히 만족해요':\n",
    "            reviewF=3\n",
    "            reviewT=''\n",
    "        elif review3[0].text=='만족스럽지 않아요':\n",
    "            reviewF=1\n",
    "            reviewT=''\n",
    "        elif review3[0].text=='예상보다 오래 남아요':\n",
    "            reviewT=5\n",
    "            reviewF=''\n",
    "        elif review3[0].text=='적당히 지속 돼요':\n",
    "            reviewT=3\n",
    "            reviewF=''\n",
    "        else:\n",
    "            reviewT=1\n",
    "            reviewF=''\n",
    "    else:\n",
    "        reviewT=''\n",
    "        reviewF=''\n",
    "    return reviewT,reviewF"
   ]
  },
  {
   "cell_type": "code",
   "execution_count": null,
   "metadata": {
    "ExecuteTime": {
     "end_time": "2021-03-30T03:20:21.497869Z",
     "start_time": "2021-03-30T03:20:21.493615Z"
    }
   },
   "outputs": [],
   "source": [
    "def insMain(d):\n",
    "    with sqlite3.connect('coupang2.db') as conn:\n",
    "        cursor=conn.cursor()\n",
    "        sql='insert into coupang2 (name,brand_name,review,rate,Frag,Frag_time) values(?,?,?,?,?,?)'\n",
    "        res=cursor.execute(sql,d)\n",
    "        print('.',end='')"
   ]
  },
  {
   "cell_type": "code",
   "execution_count": null,
   "metadata": {
    "ExecuteTime": {
     "end_time": "2021-03-30T03:20:23.485276Z",
     "start_time": "2021-03-30T03:20:23.471749Z"
    }
   },
   "outputs": [],
   "source": [
    "def lololo(review):\n",
    "    if review is None:\n",
    "        review=' '\n",
    "    else:\n",
    "        if review.text is None:\n",
    "            review=' '\n",
    "        else:\n",
    "            review=review.text.replace('\\n','').replace('\\t',\"\").replace('\\r',\"\").replace('  ',\"\").strip().strip(' ')\n",
    "    return review"
   ]
  },
  {
   "cell_type": "code",
   "execution_count": null,
   "metadata": {
    "ExecuteTime": {
     "end_time": "2021-03-30T03:20:25.464171Z",
     "start_time": "2021-03-30T03:20:25.449802Z"
    }
   },
   "outputs": [],
   "source": [
    "def getbrand(html2):\n",
    "    try:\n",
    "        brand=html2.find(attrs={'class':'prod-brand-name'})['data-brand-name']\n",
    "        return brand\n",
    "    except AttributeError as e:\n",
    "        return ''"
   ]
  },
  {
   "cell_type": "code",
   "execution_count": null,
   "metadata": {
    "ExecuteTime": {
     "end_time": "2021-03-30T04:21:05.646155Z",
     "start_time": "2021-03-30T03:20:29.778144Z"
    }
   },
   "outputs": [],
   "source": [
    "###url 가져오기\n",
    "###남자 향수\n",
    "for i in range(1,18):\n",
    "    url = 'https://www.coupang.com/np/categories/176600?listSize=60&brand=&offerCondition=&filterType=&isPriceRange=false&minPrice=&maxPrice=&page={}&channel=user&fromComponent=Y&selectedPlpKeepFilter=&sorter=bestAsc&filter=&component=176500&rating=0'.format(i)\n",
    "    headers={\"user-agent\": \"Mozilla/5.0 (Windows NT 10.0; Win64; x64) AppleWebKit/537.36 (KHTML, like Gecko) Chrome/88.0.4324.190 Safari/537.36\"}\n",
    "    res=requests.get(url,headers=headers)\n",
    "    src=res.content.strip()\n",
    "    html =BeautifulSoup(src,'html.parser')\n",
    "    listt = html.find(attrs={'class':'baby-product-list'})\n",
    "    lit = listt.find_all('li')\n",
    "    for lt in lit:\n",
    "        a=lt.find(attrs={'class':'baby-product-link'})['href']\n",
    "        #rate=lt.find(attrs={'class':'rating'})\n",
    "        url2='https://www.coupang.com'+lt.find(attrs={'class':'baby-product-link'})['href']+'&isAddedCart='\n",
    "        res2=requests.get(url2,headers=headers)\n",
    "        src2=res2.content.strip()\n",
    "        html2 =BeautifulSoup(src2,'html.parser')\n",
    "        brand = getbrand(html2)\n",
    "        product=html2.find(attrs={'class':'prod-buy-header__title'}).text\n",
    "        product=re.sub('\\[.*?\\]','',product)\n",
    "        product=re.sub('\\<.*?\\>','',product)\n",
    "        product=re.sub(',.*?','',product)\n",
    "        product=re.sub('\\+.*?','',product)\n",
    "        aa=a[13:25]\n",
    "        result = re.sub('[^0-9]', '', aa)\n",
    "        t=0\n",
    "        for i in range(1,2000):\n",
    "            url = 'https://www.coupang.com/vp/product/reviews?productId={0}&page={1}&size=5&sortBy=ORDER_SCORE_ASC&ratings=&q=&viRoleCode=3&ratingSummary=true'.format(result,i)\n",
    "            headers={\"user-agent\": \"Mozilla/5.0 (Windows NT 10.0; Win64; x64) AppleWebKit/537.36 (KHTML, like Gecko) Chrome/88.0.4324.190 Safari/537.36\"}\n",
    "            res=requests.get(url,headers=headers)\n",
    "            src=res.content.strip()\n",
    "            html =BeautifulSoup(src,'html.parser')\n",
    "            tgts=html.find_all(attrs={'class':'sdp-review__article__list js_reviewArticleReviewList'})\n",
    "            print(t)\n",
    "            t+=1\n",
    "            if len(tgts)>0:\n",
    "                for tgt in tgts:\n",
    "                    review1=tgt.find(attrs={'class':'sdp-review__article__list__headline'})\n",
    "                    rate=tgt.find(attrs={'class':'sdp-review__article__list__info__product-info__star-orange js_reviewArticleRatingValue'})\n",
    "                    rate=rate['data-rating']\n",
    "                    review1=lololo(review1)\n",
    "                    review2=tgt.find(attrs={'class':'sdp-review__article__list__review__content js_reviewArticleContent'})\n",
    "                    review2=lololo(review2)\n",
    "                    review3=tgt.find_all(attrs={'class':'sdp-review__article__list__survey__row__answer'})\n",
    "                    reviewT,reviewF=tototo(review3)\n",
    "                    review_all=str(review1)+str(review2)\n",
    "                    #print('평점 : '+rate)\n",
    "                    if len(brand)==0:\n",
    "                        brand=product.split(' ')[0]\n",
    "                    #print('브랜드 : '+brand)\n",
    "                    #print('상품명 : '+product)\n",
    "                    #print(review1.text)#review2)\n",
    "                    #print(review2.text)\n",
    "                    #print(review3[0].text.replace('\\n','').strip()+review3[1].text.replace('\\n','').strip())\n",
    "                    #name,brand_name,review,rate,Frag,Frag_time\n",
    "                    d=(product,brand,review_all,rate,reviewF,reviewT)\n",
    "                    insMain(d)\n",
    "                    print('##'*50)\n",
    "            else:\n",
    "                break"
   ]
  },
  {
   "cell_type": "code",
   "execution_count": null,
   "metadata": {
    "ExecuteTime": {
     "end_time": "2021-03-30T05:43:28.379284Z",
     "start_time": "2021-03-30T04:21:28.936791Z"
    }
   },
   "outputs": [],
   "source": [
    "###url 가져오기\n",
    "###여자 향수\n",
    "for i in range(1,18):\n",
    "    url = 'https://www.coupang.com/np/categories/176599?listSize=60&brand=&offerCondition=&filterType=&isPriceRange=false&minPrice=&maxPrice=&page={}&channel=user&fromComponent=Y&selectedPlpKeepFilter=&sorter=bestAsc&filter=&component=176499&rating=0'.format(i)\n",
    "    headers={\"user-agent\": \"Mozilla/5.0 (Windows NT 10.0; Win64; x64) AppleWebKit/537.36 (KHTML, like Gecko) Chrome/88.0.4324.190 Safari/537.36\"}\n",
    "    res=requests.get(url,headers=headers)\n",
    "    src=res.content.strip()\n",
    "    html =BeautifulSoup(src,'html.parser')\n",
    "    listt = html.find(attrs={'class':'baby-product-list'})\n",
    "    lit = listt.find_all('li')\n",
    "    for lt in lit:\n",
    "        a=lt.find(attrs={'class':'baby-product-link'})['href']\n",
    "        #rate=lt.find(attrs={'class':'rating'})\n",
    "        url2='https://www.coupang.com'+lt.find(attrs={'class':'baby-product-link'})['href']+'&isAddedCart='\n",
    "        res2=requests.get(url2,headers=headers)\n",
    "        src2=res2.content.strip()\n",
    "        html2 =BeautifulSoup(src2,'html.parser')\n",
    "        brand=html2.find(attrs={'class':'prod-brand-name'})['data-brand-name']\n",
    "        product=html2.find(attrs={'class':'prod-buy-header__title'}).text\n",
    "        product=re.sub('\\[.*?\\]','',product)\n",
    "        product=re.sub('\\<.*?\\>','',product)\n",
    "        product=re.sub('\\+.*?','',product)\n",
    "        product=re.sub(',.*?','',product)\n",
    "        product=product.strip()\n",
    "        aa=a[13:25]\n",
    "        result = re.sub('[^0-9]', '', aa)\n",
    "        t=0\n",
    "        for i in range(1,2000):\n",
    "            url = 'https://www.coupang.com/vp/product/reviews?productId={0}&page={1}&size=5&sortBy=ORDER_SCORE_ASC&ratings=&q=&viRoleCode=3&ratingSummary=true'.format(result,i)\n",
    "            headers={\"user-agent\": \"Mozilla/5.0 (Windows NT 10.0; Win64; x64) AppleWebKit/537.36 (KHTML, like Gecko) Chrome/88.0.4324.190 Safari/537.36\"}\n",
    "            res=requests.get(url,headers=headers)\n",
    "            src=res.content.strip()\n",
    "            html =BeautifulSoup(src,'html.parser')\n",
    "            tgts=html.find_all(attrs={'class':'sdp-review__article__list js_reviewArticleReviewList'})\n",
    "            print(t)\n",
    "            t+=1\n",
    "            if len(tgts)>0:\n",
    "                for tgt in tgts:\n",
    "                    review1=tgt.find(attrs={'class':'sdp-review__article__list__headline'})\n",
    "                    rate=tgt.find(attrs={'class':'sdp-review__article__list__info__product-info__star-orange js_reviewArticleRatingValue'})\n",
    "                    rate=rate['data-rating']\n",
    "                    review1=lololo(review1)\n",
    "                    review2=tgt.find(attrs={'class':'sdp-review__article__list__review__content js_reviewArticleContent'})\n",
    "                    review2=lololo(review2)\n",
    "                    review3=tgt.find_all(attrs={'class':'sdp-review__article__list__survey__row__answer'})\n",
    "                    reviewT,reviewF=tototo(review3)\n",
    "                    review_all=str(review1)+str(review2)\n",
    "                    #print('평점 : '+rate)\n",
    "                    if len(brand)==0:\n",
    "                        brand=product.split(' ')[0]\n",
    "                    #print('브랜드 : '+brand)\n",
    "                    #print('상품명 : '+product)\n",
    "                    #print(review1.text)#review2)\n",
    "                    #print(review2.text)\n",
    "                    #print(review3[0].text.replace('\\n','').strip()+review3[1].text.replace('\\n','').strip())\n",
    "                    #name,brand_name,review,rate,Frag,Frag_time\n",
    "                    d=(product,brand,review_all,rate,reviewF,reviewT)\n",
    "                    insMain(d)\n",
    "            else:\n",
    "                break"
   ]
  },
  {
   "cell_type": "markdown",
   "metadata": {},
   "source": [
    "## 감"
   ]
  },
  {
   "cell_type": "code",
   "execution_count": null,
   "metadata": {
    "ExecuteTime": {
     "end_time": "2021-03-30T03:19:48.026156Z",
     "start_time": "2021-03-30T03:19:42.426Z"
    }
   },
   "outputs": [],
   "source": [
    "###url 가져오기\n",
    "###남자 향수\n",
    "### 예시\n",
    "url = 'https://www.coupang.com/np/categories/176600?listSize=60&brand=&offerCondition=&filterType=&isPriceRange=false&minPrice=&maxPrice=&page={}&channel=user&fromComponent=Y&selectedPlpKeepFilter=&sorter=bestAsc&filter=&component=176500&rating=0'.format(i)\n",
    "headers={\"user-agent\": \"Mozilla/5.0 (Windows NT 10.0; Win64; x64) AppleWebKit/537.36 (KHTML, like Gecko) Chrome/88.0.4324.190 Safari/537.36\"}\n",
    "res=requests.get(url,headers=headers)\n",
    "src=res.content.strip()\n",
    "html =BeautifulSoup(src,'html.parser')\n",
    "listt = html.find(attrs={'class':'baby-product-list'})\n",
    "lit = listt.find_all('li')\n",
    "for lt in lit:\n",
    "    a=lt.find(attrs={'class':'baby-product-link'})['href']\n",
    "    #rate=lt.find(attrs={'class':'rating'})\n",
    "    url2='https://www.coupang.com'+lt.find(attrs={'class':'baby-product-link'})['href']+'&isAddedCart='\n",
    "    res2=requests.get(url2,headers=headers)\n",
    "    src2=res2.content.strip()\n",
    "    html2 =BeautifulSoup(src2,'html.parser')\n",
    "    brand=html2.find(attrs={'class':'prod-brand-name'})['data-brand-name']\n",
    "    product=html2.find(attrs={'class':'prod-buy-header__title'}).text\n",
    "    product=re.sub('\\[.*?\\]','',product)\n",
    "    product=re.sub(',.*?','',product)\n",
    "    aa=a[13:25]\n",
    "    result = re.sub('[^0-9]', '', aa)\n",
    "    t=0\n",
    "    for i in range(1,2000):\n",
    "        url = 'https://www.coupang.com/vp/product/reviews?productId={0}&page={1}&size=5&sortBy=ORDER_SCORE_ASC&ratings=&q=&viRoleCode=3&ratingSummary=true'.format(result,i)\n",
    "        headers={\"user-agent\": \"Mozilla/5.0 (Windows NT 10.0; Win64; x64) AppleWebKit/537.36 (KHTML, like Gecko) Chrome/88.0.4324.190 Safari/537.36\"}\n",
    "        res=requests.get(url,headers=headers)\n",
    "        src=res.content.strip()\n",
    "        html =BeautifulSoup(src,'html.parser')\n",
    "        tgts=html.find_all(attrs={'class':'sdp-review__article__list js_reviewArticleReviewList'})\n",
    "        print(t)\n",
    "        t+=1\n",
    "        if len(tgts)>0:\n",
    "            for tgt in tgts:\n",
    "                review1=tgt.find(attrs={'class':'sdp-review__article__list__headline'})\n",
    "                rate=tgt.find(attrs={'class':'sdp-review__article__list__info__product-info__star-orange js_reviewArticleRatingValue'})\n",
    "                rate=rate['data-rating']\n",
    "                review1=lololo(review1)\n",
    "                review2=tgt.find(attrs={'class':'sdp-review__article__list__review__content js_reviewArticleContent'})\n",
    "                review2=lololo(review2)\n",
    "                review3=tgt.find_all(attrs={'class':'sdp-review__article__list__survey__row__answer'})\n",
    "                reviewT,reviewF=tototo(review3)\n",
    "                review_all=str(review1)+str(review2)\n",
    "                #print('평점 : '+rate)\n",
    "                if len(brand)==0:\n",
    "                    brand=product.split(' ')[0]\n",
    "                #print('브랜드 : '+brand)\n",
    "                #print('상품명 : '+product)\n",
    "                #print(review1.text)#review2)\n",
    "                #print(review2.text)\n",
    "                #print(review3[0].text.replace('\\n','').strip()+review3[1].text.replace('\\n','').strip())\n",
    "                #name,brand_name,review,rate,Frag,Frag_time\n",
    "                d=(product,brand,review_all,rate,reviewF,reviewT)\n",
    "                insMain(d)\n",
    "                print('##'*50)\n",
    "        else:\n",
    "            break"
   ]
  }
 ],
 "metadata": {
  "kernelspec": {
   "display_name": "Python 3",
   "language": "python",
   "name": "python3"
  },
  "language_info": {
   "codemirror_mode": {
    "name": "ipython",
    "version": 3
   },
   "file_extension": ".py",
   "mimetype": "text/x-python",
   "name": "python",
   "nbconvert_exporter": "python",
   "pygments_lexer": "ipython3",
   "version": "3.8.5"
  },
  "toc": {
   "base_numbering": 1,
   "nav_menu": {},
   "number_sections": true,
   "sideBar": true,
   "skip_h1_title": false,
   "title_cell": "Table of Contents",
   "title_sidebar": "Contents",
   "toc_cell": false,
   "toc_position": {},
   "toc_section_display": true,
   "toc_window_display": false
  },
  "varInspector": {
   "cols": {
    "lenName": 16,
    "lenType": 16,
    "lenVar": 40
   },
   "kernels_config": {
    "python": {
     "delete_cmd_postfix": "",
     "delete_cmd_prefix": "del ",
     "library": "var_list.py",
     "varRefreshCmd": "print(var_dic_list())"
    },
    "r": {
     "delete_cmd_postfix": ") ",
     "delete_cmd_prefix": "rm(",
     "library": "var_list.r",
     "varRefreshCmd": "cat(var_dic_list()) "
    }
   },
   "types_to_exclude": [
    "module",
    "function",
    "builtin_function_or_method",
    "instance",
    "_Feature"
   ],
   "window_display": false
  }
 },
 "nbformat": 4,
 "nbformat_minor": 4
}
