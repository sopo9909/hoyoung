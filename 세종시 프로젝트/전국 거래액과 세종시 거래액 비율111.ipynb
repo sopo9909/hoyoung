{
 "cells": [
  {
   "cell_type": "code",
   "execution_count": 1,
   "metadata": {
    "ExecuteTime": {
     "end_time": "2021-03-23T03:08:13.437025Z",
     "start_time": "2021-03-23T03:08:12.016591Z"
    }
   },
   "outputs": [],
   "source": [
    "import pandas as pd\n",
    "import seaborn as sns\n",
    "from matplotlib import pyplot\n",
    "import matplotlib.pyplot as plt\n",
    "import platform\n",
    "from matplotlib import font_manager, rc\n",
    "\n",
    "plt.rcParams['axes.unicode_minus'] = False\n",
    "if platform.system() == 'Darwin':\n",
    "    rc('font', family = 'AppleGothic')\n",
    "elif platform.system() == 'Windows':\n",
    "    path ='C:/Windows/Fonts/malgun.ttf'\n",
    "    font_name = font_manager.FontProperties(fname=path).get_name()\n",
    "    rc('font', family=font_name)\n",
    "else:\n",
    "    print(\"Can't find your system.\")"
   ]
  },
  {
   "cell_type": "code",
   "execution_count": 2,
   "metadata": {
    "ExecuteTime": {
     "end_time": "2021-03-23T03:08:13.478853Z",
     "start_time": "2021-03-23T03:08:13.438960Z"
    }
   },
   "outputs": [],
   "source": [
    "data=pd.read_csv('평균매매가격_아파트1.csv',encoding='cp949',header=10)\n",
    "tata=pd.read_csv('아파트매매_연도별1.csv',encoding='cp949',header=10)\n",
    "jeon=data[data['지 역']=='전국'].T\n",
    "seoul=data[data['지 역']=='서울'].T\n",
    "sejong=data[data['지 역']=='세종'].T"
   ]
  },
  {
   "cell_type": "code",
   "execution_count": 3,
   "metadata": {
    "ExecuteTime": {
     "end_time": "2021-03-23T03:08:13.489825Z",
     "start_time": "2021-03-23T03:08:13.481846Z"
    }
   },
   "outputs": [],
   "source": [
    "df = pd.DataFrame(columns=['year','sejong','seoul'])\n",
    "df['year'] = [2016,2017,2018,2019,2020]"
   ]
  },
  {
   "cell_type": "code",
   "execution_count": 4,
   "metadata": {
    "ExecuteTime": {
     "end_time": "2021-03-23T03:08:13.508774Z",
     "start_time": "2021-03-23T03:08:13.491819Z"
    }
   },
   "outputs": [],
   "source": [
    "def toto(x,y):\n",
    "    jeon_total=0\n",
    "    sejong_total=0\n",
    "    seoul_total=0\n",
    "    for i in range(12):\n",
    "        seoul_total+=int(seoul.iloc[76+i+(y*12)].values[0])\n",
    "        jeon_total+=int(jeon.iloc[76+i+(y*12)].values[0])\n",
    "        sejong_total+=int(sejong.iloc[76+i+(y*12)].values[0])\n",
    "        print(sejong.iloc[76+i+(y*12)]) #1년 간 아파트당 세종시 평균 거래액\n",
    "    jeon_al=int(tata[tata['지 역']=='전국'][x].values[0])*(jeon_total/12)\n",
    "    sejong_al=int(tata[tata['지 역']=='세종'][x].values[0])*(sejong_total/12)\n",
    "    seoul_al=int(tata[tata['지 역']=='서울'][x].values[0])*(seoul_total/12)\n",
    "#     print(tata[tata['지 역']=='서울'][x])\n",
    "    print(x,'전국 대비 세종시 거래액 비율 : '+str(round(((sejong_al/jeon_al)*100),2))+'%')\n",
    "    print(x,'전국 대비 서울시 거래액 비율 : '+str(round(((seoul_al/jeon_al)*100),2))+'%')\n",
    "    df.iloc[[2+y]] = [None,round(((sejong_al/jeon_al)*100),2),round(((seoul_al/jeon_al)*100),2)]"
   ]
  },
  {
   "cell_type": "code",
   "execution_count": 5,
   "metadata": {
    "ExecuteTime": {
     "end_time": "2021-03-23T03:08:13.599531Z",
     "start_time": "2021-03-23T03:08:13.512763Z"
    }
   },
   "outputs": [
    {
     "name": "stdout",
     "output_type": "stream",
     "text": [
      "153    207337\n",
      "Name: 2016년 01월, dtype: object\n",
      "153    207611\n",
      "Name: 2016년 02월, dtype: object\n",
      "153    207760\n",
      "Name: 2016년 03월, dtype: object\n",
      "153    207846\n",
      "Name: 2016년 04월, dtype: object\n",
      "153    208044\n",
      "Name: 2016년 05월, dtype: object\n",
      "153    208092\n",
      "Name: 2016년 06월, dtype: object\n",
      "153    208316\n",
      "Name: 2016년 07월, dtype: object\n",
      "153    208669\n",
      "Name: 2016년 08월, dtype: object\n",
      "153    230415\n",
      "Name: 2016년 09월, dtype: object\n",
      "153    230749\n",
      "Name: 2016년 10월, dtype: object\n",
      "153    231431\n",
      "Name: 2016년 11월, dtype: object\n",
      "153    231809\n",
      "Name: 2016년 12월, dtype: object\n",
      "2016년 전국 대비 세종시 거래액 비율 : 0.41%\n",
      "2016년 전국 대비 서울시 거래액 비율 : 35.11%\n"
     ]
    }
   ],
   "source": [
    "toto('2016년',-2)"
   ]
  },
  {
   "cell_type": "code",
   "execution_count": 6,
   "metadata": {
    "ExecuteTime": {
     "end_time": "2021-03-23T03:08:13.681318Z",
     "start_time": "2021-03-23T03:08:13.602523Z"
    }
   },
   "outputs": [
    {
     "name": "stdout",
     "output_type": "stream",
     "text": [
      "153    231911\n",
      "Name: 2017년 01월, dtype: object\n",
      "153    231671\n",
      "Name: 2017년 02월, dtype: object\n",
      "153    231534\n",
      "Name: 2017년 03월, dtype: object\n",
      "153    232256\n",
      "Name: 2017년 04월, dtype: object\n",
      "153    234788\n",
      "Name: 2017년 05월, dtype: object\n",
      "153    241624\n",
      "Name: 2017년 06월, dtype: object\n",
      "153    244114\n",
      "Name: 2017년 07월, dtype: object\n",
      "153    245682\n",
      "Name: 2017년 08월, dtype: object\n",
      "153    245657\n",
      "Name: 2017년 09월, dtype: object\n",
      "153    245630\n",
      "Name: 2017년 10월, dtype: object\n",
      "153    245631\n",
      "Name: 2017년 11월, dtype: object\n",
      "153    285988\n",
      "Name: 2017년 12월, dtype: object\n",
      "2017년 전국 대비 세종시 거래액 비율 : 0.62%\n",
      "2017년 전국 대비 서울시 거래액 비율 : 35.63%\n"
     ]
    }
   ],
   "source": [
    "toto('2017년',-1)"
   ]
  },
  {
   "cell_type": "code",
   "execution_count": 7,
   "metadata": {
    "ExecuteTime": {
     "end_time": "2021-03-23T03:08:13.748696Z",
     "start_time": "2021-03-23T03:08:13.684868Z"
    }
   },
   "outputs": [
    {
     "name": "stdout",
     "output_type": "stream",
     "text": [
      "153    286645\n",
      "Name: 2018년 01월, dtype: object\n",
      "153    287068\n",
      "Name: 2018년 02월, dtype: object\n",
      "153    288000\n",
      "Name: 2018년 03월, dtype: object\n",
      "153    288998\n",
      "Name: 2018년 04월, dtype: object\n",
      "153    289896\n",
      "Name: 2018년 05월, dtype: object\n",
      "153    290533\n",
      "Name: 2018년 06월, dtype: object\n",
      "153    291527\n",
      "Name: 2018년 07월, dtype: object\n",
      "153    291794\n",
      "Name: 2018년 08월, dtype: object\n",
      "153    291271\n",
      "Name: 2018년 09월, dtype: object\n",
      "153    291107\n",
      "Name: 2018년 10월, dtype: object\n",
      "153    291771\n",
      "Name: 2018년 11월, dtype: object\n",
      "153    292105\n",
      "Name: 2018년 12월, dtype: object\n",
      "2018년 전국 대비 세종시 거래액 비율 : 0.67%\n",
      "2018년 전국 대비 서울시 거래액 비율 : 37.39%\n"
     ]
    }
   ],
   "source": [
    "toto('2018년',0)"
   ]
  },
  {
   "cell_type": "code",
   "execution_count": 8,
   "metadata": {
    "ExecuteTime": {
     "end_time": "2021-03-23T03:08:13.835975Z",
     "start_time": "2021-03-23T03:08:13.750691Z"
    }
   },
   "outputs": [
    {
     "name": "stdout",
     "output_type": "stream",
     "text": [
      "153    338627\n",
      "Name: 2019년 01월, dtype: object\n",
      "153    338226\n",
      "Name: 2019년 02월, dtype: object\n",
      "153    336720\n",
      "Name: 2019년 03월, dtype: object\n",
      "153    334075\n",
      "Name: 2019년 04월, dtype: object\n",
      "153    333160\n",
      "Name: 2019년 05월, dtype: object\n",
      "153    331009\n",
      "Name: 2019년 06월, dtype: object\n",
      "153    329262\n",
      "Name: 2019년 07월, dtype: object\n",
      "153    328364\n",
      "Name: 2019년 08월, dtype: object\n",
      "153    328136\n",
      "Name: 2019년 09월, dtype: object\n",
      "153    328057\n",
      "Name: 2019년 10월, dtype: object\n",
      "153    328163\n",
      "Name: 2019년 11월, dtype: object\n",
      "153    331777\n",
      "Name: 2019년 12월, dtype: object\n",
      "2019년 전국 대비 세종시 거래액 비율 : 0.98%\n",
      "2019년 전국 대비 서울시 거래액 비율 : 30.57%\n"
     ]
    }
   ],
   "source": [
    "toto('2019년',1)"
   ]
  },
  {
   "cell_type": "code",
   "execution_count": 9,
   "metadata": {
    "ExecuteTime": {
     "end_time": "2021-03-23T03:08:13.908293Z",
     "start_time": "2021-03-23T03:08:13.837970Z"
    }
   },
   "outputs": [
    {
     "name": "stdout",
     "output_type": "stream",
     "text": [
      "153    373034\n",
      "Name: 2020년 01월, dtype: object\n",
      "153    382547\n",
      "Name: 2020년 02월, dtype: object\n",
      "153    405333\n",
      "Name: 2020년 03월, dtype: object\n",
      "153    414208\n",
      "Name: 2020년 04월, dtype: object\n",
      "153    415734\n",
      "Name: 2020년 05월, dtype: object\n",
      "153    426547\n",
      "Name: 2020년 06월, dtype: object\n",
      "153    455479\n",
      "Name: 2020년 07월, dtype: object\n",
      "153    501789\n",
      "Name: 2020년 08월, dtype: object\n",
      "153    523888\n",
      "Name: 2020년 09월, dtype: object\n",
      "153    529898\n",
      "Name: 2020년 10월, dtype: object\n",
      "153    534018\n",
      "Name: 2020년 11월, dtype: object\n",
      "153    538273\n",
      "Name: 2020년 12월, dtype: object\n",
      "2020년 전국 대비 세종시 거래액 비율 : 1.66%\n",
      "2020년 전국 대비 서울시 거래액 비율 : 23.31%\n"
     ]
    }
   ],
   "source": [
    "toto('2020년',2)"
   ]
  },
  {
   "cell_type": "code",
   "execution_count": 10,
   "metadata": {
    "ExecuteTime": {
     "end_time": "2021-03-23T03:08:13.929237Z",
     "start_time": "2021-03-23T03:08:13.911289Z"
    }
   },
   "outputs": [
    {
     "data": {
      "text/html": [
       "<div>\n",
       "<style scoped>\n",
       "    .dataframe tbody tr th:only-of-type {\n",
       "        vertical-align: middle;\n",
       "    }\n",
       "\n",
       "    .dataframe tbody tr th {\n",
       "        vertical-align: top;\n",
       "    }\n",
       "\n",
       "    .dataframe thead th {\n",
       "        text-align: right;\n",
       "    }\n",
       "</style>\n",
       "<table border=\"1\" class=\"dataframe\">\n",
       "  <thead>\n",
       "    <tr style=\"text-align: right;\">\n",
       "      <th></th>\n",
       "      <th>year</th>\n",
       "      <th>sejong</th>\n",
       "      <th>seoul</th>\n",
       "    </tr>\n",
       "  </thead>\n",
       "  <tbody>\n",
       "    <tr>\n",
       "      <th>0</th>\n",
       "      <td>2016</td>\n",
       "      <td>0.41</td>\n",
       "      <td>35.11</td>\n",
       "    </tr>\n",
       "    <tr>\n",
       "      <th>1</th>\n",
       "      <td>2017</td>\n",
       "      <td>0.62</td>\n",
       "      <td>35.63</td>\n",
       "    </tr>\n",
       "    <tr>\n",
       "      <th>2</th>\n",
       "      <td>2018</td>\n",
       "      <td>0.67</td>\n",
       "      <td>37.39</td>\n",
       "    </tr>\n",
       "    <tr>\n",
       "      <th>3</th>\n",
       "      <td>2019</td>\n",
       "      <td>0.98</td>\n",
       "      <td>30.57</td>\n",
       "    </tr>\n",
       "    <tr>\n",
       "      <th>4</th>\n",
       "      <td>2020</td>\n",
       "      <td>1.66</td>\n",
       "      <td>23.31</td>\n",
       "    </tr>\n",
       "  </tbody>\n",
       "</table>\n",
       "</div>"
      ],
      "text/plain": [
       "   year sejong  seoul\n",
       "0  2016   0.41  35.11\n",
       "1  2017   0.62  35.63\n",
       "2  2018   0.67  37.39\n",
       "3  2019   0.98  30.57\n",
       "4  2020   1.66  23.31"
      ]
     },
     "execution_count": 10,
     "metadata": {},
     "output_type": "execute_result"
    }
   ],
   "source": [
    "df['year'] = [2016,2017,2018,2019,2020]\n",
    "df"
   ]
  },
  {
   "cell_type": "code",
   "execution_count": 11,
   "metadata": {
    "ExecuteTime": {
     "end_time": "2021-03-23T03:08:14.226468Z",
     "start_time": "2021-03-23T03:08:13.933226Z"
    }
   },
   "outputs": [
    {
     "data": {
      "image/png": "[encoded data removed]",
      "text/plain": [
       "<Figure size 504x504 with 1 Axes>"
      ]
     },
     "metadata": {
      "needs_background": "light"
     },
     "output_type": "display_data"
    }
   ],
   "source": [
    "plt.figure(figsize=(7,7))\n",
    "plt.plot(df['year'],df['sejong'],color='lightblue',marker='o',label='세종특별자치시')\n",
    "plt.plot(df['year'],df['seoul'],color='lightcoral',marker='o',label='서울특별시')\n",
    "plt.xticks(df['year'],fontsize=15)\n",
    "plt.xlabel('연도')\n",
    "plt.yticks(fontsize=15)\n",
    "plt.ylabel('비율 (단위:%)')\n",
    "plt.title('서울, 세종 거래액 비율 비교',fontsize=20)\n",
    "plt.legend()\n",
    "plt.show()"
   ]
  },
  {
   "cell_type": "code",
   "execution_count": null,
   "metadata": {},
   "outputs": [],
   "source": []
  }
 ],
 "metadata": {
  "kernelspec": {
   "display_name": "Python 3",
   "language": "python",
   "name": "python3"
  },
  "language_info": {
   "codemirror_mode": {
    "name": "ipython",
    "version": 3
   },
   "file_extension": ".py",
   "mimetype": "text/x-python",
   "name": "python",
   "nbconvert_exporter": "python",
   "pygments_lexer": "ipython3",
   "version": "3.8.5"
  },
  "toc": {
   "base_numbering": 1,
   "nav_menu": {},
   "number_sections": true,
   "sideBar": true,
   "skip_h1_title": false,
   "title_cell": "Table of Contents",
   "title_sidebar": "Contents",
   "toc_cell": false,
   "toc_position": {},
   "toc_section_display": true,
   "toc_window_display": false
  },
  "varInspector": {
   "cols": {
    "lenName": 16,
    "lenType": 16,
    "lenVar": 40
   },
   "kernels_config": {
    "python": {
     "delete_cmd_postfix": "",
     "delete_cmd_prefix": "del ",
     "library": "var_list.py",
     "varRefreshCmd": "print(var_dic_list())"
    },
    "r": {
     "delete_cmd_postfix": ") ",
     "delete_cmd_prefix": "rm(",
     "library": "var_list.r",
     "varRefreshCmd": "cat(var_dic_list()) "
    }
   },
   "types_to_exclude": [
    "module",
    "function",
    "builtin_function_or_method",
    "instance",
    "_Feature"
   ],
   "window_display": false
  }
 },
 "nbformat": 4,
 "nbformat_minor": 4
}
