{
 "cells": [
  {
   "cell_type": "code",
   "execution_count": null,
   "metadata": {},
   "outputs": [],
   "source": []
  },
  {
   "cell_type": "code",
   "execution_count": 158,
   "metadata": {},
   "outputs": [],
   "source": [
    "import numpy as np\n",
    "import pandas as pd\n",
    "import requests\n",
    "from bs4 import BeautifulSoup as bsp\n",
    "import matplotlib\n",
    "import matplotlib.pyplot as plt\n",
    "import sqlite3\n",
    "import re\n",
    "from datetime import datetime, timedelta,date\n",
    "import sys"
   ]
  },
  {
   "cell_type": "code",
   "execution_count": 159,
   "metadata": {},
   "outputs": [],
   "source": [
    "def getSub():\n",
    "    dbname='navernews.db'\n",
    "    with sqlite3.connect(dbname) as conn:\n",
    "        cursor=conn.cursor()\n",
    "        sql='select sarticle from subnews '\n",
    "        res=cursor.execute(sql).fetchall()\n",
    "    return res"
   ]
  },
  {
   "cell_type": "code",
   "execution_count": 160,
   "metadata": {},
   "outputs": [
    {
     "data": {
      "text/plain": [
       "220"
      ]
     },
     "execution_count": 160,
     "metadata": {},
     "output_type": "execute_result"
    }
   ],
   "source": [
    "docs=getSub()\n",
    "len(docs)"
   ]
  },
  {
   "cell_type": "code",
   "execution_count": 161,
   "metadata": {},
   "outputs": [
    {
     "data": {
      "text/plain": [
       "('\\n신세계그룹 제공 정용진 신세계그룹 부회장이 지난해 연봉으로 33억 6800만 원을 받았다. 신세계 그룹 총수 일가는 총 142억 원을 수령했다.17일 신세계·이마트 사업보고서에 따르면 정 부회장은 지난해 이마트에서 총 33억 6800만 원을 받았다. 급여 20억 3400만 원과 상여 13억 3400만 원이다.이마트 측은 “어려운 대내외 경영 환경 속에서도 매출액 14조 2138억 원과 영업이익 2950억 원을 달성한 점을 고려했다”고 밝혔다.\\n\\n동생 정유경 신세계 총괄사장은 급여와 상여금 각각 17억 9400만 원, 11억 6600만 원으로 총 29억 6000만 원을 수령했다.\\n주요기사\\n\\n산사태까지 난 땅…용인시 공무원 매입 11일뒤 ‘특구’ 발표원로가 전한 시대정신과 인재론‘윤석열의 정치’ 보인다\\n\\n신세계 측은 “기존 백화점 경쟁력 강화로 어려운 대내외 환경 속에서도 영업이익 1268억 원을 달성한 점을 고려했다”고 전했다. 정 부회장과 정 총괄사장 모두 연봉이 전년 대비 감소한 것으로 나타났다. 정 부회장은 약 1억 9400만 원, 정 총괄사장은 1억 5400만 원가량을 덜 받았다. 이는 신종 코로나바이러스 감염증(코로나19) 사태로 실적이 감소한 영향으로 보인다.이명희 신세계그룹 회장은 이마트에서 26억 9300만 원, 신세계에서 12억 6100만 원으로 총 39억 5400만 원을 받았다. 정재은 명예회장도 이와 동일한 연봉을 수령했다.김혜린 동아닷컴 기자 sinnala8@donga.com\\n',)"
      ]
     },
     "execution_count": 161,
     "metadata": {},
     "output_type": "execute_result"
    }
   ],
   "source": [
    "docs[0]"
   ]
  },
  {
   "cell_type": "code",
   "execution_count": 163,
   "metadata": {},
   "outputs": [],
   "source": [
    "from konlpy.tag import Kkma\n",
    "kkma=Kkma()"
   ]
  },
  {
   "cell_type": "code",
   "execution_count": 164,
   "metadata": {},
   "outputs": [],
   "source": [
    "def dictsort(r):\n",
    "    sr=sorted(r.items(),key=(lambda x:x[1]),reverse=True)\n",
    "    return r"
   ]
  },
  {
   "cell_type": "code",
   "execution_count": 165,
   "metadata": {},
   "outputs": [],
   "source": [
    "def getPOS(rres):\n",
    "    p=kkma.pos(rres)\n",
    "    dictpos={}\n",
    "    words=[]\n",
    "    #표제어 추출\n",
    "    check=['NNG','NNP','NNB','NNM','VV','VA','VXV','VXA','VCP','VCN','SF','EFN','EFQ']\n",
    "    for  w,pos in p:\n",
    "        if(pos in check):\n",
    "            words.append(w)\n",
    "            if (w in dictpos.keys()):\n",
    "                dictpos[w]+=1\n",
    "            else:\n",
    "                dictpos[w]=1\n",
    "    return (dictpos,words)  "
   ]
  },
  {
   "cell_type": "code",
   "execution_count": 166,
   "metadata": {},
   "outputs": [
    {
     "data": {
      "text/plain": [
       "'신세계 그룹 제공 정 용진 신세계 그룹 부회장 지난해 연봉 원 받 다 . 신세계 그룹 총수 일가 원 수령 다 . 일 신세계 마트 사업 보고서 따르 정 부회장 지난해 이 마트 총 원 받 다 . 급여 원 상여 원 이 다 . 마트 측 어렵 대내외 경영 환경 속 매출액 원 영업 이익 원 달성 점 고려 고 밝히 다 . 동생 정유 경 신세계 총괄 사장 급여 상여금 원 원 총 원 수령 다 . 주요 기사 산사태 낳 땅 용인시 공무원 매입 일 뒤 특구 발표 원로 전하 시대정신 인재 윤 열의 정치 보이 신세계 측 기존 백화점 경쟁력 강화 어렵 대내외 환경 속 영업 이익 원 달성 점 고려 고 전하 다 . 정 부회장 정 총괄 사장 모두 연봉 전년 대비 감소 것 나타나 다 . 정 부회장 원 정 총괄 사장 원 가량 받 다 . 일 신종 코로나 바 감염증 코로나 사태 실적 감소 영향 보이 ㄴ다 . 이명 희 세계 그룹 회장 마트 원 신세계 원 총 원 받 다 . 정재 은 명예 회장 동일 연봉 수령 다 . 김 동아 닷컴 기자 .'"
      ]
     },
     "execution_count": 166,
     "metadata": {},
     "output_type": "execute_result"
    }
   ],
   "source": [
    "getp=getPOS(docs[0][0])\n",
    "sen=' '.join(getp[1])\n",
    "sen"
   ]
  },
  {
   "cell_type": "code",
   "execution_count": 167,
   "metadata": {},
   "outputs": [],
   "source": [
    "### 사용자 사전 추가\n",
    "#* 내 파이썬 위치 확인\n",
    "#* !which python\n",
    "#* 해당 위치로 이동 c:/Users/사용자명/anaconda3/\\Lib\\site-packages\\konlpy\\java\n",
    "#* 가상환경 위치로 이동 c:/Users/사용자명/anaconda3/envs/환경명/\\Lib\\site-packages\\konlpy\\java\n",
    "#* kkma_2.0.jar 압출풀기\n",
    "#* 기존 kkma_2.0.jar 를 이름 변환하여 백업\n",
    "#* JDK(개발환경)를 설치 jar 사용 jar-cvf kkma_2.0.jar/ .\n",
    "#\n"
   ]
  },
  {
   "cell_type": "markdown",
   "metadata": {},
   "source": [
    "### NLP 단계\n",
    "* nlp 관련 엔진의 기능에 연관\n",
    "\n",
    "*  문서 전처리\n",
    "    - Document(문서/전자문서):여러개 있음\n",
    "    - corpus(말뭉치):모음/스크래이핑 \n",
    "    - Tokenize(의미있는 단위로 분리)\n",
    "        - 단어장 사전처리: 인명, 신조어, 분야별 단어\n",
    "        - 문장,단어,띄어쓰기,형태소 morpheme 분석\n",
    "        - 언어에서 의미를 가지는 최소단위- 형태소의 명칭:품사POS part of speech]\n",
    "            * 명사 동사 형용사 부사 ....\n",
    "        - 한국형 형태소 분석기 KONLPY\n",
    "            * JAVA 기반의 환경조성(자바설치,JPYPE)\n",
    "        - 영미권 단어 쪼개기\n",
    "            * 표제어 추출(Lemmatization): 형태소 분석- 사전형 단어분석 -> 품사정리\n",
    "            * 어간추출(stemming) un- in- 일종의 형태소 분석\n",
    "                - 단어의 의미를 담고 있는 단어의 핵심 부분.\n",
    "    - 불용어 처리 : stopwords\n",
    "* 자연어 처리 기법\n",
    "    - 카운트기반 자연어 처리\n",
    "        - BOW Bag of words\n",
    "        - TDM\n",
    "        - TF-IDF\n",
    "    \n",
    "\n",
    "* 목적하는 언어셋 수집 (코퍼스corpus:말뭉치) > 문장(sentence) > 단어(words) > 형태소 분석\n",
    "\n",
    "* 말뭉치 수집(Web Crawling 돌아다니기/Web Scraping 정보가져오기 ) \n",
    "    - 말뭉치 또는 코퍼스(Corpus)는 자연언어 연구를 위해 특정한 목적을 가지고 언어의 표본을 추출한 집합이\n",
    "* 문장 토큰화(Sentence Tokenization)\n",
    "    - 문장 토큰화: 문장의 마침표(.), 개행문자(\\n), 느낌표(!), 물음표(?) 등 문장의 마지막을 뜻하는 기호에 따라 분리하는 것이 일반적.\n",
    "    \n",
    "* 단어(품사) 토큰화(Word Tokenization)\n",
    "    - konlpy 형태소 분석 등을 이용한 단어 토큰화"
   ]
  },
  {
   "cell_type": "code",
   "execution_count": 168,
   "metadata": {},
   "outputs": [
    {
     "name": "stdout",
     "output_type": "stream",
     "text": [
      "신세계 그룹 제공 정 용진 신세계 그룹 부회장 지난해 연봉 원 받 다 \n"
     ]
    }
   ],
   "source": [
    "corpus=sen.split('.')\n",
    "print(corpus[0])"
   ]
  },
  {
   "cell_type": "code",
   "execution_count": 169,
   "metadata": {},
   "outputs": [
    {
     "data": {
      "text/plain": [
       "(14, 72)"
      ]
     },
     "execution_count": 169,
     "metadata": {},
     "output_type": "execute_result"
    }
   ],
   "source": [
    "\n",
    "# 카운트 기반 TDM\n",
    "from sklearn.feature_extraction.text import CountVectorizer\n",
    "vect=CountVectorizer()\n",
    "tdm=vect.fit_transform(corpus).toarray()\n",
    "tdm.shape"
   ]
  },
  {
   "cell_type": "code",
   "execution_count": 170,
   "metadata": {
    "collapsed": true
   },
   "outputs": [
    {
     "name": "stdout",
     "output_type": "stream",
     "text": [
      "['ㄴ다', '가량', '감소', '감염증', '강화', '경영', '경쟁력', '고려', '공무원', '그룹', '급여', '기사', '기자', '기존', '나타나', '달성', '닷컴', '대내외', '대비', '동생', '동아', '동일', '따르', '마트', '매입', '매출액', '명예', '모두', '발표', '밝히', '백화점', '보고서', '보이', '부회장', '사업', '사장', '사태', '산사태', '상여', '상여금', '세계', '수령', '시대정신', '신세계', '신종', '실적', '어렵', '연봉', '열의', '영업', '영향', '용인시', '용진', '원로', '이명', '이익', '인재', '일가', '전년', '전하', '정유', '정재', '정치', '제공', '주요', '지난해', '총괄', '총수', '코로나', '특구', '환경', '회장']\n",
      "신세계 그룹 제공 정 용진 신세계 그룹 부회장 지난해 연봉 원 받 다 \n",
      "[('그룹', 2), ('신세계', 2), ('부회장', 1), ('연봉', 1), ('용진', 1)]\n",
      " 신세계 그룹 총수 일가 원 수령 다 \n",
      "[('그룹', 1), ('수령', 1), ('신세계', 1), ('일가', 1), ('총수', 1)]\n",
      " 일 신세계 마트 사업 보고서 따르 정 부회장 지난해 이 마트 총 원 받 다 \n",
      "[('마트', 2), ('따르', 1), ('보고서', 1), ('부회장', 1), ('사업', 1)]\n",
      " 급여 원 상여 원 이 다 \n",
      "[('급여', 1), ('상여', 1), ('ㄴ다', 0), ('가량', 0), ('감소', 0)]\n",
      " 마트 측 어렵 대내외 경영 환경 속 매출액 원 영업 이익 원 달성 점 고려 고 밝히 다 \n",
      "[('경영', 1), ('고려', 1), ('달성', 1), ('대내외', 1), ('마트', 1)]\n",
      " 동생 정유 경 신세계 총괄 사장 급여 상여금 원 원 총 원 수령 다 \n",
      "[('급여', 1), ('동생', 1), ('사장', 1), ('상여금', 1), ('수령', 1)]\n",
      " 주요 기사 산사태 낳 땅 용인시 공무원 매입 일 뒤 특구 발표 원로 전하 시대정신 인재 윤 열의 정치 보이 신세계 측 기존 백화점 경쟁력 강화 어렵 대내외 환경 속 영업 이익 원 달성 점 고려 고 전하 다 \n",
      "[('전하', 2), ('강화', 1), ('경쟁력', 1), ('고려', 1), ('공무원', 1)]\n",
      " 정 부회장 정 총괄 사장 모두 연봉 전년 대비 감소 것 나타나 다 \n",
      "[('감소', 1), ('나타나', 1), ('대비', 1), ('모두', 1), ('부회장', 1)]\n",
      " 정 부회장 원 정 총괄 사장 원 가량 받 다 \n",
      "[('가량', 1), ('부회장', 1), ('사장', 1), ('총괄', 1), ('ㄴ다', 0)]\n",
      " 일 신종 코로나 바 감염증 코로나 사태 실적 감소 영향 보이 ㄴ다 \n",
      "[('코로나', 2), ('ㄴ다', 1), ('감소', 1), ('감염증', 1), ('보이', 1)]\n",
      " 이명 희 세계 그룹 회장 마트 원 신세계 원 총 원 받 다 \n",
      "[('그룹', 1), ('마트', 1), ('세계', 1), ('신세계', 1), ('이명', 1)]\n",
      " 정재 은 명예 회장 동일 연봉 수령 다 \n",
      "[('동일', 1), ('명예', 1), ('수령', 1), ('연봉', 1), ('정재', 1)]\n",
      " 김 동아 닷컴 기자 \n",
      "[('기자', 1), ('닷컴', 1), ('동아', 1), ('ㄴ다', 0), ('가량', 0)]\n",
      "\n",
      "[('ㄴ다', 0), ('가량', 0), ('감소', 0), ('감염증', 0), ('강화', 0)]\n"
     ]
    }
   ],
   "source": [
    "#words=list(vect.vocabulary_.keys())# 전체 단어 갯수 파악용\n",
    "words=list(vect.get_feature_names())\n",
    "print(words)\n",
    "i=0\n",
    "for td in tdm:\n",
    "    zt=list(zip(words,td))\n",
    "    szt=sorted(zt,key=(lambda x:x[1]),reverse=True)\n",
    "    print(corpus[i])\n",
    "    print(szt[:5])\n",
    "    i+=1"
   ]
  },
  {
   "cell_type": "code",
   "execution_count": 171,
   "metadata": {},
   "outputs": [
    {
     "data": {
      "text/plain": [
       "<matplotlib.image.AxesImage at 0x1aa0fab3250>"
      ]
     },
     "execution_count": 171,
     "metadata": {},
     "output_type": "execute_result"
    },
    {
     "data": {
      "image/png": "[encoded data removed]",
      "text/plain": [
       "<Figure size 432x288 with 1 Axes>"
      ]
     },
     "metadata": {
      "needs_background": "light"
     },
     "output_type": "display_data"
    }
   ],
   "source": [
    "plt.imshow(tdm)"
   ]
  },
  {
   "cell_type": "code",
   "execution_count": 172,
   "metadata": {
    "collapsed": true
   },
   "outputs": [
    {
     "data": {
      "text/plain": [
       "array([[0.        , 0.        , 0.        , ..., 0.        , 0.        ,\n",
       "        0.        ],\n",
       "       [0.        , 0.        , 0.        , ..., 0.        , 0.        ,\n",
       "        0.        ],\n",
       "       [0.        , 0.        , 0.        , ..., 0.        , 0.        ,\n",
       "        0.        ],\n",
       "       ...,\n",
       "       [0.        , 0.        , 0.        , ..., 0.        , 0.        ,\n",
       "        0.38960208],\n",
       "       [0.        , 0.        , 0.        , ..., 0.        , 0.        ,\n",
       "        0.        ],\n",
       "       [0.        , 0.        , 0.        , ..., 0.        , 0.        ,\n",
       "        0.        ]])"
      ]
     },
     "execution_count": 172,
     "metadata": {},
     "output_type": "execute_result"
    }
   ],
   "source": [
    "# TF-IDF 방식으로 중요단어 가중치\n",
    "from sklearn.feature_extraction.text import TfidfVectorizer\n",
    "tfidfv=TfidfVectorizer()\n",
    "tfm=tfidfv.fit_transform(corpus).toarray()\n",
    "tfm"
   ]
  },
  {
   "cell_type": "code",
   "execution_count": 173,
   "metadata": {},
   "outputs": [
    {
     "data": {
      "image/png": "[encoded data removed]",
      "text/plain": [
       "<Figure size 432x288 with 1 Axes>"
      ]
     },
     "metadata": {
      "needs_background": "light"
     },
     "output_type": "display_data"
    },
    {
     "data": {
      "image/png": "[encoded data removed]",
      "text/plain": [
       "<Figure size 432x288 with 1 Axes>"
      ]
     },
     "metadata": {
      "needs_background": "light"
     },
     "output_type": "display_data"
    }
   ],
   "source": [
    "plt.imshow(tdm)\n",
    "plt.show()\n",
    "plt.imshow(tfm)\n",
    "plt.show()"
   ]
  },
  {
   "cell_type": "code",
   "execution_count": 174,
   "metadata": {
    "collapsed": true
   },
   "outputs": [
    {
     "data": {
      "text/plain": [
       "{'신세계': 43,\n",
       " '그룹': 9,\n",
       " '제공': 63,\n",
       " '용진': 52,\n",
       " '부회장': 33,\n",
       " '지난해': 65,\n",
       " '연봉': 47,\n",
       " '총수': 67,\n",
       " '일가': 57,\n",
       " '수령': 41,\n",
       " '마트': 23,\n",
       " '사업': 34,\n",
       " '보고서': 31,\n",
       " '따르': 22,\n",
       " '급여': 10,\n",
       " '상여': 38,\n",
       " '어렵': 46,\n",
       " '대내외': 17,\n",
       " '경영': 5,\n",
       " '환경': 70,\n",
       " '매출액': 25,\n",
       " '영업': 49,\n",
       " '이익': 55,\n",
       " '달성': 15,\n",
       " '고려': 7,\n",
       " '밝히': 29,\n",
       " '동생': 19,\n",
       " '정유': 60,\n",
       " '총괄': 66,\n",
       " '사장': 35,\n",
       " '상여금': 39,\n",
       " '주요': 64,\n",
       " '기사': 11,\n",
       " '산사태': 37,\n",
       " '용인시': 51,\n",
       " '공무원': 8,\n",
       " '매입': 24,\n",
       " '특구': 69,\n",
       " '발표': 28,\n",
       " '원로': 53,\n",
       " '전하': 59,\n",
       " '시대정신': 42,\n",
       " '인재': 56,\n",
       " '열의': 48,\n",
       " '정치': 62,\n",
       " '보이': 32,\n",
       " '기존': 13,\n",
       " '백화점': 30,\n",
       " '경쟁력': 6,\n",
       " '강화': 4,\n",
       " '모두': 27,\n",
       " '전년': 58,\n",
       " '대비': 18,\n",
       " '감소': 2,\n",
       " '나타나': 14,\n",
       " '가량': 1,\n",
       " '신종': 44,\n",
       " '코로나': 68,\n",
       " '감염증': 3,\n",
       " '사태': 36,\n",
       " '실적': 45,\n",
       " '영향': 50,\n",
       " 'ㄴ다': 0,\n",
       " '이명': 54,\n",
       " '세계': 40,\n",
       " '회장': 71,\n",
       " '정재': 61,\n",
       " '명예': 26,\n",
       " '동일': 21,\n",
       " '동아': 20,\n",
       " '닷컴': 16,\n",
       " '기자': 12}"
      ]
     },
     "execution_count": 174,
     "metadata": {},
     "output_type": "execute_result"
    }
   ],
   "source": [
    "tfidfv.vocabulary_"
   ]
  },
  {
   "cell_type": "markdown",
   "metadata": {},
   "source": [
    "# 융합형 데이터 분석\n",
    "    * 이종데이터 결합을 통한 분석\n",
    "# 의미분석\n",
    "    * 잠재의미분석(LSA:  Latent Semantic Analysis)\n",
    "        - 기존의 TDM 및 TF-IDF 가 단어의 의미 무시하고 숫자에 의한 처리\n",
    "        * SVD( 특이값 분해 ) Truncated\n",
    "            - m*n*l의 데이터-> m*m    m*n   n*n\n",
    "        * PCA( 주성분 분석)\n",
    "            - 데이터의 중심(평균)->0\n",
    "            - 중심으로부터 각 데이터 벡터에 대한 공분산 행렬터 각 데이터 벡터에 대한 공분산 행렬\n",
    "            - 고유벡터 기반의 차원축소\n",
    "    * 잠재 디리클레 할당(LDA:Latent Dirichlet Allocation)\n",
    "        - 디리클레 분포 활용\n",
    "        - 문서의 토픽 발견 프로세스\n",
    "    * 차이\n",
    "        - LSA 단순 차원 축소를 통한 단어 빈도 기반의 추청\n",
    "        - LDA 단어가 특정 주제에 존재할 확률 과 특정 주제가 존재할 확률의 결합 확률 \n",
    "        \n",
    "    * https://ratsgo.github.io/from%20frequency%20to%20semantics/2017/04/06/pcasvdlsa/"
   ]
  },
  {
   "cell_type": "code",
   "execution_count": 175,
   "metadata": {},
   "outputs": [
    {
     "data": {
      "text/plain": [
       "TruncatedSVD()"
      ]
     },
     "execution_count": 175,
     "metadata": {},
     "output_type": "execute_result"
    }
   ],
   "source": [
    "# 주제 분석(모델링) Topic modeling\n",
    "from sklearn.decomposition import TruncatedSVD\n",
    "svdm=TruncatedSVD()\n",
    "svdm.fit(tfm)"
   ]
  },
  {
   "cell_type": "code",
   "execution_count": 176,
   "metadata": {},
   "outputs": [
    {
     "data": {
      "text/plain": [
       "(2, 72)"
      ]
     },
     "execution_count": 176,
     "metadata": {},
     "output_type": "execute_result"
    }
   ],
   "source": [
    "components=svdm.components_\n",
    "np.shape(components)\n"
   ]
  },
  {
   "cell_type": "code",
   "execution_count": 177,
   "metadata": {},
   "outputs": [],
   "source": [
    "voca=list(vect.get_feature_names())"
   ]
  },
  {
   "cell_type": "code",
   "execution_count": 184,
   "metadata": {},
   "outputs": [],
   "source": [
    "def makeDict(components,voca):\n",
    "    res=[]\n",
    "    for c in components:\n",
    "        dict={}\n",
    "        for i,v in enumerate(c):\n",
    "            dict[voca[i]]=v\n",
    "        res.append(dict)\n",
    "    return res    "
   ]
  },
  {
   "cell_type": "code",
   "execution_count": 179,
   "metadata": {},
   "outputs": [
    {
     "name": "stdout",
     "output_type": "stream",
     "text": [
      "**************************************************\n",
      "[('신세계', 0.4204838693771134), ('그룹', 0.3982893513597642), ('부회장', 0.28380894183373145), ('마트', 0.2645725433890358), ('수령', 0.23838617665157813)]\n",
      "**************************************************\n",
      "[('사장', 0.4030261843539152), ('총괄', 0.4030261843539152), ('가량', 0.2546766028579428), ('급여', 0.20146539547130063), ('부회장', 0.20125238488500127)]\n"
     ]
    }
   ],
   "source": [
    "for r in res:\n",
    "    print(\"*\"*50)\n",
    "    sr=sorted(r.items(),key=(lambda x:x[1]),reverse=True)\n",
    "    print(sr[:5])"
   ]
  },
  {
   "cell_type": "code",
   "execution_count": 183,
   "metadata": {},
   "outputs": [
    {
     "name": "stdout",
     "output_type": "stream",
     "text": [
      "(3, 72)\n"
     ]
    }
   ],
   "source": [
    "### LDA\n",
    "from sklearn.decomposition import LatentDirichletAllocation\n",
    "lda=LatentDirichletAllocation(n_components=3)\n",
    "lda.fit(tfm)\n",
    "components=lda.components_\n",
    "voca=list(vect.get_feature_names())\n",
    "print(np.shape(components))"
   ]
  },
  {
   "cell_type": "code",
   "execution_count": 185,
   "metadata": {},
   "outputs": [
    {
     "name": "stdout",
     "output_type": "stream",
     "text": [
      "**************************************************\n",
      "[('신세계', 1.3686894239929284), ('급여', 1.3407146048944878), ('부회장', 1.2840817663270632), ('사장', 1.1255595013494872), ('총괄', 1.1255595013456268)]\n",
      "**************************************************\n",
      "[('일가', 0.8632829598066396), ('총수', 0.8632829598066396), ('수령', 0.7542366291707615), ('그룹', 0.750398963545936), ('나타나', 0.7091209113825324)]\n",
      "**************************************************\n",
      "[('회장', 1.1388685497975108), ('마트', 0.9718016925359183), ('기자', 0.9076805015235923), ('닷컴', 0.9076805015235923), ('동아', 0.9076805015235923)]\n"
     ]
    }
   ],
   "source": [
    "res=makeDict(components,voca)\n",
    "for r in res:\n",
    "    print(\"*\"*50)\n",
    "    sr=sorted(r.items(),key=(lambda x:x[1]),reverse=True)\n",
    "    print(sr[:5])"
   ]
  },
  {
   "cell_type": "code",
   "execution_count": 1,
   "metadata": {
    "ExecuteTime": {
     "end_time": "2021-03-31T01:57:57.507848Z",
     "start_time": "2021-03-31T01:57:55.998480Z"
    }
   },
   "outputs": [
    {
     "ename": "ValueError",
     "evalue": "numpy.ndarray size changed, may indicate binary incompatibility. Expected 88 from C header, got 80 from PyObject",
     "output_type": "error",
     "traceback": [
      "\u001b[1;31m---------------------------------------------------------------------------\u001b[0m",
      "\u001b[1;31mValueError\u001b[0m                                Traceback (most recent call last)",
      "\u001b[1;32m<ipython-input-1-e70e92d32c6e>\u001b[0m in \u001b[0;36m<module>\u001b[1;34m\u001b[0m\n\u001b[1;32m----> 1\u001b[1;33m \u001b[1;32mimport\u001b[0m \u001b[0mgensim\u001b[0m\u001b[1;33m\u001b[0m\u001b[1;33m\u001b[0m\u001b[0m\n\u001b[0m",
      "\u001b[1;32mC:\\ProgramData\\Anaconda3\\lib\\site-packages\\gensim\\__init__.py\u001b[0m in \u001b[0;36m<module>\u001b[1;34m\u001b[0m\n\u001b[0;32m      9\u001b[0m \u001b[1;32mimport\u001b[0m \u001b[0mlogging\u001b[0m\u001b[1;33m\u001b[0m\u001b[1;33m\u001b[0m\u001b[0m\n\u001b[0;32m     10\u001b[0m \u001b[1;33m\u001b[0m\u001b[0m\n\u001b[1;32m---> 11\u001b[1;33m \u001b[1;32mfrom\u001b[0m \u001b[0mgensim\u001b[0m \u001b[1;32mimport\u001b[0m \u001b[0mparsing\u001b[0m\u001b[1;33m,\u001b[0m \u001b[0mcorpora\u001b[0m\u001b[1;33m,\u001b[0m \u001b[0mmatutils\u001b[0m\u001b[1;33m,\u001b[0m \u001b[0minterfaces\u001b[0m\u001b[1;33m,\u001b[0m \u001b[0mmodels\u001b[0m\u001b[1;33m,\u001b[0m \u001b[0msimilarities\u001b[0m\u001b[1;33m,\u001b[0m \u001b[0mutils\u001b[0m  \u001b[1;31m# noqa:F401\u001b[0m\u001b[1;33m\u001b[0m\u001b[1;33m\u001b[0m\u001b[0m\n\u001b[0m\u001b[0;32m     12\u001b[0m \u001b[1;33m\u001b[0m\u001b[0m\n\u001b[0;32m     13\u001b[0m \u001b[1;33m\u001b[0m\u001b[0m\n",
      "\u001b[1;32mC:\\ProgramData\\Anaconda3\\lib\\site-packages\\gensim\\corpora\\__init__.py\u001b[0m in \u001b[0;36m<module>\u001b[1;34m\u001b[0m\n\u001b[0;32m      4\u001b[0m \u001b[1;33m\u001b[0m\u001b[0m\n\u001b[0;32m      5\u001b[0m \u001b[1;31m# bring corpus classes directly into package namespace, to save some typing\u001b[0m\u001b[1;33m\u001b[0m\u001b[1;33m\u001b[0m\u001b[1;33m\u001b[0m\u001b[0m\n\u001b[1;32m----> 6\u001b[1;33m \u001b[1;32mfrom\u001b[0m \u001b[1;33m.\u001b[0m\u001b[0mindexedcorpus\u001b[0m \u001b[1;32mimport\u001b[0m \u001b[0mIndexedCorpus\u001b[0m  \u001b[1;31m# noqa:F401 must appear before the other classes\u001b[0m\u001b[1;33m\u001b[0m\u001b[1;33m\u001b[0m\u001b[0m\n\u001b[0m\u001b[0;32m      7\u001b[0m \u001b[1;33m\u001b[0m\u001b[0m\n\u001b[0;32m      8\u001b[0m \u001b[1;32mfrom\u001b[0m \u001b[1;33m.\u001b[0m\u001b[0mmmcorpus\u001b[0m \u001b[1;32mimport\u001b[0m \u001b[0mMmCorpus\u001b[0m  \u001b[1;31m# noqa:F401\u001b[0m\u001b[1;33m\u001b[0m\u001b[1;33m\u001b[0m\u001b[0m\n",
      "\u001b[1;32mC:\\ProgramData\\Anaconda3\\lib\\site-packages\\gensim\\corpora\\indexedcorpus.py\u001b[0m in \u001b[0;36m<module>\u001b[1;34m\u001b[0m\n\u001b[0;32m     12\u001b[0m \u001b[1;32mimport\u001b[0m \u001b[0mnumpy\u001b[0m\u001b[1;33m\u001b[0m\u001b[1;33m\u001b[0m\u001b[0m\n\u001b[0;32m     13\u001b[0m \u001b[1;33m\u001b[0m\u001b[0m\n\u001b[1;32m---> 14\u001b[1;33m \u001b[1;32mfrom\u001b[0m \u001b[0mgensim\u001b[0m \u001b[1;32mimport\u001b[0m \u001b[0minterfaces\u001b[0m\u001b[1;33m,\u001b[0m \u001b[0mutils\u001b[0m\u001b[1;33m\u001b[0m\u001b[1;33m\u001b[0m\u001b[0m\n\u001b[0m\u001b[0;32m     15\u001b[0m \u001b[1;33m\u001b[0m\u001b[0m\n\u001b[0;32m     16\u001b[0m \u001b[0mlogger\u001b[0m \u001b[1;33m=\u001b[0m \u001b[0mlogging\u001b[0m\u001b[1;33m.\u001b[0m\u001b[0mgetLogger\u001b[0m\u001b[1;33m(\u001b[0m\u001b[0m__name__\u001b[0m\u001b[1;33m)\u001b[0m\u001b[1;33m\u001b[0m\u001b[1;33m\u001b[0m\u001b[0m\n",
      "\u001b[1;32mC:\\ProgramData\\Anaconda3\\lib\\site-packages\\gensim\\interfaces.py\u001b[0m in \u001b[0;36m<module>\u001b[1;34m\u001b[0m\n\u001b[0;32m     17\u001b[0m \u001b[1;32mimport\u001b[0m \u001b[0mlogging\u001b[0m\u001b[1;33m\u001b[0m\u001b[1;33m\u001b[0m\u001b[0m\n\u001b[0;32m     18\u001b[0m \u001b[1;33m\u001b[0m\u001b[0m\n\u001b[1;32m---> 19\u001b[1;33m \u001b[1;32mfrom\u001b[0m \u001b[0mgensim\u001b[0m \u001b[1;32mimport\u001b[0m \u001b[0mutils\u001b[0m\u001b[1;33m,\u001b[0m \u001b[0mmatutils\u001b[0m\u001b[1;33m\u001b[0m\u001b[1;33m\u001b[0m\u001b[0m\n\u001b[0m\u001b[0;32m     20\u001b[0m \u001b[1;33m\u001b[0m\u001b[0m\n\u001b[0;32m     21\u001b[0m \u001b[1;33m\u001b[0m\u001b[0m\n",
      "\u001b[1;32mC:\\ProgramData\\Anaconda3\\lib\\site-packages\\gensim\\matutils.py\u001b[0m in \u001b[0;36m<module>\u001b[1;34m\u001b[0m\n\u001b[0;32m   1022\u001b[0m \u001b[1;32mtry\u001b[0m\u001b[1;33m:\u001b[0m\u001b[1;33m\u001b[0m\u001b[1;33m\u001b[0m\u001b[0m\n\u001b[0;32m   1023\u001b[0m     \u001b[1;31m# try to load fast, cythonized code if possible\u001b[0m\u001b[1;33m\u001b[0m\u001b[1;33m\u001b[0m\u001b[1;33m\u001b[0m\u001b[0m\n\u001b[1;32m-> 1024\u001b[1;33m     \u001b[1;32mfrom\u001b[0m \u001b[0mgensim\u001b[0m\u001b[1;33m.\u001b[0m\u001b[0m_matutils\u001b[0m \u001b[1;32mimport\u001b[0m \u001b[0mlogsumexp\u001b[0m\u001b[1;33m,\u001b[0m \u001b[0mmean_absolute_difference\u001b[0m\u001b[1;33m,\u001b[0m \u001b[0mdirichlet_expectation\u001b[0m\u001b[1;33m\u001b[0m\u001b[1;33m\u001b[0m\u001b[0m\n\u001b[0m\u001b[0;32m   1025\u001b[0m \u001b[1;33m\u001b[0m\u001b[0m\n\u001b[0;32m   1026\u001b[0m \u001b[1;32mexcept\u001b[0m \u001b[0mImportError\u001b[0m\u001b[1;33m:\u001b[0m\u001b[1;33m\u001b[0m\u001b[1;33m\u001b[0m\u001b[0m\n",
      "\u001b[1;32mC:\\ProgramData\\Anaconda3\\lib\\site-packages\\gensim\\_matutils.pyx\u001b[0m in \u001b[0;36minit gensim._matutils\u001b[1;34m()\u001b[0m\n",
      "\u001b[1;31mValueError\u001b[0m: numpy.ndarray size changed, may indicate binary incompatibility. Expected 88 from C header, got 80 from PyObject"
     ]
    }
   ],
   "source": [
    "import gensim"
   ]
  },
  {
   "cell_type": "code",
   "execution_count": null,
   "metadata": {},
   "outputs": [],
   "source": []
  }
 ],
 "metadata": {
  "kernelspec": {
   "display_name": "Python 3",
   "language": "python",
   "name": "python3"
  },
  "language_info": {
   "codemirror_mode": {
    "name": "ipython",
    "version": 3
   },
   "file_extension": ".py",
   "mimetype": "text/x-python",
   "name": "python",
   "nbconvert_exporter": "python",
   "pygments_lexer": "ipython3",
   "version": "3.8.5"
  },
  "toc": {
   "base_numbering": 1,
   "nav_menu": {},
   "number_sections": true,
   "sideBar": true,
   "skip_h1_title": false,
   "title_cell": "Table of Contents",
   "title_sidebar": "Contents",
   "toc_cell": false,
   "toc_position": {},
   "toc_section_display": true,
   "toc_window_display": false
  },
  "varInspector": {
   "cols": {
    "lenName": 16,
    "lenType": 16,
    "lenVar": 40
   },
   "kernels_config": {
    "python": {
     "delete_cmd_postfix": "",
     "delete_cmd_prefix": "del ",
     "library": "var_list.py",
     "varRefreshCmd": "print(var_dic_list())"
    },
    "r": {
     "delete_cmd_postfix": ") ",
     "delete_cmd_prefix": "rm(",
     "library": "var_list.r",
     "varRefreshCmd": "cat(var_dic_list()) "
    }
   },
   "types_to_exclude": [
    "module",
    "function",
    "builtin_function_or_method",
    "instance",
    "_Feature"
   ],
   "window_display": false
  }
 },
 "nbformat": 4,
 "nbformat_minor": 5
}
