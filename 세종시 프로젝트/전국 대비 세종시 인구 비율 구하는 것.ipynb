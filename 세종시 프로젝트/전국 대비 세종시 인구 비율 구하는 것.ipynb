{
 "cells": [
  {
   "cell_type": "code",
   "execution_count": 35,
   "metadata": {
    "ExecuteTime": {
     "end_time": "2021-03-20T08:50:26.528629Z",
     "start_time": "2021-03-20T08:50:26.524639Z"
    }
   },
   "outputs": [],
   "source": [
    "import pandas as pd "
   ]
  },
  {
   "cell_type": "code",
   "execution_count": 36,
   "metadata": {
    "ExecuteTime": {
     "end_time": "2021-03-20T08:50:26.865231Z",
     "start_time": "2021-03-20T08:50:26.850274Z"
    }
   },
   "outputs": [
    {
     "name": "stdout",
     "output_type": "stream",
     "text": [
      "전국 인구는 : 51779203 세종 인구는 : 338136\n",
      "세종시 인구비율 : 0.6530343852530909\n"
     ]
    }
   ],
   "source": [
    "data=pd.read_csv('인구__가구_및_주택__읍면동_2015___시군구_2016__20210320160029.csv',encoding='cp949',header=1)\n",
    "jeonguk=data[data['행정구역별(읍면동)']==\"전국\"]['총인구 (명)']\n",
    "sejong=data[data['행정구역별(읍면동)']==\"세종특별자치시\"]['총인구 (명)']\n",
    "print('전국 인구는 : '+str(jeonguk.values[0])+' 세종 인구는 : '+str(sejong.values[0]))\n",
    "print('세종시 인구비율 : '+str((sejong.values[0]/jeonguk.values[0])*100))"
   ]
  },
  {
   "cell_type": "code",
   "execution_count": 37,
   "metadata": {
    "ExecuteTime": {
     "end_time": "2021-03-20T08:50:27.081755Z",
     "start_time": "2021-03-20T08:50:27.073797Z"
    }
   },
   "outputs": [],
   "source": [
    "gagu=pd.read_csv('가구원수별_가구_일반가구___읍면동_2015___시군구_2016__20210320160717.csv',encoding='cp949',header=1)\n",
    "jeonguk_gagu=gagu[gagu['행정구역별(읍면동)']=='전국']['일반가구_계']\n",
    "sejong_gagu=gagu[gagu['행정구역별(읍면동)']=='세종특별자치시']['일반가구_계']"
   ]
  },
  {
   "cell_type": "code",
   "execution_count": 38,
   "metadata": {
    "ExecuteTime": {
     "end_time": "2021-03-20T08:50:27.372358Z",
     "start_time": "2021-03-20T08:50:27.367371Z"
    }
   },
   "outputs": [
    {
     "name": "stdout",
     "output_type": "stream",
     "text": [
      "전국 가수 수는 : 20343188 세종시 가구 수는 : 129664\n"
     ]
    }
   ],
   "source": [
    "print('전국 가수 수는 : '+str(jeonguk_gagu.values[0])+' 세종시 가구 수는 : '+str(sejong_gagu.values[0]))"
   ]
  },
  {
   "cell_type": "code",
   "execution_count": 39,
   "metadata": {
    "ExecuteTime": {
     "end_time": "2021-03-20T08:50:27.777724Z",
     "start_time": "2021-03-20T08:50:27.770768Z"
    }
   },
   "outputs": [
    {
     "name": "stdout",
     "output_type": "stream",
     "text": [
      "전국 가구 당 인구는 : 2.55 세종시 가구 당 인구는 : 2.61\n",
      "세종시 인구비율 : 0.64%\n"
     ]
    }
   ],
   "source": [
    "print('전국 가구 당 인구는 : '+str(round(jeonguk.values[0]/jeonguk_gagu.values[0],2))+' 세종시 가구 당 인구는 : '+str(round(sejong.values[0]/sejong_gagu.values[0],2)))\n",
    "print('세종시 인구비율 : '+str(round(((sejong_gagu.values[0]/jeonguk_gagu.values[0])*100),2))+\"%\")"
   ]
  },
  {
   "cell_type": "code",
   "execution_count": null,
   "metadata": {},
   "outputs": [],
   "source": []
  }
 ],
 "metadata": {
  "kernelspec": {
   "display_name": "Python 3",
   "language": "python",
   "name": "python3"
  },
  "language_info": {
   "codemirror_mode": {
    "name": "ipython",
    "version": 3
   },
   "file_extension": ".py",
   "mimetype": "text/x-python",
   "name": "python",
   "nbconvert_exporter": "python",
   "pygments_lexer": "ipython3",
   "version": "3.8.5"
  },
  "toc": {
   "base_numbering": 1,
   "nav_menu": {},
   "number_sections": true,
   "sideBar": true,
   "skip_h1_title": false,
   "title_cell": "Table of Contents",
   "title_sidebar": "Contents",
   "toc_cell": false,
   "toc_position": {},
   "toc_section_display": true,
   "toc_window_display": false
  },
  "varInspector": {
   "cols": {
    "lenName": 16,
    "lenType": 16,
    "lenVar": 40
   },
   "kernels_config": {
    "python": {
     "delete_cmd_postfix": "",
     "delete_cmd_prefix": "del ",
     "library": "var_list.py",
     "varRefreshCmd": "print(var_dic_list())"
    },
    "r": {
     "delete_cmd_postfix": ") ",
     "delete_cmd_prefix": "rm(",
     "library": "var_list.r",
     "varRefreshCmd": "cat(var_dic_list()) "
    }
   },
   "types_to_exclude": [
    "module",
    "function",
    "builtin_function_or_method",
    "instance",
    "_Feature"
   ],
   "window_display": false
  }
 },
 "nbformat": 4,
 "nbformat_minor": 4
}
