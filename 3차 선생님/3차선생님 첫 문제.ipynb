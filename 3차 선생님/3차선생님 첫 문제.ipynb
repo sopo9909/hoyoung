{
 "cells": [
  {
   "cell_type": "code",
   "execution_count": null,
   "metadata": {},
   "outputs": [],
   "source": [
    "a=5\n",
    "b=3\n",
    "a**b"
   ]
  },
  {
   "cell_type": "code",
   "execution_count": null,
   "metadata": {},
   "outputs": [],
   "source": [
    "a=[1,2,3,4,5,6,7,8,9]"
   ]
  },
  {
   "cell_type": "code",
   "execution_count": null,
   "metadata": {},
   "outputs": [],
   "source": [
    "array=[i+1 for i in range(10)]\n",
    "array"
   ]
  },
  {
   "cell_type": "code",
   "execution_count": null,
   "metadata": {},
   "outputs": [],
   "source": [
    "array=[i for i in range(10) if i % 2==1]\n",
    "array"
   ]
  },
  {
   "cell_type": "code",
   "execution_count": null,
   "metadata": {},
   "outputs": [],
   "source": [
    "array =[i*i for i in range(10)]\n",
    "array"
   ]
  },
  {
   "cell_type": "code",
   "execution_count": 1,
   "metadata": {},
   "outputs": [
    {
     "data": {
      "text/plain": [
       "[1, 3, 5, 7, 9, 11, 13, 15, 17, 19]"
      ]
     },
     "execution_count": 1,
     "metadata": {},
     "output_type": "execute_result"
    }
   ],
   "source": [
    "array = [i for i in range(20) if i % 2==1]\n",
    "array"
   ]
  },
  {
   "cell_type": "code",
   "execution_count": 2,
   "metadata": {},
   "outputs": [
    {
     "name": "stdout",
     "output_type": "stream",
     "text": [
      "45\n"
     ]
    }
   ],
   "source": [
    "summary = 0\n",
    "for i in range(1,10):\n",
    "    summary += i\n",
    "print(summary)"
   ]
  },
  {
   "cell_type": "code",
   "execution_count": 3,
   "metadata": {},
   "outputs": [
    {
     "name": "stdout",
     "output_type": "stream",
     "text": [
      "Hello World\n",
      "Hello World\n",
      "Hello World\n",
      "Hello World\n",
      "Hello World\n"
     ]
    }
   ],
   "source": [
    "for _ in range(5):\n",
    "    print('Hello World')"
   ]
  },
  {
   "cell_type": "code",
   "execution_count": 4,
   "metadata": {},
   "outputs": [
    {
     "name": "stdout",
     "output_type": "stream",
     "text": [
      "[1, 4, 3, 2]\n",
      "[1, 2, 3, 4]\n",
      "[4, 3, 2, 1]\n"
     ]
    }
   ],
   "source": [
    "a=[1,4,3]\n",
    "a.append(2)\n",
    "print(a)\n",
    "a.sort()\n",
    "print(a)\n",
    "a.sort(reverse=True)\n",
    "print(a)"
   ]
  },
  {
   "cell_type": "code",
   "execution_count": 5,
   "metadata": {},
   "outputs": [
    {
     "name": "stdout",
     "output_type": "stream",
     "text": [
      "[1, 2, 4]\n"
     ]
    }
   ],
   "source": [
    "a=[1,2,3,4,5,5,5]\n",
    "remove_set ={3,5}\n",
    "result =[i for i in a if i not in remove_set]\n",
    "print(result)"
   ]
  },
  {
   "cell_type": "code",
   "execution_count": 3,
   "metadata": {},
   "outputs": [
    {
     "data": {
      "text/plain": [
       "1000000000.0"
      ]
     },
     "execution_count": 3,
     "metadata": {},
     "output_type": "execute_result"
    }
   ],
   "source": [
    "1e9"
   ]
  },
  {
   "cell_type": "code",
   "execution_count": 4,
   "metadata": {},
   "outputs": [
    {
     "data": {
      "text/plain": [
       "'0b110010'"
      ]
     },
     "execution_count": 4,
     "metadata": {},
     "output_type": "execute_result"
    }
   ],
   "source": [
    "bin(50)"
   ]
  },
  {
   "cell_type": "code",
   "execution_count": 5,
   "metadata": {},
   "outputs": [
    {
     "data": {
      "text/plain": [
       "'0o14'"
      ]
     },
     "execution_count": 5,
     "metadata": {},
     "output_type": "execute_result"
    }
   ],
   "source": [
    "oct(12)"
   ]
  },
  {
   "cell_type": "code",
   "execution_count": 6,
   "metadata": {},
   "outputs": [
    {
     "data": {
      "text/plain": [
       "False"
      ]
     },
     "execution_count": 6,
     "metadata": {},
     "output_type": "execute_result"
    }
   ],
   "source": [
    "i = 5\n",
    "i > 10 and I <5"
   ]
  },
  {
   "cell_type": "code",
   "execution_count": 7,
   "metadata": {},
   "outputs": [
    {
     "data": {
      "text/plain": [
       "False"
      ]
     },
     "execution_count": 7,
     "metadata": {},
     "output_type": "execute_result"
    }
   ],
   "source": [
    "i = 10 \n",
    "i> 50 and i<10"
   ]
  },
  {
   "cell_type": "code",
   "execution_count": 7,
   "metadata": {},
   "outputs": [],
   "source": [
    "a=(1,2,3)\n",
    "b=[1,2,3]"
   ]
  },
  {
   "cell_type": "code",
   "execution_count": 2,
   "metadata": {},
   "outputs": [
    {
     "ename": "TypeError",
     "evalue": "can only concatenate tuple (not \"list\") to tuple",
     "output_type": "error",
     "traceback": [
      "\u001b[1;31m---------------------------------------------------------------------------\u001b[0m",
      "\u001b[1;31mTypeError\u001b[0m                                 Traceback (most recent call last)",
      "\u001b[1;32m<ipython-input-2-ca730b97bf8a>\u001b[0m in \u001b[0;36m<module>\u001b[1;34m\u001b[0m\n\u001b[1;32m----> 1\u001b[1;33m \u001b[0ma\u001b[0m\u001b[1;33m+\u001b[0m\u001b[0mb\u001b[0m\u001b[1;33m\u001b[0m\u001b[1;33m\u001b[0m\u001b[0m\n\u001b[0m",
      "\u001b[1;31mTypeError\u001b[0m: can only concatenate tuple (not \"list\") to tuple"
     ]
    }
   ],
   "source": [
    "a+b"
   ]
  },
  {
   "cell_type": "code",
   "execution_count": 3,
   "metadata": {},
   "outputs": [],
   "source": [
    "d ={\"a\":1,\"b\":2}"
   ]
  },
  {
   "cell_type": "code",
   "execution_count": 4,
   "metadata": {},
   "outputs": [
    {
     "name": "stdout",
     "output_type": "stream",
     "text": [
      "{'a': 1, 'b': 2}\n"
     ]
    }
   ],
   "source": [
    "print(d)"
   ]
  },
  {
   "cell_type": "code",
   "execution_count": 5,
   "metadata": {},
   "outputs": [],
   "source": [
    "e=[4,5,6]"
   ]
  },
  {
   "cell_type": "code",
   "execution_count": 8,
   "metadata": {},
   "outputs": [
    {
     "data": {
      "text/plain": [
       "[1, 2, 3, [4, 5, 6]]"
      ]
     },
     "execution_count": 8,
     "metadata": {},
     "output_type": "execute_result"
    }
   ],
   "source": [
    "b.append(e)\n",
    "b"
   ]
  },
  {
   "cell_type": "code",
   "execution_count": 9,
   "metadata": {},
   "outputs": [
    {
     "data": {
      "text/plain": [
       "[1, 2, 3, [4, 5, 6], 4, 5, 6]"
      ]
     },
     "execution_count": 9,
     "metadata": {},
     "output_type": "execute_result"
    }
   ],
   "source": [
    "b.extend(e)\n",
    "b"
   ]
  },
  {
   "cell_type": "code",
   "execution_count": 10,
   "metadata": {},
   "outputs": [
    {
     "data": {
      "text/plain": [
       "[1, 2, 2, 3, [4, 5, 6], 4, 5, 6]"
      ]
     },
     "execution_count": 10,
     "metadata": {},
     "output_type": "execute_result"
    }
   ],
   "source": [
    "b.insert(1,2)\n",
    "b"
   ]
  },
  {
   "cell_type": "code",
   "execution_count": 11,
   "metadata": {},
   "outputs": [
    {
     "name": "stdout",
     "output_type": "stream",
     "text": [
      "{1, 2, 3}\n"
     ]
    }
   ],
   "source": [
    "v=set([1,2,3])\n",
    "t=set([2,3,3])\n",
    "print(v|t)\n"
   ]
  },
  {
   "cell_type": "code",
   "execution_count": 12,
   "metadata": {},
   "outputs": [
    {
     "name": "stdout",
     "output_type": "stream",
     "text": [
      "{2, 3}\n"
     ]
    }
   ],
   "source": [
    "print(v&t)"
   ]
  },
  {
   "cell_type": "code",
   "execution_count": 14,
   "metadata": {},
   "outputs": [
    {
     "data": {
      "text/plain": [
       "{4, 5, 6}"
      ]
     },
     "execution_count": 14,
     "metadata": {},
     "output_type": "execute_result"
    }
   ],
   "source": [
    "set(e)"
   ]
  },
  {
   "cell_type": "code",
   "execution_count": 15,
   "metadata": {},
   "outputs": [
    {
     "data": {
      "text/plain": [
       "[4, 5, 6]"
      ]
     },
     "execution_count": 15,
     "metadata": {},
     "output_type": "execute_result"
    }
   ],
   "source": [
    "tuple(e)\n",
    "list(e)"
   ]
  },
  {
   "cell_type": "code",
   "execution_count": 17,
   "metadata": {},
   "outputs": [
    {
     "data": {
      "text/plain": [
       "dict_items([('a', 1), ('b', 2)])"
      ]
     },
     "execution_count": 17,
     "metadata": {},
     "output_type": "execute_result"
    }
   ],
   "source": [
    "d.items()"
   ]
  },
  {
   "cell_type": "code",
   "execution_count": 45,
   "metadata": {},
   "outputs": [
    {
     "name": "stdout",
     "output_type": "stream",
     "text": [
      " yhqfh dwwdfn\n"
     ]
    }
   ],
   "source": [
    "# 시저는\"20210202 venice attack\"에 베니스를 공격했담.\n",
    "# 시저 암호를 배웁니다.\n",
    "# key =3이라고 주자\n",
    "code=[\"a\",\"b\",\"c\",'d','e','f',\"g\",\"h\",'r','j','k','l','m','n','o','p','q','r','s','t',\"u\",'v','w','x','y','z']\n",
    "num=[0,1,2,3,4,5,6,7,8,9]\n",
    "text = \"20210202 venice attack\"\n",
    "new_text=''\n",
    "for i in range(len(text)):\n",
    "    if text[i] in code:\n",
    "        a=int(code.index(text[i]))\n",
    "        new_text+=code[a+3]\n",
    "    elif text[i] in num:\n",
    "        a=int(num.index(text[i]))\n",
    "        new_text +=num[a+3]\n",
    "    elif text[i] ==\" \":\n",
    "        new_text += ' '\n",
    "print(new_text)"
   ]
  },
  {
   "cell_type": "code",
   "execution_count": 183,
   "metadata": {},
   "outputs": [
    {
     "name": "stdout",
     "output_type": "stream",
     "text": [
      "53543535#yhqlfh#dwwdfn\n",
      "20210202 venice attack\n"
     ]
    }
   ],
   "source": [
    "def coco(text,num):\n",
    "    password=''\n",
    "    for i in range(len(text)):\n",
    "        a=ord(text[i])\n",
    "        password +=chr(a+num)\n",
    "    return password\n",
    "text = \"20210202 venice attack\"\n",
    "print(coco(text,3))\n",
    "print(coco(coco(text,3),-3))"
   ]
  },
  {
   "cell_type": "code",
   "execution_count": 21,
   "metadata": {},
   "outputs": [
    {
     "name": "stdout",
     "output_type": "stream",
     "text": [
      "0\n"
     ]
    }
   ],
   "source": [
    "w='v'\n",
    "text = \"venice\"\n",
    "if w in text:\n",
    "    a = text.index(w)\n",
    "    print(a)"
   ]
  },
  {
   "cell_type": "code",
   "execution_count": 48,
   "metadata": {},
   "outputs": [
    {
     "ename": "TypeError",
     "evalue": "'str' object does not support item assignment",
     "output_type": "error",
     "traceback": [
      "\u001b[1;31m---------------------------------------------------------------------------\u001b[0m",
      "\u001b[1;31mTypeError\u001b[0m                                 Traceback (most recent call last)",
      "\u001b[1;32m<ipython-input-48-cda081ae62d8>\u001b[0m in \u001b[0;36m<module>\u001b[1;34m\u001b[0m\n\u001b[0;32m     11\u001b[0m         \u001b[0ma\u001b[0m\u001b[1;33m=\u001b[0m\u001b[0mtext\u001b[0m\u001b[1;33m[\u001b[0m\u001b[0mi\u001b[0m\u001b[1;33m]\u001b[0m\u001b[1;33m\u001b[0m\u001b[1;33m\u001b[0m\u001b[0m\n\u001b[0;32m     12\u001b[0m         \u001b[0ma\u001b[0m\u001b[1;33m=\u001b[0m\u001b[0mint\u001b[0m\u001b[1;33m(\u001b[0m\u001b[0ma\u001b[0m\u001b[1;33m)\u001b[0m\u001b[1;33m\u001b[0m\u001b[1;33m\u001b[0m\u001b[0m\n\u001b[1;32m---> 13\u001b[1;33m         \u001b[0mtext\u001b[0m\u001b[1;33m[\u001b[0m\u001b[0mi\u001b[0m\u001b[1;33m]\u001b[0m\u001b[1;33m=\u001b[0m\u001b[0ma\u001b[0m\u001b[1;33m\u001b[0m\u001b[1;33m\u001b[0m\u001b[0m\n\u001b[0m\u001b[0;32m     14\u001b[0m     \u001b[1;32melif\u001b[0m \u001b[0mtext\u001b[0m\u001b[1;33m[\u001b[0m\u001b[0mi\u001b[0m\u001b[1;33m]\u001b[0m \u001b[1;33m==\u001b[0m\u001b[1;34m' '\u001b[0m\u001b[1;33m:\u001b[0m\u001b[1;33m\u001b[0m\u001b[1;33m\u001b[0m\u001b[0m\n\u001b[0;32m     15\u001b[0m         \u001b[0mtext\u001b[0m\u001b[1;33m[\u001b[0m\u001b[0mi\u001b[0m\u001b[1;33m]\u001b[0m\u001b[1;33m=\u001b[0m \u001b[1;34m' '\u001b[0m\u001b[1;33m\u001b[0m\u001b[1;33m\u001b[0m\u001b[0m\n",
      "\u001b[1;31mTypeError\u001b[0m: 'str' object does not support item assignment"
     ]
    }
   ],
   "source": [
    "code=[\"a\",\"b\",\"c\",'d','e','f',\"g\",\"h\",'r','j','k','l','m','n','o','p','q','r','s','t',\"u\",'v','w','x','y','z']\n",
    "num=['0',\"1\",'2','3','4','5','6',\"7\",\"8\",\"9\"]\n",
    "text = \"20210202 venice attack\"\n",
    "for i in range(len(text)):\n",
    "    if text[i] in code:\n",
    "        a=ord(text[i])\n",
    "        a+=3\n",
    "        text[i]=chr(a)\n",
    "        print()\n",
    "    elif text[i] in num:\n",
    "        a=text[i]\n",
    "        a=int(a)\n",
    "        text[i]=a\n",
    "    elif text[i] ==' ':\n",
    "        text[i]= ' '\n",
    "print(text)"
   ]
  },
  {
   "cell_type": "code",
   "execution_count": 60,
   "metadata": {},
   "outputs": [
    {
     "name": "stdout",
     "output_type": "stream",
     "text": [
      "암호화53543535 yhqfh dwwdfn\n",
      "복호화20210202 vence attack\n"
     ]
    }
   ],
   "source": [
    "te=''\n",
    "for i in range(len(text)):\n",
    "    if text[i] in code:\n",
    "        a=ord(text[i])\n",
    "        #print(a+3)\n",
    "        te+=chr(a+3)\n",
    "    elif text[i] in num:\n",
    "        a=text[i]\n",
    "        a=int(a)+3\n",
    "        te+=str(a)\n",
    "    elif text[i] ==' ':\n",
    "        te+= ' '\n",
    "print('암호화'+te)\n",
    "answer=''\n",
    "for i in range(len(te)):\n",
    "    if te[i] in code:\n",
    "        a=ord(te[i])\n",
    "        #print(a+3)\n",
    "        answer+=chr(a-3)\n",
    "    elif te[i] in num:\n",
    "        a=te[i]\n",
    "        a=int(a)-3\n",
    "        answer+=str(a)\n",
    "    elif te[i] ==' ':\n",
    "        answer+= ' '\n",
    "print('복호화'+answer)"
   ]
  },
  {
   "cell_type": "code",
   "execution_count": 63,
   "metadata": {},
   "outputs": [
    {
     "name": "stdout",
     "output_type": "stream",
     "text": [
      "1\n",
      "2\n",
      "짝\n",
      "4\n",
      "5\n",
      "짝\n",
      "7\n",
      "8\n",
      "짝\n",
      "10\n",
      "11\n",
      "짝\n",
      "13\n",
      "14\n",
      "짝\n",
      "16\n",
      "17\n",
      "짝\n",
      "19\n",
      "20\n",
      "짝\n",
      "22\n",
      "23\n",
      "짝\n",
      "25\n",
      "26\n",
      "짝\n",
      "28\n",
      "29\n",
      "짝\n"
     ]
    }
   ],
   "source": [
    "for i in range(1,31):\n",
    "    if i%3==0:\n",
    "        print('짝')\n",
    "    else:\n",
    "        print(i)"
   ]
  },
  {
   "cell_type": "code",
   "execution_count": 67,
   "metadata": {},
   "outputs": [
    {
     "name": "stdout",
     "output_type": "stream",
     "text": [
      "암호화53543535 yhqfh dwwdfn\n",
      "복호화20210202\u001d",
      "vence\u001d",
      "attack\n"
     ]
    }
   ],
   "source": [
    "te=''\n",
    "def coe(text,om):\n",
    "    te=''\n",
    "    for i in range(len(text)):\n",
    "        if text[i] in code:\n",
    "            a=ord(text[i])\n",
    "            te+=chr(a+om)\n",
    "        elif text[i] in num:\n",
    "            a=text[i]\n",
    "            a=int(a)+om\n",
    "            te+=str(a)\n",
    "        elif text[i] ==' ':\n",
    "            te+= ' '\n",
    "    return te\n",
    "print('암호화'+coe(text,3))\n",
    "code=coe(text,3)\n",
    "print('복호화'+coe(code,-3))"
   ]
  },
  {
   "cell_type": "code",
   "execution_count": 70,
   "metadata": {},
   "outputs": [],
   "source": [
    "import numpy as np"
   ]
  },
  {
   "cell_type": "code",
   "execution_count": 133,
   "metadata": {},
   "outputs": [
    {
     "name": "stdout",
     "output_type": "stream",
     "text": [
      "[['A' 'C' 'E' 'G' 'I' 'K' 'M' 'O' 'Q' 'S' 'U' 'W' 'Y']\n",
      " [' ' ' ' ' ' ' ' ' ' ' ' ' ' ' ' ' ' ' ' ' ' ' ' ' ']\n",
      " [' ' ' ' ' ' ' ' ' ' ' ' ' ' ' ' ' ' ' ' ' ' ' ' ' ']\n",
      " ['B' 'D' 'F' 'H' 'J' 'L' 'N' 'P' 'R' 'T' 'V' 'X' 'Z']]\n"
     ]
    }
   ],
   "source": [
    "hol=[]\n",
    "zza=[]\n",
    "no1=[]\n",
    "no2=[]\n",
    "all=[]\n",
    "for i in range(26):\n",
    "    if i%2==0:#홀수번째\n",
    "        all.append(chr(65+i))\n",
    "        hol.append(chr(65+i))#숫자 생성\n",
    "    else:#짝수번째\n",
    "        all.append(chr(65+i))\n",
    "        zza.append(chr(65+i))#숫자 생성\n",
    "for i in range(13):\n",
    "    no1.append(' ')\n",
    "    no2.append(' ')\n",
    "a=np.array([hol,no1,no2,zza])\n",
    "print(a)"
   ]
  },
  {
   "cell_type": "code",
   "execution_count": 154,
   "metadata": {},
   "outputs": [
    {
     "name": "stdout",
     "output_type": "stream",
     "text": [
      "True\n"
     ]
    }
   ],
   "source": [
    "ty=0\n",
    "yy=[]\n",
    "for i in a:\n",
    "    t=np.all(i==\" \")\n",
    "    if ty%3==0:\n",
    "        t=not t\n",
    "        yy.append(t)\n",
    "    else:\n",
    "        yy.append(t)\n",
    "    ty+=1\n",
    "yy=np.array(yy)\n",
    "print(yy.all())"
   ]
  },
  {
   "cell_type": "code",
   "execution_count": 131,
   "metadata": {},
   "outputs": [
    {
     "name": "stdout",
     "output_type": "stream",
     "text": [
      "True\n"
     ]
    }
   ],
   "source": [
    "lt=[]\n",
    "gum1=(a == ' ')\n",
    "for j in range(4):\n",
    "    ll=[]\n",
    "    if j%3==0:\n",
    "        for i in range(13):\n",
    "            ll.append(False)\n",
    "    else:\n",
    "        for i in range(13):\n",
    "            ll.append(True)\n",
    "    lt.append(ll)\n",
    "gum=np.array(ll)\n",
    "print(np.all(gum==gum1))"
   ]
  },
  {
   "cell_type": "code",
   "execution_count": null,
   "metadata": {},
   "outputs": [],
   "source": [
    "for i "
   ]
  },
  {
   "cell_type": "code",
   "execution_count": 116,
   "metadata": {},
   "outputs": [
    {
     "name": "stdout",
     "output_type": "stream",
     "text": [
      "0\n",
      "1\n",
      "2\n",
      "3\n",
      "4\n",
      "5\n",
      "6\n",
      "7\n",
      "8\n",
      "9\n",
      "10\n",
      "11\n",
      "12\n",
      "0\n",
      "1\n",
      "2\n",
      "3\n",
      "4\n",
      "5\n",
      "6\n",
      "7\n",
      "8\n",
      "9\n",
      "10\n",
      "11\n",
      "12\n",
      "0\n",
      "1\n",
      "2\n",
      "3\n",
      "4\n",
      "5\n",
      "6\n",
      "7\n",
      "8\n",
      "9\n",
      "10\n",
      "11\n",
      "12\n",
      "0\n",
      "1\n",
      "2\n",
      "3\n",
      "4\n",
      "5\n",
      "6\n",
      "7\n",
      "8\n",
      "9\n",
      "10\n",
      "11\n",
      "12\n"
     ]
    }
   ],
   "source": [
    "for i in range(len(a)):\n",
    "    for j in range(len(a[i])):"
   ]
  },
  {
   "cell_type": "code",
   "execution_count": 88,
   "metadata": {},
   "outputs": [
    {
     "name": "stdout",
     "output_type": "stream",
     "text": [
      "암호화53543535#yhqlfh#dwwdfn\n",
      "복호화20210202 venice attack\n"
     ]
    }
   ],
   "source": [
    "def coe(text,om):\n",
    "    te=''\n",
    "    for i in range(len(text)):\n",
    "        if text[i].isalpha:\n",
    "            a=ord(text[i])\n",
    "            te+=chr(a+om)\n",
    "        elif text[i].isdigit:\n",
    "            a=text[i]\n",
    "            a=int(a)+om\n",
    "            te+=str(a)\n",
    "        else:\n",
    "            te+= ' '\n",
    "    return te\n",
    "print('암호화'+coe(text,3))\n",
    "code=coe(text,3)\n",
    "print('복호화'+coe(code,-3))"
   ]
  },
  {
   "cell_type": "code",
   "execution_count": null,
   "metadata": {},
   "outputs": [],
   "source": [
    "for i in range(1,100):\n",
    "    if i%3==0 & :\n",
    "        print('짝')\n",
    "    elif i%3==0:\n",
    "        print('짝')\n",
    "    elif \n",
    "    else:\n",
    "        if i >= 10:\n",
    "            i=str(i)"
   ]
  },
  {
   "cell_type": "code",
   "execution_count": 126,
   "metadata": {},
   "outputs": [
    {
     "name": "stdout",
     "output_type": "stream",
     "text": [
      "[1, 2, '짝', 4, 5, '짝', 7, 8, '짝', 10, 11, '짝', 13, 14, '짝', 16, 17, '짝', 19, 20, '짝', 22, 23, '짝', 25, 26, '짝', 28, 29, '짝', 31, 32, '짝', 34, 35, '짝', 37, 38, '짝', 40, 41, '짝', 43, 44, '짝', 46, 47, '짝', 49, 50, '짝', 52, 53, '짝', 55, 56, '짝', 58, 59, '짝', 61, 62, '짝', 64, 65, '짝', 67, 68, '짝', 70, 71, '짝', 73, 74, '짝', 76, 77, '짝', 79, 80, '짝', 82, 83, '짝', 85, 86, '짝', 88, 89, '짝', 91, 92, '짝', 94, 95, '짝', 97, 98, '짝', 100]\n"
     ]
    }
   ],
   "source": [
    "answer=[]\n",
    "def mod(a,toto):\n",
    "    if a%3==0 and a!=0:\n",
    "        toto=toto+1\n",
    "for i in range(1,101):\n",
    "    a,b=divmod(i,10)\n",
    "    toto=0\n",
    "    mod(a,toto)\n",
    "    mod(b,toto)\n",
    "    if toto ==0:\n",
    "        if i%3==0:\n",
    "            answer.append('짝')\n",
    "        else:\n",
    "            answer.append(i)\n",
    "    else:\n",
    "        answer.append('짝'*toto)\n",
    "print(answer)"
   ]
  },
  {
   "cell_type": "code",
   "execution_count": 177,
   "metadata": {},
   "outputs": [
    {
     "name": "stdout",
     "output_type": "stream",
     "text": [
      "[1, 2, '짝', 4, 5, '짝', 7, 8, '짝', 10, 11, 12, '짝', 14, 15, '짝', 17, 18, '짝', 20, 21, 22, '짝', 24, 25, '짝', 27, 28, '짝', '짝', '짝', '짝', '짝짝', '짝', '짝', '짝짝', '짝', '짝', '짝짝', 40, 41, 42, '짝', 44, 45, '짝', 47, 48, '짝', 50, 51, 52, '짝', 54, 55, '짝', 57, 58, '짝', '짝', '짝', '짝', '짝짝', '짝', '짝', '짝짝', '짝', '짝', '짝짝', 70, 71, 72, '짝', 74, 75, '짝', 77, 78, '짝', 80, 81, 82, '짝', 84, 85, '짝', 87, 88, '짝', '짝', '짝', '짝', '짝짝', '짝', '짝', '짝짝', '짝', '짝', '짝짝', 100]\n"
     ]
    },
    {
     "ename": "AttributeError",
     "evalue": "'numpy.ndarray' object has no attribute 'isdigit'",
     "output_type": "error",
     "traceback": [
      "\u001b[1;31m---------------------------------------------------------------------------\u001b[0m",
      "\u001b[1;31mAttributeError\u001b[0m                            Traceback (most recent call last)",
      "\u001b[1;32m<ipython-input-177-842a4a47fee1>\u001b[0m in \u001b[0;36m<module>\u001b[1;34m\u001b[0m\n\u001b[0;32m     15\u001b[0m \u001b[0mprint\u001b[0m\u001b[1;33m(\u001b[0m\u001b[0manswer\u001b[0m\u001b[1;33m)\u001b[0m\u001b[1;33m\u001b[0m\u001b[1;33m\u001b[0m\u001b[0m\n\u001b[0;32m     16\u001b[0m \u001b[0manswer\u001b[0m\u001b[1;33m=\u001b[0m\u001b[0mnp\u001b[0m\u001b[1;33m.\u001b[0m\u001b[0marray\u001b[0m\u001b[1;33m(\u001b[0m\u001b[0manswer\u001b[0m\u001b[1;33m)\u001b[0m\u001b[1;33m\u001b[0m\u001b[1;33m\u001b[0m\u001b[0m\n\u001b[1;32m---> 17\u001b[1;33m \u001b[0mprint\u001b[0m\u001b[1;33m(\u001b[0m\u001b[0manswer\u001b[0m\u001b[1;33m.\u001b[0m\u001b[0misdigit\u001b[0m\u001b[1;33m)\u001b[0m\u001b[1;33m\u001b[0m\u001b[1;33m\u001b[0m\u001b[0m\n\u001b[0m\u001b[0;32m     18\u001b[0m \u001b[1;31m#answer>1\u001b[0m\u001b[1;33m\u001b[0m\u001b[1;33m\u001b[0m\u001b[1;33m\u001b[0m\u001b[0m\n",
      "\u001b[1;31mAttributeError\u001b[0m: 'numpy.ndarray' object has no attribute 'isdigit'"
     ]
    }
   ],
   "source": [
    "answer=[]\n",
    "def mod(a):\n",
    "    global toto\n",
    "    if a%3==0 and a!=0:\n",
    "        toto=toto+1\n",
    "for i in range(1,101):\n",
    "    a,b=divmod(i,10)\n",
    "    toto=0\n",
    "    mod(a)\n",
    "    mod(b)\n",
    "    if toto ==0:\n",
    "        answer.append(i)\n",
    "    else:\n",
    "        answer.append('짝'*toto)\n",
    "print(answer)\n",
    "answer=np.array(answer)\n",
    "print(answer.isdigit)\n",
    "#answer>1"
   ]
  },
  {
   "cell_type": "code",
   "execution_count": 178,
   "metadata": {},
   "outputs": [
    {
     "data": {
      "text/plain": [
       "array([False, False, False,  True,  True])"
      ]
     },
     "execution_count": 178,
     "metadata": {},
     "output_type": "execute_result"
    }
   ],
   "source": [
    "array2 = np.array([1,2,3,4,5])\n",
    "array2>3"
   ]
  },
  {
   "cell_type": "code",
   "execution_count": 160,
   "metadata": {},
   "outputs": [
    {
     "data": {
      "text/plain": [
       "2"
      ]
     },
     "execution_count": 160,
     "metadata": {},
     "output_type": "execute_result"
    }
   ],
   "source": [
    "len('짝짝')"
   ]
  },
  {
   "cell_type": "code",
   "execution_count": 169,
   "metadata": {},
   "outputs": [
    {
     "name": "stdout",
     "output_type": "stream",
     "text": [
      "True\n"
     ]
    }
   ],
   "source": [
    "txt=0\n",
    "dig=0\n",
    "for k in answer:\n",
    "    if k.isdigit():\n",
    "        dig+=1\n",
    "    else:\n",
    "        if len(k)==2:\n",
    "            txt+=2\n",
    "        else:\n",
    "            txt+=1\n",
    "print(txt ==60 and dig==49)"
   ]
  },
  {
   "cell_type": "code",
   "execution_count": 184,
   "metadata": {},
   "outputs": [],
   "source": [
    "ktx = np.empty((0,13)) "
   ]
  },
  {
   "cell_type": "code",
   "execution_count": 186,
   "metadata": {},
   "outputs": [
    {
     "name": "stdout",
     "output_type": "stream",
     "text": [
      "[]\n"
     ]
    }
   ],
   "source": [
    "print(ktx)"
   ]
  },
  {
   "cell_type": "code",
   "execution_count": 187,
   "metadata": {},
   "outputs": [
    {
     "name": "stdout",
     "output_type": "stream",
     "text": [
      "[1, 2, '짝', 4, 5, '짝', 7, 8, '짝', 10, 11, 12, 13, 14, 15, 16, 17, 18, 19, 20, 21, 22, 23, 24, 25, 26, 27, 28, 29, 30, 31, 32, 33, 34, 35, 36, 37, 38, 39, 40, 41, 42, 43, 44, 45, 46, 47, 48, 49, 50, 51, 52, 53, 54, 55, 56, 57, 58, 59, 60, 61, 62, 63, 64, 65, 66, 67, 68, 69, 70, 71, 72, 73, 74, 75, 76, 77, 78, 79, 80, 81, 82, 83, 84, 85, 86, 87, 88, 89, 90, 91, 92, 93, 94, 95, 96, 97, 98, 99, 100]\n"
     ]
    }
   ],
   "source": [
    "list1 = []\n",
    "for index in range(1,101):\n",
    "    if str(index) in '3' or str(index) in '6' or str(index) in '9':\n",
    "        list1.append('짝')\n",
    "    else:\n",
    "        list1.append(index)\n",
    "print(list1)"
   ]
  },
  {
   "cell_type": "code",
   "execution_count": 1,
   "metadata": {
    "ExecuteTime": {
     "end_time": "2021-02-04T03:37:29.650961Z",
     "start_time": "2021-02-04T03:37:29.645973Z"
    }
   },
   "outputs": [
    {
     "ename": "SyntaxError",
     "evalue": "unexpected EOF while parsing (<ipython-input-1-2c4e45ac2adf>, line 2)",
     "output_type": "error",
     "traceback": [
      "\u001b[1;36m  File \u001b[1;32m\"<ipython-input-1-2c4e45ac2adf>\"\u001b[1;36m, line \u001b[1;32m2\u001b[0m\n\u001b[1;33m    \u001b[0m\n\u001b[1;37m    ^\u001b[0m\n\u001b[1;31mSyntaxError\u001b[0m\u001b[1;31m:\u001b[0m unexpected EOF while parsing\n"
     ]
    }
   ],
   "source": [
    "for i in answer:\n",
    "    "
   ]
  },
  {
   "cell_type": "code",
   "execution_count": 2,
   "metadata": {
    "ExecuteTime": {
     "end_time": "2021-02-04T03:37:35.344024Z",
     "start_time": "2021-02-04T03:37:35.333054Z"
    }
   },
   "outputs": [
    {
     "data": {
      "text/plain": [
       "'0b110010'"
      ]
     },
     "execution_count": 2,
     "metadata": {},
     "output_type": "execute_result"
    }
   ],
   "source": [
    "bin(50)"
   ]
  },
  {
   "cell_type": "code",
   "execution_count": 5,
   "metadata": {
    "ExecuteTime": {
     "end_time": "2021-02-04T03:38:04.684373Z",
     "start_time": "2021-02-04T03:38:04.679388Z"
    }
   },
   "outputs": [
    {
     "name": "stdout",
     "output_type": "stream",
     "text": [
      "50\n"
     ]
    }
   ],
   "source": [
    "print(int(\"0b110010\",2))"
   ]
  },
  {
   "cell_type": "code",
   "execution_count": null,
   "metadata": {},
   "outputs": [],
   "source": []
  }
 ],
 "metadata": {
  "kernelspec": {
   "display_name": "Python 3",
   "language": "python",
   "name": "python3"
  },
  "language_info": {
   "codemirror_mode": {
    "name": "ipython",
    "version": 3
   },
   "file_extension": ".py",
   "mimetype": "text/x-python",
   "name": "python",
   "nbconvert_exporter": "python",
   "pygments_lexer": "ipython3",
   "version": "3.8.5"
  },
  "toc": {
   "base_numbering": 1,
   "nav_menu": {},
   "number_sections": true,
   "sideBar": true,
   "skip_h1_title": false,
   "title_cell": "Table of Contents",
   "title_sidebar": "Contents",
   "toc_cell": false,
   "toc_position": {},
   "toc_section_display": true,
   "toc_window_display": false
  },
  "varInspector": {
   "cols": {
    "lenName": 16,
    "lenType": 16,
    "lenVar": 40
   },
   "kernels_config": {
    "python": {
     "delete_cmd_postfix": "",
     "delete_cmd_prefix": "del ",
     "library": "var_list.py",
     "varRefreshCmd": "print(var_dic_list())"
    },
    "r": {
     "delete_cmd_postfix": ") ",
     "delete_cmd_prefix": "rm(",
     "library": "var_list.r",
     "varRefreshCmd": "cat(var_dic_list()) "
    }
   },
   "types_to_exclude": [
    "module",
    "function",
    "builtin_function_or_method",
    "instance",
    "_Feature"
   ],
   "window_display": false
  }
 },
 "nbformat": 4,
 "nbformat_minor": 4
}
