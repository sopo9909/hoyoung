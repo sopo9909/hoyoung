{
 "cells": [
  {
   "cell_type": "markdown",
   "metadata": {
    "colab_type": "text",
    "id": "RDnbZ_mMQL5i"
   },
   "source": [
    "## 1. 문자열 연산\n",
    "파이썬 코드가 다음과 같이 작성되어 있다.\n",
    "\n",
    "```\n",
    ">> a = \"hello\"\n",
    ">> b = \"python\"\n",
    "``` \n",
    "\n",
    "a와 b를 이용해 변수 c에 \"hello! python!\"이라는 값을 저장하여라."
   ]
  },
  {
   "cell_type": "code",
   "execution_count": null,
   "metadata": {
    "colab": {},
    "colab_type": "code",
    "id": "vKPoPc87RPPk"
   },
   "outputs": [],
   "source": []
  },
  {
   "cell_type": "markdown",
   "metadata": {
    "colab_type": "text",
    "id": "DKcvLMJKRMq9"
   },
   "source": [
    "# 2. 문자열 다루기\n",
    "다음과 같은 코드가 있다.\n",
    "\n",
    "```\n",
    "phone_number = \"010-1111-2222/010-3333-4444/010-5555-6666/010-7777-8888\"\n",
    "```\n",
    "\n",
    "이를 다음과 같이 리스트로 변경하여라.\n",
    "\n",
    "```\n",
    "[\"010-1111-2222\", \"010-3333-4444\", \"010-5555-6666\",\"010-7777-8888\"]\n",
    "```\n",
    "\n",
    "> **문제의도: 문자열 함수 split을 이용해보자.**"
   ]
  },
  {
   "cell_type": "code",
   "execution_count": null,
   "metadata": {
    "colab": {},
    "colab_type": "code",
    "id": "oZxCTyejRPyA"
   },
   "outputs": [],
   "source": []
  },
  {
   "cell_type": "markdown",
   "metadata": {
    "colab_type": "text",
    "id": "5-m5K-A3RMxb"
   },
   "source": [
    "# 3. 리스트 연산\n",
    "다음과 같은 리스트가 선언되어있다.\n",
    "```\n",
    ">> lang1 = [\"C\", \"C++\", \"JAVA\"]\n",
    ">> lang2 = [\"Python\", \"Go\", \"C#\"]\n",
    "```\n",
    "\n",
    "```lang1```과 ```lang2``` 의 원소를 모두 갖고 있는 변수 ```lang3```를 만들어라\n",
    "\n",
    "\n",
    "```\n",
    "실행 예:\n",
    ">> langs\n",
    "['C', 'C++', 'JAVA', 'Python', 'Go', 'C#']\n",
    "```"
   ]
  },
  {
   "cell_type": "code",
   "execution_count": null,
   "metadata": {
    "colab": {},
    "colab_type": "code",
    "id": "N4AysdaKRM3p"
   },
   "outputs": [],
   "source": []
  },
  {
   "cell_type": "markdown",
   "metadata": {
    "colab_type": "text",
    "id": "caZg_C-5SfRy"
   },
   "source": [
    "# 4. 딕셔너리와 zip\n",
    "\n",
    "date와 close_price 두 개의 리스트를 close_table 이름의 딕셔너리로 생성하라.\n",
    "```\n",
    "date = ['09/05', '09/06', '09/07', '09/08', '09/09']\n",
    "close_price = [10500, 10300, 10100, 10800, 11000\n",
    "```\n",
    "\n",
    "```\n",
    "실행 예시:\n",
    ">> print(close_table)\n",
    "{'09/05': 10500, '09/06': 10300, '09/07': 10100, '09/08': 10800, '09/09': 11000}\n",
    "```"
   ]
  },
  {
   "cell_type": "code",
   "execution_count": 0,
   "metadata": {
    "colab": {},
    "colab_type": "code",
    "id": "X7eh4_RtSfWa"
   },
   "outputs": [],
   "source": []
  },
  {
   "cell_type": "markdown",
   "metadata": {
    "colab_type": "text",
    "id": "0-FWu3zUVID3"
   },
   "source": [
    "# 5. if문 실습\n",
    "사용자로부터 입력 받은 시간이 정각인지 판별하라.   \n",
    "\n",
    "input(\"현재시간\")\n",
    "함수로 입력받는다.\n",
    "\n",
    "실행 :  \n",
    "현재시간 02:00  \n",
    "결과 :  \n",
    "정각 입니다.  \n",
    "\n",
    "실행 :  \n",
    "현재시간 03:10  \n",
    "결과 :  \n",
    "정각이 아닙니다  "
   ]
  },
  {
   "cell_type": "code",
   "execution_count": null,
   "metadata": {
    "colab": {},
    "colab_type": "code",
    "id": "nm5ogWSdVIIB"
   },
   "outputs": [],
   "source": []
  },
  {
   "cell_type": "markdown",
   "metadata": {
    "colab_type": "text",
    "id": "MGLUF5_XVILi"
   },
   "source": [
    "## 6. for문 실습\n",
    "for문을 사용해서 3의 배수만 sample_list 에 0으로 변경해라.\n",
    "```\n",
    "sample_list = [3, 100, 23, 44, 99, 101, 32, 66]\n",
    "```"
   ]
  },
  {
   "cell_type": "code",
   "execution_count": 0,
   "metadata": {
    "colab": {},
    "colab_type": "code",
    "id": "BjpfSW9GVIO2"
   },
   "outputs": [],
   "source": []
  },
  {
   "cell_type": "markdown",
   "metadata": {
    "colab_type": "text",
    "id": "bRTxJ9L6VISd"
   },
   "source": [
    "## 7. for문 실습\n",
    "리스트에서 세 글자 이상의 문자만 남기고 모두제거해라.\n",
    "\n",
    "```\n",
    "sample_list = [\"I\", \"study\", \"python\", \"language\", \"!\", 'fly', 'to', 'the', 'sky']\n",
    "```"
   ]
  },
  {
   "cell_type": "code",
   "execution_count": 0,
   "metadata": {
    "colab": {},
    "colab_type": "code",
    "id": "Vw2Jnl4DW_Ws"
   },
   "outputs": [],
   "source": []
  },
  {
   "cell_type": "markdown",
   "metadata": {},
   "source": [
    "## 8. for문 실습\n",
    "\n",
    "아래 딕셔너리의 학생들의 점수합계와 평균을 출력  \n",
    "\n",
    "students = [{\"name\": \"홍길동\", \"math\": 70, \"science\": 70, \"english\": 80},\n",
    "            {\"name\": \"이몽룡\", \"math\": 80, \"science\": 80, \"english\": 90}]   \n",
    "실행: 홍길동(합계:220, 평균: 73.33"
   ]
  },
  {
   "cell_type": "code",
   "execution_count": null,
   "metadata": {},
   "outputs": [],
   "source": []
  },
  {
   "cell_type": "markdown",
   "metadata": {
    "colab_type": "text",
    "id": "CrCojuy7XcgG"
   },
   "source": [
    "## 9.\n",
    "리스트에 저장된 데이터를 아래와 같이 출력하라.\n",
    "```\n",
    "apart = [ [101, 102], [201, 202], [301, 302] ]\n",
    "```\n",
    "\n",
    "```\n",
    "101 호\n",
    "102 호\n",
    "-----\n",
    "201 호\n",
    "202 호\n",
    "-----\n",
    "301 호\n",
    "302 호\n",
    "```"
   ]
  },
  {
   "cell_type": "code",
   "execution_count": 0,
   "metadata": {
    "colab": {},
    "colab_type": "code",
    "id": "ktq-uoXcYGDz"
   },
   "outputs": [],
   "source": []
  },
  {
   "cell_type": "markdown",
   "metadata": {
    "colab_type": "text",
    "id": "XPH32E7nTFdD"
   },
   "source": [
    "# 10. \n",
    "사용자로부터 달러, 엔, 유로, 또는 위안 금액을 입력받은 후 이를 원으로 변환하는 exchange() 함수를 작성하라.  \n",
    " 각 통화별 환율은 다음과 같다.  \n",
    "  함수에는 100 달러, 1000 엔, 13 유로, 100 위안과 같이 금액과 통화명 사이에 공백을 넣어 입력한다고 가정한다.\n",
    "  \n",
    "![image.png](data:image/png;base64,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)\n",
    "\n",
    "\n",
    "```\n",
    ">> exchange(100 달러)\n",
    "116700.00 원\n",
    "```"
   ]
  },
  {
   "cell_type": "code",
   "execution_count": null,
   "metadata": {},
   "outputs": [],
   "source": []
  }
 ],
 "metadata": {
  "colab": {
   "authorship_tag": "ABX9TyNzUHP5wwfnz5BSkP0iyWpa",
   "collapsed_sections": [],
   "name": "1주차숙제.ipynb",
   "provenance": []
  },
  "kernelspec": {
   "display_name": "Python 3",
   "language": "python",
   "name": "python3"
  },
  "language_info": {
   "codemirror_mode": {
    "name": "ipython",
    "version": 3
   },
   "file_extension": ".py",
   "mimetype": "text/x-python",
   "name": "python",
   "nbconvert_exporter": "python",
   "pygments_lexer": "ipython3",
   "version": "3.7.6"
  }
 },
 "nbformat": 4,
 "nbformat_minor": 1
}
