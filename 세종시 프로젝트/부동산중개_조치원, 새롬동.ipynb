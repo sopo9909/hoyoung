{
 "cells": [
  {
   "cell_type": "code",
   "execution_count": null,
   "metadata": {},
   "outputs": [],
   "source": []
  },
  {
   "cell_type": "code",
   "execution_count": null,
   "metadata": {
    "ExecuteTime": {
     "end_time": "2021-03-24T06:53:22.214272Z",
     "start_time": "2021-03-24T06:53:21.053573Z"
    }
   },
   "outputs": [],
   "source": [
    "import pandas as pd \n",
    "import mapboxgl\n",
    "from mapboxgl.viz import *\n",
    "import json\n",
    "import os\n",
    "from mapboxgl.utils import create_color_stops\n",
    "from mapboxgl.utils import create_numeric_stops\n",
    "import seaborn as sns"
   ]
  },
  {
   "cell_type": "code",
   "execution_count": null,
   "metadata": {
    "ExecuteTime": {
     "end_time": "2021-03-24T06:53:22.309322Z",
     "start_time": "2021-03-24T06:53:22.263166Z"
    }
   },
   "outputs": [],
   "source": [
    "com_area=pd.read_csv('부동산중개.csv')\n",
    "com_area_t=com_area.groupby('행정동명').count()"
   ]
  },
  {
   "cell_type": "code",
   "execution_count": null,
   "metadata": {
    "ExecuteTime": {
     "end_time": "2021-03-24T06:53:23.019001Z",
     "start_time": "2021-03-24T06:53:22.404546Z"
    }
   },
   "outputs": [],
   "source": [
    "with open('32.세종시_행정경계(읍면동).geojson',mode='rt',encoding='utf-8') as f:\n",
    "    data = json.loads(f.read())\n",
    "    f.close()"
   ]
  },
  {
   "cell_type": "code",
   "execution_count": null,
   "metadata": {
    "ExecuteTime": {
     "end_time": "2021-03-24T06:53:23.269969Z",
     "start_time": "2021-03-24T06:53:23.256007Z"
    }
   },
   "outputs": [],
   "source": [
    "com_area_t=com_area_t.reindex(index=[\"조치원읍\",\"연기면\",\"연동면\",\"부강면\",\"금남면\",\"장군면\",\"연서면\",\"전의면\",\"전동면\",\"소정면\",\"도담동\",\"고운동\",\"종촌동\",\"소담동\",\"새롬동\",\"아름동\",\"한솔동\",\"대평동\",\"보람동\"])\n",
    "jo=[1,0,0,0,0,0,0,0,0,0,0,0,0,0,0,0,0,0,0]\n",
    "se=[0,0,0,0,0,0,0,0,0,0,0,0,0,0,1,0,0,0,0]\n",
    "center_lat=com_area_rl['lat'].mean()#위도\n",
    "center_lon=com_area_rl['lon'].mean()#경도\n",
    "for i in range(19):\n",
    "    data['features'][i]['properties']['부동산중개']=int(com_area_t.iloc[i]['상권업종대분류코드'])\n",
    "    data['features'][i]['properties']['조치원']=jo[i]\n",
    "    data['features'][i]['properties']['새롬동']=se[i]"
   ]
  },
  {
   "cell_type": "code",
   "execution_count": null,
   "metadata": {
    "ExecuteTime": {
     "end_time": "2021-03-24T06:54:21.059439Z",
     "start_time": "2021-03-24T06:54:20.220360Z"
    }
   },
   "outputs": [],
   "source": [
    "token = 'pk.eyJ1Ijoic29wbzExMjMiLCJhIjoiY2ttbHVhOGE2MWUyYjJwbnowZ3B3NGh4YSJ9.jQpNT0TEodUp7FIcqKco5A'\n",
    "center = [center_lon,center_lat]\n",
    "color_breaks = [0, 12, 20, 50, 60, 151]\n",
    "colors=[\"#FEF5D1\", \"#FEE9A4\", \"#FDC955\", \"#FCB01E\", \"#D88F15\", \"#925509\"]\n",
    "#colors = sns.color_palette('Greens_r')\n",
    "color_stops = create_color_stops(color_breaks, colors=colors)\n",
    "viz = ChoroplethViz(\n",
    "    access_token=token,\n",
    "    data=data,\n",
    "    color_property='부동산중개',\n",
    "    color_stops=color_stops,\n",
    "    center=center,\n",
    "    zoom=10)\n",
    "viz.height_property ='조치원'\n",
    "numeric_stops = create_numeric_stops([0, 1], 0, 5000)\n",
    "viz.bearing = -10\n",
    "viz.pitch = 35\n",
    "viz.height_stops = numeric_stops\n",
    "viz.height_function_type = 'interpolate'\n",
    "viz.show()"
   ]
  },
  {
   "cell_type": "code",
   "execution_count": null,
   "metadata": {
    "ExecuteTime": {
     "end_time": "2021-03-24T07:24:03.160425Z",
     "start_time": "2021-03-24T07:24:03.031757Z"
    }
   },
   "outputs": [],
   "source": [
    "token = 'pk.eyJ1Ijoic29wbzExMjMiLCJhIjoiY2ttbHVhOGE2MWUyYjJwbnowZ3B3NGh4YSJ9.jQpNT0TEodUp7FIcqKco5A'\n",
    "center = [center_lon,center_lat]\n",
    "color_breaks = [0, 12, 20, 50, 60, 151]\n",
    "colors=[\"#FEE2E8\", \"#FDAACA\", \"#FA71C1\", \"#D752AD\", \"#902484\",\"#771576\"]\n",
    "color_stops = create_color_stops(color_breaks, colors=colors)\n",
    "viz = ChoroplethViz(\n",
    "    access_token=token,\n",
    "    data=data,\n",
    "    color_property='부동산중개',\n",
    "    color_stops=color_stops,\n",
    "    center=center,\n",
    "    zoom=10)\n",
    "viz.height_property ='새롬동'\n",
    "numeric_stops = create_numeric_stops([0, 1], 0, 5000)\n",
    "viz.bearing = -10\n",
    "viz.pitch = 35\n",
    "viz.height_stops = numeric_stops\n",
    "viz.height_function_type = 'interpolate'\n",
    "viz.show()"
   ]
  }
 ],
 "metadata": {
  "kernelspec": {
   "display_name": "Python 3",
   "language": "python",
   "name": "python3"
  },
  "language_info": {
   "codemirror_mode": {
    "name": "ipython",
    "version": 3
   },
   "file_extension": ".py",
   "mimetype": "text/x-python",
   "name": "python",
   "nbconvert_exporter": "python",
   "pygments_lexer": "ipython3",
   "version": "3.8.5"
  },
  "toc": {
   "base_numbering": 1,
   "nav_menu": {},
   "number_sections": true,
   "sideBar": true,
   "skip_h1_title": false,
   "title_cell": "Table of Contents",
   "title_sidebar": "Contents",
   "toc_cell": false,
   "toc_position": {},
   "toc_section_display": true,
   "toc_window_display": false
  },
  "varInspector": {
   "cols": {
    "lenName": 16,
    "lenType": 16,
    "lenVar": 40
   },
   "kernels_config": {
    "python": {
     "delete_cmd_postfix": "",
     "delete_cmd_prefix": "del ",
     "library": "var_list.py",
     "varRefreshCmd": "print(var_dic_list())"
    },
    "r": {
     "delete_cmd_postfix": ") ",
     "delete_cmd_prefix": "rm(",
     "library": "var_list.r",
     "varRefreshCmd": "cat(var_dic_list()) "
    }
   },
   "types_to_exclude": [
    "module",
    "function",
    "builtin_function_or_method",
    "instance",
    "_Feature"
   ],
   "window_display": false
  }
 },
 "nbformat": 4,
 "nbformat_minor": 4
}
