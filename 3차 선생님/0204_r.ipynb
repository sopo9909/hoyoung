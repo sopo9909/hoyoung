{
 "cells": [
  {
   "cell_type": "code",
   "execution_count": null,
   "metadata": {
    "ExecuteTime": {
     "end_time": "2021-02-05T00:33:56.481224Z",
     "start_time": "2021-02-05T00:33:51.422731Z"
    }
   },
   "outputs": [],
   "source": [
    "#-*- encoding: utf-8 -*-\n",
    "import pandas as pd\n",
    "from datetime import datetime\n",
    "data1= pd.read_csv('X_test.csv',encoding=\"cp949\")\n",
    "data2= pd.read_csv('X_train.csv',encoding=\"cp949\")\n",
    "data_1= pd.read_csv('y_test.csv',encoding=\"cp949\")\n",
    "data_2= pd.read_csv('y_train.csv',encoding=\"cp949\")"
   ]
  },
  {
   "cell_type": "code",
   "execution_count": null,
   "metadata": {
    "ExecuteTime": {
     "end_time": "2021-02-04T07:45:33.197658Z",
     "start_time": "2021-02-04T07:45:32.915388Z"
    }
   },
   "outputs": [],
   "source": [
    "data1=pd.DataFrame(data1)\n",
    "data2=pd.DataFrame(data2)\n",
    "data_1=pd.DataFrame(data_1)\n",
    "data_2=pd.DataFrame(data_2)\n",
    "data_new=data2.append(data1)\n",
    "data__new=data_2.append(data_1)"
   ]
  },
  {
   "cell_type": "code",
   "execution_count": null,
   "metadata": {
    "ExecuteTime": {
     "end_time": "2021-02-04T07:45:34.118233Z",
     "start_time": "2021-02-04T07:45:34.102286Z"
    }
   },
   "outputs": [],
   "source": [
    "weather= pd.read_csv('OBS_ASOS_DD_20210204150455.csv',encoding=\"cp949\")"
   ]
  },
  {
   "cell_type": "markdown",
   "metadata": {},
   "source": [
    "## 강수량(결측치 채우고),평균 기온 가져오기"
   ]
  },
  {
   "cell_type": "code",
   "execution_count": null,
   "metadata": {
    "ExecuteTime": {
     "end_time": "2021-02-04T07:45:36.570124Z",
     "start_time": "2021-02-04T07:45:36.563144Z"
    }
   },
   "outputs": [],
   "source": [
    "weather=pd.DataFrame(weather)\n",
    "weather=weather.fillna(0)\n",
    "weather=weather.rename({'일시':'date'},axis='columns')"
   ]
  },
  {
   "cell_type": "code",
   "execution_count": null,
   "metadata": {
    "ExecuteTime": {
     "end_time": "2021-02-04T07:45:38.223882Z",
     "start_time": "2021-02-04T07:45:37.808992Z"
    }
   },
   "outputs": [],
   "source": [
    "df_new=pd.merge(data_new,data__new,on='custid',how='inner')"
   ]
  },
  {
   "cell_type": "code",
   "execution_count": null,
   "metadata": {
    "ExecuteTime": {
     "end_time": "2021-02-04T07:45:47.883188Z",
     "start_time": "2021-02-04T07:45:47.535089Z"
    }
   },
   "outputs": [],
   "source": [
    "df_new['date_time']= df_new['date_time'].astype('str')"
   ]
  },
  {
   "cell_type": "code",
   "execution_count": null,
   "metadata": {
    "ExecuteTime": {
     "end_time": "2021-02-04T07:45:49.968216Z",
     "start_time": "2021-02-04T07:45:48.783738Z"
    }
   },
   "outputs": [],
   "source": [
    "df_new['date_time']=pd.to_datetime(df_new['date_time'])"
   ]
  },
  {
   "cell_type": "code",
   "execution_count": null,
   "metadata": {
    "ExecuteTime": {
     "end_time": "2021-02-04T07:45:50.732751Z",
     "start_time": "2021-02-04T07:45:50.724738Z"
    }
   },
   "outputs": [],
   "source": [
    "df_new['date']=df_new['date_time']"
   ]
  },
  {
   "cell_type": "code",
   "execution_count": null,
   "metadata": {
    "ExecuteTime": {
     "end_time": "2021-02-04T07:46:18.730664Z",
     "start_time": "2021-02-04T07:46:03.777098Z"
    }
   },
   "outputs": [],
   "source": [
    "df_new['date'] = df_new['date'].dt.strftime('%Y-%m-%d')"
   ]
  },
  {
   "cell_type": "code",
   "execution_count": null,
   "metadata": {
    "ExecuteTime": {
     "end_time": "2021-02-04T07:49:31.075802Z",
     "start_time": "2021-02-04T07:49:31.050869Z"
    }
   },
   "outputs": [],
   "source": [
    "df_new"
   ]
  },
  {
   "cell_type": "markdown",
   "metadata": {},
   "source": [
    "data_new = 데이터 합친 것,  weather = 날씨 데이터"
   ]
  },
  {
   "cell_type": "code",
   "execution_count": null,
   "metadata": {
    "ExecuteTime": {
     "end_time": "2021-02-04T07:50:24.301111Z",
     "start_time": "2021-02-04T07:50:18.866649Z"
    }
   },
   "outputs": [],
   "source": [
    "df_new2=pd.merge(df_new,weather,on='date',how='left')"
   ]
  },
  {
   "cell_type": "code",
   "execution_count": null,
   "metadata": {
    "ExecuteTime": {
     "end_time": "2021-02-04T07:52:54.792074Z",
     "start_time": "2021-02-04T07:51:06.674488Z"
    }
   },
   "outputs": [],
   "source": [
    "df_new2.to_csv('all_data.csv',encoding='utf-8')"
   ]
  },
  {
   "cell_type": "code",
   "execution_count": null,
   "metadata": {
    "ExecuteTime": {
     "end_time": "2021-02-04T07:53:18.756005Z",
     "start_time": "2021-02-04T07:52:56.277619Z"
    }
   },
   "outputs": [],
   "source": [
    "tototo= pd.read_csv('all_data.csv',encoding=\"utf-8\")"
   ]
  },
  {
   "cell_type": "code",
   "execution_count": null,
   "metadata": {
    "ExecuteTime": {
     "end_time": "2021-02-04T07:53:29.819351Z",
     "start_time": "2021-02-04T07:53:29.667734Z"
    }
   },
   "outputs": [],
   "source": [
    "data_all = tototo.loc[:,[\"custid\",\"date_time\",\"store\",\"product\",\"brand\",\"corner\",\"pc\",\"part\",\"imported\",\"amount\",\"discount\",\"installment\",\"gender\",\"지점\",\"지점명\",\"평균기온(°C)\",'일강수량(mm)']]"
   ]
  },
  {
   "cell_type": "code",
   "execution_count": null,
   "metadata": {
    "ExecuteTime": {
     "end_time": "2021-02-05T00:34:13.487262Z",
     "start_time": "2021-02-05T00:34:13.204019Z"
    }
   },
   "outputs": [],
   "source": [
    "data_all.to_csv('all_data2.csv',encoding='utf-8')"
   ]
  },
  {
   "cell_type": "code",
   "execution_count": 1,
   "metadata": {
    "ExecuteTime": {
     "end_time": "2021-02-05T01:36:33.066242Z",
     "start_time": "2021-02-05T01:36:27.044072Z"
    }
   },
   "outputs": [],
   "source": [
    "#-*- encoding: utf-8 -*-\n",
    "import pandas as pd\n",
    "from datetime import datetime\n",
    "data22= pd.read_csv('all_data2.csv',encoding=\"utf-8\")"
   ]
  },
  {
   "cell_type": "code",
   "execution_count": 2,
   "metadata": {
    "ExecuteTime": {
     "end_time": "2021-02-05T01:36:33.256522Z",
     "start_time": "2021-02-05T01:36:33.107133Z"
    }
   },
   "outputs": [],
   "source": [
    "allset_data=data22.loc[:,[\"custid\",\"date_time\",\"store\",\"product\",\"brand\",\"corner\",\"pc\",\"part\",\"imported\",\"amount\",\"discount\",\"installment\",\"gender\",\"지점\",\"지점명\",\"평균기온(°C)\",'일강수량(mm)']]"
   ]
  },
  {
   "cell_type": "code",
   "execution_count": 3,
   "metadata": {
    "ExecuteTime": {
     "end_time": "2021-02-05T01:37:00.992402Z",
     "start_time": "2021-02-05T01:36:33.314367Z"
    }
   },
   "outputs": [],
   "source": [
    "allset_data['date_time']= allset_data['date_time'].astype('str')\n",
    "allset_data['date_time']=pd.to_datetime(allset_data['date_time'])\n",
    "allset_data['time'] = allset_data['date_time'].dt.strftime('%H:%M')\n",
    "#allset_data['week'] = allset_data['date_time'].dt.strftime('%Y%m%d')\n",
    "allset_data['week'] = allset_data['date_time'].dt.strftime('%A')#.dt.day_name()#.dt.strftime('%A')\n",
    "\n",
    "#allset_data[(allset_data.gender=='0'),'gender']='여자'3allset_data.\n",
    "#allset_data[(allset_data.gender=='1'),'gender']='남자'"
   ]
  },
  {
   "cell_type": "code",
   "execution_count": 30,
   "metadata": {
    "ExecuteTime": {
     "end_time": "2021-02-05T02:58:13.040395Z",
     "start_time": "2021-02-05T02:57:54.369340Z"
    }
   },
   "outputs": [],
   "source": [
    "allset_data\n",
    "allset_data.to_csv('department_data_ho.csv',encoding='utf-8')"
   ]
  },
  {
   "cell_type": "code",
   "execution_count": 30,
   "metadata": {
    "ExecuteTime": {
     "end_time": "2021-02-05T02:58:13.040395Z",
     "start_time": "2021-02-05T02:57:54.369340Z"
    }
   },
   "outputs": [],
   "source": [
    "allset_data\n",
    "allset_data.to_csv('department_data_ho.csv',encoding='utf-8')"
   ]
  },
  {
   "cell_type": "code",
   "execution_count": 32,
   "metadata": {
    "ExecuteTime": {
     "end_time": "2021-02-05T03:03:33.318518Z",
     "start_time": "2021-02-05T03:03:33.273638Z"
    }
   },
   "outputs": [
    {
     "data": {
      "text/html": [
       "<div>\n",
       "<style scoped>\n",
       "    .dataframe tbody tr th:only-of-type {\n",
       "        vertical-align: middle;\n",
       "    }\n",
       "\n",
       "    .dataframe tbody tr th {\n",
       "        vertical-align: top;\n",
       "    }\n",
       "\n",
       "    .dataframe thead th {\n",
       "        text-align: right;\n",
       "    }\n",
       "</style>\n",
       "<table border=\"1\" class=\"dataframe\">\n",
       "  <thead>\n",
       "    <tr style=\"text-align: right;\">\n",
       "      <th></th>\n",
       "      <th>custid</th>\n",
       "      <th>date_time</th>\n",
       "      <th>store</th>\n",
       "      <th>product</th>\n",
       "      <th>brand</th>\n",
       "      <th>corner</th>\n",
       "      <th>pc</th>\n",
       "      <th>part</th>\n",
       "      <th>imported</th>\n",
       "      <th>amount</th>\n",
       "      <th>discount</th>\n",
       "      <th>installment</th>\n",
       "      <th>gender</th>\n",
       "      <th>지점</th>\n",
       "      <th>지점명</th>\n",
       "      <th>평균기온(°C)</th>\n",
       "      <th>일강수량(mm)</th>\n",
       "      <th>time</th>\n",
       "      <th>week</th>\n",
       "    </tr>\n",
       "  </thead>\n",
       "  <tbody>\n",
       "    <tr>\n",
       "      <th>0</th>\n",
       "      <td>0</td>\n",
       "      <td>2000-06-25 12:12:00</td>\n",
       "      <td>무역점</td>\n",
       "      <td>2116050008000</td>\n",
       "      <td>에스티로더</td>\n",
       "      <td>수입종합화장품</td>\n",
       "      <td>화장품</td>\n",
       "      <td>명품잡화</td>\n",
       "      <td>1</td>\n",
       "      <td>90000</td>\n",
       "      <td>9000</td>\n",
       "      <td>3</td>\n",
       "      <td>1</td>\n",
       "      <td>108</td>\n",
       "      <td>서울</td>\n",
       "      <td>25.1</td>\n",
       "      <td>0.0</td>\n",
       "      <td>12:12</td>\n",
       "      <td>Sunday</td>\n",
       "    </tr>\n",
       "    <tr>\n",
       "      <th>1</th>\n",
       "      <td>0</td>\n",
       "      <td>2000-06-25 12:42:00</td>\n",
       "      <td>무역점</td>\n",
       "      <td>4125440008000</td>\n",
       "      <td>시슬리</td>\n",
       "      <td>수입종합화장품</td>\n",
       "      <td>화장품</td>\n",
       "      <td>명품잡화</td>\n",
       "      <td>1</td>\n",
       "      <td>39000</td>\n",
       "      <td>3900</td>\n",
       "      <td>1</td>\n",
       "      <td>1</td>\n",
       "      <td>108</td>\n",
       "      <td>서울</td>\n",
       "      <td>25.1</td>\n",
       "      <td>0.0</td>\n",
       "      <td>12:42</td>\n",
       "      <td>Sunday</td>\n",
       "    </tr>\n",
       "    <tr>\n",
       "      <th>2</th>\n",
       "      <td>0</td>\n",
       "      <td>2000-08-26 18:10:00</td>\n",
       "      <td>본점</td>\n",
       "      <td>2116052008000</td>\n",
       "      <td>크리니크</td>\n",
       "      <td>수입종합화장품</td>\n",
       "      <td>화장품</td>\n",
       "      <td>잡화파트</td>\n",
       "      <td>1</td>\n",
       "      <td>175000</td>\n",
       "      <td>17500</td>\n",
       "      <td>3</td>\n",
       "      <td>1</td>\n",
       "      <td>108</td>\n",
       "      <td>서울</td>\n",
       "      <td>22.1</td>\n",
       "      <td>89.3</td>\n",
       "      <td>18:10</td>\n",
       "      <td>Saturday</td>\n",
       "    </tr>\n",
       "    <tr>\n",
       "      <th>3</th>\n",
       "      <td>0</td>\n",
       "      <td>2000-08-26 18:30:00</td>\n",
       "      <td>본점</td>\n",
       "      <td>4106430119900</td>\n",
       "      <td>듀퐁</td>\n",
       "      <td>수입의류</td>\n",
       "      <td>명품토탈</td>\n",
       "      <td>잡화파트</td>\n",
       "      <td>1</td>\n",
       "      <td>455000</td>\n",
       "      <td>45500</td>\n",
       "      <td>3</td>\n",
       "      <td>1</td>\n",
       "      <td>108</td>\n",
       "      <td>서울</td>\n",
       "      <td>22.1</td>\n",
       "      <td>89.3</td>\n",
       "      <td>18:30</td>\n",
       "      <td>Saturday</td>\n",
       "    </tr>\n",
       "    <tr>\n",
       "      <th>4</th>\n",
       "      <td>0</td>\n",
       "      <td>2000-09-03 18:02:00</td>\n",
       "      <td>무역점</td>\n",
       "      <td>2139141008000</td>\n",
       "      <td>랑콤</td>\n",
       "      <td>수입종합화장품</td>\n",
       "      <td>화장품</td>\n",
       "      <td>명품잡화</td>\n",
       "      <td>0</td>\n",
       "      <td>100000</td>\n",
       "      <td>10000</td>\n",
       "      <td>3</td>\n",
       "      <td>1</td>\n",
       "      <td>108</td>\n",
       "      <td>서울</td>\n",
       "      <td>25.1</td>\n",
       "      <td>9.5</td>\n",
       "      <td>18:02</td>\n",
       "      <td>Sunday</td>\n",
       "    </tr>\n",
       "    <tr>\n",
       "      <th>...</th>\n",
       "      <td>...</td>\n",
       "      <td>...</td>\n",
       "      <td>...</td>\n",
       "      <td>...</td>\n",
       "      <td>...</td>\n",
       "      <td>...</td>\n",
       "      <td>...</td>\n",
       "      <td>...</td>\n",
       "      <td>...</td>\n",
       "      <td>...</td>\n",
       "      <td>...</td>\n",
       "      <td>...</td>\n",
       "      <td>...</td>\n",
       "      <td>...</td>\n",
       "      <td>...</td>\n",
       "      <td>...</td>\n",
       "      <td>...</td>\n",
       "      <td>...</td>\n",
       "      <td>...</td>\n",
       "    </tr>\n",
       "    <tr>\n",
       "      <th>1726425</th>\n",
       "      <td>49993</td>\n",
       "      <td>2001-01-31 17:50:00</td>\n",
       "      <td>신촌점</td>\n",
       "      <td>4405551020474</td>\n",
       "      <td>톰키드</td>\n",
       "      <td>아동</td>\n",
       "      <td>아동</td>\n",
       "      <td>아동문화</td>\n",
       "      <td>0</td>\n",
       "      <td>20000</td>\n",
       "      <td>0</td>\n",
       "      <td>1</td>\n",
       "      <td>1</td>\n",
       "      <td>108</td>\n",
       "      <td>서울</td>\n",
       "      <td>-0.3</td>\n",
       "      <td>4.0</td>\n",
       "      <td>17:50</td>\n",
       "      <td>Wednesday</td>\n",
       "    </tr>\n",
       "    <tr>\n",
       "      <th>1726426</th>\n",
       "      <td>49993</td>\n",
       "      <td>2001-01-31 18:33:00</td>\n",
       "      <td>신촌점</td>\n",
       "      <td>2139140008300</td>\n",
       "      <td>폴로화장품</td>\n",
       "      <td>향수</td>\n",
       "      <td>화장품</td>\n",
       "      <td>패션잡화</td>\n",
       "      <td>0</td>\n",
       "      <td>70000</td>\n",
       "      <td>3500</td>\n",
       "      <td>1</td>\n",
       "      <td>1</td>\n",
       "      <td>108</td>\n",
       "      <td>서울</td>\n",
       "      <td>-0.3</td>\n",
       "      <td>4.0</td>\n",
       "      <td>18:33</td>\n",
       "      <td>Wednesday</td>\n",
       "    </tr>\n",
       "    <tr>\n",
       "      <th>1726427</th>\n",
       "      <td>49994</td>\n",
       "      <td>2001-04-14 17:50:00</td>\n",
       "      <td>본점</td>\n",
       "      <td>4230120011274</td>\n",
       "      <td>스테파넬</td>\n",
       "      <td>영트랜드</td>\n",
       "      <td>영트렌디</td>\n",
       "      <td>케주얼,구두,아동</td>\n",
       "      <td>0</td>\n",
       "      <td>39000</td>\n",
       "      <td>0</td>\n",
       "      <td>1</td>\n",
       "      <td>0</td>\n",
       "      <td>108</td>\n",
       "      <td>서울</td>\n",
       "      <td>9.1</td>\n",
       "      <td>4.3</td>\n",
       "      <td>17:50</td>\n",
       "      <td>Saturday</td>\n",
       "    </tr>\n",
       "    <tr>\n",
       "      <th>1726428</th>\n",
       "      <td>49994</td>\n",
       "      <td>2001-04-14 18:10:00</td>\n",
       "      <td>본점</td>\n",
       "      <td>4409271026010</td>\n",
       "      <td>써스데이아일앤드</td>\n",
       "      <td>진케주얼</td>\n",
       "      <td>진케주얼</td>\n",
       "      <td>케주얼,구두,아동</td>\n",
       "      <td>0</td>\n",
       "      <td>34200</td>\n",
       "      <td>0</td>\n",
       "      <td>1</td>\n",
       "      <td>0</td>\n",
       "      <td>108</td>\n",
       "      <td>서울</td>\n",
       "      <td>9.1</td>\n",
       "      <td>4.3</td>\n",
       "      <td>18:10</td>\n",
       "      <td>Saturday</td>\n",
       "    </tr>\n",
       "    <tr>\n",
       "      <th>1726429</th>\n",
       "      <td>49994</td>\n",
       "      <td>2001-04-15 16:02:00</td>\n",
       "      <td>무역점</td>\n",
       "      <td>2116052008000</td>\n",
       "      <td>크리니크</td>\n",
       "      <td>수입종합화장품</td>\n",
       "      <td>화장품</td>\n",
       "      <td>명품잡화</td>\n",
       "      <td>1</td>\n",
       "      <td>86000</td>\n",
       "      <td>8600</td>\n",
       "      <td>1</td>\n",
       "      <td>0</td>\n",
       "      <td>108</td>\n",
       "      <td>서울</td>\n",
       "      <td>12.9</td>\n",
       "      <td>0.0</td>\n",
       "      <td>16:02</td>\n",
       "      <td>Sunday</td>\n",
       "    </tr>\n",
       "  </tbody>\n",
       "</table>\n",
       "<p>1726430 rows × 19 columns</p>\n",
       "</div>"
      ],
      "text/plain": [
       "         custid           date_time store        product     brand   corner  \\\n",
       "0             0 2000-06-25 12:12:00   무역점  2116050008000     에스티로더  수입종합화장품   \n",
       "1             0 2000-06-25 12:42:00   무역점  4125440008000       시슬리  수입종합화장품   \n",
       "2             0 2000-08-26 18:10:00    본점  2116052008000      크리니크  수입종합화장품   \n",
       "3             0 2000-08-26 18:30:00    본점  4106430119900        듀퐁     수입의류   \n",
       "4             0 2000-09-03 18:02:00   무역점  2139141008000        랑콤  수입종합화장품   \n",
       "...         ...                 ...   ...            ...       ...      ...   \n",
       "1726425   49993 2001-01-31 17:50:00   신촌점  4405551020474       톰키드       아동   \n",
       "1726426   49993 2001-01-31 18:33:00   신촌점  2139140008300     폴로화장품       향수   \n",
       "1726427   49994 2001-04-14 17:50:00    본점  4230120011274      스테파넬     영트랜드   \n",
       "1726428   49994 2001-04-14 18:10:00    본점  4409271026010  써스데이아일앤드     진케주얼   \n",
       "1726429   49994 2001-04-15 16:02:00   무역점  2116052008000      크리니크  수입종합화장품   \n",
       "\n",
       "           pc       part  imported  amount  discount  installment  gender  \\\n",
       "0         화장품       명품잡화         1   90000      9000            3       1   \n",
       "1         화장품       명품잡화         1   39000      3900            1       1   \n",
       "2         화장품       잡화파트         1  175000     17500            3       1   \n",
       "3        명품토탈       잡화파트         1  455000     45500            3       1   \n",
       "4         화장품       명품잡화         0  100000     10000            3       1   \n",
       "...       ...        ...       ...     ...       ...          ...     ...   \n",
       "1726425    아동       아동문화         0   20000         0            1       1   \n",
       "1726426   화장품       패션잡화         0   70000      3500            1       1   \n",
       "1726427  영트렌디  케주얼,구두,아동         0   39000         0            1       0   \n",
       "1726428  진케주얼  케주얼,구두,아동         0   34200         0            1       0   \n",
       "1726429   화장품       명품잡화         1   86000      8600            1       0   \n",
       "\n",
       "          지점 지점명  평균기온(°C)  일강수량(mm)   time       week  \n",
       "0        108  서울      25.1       0.0  12:12     Sunday  \n",
       "1        108  서울      25.1       0.0  12:42     Sunday  \n",
       "2        108  서울      22.1      89.3  18:10   Saturday  \n",
       "3        108  서울      22.1      89.3  18:30   Saturday  \n",
       "4        108  서울      25.1       9.5  18:02     Sunday  \n",
       "...      ...  ..       ...       ...    ...        ...  \n",
       "1726425  108  서울      -0.3       4.0  17:50  Wednesday  \n",
       "1726426  108  서울      -0.3       4.0  18:33  Wednesday  \n",
       "1726427  108  서울       9.1       4.3  17:50   Saturday  \n",
       "1726428  108  서울       9.1       4.3  18:10   Saturday  \n",
       "1726429  108  서울      12.9       0.0  16:02     Sunday  \n",
       "\n",
       "[1726430 rows x 19 columns]"
      ]
     },
     "execution_count": 32,
     "metadata": {},
     "output_type": "execute_result"
    }
   ],
   "source": [
    "allset_data"
   ]
  },
  {
   "cell_type": "markdown",
   "metadata": {},
   "source": [
    "## 데이터 정리한 것 allset_data"
   ]
  },
  {
   "cell_type": "code",
   "execution_count": 4,
   "metadata": {
    "ExecuteTime": {
     "end_time": "2021-02-05T01:37:03.243815Z",
     "start_time": "2021-02-05T01:37:01.062216Z"
    }
   },
   "outputs": [],
   "source": [
    "install=allset_data.groupby('installment').mean()\n",
    "time=allset_data.groupby('time').mean()\n",
    "temp=allset_data.groupby('평균기온(°C)').mean()\n",
    "rain=allset_data.groupby('일강수량(mm)').mean()\n",
    "product=allset_data.groupby('corner').mean()"
   ]
  },
  {
   "cell_type": "code",
   "execution_count": 5,
   "metadata": {
    "ExecuteTime": {
     "end_time": "2021-02-05T01:37:03.729030Z",
     "start_time": "2021-02-05T01:37:03.371475Z"
    }
   },
   "outputs": [],
   "source": [
    "import matplotlib.pyplot as plt"
   ]
  },
  {
   "cell_type": "code",
   "execution_count": 6,
   "metadata": {
    "ExecuteTime": {
     "end_time": "2021-02-05T01:37:03.876634Z",
     "start_time": "2021-02-05T01:37:03.866662Z"
    }
   },
   "outputs": [],
   "source": [
    "import platform\n",
    "from matplotlib import font_manager, rc\n",
    "import matplotlib.pyplot as plt\n",
    "##그래프의 결과를 출력 세션에 나타나게 하자\n",
    "%matplotlib inline \n",
    "plt.rcParams['axes.unicode_minus'] = False\n",
    "if platform.system() == 'Darwin':\n",
    "    rc('font', family = 'AppleGothic')\n",
    "elif platform.system() == 'Windows':\n",
    "    path ='C:/Windows/Fonts/malgun.ttf'\n",
    "    font_name = font_manager.FontProperties(fname=path).get_name()\n",
    "    rc('font', family=font_name)\n",
    "else:\n",
    "    print(\"Can't find your system.\")"
   ]
  },
  {
   "cell_type": "code",
   "execution_count": 8,
   "metadata": {
    "ExecuteTime": {
     "end_time": "2021-02-05T01:11:08.994167Z",
     "start_time": "2021-02-05T01:11:08.979206Z"
    }
   },
   "outputs": [
    {
     "data": {
      "text/html": [
       "<div>\n",
       "<style scoped>\n",
       "    .dataframe tbody tr th:only-of-type {\n",
       "        vertical-align: middle;\n",
       "    }\n",
       "\n",
       "    .dataframe tbody tr th {\n",
       "        vertical-align: top;\n",
       "    }\n",
       "\n",
       "    .dataframe thead th {\n",
       "        text-align: right;\n",
       "    }\n",
       "</style>\n",
       "<table border=\"1\" class=\"dataframe\">\n",
       "  <thead>\n",
       "    <tr style=\"text-align: right;\">\n",
       "      <th></th>\n",
       "      <th>custid</th>\n",
       "      <th>product</th>\n",
       "      <th>imported</th>\n",
       "      <th>amount</th>\n",
       "      <th>discount</th>\n",
       "      <th>gender</th>\n",
       "      <th>지점</th>\n",
       "      <th>평균기온(°C)</th>\n",
       "      <th>일강수량(mm)</th>\n",
       "    </tr>\n",
       "    <tr>\n",
       "      <th>installment</th>\n",
       "      <th></th>\n",
       "      <th></th>\n",
       "      <th></th>\n",
       "      <th></th>\n",
       "      <th></th>\n",
       "      <th></th>\n",
       "      <th></th>\n",
       "      <th></th>\n",
       "      <th></th>\n",
       "    </tr>\n",
       "  </thead>\n",
       "  <tbody>\n",
       "    <tr>\n",
       "      <th>1</th>\n",
       "      <td>24848.420778</td>\n",
       "      <td>3.709973e+12</td>\n",
       "      <td>0.109094</td>\n",
       "      <td>52091.005806</td>\n",
       "      <td>1666.841965</td>\n",
       "      <td>0.368075</td>\n",
       "      <td>108.0</td>\n",
       "      <td>13.220266</td>\n",
       "      <td>3.248888</td>\n",
       "    </tr>\n",
       "    <tr>\n",
       "      <th>2</th>\n",
       "      <td>25675.718705</td>\n",
       "      <td>4.132684e+12</td>\n",
       "      <td>0.151884</td>\n",
       "      <td>106043.699141</td>\n",
       "      <td>4376.309319</td>\n",
       "      <td>0.234104</td>\n",
       "      <td>108.0</td>\n",
       "      <td>11.722141</td>\n",
       "      <td>2.986980</td>\n",
       "    </tr>\n",
       "    <tr>\n",
       "      <th>3</th>\n",
       "      <td>25015.945804</td>\n",
       "      <td>4.236690e+12</td>\n",
       "      <td>0.172423</td>\n",
       "      <td>160706.905979</td>\n",
       "      <td>5605.867160</td>\n",
       "      <td>0.362227</td>\n",
       "      <td>108.0</td>\n",
       "      <td>13.114191</td>\n",
       "      <td>3.291602</td>\n",
       "    </tr>\n",
       "    <tr>\n",
       "      <th>4</th>\n",
       "      <td>25188.746914</td>\n",
       "      <td>4.147136e+12</td>\n",
       "      <td>0.156379</td>\n",
       "      <td>186054.876543</td>\n",
       "      <td>6818.065844</td>\n",
       "      <td>0.228395</td>\n",
       "      <td>108.0</td>\n",
       "      <td>12.214403</td>\n",
       "      <td>1.905967</td>\n",
       "    </tr>\n",
       "    <tr>\n",
       "      <th>5</th>\n",
       "      <td>25082.291962</td>\n",
       "      <td>4.275063e+12</td>\n",
       "      <td>0.160641</td>\n",
       "      <td>213617.619207</td>\n",
       "      <td>7939.672009</td>\n",
       "      <td>0.236303</td>\n",
       "      <td>108.0</td>\n",
       "      <td>12.555659</td>\n",
       "      <td>3.024227</td>\n",
       "    </tr>\n",
       "    <tr>\n",
       "      <th>6</th>\n",
       "      <td>24823.020915</td>\n",
       "      <td>4.331227e+12</td>\n",
       "      <td>0.215782</td>\n",
       "      <td>307808.186075</td>\n",
       "      <td>10888.759970</td>\n",
       "      <td>0.297423</td>\n",
       "      <td>108.0</td>\n",
       "      <td>12.669747</td>\n",
       "      <td>3.251296</td>\n",
       "    </tr>\n",
       "    <tr>\n",
       "      <th>7</th>\n",
       "      <td>21880.023881</td>\n",
       "      <td>4.309037e+12</td>\n",
       "      <td>0.179104</td>\n",
       "      <td>269639.286567</td>\n",
       "      <td>9103.134328</td>\n",
       "      <td>0.232836</td>\n",
       "      <td>108.0</td>\n",
       "      <td>11.950746</td>\n",
       "      <td>2.292239</td>\n",
       "    </tr>\n",
       "    <tr>\n",
       "      <th>8</th>\n",
       "      <td>24211.370019</td>\n",
       "      <td>4.269576e+12</td>\n",
       "      <td>0.222011</td>\n",
       "      <td>351556.783681</td>\n",
       "      <td>12850.948767</td>\n",
       "      <td>0.242884</td>\n",
       "      <td>108.0</td>\n",
       "      <td>11.146110</td>\n",
       "      <td>3.365465</td>\n",
       "    </tr>\n",
       "    <tr>\n",
       "      <th>9</th>\n",
       "      <td>22435.210256</td>\n",
       "      <td>4.377193e+12</td>\n",
       "      <td>0.260256</td>\n",
       "      <td>497282.672436</td>\n",
       "      <td>18467.788462</td>\n",
       "      <td>0.291667</td>\n",
       "      <td>108.0</td>\n",
       "      <td>12.695192</td>\n",
       "      <td>3.538141</td>\n",
       "    </tr>\n",
       "    <tr>\n",
       "      <th>10</th>\n",
       "      <td>23988.978901</td>\n",
       "      <td>4.397432e+12</td>\n",
       "      <td>0.247160</td>\n",
       "      <td>470981.317876</td>\n",
       "      <td>15946.964990</td>\n",
       "      <td>0.301646</td>\n",
       "      <td>108.0</td>\n",
       "      <td>11.747623</td>\n",
       "      <td>3.282448</td>\n",
       "    </tr>\n",
       "    <tr>\n",
       "      <th>11</th>\n",
       "      <td>28315.774194</td>\n",
       "      <td>4.554417e+12</td>\n",
       "      <td>0.145161</td>\n",
       "      <td>401477.419355</td>\n",
       "      <td>5923.870968</td>\n",
       "      <td>0.161290</td>\n",
       "      <td>108.0</td>\n",
       "      <td>14.391935</td>\n",
       "      <td>5.854839</td>\n",
       "    </tr>\n",
       "    <tr>\n",
       "      <th>12</th>\n",
       "      <td>23091.309913</td>\n",
       "      <td>4.442098e+12</td>\n",
       "      <td>0.236522</td>\n",
       "      <td>682851.465391</td>\n",
       "      <td>21594.302609</td>\n",
       "      <td>0.296696</td>\n",
       "      <td>108.0</td>\n",
       "      <td>11.807165</td>\n",
       "      <td>3.140243</td>\n",
       "    </tr>\n",
       "  </tbody>\n",
       "</table>\n",
       "</div>"
      ],
      "text/plain": [
       "                   custid       product  imported         amount  \\\n",
       "installment                                                        \n",
       "1            24848.420778  3.709973e+12  0.109094   52091.005806   \n",
       "2            25675.718705  4.132684e+12  0.151884  106043.699141   \n",
       "3            25015.945804  4.236690e+12  0.172423  160706.905979   \n",
       "4            25188.746914  4.147136e+12  0.156379  186054.876543   \n",
       "5            25082.291962  4.275063e+12  0.160641  213617.619207   \n",
       "6            24823.020915  4.331227e+12  0.215782  307808.186075   \n",
       "7            21880.023881  4.309037e+12  0.179104  269639.286567   \n",
       "8            24211.370019  4.269576e+12  0.222011  351556.783681   \n",
       "9            22435.210256  4.377193e+12  0.260256  497282.672436   \n",
       "10           23988.978901  4.397432e+12  0.247160  470981.317876   \n",
       "11           28315.774194  4.554417e+12  0.145161  401477.419355   \n",
       "12           23091.309913  4.442098e+12  0.236522  682851.465391   \n",
       "\n",
       "                 discount    gender     지점   평균기온(°C)  일강수량(mm)  \n",
       "installment                                                      \n",
       "1             1666.841965  0.368075  108.0  13.220266  3.248888  \n",
       "2             4376.309319  0.234104  108.0  11.722141  2.986980  \n",
       "3             5605.867160  0.362227  108.0  13.114191  3.291602  \n",
       "4             6818.065844  0.228395  108.0  12.214403  1.905967  \n",
       "5             7939.672009  0.236303  108.0  12.555659  3.024227  \n",
       "6            10888.759970  0.297423  108.0  12.669747  3.251296  \n",
       "7             9103.134328  0.232836  108.0  11.950746  2.292239  \n",
       "8            12850.948767  0.242884  108.0  11.146110  3.365465  \n",
       "9            18467.788462  0.291667  108.0  12.695192  3.538141  \n",
       "10           15946.964990  0.301646  108.0  11.747623  3.282448  \n",
       "11            5923.870968  0.161290  108.0  14.391935  5.854839  \n",
       "12           21594.302609  0.296696  108.0  11.807165  3.140243  "
      ]
     },
     "execution_count": 8,
     "metadata": {},
     "output_type": "execute_result"
    }
   ],
   "source": [
    "install"
   ]
  },
  {
   "cell_type": "code",
   "execution_count": 9,
   "metadata": {
    "ExecuteTime": {
     "end_time": "2021-02-05T01:11:12.919619Z",
     "start_time": "2021-02-05T01:11:12.899672Z"
    }
   },
   "outputs": [
    {
     "data": {
      "text/html": [
       "<div>\n",
       "<style scoped>\n",
       "    .dataframe tbody tr th:only-of-type {\n",
       "        vertical-align: middle;\n",
       "    }\n",
       "\n",
       "    .dataframe tbody tr th {\n",
       "        vertical-align: top;\n",
       "    }\n",
       "\n",
       "    .dataframe thead th {\n",
       "        text-align: right;\n",
       "    }\n",
       "</style>\n",
       "<table border=\"1\" class=\"dataframe\">\n",
       "  <thead>\n",
       "    <tr style=\"text-align: right;\">\n",
       "      <th></th>\n",
       "      <th>custid</th>\n",
       "      <th>product</th>\n",
       "      <th>imported</th>\n",
       "      <th>amount</th>\n",
       "      <th>discount</th>\n",
       "      <th>installment</th>\n",
       "      <th>gender</th>\n",
       "      <th>지점</th>\n",
       "      <th>평균기온(°C)</th>\n",
       "      <th>일강수량(mm)</th>\n",
       "    </tr>\n",
       "    <tr>\n",
       "      <th>time</th>\n",
       "      <th></th>\n",
       "      <th></th>\n",
       "      <th></th>\n",
       "      <th></th>\n",
       "      <th></th>\n",
       "      <th></th>\n",
       "      <th></th>\n",
       "      <th></th>\n",
       "      <th></th>\n",
       "      <th></th>\n",
       "    </tr>\n",
       "  </thead>\n",
       "  <tbody>\n",
       "    <tr>\n",
       "      <th>00:00</th>\n",
       "      <td>43164.0</td>\n",
       "      <td>2.700000e+12</td>\n",
       "      <td>0.0</td>\n",
       "      <td>17840.0</td>\n",
       "      <td>0.0</td>\n",
       "      <td>1.0</td>\n",
       "      <td>0.0</td>\n",
       "      <td>108.0</td>\n",
       "      <td>11.6</td>\n",
       "      <td>0.0</td>\n",
       "    </tr>\n",
       "    <tr>\n",
       "      <th>00:23</th>\n",
       "      <td>23545.0</td>\n",
       "      <td>4.125270e+12</td>\n",
       "      <td>0.0</td>\n",
       "      <td>-25000.0</td>\n",
       "      <td>-1250.0</td>\n",
       "      <td>1.0</td>\n",
       "      <td>0.0</td>\n",
       "      <td>108.0</td>\n",
       "      <td>21.8</td>\n",
       "      <td>0.0</td>\n",
       "    </tr>\n",
       "    <tr>\n",
       "      <th>00:25</th>\n",
       "      <td>42888.0</td>\n",
       "      <td>4.179596e+12</td>\n",
       "      <td>0.0</td>\n",
       "      <td>-233000.0</td>\n",
       "      <td>-11650.0</td>\n",
       "      <td>3.0</td>\n",
       "      <td>0.0</td>\n",
       "      <td>108.0</td>\n",
       "      <td>21.8</td>\n",
       "      <td>0.0</td>\n",
       "    </tr>\n",
       "    <tr>\n",
       "      <th>00:26</th>\n",
       "      <td>31048.0</td>\n",
       "      <td>4.130910e+12</td>\n",
       "      <td>0.0</td>\n",
       "      <td>-154000.0</td>\n",
       "      <td>-7700.0</td>\n",
       "      <td>3.0</td>\n",
       "      <td>1.0</td>\n",
       "      <td>108.0</td>\n",
       "      <td>21.8</td>\n",
       "      <td>0.0</td>\n",
       "    </tr>\n",
       "    <tr>\n",
       "      <th>00:28</th>\n",
       "      <td>31048.0</td>\n",
       "      <td>4.300380e+12</td>\n",
       "      <td>0.0</td>\n",
       "      <td>-62500.0</td>\n",
       "      <td>-3125.0</td>\n",
       "      <td>3.0</td>\n",
       "      <td>1.0</td>\n",
       "      <td>108.0</td>\n",
       "      <td>21.8</td>\n",
       "      <td>0.0</td>\n",
       "    </tr>\n",
       "    <tr>\n",
       "      <th>...</th>\n",
       "      <td>...</td>\n",
       "      <td>...</td>\n",
       "      <td>...</td>\n",
       "      <td>...</td>\n",
       "      <td>...</td>\n",
       "      <td>...</td>\n",
       "      <td>...</td>\n",
       "      <td>...</td>\n",
       "      <td>...</td>\n",
       "      <td>...</td>\n",
       "    </tr>\n",
       "    <tr>\n",
       "      <th>22:04</th>\n",
       "      <td>27884.5</td>\n",
       "      <td>6.331426e+12</td>\n",
       "      <td>0.0</td>\n",
       "      <td>81000.0</td>\n",
       "      <td>4050.0</td>\n",
       "      <td>2.0</td>\n",
       "      <td>0.0</td>\n",
       "      <td>108.0</td>\n",
       "      <td>26.3</td>\n",
       "      <td>0.0</td>\n",
       "    </tr>\n",
       "    <tr>\n",
       "      <th>22:11</th>\n",
       "      <td>5453.0</td>\n",
       "      <td>4.404830e+12</td>\n",
       "      <td>0.0</td>\n",
       "      <td>-236000.0</td>\n",
       "      <td>-23600.0</td>\n",
       "      <td>3.0</td>\n",
       "      <td>1.0</td>\n",
       "      <td>108.0</td>\n",
       "      <td>13.6</td>\n",
       "      <td>0.0</td>\n",
       "    </tr>\n",
       "    <tr>\n",
       "      <th>22:20</th>\n",
       "      <td>37740.0</td>\n",
       "      <td>4.244761e+12</td>\n",
       "      <td>0.0</td>\n",
       "      <td>-118000.0</td>\n",
       "      <td>-11800.0</td>\n",
       "      <td>3.0</td>\n",
       "      <td>0.0</td>\n",
       "      <td>108.0</td>\n",
       "      <td>2.9</td>\n",
       "      <td>2.4</td>\n",
       "    </tr>\n",
       "    <tr>\n",
       "      <th>23:46</th>\n",
       "      <td>17418.0</td>\n",
       "      <td>6.421880e+12</td>\n",
       "      <td>0.0</td>\n",
       "      <td>36000.0</td>\n",
       "      <td>0.0</td>\n",
       "      <td>1.0</td>\n",
       "      <td>0.0</td>\n",
       "      <td>108.0</td>\n",
       "      <td>25.4</td>\n",
       "      <td>50.8</td>\n",
       "    </tr>\n",
       "    <tr>\n",
       "      <th>23:47</th>\n",
       "      <td>17418.0</td>\n",
       "      <td>6.240990e+12</td>\n",
       "      <td>0.0</td>\n",
       "      <td>29000.0</td>\n",
       "      <td>0.0</td>\n",
       "      <td>1.0</td>\n",
       "      <td>0.0</td>\n",
       "      <td>108.0</td>\n",
       "      <td>25.4</td>\n",
       "      <td>50.8</td>\n",
       "    </tr>\n",
       "  </tbody>\n",
       "</table>\n",
       "<p>651 rows × 10 columns</p>\n",
       "</div>"
      ],
      "text/plain": [
       "        custid       product  imported    amount  discount  installment  \\\n",
       "time                                                                      \n",
       "00:00  43164.0  2.700000e+12       0.0   17840.0       0.0          1.0   \n",
       "00:23  23545.0  4.125270e+12       0.0  -25000.0   -1250.0          1.0   \n",
       "00:25  42888.0  4.179596e+12       0.0 -233000.0  -11650.0          3.0   \n",
       "00:26  31048.0  4.130910e+12       0.0 -154000.0   -7700.0          3.0   \n",
       "00:28  31048.0  4.300380e+12       0.0  -62500.0   -3125.0          3.0   \n",
       "...        ...           ...       ...       ...       ...          ...   \n",
       "22:04  27884.5  6.331426e+12       0.0   81000.0    4050.0          2.0   \n",
       "22:11   5453.0  4.404830e+12       0.0 -236000.0  -23600.0          3.0   \n",
       "22:20  37740.0  4.244761e+12       0.0 -118000.0  -11800.0          3.0   \n",
       "23:46  17418.0  6.421880e+12       0.0   36000.0       0.0          1.0   \n",
       "23:47  17418.0  6.240990e+12       0.0   29000.0       0.0          1.0   \n",
       "\n",
       "       gender     지점  평균기온(°C)  일강수량(mm)  \n",
       "time                                      \n",
       "00:00     0.0  108.0      11.6       0.0  \n",
       "00:23     0.0  108.0      21.8       0.0  \n",
       "00:25     0.0  108.0      21.8       0.0  \n",
       "00:26     1.0  108.0      21.8       0.0  \n",
       "00:28     1.0  108.0      21.8       0.0  \n",
       "...       ...    ...       ...       ...  \n",
       "22:04     0.0  108.0      26.3       0.0  \n",
       "22:11     1.0  108.0      13.6       0.0  \n",
       "22:20     0.0  108.0       2.9       2.4  \n",
       "23:46     0.0  108.0      25.4      50.8  \n",
       "23:47     0.0  108.0      25.4      50.8  \n",
       "\n",
       "[651 rows x 10 columns]"
      ]
     },
     "execution_count": 9,
     "metadata": {},
     "output_type": "execute_result"
    }
   ],
   "source": [
    "time"
   ]
  },
  {
   "cell_type": "code",
   "execution_count": 7,
   "metadata": {
    "ExecuteTime": {
     "end_time": "2021-02-05T01:37:04.351871Z",
     "start_time": "2021-02-05T01:37:04.012272Z"
    }
   },
   "outputs": [
    {
     "ename": "NameError",
     "evalue": "name 'mpl' is not defined",
     "output_type": "error",
     "traceback": [
      "\u001b[1;31m---------------------------------------------------------------------------\u001b[0m",
      "\u001b[1;31mNameError\u001b[0m                                 Traceback (most recent call last)",
      "\u001b[1;32m<ipython-input-7-b9cd0fb5a93b>\u001b[0m in \u001b[0;36m<module>\u001b[1;34m\u001b[0m\n\u001b[1;32m----> 1\u001b[1;33m \u001b[0mmpl\u001b[0m\u001b[1;33m.\u001b[0m\u001b[0mrcParams\u001b[0m\u001b[1;33m[\u001b[0m\u001b[1;34m'axes.unicode_minus'\u001b[0m\u001b[1;33m]\u001b[0m \u001b[1;33m=\u001b[0m \u001b[1;32mFalse\u001b[0m\u001b[1;33m\u001b[0m\u001b[1;33m\u001b[0m\u001b[0m\n\u001b[0m",
      "\u001b[1;31mNameError\u001b[0m: name 'mpl' is not defined"
     ]
    }
   ],
   "source": [
    "mpl.rcParams['axes.unicode_minus'] = False"
   ]
  },
  {
   "cell_type": "code",
   "execution_count": 27,
   "metadata": {
    "ExecuteTime": {
     "end_time": "2021-02-05T01:40:16.078743Z",
     "start_time": "2021-02-05T01:40:15.416795Z"
    }
   },
   "outputs": [
    {
     "data": {
      "image/png": "[encoded data removed]",
      "text/plain": [
       "<Figure size 432x288 with 1 Axes>"
      ]
     },
     "metadata": {
      "needs_background": "light"
     },
     "output_type": "display_data"
    }
   ],
   "source": [
    "store_amount_imported = allset_data.groupby([\"installment\",\"imported\"]).sum().unstack()[\"amount\"]\n",
    "store_amount_imported.plot(kind='bar', stacked=True)\n",
    "plt.xticks(rotation=0, fontsize=13)\n",
    "plt.title('할부별 수입')\n",
    "plt.show()"
   ]
  },
  {
   "cell_type": "code",
   "execution_count": 33,
   "metadata": {
    "ExecuteTime": {
     "end_time": "2021-02-05T01:23:38.277614Z",
     "start_time": "2021-02-05T01:23:38.233704Z"
    }
   },
   "outputs": [
    {
     "data": {
      "text/plain": [
       "installment\n",
       "1     1056882\n",
       "2        7565\n",
       "3      615567\n",
       "4         486\n",
       "5        8049\n",
       "6       28209\n",
       "7         335\n",
       "8         527\n",
       "9        1560\n",
       "10       4313\n",
       "11         62\n",
       "12       2875\n",
       "dtype: int64"
      ]
     },
     "execution_count": 33,
     "metadata": {},
     "output_type": "execute_result"
    }
   ],
   "source": [
    "install2=allset_data.groupby('installment').size()\n",
    "install2"
   ]
  },
  {
   "cell_type": "code",
   "execution_count": 41,
   "metadata": {
    "ExecuteTime": {
     "end_time": "2021-02-05T01:29:59.234690Z",
     "start_time": "2021-02-05T01:29:59.093069Z"
    }
   },
   "outputs": [
    {
     "data": {
      "text/plain": [
       "week\n",
       "Friday       265183\n",
       "Monday       131092\n",
       "Saturday     320251\n",
       "Sunday       333275\n",
       "Thursday     228345\n",
       "Tuesday      231322\n",
       "Wednesday    216962\n",
       "dtype: int64"
      ]
     },
     "execution_count": 41,
     "metadata": {},
     "output_type": "execute_result"
    }
   ],
   "source": [
    "week=allset_data.groupby('week').size()\n",
    "week"
   ]
  },
  {
   "cell_type": "code",
   "execution_count": 24,
   "metadata": {
    "ExecuteTime": {
     "end_time": "2021-02-05T01:39:58.856919Z",
     "start_time": "2021-02-05T01:39:58.687400Z"
    }
   },
   "outputs": [
    {
     "data": {
      "image/png": "[encoded data removed]",
      "text/plain": [
       "<Figure size 576x576 with 1 Axes>"
      ]
     },
     "metadata": {},
     "output_type": "display_data"
    },
    {
     "data": {
      "text/plain": [
       "<Figure size 1080x1080 with 0 Axes>"
      ]
     },
     "metadata": {},
     "output_type": "display_data"
    }
   ],
   "source": [
    "labels = ['Monday','Tuesday','Wednesday','Thursday','Friday','Saturday','Sunday'] ## 라벨\n",
    "frequency = [131092,231322,216962,228345,265183,320251,333275]\n",
    "fig = plt.figure(figsize=(8,8)) ## 캔버스 생성\n",
    "fig.set_facecolor('white') ## 캔버스 색상 하얀색\n",
    "ax = fig.add_subplot() ## 프래임 생성\n",
    "plt.title('요일별 판매량')\n",
    "ax.pie(x=frequency,labels=labels,autopct=lambda p : '{:.2f}%'.format(p)) ## 파이 차트 출력\n",
    "plt.figure(figsize=(15,15))\n",
    "plt.show()"
   ]
  },
  {
   "cell_type": "code",
   "execution_count": 25,
   "metadata": {
    "ExecuteTime": {
     "end_time": "2021-02-05T01:39:59.430411Z",
     "start_time": "2021-02-05T01:39:59.199510Z"
    }
   },
   "outputs": [
    {
     "data": {
      "image/png": "[encoded data removed]",
      "text/plain": [
       "<Figure size 576x576 with 1 Axes>"
      ]
     },
     "metadata": {},
     "output_type": "display_data"
    },
    {
     "data": {
      "text/plain": [
       "<Figure size 1080x1080 with 0 Axes>"
      ]
     },
     "metadata": {},
     "output_type": "display_data"
    }
   ],
   "source": [
    "labels = ['1','2','3','4','5','6','7','8','9','10','11','12'] ## 라벨\n",
    "frequency = [1056882,7565,615567,486,8049,28209,335,527,1560,4313,62,2875]\n",
    "fig = plt.figure(figsize=(8,8)) ## 캔버스 생성\n",
    "fig.set_facecolor('white') ## 캔버스 색상 하얀색\n",
    "ax = fig.add_subplot() ## 프래임 생성\n",
    "plt.title('할부 비율')\n",
    "ax.pie(x=frequency,labels=labels,autopct=lambda p : '{:.2f}%'.format(p)) ## 파이 차트 출력\n",
    "plt.figure(figsize=(15,15))\n",
    "plt.show()"
   ]
  },
  {
   "cell_type": "code",
   "execution_count": 26,
   "metadata": {
    "ExecuteTime": {
     "end_time": "2021-02-05T01:40:03.372061Z",
     "start_time": "2021-02-05T01:40:02.720788Z"
    }
   },
   "outputs": [
    {
     "data": {
      "image/png": "[encoded data removed]",
      "text/plain": [
       "<Figure size 432x288 with 1 Axes>"
      ]
     },
     "metadata": {
      "needs_background": "light"
     },
     "output_type": "display_data"
    },
    {
     "data": {
      "text/plain": [
       "<Figure size 1080x288 with 0 Axes>"
      ]
     },
     "metadata": {},
     "output_type": "display_data"
    }
   ],
   "source": [
    "store_amount_imported = allset_data.groupby([\"installment\",\"gender\"]).sum().unstack()[\"amount\"]\n",
    "store_amount_imported.plot(kind='bar', stacked=True)\n",
    "plt.xticks(rotation=0, fontsize=13)\n",
    "plt.title('할부별 성별')\n",
    "plt.figure(figsize=(15,4))\n",
    "plt.show()"
   ]
  },
  {
   "cell_type": "code",
   "execution_count": 18,
   "metadata": {
    "ExecuteTime": {
     "end_time": "2021-02-05T01:13:15.830201Z",
     "start_time": "2021-02-05T01:13:14.875711Z"
    }
   },
   "outputs": [
    {
     "data": {
      "image/png": "[encoded data removed]",
      "text/plain": [
       "<Figure size 432x288 with 1 Axes>"
      ]
     },
     "metadata": {
      "needs_background": "light"
     },
     "output_type": "display_data"
    }
   ],
   "source": [
    "store_amount_imported = allset_data.groupby([\"installment\",\"week\"]).sum().unstack()[\"amount\"]\n",
    "store_amount_imported.plot(kind='bar', stacked=True)\n",
    "plt.xticks(rotation=0, fontsize=13)\n",
    "plt.title('요일별 할부')\n",
    "plt.show()"
   ]
  },
  {
   "cell_type": "code",
   "execution_count": 28,
   "metadata": {
    "ExecuteTime": {
     "end_time": "2021-02-05T01:42:05.547705Z",
     "start_time": "2021-02-05T01:42:04.555634Z"
    }
   },
   "outputs": [
    {
     "data": {
      "image/png": "[encoded data removed]",
      "text/plain": [
       "<Figure size 432x288 with 1 Axes>"
      ]
     },
     "metadata": {
      "needs_background": "light"
     },
     "output_type": "display_data"
    },
    {
     "data": {
      "text/plain": [
       "<Figure size 1080x288 with 0 Axes>"
      ]
     },
     "metadata": {},
     "output_type": "display_data"
    }
   ],
   "source": [
    "store_amount_imported = allset_data.groupby([\"week\",\"installment\"]).sum().unstack()[\"amount\"]\n",
    "store_amount_imported.plot(kind='bar', stacked=True)\n",
    "plt.xticks(rotation=0, fontsize=13)\n",
    "plt.title('요일별 할부')\n",
    "plt.legend(loc='upper right',bbox_to_anchor=(1.2, 1.0))\n",
    "plt.figure(figsize=(15,4))\n",
    "plt.show()"
   ]
  },
  {
   "cell_type": "code",
   "execution_count": 40,
   "metadata": {
    "ExecuteTime": {
     "end_time": "2021-02-05T01:29:12.354807Z",
     "start_time": "2021-02-05T01:29:07.046677Z"
    }
   },
   "outputs": [
    {
     "data": {
      "image/png": "[encoded data removed]",
      "text/plain": [
       "<Figure size 432x288 with 1 Axes>"
      ]
     },
     "metadata": {
      "needs_background": "light"
     },
     "output_type": "display_data"
    }
   ],
   "source": [
    "store_amount_imported = allset_data.groupby([\"installment\",\"pc\"]).sum().unstack()[\"amount\"]\n",
    "store_amount_imported.plot(kind='bar', stacked=True)\n",
    "plt.xticks(rotation=0, fontsize=13)\n",
    "plt.show()"
   ]
  },
  {
   "cell_type": "code",
   "execution_count": 8,
   "metadata": {
    "ExecuteTime": {
     "end_time": "2021-02-05T01:37:06.585380Z",
     "start_time": "2021-02-05T01:37:05.774678Z"
    }
   },
   "outputs": [
    {
     "data": {
      "image/png": "[encoded data removed]",
      "text/plain": [
       "<Figure size 432x288 with 1 Axes>"
      ]
     },
     "metadata": {
      "needs_background": "light"
     },
     "output_type": "display_data"
    },
    {
     "data": {
      "text/plain": [
       "<Figure size 1080x288 with 0 Axes>"
      ]
     },
     "metadata": {},
     "output_type": "display_data"
    }
   ],
   "source": [
    "store_amount_imported = allset_data.groupby([\"store\",\"gender\"]).sum().unstack()[\"amount\"]\n",
    "store_amount_imported.plot(kind='bar', stacked=True)\n",
    "plt.xticks(rotation=0, fontsize=13)\n",
    "plt.title('지점별 성별 비율')\n",
    "plt.figure(figsize=(15,4))\n",
    "plt.show()"
   ]
  },
  {
   "cell_type": "code",
   "execution_count": 23,
   "metadata": {
    "ExecuteTime": {
     "end_time": "2021-02-05T01:39:49.674015Z",
     "start_time": "2021-02-05T01:39:49.670026Z"
    }
   },
   "outputs": [],
   "source": [
    "import matplotlib as mpl\n",
    "import matplotlib.pyplot as plt\n",
    "import matplotlib.font_manager as fm"
   ]
  },
  {
   "cell_type": "code",
   "execution_count": null,
   "metadata": {
    "ExecuteTime": {
     "end_time": "2021-02-04T08:10:23.541323Z",
     "start_time": "2021-02-04T08:10:23.521341Z"
    }
   },
   "outputs": [],
   "source": [
    "product"
   ]
  },
  {
   "cell_type": "code",
   "execution_count": null,
   "metadata": {
    "ExecuteTime": {
     "end_time": "2021-02-04T08:10:27.243139Z",
     "start_time": "2021-02-04T08:10:27.226186Z"
    }
   },
   "outputs": [],
   "source": [
    "temp"
   ]
  },
  {
   "cell_type": "code",
   "execution_count": 10,
   "metadata": {
    "ExecuteTime": {
     "end_time": "2021-02-05T01:37:11.077825Z",
     "start_time": "2021-02-05T01:37:10.795581Z"
    }
   },
   "outputs": [
    {
     "data": {
      "image/png": "[encoded data removed]",
      "text/plain": [
       "<Figure size 432x288 with 1 Axes>"
      ]
     },
     "metadata": {
      "needs_background": "light"
     },
     "output_type": "display_data"
    },
    {
     "data": {
      "image/png": "[encoded data removed]",
      "text/plain": [
       "<Figure size 1080x288 with 1 Axes>"
      ]
     },
     "metadata": {
      "needs_background": "light"
     },
     "output_type": "display_data"
    }
   ],
   "source": [
    "plt.plot(temp.index,temp[\"amount\"],marker='*',color='g')\n",
    "plt.title('온도별 판매액')\n",
    "plt.figure(figsize=(15,4))\n",
    "plt.grid(True)"
   ]
  },
  {
   "cell_type": "code",
   "execution_count": 16,
   "metadata": {
    "ExecuteTime": {
     "end_time": "2021-02-05T01:38:31.099207Z",
     "start_time": "2021-02-05T01:38:30.936641Z"
    }
   },
   "outputs": [
    {
     "data": {
      "image/png": "[encoded data removed]",
      "text/plain": [
       "<Figure size 432x288 with 1 Axes>"
      ]
     },
     "metadata": {
      "needs_background": "light"
     },
     "output_type": "display_data"
    }
   ],
   "source": [
    "plt.plot(install.index,install[\"평균기온(°C)\"],color='r')\n",
    "plt.title('기온별 할부')\n",
    "plt.show()"
   ]
  },
  {
   "cell_type": "code",
   "execution_count": 29,
   "metadata": {
    "ExecuteTime": {
     "end_time": "2021-02-05T01:43:56.681354Z",
     "start_time": "2021-02-05T01:43:56.416778Z"
    }
   },
   "outputs": [
    {
     "data": {
      "image/png": "[encoded data removed]",
      "text/plain": [
       "<Figure size 432x288 with 1 Axes>"
      ]
     },
     "metadata": {
      "needs_background": "light"
     },
     "output_type": "display_data"
    }
   ],
   "source": [
    "plt.plot(rain.index,rain[\"amount\"],marker='*',color='g')\n",
    "plt.title('강수량별 판매액')\n",
    "#plt.figure(figsize=(15,4))\n",
    "plt.grid(True)\n",
    "#plt.plot(rain.index,rain[\"imported\"],marker='^',color='b')"
   ]
  },
  {
   "cell_type": "code",
   "execution_count": null,
   "metadata": {
    "ExecuteTime": {
     "end_time": "2021-02-04T08:28:01.383946Z",
     "start_time": "2021-02-04T08:27:46.602977Z"
    }
   },
   "outputs": [],
   "source": [
    "plt.plot(time.index,time[\"amount\"],marker='*',color='g')\n",
    "plt.grid(True)"
   ]
  },
  {
   "cell_type": "code",
   "execution_count": 17,
   "metadata": {
    "ExecuteTime": {
     "end_time": "2021-02-05T01:38:58.096466Z",
     "start_time": "2021-02-05T01:38:57.912957Z"
    }
   },
   "outputs": [
    {
     "data": {
      "image/png": "[encoded data removed]",
      "text/plain": [
       "<Figure size 432x288 with 1 Axes>"
      ]
     },
     "metadata": {
      "needs_background": "light"
     },
     "output_type": "display_data"
    }
   ],
   "source": [
    "#plt.plot(install.index,install[\"amount\"],color='g')\n",
    "#plt.plot(install.index,install[\"평균기온(°C)\"],color='r')\n",
    "plt.title('강수량별 할부')\n",
    "plt.plot(install.index,install[\"일강수량(mm)\"],color='c')\n",
    "#plt.plot(install.index,install[\"gender\"],color='y')\n",
    "plt.grid(True)"
   ]
  },
  {
   "cell_type": "code",
   "execution_count": 18,
   "metadata": {
    "ExecuteTime": {
     "end_time": "2021-02-05T01:39:07.491384Z",
     "start_time": "2021-02-05T01:39:07.319843Z"
    }
   },
   "outputs": [
    {
     "data": {
      "image/png": "[encoded data removed]",
      "text/plain": [
       "<Figure size 432x288 with 1 Axes>"
      ]
     },
     "metadata": {
      "needs_background": "light"
     },
     "output_type": "display_data"
    }
   ],
   "source": [
    "plt.plot(install.index,install[\"imported\"],marker='*',color='r')\n",
    "plt.grid(True)"
   ]
  },
  {
   "cell_type": "code",
   "execution_count": 19,
   "metadata": {
    "ExecuteTime": {
     "end_time": "2021-02-05T01:39:35.856675Z",
     "start_time": "2021-02-05T01:39:17.555936Z"
    }
   },
   "outputs": [],
   "source": [
    "allset_data['date_time']= allset_data['date_time'].astype('str')\n",
    "allset_data['date_time']=pd.to_datetime(allset_data['date_time'])\n",
    "allset_data['time'] = allset_data['date_time'].dt.strftime('%H:%M')"
   ]
  },
  {
   "cell_type": "code",
   "execution_count": null,
   "metadata": {
    "ExecuteTime": {
     "end_time": "2021-02-04T07:57:32.011453Z",
     "start_time": "2021-02-04T07:57:31.981529Z"
    }
   },
   "outputs": [],
   "source": [
    "allset_data"
   ]
  },
  {
   "cell_type": "code",
   "execution_count": 20,
   "metadata": {
    "ExecuteTime": {
     "end_time": "2021-02-05T01:39:36.482000Z",
     "start_time": "2021-02-05T01:39:36.026219Z"
    }
   },
   "outputs": [],
   "source": [
    "map2 = allset_data.groupby([\"store\"]).sum()[\"amount\"]"
   ]
  },
  {
   "cell_type": "code",
   "execution_count": 21,
   "metadata": {
    "ExecuteTime": {
     "end_time": "2021-02-05T01:39:36.647582Z",
     "start_time": "2021-02-05T01:39:36.641597Z"
    }
   },
   "outputs": [
    {
     "data": {
      "text/plain": [
       "store\n",
       "무역점    50100759109\n",
       "본점     58254654493\n",
       "신촌점    33342154568\n",
       "천호점    28648151355\n",
       "Name: amount, dtype: int64"
      ]
     },
     "execution_count": 21,
     "metadata": {},
     "output_type": "execute_result"
    }
   ],
   "source": [
    "map2"
   ]
  },
  {
   "cell_type": "code",
   "execution_count": 22,
   "metadata": {
    "ExecuteTime": {
     "end_time": "2021-02-05T01:39:37.875512Z",
     "start_time": "2021-02-05T01:39:36.808152Z"
    }
   },
   "outputs": [
    {
     "data": {
      "text/html": [
       "<div style=\"width:100%;\"><div style=\"position:relative;width:100%;height:0;padding-bottom:60%;\"><span style=\"color:#565656\">Make this Notebook Trusted to load map: File -> Trust Notebook</span><iframe src=\"about:blank\" style=\"position:absolute;width:100%;height:100%;left:0;top:0;border:none !important;\" data-html=%3C%21DOCTYPE%20html%3E%0A%3Chead%3E%20%20%20%20%0A%20%20%20%20%3Cmeta%20http-equiv%3D%22content-type%22%20content%3D%22text/html%3B%20charset%3DUTF-8%22%20/%3E%0A%20%20%20%20%0A%20%20%20%20%20%20%20%20%3Cscript%3E%0A%20%20%20%20%20%20%20%20%20%20%20%20L_NO_TOUCH%20%3D%20false%3B%0A%20%20%20%20%20%20%20%20%20%20%20%20L_DISABLE_3D%20%3D%20false%3B%0A%20%20%20%20%20%20%20%20%3C/script%3E%0A%20%20%20%20%0A%20%20%20%20%3Cstyle%3Ehtml%2C%20body%20%7Bwidth%3A%20100%25%3Bheight%3A%20100%25%3Bmargin%3A%200%3Bpadding%3A%200%3B%7D%3C/style%3E%0A%20%20%20%20%3Cstyle%3E%23map%20%7Bposition%3Aabsolute%3Btop%3A0%3Bbottom%3A0%3Bright%3A0%3Bleft%3A0%3B%7D%3C/style%3E%0A%20%20%20%20%3Cscript%20src%3D%22https%3A//cdn.jsdelivr.net/npm/leaflet%401.6.0/dist/leaflet.js%22%3E%3C/script%3E%0A%20%20%20%20%3Cscript%20src%3D%22https%3A//code.jquery.com/jquery-1.12.4.min.js%22%3E%3C/script%3E%0A%20%20%20%20%3Cscript%20src%3D%22https%3A//maxcdn.bootstrapcdn.com/bootstrap/3.2.0/js/bootstrap.min.js%22%3E%3C/script%3E%0A%20%20%20%20%3Cscript%20src%3D%22https%3A//cdnjs.cloudflare.com/ajax/libs/Leaflet.awesome-markers/2.0.2/leaflet.awesome-markers.js%22%3E%3C/script%3E%0A%20%20%20%20%3Clink%20rel%3D%22stylesheet%22%20href%3D%22https%3A//cdn.jsdelivr.net/npm/leaflet%401.6.0/dist/leaflet.css%22/%3E%0A%20%20%20%20%3Clink%20rel%3D%22stylesheet%22%20href%3D%22https%3A//maxcdn.bootstrapcdn.com/bootstrap/3.2.0/css/bootstrap.min.css%22/%3E%0A%20%20%20%20%3Clink%20rel%3D%22stylesheet%22%20href%3D%22https%3A//maxcdn.bootstrapcdn.com/bootstrap/3.2.0/css/bootstrap-theme.min.css%22/%3E%0A%20%20%20%20%3Clink%20rel%3D%22stylesheet%22%20href%3D%22https%3A//maxcdn.bootstrapcdn.com/font-awesome/4.6.3/css/font-awesome.min.css%22/%3E%0A%20%20%20%20%3Clink%20rel%3D%22stylesheet%22%20href%3D%22https%3A//cdnjs.cloudflare.com/ajax/libs/Leaflet.awesome-markers/2.0.2/leaflet.awesome-markers.css%22/%3E%0A%20%20%20%20%3Clink%20rel%3D%22stylesheet%22%20href%3D%22https%3A//cdn.jsdelivr.net/gh/python-visualization/folium/folium/templates/leaflet.awesome.rotate.min.css%22/%3E%0A%20%20%20%20%0A%20%20%20%20%20%20%20%20%20%20%20%20%3Cmeta%20name%3D%22viewport%22%20content%3D%22width%3Ddevice-width%2C%0A%20%20%20%20%20%20%20%20%20%20%20%20%20%20%20%20initial-scale%3D1.0%2C%20maximum-scale%3D1.0%2C%20user-scalable%3Dno%22%20/%3E%0A%20%20%20%20%20%20%20%20%20%20%20%20%3Cstyle%3E%0A%20%20%20%20%20%20%20%20%20%20%20%20%20%20%20%20%23map_4a6ec5b322a844c38dd517a57f27aeb4%20%7B%0A%20%20%20%20%20%20%20%20%20%20%20%20%20%20%20%20%20%20%20%20position%3A%20relative%3B%0A%20%20%20%20%20%20%20%20%20%20%20%20%20%20%20%20%20%20%20%20width%3A%20100.0%25%3B%0A%20%20%20%20%20%20%20%20%20%20%20%20%20%20%20%20%20%20%20%20height%3A%20100.0%25%3B%0A%20%20%20%20%20%20%20%20%20%20%20%20%20%20%20%20%20%20%20%20left%3A%200.0%25%3B%0A%20%20%20%20%20%20%20%20%20%20%20%20%20%20%20%20%20%20%20%20top%3A%200.0%25%3B%0A%20%20%20%20%20%20%20%20%20%20%20%20%20%20%20%20%7D%0A%20%20%20%20%20%20%20%20%20%20%20%20%3C/style%3E%0A%20%20%20%20%20%20%20%20%0A%3C/head%3E%0A%3Cbody%3E%20%20%20%20%0A%20%20%20%20%0A%20%20%20%20%20%20%20%20%20%20%20%20%3Cdiv%20class%3D%22folium-map%22%20id%3D%22map_4a6ec5b322a844c38dd517a57f27aeb4%22%20%3E%3C/div%3E%0A%20%20%20%20%20%20%20%20%0A%3C/body%3E%0A%3Cscript%3E%20%20%20%20%0A%20%20%20%20%0A%20%20%20%20%20%20%20%20%20%20%20%20var%20map_4a6ec5b322a844c38dd517a57f27aeb4%20%3D%20L.map%28%0A%20%20%20%20%20%20%20%20%20%20%20%20%20%20%20%20%22map_4a6ec5b322a844c38dd517a57f27aeb4%22%2C%0A%20%20%20%20%20%20%20%20%20%20%20%20%20%20%20%20%7B%0A%20%20%20%20%20%20%20%20%20%20%20%20%20%20%20%20%20%20%20%20center%3A%20%5B37.5648836%2C%20127.0040849%5D%2C%0A%20%20%20%20%20%20%20%20%20%20%20%20%20%20%20%20%20%20%20%20crs%3A%20L.CRS.EPSG3857%2C%0A%20%20%20%20%20%20%20%20%20%20%20%20%20%20%20%20%20%20%20%20zoom%3A%2012%2C%0A%20%20%20%20%20%20%20%20%20%20%20%20%20%20%20%20%20%20%20%20zoomControl%3A%20true%2C%0A%20%20%20%20%20%20%20%20%20%20%20%20%20%20%20%20%20%20%20%20preferCanvas%3A%20false%2C%0A%20%20%20%20%20%20%20%20%20%20%20%20%20%20%20%20%7D%0A%20%20%20%20%20%20%20%20%20%20%20%20%29%3B%0A%0A%20%20%20%20%20%20%20%20%20%20%20%20%0A%0A%20%20%20%20%20%20%20%20%0A%20%20%20%20%0A%20%20%20%20%20%20%20%20%20%20%20%20var%20tile_layer_a1aebe9005154f1b812bbac3cfd700e3%20%3D%20L.tileLayer%28%0A%20%20%20%20%20%20%20%20%20%20%20%20%20%20%20%20%22https%3A//%7Bs%7D.tile.openstreetmap.org/%7Bz%7D/%7Bx%7D/%7By%7D.png%22%2C%0A%20%20%20%20%20%20%20%20%20%20%20%20%20%20%20%20%7B%22attribution%22%3A%20%22Data%20by%20%5Cu0026copy%3B%20%5Cu003ca%20href%3D%5C%22http%3A//openstreetmap.org%5C%22%5Cu003eOpenStreetMap%5Cu003c/a%5Cu003e%2C%20under%20%5Cu003ca%20href%3D%5C%22http%3A//www.openstreetmap.org/copyright%5C%22%5Cu003eODbL%5Cu003c/a%5Cu003e.%22%2C%20%22detectRetina%22%3A%20false%2C%20%22maxNativeZoom%22%3A%2018%2C%20%22maxZoom%22%3A%2018%2C%20%22minZoom%22%3A%200%2C%20%22noWrap%22%3A%20false%2C%20%22opacity%22%3A%201%2C%20%22subdomains%22%3A%20%22abc%22%2C%20%22tms%22%3A%20false%7D%0A%20%20%20%20%20%20%20%20%20%20%20%20%29.addTo%28map_4a6ec5b322a844c38dd517a57f27aeb4%29%3B%0A%20%20%20%20%20%20%20%20%0A%20%20%20%20%0A%20%20%20%20%20%20%20%20%20%20%20%20var%20circle_marker_913e022c0f094fdd97142af3a11b25ff%20%3D%20L.circleMarker%28%0A%20%20%20%20%20%20%20%20%20%20%20%20%20%20%20%20%5B37.548542%2C%20127.059766%5D%2C%0A%20%20%20%20%20%20%20%20%20%20%20%20%20%20%20%20%7B%22bubblingMouseEvents%22%3A%20true%2C%20%22color%22%3A%20%22blue%22%2C%20%22dashArray%22%3A%20null%2C%20%22dashOffset%22%3A%20null%2C%20%22fill%22%3A%20true%2C%20%22fillColor%22%3A%20%22blue%22%2C%20%22fillOpacity%22%3A%200.2%2C%20%22fillRule%22%3A%20%22evenodd%22%2C%20%22lineCap%22%3A%20%22round%22%2C%20%22lineJoin%22%3A%20%22round%22%2C%20%22opacity%22%3A%201.0%2C%20%22radius%22%3A%2050.100759109%2C%20%22stroke%22%3A%20true%2C%20%22weight%22%3A%203%7D%0A%20%20%20%20%20%20%20%20%20%20%20%20%29.addTo%28map_4a6ec5b322a844c38dd517a57f27aeb4%29%3B%0A%20%20%20%20%20%20%20%20%0A%20%20%20%20%0A%20%20%20%20%20%20%20%20var%20popup_b7567b1bb6a644e597ce97268cd23dcc%20%3D%20L.popup%28%7B%22maxWidth%22%3A%20%22100%25%22%7D%29%3B%0A%0A%20%20%20%20%20%20%20%20%0A%20%20%20%20%20%20%20%20%20%20%20%20var%20html_46fba0dae695478fa7276283048626a8%20%3D%20%24%28%60%3Cdiv%20id%3D%22html_46fba0dae695478fa7276283048626a8%22%20style%3D%22width%3A%20100.0%25%3B%20height%3A%20100.0%25%3B%22%3E%ED%98%84%EB%8C%80%EB%B0%B1%ED%99%94%EC%A0%90%20%EB%AC%B4%EC%97%AD%EC%A0%90%3C/div%3E%60%29%5B0%5D%3B%0A%20%20%20%20%20%20%20%20%20%20%20%20popup_b7567b1bb6a644e597ce97268cd23dcc.setContent%28html_46fba0dae695478fa7276283048626a8%29%3B%0A%20%20%20%20%20%20%20%20%0A%0A%20%20%20%20%20%20%20%20circle_marker_913e022c0f094fdd97142af3a11b25ff.bindPopup%28popup_b7567b1bb6a644e597ce97268cd23dcc%29%0A%20%20%20%20%20%20%20%20%3B%0A%0A%20%20%20%20%20%20%20%20%0A%20%20%20%20%0A%20%20%20%20%0A%20%20%20%20%20%20%20%20%20%20%20%20var%20circle_marker_f5497861e7c0410ea5f0ab4df7c0b751%20%3D%20L.circleMarker%28%0A%20%20%20%20%20%20%20%20%20%20%20%20%20%20%20%20%5B37.5272839%2C%20127.0272712%5D%2C%0A%20%20%20%20%20%20%20%20%20%20%20%20%20%20%20%20%7B%22bubblingMouseEvents%22%3A%20true%2C%20%22color%22%3A%20%22red%22%2C%20%22dashArray%22%3A%20null%2C%20%22dashOffset%22%3A%20null%2C%20%22fill%22%3A%20true%2C%20%22fillColor%22%3A%20%22red%22%2C%20%22fillOpacity%22%3A%200.2%2C%20%22fillRule%22%3A%20%22evenodd%22%2C%20%22lineCap%22%3A%20%22round%22%2C%20%22lineJoin%22%3A%20%22round%22%2C%20%22opacity%22%3A%201.0%2C%20%22radius%22%3A%2058.254654493%2C%20%22stroke%22%3A%20true%2C%20%22weight%22%3A%203%7D%0A%20%20%20%20%20%20%20%20%20%20%20%20%29.addTo%28map_4a6ec5b322a844c38dd517a57f27aeb4%29%3B%0A%20%20%20%20%20%20%20%20%0A%20%20%20%20%0A%20%20%20%20%20%20%20%20var%20popup_d9a62c2c304a4224b9661ff254157831%20%3D%20L.popup%28%7B%22maxWidth%22%3A%20%22100%25%22%7D%29%3B%0A%0A%20%20%20%20%20%20%20%20%0A%20%20%20%20%20%20%20%20%20%20%20%20var%20html_6ee724bb6cd34c59ae1c7a437a8127f5%20%3D%20%24%28%60%3Cdiv%20id%3D%22html_6ee724bb6cd34c59ae1c7a437a8127f5%22%20style%3D%22width%3A%20100.0%25%3B%20height%3A%20100.0%25%3B%22%3E%ED%98%84%EB%8C%80%EB%B0%B1%ED%99%94%EC%A0%90%20%EB%B3%B8%EC%A0%90%3C/div%3E%60%29%5B0%5D%3B%0A%20%20%20%20%20%20%20%20%20%20%20%20popup_d9a62c2c304a4224b9661ff254157831.setContent%28html_6ee724bb6cd34c59ae1c7a437a8127f5%29%3B%0A%20%20%20%20%20%20%20%20%0A%0A%20%20%20%20%20%20%20%20circle_marker_f5497861e7c0410ea5f0ab4df7c0b751.bindPopup%28popup_d9a62c2c304a4224b9661ff254157831%29%0A%20%20%20%20%20%20%20%20%3B%0A%0A%20%20%20%20%20%20%20%20%0A%20%20%20%20%0A%20%20%20%20%0A%20%20%20%20%20%20%20%20%20%20%20%20var%20circle_marker_63889baf17f64ca4802ac419c98d5462%20%3D%20L.circleMarker%28%0A%20%20%20%20%20%20%20%20%20%20%20%20%20%20%20%20%5B37.55597487122165%2C%20126.93569572544772%5D%2C%0A%20%20%20%20%20%20%20%20%20%20%20%20%20%20%20%20%7B%22bubblingMouseEvents%22%3A%20true%2C%20%22color%22%3A%20%22yellow%22%2C%20%22dashArray%22%3A%20null%2C%20%22dashOffset%22%3A%20null%2C%20%22fill%22%3A%20true%2C%20%22fillColor%22%3A%20%22yellow%22%2C%20%22fillOpacity%22%3A%200.2%2C%20%22fillRule%22%3A%20%22evenodd%22%2C%20%22lineCap%22%3A%20%22round%22%2C%20%22lineJoin%22%3A%20%22round%22%2C%20%22opacity%22%3A%201.0%2C%20%22radius%22%3A%2033.342154568%2C%20%22stroke%22%3A%20true%2C%20%22weight%22%3A%203%7D%0A%20%20%20%20%20%20%20%20%20%20%20%20%29.addTo%28map_4a6ec5b322a844c38dd517a57f27aeb4%29%3B%0A%20%20%20%20%20%20%20%20%0A%20%20%20%20%0A%20%20%20%20%20%20%20%20var%20popup_1e9c9e067a0046a9855d09b283fc49f5%20%3D%20L.popup%28%7B%22maxWidth%22%3A%20%22100%25%22%7D%29%3B%0A%0A%20%20%20%20%20%20%20%20%0A%20%20%20%20%20%20%20%20%20%20%20%20var%20html_8d531d1618e742daaf0d4b625df6416c%20%3D%20%24%28%60%3Cdiv%20id%3D%22html_8d531d1618e742daaf0d4b625df6416c%22%20style%3D%22width%3A%20100.0%25%3B%20height%3A%20100.0%25%3B%22%3E%ED%98%84%EB%8C%80%EB%B0%B1%ED%99%94%EC%A0%90%20%EC%8B%A0%EC%B4%8C%EC%A0%90%3C/div%3E%60%29%5B0%5D%3B%0A%20%20%20%20%20%20%20%20%20%20%20%20popup_1e9c9e067a0046a9855d09b283fc49f5.setContent%28html_8d531d1618e742daaf0d4b625df6416c%29%3B%0A%20%20%20%20%20%20%20%20%0A%0A%20%20%20%20%20%20%20%20circle_marker_63889baf17f64ca4802ac419c98d5462.bindPopup%28popup_1e9c9e067a0046a9855d09b283fc49f5%29%0A%20%20%20%20%20%20%20%20%3B%0A%0A%20%20%20%20%20%20%20%20%0A%20%20%20%20%0A%20%20%20%20%0A%20%20%20%20%20%20%20%20%20%20%20%20var%20circle_marker_35e65b0ec85c4bb3866425358235c5af%20%3D%20L.circleMarker%28%0A%20%20%20%20%20%20%20%20%20%20%20%20%20%20%20%20%5B37.538818%2C%20127.124374%5D%2C%0A%20%20%20%20%20%20%20%20%20%20%20%20%20%20%20%20%7B%22bubblingMouseEvents%22%3A%20true%2C%20%22color%22%3A%20%22green%22%2C%20%22dashArray%22%3A%20null%2C%20%22dashOffset%22%3A%20null%2C%20%22fill%22%3A%20true%2C%20%22fillColor%22%3A%20%22green%22%2C%20%22fillOpacity%22%3A%200.2%2C%20%22fillRule%22%3A%20%22evenodd%22%2C%20%22lineCap%22%3A%20%22round%22%2C%20%22lineJoin%22%3A%20%22round%22%2C%20%22opacity%22%3A%201.0%2C%20%22radius%22%3A%2028.648151355%2C%20%22stroke%22%3A%20true%2C%20%22weight%22%3A%203%7D%0A%20%20%20%20%20%20%20%20%20%20%20%20%29.addTo%28map_4a6ec5b322a844c38dd517a57f27aeb4%29%3B%0A%20%20%20%20%20%20%20%20%0A%20%20%20%20%0A%20%20%20%20%20%20%20%20var%20popup_4c7fce7d0af64ab7a80df44509bcfe8b%20%3D%20L.popup%28%7B%22maxWidth%22%3A%20%22100%25%22%7D%29%3B%0A%0A%20%20%20%20%20%20%20%20%0A%20%20%20%20%20%20%20%20%20%20%20%20var%20html_71cfbdb7106c4129b16499383d83d1ab%20%3D%20%24%28%60%3Cdiv%20id%3D%22html_71cfbdb7106c4129b16499383d83d1ab%22%20style%3D%22width%3A%20100.0%25%3B%20height%3A%20100.0%25%3B%22%3E%ED%98%84%EB%8C%80%EB%B0%B1%ED%99%94%EC%A0%90%20%EC%B2%9C%ED%98%B8%EC%A0%90%3C/div%3E%60%29%5B0%5D%3B%0A%20%20%20%20%20%20%20%20%20%20%20%20popup_4c7fce7d0af64ab7a80df44509bcfe8b.setContent%28html_71cfbdb7106c4129b16499383d83d1ab%29%3B%0A%20%20%20%20%20%20%20%20%0A%0A%20%20%20%20%20%20%20%20circle_marker_35e65b0ec85c4bb3866425358235c5af.bindPopup%28popup_4c7fce7d0af64ab7a80df44509bcfe8b%29%0A%20%20%20%20%20%20%20%20%3B%0A%0A%20%20%20%20%20%20%20%20%0A%20%20%20%20%0A%3C/script%3E onload=\"this.contentDocument.open();this.contentDocument.write(    decodeURIComponent(this.getAttribute('data-html')));this.contentDocument.close();\" allowfullscreen webkitallowfullscreen mozallowfullscreen></iframe></div></div>"
      ],
      "text/plain": [
       "<folium.folium.Map at 0x1fab7894940>"
      ]
     },
     "execution_count": 22,
     "metadata": {},
     "output_type": "execute_result"
    }
   ],
   "source": [
    "import folium\n",
    "map_osm = folium.Map(location=[37.5648836,127.0040849],zoom_start=12)\n",
    "folium.CircleMarker([37.548542, 127.059766],radius=50100759109/1000000000#무역\n",
    "                        ,popup='현대백화점 무역점',color='blue',fill=True).add_to(map_osm)\n",
    "folium.CircleMarker([37.5272839,127.0272712],radius=58254654493/1000000000#본점\n",
    "                        ,popup='현대백화점 본점',color='red',fill=True).add_to(map_osm)\n",
    "folium.CircleMarker([37.55597487122165,126.93569572544772],radius=33342154568/1000000000#신촌\n",
    "                        ,popup='현대백화점 신촌점',color='yellow',fill=True).add_to(map_osm)\n",
    "folium.CircleMarker([37.538818, 127.124374],radius=28648151355/1000000000#천호\n",
    "                        ,popup='현대백화점 천호점',color='green',fill=True).add_to(map_osm)\n",
    "map_osm"
   ]
  },
  {
   "cell_type": "code",
   "execution_count": null,
   "metadata": {
    "ExecuteTime": {
     "end_time": "2021-02-04T10:13:41.329286Z",
     "start_time": "2021-02-04T10:13:35.743038Z"
    }
   },
   "outputs": [],
   "source": []
  },
  {
   "cell_type": "code",
   "execution_count": null,
   "metadata": {
    "ExecuteTime": {
     "end_time": "2021-02-04T11:00:35.090331Z",
     "start_time": "2021-02-04T11:00:35.085344Z"
    }
   },
   "outputs": [],
   "source": [
    "t=['월','화','수','목','금','토',\"일\"]\n",
    "import datetime\n",
    "r=datetime.datetime.today().weekday()\n",
    "print(t[r])"
   ]
  },
  {
   "cell_type": "code",
   "execution_count": null,
   "metadata": {},
   "outputs": [],
   "source": []
  }
 ],
 "metadata": {
  "kernelspec": {
   "display_name": "Python 3",
   "language": "python",
   "name": "python3"
  },
  "language_info": {
   "codemirror_mode": {
    "name": "ipython",
    "version": 3
   },
   "file_extension": ".py",
   "mimetype": "text/x-python",
   "name": "python",
   "nbconvert_exporter": "python",
   "pygments_lexer": "ipython3",
   "version": "3.8.5"
  },
  "toc": {
   "base_numbering": 1,
   "nav_menu": {},
   "number_sections": true,
   "sideBar": true,
   "skip_h1_title": false,
   "title_cell": "Table of Contents",
   "title_sidebar": "Contents",
   "toc_cell": false,
   "toc_position": {},
   "toc_section_display": true,
   "toc_window_display": false
  },
  "varInspector": {
   "cols": {
    "lenName": 16,
    "lenType": 16,
    "lenVar": 40
   },
   "kernels_config": {
    "python": {
     "delete_cmd_postfix": "",
     "delete_cmd_prefix": "del ",
     "library": "var_list.py",
     "varRefreshCmd": "print(var_dic_list())"
    },
    "r": {
     "delete_cmd_postfix": ") ",
     "delete_cmd_prefix": "rm(",
     "library": "var_list.r",
     "varRefreshCmd": "cat(var_dic_list()) "
    }
   },
   "types_to_exclude": [
    "module",
    "function",
    "builtin_function_or_method",
    "instance",
    "_Feature"
   ],
   "window_display": false
  }
 },
 "nbformat": 4,
 "nbformat_minor": 4
}
