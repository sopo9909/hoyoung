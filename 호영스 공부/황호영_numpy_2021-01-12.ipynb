{
 "cells": [
  {
   "cell_type": "markdown",
   "metadata": {},
   "source": [
    "## 넘파이를 한번 해보자구나"
   ]
  },
  {
   "cell_type": "markdown",
   "metadata": {},
   "source": [
    "## 1.배열 생성"
   ]
  },
  {
   "cell_type": "code",
   "execution_count": null,
   "metadata": {},
   "outputs": [],
   "source": [
    "import numpy as np # 호영\n",
    "arr = [1,2,3] # 배열 만들기 - 그대로 넣어도 됨\n",
    "a = np.array([1,2,3])\n",
    "print(a)\n",
    "b = np.array(arr)\n",
    "print(b)"
   ]
  },
  {
   "cell_type": "code",
   "execution_count": null,
   "metadata": {},
   "outputs": [],
   "source": [
    "arr = [(1,2,3),(4,5,6)]\n",
    "a = np.array(arr,dtype = float) # dtype은 변수의 형태를 바꿔줌\n",
    "print(a)"
   ]
  },
  {
   "cell_type": "code",
   "execution_count": null,
   "metadata": {},
   "outputs": [],
   "source": [
    "arr = np.array([[[1,2,3], [4,5,6]], [[3,2,1], [4,5,6]]], dtype = float) # 앞에서 시작해서 [ 갯수를 세면, 그것이 바로 n차원\n",
    "a= np.array(arr, dtype = float)\n",
    "print(a)"
   ]
  },
  {
   "cell_type": "markdown",
   "metadata": {},
   "source": [
    "## 2.생성 및 초기화 - zero, one , full ,eye(단위행렬), empty(물어봐야함), like(행렬크기 같게)"
   ]
  },
  {
   "cell_type": "code",
   "execution_count": null,
   "metadata": {},
   "outputs": [],
   "source": [
    "a = np.zeros((3, 4))\n",
    "print(a) # 다 0 넣기\n",
    "\n",
    "a = np.ones((1,2,3),dtype=np.int16)\n",
    "print(a) # 다 1 넣기\n",
    "\n",
    "a = np.full((2,2),7)\n",
    "print(a) # 뒷 값을 모든 행렬에 넣기\n",
    "\n",
    "print(np.eye(4)) # 단위행렬\n",
    "\n",
    "a = np.empty((4,2))\n",
    "print(a) # 기존 메모리 값을 사용?!?!?!?!????????????????\n",
    "\n",
    "a = np.array([[1,2,3], [4,5,6]])\n",
    "b = np.full_like(a,2) #a처럼 행렬 만들고 거기에 지정한 함수처럼 값 넣는 것\n",
    "print(b)\n",
    "\n"
   ]
  },
  {
   "cell_type": "markdown",
   "metadata": {},
   "source": [
    "## 3.데이터 생성 하기 -np.linspace(s,e,n) , np.arrange(s,e,n), np.logspace(s,e,n)"
   ]
  },
  {
   "cell_type": "code",
   "execution_count": null,
   "metadata": {},
   "outputs": [],
   "source": [
    "a = np.linspace(0, 55, 24)\n",
    "print(a)#처음 끝 값 분별\n",
    "\n",
    "a = np.arrange(5,10,1)\n",
    "print(a) # n씩 증가하는 법\n",
    "\n",
    "a = np.logspace(0.1, 1, 20, endpoint=True)\n",
    "print(a) # y=log(s) y값이 나옴\n"
   ]
  },
  {
   "cell_type": "markdown",
   "metadata": {},
   "source": [
    "## 4.난수 기반 배열 생성 -random -> normal(정규),rand(사이),randn(사이+정규),randint(최소,최대),random(0~1 무작위)"
   ]
  },
  {
   "cell_type": "code",
   "execution_count": null,
   "metadata": {},
   "outputs": [],
   "source": [
    "a = np.random.normal(0, 1, (2, 3))\n",
    "print(a)# 정규분포 - 중앙 집중\n",
    "\n",
    "a = np.random.rand(3,2)\n",
    "print(a)#균등 분포\n",
    "\n",
    "a = np.random.randn(2, 4)\n",
    "print(a)#정규분포의 표본  - 중앙 집중\n",
    "\n",
    "a = np.random.randint(5, 10, size=(2, 4))\n",
    "print(a)#사이의 정규분포 - 시작과 끝 균등\n",
    "\n",
    "a = np.random.random((2, 4))\n",
    "print(a)#균등하게 0~1 사이를 만들어 줌 \n"
   ]
  },
  {
   "cell_type": "markdown",
   "metadata": {},
   "source": [
    "## 5.약속된 난수 - seed 써서 난수 한번만 뽑기"
   ]
  },
  {
   "cell_type": "code",
   "execution_count": null,
   "metadata": {},
   "outputs": [],
   "source": [
    "np.random.randint(0, 10, (2, 3)) # 0~10까지 무작위\n",
    "np.random.seed(100)#난수 반복\n",
    "np.random.randint(0, 10, (2, 3))"
   ]
  },
  {
   "cell_type": "markdown",
   "metadata": {},
   "source": [
    "## 6.배열 안의 수 찾기 #complex는 복소수 =실수+허수"
   ]
  },
  {
   "cell_type": "code",
   "execution_count": null,
   "metadata": {},
   "outputs": [],
   "source": [
    "arr = np.random.random((5,2,3))# 아무 배열 설정\n",
    "arr.shape#배열의 모양 확인 -> x는 5개 ,y는 2개, z는 3개\n",
    "len(arr) #가장 첫번째, x값을 찾기\n",
    "arr.ndim#차원 수 -> 5,2,3이니 3차원\n",
    "arr.size#모든 요소 수->5*2*3\n",
    "arr.itemsize#type의 사이즈 ->float =64 /8 ->int =64 /8 \n",
    "arr.astype(np.int)#배열 타입을 int로 바꿈"
   ]
  },
  {
   "cell_type": "markdown",
   "metadata": {},
   "source": [
    "## 7.산술연산 계산하기 - 다 각 [],[]이 맞는 것 끼리 더하고 곱해짐"
   ]
  },
  {
   "cell_type": "code",
   "execution_count": null,
   "metadata": {},
   "outputs": [],
   "source": [
    "a = np.arange(1, 10).reshape(3, 3) # 1~9까지 만들고 3*3행렬로 만들기\n",
    "b = np.arange(9, 0, -1).reshape(3, 3)\n",
    "np.subtract(a, b) #a-b\n",
    "np.add(a, b) #a+b\n",
    "np.divide(a, b) #a/b\n",
    "np.multiply(a, b) #a*b\n",
    "np.exp(b) #지수함수 e의 x승\n",
    "np.sqrt(a) #제곱근 - 루트\n",
    "np.sin(a) #사인 - 이것부터 나의 영역이 아니담...."
   ]
  },
  {
   "cell_type": "markdown",
   "metadata": {},
   "source": [
    "## 8.비교연산 하기 -> True or False 로 나옴 Axis =0은 열,1은 행"
   ]
  },
  {
   "cell_type": "code",
   "execution_count": null,
   "metadata": {},
   "outputs": [],
   "source": [
    "a==b#각 요소들을 비교하여 요소만큼 만들어줌\n",
    "a>b #각 요소들을 비교하긋지. 따로 저장도 가능\n",
    "a.sum(axis=0), np.sum(a, axis=0)#한 열을 다 합쳐서 나옴 ->결과값은 열의 갯수만큼\n",
    "a.sum(axis=1), np.sum(a, axis=1)#한 행을 다 합쳐서 나옴 ->결과값은 당연히 행 갯수\n",
    "a.min()#최솟값\n",
    "a.max()#최댓값\n",
    "a.mean(), np.mean(a)#평균\n",
    "np.median(a) #중간값 정렬해서 가장 중앙값\n",
    "a.cumsum(), np.cumsum(a)#누적합 ->이렇게 읽음 \n",
    "a.cumsum(axis=0), np.cumsum(a, axis=0) # 열기준으로 누적\n",
    "a.cumsum(axis=1), np.cumsum(a, axis=1) # 행기준으로 누적"
   ]
  },
  {
   "cell_type": "markdown",
   "metadata": {},
   "source": [
    "## 9. 가장 어려운 벡터 연산 ->머신러닝에서 빠르데"
   ]
  },
  {
   "cell_type": "markdown",
   "metadata": {},
   "source": [
    "이때 활용되는 것이 바로 벡터(vector)입니다.\n",
    "\n",
    "벡터란 공간에서 크기와 방향을 가지는 것을 의미하며, 위의 그림에서는 별모양과 원모양의 점들이 바로 하나하나의 벡터가 되는 것입니다.\n",
    "\n",
    "또한, 특정 벡터들이 모여 있는 것을 특징량이라고 부르며, 머신러닝에서는 바로 이 특징량을 바탕으로 벡터들을 서로 구분하게 됩니다.\n",
    "\n",
    " "
   ]
  },
  {
   "cell_type": "code",
   "execution_count": null,
   "metadata": {},
   "outputs": [],
   "source": [
    "a = np.arange(10000000)# 근데 이게 왜 벡터인지 모르겠음\n",
    "result = 0\n",
    "for v in a:#그냥 for문으로 더한 것 \n",
    "  result += v\n",
    "result = np.sum(a) #넘파이로 계산"
   ]
  },
  {
   "cell_type": "markdown",
   "metadata": {},
   "source": [
    "## 10. 배열 정렬"
   ]
  },
  {
   "cell_type": "code",
   "execution_count": null,
   "metadata": {},
   "outputs": [],
   "source": [
    "unsorted_arr = np.random.random((3, 3))\n",
    "unsorted_arr1 = unsorted_arr.copy()\n",
    "unsorted_arr1.sort()#axis = 1이랑 같음\n",
    "print(unsorted_arr1)\n",
    "unsorted_arr2 = unsorted_arr.copy()\n",
    "unsorted_arr2.sort(axis=0)\n",
    "pprint(unsorted_arr2)#axis = 0 열로 쭉 정렬"
   ]
  },
  {
   "cell_type": "markdown",
   "metadata": {},
   "source": [
    "## 11. 배열 조회"
   ]
  },
  {
   "cell_type": "code",
   "execution_count": null,
   "metadata": {},
   "outputs": [],
   "source": [
    "a[5] #a의 인덱스 5의 값 조회\n",
    "a[0, 1] # 0->행, 1->열\n",
    "a[1:3, 1:5]#2번째 행부터 3번째까지 , 2번째 열부터 5번째 열까지 ->뽑아옴:슬라이싱\n",
    "a[:, 1:3]#행 다 가져오기, 2번째 열부터 4번째까지 "
   ]
  },
  {
   "cell_type": "markdown",
   "metadata": {},
   "source": [
    "## 12. 참,거짓으로 만들기"
   ]
  },
  {
   "cell_type": "code",
   "execution_count": null,
   "metadata": {},
   "outputs": [],
   "source": [
    "a1 = np.arange(1, 25).reshape((4, 6))\n",
    "even_arr = a1%2==0\n",
    "a1[even_arr]# 2차원에서 1차원으로 바껴서 결과값 출력\n",
    "#####응용\n",
    "days_arr = np.arange(0, 365)\n",
    "condition_jan = days_arr < 31 # 일월에 31일이니까 0~30까지\n",
    "condition_jan[:40] # 일월에 포함되는지 안 되는지\n",
    "rains_jan = rains_arr[condition_jan]# 1월이 맞으면 나오겠지??\n",
    "len(rains_jan)#1월의 길이는 \n",
    "np.sum(rains_jan)#강수량 총합 - 1월이니까\n",
    "##팬시 ~~ 우우우우\n",
    "arr = np.arange(1, 25).reshape((4, 6))\n",
    "arr[[0, 1, 2, 3], [0, 1, 2, 3]] # =====[arr[0,0], arr[1, 1], arr[2, 2], arr[3, 3]]"
   ]
  },
  {
   "cell_type": "markdown",
   "metadata": {},
   "source": [
    "## 13. 팬시 ~~ 우우우우"
   ]
  },
  {
   "cell_type": "code",
   "execution_count": null,
   "metadata": {},
   "outputs": [],
   "source": [
    "arr = np.arange(1, 25).reshape((4, 6))\n",
    "arr[[0, 1, 2, 3], [0, 1, 2, 3]] # =====[arr[0,0], arr[1, 1], arr[2, 2], arr[3, 3]]\n",
    "arr[:, [1, 2]] # 전체 행에 대해서, 1, 2번 컬럼 참조"
   ]
  },
  {
   "cell_type": "markdown",
   "metadata": {},
   "source": [
    "## 14.ravel() - 다차원을 1차원으로 만들어줌 - 인덱스 순으로 나옴"
   ]
  },
  {
   "cell_type": "code",
   "execution_count": null,
   "metadata": {},
   "outputs": [],
   "source": [
    "a = np.random.randint(1, 10, (2, 3))\n",
    "a.ravel()"
   ]
  },
  {
   "cell_type": "markdown",
   "metadata": {},
   "source": [
    "## 15.resize() - 행렬 틀 변경 ,append"
   ]
  },
  {
   "cell_type": "code",
   "execution_count": null,
   "metadata": {},
   "outputs": [],
   "source": [
    "a = np.random.randint(1, 10, (2, 6))\n",
    "a.resize((2, 10)) # 인덱스가 모자란 아이들은 0으로 채워진담\n",
    "a.resize((3, 3)) # 축소하면 그 이상이 지워짐\n",
    "a = np.arange(1, 10).reshape(3, 3)\n",
    "b = np.arange(10, 19).reshape(3, 3)\n",
    "result = np.append(a, b)## axis 안 넣으면 1차원으로 만들어짐\n",
    "result = np.append(a, b, axis=0) ## 2차원으로 뒤에 더해짐\n",
    "result = np.append(a, b, axis=1) ## 1차원 뒤에 추가가 됨"
   ]
  },
  {
   "cell_type": "markdown",
   "metadata": {},
   "source": [
    "## 16.insert - 넣고 싶은 곳에 삽입 ->삭제하거나 바꾸지 않고 그냥 삽입 "
   ]
  },
  {
   "cell_type": "code",
   "execution_count": null,
   "metadata": {},
   "outputs": [],
   "source": [
    "a = np.arange(1, 10).reshape(3, 3)\n",
    "np.insert(a, 1, 999)### axis 안 하면 1차원으로 \n",
    "np.insert(a, 1, 999, axis=0) ###1행에 모두 999 넣음\n",
    "np.insert(a, 1, 999, axis=1) ###1열에 모두 999 넣음"
   ]
  },
  {
   "cell_type": "markdown",
   "metadata": {},
   "source": [
    "## 17.concatenate - 행렬 결합 "
   ]
  },
  {
   "cell_type": "code",
   "execution_count": null,
   "metadata": {},
   "outputs": [],
   "source": [
    "a = np.arange(1, 7).reshape((2, 3))\n",
    "b = np.arange(7, 13).reshape((2, 3))\n",
    "result = np.concatenate((a, b)) # 기본이 axis = 0 그냥 아래에 합쳐짐\n",
    "result = np.concatenate((a, b), axis=1) # 같은 리스트 안에 들어감"
   ]
  },
  {
   "cell_type": "markdown",
   "metadata": {},
   "source": [
    "## 18.그외"
   ]
  },
  {
   "cell_type": "code",
   "execution_count": null,
   "metadata": {},
   "outputs": [],
   "source": [
    "def f(x,y):\n",
    "    return 10*x+y\n",
    "b = np.fromfunction(f,(5,4),dtype=int)\n",
    "for row in b:#한 행씩 뽑기\n",
    "    print(row)\n",
    "for element in b.flat:\n",
    "    print(element)#요소 하나하나 차례대로 뽑기"
   ]
  }
 ],
 "metadata": {
  "kernelspec": {
   "display_name": "Python 3",
   "language": "python",
   "name": "python3"
  },
  "language_info": {
   "codemirror_mode": {
    "name": "ipython",
    "version": 3
   },
   "file_extension": ".py",
   "mimetype": "text/x-python",
   "name": "python",
   "nbconvert_exporter": "python",
   "pygments_lexer": "ipython3",
   "version": "3.8.5"
  }
 },
 "nbformat": 4,
 "nbformat_minor": 4
}
