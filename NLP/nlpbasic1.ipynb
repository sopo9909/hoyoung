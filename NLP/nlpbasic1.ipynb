{
 "cells": [
  {
   "cell_type": "markdown",
   "id": "royal-signature",
   "metadata": {},
   "source": [
    "#### NLP( 자연어 처리 )\n",
    "* BOW (Bag of words)\n",
    "    - Word Count\n",
    "        - 단어수 기반의 맵을 만들어서 의미 분석\n",
    "* 단어를 수집하여 문장의 특성을 파악\n",
    "- 아버지가방에들어가신다\n",
    "- 형태소분석 > 의미 분석\n",
    "    - 형태소 분석기: konlpy\n",
    "        - mecab\n",
    "        - kkma\n"
   ]
  },
  {
   "cell_type": "raw",
   "id": "tracked-steps",
   "metadata": {},
   "source": [
    "#자바 먼저 설치\n",
    "# JAVA_HOME 설정\n",
    "!pip install jpype-py3"
   ]
  },
  {
   "cell_type": "raw",
   "id": "critical-sewing",
   "metadata": {},
   "source": [
    "!pip install konlpy"
   ]
  },
  {
   "cell_type": "code",
   "execution_count": 4,
   "id": "extraordinary-majority",
   "metadata": {},
   "outputs": [
    {
     "name": "stdout",
     "output_type": "stream",
     "text": [
      "^C\n",
      "Note: you may need to restart the kernel to use updated packages.\n"
     ]
    }
   ],
   "source": [
    "pip install eunjeon"
   ]
  },
  {
   "cell_type": "code",
   "execution_count": 37,
   "id": "plastic-creature",
   "metadata": {},
   "outputs": [],
   "source": [
    "from konlpy.tag import Kkma"
   ]
  },
  {
   "cell_type": "code",
   "execution_count": 38,
   "id": "psychological-white",
   "metadata": {},
   "outputs": [],
   "source": [
    "kkma=Kkma()"
   ]
  },
  {
   "cell_type": "raw",
   "id": "limiting-ownership",
   "metadata": {},
   "source": [
    "fname='Data/ys.txt'\n",
    "with open(fname,'r',encoding='utf-8') as f:\n",
    "    res=f.readlines() \n",
    "len(res)"
   ]
  },
  {
   "cell_type": "code",
   "execution_count": 51,
   "id": "funky-joshua",
   "metadata": {},
   "outputs": [],
   "source": [
    "# 전체 텍스트 데이터로 부터 전체에 영햐을 주는 단어 맵을 생성\n",
    "res=\"\"\"\n",
    "SK하이닉스의 인텔 낸드 사업부 인수와 관련한 미국 당국의 모든 규제 심사가 마무리됐다.\n",
    "SK하이닉스는 미국 외국인투자심의위원회(CFIUS, Committee on Foreign Investment in the United States)의 투자 심의에서 ‘승인’ 통보를 받았다고 12일 밝혔다. 미국에서는 CFIUS와 함께 연방통상위원회(FTC, Federal Trade Commission)까지 2개 기관에서 심사를 받았다. FTC로부터는 지난해 연말 반독점 심사를 통과했다.\n",
    "SK하이닉스는 이번 CFIUS의 투자 승인을 끝으로 인텔 낸드 사업부 인수와 관련한 미국 규제 심사 절차를 모두 마쳤다. 회사는 “CFIUS 승인은 SK하이닉스의 인텔 인수 과정에서 중요한 이정표”라며 “인텔의 낸드 사업 인수를 통해 메모리 기술을 보완하고 글로벌 역량과 영향력을 확장시킬 것”이라고 밝혔다.\n",
    "SK하이닉스는 지난해 10월 90억 달러(약 10조3,000억원)에 인텔 낸드 사업부를 인수하는 계약을 체결했으며, 이후 이 계약에 대해 미국, 중국 등 주요 국가들의 반독점 심사가 진행됐다.\n",
    "SK하이닉스는 올해 말까지 주요국 심사가 모두 마무리되면 인텔 측에 1차로 70억 달러를 지불하고 사업을 이전받게 된다. 이후 2025년 초 남은 20억 달러를 넘겨주면 인텔 낸드 사업부 인수를 마무리하게 된다. SK하이닉스는 이번 인수를 통해 D램과 비교해 상대적으로 부진한 낸드 플래시 사업의 경쟁력을 끌어올릴 수 있을 것으로 기대하고 있다.\n",
    "\"\"\""
   ]
  },
  {
   "cell_type": "code",
   "execution_count": 52,
   "id": "tribal-lending",
   "metadata": {
    "jupyter": {
     "source_hidden": true
    }
   },
   "outputs": [],
   "source": [
    "jres=res.replace('SK하이닉스','선경')\n",
    "p=kkma.pos(jres)\n",
    "#len(jres)"
   ]
  },
  {
   "cell_type": "code",
   "execution_count": 78,
   "id": "human-assault",
   "metadata": {},
   "outputs": [],
   "source": [
    "def nlppos(txt):\n",
    "    p=kkma.pos(txt)\n",
    "    dictpos={}\n",
    "    check=['NNG','NNP','NNB','NNM','VV','VA','VXV','VXA']\n",
    "    for  w,pos in p:\n",
    "        if(pos in check):\n",
    "            if (w in dictpos.keys()):\n",
    "                dictpos[w]+=1\n",
    "            else:\n",
    "                dictpos[w]=1\n",
    "    return dictpos            "
   ]
  },
  {
   "cell_type": "code",
   "execution_count": 79,
   "id": "inappropriate-baking",
   "metadata": {},
   "outputs": [
    {
     "data": {
      "text/plain": [
       "86"
      ]
     },
     "execution_count": 79,
     "metadata": {},
     "output_type": "execute_result"
    }
   ],
   "source": [
    "\n",
    "dictpos=nlppos(res)\n",
    "len(list(dictpos))"
   ]
  },
  {
   "cell_type": "code",
   "execution_count": 97,
   "id": "piano-branch",
   "metadata": {
    "collapsed": true,
    "jupyter": {
     "outputs_hidden": true
    }
   },
   "outputs": [
    {
     "data": {
      "text/plain": [
       "['하이닉스',\n",
       " '인텔',\n",
       " '사업부',\n",
       " '인수',\n",
       " '관련',\n",
       " '미국',\n",
       " '당국',\n",
       " '모든',\n",
       " '규제',\n",
       " '심사',\n",
       " '마무리',\n",
       " '외국인',\n",
       " '투자',\n",
       " '심의',\n",
       " '위원회',\n",
       " '의',\n",
       " '승인',\n",
       " '통보',\n",
       " '받',\n",
       " '일',\n",
       " '밝히',\n",
       " '연방',\n",
       " '통상',\n",
       " '개',\n",
       " '기관',\n",
       " '터',\n",
       " '지난해',\n",
       " '연말',\n",
       " '반',\n",
       " '독점',\n",
       " '통과',\n",
       " '이번',\n",
       " '끝',\n",
       " '절차',\n",
       " '마치',\n",
       " '회사',\n",
       " '과정',\n",
       " '중요',\n",
       " '이정표',\n",
       " '라',\n",
       " '사업',\n",
       " '통하',\n",
       " '메모리',\n",
       " '기술',\n",
       " '보완',\n",
       " '글로벌',\n",
       " '역량',\n",
       " '영향력',\n",
       " '확장',\n",
       " '것',\n",
       " '월',\n",
       " '달러',\n",
       " '약',\n",
       " '원',\n",
       " '계약',\n",
       " '체결',\n",
       " '이후',\n",
       " '이',\n",
       " '대하',\n",
       " '중국',\n",
       " '등',\n",
       " '주요',\n",
       " '국가',\n",
       " '진행',\n",
       " '올해',\n",
       " '말',\n",
       " '주요국',\n",
       " '측',\n",
       " '차',\n",
       " '지불',\n",
       " '이전',\n",
       " '되',\n",
       " '년',\n",
       " '초',\n",
       " '남',\n",
       " '넘겨주',\n",
       " '램',\n",
       " '비교',\n",
       " '상대적',\n",
       " '부진',\n",
       " '플래시',\n",
       " '경쟁력',\n",
       " '끌어올리',\n",
       " '수',\n",
       " '있',\n",
       " '기대']"
      ]
     },
     "execution_count": 97,
     "metadata": {},
     "output_type": "execute_result"
    }
   ],
   "source": [
    "# 전체 단어 맵\n",
    "cols=list(dictpos.keys())\n",
    "cols"
   ]
  },
  {
   "cell_type": "code",
   "execution_count": 105,
   "id": "floppy-cigarette",
   "metadata": {},
   "outputs": [],
   "source": [
    "#맵 딕셔너리 생성\n",
    "wmap={}\n",
    "for col in cols:\n",
    "    wmap[col]=0\n",
    "    "
   ]
  },
  {
   "cell_type": "code",
   "execution_count": 106,
   "id": "passive-default",
   "metadata": {
    "collapsed": true,
    "jupyter": {
     "outputs_hidden": true
    }
   },
   "outputs": [
    {
     "data": {
      "text/plain": [
       "{'하이닉스': 0,\n",
       " '인텔': 0,\n",
       " '사업부': 0,\n",
       " '인수': 0,\n",
       " '관련': 0,\n",
       " '미국': 0,\n",
       " '당국': 0,\n",
       " '모든': 0,\n",
       " '규제': 0,\n",
       " '심사': 0,\n",
       " '마무리': 0,\n",
       " '외국인': 0,\n",
       " '투자': 0,\n",
       " '심의': 0,\n",
       " '위원회': 0,\n",
       " '의': 0,\n",
       " '승인': 0,\n",
       " '통보': 0,\n",
       " '받': 0,\n",
       " '일': 0,\n",
       " '밝히': 0,\n",
       " '연방': 0,\n",
       " '통상': 0,\n",
       " '개': 0,\n",
       " '기관': 0,\n",
       " '터': 0,\n",
       " '지난해': 0,\n",
       " '연말': 0,\n",
       " '반': 0,\n",
       " '독점': 0,\n",
       " '통과': 0,\n",
       " '이번': 0,\n",
       " '끝': 0,\n",
       " '절차': 0,\n",
       " '마치': 0,\n",
       " '회사': 0,\n",
       " '과정': 0,\n",
       " '중요': 0,\n",
       " '이정표': 0,\n",
       " '라': 0,\n",
       " '사업': 0,\n",
       " '통하': 0,\n",
       " '메모리': 0,\n",
       " '기술': 0,\n",
       " '보완': 0,\n",
       " '글로벌': 0,\n",
       " '역량': 0,\n",
       " '영향력': 0,\n",
       " '확장': 0,\n",
       " '것': 0,\n",
       " '월': 0,\n",
       " '달러': 0,\n",
       " '약': 0,\n",
       " '원': 0,\n",
       " '계약': 0,\n",
       " '체결': 0,\n",
       " '이후': 0,\n",
       " '이': 0,\n",
       " '대하': 0,\n",
       " '중국': 0,\n",
       " '등': 0,\n",
       " '주요': 0,\n",
       " '국가': 0,\n",
       " '진행': 0,\n",
       " '올해': 0,\n",
       " '말': 0,\n",
       " '주요국': 0,\n",
       " '측': 0,\n",
       " '차': 0,\n",
       " '지불': 0,\n",
       " '이전': 0,\n",
       " '되': 0,\n",
       " '년': 0,\n",
       " '초': 0,\n",
       " '남': 0,\n",
       " '넘겨주': 0,\n",
       " '램': 0,\n",
       " '비교': 0,\n",
       " '상대적': 0,\n",
       " '부진': 0,\n",
       " '플래시': 0,\n",
       " '경쟁력': 0,\n",
       " '끌어올리': 0,\n",
       " '수': 0,\n",
       " '있': 0,\n",
       " '기대': 0}"
      ]
     },
     "execution_count": 106,
     "metadata": {},
     "output_type": "execute_result"
    }
   ],
   "source": [
    "wmap"
   ]
  },
  {
   "cell_type": "code",
   "execution_count": 108,
   "id": "egyptian-indication",
   "metadata": {},
   "outputs": [],
   "source": [
    "# 개별 텍스트 데이터로 부터 개별 맵을 생성\n",
    "\n",
    "sres=res.split('\\n')\n",
    "wbag=[]\n",
    "for s in sres:\n",
    "    if(s):\n",
    "        wm=wmap.copy()\n",
    "        sdict=nlppos(s)\n",
    "        for skey in sdict.keys(): \n",
    "            wm[skey]=  sdict[skey]\n",
    "        wbag.append((list(wm.values())))\n"
   ]
  },
  {
   "cell_type": "code",
   "execution_count": 110,
   "id": "comparative-kinase",
   "metadata": {},
   "outputs": [
    {
     "data": {
      "text/html": [
       "<div>\n",
       "<style scoped>\n",
       "    .dataframe tbody tr th:only-of-type {\n",
       "        vertical-align: middle;\n",
       "    }\n",
       "\n",
       "    .dataframe tbody tr th {\n",
       "        vertical-align: top;\n",
       "    }\n",
       "\n",
       "    .dataframe thead th {\n",
       "        text-align: right;\n",
       "    }\n",
       "</style>\n",
       "<table border=\"1\" class=\"dataframe\">\n",
       "  <thead>\n",
       "    <tr style=\"text-align: right;\">\n",
       "      <th></th>\n",
       "      <th>하이닉스</th>\n",
       "      <th>인텔</th>\n",
       "      <th>사업부</th>\n",
       "      <th>인수</th>\n",
       "      <th>관련</th>\n",
       "      <th>미국</th>\n",
       "      <th>당국</th>\n",
       "      <th>모든</th>\n",
       "      <th>규제</th>\n",
       "      <th>심사</th>\n",
       "      <th>...</th>\n",
       "      <th>램</th>\n",
       "      <th>비교</th>\n",
       "      <th>상대적</th>\n",
       "      <th>부진</th>\n",
       "      <th>플래시</th>\n",
       "      <th>경쟁력</th>\n",
       "      <th>끌어올리</th>\n",
       "      <th>수</th>\n",
       "      <th>있</th>\n",
       "      <th>기대</th>\n",
       "    </tr>\n",
       "  </thead>\n",
       "  <tbody>\n",
       "    <tr>\n",
       "      <th>0</th>\n",
       "      <td>1</td>\n",
       "      <td>1</td>\n",
       "      <td>1</td>\n",
       "      <td>1</td>\n",
       "      <td>1</td>\n",
       "      <td>1</td>\n",
       "      <td>1</td>\n",
       "      <td>1</td>\n",
       "      <td>1</td>\n",
       "      <td>1</td>\n",
       "      <td>...</td>\n",
       "      <td>0</td>\n",
       "      <td>0</td>\n",
       "      <td>0</td>\n",
       "      <td>0</td>\n",
       "      <td>0</td>\n",
       "      <td>0</td>\n",
       "      <td>0</td>\n",
       "      <td>0</td>\n",
       "      <td>0</td>\n",
       "      <td>0</td>\n",
       "    </tr>\n",
       "    <tr>\n",
       "      <th>1</th>\n",
       "      <td>1</td>\n",
       "      <td>0</td>\n",
       "      <td>0</td>\n",
       "      <td>0</td>\n",
       "      <td>0</td>\n",
       "      <td>2</td>\n",
       "      <td>0</td>\n",
       "      <td>0</td>\n",
       "      <td>0</td>\n",
       "      <td>2</td>\n",
       "      <td>...</td>\n",
       "      <td>0</td>\n",
       "      <td>0</td>\n",
       "      <td>0</td>\n",
       "      <td>0</td>\n",
       "      <td>0</td>\n",
       "      <td>0</td>\n",
       "      <td>0</td>\n",
       "      <td>0</td>\n",
       "      <td>0</td>\n",
       "      <td>0</td>\n",
       "    </tr>\n",
       "    <tr>\n",
       "      <th>2</th>\n",
       "      <td>2</td>\n",
       "      <td>3</td>\n",
       "      <td>1</td>\n",
       "      <td>3</td>\n",
       "      <td>1</td>\n",
       "      <td>1</td>\n",
       "      <td>0</td>\n",
       "      <td>0</td>\n",
       "      <td>1</td>\n",
       "      <td>1</td>\n",
       "      <td>...</td>\n",
       "      <td>0</td>\n",
       "      <td>0</td>\n",
       "      <td>0</td>\n",
       "      <td>0</td>\n",
       "      <td>0</td>\n",
       "      <td>0</td>\n",
       "      <td>0</td>\n",
       "      <td>0</td>\n",
       "      <td>0</td>\n",
       "      <td>0</td>\n",
       "    </tr>\n",
       "    <tr>\n",
       "      <th>3</th>\n",
       "      <td>1</td>\n",
       "      <td>1</td>\n",
       "      <td>1</td>\n",
       "      <td>1</td>\n",
       "      <td>0</td>\n",
       "      <td>1</td>\n",
       "      <td>0</td>\n",
       "      <td>0</td>\n",
       "      <td>0</td>\n",
       "      <td>1</td>\n",
       "      <td>...</td>\n",
       "      <td>0</td>\n",
       "      <td>0</td>\n",
       "      <td>0</td>\n",
       "      <td>0</td>\n",
       "      <td>0</td>\n",
       "      <td>0</td>\n",
       "      <td>0</td>\n",
       "      <td>0</td>\n",
       "      <td>0</td>\n",
       "      <td>0</td>\n",
       "    </tr>\n",
       "    <tr>\n",
       "      <th>4</th>\n",
       "      <td>2</td>\n",
       "      <td>2</td>\n",
       "      <td>1</td>\n",
       "      <td>2</td>\n",
       "      <td>0</td>\n",
       "      <td>0</td>\n",
       "      <td>0</td>\n",
       "      <td>0</td>\n",
       "      <td>0</td>\n",
       "      <td>1</td>\n",
       "      <td>...</td>\n",
       "      <td>1</td>\n",
       "      <td>1</td>\n",
       "      <td>1</td>\n",
       "      <td>1</td>\n",
       "      <td>1</td>\n",
       "      <td>1</td>\n",
       "      <td>1</td>\n",
       "      <td>1</td>\n",
       "      <td>2</td>\n",
       "      <td>1</td>\n",
       "    </tr>\n",
       "  </tbody>\n",
       "</table>\n",
       "<p>5 rows × 86 columns</p>\n",
       "</div>"
      ],
      "text/plain": [
       "   하이닉스  인텔  사업부  인수  관련  미국  당국  모든  규제  심사  ...  램  비교  상대적  부진  플래시  경쟁력  \\\n",
       "0     1   1    1   1   1   1   1   1   1   1  ...  0   0    0   0    0    0   \n",
       "1     1   0    0   0   0   2   0   0   0   2  ...  0   0    0   0    0    0   \n",
       "2     2   3    1   3   1   1   0   0   1   1  ...  0   0    0   0    0    0   \n",
       "3     1   1    1   1   0   1   0   0   0   1  ...  0   0    0   0    0    0   \n",
       "4     2   2    1   2   0   0   0   0   0   1  ...  1   1    1   1    1    1   \n",
       "\n",
       "   끌어올리  수  있  기대  \n",
       "0     0  0  0   0  \n",
       "1     0  0  0   0  \n",
       "2     0  0  0   0  \n",
       "3     0  0  0   0  \n",
       "4     1  1  2   1  \n",
       "\n",
       "[5 rows x 86 columns]"
      ]
     },
     "execution_count": 110,
     "metadata": {},
     "output_type": "execute_result"
    }
   ],
   "source": [
    "import pandas as pd\n",
    "wdf=pd.DataFrame(data=wbag,columns=cols)\n",
    "wdf.head()"
   ]
  },
  {
   "cell_type": "code",
   "execution_count": null,
   "id": "current-phase",
   "metadata": {},
   "outputs": [],
   "source": []
  }
 ],
 "metadata": {
  "kernelspec": {
   "display_name": "Python 3",
   "language": "python",
   "name": "python3"
  },
  "language_info": {
   "codemirror_mode": {
    "name": "ipython",
    "version": 3
   },
   "file_extension": ".py",
   "mimetype": "text/x-python",
   "name": "python",
   "nbconvert_exporter": "python",
   "pygments_lexer": "ipython3",
   "version": "3.8.5"
  }
 },
 "nbformat": 4,
 "nbformat_minor": 5
}
