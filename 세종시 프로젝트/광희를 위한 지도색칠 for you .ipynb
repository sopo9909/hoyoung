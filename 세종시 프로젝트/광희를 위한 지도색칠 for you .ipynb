{
 "cells": [
  {
   "cell_type": "code",
   "execution_count": 20,
   "metadata": {
    "ExecuteTime": {
     "end_time": "2021-03-05T12:50:57.747781Z",
     "start_time": "2021-03-05T12:50:57.532172Z"
    }
   },
   "outputs": [],
   "source": [
    "import folium\n",
    "\n",
    "m = folium.Map(\n",
    "    location=[36.48, 127.29],\n",
    "    zoom_start=10\n",
    ")\n",
    "\n",
    "import json\n",
    "with open('32.세종시_행정경계(읍면동).geojson',mode='rt',encoding='utf-8') as f:\n",
    "    geo = json.loads(f.read())\n",
    "    f.close()\n",
    "\n",
    "folium.Choropleth(geo_data=geo,\n",
    "                  fill_color='#84A9FF',\n",
    "                  fill_opacity=1,\n",
    "                  line_opacity=0.9,\n",
    "                  line_color='#000000'\n",
    "                  ).add_to(m)\n",
    "\n",
    "m.save('map2.html')"
   ]
  },
  {
   "cell_type": "code",
   "execution_count": null,
   "metadata": {},
   "outputs": [],
   "source": []
  }
 ],
 "metadata": {
  "kernelspec": {
   "display_name": "Python 3",
   "language": "python",
   "name": "python3"
  },
  "language_info": {
   "codemirror_mode": {
    "name": "ipython",
    "version": 3
   },
   "file_extension": ".py",
   "mimetype": "text/x-python",
   "name": "python",
   "nbconvert_exporter": "python",
   "pygments_lexer": "ipython3",
   "version": "3.8.5"
  },
  "toc": {
   "base_numbering": 1,
   "nav_menu": {},
   "number_sections": true,
   "sideBar": true,
   "skip_h1_title": false,
   "title_cell": "Table of Contents",
   "title_sidebar": "Contents",
   "toc_cell": false,
   "toc_position": {},
   "toc_section_display": true,
   "toc_window_display": false
  },
  "varInspector": {
   "cols": {
    "lenName": 16,
    "lenType": 16,
    "lenVar": 40
   },
   "kernels_config": {
    "python": {
     "delete_cmd_postfix": "",
     "delete_cmd_prefix": "del ",
     "library": "var_list.py",
     "varRefreshCmd": "print(var_dic_list())"
    },
    "r": {
     "delete_cmd_postfix": ") ",
     "delete_cmd_prefix": "rm(",
     "library": "var_list.r",
     "varRefreshCmd": "cat(var_dic_list()) "
    }
   },
   "types_to_exclude": [
    "module",
    "function",
    "builtin_function_or_method",
    "instance",
    "_Feature"
   ],
   "window_display": false
  }
 },
 "nbformat": 4,
 "nbformat_minor": 4
}
