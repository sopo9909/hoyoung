{
 "cells": [
  {
   "cell_type": "markdown",
   "id": "laughing-circus",
   "metadata": {},
   "source": [
    "### 딥러닝을 활용한 분류 모델\n",
    "* keras 활용 iris 모델 딥러닝 layer:2"
   ]
  },
  {
   "cell_type": "code",
   "execution_count": 49,
   "id": "mediterranean-crack",
   "metadata": {},
   "outputs": [],
   "source": [
    "import pandas as pd\n",
    "import numpy as np\n",
    "from sklearn.datasets import load_iris\n",
    "import matplotlib.pyplot as plt\n",
    "import seaborn as sns"
   ]
  },
  {
   "cell_type": "code",
   "execution_count": 50,
   "id": "final-concord",
   "metadata": {},
   "outputs": [],
   "source": [
    "folder='../../UCI_HAR/'\n",
    "fname=folder+'test/y_test.txt'\n",
    "def getY(_fname):\n",
    "    with open(_fname) as f:\n",
    "        fread=f.read()\n",
    "    flist=fread.strip().split('\\n')\n",
    "    print(_fname,\"처리완료:\",len(flist))\n",
    "    return (flist)"
   ]
  },
  {
   "cell_type": "code",
   "execution_count": 51,
   "id": "tough-olive",
   "metadata": {},
   "outputs": [],
   "source": [
    "import re\n",
    "fname=folder+'test/X_test.txt'\n",
    "\n",
    "def getX(_fname):\n",
    "    with open(_fname) as f:\n",
    "        fread=f.read()\n",
    "    flist=fread.split('\\n')\n",
    "    res=[]\n",
    "    for f in flist:\n",
    "        freg=re.compile(\"\\s+\").split(f.strip())\n",
    "        if(freg):\n",
    "            res.append(freg)\n",
    "    print(_fname,\"처리완료:\",len(res))\n",
    "    return(res)"
   ]
  },
  {
   "cell_type": "code",
   "execution_count": 52,
   "id": "accessory-ireland",
   "metadata": {},
   "outputs": [],
   "source": [
    "def getData():\n",
    "    fname=folder+'test/X_test.txt'\n",
    "    X_test=getX(fname)\n",
    "    fname=folder+'test/y_test.txt'\n",
    "    y_test=getY(fname)\n",
    "    fname=folder+'train/X_train.txt'\n",
    "    X_train=getX(fname)\n",
    "    fname=folder+'train/y_train.txt'\n",
    "    y_train=getY(fname)\n",
    "    return (X_train,X_test,y_train,y_test)"
   ]
  },
  {
   "cell_type": "code",
   "execution_count": 53,
   "id": "earlier-teaching",
   "metadata": {},
   "outputs": [
    {
     "name": "stdout",
     "output_type": "stream",
     "text": [
      "../../UCI_HAR/test/X_test.txt 처리완료: 2948\n",
      "../../UCI_HAR/test/y_test.txt 처리완료: 2947\n",
      "../../UCI_HAR/train/X_train.txt 처리완료: 7353\n",
      "../../UCI_HAR/train/y_train.txt 처리완료: 7352\n"
     ]
    }
   ],
   "source": [
    "X_train,x_test,Y_train,y_test=getData()\n"
   ]
  },
  {
   "cell_type": "code",
   "execution_count": 60,
   "id": "fantastic-thesis",
   "metadata": {},
   "outputs": [
    {
     "data": {
      "text/plain": [
       "'5'"
      ]
     },
     "execution_count": 60,
     "metadata": {},
     "output_type": "execute_result"
    }
   ],
   "source": [
    "y_test[0]"
   ]
  },
  {
   "cell_type": "code",
   "execution_count": 61,
   "id": "equipped-chambers",
   "metadata": {},
   "outputs": [],
   "source": [
    "x_test=np.array(x_test[:2947]).astype('float32')\n",
    "y_test=np.array(y_test[:2947]).astype('float32')\n",
    "X_train=np.array(X_train[:7352]).astype('float32')\n",
    "Y_train=np.array(Y_train[:7352]).astype('float32')"
   ]
  },
  {
   "cell_type": "raw",
   "id": "tutorial-transcript",
   "metadata": {},
   "source": [
    "from sklearn.model_selection import train_test_split\n",
    "irisd=load_iris()\n",
    "X_train,x_test,Y_train,y_test=train_test_split(irisd['data'],irisd['target'],random_state=1)"
   ]
  },
  {
   "cell_type": "code",
   "execution_count": 65,
   "id": "intellectual-delay",
   "metadata": {},
   "outputs": [],
   "source": [
    "from tensorflow.keras.models import Sequential\n",
    "from tensorflow.keras.layers import Dense\n",
    "from tensorflow.keras.optimizers import Adam"
   ]
  },
  {
   "cell_type": "code",
   "execution_count": 66,
   "id": "subsequent-variable",
   "metadata": {},
   "outputs": [
    {
     "name": "stdout",
     "output_type": "stream",
     "text": [
      "Model: \"sequential_9\"\n",
      "_________________________________________________________________\n",
      "Layer (type)                 Output Shape              Param #   \n",
      "=================================================================\n",
      "dense_17 (Dense)             (None, 256)               143872    \n",
      "_________________________________________________________________\n",
      "dense_18 (Dense)             (None, 128)               32896     \n",
      "_________________________________________________________________\n",
      "dense_19 (Dense)             (None, 7)                 903       \n",
      "=================================================================\n",
      "Total params: 177,671\n",
      "Trainable params: 177,671\n",
      "Non-trainable params: 0\n",
      "_________________________________________________________________\n"
     ]
    }
   ],
   "source": [
    "model=Sequential()\n",
    "model.add(Dense(256,input_shape=(561,), activation='relu'))\n",
    "model.add(Dense(128, activation='relu'))\n",
    "model.add(Dense(7, activation='softmax'))\n",
    "model.compile(optimizer='Adam',\n",
    "              loss='sparse_categorical_crossentropy',\n",
    "              metrics=['accuracy']\n",
    "              \n",
    "             )\n",
    "model.summary()"
   ]
  },
  {
   "cell_type": "code",
   "execution_count": 67,
   "id": "innocent-background",
   "metadata": {},
   "outputs": [
    {
     "name": "stdout",
     "output_type": "stream",
     "text": [
      "Epoch 1/100\n",
      "230/230 [==============================] - 1s 3ms/step - loss: 0.6064 - accuracy: 0.7574 - val_loss: 0.3108 - val_accuracy: 0.8554\n",
      "Epoch 2/100\n",
      "230/230 [==============================] - 1s 2ms/step - loss: 0.1446 - accuracy: 0.9493 - val_loss: 0.3765 - val_accuracy: 0.8497\n",
      "Epoch 3/100\n",
      "230/230 [==============================] - 1s 2ms/step - loss: 0.1509 - accuracy: 0.9443 - val_loss: 0.1636 - val_accuracy: 0.9362\n",
      "Epoch 4/100\n",
      "230/230 [==============================] - 1s 2ms/step - loss: 0.1020 - accuracy: 0.9586 - val_loss: 0.2226 - val_accuracy: 0.9192\n",
      "Epoch 5/100\n",
      "230/230 [==============================] - 1s 2ms/step - loss: 0.0937 - accuracy: 0.9620 - val_loss: 0.1672 - val_accuracy: 0.9365\n",
      "Epoch 6/100\n",
      "230/230 [==============================] - 1s 3ms/step - loss: 0.0694 - accuracy: 0.9706 - val_loss: 0.1546 - val_accuracy: 0.9457\n",
      "Epoch 7/100\n",
      "230/230 [==============================] - 1s 3ms/step - loss: 0.0716 - accuracy: 0.9743 - val_loss: 0.1726 - val_accuracy: 0.9423\n",
      "Epoch 8/100\n",
      "230/230 [==============================] - 1s 3ms/step - loss: 0.0822 - accuracy: 0.9666 - val_loss: 0.1970 - val_accuracy: 0.9332\n",
      "Epoch 9/100\n",
      "230/230 [==============================] - 1s 3ms/step - loss: 0.0554 - accuracy: 0.9773 - val_loss: 0.1702 - val_accuracy: 0.9444\n",
      "Epoch 10/100\n",
      "230/230 [==============================] - 1s 3ms/step - loss: 0.0629 - accuracy: 0.9753 - val_loss: 0.1808 - val_accuracy: 0.9450\n",
      "Epoch 11/100\n",
      "230/230 [==============================] - 1s 3ms/step - loss: 0.0520 - accuracy: 0.9803 - val_loss: 0.1698 - val_accuracy: 0.9464\n",
      "Epoch 12/100\n",
      "230/230 [==============================] - 1s 3ms/step - loss: 0.0645 - accuracy: 0.9750 - val_loss: 0.2987 - val_accuracy: 0.9084\n",
      "Epoch 13/100\n",
      "230/230 [==============================] - 1s 3ms/step - loss: 0.0825 - accuracy: 0.9703 - val_loss: 0.1832 - val_accuracy: 0.9342\n",
      "Epoch 14/100\n",
      "230/230 [==============================] - 1s 3ms/step - loss: 0.0554 - accuracy: 0.9782 - val_loss: 0.2355 - val_accuracy: 0.9328\n",
      "Epoch 15/100\n",
      "230/230 [==============================] - 1s 3ms/step - loss: 0.0386 - accuracy: 0.9855 - val_loss: 0.2691 - val_accuracy: 0.9196\n",
      "Epoch 16/100\n",
      "230/230 [==============================] - 1s 3ms/step - loss: 0.0508 - accuracy: 0.9797 - val_loss: 0.3781 - val_accuracy: 0.9030\n",
      "Epoch 17/100\n",
      "230/230 [==============================] - 1s 3ms/step - loss: 0.0852 - accuracy: 0.9697 - val_loss: 0.1754 - val_accuracy: 0.9386\n",
      "Epoch 18/100\n",
      "230/230 [==============================] - 1s 3ms/step - loss: 0.0517 - accuracy: 0.9796 - val_loss: 0.2108 - val_accuracy: 0.9369\n",
      "Epoch 19/100\n",
      "230/230 [==============================] - 1s 3ms/step - loss: 0.0508 - accuracy: 0.9802 - val_loss: 0.2286 - val_accuracy: 0.9386\n",
      "Epoch 20/100\n",
      "230/230 [==============================] - 1s 2ms/step - loss: 0.0432 - accuracy: 0.9842 - val_loss: 0.1901 - val_accuracy: 0.9464\n",
      "Epoch 21/100\n",
      "230/230 [==============================] - 1s 3ms/step - loss: 0.0425 - accuracy: 0.9840 - val_loss: 0.1738 - val_accuracy: 0.9508\n",
      "Epoch 22/100\n",
      "230/230 [==============================] - 1s 3ms/step - loss: 0.0420 - accuracy: 0.9843 - val_loss: 0.2546 - val_accuracy: 0.9376\n",
      "Epoch 23/100\n",
      "230/230 [==============================] - 1s 3ms/step - loss: 0.0655 - accuracy: 0.9739 - val_loss: 0.2613 - val_accuracy: 0.9372\n",
      "Epoch 24/100\n",
      "230/230 [==============================] - 1s 3ms/step - loss: 0.0434 - accuracy: 0.9830 - val_loss: 0.2732 - val_accuracy: 0.9237\n",
      "Epoch 25/100\n",
      "230/230 [==============================] - 1s 3ms/step - loss: 0.0442 - accuracy: 0.9832 - val_loss: 0.2106 - val_accuracy: 0.9372\n",
      "Epoch 26/100\n",
      "230/230 [==============================] - 1s 2ms/step - loss: 0.0342 - accuracy: 0.9866 - val_loss: 0.2272 - val_accuracy: 0.9447\n",
      "Epoch 27/100\n",
      "230/230 [==============================] - 1s 3ms/step - loss: 0.0287 - accuracy: 0.9890 - val_loss: 0.2205 - val_accuracy: 0.9423\n",
      "Epoch 28/100\n",
      "230/230 [==============================] - 1s 3ms/step - loss: 0.0406 - accuracy: 0.9841 - val_loss: 0.2686 - val_accuracy: 0.9393\n",
      "Epoch 29/100\n",
      "230/230 [==============================] - 1s 3ms/step - loss: 0.0386 - accuracy: 0.9861 - val_loss: 0.2489 - val_accuracy: 0.9396\n",
      "Epoch 30/100\n",
      "230/230 [==============================] - 1s 3ms/step - loss: 0.0376 - accuracy: 0.9858 - val_loss: 0.2449 - val_accuracy: 0.9437\n",
      "Epoch 31/100\n",
      "230/230 [==============================] - 1s 2ms/step - loss: 0.0305 - accuracy: 0.9875 - val_loss: 0.2779 - val_accuracy: 0.9416\n",
      "Epoch 32/100\n",
      "230/230 [==============================] - 1s 3ms/step - loss: 0.0315 - accuracy: 0.9869 - val_loss: 0.2333 - val_accuracy: 0.9484\n",
      "Epoch 33/100\n",
      "230/230 [==============================] - 1s 3ms/step - loss: 0.0297 - accuracy: 0.9881 - val_loss: 0.2155 - val_accuracy: 0.9501\n",
      "Epoch 34/100\n",
      "230/230 [==============================] - 1s 3ms/step - loss: 0.0369 - accuracy: 0.9872 - val_loss: 0.2341 - val_accuracy: 0.9467\n",
      "Epoch 35/100\n",
      "230/230 [==============================] - 1s 3ms/step - loss: 0.0244 - accuracy: 0.9913 - val_loss: 0.3395 - val_accuracy: 0.9257\n",
      "Epoch 36/100\n",
      "230/230 [==============================] - 1s 3ms/step - loss: 0.0306 - accuracy: 0.9887 - val_loss: 0.2551 - val_accuracy: 0.9389\n",
      "Epoch 37/100\n",
      "230/230 [==============================] - 1s 3ms/step - loss: 0.0503 - accuracy: 0.9833 - val_loss: 0.2056 - val_accuracy: 0.9454\n",
      "Epoch 38/100\n",
      "230/230 [==============================] - 1s 3ms/step - loss: 0.0300 - accuracy: 0.9887 - val_loss: 0.2218 - val_accuracy: 0.9447\n",
      "Epoch 39/100\n",
      "230/230 [==============================] - 1s 3ms/step - loss: 0.0202 - accuracy: 0.9920 - val_loss: 0.2844 - val_accuracy: 0.9355\n",
      "Epoch 40/100\n",
      "230/230 [==============================] - 1s 3ms/step - loss: 0.0309 - accuracy: 0.9887 - val_loss: 0.4329 - val_accuracy: 0.9097\n",
      "Epoch 41/100\n",
      "230/230 [==============================] - 1s 3ms/step - loss: 0.0241 - accuracy: 0.9922 - val_loss: 0.2676 - val_accuracy: 0.9372\n",
      "Epoch 42/100\n",
      "230/230 [==============================] - 1s 3ms/step - loss: 0.0240 - accuracy: 0.9919 - val_loss: 0.2343 - val_accuracy: 0.9467\n",
      "Epoch 43/100\n",
      "230/230 [==============================] - 1s 3ms/step - loss: 0.0202 - accuracy: 0.9921 - val_loss: 0.2201 - val_accuracy: 0.9532\n",
      "Epoch 44/100\n",
      "230/230 [==============================] - 1s 3ms/step - loss: 0.0293 - accuracy: 0.9878 - val_loss: 0.2608 - val_accuracy: 0.9430\n",
      "Epoch 45/100\n",
      "230/230 [==============================] - 1s 3ms/step - loss: 0.0157 - accuracy: 0.9943 - val_loss: 0.2876 - val_accuracy: 0.9416\n",
      "Epoch 46/100\n",
      "230/230 [==============================] - 1s 3ms/step - loss: 0.0224 - accuracy: 0.9912 - val_loss: 0.3051 - val_accuracy: 0.9433\n",
      "Epoch 47/100\n",
      "230/230 [==============================] - 1s 3ms/step - loss: 0.0356 - accuracy: 0.9883 - val_loss: 0.2743 - val_accuracy: 0.9471\n",
      "Epoch 48/100\n",
      "230/230 [==============================] - 1s 3ms/step - loss: 0.0352 - accuracy: 0.9868 - val_loss: 0.3597 - val_accuracy: 0.9348\n",
      "Epoch 49/100\n",
      "230/230 [==============================] - 1s 3ms/step - loss: 0.0204 - accuracy: 0.9928 - val_loss: 0.2625 - val_accuracy: 0.9447\n",
      "Epoch 50/100\n",
      "230/230 [==============================] - 1s 2ms/step - loss: 0.0230 - accuracy: 0.9911 - val_loss: 0.3882 - val_accuracy: 0.9294\n",
      "Epoch 51/100\n",
      "230/230 [==============================] - 1s 2ms/step - loss: 0.0333 - accuracy: 0.9882 - val_loss: 0.2550 - val_accuracy: 0.9359\n",
      "Epoch 52/100\n",
      "230/230 [==============================] - 1s 3ms/step - loss: 0.0247 - accuracy: 0.9885 - val_loss: 0.3138 - val_accuracy: 0.9359\n",
      "Epoch 53/100\n",
      "230/230 [==============================] - 1s 3ms/step - loss: 0.0248 - accuracy: 0.9903 - val_loss: 0.2687 - val_accuracy: 0.9399\n",
      "Epoch 54/100\n",
      "230/230 [==============================] - 1s 2ms/step - loss: 0.0143 - accuracy: 0.9950 - val_loss: 0.3243 - val_accuracy: 0.9399\n",
      "Epoch 55/100\n",
      "230/230 [==============================] - 1s 3ms/step - loss: 0.0154 - accuracy: 0.9939 - val_loss: 0.2667 - val_accuracy: 0.9481\n",
      "Epoch 56/100\n",
      "230/230 [==============================] - 1s 3ms/step - loss: 0.0118 - accuracy: 0.9955 - val_loss: 0.2635 - val_accuracy: 0.9481\n",
      "Epoch 57/100\n",
      "230/230 [==============================] - 1s 3ms/step - loss: 0.0296 - accuracy: 0.9884 - val_loss: 0.3224 - val_accuracy: 0.9389\n",
      "Epoch 58/100\n",
      "230/230 [==============================] - 1s 3ms/step - loss: 0.0118 - accuracy: 0.9955 - val_loss: 0.3013 - val_accuracy: 0.9454\n",
      "Epoch 59/100\n",
      "230/230 [==============================] - 1s 3ms/step - loss: 0.0192 - accuracy: 0.9914 - val_loss: 0.3330 - val_accuracy: 0.9386\n",
      "Epoch 60/100\n",
      "230/230 [==============================] - 1s 3ms/step - loss: 0.0237 - accuracy: 0.9899 - val_loss: 0.3222 - val_accuracy: 0.9454\n",
      "Epoch 61/100\n",
      "230/230 [==============================] - 1s 3ms/step - loss: 0.0179 - accuracy: 0.9935 - val_loss: 0.3321 - val_accuracy: 0.9253\n",
      "Epoch 62/100\n",
      "230/230 [==============================] - 1s 3ms/step - loss: 0.0343 - accuracy: 0.9905 - val_loss: 0.2173 - val_accuracy: 0.9525\n",
      "Epoch 63/100\n",
      "230/230 [==============================] - 1s 3ms/step - loss: 0.0364 - accuracy: 0.9892 - val_loss: 0.2502 - val_accuracy: 0.9444\n",
      "Epoch 64/100\n",
      "230/230 [==============================] - 1s 3ms/step - loss: 0.0107 - accuracy: 0.9963 - val_loss: 0.2802 - val_accuracy: 0.9382\n",
      "Epoch 65/100\n",
      "230/230 [==============================] - 1s 3ms/step - loss: 0.0214 - accuracy: 0.9912 - val_loss: 0.2846 - val_accuracy: 0.9474\n",
      "Epoch 66/100\n",
      "230/230 [==============================] - 1s 3ms/step - loss: 0.0107 - accuracy: 0.9962 - val_loss: 0.3075 - val_accuracy: 0.9362\n",
      "Epoch 67/100\n",
      "230/230 [==============================] - 1s 3ms/step - loss: 0.0150 - accuracy: 0.9941 - val_loss: 0.2415 - val_accuracy: 0.9522\n",
      "Epoch 68/100\n",
      "230/230 [==============================] - 1s 3ms/step - loss: 0.0335 - accuracy: 0.9902 - val_loss: 0.2964 - val_accuracy: 0.9430\n",
      "Epoch 69/100\n",
      "230/230 [==============================] - 1s 3ms/step - loss: 0.0134 - accuracy: 0.9939 - val_loss: 0.2686 - val_accuracy: 0.9457\n",
      "Epoch 70/100\n",
      "230/230 [==============================] - 1s 3ms/step - loss: 0.0099 - accuracy: 0.9961 - val_loss: 0.3267 - val_accuracy: 0.9423\n",
      "Epoch 71/100\n",
      "230/230 [==============================] - 1s 3ms/step - loss: 0.0075 - accuracy: 0.9970 - val_loss: 0.2676 - val_accuracy: 0.9481\n",
      "Epoch 72/100\n",
      "230/230 [==============================] - 1s 3ms/step - loss: 0.0136 - accuracy: 0.9942 - val_loss: 0.2675 - val_accuracy: 0.9355\n",
      "Epoch 73/100\n",
      "230/230 [==============================] - 1s 3ms/step - loss: 0.0141 - accuracy: 0.9948 - val_loss: 0.2575 - val_accuracy: 0.9488\n",
      "Epoch 74/100\n",
      "230/230 [==============================] - 1s 3ms/step - loss: 0.0122 - accuracy: 0.9948 - val_loss: 0.2757 - val_accuracy: 0.9518\n",
      "Epoch 75/100\n",
      "230/230 [==============================] - 1s 3ms/step - loss: 0.0101 - accuracy: 0.9960 - val_loss: 0.2623 - val_accuracy: 0.9491\n",
      "Epoch 76/100\n",
      "230/230 [==============================] - 1s 3ms/step - loss: 0.0103 - accuracy: 0.9959 - val_loss: 0.4163 - val_accuracy: 0.9253\n",
      "Epoch 77/100\n",
      "230/230 [==============================] - 1s 3ms/step - loss: 0.0311 - accuracy: 0.9891 - val_loss: 0.3157 - val_accuracy: 0.9447\n",
      "Epoch 78/100\n",
      "230/230 [==============================] - 1s 3ms/step - loss: 0.0087 - accuracy: 0.9972 - val_loss: 0.3929 - val_accuracy: 0.9471\n",
      "Epoch 79/100\n",
      "230/230 [==============================] - 1s 3ms/step - loss: 0.0090 - accuracy: 0.9965 - val_loss: 0.2456 - val_accuracy: 0.9522\n",
      "Epoch 80/100\n",
      "230/230 [==============================] - 1s 3ms/step - loss: 0.0094 - accuracy: 0.9955 - val_loss: 0.3379 - val_accuracy: 0.9386\n",
      "Epoch 81/100\n",
      "230/230 [==============================] - 1s 3ms/step - loss: 0.0078 - accuracy: 0.9974 - val_loss: 0.3075 - val_accuracy: 0.9447\n",
      "Epoch 82/100\n",
      "230/230 [==============================] - 1s 3ms/step - loss: 0.0209 - accuracy: 0.9909 - val_loss: 0.3256 - val_accuracy: 0.9416\n",
      "Epoch 83/100\n",
      "230/230 [==============================] - 1s 3ms/step - loss: 0.0134 - accuracy: 0.9930 - val_loss: 0.3302 - val_accuracy: 0.9444\n",
      "Epoch 84/100\n",
      "230/230 [==============================] - 1s 3ms/step - loss: 0.0055 - accuracy: 0.9982 - val_loss: 0.4239 - val_accuracy: 0.9376\n",
      "Epoch 85/100\n",
      "230/230 [==============================] - 1s 3ms/step - loss: 0.0065 - accuracy: 0.9981 - val_loss: 0.3392 - val_accuracy: 0.9467\n",
      "Epoch 86/100\n",
      "230/230 [==============================] - 1s 3ms/step - loss: 0.0136 - accuracy: 0.9945 - val_loss: 0.2636 - val_accuracy: 0.9522\n",
      "Epoch 87/100\n",
      "230/230 [==============================] - 1s 3ms/step - loss: 0.0121 - accuracy: 0.9961 - val_loss: 0.3898 - val_accuracy: 0.9257\n",
      "Epoch 88/100\n",
      "230/230 [==============================] - 1s 3ms/step - loss: 0.0294 - accuracy: 0.9887 - val_loss: 0.3336 - val_accuracy: 0.9457\n",
      "Epoch 89/100\n",
      "230/230 [==============================] - 1s 3ms/step - loss: 0.0100 - accuracy: 0.9965 - val_loss: 0.3888 - val_accuracy: 0.9386\n",
      "Epoch 90/100\n",
      "230/230 [==============================] - 1s 3ms/step - loss: 0.0073 - accuracy: 0.9980 - val_loss: 0.3264 - val_accuracy: 0.9454\n",
      "Epoch 91/100\n",
      "230/230 [==============================] - 1s 3ms/step - loss: 0.0091 - accuracy: 0.9969 - val_loss: 0.4423 - val_accuracy: 0.9338\n",
      "Epoch 92/100\n",
      "230/230 [==============================] - 1s 3ms/step - loss: 0.0125 - accuracy: 0.9951 - val_loss: 0.3766 - val_accuracy: 0.9362\n",
      "Epoch 93/100\n",
      "230/230 [==============================] - 1s 3ms/step - loss: 0.0098 - accuracy: 0.9955 - val_loss: 0.4728 - val_accuracy: 0.9345\n",
      "Epoch 94/100\n",
      "230/230 [==============================] - 1s 3ms/step - loss: 0.0228 - accuracy: 0.9920 - val_loss: 0.3317 - val_accuracy: 0.9471\n",
      "Epoch 95/100\n",
      "230/230 [==============================] - 1s 3ms/step - loss: 0.0055 - accuracy: 0.9986 - val_loss: 0.3153 - val_accuracy: 0.9457\n",
      "Epoch 96/100\n",
      "230/230 [==============================] - 1s 3ms/step - loss: 0.0115 - accuracy: 0.9946 - val_loss: 0.3102 - val_accuracy: 0.9481\n",
      "Epoch 97/100\n",
      "230/230 [==============================] - 1s 3ms/step - loss: 0.0042 - accuracy: 0.9985 - val_loss: 0.2859 - val_accuracy: 0.9494\n",
      "Epoch 98/100\n",
      "230/230 [==============================] - 1s 3ms/step - loss: 0.0052 - accuracy: 0.9983 - val_loss: 0.3170 - val_accuracy: 0.9525\n",
      "Epoch 99/100\n",
      "230/230 [==============================] - 1s 3ms/step - loss: 0.0033 - accuracy: 0.9987 - val_loss: 0.3344 - val_accuracy: 0.9464\n",
      "Epoch 100/100\n",
      "230/230 [==============================] - 1s 3ms/step - loss: 0.0094 - accuracy: 0.9971 - val_loss: 0.3449 - val_accuracy: 0.9471\n"
     ]
    }
   ],
   "source": [
    "hist= model.fit(X_train,Y_train,validation_data=(x_test,y_test),epochs=100)"
   ]
  },
  {
   "cell_type": "code",
   "execution_count": 68,
   "id": "induced-samoa",
   "metadata": {},
   "outputs": [],
   "source": [
    "histdf=pd.DataFrame(hist.history)"
   ]
  },
  {
   "cell_type": "code",
   "execution_count": 69,
   "id": "composite-education",
   "metadata": {},
   "outputs": [
    {
     "data": {
      "image/png": "[encoded data removed]",
      "text/plain": [
       "<Figure size 432x288 with 1 Axes>"
      ]
     },
     "metadata": {
      "needs_background": "light"
     },
     "output_type": "display_data"
    }
   ],
   "source": [
    "histdf[['val_accuracy','accuracy']].plot()\n",
    "plt.show()"
   ]
  },
  {
   "cell_type": "code",
   "execution_count": 70,
   "id": "removed-shopping",
   "metadata": {},
   "outputs": [
    {
     "data": {
      "image/png": "[encoded data removed]",
      "text/plain": [
       "<Figure size 432x288 with 1 Axes>"
      ]
     },
     "metadata": {
      "needs_background": "light"
     },
     "output_type": "display_data"
    }
   ],
   "source": [
    "histdf[['val_loss','loss']].plot()\n",
    "plt.show()"
   ]
  },
  {
   "cell_type": "code",
   "execution_count": null,
   "id": "entire-research",
   "metadata": {},
   "outputs": [],
   "source": []
  }
 ],
 "metadata": {
  "kernelspec": {
   "display_name": "Python 3",
   "language": "python",
   "name": "python3"
  },
  "language_info": {
   "codemirror_mode": {
    "name": "ipython",
    "version": 3
   },
   "file_extension": ".py",
   "mimetype": "text/x-python",
   "name": "python",
   "nbconvert_exporter": "python",
   "pygments_lexer": "ipython3",
   "version": "3.8.5"
  }
 },
 "nbformat": 4,
 "nbformat_minor": 5
}
