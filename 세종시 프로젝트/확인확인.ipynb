{
 "cells": [
  {
   "cell_type": "code",
   "execution_count": null,
   "metadata": {
    "ExecuteTime": {
     "end_time": "2021-03-23T08:59:34.965371Z",
     "start_time": "2021-03-23T08:59:33.632073Z"
    }
   },
   "outputs": [],
   "source": [
    "import pandas as pd\n",
    "import mapboxgl\n",
    "from mapboxgl.viz import *\n",
    "import json\n",
    "import os\n",
    "from mapboxgl.utils import create_color_stops"
   ]
  },
  {
   "cell_type": "code",
   "execution_count": null,
   "metadata": {
    "ExecuteTime": {
     "end_time": "2021-03-23T08:59:34.986346Z",
     "start_time": "2021-03-23T08:59:34.973353Z"
    }
   },
   "outputs": [],
   "source": [
    "with open('32.세종시_행정경계(읍면동).geojson',mode='rt',encoding='utf-8') as f:\n",
    "    data = json.loads(f.read())\n",
    "    f.close()\n",
    "data"
   ]
  },
  {
   "cell_type": "code",
   "execution_count": null,
   "metadata": {
    "ExecuteTime": {
     "end_time": "2021-03-20T08:50:57.881566Z",
     "start_time": "2021-03-20T08:50:57.876580Z"
    }
   },
   "outputs": [],
   "source": [
    "def rep(df):\n",
    "    return df.replace(' ','')"
   ]
  },
  {
   "cell_type": "code",
   "execution_count": null,
   "metadata": {},
   "outputs": [],
   "source": [
    "data2=pd.read_csv('28.세종시_지역별_세대원수별_세대수.csv')\n",
    "data2['1인비율']=data2['1인']/data2['계']\n",
    "data2['2인비율']=data2['2인']/data2['계']\n",
    "data2['3인이상비율']=(data2['계']-data2['1인']-data2['2인'])/data2['계']\n",
    "data2['읍면동']=data2['읍면동'].apply(rep)\n",
    "data3=data2.set_index(\"읍면동\")\n",
    "data3=data3.reindex(index=[\"조치원읍\",\"연기면\",\"연동면\",\"부강면\",\"금남면\",\"장군면\",\"연서면\",\"전의면\",\"전동면\",\"소정면\",\"도담동\",\"고운동\",\"종촌동\",\"소담동\",\"새롬동\",\"아름동\",\"한솔동\",\"대평동\",\"보람동\"])"
   ]
  },
  {
   "cell_type": "code",
   "execution_count": null,
   "metadata": {},
   "outputs": [],
   "source": []
  }
 ],
 "metadata": {
  "kernelspec": {
   "display_name": "Python 3",
   "language": "python",
   "name": "python3"
  },
  "language_info": {
   "codemirror_mode": {
    "name": "ipython",
    "version": 3
   },
   "file_extension": ".py",
   "mimetype": "text/x-python",
   "name": "python",
   "nbconvert_exporter": "python",
   "pygments_lexer": "ipython3",
   "version": "3.8.5"
  },
  "toc": {
   "base_numbering": 1,
   "nav_menu": {},
   "number_sections": true,
   "sideBar": true,
   "skip_h1_title": false,
   "title_cell": "Table of Contents",
   "title_sidebar": "Contents",
   "toc_cell": false,
   "toc_position": {},
   "toc_section_display": true,
   "toc_window_display": false
  },
  "varInspector": {
   "cols": {
    "lenName": 16,
    "lenType": 16,
    "lenVar": 40
   },
   "kernels_config": {
    "python": {
     "delete_cmd_postfix": "",
     "delete_cmd_prefix": "del ",
     "library": "var_list.py",
     "varRefreshCmd": "print(var_dic_list())"
    },
    "r": {
     "delete_cmd_postfix": ") ",
     "delete_cmd_prefix": "rm(",
     "library": "var_list.r",
     "varRefreshCmd": "cat(var_dic_list()) "
    }
   },
   "types_to_exclude": [
    "module",
    "function",
    "builtin_function_or_method",
    "instance",
    "_Feature"
   ],
   "window_display": false
  }
 },
 "nbformat": 4,
 "nbformat_minor": 4
}