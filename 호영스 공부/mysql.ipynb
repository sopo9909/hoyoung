{
 "cells": [
  {
   "cell_type": "code",
   "execution_count": 1,
   "metadata": {
    "ExecuteTime": {
     "end_time": "2021-02-08T02:35:10.521139Z",
     "start_time": "2021-02-08T02:34:48.276030Z"
    }
   },
   "outputs": [
    {
     "data": {
      "text/plain": [
       "['Collecting package metadata (current_repodata.json): ...working... done',\n",
       " 'Solving environment: ...working... done',\n",
       " '',\n",
       " '## Package Plan ##',\n",
       " '',\n",
       " '  environment location: C:\\\\Users\\\\701\\\\anaconda3',\n",
       " '',\n",
       " '  added / updated specs:',\n",
       " '    - pymysql',\n",
       " '',\n",
       " '',\n",
       " 'The following packages will be downloaded:',\n",
       " '',\n",
       " '    package                    |            build',\n",
       " '    ---------------------------|-----------------',\n",
       " '    pymysql-1.0.2              |   py38haa95532_1          77 KB',\n",
       " '    ------------------------------------------------------------',\n",
       " '                                           Total:          77 KB',\n",
       " '',\n",
       " 'The following NEW packages will be INSTALLED:',\n",
       " '',\n",
       " '  pymysql            pkgs/main/win-64::pymysql-1.0.2-py38haa95532_1',\n",
       " '',\n",
       " '',\n",
       " 'Proceed ([y]/n)? ',\n",
       " '',\n",
       " 'Downloading and Extracting Packages',\n",
       " '',\n",
       " 'pymysql-1.0.2        | 77 KB     |            |   0% ',\n",
       " 'pymysql-1.0.2        | 77 KB     | ########## | 100% ',\n",
       " 'pymysql-1.0.2        | 77 KB     | ########## | 100% ',\n",
       " 'Preparing transaction: ...working... done',\n",
       " 'Verifying transaction: ...working... done',\n",
       " 'Executing transaction: ...working... done']"
      ]
     },
     "execution_count": 1,
     "metadata": {},
     "output_type": "execute_result"
    }
   ],
   "source": [
    "!!conda install PyMySQL"
   ]
  },
  {
   "cell_type": "markdown",
   "metadata": {},
   "source": [
    "# DB 정보 설정"
   ]
  },
  {
   "cell_type": "code",
   "execution_count": 5,
   "metadata": {
    "ExecuteTime": {
     "end_time": "2021-02-08T02:40:34.499502Z",
     "start_time": "2021-02-08T02:40:34.480579Z"
    }
   },
   "outputs": [],
   "source": [
    "import  pymysql.cursors \n",
    "\n",
    "connection = pymysql.connect(host='localhost', port=3306, user='root', password='1234', db='mydb')"
   ]
  },
  {
   "cell_type": "raw",
   "metadata": {},
   "source": [
    "host: MySQL 서버의 호스트. 이번에는 서버를localhost(127.0.0.1)에 작성했지만 원격에있는 경우에는 해당 IP 주소 또는 호스트 이름을 지정합니다.\n",
    "port: MySQL 서버의 포트. 기본적으로 3306로 시작하고 있습니다. .\n",
    "user : 서버에 연결된 사용자입니다. 이번에는 견본을 위해, root 를 사용하지만 프로덕션 서버에서 root 로 접속하는 것은 매우 위험하므로 조심합시다.\n",
    "password: 서버 연결 사용자가 설정한 암호입니다.."
   ]
  },
  {
   "cell_type": "markdown",
   "metadata": {},
   "source": [
    "## 데이터베이스를 관리하는 객체"
   ]
  },
  {
   "cell_type": "code",
   "execution_count": 6,
   "metadata": {
    "ExecuteTime": {
     "end_time": "2021-02-08T02:41:51.384624Z",
     "start_time": "2021-02-08T02:41:51.376664Z"
    }
   },
   "outputs": [],
   "source": [
    "cursor = connection.cursor()"
   ]
  },
  {
   "cell_type": "markdown",
   "metadata": {},
   "source": [
    "### cursor의 execute () 메소드에서 SQL 문을 실행할 수 있습니다. 메소드의 반환 값은 SQL 수행 될 때 변경된 행이 반환됩니다."
   ]
  },
  {
   "cell_type": "code",
   "execution_count": 7,
   "metadata": {
    "ExecuteTime": {
     "end_time": "2021-02-08T02:41:54.872822Z",
     "start_time": "2021-02-08T02:41:54.832412Z"
    }
   },
   "outputs": [
    {
     "data": {
      "text/plain": [
       "0"
      ]
     },
     "execution_count": 7,
     "metadata": {},
     "output_type": "execute_result"
    }
   ],
   "source": [
    "cursor.execute(\"CREATE TABLE sample_tbl (id int, firstname varchar(255), lastname varchar(255));\")"
   ]
  },
  {
   "cell_type": "markdown",
   "metadata": {},
   "source": [
    "### 데이터의 취득이있는 경우에는 fetchone () , fetchall () 등의 메소드에서 데이터 검색을합시다."
   ]
  },
  {
   "cell_type": "code",
   "execution_count": 8,
   "metadata": {
    "ExecuteTime": {
     "end_time": "2021-02-08T02:41:57.609258Z",
     "start_time": "2021-02-08T02:41:57.598288Z"
    }
   },
   "outputs": [],
   "source": [
    "cursor.fetchone()"
   ]
  },
  {
   "cell_type": "markdown",
   "metadata": {},
   "source": [
    "### 기본적으로 AUTO_COMMIT = False로되어 있기 때문에, SQL 실행의 반영에는 수동으로 COMMIT 가 필요합니다.\n",
    "\n",
    "### COMMIT 는 Connection 의 commit () 메소드에서 실행할 수 있습니다."
   ]
  },
  {
   "cell_type": "code",
   "execution_count": 9,
   "metadata": {
    "ExecuteTime": {
     "end_time": "2021-02-08T02:41:59.957503Z",
     "start_time": "2021-02-08T02:41:59.950521Z"
    }
   },
   "outputs": [],
   "source": [
    "connection.commit()"
   ]
  },
  {
   "cell_type": "markdown",
   "metadata": {},
   "source": [
    "### 소켓을 닫고 종료하려면 Connection 의 close () 메소드를 호출합니다."
   ]
  },
  {
   "cell_type": "code",
   "execution_count": 10,
   "metadata": {
    "ExecuteTime": {
     "end_time": "2021-02-08T02:42:03.134662Z",
     "start_time": "2021-02-08T02:42:03.126682Z"
    }
   },
   "outputs": [],
   "source": [
    "connection.close()"
   ]
  },
  {
   "cell_type": "code",
   "execution_count": 12,
   "metadata": {
    "ExecuteTime": {
     "end_time": "2021-02-08T02:42:20.767327Z",
     "start_time": "2021-02-08T02:42:20.742394Z"
    }
   },
   "outputs": [],
   "source": [
    "# 구현 예 1\n",
    "import pymysql\n",
    "\n",
    "connection = pymysql.connect(host='localhost', port=3306, user='root', password='1234', db='mydb')\n",
    "\n",
    "try:\n",
    "    with connection.cursor() as cursor:\n",
    "        sql = \"INSERT INTO sample_tbl (id, firstname, lastname) VALUES (1, 'mars', 'quai');\"\n",
    "        cursor.execute(sql)\n",
    "        connection.commit()\n",
    "finally:\n",
    "    connection.close()"
   ]
  },
  {
   "cell_type": "code",
   "execution_count": 14,
   "metadata": {
    "ExecuteTime": {
     "end_time": "2021-02-08T03:00:34.887024Z",
     "start_time": "2021-02-08T03:00:34.870069Z"
    }
   },
   "outputs": [],
   "source": [
    "#구현 예 2\n",
    "import pymysql, contextlib\n",
    "\n",
    "connection = pymysql.connect(host='localhost', port=3306, user='root', password='1234', db='mydb')\n",
    "\n",
    "with contextlib.closing(connection):\n",
    "    with connection.cursor() as cursor:\n",
    "        sql = \"INSERT INTO sample_tbl (id, firstname, lastname) VALUES (1, 'mars', 'quai');\"\n",
    "        cursor.execute(sql)\n",
    "        connection.commit()"
   ]
  },
  {
   "cell_type": "code",
   "execution_count": 16,
   "metadata": {
    "ExecuteTime": {
     "end_time": "2021-02-08T03:00:44.643935Z",
     "start_time": "2021-02-08T03:00:44.628974Z"
    }
   },
   "outputs": [
    {
     "name": "stdout",
     "output_type": "stream",
     "text": [
      "Database version : 8.0.22 \n"
     ]
    }
   ],
   "source": [
    "import pymysql\n",
    "\n",
    "\n",
    "db = pymysql.connect(host='localhost', port=3306, user='root', password='1234', db='mydb')\n",
    "\n",
    "cursor = db.cursor() \n",
    "\n",
    "cursor.execute(\"SELECT VERSION()\") \n",
    "\n",
    "data = cursor.fetchone()\n",
    "print (\"Database version : %s \" % data)"
   ]
  },
  {
   "cell_type": "code",
   "execution_count": 17,
   "metadata": {
    "ExecuteTime": {
     "end_time": "2021-02-08T03:00:50.576314Z",
     "start_time": "2021-02-08T03:00:50.479542Z"
    }
   },
   "outputs": [],
   "source": [
    "#데이터베이스 테이블 생성\n",
    "import pymysql\n",
    "\n",
    "db = pymysql.connect(host='localhost', port=3306, user='root', password='1234', db='mydb' )\n",
    "\n",
    "cursor = db.cursor()\n",
    "\n",
    "cursor.execute(\"DROP TABLE IF EXISTS EMPLOYEE\")\n",
    "\n",
    "sql = \"\"\"CREATE TABLE EMPLOYEE (\n",
    "   FIRST_NAME  CHAR(20) NOT NULL,\n",
    "   LAST_NAME  CHAR(20),\n",
    "   AGE INT,  \n",
    "   SEX CHAR(1),\n",
    "   INCOME FLOAT )\"\"\"\n",
    "\n",
    "cursor.execute(sql)\n",
    "\n",
    "db.close()"
   ]
  },
  {
   "cell_type": "code",
   "execution_count": 18,
   "metadata": {
    "ExecuteTime": {
     "end_time": "2021-02-08T03:00:54.738898Z",
     "start_time": "2021-02-08T03:00:54.729923Z"
    }
   },
   "outputs": [],
   "source": [
    "#INSERT 작업\n",
    "import pymysql\n",
    "\n",
    "db = pymysql.connect(host='localhost', port=3306, user='root', password='1234', db='mydb')\n",
    "\n",
    "cursor = db.cursor()\n",
    "\n",
    "sql = \"\"\"\"INSERT INTO EMPLOYEE(FIRST_NAME, \\\n",
    "   LAST_NAME, AGE, SEX, INCOME) \\\n",
    "   VALUES ('%s', '%s', '%d', '%c', '%d' )\" % \\\n",
    "   VALUES ('LEE', 'james', 48, 'M', 10000)\"\"\"\n",
    "try:\n",
    "   \n",
    "   cursor.execute(sql)\n",
    "   \n",
    "   db.commit()\n",
    "except:\n",
    "   \n",
    "   db.rollback()\n",
    "\n",
    "\n",
    "db.close()"
   ]
  },
  {
   "cell_type": "code",
   "execution_count": 19,
   "metadata": {
    "ExecuteTime": {
     "end_time": "2021-02-08T03:00:58.336837Z",
     "start_time": "2021-02-08T03:00:58.324869Z"
    }
   },
   "outputs": [],
   "source": [
    "# 내용보기\n",
    "import pymysql\n",
    "\n",
    "db = pymysql.connect(host='localhost', port=3306, user='root', password='1234', db='mydb')\n",
    "\n",
    "cursor = db.cursor()\n",
    "\n",
    "sql = \"SELECT * FROM EMPLOYEE \\\n",
    "      WHERE INCOME > '%d'\" % (1000)\n",
    "try:\n",
    "    cursor.execute(sql)\n",
    "    results = cursor.fetchall()\n",
    "    for row in results:\n",
    "        fname = row[0]\n",
    "        lname = row[1]\n",
    "        age = row[2]\n",
    "        sex = row[3]\n",
    "        income = row[4]\n",
    "        print (\"fname = %s,lname = %s,age = %d,sex = %s,income = %d\" % \\\n",
    "         (fname, lname, age, sex, income ))\n",
    "except:\n",
    "    print (\"Error: unable to fetch data\")\n",
    "\n",
    "db.close()"
   ]
  },
  {
   "cell_type": "code",
   "execution_count": 20,
   "metadata": {
    "ExecuteTime": {
     "end_time": "2021-02-08T03:01:04.951463Z",
     "start_time": "2021-02-08T03:01:04.931481Z"
    }
   },
   "outputs": [],
   "source": [
    "#업데이트\n",
    "import pymysql\n",
    "\n",
    "db = pymysql.connect(host='localhost', port=3306, user='root', password='1234', db='mydb')\n",
    "\n",
    "cursor = db.cursor()\n",
    "sql = \"UPDATE EMPLOYEE SET AGE = AGE + 1 WHERE SEX = '%c'\" % ('M')\n",
    "try:\n",
    "    cursor.execute(sql)\n",
    "    db.commit()\n",
    "except:\n",
    "    db.rollback()\n",
    "\n",
    "db.close()"
   ]
  },
  {
   "cell_type": "code",
   "execution_count": 21,
   "metadata": {
    "ExecuteTime": {
     "end_time": "2021-02-08T03:01:08.954218Z",
     "start_time": "2021-02-08T03:01:08.936265Z"
    }
   },
   "outputs": [],
   "source": [
    "#작업 삭제\n",
    "import pymysql\n",
    "\n",
    "db = pymysql.connect(host='localhost', port=3306, user='root', password='1234', db='mydb')\n",
    "sql = \"DELETE FROM EMPLOYEE WHERE AGE > '%d'\" % (20)\n",
    "try:\n",
    "    cursor.execute(sql)\n",
    "    db.commit()\n",
    "except:\n",
    "    db.rollback()\n",
    "db.close()"
   ]
  },
  {
   "cell_type": "code",
   "execution_count": 24,
   "metadata": {
    "ExecuteTime": {
     "end_time": "2021-02-08T03:13:53.007321Z",
     "start_time": "2021-02-08T03:13:44.753980Z"
    }
   },
   "outputs": [
    {
     "name": "stdout",
     "output_type": "stream",
     "text": [
      "Collecting mysql\n",
      "  Downloading mysql-0.0.2.tar.gz (1.9 kB)\n",
      "Collecting mysqlclient\n",
      "  Downloading mysqlclient-2.0.3-cp38-cp38-win_amd64.whl (179 kB)\n",
      "Building wheels for collected packages: mysql\n",
      "  Building wheel for mysql (setup.py): started\n",
      "  Building wheel for mysql (setup.py): finished with status 'done'\n",
      "  Created wheel for mysql: filename=mysql-0.0.2-py3-none-any.whl size=1252 sha256=8188d34aaaebe780846b0628183b2fe5563f6d29389c9415238021271b0d7bc9\n",
      "  Stored in directory: c:\\users\\701\\appdata\\local\\pip\\cache\\wheels\\3e\\4a\\d0\\506edab38d1bdf574b02c24805fcf7348a327297fcc285431d\n",
      "Successfully built mysql\n",
      "Installing collected packages: mysqlclient, mysql\n",
      "Successfully installed mysql-0.0.2 mysqlclient-2.0.3\n"
     ]
    }
   ],
   "source": [
    "!pip install mysql"
   ]
  },
  {
   "cell_type": "code",
   "execution_count": 25,
   "metadata": {
    "ExecuteTime": {
     "end_time": "2021-02-08T03:14:01.313876Z",
     "start_time": "2021-02-08T03:14:01.283957Z"
    }
   },
   "outputs": [
    {
     "ename": "ModuleNotFoundError",
     "evalue": "No module named 'mysql'",
     "output_type": "error",
     "traceback": [
      "\u001b[1;31m---------------------------------------------------------------------------\u001b[0m",
      "\u001b[1;31mModuleNotFoundError\u001b[0m                       Traceback (most recent call last)",
      "\u001b[1;32m<ipython-input-25-34d573779914>\u001b[0m in \u001b[0;36m<module>\u001b[1;34m\u001b[0m\n\u001b[0;32m      2\u001b[0m \u001b[1;32mfrom\u001b[0m  \u001b[0mtkinter\u001b[0m \u001b[1;32mimport\u001b[0m  \u001b[0mttk\u001b[0m\u001b[1;33m\u001b[0m\u001b[1;33m\u001b[0m\u001b[0m\n\u001b[0;32m      3\u001b[0m \u001b[1;33m\u001b[0m\u001b[0m\n\u001b[1;32m----> 4\u001b[1;33m \u001b[1;32mimport\u001b[0m \u001b[0mmysql\u001b[0m\u001b[1;33m.\u001b[0m\u001b[0mconnector\u001b[0m\u001b[1;33m\u001b[0m\u001b[1;33m\u001b[0m\u001b[0m\n\u001b[0m\u001b[0;32m      5\u001b[0m \u001b[1;33m\u001b[0m\u001b[0m\n\u001b[0;32m      6\u001b[0m \u001b[0mconn\u001b[0m \u001b[1;33m=\u001b[0m \u001b[0mmysql\u001b[0m\u001b[1;33m.\u001b[0m\u001b[0mconnector\u001b[0m\u001b[1;33m.\u001b[0m\u001b[0mconnect\u001b[0m\u001b[1;33m(\u001b[0m\u001b[0mhost\u001b[0m\u001b[1;33m=\u001b[0m\u001b[1;34m'localhost'\u001b[0m\u001b[1;33m,\u001b[0m \u001b[0mport\u001b[0m\u001b[1;33m=\u001b[0m\u001b[1;36m3306\u001b[0m\u001b[1;33m,\u001b[0m \u001b[0muser\u001b[0m\u001b[1;33m=\u001b[0m\u001b[1;34m'root'\u001b[0m\u001b[1;33m,\u001b[0m \u001b[0mpassword\u001b[0m\u001b[1;33m=\u001b[0m\u001b[1;34m'1234'\u001b[0m\u001b[1;33m,\u001b[0m \u001b[0mdb\u001b[0m\u001b[1;33m=\u001b[0m\u001b[1;34m'mydb'\u001b[0m\u001b[1;33m)\u001b[0m\u001b[1;33m\u001b[0m\u001b[1;33m\u001b[0m\u001b[0m\n",
      "\u001b[1;31mModuleNotFoundError\u001b[0m: No module named 'mysql'"
     ]
    }
   ],
   "source": [
    "from tkinter import *\n",
    "from  tkinter import  ttk\n",
    "\n",
    "import mysql.connector\n",
    "\n",
    "conn = mysql.connector.connect(host='localhost', port=3306, user='root', password='1234', db='mydb')\n",
    "\n",
    "\n",
    "def register():\n",
    "    \n",
    "    name1=name.get()\n",
    "    con1=contact.get()\n",
    "    email1=email.get()\n",
    "    gen1=gender.get()\n",
    "    city1=city.get()\n",
    "    state1=state.get()\n",
    "   \n",
    "    if name1=='' or con1==''or email1=='' or gen1==''or city1==''or state1=='':\n",
    "        message.set(\"empty field\")\n",
    "    else:\n",
    "       \n",
    "       cursor = conn.cursor()\n",
    "       \n",
    "       insert_stmt = (\n",
    "           \"INSERT INTO REG(NAME, CONTACT, EMAIL, GENDER, CITY, STATE)\"\n",
    "           \"VALUES (%s, %s, %s, %s, %s, %s)\"\n",
    "       )\n",
    "    if gen1==1:\n",
    "        data = (name1, con1,email1,\"Male\",city1,state1)\n",
    "    else:\n",
    "        data = (name1, con1, email1, \"Female\", city1, state1)\n",
    "    try:\n",
    "           \n",
    "        cursor.execute(insert_stmt,data)\n",
    "           \n",
    "        conn.commit()\n",
    "    except:\n",
    "        conn.rollback()\n",
    "        message.set(\"Stored successfully\")\n",
    "\n",
    "\n",
    "def Registrationform():\n",
    "    global reg_screen\n",
    "    reg_screen = Tk()\n",
    "    \n",
    "    reg_screen.title(\"Registration Form\")\n",
    "    \n",
    "    reg_screen.geometry(\"350x400\")\n",
    "    \n",
    "    global message;\n",
    "    global name\n",
    "    global contact\n",
    "    global email\n",
    "    global gender\n",
    "    global city\n",
    "    global state\n",
    "    name = StringVar()\n",
    "    contact = StringVar()\n",
    "    email=StringVar()\n",
    "    gender=IntVar()\n",
    "    city=StringVar()\n",
    "    state=StringVar()\n",
    "    message=StringVar()\n",
    "    \n",
    "    Label(reg_screen,width=\"300\", text=\"Please enter\", bg=\"orange\",fg=\"white\").pack()\n",
    "    \n",
    "    Label(reg_screen, text=\"Name * \").place(x=20,y=40)\n",
    "    \n",
    "    Entry(reg_screen, textvariable=name).place(x=90,y=42)\n",
    "    \n",
    "    Label(reg_screen, text=\"Contact * \").place(x=20,y=80)\n",
    "    \n",
    "    Entry(reg_screen, textvariable=contact).place(x=90,y=82)\n",
    "\n",
    "    \n",
    "    Label(reg_screen, text=\"Email * \").place(x=20, y=120)\n",
    "    \n",
    "    Entry(reg_screen, textvariable=email).place(x=90, y=122)\n",
    "\n",
    "    \n",
    "    Label(reg_screen, text=\"Gender * \").place(x=20, y=160)\n",
    "    \n",
    "    Radiobutton(reg_screen,text=\"Male\",variable=gender,value=1).place(x=90,y=162)\n",
    "    Radiobutton(reg_screen, text=\"Female\", variable=gender, value=2).place(x=150, y=162)\n",
    "\n",
    "    \n",
    "    Label(reg_screen, text=\"City * \").place(x=20, y=200)\n",
    "    \n",
    "    monthchoosen = ttk.Combobox(reg_screen, width=27, textvariable=city)\n",
    "    monthchoosen['values'] = (' A',\n",
    "                              ' B',\n",
    "                              ' C',\n",
    "                              ' D',\n",
    "                              ' E',\n",
    "                              ' F',\n",
    "                              ' G',\n",
    "                              ' H',\n",
    "                              ' I',)\n",
    "    monthchoosen.current()\n",
    "    monthchoosen.place(x=90,y=202)\n",
    "\n",
    " \n",
    "    Label(reg_screen, text=\"State * \").place(x=20, y=240)\n",
    "    \n",
    "    monthchoosen = ttk.Combobox(reg_screen, width=27, textvariable=state)\n",
    "    monthchoosen['values'] = (' A',\n",
    "                              ' B',\n",
    "                              ' C',\n",
    "                              ' D',\n",
    "                              ' E',\n",
    "                              ' F',)\n",
    "    monthchoosen.current()\n",
    "    monthchoosen.place(x=90, y=242)\n",
    "  \n",
    "    Label(reg_screen, text=\"\",textvariable=message).place(x=95,y=264)\n",
    "    \n",
    "    Button(reg_screen, text=\"Register\", width=10, height=1, bg=\"orange\",command=register).place(x=105,y=300)\n",
    "    reg_screen.mainloop()\n",
    "\n",
    "Registrationform()"
   ]
  },
  {
   "cell_type": "code",
   "execution_count": null,
   "metadata": {},
   "outputs": [],
   "source": []
  }
 ],
 "metadata": {
  "kernelspec": {
   "display_name": "Python 3",
   "language": "python",
   "name": "python3"
  },
  "language_info": {
   "codemirror_mode": {
    "name": "ipython",
    "version": 3
   },
   "file_extension": ".py",
   "mimetype": "text/x-python",
   "name": "python",
   "nbconvert_exporter": "python",
   "pygments_lexer": "ipython3",
   "version": "3.8.5"
  },
  "toc": {
   "base_numbering": 1,
   "nav_menu": {},
   "number_sections": true,
   "sideBar": true,
   "skip_h1_title": false,
   "title_cell": "Table of Contents",
   "title_sidebar": "Contents",
   "toc_cell": false,
   "toc_position": {},
   "toc_section_display": true,
   "toc_window_display": false
  },
  "varInspector": {
   "cols": {
    "lenName": 16,
    "lenType": 16,
    "lenVar": 40
   },
   "kernels_config": {
    "python": {
     "delete_cmd_postfix": "",
     "delete_cmd_prefix": "del ",
     "library": "var_list.py",
     "varRefreshCmd": "print(var_dic_list())"
    },
    "r": {
     "delete_cmd_postfix": ") ",
     "delete_cmd_prefix": "rm(",
     "library": "var_list.r",
     "varRefreshCmd": "cat(var_dic_list()) "
    }
   },
   "types_to_exclude": [
    "module",
    "function",
    "builtin_function_or_method",
    "instance",
    "_Feature"
   ],
   "window_display": false
  }
 },
 "nbformat": 4,
 "nbformat_minor": 4
}
