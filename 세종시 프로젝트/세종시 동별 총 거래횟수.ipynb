{
 "cells": [
  {
   "cell_type": "code",
   "execution_count": 2,
   "metadata": {
    "ExecuteTime": {
     "end_time": "2021-03-23T00:56:34.840510Z",
     "start_time": "2021-03-23T00:56:32.159011Z"
    }
   },
   "outputs": [],
   "source": [
    "import pandas as pd\n",
    "import numpy as np\n",
    "import matplotlib.pyplot as plt\n",
    "import platform\n",
    "import platform\n",
    "from matplotlib import font_manager, rc\n",
    "import matplotlib.pyplot as plt\n",
    "from sklearn.preprocessing import LabelEncoder\n",
    "import seaborn as sns\n",
    "##그래프의 결과를 출력 세션에 나타나게 하자\n",
    "%matplotlib inline \n",
    "plt.rcParams['axes.unicode_minus'] = False\n",
    "if platform.system() == 'Darwin':\n",
    "    rc('font', family = 'AppleGothic')\n",
    "elif platform.system() == 'Windows':\n",
    "    path ='C:/Windows/Fonts/malgun.ttf'\n",
    "    font_name = font_manager.FontProperties(fname=path).get_name()\n",
    "    rc('font', family=font_name)\n",
    "else:\n",
    "    print(\"Can't find your system.\")"
   ]
  },
  {
   "cell_type": "code",
   "execution_count": 3,
   "metadata": {
    "ExecuteTime": {
     "end_time": "2021-03-23T00:56:34.868437Z",
     "start_time": "2021-03-23T00:56:34.858464Z"
    }
   },
   "outputs": [],
   "source": [
    "#읍면동 구분하는 함수\n",
    "def sort_dong(df):\n",
    "    a=df.split(\" \")\n",
    "    if a[1][-1]=='동':\n",
    "        return '동'\n",
    "    elif a[1][-1]=='면':\n",
    "        return '면'\n",
    "    else :\n",
    "        return '읍'\n",
    "#동 구분하는 함수\n",
    "def sort_dong2(df):\n",
    "    a=df.split(\" \")\n",
    "    return a[1]\n",
    "#년도 추출\n",
    "def year(df):\n",
    "    return df[:-2]\n",
    "#평수 분해\n",
    "def pyeong(df):\n",
    "    if df< 33:\n",
    "        return '10평 미만'\n",
    "    elif df>= 33 and df < 66:\n",
    "        return '10~20평'\n",
    "    elif df>= 66 and df < 99:\n",
    "        return '20~30평'\n",
    "    elif df>= 99 and df < 132:\n",
    "        return '30~40평'\n",
    "    elif df>= 132 and df < 165:\n",
    "        return '40~50평'\n",
    "    elif df>= 165 and df < 198:\n",
    "        return '50~60평'\n",
    "    else:\n",
    "        return '60평 이상'\n",
    "def mon(df):\n",
    "    return df[-2:]\n",
    "def pyeong2(df):\n",
    "    return int(df/3.3)\n",
    "def riri(df):\n",
    "    return int(float(df.replace(',','')))\n",
    "def rep(df):\n",
    "    if df == '-':\n",
    "        return 0\n",
    "    elif df.find('m이상') != -1:\n",
    "        return df.replace('m이상','')\n",
    "    else:\n",
    "        return df.replace('m미만','')"
   ]
  },
  {
   "cell_type": "code",
   "execution_count": 4,
   "metadata": {
    "ExecuteTime": {
     "end_time": "2021-03-23T00:56:35.063913Z",
     "start_time": "2021-03-23T00:56:34.894366Z"
    }
   },
   "outputs": [],
   "source": [
    "data1 = pd.read_csv('3.세종시_아파트(매매)_실거래가.csv')\n",
    "data2 = pd.read_csv('4.세종시_연립다세대(매매)_실거래가.csv')\n",
    "data3 = pd.read_csv('5.세종시_단독다가구(매매)_실거래가.csv')\n",
    "data4 = pd.read_csv('6.세종시_오피스텔(매매)_실거래가.csv')\n",
    "data5 = pd.read_csv('7.세종시_아파트(전월세)_실거래가.csv')\n",
    "data6 = pd.read_csv('8.세종시_연립다세대(전월세)_실거래가.csv')\n",
    "data7 = pd.read_csv('9.세종시_단독다가구(전월세)_실거래가.csv')\n",
    "data8 = pd.read_csv('10.세종시_오피스텔(전월세)_실거래가.csv')"
   ]
  },
  {
   "cell_type": "code",
   "execution_count": 5,
   "metadata": {
    "ExecuteTime": {
     "end_time": "2021-03-23T00:56:36.538389Z",
     "start_time": "2021-03-23T00:56:36.504453Z"
    }
   },
   "outputs": [],
   "source": [
    "data_all = pd.concat([data1,data2,data3,data4,data5,data6,data7,data8],ignore_index=True)"
   ]
  },
  {
   "cell_type": "code",
   "execution_count": 6,
   "metadata": {
    "ExecuteTime": {
     "end_time": "2021-03-23T00:56:37.312843Z",
     "start_time": "2021-03-23T00:56:37.152650Z"
    }
   },
   "outputs": [],
   "source": [
    "data_all['읍면동구분']=data_all['시군구'].apply(sort_dong)\n",
    "data_all['읍면동']=data_all['시군구'].apply(sort_dong2)\n",
    "data_all['년']=data_all['계약년월'].astype(str).apply(year)"
   ]
  },
  {
   "cell_type": "code",
   "execution_count": 27,
   "metadata": {
    "ExecuteTime": {
     "end_time": "2021-03-23T03:44:38.257381Z",
     "start_time": "2021-03-23T03:44:37.299819Z"
    }
   },
   "outputs": [
    {
     "data": {
      "image/png": "[encoded data removed]",
      "text/plain": [
       "<Figure size 1008x504 with 1 Axes>"
      ]
     },
     "metadata": {
      "needs_background": "light"
     },
     "output_type": "display_data"
    }
   ],
   "source": [
    "total_2017=data_all[data_all['년']=='2017']\n",
    "total_2018=data_all[data_all['년']=='2018']\n",
    "total_2019=data_all[data_all['년']=='2019']\n",
    "total_2020=data_all[data_all['년']=='2020']\n",
    "total_2017_a=total_2017.groupby('읍면동').count()\n",
    "total_2018_a=total_2018.groupby('읍면동').count()\n",
    "total_2019_a=total_2019.groupby('읍면동').count()\n",
    "total_2020_a=total_2020.groupby('읍면동').count()\n",
    "total_2020_a=total_2020_a.drop(['가람동','해밀동'])\n",
    "def create_x(t, w, n, d):\n",
    "    return [t*x + w*n for x in range(d)]\n",
    "value_a_x = create_x(5, 0.8, 1, 23)\n",
    "value_b_x = create_x(5, 0.8, 2, 23)\n",
    "value_c_x = create_x(5, 0.8, 3, 23)\n",
    "value_d_x = create_x(5, 0.8, 4, 23)\n",
    "plt.figure(figsize=(14,7))\n",
    "ax = plt.subplot()\n",
    "ax.bar(value_a_x,list(total_2017_a['계약년월'].values),label='2017',color=\"lightgreen\")#,width=0.5,color=\"blue\")\n",
    "ax.bar(value_b_x,list(total_2018_a['계약년월'].values),label='2018',color=\"salmon\")#,width=0.5,color=\"r\")\n",
    "ax.bar(value_c_x,list(total_2019_a['계약년월'].values),label='2019',color=\"lightsteelblue\")#,width=0.5,color=\"g\")\n",
    "ax.bar(value_d_x,list(total_2020_a['계약년월'].values),label='2020',color=\"powderblue\")#,width=0.5,color=\"y\")\n",
    "middle_x = [(a+b+c+d)/4 for (a,b,c,d) in zip(value_a_x, value_b_x, value_c_x, value_d_x)]\n",
    "ax.set_xticks(middle_x)\n",
    "ax.set_xticklabels(list(total_2017_a.index))\n",
    "a='세종시 전체 지역 총 거래량'\n",
    "plt.xlabel('읍면동명',fontsize=12)\n",
    "plt.ylabel('거래건 수(건)',fontsize=12)\n",
    "plt.title(a,fontsize=20)\n",
    "plt.legend()\n",
    "plt.savefig(a+'.png')\n",
    "plt.show()"
   ]
  },
  {
   "cell_type": "code",
   "execution_count": 19,
   "metadata": {
    "ExecuteTime": {
     "end_time": "2021-03-23T01:14:49.029555Z",
     "start_time": "2021-03-23T01:14:49.012605Z"
    }
   },
   "outputs": [
    {
     "data": {
      "text/html": [
       "<div>\n",
       "<style scoped>\n",
       "    .dataframe tbody tr th:only-of-type {\n",
       "        vertical-align: middle;\n",
       "    }\n",
       "\n",
       "    .dataframe tbody tr th {\n",
       "        vertical-align: top;\n",
       "    }\n",
       "\n",
       "    .dataframe thead th {\n",
       "        text-align: right;\n",
       "    }\n",
       "</style>\n",
       "<table border=\"1\" class=\"dataframe\">\n",
       "  <thead>\n",
       "    <tr style=\"text-align: right;\">\n",
       "      <th></th>\n",
       "      <th>2017</th>\n",
       "      <th>2018</th>\n",
       "      <th>2019</th>\n",
       "      <th>2020</th>\n",
       "    </tr>\n",
       "  </thead>\n",
       "  <tbody>\n",
       "    <tr>\n",
       "      <th>고운동</th>\n",
       "      <td>2389</td>\n",
       "      <td>1388</td>\n",
       "      <td>1960</td>\n",
       "      <td>2723</td>\n",
       "    </tr>\n",
       "    <tr>\n",
       "      <th>금남면</th>\n",
       "      <td>326</td>\n",
       "      <td>311</td>\n",
       "      <td>323</td>\n",
       "      <td>514</td>\n",
       "    </tr>\n",
       "    <tr>\n",
       "      <th>나성동</th>\n",
       "      <td>125</td>\n",
       "      <td>375</td>\n",
       "      <td>643</td>\n",
       "      <td>1012</td>\n",
       "    </tr>\n",
       "    <tr>\n",
       "      <th>다정동</th>\n",
       "      <td>24</td>\n",
       "      <td>855</td>\n",
       "      <td>824</td>\n",
       "      <td>1950</td>\n",
       "    </tr>\n",
       "    <tr>\n",
       "      <th>대평동</th>\n",
       "      <td>62</td>\n",
       "      <td>265</td>\n",
       "      <td>186</td>\n",
       "      <td>648</td>\n",
       "    </tr>\n",
       "    <tr>\n",
       "      <th>도담동</th>\n",
       "      <td>1614</td>\n",
       "      <td>1524</td>\n",
       "      <td>2058</td>\n",
       "      <td>2243</td>\n",
       "    </tr>\n",
       "    <tr>\n",
       "      <th>반곡동</th>\n",
       "      <td>4</td>\n",
       "      <td>10</td>\n",
       "      <td>262</td>\n",
       "      <td>169</td>\n",
       "    </tr>\n",
       "    <tr>\n",
       "      <th>보람동</th>\n",
       "      <td>961</td>\n",
       "      <td>423</td>\n",
       "      <td>1211</td>\n",
       "      <td>996</td>\n",
       "    </tr>\n",
       "    <tr>\n",
       "      <th>부강면</th>\n",
       "      <td>156</td>\n",
       "      <td>181</td>\n",
       "      <td>200</td>\n",
       "      <td>253</td>\n",
       "    </tr>\n",
       "    <tr>\n",
       "      <th>새롬동</th>\n",
       "      <td>724</td>\n",
       "      <td>542</td>\n",
       "      <td>2107</td>\n",
       "      <td>1370</td>\n",
       "    </tr>\n",
       "    <tr>\n",
       "      <th>소담동</th>\n",
       "      <td>749</td>\n",
       "      <td>316</td>\n",
       "      <td>517</td>\n",
       "      <td>552</td>\n",
       "    </tr>\n",
       "    <tr>\n",
       "      <th>소정면</th>\n",
       "      <td>15</td>\n",
       "      <td>20</td>\n",
       "      <td>14</td>\n",
       "      <td>172</td>\n",
       "    </tr>\n",
       "    <tr>\n",
       "      <th>아름동</th>\n",
       "      <td>1713</td>\n",
       "      <td>1396</td>\n",
       "      <td>1333</td>\n",
       "      <td>1652</td>\n",
       "    </tr>\n",
       "    <tr>\n",
       "      <th>어진동</th>\n",
       "      <td>598</td>\n",
       "      <td>721</td>\n",
       "      <td>732</td>\n",
       "      <td>768</td>\n",
       "    </tr>\n",
       "    <tr>\n",
       "      <th>연기면</th>\n",
       "      <td>92</td>\n",
       "      <td>82</td>\n",
       "      <td>87</td>\n",
       "      <td>166</td>\n",
       "    </tr>\n",
       "    <tr>\n",
       "      <th>연동면</th>\n",
       "      <td>101</td>\n",
       "      <td>53</td>\n",
       "      <td>61</td>\n",
       "      <td>176</td>\n",
       "    </tr>\n",
       "    <tr>\n",
       "      <th>연서면</th>\n",
       "      <td>153</td>\n",
       "      <td>116</td>\n",
       "      <td>119</td>\n",
       "      <td>205</td>\n",
       "    </tr>\n",
       "    <tr>\n",
       "      <th>장군면</th>\n",
       "      <td>272</td>\n",
       "      <td>250</td>\n",
       "      <td>282</td>\n",
       "      <td>320</td>\n",
       "    </tr>\n",
       "    <tr>\n",
       "      <th>전동면</th>\n",
       "      <td>27</td>\n",
       "      <td>23</td>\n",
       "      <td>11</td>\n",
       "      <td>35</td>\n",
       "    </tr>\n",
       "    <tr>\n",
       "      <th>전의면</th>\n",
       "      <td>78</td>\n",
       "      <td>75</td>\n",
       "      <td>104</td>\n",
       "      <td>100</td>\n",
       "    </tr>\n",
       "    <tr>\n",
       "      <th>조치원읍</th>\n",
       "      <td>2318</td>\n",
       "      <td>2058</td>\n",
       "      <td>2011</td>\n",
       "      <td>3604</td>\n",
       "    </tr>\n",
       "    <tr>\n",
       "      <th>종촌동</th>\n",
       "      <td>1903</td>\n",
       "      <td>1762</td>\n",
       "      <td>2470</td>\n",
       "      <td>2332</td>\n",
       "    </tr>\n",
       "    <tr>\n",
       "      <th>한솔동</th>\n",
       "      <td>1018</td>\n",
       "      <td>1012</td>\n",
       "      <td>991</td>\n",
       "      <td>1142</td>\n",
       "    </tr>\n",
       "  </tbody>\n",
       "</table>\n",
       "</div>"
      ],
      "text/plain": [
       "      2017  2018  2019  2020\n",
       "고운동   2389  1388  1960  2723\n",
       "금남면    326   311   323   514\n",
       "나성동    125   375   643  1012\n",
       "다정동     24   855   824  1950\n",
       "대평동     62   265   186   648\n",
       "도담동   1614  1524  2058  2243\n",
       "반곡동      4    10   262   169\n",
       "보람동    961   423  1211   996\n",
       "부강면    156   181   200   253\n",
       "새롬동    724   542  2107  1370\n",
       "소담동    749   316   517   552\n",
       "소정면     15    20    14   172\n",
       "아름동   1713  1396  1333  1652\n",
       "어진동    598   721   732   768\n",
       "연기면     92    82    87   166\n",
       "연동면    101    53    61   176\n",
       "연서면    153   116   119   205\n",
       "장군면    272   250   282   320\n",
       "전동면     27    23    11    35\n",
       "전의면     78    75   104   100\n",
       "조치원읍  2318  2058  2011  3604\n",
       "종촌동   1903  1762  2470  2332\n",
       "한솔동   1018  1012   991  1142"
      ]
     },
     "execution_count": 19,
     "metadata": {},
     "output_type": "execute_result"
    }
   ],
   "source": [
    "data_to = pd.DataFrame([list(total_2017_a['계약년월'].values), list(total_2018_a['계약년월'].values),list(total_2019_a['계약년월'].values),list(total_2020_a['계약년월'].values)], columns =list(total_2017_a.index)) \n",
    "data_to=data_to.T\n",
    "data_to.columns=['2017','2018','2019','2020']"
   ]
  },
  {
   "cell_type": "code",
   "execution_count": 10,
   "metadata": {
    "ExecuteTime": {
     "end_time": "2021-03-23T00:58:00.237800Z",
     "start_time": "2021-03-23T00:57:59.796920Z"
    }
   },
   "outputs": [
    {
     "data": {
      "image/png": "[encoded data removed]",
      "text/plain": [
       "<Figure size 432x288 with 1 Axes>"
      ]
     },
     "metadata": {
      "needs_background": "light"
     },
     "output_type": "display_data"
    }
   ],
   "source": [
    "total_2017_a=total_2017.groupby('읍면동').count()\n",
    "total_2018_a=total_2018.groupby('읍면동').count()\n",
    "total_2019_a=total_2019.groupby('읍면동').count()\n",
    "total_2020_a=total_2020.groupby('읍면동').count()\n",
    "total_2020_a=total_2020_a.drop(['가람동','해밀동'])\n",
    "#total_2017_ab=total_2017_a['새롬동','고운동','도담동','종촌동']\n",
    "total_2017_ab=total_2017_a.loc[['새롬동','고운동','도담동','종촌동']]\n",
    "total_2018_ab=total_2018_a.loc[['새롬동','고운동','도담동','종촌동']]\n",
    "total_2019_ab=total_2019_a.loc[['새롬동','고운동','도담동','종촌동']]\n",
    "total_2020_ab=total_2020_a.loc[['새롬동','고운동','도담동','종촌동']]\n",
    "def create_x(t, w, n, d):\n",
    "    return [t*x + w*n for x in range(d)]\n",
    "value_a_x = create_x(5, 0.8, 1, 4)\n",
    "value_b_x = create_x(5, 0.8, 2, 4)\n",
    "value_c_x = create_x(5, 0.8, 3, 4)\n",
    "value_d_x = create_x(5, 0.8, 4, 4)\n",
    "plt.figsize=(50,50)\n",
    "ax = plt.subplot()\n",
    "ax.bar(value_a_x,list(total_2017_ab['계약년월'].values),label='2017',color=\"lightgreen\")#,width=0.5,color=\"blue\")\n",
    "ax.bar(value_b_x,list(total_2018_ab['계약년월'].values),label='2018',color=\"salmon\")#,width=0.5,color=\"r\")\n",
    "ax.bar(value_c_x,list(total_2019_ab['계약년월'].values),label='2019',color=\"lightsteelblue\")#,width=0.5,color=\"g\")\n",
    "ax.bar(value_d_x,list(total_2020_ab['계약년월'].values),label='2020',color=\"powderblue\")#,width=0.5,color=\"y\")\n",
    "middle_x = [(a+b+c+d)/4 for (a,b,c,d) in zip(value_a_x, value_b_x, value_c_x, value_d_x)]\n",
    "ax.set_xticks(middle_x)\n",
    "ax.set_xticklabels(list(total_2017_ab.index))\n",
    "a='4개 동 총 거래횟수'\n",
    "plt.xlabel('읍면동명')\n",
    "plt.ylabel('거래건 수(건)')\n",
    "plt.title(a)\n",
    "plt.legend()\n",
    "plt.savefig(a+'.png')\n",
    "plt.show()"
   ]
  },
  {
   "cell_type": "code",
   "execution_count": null,
   "metadata": {},
   "outputs": [],
   "source": []
  }
 ],
 "metadata": {
  "kernelspec": {
   "display_name": "Python 3",
   "language": "python",
   "name": "python3"
  },
  "language_info": {
   "codemirror_mode": {
    "name": "ipython",
    "version": 3
   },
   "file_extension": ".py",
   "mimetype": "text/x-python",
   "name": "python",
   "nbconvert_exporter": "python",
   "pygments_lexer": "ipython3",
   "version": "3.8.5"
  },
  "toc": {
   "base_numbering": 1,
   "nav_menu": {},
   "number_sections": true,
   "sideBar": true,
   "skip_h1_title": false,
   "title_cell": "Table of Contents",
   "title_sidebar": "Contents",
   "toc_cell": false,
   "toc_position": {},
   "toc_section_display": true,
   "toc_window_display": false
  },
  "varInspector": {
   "cols": {
    "lenName": 16,
    "lenType": 16,
    "lenVar": 40
   },
   "kernels_config": {
    "python": {
     "delete_cmd_postfix": "",
     "delete_cmd_prefix": "del ",
     "library": "var_list.py",
     "varRefreshCmd": "print(var_dic_list())"
    },
    "r": {
     "delete_cmd_postfix": ") ",
     "delete_cmd_prefix": "rm(",
     "library": "var_list.r",
     "varRefreshCmd": "cat(var_dic_list()) "
    }
   },
   "types_to_exclude": [
    "module",
    "function",
    "builtin_function_or_method",
    "instance",
    "_Feature"
   ],
   "window_display": false
  }
 },
 "nbformat": 4,
 "nbformat_minor": 4
}
