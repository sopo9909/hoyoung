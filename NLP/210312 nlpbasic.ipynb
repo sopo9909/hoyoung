{
 "cells": [
  {
   "cell_type": "markdown",
   "metadata": {},
   "source": [
    "#### NLP(자연어 처리)\n",
    "* BOW(Bag of words)\n",
    "    - Word Count : 단어수 기반의 맵을 만들어서 의미 분석\n",
    "* 단어를 수집하여 문장의 특성을 파악\n",
    "- 아버지가방에들어가신다\n",
    "- 형태소분석 의미 분석\n",
    "    - 형태소 분석기 필요 :\n",
    "    - konlpy(한국판)\n",
    "    - mecab(일본판)\n",
    "    - kkma(한국판)"
   ]
  },
  {
   "cell_type": "raw",
   "metadata": {},
   "source": [
    "<영어> : 영어는 띄어쓰기만 해도 구별이 쉬움\n",
    "* The president delivered his first prime-time White House address, hours after signing into law a $1.9 trillion stimulus package."
   ]
  },
  {
   "cell_type": "raw",
   "metadata": {},
   "source": [
    "<한글> : 언어자체가 어렵고, 문법 띄어쓰기에 따라 의미가 많이 달라짐(용량도 크다)\n",
    "* 값, 걋, 갗, 굉 등  조합이 어려움"
   ]
  },
  {
   "cell_type": "code",
   "execution_count": 1,
   "metadata": {
    "ExecuteTime": {
     "end_time": "2021-03-12T07:58:52.936904Z",
     "start_time": "2021-03-12T07:58:52.644180Z"
    }
   },
   "outputs": [],
   "source": [
    "from konlpy.tag import Kkma"
   ]
  },
  {
   "cell_type": "code",
   "execution_count": 2,
   "metadata": {
    "ExecuteTime": {
     "end_time": "2021-03-12T07:58:54.189086Z",
     "start_time": "2021-03-12T07:58:53.303942Z"
    }
   },
   "outputs": [],
   "source": [
    "kkma=Kkma()"
   ]
  },
  {
   "cell_type": "code",
   "execution_count": 3,
   "metadata": {
    "ExecuteTime": {
     "end_time": "2021-03-12T07:59:56.823638Z",
     "start_time": "2021-03-12T07:59:56.791725Z"
    }
   },
   "outputs": [
    {
     "data": {
      "text/plain": [
       "1027"
      ]
     },
     "execution_count": 3,
     "metadata": {},
     "output_type": "execute_result"
    }
   ],
   "source": [
    "fname='ys.txt'\n",
    "with open(fname,'r',encoding='utf-8') as f : \n",
    "    res=f.readlines()\n",
    "len(res)"
   ]
  },
  {
   "cell_type": "code",
   "execution_count": 4,
   "metadata": {
    "ExecuteTime": {
     "end_time": "2021-03-12T08:00:01.196051Z",
     "start_time": "2021-03-12T08:00:00.922783Z"
    }
   },
   "outputs": [
    {
     "ename": "NameError",
     "evalue": "name 'jo' is not defined",
     "output_type": "error",
     "traceback": [
      "\u001b[1;31m---------------------------------------------------------------------------\u001b[0m",
      "\u001b[1;31mNameError\u001b[0m                                 Traceback (most recent call last)",
      "\u001b[1;32m<ipython-input-4-dde060e48dd0>\u001b[0m in \u001b[0;36m<module>\u001b[1;34m\u001b[0m\n\u001b[1;32m----> 1\u001b[1;33m \u001b[0mjres\u001b[0m\u001b[1;33m=\u001b[0m\u001b[1;34m' '\u001b[0m\u001b[1;33m,\u001b[0m\u001b[0mjo\u001b[0m\u001b[1;33m\u001b[0m\u001b[1;33m\u001b[0m\u001b[0m\n\u001b[0m",
      "\u001b[1;31mNameError\u001b[0m: name 'jo' is not defined"
     ]
    }
   ],
   "source": [
    "jres=' ',jo"
   ]
  },
  {
   "cell_type": "code",
   "execution_count": 5,
   "metadata": {
    "ExecuteTime": {
     "end_time": "2021-03-12T08:00:11.826892Z",
     "start_time": "2021-03-12T08:00:11.815922Z"
    }
   },
   "outputs": [
    {
     "data": {
      "text/plain": [
       "'김동인 <김연실전>\\n'"
      ]
     },
     "execution_count": 5,
     "metadata": {},
     "output_type": "execute_result"
    }
   ],
   "source": [
    "res[0]"
   ]
  },
  {
   "cell_type": "code",
   "execution_count": 6,
   "metadata": {
    "ExecuteTime": {
     "end_time": "2021-03-12T08:00:19.593798Z",
     "start_time": "2021-03-12T08:00:14.402617Z"
    }
   },
   "outputs": [
    {
     "data": {
      "text/plain": [
       "[('연실', 'NNG'),\n",
       " ('(', 'SS'),\n",
       " ('姸實', 'OH'),\n",
       " (')', 'SS'),\n",
       " ('이', 'NNG'),\n",
       " ('의', 'JKG'),\n",
       " ('고향', 'NNG'),\n",
       " ('은', 'JX'),\n",
       " ('평양', 'NNP'),\n",
       " ('이', 'VCP'),\n",
       " ('었', 'EPT'),\n",
       " ('다', 'EFN'),\n",
       " ('.', 'SF')]"
      ]
     },
     "execution_count": 6,
     "metadata": {},
     "output_type": "execute_result"
    }
   ],
   "source": [
    "p = kkma.pos(res[2])\n",
    "p"
   ]
  },
  {
   "cell_type": "code",
   "execution_count": 7,
   "metadata": {
    "ExecuteTime": {
     "end_time": "2021-03-12T08:00:19.914751Z",
     "start_time": "2021-03-12T08:00:19.645836Z"
    }
   },
   "outputs": [
    {
     "data": {
      "text/plain": [
       "{'연실': 1, '이': 1, '고향': 1, '평양': 1}"
      ]
     },
     "execution_count": 7,
     "metadata": {},
     "output_type": "execute_result"
    }
   ],
   "source": [
    "dictpos = {}\n",
    "check=['NNG','NNP','NNB','NNM']\n",
    "for w,pos in p:\n",
    "    if (pos in check):\n",
    "        if (w in dictpos.keys()):\n",
    "            dictpos[w]+=1\n",
    "        else :\n",
    "            dictpos[w]=1\n",
    "dictpos"
   ]
  },
  {
   "cell_type": "code",
   "execution_count": 8,
   "metadata": {
    "ExecuteTime": {
     "end_time": "2021-03-12T08:12:08.662639Z",
     "start_time": "2021-03-12T08:12:08.646682Z"
    }
   },
   "outputs": [],
   "source": [
    "res=\"\"\"\n",
    "SK하이닉스의 인텔 낸드 사업부 인수와 관련한 미국 당국의 모든 규제 심사가 마무리됐다.\n",
    "SK하이닉스는 미국 외국인투자심의위원회(CFIUS, Committee on Foreign Investment in the United States)의 투자 심의에서 ‘승인’ 통보를 받았다고 12일 밝혔다. 미국에서는 CFIUS와 함께 연방통상위원회(FTC, Federal Trade Commission)까지 2개 기관에서 심사를 받았다. FTC로부터는 지난해 연말 반독점 심사를 통과했다.\n",
    "SK하이닉스는 이번 CFIUS의 투자 승인을 끝으로 인텔 낸드 사업부 인수와 관련한 미국 규제 심사 절차를 모두 마쳤다. 회사는 “CFIUS 승인은 SK하이닉스의 인텔 인수 과정에서 중요한 이정표”라며 “인텔의 낸드 사업 인수를 통해 메모리 기술을 보완하고 글로벌 역량과 영향력을 확장시킬 것”이라고 밝혔다.\n",
    "SK하이닉스는 지난해 10월 90억 달러(약 10조3,000억원)에 인텔 낸드 사업부를 인수하는 계약을 체결했으며, 이후 이 계약에 대해 미국, 중국 등 주요 국가들의 반독점 심사가 진행됐다.\n",
    "SK하이닉스는 올해 말까지 주요국 심사가 모두 마무리되면 인텔 측에 1차로 70억 달러를 지불하고 사업을 이전받게 된다. 이후 2025년 초 남은 20억 달러를 넘겨주면 인텔 낸드 사업부 인수를 마무리하게 된다. SK하이닉스는 이번 인수를 통해 D램과 비교해 상대적으로 부진한 낸드 플래시 사업의 경쟁력을 끌어올릴 수 있을 것으로 기대하고 있다.\n",
    "\"\"\""
   ]
  },
  {
   "cell_type": "code",
   "execution_count": 12,
   "metadata": {
    "ExecuteTime": {
     "end_time": "2021-03-12T08:14:13.090916Z",
     "start_time": "2021-03-12T08:14:12.034722Z"
    }
   },
   "outputs": [],
   "source": [
    "jres=res.replace('SK하이닉스','선경')\n",
    "#jres=' '.join(res)\n",
    "p=kkma.pos(jres)"
   ]
  },
  {
   "cell_type": "code",
   "execution_count": 13,
   "metadata": {
    "ExecuteTime": {
     "end_time": "2021-03-12T08:14:13.150756Z",
     "start_time": "2021-03-12T08:14:13.121834Z"
    }
   },
   "outputs": [
    {
     "data": {
      "text/plain": [
       "[('선경', 'NNG'),\n",
       " ('의', 'JKG'),\n",
       " ('인텔', 'NNP'),\n",
       " ('낸드', 'UN'),\n",
       " ('사업부', 'NNG'),\n",
       " ('인수', 'NNG'),\n",
       " ('와', 'JKM'),\n",
       " ('관련', 'NNG'),\n",
       " ('하', 'XSV'),\n",
       " ('ㄴ', 'ETD'),\n",
       " ('미국', 'NNP'),\n",
       " ('당국', 'NNG'),\n",
       " ('의', 'JKG'),\n",
       " ('모든', 'NNP'),\n",
       " ('규제', 'NNG'),\n",
       " ('심사', 'NNG'),\n",
       " ('가', 'JKS'),\n",
       " ('마무리', 'NNG'),\n",
       " ('되', 'XSV'),\n",
       " ('었', 'EPT'),\n",
       " ('다', 'EFN'),\n",
       " ('.', 'SF'),\n",
       " ('선경', 'NNG'),\n",
       " ('늘', 'VV'),\n",
       " ('ㄴ', 'ETD'),\n",
       " ('미국', 'NNP'),\n",
       " ('외국인', 'NNG'),\n",
       " ('투자', 'NNG'),\n",
       " ('심의', 'NNG'),\n",
       " ('위원회', 'NNG'),\n",
       " ('(', 'SS'),\n",
       " ('CFIUS', 'OL'),\n",
       " (',', 'SP'),\n",
       " ('Committee', 'OL'),\n",
       " ('on', 'OL'),\n",
       " ('Foreign', 'OL'),\n",
       " ('Investment', 'OL'),\n",
       " ('in', 'OL'),\n",
       " ('the', 'OL'),\n",
       " ('United', 'OL'),\n",
       " ('States', 'OL'),\n",
       " (')', 'SS'),\n",
       " ('의', 'NNG'),\n",
       " ('투자', 'NNG'),\n",
       " ('심의', 'NNG'),\n",
       " ('에서', 'JKM'),\n",
       " ('‘', 'SS'),\n",
       " ('승인', 'NNG'),\n",
       " ('’', 'SS'),\n",
       " ('통보', 'NNG'),\n",
       " ('를', 'JKO'),\n",
       " ('받', 'VV'),\n",
       " ('았', 'EPT'),\n",
       " ('다고', 'EFN'),\n",
       " ('12', 'NR'),\n",
       " ('일', 'NNM'),\n",
       " ('밝히', 'VV'),\n",
       " ('었', 'EPT'),\n",
       " ('다', 'EFN'),\n",
       " ('.', 'SF'),\n",
       " ('미국', 'NNP'),\n",
       " ('에서', 'JKM'),\n",
       " ('는', 'JX'),\n",
       " ('CFIUS', 'OL'),\n",
       " ('와', 'JKM'),\n",
       " ('함께', 'MAG'),\n",
       " ('연방', 'NNG'),\n",
       " ('통상', 'NNG'),\n",
       " ('위원회', 'NNG'),\n",
       " ('(', 'SS'),\n",
       " ('FTC', 'OL'),\n",
       " (',', 'SP'),\n",
       " ('Federal', 'OL'),\n",
       " ('Trade', 'OL'),\n",
       " ('Commission', 'OL'),\n",
       " (')', 'SS'),\n",
       " ('까지', 'JX'),\n",
       " ('2', 'NR'),\n",
       " ('개', 'NNM'),\n",
       " ('기관', 'NNG'),\n",
       " ('에서', 'JKM'),\n",
       " ('심사', 'NNG'),\n",
       " ('를', 'JKO'),\n",
       " ('받', 'VV'),\n",
       " ('았', 'EPT'),\n",
       " ('다', 'EFN'),\n",
       " ('.', 'SF'),\n",
       " ('FTC', 'OL'),\n",
       " ('로', 'JKM'),\n",
       " ('부', 'XPN'),\n",
       " ('터', 'NNG'),\n",
       " ('는', 'JX'),\n",
       " ('지난해', 'NNG'),\n",
       " ('연말', 'NNG'),\n",
       " ('반', 'NNG'),\n",
       " ('독점', 'NNG'),\n",
       " ('심사', 'NNG'),\n",
       " ('를', 'JKO'),\n",
       " ('통과', 'NNG'),\n",
       " ('하', 'XSV'),\n",
       " ('었', 'EPT'),\n",
       " ('다', 'EFN'),\n",
       " ('.', 'SF'),\n",
       " ('선경', 'NNG'),\n",
       " ('늘', 'VV'),\n",
       " ('ㄴ', 'ETD'),\n",
       " ('이번', 'NNG'),\n",
       " ('CFIUS', 'OL'),\n",
       " ('의', 'JKG'),\n",
       " ('투자', 'NNG'),\n",
       " ('승인', 'NNG'),\n",
       " ('을', 'JKO'),\n",
       " ('끝', 'NNG'),\n",
       " ('으로', 'JKM'),\n",
       " ('인텔', 'NNP'),\n",
       " ('낸드', 'UN'),\n",
       " ('사업부', 'NNG'),\n",
       " ('인수', 'NNG'),\n",
       " ('와', 'JKM'),\n",
       " ('관련', 'NNG'),\n",
       " ('하', 'XSV'),\n",
       " ('ㄴ', 'ETD'),\n",
       " ('미국', 'NNP'),\n",
       " ('규제', 'NNG'),\n",
       " ('심사', 'NNG'),\n",
       " ('절차', 'NNG'),\n",
       " ('를', 'JKO'),\n",
       " ('모두', 'MAG'),\n",
       " ('마치', 'VV'),\n",
       " ('었', 'EPT'),\n",
       " ('다', 'EFN'),\n",
       " ('.', 'SF'),\n",
       " ('회사', 'NNG'),\n",
       " ('는', 'JX'),\n",
       " ('“', 'SS'),\n",
       " ('CFIUS', 'OL'),\n",
       " ('승인', 'NNG'),\n",
       " ('은', 'JX'),\n",
       " ('선경', 'NNG'),\n",
       " ('의', 'JKG'),\n",
       " ('인텔', 'NNP'),\n",
       " ('인수', 'NNG'),\n",
       " ('과정', 'NNG'),\n",
       " ('에서', 'JKM'),\n",
       " ('중요', 'NNG'),\n",
       " ('하', 'XSV'),\n",
       " ('ㄴ', 'ETD'),\n",
       " ('이정표', 'NNG'),\n",
       " ('”', 'SS'),\n",
       " ('라', 'NNG'),\n",
       " ('며', 'JC'),\n",
       " ('“', 'SS'),\n",
       " ('인텔', 'NNP'),\n",
       " ('의', 'JKG'),\n",
       " ('낸드', 'UN'),\n",
       " ('사업', 'NNG'),\n",
       " ('인수', 'NNG'),\n",
       " ('를', 'JKO'),\n",
       " ('통하', 'VV'),\n",
       " ('어', 'ECS'),\n",
       " ('메모리', 'NNG'),\n",
       " ('기술', 'NNG'),\n",
       " ('을', 'JKO'),\n",
       " ('보완', 'NNG'),\n",
       " ('하', 'XSV'),\n",
       " ('고', 'ECE'),\n",
       " ('글로벌', 'NNG'),\n",
       " ('역량', 'NNG'),\n",
       " ('과', 'JC'),\n",
       " ('영향력', 'NNG'),\n",
       " ('을', 'JKO'),\n",
       " ('확장', 'NNG'),\n",
       " ('시키', 'XSV'),\n",
       " ('ㄹ', 'ETD'),\n",
       " ('것', 'NNB'),\n",
       " ('”', 'SS'),\n",
       " ('이', 'VCP'),\n",
       " ('라고', 'ECD'),\n",
       " ('밝히', 'VV'),\n",
       " ('었', 'EPT'),\n",
       " ('다', 'EFN'),\n",
       " ('.', 'SF'),\n",
       " ('선경', 'NNG'),\n",
       " ('늘', 'VV'),\n",
       " ('ㄴ', 'ETD'),\n",
       " ('지난해', 'NNG'),\n",
       " ('10', 'NR'),\n",
       " ('월', 'NNM'),\n",
       " ('90', 'NR'),\n",
       " ('억', 'NR'),\n",
       " ('달러', 'NNG'),\n",
       " ('(', 'SS'),\n",
       " ('약', 'NNG'),\n",
       " ('10', 'NR'),\n",
       " ('조', 'NR'),\n",
       " ('3,000', 'NR'),\n",
       " ('억', 'NR'),\n",
       " ('원', 'NNM'),\n",
       " (')', 'SS'),\n",
       " ('에', 'JKM'),\n",
       " ('인텔', 'NNP'),\n",
       " ('낸드', 'UN'),\n",
       " ('사업부', 'NNG'),\n",
       " ('를', 'JKO'),\n",
       " ('인수', 'NNG'),\n",
       " ('하', 'XSV'),\n",
       " ('는', 'ETD'),\n",
       " ('계약', 'NNG'),\n",
       " ('을', 'JKO'),\n",
       " ('체결', 'NNG'),\n",
       " ('하', 'XSV'),\n",
       " ('었', 'EPT'),\n",
       " ('으며', 'ECE'),\n",
       " (',', 'SP'),\n",
       " ('이후', 'NNG'),\n",
       " ('이', 'NNG'),\n",
       " ('계약', 'NNG'),\n",
       " ('에', 'JKM'),\n",
       " ('대하', 'VV'),\n",
       " ('어', 'ECS'),\n",
       " ('미국', 'NNP'),\n",
       " (',', 'SP'),\n",
       " ('중국', 'NNG'),\n",
       " ('등', 'NNB'),\n",
       " ('주요', 'NNG'),\n",
       " ('국가', 'NNG'),\n",
       " ('들', 'XSN'),\n",
       " ('의', 'JKG'),\n",
       " ('반', 'XPN'),\n",
       " ('독점', 'NNG'),\n",
       " ('심사', 'NNG'),\n",
       " ('가', 'JKS'),\n",
       " ('진행', 'NNG'),\n",
       " ('되', 'XSV'),\n",
       " ('었', 'EPT'),\n",
       " ('다', 'EFN'),\n",
       " ('.', 'SF'),\n",
       " ('선경', 'NNG'),\n",
       " ('늘', 'VV'),\n",
       " ('ㄴ', 'ETD'),\n",
       " ('올해', 'NNG'),\n",
       " ('말', 'NNG'),\n",
       " ('까지', 'JX'),\n",
       " ('주요국', 'NNG'),\n",
       " ('심사', 'NNG'),\n",
       " ('가', 'JKS'),\n",
       " ('모두', 'MAG'),\n",
       " ('마무리', 'NNG'),\n",
       " ('되', 'XSV'),\n",
       " ('면', 'ECE'),\n",
       " ('인텔', 'NNP'),\n",
       " ('측', 'NNB'),\n",
       " ('에', 'JKM'),\n",
       " ('1', 'NR'),\n",
       " ('차', 'NNM'),\n",
       " ('로', 'JKM'),\n",
       " ('70', 'NR'),\n",
       " ('억', 'NR'),\n",
       " ('달러', 'NNG'),\n",
       " ('를', 'JKO'),\n",
       " ('지불', 'NNG'),\n",
       " ('하', 'XSV'),\n",
       " ('고', 'ECE'),\n",
       " ('사업', 'NNG'),\n",
       " ('을', 'JKO'),\n",
       " ('이전', 'NNG'),\n",
       " ('받', 'VV'),\n",
       " ('게', 'ECD'),\n",
       " ('되', 'VV'),\n",
       " ('ㄴ다', 'EFN'),\n",
       " ('.', 'SF'),\n",
       " ('이후', 'NNG'),\n",
       " ('2025', 'NR'),\n",
       " ('년', 'NNM'),\n",
       " ('초', 'NNB'),\n",
       " ('남', 'NNG'),\n",
       " ('은', 'JX'),\n",
       " ('20', 'NR'),\n",
       " ('억', 'NR'),\n",
       " ('달러', 'NNG'),\n",
       " ('를', 'JKO'),\n",
       " ('넘겨주', 'VV'),\n",
       " ('면', 'ECE'),\n",
       " ('인텔', 'NNP'),\n",
       " ('낸드', 'UN'),\n",
       " ('사업부', 'NNG'),\n",
       " ('인수', 'NNG'),\n",
       " ('를', 'JKO'),\n",
       " ('마무리', 'NNG'),\n",
       " ('하', 'XSV'),\n",
       " ('게', 'ECD'),\n",
       " ('되', 'VV'),\n",
       " ('ㄴ다', 'EFN'),\n",
       " ('.', 'SF'),\n",
       " ('선경', 'NNG'),\n",
       " ('늘', 'VV'),\n",
       " ('ㄴ', 'ETD'),\n",
       " ('이번', 'NNG'),\n",
       " ('인수', 'NNG'),\n",
       " ('를', 'JKO'),\n",
       " ('통하', 'VV'),\n",
       " ('어', 'ECS'),\n",
       " ('D', 'OL'),\n",
       " ('램', 'NNG'),\n",
       " ('과', 'JKM'),\n",
       " ('비교', 'NNG'),\n",
       " ('하', 'XSV'),\n",
       " ('어', 'ECS'),\n",
       " ('상대적', 'NNG'),\n",
       " ('으로', 'JKM'),\n",
       " ('부진', 'NNG'),\n",
       " ('하', 'XSV'),\n",
       " ('ㄴ', 'ETD'),\n",
       " ('낸드', 'UN'),\n",
       " ('플래시', 'NNG'),\n",
       " ('사업', 'NNG'),\n",
       " ('의', 'JKG'),\n",
       " ('경쟁력', 'NNG'),\n",
       " ('을', 'JKO'),\n",
       " ('끌어올리', 'VV'),\n",
       " ('ㄹ', 'ETD'),\n",
       " ('수', 'NNB'),\n",
       " ('있', 'VV'),\n",
       " ('을', 'ETD'),\n",
       " ('것', 'NNB'),\n",
       " ('으로', 'JKM'),\n",
       " ('기대', 'NNG'),\n",
       " ('하', 'XSV'),\n",
       " ('고', 'ECE'),\n",
       " ('있', 'VXV'),\n",
       " ('다', 'EFN'),\n",
       " ('.', 'SF')]"
      ]
     },
     "execution_count": 13,
     "metadata": {},
     "output_type": "execute_result"
    }
   ],
   "source": [
    "dictpos={}\n",
    "check = ['NNG','NNP']"
   ]
  },
  {
   "cell_type": "code",
   "execution_count": null,
   "metadata": {},
   "outputs": [],
   "source": []
  }
 ],
 "metadata": {
  "kernelspec": {
   "display_name": "Python 3",
   "language": "python",
   "name": "python3"
  },
  "language_info": {
   "codemirror_mode": {
    "name": "ipython",
    "version": 3
   },
   "file_extension": ".py",
   "mimetype": "text/x-python",
   "name": "python",
   "nbconvert_exporter": "python",
   "pygments_lexer": "ipython3",
   "version": "3.8.5"
  },
  "toc": {
   "base_numbering": 1,
   "nav_menu": {},
   "number_sections": true,
   "sideBar": true,
   "skip_h1_title": false,
   "title_cell": "Table of Contents",
   "title_sidebar": "Contents",
   "toc_cell": false,
   "toc_position": {},
   "toc_section_display": true,
   "toc_window_display": false
  },
  "varInspector": {
   "cols": {
    "lenName": 16,
    "lenType": 16,
    "lenVar": 40
   },
   "kernels_config": {
    "python": {
     "delete_cmd_postfix": "",
     "delete_cmd_prefix": "del ",
     "library": "var_list.py",
     "varRefreshCmd": "print(var_dic_list())"
    },
    "r": {
     "delete_cmd_postfix": ") ",
     "delete_cmd_prefix": "rm(",
     "library": "var_list.r",
     "varRefreshCmd": "cat(var_dic_list()) "
    }
   },
   "types_to_exclude": [
    "module",
    "function",
    "builtin_function_or_method",
    "instance",
    "_Feature"
   ],
   "window_display": false
  }
 },
 "nbformat": 4,
 "nbformat_minor": 4
}
