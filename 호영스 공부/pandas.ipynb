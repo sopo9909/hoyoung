{
 "cells": [
  {
   "cell_type": "markdown",
   "metadata": {},
   "source": [
    "# 기본모듈로드\n",
    "import  pandas  as  pd \n",
    "import  numpy  as  np \n",
    "import  matplotlib.pyplot  as  plt \n",
    "% matplotlib  inline #결과물을 브라우저에 바로 보여주는 명령어"
   ]
  },
  {
   "cell_type": "markdown",
   "metadata": {},
   "source": [
    "# Pandas의 표시에 관한 기본 설정\n",
    "pd.options.display.max_columns = None\t항상 모든 열 (컬럼)을 표시\n",
    "pd.set_option('display.max_columns', None)\t항상 모든 열 (컬럼)을 표시\n",
    "pd.options.display.max_rows = 10\t항상 10 행만 표시\n",
    "pd.options.display.precision = 2\t표시 용의 자릿수를 2로\n",
    "pd.options.display.notebook_repr_html = True\t데이터 프레임을 HTML로 깨끗하게 표시"
   ]
  },
  {
   "cell_type": "markdown",
   "metadata": {},
   "source": [
    "# Pandas 데이터 객체\n",
    "pd.Series\t인덱스의 1 차원 데이터 (시리즈)\n",
    "pd.DataFrame\t인덱싱 된 2 차원 데이터 (데이터 프레임)\n",
    "pd.Panel\t인덱싱 된 3 차원 데이터 (패널)"
   ]
  },
  {
   "cell_type": "markdown",
   "metadata": {},
   "source": [
    "# 데이터 I / O\n",
    "pd.read_csv('foo.csv', header=0)\tCSV 파일에서 가져 오기\n",
    "df.to_csv('bar.csv', index=False)\tCSV 파일로 내보내기\n",
    "pd.read_excel('foo.xlsx', sheetname='Sheet1')\t엑셀 파일에서로드\n",
    "df.to_excel('bar.xlsx', sheet_name='Sheet1')\t엑셀 파일로 내보내기\n",
    "pd.read_hdf('foo.h5','df')\tHDF5 파일에서로드\n",
    "df.to_hdf('bar.h5','df')\tHDF5 파일로 내보내기"
   ]
  },
  {
   "cell_type": "markdown",
   "metadata": {},
   "source": [
    "# 데이터프레임 표시\n",
    "df.head()\t처음 5 개 행을 표시\n",
    "df.tail()\t마지막 5 행을 표시"
   ]
  },
  {
   "cell_type": "markdown",
   "metadata": {},
   "source": [
    "# 인덱스 컬럼 값\n",
    "df.index\t인덱스를 가져옵니다\n",
    "df.columns\t컬럼 이름을 검색\n",
    "df.values\t값을 numpy.ndarray 취득"
   ]
  },
  {
   "cell_type": "markdown",
   "metadata": {},
   "source": [
    "# 기본정보확인\n",
    "df.info()\t\"유효 데이터 수\" \"데이터 형식\" \"메모리 사용량\"등의 종합적인 정보를 표시\n",
    "df.shape\t화면의 형태를 조사\n",
    "df.count()\t각 컬럼의 유효 데이터 수를 표시\n",
    "df.dtypes\t각 컬럼의 데이터 유형을 표시\n",
    "len(df) - df.count()\t모든 컬럼에 대해 결 측값의 수를 계산"
   ]
  },
  {
   "cell_type": "markdown",
   "metadata": {},
   "source": [
    "# 각종통계\n",
    "df.describe()\t숫자 데이터에 대해 각종 통계를 계산\n",
    "df.describe(include='all')\t모든 데이터에 대해 각종 통계를 계산"
   ]
  },
  {
   "cell_type": "markdown",
   "metadata": {},
   "source": [
    "# 데이터선택\n",
    "\n",
    "열선택\n",
    "\n",
    "df['Age']\tAge 시리즈로서 취득 (키워드 액세스)\n",
    "df.Age\tAge 시리즈로서 취득 (도트 액세스)\n",
    "\n",
    "인덱스 컬럼의 동시 선택\n",
    "\n",
    "df[['Age', 'Name']][1:3]\t위치 번호 [1, 2]의 Age와 Name 컬럼을 취득\n",
    "df.iloc[1:3, [0, 4]]\t위치 번호 [1, 2]or 부울 목록\n",
    "df.loc[1:3, ['Age', 'Height']]\t인덱스 이름 [1, 2, 3]or 부울 목록\n",
    "df.ix[1:3, ['Age', 'Height']]\t인덱스 이름 or 위치 번호 or 부울 목록\n",
    "df.iat[0, 1]\t위치 번호 고속 요소 액세스\n",
    "df.at[1, 'Age']\t인덱스 이름을 사용한 신속한 요소 액세스\n",
    "\n",
    "부울 인덱스에 의한 선택\n",
    "\n",
    "df[df.Age >= 70]\tAge가 70 이상인 사람을 선택\n",
    "df[df > 0]\t0 위의 요소는 그대로 반환하고, 그렇지는 NaN\n",
    "df.where(df > 0)\t0 위의 요소는 그대로 반환하고, 그렇지는 NaN\n",
    "df.mask(df > 0)\t0 위의 요소를 NaN로 마스크, 그렇지 않으면 그대로 반환\n",
    "df.ix[:, df.columns.map(lambda x: x.startswith('A'))]\tA라는 문자로 시작하는 라인을 취득\n",
    "df[df['Grade'].isin(['A', 'B'])]\tGrade 값이 A 또는 B의 행만 반환\n",
    "df.ix[:, ~df.columns.isin(['Age', 'Height'])]\tAge 및 Height 이외의 열을 모두 반환"
   ]
  },
  {
   "cell_type": "markdown",
   "metadata": {},
   "source": [
    "# 데이터의 조작\n",
    "\n",
    "기본조작\n",
    "\n",
    "df.T\t데이터 프레임의 전치\n",
    "s.any()\t하나라도 참이면 True\n",
    "s.all()\t모든 참이면 True\n",
    "s.astype('float64')\t데이터 형식 변환\n",
    "s.map({'Female':0, 'Male':1, })\t사전을 이용한 값의 변환\n",
    "s.value_counts()\t값의 빈도를 계산\n",
    "pd.get_dummies(df['Club'])\t카테고리 변수를 one-hot 벡터로 변환\n",
    "\n",
    "인덱스 관련\n",
    "\n",
    "df.index = df.pop('UserId')\t'UserId'라는 컬럼을 인덱스로 사용\n",
    "df.reset_index(drop=True)\t인덱스의 모습 치유\n",
    "\n",
    "정렬\n",
    "\n",
    "df.sort_index(axis=1, ascending=True)\t인덱스에 의한 정렬\n",
    "df.sort_values(by='Age', ascending=False)\t값으로 정렬\n",
    "\n",
    "복사\n",
    "\n",
    "수정 된 데이터 프레임을 할당 \n",
    "df2  =  df . sort_values ( by = 'Age' )\n",
    "\n",
    "복사 한 데이터 프레임 자체를 변경 \n",
    "df2  =  df . copy () \n",
    "df2 . sort_values ( by = 'Age' ,  inplace = True )\n",
    "\n",
    "열 추가\n",
    "\n",
    "df [ 'AB' ]  =  df [ 'A' ]  +  df [ 'B' ]\n",
    "또는\n",
    "df . loc [:,  'AB' ]  =  df [ 'A' ]  +  df [ 'B' ]"
   ]
  },
  {
   "cell_type": "markdown",
   "metadata": {},
   "source": [
    "# 결 측값 처리\n",
    "(pandas 보통 np.nan에서 결 측값을 표현. 이러한 결 측값은 계산시에는 기본적으로 무시된다.)\n",
    "\n",
    "df.dropna()\t결손치가 하나라도 포함되면 행을 떨어 뜨린다\n",
    "df.dropna(how='all')\t모든 값이 결손되어 있으면, 행을 떨어 뜨린다\n",
    "df.fillna(0)\t결손치를 0으로 채운다\n",
    "df.fillna(method='ffill')\t이전 값으로 결 측값을 채우기\n",
    "\n",
    "삭제\n",
    "\n",
    "df.drop(\"Tmp\", axis=1)\t열 삭제\n",
    "df.drop_duplicated()\t중복 행 삭제\n",
    "\n",
    "문자열 메소드\n",
    "\n",
    "s.str.lower()\t소문자로 변환\n",
    "s.str.startswith('A')\tA에서 시작하는지 확인\n",
    "s.str.contains('^[Aa]')\t정규식을 충족하는지 확인\n",
    "s.str.strip()\t양쪽의 공백을 제거\n",
    "\n",
    "카테고리 관련\n",
    "\n",
    "df['dcodes'] = df['d'].astype('category').cat.codes\t카테고리마다 신규 ID 흔들기\n",
    "\n",
    "데이터의 결합\n",
    "\n",
    "pd.concat([df1, df2], axis=0)\t행 방향으로 결합\n",
    "df1.append(df2, ignore_index=True)\t행 방향으로 결합. 인덱스는 다시 매.\n",
    "df1.join(df2)\t열 방향으로 결합\n",
    "pd.merge(df_left, df_right, how='inner', on='key')\tSQL 스타일의 병합\n",
    "\n",
    "그룹화\n",
    "\n",
    "Group by이라는 작업은 하나 이상의 다음의 단계를 포함\n",
    "\n",
    "Split :있는 지표에 따라 데이터를 그룹으로 분할\n",
    "Apply : 그룹에있는 함수를 적용\n",
    "Combine : 결과를 정리하고 데이터 구조에 넣는다\n",
    "    \n",
    "df.groupby(['A', 'B']).sum()\t그룹화 한 결과를 더하면\n",
    "df.groupby(['A', 'B']).apply(lambda x: (x - x.mean()) / x.std())\t그룹화 한 결과를 화이트닝\n",
    "df.groupby(['A', 'B']).agg(['mean', 'std'])\t그룹핑 한 결과의 평균과 표준 편차를 구하는\n",
    "df.pivot_table(values='D', index=['A', 'B'], columns=['C'], aggfunc=np.mean)\t피벗 테이블을 만들기\n",
    "\n",
    "계층 인덱스\n",
    "\n",
    "df.stack()\t열에서 인덱스에\n",
    "df.unstack()\t인덱스에서 컬럼에\n",
    "\n",
    "tuples  =  list ( zip ( * [[ 'bar' ,  'bar' ,  'baz' ,  'baz' ] \n",
    "                    [ 'one' ,  'two' ,  'one' ,  'two' ])) \n",
    "index  =  pd . MultiIndex . from_tuples ( tuples ,  names = [ 'first' ,  'second' ) \n",
    "df  =  pd . DataFrame ( np . random .randn( 4 ,  2 ),  index = index ,  columns = [ 'A' ,  'B' ])\n",
    "\n",
    "df_stacked  =  df . stack () \n",
    "df_stacked . index . names  =  [ 'first' ,  'second' ,  'third' ]"
   ]
  },
  {
   "cell_type": "markdown",
   "metadata": {},
   "source": [
    "# 시계열 데이터\n",
    "\n",
    "시계열 데이터의 기본 처리\n",
    "\n",
    "pd.date_range('20170101', periods=7)\t2017 년 설날부터 7 일 타임 스탬프를 인덱스로 검색\n",
    "pd.to_datetime(s)\ts를 datetime으로 변환\n",
    "ts.asfreq('5Min')\t일정 주기로 명소 샘플링 (주기에서 값을 하나만 선택)\n",
    "df[['A', 'B']]['2017-01-01':'2017-01-07']\t2017 년 1 월 1 일부터 2017 년 1 월 7 일까지 A와 B에 대한 데이터를 얻을\n",
    "ts.asfreq('1T').ffill(limit=3)\t1 분마다 자리 샘플링하여 결 측값은 3 단계까지 채우기\n",
    "ts.resample('5Min').mean()\t일정 주기로 리샘플링 (주 기간의 값을 모두 사용하여 연산)\n",
    "df['A'].resample('3T', how=['mean', 'std', 'count'])\t3 분마다 리샘플링 된 데이터에 대해 각종 통계를 요구\n",
    "ts.at_time(datetime.time(18, 30))\t18시 30 분 데이터 만 가져. import datetime가정\n",
    "ts.pct_change()\t변화량 감지\n",
    "ts.rolling(50).mean()\t이동 평균\n",
    "\n",
    "시간대\n",
    "\n",
    "ts_utc = ts.tz_localize('UTC')\t시간을 UTC (협정 세계시)에 맞추는\n",
    "ts_utc.tz_convert('US/Eastern')\tUS / Eastern (동부 표준 시간)에 시간대를 변경\n",
    "ts_utc.tz_convert('Japan')\t일본 표준 시간으로 시간대를 변경"
   ]
  },
  {
   "cell_type": "markdown",
   "metadata": {},
   "source": [
    "# DataFrame와 Series\n",
    "pandas에는 DataFrame와 Series의 2 종류의 데이터 형식이있다. 전자는 이차원 데이터, 후자는 일차원 데이터이다. 기본적으로 Series는 사용할 수별로 없기 때문에 DataFrame을 중심으로 설명한다. DataFrame에서 하나의 column을 지정하여 검색 할 경우 그것은 Series 형이된다.\n",
    "# DataFrame \n",
    "   foo   bar \n",
    "a     0     1 \n",
    "b     2     3 \n",
    "c     4     5\n",
    "\n",
    "# Series \n",
    "a     0 \n",
    "b     2 \n",
    "c     4"
   ]
  },
  {
   "cell_type": "markdown",
   "metadata": {},
   "source": [
    "# DataFrame 작업\n",
    "\n",
    "index와 columns지정\n",
    "\n",
    "df . columns  =  [ 'foo' ,  'bar' ] \n",
    "df . index  =  [ 'a' ,  'b' ,  'c' ]\n",
    "\n",
    "index와 columns 이름 확인\n",
    "df . columns \n",
    "df . index \n",
    "df . info ()\n",
    "\n",
    "가장 간단한 열 추출\n",
    "\n",
    "df [ 'foo' ]  or  df [ 0 ]   \n",
    "df [ 'foo' ,  'bar' ]]  or  df [ 0 ,  1 ]]  \n",
    "\n",
    "자세한 추출 (ix, iloc, loc)\n",
    "\n",
    "DataFrame에서 요소의 위치 정보로서 행렬의 요소 번호 및 사용자 정의의 이름이 있다고 상술했다. 어디에서 꺼내 있는지를 명시하기 위해 ix, iloc, loc의 3 종류가있다. \n",
    "iloc는 번호의 지정에만 대응, loc은 이름 만 ix는 모두 지정 가능하다. 위의 예를 취할 때 [0,0]을 가지고 싶다면, 다음과 같이 쓸 수있다.\n",
    "\n",
    "df . ix [ 0 ]  [ 0 ] \n",
    "df . ix [ 0 ]  [ 'foo' ] \n",
    "df . ix [ 'a' ]  [ 'foo' ] \n",
    "df . ix [ 'a' ]  [ 0 ] \n",
    "df . iloc [ 0 ]  [ 0 ] \n",
    "df . loc [ 'a' ]  [ 'foo' ]\n",
    "\n",
    "덧붙여서 여러 인덱스를 지정하려면 다음과 같이하면된다.\n",
    "\n",
    "df . ix [:,  [ 0 ]    # 모든 \n",
    "df . ix [ 1 : 5 ,  [ 0 ]  # 범위 지정 \n",
    "df . ix [:]         # index만을 지정\n",
    "\n",
    "\n",
    "다음과 같은 차이가있다.\n",
    "\n",
    "위치 지정 방법\n",
    "at, loc: 행 레이블 (행 이름) 열 라벨 (열 이름)\n",
    "iat, iloc: 행 번호, 열 번호\n",
    "\n",
    "선택 검색 변경 가능한 데이터\n",
    "\n",
    "at, iat: 단일 요소의 값\n",
    "loc, iloc: 단독 및 여러 요소의 값\n",
    "전체 행 · 열 전체를 선택하여 검색 변경 가능\n",
    "목록 슬라이스로 범위를 지정 가능\n",
    "\n",
    "기타\n",
    "\n",
    "처리 속도 at와 iat쪽이 loc도시 iloc보다 빠르게\n",
    "라벨과 번호를 조합하여 위치를 지정하려는 경우 at또는 loc도시 index와 column결합\n",
    "\n",
    "at, iat : 단일 요소의 값을 선택, 취득 · 변경\n",
    "\n",
    "at행 레이블과 열 레이블 위치를 지정한다.\n",
    "\n",
    "데이터를 검색 할뿐만 아니라 그 위치에 새로운 값을 설정 (할당) 할 수있다.\n",
    "\n",
    "print ( df . at [ 'Bob' ,  'age' ) \n",
    "print ( df . at [ 'Dave' ,  'state' ]) \n",
    "\n",
    "결과가 46과 Newyork일 경우\n",
    "\n",
    "df . at [ 'Bob' ,  'age' ]  =  60 \n",
    "print ( df . at [ 'Bob' ,  'age' ]) \n",
    "\n",
    "결과 60\n",
    "\n",
    "iat행 번호와 열 번호로 위치를 지정한다.\n",
    "\n",
    "iat도 at그리고 같은 데이터를 얻을뿐만 아니라 그 위치에 새로운 값을 설정 (할당) 할 수있다.\n",
    "\n",
    "rint ( df . iat [ 1 ,  0 ) \n",
    "print ( df . iat [ 3 ,  1 ) \n",
    "\n",
    "답이 60과 Newyork일경우\n",
    "\n",
    "df . iat [ 1 ,  0 ]  =  42 \n",
    "print ( df . iat [ 1 ,  0 ) \n",
    "\n",
    "답 42\n",
    "\n",
    "loc, iloc : 단독 및 여러 요소의 값을 선택, 취득 · 변경\n",
    "\n",
    "loc및 iloc단독 값뿐만 아니라 범위를 지정하여 여러 데이터를 선택할 수있다.\n",
    "\n",
    "loc행 레이블과 열 레이블 위치를 지정, iloc행 번호와 열 번호로 위치를 지정한다.\n",
    "\n",
    "단일 요소의 값을 선택\n",
    "단일 값에 액세스하는 경우 처리 속도는 at, iat쪽이 빠르다.\n",
    "\n",
    "print ( df . loc [ 'Bob' ,  'age' ) \n",
    "print ( df . iloc [ 3 ,  1 ) \n",
    "\n",
    "데이터를 참조 할뿐만 아니라 그 위치에 새로운 값을 설정 (할당) 할 수있다\n",
    "\n",
    "df . loc [ 'Bob' ,  'age' ]  =  60 \n",
    "print ( df . loc [ 'Bob' ,  'age' ]) \n",
    "\n",
    "답 60\n",
    "\n",
    "df . iloc [ 1 ,  0 ]  =  42 \n",
    "print ( df . iloc [ 1 ,  0 ) \n",
    "\n",
    "답 42\n",
    "\n",
    "여러 요소의 값을 선택\n",
    "\n",
    "여러 값에 액세스하려면 목록 [x, y]이나 슬라이스 start:stop:step에서 데이터의 범위 · 위치를 지정한다. 참조되는 값 pandas.Series이나 pandas.DataFrame된다.\n",
    "\n",
    "슬라이스는 보통 슬라이스했던 문법. step는 선택 사항입니다.\n",
    "\n",
    "슬라이스 start:stop:step로 지정할 때 loc에서 행 레이블 열 레이블을 사용하는 경우 stop까지 포함되지만 iloc에서 행 번호 · 열 번호를 사용하는 경우 stop중 하나 전까지되므로 주의."
   ]
  },
  {
   "cell_type": "raw",
   "metadata": {},
   "source": [
    "CSV파일\n",
    "import  pandas  as  pd\n",
    "\n",
    "df  =  pd . read_csv ( 'data / src / sample_pandas_normal.csv' ,  index_col = 0 ) \n",
    "print ( df ) \n",
    "# age state point \n",
    "# name                      \n",
    "# Alice 24 NY 64 \n",
    "# Bob 42 CA 92 \n",
    "# Charlie 18 CA 70 \n",
    "# Dave 68 TX 70 \n",
    "# Ellen 24 CA 88 \n",
    "# Frank 30 NY 57\n"
   ]
  },
  {
   "cell_type": "code",
   "execution_count": null,
   "metadata": {},
   "outputs": [],
   "source": [
    "df.\n",
    "print ( df . loc [ 'Bob' : 'Dave' ,  'age' ) \n",
    "print ( type ( df . loc [ 'Bob' : 'Dave' ,  'age' ])) \n",
    "# name \n",
    "# Bob 42 \n",
    "# Charlie 18 \n",
    "# Dave 68 \n",
    "# Name : age, dtype : int64 \n",
    "# <class 'pandas.core.series.Series'>\n",
    "\n",
    "print ( df . loc [: 'Dave' ,  [ 'age' ,  'point' ]]) \n",
    "print ( type ( df . loc [: 'Dave' ,  'age' : 'point' ])) \n",
    "# age point \n",
    "# name                \n",
    "# Alice 24 64 \n",
    "# Bob 42 92 \n",
    "# Charlie 18 70 \n",
    "# Dave 68 70 \n",
    "# <class 'pandas.core.frame.DataFrame'>\n",
    "\n",
    "print ( df . iloc [: 3 ,  [ 0 ,  2 ]) \n",
    "print ( type ( df . iloc [: 3 ,  [ 0 ,  2 ])) \n",
    "# age point \n",
    "# name                \n",
    "# Alice 24 64 \n",
    "# Bob 42 92 \n",
    "# Charlie 18 70 \n",
    "# <class 'pandas.core.frame.DataFrame'>\n",
    "                          \n",
    "# step를 지정하면 홀수 행 또는 짝수 행을 추출하여 검색하고있다.\n",
    "                          \n",
    "print ( df . iloc [:: 2 ,  0 ) \n",
    "print ( type ( df . iloc [:: 2 ,  0 )) \n",
    "# name \n",
    "# Alice 24 \n",
    "# Charlie 18 \n",
    "# Ellen 24 \n",
    "# Name : age, dtype : int64 \n",
    "# < class 'pandas.core.series.Series'>\n",
    "\n",
    "print ( df . iloc [ 1 : 2 ,  0 ) \n",
    "print ( type ( df . iloc [ 1 : 2 ,  0 )) \n",
    "# name \n",
    "# Bob 42 \n",
    "# Dave 68 \n",
    "# Frank 30 \n",
    "# Name : age, dtype : int64 \n",
    "# <class 'pandas.core.series.Series'>\n",
    "                          \n",
    " 여러 값을 일괄 적으로 변경하는 것도 가능하다.\n",
    "                          \n",
    "df . loc [ 'Bob' : 'Dave' ,  'age' ]  =  [ 20 ,  30 ,  40 ] \n",
    "print ( df . loc [ 'Bob' : 'Dave' ,  'age' ]) \n",
    "# name \n",
    "# Bob 20 \n",
    "# Charlie 30 \n",
    "# Dave 40 \n",
    "# Name : age, dtype : int64\n",
    "                          \n",
    "가로와 세로를 선택\n",
    "행 단위 · 열 단위로 선택하는 경우 직접 인덱스 참조 df[]를 사용할 수 있지만 다음의 지정 방법으로 제한된다.\n",
    "\n",
    "행의 선택 : 행 명 · 행 번호 슬라이스\n",
    "열 선택 : 열 이름 또는 열 이름 목록     \n",
    "                          \n",
    "print ( df [ 'Bob' : 'Ellen' ]) \n",
    "# age state point \n",
    "# name                      \n",
    "# Bob 20 CA 92 \n",
    "# Charlie 30 CA 70 \n",
    "# Dave 40 TX 70 \n",
    "# Ellen 24 CA 88\n",
    "\n",
    "print ( df [: 3 ]) \n",
    "# age state point \n",
    "# name                      \n",
    "# Alice 24 NY 64 \n",
    "# Bob 20 CA 92 \n",
    "# Charlie 30 CA 70\n",
    "\n",
    "print ( df [ 'age' ]) \n",
    "# name \n",
    "# Alice 24 \n",
    "# Bob 20 \n",
    "# Charlie 30 \n",
    "# Dave 40 \n",
    "# Ellen 24 \n",
    "# Frank 30 \n",
    "# Name : age, dtype : int64\n",
    "\n",
    "print ( df [ 'age' ,  'point' ]) \n",
    "# age point \n",
    "# name                \n",
    "# Alice 24 64 \n",
    "# Bob 20 92 \n",
    "# Charlie 30 70 \n",
    "# Dave 40 70 \n",
    "# Ellen 24 88 \n",
    "# Frank 30 57\n",
    "                          \n",
    "loc, iloc에서 전체 행 · 열 전체를 선택하는 경우는 인덱스 참조 df[]보다 유연하게 지정할 수있다.\n",
    "\n",
    "loc, iloc에서 열 지정을 생략하면 전체 행 참조된다. 인덱스 참조는 할 수없는 단독 행을 선택하거나 목록에서 다중 선택도 가능하다.\n",
    "                          \n",
    "print ( df . loc [ 'Bob' ) \n",
    "print ( type ( df . loc [ 'Bob' ])) \n",
    "# age 20 \n",
    "# state CA \n",
    "# point 92 \n",
    "# Name : Bob, dtype : object \n",
    "# <class 'pandas.core. series.Series '>\n",
    "\n",
    "print ( df . iloc [ 1 ,  4 ]) \n",
    "print ( type ( df . iloc [ 1 ,  4 ])) \n",
    "# age state point \n",
    "# name                    \n",
    "# Bob 20 CA 92 \n",
    "# Ellen 24 CA 88 \n",
    "# <class 'pandas .core.frame.DataFrame '>\n",
    "                  \n",
    "loc, iloc에서 행의 지정을 :(전체 슬라이스)하면 전체 열을 참조 할 수있다. 인덱스 참조는 할 수없는 슬라이스 사용할 수있다. iloc에서 열 번호를 사용할 수있다.\n",
    "\n",
    "print ( df . loc [:,  'age' : 'point' ) \n",
    "print ( type ( df . loc [:,  'age' : 'point' ])) \n",
    "# age state point \n",
    "# name                      \n",
    "# Alice 24 NY 64 \n",
    "# Bob 20 CA 92 \n",
    "# Charlie 30 CA 70 \n",
    "# Dave 40 TX 70 \n",
    "# Ellen 24 CA 88 \n",
    "# Frank 30 NY 57 \n",
    "# <class 'pandas.core.frame.DataFrame'>\n",
    "\n",
    "print ( df . iloc [:,  [ 0 ,  2 ]) \n",
    "print ( type ( df . iloc [:,  [ 0 ,  2 ])) \n",
    "# age point \n",
    "# name                \n",
    "# Alice 24 64 \n",
    "# Bob 20 92 \n",
    "# Charlie 30 70 \n",
    "# Dave 40 70 \n",
    "# Ellen 24 88 \n",
    "# Frank 30 57 \n",
    "# <class 'pandas.core.frame.DataFrame'>\n",
    "                          \n",
    "행 명 · 열 이름이 중복 된 값을 가지고있는 경우\n",
    "중복 값이있는 행이나 열을 index및 버튼 columns으로 지정할 수있다.\n",
    "\n",
    "중복 값을 가지는 열을 index지정한 경우를 예로한다.\n",
    "\n",
    "df_state  =  pd . read_csv ( 'data / src / sample_pandas_normal.csv' ,  index_col = 2 ) \n",
    "print ( df_state ) \n",
    "# name age point \n",
    "# state                      \n",
    "# NY Alice 24 64 \n",
    "# CA Bob 42 92 \n",
    "# CA Charlie 18 70 \n",
    "# TX Dave 68 70 \n",
    "# CA Ellen 24 88 \n",
    "# NY Frank 30 57\n",
    "\n",
    "print ( df_state . index . values ) \n",
    "# [ 'NY'CA 'CA'TX 'CA'NY ']\n",
    "                          \n",
    "at에서 중복 된 컬럼 이름을 지정하면 numpy.ndarray에서 여러 값이 되돌아 온다.\n",
    "\n",
    "print ( df_state . at [ 'NY' ,  'age' ) \n",
    "print ( type ( df_state . at [ 'NY' ,  'age' ])) \n",
    "# [24 30] \n",
    "# <class 'numpy.ndarray'>\n",
    "                       \n",
    "loc에서 중복 된 컬럼 이름을 지정하면 pandas.DataFrame또는 pandas.Series로 되돌아 온다.\n",
    "\n",
    "print ( df_state . loc [ 'NY' ,  'age' ) \n",
    "print ( type ( df_state . loc [ 'NY' ,  'age' ])) \n",
    "# state \n",
    "# NY 24 \n",
    "# NY 30 \n",
    "# Name : age, dtype : int64 \n",
    "# <class 'pandas.core.series.Series'>\n",
    "\n",
    "print ( df_state . loc [ 'NY' ,  [ 'age' ,  'point' ]]) \n",
    "print ( type ( df_state . loc [ 'NY' ,  [ 'age' ,  'point' ])) \n",
    "# age point \n",
    "# state             \n",
    "# NY 24 64 \n",
    "# NY 30 57 \n",
    "# <class 'pandas.core.frame.DataFrame'>\n",
    "                               \n",
    "iat과 iloc열 번호로 지정할 경우 중복 값이 있어도 별 상관 없다.\n",
    "\n",
    "print ( df_state . iat [ 0 ,  1 ]) \n",
    "# 24\n",
    "                               \n",
    "열 레이블 행 레이블이 고유 한 값으로되어있다 (중복되지 않음) 여부 index.is_unique, columns.is_unique에서 확인할 수있다.\n",
    "\n",
    "print ( df_state . index . is_unique ) \n",
    "# False\n",
    "\n",
    "print ( df_state . columns . is_unique ) \n",
    "# True\n",
    "                               \n",
    "번호와 레이블 위치를 지정하는\n",
    "행 번호와 열 레이블과 같이 번호와 라벨의 조합으로 위치를 지정하고 싶은 경우, at또는 loc도시 index및 column사용 방법이있다.\n",
    "\n",
    "index나 column행 번호 또는 열 번호에서 행 레이블 열 레이블을 얻을 수있다.\n",
    "\n",
    "print ( df ) \n",
    "# age state point \n",
    "# name                      \n",
    "# Alice 24 NY 64 \n",
    "# Bob 20 CA 92 \n",
    "# Charlie 30 CA 70 \n",
    "# Dave 40 TX 70 \n",
    "# Ellen 24 CA 88 \n",
    "# Frank 30 NY 57\n",
    "\n",
    "print ( df . index [ 2 ]) \n",
    "# Charlie\n",
    "\n",
    "print ( df . columns [ 1 ]) \n",
    "# state\n",
    "                               \n",
    "이와 at또는 loc를 이용하여 번호와 라벨의 조합으로 위치를 지정할 수있다.\n",
    "\n",
    "print ( df . at [ df . index [ 2 ],  'age' ]) \n",
    "# 30\n",
    "\n",
    "print ( df . loc [ 'Alice' ,  'Dave' ,  df . columns [ 1 ]) \n",
    "# name \n",
    "# Alice NY \n",
    "# Dave TX \n",
    "# Name : state, dtype : object\n",
    "\n",
    "loc및 버튼 iloc을 반복 적용 범위를 지정한다.\n",
    "\n",
    "print ( df . loc [ 'Alice' ,  'Dave' ]] . iloc [:,  1 ) \n",
    "# name \n",
    "# Alice NY \n",
    "# Dave TX \n",
    "# Name : state, dtype : object"
   ]
  },
  {
   "cell_type": "markdown",
   "metadata": {},
   "source": [
    "# 지정 조건에서의 가로와 세로 추출\n",
    "\n",
    "행의 추출\n",
    "\n",
    "print  foo . loc [ foo [ 'bar' ]  ==  condition ]\n",
    "\n",
    "열추출\n",
    "\n",
    "간접적 인 방법으로 조건을 채우지 않는 요소를 NaN하고 이어 NaN이 포함 된 열을 제거한다.\n",
    "\n",
    "foo  =  foo [ foo  ==  1 ]  # 조건을 충족하지 못하는 요소는 모든 NaN가된다. \n",
    "foo  =  foo . dropna ( axis = 1 )\n",
    "\n",
    "반복자\n",
    "\n",
    "pd.DataFrame의 각 열에 대해 이테레토하는 경우.\n",
    "\n",
    "for  index ,  rows  in  df . iterrows () : \n",
    "    print  index ,  rows  # rows : pd.DataFrame되고있다."
   ]
  },
  {
   "cell_type": "markdown",
   "metadata": {},
   "source": [
    "# pd.DataFrame을 작성 · 편집한다.\n",
    "\n",
    "#기만 만들 때 \n",
    "foo  =  pd . DataFrame ( columns = [ 'bar' ,  'baz' ])\n",
    "\n",
    "foo  =  pd . DataFrame ({ 'bar' :  [ 0 ,  1 ,  2 , \n",
    "                    'baz' :  [ 3 ,  4 ,  5 ]} \n",
    "                    index = [ 'a' ,  'b' ,  'c' ]) \n",
    "#foo \n",
    "    bar   baz \n",
    "a     0     3 \n",
    "b     1     4 \n",
    "c     2     5\n",
    "\n",
    "열을 추가하려면\n",
    "\n",
    "열을 새롭게 추가하는 것이 행을 추가하는 것보다 간단하다.\n",
    "\n",
    "foo [ 'qux' ]  =  [ 6 ,  7 ,  8 ] \n",
    "\n",
    "#foo \n",
    "    bar   baz   qux \n",
    "a     0     3     6 \n",
    "b     1     4     7 \n",
    "c     2     5     8\n",
    "\n",
    "행 추가\n",
    "\n",
    "foo  =  foo . append ( pd . DataFrame ({ 'bar' :  [ 6 ,  7 ],  'baz' :  [ 8 ,  9 ]}  index = [ 'd' ,  'e' ])) \n",
    "\n",
    "#foo \n",
    "#index를 수정하고 싶으면 직접 지정할 필요가있다. \n",
    "\n",
    "    bar   baz \n",
    "a     0     3 \n",
    "b     1     4 \n",
    "c     2     5 \n",
    "d     6     7 \n",
    "e     8     9\n",
    "\n",
    "행과 열을 제거한다.\n",
    "\n",
    "foo . drop ( 'e' ) \n",
    "foo . drop ( 'bar' ,  axis = 1 )  # 열을 제거한다. \n",
    "del  foo [ 'bar' ]  # 열을 제거한다. (python의 del을 사용하고있다.)"
   ]
  },
  {
   "cell_type": "code",
   "execution_count": null,
   "metadata": {},
   "outputs": [],
   "source": [
    "import pandas as pd"
   ]
  },
  {
   "cell_type": "code",
   "execution_count": 2,
   "metadata": {},
   "outputs": [],
   "source": [
    "import numpy as np"
   ]
  },
  {
   "cell_type": "code",
   "execution_count": 3,
   "metadata": {},
   "outputs": [],
   "source": [
    "import matplotlib.pyplot as plt"
   ]
  },
  {
   "cell_type": "markdown",
   "metadata": {},
   "source": [
    "# Object Creation"
   ]
  },
  {
   "cell_type": "code",
   "execution_count": 4,
   "metadata": {},
   "outputs": [],
   "source": [
    "s = pd.Series([1,3,5,np.nan,6,8])"
   ]
  },
  {
   "cell_type": "markdown",
   "metadata": {},
   "source": [
    "값 목록을 전달하여 팬더가 기본 정수 인덱스를 생성하도록하여 시리즈 만들기"
   ]
  },
  {
   "cell_type": "code",
   "execution_count": 5,
   "metadata": {},
   "outputs": [
    {
     "data": {
      "text/plain": [
       "0    1.0\n",
       "1    3.0\n",
       "2    5.0\n",
       "3    NaN\n",
       "4    6.0\n",
       "5    8.0\n",
       "dtype: float64"
      ]
     },
     "execution_count": 5,
     "metadata": {},
     "output_type": "execute_result"
    }
   ],
   "source": [
    "s"
   ]
  },
  {
   "cell_type": "code",
   "execution_count": 6,
   "metadata": {},
   "outputs": [],
   "source": [
    "dates = pd.date_range('20130101', periods=6)"
   ]
  },
  {
   "cell_type": "markdown",
   "metadata": {},
   "source": [
    "datetime 인덱스와 레이블이있는 열이있는 NumPy 배열을 전달하여 DataFrame 만들기"
   ]
  },
  {
   "cell_type": "code",
   "execution_count": 7,
   "metadata": {},
   "outputs": [
    {
     "data": {
      "text/plain": [
       "DatetimeIndex(['2013-01-01', '2013-01-02', '2013-01-03', '2013-01-04',\n",
       "               '2013-01-05', '2013-01-06'],\n",
       "              dtype='datetime64[ns]', freq='D')"
      ]
     },
     "execution_count": 7,
     "metadata": {},
     "output_type": "execute_result"
    }
   ],
   "source": [
    "dates"
   ]
  },
  {
   "cell_type": "code",
   "execution_count": 8,
   "metadata": {},
   "outputs": [],
   "source": [
    "df = pd.DataFrame(np.random.randn(6,4), index=dates, columns=list('ABCD'))"
   ]
  },
  {
   "cell_type": "code",
   "execution_count": 9,
   "metadata": {},
   "outputs": [
    {
     "data": {
      "text/html": [
       "<div>\n",
       "<style scoped>\n",
       "    .dataframe tbody tr th:only-of-type {\n",
       "        vertical-align: middle;\n",
       "    }\n",
       "\n",
       "    .dataframe tbody tr th {\n",
       "        vertical-align: top;\n",
       "    }\n",
       "\n",
       "    .dataframe thead th {\n",
       "        text-align: right;\n",
       "    }\n",
       "</style>\n",
       "<table border=\"1\" class=\"dataframe\">\n",
       "  <thead>\n",
       "    <tr style=\"text-align: right;\">\n",
       "      <th></th>\n",
       "      <th>A</th>\n",
       "      <th>B</th>\n",
       "      <th>C</th>\n",
       "      <th>D</th>\n",
       "    </tr>\n",
       "  </thead>\n",
       "  <tbody>\n",
       "    <tr>\n",
       "      <th>2013-01-01</th>\n",
       "      <td>0.683515</td>\n",
       "      <td>-0.504371</td>\n",
       "      <td>0.526018</td>\n",
       "      <td>1.031808</td>\n",
       "    </tr>\n",
       "    <tr>\n",
       "      <th>2013-01-02</th>\n",
       "      <td>-1.212591</td>\n",
       "      <td>-0.106924</td>\n",
       "      <td>0.526684</td>\n",
       "      <td>0.238162</td>\n",
       "    </tr>\n",
       "    <tr>\n",
       "      <th>2013-01-03</th>\n",
       "      <td>0.669920</td>\n",
       "      <td>-0.435650</td>\n",
       "      <td>1.076326</td>\n",
       "      <td>-0.392560</td>\n",
       "    </tr>\n",
       "    <tr>\n",
       "      <th>2013-01-04</th>\n",
       "      <td>0.832037</td>\n",
       "      <td>-0.425972</td>\n",
       "      <td>1.276235</td>\n",
       "      <td>1.100018</td>\n",
       "    </tr>\n",
       "    <tr>\n",
       "      <th>2013-01-05</th>\n",
       "      <td>-0.652449</td>\n",
       "      <td>-2.014747</td>\n",
       "      <td>0.586362</td>\n",
       "      <td>1.541987</td>\n",
       "    </tr>\n",
       "    <tr>\n",
       "      <th>2013-01-06</th>\n",
       "      <td>0.574640</td>\n",
       "      <td>0.879350</td>\n",
       "      <td>0.979161</td>\n",
       "      <td>-0.047329</td>\n",
       "    </tr>\n",
       "  </tbody>\n",
       "</table>\n",
       "</div>"
      ],
      "text/plain": [
       "                   A         B         C         D\n",
       "2013-01-01  0.683515 -0.504371  0.526018  1.031808\n",
       "2013-01-02 -1.212591 -0.106924  0.526684  0.238162\n",
       "2013-01-03  0.669920 -0.435650  1.076326 -0.392560\n",
       "2013-01-04  0.832037 -0.425972  1.276235  1.100018\n",
       "2013-01-05 -0.652449 -2.014747  0.586362  1.541987\n",
       "2013-01-06  0.574640  0.879350  0.979161 -0.047329"
      ]
     },
     "execution_count": 9,
     "metadata": {},
     "output_type": "execute_result"
    }
   ],
   "source": [
    "df"
   ]
  },
  {
   "cell_type": "code",
   "execution_count": 10,
   "metadata": {},
   "outputs": [],
   "source": [
    "df2 = pd.DataFrame({ 'A' : 1.,\n",
    "                     'B' : pd.Timestamp('20130102'),\n",
    "                    'C' : pd.Series(1,index=list(range(4)),dtype='float32'),\n",
    "                    'D' : np.array([3] * 4,dtype='int32'),\n",
    "                    'E' : pd.Categorical([\"test\",\"train\",\"test\",\"train\"]),\n",
    "                    'F' : 'foo' })"
   ]
  },
  {
   "cell_type": "markdown",
   "metadata": {},
   "source": [
    "직렬로 변환 할 수있는 개체의 지시를 전달하여 DataFrame을 만듭니다"
   ]
  },
  {
   "cell_type": "code",
   "execution_count": 11,
   "metadata": {},
   "outputs": [
    {
     "data": {
      "text/html": [
       "<div>\n",
       "<style scoped>\n",
       "    .dataframe tbody tr th:only-of-type {\n",
       "        vertical-align: middle;\n",
       "    }\n",
       "\n",
       "    .dataframe tbody tr th {\n",
       "        vertical-align: top;\n",
       "    }\n",
       "\n",
       "    .dataframe thead th {\n",
       "        text-align: right;\n",
       "    }\n",
       "</style>\n",
       "<table border=\"1\" class=\"dataframe\">\n",
       "  <thead>\n",
       "    <tr style=\"text-align: right;\">\n",
       "      <th></th>\n",
       "      <th>A</th>\n",
       "      <th>B</th>\n",
       "      <th>C</th>\n",
       "      <th>D</th>\n",
       "      <th>E</th>\n",
       "      <th>F</th>\n",
       "    </tr>\n",
       "  </thead>\n",
       "  <tbody>\n",
       "    <tr>\n",
       "      <th>0</th>\n",
       "      <td>1.0</td>\n",
       "      <td>2013-01-02</td>\n",
       "      <td>1.0</td>\n",
       "      <td>3</td>\n",
       "      <td>test</td>\n",
       "      <td>foo</td>\n",
       "    </tr>\n",
       "    <tr>\n",
       "      <th>1</th>\n",
       "      <td>1.0</td>\n",
       "      <td>2013-01-02</td>\n",
       "      <td>1.0</td>\n",
       "      <td>3</td>\n",
       "      <td>train</td>\n",
       "      <td>foo</td>\n",
       "    </tr>\n",
       "    <tr>\n",
       "      <th>2</th>\n",
       "      <td>1.0</td>\n",
       "      <td>2013-01-02</td>\n",
       "      <td>1.0</td>\n",
       "      <td>3</td>\n",
       "      <td>test</td>\n",
       "      <td>foo</td>\n",
       "    </tr>\n",
       "    <tr>\n",
       "      <th>3</th>\n",
       "      <td>1.0</td>\n",
       "      <td>2013-01-02</td>\n",
       "      <td>1.0</td>\n",
       "      <td>3</td>\n",
       "      <td>train</td>\n",
       "      <td>foo</td>\n",
       "    </tr>\n",
       "  </tbody>\n",
       "</table>\n",
       "</div>"
      ],
      "text/plain": [
       "     A          B    C  D      E    F\n",
       "0  1.0 2013-01-02  1.0  3   test  foo\n",
       "1  1.0 2013-01-02  1.0  3  train  foo\n",
       "2  1.0 2013-01-02  1.0  3   test  foo\n",
       "3  1.0 2013-01-02  1.0  3  train  foo"
      ]
     },
     "execution_count": 11,
     "metadata": {},
     "output_type": "execute_result"
    }
   ],
   "source": [
    "df2"
   ]
  },
  {
   "cell_type": "markdown",
   "metadata": {},
   "source": [
    "DataFrame의 열은 다른 dtyp을가집니다."
   ]
  },
  {
   "cell_type": "code",
   "execution_count": 12,
   "metadata": {},
   "outputs": [
    {
     "data": {
      "text/plain": [
       "A           float64\n",
       "B    datetime64[ns]\n",
       "C           float32\n",
       "D             int32\n",
       "E          category\n",
       "F            object\n",
       "dtype: object"
      ]
     },
     "execution_count": 12,
     "metadata": {},
     "output_type": "execute_result"
    }
   ],
   "source": [
    "df2.dtypes"
   ]
  },
  {
   "cell_type": "markdown",
   "metadata": {},
   "source": [
    "IPython을 사용하는 경우 열 이름 (공용 속성은 물론)에 대한 탭 완성이 자동으로 활성화됩니다. 다음은 완료 될 속성의 서브 세트입니다."
   ]
  },
  {
   "cell_type": "markdown",
   "metadata": {},
   "source": [
    "# Viewing Data"
   ]
  },
  {
   "cell_type": "code",
   "execution_count": 13,
   "metadata": {},
   "outputs": [
    {
     "data": {
      "text/html": [
       "<div>\n",
       "<style scoped>\n",
       "    .dataframe tbody tr th:only-of-type {\n",
       "        vertical-align: middle;\n",
       "    }\n",
       "\n",
       "    .dataframe tbody tr th {\n",
       "        vertical-align: top;\n",
       "    }\n",
       "\n",
       "    .dataframe thead th {\n",
       "        text-align: right;\n",
       "    }\n",
       "</style>\n",
       "<table border=\"1\" class=\"dataframe\">\n",
       "  <thead>\n",
       "    <tr style=\"text-align: right;\">\n",
       "      <th></th>\n",
       "      <th>A</th>\n",
       "      <th>B</th>\n",
       "      <th>C</th>\n",
       "      <th>D</th>\n",
       "    </tr>\n",
       "  </thead>\n",
       "  <tbody>\n",
       "    <tr>\n",
       "      <th>2013-01-01</th>\n",
       "      <td>0.683515</td>\n",
       "      <td>-0.504371</td>\n",
       "      <td>0.526018</td>\n",
       "      <td>1.031808</td>\n",
       "    </tr>\n",
       "    <tr>\n",
       "      <th>2013-01-02</th>\n",
       "      <td>-1.212591</td>\n",
       "      <td>-0.106924</td>\n",
       "      <td>0.526684</td>\n",
       "      <td>0.238162</td>\n",
       "    </tr>\n",
       "    <tr>\n",
       "      <th>2013-01-03</th>\n",
       "      <td>0.669920</td>\n",
       "      <td>-0.435650</td>\n",
       "      <td>1.076326</td>\n",
       "      <td>-0.392560</td>\n",
       "    </tr>\n",
       "    <tr>\n",
       "      <th>2013-01-04</th>\n",
       "      <td>0.832037</td>\n",
       "      <td>-0.425972</td>\n",
       "      <td>1.276235</td>\n",
       "      <td>1.100018</td>\n",
       "    </tr>\n",
       "    <tr>\n",
       "      <th>2013-01-05</th>\n",
       "      <td>-0.652449</td>\n",
       "      <td>-2.014747</td>\n",
       "      <td>0.586362</td>\n",
       "      <td>1.541987</td>\n",
       "    </tr>\n",
       "  </tbody>\n",
       "</table>\n",
       "</div>"
      ],
      "text/plain": [
       "                   A         B         C         D\n",
       "2013-01-01  0.683515 -0.504371  0.526018  1.031808\n",
       "2013-01-02 -1.212591 -0.106924  0.526684  0.238162\n",
       "2013-01-03  0.669920 -0.435650  1.076326 -0.392560\n",
       "2013-01-04  0.832037 -0.425972  1.276235  1.100018\n",
       "2013-01-05 -0.652449 -2.014747  0.586362  1.541987"
      ]
     },
     "execution_count": 13,
     "metadata": {},
     "output_type": "execute_result"
    }
   ],
   "source": [
    "df.head()"
   ]
  },
  {
   "cell_type": "code",
   "execution_count": 14,
   "metadata": {},
   "outputs": [
    {
     "data": {
      "text/html": [
       "<div>\n",
       "<style scoped>\n",
       "    .dataframe tbody tr th:only-of-type {\n",
       "        vertical-align: middle;\n",
       "    }\n",
       "\n",
       "    .dataframe tbody tr th {\n",
       "        vertical-align: top;\n",
       "    }\n",
       "\n",
       "    .dataframe thead th {\n",
       "        text-align: right;\n",
       "    }\n",
       "</style>\n",
       "<table border=\"1\" class=\"dataframe\">\n",
       "  <thead>\n",
       "    <tr style=\"text-align: right;\">\n",
       "      <th></th>\n",
       "      <th>A</th>\n",
       "      <th>B</th>\n",
       "      <th>C</th>\n",
       "      <th>D</th>\n",
       "    </tr>\n",
       "  </thead>\n",
       "  <tbody>\n",
       "    <tr>\n",
       "      <th>2013-01-04</th>\n",
       "      <td>0.832037</td>\n",
       "      <td>-0.425972</td>\n",
       "      <td>1.276235</td>\n",
       "      <td>1.100018</td>\n",
       "    </tr>\n",
       "    <tr>\n",
       "      <th>2013-01-05</th>\n",
       "      <td>-0.652449</td>\n",
       "      <td>-2.014747</td>\n",
       "      <td>0.586362</td>\n",
       "      <td>1.541987</td>\n",
       "    </tr>\n",
       "    <tr>\n",
       "      <th>2013-01-06</th>\n",
       "      <td>0.574640</td>\n",
       "      <td>0.879350</td>\n",
       "      <td>0.979161</td>\n",
       "      <td>-0.047329</td>\n",
       "    </tr>\n",
       "  </tbody>\n",
       "</table>\n",
       "</div>"
      ],
      "text/plain": [
       "                   A         B         C         D\n",
       "2013-01-04  0.832037 -0.425972  1.276235  1.100018\n",
       "2013-01-05 -0.652449 -2.014747  0.586362  1.541987\n",
       "2013-01-06  0.574640  0.879350  0.979161 -0.047329"
      ]
     },
     "execution_count": 14,
     "metadata": {},
     "output_type": "execute_result"
    }
   ],
   "source": [
    "df.tail(3)"
   ]
  },
  {
   "cell_type": "code",
   "execution_count": 15,
   "metadata": {},
   "outputs": [
    {
     "data": {
      "text/plain": [
       "DatetimeIndex(['2013-01-01', '2013-01-02', '2013-01-03', '2013-01-04',\n",
       "               '2013-01-05', '2013-01-06'],\n",
       "              dtype='datetime64[ns]', freq='D')"
      ]
     },
     "execution_count": 15,
     "metadata": {},
     "output_type": "execute_result"
    }
   ],
   "source": [
    "df.index"
   ]
  },
  {
   "cell_type": "markdown",
   "metadata": {},
   "source": [
    "색인, 열 및 기본 NumPy 데이터를 표시합니다."
   ]
  },
  {
   "cell_type": "code",
   "execution_count": 16,
   "metadata": {},
   "outputs": [
    {
     "data": {
      "text/plain": [
       "Index(['A', 'B', 'C', 'D'], dtype='object')"
      ]
     },
     "execution_count": 16,
     "metadata": {},
     "output_type": "execute_result"
    }
   ],
   "source": [
    "df.columns"
   ]
  },
  {
   "cell_type": "code",
   "execution_count": 17,
   "metadata": {},
   "outputs": [
    {
     "data": {
      "text/plain": [
       "array([[ 0.68351477, -0.5043707 ,  0.52601792,  1.03180831],\n",
       "       [-1.21259109, -0.10692355,  0.52668412,  0.23816214],\n",
       "       [ 0.6699203 , -0.43564964,  1.07632608, -0.39255973],\n",
       "       [ 0.83203706, -0.42597162,  1.27623493,  1.10001759],\n",
       "       [-0.6524488 , -2.01474693,  0.58636154,  1.54198715],\n",
       "       [ 0.57463991,  0.87934958,  0.97916055, -0.04732877]])"
      ]
     },
     "execution_count": 17,
     "metadata": {},
     "output_type": "execute_result"
    }
   ],
   "source": [
    "df.values"
   ]
  },
  {
   "cell_type": "code",
   "execution_count": 18,
   "metadata": {},
   "outputs": [
    {
     "data": {
      "text/html": [
       "<div>\n",
       "<style scoped>\n",
       "    .dataframe tbody tr th:only-of-type {\n",
       "        vertical-align: middle;\n",
       "    }\n",
       "\n",
       "    .dataframe tbody tr th {\n",
       "        vertical-align: top;\n",
       "    }\n",
       "\n",
       "    .dataframe thead th {\n",
       "        text-align: right;\n",
       "    }\n",
       "</style>\n",
       "<table border=\"1\" class=\"dataframe\">\n",
       "  <thead>\n",
       "    <tr style=\"text-align: right;\">\n",
       "      <th></th>\n",
       "      <th>A</th>\n",
       "      <th>B</th>\n",
       "      <th>C</th>\n",
       "      <th>D</th>\n",
       "    </tr>\n",
       "  </thead>\n",
       "  <tbody>\n",
       "    <tr>\n",
       "      <th>count</th>\n",
       "      <td>6.000000</td>\n",
       "      <td>6.000000</td>\n",
       "      <td>6.000000</td>\n",
       "      <td>6.000000</td>\n",
       "    </tr>\n",
       "    <tr>\n",
       "      <th>mean</th>\n",
       "      <td>0.149179</td>\n",
       "      <td>-0.434719</td>\n",
       "      <td>0.828464</td>\n",
       "      <td>0.578681</td>\n",
       "    </tr>\n",
       "    <tr>\n",
       "      <th>std</th>\n",
       "      <td>0.860351</td>\n",
       "      <td>0.931197</td>\n",
       "      <td>0.324285</td>\n",
       "      <td>0.755807</td>\n",
       "    </tr>\n",
       "    <tr>\n",
       "      <th>min</th>\n",
       "      <td>-1.212591</td>\n",
       "      <td>-2.014747</td>\n",
       "      <td>0.526018</td>\n",
       "      <td>-0.392560</td>\n",
       "    </tr>\n",
       "    <tr>\n",
       "      <th>25%</th>\n",
       "      <td>-0.345677</td>\n",
       "      <td>-0.487190</td>\n",
       "      <td>0.541603</td>\n",
       "      <td>0.024044</td>\n",
       "    </tr>\n",
       "    <tr>\n",
       "      <th>50%</th>\n",
       "      <td>0.622280</td>\n",
       "      <td>-0.430811</td>\n",
       "      <td>0.782761</td>\n",
       "      <td>0.634985</td>\n",
       "    </tr>\n",
       "    <tr>\n",
       "      <th>75%</th>\n",
       "      <td>0.680116</td>\n",
       "      <td>-0.186686</td>\n",
       "      <td>1.052035</td>\n",
       "      <td>1.082965</td>\n",
       "    </tr>\n",
       "    <tr>\n",
       "      <th>max</th>\n",
       "      <td>0.832037</td>\n",
       "      <td>0.879350</td>\n",
       "      <td>1.276235</td>\n",
       "      <td>1.541987</td>\n",
       "    </tr>\n",
       "  </tbody>\n",
       "</table>\n",
       "</div>"
      ],
      "text/plain": [
       "              A         B         C         D\n",
       "count  6.000000  6.000000  6.000000  6.000000\n",
       "mean   0.149179 -0.434719  0.828464  0.578681\n",
       "std    0.860351  0.931197  0.324285  0.755807\n",
       "min   -1.212591 -2.014747  0.526018 -0.392560\n",
       "25%   -0.345677 -0.487190  0.541603  0.024044\n",
       "50%    0.622280 -0.430811  0.782761  0.634985\n",
       "75%    0.680116 -0.186686  1.052035  1.082965\n",
       "max    0.832037  0.879350  1.276235  1.541987"
      ]
     },
     "execution_count": 18,
     "metadata": {},
     "output_type": "execute_result"
    }
   ],
   "source": [
    "df.describe()"
   ]
  },
  {
   "cell_type": "markdown",
   "metadata": {},
   "source": [
    "describe ()는 데이터의 통계 요약을 보여줍니다."
   ]
  },
  {
   "cell_type": "code",
   "execution_count": 19,
   "metadata": {},
   "outputs": [
    {
     "data": {
      "text/html": [
       "<div>\n",
       "<style scoped>\n",
       "    .dataframe tbody tr th:only-of-type {\n",
       "        vertical-align: middle;\n",
       "    }\n",
       "\n",
       "    .dataframe tbody tr th {\n",
       "        vertical-align: top;\n",
       "    }\n",
       "\n",
       "    .dataframe thead th {\n",
       "        text-align: right;\n",
       "    }\n",
       "</style>\n",
       "<table border=\"1\" class=\"dataframe\">\n",
       "  <thead>\n",
       "    <tr style=\"text-align: right;\">\n",
       "      <th></th>\n",
       "      <th>2013-01-01 00:00:00</th>\n",
       "      <th>2013-01-02 00:00:00</th>\n",
       "      <th>2013-01-03 00:00:00</th>\n",
       "      <th>2013-01-04 00:00:00</th>\n",
       "      <th>2013-01-05 00:00:00</th>\n",
       "      <th>2013-01-06 00:00:00</th>\n",
       "    </tr>\n",
       "  </thead>\n",
       "  <tbody>\n",
       "    <tr>\n",
       "      <th>A</th>\n",
       "      <td>0.683515</td>\n",
       "      <td>-1.212591</td>\n",
       "      <td>0.669920</td>\n",
       "      <td>0.832037</td>\n",
       "      <td>-0.652449</td>\n",
       "      <td>0.574640</td>\n",
       "    </tr>\n",
       "    <tr>\n",
       "      <th>B</th>\n",
       "      <td>-0.504371</td>\n",
       "      <td>-0.106924</td>\n",
       "      <td>-0.435650</td>\n",
       "      <td>-0.425972</td>\n",
       "      <td>-2.014747</td>\n",
       "      <td>0.879350</td>\n",
       "    </tr>\n",
       "    <tr>\n",
       "      <th>C</th>\n",
       "      <td>0.526018</td>\n",
       "      <td>0.526684</td>\n",
       "      <td>1.076326</td>\n",
       "      <td>1.276235</td>\n",
       "      <td>0.586362</td>\n",
       "      <td>0.979161</td>\n",
       "    </tr>\n",
       "    <tr>\n",
       "      <th>D</th>\n",
       "      <td>1.031808</td>\n",
       "      <td>0.238162</td>\n",
       "      <td>-0.392560</td>\n",
       "      <td>1.100018</td>\n",
       "      <td>1.541987</td>\n",
       "      <td>-0.047329</td>\n",
       "    </tr>\n",
       "  </tbody>\n",
       "</table>\n",
       "</div>"
      ],
      "text/plain": [
       "   2013-01-01  2013-01-02  2013-01-03  2013-01-04  2013-01-05  2013-01-06\n",
       "A    0.683515   -1.212591    0.669920    0.832037   -0.652449    0.574640\n",
       "B   -0.504371   -0.106924   -0.435650   -0.425972   -2.014747    0.879350\n",
       "C    0.526018    0.526684    1.076326    1.276235    0.586362    0.979161\n",
       "D    1.031808    0.238162   -0.392560    1.100018    1.541987   -0.047329"
      ]
     },
     "execution_count": 19,
     "metadata": {},
     "output_type": "execute_result"
    }
   ],
   "source": [
    "df.T"
   ]
  },
  {
   "cell_type": "code",
   "execution_count": 20,
   "metadata": {},
   "outputs": [
    {
     "data": {
      "text/html": [
       "<div>\n",
       "<style scoped>\n",
       "    .dataframe tbody tr th:only-of-type {\n",
       "        vertical-align: middle;\n",
       "    }\n",
       "\n",
       "    .dataframe tbody tr th {\n",
       "        vertical-align: top;\n",
       "    }\n",
       "\n",
       "    .dataframe thead th {\n",
       "        text-align: right;\n",
       "    }\n",
       "</style>\n",
       "<table border=\"1\" class=\"dataframe\">\n",
       "  <thead>\n",
       "    <tr style=\"text-align: right;\">\n",
       "      <th></th>\n",
       "      <th>D</th>\n",
       "      <th>C</th>\n",
       "      <th>B</th>\n",
       "      <th>A</th>\n",
       "    </tr>\n",
       "  </thead>\n",
       "  <tbody>\n",
       "    <tr>\n",
       "      <th>2013-01-01</th>\n",
       "      <td>1.031808</td>\n",
       "      <td>0.526018</td>\n",
       "      <td>-0.504371</td>\n",
       "      <td>0.683515</td>\n",
       "    </tr>\n",
       "    <tr>\n",
       "      <th>2013-01-02</th>\n",
       "      <td>0.238162</td>\n",
       "      <td>0.526684</td>\n",
       "      <td>-0.106924</td>\n",
       "      <td>-1.212591</td>\n",
       "    </tr>\n",
       "    <tr>\n",
       "      <th>2013-01-03</th>\n",
       "      <td>-0.392560</td>\n",
       "      <td>1.076326</td>\n",
       "      <td>-0.435650</td>\n",
       "      <td>0.669920</td>\n",
       "    </tr>\n",
       "    <tr>\n",
       "      <th>2013-01-04</th>\n",
       "      <td>1.100018</td>\n",
       "      <td>1.276235</td>\n",
       "      <td>-0.425972</td>\n",
       "      <td>0.832037</td>\n",
       "    </tr>\n",
       "    <tr>\n",
       "      <th>2013-01-05</th>\n",
       "      <td>1.541987</td>\n",
       "      <td>0.586362</td>\n",
       "      <td>-2.014747</td>\n",
       "      <td>-0.652449</td>\n",
       "    </tr>\n",
       "    <tr>\n",
       "      <th>2013-01-06</th>\n",
       "      <td>-0.047329</td>\n",
       "      <td>0.979161</td>\n",
       "      <td>0.879350</td>\n",
       "      <td>0.574640</td>\n",
       "    </tr>\n",
       "  </tbody>\n",
       "</table>\n",
       "</div>"
      ],
      "text/plain": [
       "                   D         C         B         A\n",
       "2013-01-01  1.031808  0.526018 -0.504371  0.683515\n",
       "2013-01-02  0.238162  0.526684 -0.106924 -1.212591\n",
       "2013-01-03 -0.392560  1.076326 -0.435650  0.669920\n",
       "2013-01-04  1.100018  1.276235 -0.425972  0.832037\n",
       "2013-01-05  1.541987  0.586362 -2.014747 -0.652449\n",
       "2013-01-06 -0.047329  0.979161  0.879350  0.574640"
      ]
     },
     "execution_count": 20,
     "metadata": {},
     "output_type": "execute_result"
    }
   ],
   "source": [
    "df.sort_index(axis=1, ascending=False)"
   ]
  },
  {
   "cell_type": "markdown",
   "metadata": {},
   "source": [
    "축별 정렬"
   ]
  },
  {
   "cell_type": "code",
   "execution_count": 21,
   "metadata": {},
   "outputs": [
    {
     "data": {
      "text/html": [
       "<div>\n",
       "<style scoped>\n",
       "    .dataframe tbody tr th:only-of-type {\n",
       "        vertical-align: middle;\n",
       "    }\n",
       "\n",
       "    .dataframe tbody tr th {\n",
       "        vertical-align: top;\n",
       "    }\n",
       "\n",
       "    .dataframe thead th {\n",
       "        text-align: right;\n",
       "    }\n",
       "</style>\n",
       "<table border=\"1\" class=\"dataframe\">\n",
       "  <thead>\n",
       "    <tr style=\"text-align: right;\">\n",
       "      <th></th>\n",
       "      <th>A</th>\n",
       "      <th>B</th>\n",
       "      <th>C</th>\n",
       "      <th>D</th>\n",
       "    </tr>\n",
       "  </thead>\n",
       "  <tbody>\n",
       "    <tr>\n",
       "      <th>2013-01-05</th>\n",
       "      <td>-0.652449</td>\n",
       "      <td>-2.014747</td>\n",
       "      <td>0.586362</td>\n",
       "      <td>1.541987</td>\n",
       "    </tr>\n",
       "    <tr>\n",
       "      <th>2013-01-01</th>\n",
       "      <td>0.683515</td>\n",
       "      <td>-0.504371</td>\n",
       "      <td>0.526018</td>\n",
       "      <td>1.031808</td>\n",
       "    </tr>\n",
       "    <tr>\n",
       "      <th>2013-01-03</th>\n",
       "      <td>0.669920</td>\n",
       "      <td>-0.435650</td>\n",
       "      <td>1.076326</td>\n",
       "      <td>-0.392560</td>\n",
       "    </tr>\n",
       "    <tr>\n",
       "      <th>2013-01-04</th>\n",
       "      <td>0.832037</td>\n",
       "      <td>-0.425972</td>\n",
       "      <td>1.276235</td>\n",
       "      <td>1.100018</td>\n",
       "    </tr>\n",
       "    <tr>\n",
       "      <th>2013-01-02</th>\n",
       "      <td>-1.212591</td>\n",
       "      <td>-0.106924</td>\n",
       "      <td>0.526684</td>\n",
       "      <td>0.238162</td>\n",
       "    </tr>\n",
       "    <tr>\n",
       "      <th>2013-01-06</th>\n",
       "      <td>0.574640</td>\n",
       "      <td>0.879350</td>\n",
       "      <td>0.979161</td>\n",
       "      <td>-0.047329</td>\n",
       "    </tr>\n",
       "  </tbody>\n",
       "</table>\n",
       "</div>"
      ],
      "text/plain": [
       "                   A         B         C         D\n",
       "2013-01-05 -0.652449 -2.014747  0.586362  1.541987\n",
       "2013-01-01  0.683515 -0.504371  0.526018  1.031808\n",
       "2013-01-03  0.669920 -0.435650  1.076326 -0.392560\n",
       "2013-01-04  0.832037 -0.425972  1.276235  1.100018\n",
       "2013-01-02 -1.212591 -0.106924  0.526684  0.238162\n",
       "2013-01-06  0.574640  0.879350  0.979161 -0.047329"
      ]
     },
     "execution_count": 21,
     "metadata": {},
     "output_type": "execute_result"
    }
   ],
   "source": [
    "df.sort_values(by='B')"
   ]
  },
  {
   "cell_type": "markdown",
   "metadata": {},
   "source": [
    "값을 기준으로 정렬 "
   ]
  },
  {
   "cell_type": "markdown",
   "metadata": {},
   "source": [
    "# Selection"
   ]
  },
  {
   "cell_type": "code",
   "execution_count": 22,
   "metadata": {},
   "outputs": [
    {
     "data": {
      "text/plain": [
       "2013-01-01    0.683515\n",
       "2013-01-02   -1.212591\n",
       "2013-01-03    0.669920\n",
       "2013-01-04    0.832037\n",
       "2013-01-05   -0.652449\n",
       "2013-01-06    0.574640\n",
       "Freq: D, Name: A, dtype: float64"
      ]
     },
     "execution_count": 22,
     "metadata": {},
     "output_type": "execute_result"
    }
   ],
   "source": [
    "df['A']"
   ]
  },
  {
   "cell_type": "markdown",
   "metadata": {},
   "source": [
    "df.A와 동일한 Series를 생성하는 단일 열 선택"
   ]
  },
  {
   "cell_type": "code",
   "execution_count": 23,
   "metadata": {},
   "outputs": [
    {
     "data": {
      "text/html": [
       "<div>\n",
       "<style scoped>\n",
       "    .dataframe tbody tr th:only-of-type {\n",
       "        vertical-align: middle;\n",
       "    }\n",
       "\n",
       "    .dataframe tbody tr th {\n",
       "        vertical-align: top;\n",
       "    }\n",
       "\n",
       "    .dataframe thead th {\n",
       "        text-align: right;\n",
       "    }\n",
       "</style>\n",
       "<table border=\"1\" class=\"dataframe\">\n",
       "  <thead>\n",
       "    <tr style=\"text-align: right;\">\n",
       "      <th></th>\n",
       "      <th>A</th>\n",
       "      <th>B</th>\n",
       "      <th>C</th>\n",
       "      <th>D</th>\n",
       "    </tr>\n",
       "  </thead>\n",
       "  <tbody>\n",
       "    <tr>\n",
       "      <th>2013-01-01</th>\n",
       "      <td>0.683515</td>\n",
       "      <td>-0.504371</td>\n",
       "      <td>0.526018</td>\n",
       "      <td>1.031808</td>\n",
       "    </tr>\n",
       "    <tr>\n",
       "      <th>2013-01-02</th>\n",
       "      <td>-1.212591</td>\n",
       "      <td>-0.106924</td>\n",
       "      <td>0.526684</td>\n",
       "      <td>0.238162</td>\n",
       "    </tr>\n",
       "    <tr>\n",
       "      <th>2013-01-03</th>\n",
       "      <td>0.669920</td>\n",
       "      <td>-0.435650</td>\n",
       "      <td>1.076326</td>\n",
       "      <td>-0.392560</td>\n",
       "    </tr>\n",
       "  </tbody>\n",
       "</table>\n",
       "</div>"
      ],
      "text/plain": [
       "                   A         B         C         D\n",
       "2013-01-01  0.683515 -0.504371  0.526018  1.031808\n",
       "2013-01-02 -1.212591 -0.106924  0.526684  0.238162\n",
       "2013-01-03  0.669920 -0.435650  1.076326 -0.392560"
      ]
     },
     "execution_count": 23,
     "metadata": {},
     "output_type": "execute_result"
    }
   ],
   "source": [
    "df[0:3]"
   ]
  },
  {
   "cell_type": "code",
   "execution_count": 24,
   "metadata": {},
   "outputs": [
    {
     "data": {
      "text/html": [
       "<div>\n",
       "<style scoped>\n",
       "    .dataframe tbody tr th:only-of-type {\n",
       "        vertical-align: middle;\n",
       "    }\n",
       "\n",
       "    .dataframe tbody tr th {\n",
       "        vertical-align: top;\n",
       "    }\n",
       "\n",
       "    .dataframe thead th {\n",
       "        text-align: right;\n",
       "    }\n",
       "</style>\n",
       "<table border=\"1\" class=\"dataframe\">\n",
       "  <thead>\n",
       "    <tr style=\"text-align: right;\">\n",
       "      <th></th>\n",
       "      <th>A</th>\n",
       "      <th>B</th>\n",
       "      <th>C</th>\n",
       "      <th>D</th>\n",
       "    </tr>\n",
       "  </thead>\n",
       "  <tbody>\n",
       "    <tr>\n",
       "      <th>2013-01-02</th>\n",
       "      <td>-1.212591</td>\n",
       "      <td>-0.106924</td>\n",
       "      <td>0.526684</td>\n",
       "      <td>0.238162</td>\n",
       "    </tr>\n",
       "    <tr>\n",
       "      <th>2013-01-03</th>\n",
       "      <td>0.669920</td>\n",
       "      <td>-0.435650</td>\n",
       "      <td>1.076326</td>\n",
       "      <td>-0.392560</td>\n",
       "    </tr>\n",
       "    <tr>\n",
       "      <th>2013-01-04</th>\n",
       "      <td>0.832037</td>\n",
       "      <td>-0.425972</td>\n",
       "      <td>1.276235</td>\n",
       "      <td>1.100018</td>\n",
       "    </tr>\n",
       "  </tbody>\n",
       "</table>\n",
       "</div>"
      ],
      "text/plain": [
       "                   A         B         C         D\n",
       "2013-01-02 -1.212591 -0.106924  0.526684  0.238162\n",
       "2013-01-03  0.669920 -0.435650  1.076326 -0.392560\n",
       "2013-01-04  0.832037 -0.425972  1.276235  1.100018"
      ]
     },
     "execution_count": 24,
     "metadata": {},
     "output_type": "execute_result"
    }
   ],
   "source": [
    "df['20130102':'20130104']"
   ]
  },
  {
   "cell_type": "code",
   "execution_count": 25,
   "metadata": {},
   "outputs": [
    {
     "data": {
      "text/plain": [
       "A    0.683515\n",
       "B   -0.504371\n",
       "C    0.526018\n",
       "D    1.031808\n",
       "Name: 2013-01-01 00:00:00, dtype: float64"
      ]
     },
     "execution_count": 25,
     "metadata": {},
     "output_type": "execute_result"
    }
   ],
   "source": [
    "df.loc[dates[0]]"
   ]
  },
  {
   "cell_type": "markdown",
   "metadata": {},
   "source": [
    "라벨을 사용하여 단면을 얻으려면 "
   ]
  },
  {
   "cell_type": "code",
   "execution_count": 26,
   "metadata": {},
   "outputs": [
    {
     "data": {
      "text/html": [
       "<div>\n",
       "<style scoped>\n",
       "    .dataframe tbody tr th:only-of-type {\n",
       "        vertical-align: middle;\n",
       "    }\n",
       "\n",
       "    .dataframe tbody tr th {\n",
       "        vertical-align: top;\n",
       "    }\n",
       "\n",
       "    .dataframe thead th {\n",
       "        text-align: right;\n",
       "    }\n",
       "</style>\n",
       "<table border=\"1\" class=\"dataframe\">\n",
       "  <thead>\n",
       "    <tr style=\"text-align: right;\">\n",
       "      <th></th>\n",
       "      <th>A</th>\n",
       "      <th>B</th>\n",
       "    </tr>\n",
       "  </thead>\n",
       "  <tbody>\n",
       "    <tr>\n",
       "      <th>2013-01-01</th>\n",
       "      <td>0.683515</td>\n",
       "      <td>-0.504371</td>\n",
       "    </tr>\n",
       "    <tr>\n",
       "      <th>2013-01-02</th>\n",
       "      <td>-1.212591</td>\n",
       "      <td>-0.106924</td>\n",
       "    </tr>\n",
       "    <tr>\n",
       "      <th>2013-01-03</th>\n",
       "      <td>0.669920</td>\n",
       "      <td>-0.435650</td>\n",
       "    </tr>\n",
       "    <tr>\n",
       "      <th>2013-01-04</th>\n",
       "      <td>0.832037</td>\n",
       "      <td>-0.425972</td>\n",
       "    </tr>\n",
       "    <tr>\n",
       "      <th>2013-01-05</th>\n",
       "      <td>-0.652449</td>\n",
       "      <td>-2.014747</td>\n",
       "    </tr>\n",
       "    <tr>\n",
       "      <th>2013-01-06</th>\n",
       "      <td>0.574640</td>\n",
       "      <td>0.879350</td>\n",
       "    </tr>\n",
       "  </tbody>\n",
       "</table>\n",
       "</div>"
      ],
      "text/plain": [
       "                   A         B\n",
       "2013-01-01  0.683515 -0.504371\n",
       "2013-01-02 -1.212591 -0.106924\n",
       "2013-01-03  0.669920 -0.435650\n",
       "2013-01-04  0.832037 -0.425972\n",
       "2013-01-05 -0.652449 -2.014747\n",
       "2013-01-06  0.574640  0.879350"
      ]
     },
     "execution_count": 26,
     "metadata": {},
     "output_type": "execute_result"
    }
   ],
   "source": [
    "df.loc[:,['A','B']]"
   ]
  },
  {
   "cell_type": "markdown",
   "metadata": {},
   "source": [
    "레이블로 다중 축에서 선택하기"
   ]
  },
  {
   "cell_type": "code",
   "execution_count": 27,
   "metadata": {},
   "outputs": [
    {
     "data": {
      "text/html": [
       "<div>\n",
       "<style scoped>\n",
       "    .dataframe tbody tr th:only-of-type {\n",
       "        vertical-align: middle;\n",
       "    }\n",
       "\n",
       "    .dataframe tbody tr th {\n",
       "        vertical-align: top;\n",
       "    }\n",
       "\n",
       "    .dataframe thead th {\n",
       "        text-align: right;\n",
       "    }\n",
       "</style>\n",
       "<table border=\"1\" class=\"dataframe\">\n",
       "  <thead>\n",
       "    <tr style=\"text-align: right;\">\n",
       "      <th></th>\n",
       "      <th>A</th>\n",
       "      <th>B</th>\n",
       "    </tr>\n",
       "  </thead>\n",
       "  <tbody>\n",
       "    <tr>\n",
       "      <th>2013-01-02</th>\n",
       "      <td>-1.212591</td>\n",
       "      <td>-0.106924</td>\n",
       "    </tr>\n",
       "    <tr>\n",
       "      <th>2013-01-03</th>\n",
       "      <td>0.669920</td>\n",
       "      <td>-0.435650</td>\n",
       "    </tr>\n",
       "    <tr>\n",
       "      <th>2013-01-04</th>\n",
       "      <td>0.832037</td>\n",
       "      <td>-0.425972</td>\n",
       "    </tr>\n",
       "  </tbody>\n",
       "</table>\n",
       "</div>"
      ],
      "text/plain": [
       "                   A         B\n",
       "2013-01-02 -1.212591 -0.106924\n",
       "2013-01-03  0.669920 -0.435650\n",
       "2013-01-04  0.832037 -0.425972"
      ]
     },
     "execution_count": 27,
     "metadata": {},
     "output_type": "execute_result"
    }
   ],
   "source": [
    "df.loc['20130102':'20130104',['A','B']]"
   ]
  },
  {
   "cell_type": "markdown",
   "metadata": {},
   "source": [
    "라벨 슬라이싱을 보여 주며 두 종단점이 포함됩니다."
   ]
  },
  {
   "cell_type": "code",
   "execution_count": 28,
   "metadata": {},
   "outputs": [
    {
     "data": {
      "text/plain": [
       "A   -1.212591\n",
       "B   -0.106924\n",
       "Name: 2013-01-02 00:00:00, dtype: float64"
      ]
     },
     "execution_count": 28,
     "metadata": {},
     "output_type": "execute_result"
    }
   ],
   "source": [
    "df.loc['20130102',['A','B']]"
   ]
  },
  {
   "cell_type": "code",
   "execution_count": 29,
   "metadata": {},
   "outputs": [
    {
     "data": {
      "text/plain": [
       "0.6835147748988983"
      ]
     },
     "execution_count": 29,
     "metadata": {},
     "output_type": "execute_result"
    }
   ],
   "source": [
    "df.loc[dates[0],'A']"
   ]
  },
  {
   "cell_type": "markdown",
   "metadata": {},
   "source": [
    "스칼라 값 얻기"
   ]
  },
  {
   "cell_type": "code",
   "execution_count": 30,
   "metadata": {},
   "outputs": [
    {
     "data": {
      "text/plain": [
       "0.6835147748988983"
      ]
     },
     "execution_count": 30,
     "metadata": {},
     "output_type": "execute_result"
    }
   ],
   "source": [
    "df.at[dates[0],'A']"
   ]
  },
  {
   "cell_type": "markdown",
   "metadata": {},
   "source": [
    "스칼라에 빠르게 접근하기 위해서 (이전 메쏘드와 동일)"
   ]
  },
  {
   "cell_type": "markdown",
   "metadata": {},
   "source": [
    "# Selection by Position"
   ]
  },
  {
   "cell_type": "code",
   "execution_count": 31,
   "metadata": {},
   "outputs": [
    {
     "data": {
      "text/plain": [
       "A    0.832037\n",
       "B   -0.425972\n",
       "C    1.276235\n",
       "D    1.100018\n",
       "Name: 2013-01-04 00:00:00, dtype: float64"
      ]
     },
     "execution_count": 31,
     "metadata": {},
     "output_type": "execute_result"
    }
   ],
   "source": [
    "df.iloc[3]"
   ]
  },
  {
   "cell_type": "code",
   "execution_count": 32,
   "metadata": {},
   "outputs": [
    {
     "data": {
      "text/html": [
       "<div>\n",
       "<style scoped>\n",
       "    .dataframe tbody tr th:only-of-type {\n",
       "        vertical-align: middle;\n",
       "    }\n",
       "\n",
       "    .dataframe tbody tr th {\n",
       "        vertical-align: top;\n",
       "    }\n",
       "\n",
       "    .dataframe thead th {\n",
       "        text-align: right;\n",
       "    }\n",
       "</style>\n",
       "<table border=\"1\" class=\"dataframe\">\n",
       "  <thead>\n",
       "    <tr style=\"text-align: right;\">\n",
       "      <th></th>\n",
       "      <th>A</th>\n",
       "      <th>B</th>\n",
       "    </tr>\n",
       "  </thead>\n",
       "  <tbody>\n",
       "    <tr>\n",
       "      <th>2013-01-04</th>\n",
       "      <td>0.832037</td>\n",
       "      <td>-0.425972</td>\n",
       "    </tr>\n",
       "    <tr>\n",
       "      <th>2013-01-05</th>\n",
       "      <td>-0.652449</td>\n",
       "      <td>-2.014747</td>\n",
       "    </tr>\n",
       "  </tbody>\n",
       "</table>\n",
       "</div>"
      ],
      "text/plain": [
       "                   A         B\n",
       "2013-01-04  0.832037 -0.425972\n",
       "2013-01-05 -0.652449 -2.014747"
      ]
     },
     "execution_count": 32,
     "metadata": {},
     "output_type": "execute_result"
    }
   ],
   "source": [
    "df.iloc[3:5,0:2]"
   ]
  },
  {
   "cell_type": "code",
   "execution_count": 33,
   "metadata": {},
   "outputs": [
    {
     "data": {
      "text/html": [
       "<div>\n",
       "<style scoped>\n",
       "    .dataframe tbody tr th:only-of-type {\n",
       "        vertical-align: middle;\n",
       "    }\n",
       "\n",
       "    .dataframe tbody tr th {\n",
       "        vertical-align: top;\n",
       "    }\n",
       "\n",
       "    .dataframe thead th {\n",
       "        text-align: right;\n",
       "    }\n",
       "</style>\n",
       "<table border=\"1\" class=\"dataframe\">\n",
       "  <thead>\n",
       "    <tr style=\"text-align: right;\">\n",
       "      <th></th>\n",
       "      <th>A</th>\n",
       "      <th>C</th>\n",
       "    </tr>\n",
       "  </thead>\n",
       "  <tbody>\n",
       "    <tr>\n",
       "      <th>2013-01-02</th>\n",
       "      <td>-1.212591</td>\n",
       "      <td>0.526684</td>\n",
       "    </tr>\n",
       "    <tr>\n",
       "      <th>2013-01-03</th>\n",
       "      <td>0.669920</td>\n",
       "      <td>1.076326</td>\n",
       "    </tr>\n",
       "    <tr>\n",
       "      <th>2013-01-05</th>\n",
       "      <td>-0.652449</td>\n",
       "      <td>0.586362</td>\n",
       "    </tr>\n",
       "  </tbody>\n",
       "</table>\n",
       "</div>"
      ],
      "text/plain": [
       "                   A         C\n",
       "2013-01-02 -1.212591  0.526684\n",
       "2013-01-03  0.669920  1.076326\n",
       "2013-01-05 -0.652449  0.586362"
      ]
     },
     "execution_count": 33,
     "metadata": {},
     "output_type": "execute_result"
    }
   ],
   "source": [
    "df.iloc[[1,2,4],[0,2]]"
   ]
  },
  {
   "cell_type": "code",
   "execution_count": 34,
   "metadata": {},
   "outputs": [
    {
     "data": {
      "text/html": [
       "<div>\n",
       "<style scoped>\n",
       "    .dataframe tbody tr th:only-of-type {\n",
       "        vertical-align: middle;\n",
       "    }\n",
       "\n",
       "    .dataframe tbody tr th {\n",
       "        vertical-align: top;\n",
       "    }\n",
       "\n",
       "    .dataframe thead th {\n",
       "        text-align: right;\n",
       "    }\n",
       "</style>\n",
       "<table border=\"1\" class=\"dataframe\">\n",
       "  <thead>\n",
       "    <tr style=\"text-align: right;\">\n",
       "      <th></th>\n",
       "      <th>A</th>\n",
       "      <th>B</th>\n",
       "      <th>C</th>\n",
       "      <th>D</th>\n",
       "    </tr>\n",
       "  </thead>\n",
       "  <tbody>\n",
       "    <tr>\n",
       "      <th>2013-01-02</th>\n",
       "      <td>-1.212591</td>\n",
       "      <td>-0.106924</td>\n",
       "      <td>0.526684</td>\n",
       "      <td>0.238162</td>\n",
       "    </tr>\n",
       "    <tr>\n",
       "      <th>2013-01-03</th>\n",
       "      <td>0.669920</td>\n",
       "      <td>-0.435650</td>\n",
       "      <td>1.076326</td>\n",
       "      <td>-0.392560</td>\n",
       "    </tr>\n",
       "  </tbody>\n",
       "</table>\n",
       "</div>"
      ],
      "text/plain": [
       "                   A         B         C         D\n",
       "2013-01-02 -1.212591 -0.106924  0.526684  0.238162\n",
       "2013-01-03  0.669920 -0.435650  1.076326 -0.392560"
      ]
     },
     "execution_count": 34,
     "metadata": {},
     "output_type": "execute_result"
    }
   ],
   "source": [
    "df.iloc[1:3,:]"
   ]
  },
  {
   "cell_type": "code",
   "execution_count": 35,
   "metadata": {},
   "outputs": [
    {
     "data": {
      "text/html": [
       "<div>\n",
       "<style scoped>\n",
       "    .dataframe tbody tr th:only-of-type {\n",
       "        vertical-align: middle;\n",
       "    }\n",
       "\n",
       "    .dataframe tbody tr th {\n",
       "        vertical-align: top;\n",
       "    }\n",
       "\n",
       "    .dataframe thead th {\n",
       "        text-align: right;\n",
       "    }\n",
       "</style>\n",
       "<table border=\"1\" class=\"dataframe\">\n",
       "  <thead>\n",
       "    <tr style=\"text-align: right;\">\n",
       "      <th></th>\n",
       "      <th>B</th>\n",
       "      <th>C</th>\n",
       "    </tr>\n",
       "  </thead>\n",
       "  <tbody>\n",
       "    <tr>\n",
       "      <th>2013-01-01</th>\n",
       "      <td>-0.504371</td>\n",
       "      <td>0.526018</td>\n",
       "    </tr>\n",
       "    <tr>\n",
       "      <th>2013-01-02</th>\n",
       "      <td>-0.106924</td>\n",
       "      <td>0.526684</td>\n",
       "    </tr>\n",
       "    <tr>\n",
       "      <th>2013-01-03</th>\n",
       "      <td>-0.435650</td>\n",
       "      <td>1.076326</td>\n",
       "    </tr>\n",
       "    <tr>\n",
       "      <th>2013-01-04</th>\n",
       "      <td>-0.425972</td>\n",
       "      <td>1.276235</td>\n",
       "    </tr>\n",
       "    <tr>\n",
       "      <th>2013-01-05</th>\n",
       "      <td>-2.014747</td>\n",
       "      <td>0.586362</td>\n",
       "    </tr>\n",
       "    <tr>\n",
       "      <th>2013-01-06</th>\n",
       "      <td>0.879350</td>\n",
       "      <td>0.979161</td>\n",
       "    </tr>\n",
       "  </tbody>\n",
       "</table>\n",
       "</div>"
      ],
      "text/plain": [
       "                   B         C\n",
       "2013-01-01 -0.504371  0.526018\n",
       "2013-01-02 -0.106924  0.526684\n",
       "2013-01-03 -0.435650  1.076326\n",
       "2013-01-04 -0.425972  1.276235\n",
       "2013-01-05 -2.014747  0.586362\n",
       "2013-01-06  0.879350  0.979161"
      ]
     },
     "execution_count": 35,
     "metadata": {},
     "output_type": "execute_result"
    }
   ],
   "source": [
    "df.iloc[:,1:3]"
   ]
  },
  {
   "cell_type": "code",
   "execution_count": 36,
   "metadata": {},
   "outputs": [
    {
     "data": {
      "text/plain": [
       "-0.10692355482067963"
      ]
     },
     "execution_count": 36,
     "metadata": {},
     "output_type": "execute_result"
    }
   ],
   "source": [
    "df.iloc[1,1]"
   ]
  },
  {
   "cell_type": "code",
   "execution_count": 37,
   "metadata": {},
   "outputs": [
    {
     "data": {
      "text/plain": [
       "-0.10692355482067963"
      ]
     },
     "execution_count": 37,
     "metadata": {},
     "output_type": "execute_result"
    }
   ],
   "source": [
    "df.iat[1,1]"
   ]
  },
  {
   "cell_type": "markdown",
   "metadata": {},
   "source": [
    "스칼라에 빠르게 액세스하려면 (이전 메서드와 동일)"
   ]
  },
  {
   "cell_type": "markdown",
   "metadata": {},
   "source": [
    "# Boolean Indexing"
   ]
  },
  {
   "cell_type": "code",
   "execution_count": 38,
   "metadata": {},
   "outputs": [
    {
     "data": {
      "text/html": [
       "<div>\n",
       "<style scoped>\n",
       "    .dataframe tbody tr th:only-of-type {\n",
       "        vertical-align: middle;\n",
       "    }\n",
       "\n",
       "    .dataframe tbody tr th {\n",
       "        vertical-align: top;\n",
       "    }\n",
       "\n",
       "    .dataframe thead th {\n",
       "        text-align: right;\n",
       "    }\n",
       "</style>\n",
       "<table border=\"1\" class=\"dataframe\">\n",
       "  <thead>\n",
       "    <tr style=\"text-align: right;\">\n",
       "      <th></th>\n",
       "      <th>A</th>\n",
       "      <th>B</th>\n",
       "      <th>C</th>\n",
       "      <th>D</th>\n",
       "    </tr>\n",
       "  </thead>\n",
       "  <tbody>\n",
       "    <tr>\n",
       "      <th>2013-01-01</th>\n",
       "      <td>0.683515</td>\n",
       "      <td>-0.504371</td>\n",
       "      <td>0.526018</td>\n",
       "      <td>1.031808</td>\n",
       "    </tr>\n",
       "    <tr>\n",
       "      <th>2013-01-03</th>\n",
       "      <td>0.669920</td>\n",
       "      <td>-0.435650</td>\n",
       "      <td>1.076326</td>\n",
       "      <td>-0.392560</td>\n",
       "    </tr>\n",
       "    <tr>\n",
       "      <th>2013-01-04</th>\n",
       "      <td>0.832037</td>\n",
       "      <td>-0.425972</td>\n",
       "      <td>1.276235</td>\n",
       "      <td>1.100018</td>\n",
       "    </tr>\n",
       "    <tr>\n",
       "      <th>2013-01-06</th>\n",
       "      <td>0.574640</td>\n",
       "      <td>0.879350</td>\n",
       "      <td>0.979161</td>\n",
       "      <td>-0.047329</td>\n",
       "    </tr>\n",
       "  </tbody>\n",
       "</table>\n",
       "</div>"
      ],
      "text/plain": [
       "                   A         B         C         D\n",
       "2013-01-01  0.683515 -0.504371  0.526018  1.031808\n",
       "2013-01-03  0.669920 -0.435650  1.076326 -0.392560\n",
       "2013-01-04  0.832037 -0.425972  1.276235  1.100018\n",
       "2013-01-06  0.574640  0.879350  0.979161 -0.047329"
      ]
     },
     "execution_count": 38,
     "metadata": {},
     "output_type": "execute_result"
    }
   ],
   "source": [
    "df[df.A > 0]"
   ]
  },
  {
   "cell_type": "code",
   "execution_count": 39,
   "metadata": {},
   "outputs": [
    {
     "data": {
      "text/html": [
       "<div>\n",
       "<style scoped>\n",
       "    .dataframe tbody tr th:only-of-type {\n",
       "        vertical-align: middle;\n",
       "    }\n",
       "\n",
       "    .dataframe tbody tr th {\n",
       "        vertical-align: top;\n",
       "    }\n",
       "\n",
       "    .dataframe thead th {\n",
       "        text-align: right;\n",
       "    }\n",
       "</style>\n",
       "<table border=\"1\" class=\"dataframe\">\n",
       "  <thead>\n",
       "    <tr style=\"text-align: right;\">\n",
       "      <th></th>\n",
       "      <th>A</th>\n",
       "      <th>B</th>\n",
       "      <th>C</th>\n",
       "      <th>D</th>\n",
       "    </tr>\n",
       "  </thead>\n",
       "  <tbody>\n",
       "    <tr>\n",
       "      <th>2013-01-01</th>\n",
       "      <td>0.683515</td>\n",
       "      <td>NaN</td>\n",
       "      <td>0.526018</td>\n",
       "      <td>1.031808</td>\n",
       "    </tr>\n",
       "    <tr>\n",
       "      <th>2013-01-02</th>\n",
       "      <td>NaN</td>\n",
       "      <td>NaN</td>\n",
       "      <td>0.526684</td>\n",
       "      <td>0.238162</td>\n",
       "    </tr>\n",
       "    <tr>\n",
       "      <th>2013-01-03</th>\n",
       "      <td>0.669920</td>\n",
       "      <td>NaN</td>\n",
       "      <td>1.076326</td>\n",
       "      <td>NaN</td>\n",
       "    </tr>\n",
       "    <tr>\n",
       "      <th>2013-01-04</th>\n",
       "      <td>0.832037</td>\n",
       "      <td>NaN</td>\n",
       "      <td>1.276235</td>\n",
       "      <td>1.100018</td>\n",
       "    </tr>\n",
       "    <tr>\n",
       "      <th>2013-01-05</th>\n",
       "      <td>NaN</td>\n",
       "      <td>NaN</td>\n",
       "      <td>0.586362</td>\n",
       "      <td>1.541987</td>\n",
       "    </tr>\n",
       "    <tr>\n",
       "      <th>2013-01-06</th>\n",
       "      <td>0.574640</td>\n",
       "      <td>0.87935</td>\n",
       "      <td>0.979161</td>\n",
       "      <td>NaN</td>\n",
       "    </tr>\n",
       "  </tbody>\n",
       "</table>\n",
       "</div>"
      ],
      "text/plain": [
       "                   A        B         C         D\n",
       "2013-01-01  0.683515      NaN  0.526018  1.031808\n",
       "2013-01-02       NaN      NaN  0.526684  0.238162\n",
       "2013-01-03  0.669920      NaN  1.076326       NaN\n",
       "2013-01-04  0.832037      NaN  1.276235  1.100018\n",
       "2013-01-05       NaN      NaN  0.586362  1.541987\n",
       "2013-01-06  0.574640  0.87935  0.979161       NaN"
      ]
     },
     "execution_count": 39,
     "metadata": {},
     "output_type": "execute_result"
    }
   ],
   "source": [
    "df[df > 0]"
   ]
  },
  {
   "cell_type": "code",
   "execution_count": 40,
   "metadata": {},
   "outputs": [],
   "source": [
    "df2 = df.copy()"
   ]
  },
  {
   "cell_type": "code",
   "execution_count": 41,
   "metadata": {},
   "outputs": [],
   "source": [
    "df2['E'] = ['one', 'one','two','three','four','three']"
   ]
  },
  {
   "cell_type": "code",
   "execution_count": 42,
   "metadata": {},
   "outputs": [
    {
     "data": {
      "text/html": [
       "<div>\n",
       "<style scoped>\n",
       "    .dataframe tbody tr th:only-of-type {\n",
       "        vertical-align: middle;\n",
       "    }\n",
       "\n",
       "    .dataframe tbody tr th {\n",
       "        vertical-align: top;\n",
       "    }\n",
       "\n",
       "    .dataframe thead th {\n",
       "        text-align: right;\n",
       "    }\n",
       "</style>\n",
       "<table border=\"1\" class=\"dataframe\">\n",
       "  <thead>\n",
       "    <tr style=\"text-align: right;\">\n",
       "      <th></th>\n",
       "      <th>A</th>\n",
       "      <th>B</th>\n",
       "      <th>C</th>\n",
       "      <th>D</th>\n",
       "      <th>E</th>\n",
       "    </tr>\n",
       "  </thead>\n",
       "  <tbody>\n",
       "    <tr>\n",
       "      <th>2013-01-01</th>\n",
       "      <td>0.683515</td>\n",
       "      <td>-0.504371</td>\n",
       "      <td>0.526018</td>\n",
       "      <td>1.031808</td>\n",
       "      <td>one</td>\n",
       "    </tr>\n",
       "    <tr>\n",
       "      <th>2013-01-02</th>\n",
       "      <td>-1.212591</td>\n",
       "      <td>-0.106924</td>\n",
       "      <td>0.526684</td>\n",
       "      <td>0.238162</td>\n",
       "      <td>one</td>\n",
       "    </tr>\n",
       "    <tr>\n",
       "      <th>2013-01-03</th>\n",
       "      <td>0.669920</td>\n",
       "      <td>-0.435650</td>\n",
       "      <td>1.076326</td>\n",
       "      <td>-0.392560</td>\n",
       "      <td>two</td>\n",
       "    </tr>\n",
       "    <tr>\n",
       "      <th>2013-01-04</th>\n",
       "      <td>0.832037</td>\n",
       "      <td>-0.425972</td>\n",
       "      <td>1.276235</td>\n",
       "      <td>1.100018</td>\n",
       "      <td>three</td>\n",
       "    </tr>\n",
       "    <tr>\n",
       "      <th>2013-01-05</th>\n",
       "      <td>-0.652449</td>\n",
       "      <td>-2.014747</td>\n",
       "      <td>0.586362</td>\n",
       "      <td>1.541987</td>\n",
       "      <td>four</td>\n",
       "    </tr>\n",
       "    <tr>\n",
       "      <th>2013-01-06</th>\n",
       "      <td>0.574640</td>\n",
       "      <td>0.879350</td>\n",
       "      <td>0.979161</td>\n",
       "      <td>-0.047329</td>\n",
       "      <td>three</td>\n",
       "    </tr>\n",
       "  </tbody>\n",
       "</table>\n",
       "</div>"
      ],
      "text/plain": [
       "                   A         B         C         D      E\n",
       "2013-01-01  0.683515 -0.504371  0.526018  1.031808    one\n",
       "2013-01-02 -1.212591 -0.106924  0.526684  0.238162    one\n",
       "2013-01-03  0.669920 -0.435650  1.076326 -0.392560    two\n",
       "2013-01-04  0.832037 -0.425972  1.276235  1.100018  three\n",
       "2013-01-05 -0.652449 -2.014747  0.586362  1.541987   four\n",
       "2013-01-06  0.574640  0.879350  0.979161 -0.047329  three"
      ]
     },
     "execution_count": 42,
     "metadata": {},
     "output_type": "execute_result"
    }
   ],
   "source": [
    "df2"
   ]
  },
  {
   "cell_type": "code",
   "execution_count": 43,
   "metadata": {},
   "outputs": [
    {
     "data": {
      "text/html": [
       "<div>\n",
       "<style scoped>\n",
       "    .dataframe tbody tr th:only-of-type {\n",
       "        vertical-align: middle;\n",
       "    }\n",
       "\n",
       "    .dataframe tbody tr th {\n",
       "        vertical-align: top;\n",
       "    }\n",
       "\n",
       "    .dataframe thead th {\n",
       "        text-align: right;\n",
       "    }\n",
       "</style>\n",
       "<table border=\"1\" class=\"dataframe\">\n",
       "  <thead>\n",
       "    <tr style=\"text-align: right;\">\n",
       "      <th></th>\n",
       "      <th>A</th>\n",
       "      <th>B</th>\n",
       "      <th>C</th>\n",
       "      <th>D</th>\n",
       "      <th>E</th>\n",
       "    </tr>\n",
       "  </thead>\n",
       "  <tbody>\n",
       "    <tr>\n",
       "      <th>2013-01-03</th>\n",
       "      <td>0.669920</td>\n",
       "      <td>-0.435650</td>\n",
       "      <td>1.076326</td>\n",
       "      <td>-0.392560</td>\n",
       "      <td>two</td>\n",
       "    </tr>\n",
       "    <tr>\n",
       "      <th>2013-01-05</th>\n",
       "      <td>-0.652449</td>\n",
       "      <td>-2.014747</td>\n",
       "      <td>0.586362</td>\n",
       "      <td>1.541987</td>\n",
       "      <td>four</td>\n",
       "    </tr>\n",
       "  </tbody>\n",
       "</table>\n",
       "</div>"
      ],
      "text/plain": [
       "                   A         B         C         D     E\n",
       "2013-01-03  0.669920 -0.435650  1.076326 -0.392560   two\n",
       "2013-01-05 -0.652449 -2.014747  0.586362  1.541987  four"
      ]
     },
     "execution_count": 43,
     "metadata": {},
     "output_type": "execute_result"
    }
   ],
   "source": [
    "df2[df2['E'].isin(['two','four'])]"
   ]
  },
  {
   "cell_type": "markdown",
   "metadata": {},
   "source": [
    "# Setting"
   ]
  },
  {
   "cell_type": "code",
   "execution_count": 44,
   "metadata": {},
   "outputs": [],
   "source": [
    "s1 = pd.Series([1,2,3,4,5,6], index=pd.date_range('20130102', periods=6))"
   ]
  },
  {
   "cell_type": "code",
   "execution_count": 45,
   "metadata": {},
   "outputs": [
    {
     "data": {
      "text/plain": [
       "2013-01-02    1\n",
       "2013-01-03    2\n",
       "2013-01-04    3\n",
       "2013-01-05    4\n",
       "2013-01-06    5\n",
       "2013-01-07    6\n",
       "Freq: D, dtype: int64"
      ]
     },
     "execution_count": 45,
     "metadata": {},
     "output_type": "execute_result"
    }
   ],
   "source": [
    "s1"
   ]
  },
  {
   "cell_type": "code",
   "execution_count": 46,
   "metadata": {},
   "outputs": [],
   "source": [
    "df['F'] = s1"
   ]
  },
  {
   "cell_type": "code",
   "execution_count": 47,
   "metadata": {},
   "outputs": [],
   "source": [
    "df.at[dates[0],'A'] = 0"
   ]
  },
  {
   "cell_type": "code",
   "execution_count": 48,
   "metadata": {},
   "outputs": [],
   "source": [
    "df.iat[0,1] = 0"
   ]
  },
  {
   "cell_type": "code",
   "execution_count": 49,
   "metadata": {},
   "outputs": [],
   "source": [
    "df.loc[:,'D'] = np.array([5] * len(df))"
   ]
  },
  {
   "cell_type": "code",
   "execution_count": 50,
   "metadata": {},
   "outputs": [
    {
     "data": {
      "text/html": [
       "<div>\n",
       "<style scoped>\n",
       "    .dataframe tbody tr th:only-of-type {\n",
       "        vertical-align: middle;\n",
       "    }\n",
       "\n",
       "    .dataframe tbody tr th {\n",
       "        vertical-align: top;\n",
       "    }\n",
       "\n",
       "    .dataframe thead th {\n",
       "        text-align: right;\n",
       "    }\n",
       "</style>\n",
       "<table border=\"1\" class=\"dataframe\">\n",
       "  <thead>\n",
       "    <tr style=\"text-align: right;\">\n",
       "      <th></th>\n",
       "      <th>A</th>\n",
       "      <th>B</th>\n",
       "      <th>C</th>\n",
       "      <th>D</th>\n",
       "      <th>F</th>\n",
       "    </tr>\n",
       "  </thead>\n",
       "  <tbody>\n",
       "    <tr>\n",
       "      <th>2013-01-01</th>\n",
       "      <td>0.000000</td>\n",
       "      <td>0.000000</td>\n",
       "      <td>0.526018</td>\n",
       "      <td>5</td>\n",
       "      <td>NaN</td>\n",
       "    </tr>\n",
       "    <tr>\n",
       "      <th>2013-01-02</th>\n",
       "      <td>-1.212591</td>\n",
       "      <td>-0.106924</td>\n",
       "      <td>0.526684</td>\n",
       "      <td>5</td>\n",
       "      <td>1.0</td>\n",
       "    </tr>\n",
       "    <tr>\n",
       "      <th>2013-01-03</th>\n",
       "      <td>0.669920</td>\n",
       "      <td>-0.435650</td>\n",
       "      <td>1.076326</td>\n",
       "      <td>5</td>\n",
       "      <td>2.0</td>\n",
       "    </tr>\n",
       "    <tr>\n",
       "      <th>2013-01-04</th>\n",
       "      <td>0.832037</td>\n",
       "      <td>-0.425972</td>\n",
       "      <td>1.276235</td>\n",
       "      <td>5</td>\n",
       "      <td>3.0</td>\n",
       "    </tr>\n",
       "    <tr>\n",
       "      <th>2013-01-05</th>\n",
       "      <td>-0.652449</td>\n",
       "      <td>-2.014747</td>\n",
       "      <td>0.586362</td>\n",
       "      <td>5</td>\n",
       "      <td>4.0</td>\n",
       "    </tr>\n",
       "    <tr>\n",
       "      <th>2013-01-06</th>\n",
       "      <td>0.574640</td>\n",
       "      <td>0.879350</td>\n",
       "      <td>0.979161</td>\n",
       "      <td>5</td>\n",
       "      <td>5.0</td>\n",
       "    </tr>\n",
       "  </tbody>\n",
       "</table>\n",
       "</div>"
      ],
      "text/plain": [
       "                   A         B         C  D    F\n",
       "2013-01-01  0.000000  0.000000  0.526018  5  NaN\n",
       "2013-01-02 -1.212591 -0.106924  0.526684  5  1.0\n",
       "2013-01-03  0.669920 -0.435650  1.076326  5  2.0\n",
       "2013-01-04  0.832037 -0.425972  1.276235  5  3.0\n",
       "2013-01-05 -0.652449 -2.014747  0.586362  5  4.0\n",
       "2013-01-06  0.574640  0.879350  0.979161  5  5.0"
      ]
     },
     "execution_count": 50,
     "metadata": {},
     "output_type": "execute_result"
    }
   ],
   "source": [
    "df"
   ]
  },
  {
   "cell_type": "code",
   "execution_count": 51,
   "metadata": {},
   "outputs": [],
   "source": [
    "df2 = df.copy()"
   ]
  },
  {
   "cell_type": "code",
   "execution_count": 52,
   "metadata": {},
   "outputs": [],
   "source": [
    "df2[df2 > 0] = -df2"
   ]
  },
  {
   "cell_type": "code",
   "execution_count": 53,
   "metadata": {},
   "outputs": [
    {
     "data": {
      "text/html": [
       "<div>\n",
       "<style scoped>\n",
       "    .dataframe tbody tr th:only-of-type {\n",
       "        vertical-align: middle;\n",
       "    }\n",
       "\n",
       "    .dataframe tbody tr th {\n",
       "        vertical-align: top;\n",
       "    }\n",
       "\n",
       "    .dataframe thead th {\n",
       "        text-align: right;\n",
       "    }\n",
       "</style>\n",
       "<table border=\"1\" class=\"dataframe\">\n",
       "  <thead>\n",
       "    <tr style=\"text-align: right;\">\n",
       "      <th></th>\n",
       "      <th>A</th>\n",
       "      <th>B</th>\n",
       "      <th>C</th>\n",
       "      <th>D</th>\n",
       "      <th>F</th>\n",
       "    </tr>\n",
       "  </thead>\n",
       "  <tbody>\n",
       "    <tr>\n",
       "      <th>2013-01-01</th>\n",
       "      <td>0.000000</td>\n",
       "      <td>0.000000</td>\n",
       "      <td>-0.526018</td>\n",
       "      <td>-5</td>\n",
       "      <td>NaN</td>\n",
       "    </tr>\n",
       "    <tr>\n",
       "      <th>2013-01-02</th>\n",
       "      <td>-1.212591</td>\n",
       "      <td>-0.106924</td>\n",
       "      <td>-0.526684</td>\n",
       "      <td>-5</td>\n",
       "      <td>-1.0</td>\n",
       "    </tr>\n",
       "    <tr>\n",
       "      <th>2013-01-03</th>\n",
       "      <td>-0.669920</td>\n",
       "      <td>-0.435650</td>\n",
       "      <td>-1.076326</td>\n",
       "      <td>-5</td>\n",
       "      <td>-2.0</td>\n",
       "    </tr>\n",
       "    <tr>\n",
       "      <th>2013-01-04</th>\n",
       "      <td>-0.832037</td>\n",
       "      <td>-0.425972</td>\n",
       "      <td>-1.276235</td>\n",
       "      <td>-5</td>\n",
       "      <td>-3.0</td>\n",
       "    </tr>\n",
       "    <tr>\n",
       "      <th>2013-01-05</th>\n",
       "      <td>-0.652449</td>\n",
       "      <td>-2.014747</td>\n",
       "      <td>-0.586362</td>\n",
       "      <td>-5</td>\n",
       "      <td>-4.0</td>\n",
       "    </tr>\n",
       "    <tr>\n",
       "      <th>2013-01-06</th>\n",
       "      <td>-0.574640</td>\n",
       "      <td>-0.879350</td>\n",
       "      <td>-0.979161</td>\n",
       "      <td>-5</td>\n",
       "      <td>-5.0</td>\n",
       "    </tr>\n",
       "  </tbody>\n",
       "</table>\n",
       "</div>"
      ],
      "text/plain": [
       "                   A         B         C  D    F\n",
       "2013-01-01  0.000000  0.000000 -0.526018 -5  NaN\n",
       "2013-01-02 -1.212591 -0.106924 -0.526684 -5 -1.0\n",
       "2013-01-03 -0.669920 -0.435650 -1.076326 -5 -2.0\n",
       "2013-01-04 -0.832037 -0.425972 -1.276235 -5 -3.0\n",
       "2013-01-05 -0.652449 -2.014747 -0.586362 -5 -4.0\n",
       "2013-01-06 -0.574640 -0.879350 -0.979161 -5 -5.0"
      ]
     },
     "execution_count": 53,
     "metadata": {},
     "output_type": "execute_result"
    }
   ],
   "source": [
    "df2"
   ]
  },
  {
   "cell_type": "markdown",
   "metadata": {},
   "source": [
    "# Missing Data\n",
    "팬더는 누락 된 데이터를 나타 내기 위해 주로 np.nan 값을 사용합니다. 기본적으로 계산에 포함되지 않습니다"
   ]
  },
  {
   "cell_type": "code",
   "execution_count": 54,
   "metadata": {},
   "outputs": [],
   "source": [
    "df1 = df.reindex(index=dates[0:4], columns=list(df.columns) + ['E'])"
   ]
  },
  {
   "cell_type": "code",
   "execution_count": 55,
   "metadata": {},
   "outputs": [],
   "source": [
    "df1.loc[dates[0]:dates[1],'E'] = 1"
   ]
  },
  {
   "cell_type": "code",
   "execution_count": 56,
   "metadata": {},
   "outputs": [
    {
     "data": {
      "text/html": [
       "<div>\n",
       "<style scoped>\n",
       "    .dataframe tbody tr th:only-of-type {\n",
       "        vertical-align: middle;\n",
       "    }\n",
       "\n",
       "    .dataframe tbody tr th {\n",
       "        vertical-align: top;\n",
       "    }\n",
       "\n",
       "    .dataframe thead th {\n",
       "        text-align: right;\n",
       "    }\n",
       "</style>\n",
       "<table border=\"1\" class=\"dataframe\">\n",
       "  <thead>\n",
       "    <tr style=\"text-align: right;\">\n",
       "      <th></th>\n",
       "      <th>A</th>\n",
       "      <th>B</th>\n",
       "      <th>C</th>\n",
       "      <th>D</th>\n",
       "      <th>F</th>\n",
       "      <th>E</th>\n",
       "    </tr>\n",
       "  </thead>\n",
       "  <tbody>\n",
       "    <tr>\n",
       "      <th>2013-01-01</th>\n",
       "      <td>0.000000</td>\n",
       "      <td>0.000000</td>\n",
       "      <td>0.526018</td>\n",
       "      <td>5</td>\n",
       "      <td>NaN</td>\n",
       "      <td>1.0</td>\n",
       "    </tr>\n",
       "    <tr>\n",
       "      <th>2013-01-02</th>\n",
       "      <td>-1.212591</td>\n",
       "      <td>-0.106924</td>\n",
       "      <td>0.526684</td>\n",
       "      <td>5</td>\n",
       "      <td>1.0</td>\n",
       "      <td>1.0</td>\n",
       "    </tr>\n",
       "    <tr>\n",
       "      <th>2013-01-03</th>\n",
       "      <td>0.669920</td>\n",
       "      <td>-0.435650</td>\n",
       "      <td>1.076326</td>\n",
       "      <td>5</td>\n",
       "      <td>2.0</td>\n",
       "      <td>NaN</td>\n",
       "    </tr>\n",
       "    <tr>\n",
       "      <th>2013-01-04</th>\n",
       "      <td>0.832037</td>\n",
       "      <td>-0.425972</td>\n",
       "      <td>1.276235</td>\n",
       "      <td>5</td>\n",
       "      <td>3.0</td>\n",
       "      <td>NaN</td>\n",
       "    </tr>\n",
       "  </tbody>\n",
       "</table>\n",
       "</div>"
      ],
      "text/plain": [
       "                   A         B         C  D    F    E\n",
       "2013-01-01  0.000000  0.000000  0.526018  5  NaN  1.0\n",
       "2013-01-02 -1.212591 -0.106924  0.526684  5  1.0  1.0\n",
       "2013-01-03  0.669920 -0.435650  1.076326  5  2.0  NaN\n",
       "2013-01-04  0.832037 -0.425972  1.276235  5  3.0  NaN"
      ]
     },
     "execution_count": 56,
     "metadata": {},
     "output_type": "execute_result"
    }
   ],
   "source": [
    "df1"
   ]
  },
  {
   "cell_type": "code",
   "execution_count": 57,
   "metadata": {},
   "outputs": [
    {
     "data": {
      "text/html": [
       "<div>\n",
       "<style scoped>\n",
       "    .dataframe tbody tr th:only-of-type {\n",
       "        vertical-align: middle;\n",
       "    }\n",
       "\n",
       "    .dataframe tbody tr th {\n",
       "        vertical-align: top;\n",
       "    }\n",
       "\n",
       "    .dataframe thead th {\n",
       "        text-align: right;\n",
       "    }\n",
       "</style>\n",
       "<table border=\"1\" class=\"dataframe\">\n",
       "  <thead>\n",
       "    <tr style=\"text-align: right;\">\n",
       "      <th></th>\n",
       "      <th>A</th>\n",
       "      <th>B</th>\n",
       "      <th>C</th>\n",
       "      <th>D</th>\n",
       "      <th>F</th>\n",
       "      <th>E</th>\n",
       "    </tr>\n",
       "  </thead>\n",
       "  <tbody>\n",
       "    <tr>\n",
       "      <th>2013-01-02</th>\n",
       "      <td>-1.212591</td>\n",
       "      <td>-0.106924</td>\n",
       "      <td>0.526684</td>\n",
       "      <td>5</td>\n",
       "      <td>1.0</td>\n",
       "      <td>1.0</td>\n",
       "    </tr>\n",
       "  </tbody>\n",
       "</table>\n",
       "</div>"
      ],
      "text/plain": [
       "                   A         B         C  D    F    E\n",
       "2013-01-02 -1.212591 -0.106924  0.526684  5  1.0  1.0"
      ]
     },
     "execution_count": 57,
     "metadata": {},
     "output_type": "execute_result"
    }
   ],
   "source": [
    "df1.dropna(how='any')"
   ]
  },
  {
   "cell_type": "markdown",
   "metadata": {},
   "source": [
    "데이터가 누락 된 행을 삭제합니다."
   ]
  },
  {
   "cell_type": "code",
   "execution_count": 58,
   "metadata": {
    "scrolled": true
   },
   "outputs": [
    {
     "data": {
      "text/html": [
       "<div>\n",
       "<style scoped>\n",
       "    .dataframe tbody tr th:only-of-type {\n",
       "        vertical-align: middle;\n",
       "    }\n",
       "\n",
       "    .dataframe tbody tr th {\n",
       "        vertical-align: top;\n",
       "    }\n",
       "\n",
       "    .dataframe thead th {\n",
       "        text-align: right;\n",
       "    }\n",
       "</style>\n",
       "<table border=\"1\" class=\"dataframe\">\n",
       "  <thead>\n",
       "    <tr style=\"text-align: right;\">\n",
       "      <th></th>\n",
       "      <th>A</th>\n",
       "      <th>B</th>\n",
       "      <th>C</th>\n",
       "      <th>D</th>\n",
       "      <th>F</th>\n",
       "      <th>E</th>\n",
       "    </tr>\n",
       "  </thead>\n",
       "  <tbody>\n",
       "    <tr>\n",
       "      <th>2013-01-01</th>\n",
       "      <td>0.000000</td>\n",
       "      <td>0.000000</td>\n",
       "      <td>0.526018</td>\n",
       "      <td>5</td>\n",
       "      <td>5.0</td>\n",
       "      <td>1.0</td>\n",
       "    </tr>\n",
       "    <tr>\n",
       "      <th>2013-01-02</th>\n",
       "      <td>-1.212591</td>\n",
       "      <td>-0.106924</td>\n",
       "      <td>0.526684</td>\n",
       "      <td>5</td>\n",
       "      <td>1.0</td>\n",
       "      <td>1.0</td>\n",
       "    </tr>\n",
       "    <tr>\n",
       "      <th>2013-01-03</th>\n",
       "      <td>0.669920</td>\n",
       "      <td>-0.435650</td>\n",
       "      <td>1.076326</td>\n",
       "      <td>5</td>\n",
       "      <td>2.0</td>\n",
       "      <td>5.0</td>\n",
       "    </tr>\n",
       "    <tr>\n",
       "      <th>2013-01-04</th>\n",
       "      <td>0.832037</td>\n",
       "      <td>-0.425972</td>\n",
       "      <td>1.276235</td>\n",
       "      <td>5</td>\n",
       "      <td>3.0</td>\n",
       "      <td>5.0</td>\n",
       "    </tr>\n",
       "  </tbody>\n",
       "</table>\n",
       "</div>"
      ],
      "text/plain": [
       "                   A         B         C  D    F    E\n",
       "2013-01-01  0.000000  0.000000  0.526018  5  5.0  1.0\n",
       "2013-01-02 -1.212591 -0.106924  0.526684  5  1.0  1.0\n",
       "2013-01-03  0.669920 -0.435650  1.076326  5  2.0  5.0\n",
       "2013-01-04  0.832037 -0.425972  1.276235  5  3.0  5.0"
      ]
     },
     "execution_count": 58,
     "metadata": {},
     "output_type": "execute_result"
    }
   ],
   "source": [
    "df1.fillna(value=5)"
   ]
  },
  {
   "cell_type": "markdown",
   "metadata": {},
   "source": [
    "누락 된 데이터 채우기"
   ]
  },
  {
   "cell_type": "code",
   "execution_count": 59,
   "metadata": {},
   "outputs": [
    {
     "data": {
      "text/html": [
       "<div>\n",
       "<style scoped>\n",
       "    .dataframe tbody tr th:only-of-type {\n",
       "        vertical-align: middle;\n",
       "    }\n",
       "\n",
       "    .dataframe tbody tr th {\n",
       "        vertical-align: top;\n",
       "    }\n",
       "\n",
       "    .dataframe thead th {\n",
       "        text-align: right;\n",
       "    }\n",
       "</style>\n",
       "<table border=\"1\" class=\"dataframe\">\n",
       "  <thead>\n",
       "    <tr style=\"text-align: right;\">\n",
       "      <th></th>\n",
       "      <th>A</th>\n",
       "      <th>B</th>\n",
       "      <th>C</th>\n",
       "      <th>D</th>\n",
       "      <th>F</th>\n",
       "      <th>E</th>\n",
       "    </tr>\n",
       "  </thead>\n",
       "  <tbody>\n",
       "    <tr>\n",
       "      <th>2013-01-01</th>\n",
       "      <td>False</td>\n",
       "      <td>False</td>\n",
       "      <td>False</td>\n",
       "      <td>False</td>\n",
       "      <td>True</td>\n",
       "      <td>False</td>\n",
       "    </tr>\n",
       "    <tr>\n",
       "      <th>2013-01-02</th>\n",
       "      <td>False</td>\n",
       "      <td>False</td>\n",
       "      <td>False</td>\n",
       "      <td>False</td>\n",
       "      <td>False</td>\n",
       "      <td>False</td>\n",
       "    </tr>\n",
       "    <tr>\n",
       "      <th>2013-01-03</th>\n",
       "      <td>False</td>\n",
       "      <td>False</td>\n",
       "      <td>False</td>\n",
       "      <td>False</td>\n",
       "      <td>False</td>\n",
       "      <td>True</td>\n",
       "    </tr>\n",
       "    <tr>\n",
       "      <th>2013-01-04</th>\n",
       "      <td>False</td>\n",
       "      <td>False</td>\n",
       "      <td>False</td>\n",
       "      <td>False</td>\n",
       "      <td>False</td>\n",
       "      <td>True</td>\n",
       "    </tr>\n",
       "  </tbody>\n",
       "</table>\n",
       "</div>"
      ],
      "text/plain": [
       "                A      B      C      D      F      E\n",
       "2013-01-01  False  False  False  False   True  False\n",
       "2013-01-02  False  False  False  False  False  False\n",
       "2013-01-03  False  False  False  False  False   True\n",
       "2013-01-04  False  False  False  False  False   True"
      ]
     },
     "execution_count": 59,
     "metadata": {},
     "output_type": "execute_result"
    }
   ],
   "source": [
    "pd.isna(df1)"
   ]
  },
  {
   "cell_type": "markdown",
   "metadata": {},
   "source": [
    "값이 nan 인 boolean 마스크를 얻으려면"
   ]
  },
  {
   "cell_type": "markdown",
   "metadata": {},
   "source": [
    "# Operations\n",
    "일반적으로 조작은 누락 된 데이터를 제외합니다. "
   ]
  },
  {
   "cell_type": "code",
   "execution_count": 60,
   "metadata": {},
   "outputs": [
    {
     "data": {
      "text/plain": [
       "A    0.035260\n",
       "B   -0.350657\n",
       "C    0.828464\n",
       "D    5.000000\n",
       "F    3.000000\n",
       "dtype: float64"
      ]
     },
     "execution_count": 60,
     "metadata": {},
     "output_type": "execute_result"
    }
   ],
   "source": [
    "df.mean()"
   ]
  },
  {
   "cell_type": "code",
   "execution_count": 61,
   "metadata": {},
   "outputs": [
    {
     "data": {
      "text/plain": [
       "2013-01-01    1.381504\n",
       "2013-01-02    1.041434\n",
       "2013-01-03    1.662119\n",
       "2013-01-04    1.936460\n",
       "2013-01-05    1.383833\n",
       "2013-01-06    2.486630\n",
       "Freq: D, dtype: float64"
      ]
     },
     "execution_count": 61,
     "metadata": {},
     "output_type": "execute_result"
    }
   ],
   "source": [
    "df.mean(1)"
   ]
  },
  {
   "cell_type": "code",
   "execution_count": 62,
   "metadata": {},
   "outputs": [],
   "source": [
    "s = pd.Series([1,3,5,np.nan,6,8], index=dates).shift(2)"
   ]
  },
  {
   "cell_type": "code",
   "execution_count": 63,
   "metadata": {},
   "outputs": [
    {
     "data": {
      "text/plain": [
       "2013-01-01    NaN\n",
       "2013-01-02    NaN\n",
       "2013-01-03    1.0\n",
       "2013-01-04    3.0\n",
       "2013-01-05    5.0\n",
       "2013-01-06    NaN\n",
       "Freq: D, dtype: float64"
      ]
     },
     "execution_count": 63,
     "metadata": {},
     "output_type": "execute_result"
    }
   ],
   "source": [
    "s"
   ]
  },
  {
   "cell_type": "code",
   "execution_count": 64,
   "metadata": {},
   "outputs": [
    {
     "data": {
      "text/html": [
       "<div>\n",
       "<style scoped>\n",
       "    .dataframe tbody tr th:only-of-type {\n",
       "        vertical-align: middle;\n",
       "    }\n",
       "\n",
       "    .dataframe tbody tr th {\n",
       "        vertical-align: top;\n",
       "    }\n",
       "\n",
       "    .dataframe thead th {\n",
       "        text-align: right;\n",
       "    }\n",
       "</style>\n",
       "<table border=\"1\" class=\"dataframe\">\n",
       "  <thead>\n",
       "    <tr style=\"text-align: right;\">\n",
       "      <th></th>\n",
       "      <th>A</th>\n",
       "      <th>B</th>\n",
       "      <th>C</th>\n",
       "      <th>D</th>\n",
       "      <th>F</th>\n",
       "    </tr>\n",
       "  </thead>\n",
       "  <tbody>\n",
       "    <tr>\n",
       "      <th>2013-01-01</th>\n",
       "      <td>NaN</td>\n",
       "      <td>NaN</td>\n",
       "      <td>NaN</td>\n",
       "      <td>NaN</td>\n",
       "      <td>NaN</td>\n",
       "    </tr>\n",
       "    <tr>\n",
       "      <th>2013-01-02</th>\n",
       "      <td>NaN</td>\n",
       "      <td>NaN</td>\n",
       "      <td>NaN</td>\n",
       "      <td>NaN</td>\n",
       "      <td>NaN</td>\n",
       "    </tr>\n",
       "    <tr>\n",
       "      <th>2013-01-03</th>\n",
       "      <td>-0.330080</td>\n",
       "      <td>-1.435650</td>\n",
       "      <td>0.076326</td>\n",
       "      <td>4.0</td>\n",
       "      <td>1.0</td>\n",
       "    </tr>\n",
       "    <tr>\n",
       "      <th>2013-01-04</th>\n",
       "      <td>-2.167963</td>\n",
       "      <td>-3.425972</td>\n",
       "      <td>-1.723765</td>\n",
       "      <td>2.0</td>\n",
       "      <td>0.0</td>\n",
       "    </tr>\n",
       "    <tr>\n",
       "      <th>2013-01-05</th>\n",
       "      <td>-5.652449</td>\n",
       "      <td>-7.014747</td>\n",
       "      <td>-4.413638</td>\n",
       "      <td>0.0</td>\n",
       "      <td>-1.0</td>\n",
       "    </tr>\n",
       "    <tr>\n",
       "      <th>2013-01-06</th>\n",
       "      <td>NaN</td>\n",
       "      <td>NaN</td>\n",
       "      <td>NaN</td>\n",
       "      <td>NaN</td>\n",
       "      <td>NaN</td>\n",
       "    </tr>\n",
       "  </tbody>\n",
       "</table>\n",
       "</div>"
      ],
      "text/plain": [
       "                   A         B         C    D    F\n",
       "2013-01-01       NaN       NaN       NaN  NaN  NaN\n",
       "2013-01-02       NaN       NaN       NaN  NaN  NaN\n",
       "2013-01-03 -0.330080 -1.435650  0.076326  4.0  1.0\n",
       "2013-01-04 -2.167963 -3.425972 -1.723765  2.0  0.0\n",
       "2013-01-05 -5.652449 -7.014747 -4.413638  0.0 -1.0\n",
       "2013-01-06       NaN       NaN       NaN  NaN  NaN"
      ]
     },
     "execution_count": 64,
     "metadata": {},
     "output_type": "execute_result"
    }
   ],
   "source": [
    "df.sub(s, axis='index')"
   ]
  },
  {
   "cell_type": "markdown",
   "metadata": {},
   "source": [
    "차원이 다르고 정렬이 필요한 객체로 작업합니다. 또한 팬더는 지정된 차원을 따라 자동으로 브로드 캐스팅됩니다."
   ]
  },
  {
   "cell_type": "markdown",
   "metadata": {},
   "source": [
    "# Apply"
   ]
  },
  {
   "cell_type": "code",
   "execution_count": 65,
   "metadata": {},
   "outputs": [
    {
     "data": {
      "text/html": [
       "<div>\n",
       "<style scoped>\n",
       "    .dataframe tbody tr th:only-of-type {\n",
       "        vertical-align: middle;\n",
       "    }\n",
       "\n",
       "    .dataframe tbody tr th {\n",
       "        vertical-align: top;\n",
       "    }\n",
       "\n",
       "    .dataframe thead th {\n",
       "        text-align: right;\n",
       "    }\n",
       "</style>\n",
       "<table border=\"1\" class=\"dataframe\">\n",
       "  <thead>\n",
       "    <tr style=\"text-align: right;\">\n",
       "      <th></th>\n",
       "      <th>A</th>\n",
       "      <th>B</th>\n",
       "      <th>C</th>\n",
       "      <th>D</th>\n",
       "      <th>F</th>\n",
       "    </tr>\n",
       "  </thead>\n",
       "  <tbody>\n",
       "    <tr>\n",
       "      <th>2013-01-01</th>\n",
       "      <td>0.000000</td>\n",
       "      <td>0.000000</td>\n",
       "      <td>0.526018</td>\n",
       "      <td>5</td>\n",
       "      <td>NaN</td>\n",
       "    </tr>\n",
       "    <tr>\n",
       "      <th>2013-01-02</th>\n",
       "      <td>-1.212591</td>\n",
       "      <td>-0.106924</td>\n",
       "      <td>1.052702</td>\n",
       "      <td>10</td>\n",
       "      <td>1.0</td>\n",
       "    </tr>\n",
       "    <tr>\n",
       "      <th>2013-01-03</th>\n",
       "      <td>-0.542671</td>\n",
       "      <td>-0.542573</td>\n",
       "      <td>2.129028</td>\n",
       "      <td>15</td>\n",
       "      <td>3.0</td>\n",
       "    </tr>\n",
       "    <tr>\n",
       "      <th>2013-01-04</th>\n",
       "      <td>0.289366</td>\n",
       "      <td>-0.968545</td>\n",
       "      <td>3.405263</td>\n",
       "      <td>20</td>\n",
       "      <td>6.0</td>\n",
       "    </tr>\n",
       "    <tr>\n",
       "      <th>2013-01-05</th>\n",
       "      <td>-0.363083</td>\n",
       "      <td>-2.983292</td>\n",
       "      <td>3.991625</td>\n",
       "      <td>25</td>\n",
       "      <td>10.0</td>\n",
       "    </tr>\n",
       "    <tr>\n",
       "      <th>2013-01-06</th>\n",
       "      <td>0.211557</td>\n",
       "      <td>-2.103942</td>\n",
       "      <td>4.970785</td>\n",
       "      <td>30</td>\n",
       "      <td>15.0</td>\n",
       "    </tr>\n",
       "  </tbody>\n",
       "</table>\n",
       "</div>"
      ],
      "text/plain": [
       "                   A         B         C   D     F\n",
       "2013-01-01  0.000000  0.000000  0.526018   5   NaN\n",
       "2013-01-02 -1.212591 -0.106924  1.052702  10   1.0\n",
       "2013-01-03 -0.542671 -0.542573  2.129028  15   3.0\n",
       "2013-01-04  0.289366 -0.968545  3.405263  20   6.0\n",
       "2013-01-05 -0.363083 -2.983292  3.991625  25  10.0\n",
       "2013-01-06  0.211557 -2.103942  4.970785  30  15.0"
      ]
     },
     "execution_count": 65,
     "metadata": {},
     "output_type": "execute_result"
    }
   ],
   "source": [
    "df.apply(np.cumsum)"
   ]
  },
  {
   "cell_type": "code",
   "execution_count": 66,
   "metadata": {},
   "outputs": [
    {
     "data": {
      "text/plain": [
       "A    2.044628\n",
       "B    2.894097\n",
       "C    0.750217\n",
       "D    0.000000\n",
       "F    4.000000\n",
       "dtype: float64"
      ]
     },
     "execution_count": 66,
     "metadata": {},
     "output_type": "execute_result"
    }
   ],
   "source": [
    "df.apply(lambda x: x.max() - x.min())"
   ]
  },
  {
   "cell_type": "markdown",
   "metadata": {},
   "source": [
    "# Histogramming"
   ]
  },
  {
   "cell_type": "code",
   "execution_count": 67,
   "metadata": {},
   "outputs": [],
   "source": [
    "s = pd.Series(np.random.randint(0, 7, size=10))"
   ]
  },
  {
   "cell_type": "code",
   "execution_count": 68,
   "metadata": {},
   "outputs": [
    {
     "data": {
      "text/plain": [
       "0    0\n",
       "1    0\n",
       "2    0\n",
       "3    0\n",
       "4    1\n",
       "5    5\n",
       "6    5\n",
       "7    4\n",
       "8    0\n",
       "9    1\n",
       "dtype: int32"
      ]
     },
     "execution_count": 68,
     "metadata": {},
     "output_type": "execute_result"
    }
   ],
   "source": [
    "s"
   ]
  },
  {
   "cell_type": "code",
   "execution_count": 69,
   "metadata": {},
   "outputs": [
    {
     "data": {
      "text/plain": [
       "0    5\n",
       "5    2\n",
       "1    2\n",
       "4    1\n",
       "dtype: int64"
      ]
     },
     "execution_count": 69,
     "metadata": {},
     "output_type": "execute_result"
    }
   ],
   "source": [
    "s.value_counts()"
   ]
  },
  {
   "cell_type": "markdown",
   "metadata": {},
   "source": [
    "# String Methods\n",
    "Series에는 str 속성에 일련의 문자열 처리 메소드가 있으므로 아래 코드 스 니펫처럼 배열의 각 요소를 쉽게 조작 할 수 있습니다.\n",
    "str의 패턴 일치는 일반적으로 기본적으로 정규 표현식을 사용하며 (경우에 따라 항상 정규 표현식을 사용함) 유의하십시오."
   ]
  },
  {
   "cell_type": "code",
   "execution_count": 70,
   "metadata": {},
   "outputs": [],
   "source": [
    "s = pd.Series(['A', 'B', 'C', 'Aaba', 'Baca', np.nan, 'CABA', 'dog', 'cat'])"
   ]
  },
  {
   "cell_type": "code",
   "execution_count": 71,
   "metadata": {},
   "outputs": [
    {
     "data": {
      "text/plain": [
       "0       a\n",
       "1       b\n",
       "2       c\n",
       "3    aaba\n",
       "4    baca\n",
       "5     NaN\n",
       "6    caba\n",
       "7     dog\n",
       "8     cat\n",
       "dtype: object"
      ]
     },
     "execution_count": 71,
     "metadata": {},
     "output_type": "execute_result"
    }
   ],
   "source": [
    "s.str.lower()"
   ]
  },
  {
   "cell_type": "markdown",
   "metadata": {},
   "source": [
    "# Merge\n",
    "pandas는 Series, DataFrame 및 Panel 객체를 조인 / 병합 유형 작업의 경우 인덱스 및 관계 대수 기능에 대한 다양한 유형의 논리로 쉽게 결합 할 수있는 다양한 기능을 제공합니다."
   ]
  },
  {
   "cell_type": "code",
   "execution_count": 72,
   "metadata": {},
   "outputs": [],
   "source": [
    "df = pd.DataFrame(np.random.randn(10, 4))"
   ]
  },
  {
   "cell_type": "code",
   "execution_count": 73,
   "metadata": {},
   "outputs": [
    {
     "data": {
      "text/html": [
       "<div>\n",
       "<style scoped>\n",
       "    .dataframe tbody tr th:only-of-type {\n",
       "        vertical-align: middle;\n",
       "    }\n",
       "\n",
       "    .dataframe tbody tr th {\n",
       "        vertical-align: top;\n",
       "    }\n",
       "\n",
       "    .dataframe thead th {\n",
       "        text-align: right;\n",
       "    }\n",
       "</style>\n",
       "<table border=\"1\" class=\"dataframe\">\n",
       "  <thead>\n",
       "    <tr style=\"text-align: right;\">\n",
       "      <th></th>\n",
       "      <th>0</th>\n",
       "      <th>1</th>\n",
       "      <th>2</th>\n",
       "      <th>3</th>\n",
       "    </tr>\n",
       "  </thead>\n",
       "  <tbody>\n",
       "    <tr>\n",
       "      <th>0</th>\n",
       "      <td>-0.019598</td>\n",
       "      <td>1.039142</td>\n",
       "      <td>-0.135353</td>\n",
       "      <td>-1.214019</td>\n",
       "    </tr>\n",
       "    <tr>\n",
       "      <th>1</th>\n",
       "      <td>-0.789933</td>\n",
       "      <td>-0.653930</td>\n",
       "      <td>-0.271921</td>\n",
       "      <td>-0.409282</td>\n",
       "    </tr>\n",
       "    <tr>\n",
       "      <th>2</th>\n",
       "      <td>1.163138</td>\n",
       "      <td>1.168448</td>\n",
       "      <td>2.034559</td>\n",
       "      <td>-0.610460</td>\n",
       "    </tr>\n",
       "    <tr>\n",
       "      <th>3</th>\n",
       "      <td>0.654685</td>\n",
       "      <td>-0.802601</td>\n",
       "      <td>0.938120</td>\n",
       "      <td>-0.267151</td>\n",
       "    </tr>\n",
       "    <tr>\n",
       "      <th>4</th>\n",
       "      <td>-0.878854</td>\n",
       "      <td>0.207727</td>\n",
       "      <td>-1.386346</td>\n",
       "      <td>1.071810</td>\n",
       "    </tr>\n",
       "    <tr>\n",
       "      <th>5</th>\n",
       "      <td>-0.472722</td>\n",
       "      <td>-0.035705</td>\n",
       "      <td>-1.495123</td>\n",
       "      <td>0.593856</td>\n",
       "    </tr>\n",
       "    <tr>\n",
       "      <th>6</th>\n",
       "      <td>-0.673898</td>\n",
       "      <td>1.914816</td>\n",
       "      <td>0.798003</td>\n",
       "      <td>-0.450160</td>\n",
       "    </tr>\n",
       "    <tr>\n",
       "      <th>7</th>\n",
       "      <td>-0.428544</td>\n",
       "      <td>1.464388</td>\n",
       "      <td>0.008179</td>\n",
       "      <td>-0.492406</td>\n",
       "    </tr>\n",
       "    <tr>\n",
       "      <th>8</th>\n",
       "      <td>-0.913381</td>\n",
       "      <td>-1.042193</td>\n",
       "      <td>1.282394</td>\n",
       "      <td>-0.111013</td>\n",
       "    </tr>\n",
       "    <tr>\n",
       "      <th>9</th>\n",
       "      <td>-0.466546</td>\n",
       "      <td>-0.885785</td>\n",
       "      <td>0.959005</td>\n",
       "      <td>-1.361220</td>\n",
       "    </tr>\n",
       "  </tbody>\n",
       "</table>\n",
       "</div>"
      ],
      "text/plain": [
       "          0         1         2         3\n",
       "0 -0.019598  1.039142 -0.135353 -1.214019\n",
       "1 -0.789933 -0.653930 -0.271921 -0.409282\n",
       "2  1.163138  1.168448  2.034559 -0.610460\n",
       "3  0.654685 -0.802601  0.938120 -0.267151\n",
       "4 -0.878854  0.207727 -1.386346  1.071810\n",
       "5 -0.472722 -0.035705 -1.495123  0.593856\n",
       "6 -0.673898  1.914816  0.798003 -0.450160\n",
       "7 -0.428544  1.464388  0.008179 -0.492406\n",
       "8 -0.913381 -1.042193  1.282394 -0.111013\n",
       "9 -0.466546 -0.885785  0.959005 -1.361220"
      ]
     },
     "execution_count": 73,
     "metadata": {},
     "output_type": "execute_result"
    }
   ],
   "source": [
    "df"
   ]
  },
  {
   "cell_type": "code",
   "execution_count": 74,
   "metadata": {},
   "outputs": [],
   "source": [
    "pieces = [df[:3], df[3:7], df[7:]]"
   ]
  },
  {
   "cell_type": "code",
   "execution_count": 75,
   "metadata": {},
   "outputs": [],
   "source": [
    "left = pd.DataFrame({'key': ['foo', 'foo'], 'lval': [1, 2]})"
   ]
  },
  {
   "cell_type": "code",
   "execution_count": 76,
   "metadata": {},
   "outputs": [],
   "source": [
    "right = pd.DataFrame({'key': ['foo', 'foo'], 'rval': [4, 5]})"
   ]
  },
  {
   "cell_type": "code",
   "execution_count": 77,
   "metadata": {},
   "outputs": [
    {
     "data": {
      "text/html": [
       "<div>\n",
       "<style scoped>\n",
       "    .dataframe tbody tr th:only-of-type {\n",
       "        vertical-align: middle;\n",
       "    }\n",
       "\n",
       "    .dataframe tbody tr th {\n",
       "        vertical-align: top;\n",
       "    }\n",
       "\n",
       "    .dataframe thead th {\n",
       "        text-align: right;\n",
       "    }\n",
       "</style>\n",
       "<table border=\"1\" class=\"dataframe\">\n",
       "  <thead>\n",
       "    <tr style=\"text-align: right;\">\n",
       "      <th></th>\n",
       "      <th>key</th>\n",
       "      <th>lval</th>\n",
       "    </tr>\n",
       "  </thead>\n",
       "  <tbody>\n",
       "    <tr>\n",
       "      <th>0</th>\n",
       "      <td>foo</td>\n",
       "      <td>1</td>\n",
       "    </tr>\n",
       "    <tr>\n",
       "      <th>1</th>\n",
       "      <td>foo</td>\n",
       "      <td>2</td>\n",
       "    </tr>\n",
       "  </tbody>\n",
       "</table>\n",
       "</div>"
      ],
      "text/plain": [
       "   key  lval\n",
       "0  foo     1\n",
       "1  foo     2"
      ]
     },
     "execution_count": 77,
     "metadata": {},
     "output_type": "execute_result"
    }
   ],
   "source": [
    "left"
   ]
  },
  {
   "cell_type": "code",
   "execution_count": 78,
   "metadata": {},
   "outputs": [
    {
     "data": {
      "text/html": [
       "<div>\n",
       "<style scoped>\n",
       "    .dataframe tbody tr th:only-of-type {\n",
       "        vertical-align: middle;\n",
       "    }\n",
       "\n",
       "    .dataframe tbody tr th {\n",
       "        vertical-align: top;\n",
       "    }\n",
       "\n",
       "    .dataframe thead th {\n",
       "        text-align: right;\n",
       "    }\n",
       "</style>\n",
       "<table border=\"1\" class=\"dataframe\">\n",
       "  <thead>\n",
       "    <tr style=\"text-align: right;\">\n",
       "      <th></th>\n",
       "      <th>key</th>\n",
       "      <th>rval</th>\n",
       "    </tr>\n",
       "  </thead>\n",
       "  <tbody>\n",
       "    <tr>\n",
       "      <th>0</th>\n",
       "      <td>foo</td>\n",
       "      <td>4</td>\n",
       "    </tr>\n",
       "    <tr>\n",
       "      <th>1</th>\n",
       "      <td>foo</td>\n",
       "      <td>5</td>\n",
       "    </tr>\n",
       "  </tbody>\n",
       "</table>\n",
       "</div>"
      ],
      "text/plain": [
       "   key  rval\n",
       "0  foo     4\n",
       "1  foo     5"
      ]
     },
     "execution_count": 78,
     "metadata": {},
     "output_type": "execute_result"
    }
   ],
   "source": [
    "right"
   ]
  },
  {
   "cell_type": "code",
   "execution_count": 79,
   "metadata": {},
   "outputs": [
    {
     "data": {
      "text/html": [
       "<div>\n",
       "<style scoped>\n",
       "    .dataframe tbody tr th:only-of-type {\n",
       "        vertical-align: middle;\n",
       "    }\n",
       "\n",
       "    .dataframe tbody tr th {\n",
       "        vertical-align: top;\n",
       "    }\n",
       "\n",
       "    .dataframe thead th {\n",
       "        text-align: right;\n",
       "    }\n",
       "</style>\n",
       "<table border=\"1\" class=\"dataframe\">\n",
       "  <thead>\n",
       "    <tr style=\"text-align: right;\">\n",
       "      <th></th>\n",
       "      <th>key</th>\n",
       "      <th>lval</th>\n",
       "      <th>rval</th>\n",
       "    </tr>\n",
       "  </thead>\n",
       "  <tbody>\n",
       "    <tr>\n",
       "      <th>0</th>\n",
       "      <td>foo</td>\n",
       "      <td>1</td>\n",
       "      <td>4</td>\n",
       "    </tr>\n",
       "    <tr>\n",
       "      <th>1</th>\n",
       "      <td>foo</td>\n",
       "      <td>1</td>\n",
       "      <td>5</td>\n",
       "    </tr>\n",
       "    <tr>\n",
       "      <th>2</th>\n",
       "      <td>foo</td>\n",
       "      <td>2</td>\n",
       "      <td>4</td>\n",
       "    </tr>\n",
       "    <tr>\n",
       "      <th>3</th>\n",
       "      <td>foo</td>\n",
       "      <td>2</td>\n",
       "      <td>5</td>\n",
       "    </tr>\n",
       "  </tbody>\n",
       "</table>\n",
       "</div>"
      ],
      "text/plain": [
       "   key  lval  rval\n",
       "0  foo     1     4\n",
       "1  foo     1     5\n",
       "2  foo     2     4\n",
       "3  foo     2     5"
      ]
     },
     "execution_count": 79,
     "metadata": {},
     "output_type": "execute_result"
    }
   ],
   "source": [
    "pd.merge(left, right, on='key')"
   ]
  },
  {
   "cell_type": "markdown",
   "metadata": {},
   "source": [
    "SQL 스타일 병합."
   ]
  },
  {
   "cell_type": "code",
   "execution_count": 80,
   "metadata": {},
   "outputs": [],
   "source": [
    "left = pd.DataFrame({'key': ['foo', 'bar'], 'lval': [1, 2]})"
   ]
  },
  {
   "cell_type": "code",
   "execution_count": 81,
   "metadata": {},
   "outputs": [],
   "source": [
    "right = pd.DataFrame({'key': ['foo', 'bar'], 'rval': [4, 5]})"
   ]
  },
  {
   "cell_type": "code",
   "execution_count": 82,
   "metadata": {},
   "outputs": [
    {
     "data": {
      "text/html": [
       "<div>\n",
       "<style scoped>\n",
       "    .dataframe tbody tr th:only-of-type {\n",
       "        vertical-align: middle;\n",
       "    }\n",
       "\n",
       "    .dataframe tbody tr th {\n",
       "        vertical-align: top;\n",
       "    }\n",
       "\n",
       "    .dataframe thead th {\n",
       "        text-align: right;\n",
       "    }\n",
       "</style>\n",
       "<table border=\"1\" class=\"dataframe\">\n",
       "  <thead>\n",
       "    <tr style=\"text-align: right;\">\n",
       "      <th></th>\n",
       "      <th>key</th>\n",
       "      <th>lval</th>\n",
       "    </tr>\n",
       "  </thead>\n",
       "  <tbody>\n",
       "    <tr>\n",
       "      <th>0</th>\n",
       "      <td>foo</td>\n",
       "      <td>1</td>\n",
       "    </tr>\n",
       "    <tr>\n",
       "      <th>1</th>\n",
       "      <td>bar</td>\n",
       "      <td>2</td>\n",
       "    </tr>\n",
       "  </tbody>\n",
       "</table>\n",
       "</div>"
      ],
      "text/plain": [
       "   key  lval\n",
       "0  foo     1\n",
       "1  bar     2"
      ]
     },
     "execution_count": 82,
     "metadata": {},
     "output_type": "execute_result"
    }
   ],
   "source": [
    "left"
   ]
  },
  {
   "cell_type": "code",
   "execution_count": 83,
   "metadata": {},
   "outputs": [
    {
     "data": {
      "text/html": [
       "<div>\n",
       "<style scoped>\n",
       "    .dataframe tbody tr th:only-of-type {\n",
       "        vertical-align: middle;\n",
       "    }\n",
       "\n",
       "    .dataframe tbody tr th {\n",
       "        vertical-align: top;\n",
       "    }\n",
       "\n",
       "    .dataframe thead th {\n",
       "        text-align: right;\n",
       "    }\n",
       "</style>\n",
       "<table border=\"1\" class=\"dataframe\">\n",
       "  <thead>\n",
       "    <tr style=\"text-align: right;\">\n",
       "      <th></th>\n",
       "      <th>key</th>\n",
       "      <th>rval</th>\n",
       "    </tr>\n",
       "  </thead>\n",
       "  <tbody>\n",
       "    <tr>\n",
       "      <th>0</th>\n",
       "      <td>foo</td>\n",
       "      <td>4</td>\n",
       "    </tr>\n",
       "    <tr>\n",
       "      <th>1</th>\n",
       "      <td>bar</td>\n",
       "      <td>5</td>\n",
       "    </tr>\n",
       "  </tbody>\n",
       "</table>\n",
       "</div>"
      ],
      "text/plain": [
       "   key  rval\n",
       "0  foo     4\n",
       "1  bar     5"
      ]
     },
     "execution_count": 83,
     "metadata": {},
     "output_type": "execute_result"
    }
   ],
   "source": [
    "right"
   ]
  },
  {
   "cell_type": "code",
   "execution_count": 84,
   "metadata": {},
   "outputs": [
    {
     "data": {
      "text/html": [
       "<div>\n",
       "<style scoped>\n",
       "    .dataframe tbody tr th:only-of-type {\n",
       "        vertical-align: middle;\n",
       "    }\n",
       "\n",
       "    .dataframe tbody tr th {\n",
       "        vertical-align: top;\n",
       "    }\n",
       "\n",
       "    .dataframe thead th {\n",
       "        text-align: right;\n",
       "    }\n",
       "</style>\n",
       "<table border=\"1\" class=\"dataframe\">\n",
       "  <thead>\n",
       "    <tr style=\"text-align: right;\">\n",
       "      <th></th>\n",
       "      <th>key</th>\n",
       "      <th>lval</th>\n",
       "      <th>rval</th>\n",
       "    </tr>\n",
       "  </thead>\n",
       "  <tbody>\n",
       "    <tr>\n",
       "      <th>0</th>\n",
       "      <td>foo</td>\n",
       "      <td>1</td>\n",
       "      <td>4</td>\n",
       "    </tr>\n",
       "    <tr>\n",
       "      <th>1</th>\n",
       "      <td>bar</td>\n",
       "      <td>2</td>\n",
       "      <td>5</td>\n",
       "    </tr>\n",
       "  </tbody>\n",
       "</table>\n",
       "</div>"
      ],
      "text/plain": [
       "   key  lval  rval\n",
       "0  foo     1     4\n",
       "1  bar     2     5"
      ]
     },
     "execution_count": 84,
     "metadata": {},
     "output_type": "execute_result"
    }
   ],
   "source": [
    "pd.merge(left, right, on='key')"
   ]
  },
  {
   "cell_type": "code",
   "execution_count": 85,
   "metadata": {},
   "outputs": [],
   "source": [
    "df = pd.DataFrame(np.random.randn(8, 4), columns=['A','B','C','D'])"
   ]
  },
  {
   "cell_type": "code",
   "execution_count": 86,
   "metadata": {},
   "outputs": [
    {
     "data": {
      "text/html": [
       "<div>\n",
       "<style scoped>\n",
       "    .dataframe tbody tr th:only-of-type {\n",
       "        vertical-align: middle;\n",
       "    }\n",
       "\n",
       "    .dataframe tbody tr th {\n",
       "        vertical-align: top;\n",
       "    }\n",
       "\n",
       "    .dataframe thead th {\n",
       "        text-align: right;\n",
       "    }\n",
       "</style>\n",
       "<table border=\"1\" class=\"dataframe\">\n",
       "  <thead>\n",
       "    <tr style=\"text-align: right;\">\n",
       "      <th></th>\n",
       "      <th>A</th>\n",
       "      <th>B</th>\n",
       "      <th>C</th>\n",
       "      <th>D</th>\n",
       "    </tr>\n",
       "  </thead>\n",
       "  <tbody>\n",
       "    <tr>\n",
       "      <th>0</th>\n",
       "      <td>0.465475</td>\n",
       "      <td>0.090018</td>\n",
       "      <td>-0.565772</td>\n",
       "      <td>0.757589</td>\n",
       "    </tr>\n",
       "    <tr>\n",
       "      <th>1</th>\n",
       "      <td>0.072210</td>\n",
       "      <td>-1.387661</td>\n",
       "      <td>1.008528</td>\n",
       "      <td>-1.639405</td>\n",
       "    </tr>\n",
       "    <tr>\n",
       "      <th>2</th>\n",
       "      <td>-0.188687</td>\n",
       "      <td>1.464598</td>\n",
       "      <td>0.521850</td>\n",
       "      <td>-0.787593</td>\n",
       "    </tr>\n",
       "    <tr>\n",
       "      <th>3</th>\n",
       "      <td>0.185092</td>\n",
       "      <td>1.163251</td>\n",
       "      <td>-1.273505</td>\n",
       "      <td>-1.138521</td>\n",
       "    </tr>\n",
       "    <tr>\n",
       "      <th>4</th>\n",
       "      <td>-0.640738</td>\n",
       "      <td>-0.771271</td>\n",
       "      <td>0.096771</td>\n",
       "      <td>-1.311186</td>\n",
       "    </tr>\n",
       "    <tr>\n",
       "      <th>5</th>\n",
       "      <td>0.368355</td>\n",
       "      <td>0.548333</td>\n",
       "      <td>-0.365494</td>\n",
       "      <td>-0.354638</td>\n",
       "    </tr>\n",
       "    <tr>\n",
       "      <th>6</th>\n",
       "      <td>-0.211482</td>\n",
       "      <td>-0.733888</td>\n",
       "      <td>0.037282</td>\n",
       "      <td>-0.092693</td>\n",
       "    </tr>\n",
       "    <tr>\n",
       "      <th>7</th>\n",
       "      <td>-0.431094</td>\n",
       "      <td>2.608675</td>\n",
       "      <td>0.259841</td>\n",
       "      <td>0.476439</td>\n",
       "    </tr>\n",
       "  </tbody>\n",
       "</table>\n",
       "</div>"
      ],
      "text/plain": [
       "          A         B         C         D\n",
       "0  0.465475  0.090018 -0.565772  0.757589\n",
       "1  0.072210 -1.387661  1.008528 -1.639405\n",
       "2 -0.188687  1.464598  0.521850 -0.787593\n",
       "3  0.185092  1.163251 -1.273505 -1.138521\n",
       "4 -0.640738 -0.771271  0.096771 -1.311186\n",
       "5  0.368355  0.548333 -0.365494 -0.354638\n",
       "6 -0.211482 -0.733888  0.037282 -0.092693\n",
       "7 -0.431094  2.608675  0.259841  0.476439"
      ]
     },
     "execution_count": 86,
     "metadata": {},
     "output_type": "execute_result"
    }
   ],
   "source": [
    "df"
   ]
  },
  {
   "cell_type": "code",
   "execution_count": 87,
   "metadata": {},
   "outputs": [],
   "source": [
    "s = df.iloc[3]"
   ]
  },
  {
   "cell_type": "code",
   "execution_count": 88,
   "metadata": {},
   "outputs": [
    {
     "data": {
      "text/html": [
       "<div>\n",
       "<style scoped>\n",
       "    .dataframe tbody tr th:only-of-type {\n",
       "        vertical-align: middle;\n",
       "    }\n",
       "\n",
       "    .dataframe tbody tr th {\n",
       "        vertical-align: top;\n",
       "    }\n",
       "\n",
       "    .dataframe thead th {\n",
       "        text-align: right;\n",
       "    }\n",
       "</style>\n",
       "<table border=\"1\" class=\"dataframe\">\n",
       "  <thead>\n",
       "    <tr style=\"text-align: right;\">\n",
       "      <th></th>\n",
       "      <th>A</th>\n",
       "      <th>B</th>\n",
       "      <th>C</th>\n",
       "      <th>D</th>\n",
       "    </tr>\n",
       "  </thead>\n",
       "  <tbody>\n",
       "    <tr>\n",
       "      <th>0</th>\n",
       "      <td>0.465475</td>\n",
       "      <td>0.090018</td>\n",
       "      <td>-0.565772</td>\n",
       "      <td>0.757589</td>\n",
       "    </tr>\n",
       "    <tr>\n",
       "      <th>1</th>\n",
       "      <td>0.072210</td>\n",
       "      <td>-1.387661</td>\n",
       "      <td>1.008528</td>\n",
       "      <td>-1.639405</td>\n",
       "    </tr>\n",
       "    <tr>\n",
       "      <th>2</th>\n",
       "      <td>-0.188687</td>\n",
       "      <td>1.464598</td>\n",
       "      <td>0.521850</td>\n",
       "      <td>-0.787593</td>\n",
       "    </tr>\n",
       "    <tr>\n",
       "      <th>3</th>\n",
       "      <td>0.185092</td>\n",
       "      <td>1.163251</td>\n",
       "      <td>-1.273505</td>\n",
       "      <td>-1.138521</td>\n",
       "    </tr>\n",
       "    <tr>\n",
       "      <th>4</th>\n",
       "      <td>-0.640738</td>\n",
       "      <td>-0.771271</td>\n",
       "      <td>0.096771</td>\n",
       "      <td>-1.311186</td>\n",
       "    </tr>\n",
       "    <tr>\n",
       "      <th>5</th>\n",
       "      <td>0.368355</td>\n",
       "      <td>0.548333</td>\n",
       "      <td>-0.365494</td>\n",
       "      <td>-0.354638</td>\n",
       "    </tr>\n",
       "    <tr>\n",
       "      <th>6</th>\n",
       "      <td>-0.211482</td>\n",
       "      <td>-0.733888</td>\n",
       "      <td>0.037282</td>\n",
       "      <td>-0.092693</td>\n",
       "    </tr>\n",
       "    <tr>\n",
       "      <th>7</th>\n",
       "      <td>-0.431094</td>\n",
       "      <td>2.608675</td>\n",
       "      <td>0.259841</td>\n",
       "      <td>0.476439</td>\n",
       "    </tr>\n",
       "    <tr>\n",
       "      <th>8</th>\n",
       "      <td>0.185092</td>\n",
       "      <td>1.163251</td>\n",
       "      <td>-1.273505</td>\n",
       "      <td>-1.138521</td>\n",
       "    </tr>\n",
       "  </tbody>\n",
       "</table>\n",
       "</div>"
      ],
      "text/plain": [
       "          A         B         C         D\n",
       "0  0.465475  0.090018 -0.565772  0.757589\n",
       "1  0.072210 -1.387661  1.008528 -1.639405\n",
       "2 -0.188687  1.464598  0.521850 -0.787593\n",
       "3  0.185092  1.163251 -1.273505 -1.138521\n",
       "4 -0.640738 -0.771271  0.096771 -1.311186\n",
       "5  0.368355  0.548333 -0.365494 -0.354638\n",
       "6 -0.211482 -0.733888  0.037282 -0.092693\n",
       "7 -0.431094  2.608675  0.259841  0.476439\n",
       "8  0.185092  1.163251 -1.273505 -1.138521"
      ]
     },
     "execution_count": 88,
     "metadata": {},
     "output_type": "execute_result"
    }
   ],
   "source": [
    "df.append(s, ignore_index=True)"
   ]
  },
  {
   "cell_type": "markdown",
   "metadata": {},
   "source": [
    "# Grouping"
   ]
  },
  {
   "cell_type": "code",
   "execution_count": 89,
   "metadata": {},
   "outputs": [],
   "source": [
    " df = pd.DataFrame({'A' : ['foo', 'bar', 'foo', 'bar',\n",
    "                           'foo', 'bar', 'foo', 'foo'],\n",
    "                    'B' : ['one', 'one', 'two', 'three',\n",
    "                           'two', 'two', 'one', 'three'],\n",
    "                    'C' : np.random.randn(8),\n",
    "                    'D' : np.random.randn(8)})\n",
    "    "
   ]
  },
  {
   "cell_type": "code",
   "execution_count": 90,
   "metadata": {},
   "outputs": [
    {
     "data": {
      "text/html": [
       "<div>\n",
       "<style scoped>\n",
       "    .dataframe tbody tr th:only-of-type {\n",
       "        vertical-align: middle;\n",
       "    }\n",
       "\n",
       "    .dataframe tbody tr th {\n",
       "        vertical-align: top;\n",
       "    }\n",
       "\n",
       "    .dataframe thead th {\n",
       "        text-align: right;\n",
       "    }\n",
       "</style>\n",
       "<table border=\"1\" class=\"dataframe\">\n",
       "  <thead>\n",
       "    <tr style=\"text-align: right;\">\n",
       "      <th></th>\n",
       "      <th>A</th>\n",
       "      <th>B</th>\n",
       "      <th>C</th>\n",
       "      <th>D</th>\n",
       "    </tr>\n",
       "  </thead>\n",
       "  <tbody>\n",
       "    <tr>\n",
       "      <th>0</th>\n",
       "      <td>foo</td>\n",
       "      <td>one</td>\n",
       "      <td>-0.613877</td>\n",
       "      <td>1.949238</td>\n",
       "    </tr>\n",
       "    <tr>\n",
       "      <th>1</th>\n",
       "      <td>bar</td>\n",
       "      <td>one</td>\n",
       "      <td>0.386016</td>\n",
       "      <td>-0.086759</td>\n",
       "    </tr>\n",
       "    <tr>\n",
       "      <th>2</th>\n",
       "      <td>foo</td>\n",
       "      <td>two</td>\n",
       "      <td>-0.953619</td>\n",
       "      <td>0.233372</td>\n",
       "    </tr>\n",
       "    <tr>\n",
       "      <th>3</th>\n",
       "      <td>bar</td>\n",
       "      <td>three</td>\n",
       "      <td>-0.989466</td>\n",
       "      <td>-0.469632</td>\n",
       "    </tr>\n",
       "    <tr>\n",
       "      <th>4</th>\n",
       "      <td>foo</td>\n",
       "      <td>two</td>\n",
       "      <td>1.822970</td>\n",
       "      <td>1.291938</td>\n",
       "    </tr>\n",
       "    <tr>\n",
       "      <th>5</th>\n",
       "      <td>bar</td>\n",
       "      <td>two</td>\n",
       "      <td>-1.143833</td>\n",
       "      <td>0.283353</td>\n",
       "    </tr>\n",
       "    <tr>\n",
       "      <th>6</th>\n",
       "      <td>foo</td>\n",
       "      <td>one</td>\n",
       "      <td>-1.689946</td>\n",
       "      <td>0.533992</td>\n",
       "    </tr>\n",
       "    <tr>\n",
       "      <th>7</th>\n",
       "      <td>foo</td>\n",
       "      <td>three</td>\n",
       "      <td>0.921018</td>\n",
       "      <td>-1.708265</td>\n",
       "    </tr>\n",
       "  </tbody>\n",
       "</table>\n",
       "</div>"
      ],
      "text/plain": [
       "     A      B         C         D\n",
       "0  foo    one -0.613877  1.949238\n",
       "1  bar    one  0.386016 -0.086759\n",
       "2  foo    two -0.953619  0.233372\n",
       "3  bar  three -0.989466 -0.469632\n",
       "4  foo    two  1.822970  1.291938\n",
       "5  bar    two -1.143833  0.283353\n",
       "6  foo    one -1.689946  0.533992\n",
       "7  foo  three  0.921018 -1.708265"
      ]
     },
     "execution_count": 90,
     "metadata": {},
     "output_type": "execute_result"
    }
   ],
   "source": [
    "df"
   ]
  },
  {
   "cell_type": "code",
   "execution_count": 91,
   "metadata": {},
   "outputs": [
    {
     "data": {
      "text/html": [
       "<div>\n",
       "<style scoped>\n",
       "    .dataframe tbody tr th:only-of-type {\n",
       "        vertical-align: middle;\n",
       "    }\n",
       "\n",
       "    .dataframe tbody tr th {\n",
       "        vertical-align: top;\n",
       "    }\n",
       "\n",
       "    .dataframe thead th {\n",
       "        text-align: right;\n",
       "    }\n",
       "</style>\n",
       "<table border=\"1\" class=\"dataframe\">\n",
       "  <thead>\n",
       "    <tr style=\"text-align: right;\">\n",
       "      <th></th>\n",
       "      <th>C</th>\n",
       "      <th>D</th>\n",
       "    </tr>\n",
       "    <tr>\n",
       "      <th>A</th>\n",
       "      <th></th>\n",
       "      <th></th>\n",
       "    </tr>\n",
       "  </thead>\n",
       "  <tbody>\n",
       "    <tr>\n",
       "      <th>bar</th>\n",
       "      <td>-1.747282</td>\n",
       "      <td>-0.273038</td>\n",
       "    </tr>\n",
       "    <tr>\n",
       "      <th>foo</th>\n",
       "      <td>-0.513454</td>\n",
       "      <td>2.300274</td>\n",
       "    </tr>\n",
       "  </tbody>\n",
       "</table>\n",
       "</div>"
      ],
      "text/plain": [
       "            C         D\n",
       "A                      \n",
       "bar -1.747282 -0.273038\n",
       "foo -0.513454  2.300274"
      ]
     },
     "execution_count": 91,
     "metadata": {},
     "output_type": "execute_result"
    }
   ],
   "source": [
    "df.groupby('A').sum()"
   ]
  },
  {
   "cell_type": "code",
   "execution_count": 92,
   "metadata": {},
   "outputs": [
    {
     "data": {
      "text/html": [
       "<div>\n",
       "<style scoped>\n",
       "    .dataframe tbody tr th:only-of-type {\n",
       "        vertical-align: middle;\n",
       "    }\n",
       "\n",
       "    .dataframe tbody tr th {\n",
       "        vertical-align: top;\n",
       "    }\n",
       "\n",
       "    .dataframe thead th {\n",
       "        text-align: right;\n",
       "    }\n",
       "</style>\n",
       "<table border=\"1\" class=\"dataframe\">\n",
       "  <thead>\n",
       "    <tr style=\"text-align: right;\">\n",
       "      <th></th>\n",
       "      <th></th>\n",
       "      <th>C</th>\n",
       "      <th>D</th>\n",
       "    </tr>\n",
       "    <tr>\n",
       "      <th>A</th>\n",
       "      <th>B</th>\n",
       "      <th></th>\n",
       "      <th></th>\n",
       "    </tr>\n",
       "  </thead>\n",
       "  <tbody>\n",
       "    <tr>\n",
       "      <th rowspan=\"3\" valign=\"top\">bar</th>\n",
       "      <th>one</th>\n",
       "      <td>0.386016</td>\n",
       "      <td>-0.086759</td>\n",
       "    </tr>\n",
       "    <tr>\n",
       "      <th>three</th>\n",
       "      <td>-0.989466</td>\n",
       "      <td>-0.469632</td>\n",
       "    </tr>\n",
       "    <tr>\n",
       "      <th>two</th>\n",
       "      <td>-1.143833</td>\n",
       "      <td>0.283353</td>\n",
       "    </tr>\n",
       "    <tr>\n",
       "      <th rowspan=\"3\" valign=\"top\">foo</th>\n",
       "      <th>one</th>\n",
       "      <td>-2.303823</td>\n",
       "      <td>2.483229</td>\n",
       "    </tr>\n",
       "    <tr>\n",
       "      <th>three</th>\n",
       "      <td>0.921018</td>\n",
       "      <td>-1.708265</td>\n",
       "    </tr>\n",
       "    <tr>\n",
       "      <th>two</th>\n",
       "      <td>0.869351</td>\n",
       "      <td>1.525310</td>\n",
       "    </tr>\n",
       "  </tbody>\n",
       "</table>\n",
       "</div>"
      ],
      "text/plain": [
       "                  C         D\n",
       "A   B                        \n",
       "bar one    0.386016 -0.086759\n",
       "    three -0.989466 -0.469632\n",
       "    two   -1.143833  0.283353\n",
       "foo one   -2.303823  2.483229\n",
       "    three  0.921018 -1.708265\n",
       "    two    0.869351  1.525310"
      ]
     },
     "execution_count": 92,
     "metadata": {},
     "output_type": "execute_result"
    }
   ],
   "source": [
    "df.groupby(['A','B']).sum()"
   ]
  },
  {
   "cell_type": "markdown",
   "metadata": {},
   "source": [
    "여러 열로 그룹화하면 계층 적 색인이 만들어지며 다시 sum 함수를 적용 할 수 있습니다."
   ]
  },
  {
   "cell_type": "markdown",
   "metadata": {},
   "source": [
    "# Reshaping"
   ]
  },
  {
   "cell_type": "code",
   "execution_count": 93,
   "metadata": {},
   "outputs": [],
   "source": [
    "tuples = list(zip(*[['bar', 'bar', 'baz', 'baz',\n",
    "   ....:                      'foo', 'foo', 'qux', 'qux'],\n",
    "   ....:                     ['one', 'two', 'one', 'two',\n",
    "   ....:                      'one', 'two', 'one', 'two']]))"
   ]
  },
  {
   "cell_type": "code",
   "execution_count": 94,
   "metadata": {},
   "outputs": [],
   "source": [
    "index = pd.MultiIndex.from_tuples(tuples, names=['first', 'second'])"
   ]
  },
  {
   "cell_type": "code",
   "execution_count": 95,
   "metadata": {},
   "outputs": [],
   "source": [
    "df = pd.DataFrame(np.random.randn(8, 2), index=index, columns=['A', 'B'])"
   ]
  },
  {
   "cell_type": "code",
   "execution_count": 96,
   "metadata": {},
   "outputs": [],
   "source": [
    "df2 = df[:4]"
   ]
  },
  {
   "cell_type": "code",
   "execution_count": 97,
   "metadata": {},
   "outputs": [
    {
     "data": {
      "text/html": [
       "<div>\n",
       "<style scoped>\n",
       "    .dataframe tbody tr th:only-of-type {\n",
       "        vertical-align: middle;\n",
       "    }\n",
       "\n",
       "    .dataframe tbody tr th {\n",
       "        vertical-align: top;\n",
       "    }\n",
       "\n",
       "    .dataframe thead th {\n",
       "        text-align: right;\n",
       "    }\n",
       "</style>\n",
       "<table border=\"1\" class=\"dataframe\">\n",
       "  <thead>\n",
       "    <tr style=\"text-align: right;\">\n",
       "      <th></th>\n",
       "      <th></th>\n",
       "      <th>A</th>\n",
       "      <th>B</th>\n",
       "    </tr>\n",
       "    <tr>\n",
       "      <th>first</th>\n",
       "      <th>second</th>\n",
       "      <th></th>\n",
       "      <th></th>\n",
       "    </tr>\n",
       "  </thead>\n",
       "  <tbody>\n",
       "    <tr>\n",
       "      <th rowspan=\"2\" valign=\"top\">bar</th>\n",
       "      <th>one</th>\n",
       "      <td>-0.062727</td>\n",
       "      <td>0.723907</td>\n",
       "    </tr>\n",
       "    <tr>\n",
       "      <th>two</th>\n",
       "      <td>0.948986</td>\n",
       "      <td>1.764691</td>\n",
       "    </tr>\n",
       "    <tr>\n",
       "      <th rowspan=\"2\" valign=\"top\">baz</th>\n",
       "      <th>one</th>\n",
       "      <td>-0.614661</td>\n",
       "      <td>-0.930101</td>\n",
       "    </tr>\n",
       "    <tr>\n",
       "      <th>two</th>\n",
       "      <td>0.566214</td>\n",
       "      <td>-1.443920</td>\n",
       "    </tr>\n",
       "  </tbody>\n",
       "</table>\n",
       "</div>"
      ],
      "text/plain": [
       "                     A         B\n",
       "first second                    \n",
       "bar   one    -0.062727  0.723907\n",
       "      two     0.948986  1.764691\n",
       "baz   one    -0.614661 -0.930101\n",
       "      two     0.566214 -1.443920"
      ]
     },
     "execution_count": 97,
     "metadata": {},
     "output_type": "execute_result"
    }
   ],
   "source": [
    "df2"
   ]
  },
  {
   "cell_type": "code",
   "execution_count": 98,
   "metadata": {},
   "outputs": [],
   "source": [
    "stacked = df2.stack()"
   ]
  },
  {
   "cell_type": "code",
   "execution_count": 99,
   "metadata": {},
   "outputs": [
    {
     "data": {
      "text/plain": [
       "first  second   \n",
       "bar    one     A   -0.062727\n",
       "               B    0.723907\n",
       "       two     A    0.948986\n",
       "               B    1.764691\n",
       "baz    one     A   -0.614661\n",
       "               B   -0.930101\n",
       "       two     A    0.566214\n",
       "               B   -1.443920\n",
       "dtype: float64"
      ]
     },
     "execution_count": 99,
     "metadata": {},
     "output_type": "execute_result"
    }
   ],
   "source": [
    "stacked"
   ]
  },
  {
   "cell_type": "code",
   "execution_count": 100,
   "metadata": {},
   "outputs": [
    {
     "data": {
      "text/html": [
       "<div>\n",
       "<style scoped>\n",
       "    .dataframe tbody tr th:only-of-type {\n",
       "        vertical-align: middle;\n",
       "    }\n",
       "\n",
       "    .dataframe tbody tr th {\n",
       "        vertical-align: top;\n",
       "    }\n",
       "\n",
       "    .dataframe thead th {\n",
       "        text-align: right;\n",
       "    }\n",
       "</style>\n",
       "<table border=\"1\" class=\"dataframe\">\n",
       "  <thead>\n",
       "    <tr style=\"text-align: right;\">\n",
       "      <th></th>\n",
       "      <th></th>\n",
       "      <th>A</th>\n",
       "      <th>B</th>\n",
       "    </tr>\n",
       "    <tr>\n",
       "      <th>first</th>\n",
       "      <th>second</th>\n",
       "      <th></th>\n",
       "      <th></th>\n",
       "    </tr>\n",
       "  </thead>\n",
       "  <tbody>\n",
       "    <tr>\n",
       "      <th rowspan=\"2\" valign=\"top\">bar</th>\n",
       "      <th>one</th>\n",
       "      <td>-0.062727</td>\n",
       "      <td>0.723907</td>\n",
       "    </tr>\n",
       "    <tr>\n",
       "      <th>two</th>\n",
       "      <td>0.948986</td>\n",
       "      <td>1.764691</td>\n",
       "    </tr>\n",
       "    <tr>\n",
       "      <th rowspan=\"2\" valign=\"top\">baz</th>\n",
       "      <th>one</th>\n",
       "      <td>-0.614661</td>\n",
       "      <td>-0.930101</td>\n",
       "    </tr>\n",
       "    <tr>\n",
       "      <th>two</th>\n",
       "      <td>0.566214</td>\n",
       "      <td>-1.443920</td>\n",
       "    </tr>\n",
       "  </tbody>\n",
       "</table>\n",
       "</div>"
      ],
      "text/plain": [
       "                     A         B\n",
       "first second                    \n",
       "bar   one    -0.062727  0.723907\n",
       "      two     0.948986  1.764691\n",
       "baz   one    -0.614661 -0.930101\n",
       "      two     0.566214 -1.443920"
      ]
     },
     "execution_count": 100,
     "metadata": {},
     "output_type": "execute_result"
    }
   ],
   "source": [
    "stacked.unstack()"
   ]
  },
  {
   "cell_type": "code",
   "execution_count": 101,
   "metadata": {},
   "outputs": [
    {
     "data": {
      "text/html": [
       "<div>\n",
       "<style scoped>\n",
       "    .dataframe tbody tr th:only-of-type {\n",
       "        vertical-align: middle;\n",
       "    }\n",
       "\n",
       "    .dataframe tbody tr th {\n",
       "        vertical-align: top;\n",
       "    }\n",
       "\n",
       "    .dataframe thead th {\n",
       "        text-align: right;\n",
       "    }\n",
       "</style>\n",
       "<table border=\"1\" class=\"dataframe\">\n",
       "  <thead>\n",
       "    <tr style=\"text-align: right;\">\n",
       "      <th></th>\n",
       "      <th>second</th>\n",
       "      <th>one</th>\n",
       "      <th>two</th>\n",
       "    </tr>\n",
       "    <tr>\n",
       "      <th>first</th>\n",
       "      <th></th>\n",
       "      <th></th>\n",
       "      <th></th>\n",
       "    </tr>\n",
       "  </thead>\n",
       "  <tbody>\n",
       "    <tr>\n",
       "      <th rowspan=\"2\" valign=\"top\">bar</th>\n",
       "      <th>A</th>\n",
       "      <td>-0.062727</td>\n",
       "      <td>0.948986</td>\n",
       "    </tr>\n",
       "    <tr>\n",
       "      <th>B</th>\n",
       "      <td>0.723907</td>\n",
       "      <td>1.764691</td>\n",
       "    </tr>\n",
       "    <tr>\n",
       "      <th rowspan=\"2\" valign=\"top\">baz</th>\n",
       "      <th>A</th>\n",
       "      <td>-0.614661</td>\n",
       "      <td>0.566214</td>\n",
       "    </tr>\n",
       "    <tr>\n",
       "      <th>B</th>\n",
       "      <td>-0.930101</td>\n",
       "      <td>-1.443920</td>\n",
       "    </tr>\n",
       "  </tbody>\n",
       "</table>\n",
       "</div>"
      ],
      "text/plain": [
       "second        one       two\n",
       "first                      \n",
       "bar   A -0.062727  0.948986\n",
       "      B  0.723907  1.764691\n",
       "baz   A -0.614661  0.566214\n",
       "      B -0.930101 -1.443920"
      ]
     },
     "execution_count": 101,
     "metadata": {},
     "output_type": "execute_result"
    }
   ],
   "source": [
    "stacked.unstack(1)"
   ]
  },
  {
   "cell_type": "code",
   "execution_count": 102,
   "metadata": {},
   "outputs": [
    {
     "data": {
      "text/html": [
       "<div>\n",
       "<style scoped>\n",
       "    .dataframe tbody tr th:only-of-type {\n",
       "        vertical-align: middle;\n",
       "    }\n",
       "\n",
       "    .dataframe tbody tr th {\n",
       "        vertical-align: top;\n",
       "    }\n",
       "\n",
       "    .dataframe thead th {\n",
       "        text-align: right;\n",
       "    }\n",
       "</style>\n",
       "<table border=\"1\" class=\"dataframe\">\n",
       "  <thead>\n",
       "    <tr style=\"text-align: right;\">\n",
       "      <th></th>\n",
       "      <th>first</th>\n",
       "      <th>bar</th>\n",
       "      <th>baz</th>\n",
       "    </tr>\n",
       "    <tr>\n",
       "      <th>second</th>\n",
       "      <th></th>\n",
       "      <th></th>\n",
       "      <th></th>\n",
       "    </tr>\n",
       "  </thead>\n",
       "  <tbody>\n",
       "    <tr>\n",
       "      <th rowspan=\"2\" valign=\"top\">one</th>\n",
       "      <th>A</th>\n",
       "      <td>-0.062727</td>\n",
       "      <td>-0.614661</td>\n",
       "    </tr>\n",
       "    <tr>\n",
       "      <th>B</th>\n",
       "      <td>0.723907</td>\n",
       "      <td>-0.930101</td>\n",
       "    </tr>\n",
       "    <tr>\n",
       "      <th rowspan=\"2\" valign=\"top\">two</th>\n",
       "      <th>A</th>\n",
       "      <td>0.948986</td>\n",
       "      <td>0.566214</td>\n",
       "    </tr>\n",
       "    <tr>\n",
       "      <th>B</th>\n",
       "      <td>1.764691</td>\n",
       "      <td>-1.443920</td>\n",
       "    </tr>\n",
       "  </tbody>\n",
       "</table>\n",
       "</div>"
      ],
      "text/plain": [
       "first          bar       baz\n",
       "second                      \n",
       "one    A -0.062727 -0.614661\n",
       "       B  0.723907 -0.930101\n",
       "two    A  0.948986  0.566214\n",
       "       B  1.764691 -1.443920"
      ]
     },
     "execution_count": 102,
     "metadata": {},
     "output_type": "execute_result"
    }
   ],
   "source": [
    "stacked.unstack(0)"
   ]
  },
  {
   "cell_type": "markdown",
   "metadata": {},
   "source": [
    "\"Stacked\"DataFrame 또는 Series (MultiIndex를 인덱스로 사용) 인 경우 stack ()의 ​​역 연산은 unstack ()이며, 기본적으로 마지막 레벨을 unstack합니다."
   ]
  },
  {
   "cell_type": "markdown",
   "metadata": {},
   "source": [
    "# Pivot Tables"
   ]
  },
  {
   "cell_type": "code",
   "execution_count": 103,
   "metadata": {},
   "outputs": [],
   "source": [
    " df = pd.DataFrame({'A' : ['one', 'one', 'two', 'three'] * 3,\n",
    "   .....:                    'B' : ['A', 'B', 'C'] * 4,\n",
    "   .....:                    'C' : ['foo', 'foo', 'foo', 'bar', 'bar', 'bar'] * 2,\n",
    "   .....:                    'D' : np.random.randn(12),\n",
    "   .....:                    'E' : np.random.randn(12)})"
   ]
  },
  {
   "cell_type": "code",
   "execution_count": 104,
   "metadata": {},
   "outputs": [
    {
     "data": {
      "text/html": [
       "<div>\n",
       "<style scoped>\n",
       "    .dataframe tbody tr th:only-of-type {\n",
       "        vertical-align: middle;\n",
       "    }\n",
       "\n",
       "    .dataframe tbody tr th {\n",
       "        vertical-align: top;\n",
       "    }\n",
       "\n",
       "    .dataframe thead th {\n",
       "        text-align: right;\n",
       "    }\n",
       "</style>\n",
       "<table border=\"1\" class=\"dataframe\">\n",
       "  <thead>\n",
       "    <tr style=\"text-align: right;\">\n",
       "      <th></th>\n",
       "      <th>A</th>\n",
       "      <th>B</th>\n",
       "      <th>C</th>\n",
       "      <th>D</th>\n",
       "      <th>E</th>\n",
       "    </tr>\n",
       "  </thead>\n",
       "  <tbody>\n",
       "    <tr>\n",
       "      <th>0</th>\n",
       "      <td>one</td>\n",
       "      <td>A</td>\n",
       "      <td>foo</td>\n",
       "      <td>-0.183272</td>\n",
       "      <td>-0.446168</td>\n",
       "    </tr>\n",
       "    <tr>\n",
       "      <th>1</th>\n",
       "      <td>one</td>\n",
       "      <td>B</td>\n",
       "      <td>foo</td>\n",
       "      <td>-0.584887</td>\n",
       "      <td>-0.739602</td>\n",
       "    </tr>\n",
       "    <tr>\n",
       "      <th>2</th>\n",
       "      <td>two</td>\n",
       "      <td>C</td>\n",
       "      <td>foo</td>\n",
       "      <td>1.259131</td>\n",
       "      <td>-0.208335</td>\n",
       "    </tr>\n",
       "    <tr>\n",
       "      <th>3</th>\n",
       "      <td>three</td>\n",
       "      <td>A</td>\n",
       "      <td>bar</td>\n",
       "      <td>0.309180</td>\n",
       "      <td>-0.186955</td>\n",
       "    </tr>\n",
       "    <tr>\n",
       "      <th>4</th>\n",
       "      <td>one</td>\n",
       "      <td>B</td>\n",
       "      <td>bar</td>\n",
       "      <td>-0.491788</td>\n",
       "      <td>-1.197071</td>\n",
       "    </tr>\n",
       "    <tr>\n",
       "      <th>5</th>\n",
       "      <td>one</td>\n",
       "      <td>C</td>\n",
       "      <td>bar</td>\n",
       "      <td>0.487490</td>\n",
       "      <td>-0.435396</td>\n",
       "    </tr>\n",
       "    <tr>\n",
       "      <th>6</th>\n",
       "      <td>two</td>\n",
       "      <td>A</td>\n",
       "      <td>foo</td>\n",
       "      <td>0.821225</td>\n",
       "      <td>-0.356230</td>\n",
       "    </tr>\n",
       "    <tr>\n",
       "      <th>7</th>\n",
       "      <td>three</td>\n",
       "      <td>B</td>\n",
       "      <td>foo</td>\n",
       "      <td>-1.530079</td>\n",
       "      <td>-1.034601</td>\n",
       "    </tr>\n",
       "    <tr>\n",
       "      <th>8</th>\n",
       "      <td>one</td>\n",
       "      <td>C</td>\n",
       "      <td>foo</td>\n",
       "      <td>-1.848072</td>\n",
       "      <td>0.043805</td>\n",
       "    </tr>\n",
       "    <tr>\n",
       "      <th>9</th>\n",
       "      <td>one</td>\n",
       "      <td>A</td>\n",
       "      <td>bar</td>\n",
       "      <td>-0.011191</td>\n",
       "      <td>0.879807</td>\n",
       "    </tr>\n",
       "    <tr>\n",
       "      <th>10</th>\n",
       "      <td>two</td>\n",
       "      <td>B</td>\n",
       "      <td>bar</td>\n",
       "      <td>-0.183672</td>\n",
       "      <td>-0.281425</td>\n",
       "    </tr>\n",
       "    <tr>\n",
       "      <th>11</th>\n",
       "      <td>three</td>\n",
       "      <td>C</td>\n",
       "      <td>bar</td>\n",
       "      <td>-1.256961</td>\n",
       "      <td>0.588634</td>\n",
       "    </tr>\n",
       "  </tbody>\n",
       "</table>\n",
       "</div>"
      ],
      "text/plain": [
       "        A  B    C         D         E\n",
       "0     one  A  foo -0.183272 -0.446168\n",
       "1     one  B  foo -0.584887 -0.739602\n",
       "2     two  C  foo  1.259131 -0.208335\n",
       "3   three  A  bar  0.309180 -0.186955\n",
       "4     one  B  bar -0.491788 -1.197071\n",
       "5     one  C  bar  0.487490 -0.435396\n",
       "6     two  A  foo  0.821225 -0.356230\n",
       "7   three  B  foo -1.530079 -1.034601\n",
       "8     one  C  foo -1.848072  0.043805\n",
       "9     one  A  bar -0.011191  0.879807\n",
       "10    two  B  bar -0.183672 -0.281425\n",
       "11  three  C  bar -1.256961  0.588634"
      ]
     },
     "execution_count": 104,
     "metadata": {},
     "output_type": "execute_result"
    }
   ],
   "source": [
    "df"
   ]
  },
  {
   "cell_type": "code",
   "execution_count": 105,
   "metadata": {},
   "outputs": [
    {
     "data": {
      "text/html": [
       "<div>\n",
       "<style scoped>\n",
       "    .dataframe tbody tr th:only-of-type {\n",
       "        vertical-align: middle;\n",
       "    }\n",
       "\n",
       "    .dataframe tbody tr th {\n",
       "        vertical-align: top;\n",
       "    }\n",
       "\n",
       "    .dataframe thead th {\n",
       "        text-align: right;\n",
       "    }\n",
       "</style>\n",
       "<table border=\"1\" class=\"dataframe\">\n",
       "  <thead>\n",
       "    <tr style=\"text-align: right;\">\n",
       "      <th></th>\n",
       "      <th>C</th>\n",
       "      <th>bar</th>\n",
       "      <th>foo</th>\n",
       "    </tr>\n",
       "    <tr>\n",
       "      <th>A</th>\n",
       "      <th>B</th>\n",
       "      <th></th>\n",
       "      <th></th>\n",
       "    </tr>\n",
       "  </thead>\n",
       "  <tbody>\n",
       "    <tr>\n",
       "      <th rowspan=\"3\" valign=\"top\">one</th>\n",
       "      <th>A</th>\n",
       "      <td>-0.011191</td>\n",
       "      <td>-0.183272</td>\n",
       "    </tr>\n",
       "    <tr>\n",
       "      <th>B</th>\n",
       "      <td>-0.491788</td>\n",
       "      <td>-0.584887</td>\n",
       "    </tr>\n",
       "    <tr>\n",
       "      <th>C</th>\n",
       "      <td>0.487490</td>\n",
       "      <td>-1.848072</td>\n",
       "    </tr>\n",
       "    <tr>\n",
       "      <th rowspan=\"3\" valign=\"top\">three</th>\n",
       "      <th>A</th>\n",
       "      <td>0.309180</td>\n",
       "      <td>NaN</td>\n",
       "    </tr>\n",
       "    <tr>\n",
       "      <th>B</th>\n",
       "      <td>NaN</td>\n",
       "      <td>-1.530079</td>\n",
       "    </tr>\n",
       "    <tr>\n",
       "      <th>C</th>\n",
       "      <td>-1.256961</td>\n",
       "      <td>NaN</td>\n",
       "    </tr>\n",
       "    <tr>\n",
       "      <th rowspan=\"3\" valign=\"top\">two</th>\n",
       "      <th>A</th>\n",
       "      <td>NaN</td>\n",
       "      <td>0.821225</td>\n",
       "    </tr>\n",
       "    <tr>\n",
       "      <th>B</th>\n",
       "      <td>-0.183672</td>\n",
       "      <td>NaN</td>\n",
       "    </tr>\n",
       "    <tr>\n",
       "      <th>C</th>\n",
       "      <td>NaN</td>\n",
       "      <td>1.259131</td>\n",
       "    </tr>\n",
       "  </tbody>\n",
       "</table>\n",
       "</div>"
      ],
      "text/plain": [
       "C             bar       foo\n",
       "A     B                    \n",
       "one   A -0.011191 -0.183272\n",
       "      B -0.491788 -0.584887\n",
       "      C  0.487490 -1.848072\n",
       "three A  0.309180       NaN\n",
       "      B       NaN -1.530079\n",
       "      C -1.256961       NaN\n",
       "two   A       NaN  0.821225\n",
       "      B -0.183672       NaN\n",
       "      C       NaN  1.259131"
      ]
     },
     "execution_count": 105,
     "metadata": {},
     "output_type": "execute_result"
    }
   ],
   "source": [
    "pd.pivot_table(df, values='D', index=['A', 'B'], columns=['C'])"
   ]
  },
  {
   "cell_type": "markdown",
   "metadata": {},
   "source": [
    "# Time Series"
   ]
  },
  {
   "cell_type": "code",
   "execution_count": 106,
   "metadata": {},
   "outputs": [],
   "source": [
    "rng = pd.date_range('1/1/2012', periods=100, freq='S')"
   ]
  },
  {
   "cell_type": "code",
   "execution_count": 107,
   "metadata": {},
   "outputs": [],
   "source": [
    "ts = pd.Series(np.random.randint(0, 500, len(rng)), index=rng)"
   ]
  },
  {
   "cell_type": "code",
   "execution_count": 108,
   "metadata": {},
   "outputs": [
    {
     "data": {
      "text/plain": [
       "2012-01-01    24399\n",
       "Freq: 5T, dtype: int32"
      ]
     },
     "execution_count": 108,
     "metadata": {},
     "output_type": "execute_result"
    }
   ],
   "source": [
    "ts.resample('5Min').sum()"
   ]
  },
  {
   "cell_type": "code",
   "execution_count": 109,
   "metadata": {},
   "outputs": [],
   "source": [
    "rng = pd.date_range('3/6/2012 00:00', periods=5, freq='D')"
   ]
  },
  {
   "cell_type": "code",
   "execution_count": 110,
   "metadata": {},
   "outputs": [],
   "source": [
    " ts = pd.Series(np.random.randn(len(rng)), rng)"
   ]
  },
  {
   "cell_type": "code",
   "execution_count": 111,
   "metadata": {},
   "outputs": [
    {
     "data": {
      "text/plain": [
       "2012-03-06    0.317750\n",
       "2012-03-07   -0.896711\n",
       "2012-03-08    0.833161\n",
       "2012-03-09    2.056227\n",
       "2012-03-10   -0.352342\n",
       "Freq: D, dtype: float64"
      ]
     },
     "execution_count": 111,
     "metadata": {},
     "output_type": "execute_result"
    }
   ],
   "source": [
    "ts"
   ]
  },
  {
   "cell_type": "code",
   "execution_count": 112,
   "metadata": {},
   "outputs": [],
   "source": [
    "ps = ts.to_period()"
   ]
  },
  {
   "cell_type": "code",
   "execution_count": 113,
   "metadata": {},
   "outputs": [
    {
     "data": {
      "text/plain": [
       "2012-03-06    0.317750\n",
       "2012-03-07   -0.896711\n",
       "2012-03-08    0.833161\n",
       "2012-03-09    2.056227\n",
       "2012-03-10   -0.352342\n",
       "Freq: D, dtype: float64"
      ]
     },
     "execution_count": 113,
     "metadata": {},
     "output_type": "execute_result"
    }
   ],
   "source": [
    "ps"
   ]
  },
  {
   "cell_type": "code",
   "execution_count": 114,
   "metadata": {},
   "outputs": [
    {
     "data": {
      "text/plain": [
       "2012-03-06    0.317750\n",
       "2012-03-07   -0.896711\n",
       "2012-03-08    0.833161\n",
       "2012-03-09    2.056227\n",
       "2012-03-10   -0.352342\n",
       "Freq: D, dtype: float64"
      ]
     },
     "execution_count": 114,
     "metadata": {},
     "output_type": "execute_result"
    }
   ],
   "source": [
    "ps.to_timestamp()"
   ]
  },
  {
   "cell_type": "code",
   "execution_count": 115,
   "metadata": {},
   "outputs": [],
   "source": [
    "prng = pd.period_range('1990Q1', '2000Q4', freq='Q-NOV')"
   ]
  },
  {
   "cell_type": "code",
   "execution_count": 116,
   "metadata": {},
   "outputs": [],
   "source": [
    "ts = pd.Series(np.random.randn(len(prng)), prng)"
   ]
  },
  {
   "cell_type": "code",
   "execution_count": 117,
   "metadata": {},
   "outputs": [],
   "source": [
    "ts.index = (prng.asfreq('M', 'e') + 1).asfreq('H', 's') + 9"
   ]
  },
  {
   "cell_type": "code",
   "execution_count": 118,
   "metadata": {},
   "outputs": [
    {
     "data": {
      "text/plain": [
       "1990-03-01 09:00    1.348347\n",
       "1990-06-01 09:00    0.389872\n",
       "1990-09-01 09:00   -0.042415\n",
       "1990-12-01 09:00    1.361017\n",
       "1991-03-01 09:00    0.448593\n",
       "Freq: H, dtype: float64"
      ]
     },
     "execution_count": 118,
     "metadata": {},
     "output_type": "execute_result"
    }
   ],
   "source": [
    "ts.head()"
   ]
  },
  {
   "cell_type": "markdown",
   "metadata": {},
   "source": [
    "# Categoricals"
   ]
  },
  {
   "cell_type": "code",
   "execution_count": 119,
   "metadata": {},
   "outputs": [],
   "source": [
    "df = pd.DataFrame({\"id\":[1,2,3,4,5,6], \"raw_grade\":['a', 'b', 'b', 'a', 'a', 'e']})"
   ]
  },
  {
   "cell_type": "code",
   "execution_count": 120,
   "metadata": {},
   "outputs": [],
   "source": [
    "df[\"grade\"] = df[\"raw_grade\"].astype(\"category\")"
   ]
  },
  {
   "cell_type": "code",
   "execution_count": 121,
   "metadata": {},
   "outputs": [
    {
     "data": {
      "text/plain": [
       "0    a\n",
       "1    b\n",
       "2    b\n",
       "3    a\n",
       "4    a\n",
       "5    e\n",
       "Name: grade, dtype: category\n",
       "Categories (3, object): [a, b, e]"
      ]
     },
     "execution_count": 121,
     "metadata": {},
     "output_type": "execute_result"
    }
   ],
   "source": [
    "df[\"grade\"]"
   ]
  },
  {
   "cell_type": "code",
   "execution_count": 122,
   "metadata": {},
   "outputs": [
    {
     "data": {
      "text/html": [
       "<div>\n",
       "<style scoped>\n",
       "    .dataframe tbody tr th:only-of-type {\n",
       "        vertical-align: middle;\n",
       "    }\n",
       "\n",
       "    .dataframe tbody tr th {\n",
       "        vertical-align: top;\n",
       "    }\n",
       "\n",
       "    .dataframe thead th {\n",
       "        text-align: right;\n",
       "    }\n",
       "</style>\n",
       "<table border=\"1\" class=\"dataframe\">\n",
       "  <thead>\n",
       "    <tr style=\"text-align: right;\">\n",
       "      <th></th>\n",
       "      <th>id</th>\n",
       "      <th>raw_grade</th>\n",
       "      <th>grade</th>\n",
       "    </tr>\n",
       "  </thead>\n",
       "  <tbody>\n",
       "    <tr>\n",
       "      <th>0</th>\n",
       "      <td>1</td>\n",
       "      <td>a</td>\n",
       "      <td>a</td>\n",
       "    </tr>\n",
       "    <tr>\n",
       "      <th>3</th>\n",
       "      <td>4</td>\n",
       "      <td>a</td>\n",
       "      <td>a</td>\n",
       "    </tr>\n",
       "    <tr>\n",
       "      <th>4</th>\n",
       "      <td>5</td>\n",
       "      <td>a</td>\n",
       "      <td>a</td>\n",
       "    </tr>\n",
       "    <tr>\n",
       "      <th>1</th>\n",
       "      <td>2</td>\n",
       "      <td>b</td>\n",
       "      <td>b</td>\n",
       "    </tr>\n",
       "    <tr>\n",
       "      <th>2</th>\n",
       "      <td>3</td>\n",
       "      <td>b</td>\n",
       "      <td>b</td>\n",
       "    </tr>\n",
       "    <tr>\n",
       "      <th>5</th>\n",
       "      <td>6</td>\n",
       "      <td>e</td>\n",
       "      <td>e</td>\n",
       "    </tr>\n",
       "  </tbody>\n",
       "</table>\n",
       "</div>"
      ],
      "text/plain": [
       "   id raw_grade grade\n",
       "0   1         a     a\n",
       "3   4         a     a\n",
       "4   5         a     a\n",
       "1   2         b     b\n",
       "2   3         b     b\n",
       "5   6         e     e"
      ]
     },
     "execution_count": 122,
     "metadata": {},
     "output_type": "execute_result"
    }
   ],
   "source": [
    "df.sort_values(by=\"grade\")"
   ]
  },
  {
   "cell_type": "code",
   "execution_count": 123,
   "metadata": {},
   "outputs": [
    {
     "data": {
      "text/plain": [
       "grade\n",
       "a    3\n",
       "b    2\n",
       "e    1\n",
       "dtype: int64"
      ]
     },
     "execution_count": 123,
     "metadata": {},
     "output_type": "execute_result"
    }
   ],
   "source": [
    "df.groupby(\"grade\").size()"
   ]
  },
  {
   "cell_type": "markdown",
   "metadata": {},
   "source": [
    "# Plotting"
   ]
  },
  {
   "cell_type": "code",
   "execution_count": 124,
   "metadata": {},
   "outputs": [],
   "source": [
    "ts = pd.Series(np.random.randn(1000), index=pd.date_range('1/1/2000', periods=1000))"
   ]
  },
  {
   "cell_type": "code",
   "execution_count": 125,
   "metadata": {},
   "outputs": [],
   "source": [
    "ts = ts.cumsum()"
   ]
  },
  {
   "cell_type": "code",
   "execution_count": 126,
   "metadata": {},
   "outputs": [
    {
     "data": {
      "text/plain": [
       "<matplotlib.axes._subplots.AxesSubplot at 0x178949414a8>"
      ]
     },
     "execution_count": 126,
     "metadata": {},
     "output_type": "execute_result"
    },
    {
     "data": {
      "image/png": "[encoded data removed]",
      "text/plain": [
       "<Figure size 432x288 with 1 Axes>"
      ]
     },
     "metadata": {
      "needs_background": "light"
     },
     "output_type": "display_data"
    }
   ],
   "source": [
    "ts.plot()"
   ]
  },
  {
   "cell_type": "code",
   "execution_count": 185,
   "metadata": {},
   "outputs": [],
   "source": [
    "df = pd.DataFrame(np.random.randn(1000, 4), index=ts.index,\n",
    "   .....:                   columns=['A', 'B', 'C', 'D'])"
   ]
  },
  {
   "cell_type": "code",
   "execution_count": 186,
   "metadata": {},
   "outputs": [],
   "source": [
    "df = df.cumsum()"
   ]
  },
  {
   "cell_type": "code",
   "execution_count": 187,
   "metadata": {},
   "outputs": [
    {
     "data": {
      "text/plain": [
       "<matplotlib.legend.Legend at 0x178969c7080>"
      ]
     },
     "execution_count": 187,
     "metadata": {},
     "output_type": "execute_result"
    },
    {
     "data": {
      "text/plain": [
       "<Figure size 432x288 with 0 Axes>"
      ]
     },
     "metadata": {},
     "output_type": "display_data"
    },
    {
     "data": {
      "image/png": "[encoded data removed]",
      "text/plain": [
       "<Figure size 432x288 with 1 Axes>"
      ]
     },
     "metadata": {
      "needs_background": "light"
     },
     "output_type": "display_data"
    }
   ],
   "source": [
    "plt.figure(); df.plot(); plt.legend(loc='best')"
   ]
  },
  {
   "cell_type": "code",
   "execution_count": 188,
   "metadata": {},
   "outputs": [
    {
     "data": {
      "text/plain": [
       "<Figure size 432x288 with 0 Axes>"
      ]
     },
     "metadata": {},
     "output_type": "display_data"
    }
   ],
   "source": [
    "plt.figure();"
   ]
  },
  {
   "cell_type": "code",
   "execution_count": 189,
   "metadata": {},
   "outputs": [
    {
     "data": {
      "image/png": "[encoded data removed]",
      "text/plain": [
       "<Figure size 432x288 with 1 Axes>"
      ]
     },
     "metadata": {
      "needs_background": "light"
     },
     "output_type": "display_data"
    }
   ],
   "source": [
    "df.iloc[5].plot(kind='bar');"
   ]
  },
  {
   "cell_type": "code",
   "execution_count": 190,
   "metadata": {},
   "outputs": [
    {
     "data": {
      "text/plain": [
       "<Figure size 432x288 with 0 Axes>"
      ]
     },
     "metadata": {},
     "output_type": "display_data"
    }
   ],
   "source": [
    "plt.figure();"
   ]
  },
  {
   "cell_type": "code",
   "execution_count": 191,
   "metadata": {},
   "outputs": [
    {
     "data": {
      "text/plain": [
       "<matplotlib.lines.Line2D at 0x17896a5b9b0>"
      ]
     },
     "execution_count": 191,
     "metadata": {},
     "output_type": "execute_result"
    },
    {
     "data": {
      "image/png": "[encoded data removed]",
      "text/plain": [
       "<Figure size 432x288 with 1 Axes>"
      ]
     },
     "metadata": {
      "needs_background": "light"
     },
     "output_type": "display_data"
    }
   ],
   "source": [
    "df.iloc[5].plot.bar(); plt.axhline(0, color='k')"
   ]
  },
  {
   "cell_type": "code",
   "execution_count": 192,
   "metadata": {},
   "outputs": [],
   "source": [
    "df2 = pd.DataFrame(np.random.rand(10, 4), columns=['a', 'b', 'c', 'd'])"
   ]
  },
  {
   "cell_type": "code",
   "execution_count": 193,
   "metadata": {},
   "outputs": [
    {
     "data": {
      "image/png": "[encoded data removed]",
      "text/plain": [
       "<Figure size 432x288 with 1 Axes>"
      ]
     },
     "metadata": {
      "needs_background": "light"
     },
     "output_type": "display_data"
    }
   ],
   "source": [
    "df2.plot.bar();"
   ]
  },
  {
   "cell_type": "code",
   "execution_count": 194,
   "metadata": {},
   "outputs": [
    {
     "data": {
      "image/png": "[encoded data removed]",
      "text/plain": [
       "<Figure size 432x288 with 1 Axes>"
      ]
     },
     "metadata": {
      "needs_background": "light"
     },
     "output_type": "display_data"
    }
   ],
   "source": [
    "df2.plot.bar(stacked=True);"
   ]
  },
  {
   "cell_type": "code",
   "execution_count": 195,
   "metadata": {},
   "outputs": [
    {
     "data": {
      "image/png": "[encoded data removed]",
      "text/plain": [
       "<Figure size 432x288 with 1 Axes>"
      ]
     },
     "metadata": {
      "needs_background": "light"
     },
     "output_type": "display_data"
    }
   ],
   "source": [
    "df2.plot.barh(stacked=True);"
   ]
  },
  {
   "cell_type": "code",
   "execution_count": 196,
   "metadata": {},
   "outputs": [],
   "source": [
    "df4 = pd.DataFrame({'a': np.random.randn(1000) + 1, 'b': np.random.randn(1000),\n",
    "   ....:                     'c': np.random.randn(1000) - 1}, columns=['a', 'b', 'c'])"
   ]
  },
  {
   "cell_type": "code",
   "execution_count": 197,
   "metadata": {},
   "outputs": [
    {
     "data": {
      "text/plain": [
       "<Figure size 432x288 with 0 Axes>"
      ]
     },
     "metadata": {},
     "output_type": "display_data"
    }
   ],
   "source": [
    "plt.figure();"
   ]
  },
  {
   "cell_type": "code",
   "execution_count": 198,
   "metadata": {},
   "outputs": [
    {
     "data": {
      "text/plain": [
       "<matplotlib.axes._subplots.AxesSubplot at 0x17896cf0ba8>"
      ]
     },
     "execution_count": 198,
     "metadata": {},
     "output_type": "execute_result"
    },
    {
     "data": {
      "image/png": "[encoded data removed]",
      "text/plain": [
       "<Figure size 432x288 with 1 Axes>"
      ]
     },
     "metadata": {
      "needs_background": "light"
     },
     "output_type": "display_data"
    }
   ],
   "source": [
    "df4.plot.hist(alpha=0.5)"
   ]
  },
  {
   "cell_type": "code",
   "execution_count": 199,
   "metadata": {},
   "outputs": [
    {
     "data": {
      "text/plain": [
       "<Figure size 432x288 with 0 Axes>"
      ]
     },
     "metadata": {},
     "output_type": "display_data"
    }
   ],
   "source": [
    "plt.figure();"
   ]
  },
  {
   "cell_type": "code",
   "execution_count": 200,
   "metadata": {},
   "outputs": [
    {
     "data": {
      "text/plain": [
       "<matplotlib.axes._subplots.AxesSubplot at 0x17896ac56a0>"
      ]
     },
     "execution_count": 200,
     "metadata": {},
     "output_type": "execute_result"
    },
    {
     "data": {
      "image/png": "[encoded data removed]",
      "text/plain": [
       "<Figure size 432x288 with 1 Axes>"
      ]
     },
     "metadata": {
      "needs_background": "light"
     },
     "output_type": "display_data"
    }
   ],
   "source": [
    "df4.plot.hist(stacked=True, bins=20)"
   ]
  },
  {
   "cell_type": "code",
   "execution_count": 201,
   "metadata": {},
   "outputs": [
    {
     "data": {
      "text/plain": [
       "<Figure size 432x288 with 0 Axes>"
      ]
     },
     "metadata": {},
     "output_type": "display_data"
    }
   ],
   "source": [
    "plt.figure();"
   ]
  },
  {
   "cell_type": "code",
   "execution_count": 202,
   "metadata": {},
   "outputs": [
    {
     "data": {
      "text/plain": [
       "<matplotlib.axes._subplots.AxesSubplot at 0x17896aee5f8>"
      ]
     },
     "execution_count": 202,
     "metadata": {},
     "output_type": "execute_result"
    },
    {
     "data": {
      "image/png": "[encoded data removed]",
      "text/plain": [
       "<Figure size 432x288 with 1 Axes>"
      ]
     },
     "metadata": {
      "needs_background": "light"
     },
     "output_type": "display_data"
    }
   ],
   "source": [
    "df4['a'].plot.hist(orientation='horizontal', cumulative=True)"
   ]
  },
  {
   "cell_type": "code",
   "execution_count": null,
   "metadata": {},
   "outputs": [],
   "source": []
  },
  {
   "cell_type": "markdown",
   "metadata": {},
   "source": [
    "# Getting Data In/Out"
   ]
  },
  {
   "cell_type": "code",
   "execution_count": 130,
   "metadata": {},
   "outputs": [],
   "source": [
    "df.to_csv('foo.csv')"
   ]
  },
  {
   "cell_type": "code",
   "execution_count": 131,
   "metadata": {},
   "outputs": [
    {
     "data": {
      "text/html": [
       "<div>\n",
       "<style scoped>\n",
       "    .dataframe tbody tr th:only-of-type {\n",
       "        vertical-align: middle;\n",
       "    }\n",
       "\n",
       "    .dataframe tbody tr th {\n",
       "        vertical-align: top;\n",
       "    }\n",
       "\n",
       "    .dataframe thead th {\n",
       "        text-align: right;\n",
       "    }\n",
       "</style>\n",
       "<table border=\"1\" class=\"dataframe\">\n",
       "  <thead>\n",
       "    <tr style=\"text-align: right;\">\n",
       "      <th></th>\n",
       "      <th>Unnamed: 0</th>\n",
       "      <th>A</th>\n",
       "      <th>B</th>\n",
       "      <th>C</th>\n",
       "      <th>D</th>\n",
       "    </tr>\n",
       "  </thead>\n",
       "  <tbody>\n",
       "    <tr>\n",
       "      <th>0</th>\n",
       "      <td>2000-01-01</td>\n",
       "      <td>-1.052675</td>\n",
       "      <td>-1.079745</td>\n",
       "      <td>-0.429653</td>\n",
       "      <td>1.068676</td>\n",
       "    </tr>\n",
       "    <tr>\n",
       "      <th>1</th>\n",
       "      <td>2000-01-02</td>\n",
       "      <td>-1.204335</td>\n",
       "      <td>-1.577764</td>\n",
       "      <td>-0.314006</td>\n",
       "      <td>-0.628149</td>\n",
       "    </tr>\n",
       "    <tr>\n",
       "      <th>2</th>\n",
       "      <td>2000-01-03</td>\n",
       "      <td>-0.397834</td>\n",
       "      <td>-3.155066</td>\n",
       "      <td>-0.170463</td>\n",
       "      <td>-2.294329</td>\n",
       "    </tr>\n",
       "    <tr>\n",
       "      <th>3</th>\n",
       "      <td>2000-01-04</td>\n",
       "      <td>-1.208545</td>\n",
       "      <td>-3.584160</td>\n",
       "      <td>0.036680</td>\n",
       "      <td>-2.581253</td>\n",
       "    </tr>\n",
       "    <tr>\n",
       "      <th>4</th>\n",
       "      <td>2000-01-05</td>\n",
       "      <td>0.854216</td>\n",
       "      <td>-3.918904</td>\n",
       "      <td>-0.014121</td>\n",
       "      <td>-2.977005</td>\n",
       "    </tr>\n",
       "    <tr>\n",
       "      <th>5</th>\n",
       "      <td>2000-01-06</td>\n",
       "      <td>0.794161</td>\n",
       "      <td>-4.352799</td>\n",
       "      <td>2.094510</td>\n",
       "      <td>-3.997918</td>\n",
       "    </tr>\n",
       "    <tr>\n",
       "      <th>6</th>\n",
       "      <td>2000-01-07</td>\n",
       "      <td>3.147353</td>\n",
       "      <td>-5.246595</td>\n",
       "      <td>0.866241</td>\n",
       "      <td>-3.763260</td>\n",
       "    </tr>\n",
       "    <tr>\n",
       "      <th>7</th>\n",
       "      <td>2000-01-08</td>\n",
       "      <td>3.406283</td>\n",
       "      <td>-4.686972</td>\n",
       "      <td>1.499426</td>\n",
       "      <td>-3.076550</td>\n",
       "    </tr>\n",
       "    <tr>\n",
       "      <th>8</th>\n",
       "      <td>2000-01-09</td>\n",
       "      <td>4.908516</td>\n",
       "      <td>-2.482148</td>\n",
       "      <td>2.552748</td>\n",
       "      <td>-3.409531</td>\n",
       "    </tr>\n",
       "    <tr>\n",
       "      <th>9</th>\n",
       "      <td>2000-01-10</td>\n",
       "      <td>4.691494</td>\n",
       "      <td>-1.613945</td>\n",
       "      <td>4.391728</td>\n",
       "      <td>-2.624454</td>\n",
       "    </tr>\n",
       "    <tr>\n",
       "      <th>10</th>\n",
       "      <td>2000-01-11</td>\n",
       "      <td>4.277620</td>\n",
       "      <td>-2.184673</td>\n",
       "      <td>3.991033</td>\n",
       "      <td>-3.432967</td>\n",
       "    </tr>\n",
       "    <tr>\n",
       "      <th>11</th>\n",
       "      <td>2000-01-12</td>\n",
       "      <td>3.723826</td>\n",
       "      <td>-2.828512</td>\n",
       "      <td>2.900524</td>\n",
       "      <td>-3.645801</td>\n",
       "    </tr>\n",
       "    <tr>\n",
       "      <th>12</th>\n",
       "      <td>2000-01-13</td>\n",
       "      <td>3.263747</td>\n",
       "      <td>-3.123224</td>\n",
       "      <td>2.108769</td>\n",
       "      <td>-4.030557</td>\n",
       "    </tr>\n",
       "    <tr>\n",
       "      <th>13</th>\n",
       "      <td>2000-01-14</td>\n",
       "      <td>4.001345</td>\n",
       "      <td>-4.282655</td>\n",
       "      <td>0.566300</td>\n",
       "      <td>-4.928733</td>\n",
       "    </tr>\n",
       "    <tr>\n",
       "      <th>14</th>\n",
       "      <td>2000-01-15</td>\n",
       "      <td>4.965761</td>\n",
       "      <td>-5.915332</td>\n",
       "      <td>0.979601</td>\n",
       "      <td>-6.762061</td>\n",
       "    </tr>\n",
       "    <tr>\n",
       "      <th>15</th>\n",
       "      <td>2000-01-16</td>\n",
       "      <td>5.156287</td>\n",
       "      <td>-5.950692</td>\n",
       "      <td>0.000226</td>\n",
       "      <td>-6.398753</td>\n",
       "    </tr>\n",
       "    <tr>\n",
       "      <th>16</th>\n",
       "      <td>2000-01-17</td>\n",
       "      <td>4.271473</td>\n",
       "      <td>-5.939189</td>\n",
       "      <td>-1.376677</td>\n",
       "      <td>-6.584674</td>\n",
       "    </tr>\n",
       "    <tr>\n",
       "      <th>17</th>\n",
       "      <td>2000-01-18</td>\n",
       "      <td>3.873772</td>\n",
       "      <td>-6.071141</td>\n",
       "      <td>-2.300331</td>\n",
       "      <td>-6.764224</td>\n",
       "    </tr>\n",
       "    <tr>\n",
       "      <th>18</th>\n",
       "      <td>2000-01-19</td>\n",
       "      <td>3.303885</td>\n",
       "      <td>-4.554566</td>\n",
       "      <td>-1.918082</td>\n",
       "      <td>-6.305330</td>\n",
       "    </tr>\n",
       "    <tr>\n",
       "      <th>19</th>\n",
       "      <td>2000-01-20</td>\n",
       "      <td>4.245517</td>\n",
       "      <td>-4.827777</td>\n",
       "      <td>-3.317145</td>\n",
       "      <td>-6.188204</td>\n",
       "    </tr>\n",
       "    <tr>\n",
       "      <th>20</th>\n",
       "      <td>2000-01-21</td>\n",
       "      <td>3.550121</td>\n",
       "      <td>-5.588223</td>\n",
       "      <td>-4.158345</td>\n",
       "      <td>-6.475043</td>\n",
       "    </tr>\n",
       "    <tr>\n",
       "      <th>21</th>\n",
       "      <td>2000-01-22</td>\n",
       "      <td>2.160205</td>\n",
       "      <td>-5.460111</td>\n",
       "      <td>-6.129560</td>\n",
       "      <td>-7.533260</td>\n",
       "    </tr>\n",
       "    <tr>\n",
       "      <th>22</th>\n",
       "      <td>2000-01-23</td>\n",
       "      <td>2.238119</td>\n",
       "      <td>-5.170590</td>\n",
       "      <td>-6.154223</td>\n",
       "      <td>-7.458907</td>\n",
       "    </tr>\n",
       "    <tr>\n",
       "      <th>23</th>\n",
       "      <td>2000-01-24</td>\n",
       "      <td>2.509762</td>\n",
       "      <td>-5.202698</td>\n",
       "      <td>-6.750535</td>\n",
       "      <td>-7.424051</td>\n",
       "    </tr>\n",
       "    <tr>\n",
       "      <th>24</th>\n",
       "      <td>2000-01-25</td>\n",
       "      <td>2.527405</td>\n",
       "      <td>-3.570563</td>\n",
       "      <td>-6.190750</td>\n",
       "      <td>-7.012097</td>\n",
       "    </tr>\n",
       "    <tr>\n",
       "      <th>25</th>\n",
       "      <td>2000-01-26</td>\n",
       "      <td>2.764612</td>\n",
       "      <td>-5.930319</td>\n",
       "      <td>-6.248939</td>\n",
       "      <td>-5.893125</td>\n",
       "    </tr>\n",
       "    <tr>\n",
       "      <th>26</th>\n",
       "      <td>2000-01-27</td>\n",
       "      <td>1.972203</td>\n",
       "      <td>-3.711100</td>\n",
       "      <td>-7.493834</td>\n",
       "      <td>-3.984400</td>\n",
       "    </tr>\n",
       "    <tr>\n",
       "      <th>27</th>\n",
       "      <td>2000-01-28</td>\n",
       "      <td>2.710270</td>\n",
       "      <td>-2.743620</td>\n",
       "      <td>-6.028738</td>\n",
       "      <td>-3.834532</td>\n",
       "    </tr>\n",
       "    <tr>\n",
       "      <th>28</th>\n",
       "      <td>2000-01-29</td>\n",
       "      <td>2.052401</td>\n",
       "      <td>-4.087858</td>\n",
       "      <td>-6.499054</td>\n",
       "      <td>-3.248989</td>\n",
       "    </tr>\n",
       "    <tr>\n",
       "      <th>29</th>\n",
       "      <td>2000-01-30</td>\n",
       "      <td>1.805977</td>\n",
       "      <td>-2.735681</td>\n",
       "      <td>-5.376698</td>\n",
       "      <td>-3.159810</td>\n",
       "    </tr>\n",
       "    <tr>\n",
       "      <th>...</th>\n",
       "      <td>...</td>\n",
       "      <td>...</td>\n",
       "      <td>...</td>\n",
       "      <td>...</td>\n",
       "      <td>...</td>\n",
       "    </tr>\n",
       "    <tr>\n",
       "      <th>970</th>\n",
       "      <td>2002-08-28</td>\n",
       "      <td>-8.902927</td>\n",
       "      <td>19.615269</td>\n",
       "      <td>48.215092</td>\n",
       "      <td>-23.948689</td>\n",
       "    </tr>\n",
       "    <tr>\n",
       "      <th>971</th>\n",
       "      <td>2002-08-29</td>\n",
       "      <td>-10.557331</td>\n",
       "      <td>18.934774</td>\n",
       "      <td>48.314256</td>\n",
       "      <td>-23.565839</td>\n",
       "    </tr>\n",
       "    <tr>\n",
       "      <th>972</th>\n",
       "      <td>2002-08-30</td>\n",
       "      <td>-9.687339</td>\n",
       "      <td>19.805007</td>\n",
       "      <td>48.863627</td>\n",
       "      <td>-24.671885</td>\n",
       "    </tr>\n",
       "    <tr>\n",
       "      <th>973</th>\n",
       "      <td>2002-08-31</td>\n",
       "      <td>-8.014046</td>\n",
       "      <td>18.510892</td>\n",
       "      <td>47.621855</td>\n",
       "      <td>-24.408615</td>\n",
       "    </tr>\n",
       "    <tr>\n",
       "      <th>974</th>\n",
       "      <td>2002-09-01</td>\n",
       "      <td>-7.350029</td>\n",
       "      <td>18.658700</td>\n",
       "      <td>46.175203</td>\n",
       "      <td>-24.867633</td>\n",
       "    </tr>\n",
       "    <tr>\n",
       "      <th>975</th>\n",
       "      <td>2002-09-02</td>\n",
       "      <td>-8.973015</td>\n",
       "      <td>18.995904</td>\n",
       "      <td>45.581944</td>\n",
       "      <td>-25.715184</td>\n",
       "    </tr>\n",
       "    <tr>\n",
       "      <th>976</th>\n",
       "      <td>2002-09-03</td>\n",
       "      <td>-11.094758</td>\n",
       "      <td>18.375867</td>\n",
       "      <td>45.314132</td>\n",
       "      <td>-26.776347</td>\n",
       "    </tr>\n",
       "    <tr>\n",
       "      <th>977</th>\n",
       "      <td>2002-09-04</td>\n",
       "      <td>-11.547597</td>\n",
       "      <td>19.976611</td>\n",
       "      <td>44.341451</td>\n",
       "      <td>-27.143322</td>\n",
       "    </tr>\n",
       "    <tr>\n",
       "      <th>978</th>\n",
       "      <td>2002-09-05</td>\n",
       "      <td>-11.518274</td>\n",
       "      <td>19.241733</td>\n",
       "      <td>44.578409</td>\n",
       "      <td>-24.960253</td>\n",
       "    </tr>\n",
       "    <tr>\n",
       "      <th>979</th>\n",
       "      <td>2002-09-06</td>\n",
       "      <td>-11.949702</td>\n",
       "      <td>17.875829</td>\n",
       "      <td>44.942500</td>\n",
       "      <td>-24.377662</td>\n",
       "    </tr>\n",
       "    <tr>\n",
       "      <th>980</th>\n",
       "      <td>2002-09-07</td>\n",
       "      <td>-12.290451</td>\n",
       "      <td>19.027735</td>\n",
       "      <td>44.517981</td>\n",
       "      <td>-25.490992</td>\n",
       "    </tr>\n",
       "    <tr>\n",
       "      <th>981</th>\n",
       "      <td>2002-09-08</td>\n",
       "      <td>-13.514139</td>\n",
       "      <td>19.250177</td>\n",
       "      <td>43.713504</td>\n",
       "      <td>-25.410096</td>\n",
       "    </tr>\n",
       "    <tr>\n",
       "      <th>982</th>\n",
       "      <td>2002-09-09</td>\n",
       "      <td>-15.734194</td>\n",
       "      <td>19.923971</td>\n",
       "      <td>43.216254</td>\n",
       "      <td>-24.539508</td>\n",
       "    </tr>\n",
       "    <tr>\n",
       "      <th>983</th>\n",
       "      <td>2002-09-10</td>\n",
       "      <td>-16.323686</td>\n",
       "      <td>19.613307</td>\n",
       "      <td>43.749389</td>\n",
       "      <td>-24.724387</td>\n",
       "    </tr>\n",
       "    <tr>\n",
       "      <th>984</th>\n",
       "      <td>2002-09-11</td>\n",
       "      <td>-16.287420</td>\n",
       "      <td>19.635036</td>\n",
       "      <td>45.489175</td>\n",
       "      <td>-25.394549</td>\n",
       "    </tr>\n",
       "    <tr>\n",
       "      <th>985</th>\n",
       "      <td>2002-09-12</td>\n",
       "      <td>-14.488543</td>\n",
       "      <td>19.076926</td>\n",
       "      <td>44.501830</td>\n",
       "      <td>-25.961633</td>\n",
       "    </tr>\n",
       "    <tr>\n",
       "      <th>986</th>\n",
       "      <td>2002-09-13</td>\n",
       "      <td>-15.961237</td>\n",
       "      <td>18.653736</td>\n",
       "      <td>43.002388</td>\n",
       "      <td>-25.203803</td>\n",
       "    </tr>\n",
       "    <tr>\n",
       "      <th>987</th>\n",
       "      <td>2002-09-14</td>\n",
       "      <td>-15.926386</td>\n",
       "      <td>20.043978</td>\n",
       "      <td>42.998637</td>\n",
       "      <td>-25.878264</td>\n",
       "    </tr>\n",
       "    <tr>\n",
       "      <th>988</th>\n",
       "      <td>2002-09-15</td>\n",
       "      <td>-13.244282</td>\n",
       "      <td>18.048319</td>\n",
       "      <td>44.630891</td>\n",
       "      <td>-25.558253</td>\n",
       "    </tr>\n",
       "    <tr>\n",
       "      <th>989</th>\n",
       "      <td>2002-09-16</td>\n",
       "      <td>-14.691705</td>\n",
       "      <td>16.617367</td>\n",
       "      <td>44.970679</td>\n",
       "      <td>-26.216062</td>\n",
       "    </tr>\n",
       "    <tr>\n",
       "      <th>990</th>\n",
       "      <td>2002-09-17</td>\n",
       "      <td>-14.773831</td>\n",
       "      <td>15.894343</td>\n",
       "      <td>44.948469</td>\n",
       "      <td>-25.279770</td>\n",
       "    </tr>\n",
       "    <tr>\n",
       "      <th>991</th>\n",
       "      <td>2002-09-18</td>\n",
       "      <td>-14.669068</td>\n",
       "      <td>15.464898</td>\n",
       "      <td>45.424701</td>\n",
       "      <td>-24.360965</td>\n",
       "    </tr>\n",
       "    <tr>\n",
       "      <th>992</th>\n",
       "      <td>2002-09-19</td>\n",
       "      <td>-14.244830</td>\n",
       "      <td>15.587253</td>\n",
       "      <td>45.071891</td>\n",
       "      <td>-25.618821</td>\n",
       "    </tr>\n",
       "    <tr>\n",
       "      <th>993</th>\n",
       "      <td>2002-09-20</td>\n",
       "      <td>-13.827522</td>\n",
       "      <td>13.555318</td>\n",
       "      <td>43.688204</td>\n",
       "      <td>-24.841531</td>\n",
       "    </tr>\n",
       "    <tr>\n",
       "      <th>994</th>\n",
       "      <td>2002-09-21</td>\n",
       "      <td>-15.409758</td>\n",
       "      <td>12.457480</td>\n",
       "      <td>44.148996</td>\n",
       "      <td>-26.927048</td>\n",
       "    </tr>\n",
       "    <tr>\n",
       "      <th>995</th>\n",
       "      <td>2002-09-22</td>\n",
       "      <td>-16.397222</td>\n",
       "      <td>12.560276</td>\n",
       "      <td>44.021746</td>\n",
       "      <td>-27.093399</td>\n",
       "    </tr>\n",
       "    <tr>\n",
       "      <th>996</th>\n",
       "      <td>2002-09-23</td>\n",
       "      <td>-16.660789</td>\n",
       "      <td>11.860017</td>\n",
       "      <td>45.016304</td>\n",
       "      <td>-27.639698</td>\n",
       "    </tr>\n",
       "    <tr>\n",
       "      <th>997</th>\n",
       "      <td>2002-09-24</td>\n",
       "      <td>-15.495268</td>\n",
       "      <td>11.548755</td>\n",
       "      <td>45.212512</td>\n",
       "      <td>-26.586830</td>\n",
       "    </tr>\n",
       "    <tr>\n",
       "      <th>998</th>\n",
       "      <td>2002-09-25</td>\n",
       "      <td>-16.306797</td>\n",
       "      <td>10.202275</td>\n",
       "      <td>43.378692</td>\n",
       "      <td>-25.106181</td>\n",
       "    </tr>\n",
       "    <tr>\n",
       "      <th>999</th>\n",
       "      <td>2002-09-26</td>\n",
       "      <td>-16.659455</td>\n",
       "      <td>11.145374</td>\n",
       "      <td>43.244345</td>\n",
       "      <td>-24.792008</td>\n",
       "    </tr>\n",
       "  </tbody>\n",
       "</table>\n",
       "<p>1000 rows × 5 columns</p>\n",
       "</div>"
      ],
      "text/plain": [
       "     Unnamed: 0          A          B          C          D\n",
       "0    2000-01-01  -1.052675  -1.079745  -0.429653   1.068676\n",
       "1    2000-01-02  -1.204335  -1.577764  -0.314006  -0.628149\n",
       "2    2000-01-03  -0.397834  -3.155066  -0.170463  -2.294329\n",
       "3    2000-01-04  -1.208545  -3.584160   0.036680  -2.581253\n",
       "4    2000-01-05   0.854216  -3.918904  -0.014121  -2.977005\n",
       "5    2000-01-06   0.794161  -4.352799   2.094510  -3.997918\n",
       "6    2000-01-07   3.147353  -5.246595   0.866241  -3.763260\n",
       "7    2000-01-08   3.406283  -4.686972   1.499426  -3.076550\n",
       "8    2000-01-09   4.908516  -2.482148   2.552748  -3.409531\n",
       "9    2000-01-10   4.691494  -1.613945   4.391728  -2.624454\n",
       "10   2000-01-11   4.277620  -2.184673   3.991033  -3.432967\n",
       "11   2000-01-12   3.723826  -2.828512   2.900524  -3.645801\n",
       "12   2000-01-13   3.263747  -3.123224   2.108769  -4.030557\n",
       "13   2000-01-14   4.001345  -4.282655   0.566300  -4.928733\n",
       "14   2000-01-15   4.965761  -5.915332   0.979601  -6.762061\n",
       "15   2000-01-16   5.156287  -5.950692   0.000226  -6.398753\n",
       "16   2000-01-17   4.271473  -5.939189  -1.376677  -6.584674\n",
       "17   2000-01-18   3.873772  -6.071141  -2.300331  -6.764224\n",
       "18   2000-01-19   3.303885  -4.554566  -1.918082  -6.305330\n",
       "19   2000-01-20   4.245517  -4.827777  -3.317145  -6.188204\n",
       "20   2000-01-21   3.550121  -5.588223  -4.158345  -6.475043\n",
       "21   2000-01-22   2.160205  -5.460111  -6.129560  -7.533260\n",
       "22   2000-01-23   2.238119  -5.170590  -6.154223  -7.458907\n",
       "23   2000-01-24   2.509762  -5.202698  -6.750535  -7.424051\n",
       "24   2000-01-25   2.527405  -3.570563  -6.190750  -7.012097\n",
       "25   2000-01-26   2.764612  -5.930319  -6.248939  -5.893125\n",
       "26   2000-01-27   1.972203  -3.711100  -7.493834  -3.984400\n",
       "27   2000-01-28   2.710270  -2.743620  -6.028738  -3.834532\n",
       "28   2000-01-29   2.052401  -4.087858  -6.499054  -3.248989\n",
       "29   2000-01-30   1.805977  -2.735681  -5.376698  -3.159810\n",
       "..          ...        ...        ...        ...        ...\n",
       "970  2002-08-28  -8.902927  19.615269  48.215092 -23.948689\n",
       "971  2002-08-29 -10.557331  18.934774  48.314256 -23.565839\n",
       "972  2002-08-30  -9.687339  19.805007  48.863627 -24.671885\n",
       "973  2002-08-31  -8.014046  18.510892  47.621855 -24.408615\n",
       "974  2002-09-01  -7.350029  18.658700  46.175203 -24.867633\n",
       "975  2002-09-02  -8.973015  18.995904  45.581944 -25.715184\n",
       "976  2002-09-03 -11.094758  18.375867  45.314132 -26.776347\n",
       "977  2002-09-04 -11.547597  19.976611  44.341451 -27.143322\n",
       "978  2002-09-05 -11.518274  19.241733  44.578409 -24.960253\n",
       "979  2002-09-06 -11.949702  17.875829  44.942500 -24.377662\n",
       "980  2002-09-07 -12.290451  19.027735  44.517981 -25.490992\n",
       "981  2002-09-08 -13.514139  19.250177  43.713504 -25.410096\n",
       "982  2002-09-09 -15.734194  19.923971  43.216254 -24.539508\n",
       "983  2002-09-10 -16.323686  19.613307  43.749389 -24.724387\n",
       "984  2002-09-11 -16.287420  19.635036  45.489175 -25.394549\n",
       "985  2002-09-12 -14.488543  19.076926  44.501830 -25.961633\n",
       "986  2002-09-13 -15.961237  18.653736  43.002388 -25.203803\n",
       "987  2002-09-14 -15.926386  20.043978  42.998637 -25.878264\n",
       "988  2002-09-15 -13.244282  18.048319  44.630891 -25.558253\n",
       "989  2002-09-16 -14.691705  16.617367  44.970679 -26.216062\n",
       "990  2002-09-17 -14.773831  15.894343  44.948469 -25.279770\n",
       "991  2002-09-18 -14.669068  15.464898  45.424701 -24.360965\n",
       "992  2002-09-19 -14.244830  15.587253  45.071891 -25.618821\n",
       "993  2002-09-20 -13.827522  13.555318  43.688204 -24.841531\n",
       "994  2002-09-21 -15.409758  12.457480  44.148996 -26.927048\n",
       "995  2002-09-22 -16.397222  12.560276  44.021746 -27.093399\n",
       "996  2002-09-23 -16.660789  11.860017  45.016304 -27.639698\n",
       "997  2002-09-24 -15.495268  11.548755  45.212512 -26.586830\n",
       "998  2002-09-25 -16.306797  10.202275  43.378692 -25.106181\n",
       "999  2002-09-26 -16.659455  11.145374  43.244345 -24.792008\n",
       "\n",
       "[1000 rows x 5 columns]"
      ]
     },
     "execution_count": 131,
     "metadata": {},
     "output_type": "execute_result"
    }
   ],
   "source": [
    "pd.read_csv('foo.csv')"
   ]
  },
  {
   "cell_type": "code",
   "execution_count": 132,
   "metadata": {},
   "outputs": [],
   "source": [
    "df.to_hdf('foo.h5','df')"
   ]
  },
  {
   "cell_type": "code",
   "execution_count": 133,
   "metadata": {},
   "outputs": [
    {
     "data": {
      "text/html": [
       "<div>\n",
       "<style scoped>\n",
       "    .dataframe tbody tr th:only-of-type {\n",
       "        vertical-align: middle;\n",
       "    }\n",
       "\n",
       "    .dataframe tbody tr th {\n",
       "        vertical-align: top;\n",
       "    }\n",
       "\n",
       "    .dataframe thead th {\n",
       "        text-align: right;\n",
       "    }\n",
       "</style>\n",
       "<table border=\"1\" class=\"dataframe\">\n",
       "  <thead>\n",
       "    <tr style=\"text-align: right;\">\n",
       "      <th></th>\n",
       "      <th>A</th>\n",
       "      <th>B</th>\n",
       "      <th>C</th>\n",
       "      <th>D</th>\n",
       "    </tr>\n",
       "  </thead>\n",
       "  <tbody>\n",
       "    <tr>\n",
       "      <th>2000-01-01</th>\n",
       "      <td>-1.052675</td>\n",
       "      <td>-1.079745</td>\n",
       "      <td>-0.429653</td>\n",
       "      <td>1.068676</td>\n",
       "    </tr>\n",
       "    <tr>\n",
       "      <th>2000-01-02</th>\n",
       "      <td>-1.204335</td>\n",
       "      <td>-1.577764</td>\n",
       "      <td>-0.314006</td>\n",
       "      <td>-0.628149</td>\n",
       "    </tr>\n",
       "    <tr>\n",
       "      <th>2000-01-03</th>\n",
       "      <td>-0.397834</td>\n",
       "      <td>-3.155066</td>\n",
       "      <td>-0.170463</td>\n",
       "      <td>-2.294329</td>\n",
       "    </tr>\n",
       "    <tr>\n",
       "      <th>2000-01-04</th>\n",
       "      <td>-1.208545</td>\n",
       "      <td>-3.584160</td>\n",
       "      <td>0.036680</td>\n",
       "      <td>-2.581253</td>\n",
       "    </tr>\n",
       "    <tr>\n",
       "      <th>2000-01-05</th>\n",
       "      <td>0.854216</td>\n",
       "      <td>-3.918904</td>\n",
       "      <td>-0.014121</td>\n",
       "      <td>-2.977005</td>\n",
       "    </tr>\n",
       "    <tr>\n",
       "      <th>2000-01-06</th>\n",
       "      <td>0.794161</td>\n",
       "      <td>-4.352799</td>\n",
       "      <td>2.094510</td>\n",
       "      <td>-3.997918</td>\n",
       "    </tr>\n",
       "    <tr>\n",
       "      <th>2000-01-07</th>\n",
       "      <td>3.147353</td>\n",
       "      <td>-5.246595</td>\n",
       "      <td>0.866241</td>\n",
       "      <td>-3.763260</td>\n",
       "    </tr>\n",
       "    <tr>\n",
       "      <th>2000-01-08</th>\n",
       "      <td>3.406283</td>\n",
       "      <td>-4.686972</td>\n",
       "      <td>1.499426</td>\n",
       "      <td>-3.076550</td>\n",
       "    </tr>\n",
       "    <tr>\n",
       "      <th>2000-01-09</th>\n",
       "      <td>4.908516</td>\n",
       "      <td>-2.482148</td>\n",
       "      <td>2.552748</td>\n",
       "      <td>-3.409531</td>\n",
       "    </tr>\n",
       "    <tr>\n",
       "      <th>2000-01-10</th>\n",
       "      <td>4.691494</td>\n",
       "      <td>-1.613945</td>\n",
       "      <td>4.391728</td>\n",
       "      <td>-2.624454</td>\n",
       "    </tr>\n",
       "    <tr>\n",
       "      <th>2000-01-11</th>\n",
       "      <td>4.277620</td>\n",
       "      <td>-2.184673</td>\n",
       "      <td>3.991033</td>\n",
       "      <td>-3.432967</td>\n",
       "    </tr>\n",
       "    <tr>\n",
       "      <th>2000-01-12</th>\n",
       "      <td>3.723826</td>\n",
       "      <td>-2.828512</td>\n",
       "      <td>2.900524</td>\n",
       "      <td>-3.645801</td>\n",
       "    </tr>\n",
       "    <tr>\n",
       "      <th>2000-01-13</th>\n",
       "      <td>3.263747</td>\n",
       "      <td>-3.123224</td>\n",
       "      <td>2.108769</td>\n",
       "      <td>-4.030557</td>\n",
       "    </tr>\n",
       "    <tr>\n",
       "      <th>2000-01-14</th>\n",
       "      <td>4.001345</td>\n",
       "      <td>-4.282655</td>\n",
       "      <td>0.566300</td>\n",
       "      <td>-4.928733</td>\n",
       "    </tr>\n",
       "    <tr>\n",
       "      <th>2000-01-15</th>\n",
       "      <td>4.965761</td>\n",
       "      <td>-5.915332</td>\n",
       "      <td>0.979601</td>\n",
       "      <td>-6.762061</td>\n",
       "    </tr>\n",
       "    <tr>\n",
       "      <th>2000-01-16</th>\n",
       "      <td>5.156287</td>\n",
       "      <td>-5.950692</td>\n",
       "      <td>0.000226</td>\n",
       "      <td>-6.398753</td>\n",
       "    </tr>\n",
       "    <tr>\n",
       "      <th>2000-01-17</th>\n",
       "      <td>4.271473</td>\n",
       "      <td>-5.939189</td>\n",
       "      <td>-1.376677</td>\n",
       "      <td>-6.584674</td>\n",
       "    </tr>\n",
       "    <tr>\n",
       "      <th>2000-01-18</th>\n",
       "      <td>3.873772</td>\n",
       "      <td>-6.071141</td>\n",
       "      <td>-2.300331</td>\n",
       "      <td>-6.764224</td>\n",
       "    </tr>\n",
       "    <tr>\n",
       "      <th>2000-01-19</th>\n",
       "      <td>3.303885</td>\n",
       "      <td>-4.554566</td>\n",
       "      <td>-1.918082</td>\n",
       "      <td>-6.305330</td>\n",
       "    </tr>\n",
       "    <tr>\n",
       "      <th>2000-01-20</th>\n",
       "      <td>4.245517</td>\n",
       "      <td>-4.827777</td>\n",
       "      <td>-3.317145</td>\n",
       "      <td>-6.188204</td>\n",
       "    </tr>\n",
       "    <tr>\n",
       "      <th>2000-01-21</th>\n",
       "      <td>3.550121</td>\n",
       "      <td>-5.588223</td>\n",
       "      <td>-4.158345</td>\n",
       "      <td>-6.475043</td>\n",
       "    </tr>\n",
       "    <tr>\n",
       "      <th>2000-01-22</th>\n",
       "      <td>2.160205</td>\n",
       "      <td>-5.460111</td>\n",
       "      <td>-6.129560</td>\n",
       "      <td>-7.533260</td>\n",
       "    </tr>\n",
       "    <tr>\n",
       "      <th>2000-01-23</th>\n",
       "      <td>2.238119</td>\n",
       "      <td>-5.170590</td>\n",
       "      <td>-6.154223</td>\n",
       "      <td>-7.458907</td>\n",
       "    </tr>\n",
       "    <tr>\n",
       "      <th>2000-01-24</th>\n",
       "      <td>2.509762</td>\n",
       "      <td>-5.202698</td>\n",
       "      <td>-6.750535</td>\n",
       "      <td>-7.424051</td>\n",
       "    </tr>\n",
       "    <tr>\n",
       "      <th>2000-01-25</th>\n",
       "      <td>2.527405</td>\n",
       "      <td>-3.570563</td>\n",
       "      <td>-6.190750</td>\n",
       "      <td>-7.012097</td>\n",
       "    </tr>\n",
       "    <tr>\n",
       "      <th>2000-01-26</th>\n",
       "      <td>2.764612</td>\n",
       "      <td>-5.930319</td>\n",
       "      <td>-6.248939</td>\n",
       "      <td>-5.893125</td>\n",
       "    </tr>\n",
       "    <tr>\n",
       "      <th>2000-01-27</th>\n",
       "      <td>1.972203</td>\n",
       "      <td>-3.711100</td>\n",
       "      <td>-7.493834</td>\n",
       "      <td>-3.984400</td>\n",
       "    </tr>\n",
       "    <tr>\n",
       "      <th>2000-01-28</th>\n",
       "      <td>2.710270</td>\n",
       "      <td>-2.743620</td>\n",
       "      <td>-6.028738</td>\n",
       "      <td>-3.834532</td>\n",
       "    </tr>\n",
       "    <tr>\n",
       "      <th>2000-01-29</th>\n",
       "      <td>2.052401</td>\n",
       "      <td>-4.087858</td>\n",
       "      <td>-6.499054</td>\n",
       "      <td>-3.248989</td>\n",
       "    </tr>\n",
       "    <tr>\n",
       "      <th>2000-01-30</th>\n",
       "      <td>1.805977</td>\n",
       "      <td>-2.735681</td>\n",
       "      <td>-5.376698</td>\n",
       "      <td>-3.159810</td>\n",
       "    </tr>\n",
       "    <tr>\n",
       "      <th>...</th>\n",
       "      <td>...</td>\n",
       "      <td>...</td>\n",
       "      <td>...</td>\n",
       "      <td>...</td>\n",
       "    </tr>\n",
       "    <tr>\n",
       "      <th>2002-08-28</th>\n",
       "      <td>-8.902927</td>\n",
       "      <td>19.615269</td>\n",
       "      <td>48.215092</td>\n",
       "      <td>-23.948689</td>\n",
       "    </tr>\n",
       "    <tr>\n",
       "      <th>2002-08-29</th>\n",
       "      <td>-10.557331</td>\n",
       "      <td>18.934774</td>\n",
       "      <td>48.314256</td>\n",
       "      <td>-23.565839</td>\n",
       "    </tr>\n",
       "    <tr>\n",
       "      <th>2002-08-30</th>\n",
       "      <td>-9.687339</td>\n",
       "      <td>19.805007</td>\n",
       "      <td>48.863627</td>\n",
       "      <td>-24.671885</td>\n",
       "    </tr>\n",
       "    <tr>\n",
       "      <th>2002-08-31</th>\n",
       "      <td>-8.014046</td>\n",
       "      <td>18.510892</td>\n",
       "      <td>47.621855</td>\n",
       "      <td>-24.408615</td>\n",
       "    </tr>\n",
       "    <tr>\n",
       "      <th>2002-09-01</th>\n",
       "      <td>-7.350029</td>\n",
       "      <td>18.658700</td>\n",
       "      <td>46.175203</td>\n",
       "      <td>-24.867633</td>\n",
       "    </tr>\n",
       "    <tr>\n",
       "      <th>2002-09-02</th>\n",
       "      <td>-8.973015</td>\n",
       "      <td>18.995904</td>\n",
       "      <td>45.581944</td>\n",
       "      <td>-25.715184</td>\n",
       "    </tr>\n",
       "    <tr>\n",
       "      <th>2002-09-03</th>\n",
       "      <td>-11.094758</td>\n",
       "      <td>18.375867</td>\n",
       "      <td>45.314132</td>\n",
       "      <td>-26.776347</td>\n",
       "    </tr>\n",
       "    <tr>\n",
       "      <th>2002-09-04</th>\n",
       "      <td>-11.547597</td>\n",
       "      <td>19.976611</td>\n",
       "      <td>44.341451</td>\n",
       "      <td>-27.143322</td>\n",
       "    </tr>\n",
       "    <tr>\n",
       "      <th>2002-09-05</th>\n",
       "      <td>-11.518274</td>\n",
       "      <td>19.241733</td>\n",
       "      <td>44.578409</td>\n",
       "      <td>-24.960253</td>\n",
       "    </tr>\n",
       "    <tr>\n",
       "      <th>2002-09-06</th>\n",
       "      <td>-11.949702</td>\n",
       "      <td>17.875829</td>\n",
       "      <td>44.942500</td>\n",
       "      <td>-24.377662</td>\n",
       "    </tr>\n",
       "    <tr>\n",
       "      <th>2002-09-07</th>\n",
       "      <td>-12.290451</td>\n",
       "      <td>19.027735</td>\n",
       "      <td>44.517981</td>\n",
       "      <td>-25.490992</td>\n",
       "    </tr>\n",
       "    <tr>\n",
       "      <th>2002-09-08</th>\n",
       "      <td>-13.514139</td>\n",
       "      <td>19.250177</td>\n",
       "      <td>43.713504</td>\n",
       "      <td>-25.410096</td>\n",
       "    </tr>\n",
       "    <tr>\n",
       "      <th>2002-09-09</th>\n",
       "      <td>-15.734194</td>\n",
       "      <td>19.923971</td>\n",
       "      <td>43.216254</td>\n",
       "      <td>-24.539508</td>\n",
       "    </tr>\n",
       "    <tr>\n",
       "      <th>2002-09-10</th>\n",
       "      <td>-16.323686</td>\n",
       "      <td>19.613307</td>\n",
       "      <td>43.749389</td>\n",
       "      <td>-24.724387</td>\n",
       "    </tr>\n",
       "    <tr>\n",
       "      <th>2002-09-11</th>\n",
       "      <td>-16.287420</td>\n",
       "      <td>19.635036</td>\n",
       "      <td>45.489175</td>\n",
       "      <td>-25.394549</td>\n",
       "    </tr>\n",
       "    <tr>\n",
       "      <th>2002-09-12</th>\n",
       "      <td>-14.488543</td>\n",
       "      <td>19.076926</td>\n",
       "      <td>44.501830</td>\n",
       "      <td>-25.961633</td>\n",
       "    </tr>\n",
       "    <tr>\n",
       "      <th>2002-09-13</th>\n",
       "      <td>-15.961237</td>\n",
       "      <td>18.653736</td>\n",
       "      <td>43.002388</td>\n",
       "      <td>-25.203803</td>\n",
       "    </tr>\n",
       "    <tr>\n",
       "      <th>2002-09-14</th>\n",
       "      <td>-15.926386</td>\n",
       "      <td>20.043978</td>\n",
       "      <td>42.998637</td>\n",
       "      <td>-25.878264</td>\n",
       "    </tr>\n",
       "    <tr>\n",
       "      <th>2002-09-15</th>\n",
       "      <td>-13.244282</td>\n",
       "      <td>18.048319</td>\n",
       "      <td>44.630891</td>\n",
       "      <td>-25.558253</td>\n",
       "    </tr>\n",
       "    <tr>\n",
       "      <th>2002-09-16</th>\n",
       "      <td>-14.691705</td>\n",
       "      <td>16.617367</td>\n",
       "      <td>44.970679</td>\n",
       "      <td>-26.216062</td>\n",
       "    </tr>\n",
       "    <tr>\n",
       "      <th>2002-09-17</th>\n",
       "      <td>-14.773831</td>\n",
       "      <td>15.894343</td>\n",
       "      <td>44.948469</td>\n",
       "      <td>-25.279770</td>\n",
       "    </tr>\n",
       "    <tr>\n",
       "      <th>2002-09-18</th>\n",
       "      <td>-14.669068</td>\n",
       "      <td>15.464898</td>\n",
       "      <td>45.424701</td>\n",
       "      <td>-24.360965</td>\n",
       "    </tr>\n",
       "    <tr>\n",
       "      <th>2002-09-19</th>\n",
       "      <td>-14.244830</td>\n",
       "      <td>15.587253</td>\n",
       "      <td>45.071891</td>\n",
       "      <td>-25.618821</td>\n",
       "    </tr>\n",
       "    <tr>\n",
       "      <th>2002-09-20</th>\n",
       "      <td>-13.827522</td>\n",
       "      <td>13.555318</td>\n",
       "      <td>43.688204</td>\n",
       "      <td>-24.841531</td>\n",
       "    </tr>\n",
       "    <tr>\n",
       "      <th>2002-09-21</th>\n",
       "      <td>-15.409758</td>\n",
       "      <td>12.457480</td>\n",
       "      <td>44.148996</td>\n",
       "      <td>-26.927048</td>\n",
       "    </tr>\n",
       "    <tr>\n",
       "      <th>2002-09-22</th>\n",
       "      <td>-16.397222</td>\n",
       "      <td>12.560276</td>\n",
       "      <td>44.021746</td>\n",
       "      <td>-27.093399</td>\n",
       "    </tr>\n",
       "    <tr>\n",
       "      <th>2002-09-23</th>\n",
       "      <td>-16.660789</td>\n",
       "      <td>11.860017</td>\n",
       "      <td>45.016304</td>\n",
       "      <td>-27.639698</td>\n",
       "    </tr>\n",
       "    <tr>\n",
       "      <th>2002-09-24</th>\n",
       "      <td>-15.495268</td>\n",
       "      <td>11.548755</td>\n",
       "      <td>45.212512</td>\n",
       "      <td>-26.586830</td>\n",
       "    </tr>\n",
       "    <tr>\n",
       "      <th>2002-09-25</th>\n",
       "      <td>-16.306797</td>\n",
       "      <td>10.202275</td>\n",
       "      <td>43.378692</td>\n",
       "      <td>-25.106181</td>\n",
       "    </tr>\n",
       "    <tr>\n",
       "      <th>2002-09-26</th>\n",
       "      <td>-16.659455</td>\n",
       "      <td>11.145374</td>\n",
       "      <td>43.244345</td>\n",
       "      <td>-24.792008</td>\n",
       "    </tr>\n",
       "  </tbody>\n",
       "</table>\n",
       "<p>1000 rows × 4 columns</p>\n",
       "</div>"
      ],
      "text/plain": [
       "                    A          B          C          D\n",
       "2000-01-01  -1.052675  -1.079745  -0.429653   1.068676\n",
       "2000-01-02  -1.204335  -1.577764  -0.314006  -0.628149\n",
       "2000-01-03  -0.397834  -3.155066  -0.170463  -2.294329\n",
       "2000-01-04  -1.208545  -3.584160   0.036680  -2.581253\n",
       "2000-01-05   0.854216  -3.918904  -0.014121  -2.977005\n",
       "2000-01-06   0.794161  -4.352799   2.094510  -3.997918\n",
       "2000-01-07   3.147353  -5.246595   0.866241  -3.763260\n",
       "2000-01-08   3.406283  -4.686972   1.499426  -3.076550\n",
       "2000-01-09   4.908516  -2.482148   2.552748  -3.409531\n",
       "2000-01-10   4.691494  -1.613945   4.391728  -2.624454\n",
       "2000-01-11   4.277620  -2.184673   3.991033  -3.432967\n",
       "2000-01-12   3.723826  -2.828512   2.900524  -3.645801\n",
       "2000-01-13   3.263747  -3.123224   2.108769  -4.030557\n",
       "2000-01-14   4.001345  -4.282655   0.566300  -4.928733\n",
       "2000-01-15   4.965761  -5.915332   0.979601  -6.762061\n",
       "2000-01-16   5.156287  -5.950692   0.000226  -6.398753\n",
       "2000-01-17   4.271473  -5.939189  -1.376677  -6.584674\n",
       "2000-01-18   3.873772  -6.071141  -2.300331  -6.764224\n",
       "2000-01-19   3.303885  -4.554566  -1.918082  -6.305330\n",
       "2000-01-20   4.245517  -4.827777  -3.317145  -6.188204\n",
       "2000-01-21   3.550121  -5.588223  -4.158345  -6.475043\n",
       "2000-01-22   2.160205  -5.460111  -6.129560  -7.533260\n",
       "2000-01-23   2.238119  -5.170590  -6.154223  -7.458907\n",
       "2000-01-24   2.509762  -5.202698  -6.750535  -7.424051\n",
       "2000-01-25   2.527405  -3.570563  -6.190750  -7.012097\n",
       "2000-01-26   2.764612  -5.930319  -6.248939  -5.893125\n",
       "2000-01-27   1.972203  -3.711100  -7.493834  -3.984400\n",
       "2000-01-28   2.710270  -2.743620  -6.028738  -3.834532\n",
       "2000-01-29   2.052401  -4.087858  -6.499054  -3.248989\n",
       "2000-01-30   1.805977  -2.735681  -5.376698  -3.159810\n",
       "...               ...        ...        ...        ...\n",
       "2002-08-28  -8.902927  19.615269  48.215092 -23.948689\n",
       "2002-08-29 -10.557331  18.934774  48.314256 -23.565839\n",
       "2002-08-30  -9.687339  19.805007  48.863627 -24.671885\n",
       "2002-08-31  -8.014046  18.510892  47.621855 -24.408615\n",
       "2002-09-01  -7.350029  18.658700  46.175203 -24.867633\n",
       "2002-09-02  -8.973015  18.995904  45.581944 -25.715184\n",
       "2002-09-03 -11.094758  18.375867  45.314132 -26.776347\n",
       "2002-09-04 -11.547597  19.976611  44.341451 -27.143322\n",
       "2002-09-05 -11.518274  19.241733  44.578409 -24.960253\n",
       "2002-09-06 -11.949702  17.875829  44.942500 -24.377662\n",
       "2002-09-07 -12.290451  19.027735  44.517981 -25.490992\n",
       "2002-09-08 -13.514139  19.250177  43.713504 -25.410096\n",
       "2002-09-09 -15.734194  19.923971  43.216254 -24.539508\n",
       "2002-09-10 -16.323686  19.613307  43.749389 -24.724387\n",
       "2002-09-11 -16.287420  19.635036  45.489175 -25.394549\n",
       "2002-09-12 -14.488543  19.076926  44.501830 -25.961633\n",
       "2002-09-13 -15.961237  18.653736  43.002388 -25.203803\n",
       "2002-09-14 -15.926386  20.043978  42.998637 -25.878264\n",
       "2002-09-15 -13.244282  18.048319  44.630891 -25.558253\n",
       "2002-09-16 -14.691705  16.617367  44.970679 -26.216062\n",
       "2002-09-17 -14.773831  15.894343  44.948469 -25.279770\n",
       "2002-09-18 -14.669068  15.464898  45.424701 -24.360965\n",
       "2002-09-19 -14.244830  15.587253  45.071891 -25.618821\n",
       "2002-09-20 -13.827522  13.555318  43.688204 -24.841531\n",
       "2002-09-21 -15.409758  12.457480  44.148996 -26.927048\n",
       "2002-09-22 -16.397222  12.560276  44.021746 -27.093399\n",
       "2002-09-23 -16.660789  11.860017  45.016304 -27.639698\n",
       "2002-09-24 -15.495268  11.548755  45.212512 -26.586830\n",
       "2002-09-25 -16.306797  10.202275  43.378692 -25.106181\n",
       "2002-09-26 -16.659455  11.145374  43.244345 -24.792008\n",
       "\n",
       "[1000 rows x 4 columns]"
      ]
     },
     "execution_count": 133,
     "metadata": {},
     "output_type": "execute_result"
    }
   ],
   "source": [
    "pd.read_hdf('foo.h5','df')"
   ]
  },
  {
   "cell_type": "code",
   "execution_count": 134,
   "metadata": {},
   "outputs": [],
   "source": [
    "df.to_excel('foo.xlsx', sheet_name='Sheet1')"
   ]
  },
  {
   "cell_type": "code",
   "execution_count": 135,
   "metadata": {},
   "outputs": [
    {
     "data": {
      "text/html": [
       "<div>\n",
       "<style scoped>\n",
       "    .dataframe tbody tr th:only-of-type {\n",
       "        vertical-align: middle;\n",
       "    }\n",
       "\n",
       "    .dataframe tbody tr th {\n",
       "        vertical-align: top;\n",
       "    }\n",
       "\n",
       "    .dataframe thead th {\n",
       "        text-align: right;\n",
       "    }\n",
       "</style>\n",
       "<table border=\"1\" class=\"dataframe\">\n",
       "  <thead>\n",
       "    <tr style=\"text-align: right;\">\n",
       "      <th></th>\n",
       "      <th>A</th>\n",
       "      <th>B</th>\n",
       "      <th>C</th>\n",
       "      <th>D</th>\n",
       "    </tr>\n",
       "  </thead>\n",
       "  <tbody>\n",
       "    <tr>\n",
       "      <th>2000-01-01</th>\n",
       "      <td>-1.052675</td>\n",
       "      <td>-1.079745</td>\n",
       "      <td>-0.429653</td>\n",
       "      <td>1.068676</td>\n",
       "    </tr>\n",
       "    <tr>\n",
       "      <th>2000-01-02</th>\n",
       "      <td>-1.204335</td>\n",
       "      <td>-1.577764</td>\n",
       "      <td>-0.314006</td>\n",
       "      <td>-0.628149</td>\n",
       "    </tr>\n",
       "    <tr>\n",
       "      <th>2000-01-03</th>\n",
       "      <td>-0.397834</td>\n",
       "      <td>-3.155066</td>\n",
       "      <td>-0.170463</td>\n",
       "      <td>-2.294329</td>\n",
       "    </tr>\n",
       "    <tr>\n",
       "      <th>2000-01-04</th>\n",
       "      <td>-1.208545</td>\n",
       "      <td>-3.584160</td>\n",
       "      <td>0.036680</td>\n",
       "      <td>-2.581253</td>\n",
       "    </tr>\n",
       "    <tr>\n",
       "      <th>2000-01-05</th>\n",
       "      <td>0.854216</td>\n",
       "      <td>-3.918904</td>\n",
       "      <td>-0.014121</td>\n",
       "      <td>-2.977005</td>\n",
       "    </tr>\n",
       "    <tr>\n",
       "      <th>2000-01-06</th>\n",
       "      <td>0.794161</td>\n",
       "      <td>-4.352799</td>\n",
       "      <td>2.094510</td>\n",
       "      <td>-3.997918</td>\n",
       "    </tr>\n",
       "    <tr>\n",
       "      <th>2000-01-07</th>\n",
       "      <td>3.147353</td>\n",
       "      <td>-5.246595</td>\n",
       "      <td>0.866241</td>\n",
       "      <td>-3.763260</td>\n",
       "    </tr>\n",
       "    <tr>\n",
       "      <th>2000-01-08</th>\n",
       "      <td>3.406283</td>\n",
       "      <td>-4.686972</td>\n",
       "      <td>1.499426</td>\n",
       "      <td>-3.076550</td>\n",
       "    </tr>\n",
       "    <tr>\n",
       "      <th>2000-01-09</th>\n",
       "      <td>4.908516</td>\n",
       "      <td>-2.482148</td>\n",
       "      <td>2.552748</td>\n",
       "      <td>-3.409531</td>\n",
       "    </tr>\n",
       "    <tr>\n",
       "      <th>2000-01-10</th>\n",
       "      <td>4.691494</td>\n",
       "      <td>-1.613945</td>\n",
       "      <td>4.391728</td>\n",
       "      <td>-2.624454</td>\n",
       "    </tr>\n",
       "    <tr>\n",
       "      <th>2000-01-11</th>\n",
       "      <td>4.277620</td>\n",
       "      <td>-2.184673</td>\n",
       "      <td>3.991033</td>\n",
       "      <td>-3.432967</td>\n",
       "    </tr>\n",
       "    <tr>\n",
       "      <th>2000-01-12</th>\n",
       "      <td>3.723826</td>\n",
       "      <td>-2.828512</td>\n",
       "      <td>2.900524</td>\n",
       "      <td>-3.645801</td>\n",
       "    </tr>\n",
       "    <tr>\n",
       "      <th>2000-01-13</th>\n",
       "      <td>3.263747</td>\n",
       "      <td>-3.123224</td>\n",
       "      <td>2.108769</td>\n",
       "      <td>-4.030557</td>\n",
       "    </tr>\n",
       "    <tr>\n",
       "      <th>2000-01-14</th>\n",
       "      <td>4.001345</td>\n",
       "      <td>-4.282655</td>\n",
       "      <td>0.566300</td>\n",
       "      <td>-4.928733</td>\n",
       "    </tr>\n",
       "    <tr>\n",
       "      <th>2000-01-15</th>\n",
       "      <td>4.965761</td>\n",
       "      <td>-5.915332</td>\n",
       "      <td>0.979601</td>\n",
       "      <td>-6.762061</td>\n",
       "    </tr>\n",
       "    <tr>\n",
       "      <th>2000-01-16</th>\n",
       "      <td>5.156287</td>\n",
       "      <td>-5.950692</td>\n",
       "      <td>0.000226</td>\n",
       "      <td>-6.398753</td>\n",
       "    </tr>\n",
       "    <tr>\n",
       "      <th>2000-01-17</th>\n",
       "      <td>4.271473</td>\n",
       "      <td>-5.939189</td>\n",
       "      <td>-1.376677</td>\n",
       "      <td>-6.584674</td>\n",
       "    </tr>\n",
       "    <tr>\n",
       "      <th>2000-01-18</th>\n",
       "      <td>3.873772</td>\n",
       "      <td>-6.071141</td>\n",
       "      <td>-2.300331</td>\n",
       "      <td>-6.764224</td>\n",
       "    </tr>\n",
       "    <tr>\n",
       "      <th>2000-01-19</th>\n",
       "      <td>3.303885</td>\n",
       "      <td>-4.554566</td>\n",
       "      <td>-1.918082</td>\n",
       "      <td>-6.305330</td>\n",
       "    </tr>\n",
       "    <tr>\n",
       "      <th>2000-01-20</th>\n",
       "      <td>4.245517</td>\n",
       "      <td>-4.827777</td>\n",
       "      <td>-3.317145</td>\n",
       "      <td>-6.188204</td>\n",
       "    </tr>\n",
       "    <tr>\n",
       "      <th>2000-01-21</th>\n",
       "      <td>3.550121</td>\n",
       "      <td>-5.588223</td>\n",
       "      <td>-4.158345</td>\n",
       "      <td>-6.475043</td>\n",
       "    </tr>\n",
       "    <tr>\n",
       "      <th>2000-01-22</th>\n",
       "      <td>2.160205</td>\n",
       "      <td>-5.460111</td>\n",
       "      <td>-6.129560</td>\n",
       "      <td>-7.533260</td>\n",
       "    </tr>\n",
       "    <tr>\n",
       "      <th>2000-01-23</th>\n",
       "      <td>2.238119</td>\n",
       "      <td>-5.170590</td>\n",
       "      <td>-6.154223</td>\n",
       "      <td>-7.458907</td>\n",
       "    </tr>\n",
       "    <tr>\n",
       "      <th>2000-01-24</th>\n",
       "      <td>2.509762</td>\n",
       "      <td>-5.202698</td>\n",
       "      <td>-6.750535</td>\n",
       "      <td>-7.424051</td>\n",
       "    </tr>\n",
       "    <tr>\n",
       "      <th>2000-01-25</th>\n",
       "      <td>2.527405</td>\n",
       "      <td>-3.570563</td>\n",
       "      <td>-6.190750</td>\n",
       "      <td>-7.012097</td>\n",
       "    </tr>\n",
       "    <tr>\n",
       "      <th>2000-01-26</th>\n",
       "      <td>2.764612</td>\n",
       "      <td>-5.930319</td>\n",
       "      <td>-6.248939</td>\n",
       "      <td>-5.893125</td>\n",
       "    </tr>\n",
       "    <tr>\n",
       "      <th>2000-01-27</th>\n",
       "      <td>1.972203</td>\n",
       "      <td>-3.711100</td>\n",
       "      <td>-7.493834</td>\n",
       "      <td>-3.984400</td>\n",
       "    </tr>\n",
       "    <tr>\n",
       "      <th>2000-01-28</th>\n",
       "      <td>2.710270</td>\n",
       "      <td>-2.743620</td>\n",
       "      <td>-6.028738</td>\n",
       "      <td>-3.834532</td>\n",
       "    </tr>\n",
       "    <tr>\n",
       "      <th>2000-01-29</th>\n",
       "      <td>2.052401</td>\n",
       "      <td>-4.087858</td>\n",
       "      <td>-6.499054</td>\n",
       "      <td>-3.248989</td>\n",
       "    </tr>\n",
       "    <tr>\n",
       "      <th>2000-01-30</th>\n",
       "      <td>1.805977</td>\n",
       "      <td>-2.735681</td>\n",
       "      <td>-5.376698</td>\n",
       "      <td>-3.159810</td>\n",
       "    </tr>\n",
       "    <tr>\n",
       "      <th>...</th>\n",
       "      <td>...</td>\n",
       "      <td>...</td>\n",
       "      <td>...</td>\n",
       "      <td>...</td>\n",
       "    </tr>\n",
       "    <tr>\n",
       "      <th>2002-08-28</th>\n",
       "      <td>-8.902927</td>\n",
       "      <td>19.615269</td>\n",
       "      <td>48.215092</td>\n",
       "      <td>-23.948689</td>\n",
       "    </tr>\n",
       "    <tr>\n",
       "      <th>2002-08-29</th>\n",
       "      <td>-10.557331</td>\n",
       "      <td>18.934774</td>\n",
       "      <td>48.314256</td>\n",
       "      <td>-23.565839</td>\n",
       "    </tr>\n",
       "    <tr>\n",
       "      <th>2002-08-30</th>\n",
       "      <td>-9.687339</td>\n",
       "      <td>19.805007</td>\n",
       "      <td>48.863627</td>\n",
       "      <td>-24.671885</td>\n",
       "    </tr>\n",
       "    <tr>\n",
       "      <th>2002-08-31</th>\n",
       "      <td>-8.014046</td>\n",
       "      <td>18.510892</td>\n",
       "      <td>47.621855</td>\n",
       "      <td>-24.408615</td>\n",
       "    </tr>\n",
       "    <tr>\n",
       "      <th>2002-09-01</th>\n",
       "      <td>-7.350029</td>\n",
       "      <td>18.658700</td>\n",
       "      <td>46.175203</td>\n",
       "      <td>-24.867633</td>\n",
       "    </tr>\n",
       "    <tr>\n",
       "      <th>2002-09-02</th>\n",
       "      <td>-8.973015</td>\n",
       "      <td>18.995904</td>\n",
       "      <td>45.581944</td>\n",
       "      <td>-25.715184</td>\n",
       "    </tr>\n",
       "    <tr>\n",
       "      <th>2002-09-03</th>\n",
       "      <td>-11.094758</td>\n",
       "      <td>18.375867</td>\n",
       "      <td>45.314132</td>\n",
       "      <td>-26.776347</td>\n",
       "    </tr>\n",
       "    <tr>\n",
       "      <th>2002-09-04</th>\n",
       "      <td>-11.547597</td>\n",
       "      <td>19.976611</td>\n",
       "      <td>44.341451</td>\n",
       "      <td>-27.143322</td>\n",
       "    </tr>\n",
       "    <tr>\n",
       "      <th>2002-09-05</th>\n",
       "      <td>-11.518274</td>\n",
       "      <td>19.241733</td>\n",
       "      <td>44.578409</td>\n",
       "      <td>-24.960253</td>\n",
       "    </tr>\n",
       "    <tr>\n",
       "      <th>2002-09-06</th>\n",
       "      <td>-11.949702</td>\n",
       "      <td>17.875829</td>\n",
       "      <td>44.942500</td>\n",
       "      <td>-24.377662</td>\n",
       "    </tr>\n",
       "    <tr>\n",
       "      <th>2002-09-07</th>\n",
       "      <td>-12.290451</td>\n",
       "      <td>19.027735</td>\n",
       "      <td>44.517981</td>\n",
       "      <td>-25.490992</td>\n",
       "    </tr>\n",
       "    <tr>\n",
       "      <th>2002-09-08</th>\n",
       "      <td>-13.514139</td>\n",
       "      <td>19.250177</td>\n",
       "      <td>43.713504</td>\n",
       "      <td>-25.410096</td>\n",
       "    </tr>\n",
       "    <tr>\n",
       "      <th>2002-09-09</th>\n",
       "      <td>-15.734194</td>\n",
       "      <td>19.923971</td>\n",
       "      <td>43.216254</td>\n",
       "      <td>-24.539508</td>\n",
       "    </tr>\n",
       "    <tr>\n",
       "      <th>2002-09-10</th>\n",
       "      <td>-16.323686</td>\n",
       "      <td>19.613307</td>\n",
       "      <td>43.749389</td>\n",
       "      <td>-24.724387</td>\n",
       "    </tr>\n",
       "    <tr>\n",
       "      <th>2002-09-11</th>\n",
       "      <td>-16.287420</td>\n",
       "      <td>19.635036</td>\n",
       "      <td>45.489175</td>\n",
       "      <td>-25.394549</td>\n",
       "    </tr>\n",
       "    <tr>\n",
       "      <th>2002-09-12</th>\n",
       "      <td>-14.488543</td>\n",
       "      <td>19.076926</td>\n",
       "      <td>44.501830</td>\n",
       "      <td>-25.961633</td>\n",
       "    </tr>\n",
       "    <tr>\n",
       "      <th>2002-09-13</th>\n",
       "      <td>-15.961237</td>\n",
       "      <td>18.653736</td>\n",
       "      <td>43.002388</td>\n",
       "      <td>-25.203803</td>\n",
       "    </tr>\n",
       "    <tr>\n",
       "      <th>2002-09-14</th>\n",
       "      <td>-15.926386</td>\n",
       "      <td>20.043978</td>\n",
       "      <td>42.998637</td>\n",
       "      <td>-25.878264</td>\n",
       "    </tr>\n",
       "    <tr>\n",
       "      <th>2002-09-15</th>\n",
       "      <td>-13.244282</td>\n",
       "      <td>18.048319</td>\n",
       "      <td>44.630891</td>\n",
       "      <td>-25.558253</td>\n",
       "    </tr>\n",
       "    <tr>\n",
       "      <th>2002-09-16</th>\n",
       "      <td>-14.691705</td>\n",
       "      <td>16.617367</td>\n",
       "      <td>44.970679</td>\n",
       "      <td>-26.216062</td>\n",
       "    </tr>\n",
       "    <tr>\n",
       "      <th>2002-09-17</th>\n",
       "      <td>-14.773831</td>\n",
       "      <td>15.894343</td>\n",
       "      <td>44.948469</td>\n",
       "      <td>-25.279770</td>\n",
       "    </tr>\n",
       "    <tr>\n",
       "      <th>2002-09-18</th>\n",
       "      <td>-14.669068</td>\n",
       "      <td>15.464898</td>\n",
       "      <td>45.424701</td>\n",
       "      <td>-24.360965</td>\n",
       "    </tr>\n",
       "    <tr>\n",
       "      <th>2002-09-19</th>\n",
       "      <td>-14.244830</td>\n",
       "      <td>15.587253</td>\n",
       "      <td>45.071891</td>\n",
       "      <td>-25.618821</td>\n",
       "    </tr>\n",
       "    <tr>\n",
       "      <th>2002-09-20</th>\n",
       "      <td>-13.827522</td>\n",
       "      <td>13.555318</td>\n",
       "      <td>43.688204</td>\n",
       "      <td>-24.841531</td>\n",
       "    </tr>\n",
       "    <tr>\n",
       "      <th>2002-09-21</th>\n",
       "      <td>-15.409758</td>\n",
       "      <td>12.457480</td>\n",
       "      <td>44.148996</td>\n",
       "      <td>-26.927048</td>\n",
       "    </tr>\n",
       "    <tr>\n",
       "      <th>2002-09-22</th>\n",
       "      <td>-16.397222</td>\n",
       "      <td>12.560276</td>\n",
       "      <td>44.021746</td>\n",
       "      <td>-27.093399</td>\n",
       "    </tr>\n",
       "    <tr>\n",
       "      <th>2002-09-23</th>\n",
       "      <td>-16.660789</td>\n",
       "      <td>11.860017</td>\n",
       "      <td>45.016304</td>\n",
       "      <td>-27.639698</td>\n",
       "    </tr>\n",
       "    <tr>\n",
       "      <th>2002-09-24</th>\n",
       "      <td>-15.495268</td>\n",
       "      <td>11.548755</td>\n",
       "      <td>45.212512</td>\n",
       "      <td>-26.586830</td>\n",
       "    </tr>\n",
       "    <tr>\n",
       "      <th>2002-09-25</th>\n",
       "      <td>-16.306797</td>\n",
       "      <td>10.202275</td>\n",
       "      <td>43.378692</td>\n",
       "      <td>-25.106181</td>\n",
       "    </tr>\n",
       "    <tr>\n",
       "      <th>2002-09-26</th>\n",
       "      <td>-16.659455</td>\n",
       "      <td>11.145374</td>\n",
       "      <td>43.244345</td>\n",
       "      <td>-24.792008</td>\n",
       "    </tr>\n",
       "  </tbody>\n",
       "</table>\n",
       "<p>1000 rows × 4 columns</p>\n",
       "</div>"
      ],
      "text/plain": [
       "                    A          B          C          D\n",
       "2000-01-01  -1.052675  -1.079745  -0.429653   1.068676\n",
       "2000-01-02  -1.204335  -1.577764  -0.314006  -0.628149\n",
       "2000-01-03  -0.397834  -3.155066  -0.170463  -2.294329\n",
       "2000-01-04  -1.208545  -3.584160   0.036680  -2.581253\n",
       "2000-01-05   0.854216  -3.918904  -0.014121  -2.977005\n",
       "2000-01-06   0.794161  -4.352799   2.094510  -3.997918\n",
       "2000-01-07   3.147353  -5.246595   0.866241  -3.763260\n",
       "2000-01-08   3.406283  -4.686972   1.499426  -3.076550\n",
       "2000-01-09   4.908516  -2.482148   2.552748  -3.409531\n",
       "2000-01-10   4.691494  -1.613945   4.391728  -2.624454\n",
       "2000-01-11   4.277620  -2.184673   3.991033  -3.432967\n",
       "2000-01-12   3.723826  -2.828512   2.900524  -3.645801\n",
       "2000-01-13   3.263747  -3.123224   2.108769  -4.030557\n",
       "2000-01-14   4.001345  -4.282655   0.566300  -4.928733\n",
       "2000-01-15   4.965761  -5.915332   0.979601  -6.762061\n",
       "2000-01-16   5.156287  -5.950692   0.000226  -6.398753\n",
       "2000-01-17   4.271473  -5.939189  -1.376677  -6.584674\n",
       "2000-01-18   3.873772  -6.071141  -2.300331  -6.764224\n",
       "2000-01-19   3.303885  -4.554566  -1.918082  -6.305330\n",
       "2000-01-20   4.245517  -4.827777  -3.317145  -6.188204\n",
       "2000-01-21   3.550121  -5.588223  -4.158345  -6.475043\n",
       "2000-01-22   2.160205  -5.460111  -6.129560  -7.533260\n",
       "2000-01-23   2.238119  -5.170590  -6.154223  -7.458907\n",
       "2000-01-24   2.509762  -5.202698  -6.750535  -7.424051\n",
       "2000-01-25   2.527405  -3.570563  -6.190750  -7.012097\n",
       "2000-01-26   2.764612  -5.930319  -6.248939  -5.893125\n",
       "2000-01-27   1.972203  -3.711100  -7.493834  -3.984400\n",
       "2000-01-28   2.710270  -2.743620  -6.028738  -3.834532\n",
       "2000-01-29   2.052401  -4.087858  -6.499054  -3.248989\n",
       "2000-01-30   1.805977  -2.735681  -5.376698  -3.159810\n",
       "...               ...        ...        ...        ...\n",
       "2002-08-28  -8.902927  19.615269  48.215092 -23.948689\n",
       "2002-08-29 -10.557331  18.934774  48.314256 -23.565839\n",
       "2002-08-30  -9.687339  19.805007  48.863627 -24.671885\n",
       "2002-08-31  -8.014046  18.510892  47.621855 -24.408615\n",
       "2002-09-01  -7.350029  18.658700  46.175203 -24.867633\n",
       "2002-09-02  -8.973015  18.995904  45.581944 -25.715184\n",
       "2002-09-03 -11.094758  18.375867  45.314132 -26.776347\n",
       "2002-09-04 -11.547597  19.976611  44.341451 -27.143322\n",
       "2002-09-05 -11.518274  19.241733  44.578409 -24.960253\n",
       "2002-09-06 -11.949702  17.875829  44.942500 -24.377662\n",
       "2002-09-07 -12.290451  19.027735  44.517981 -25.490992\n",
       "2002-09-08 -13.514139  19.250177  43.713504 -25.410096\n",
       "2002-09-09 -15.734194  19.923971  43.216254 -24.539508\n",
       "2002-09-10 -16.323686  19.613307  43.749389 -24.724387\n",
       "2002-09-11 -16.287420  19.635036  45.489175 -25.394549\n",
       "2002-09-12 -14.488543  19.076926  44.501830 -25.961633\n",
       "2002-09-13 -15.961237  18.653736  43.002388 -25.203803\n",
       "2002-09-14 -15.926386  20.043978  42.998637 -25.878264\n",
       "2002-09-15 -13.244282  18.048319  44.630891 -25.558253\n",
       "2002-09-16 -14.691705  16.617367  44.970679 -26.216062\n",
       "2002-09-17 -14.773831  15.894343  44.948469 -25.279770\n",
       "2002-09-18 -14.669068  15.464898  45.424701 -24.360965\n",
       "2002-09-19 -14.244830  15.587253  45.071891 -25.618821\n",
       "2002-09-20 -13.827522  13.555318  43.688204 -24.841531\n",
       "2002-09-21 -15.409758  12.457480  44.148996 -26.927048\n",
       "2002-09-22 -16.397222  12.560276  44.021746 -27.093399\n",
       "2002-09-23 -16.660789  11.860017  45.016304 -27.639698\n",
       "2002-09-24 -15.495268  11.548755  45.212512 -26.586830\n",
       "2002-09-25 -16.306797  10.202275  43.378692 -25.106181\n",
       "2002-09-26 -16.659455  11.145374  43.244345 -24.792008\n",
       "\n",
       "[1000 rows x 4 columns]"
      ]
     },
     "execution_count": 135,
     "metadata": {},
     "output_type": "execute_result"
    }
   ],
   "source": [
    "pd.read_excel('foo.xlsx', 'Sheet1', index_col=None, na_values=['NA'])"
   ]
  },
  {
   "cell_type": "markdown",
   "metadata": {},
   "source": [
    "# Gotchas"
   ]
  },
  {
   "cell_type": "code",
   "execution_count": 136,
   "metadata": {},
   "outputs": [
    {
     "ename": "ValueError",
     "evalue": "The truth value of a Series is ambiguous. Use a.empty, a.bool(), a.item(), a.any() or a.all().",
     "output_type": "error",
     "traceback": [
      "\u001b[1;31m---------------------------------------------------------------------------\u001b[0m",
      "\u001b[1;31mValueError\u001b[0m                                Traceback (most recent call last)",
      "\u001b[1;32m<ipython-input-136-f202645ea233>\u001b[0m in \u001b[0;36m<module>\u001b[1;34m()\u001b[0m\n\u001b[1;32m----> 1\u001b[1;33m \u001b[1;32mif\u001b[0m \u001b[0mpd\u001b[0m\u001b[1;33m.\u001b[0m\u001b[0mSeries\u001b[0m\u001b[1;33m(\u001b[0m\u001b[1;33m[\u001b[0m\u001b[1;32mFalse\u001b[0m\u001b[1;33m,\u001b[0m \u001b[1;32mTrue\u001b[0m\u001b[1;33m,\u001b[0m \u001b[1;32mFalse\u001b[0m\u001b[1;33m]\u001b[0m\u001b[1;33m)\u001b[0m\u001b[1;33m:\u001b[0m\u001b[1;33m\u001b[0m\u001b[0m\n\u001b[0m\u001b[0;32m      2\u001b[0m     \u001b[0mprint\u001b[0m\u001b[1;33m(\u001b[0m\u001b[1;34m\"I was true\"\u001b[0m\u001b[1;33m)\u001b[0m\u001b[1;33m\u001b[0m\u001b[0m\n\u001b[0;32m      3\u001b[0m \u001b[0mTraceback\u001b[0m\u001b[1;33m\u001b[0m\u001b[0m\n",
      "\u001b[1;32m~\\Anaconda3\\lib\\site-packages\\pandas\\core\\generic.py\u001b[0m in \u001b[0;36m__nonzero__\u001b[1;34m(self)\u001b[0m\n\u001b[0;32m   1574\u001b[0m         raise ValueError(\"The truth value of a {0} is ambiguous. \"\n\u001b[0;32m   1575\u001b[0m                          \u001b[1;34m\"Use a.empty, a.bool(), a.item(), a.any() or a.all().\"\u001b[0m\u001b[1;33m\u001b[0m\u001b[0m\n\u001b[1;32m-> 1576\u001b[1;33m                          .format(self.__class__.__name__))\n\u001b[0m\u001b[0;32m   1577\u001b[0m \u001b[1;33m\u001b[0m\u001b[0m\n\u001b[0;32m   1578\u001b[0m     \u001b[0m__bool__\u001b[0m \u001b[1;33m=\u001b[0m \u001b[0m__nonzero__\u001b[0m\u001b[1;33m\u001b[0m\u001b[0m\n",
      "\u001b[1;31mValueError\u001b[0m: The truth value of a Series is ambiguous. Use a.empty, a.bool(), a.item(), a.any() or a.all()."
     ]
    }
   ],
   "source": [
    "if pd.Series([False, True, False]):\n",
    "    print(\"I was true\")\n",
    "Traceback"
   ]
  },
  {
   "cell_type": "markdown",
   "metadata": {},
   "source": [
    "# Expanding"
   ]
  },
  {
   "cell_type": "code",
   "execution_count": 137,
   "metadata": {},
   "outputs": [
    {
     "data": {
      "text/html": [
       "<div>\n",
       "<style scoped>\n",
       "    .dataframe tbody tr th:only-of-type {\n",
       "        vertical-align: middle;\n",
       "    }\n",
       "\n",
       "    .dataframe tbody tr th {\n",
       "        vertical-align: top;\n",
       "    }\n",
       "\n",
       "    .dataframe thead th {\n",
       "        text-align: right;\n",
       "    }\n",
       "</style>\n",
       "<table border=\"1\" class=\"dataframe\">\n",
       "  <thead>\n",
       "    <tr style=\"text-align: right;\">\n",
       "      <th></th>\n",
       "      <th>AAA</th>\n",
       "      <th>BBB</th>\n",
       "      <th>CCC</th>\n",
       "    </tr>\n",
       "  </thead>\n",
       "  <tbody>\n",
       "    <tr>\n",
       "      <th>0</th>\n",
       "      <td>4</td>\n",
       "      <td>10</td>\n",
       "      <td>100</td>\n",
       "    </tr>\n",
       "    <tr>\n",
       "      <th>1</th>\n",
       "      <td>5</td>\n",
       "      <td>20</td>\n",
       "      <td>50</td>\n",
       "    </tr>\n",
       "    <tr>\n",
       "      <th>2</th>\n",
       "      <td>6</td>\n",
       "      <td>30</td>\n",
       "      <td>-30</td>\n",
       "    </tr>\n",
       "    <tr>\n",
       "      <th>3</th>\n",
       "      <td>7</td>\n",
       "      <td>40</td>\n",
       "      <td>-50</td>\n",
       "    </tr>\n",
       "  </tbody>\n",
       "</table>\n",
       "</div>"
      ],
      "text/plain": [
       "   AAA  BBB  CCC\n",
       "0    4   10  100\n",
       "1    5   20   50\n",
       "2    6   30  -30\n",
       "3    7   40  -50"
      ]
     },
     "execution_count": 137,
     "metadata": {},
     "output_type": "execute_result"
    }
   ],
   "source": [
    "df = pd.DataFrame(\n",
    "   ...:      {'AAA' : [4,5,6,7], 'BBB' : [10,20,30,40],'CCC' : [100,50,-30,-50]})\n",
    "df"
   ]
  },
  {
   "cell_type": "code",
   "execution_count": 138,
   "metadata": {},
   "outputs": [
    {
     "data": {
      "text/html": [
       "<div>\n",
       "<style scoped>\n",
       "    .dataframe tbody tr th:only-of-type {\n",
       "        vertical-align: middle;\n",
       "    }\n",
       "\n",
       "    .dataframe tbody tr th {\n",
       "        vertical-align: top;\n",
       "    }\n",
       "\n",
       "    .dataframe thead th {\n",
       "        text-align: right;\n",
       "    }\n",
       "</style>\n",
       "<table border=\"1\" class=\"dataframe\">\n",
       "  <thead>\n",
       "    <tr style=\"text-align: right;\">\n",
       "      <th></th>\n",
       "      <th>AAA</th>\n",
       "      <th>BBB</th>\n",
       "      <th>CCC</th>\n",
       "    </tr>\n",
       "  </thead>\n",
       "  <tbody>\n",
       "    <tr>\n",
       "      <th>0</th>\n",
       "      <td>4</td>\n",
       "      <td>10</td>\n",
       "      <td>100</td>\n",
       "    </tr>\n",
       "    <tr>\n",
       "      <th>1</th>\n",
       "      <td>5</td>\n",
       "      <td>-1</td>\n",
       "      <td>50</td>\n",
       "    </tr>\n",
       "    <tr>\n",
       "      <th>2</th>\n",
       "      <td>6</td>\n",
       "      <td>-1</td>\n",
       "      <td>-30</td>\n",
       "    </tr>\n",
       "    <tr>\n",
       "      <th>3</th>\n",
       "      <td>7</td>\n",
       "      <td>-1</td>\n",
       "      <td>-50</td>\n",
       "    </tr>\n",
       "  </tbody>\n",
       "</table>\n",
       "</div>"
      ],
      "text/plain": [
       "   AAA  BBB  CCC\n",
       "0    4   10  100\n",
       "1    5   -1   50\n",
       "2    6   -1  -30\n",
       "3    7   -1  -50"
      ]
     },
     "execution_count": 138,
     "metadata": {},
     "output_type": "execute_result"
    }
   ],
   "source": [
    "df.loc[df.AAA >= 5,'BBB'] = -1\n",
    "df"
   ]
  },
  {
   "cell_type": "code",
   "execution_count": 139,
   "metadata": {},
   "outputs": [
    {
     "data": {
      "text/html": [
       "<div>\n",
       "<style scoped>\n",
       "    .dataframe tbody tr th:only-of-type {\n",
       "        vertical-align: middle;\n",
       "    }\n",
       "\n",
       "    .dataframe tbody tr th {\n",
       "        vertical-align: top;\n",
       "    }\n",
       "\n",
       "    .dataframe thead th {\n",
       "        text-align: right;\n",
       "    }\n",
       "</style>\n",
       "<table border=\"1\" class=\"dataframe\">\n",
       "  <thead>\n",
       "    <tr style=\"text-align: right;\">\n",
       "      <th></th>\n",
       "      <th>AAA</th>\n",
       "      <th>BBB</th>\n",
       "      <th>CCC</th>\n",
       "    </tr>\n",
       "  </thead>\n",
       "  <tbody>\n",
       "    <tr>\n",
       "      <th>0</th>\n",
       "      <td>4</td>\n",
       "      <td>10</td>\n",
       "      <td>100</td>\n",
       "    </tr>\n",
       "    <tr>\n",
       "      <th>1</th>\n",
       "      <td>5</td>\n",
       "      <td>555</td>\n",
       "      <td>555</td>\n",
       "    </tr>\n",
       "    <tr>\n",
       "      <th>2</th>\n",
       "      <td>6</td>\n",
       "      <td>555</td>\n",
       "      <td>555</td>\n",
       "    </tr>\n",
       "    <tr>\n",
       "      <th>3</th>\n",
       "      <td>7</td>\n",
       "      <td>555</td>\n",
       "      <td>555</td>\n",
       "    </tr>\n",
       "  </tbody>\n",
       "</table>\n",
       "</div>"
      ],
      "text/plain": [
       "   AAA  BBB  CCC\n",
       "0    4   10  100\n",
       "1    5  555  555\n",
       "2    6  555  555\n",
       "3    7  555  555"
      ]
     },
     "execution_count": 139,
     "metadata": {},
     "output_type": "execute_result"
    }
   ],
   "source": [
    "df.loc[df.AAA >= 5,['BBB','CCC']] = 555\n",
    "df"
   ]
  },
  {
   "cell_type": "code",
   "execution_count": 140,
   "metadata": {},
   "outputs": [
    {
     "data": {
      "text/html": [
       "<div>\n",
       "<style scoped>\n",
       "    .dataframe tbody tr th:only-of-type {\n",
       "        vertical-align: middle;\n",
       "    }\n",
       "\n",
       "    .dataframe tbody tr th {\n",
       "        vertical-align: top;\n",
       "    }\n",
       "\n",
       "    .dataframe thead th {\n",
       "        text-align: right;\n",
       "    }\n",
       "</style>\n",
       "<table border=\"1\" class=\"dataframe\">\n",
       "  <thead>\n",
       "    <tr style=\"text-align: right;\">\n",
       "      <th></th>\n",
       "      <th>AAA</th>\n",
       "      <th>BBB</th>\n",
       "      <th>CCC</th>\n",
       "    </tr>\n",
       "  </thead>\n",
       "  <tbody>\n",
       "    <tr>\n",
       "      <th>0</th>\n",
       "      <td>4</td>\n",
       "      <td>2000</td>\n",
       "      <td>2000</td>\n",
       "    </tr>\n",
       "    <tr>\n",
       "      <th>1</th>\n",
       "      <td>5</td>\n",
       "      <td>555</td>\n",
       "      <td>555</td>\n",
       "    </tr>\n",
       "    <tr>\n",
       "      <th>2</th>\n",
       "      <td>6</td>\n",
       "      <td>555</td>\n",
       "      <td>555</td>\n",
       "    </tr>\n",
       "    <tr>\n",
       "      <th>3</th>\n",
       "      <td>7</td>\n",
       "      <td>555</td>\n",
       "      <td>555</td>\n",
       "    </tr>\n",
       "  </tbody>\n",
       "</table>\n",
       "</div>"
      ],
      "text/plain": [
       "   AAA   BBB   CCC\n",
       "0    4  2000  2000\n",
       "1    5   555   555\n",
       "2    6   555   555\n",
       "3    7   555   555"
      ]
     },
     "execution_count": 140,
     "metadata": {},
     "output_type": "execute_result"
    }
   ],
   "source": [
    "df.loc[df.AAA < 5,['BBB','CCC']] = 2000\n",
    "df"
   ]
  },
  {
   "cell_type": "code",
   "execution_count": 141,
   "metadata": {},
   "outputs": [],
   "source": [
    "df_mask = pd.DataFrame({'AAA' : [True] * 4, 'BBB' : [False] * 4,'CCC' : [True,False] * 2})"
   ]
  },
  {
   "cell_type": "code",
   "execution_count": 142,
   "metadata": {},
   "outputs": [
    {
     "data": {
      "text/html": [
       "<div>\n",
       "<style scoped>\n",
       "    .dataframe tbody tr th:only-of-type {\n",
       "        vertical-align: middle;\n",
       "    }\n",
       "\n",
       "    .dataframe tbody tr th {\n",
       "        vertical-align: top;\n",
       "    }\n",
       "\n",
       "    .dataframe thead th {\n",
       "        text-align: right;\n",
       "    }\n",
       "</style>\n",
       "<table border=\"1\" class=\"dataframe\">\n",
       "  <thead>\n",
       "    <tr style=\"text-align: right;\">\n",
       "      <th></th>\n",
       "      <th>AAA</th>\n",
       "      <th>BBB</th>\n",
       "      <th>CCC</th>\n",
       "    </tr>\n",
       "  </thead>\n",
       "  <tbody>\n",
       "    <tr>\n",
       "      <th>0</th>\n",
       "      <td>True</td>\n",
       "      <td>False</td>\n",
       "      <td>True</td>\n",
       "    </tr>\n",
       "    <tr>\n",
       "      <th>1</th>\n",
       "      <td>True</td>\n",
       "      <td>False</td>\n",
       "      <td>False</td>\n",
       "    </tr>\n",
       "    <tr>\n",
       "      <th>2</th>\n",
       "      <td>True</td>\n",
       "      <td>False</td>\n",
       "      <td>True</td>\n",
       "    </tr>\n",
       "    <tr>\n",
       "      <th>3</th>\n",
       "      <td>True</td>\n",
       "      <td>False</td>\n",
       "      <td>False</td>\n",
       "    </tr>\n",
       "  </tbody>\n",
       "</table>\n",
       "</div>"
      ],
      "text/plain": [
       "    AAA    BBB    CCC\n",
       "0  True  False   True\n",
       "1  True  False  False\n",
       "2  True  False   True\n",
       "3  True  False  False"
      ]
     },
     "execution_count": 142,
     "metadata": {},
     "output_type": "execute_result"
    }
   ],
   "source": [
    "df_mask"
   ]
  },
  {
   "cell_type": "code",
   "execution_count": 143,
   "metadata": {},
   "outputs": [
    {
     "data": {
      "text/html": [
       "<div>\n",
       "<style scoped>\n",
       "    .dataframe tbody tr th:only-of-type {\n",
       "        vertical-align: middle;\n",
       "    }\n",
       "\n",
       "    .dataframe tbody tr th {\n",
       "        vertical-align: top;\n",
       "    }\n",
       "\n",
       "    .dataframe thead th {\n",
       "        text-align: right;\n",
       "    }\n",
       "</style>\n",
       "<table border=\"1\" class=\"dataframe\">\n",
       "  <thead>\n",
       "    <tr style=\"text-align: right;\">\n",
       "      <th></th>\n",
       "      <th>AAA</th>\n",
       "      <th>BBB</th>\n",
       "      <th>CCC</th>\n",
       "    </tr>\n",
       "  </thead>\n",
       "  <tbody>\n",
       "    <tr>\n",
       "      <th>0</th>\n",
       "      <td>4</td>\n",
       "      <td>-1000</td>\n",
       "      <td>2000</td>\n",
       "    </tr>\n",
       "    <tr>\n",
       "      <th>1</th>\n",
       "      <td>5</td>\n",
       "      <td>-1000</td>\n",
       "      <td>-1000</td>\n",
       "    </tr>\n",
       "    <tr>\n",
       "      <th>2</th>\n",
       "      <td>6</td>\n",
       "      <td>-1000</td>\n",
       "      <td>555</td>\n",
       "    </tr>\n",
       "    <tr>\n",
       "      <th>3</th>\n",
       "      <td>7</td>\n",
       "      <td>-1000</td>\n",
       "      <td>-1000</td>\n",
       "    </tr>\n",
       "  </tbody>\n",
       "</table>\n",
       "</div>"
      ],
      "text/plain": [
       "   AAA   BBB   CCC\n",
       "0    4 -1000  2000\n",
       "1    5 -1000 -1000\n",
       "2    6 -1000   555\n",
       "3    7 -1000 -1000"
      ]
     },
     "execution_count": 143,
     "metadata": {},
     "output_type": "execute_result"
    }
   ],
   "source": [
    "df.where(df_mask,-1000)"
   ]
  },
  {
   "cell_type": "code",
   "execution_count": 144,
   "metadata": {},
   "outputs": [
    {
     "data": {
      "text/html": [
       "<div>\n",
       "<style scoped>\n",
       "    .dataframe tbody tr th:only-of-type {\n",
       "        vertical-align: middle;\n",
       "    }\n",
       "\n",
       "    .dataframe tbody tr th {\n",
       "        vertical-align: top;\n",
       "    }\n",
       "\n",
       "    .dataframe thead th {\n",
       "        text-align: right;\n",
       "    }\n",
       "</style>\n",
       "<table border=\"1\" class=\"dataframe\">\n",
       "  <thead>\n",
       "    <tr style=\"text-align: right;\">\n",
       "      <th></th>\n",
       "      <th>AAA</th>\n",
       "      <th>BBB</th>\n",
       "      <th>CCC</th>\n",
       "    </tr>\n",
       "  </thead>\n",
       "  <tbody>\n",
       "    <tr>\n",
       "      <th>0</th>\n",
       "      <td>4</td>\n",
       "      <td>10</td>\n",
       "      <td>100</td>\n",
       "    </tr>\n",
       "    <tr>\n",
       "      <th>1</th>\n",
       "      <td>5</td>\n",
       "      <td>20</td>\n",
       "      <td>50</td>\n",
       "    </tr>\n",
       "    <tr>\n",
       "      <th>2</th>\n",
       "      <td>6</td>\n",
       "      <td>30</td>\n",
       "      <td>-30</td>\n",
       "    </tr>\n",
       "    <tr>\n",
       "      <th>3</th>\n",
       "      <td>7</td>\n",
       "      <td>40</td>\n",
       "      <td>-50</td>\n",
       "    </tr>\n",
       "  </tbody>\n",
       "</table>\n",
       "</div>"
      ],
      "text/plain": [
       "   AAA  BBB  CCC\n",
       "0    4   10  100\n",
       "1    5   20   50\n",
       "2    6   30  -30\n",
       "3    7   40  -50"
      ]
     },
     "execution_count": 144,
     "metadata": {},
     "output_type": "execute_result"
    }
   ],
   "source": [
    "df = pd.DataFrame(\n",
    "   ...:      {'AAA' : [4,5,6,7], 'BBB' : [10,20,30,40],'CCC' : [100,50,-30,-50]})\n",
    "df"
   ]
  },
  {
   "cell_type": "code",
   "execution_count": 145,
   "metadata": {},
   "outputs": [
    {
     "data": {
      "text/html": [
       "<div>\n",
       "<style scoped>\n",
       "    .dataframe tbody tr th:only-of-type {\n",
       "        vertical-align: middle;\n",
       "    }\n",
       "\n",
       "    .dataframe tbody tr th {\n",
       "        vertical-align: top;\n",
       "    }\n",
       "\n",
       "    .dataframe thead th {\n",
       "        text-align: right;\n",
       "    }\n",
       "</style>\n",
       "<table border=\"1\" class=\"dataframe\">\n",
       "  <thead>\n",
       "    <tr style=\"text-align: right;\">\n",
       "      <th></th>\n",
       "      <th>AAA</th>\n",
       "      <th>BBB</th>\n",
       "      <th>CCC</th>\n",
       "      <th>logic</th>\n",
       "    </tr>\n",
       "  </thead>\n",
       "  <tbody>\n",
       "    <tr>\n",
       "      <th>0</th>\n",
       "      <td>4</td>\n",
       "      <td>10</td>\n",
       "      <td>100</td>\n",
       "      <td>low</td>\n",
       "    </tr>\n",
       "    <tr>\n",
       "      <th>1</th>\n",
       "      <td>5</td>\n",
       "      <td>20</td>\n",
       "      <td>50</td>\n",
       "      <td>low</td>\n",
       "    </tr>\n",
       "    <tr>\n",
       "      <th>2</th>\n",
       "      <td>6</td>\n",
       "      <td>30</td>\n",
       "      <td>-30</td>\n",
       "      <td>high</td>\n",
       "    </tr>\n",
       "    <tr>\n",
       "      <th>3</th>\n",
       "      <td>7</td>\n",
       "      <td>40</td>\n",
       "      <td>-50</td>\n",
       "      <td>high</td>\n",
       "    </tr>\n",
       "  </tbody>\n",
       "</table>\n",
       "</div>"
      ],
      "text/plain": [
       "   AAA  BBB  CCC logic\n",
       "0    4   10  100   low\n",
       "1    5   20   50   low\n",
       "2    6   30  -30  high\n",
       "3    7   40  -50  high"
      ]
     },
     "execution_count": 145,
     "metadata": {},
     "output_type": "execute_result"
    }
   ],
   "source": [
    "df['logic'] = np.where(df['AAA'] > 5,'high','low')\n",
    "df"
   ]
  },
  {
   "cell_type": "code",
   "execution_count": 146,
   "metadata": {},
   "outputs": [
    {
     "data": {
      "text/html": [
       "<div>\n",
       "<style scoped>\n",
       "    .dataframe tbody tr th:only-of-type {\n",
       "        vertical-align: middle;\n",
       "    }\n",
       "\n",
       "    .dataframe tbody tr th {\n",
       "        vertical-align: top;\n",
       "    }\n",
       "\n",
       "    .dataframe thead th {\n",
       "        text-align: right;\n",
       "    }\n",
       "</style>\n",
       "<table border=\"1\" class=\"dataframe\">\n",
       "  <thead>\n",
       "    <tr style=\"text-align: right;\">\n",
       "      <th></th>\n",
       "      <th>AAA</th>\n",
       "      <th>BBB</th>\n",
       "      <th>CCC</th>\n",
       "    </tr>\n",
       "  </thead>\n",
       "  <tbody>\n",
       "    <tr>\n",
       "      <th>0</th>\n",
       "      <td>4</td>\n",
       "      <td>10</td>\n",
       "      <td>100</td>\n",
       "    </tr>\n",
       "    <tr>\n",
       "      <th>1</th>\n",
       "      <td>5</td>\n",
       "      <td>20</td>\n",
       "      <td>50</td>\n",
       "    </tr>\n",
       "    <tr>\n",
       "      <th>2</th>\n",
       "      <td>6</td>\n",
       "      <td>30</td>\n",
       "      <td>-30</td>\n",
       "    </tr>\n",
       "    <tr>\n",
       "      <th>3</th>\n",
       "      <td>7</td>\n",
       "      <td>40</td>\n",
       "      <td>-50</td>\n",
       "    </tr>\n",
       "  </tbody>\n",
       "</table>\n",
       "</div>"
      ],
      "text/plain": [
       "   AAA  BBB  CCC\n",
       "0    4   10  100\n",
       "1    5   20   50\n",
       "2    6   30  -30\n",
       "3    7   40  -50"
      ]
     },
     "execution_count": 146,
     "metadata": {},
     "output_type": "execute_result"
    }
   ],
   "source": [
    "df = pd.DataFrame(\n",
    "   ...:      {'AAA' : [4,5,6,7], 'BBB' : [10,20,30,40],'CCC' : [100,50,-30,-50]})\n",
    "df"
   ]
  },
  {
   "cell_type": "code",
   "execution_count": 147,
   "metadata": {},
   "outputs": [
    {
     "data": {
      "text/html": [
       "<div>\n",
       "<style scoped>\n",
       "    .dataframe tbody tr th:only-of-type {\n",
       "        vertical-align: middle;\n",
       "    }\n",
       "\n",
       "    .dataframe tbody tr th {\n",
       "        vertical-align: top;\n",
       "    }\n",
       "\n",
       "    .dataframe thead th {\n",
       "        text-align: right;\n",
       "    }\n",
       "</style>\n",
       "<table border=\"1\" class=\"dataframe\">\n",
       "  <thead>\n",
       "    <tr style=\"text-align: right;\">\n",
       "      <th></th>\n",
       "      <th>AAA</th>\n",
       "      <th>BBB</th>\n",
       "      <th>CCC</th>\n",
       "    </tr>\n",
       "  </thead>\n",
       "  <tbody>\n",
       "    <tr>\n",
       "      <th>0</th>\n",
       "      <td>4</td>\n",
       "      <td>10</td>\n",
       "      <td>100</td>\n",
       "    </tr>\n",
       "    <tr>\n",
       "      <th>1</th>\n",
       "      <td>5</td>\n",
       "      <td>20</td>\n",
       "      <td>50</td>\n",
       "    </tr>\n",
       "  </tbody>\n",
       "</table>\n",
       "</div>"
      ],
      "text/plain": [
       "   AAA  BBB  CCC\n",
       "0    4   10  100\n",
       "1    5   20   50"
      ]
     },
     "execution_count": 147,
     "metadata": {},
     "output_type": "execute_result"
    }
   ],
   "source": [
    "dflow = df[df.AAA <= 5]; dflow"
   ]
  },
  {
   "cell_type": "code",
   "execution_count": 148,
   "metadata": {},
   "outputs": [
    {
     "data": {
      "text/html": [
       "<div>\n",
       "<style scoped>\n",
       "    .dataframe tbody tr th:only-of-type {\n",
       "        vertical-align: middle;\n",
       "    }\n",
       "\n",
       "    .dataframe tbody tr th {\n",
       "        vertical-align: top;\n",
       "    }\n",
       "\n",
       "    .dataframe thead th {\n",
       "        text-align: right;\n",
       "    }\n",
       "</style>\n",
       "<table border=\"1\" class=\"dataframe\">\n",
       "  <thead>\n",
       "    <tr style=\"text-align: right;\">\n",
       "      <th></th>\n",
       "      <th>AAA</th>\n",
       "      <th>BBB</th>\n",
       "      <th>CCC</th>\n",
       "    </tr>\n",
       "  </thead>\n",
       "  <tbody>\n",
       "    <tr>\n",
       "      <th>2</th>\n",
       "      <td>6</td>\n",
       "      <td>30</td>\n",
       "      <td>-30</td>\n",
       "    </tr>\n",
       "    <tr>\n",
       "      <th>3</th>\n",
       "      <td>7</td>\n",
       "      <td>40</td>\n",
       "      <td>-50</td>\n",
       "    </tr>\n",
       "  </tbody>\n",
       "</table>\n",
       "</div>"
      ],
      "text/plain": [
       "   AAA  BBB  CCC\n",
       "2    6   30  -30\n",
       "3    7   40  -50"
      ]
     },
     "execution_count": 148,
     "metadata": {},
     "output_type": "execute_result"
    }
   ],
   "source": [
    "dfhigh = df[df.AAA > 5]; dfhigh"
   ]
  },
  {
   "cell_type": "code",
   "execution_count": 149,
   "metadata": {},
   "outputs": [
    {
     "data": {
      "text/html": [
       "<div>\n",
       "<style scoped>\n",
       "    .dataframe tbody tr th:only-of-type {\n",
       "        vertical-align: middle;\n",
       "    }\n",
       "\n",
       "    .dataframe tbody tr th {\n",
       "        vertical-align: top;\n",
       "    }\n",
       "\n",
       "    .dataframe thead th {\n",
       "        text-align: right;\n",
       "    }\n",
       "</style>\n",
       "<table border=\"1\" class=\"dataframe\">\n",
       "  <thead>\n",
       "    <tr style=\"text-align: right;\">\n",
       "      <th></th>\n",
       "      <th>AAA</th>\n",
       "      <th>BBB</th>\n",
       "      <th>CCC</th>\n",
       "    </tr>\n",
       "  </thead>\n",
       "  <tbody>\n",
       "    <tr>\n",
       "      <th>0</th>\n",
       "      <td>4</td>\n",
       "      <td>10</td>\n",
       "      <td>100</td>\n",
       "    </tr>\n",
       "    <tr>\n",
       "      <th>1</th>\n",
       "      <td>5</td>\n",
       "      <td>20</td>\n",
       "      <td>50</td>\n",
       "    </tr>\n",
       "    <tr>\n",
       "      <th>2</th>\n",
       "      <td>6</td>\n",
       "      <td>30</td>\n",
       "      <td>-30</td>\n",
       "    </tr>\n",
       "    <tr>\n",
       "      <th>3</th>\n",
       "      <td>7</td>\n",
       "      <td>40</td>\n",
       "      <td>-50</td>\n",
       "    </tr>\n",
       "  </tbody>\n",
       "</table>\n",
       "</div>"
      ],
      "text/plain": [
       "   AAA  BBB  CCC\n",
       "0    4   10  100\n",
       "1    5   20   50\n",
       "2    6   30  -30\n",
       "3    7   40  -50"
      ]
     },
     "execution_count": 149,
     "metadata": {},
     "output_type": "execute_result"
    }
   ],
   "source": [
    "df = pd.DataFrame(\n",
    "   ....:      {'AAA' : [4,5,6,7], 'BBB' : [10,20,30,40],'CCC' : [100,50,-30,-50]})\n",
    "df"
   ]
  },
  {
   "cell_type": "code",
   "execution_count": 150,
   "metadata": {},
   "outputs": [
    {
     "data": {
      "text/plain": [
       "0    4\n",
       "1    5\n",
       "Name: AAA, dtype: int64"
      ]
     },
     "execution_count": 150,
     "metadata": {},
     "output_type": "execute_result"
    }
   ],
   "source": [
    "newseries = df.loc[(df['BBB'] < 25) & (df['CCC'] >= -40), 'AAA']\n",
    "newseries"
   ]
  },
  {
   "cell_type": "code",
   "execution_count": 151,
   "metadata": {},
   "outputs": [
    {
     "data": {
      "text/plain": [
       "0    4\n",
       "1    5\n",
       "2    6\n",
       "3    7\n",
       "Name: AAA, dtype: int64"
      ]
     },
     "execution_count": 151,
     "metadata": {},
     "output_type": "execute_result"
    }
   ],
   "source": [
    "newseries = df.loc[(df['BBB'] > 25) | (df['CCC'] >= -40), 'AAA']\n",
    "newseries"
   ]
  },
  {
   "cell_type": "code",
   "execution_count": 152,
   "metadata": {},
   "outputs": [
    {
     "data": {
      "text/html": [
       "<div>\n",
       "<style scoped>\n",
       "    .dataframe tbody tr th:only-of-type {\n",
       "        vertical-align: middle;\n",
       "    }\n",
       "\n",
       "    .dataframe tbody tr th {\n",
       "        vertical-align: top;\n",
       "    }\n",
       "\n",
       "    .dataframe thead th {\n",
       "        text-align: right;\n",
       "    }\n",
       "</style>\n",
       "<table border=\"1\" class=\"dataframe\">\n",
       "  <thead>\n",
       "    <tr style=\"text-align: right;\">\n",
       "      <th></th>\n",
       "      <th>AAA</th>\n",
       "      <th>BBB</th>\n",
       "      <th>CCC</th>\n",
       "    </tr>\n",
       "  </thead>\n",
       "  <tbody>\n",
       "    <tr>\n",
       "      <th>0</th>\n",
       "      <td>0.1</td>\n",
       "      <td>10</td>\n",
       "      <td>100</td>\n",
       "    </tr>\n",
       "    <tr>\n",
       "      <th>1</th>\n",
       "      <td>5.0</td>\n",
       "      <td>20</td>\n",
       "      <td>50</td>\n",
       "    </tr>\n",
       "    <tr>\n",
       "      <th>2</th>\n",
       "      <td>0.1</td>\n",
       "      <td>30</td>\n",
       "      <td>-30</td>\n",
       "    </tr>\n",
       "    <tr>\n",
       "      <th>3</th>\n",
       "      <td>0.1</td>\n",
       "      <td>40</td>\n",
       "      <td>-50</td>\n",
       "    </tr>\n",
       "  </tbody>\n",
       "</table>\n",
       "</div>"
      ],
      "text/plain": [
       "   AAA  BBB  CCC\n",
       "0  0.1   10  100\n",
       "1  5.0   20   50\n",
       "2  0.1   30  -30\n",
       "3  0.1   40  -50"
      ]
     },
     "execution_count": 152,
     "metadata": {},
     "output_type": "execute_result"
    }
   ],
   "source": [
    "df.loc[(df['BBB'] > 25) | (df['CCC'] >= 75), 'AAA'] = 0.1; df"
   ]
  },
  {
   "cell_type": "code",
   "execution_count": 153,
   "metadata": {},
   "outputs": [
    {
     "data": {
      "text/html": [
       "<div>\n",
       "<style scoped>\n",
       "    .dataframe tbody tr th:only-of-type {\n",
       "        vertical-align: middle;\n",
       "    }\n",
       "\n",
       "    .dataframe tbody tr th {\n",
       "        vertical-align: top;\n",
       "    }\n",
       "\n",
       "    .dataframe thead th {\n",
       "        text-align: right;\n",
       "    }\n",
       "</style>\n",
       "<table border=\"1\" class=\"dataframe\">\n",
       "  <thead>\n",
       "    <tr style=\"text-align: right;\">\n",
       "      <th></th>\n",
       "      <th>AAA</th>\n",
       "      <th>BBB</th>\n",
       "      <th>CCC</th>\n",
       "    </tr>\n",
       "  </thead>\n",
       "  <tbody>\n",
       "    <tr>\n",
       "      <th>0</th>\n",
       "      <td>4</td>\n",
       "      <td>10</td>\n",
       "      <td>100</td>\n",
       "    </tr>\n",
       "    <tr>\n",
       "      <th>1</th>\n",
       "      <td>5</td>\n",
       "      <td>20</td>\n",
       "      <td>50</td>\n",
       "    </tr>\n",
       "    <tr>\n",
       "      <th>2</th>\n",
       "      <td>6</td>\n",
       "      <td>30</td>\n",
       "      <td>-30</td>\n",
       "    </tr>\n",
       "    <tr>\n",
       "      <th>3</th>\n",
       "      <td>7</td>\n",
       "      <td>40</td>\n",
       "      <td>-50</td>\n",
       "    </tr>\n",
       "  </tbody>\n",
       "</table>\n",
       "</div>"
      ],
      "text/plain": [
       "   AAA  BBB  CCC\n",
       "0    4   10  100\n",
       "1    5   20   50\n",
       "2    6   30  -30\n",
       "3    7   40  -50"
      ]
     },
     "execution_count": 153,
     "metadata": {},
     "output_type": "execute_result"
    }
   ],
   "source": [
    "df = pd.DataFrame(\n",
    "   ....:      {'AAA' : [4,5,6,7], 'BBB' : [10,20,30,40],'CCC' : [100,50,-30,-50]})\n",
    "df"
   ]
  },
  {
   "cell_type": "code",
   "execution_count": 154,
   "metadata": {},
   "outputs": [],
   "source": [
    "aValue = 43.0"
   ]
  },
  {
   "cell_type": "code",
   "execution_count": 155,
   "metadata": {},
   "outputs": [
    {
     "data": {
      "text/html": [
       "<div>\n",
       "<style scoped>\n",
       "    .dataframe tbody tr th:only-of-type {\n",
       "        vertical-align: middle;\n",
       "    }\n",
       "\n",
       "    .dataframe tbody tr th {\n",
       "        vertical-align: top;\n",
       "    }\n",
       "\n",
       "    .dataframe thead th {\n",
       "        text-align: right;\n",
       "    }\n",
       "</style>\n",
       "<table border=\"1\" class=\"dataframe\">\n",
       "  <thead>\n",
       "    <tr style=\"text-align: right;\">\n",
       "      <th></th>\n",
       "      <th>AAA</th>\n",
       "      <th>BBB</th>\n",
       "      <th>CCC</th>\n",
       "    </tr>\n",
       "  </thead>\n",
       "  <tbody>\n",
       "    <tr>\n",
       "      <th>1</th>\n",
       "      <td>5</td>\n",
       "      <td>20</td>\n",
       "      <td>50</td>\n",
       "    </tr>\n",
       "    <tr>\n",
       "      <th>0</th>\n",
       "      <td>4</td>\n",
       "      <td>10</td>\n",
       "      <td>100</td>\n",
       "    </tr>\n",
       "    <tr>\n",
       "      <th>2</th>\n",
       "      <td>6</td>\n",
       "      <td>30</td>\n",
       "      <td>-30</td>\n",
       "    </tr>\n",
       "    <tr>\n",
       "      <th>3</th>\n",
       "      <td>7</td>\n",
       "      <td>40</td>\n",
       "      <td>-50</td>\n",
       "    </tr>\n",
       "  </tbody>\n",
       "</table>\n",
       "</div>"
      ],
      "text/plain": [
       "   AAA  BBB  CCC\n",
       "1    5   20   50\n",
       "0    4   10  100\n",
       "2    6   30  -30\n",
       "3    7   40  -50"
      ]
     },
     "execution_count": 155,
     "metadata": {},
     "output_type": "execute_result"
    }
   ],
   "source": [
    "df.loc[(df.CCC-aValue).abs().argsort()]"
   ]
  },
  {
   "cell_type": "code",
   "execution_count": 156,
   "metadata": {},
   "outputs": [
    {
     "data": {
      "text/html": [
       "<div>\n",
       "<style scoped>\n",
       "    .dataframe tbody tr th:only-of-type {\n",
       "        vertical-align: middle;\n",
       "    }\n",
       "\n",
       "    .dataframe tbody tr th {\n",
       "        vertical-align: top;\n",
       "    }\n",
       "\n",
       "    .dataframe thead th {\n",
       "        text-align: right;\n",
       "    }\n",
       "</style>\n",
       "<table border=\"1\" class=\"dataframe\">\n",
       "  <thead>\n",
       "    <tr style=\"text-align: right;\">\n",
       "      <th></th>\n",
       "      <th>AAA</th>\n",
       "      <th>BBB</th>\n",
       "      <th>CCC</th>\n",
       "    </tr>\n",
       "  </thead>\n",
       "  <tbody>\n",
       "    <tr>\n",
       "      <th>0</th>\n",
       "      <td>4</td>\n",
       "      <td>10</td>\n",
       "      <td>100</td>\n",
       "    </tr>\n",
       "    <tr>\n",
       "      <th>1</th>\n",
       "      <td>5</td>\n",
       "      <td>20</td>\n",
       "      <td>50</td>\n",
       "    </tr>\n",
       "    <tr>\n",
       "      <th>2</th>\n",
       "      <td>6</td>\n",
       "      <td>30</td>\n",
       "      <td>-30</td>\n",
       "    </tr>\n",
       "    <tr>\n",
       "      <th>3</th>\n",
       "      <td>7</td>\n",
       "      <td>40</td>\n",
       "      <td>-50</td>\n",
       "    </tr>\n",
       "  </tbody>\n",
       "</table>\n",
       "</div>"
      ],
      "text/plain": [
       "   AAA  BBB  CCC\n",
       "0    4   10  100\n",
       "1    5   20   50\n",
       "2    6   30  -30\n",
       "3    7   40  -50"
      ]
     },
     "execution_count": 156,
     "metadata": {},
     "output_type": "execute_result"
    }
   ],
   "source": [
    "df = pd.DataFrame(\n",
    "   ....:      {'AAA' : [4,5,6,7], 'BBB' : [10,20,30,40],'CCC' : [100,50,-30,-50]})\n",
    "df"
   ]
  },
  {
   "cell_type": "code",
   "execution_count": 157,
   "metadata": {},
   "outputs": [],
   "source": [
    "Crit1 = df.AAA <= 5.5"
   ]
  },
  {
   "cell_type": "code",
   "execution_count": 158,
   "metadata": {},
   "outputs": [],
   "source": [
    "Crit2 = df.BBB == 10.0"
   ]
  },
  {
   "cell_type": "code",
   "execution_count": 159,
   "metadata": {},
   "outputs": [],
   "source": [
    "Crit3 = df.CCC > -40.0"
   ]
  },
  {
   "cell_type": "code",
   "execution_count": 160,
   "metadata": {},
   "outputs": [],
   "source": [
    "AllCrit = Crit1 & Crit2 & Crit3"
   ]
  },
  {
   "cell_type": "code",
   "execution_count": 161,
   "metadata": {},
   "outputs": [],
   "source": [
    "CritList = [Crit1,Crit2,Crit3]"
   ]
  },
  {
   "cell_type": "code",
   "execution_count": 162,
   "metadata": {},
   "outputs": [
    {
     "data": {
      "text/html": [
       "<div>\n",
       "<style scoped>\n",
       "    .dataframe tbody tr th:only-of-type {\n",
       "        vertical-align: middle;\n",
       "    }\n",
       "\n",
       "    .dataframe tbody tr th {\n",
       "        vertical-align: top;\n",
       "    }\n",
       "\n",
       "    .dataframe thead th {\n",
       "        text-align: right;\n",
       "    }\n",
       "</style>\n",
       "<table border=\"1\" class=\"dataframe\">\n",
       "  <thead>\n",
       "    <tr style=\"text-align: right;\">\n",
       "      <th></th>\n",
       "      <th>AAA</th>\n",
       "      <th>BBB</th>\n",
       "      <th>CCC</th>\n",
       "    </tr>\n",
       "  </thead>\n",
       "  <tbody>\n",
       "    <tr>\n",
       "      <th>0</th>\n",
       "      <td>4</td>\n",
       "      <td>10</td>\n",
       "      <td>100</td>\n",
       "    </tr>\n",
       "    <tr>\n",
       "      <th>1</th>\n",
       "      <td>5</td>\n",
       "      <td>20</td>\n",
       "      <td>50</td>\n",
       "    </tr>\n",
       "    <tr>\n",
       "      <th>2</th>\n",
       "      <td>6</td>\n",
       "      <td>30</td>\n",
       "      <td>-30</td>\n",
       "    </tr>\n",
       "    <tr>\n",
       "      <th>3</th>\n",
       "      <td>7</td>\n",
       "      <td>40</td>\n",
       "      <td>-50</td>\n",
       "    </tr>\n",
       "  </tbody>\n",
       "</table>\n",
       "</div>"
      ],
      "text/plain": [
       "   AAA  BBB  CCC\n",
       "0    4   10  100\n",
       "1    5   20   50\n",
       "2    6   30  -30\n",
       "3    7   40  -50"
      ]
     },
     "execution_count": 162,
     "metadata": {},
     "output_type": "execute_result"
    }
   ],
   "source": [
    "df = pd.DataFrame(\n",
    "   ....:      {'AAA' : [4,5,6,7], 'BBB' : [10,20,30,40],'CCC' : [100,50,-30,-50]})\n",
    "df"
   ]
  },
  {
   "cell_type": "code",
   "execution_count": 163,
   "metadata": {},
   "outputs": [
    {
     "data": {
      "text/html": [
       "<div>\n",
       "<style scoped>\n",
       "    .dataframe tbody tr th:only-of-type {\n",
       "        vertical-align: middle;\n",
       "    }\n",
       "\n",
       "    .dataframe tbody tr th {\n",
       "        vertical-align: top;\n",
       "    }\n",
       "\n",
       "    .dataframe thead th {\n",
       "        text-align: right;\n",
       "    }\n",
       "</style>\n",
       "<table border=\"1\" class=\"dataframe\">\n",
       "  <thead>\n",
       "    <tr style=\"text-align: right;\">\n",
       "      <th></th>\n",
       "      <th>AAA</th>\n",
       "      <th>BBB</th>\n",
       "      <th>CCC</th>\n",
       "    </tr>\n",
       "  </thead>\n",
       "  <tbody>\n",
       "    <tr>\n",
       "      <th>0</th>\n",
       "      <td>4</td>\n",
       "      <td>10</td>\n",
       "      <td>100</td>\n",
       "    </tr>\n",
       "    <tr>\n",
       "      <th>2</th>\n",
       "      <td>6</td>\n",
       "      <td>30</td>\n",
       "      <td>-30</td>\n",
       "    </tr>\n",
       "  </tbody>\n",
       "</table>\n",
       "</div>"
      ],
      "text/plain": [
       "   AAA  BBB  CCC\n",
       "0    4   10  100\n",
       "2    6   30  -30"
      ]
     },
     "execution_count": 163,
     "metadata": {},
     "output_type": "execute_result"
    }
   ],
   "source": [
    "df[(df.AAA <= 6) & (df.index.isin([0,2,4]))]"
   ]
  },
  {
   "cell_type": "code",
   "execution_count": 164,
   "metadata": {},
   "outputs": [],
   "source": [
    "data = {'AAA' : [4,5,6,7], 'BBB' : [10,20,30,40],'CCC' : [100,50,-30,-50]}"
   ]
  },
  {
   "cell_type": "code",
   "execution_count": 165,
   "metadata": {},
   "outputs": [
    {
     "data": {
      "text/html": [
       "<div>\n",
       "<style scoped>\n",
       "    .dataframe tbody tr th:only-of-type {\n",
       "        vertical-align: middle;\n",
       "    }\n",
       "\n",
       "    .dataframe tbody tr th {\n",
       "        vertical-align: top;\n",
       "    }\n",
       "\n",
       "    .dataframe thead th {\n",
       "        text-align: right;\n",
       "    }\n",
       "</style>\n",
       "<table border=\"1\" class=\"dataframe\">\n",
       "  <thead>\n",
       "    <tr style=\"text-align: right;\">\n",
       "      <th></th>\n",
       "      <th>AAA</th>\n",
       "      <th>BBB</th>\n",
       "      <th>CCC</th>\n",
       "    </tr>\n",
       "  </thead>\n",
       "  <tbody>\n",
       "    <tr>\n",
       "      <th>foo</th>\n",
       "      <td>4</td>\n",
       "      <td>10</td>\n",
       "      <td>100</td>\n",
       "    </tr>\n",
       "    <tr>\n",
       "      <th>bar</th>\n",
       "      <td>5</td>\n",
       "      <td>20</td>\n",
       "      <td>50</td>\n",
       "    </tr>\n",
       "    <tr>\n",
       "      <th>boo</th>\n",
       "      <td>6</td>\n",
       "      <td>30</td>\n",
       "      <td>-30</td>\n",
       "    </tr>\n",
       "    <tr>\n",
       "      <th>kar</th>\n",
       "      <td>7</td>\n",
       "      <td>40</td>\n",
       "      <td>-50</td>\n",
       "    </tr>\n",
       "  </tbody>\n",
       "</table>\n",
       "</div>"
      ],
      "text/plain": [
       "     AAA  BBB  CCC\n",
       "foo    4   10  100\n",
       "bar    5   20   50\n",
       "boo    6   30  -30\n",
       "kar    7   40  -50"
      ]
     },
     "execution_count": 165,
     "metadata": {},
     "output_type": "execute_result"
    }
   ],
   "source": [
    "df = pd.DataFrame(data=data,index=['foo','bar','boo','kar'])\n",
    "df"
   ]
  },
  {
   "cell_type": "code",
   "execution_count": 166,
   "metadata": {},
   "outputs": [
    {
     "data": {
      "text/html": [
       "<div>\n",
       "<style scoped>\n",
       "    .dataframe tbody tr th:only-of-type {\n",
       "        vertical-align: middle;\n",
       "    }\n",
       "\n",
       "    .dataframe tbody tr th {\n",
       "        vertical-align: top;\n",
       "    }\n",
       "\n",
       "    .dataframe thead th {\n",
       "        text-align: right;\n",
       "    }\n",
       "</style>\n",
       "<table border=\"1\" class=\"dataframe\">\n",
       "  <thead>\n",
       "    <tr style=\"text-align: right;\">\n",
       "      <th></th>\n",
       "      <th>AAA</th>\n",
       "      <th>BBB</th>\n",
       "      <th>CCC</th>\n",
       "    </tr>\n",
       "  </thead>\n",
       "  <tbody>\n",
       "    <tr>\n",
       "      <th>bar</th>\n",
       "      <td>5</td>\n",
       "      <td>20</td>\n",
       "      <td>50</td>\n",
       "    </tr>\n",
       "    <tr>\n",
       "      <th>boo</th>\n",
       "      <td>6</td>\n",
       "      <td>30</td>\n",
       "      <td>-30</td>\n",
       "    </tr>\n",
       "    <tr>\n",
       "      <th>kar</th>\n",
       "      <td>7</td>\n",
       "      <td>40</td>\n",
       "      <td>-50</td>\n",
       "    </tr>\n",
       "  </tbody>\n",
       "</table>\n",
       "</div>"
      ],
      "text/plain": [
       "     AAA  BBB  CCC\n",
       "bar    5   20   50\n",
       "boo    6   30  -30\n",
       "kar    7   40  -50"
      ]
     },
     "execution_count": 166,
     "metadata": {},
     "output_type": "execute_result"
    }
   ],
   "source": [
    "df.loc['bar':'kar']"
   ]
  },
  {
   "cell_type": "code",
   "execution_count": 167,
   "metadata": {},
   "outputs": [
    {
     "data": {
      "text/html": [
       "<div>\n",
       "<style scoped>\n",
       "    .dataframe tbody tr th:only-of-type {\n",
       "        vertical-align: middle;\n",
       "    }\n",
       "\n",
       "    .dataframe tbody tr th {\n",
       "        vertical-align: top;\n",
       "    }\n",
       "\n",
       "    .dataframe thead th {\n",
       "        text-align: right;\n",
       "    }\n",
       "</style>\n",
       "<table border=\"1\" class=\"dataframe\">\n",
       "  <thead>\n",
       "    <tr style=\"text-align: right;\">\n",
       "      <th></th>\n",
       "      <th>AAA</th>\n",
       "      <th>BBB</th>\n",
       "      <th>CCC</th>\n",
       "    </tr>\n",
       "  </thead>\n",
       "  <tbody>\n",
       "    <tr>\n",
       "      <th>foo</th>\n",
       "      <td>4</td>\n",
       "      <td>10</td>\n",
       "      <td>100</td>\n",
       "    </tr>\n",
       "    <tr>\n",
       "      <th>bar</th>\n",
       "      <td>5</td>\n",
       "      <td>20</td>\n",
       "      <td>50</td>\n",
       "    </tr>\n",
       "    <tr>\n",
       "      <th>boo</th>\n",
       "      <td>6</td>\n",
       "      <td>30</td>\n",
       "      <td>-30</td>\n",
       "    </tr>\n",
       "  </tbody>\n",
       "</table>\n",
       "</div>"
      ],
      "text/plain": [
       "     AAA  BBB  CCC\n",
       "foo    4   10  100\n",
       "bar    5   20   50\n",
       "boo    6   30  -30"
      ]
     },
     "execution_count": 167,
     "metadata": {},
     "output_type": "execute_result"
    }
   ],
   "source": [
    "df.iloc[0:3]"
   ]
  },
  {
   "cell_type": "code",
   "execution_count": 168,
   "metadata": {},
   "outputs": [
    {
     "data": {
      "text/html": [
       "<div>\n",
       "<style scoped>\n",
       "    .dataframe tbody tr th:only-of-type {\n",
       "        vertical-align: middle;\n",
       "    }\n",
       "\n",
       "    .dataframe tbody tr th {\n",
       "        vertical-align: top;\n",
       "    }\n",
       "\n",
       "    .dataframe thead th {\n",
       "        text-align: right;\n",
       "    }\n",
       "</style>\n",
       "<table border=\"1\" class=\"dataframe\">\n",
       "  <thead>\n",
       "    <tr style=\"text-align: right;\">\n",
       "      <th></th>\n",
       "      <th>AAA</th>\n",
       "      <th>BBB</th>\n",
       "      <th>CCC</th>\n",
       "    </tr>\n",
       "  </thead>\n",
       "  <tbody>\n",
       "    <tr>\n",
       "      <th>bar</th>\n",
       "      <td>5</td>\n",
       "      <td>20</td>\n",
       "      <td>50</td>\n",
       "    </tr>\n",
       "    <tr>\n",
       "      <th>boo</th>\n",
       "      <td>6</td>\n",
       "      <td>30</td>\n",
       "      <td>-30</td>\n",
       "    </tr>\n",
       "    <tr>\n",
       "      <th>kar</th>\n",
       "      <td>7</td>\n",
       "      <td>40</td>\n",
       "      <td>-50</td>\n",
       "    </tr>\n",
       "  </tbody>\n",
       "</table>\n",
       "</div>"
      ],
      "text/plain": [
       "     AAA  BBB  CCC\n",
       "bar    5   20   50\n",
       "boo    6   30  -30\n",
       "kar    7   40  -50"
      ]
     },
     "execution_count": 168,
     "metadata": {},
     "output_type": "execute_result"
    }
   ],
   "source": [
    "df.loc['bar':'kar']"
   ]
  },
  {
   "cell_type": "code",
   "execution_count": 169,
   "metadata": {},
   "outputs": [],
   "source": [
    "df2 = pd.DataFrame(data=data,index=[1,2,3,4])"
   ]
  },
  {
   "cell_type": "code",
   "execution_count": 170,
   "metadata": {},
   "outputs": [
    {
     "data": {
      "text/html": [
       "<div>\n",
       "<style scoped>\n",
       "    .dataframe tbody tr th:only-of-type {\n",
       "        vertical-align: middle;\n",
       "    }\n",
       "\n",
       "    .dataframe tbody tr th {\n",
       "        vertical-align: top;\n",
       "    }\n",
       "\n",
       "    .dataframe thead th {\n",
       "        text-align: right;\n",
       "    }\n",
       "</style>\n",
       "<table border=\"1\" class=\"dataframe\">\n",
       "  <thead>\n",
       "    <tr style=\"text-align: right;\">\n",
       "      <th></th>\n",
       "      <th>AAA</th>\n",
       "      <th>BBB</th>\n",
       "      <th>CCC</th>\n",
       "    </tr>\n",
       "  </thead>\n",
       "  <tbody>\n",
       "    <tr>\n",
       "      <th>2</th>\n",
       "      <td>5</td>\n",
       "      <td>20</td>\n",
       "      <td>50</td>\n",
       "    </tr>\n",
       "    <tr>\n",
       "      <th>3</th>\n",
       "      <td>6</td>\n",
       "      <td>30</td>\n",
       "      <td>-30</td>\n",
       "    </tr>\n",
       "  </tbody>\n",
       "</table>\n",
       "</div>"
      ],
      "text/plain": [
       "   AAA  BBB  CCC\n",
       "2    5   20   50\n",
       "3    6   30  -30"
      ]
     },
     "execution_count": 170,
     "metadata": {},
     "output_type": "execute_result"
    }
   ],
   "source": [
    "df2.iloc[1:3]"
   ]
  },
  {
   "cell_type": "code",
   "execution_count": 171,
   "metadata": {},
   "outputs": [
    {
     "data": {
      "text/html": [
       "<div>\n",
       "<style scoped>\n",
       "    .dataframe tbody tr th:only-of-type {\n",
       "        vertical-align: middle;\n",
       "    }\n",
       "\n",
       "    .dataframe tbody tr th {\n",
       "        vertical-align: top;\n",
       "    }\n",
       "\n",
       "    .dataframe thead th {\n",
       "        text-align: right;\n",
       "    }\n",
       "</style>\n",
       "<table border=\"1\" class=\"dataframe\">\n",
       "  <thead>\n",
       "    <tr style=\"text-align: right;\">\n",
       "      <th></th>\n",
       "      <th>AAA</th>\n",
       "      <th>BBB</th>\n",
       "      <th>CCC</th>\n",
       "    </tr>\n",
       "  </thead>\n",
       "  <tbody>\n",
       "    <tr>\n",
       "      <th>1</th>\n",
       "      <td>4</td>\n",
       "      <td>10</td>\n",
       "      <td>100</td>\n",
       "    </tr>\n",
       "    <tr>\n",
       "      <th>2</th>\n",
       "      <td>5</td>\n",
       "      <td>20</td>\n",
       "      <td>50</td>\n",
       "    </tr>\n",
       "    <tr>\n",
       "      <th>3</th>\n",
       "      <td>6</td>\n",
       "      <td>30</td>\n",
       "      <td>-30</td>\n",
       "    </tr>\n",
       "  </tbody>\n",
       "</table>\n",
       "</div>"
      ],
      "text/plain": [
       "   AAA  BBB  CCC\n",
       "1    4   10  100\n",
       "2    5   20   50\n",
       "3    6   30  -30"
      ]
     },
     "execution_count": 171,
     "metadata": {},
     "output_type": "execute_result"
    }
   ],
   "source": [
    "df2.loc[1:3]"
   ]
  },
  {
   "cell_type": "code",
   "execution_count": null,
   "metadata": {},
   "outputs": [],
   "source": [
    "https://github.com/wesm/pydata-book"
   ]
  },
  {
   "cell_type": "code",
   "execution_count": null,
   "metadata": {},
   "outputs": [],
   "source": []
  },
  {
   "cell_type": "code",
   "execution_count": null,
   "metadata": {},
   "outputs": [],
   "source": []
  },
  {
   "cell_type": "code",
   "execution_count": null,
   "metadata": {},
   "outputs": [],
   "source": []
  }
 ],
 "metadata": {
  "kernelspec": {
   "display_name": "Python 3",
   "language": "python",
   "name": "python3"
  },
  "language_info": {
   "codemirror_mode": {
    "name": "ipython",
    "version": 3
   },
   "file_extension": ".py",
   "mimetype": "text/x-python",
   "name": "python",
   "nbconvert_exporter": "python",
   "pygments_lexer": "ipython3",
   "version": "3.8.5"
  }
 },
 "nbformat": 4,
 "nbformat_minor": 2
}
