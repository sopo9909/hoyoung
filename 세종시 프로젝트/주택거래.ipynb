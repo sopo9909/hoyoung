{
 "cells": [
  {
   "cell_type": "code",
   "execution_count": 4,
   "metadata": {
    "ExecuteTime": {
     "end_time": "2021-03-20T08:41:47.177206Z",
     "start_time": "2021-03-20T08:41:47.173242Z"
    }
   },
   "outputs": [],
   "source": [
    "import pandas as pd"
   ]
  },
  {
   "cell_type": "code",
   "execution_count": 5,
   "metadata": {
    "ExecuteTime": {
     "end_time": "2021-03-20T08:41:47.365325Z",
     "start_time": "2021-03-20T08:41:47.355317Z"
    }
   },
   "outputs": [],
   "source": [
    "data=pd.read_csv('주택거래_연도별1.csv',encoding='cp949',header=10)"
   ]
  },
  {
   "cell_type": "code",
   "execution_count": 6,
   "metadata": {
    "ExecuteTime": {
     "end_time": "2021-03-20T08:41:47.764752Z",
     "start_time": "2021-03-20T08:41:47.758764Z"
    }
   },
   "outputs": [],
   "source": [
    "jeon=data[data['지 역']=='전국']\n",
    "seoul=data[data['지 역']=='서울']\n",
    "sejong=data[data['지 역']=='세종']"
   ]
  },
  {
   "cell_type": "code",
   "execution_count": null,
   "metadata": {
    "ExecuteTime": {
     "end_time": "2021-03-20T08:34:22.320227Z",
     "start_time": "2021-03-20T08:34:22.304270Z"
    }
   },
   "outputs": [],
   "source": [
    "###그래프 그리는 섹터\n",
    "##2015년부터 그래프 그리면 될듯"
   ]
  },
  {
   "cell_type": "markdown",
   "metadata": {},
   "source": [
    "### 이건 주택거래에서 세종시의 비중"
   ]
  },
  {
   "cell_type": "code",
   "execution_count": 16,
   "metadata": {
    "ExecuteTime": {
     "end_time": "2021-03-20T08:47:37.740840Z",
     "start_time": "2021-03-20T08:47:37.727901Z"
    }
   },
   "outputs": [
    {
     "name": "stdout",
     "output_type": "stream",
     "text": [
      "1.88 %\n",
      "1.76 %\n",
      "1.38 %\n",
      "1.3 %\n"
     ]
    }
   ],
   "source": [
    "print(str(round(int(sejong['2017년'].values[0])/int(jeon['2017년'].values[0])*100,2))+' %')\n",
    "print(str(round(int(sejong['2018년'].values[0])/int(jeon['2018년'].values[0])*100,2))+' %')\n",
    "print(str(round(int(sejong['2019년'].values[0])/int(jeon['2019년'].values[0])*100,2))+' %')\n",
    "print(str(round(int(sejong['2020년'].values[0])/int(jeon['2020년'].values[0])*100,2))+' %')"
   ]
  },
  {
   "cell_type": "markdown",
   "metadata": {},
   "source": [
    "### 이건 주택거래에서 서울의 비중"
   ]
  },
  {
   "cell_type": "code",
   "execution_count": 18,
   "metadata": {
    "ExecuteTime": {
     "end_time": "2021-03-20T08:48:19.307298Z",
     "start_time": "2021-03-20T08:48:19.296318Z"
    }
   },
   "outputs": [
    {
     "name": "stdout",
     "output_type": "stream",
     "text": [
      "15.98 %\n",
      "15.37 %\n",
      "13.44 %\n",
      "13.55 %\n"
     ]
    }
   ],
   "source": [
    "print(str(round(int(seoul['2017년'].values[0])/int(jeon['2017년'].values[0])*100,2))+' %')\n",
    "print(str(round(int(seoul['2018년'].values[0])/int(jeon['2018년'].values[0])*100,2))+' %')\n",
    "print(str(round(int(seoul['2019년'].values[0])/int(jeon['2019년'].values[0])*100,2))+' %')\n",
    "print(str(round(int(seoul['2020년'].values[0])/int(jeon['2020년'].values[0])*100,2))+' %')"
   ]
  },
  {
   "cell_type": "code",
   "execution_count": null,
   "metadata": {},
   "outputs": [],
   "source": []
  }
 ],
 "metadata": {
  "kernelspec": {
   "display_name": "Python 3",
   "language": "python",
   "name": "python3"
  },
  "language_info": {
   "codemirror_mode": {
    "name": "ipython",
    "version": 3
   },
   "file_extension": ".py",
   "mimetype": "text/x-python",
   "name": "python",
   "nbconvert_exporter": "python",
   "pygments_lexer": "ipython3",
   "version": "3.8.5"
  },
  "toc": {
   "base_numbering": 1,
   "nav_menu": {},
   "number_sections": true,
   "sideBar": true,
   "skip_h1_title": false,
   "title_cell": "Table of Contents",
   "title_sidebar": "Contents",
   "toc_cell": false,
   "toc_position": {},
   "toc_section_display": true,
   "toc_window_display": false
  },
  "varInspector": {
   "cols": {
    "lenName": 16,
    "lenType": 16,
    "lenVar": 40
   },
   "kernels_config": {
    "python": {
     "delete_cmd_postfix": "",
     "delete_cmd_prefix": "del ",
     "library": "var_list.py",
     "varRefreshCmd": "print(var_dic_list())"
    },
    "r": {
     "delete_cmd_postfix": ") ",
     "delete_cmd_prefix": "rm(",
     "library": "var_list.r",
     "varRefreshCmd": "cat(var_dic_list()) "
    }
   },
   "types_to_exclude": [
    "module",
    "function",
    "builtin_function_or_method",
    "instance",
    "_Feature"
   ],
   "window_display": false
  }
 },
 "nbformat": 4,
 "nbformat_minor": 4
}
