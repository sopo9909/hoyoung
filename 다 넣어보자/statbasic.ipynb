{
 "cells": [
  {
   "cell_type": "markdown",
   "id": "false-reviewer",
   "metadata": {},
   "source": [
    "### 통계기초\n",
    "* 기술 통계 지표"
   ]
  },
  {
   "cell_type": "code",
   "execution_count": 14,
   "id": "figured-basic",
   "metadata": {},
   "outputs": [],
   "source": [
    "import numpy as np\n",
    "import matplotlib.pyplot as plt"
   ]
  },
  {
   "cell_type": "code",
   "execution_count": 11,
   "id": "visible-communication",
   "metadata": {},
   "outputs": [
    {
     "data": {
      "text/plain": [
       "[-47, -16, 96, -90, -126, 36, -87, -39, -126, 79]"
      ]
     },
     "execution_count": 11,
     "metadata": {},
     "output_type": "execute_result"
    }
   ],
   "source": [
    "res=[]\n",
    "for i in range(100):\n",
    "    r=np.random.normal(0,5)*10\n",
    "    res.append(int(r))\n",
    "res[:10]"
   ]
  },
  {
   "cell_type": "code",
   "execution_count": 16,
   "id": "informal-material",
   "metadata": {},
   "outputs": [
    {
     "data": {
      "image/png": "[encoded data removed]",
      "text/plain": [
       "<Figure size 432x288 with 1 Axes>"
      ]
     },
     "metadata": {
      "needs_background": "light"
     },
     "output_type": "display_data"
    }
   ],
   "source": [
    "plt.hist(res)\n",
    "plt.show()"
   ]
  },
  {
   "cell_type": "code",
   "execution_count": 17,
   "id": "christian-yellow",
   "metadata": {},
   "outputs": [
    {
     "data": {
      "text/plain": [
       "1000"
      ]
     },
     "execution_count": 17,
     "metadata": {},
     "output_type": "execute_result"
    }
   ],
   "source": [
    "ys=np.random.normal(0,1,1000)\n",
    "len(ys)"
   ]
  },
  {
   "cell_type": "code",
   "execution_count": 18,
   "id": "valued-wisconsin",
   "metadata": {},
   "outputs": [
    {
     "data": {
      "image/png": "[encoded data removed]",
      "text/plain": [
       "<Figure size 432x288 with 1 Axes>"
      ]
     },
     "metadata": {
      "needs_background": "light"
     },
     "output_type": "display_data"
    }
   ],
   "source": [
    "plt.hist(ys)\n",
    "plt.show()"
   ]
  },
  {
   "cell_type": "code",
   "execution_count": 25,
   "id": "certain-doctor",
   "metadata": {},
   "outputs": [
    {
     "data": {
      "text/plain": [
       "[-5.95, -4.0, -45.5, -4.0, 34.25, 2767.4475, 52.60653476517913]"
      ]
     },
     "execution_count": 25,
     "metadata": {},
     "output_type": "execute_result"
    }
   ],
   "source": [
    "# 평균\n",
    "rmean=np.mean(res)\n",
    "#중앙값\n",
    "rmedian=np.median(res)\n",
    "#사분위수\n",
    "q1=np.percentile(res,25)\n",
    "q2=np.percentile(res,50)\n",
    "q3=np.percentile(res,75)\n",
    "#분산\n",
    "var=np.var(res)\n",
    "#표준편차\n",
    "std=np.std(res)\n",
    "[rmean,rmedian,q1,q2,q3,var,std]\n"
   ]
  },
  {
   "cell_type": "code",
   "execution_count": 35,
   "id": "brutal-poison",
   "metadata": {},
   "outputs": [
    {
     "data": {
      "text/plain": [
       "100"
      ]
     },
     "execution_count": 35,
     "metadata": {},
     "output_type": "execute_result"
    }
   ],
   "source": [
    "len(res)"
   ]
  },
  {
   "cell_type": "code",
   "execution_count": 50,
   "id": "formal-proceeding",
   "metadata": {},
   "outputs": [
    {
     "data": {
      "image/png": "[encoded data removed]",
      "text/plain": [
       "<Figure size 432x288 with 1 Axes>"
      ]
     },
     "metadata": {
      "needs_background": "light"
     },
     "output_type": "display_data"
    }
   ],
   "source": [
    "fig, ax = plt.subplots()\n",
    "#notch: 중위값 강조,vert: 회전,sym: 극단치\n",
    "ax.boxplot([res,ys], positions=[2,2.5],notch=1,vert=0,sym='ro')\n",
    "plt.show()"
   ]
  },
  {
   "cell_type": "code",
   "execution_count": null,
   "id": "considerable-forty",
   "metadata": {},
   "outputs": [],
   "source": []
  }
 ],
 "metadata": {
  "kernelspec": {
   "display_name": "Python 3",
   "language": "python",
   "name": "python3"
  },
  "language_info": {
   "codemirror_mode": {
    "name": "ipython",
    "version": 3
   },
   "file_extension": ".py",
   "mimetype": "text/x-python",
   "name": "python",
   "nbconvert_exporter": "python",
   "pygments_lexer": "ipython3",
   "version": "3.8.5"
  }
 },
 "nbformat": 4,
 "nbformat_minor": 5
}
