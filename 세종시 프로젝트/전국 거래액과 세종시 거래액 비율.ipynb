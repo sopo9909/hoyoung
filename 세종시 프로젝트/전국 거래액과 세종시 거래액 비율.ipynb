{
 "cells": [
  {
   "cell_type": "code",
   "execution_count": 43,
   "metadata": {
    "ExecuteTime": {
     "end_time": "2021-03-24T06:21:04.337315Z",
     "start_time": "2021-03-24T06:21:04.316338Z"
    }
   },
   "outputs": [],
   "source": [
    "import pandas as pd\n",
    "import numpy as np\n",
    "import matplotlib.pyplot as plt\n",
    "import platform\n",
    "from matplotlib import font_manager, rc\n",
    "import matplotlib.pyplot as plt\n",
    "##그래프의 결과를 출력 세션에 나타나게 하자\n",
    "%matplotlib inline \n",
    "plt.rcParams['axes.unicode_minus'] = False\n",
    "if platform.system() == 'Darwin':\n",
    "    rc('font', family = 'AppleGothic')\n",
    "elif platform.system() == 'Windows':\n",
    "    path ='C:/Windows/Fonts/malgun.ttf'\n",
    "    font_name = font_manager.FontProperties(fname=path).get_name()\n",
    "    rc('font', family=font_name)\n",
    "else:\n",
    "    print(\"Can't find your system.\")"
   ]
  },
  {
   "cell_type": "code",
   "execution_count": 44,
   "metadata": {
    "ExecuteTime": {
     "end_time": "2021-03-24T06:21:06.002922Z",
     "start_time": "2021-03-24T06:21:05.965986Z"
    }
   },
   "outputs": [],
   "source": [
    "data=pd.read_csv('평균매매가격_아파트1.csv',encoding='cp949',header=10)\n",
    "tata=pd.read_csv('아파트매매_연도별1.csv',encoding='cp949',header=10)\n",
    "jeon=data[data['지 역']=='전국'].T\n",
    "seoul=data[data['지 역']=='서울'].T\n",
    "sejong=data[data['지 역']=='세종'].T"
   ]
  },
  {
   "cell_type": "code",
   "execution_count": 45,
   "metadata": {
    "ExecuteTime": {
     "end_time": "2021-03-24T06:21:06.377926Z",
     "start_time": "2021-03-24T06:21:06.369948Z"
    }
   },
   "outputs": [],
   "source": [
    "def toto(x,y):\n",
    "    jeon_total=0\n",
    "    sejong_total=0\n",
    "    seoul_total=0\n",
    "    for i in range(12):\n",
    "        seoul_total+=int(seoul.iloc[76+i+(y*12)].values[0])\n",
    "        jeon_total+=int(jeon.iloc[76+i+(y*12)].values[0])\n",
    "        sejong_total+=int(sejong.iloc[76+i+(y*12)].values[0])\n",
    "    jeon_al=int(tata[tata['지 역']=='전국'][x].values[0])*(jeon_total/12)\n",
    "    sejong_al=int(tata[tata['지 역']=='세종'][x].values[0])*(sejong_total/12)\n",
    "    seoul_al=int(tata[tata['지 역']=='서울'][x].values[0])*(seoul_total/12)\n",
    "    print(tata[tata['지 역']=='서울'][x])\n",
    "    print(x+\" : \"+str((sejong_al/jeon_al)*100))\n",
    "    print(x+\" : \"+str((seoul_al/jeon_al)*100))"
   ]
  },
  {
   "cell_type": "code",
   "execution_count": 46,
   "metadata": {
    "ExecuteTime": {
     "end_time": "2021-03-24T06:21:06.864469Z",
     "start_time": "2021-03-24T06:21:06.845520Z"
    }
   },
   "outputs": [],
   "source": [
    "def toto2(x,y):#전국 거래액\n",
    "    jeon_total=0\n",
    "    for i in range(12):\n",
    "        jeon_total+=int(jeon.iloc[76+i+(y*12)].values[0])\n",
    "    return int(tata[tata['지 역']=='전국'][x].values[0])*(jeon_total/12)"
   ]
  },
  {
   "cell_type": "code",
   "execution_count": 47,
   "metadata": {
    "ExecuteTime": {
     "end_time": "2021-03-24T06:21:07.037894Z",
     "start_time": "2021-03-24T06:21:07.028884Z"
    }
   },
   "outputs": [],
   "source": [
    "def toto3(x,y):#세종 거래액\n",
    "    sejong_total=0\n",
    "    for i in range(12):\n",
    "        sejong_total+=int(sejong.iloc[76+i+(y*12)].values[0])\n",
    "    return int(tata[tata['지 역']=='세종'][x].values[0])*(sejong_total/12)"
   ]
  },
  {
   "cell_type": "code",
   "execution_count": 48,
   "metadata": {
    "ExecuteTime": {
     "end_time": "2021-03-24T06:21:07.227016Z",
     "start_time": "2021-03-24T06:21:07.212017Z"
    }
   },
   "outputs": [],
   "source": [
    "def toto4(x,y):#서울 거래액\n",
    "    seoul_total=0\n",
    "    for i in range(12):\n",
    "        seoul_total+=int(seoul.iloc[76+i+(y*12)].values[0])\n",
    "    return int(tata[tata['지 역']=='서울'][x].values[0])*(seoul_total/12)"
   ]
  },
  {
   "cell_type": "code",
   "execution_count": 49,
   "metadata": {
    "ExecuteTime": {
     "end_time": "2021-03-24T06:21:07.401896Z",
     "start_time": "2021-03-24T06:21:07.398900Z"
    }
   },
   "outputs": [],
   "source": [
    "def toto2a(x,y):#전국 거래수\n",
    "    jeon_total=0\n",
    "    for i in range(12):\n",
    "        jeon_total+=int(jeon.iloc[76+i+(y*12)].values[0])\n",
    "    return int(tata[tata['지 역']=='전국'][x].values[0])"
   ]
  },
  {
   "cell_type": "code",
   "execution_count": 50,
   "metadata": {
    "ExecuteTime": {
     "end_time": "2021-03-24T06:21:07.809231Z",
     "start_time": "2021-03-24T06:21:07.802275Z"
    }
   },
   "outputs": [],
   "source": [
    "def toto3a(x,y):#세종 거래수\n",
    "    sejong_total=0\n",
    "    for i in range(12):\n",
    "        sejong_total+=int(sejong.iloc[76+i+(y*12)].values[0])\n",
    "    return int(tata[tata['지 역']=='세종'][x].values[0])"
   ]
  },
  {
   "cell_type": "code",
   "execution_count": 51,
   "metadata": {
    "ExecuteTime": {
     "end_time": "2021-03-24T06:21:08.183539Z",
     "start_time": "2021-03-24T06:21:08.168542Z"
    }
   },
   "outputs": [],
   "source": [
    "def toto4a(x,y):#서울 거래수\n",
    "    seoul_total=0\n",
    "    for i in range(12):\n",
    "        seoul_total+=int(seoul.iloc[76+i+(y*12)].values[0])\n",
    "    return int(tata[tata['지 역']=='서울'][x].values[0])"
   ]
  },
  {
   "cell_type": "code",
   "execution_count": 52,
   "metadata": {
    "ExecuteTime": {
     "end_time": "2021-03-24T06:22:28.794300Z",
     "start_time": "2021-03-24T06:22:28.727196Z"
    }
   },
   "outputs": [],
   "source": [
    "data=pd.read_csv('평균매매가격_아파트1.csv',encoding='cp949',header=10)\n",
    "tata=pd.read_csv('아파트매매_연도별1.csv',encoding='cp949',header=10)\n",
    "jeon=data[data['지 역']=='전국'].T\n",
    "seoul=data[data['지 역']=='서울'].T\n",
    "sejong=data[data['지 역']=='세종'].T\n",
    "jeonguk=[toto2('2016년',-2),toto2('2017년',-1),toto2('2018년',0),toto2('2019년',1),toto2('2020년',2)]\n",
    "sejong=[toto3('2016년',-2),toto3('2017년',-1),toto3('2018년',0),toto3('2019년',1),toto3('2020년',2)]\n",
    "seoul=[toto4('2016년',-2),toto4('2017년',-1),toto4('2018년',0),toto4('2019년',1),toto4('2020년',2)]\n",
    "year_do=['2016년','2017년','2018년','2019년','2020년']"
   ]
  },
  {
   "cell_type": "code",
   "execution_count": 55,
   "metadata": {
    "ExecuteTime": {
     "end_time": "2021-03-24T06:27:58.312552Z",
     "start_time": "2021-03-24T06:27:58.102667Z"
    }
   },
   "outputs": [
    {
     "data": {
      "image/png": "[encoded data removed]",
      "text/plain": [
       "<Figure size 800x400 with 1 Axes>"
      ]
     },
     "metadata": {
      "needs_background": "light"
     },
     "output_type": "display_data"
    }
   ],
   "source": [
    "x=year_do\n",
    "y=jeonguk\n",
    "plt.figure(figsize=(5,2.5),dpi=160)\n",
    "plt.bar(x,y,width=0.5,color=\"plum\")\n",
    "a='전국 아파트 거래액 연도 별 추이'\n",
    "plt.title(a)\n",
    "plt.savefig(a+'.png')"
   ]
  },
  {
   "cell_type": "code",
   "execution_count": 56,
   "metadata": {
    "ExecuteTime": {
     "end_time": "2021-03-24T06:27:58.998645Z",
     "start_time": "2021-03-24T06:27:58.798923Z"
    }
   },
   "outputs": [
    {
     "data": {
      "image/png": "[encoded data removed]",
      "text/plain": [
       "<Figure size 800x400 with 1 Axes>"
      ]
     },
     "metadata": {
      "needs_background": "light"
     },
     "output_type": "display_data"
    }
   ],
   "source": [
    "x=year_do\n",
    "y=sejong\n",
    "plt.figure(figsize=(5,2.5),dpi=160)\n",
    "plt.bar(x,y,width=0.5,color=\"#ADD8E6\")\n",
    "a='세종 아파트 거래액 연도 별 추이'\n",
    "plt.title(a)\n",
    "plt.savefig(a+'.png')"
   ]
  },
  {
   "cell_type": "code",
   "execution_count": 57,
   "metadata": {
    "ExecuteTime": {
     "end_time": "2021-03-24T06:27:59.672710Z",
     "start_time": "2021-03-24T06:27:59.459433Z"
    }
   },
   "outputs": [
    {
     "data": {
      "image/png": "[encoded data removed]",
      "text/plain": [
       "<Figure size 800x400 with 1 Axes>"
      ]
     },
     "metadata": {
      "needs_background": "light"
     },
     "output_type": "display_data"
    }
   ],
   "source": [
    "x=year_do\n",
    "y=seoul\n",
    "plt.figure(figsize=(5,2.5),dpi=160)\n",
    "plt.bar(x,y,width=0.5,color=\"lightgreen\")\n",
    "a='서울 아파트 거래액 연도 별 추이'\n",
    "plt.title(a)\n",
    "plt.savefig(a+'.png')"
   ]
  },
  {
   "cell_type": "code",
   "execution_count": 58,
   "metadata": {
    "ExecuteTime": {
     "end_time": "2021-03-24T06:28:02.430104Z",
     "start_time": "2021-03-24T06:28:02.359882Z"
    }
   },
   "outputs": [],
   "source": [
    "data=pd.read_csv('평균매매가격_아파트1.csv',encoding='cp949',header=10)\n",
    "tata=pd.read_csv('아파트매매_연도별1.csv',encoding='cp949',header=10)\n",
    "jeon=data[data['지 역']=='전국'].T\n",
    "seoul=data[data['지 역']=='서울'].T\n",
    "sejong=data[data['지 역']=='세종'].T\n",
    "jeonguk_a=[toto2a('2016년',-2),toto2a('2017년',-1),toto2a('2018년',0),toto2a('2019년',1),toto2a('2020년',2)]\n",
    "sejong_a=[toto3a('2016년',-2),toto3a('2017년',-1),toto3a('2018년',0),toto3a('2019년',1),toto3a('2020년',2)]\n",
    "seoul_a=[toto4a('2016년',-2),toto4a('2017년',-1),toto4a('2018년',0),toto4a('2019년',1),toto4a('2020년',2)]\n",
    "year_do=['2016년','2017년','2018년','2019년','2020년']"
   ]
  },
  {
   "cell_type": "code",
   "execution_count": 59,
   "metadata": {
    "ExecuteTime": {
     "end_time": "2021-03-24T06:28:03.006013Z",
     "start_time": "2021-03-24T06:28:02.800187Z"
    }
   },
   "outputs": [
    {
     "data": {
      "image/png": "[encoded data removed]",
      "text/plain": [
       "<Figure size 800x400 with 1 Axes>"
      ]
     },
     "metadata": {
      "needs_background": "light"
     },
     "output_type": "display_data"
    }
   ],
   "source": [
    "x=year_do\n",
    "y=jeonguk_a\n",
    "plt.figure(figsize=(5,2.5),dpi=160)\n",
    "plt.bar(x,y,width=0.5,color=\"darkorchid\")\n",
    "a='전국 아파트 거래 수 연도 별 추이'\n",
    "plt.title(a)\n",
    "plt.savefig(a+'.png')"
   ]
  },
  {
   "cell_type": "code",
   "execution_count": 60,
   "metadata": {
    "ExecuteTime": {
     "end_time": "2021-03-24T06:28:03.710367Z",
     "start_time": "2021-03-24T06:28:03.498610Z"
    }
   },
   "outputs": [
    {
     "data": {
      "image/png": "[encoded data removed]",
      "text/plain": [
       "<Figure size 800x400 with 1 Axes>"
      ]
     },
     "metadata": {
      "needs_background": "light"
     },
     "output_type": "display_data"
    }
   ],
   "source": [
    "x=year_do\n",
    "y=sejong_a\n",
    "plt.figure(figsize=(5,2.5),dpi=160)\n",
    "plt.bar(x,y,width=0.5,color=\"#02AFFF\")\n",
    "a='세종 아파트 거래 수 연도 별 추이'\n",
    "plt.title(a)\n",
    "plt.savefig(a+'.png')"
   ]
  },
  {
   "cell_type": "code",
   "execution_count": 61,
   "metadata": {
    "ExecuteTime": {
     "end_time": "2021-03-24T06:28:04.319849Z",
     "start_time": "2021-03-24T06:28:04.084316Z"
    }
   },
   "outputs": [
    {
     "data": {
      "image/png": "[encoded data removed]",
      "text/plain": [
       "<Figure size 800x400 with 1 Axes>"
      ]
     },
     "metadata": {
      "needs_background": "light"
     },
     "output_type": "display_data"
    }
   ],
   "source": [
    "x=year_do\n",
    "y=seoul_a\n",
    "plt.figure(figsize=(5,2.5),dpi=160)\n",
    "plt.bar(x,y,width=0.5,color=\"mediumseagreen\")\n",
    "a='서울 아파트 거래 수 연도 별 추이'\n",
    "plt.title(a)\n",
    "plt.savefig(a+'.png')"
   ]
  },
  {
   "cell_type": "code",
   "execution_count": null,
   "metadata": {
    "ExecuteTime": {
     "end_time": "2021-03-20T10:03:38.534847Z",
     "start_time": "2021-03-20T10:03:38.499940Z"
    }
   },
   "outputs": [],
   "source": [
    "toto('2017년',-1) [toto('2016년',-2),toto('2017년',-1),toto('2018년',0),toto('2019년',1),toto('2020년',2)]"
   ]
  },
  {
   "cell_type": "code",
   "execution_count": null,
   "metadata": {
    "ExecuteTime": {
     "end_time": "2021-03-20T10:03:40.255537Z",
     "start_time": "2021-03-20T10:03:40.218635Z"
    }
   },
   "outputs": [],
   "source": [
    "toto('2018년',0)"
   ]
  },
  {
   "cell_type": "code",
   "execution_count": null,
   "metadata": {
    "ExecuteTime": {
     "end_time": "2021-03-20T10:03:40.772739Z",
     "start_time": "2021-03-20T10:03:40.727863Z"
    }
   },
   "outputs": [],
   "source": [
    "toto('2019년',1)"
   ]
  },
  {
   "cell_type": "code",
   "execution_count": null,
   "metadata": {
    "ExecuteTime": {
     "end_time": "2021-03-20T10:03:41.271336Z",
     "start_time": "2021-03-20T10:03:41.224463Z"
    }
   },
   "outputs": [],
   "source": [
    "toto('2020년',2)"
   ]
  },
  {
   "cell_type": "code",
   "execution_count": 5,
   "metadata": {
    "ExecuteTime": {
     "end_time": "2021-03-23T02:10:36.857187Z",
     "start_time": "2021-03-23T02:10:36.851203Z"
    }
   },
   "outputs": [],
   "source": [
    "def toto111(x,y):\n",
    "    jeon_total=0\n",
    "    sejong_total=0\n",
    "    seoul_total=0\n",
    "    for i in range(12):\n",
    "        seoul_total+=int(seoul.iloc[76+i+(y*12)].values[0])\n",
    "        jeon_total+=int(jeon.iloc[76+i+(y*12)].values[0])\n",
    "        #sejong_total+=int(sejong.iloc[76+i+(y*12)].values[0])\n",
    "    jeon_al=int(tata[tata['지 역']=='전국'][x].values[0])*(jeon_total/12)\n",
    "    #sejong_al=int(tata[tata['지 역']=='세종'][x].values[0])*(sejong_total/12)\n",
    "    seoul_al=int(tata[tata['지 역']=='서울'][x].values[0])*(seoul_total/12)\n",
    "    #print(tata[tata['지 역']=='서울'][x])\n",
    "    #print(x+\" : \"+str((sejong_al/jeon_al)*100))\n",
    "    return (seoul_al/jeon_al)*100"
   ]
  },
  {
   "cell_type": "code",
   "execution_count": 6,
   "metadata": {
    "ExecuteTime": {
     "end_time": "2021-03-23T02:10:37.298612Z",
     "start_time": "2021-03-23T02:10:37.291631Z"
    }
   },
   "outputs": [],
   "source": [
    "def toto222(x,y):\n",
    "    jeon_total=0\n",
    "    sejong_total=0\n",
    "    seoul_total=0\n",
    "    for i in range(12):\n",
    "        #seoul_total+=int(seoul.iloc[76+i+(y*12)].values[0])\n",
    "        jeon_total+=int(jeon.iloc[76+i+(y*12)].values[0])\n",
    "        sejong_total+=int(sejong.iloc[76+i+(y*12)].values[0])\n",
    "    jeon_al=int(tata[tata['지 역']=='전국'][x].values[0])*(jeon_total/12)\n",
    "    sejong_al=int(tata[tata['지 역']=='세종'][x].values[0])*(sejong_total/12)\n",
    "    #seoul_al=int(tata[tata['지 역']=='서울'][x].values[0])*(seoul_total/12)\n",
    "    #print(tata[tata['지 역']=='서울'][x])\n",
    "    #print(x+\" : \"+str((sejong_al/jeon_al)*100))\n",
    "    return (sejong_al/jeon_al)*100"
   ]
  },
  {
   "cell_type": "code",
   "execution_count": 41,
   "metadata": {
    "ExecuteTime": {
     "end_time": "2021-03-23T03:06:20.859763Z",
     "start_time": "2021-03-23T03:06:20.817875Z"
    }
   },
   "outputs": [
    {
     "data": {
      "text/html": [
       "<div>\n",
       "<style scoped>\n",
       "    .dataframe tbody tr th:only-of-type {\n",
       "        vertical-align: middle;\n",
       "    }\n",
       "\n",
       "    .dataframe tbody tr th {\n",
       "        vertical-align: top;\n",
       "    }\n",
       "\n",
       "    .dataframe thead th {\n",
       "        text-align: right;\n",
       "    }\n",
       "</style>\n",
       "<table border=\"1\" class=\"dataframe\">\n",
       "  <thead>\n",
       "    <tr style=\"text-align: right;\">\n",
       "      <th></th>\n",
       "      <th>year</th>\n",
       "      <th>sejong</th>\n",
       "      <th>seoul</th>\n",
       "    </tr>\n",
       "  </thead>\n",
       "  <tbody>\n",
       "    <tr>\n",
       "      <th>0</th>\n",
       "      <td>2016</td>\n",
       "      <td>0.410155</td>\n",
       "      <td>35.113444</td>\n",
       "    </tr>\n",
       "    <tr>\n",
       "      <th>1</th>\n",
       "      <td>2017</td>\n",
       "      <td>0.623848</td>\n",
       "      <td>35.634735</td>\n",
       "    </tr>\n",
       "    <tr>\n",
       "      <th>2</th>\n",
       "      <td>2018</td>\n",
       "      <td>0.672272</td>\n",
       "      <td>37.390304</td>\n",
       "    </tr>\n",
       "    <tr>\n",
       "      <th>3</th>\n",
       "      <td>2019</td>\n",
       "      <td>0.984338</td>\n",
       "      <td>30.565737</td>\n",
       "    </tr>\n",
       "    <tr>\n",
       "      <th>4</th>\n",
       "      <td>2020</td>\n",
       "      <td>1.657126</td>\n",
       "      <td>23.309487</td>\n",
       "    </tr>\n",
       "  </tbody>\n",
       "</table>\n",
       "</div>"
      ],
      "text/plain": [
       "   year    sejong      seoul\n",
       "0  2016  0.410155  35.113444\n",
       "1  2017  0.623848  35.634735\n",
       "2  2018  0.672272  37.390304\n",
       "3  2019  0.984338  30.565737\n",
       "4  2020  1.657126  23.309487"
      ]
     },
     "execution_count": 41,
     "metadata": {},
     "output_type": "execute_result"
    }
   ],
   "source": [
    "seoul_s=[toto111('2016년',-2),toto111('2017년',-1),toto111('2018년',0),toto111('2019년',1),toto111('2020년',2)]\n",
    "sejong_s=[toto222('2016년',-2),toto222('2017년',-1),toto222('2018년',0),toto222('2019년',1),toto222('2020년',2)]\n",
    "year=[\"2016\",\"2017\",\"2018\",\"2019\",\"2020\"]\n",
    "df = pd.DataFrame(columns=['year','sejong','seoul'])\n",
    "df['year']=[2016,2017,2018,2019,2020]\n",
    "df['seoul']=seoul_s\n",
    "df['sejong']=sejong_s\n",
    "#df_r=pd.DataFrame([year,seoul_s,sejong_s],columns=['year','seoul','sejong'])\n",
    "#df_r\n",
    "df"
   ]
  },
  {
   "cell_type": "code",
   "execution_count": 44,
   "metadata": {
    "ExecuteTime": {
     "end_time": "2021-03-23T03:09:37.890814Z",
     "start_time": "2021-03-23T03:09:37.675371Z"
    }
   },
   "outputs": [
    {
     "data": {
      "image/png": "[encoded data removed]",
      "text/plain": [
       "<Figure size 504x360 with 1 Axes>"
      ]
     },
     "metadata": {
      "needs_background": "light"
     },
     "output_type": "display_data"
    }
   ],
   "source": [
    "plt.figure(figsize=(7,5))\n",
    "plt.plot(df['year'], df['seoul'],color='slategrey', marker='^',linewidth=1,label='서울특별시')\n",
    "plt.plot(df['year'], df['sejong'], color='dodgerblue', marker='*', linewidth=1,label='세종특별자치시')\n",
    "plt.xticks(df['year'],fontsize=15)\n",
    "#plt.xlabel('거래 년도')\n",
    "#plt.ylabel('전국 대비 비율')\n",
    "plt.title('전국 대비 세종시 서울시 거래액 비율(%)',fontsize=15)\n",
    "#plt.xlabel('연도')\n",
    "plt.yticks(fontsize=15)\n",
    "#plt.ylabel('비율 (단위:%)')\n",
    "#plt.plot(a, a**3, color='springgreen', marker='^', markersize=9)\n",
    "plt.legend()\n",
    "plt.show()"
   ]
  },
  {
   "cell_type": "code",
   "execution_count": null,
   "metadata": {},
   "outputs": [],
   "source": [
    "plt.figure(figsize=(7,7))\n",
    "plt.plot(df['year'],df['sejong'],color='lightblue',marker='o',label='세종특별자치시')\n",
    "plt.plot(df['year'],df['seoul'],color='lightcoral',marker='o',label='서울특별시')\n",
    "plt.xticks(df['year'],fontsize=15)\n",
    "plt.xlabel('연도')\n",
    "plt.yticks(fontsize=15)\n",
    "plt.ylabel('비율 (단위:%)')\n",
    "plt.title('서울, 세종 거래액 비율 비교',fontsize=20)\n",
    "plt.legend()\n",
    "plt.show()"
   ]
  }
 ],
 "metadata": {
  "kernelspec": {
   "display_name": "Python 3",
   "language": "python",
   "name": "python3"
  },
  "language_info": {
   "codemirror_mode": {
    "name": "ipython",
    "version": 3
   },
   "file_extension": ".py",
   "mimetype": "text/x-python",
   "name": "python",
   "nbconvert_exporter": "python",
   "pygments_lexer": "ipython3",
   "version": "3.8.5"
  },
  "toc": {
   "base_numbering": 1,
   "nav_menu": {},
   "number_sections": true,
   "sideBar": true,
   "skip_h1_title": false,
   "title_cell": "Table of Contents",
   "title_sidebar": "Contents",
   "toc_cell": false,
   "toc_position": {},
   "toc_section_display": true,
   "toc_window_display": false
  },
  "varInspector": {
   "cols": {
    "lenName": 16,
    "lenType": 16,
    "lenVar": 40
   },
   "kernels_config": {
    "python": {
     "delete_cmd_postfix": "",
     "delete_cmd_prefix": "del ",
     "library": "var_list.py",
     "varRefreshCmd": "print(var_dic_list())"
    },
    "r": {
     "delete_cmd_postfix": ") ",
     "delete_cmd_prefix": "rm(",
     "library": "var_list.r",
     "varRefreshCmd": "cat(var_dic_list()) "
    }
   },
   "types_to_exclude": [
    "module",
    "function",
    "builtin_function_or_method",
    "instance",
    "_Feature"
   ],
   "window_display": false
  }
 },
 "nbformat": 4,
 "nbformat_minor": 4
}
