{
 "cells": [
  {
   "cell_type": "code",
   "execution_count": 2,
   "metadata": {},
   "outputs": [],
   "source": [
    "from selenium import webdriver\n",
    "from selenium.webdriver.common.keys import Keys\n",
    "chromedriver = 'C:/Users/701/kdigital/lecture/K_digital_lecture/chromedriver'\n",
    "driver = webdriver.Chrome(chromedriver)\n",
    "driver.get('https://www.jungle.co.kr/')"
   ]
  },
  {
   "cell_type": "code",
   "execution_count": 3,
   "metadata": {},
   "outputs": [
    {
     "data": {
      "text/plain": [
       "[<selenium.webdriver.remote.webelement.WebElement (session=\"3932e535fa43e364e193338808a59e96\", element=\"2071d185-44a6-457b-9392-66ae3aca20e5\")>]"
      ]
     },
     "execution_count": 3,
     "metadata": {},
     "output_type": "execute_result"
    }
   ],
   "source": [
    "driver.find_elements_by_css_selector('body > div.wrap > div.container_main > ul:nth-child(2) > li:nth-child(1) > a.thumb_title > span.title')"
   ]
  },
  {
   "cell_type": "code",
   "execution_count": 6,
   "metadata": {},
   "outputs": [],
   "source": [
    "driver = webdriver.Chrome(chromedriver)\n",
    "driver.get('https://www.hackerrank.com/')\n",
    "login_btn = driver.find_element_by_css_selector(\"#menu-item-2887 > a\")\n",
    "login_btn.click()\n",
    "login_btn2 = driver.find_element_by_css_selector(\".fl-node-5bd106f71cd43 a.fl-button\")\n",
    "login_btn2.click()\n",
    "\n",
    "input_id = driver.find_element_by_css_selector(\"#input-1\")\n",
    "input_pw = driver.find_element_by_css_selector(\"#input-2\")\n",
    "\n",
    "input_id.send_keys(\"chesed71@naver.com\")\n",
    "input_pw.send_keys(\"1qaz2waX\")\n",
    "\n",
    "btn3=driver.find_element_by_css_selector(\"#tab-1-content-1 > div.login-form.auth-form.theme-m > form > div.form-item.clearfix > button > div > span\")\n",
    "btn3.click()\n",
    "driver.implicitly_wait(5)\n",
    "driver.execute_script(\"window.scrollTo(0,document.body.scrollHeight);\")"
   ]
  },
  {
   "cell_type": "code",
   "execution_count": null,
   "metadata": {},
   "outputs": [],
   "source": []
  }
 ],
 "metadata": {
  "kernelspec": {
   "display_name": "Python 3",
   "language": "python",
   "name": "python3"
  },
  "language_info": {
   "codemirror_mode": {
    "name": "ipython",
    "version": 3
   },
   "file_extension": ".py",
   "mimetype": "text/x-python",
   "name": "python",
   "nbconvert_exporter": "python",
   "pygments_lexer": "ipython3",
   "version": "3.8.5"
  }
 },
 "nbformat": 4,
 "nbformat_minor": 4
}
