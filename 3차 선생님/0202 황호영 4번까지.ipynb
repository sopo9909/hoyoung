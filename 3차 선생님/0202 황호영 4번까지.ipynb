{
 "cells": [
  {
   "cell_type": "markdown",
   "metadata": {},
   "source": [
    "## 1번 암호화"
   ]
  },
  {
   "cell_type": "code",
   "execution_count": null,
   "metadata": {},
   "outputs": [],
   "source": [
    "def coco(text,num):\n",
    "    password=''\n",
    "    for i in range(len(text)):\n",
    "        a=ord(text[i])\n",
    "        password +=chr(a+num)\n",
    "    return password\n",
    "text = \"20210202 venice attack\"\n",
    "print(coco(text,3))\n",
    "print(coco(coco(text,3),-3))"
   ]
  },
  {
   "cell_type": "markdown",
   "metadata": {},
   "source": [
    "## 2번 369"
   ]
  },
  {
   "cell_type": "code",
   "execution_count": null,
   "metadata": {},
   "outputs": [],
   "source": [
    "#3의 배수 짝\n",
    "for i in range(1,31):\n",
    "    if i%3==0:\n",
    "        print('짝')\n",
    "    else:\n",
    "        print(i)"
   ]
  },
  {
   "cell_type": "code",
   "execution_count": null,
   "metadata": {},
   "outputs": [],
   "source": [
    "for i in range(1,31):\n",
    "    a=i%10\n",
    "    if a%3==0:\n",
    "        print('짝')\n",
    "    else:\n",
    "        print(i)"
   ]
  },
  {
   "cell_type": "markdown",
   "metadata": {},
   "source": [
    "## 3번 열차"
   ]
  },
  {
   "cell_type": "code",
   "execution_count": null,
   "metadata": {},
   "outputs": [],
   "source": [
    "hol=[]\n",
    "zza=[]\n",
    "no1=[]\n",
    "no2=[]\n",
    "for i in range(26):\n",
    "    if i%2==0:#홀수번째\n",
    "        hol.append(chr(65+i))#숫자 생성\n",
    "    else:#짝수번째\n",
    "        zza.append(chr(65+i))#숫자 생성\n",
    "for i in range(13):\n",
    "    no1.append(' ')\n",
    "    no2.append(' ')\n",
    "a=np.array([hol,no1,no2,zza])\n",
    "print(a)"
   ]
  },
  {
   "cell_type": "markdown",
   "metadata": {},
   "source": [
    "## 4번 짝짝"
   ]
  },
  {
   "cell_type": "code",
   "execution_count": null,
   "metadata": {},
   "outputs": [],
   "source": [
    "answer=[]\n",
    "def mod(a,toto):\n",
    "    if a%3==0 and a!=0:\n",
    "        toto=toto+1\n",
    "for i in range(1,101):\n",
    "    a,b=divmod(i,10)\n",
    "    toto=0\n",
    "    mod(a,toto)\n",
    "    mod(b,toto)\n",
    "    if toto ==0:\n",
    "        if i%3==0:\n",
    "            answer.append('짝')\n",
    "        else:\n",
    "            answer.append(i)\n",
    "    else:\n",
    "        answer.append('짝'*toto)\n",
    "print(answer)"
   ]
  }
 ],
 "metadata": {
  "kernelspec": {
   "display_name": "Python 3",
   "language": "python",
   "name": "python3"
  },
  "language_info": {
   "codemirror_mode": {
    "name": "ipython",
    "version": 3
   },
   "file_extension": ".py",
   "mimetype": "text/x-python",
   "name": "python",
   "nbconvert_exporter": "python",
   "pygments_lexer": "ipython3",
   "version": "3.8.5"
  }
 },
 "nbformat": 4,
 "nbformat_minor": 4
}
