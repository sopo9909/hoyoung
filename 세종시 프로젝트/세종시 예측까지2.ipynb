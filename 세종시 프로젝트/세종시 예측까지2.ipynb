{
 "cells": [
  {
   "cell_type": "code",
   "execution_count": 1,
   "metadata": {
    "ExecuteTime": {
     "end_time": "2021-03-25T02:47:17.091049Z",
     "start_time": "2021-03-25T02:47:16.303701Z"
    }
   },
   "outputs": [],
   "source": [
    "import pandas as pd\n",
    "import numpy as np\n",
    "import matplotlib.pyplot as plt\n",
    "import platform\n",
    "from matplotlib import font_manager, rc\n",
    "import matplotlib.pyplot as plt\n",
    "##그래프의 결과를 출력 세션에 나타나게 하자\n",
    "%matplotlib inline \n",
    "plt.rcParams['axes.unicode_minus'] = False\n",
    "if platform.system() == 'Darwin':\n",
    "    rc('font', family = 'AppleGothic')\n",
    "elif platform.system() == 'Windows':\n",
    "    path ='C:/Windows/Fonts/malgun.ttf'\n",
    "    font_name = font_manager.FontProperties(fname=path).get_name()\n",
    "    rc('font', family=font_name)\n",
    "else:\n",
    "    print(\"Can't find your system.\")"
   ]
  },
  {
   "cell_type": "code",
   "execution_count": 2,
   "metadata": {
    "ExecuteTime": {
     "end_time": "2021-03-25T02:47:17.200712Z",
     "start_time": "2021-03-25T02:47:17.139876Z"
    }
   },
   "outputs": [],
   "source": [
    "data = pd.read_csv('3.세종시_아파트(매매)_실거래가.csv')"
   ]
  },
  {
   "cell_type": "markdown",
   "metadata": {},
   "source": [
    "### 아파트 계약년월일 기준 오름차순"
   ]
  },
  {
   "cell_type": "code",
   "execution_count": 3,
   "metadata": {
    "ExecuteTime": {
     "end_time": "2021-03-25T02:47:20.247099Z",
     "start_time": "2021-03-25T02:47:20.224188Z"
    }
   },
   "outputs": [],
   "source": [
    "#읍면동 구분하는 함수\n",
    "def sort_dong(df):\n",
    "    a=df.split(\" \")\n",
    "    if a[1][-1]=='동':\n",
    "        return '동'\n",
    "    elif a[1][-1]=='면':\n",
    "        return '면'\n",
    "    else :\n",
    "        return '읍'\n",
    "data['읍면동구분']=data['시군구'].apply(sort_dong)"
   ]
  },
  {
   "cell_type": "code",
   "execution_count": 8,
   "metadata": {
    "ExecuteTime": {
     "end_time": "2021-03-25T02:48:30.896598Z",
     "start_time": "2021-03-25T02:48:30.885627Z"
    }
   },
   "outputs": [],
   "source": [
    "def pyeong(df):\n",
    "    if df< 33:\n",
    "        return '10평 미만'\n",
    "    elif df>= 33 and df < 66:\n",
    "        return '10~20평'\n",
    "    elif df>= 66 and df < 99:\n",
    "        return '20~30평'\n",
    "    elif df>= 99 and df < 132:\n",
    "        return '30~40평'\n",
    "    elif df>= 132 and df < 165:\n",
    "        return '40~50평'\n",
    "    elif df>= 165 and df < 198:\n",
    "        return '50~60평'\n",
    "    else:\n",
    "        return '60평 이상'"
   ]
  },
  {
   "cell_type": "code",
   "execution_count": 9,
   "metadata": {
    "ExecuteTime": {
     "end_time": "2021-03-25T02:48:31.640539Z",
     "start_time": "2021-03-25T02:48:31.615605Z"
    }
   },
   "outputs": [],
   "source": [
    "#동 구분하는 함수\n",
    "def sort_dong2(df):\n",
    "    a=df.split(\" \")\n",
    "    return a[1]\n",
    "data['읍면동']=data['시군구'].apply(sort_dong2)"
   ]
  },
  {
   "cell_type": "code",
   "execution_count": 10,
   "metadata": {
    "ExecuteTime": {
     "end_time": "2021-03-25T02:48:32.044561Z",
     "start_time": "2021-03-25T02:48:32.022620Z"
    }
   },
   "outputs": [],
   "source": [
    "data[\"평\"]=data[\"전용면적(㎡)\"].apply(pyeong)"
   ]
  },
  {
   "cell_type": "code",
   "execution_count": null,
   "metadata": {},
   "outputs": [],
   "source": [
    "data[\"평\"]=data[\"전용면적(㎡)\"].apply(pyeong)\n",
    "dong_all=data['읍면동'].unique()\n",
    "dong_all=list(dong_all)\n",
    "for dong_one in dong_all:\n",
    "    new=data[data['읍면동']==dong_one]\n",
    "    group_new=new.groupby(['평']).count()\n",
    "    x=group_new['계약년월'].index\n",
    "    y=group_new['계약년월'].values\n",
    "    plt.figure(figsize=(15,2.5),dpi=160)\n",
    "    plt.bar(x,y,width=0.5,color=\"blue\")\n",
    "    a=dong_one+'평별 거래건수'\n",
    "    plt.title(a)\n",
    "    plt.savefig(a+'.png')"
   ]
  },
  {
   "cell_type": "code",
   "execution_count": null,
   "metadata": {
    "ExecuteTime": {
     "end_time": "2021-03-23T01:34:03.451968Z",
     "start_time": "2021-03-23T01:34:03.424043Z"
    }
   },
   "outputs": [],
   "source": [
    "data"
   ]
  },
  {
   "cell_type": "code",
   "execution_count": null,
   "metadata": {
    "ExecuteTime": {
     "end_time": "2021-03-23T01:35:33.018135Z",
     "start_time": "2021-03-23T01:35:32.974226Z"
    }
   },
   "outputs": [],
   "source": [
    "data[\"평\"]=data[\"전용면적(㎡)\"].apply(pyeong)\n",
    "dong_all=data['읍면동'].unique()\n",
    "dong_all=list(dong_all)\n",
    "for dong_one in dong_all:\n",
    "    new=data[data['읍면동']==dong_one]\n",
    "    group_new=new.groupby(['평']).mean()\n",
    "    x=group_new['계약년'].index\n",
    "    y=group_new['거래금액(만원)'].values\n",
    "    plt.figure(figsize=(15,2.5),dpi=160)\n",
    "    plt.bar(x,y,width=0.5,color=\"blue\")\n",
    "    a=dong_one+'평별 거래건수'\n",
    "    plt.title(a)\n",
    "    plt.savefig(a+'.png')"
   ]
  },
  {
   "cell_type": "code",
   "execution_count": 18,
   "metadata": {
    "ExecuteTime": {
     "end_time": "2021-03-25T02:57:18.094940Z",
     "start_time": "2021-03-25T02:57:18.072003Z"
    }
   },
   "outputs": [],
   "source": [
    "def year(df):\n",
    "    return df[:-2]\n",
    "data['계약년월']=data['계약년월'].astype(str)\n",
    "data['계약년']=data['계약년월'].apply(year)\n",
    "data['계약년']=data['계약년'].astype(int)"
   ]
  },
  {
   "cell_type": "code",
   "execution_count": 19,
   "metadata": {
    "ExecuteTime": {
     "end_time": "2021-03-25T02:57:18.843675Z",
     "start_time": "2021-03-25T02:57:18.438740Z"
    }
   },
   "outputs": [
    {
     "ename": "UFuncTypeError",
     "evalue": "ufunc 'add' did not contain a loop with signature matching types (dtype('<U21'), dtype('<U21')) -> dtype('<U21')",
     "output_type": "error",
     "traceback": [
      "\u001b[1;31m---------------------------------------------------------------------------\u001b[0m",
      "\u001b[1;31mUFuncTypeError\u001b[0m                            Traceback (most recent call last)",
      "\u001b[1;32m<ipython-input-19-ff348b9f4665>\u001b[0m in \u001b[0;36m<module>\u001b[1;34m\u001b[0m\n\u001b[0;32m      9\u001b[0m     \u001b[0mplt\u001b[0m\u001b[1;33m.\u001b[0m\u001b[0mfigure\u001b[0m\u001b[1;33m(\u001b[0m\u001b[0mfigsize\u001b[0m\u001b[1;33m=\u001b[0m\u001b[1;33m(\u001b[0m\u001b[1;36m15\u001b[0m\u001b[1;33m,\u001b[0m\u001b[1;36m2.5\u001b[0m\u001b[1;33m)\u001b[0m\u001b[1;33m,\u001b[0m\u001b[0mdpi\u001b[0m\u001b[1;33m=\u001b[0m\u001b[1;36m160\u001b[0m\u001b[1;33m)\u001b[0m\u001b[1;33m\u001b[0m\u001b[1;33m\u001b[0m\u001b[0m\n\u001b[0;32m     10\u001b[0m     \u001b[0mplt\u001b[0m\u001b[1;33m.\u001b[0m\u001b[0mbar\u001b[0m\u001b[1;33m(\u001b[0m\u001b[0mx\u001b[0m\u001b[1;33m,\u001b[0m\u001b[0my\u001b[0m\u001b[1;33m,\u001b[0m\u001b[0mwidth\u001b[0m\u001b[1;33m=\u001b[0m\u001b[1;36m0.5\u001b[0m\u001b[1;33m,\u001b[0m\u001b[0mcolor\u001b[0m\u001b[1;33m=\u001b[0m\u001b[1;34m\"blue\"\u001b[0m\u001b[1;33m)\u001b[0m\u001b[1;33m\u001b[0m\u001b[1;33m\u001b[0m\u001b[0m\n\u001b[1;32m---> 11\u001b[1;33m     \u001b[0ma\u001b[0m\u001b[1;33m=\u001b[0m\u001b[0mdong_one\u001b[0m\u001b[1;33m+\u001b[0m\u001b[1;34m'년도별 거래건수'\u001b[0m\u001b[1;33m\u001b[0m\u001b[1;33m\u001b[0m\u001b[0m\n\u001b[0m\u001b[0;32m     12\u001b[0m     \u001b[0mplt\u001b[0m\u001b[1;33m.\u001b[0m\u001b[0mtitle\u001b[0m\u001b[1;33m(\u001b[0m\u001b[0ma\u001b[0m\u001b[1;33m)\u001b[0m\u001b[1;33m\u001b[0m\u001b[1;33m\u001b[0m\u001b[0m\n\u001b[0;32m     13\u001b[0m     \u001b[0mplt\u001b[0m\u001b[1;33m.\u001b[0m\u001b[0msavefig\u001b[0m\u001b[1;33m(\u001b[0m\u001b[0ma\u001b[0m\u001b[1;33m+\u001b[0m\u001b[1;34m'.png'\u001b[0m\u001b[1;33m)\u001b[0m\u001b[1;33m\u001b[0m\u001b[1;33m\u001b[0m\u001b[0m\n",
      "\u001b[1;31mUFuncTypeError\u001b[0m: ufunc 'add' did not contain a loop with signature matching types (dtype('<U21'), dtype('<U21')) -> dtype('<U21')"
     ]
    },
    {
     "data": {
      "image/png": "[encoded data removed]",
      "text/plain": [
       "<Figure size 2400x400 with 1 Axes>"
      ]
     },
     "metadata": {
      "needs_background": "light"
     },
     "output_type": "display_data"
    }
   ],
   "source": [
    "data[\"평\"]=data[\"전용면적(㎡)\"].apply(pyeong)\n",
    "dong_all=data['읍면동'].unique()\n",
    "dong_all=list(dong_all)\n",
    "for dong_one in dong_all:\n",
    "    new=data[data['읍면동']==dong_one]\n",
    "    group_new=new.groupby(['계약년']).count()\n",
    "    x=group_new['계약년월'].index\n",
    "    y=group_new['계약년월'].values\n",
    "    plt.figure(figsize=(15,2.5),dpi=160)\n",
    "    plt.bar(x,y,width=0.5,color=\"blue\")\n",
    "    a=dong_one+'년도별 거래건수'\n",
    "    plt.title(a)\n",
    "    plt.savefig(a+'.png')"
   ]
  },
  {
   "cell_type": "code",
   "execution_count": null,
   "metadata": {},
   "outputs": [],
   "source": [
    "up=data.groupby('읍면동').count()\n",
    "x=up.index\n",
    "y=up['계약년월']\n",
    "plt.figure(figsize=(15,2.5),dpi=160)\n",
    "plt.bar(x,y,width=0.5,color=\"blue\")\n",
    "a='동별 아파트 매매 거래건수'\n",
    "plt.title(a)\n",
    "plt.savefig(a+'.png')"
   ]
  },
  {
   "cell_type": "code",
   "execution_count": 7,
   "metadata": {
    "ExecuteTime": {
     "end_time": "2021-03-25T02:47:31.694188Z",
     "start_time": "2021-03-25T02:47:31.656286Z"
    }
   },
   "outputs": [],
   "source": [
    "def riri(df):\n",
    "    return int(float(df.replace(',','')))\n",
    "data['거래금액(만원)'] =data['거래금액(만원)'].apply(riri)"
   ]
  },
  {
   "cell_type": "code",
   "execution_count": null,
   "metadata": {
    "ExecuteTime": {
     "end_time": "2021-03-25T01:23:30.780293Z",
     "start_time": "2021-03-25T01:23:30.761344Z"
    }
   },
   "outputs": [],
   "source": [
    "data[data['읍면동']=='가람동']"
   ]
  },
  {
   "cell_type": "code",
   "execution_count": null,
   "metadata": {},
   "outputs": [],
   "source": [
    "up=up.drop(['가람동','해밀동'])"
   ]
  },
  {
   "cell_type": "code",
   "execution_count": null,
   "metadata": {
    "ExecuteTime": {
     "end_time": "2021-03-23T07:56:39.348999Z",
     "start_time": "2021-03-23T07:56:38.631376Z"
    }
   },
   "outputs": [],
   "source": [
    "up=data.groupby('읍면동').mean()\n",
    "up=up.drop(['가람동','해밀동'])\n",
    "x=up.index\n",
    "y=up['거래금액(만원)']\n",
    "plt.figure(figsize=(11,9),dpi=160)\n",
    "plt.bar(x,y,width=0.5,color=\"plum\")\n",
    "plt.xticks(rotation=45,fontsize=15) \n",
    "plt.yticks(fontsize=18) \n",
    "a='동별 아파트 매매 평균 거래금액(만원)'\n",
    "plt.title(a,fontsize=18)\n",
    "plt.savefig(a+'.png')"
   ]
  },
  {
   "cell_type": "code",
   "execution_count": null,
   "metadata": {
    "ExecuteTime": {
     "end_time": "2021-03-23T07:57:01.703635Z",
     "start_time": "2021-03-23T07:57:01.697652Z"
    }
   },
   "outputs": [],
   "source": [
    "up['거래금액(만원)']"
   ]
  },
  {
   "cell_type": "code",
   "execution_count": null,
   "metadata": {},
   "outputs": [],
   "source": [
    "data['평평']=data['전용면적(㎡)']/3.3\n",
    "data['평당 가격(만원)']=data['거래금액(만원)']/data['평평']\n",
    "up=data.groupby('읍면동').mean()\n",
    "x=up.index\n",
    "y=up['평당 가격(만원)']\n",
    "plt.figure(figsize=(15,2.5),dpi=160)\n",
    "plt.bar(x,y,width=0.5,color=\"blue\")\n",
    "a='동별 아파트 매매 평당 가격'\n",
    "plt.title(a)\n",
    "plt.savefig(a+'.png')"
   ]
  },
  {
   "cell_type": "code",
   "execution_count": 21,
   "metadata": {
    "ExecuteTime": {
     "end_time": "2021-03-25T02:57:27.795026Z",
     "start_time": "2021-03-25T02:57:27.762140Z"
    }
   },
   "outputs": [
    {
     "data": {
      "text/html": [
       "<div>\n",
       "<style scoped>\n",
       "    .dataframe tbody tr th:only-of-type {\n",
       "        vertical-align: middle;\n",
       "    }\n",
       "\n",
       "    .dataframe tbody tr th {\n",
       "        vertical-align: top;\n",
       "    }\n",
       "\n",
       "    .dataframe thead th {\n",
       "        text-align: right;\n",
       "    }\n",
       "</style>\n",
       "<table border=\"1\" class=\"dataframe\">\n",
       "  <thead>\n",
       "    <tr style=\"text-align: right;\">\n",
       "      <th></th>\n",
       "      <th>계약일</th>\n",
       "      <th>시군구</th>\n",
       "      <th>부번</th>\n",
       "      <th>단지명</th>\n",
       "      <th>전용면적(㎡)</th>\n",
       "      <th>거래금액(만원)</th>\n",
       "      <th>층</th>\n",
       "      <th>건축년도</th>\n",
       "      <th>해제사유발생일</th>\n",
       "      <th>읍면동구분</th>\n",
       "      <th>읍면동</th>\n",
       "      <th>계약년</th>\n",
       "    </tr>\n",
       "  </thead>\n",
       "  <tbody>\n",
       "    <tr>\n",
       "      <th>계약일</th>\n",
       "      <td>1.000000</td>\n",
       "      <td>-0.004070</td>\n",
       "      <td>0.000983</td>\n",
       "      <td>-0.030626</td>\n",
       "      <td>-0.036792</td>\n",
       "      <td>0.014077</td>\n",
       "      <td>-0.018463</td>\n",
       "      <td>-0.020603</td>\n",
       "      <td>0.025362</td>\n",
       "      <td>0.010985</td>\n",
       "      <td>-0.013103</td>\n",
       "      <td>0.068480</td>\n",
       "    </tr>\n",
       "    <tr>\n",
       "      <th>시군구</th>\n",
       "      <td>-0.004070</td>\n",
       "      <td>1.000000</td>\n",
       "      <td>-0.007778</td>\n",
       "      <td>0.274313</td>\n",
       "      <td>0.211742</td>\n",
       "      <td>-0.166860</td>\n",
       "      <td>-0.007915</td>\n",
       "      <td>-0.349583</td>\n",
       "      <td>-0.041887</td>\n",
       "      <td>0.388664</td>\n",
       "      <td>0.978714</td>\n",
       "      <td>-0.158652</td>\n",
       "    </tr>\n",
       "    <tr>\n",
       "      <th>부번</th>\n",
       "      <td>0.000983</td>\n",
       "      <td>-0.007778</td>\n",
       "      <td>1.000000</td>\n",
       "      <td>0.017081</td>\n",
       "      <td>-0.035856</td>\n",
       "      <td>-0.024618</td>\n",
       "      <td>-0.014081</td>\n",
       "      <td>-0.027308</td>\n",
       "      <td>0.011513</td>\n",
       "      <td>0.012297</td>\n",
       "      <td>-0.001439</td>\n",
       "      <td>0.004235</td>\n",
       "    </tr>\n",
       "    <tr>\n",
       "      <th>단지명</th>\n",
       "      <td>-0.030626</td>\n",
       "      <td>0.274313</td>\n",
       "      <td>0.017081</td>\n",
       "      <td>1.000000</td>\n",
       "      <td>0.134949</td>\n",
       "      <td>-0.003952</td>\n",
       "      <td>-0.072702</td>\n",
       "      <td>-0.184988</td>\n",
       "      <td>0.077478</td>\n",
       "      <td>0.290282</td>\n",
       "      <td>0.312160</td>\n",
       "      <td>-0.024643</td>\n",
       "    </tr>\n",
       "    <tr>\n",
       "      <th>전용면적(㎡)</th>\n",
       "      <td>-0.036792</td>\n",
       "      <td>0.211742</td>\n",
       "      <td>-0.035856</td>\n",
       "      <td>0.134949</td>\n",
       "      <td>1.000000</td>\n",
       "      <td>0.523975</td>\n",
       "      <td>0.175624</td>\n",
       "      <td>0.260067</td>\n",
       "      <td>-0.036626</td>\n",
       "      <td>-0.011966</td>\n",
       "      <td>0.199033</td>\n",
       "      <td>-0.065208</td>\n",
       "    </tr>\n",
       "    <tr>\n",
       "      <th>거래금액(만원)</th>\n",
       "      <td>0.014077</td>\n",
       "      <td>-0.166860</td>\n",
       "      <td>-0.024618</td>\n",
       "      <td>-0.003952</td>\n",
       "      <td>0.523975</td>\n",
       "      <td>1.000000</td>\n",
       "      <td>0.241177</td>\n",
       "      <td>0.582652</td>\n",
       "      <td>0.133574</td>\n",
       "      <td>-0.502794</td>\n",
       "      <td>-0.165366</td>\n",
       "      <td>0.280398</td>\n",
       "    </tr>\n",
       "    <tr>\n",
       "      <th>층</th>\n",
       "      <td>-0.018463</td>\n",
       "      <td>-0.007915</td>\n",
       "      <td>-0.014081</td>\n",
       "      <td>-0.072702</td>\n",
       "      <td>0.175624</td>\n",
       "      <td>0.241177</td>\n",
       "      <td>1.000000</td>\n",
       "      <td>0.211964</td>\n",
       "      <td>0.068539</td>\n",
       "      <td>-0.196522</td>\n",
       "      <td>-0.021412</td>\n",
       "      <td>-0.036474</td>\n",
       "    </tr>\n",
       "    <tr>\n",
       "      <th>건축년도</th>\n",
       "      <td>-0.020603</td>\n",
       "      <td>-0.349583</td>\n",
       "      <td>-0.027308</td>\n",
       "      <td>-0.184988</td>\n",
       "      <td>0.260067</td>\n",
       "      <td>0.582652</td>\n",
       "      <td>0.211964</td>\n",
       "      <td>1.000000</td>\n",
       "      <td>0.042439</td>\n",
       "      <td>-0.776780</td>\n",
       "      <td>-0.380223</td>\n",
       "      <td>0.068847</td>\n",
       "    </tr>\n",
       "    <tr>\n",
       "      <th>해제사유발생일</th>\n",
       "      <td>0.025362</td>\n",
       "      <td>-0.041887</td>\n",
       "      <td>0.011513</td>\n",
       "      <td>0.077478</td>\n",
       "      <td>-0.036626</td>\n",
       "      <td>0.133574</td>\n",
       "      <td>0.068539</td>\n",
       "      <td>0.042439</td>\n",
       "      <td>1.000000</td>\n",
       "      <td>-0.045107</td>\n",
       "      <td>-0.031026</td>\n",
       "      <td>NaN</td>\n",
       "    </tr>\n",
       "    <tr>\n",
       "      <th>읍면동구분</th>\n",
       "      <td>0.010985</td>\n",
       "      <td>0.388664</td>\n",
       "      <td>0.012297</td>\n",
       "      <td>0.290282</td>\n",
       "      <td>-0.011966</td>\n",
       "      <td>-0.502794</td>\n",
       "      <td>-0.196522</td>\n",
       "      <td>-0.776780</td>\n",
       "      <td>-0.045107</td>\n",
       "      <td>1.000000</td>\n",
       "      <td>0.412126</td>\n",
       "      <td>-0.015006</td>\n",
       "    </tr>\n",
       "    <tr>\n",
       "      <th>읍면동</th>\n",
       "      <td>-0.013103</td>\n",
       "      <td>0.978714</td>\n",
       "      <td>-0.001439</td>\n",
       "      <td>0.312160</td>\n",
       "      <td>0.199033</td>\n",
       "      <td>-0.165366</td>\n",
       "      <td>-0.021412</td>\n",
       "      <td>-0.380223</td>\n",
       "      <td>-0.031026</td>\n",
       "      <td>0.412126</td>\n",
       "      <td>1.000000</td>\n",
       "      <td>-0.160038</td>\n",
       "    </tr>\n",
       "    <tr>\n",
       "      <th>계약년</th>\n",
       "      <td>0.068480</td>\n",
       "      <td>-0.158652</td>\n",
       "      <td>0.004235</td>\n",
       "      <td>-0.024643</td>\n",
       "      <td>-0.065208</td>\n",
       "      <td>0.280398</td>\n",
       "      <td>-0.036474</td>\n",
       "      <td>0.068847</td>\n",
       "      <td>NaN</td>\n",
       "      <td>-0.015006</td>\n",
       "      <td>-0.160038</td>\n",
       "      <td>1.000000</td>\n",
       "    </tr>\n",
       "  </tbody>\n",
       "</table>\n",
       "</div>"
      ],
      "text/plain": [
       "               계약일       시군구        부번       단지명   전용면적(㎡)  거래금액(만원)  \\\n",
       "계약일       1.000000 -0.004070  0.000983 -0.030626 -0.036792  0.014077   \n",
       "시군구      -0.004070  1.000000 -0.007778  0.274313  0.211742 -0.166860   \n",
       "부번        0.000983 -0.007778  1.000000  0.017081 -0.035856 -0.024618   \n",
       "단지명      -0.030626  0.274313  0.017081  1.000000  0.134949 -0.003952   \n",
       "전용면적(㎡)  -0.036792  0.211742 -0.035856  0.134949  1.000000  0.523975   \n",
       "거래금액(만원)  0.014077 -0.166860 -0.024618 -0.003952  0.523975  1.000000   \n",
       "층        -0.018463 -0.007915 -0.014081 -0.072702  0.175624  0.241177   \n",
       "건축년도     -0.020603 -0.349583 -0.027308 -0.184988  0.260067  0.582652   \n",
       "해제사유발생일   0.025362 -0.041887  0.011513  0.077478 -0.036626  0.133574   \n",
       "읍면동구분     0.010985  0.388664  0.012297  0.290282 -0.011966 -0.502794   \n",
       "읍면동      -0.013103  0.978714 -0.001439  0.312160  0.199033 -0.165366   \n",
       "계약년       0.068480 -0.158652  0.004235 -0.024643 -0.065208  0.280398   \n",
       "\n",
       "                 층      건축년도   해제사유발생일     읍면동구분       읍면동       계약년  \n",
       "계약일      -0.018463 -0.020603  0.025362  0.010985 -0.013103  0.068480  \n",
       "시군구      -0.007915 -0.349583 -0.041887  0.388664  0.978714 -0.158652  \n",
       "부번       -0.014081 -0.027308  0.011513  0.012297 -0.001439  0.004235  \n",
       "단지명      -0.072702 -0.184988  0.077478  0.290282  0.312160 -0.024643  \n",
       "전용면적(㎡)   0.175624  0.260067 -0.036626 -0.011966  0.199033 -0.065208  \n",
       "거래금액(만원)  0.241177  0.582652  0.133574 -0.502794 -0.165366  0.280398  \n",
       "층         1.000000  0.211964  0.068539 -0.196522 -0.021412 -0.036474  \n",
       "건축년도      0.211964  1.000000  0.042439 -0.776780 -0.380223  0.068847  \n",
       "해제사유발생일   0.068539  0.042439  1.000000 -0.045107 -0.031026       NaN  \n",
       "읍면동구분    -0.196522 -0.776780 -0.045107  1.000000  0.412126 -0.015006  \n",
       "읍면동      -0.021412 -0.380223 -0.031026  0.412126  1.000000 -0.160038  \n",
       "계약년      -0.036474  0.068847       NaN -0.015006 -0.160038  1.000000  "
      ]
     },
     "execution_count": 21,
     "metadata": {},
     "output_type": "execute_result"
    }
   ],
   "source": [
    "data.corr()"
   ]
  },
  {
   "cell_type": "code",
   "execution_count": null,
   "metadata": {
    "ExecuteTime": {
     "end_time": "2021-03-23T02:52:53.518224Z",
     "start_time": "2021-03-23T02:52:44.339166Z"
    }
   },
   "outputs": [],
   "source": [
    "data['평평']=data['전용면적(㎡)']/3.3\n",
    "data['평당 가격(만원)']=data['거래금액(만원)']/data['평평']\n",
    "dong_all=data['읍면동'].unique()\n",
    "dong_all=list(dong_all)\n",
    "for dong_one in dong_all:\n",
    "    new=data[data['읍면동']==dong_one]\n",
    "    group_new=new.groupby(['계약년']).mean()\n",
    "    x=group_new.index\n",
    "    y=group_new['평당 가격(만원)']\n",
    "    plt.figure(figsize=(15,5),dpi=160)\n",
    "    plt.bar(x,y,width=0.5,color=\"mediumvioletred\")\n",
    "    a=dong_one+' 평당 거래 금액(만원)'\n",
    "    plt.xlabel='년도별'\n",
    "    plt.ylabel='평당 가격'\n",
    "    plt.title(a,fontsize=18)\n",
    "    plt.savefig(a+'.png')"
   ]
  },
  {
   "cell_type": "code",
   "execution_count": null,
   "metadata": {
    "ExecuteTime": {
     "end_time": "2021-03-23T01:51:26.084485Z",
     "start_time": "2021-03-23T01:51:25.906961Z"
    }
   },
   "outputs": [],
   "source": [
    "data['평평']=data['전용면적(㎡)']/3.3\n",
    "data['평당 가격(만원)']=data['거래금액(만원)']/data['평평']\n",
    "new=data[data['읍면동']=='새롬동']\n",
    "group_new=new.groupby(['계약년']).mean()\n",
    "x=group_new.index#['계약년']\n",
    "y=group_new['평당 가격(만원)']#.values\n",
    "plt.figure(figsize=(15,2.5),dpi=160)\n",
    "plt.bar(x,y,width=0.5,color=\"mediumseagreen\")\n",
    "a=dong_one+'평별 거래건수'\n",
    "plt.title(a)\n",
    "plt.show()"
   ]
  },
  {
   "cell_type": "code",
   "execution_count": null,
   "metadata": {
    "ExecuteTime": {
     "end_time": "2021-03-23T03:35:29.453962Z",
     "start_time": "2021-03-23T03:35:29.218590Z"
    }
   },
   "outputs": [],
   "source": [
    "data['평평']=data['전용면적(㎡)']/3.3\n",
    "data['평당 가격(만원)']=data['거래금액(만원)']/data['평평']\n",
    "dong_all=data['읍면동'].unique()\n",
    "dong_all=list(dong_all)\n",
    "for dong_one in dong_all:\n",
    "    new=data[data['읍면동']==dong_one]\n",
    "    group_new=new.groupby(['계약년']).mean()\n",
    "    x=group_new.index\n",
    "    y=group_new['평당 가격(만원)']\n",
    "    print(dong_one)\n",
    "    print(y)"
   ]
  },
  {
   "cell_type": "code",
   "execution_count": null,
   "metadata": {},
   "outputs": [],
   "source": [
    "up=data.groupby('읍면동').mean()\n",
    "x=up.index\n",
    "y=up['전용면적(㎡)']\n",
    "plt.figure(figsize=(15,2.5),dpi=160)\n",
    "plt.bar(x,y,width=0.5,color=\"blue\")\n",
    "a='동별 아파트 매매 평균 전용면적'\n",
    "plt.title(a)\n",
    "plt.savefig(a+'.png')"
   ]
  },
  {
   "cell_type": "code",
   "execution_count": null,
   "metadata": {},
   "outputs": [],
   "source": [
    "up=data.groupby('읍면동').count()\n",
    "x=up.index\n",
    "y=up['계약년월']\n",
    "plt.figure(figsize=(15,2.5),dpi=160)\n",
    "plt.bar(x,y,width=0.5,color=\"blue\")\n",
    "a='동별 아파트 매매 거래건수'\n",
    "plt.title(a)\n",
    "plt.savefig(a+'.png')"
   ]
  },
  {
   "cell_type": "code",
   "execution_count": null,
   "metadata": {},
   "outputs": [],
   "source": [
    "na=data[data['읍면동']=='나성동']\n",
    "na"
   ]
  },
  {
   "cell_type": "code",
   "execution_count": null,
   "metadata": {},
   "outputs": [],
   "source": [
    "up=data.groupby('읍면동구분').count()\n",
    "x=up.index\n",
    "y=up['계약년월']\n",
    "plt.figure(figsize=(5,2.5),dpi=160)\n",
    "plt.bar(x,y,width=0.5,color=\"#ADD8E6\")\n",
    "a='읍면동별 아파트 매매 거래건수'\n",
    "plt.title(a)\n",
    "plt.savefig(a+'.png')"
   ]
  },
  {
   "cell_type": "code",
   "execution_count": null,
   "metadata": {},
   "outputs": [],
   "source": [
    "up=data.groupby('읍면동구분').mean()\n",
    "x=up.index\n",
    "y=up['거래금액(만원)']\n",
    "plt.figure(figsize=(5,2.5),dpi=160)\n",
    "plt.bar(x,y,width=0.5,color=\"#ADD8E6\")\n",
    "a='읍면동별 아파트 매매 평균거래금액'\n",
    "plt.title(a)\n",
    "plt.savefig(a+'.png')"
   ]
  },
  {
   "cell_type": "code",
   "execution_count": null,
   "metadata": {
    "ExecuteTime": {
     "end_time": "2021-03-04T03:19:42.480884Z",
     "start_time": "2021-03-04T03:19:42.450965Z"
    }
   },
   "outputs": [],
   "source": [
    "sort_data=data.sort_values(by=['계약년월','계약일'])"
   ]
  },
  {
   "cell_type": "code",
   "execution_count": null,
   "metadata": {},
   "outputs": [],
   "source": [
    "goun=sort_data[sort_data['읍면동']=='금남면']\n",
    "goun[goun['계약년월']=='201901']"
   ]
  },
  {
   "cell_type": "markdown",
   "metadata": {},
   "source": [
    "### 아파트 전용면적 별 거래 수"
   ]
  },
  {
   "cell_type": "code",
   "execution_count": null,
   "metadata": {
    "ExecuteTime": {
     "end_time": "2021-03-04T03:19:42.510805Z",
     "start_time": "2021-03-04T03:19:42.484874Z"
    }
   },
   "outputs": [],
   "source": [
    "sort_data['전용면적(㎡)'] =sort_data['전용면적(㎡)'].astype(int)\n",
    "sort_data_g=sort_data.groupby(by=['전용면적(㎡)'], as_index=False).count()\n",
    "sort_data_g=sort_data_g.sort_values(by='계약년월',ascending=False)[:10]"
   ]
  },
  {
   "cell_type": "code",
   "execution_count": null,
   "metadata": {},
   "outputs": [],
   "source": [
    "sort_data_g"
   ]
  },
  {
   "cell_type": "code",
   "execution_count": null,
   "metadata": {},
   "outputs": [],
   "source": [
    "sort_data_g['전용면적(㎡)'] =sort_data_g['전용면적(㎡)'].astype(str)\n",
    "x=sort_data_g['전용면적(㎡)']\n",
    "y=sort_data_g['계약년월']\n",
    "#plt.figure(figsize=(5,2.5),dpi=160)\n",
    "plt.bar(x,y,color=\"blue\")\n",
    "a='아파트 전용면적별 거래건수'\n",
    "plt.title(a)\n",
    "plt.savefig(a+'.png')"
   ]
  },
  {
   "cell_type": "markdown",
   "metadata": {},
   "source": [
    "### 아파트 금액별 거래 수(제일 잘 팔리는 금액대)"
   ]
  },
  {
   "cell_type": "code",
   "execution_count": null,
   "metadata": {
    "ExecuteTime": {
     "end_time": "2021-03-04T03:19:42.540725Z",
     "start_time": "2021-03-04T03:19:42.513797Z"
    }
   },
   "outputs": [],
   "source": [
    "sort_data_m=sort_data.groupby(by=['거래금액(만원)'], as_index=False).count()\n",
    "sort_data_m=sort_data_m.sort_values(by='계약년월',ascending=False)[:10]\n",
    "sort_data_m"
   ]
  },
  {
   "cell_type": "code",
   "execution_count": null,
   "metadata": {},
   "outputs": [],
   "source": [
    "sort_data_m['거래금액(만원)'] =sort_data_m['거래금액(만원)'].astype(str)\n",
    "x=sort_data_m['거래금액(만원)']\n",
    "y=sort_data_m['계약년월']\n",
    "#plt.figure(figsize=(5,2.5),dpi=160)\n",
    "plt.bar(x,y,color=\"blue\")\n",
    "a='아파트 매매 가격별 거래건수'\n",
    "plt.title(a)\n",
    "plt.savefig(a+'.png')"
   ]
  },
  {
   "cell_type": "code",
   "execution_count": null,
   "metadata": {
    "ExecuteTime": {
     "end_time": "2021-03-04T03:19:42.555685Z",
     "start_time": "2021-03-04T03:19:42.543717Z"
    }
   },
   "outputs": [],
   "source": [
    "maxpr=np.max(sort_data['거래금액(만원)'])\n",
    "maxpr"
   ]
  },
  {
   "cell_type": "code",
   "execution_count": null,
   "metadata": {
    "ExecuteTime": {
     "end_time": "2021-03-04T03:19:42.571641Z",
     "start_time": "2021-03-04T03:19:42.557679Z"
    }
   },
   "outputs": [],
   "source": [
    "minpr=np.min(sort_data['거래금액(만원)'])\n",
    "minpr"
   ]
  },
  {
   "cell_type": "code",
   "execution_count": null,
   "metadata": {
    "ExecuteTime": {
     "end_time": "2021-03-04T03:19:42.586602Z",
     "start_time": "2021-03-04T03:19:42.572639Z"
    }
   },
   "outputs": [],
   "source": [
    "sort_data[sort_data['거래금액(만원)']==maxpr]"
   ]
  },
  {
   "cell_type": "code",
   "execution_count": null,
   "metadata": {
    "ExecuteTime": {
     "end_time": "2021-03-04T03:19:42.617518Z",
     "start_time": "2021-03-04T03:19:42.588597Z"
    }
   },
   "outputs": [],
   "source": [
    "sort_data[sort_data['거래금액(만원)']==minpr]"
   ]
  },
  {
   "cell_type": "code",
   "execution_count": null,
   "metadata": {
    "ExecuteTime": {
     "end_time": "2021-03-04T03:19:42.680351Z",
     "start_time": "2021-03-04T03:19:42.635471Z"
    }
   },
   "outputs": [],
   "source": [
    "data[\"평\"]=data[\"전용면적(㎡)\"].apply(pyeong)"
   ]
  },
  {
   "cell_type": "code",
   "execution_count": null,
   "metadata": {},
   "outputs": [],
   "source": [
    "up=data.groupby('평').count()"
   ]
  },
  {
   "cell_type": "code",
   "execution_count": null,
   "metadata": {
    "ExecuteTime": {
     "end_time": "2021-03-04T03:19:42.711268Z",
     "start_time": "2021-03-04T03:19:42.683343Z"
    }
   },
   "outputs": [],
   "source": [
    "up=data.groupby('평').count()\n",
    "up=up.reindex(index=['10평 미만','10~20평', '20~30평', '30~40평', '40~50평', '50~60평'])\n",
    "x=up.index\n",
    "y=up['계약일']\n",
    "plt.figure(figsize=(5,2.5),dpi=160)\n",
    "plt.bar(x,y,width=0.5,color=\"blue\")\n",
    "a='평별 아파트 매매 거래건수'\n",
    "plt.title(a)\n",
    "plt.savefig(a+'.png')"
   ]
  },
  {
   "cell_type": "code",
   "execution_count": 22,
   "metadata": {
    "ExecuteTime": {
     "end_time": "2021-03-25T02:57:33.782582Z",
     "start_time": "2021-03-25T02:57:33.320878Z"
    }
   },
   "outputs": [
    {
     "data": {
      "text/plain": [
       "<AxesSubplot:>"
      ]
     },
     "execution_count": 22,
     "metadata": {},
     "output_type": "execute_result"
    },
    {
     "data": {
      "image/png": "[encoded data removed]",
      "text/plain": [
       "<Figure size 432x288 with 2 Axes>"
      ]
     },
     "metadata": {
      "needs_background": "light"
     },
     "output_type": "display_data"
    }
   ],
   "source": [
    "from sklearn.preprocessing import LabelEncoder\n",
    "import seaborn as sns\n",
    "labelencoder_x= LabelEncoder()\n",
    "y = data[\"시군구\"]\n",
    "data[\"시군구\"]=labelencoder_x.fit_transform(y)\n",
    "y = data[\"단지명\"]\n",
    "data[\"단지명\"]=labelencoder_x.fit_transform(y)\n",
    "y = data[\"읍면동구분\"]\n",
    "data[\"읍면동구분\"]=labelencoder_x.fit_transform(y)\n",
    "y = data[\"읍면동\"]\n",
    "data[\"읍면동\"]=labelencoder_x.fit_transform(y)\n",
    "sns.heatmap(data.corr())"
   ]
  },
  {
   "cell_type": "code",
   "execution_count": 23,
   "metadata": {
    "ExecuteTime": {
     "end_time": "2021-03-25T02:57:45.644888Z",
     "start_time": "2021-03-25T02:57:45.606989Z"
    }
   },
   "outputs": [
    {
     "data": {
      "text/html": [
       "<div>\n",
       "<style scoped>\n",
       "    .dataframe tbody tr th:only-of-type {\n",
       "        vertical-align: middle;\n",
       "    }\n",
       "\n",
       "    .dataframe tbody tr th {\n",
       "        vertical-align: top;\n",
       "    }\n",
       "\n",
       "    .dataframe thead th {\n",
       "        text-align: right;\n",
       "    }\n",
       "</style>\n",
       "<table border=\"1\" class=\"dataframe\">\n",
       "  <thead>\n",
       "    <tr style=\"text-align: right;\">\n",
       "      <th></th>\n",
       "      <th>계약일</th>\n",
       "      <th>시군구</th>\n",
       "      <th>부번</th>\n",
       "      <th>단지명</th>\n",
       "      <th>전용면적(㎡)</th>\n",
       "      <th>거래금액(만원)</th>\n",
       "      <th>층</th>\n",
       "      <th>건축년도</th>\n",
       "      <th>해제사유발생일</th>\n",
       "      <th>읍면동구분</th>\n",
       "      <th>읍면동</th>\n",
       "      <th>계약년</th>\n",
       "    </tr>\n",
       "  </thead>\n",
       "  <tbody>\n",
       "    <tr>\n",
       "      <th>계약일</th>\n",
       "      <td>1.000000</td>\n",
       "      <td>-0.004070</td>\n",
       "      <td>0.000983</td>\n",
       "      <td>-0.030626</td>\n",
       "      <td>-0.036792</td>\n",
       "      <td>0.014077</td>\n",
       "      <td>-0.018463</td>\n",
       "      <td>-0.020603</td>\n",
       "      <td>0.025362</td>\n",
       "      <td>0.010985</td>\n",
       "      <td>-0.013103</td>\n",
       "      <td>0.068480</td>\n",
       "    </tr>\n",
       "    <tr>\n",
       "      <th>시군구</th>\n",
       "      <td>-0.004070</td>\n",
       "      <td>1.000000</td>\n",
       "      <td>-0.007778</td>\n",
       "      <td>0.274313</td>\n",
       "      <td>0.211742</td>\n",
       "      <td>-0.166860</td>\n",
       "      <td>-0.007915</td>\n",
       "      <td>-0.349583</td>\n",
       "      <td>-0.041887</td>\n",
       "      <td>0.388664</td>\n",
       "      <td>0.978714</td>\n",
       "      <td>-0.158652</td>\n",
       "    </tr>\n",
       "    <tr>\n",
       "      <th>부번</th>\n",
       "      <td>0.000983</td>\n",
       "      <td>-0.007778</td>\n",
       "      <td>1.000000</td>\n",
       "      <td>0.017081</td>\n",
       "      <td>-0.035856</td>\n",
       "      <td>-0.024618</td>\n",
       "      <td>-0.014081</td>\n",
       "      <td>-0.027308</td>\n",
       "      <td>0.011513</td>\n",
       "      <td>0.012297</td>\n",
       "      <td>-0.001439</td>\n",
       "      <td>0.004235</td>\n",
       "    </tr>\n",
       "    <tr>\n",
       "      <th>단지명</th>\n",
       "      <td>-0.030626</td>\n",
       "      <td>0.274313</td>\n",
       "      <td>0.017081</td>\n",
       "      <td>1.000000</td>\n",
       "      <td>0.134949</td>\n",
       "      <td>-0.003952</td>\n",
       "      <td>-0.072702</td>\n",
       "      <td>-0.184988</td>\n",
       "      <td>0.077478</td>\n",
       "      <td>0.290282</td>\n",
       "      <td>0.312160</td>\n",
       "      <td>-0.024643</td>\n",
       "    </tr>\n",
       "    <tr>\n",
       "      <th>전용면적(㎡)</th>\n",
       "      <td>-0.036792</td>\n",
       "      <td>0.211742</td>\n",
       "      <td>-0.035856</td>\n",
       "      <td>0.134949</td>\n",
       "      <td>1.000000</td>\n",
       "      <td>0.523975</td>\n",
       "      <td>0.175624</td>\n",
       "      <td>0.260067</td>\n",
       "      <td>-0.036626</td>\n",
       "      <td>-0.011966</td>\n",
       "      <td>0.199033</td>\n",
       "      <td>-0.065208</td>\n",
       "    </tr>\n",
       "    <tr>\n",
       "      <th>거래금액(만원)</th>\n",
       "      <td>0.014077</td>\n",
       "      <td>-0.166860</td>\n",
       "      <td>-0.024618</td>\n",
       "      <td>-0.003952</td>\n",
       "      <td>0.523975</td>\n",
       "      <td>1.000000</td>\n",
       "      <td>0.241177</td>\n",
       "      <td>0.582652</td>\n",
       "      <td>0.133574</td>\n",
       "      <td>-0.502794</td>\n",
       "      <td>-0.165366</td>\n",
       "      <td>0.280398</td>\n",
       "    </tr>\n",
       "    <tr>\n",
       "      <th>층</th>\n",
       "      <td>-0.018463</td>\n",
       "      <td>-0.007915</td>\n",
       "      <td>-0.014081</td>\n",
       "      <td>-0.072702</td>\n",
       "      <td>0.175624</td>\n",
       "      <td>0.241177</td>\n",
       "      <td>1.000000</td>\n",
       "      <td>0.211964</td>\n",
       "      <td>0.068539</td>\n",
       "      <td>-0.196522</td>\n",
       "      <td>-0.021412</td>\n",
       "      <td>-0.036474</td>\n",
       "    </tr>\n",
       "    <tr>\n",
       "      <th>건축년도</th>\n",
       "      <td>-0.020603</td>\n",
       "      <td>-0.349583</td>\n",
       "      <td>-0.027308</td>\n",
       "      <td>-0.184988</td>\n",
       "      <td>0.260067</td>\n",
       "      <td>0.582652</td>\n",
       "      <td>0.211964</td>\n",
       "      <td>1.000000</td>\n",
       "      <td>0.042439</td>\n",
       "      <td>-0.776780</td>\n",
       "      <td>-0.380223</td>\n",
       "      <td>0.068847</td>\n",
       "    </tr>\n",
       "    <tr>\n",
       "      <th>해제사유발생일</th>\n",
       "      <td>0.025362</td>\n",
       "      <td>-0.041887</td>\n",
       "      <td>0.011513</td>\n",
       "      <td>0.077478</td>\n",
       "      <td>-0.036626</td>\n",
       "      <td>0.133574</td>\n",
       "      <td>0.068539</td>\n",
       "      <td>0.042439</td>\n",
       "      <td>1.000000</td>\n",
       "      <td>-0.045107</td>\n",
       "      <td>-0.031026</td>\n",
       "      <td>NaN</td>\n",
       "    </tr>\n",
       "    <tr>\n",
       "      <th>읍면동구분</th>\n",
       "      <td>0.010985</td>\n",
       "      <td>0.388664</td>\n",
       "      <td>0.012297</td>\n",
       "      <td>0.290282</td>\n",
       "      <td>-0.011966</td>\n",
       "      <td>-0.502794</td>\n",
       "      <td>-0.196522</td>\n",
       "      <td>-0.776780</td>\n",
       "      <td>-0.045107</td>\n",
       "      <td>1.000000</td>\n",
       "      <td>0.412126</td>\n",
       "      <td>-0.015006</td>\n",
       "    </tr>\n",
       "    <tr>\n",
       "      <th>읍면동</th>\n",
       "      <td>-0.013103</td>\n",
       "      <td>0.978714</td>\n",
       "      <td>-0.001439</td>\n",
       "      <td>0.312160</td>\n",
       "      <td>0.199033</td>\n",
       "      <td>-0.165366</td>\n",
       "      <td>-0.021412</td>\n",
       "      <td>-0.380223</td>\n",
       "      <td>-0.031026</td>\n",
       "      <td>0.412126</td>\n",
       "      <td>1.000000</td>\n",
       "      <td>-0.160038</td>\n",
       "    </tr>\n",
       "    <tr>\n",
       "      <th>계약년</th>\n",
       "      <td>0.068480</td>\n",
       "      <td>-0.158652</td>\n",
       "      <td>0.004235</td>\n",
       "      <td>-0.024643</td>\n",
       "      <td>-0.065208</td>\n",
       "      <td>0.280398</td>\n",
       "      <td>-0.036474</td>\n",
       "      <td>0.068847</td>\n",
       "      <td>NaN</td>\n",
       "      <td>-0.015006</td>\n",
       "      <td>-0.160038</td>\n",
       "      <td>1.000000</td>\n",
       "    </tr>\n",
       "  </tbody>\n",
       "</table>\n",
       "</div>"
      ],
      "text/plain": [
       "               계약일       시군구        부번       단지명   전용면적(㎡)  거래금액(만원)  \\\n",
       "계약일       1.000000 -0.004070  0.000983 -0.030626 -0.036792  0.014077   \n",
       "시군구      -0.004070  1.000000 -0.007778  0.274313  0.211742 -0.166860   \n",
       "부번        0.000983 -0.007778  1.000000  0.017081 -0.035856 -0.024618   \n",
       "단지명      -0.030626  0.274313  0.017081  1.000000  0.134949 -0.003952   \n",
       "전용면적(㎡)  -0.036792  0.211742 -0.035856  0.134949  1.000000  0.523975   \n",
       "거래금액(만원)  0.014077 -0.166860 -0.024618 -0.003952  0.523975  1.000000   \n",
       "층        -0.018463 -0.007915 -0.014081 -0.072702  0.175624  0.241177   \n",
       "건축년도     -0.020603 -0.349583 -0.027308 -0.184988  0.260067  0.582652   \n",
       "해제사유발생일   0.025362 -0.041887  0.011513  0.077478 -0.036626  0.133574   \n",
       "읍면동구분     0.010985  0.388664  0.012297  0.290282 -0.011966 -0.502794   \n",
       "읍면동      -0.013103  0.978714 -0.001439  0.312160  0.199033 -0.165366   \n",
       "계약년       0.068480 -0.158652  0.004235 -0.024643 -0.065208  0.280398   \n",
       "\n",
       "                 층      건축년도   해제사유발생일     읍면동구분       읍면동       계약년  \n",
       "계약일      -0.018463 -0.020603  0.025362  0.010985 -0.013103  0.068480  \n",
       "시군구      -0.007915 -0.349583 -0.041887  0.388664  0.978714 -0.158652  \n",
       "부번       -0.014081 -0.027308  0.011513  0.012297 -0.001439  0.004235  \n",
       "단지명      -0.072702 -0.184988  0.077478  0.290282  0.312160 -0.024643  \n",
       "전용면적(㎡)   0.175624  0.260067 -0.036626 -0.011966  0.199033 -0.065208  \n",
       "거래금액(만원)  0.241177  0.582652  0.133574 -0.502794 -0.165366  0.280398  \n",
       "층         1.000000  0.211964  0.068539 -0.196522 -0.021412 -0.036474  \n",
       "건축년도      0.211964  1.000000  0.042439 -0.776780 -0.380223  0.068847  \n",
       "해제사유발생일   0.068539  0.042439  1.000000 -0.045107 -0.031026       NaN  \n",
       "읍면동구분    -0.196522 -0.776780 -0.045107  1.000000  0.412126 -0.015006  \n",
       "읍면동      -0.021412 -0.380223 -0.031026  0.412126  1.000000 -0.160038  \n",
       "계약년      -0.036474  0.068847       NaN -0.015006 -0.160038  1.000000  "
      ]
     },
     "execution_count": 23,
     "metadata": {},
     "output_type": "execute_result"
    }
   ],
   "source": [
    "data.corr()"
   ]
  },
  {
   "cell_type": "code",
   "execution_count": null,
   "metadata": {},
   "outputs": [],
   "source": [
    "toto=data.corr()\n",
    "toto['거래금액(만원)']"
   ]
  },
  {
   "cell_type": "markdown",
   "metadata": {},
   "source": [
    "### 연립 다주택"
   ]
  },
  {
   "cell_type": "code",
   "execution_count": null,
   "metadata": {
    "ExecuteTime": {
     "end_time": "2021-03-04T03:19:42.758143Z",
     "start_time": "2021-03-04T03:19:42.712266Z"
    }
   },
   "outputs": [],
   "source": [
    "yata = pd.read_csv('4.세종시_연립다세대(매매)_실거래가.csv')\n",
    "yata[\"평\"]=yata[\"전용면적(㎡)\"].apply(pyeong)\n",
    "yata"
   ]
  },
  {
   "cell_type": "code",
   "execution_count": null,
   "metadata": {},
   "outputs": [],
   "source": [
    "yata['읍면동구분']=yata['시군구'].apply(sort_dong)\n",
    "yata['읍면동']=yata['시군구'].apply(sort_dong2)"
   ]
  },
  {
   "cell_type": "code",
   "execution_count": null,
   "metadata": {},
   "outputs": [],
   "source": [
    "up=yata.groupby('읍면동').count()\n",
    "x=up.index\n",
    "y=up['계약일']\n",
    "plt.figure(figsize=(10,2.5),dpi=160)\n",
    "plt.bar(x,y,width=0.5,color=\"blue\")\n",
    "a='동별 연립다가구 거래건수'\n",
    "plt.title(a)\n",
    "plt.savefig(a+'.png')"
   ]
  },
  {
   "cell_type": "code",
   "execution_count": null,
   "metadata": {},
   "outputs": [],
   "source": [
    "up=yata.groupby('읍면동구분').count()\n",
    "x=up.index\n",
    "y=up['계약일']\n",
    "plt.figure(figsize=(4,2.5),dpi=160)\n",
    "plt.bar(x,y,width=0.5,color=\"blue\")\n",
    "a='읍면동별 연립다가구 거래건수'\n",
    "plt.title(a)\n",
    "plt.savefig(a+'.png')"
   ]
  },
  {
   "cell_type": "code",
   "execution_count": null,
   "metadata": {
    "ExecuteTime": {
     "end_time": "2021-03-04T03:19:42.833940Z",
     "start_time": "2021-03-04T03:19:42.806015Z"
    }
   },
   "outputs": [],
   "source": [
    "up=yata.groupby('평').count()\n",
    "up=up.reindex(index=['10평 미만','10~20평', '20~30평', '30~40평', '40~50평', '50~60평'])\n",
    "x=up.index\n",
    "y=up['계약일']\n",
    "plt.figure(figsize=(5,2.5),dpi=160)\n",
    "plt.bar(x,y,width=0.5,color=\"blue\")\n",
    "a='평별 연립다가구 거래건수'\n",
    "plt.title(a)\n",
    "plt.savefig(a+'.png')"
   ]
  },
  {
   "cell_type": "markdown",
   "metadata": {},
   "source": [
    "### 단독다가구 - 전용면적 없음"
   ]
  },
  {
   "cell_type": "code",
   "execution_count": null,
   "metadata": {
    "ExecuteTime": {
     "end_time": "2021-03-04T03:19:42.894778Z",
     "start_time": "2021-03-04T03:19:42.851893Z"
    }
   },
   "outputs": [],
   "source": [
    "danta = pd.read_csv('5.세종시_단독다가구(매매)_실거래가.csv')\n",
    "danta[\"평\"]=danta[\"연면적(㎡)\"].apply(pyeong)"
   ]
  },
  {
   "cell_type": "code",
   "execution_count": null,
   "metadata": {},
   "outputs": [],
   "source": [
    "danta['읍면동구분']=danta['시군구'].apply(sort_dong)\n",
    "danta['읍면동']=danta['시군구'].apply(sort_dong2)"
   ]
  },
  {
   "cell_type": "code",
   "execution_count": null,
   "metadata": {},
   "outputs": [],
   "source": [
    "up=danta.groupby('읍면동').count()\n",
    "x=up.index\n",
    "y=up['계약일']\n",
    "plt.figure(figsize=(15,2.5),dpi=160)\n",
    "plt.bar(x,y,width=0.5,color=\"blue\")\n",
    "a='동별 단독다가구 거래건수'\n",
    "plt.title(a)\n",
    "plt.savefig(a+'.png')"
   ]
  },
  {
   "cell_type": "code",
   "execution_count": null,
   "metadata": {},
   "outputs": [],
   "source": [
    "up=danta.groupby('읍면동구분').count()\n",
    "x=up.index\n",
    "y=up['계약일']\n",
    "plt.figure(figsize=(5,2.5),dpi=160)\n",
    "plt.bar(x,y,width=0.5,color=\"blue\")\n",
    "a='읍면동별 단독다가구 거래건수'\n",
    "plt.title(a)\n",
    "plt.savefig(a+'.png')"
   ]
  },
  {
   "cell_type": "code",
   "execution_count": null,
   "metadata": {
    "ExecuteTime": {
     "end_time": "2021-03-04T03:19:42.954635Z",
     "start_time": "2021-03-04T03:19:42.926708Z"
    }
   },
   "outputs": [],
   "source": [
    "up=danta.groupby('평').count()\n",
    "up=up.reindex(index=['10평 미만','10~20평', '20~30평', '30~40평', '40~50평', '50~60평'])\n",
    "x=up.index\n",
    "y=up['계약일']\n",
    "plt.figure(figsize=(9,2.5),dpi=160)\n",
    "plt.bar(x,y,width=0.5,color=\"blue\")"
   ]
  },
  {
   "cell_type": "code",
   "execution_count": null,
   "metadata": {
    "ExecuteTime": {
     "end_time": "2021-03-04T03:19:42.984553Z",
     "start_time": "2021-03-04T03:19:42.971588Z"
    }
   },
   "outputs": [],
   "source": [
    "def rep(df):\n",
    "    if df == '-':\n",
    "        return 0\n",
    "    elif df.find('m이상') != -1:\n",
    "        return df.replace('m이상','')\n",
    "    else:\n",
    "        return df.replace('m미만','')"
   ]
  },
  {
   "cell_type": "code",
   "execution_count": null,
   "metadata": {
    "ExecuteTime": {
     "end_time": "2021-03-04T03:19:43.031936Z",
     "start_time": "2021-03-04T03:19:42.988542Z"
    }
   },
   "outputs": [],
   "source": [
    "danta[\"도로\"]=danta[\"도로조건\"].apply(rep)"
   ]
  },
  {
   "cell_type": "code",
   "execution_count": null,
   "metadata": {
    "ExecuteTime": {
     "end_time": "2021-03-04T03:19:43.046896Z",
     "start_time": "2021-03-04T03:19:43.033931Z"
    }
   },
   "outputs": [],
   "source": [
    "def riri(df):\n",
    "    return int(float(df.replace(',','')))"
   ]
  },
  {
   "cell_type": "code",
   "execution_count": null,
   "metadata": {
    "ExecuteTime": {
     "end_time": "2021-03-04T03:19:44.571545Z",
     "start_time": "2021-03-04T03:19:43.050886Z"
    }
   },
   "outputs": [],
   "source": [
    "from sklearn.preprocessing import LabelEncoder\n",
    "labelencoder_x= LabelEncoder()\n",
    "y = danta[\"시군구\"]\n",
    "danta[\"시군구2\"]=labelencoder_x.fit_transform(y)\n",
    "z = danta[\"주택유형\"]\n",
    "danta[\"주택유형2\"]=labelencoder_x.fit_transform(z)\n",
    "danta['거래금액2(만원)']= danta['거래금액(만원)'].apply(riri)"
   ]
  },
  {
   "cell_type": "code",
   "execution_count": null,
   "metadata": {
    "ExecuteTime": {
     "end_time": "2021-03-04T03:19:44.680462Z",
     "start_time": "2021-03-04T03:19:44.573496Z"
    }
   },
   "outputs": [],
   "source": [
    "from sklearn.linear_model import LinearRegression\n",
    "lm = LinearRegression()"
   ]
  },
  {
   "cell_type": "code",
   "execution_count": null,
   "metadata": {
    "ExecuteTime": {
     "end_time": "2021-03-04T03:19:44.711380Z",
     "start_time": "2021-03-04T03:19:44.681461Z"
    }
   },
   "outputs": [],
   "source": [
    "danta_null=danta[danta['건축년도'].isnull()]"
   ]
  },
  {
   "cell_type": "code",
   "execution_count": null,
   "metadata": {
    "ExecuteTime": {
     "end_time": "2021-03-04T03:19:44.742300Z",
     "start_time": "2021-03-04T03:19:44.713374Z"
    }
   },
   "outputs": [],
   "source": [
    "#null 값이 아닌 것만 뽑아오기\n",
    "idx_not=danta[danta['건축년도'].isnull()].index\n",
    "danta_notnull=danta.drop(idx_not)"
   ]
  },
  {
   "cell_type": "code",
   "execution_count": null,
   "metadata": {
    "ExecuteTime": {
     "end_time": "2021-03-04T03:19:44.757257Z",
     "start_time": "2021-03-04T03:19:44.744292Z"
    }
   },
   "outputs": [],
   "source": [
    "X = danta_notnull[[\"계약년월\",\"연면적(㎡)\",\"대지면적(㎡)\",\"거래금액2(만원)\",\"도로\",\"시군구2\",\"주택유형2\"]]\n",
    "y = danta_notnull['건축년도']"
   ]
  },
  {
   "cell_type": "code",
   "execution_count": null,
   "metadata": {
    "ExecuteTime": {
     "end_time": "2021-03-04T03:19:44.788176Z",
     "start_time": "2021-03-04T03:19:44.759251Z"
    }
   },
   "outputs": [],
   "source": [
    "lm.fit(X,y)"
   ]
  },
  {
   "cell_type": "code",
   "execution_count": null,
   "metadata": {
    "ExecuteTime": {
     "end_time": "2021-03-04T03:19:44.803134Z",
     "start_time": "2021-03-04T03:19:44.790169Z"
    }
   },
   "outputs": [],
   "source": [
    "X2 = danta_null[[\"계약년월\",\"연면적(㎡)\",\"대지면적(㎡)\",\"거래금액2(만원)\",\"도로\",\"시군구2\",\"주택유형2\"]]"
   ]
  },
  {
   "cell_type": "code",
   "execution_count": null,
   "metadata": {
    "ExecuteTime": {
     "end_time": "2021-03-04T03:19:44.819090Z",
     "start_time": "2021-03-04T03:19:44.804132Z"
    }
   },
   "outputs": [],
   "source": [
    "predictions = lm.predict(X2)\n",
    "predictions=predictions.astype(int)"
   ]
  },
  {
   "cell_type": "code",
   "execution_count": null,
   "metadata": {
    "ExecuteTime": {
     "end_time": "2021-03-04T03:19:44.834054Z",
     "start_time": "2021-03-04T03:19:44.821086Z"
    }
   },
   "outputs": [],
   "source": [
    "#적용 완료\n",
    "for i in range(len(danta_null.index)):\n",
    "    danta.loc[ danta_null.index[i] , \"건축년도\" ]=int(predictions[i])"
   ]
  },
  {
   "cell_type": "code",
   "execution_count": null,
   "metadata": {},
   "outputs": [],
   "source": [
    "up=danta.groupby('주택유형').count()\n",
    "x=up.index\n",
    "y=up['계약일']\n",
    "plt.figure(figsize=(5,2.5),dpi=160)\n",
    "plt.bar(x,y,width=0.5,color=\"blue\")\n",
    "a='단독다가구 주택유형별 거래 수'\n",
    "plt.title(a)\n",
    "plt.savefig(a+'.png')"
   ]
  },
  {
   "cell_type": "code",
   "execution_count": null,
   "metadata": {},
   "outputs": [],
   "source": [
    "up =danta.groupby('평').count()\n",
    "up=up.reindex(index=['10평 미만','10~20평', '20~30평', '30~40평', '40~50평', '50~60평'])\n",
    "x=up.index\n",
    "y=up['계약일']\n",
    "plt.figure(figsize=(5,2.5),dpi=160)\n",
    "plt.bar(x,y,width=0.5,color=\"blue\")\n",
    "a='평별 단독다가구 매매 거래 수'\n",
    "plt.title(a)\n",
    "plt.savefig(a+'.png')"
   ]
  },
  {
   "cell_type": "markdown",
   "metadata": {},
   "source": [
    "### 오피스텔"
   ]
  },
  {
   "cell_type": "code",
   "execution_count": null,
   "metadata": {
    "ExecuteTime": {
     "end_time": "2021-03-04T03:19:44.878931Z",
     "start_time": "2021-03-04T03:19:44.837045Z"
    }
   },
   "outputs": [],
   "source": [
    "oata = pd.read_csv('6.세종시_오피스텔(매매)_실거래가.csv')\n",
    "oata[\"평\"]=oata[\"전용면적(㎡)\"].apply(pyeong)"
   ]
  },
  {
   "cell_type": "code",
   "execution_count": null,
   "metadata": {},
   "outputs": [],
   "source": [
    "oata['읍면동구분']=oata['시군구'].apply(sort_dong)\n",
    "oata['읍면동']=oata['시군구'].apply(sort_dong2)"
   ]
  },
  {
   "cell_type": "code",
   "execution_count": null,
   "metadata": {},
   "outputs": [],
   "source": [
    "up=oata.groupby('읍면동구분').count()\n",
    "x=up.index\n",
    "y=up['계약일']\n",
    "plt.figure(figsize=(5,2.5),dpi=160)\n",
    "plt.bar(x,y,width=0.5,color=\"blue\")\n",
    "a='읍면동별 오피스텔 매매 건수'\n",
    "plt.title(a)\n",
    "plt.savefig(a+'.png')"
   ]
  },
  {
   "cell_type": "code",
   "execution_count": null,
   "metadata": {},
   "outputs": [],
   "source": [
    "up=oata.groupby('읍면동').count()\n",
    "x=up.index\n",
    "y=up['계약일']\n",
    "plt.figure(figsize=(5,2.5),dpi=160)\n",
    "plt.bar(x,y,width=0.5,color=\"blue\")\n",
    "a='동별 오피스텔 매매건수'\n",
    "plt.title(a)\n",
    "plt.savefig(a+'.png')"
   ]
  },
  {
   "cell_type": "code",
   "execution_count": null,
   "metadata": {
    "ExecuteTime": {
     "end_time": "2021-03-04T03:19:44.956236Z",
     "start_time": "2021-03-04T03:19:44.928312Z"
    }
   },
   "outputs": [],
   "source": [
    "up=oata.groupby('평').count()\n",
    "up=up.reindex(index=['10평 미만','10~20평', '20~30평', '30~40평', '40~50평', '50~60평'])\n",
    "x=up.index\n",
    "y=up['계약일']\n",
    "plt.figure(figsize=(5,2.5),dpi=160)\n",
    "plt.bar(x,y,width=0.5,color=\"blue\")\n",
    "a='평별 오피스텔 거래건수'\n",
    "plt.title(a)\n",
    "plt.savefig(a+'.png')"
   ]
  },
  {
   "cell_type": "markdown",
   "metadata": {},
   "source": [
    "### 매매 총 합"
   ]
  },
  {
   "cell_type": "code",
   "execution_count": null,
   "metadata": {
    "ExecuteTime": {
     "end_time": "2021-03-04T03:19:45.080187Z",
     "start_time": "2021-03-04T03:19:44.972193Z"
    }
   },
   "outputs": [],
   "source": [
    "data_all = pd.concat([data,yata,danta,oata], ignore_index=True)\n",
    "data_all"
   ]
  },
  {
   "cell_type": "code",
   "execution_count": null,
   "metadata": {},
   "outputs": [],
   "source": [
    "data_all['읍면동구분']=data_all['시군구'].apply(sort_dong)\n",
    "data_all['읍면동']=data_all['시군구'].apply(sort_dong2)"
   ]
  },
  {
   "cell_type": "code",
   "execution_count": null,
   "metadata": {},
   "outputs": [],
   "source": [
    "up=data_all.groupby('읍면동').count()\n",
    "x=up.index\n",
    "y=up['계약일']\n",
    "plt.figure(figsize=(15,2.5),dpi=160)\n",
    "plt.bar(x,y,width=0.5,color=\"blue\")\n",
    "a='동별 총 매매 건수'\n",
    "plt.title(a)\n",
    "plt.savefig(a+'.png')"
   ]
  },
  {
   "cell_type": "code",
   "execution_count": null,
   "metadata": {},
   "outputs": [],
   "source": [
    "up=data_all.groupby('읍면동구분').count()\n",
    "x=up.index\n",
    "y=up['계약일']\n",
    "plt.figure(figsize=(5,2.5),dpi=160)\n",
    "plt.bar(x,y,width=0.5,color=\"blue\")\n",
    "a='읍면동별 총 매매 거래 수'\n",
    "plt.title(a)\n",
    "plt.savefig(a+'.png')"
   ]
  },
  {
   "cell_type": "code",
   "execution_count": null,
   "metadata": {},
   "outputs": [],
   "source": [
    "up=data_all.groupby('평').count()\n",
    "up=up.reindex(index=['10평 미만','10~20평', '20~30평', '30~40평', '40~50평', '50~60평'])\n",
    "x=up.index\n",
    "y=up['계약일']\n",
    "plt.figure(figsize=(5,2.5),dpi=160)\n",
    "plt.bar(x,y,width=0.5,color=\"blue\")\n",
    "a='평별 총 매매 건수'\n",
    "plt.title(a)\n",
    "plt.savefig(a+'.png')"
   ]
  },
  {
   "cell_type": "markdown",
   "metadata": {},
   "source": [
    "## 매매로 세종시로 오는 이사건 수"
   ]
  },
  {
   "cell_type": "code",
   "execution_count": null,
   "metadata": {},
   "outputs": [],
   "source": [
    "data_all['계약년월'] =data_all['계약년월'].astype(str)\n",
    "tt1=data_all.groupby('계약년월').count()"
   ]
  },
  {
   "cell_type": "code",
   "execution_count": null,
   "metadata": {
    "ExecuteTime": {
     "end_time": "2021-03-04T03:19:45.141022Z",
     "start_time": "2021-03-04T03:19:45.083177Z"
    }
   },
   "outputs": [],
   "source": [
    "tt1=data_all.groupby('계약년월').count()\n",
    "plt.plot(tt1.index,tt1['계약일'])\n",
    "plt.figure(figsize=(15,2.5),dpi=160)\n",
    "plt.axis([0, 5, 0, 1700])"
   ]
  },
  {
   "cell_type": "markdown",
   "metadata": {},
   "source": [
    "### 달별 매매 이사건수(2020년 11월 12월 데이터 없음) "
   ]
  },
  {
   "cell_type": "code",
   "execution_count": null,
   "metadata": {
    "ExecuteTime": {
     "end_time": "2021-03-04T03:19:45.156493Z",
     "start_time": "2021-03-04T03:19:45.143536Z"
    }
   },
   "outputs": [],
   "source": [
    "def mon(df):\n",
    "    return df[-2:]"
   ]
  },
  {
   "cell_type": "code",
   "execution_count": null,
   "metadata": {},
   "outputs": [],
   "source": [
    "def year(df):\n",
    "    return df[:-2]\n",
    "data['계약년월']=data['계약년월'].astype(str)\n",
    "data['계약년']=data['계약년월'].apply(year)"
   ]
  },
  {
   "cell_type": "code",
   "execution_count": null,
   "metadata": {
    "ExecuteTime": {
     "end_time": "2021-03-04T03:19:45.234284Z",
     "start_time": "2021-03-04T03:19:45.158488Z"
    }
   },
   "outputs": [],
   "source": [
    "data_all['계약년월']=data_all['계약년월'].astype(str)\n",
    "data_all['계약월']=data_all['계약년월'].apply(mon)\n",
    "tt2=data_all.groupby('계약월').count()\n",
    "x=tt2.index\n",
    "y=tt2['계약일']\n",
    "plt.figure(figsize=(5,2.5),dpi=160)\n",
    "plt.bar(x,y,width=0.5,color=\"blue\")\n",
    "a='월별 매매 총 거래량'\n",
    "plt.title(a)\n",
    "plt.savefig(a+'.png')"
   ]
  },
  {
   "cell_type": "code",
   "execution_count": null,
   "metadata": {},
   "outputs": [],
   "source": [
    "data_all['계약년']=data_all['계약년월'].apply(year)\n",
    "tt2_1=data_all.groupby('계약년').count()\n",
    "x=tt2_1.index\n",
    "y=tt2_1['계약일']\n",
    "plt.figure(figsize=(5,2.5),dpi=160)\n",
    "plt.bar(x,y,width=0.5,color=\"blue\")\n",
    "a='년도별 매매 총 거래량'\n",
    "plt.title(a)\n",
    "plt.savefig(a+'.png')"
   ]
  },
  {
   "cell_type": "markdown",
   "metadata": {},
   "source": [
    "### 아파트 전월세"
   ]
  },
  {
   "cell_type": "code",
   "execution_count": null,
   "metadata": {
    "ExecuteTime": {
     "end_time": "2021-03-04T03:19:46.972948Z",
     "start_time": "2021-03-04T03:19:46.852253Z"
    }
   },
   "outputs": [],
   "source": [
    "data_jeon = pd.read_csv('7.세종시_아파트(전월세)_실거래가.csv')\n",
    "data_jeon[\"평\"]=data_jeon[\"전용면적(㎡)\"].apply(pyeong)"
   ]
  },
  {
   "cell_type": "code",
   "execution_count": null,
   "metadata": {},
   "outputs": [],
   "source": [
    "up=data_jeon.groupby('평').count()\n",
    "up=up.reindex(index=['10평 미만','10~20평', '20~30평', '30~40평', '40~50평', '50~60평'])\n",
    "x=up.index\n",
    "y=up['계약일']\n",
    "plt.figure(figsize=(5,2.5),dpi=160)\n",
    "plt.bar(x,y,width=0.5,color=\"blue\")\n",
    "a='전월세 평별 아파트 거래 수'\n",
    "plt.title(a)\n",
    "plt.savefig(a+'.png')"
   ]
  },
  {
   "cell_type": "code",
   "execution_count": null,
   "metadata": {},
   "outputs": [],
   "source": [
    "data_jeon2=data_jeon[data_jeon['전월세구분']=='전세']\n",
    "up=data_jeon2.groupby('평').count()\n",
    "up=up.reindex(index=['10평 미만','10~20평', '20~30평', '30~40평', '40~50평', '50~60평'])\n",
    "x=up.index\n",
    "y=up['계약일']\n",
    "plt.figure(figsize=(5,2.5),dpi=160)\n",
    "plt.bar(x,y,width=0.5,color=\"blue\")\n",
    "a='전세의 평별 거래횟수'\n",
    "plt.title(a)\n",
    "plt.savefig(a+'.png')"
   ]
  },
  {
   "cell_type": "code",
   "execution_count": null,
   "metadata": {},
   "outputs": [],
   "source": [
    "data_jeon2=data_jeon[data_jeon['전월세구분']=='월세']\n",
    "up=data_jeon2.groupby('평').count()\n",
    "up=up.reindex(index=['10평 미만','10~20평', '20~30평', '30~40평', '40~50평', '50~60평'])\n",
    "x=up.index\n",
    "y=up['계약일']\n",
    "plt.figure(figsize=(5,2.5),dpi=160)\n",
    "plt.bar(x,y,width=0.5,color=\"blue\")\n",
    "a='월세의 평별 거래횟수'\n",
    "plt.title(a)\n",
    "plt.savefig(a+'.png')"
   ]
  },
  {
   "cell_type": "code",
   "execution_count": null,
   "metadata": {},
   "outputs": [],
   "source": [
    "#### 이거 전세가액 구하는 공식\n",
    "data_jeon2=data_jeon[data_jeon['전월세구분']=='전세']\n",
    "all_data2 = pd.merge(left=data,right=data_jeon2,how='left',on=[\"계약년월\",'시군구','단지명','전용면적(㎡)'],sort=False)\n",
    "idx_not=all_data2[all_data2['계약일_y'].isnull()].index\n",
    "all_data2_notnull=all_data2.drop(idx_not)\n",
    "all_data2_notnull['보증금(만원)']=all_data2_notnull['보증금(만원)'].apply(riri)\n",
    "all_data2_notnull['전세가율']=(all_data2_notnull['보증금(만원)']/all_data2_notnull['거래금액(만원)'])*100\n",
    "#all_data2_notnull.groupby('계약년월').mean()"
   ]
  },
  {
   "cell_type": "code",
   "execution_count": null,
   "metadata": {},
   "outputs": [],
   "source": [
    "all_data2 = pd.merge(left=data,right=data_jeon2,how='left',on=[\"계약년월\",'시군구','단지명','전용면적(㎡)'],sort=False)"
   ]
  },
  {
   "cell_type": "code",
   "execution_count": null,
   "metadata": {},
   "outputs": [],
   "source": [
    "idx_not=all_data2[all_data2['계약일_y'].isnull()].index\n",
    "all_data2_notnull=all_data2.drop(idx_not)\n",
    "#all_data2_notnull"
   ]
  },
  {
   "cell_type": "code",
   "execution_count": null,
   "metadata": {},
   "outputs": [],
   "source": [
    "all_data2_notnull['보증금(만원)']=all_data2_notnull['보증금(만원)'].apply(riri)\n",
    "all_data2_notnull['전세가율']=(all_data2_notnull['보증금(만원)']/all_data2_notnull['거래금액(만원)'])*100"
   ]
  },
  {
   "cell_type": "code",
   "execution_count": null,
   "metadata": {
    "scrolled": true
   },
   "outputs": [],
   "source": [
    "tt1=all_data2_notnull.groupby('계약년월').mean()\n",
    "plt.figure(figsize=(15,2.5),dpi=160)\n",
    "plt.plot(tt1.index,tt1['전세가율'])\n",
    "a='날짜별 전세가율'\n",
    "plt.title(a)\n",
    "plt.savefig(a+'.png')"
   ]
  },
  {
   "cell_type": "code",
   "execution_count": null,
   "metadata": {},
   "outputs": [],
   "source": [
    "apart = pd.concat([data,data_jeon], ignore_index=True)\n",
    "apart"
   ]
  },
  {
   "cell_type": "code",
   "execution_count": null,
   "metadata": {
    "ExecuteTime": {
     "end_time": "2021-03-04T03:19:47.017827Z",
     "start_time": "2021-03-04T03:19:46.976937Z"
    }
   },
   "outputs": [],
   "source": [
    "up=apart.groupby('평').count()\n",
    "up=up.reindex(index=['10평 미만','10~20평', '20~30평', '30~40평', '40~50평', '50~60평'])\n",
    "x=up.index\n",
    "y=up['계약일']\n",
    "plt.figure(figsize=(5,2.5),dpi=160)\n",
    "plt.bar(x,y,width=0.5,color=\"blue\")\n",
    "a='평별 아파트 매매와 전세 거래건 수'\n",
    "plt.title(a)\n",
    "plt.savefig(a+'.png')"
   ]
  },
  {
   "cell_type": "code",
   "execution_count": null,
   "metadata": {},
   "outputs": [],
   "source": [
    "up=data_jeon.groupby('전월세구분').count()\n",
    "x=up.index\n",
    "y=up['계약일']\n",
    "plt.figure(figsize=(5,2.5),dpi=160)\n",
    "plt.bar(x,y,width=0.5,color=\"blue\")\n",
    "a='전월세 구분별 아파트 거래건수'\n",
    "plt.title(a)\n",
    "plt.savefig(a+'.png')"
   ]
  },
  {
   "cell_type": "code",
   "execution_count": null,
   "metadata": {},
   "outputs": [],
   "source": [
    "data_jeon=data_jeon[data_jeon['전월세구분']=='전세']\n",
    "up=data_jeon.groupby('보증금(만원)').count()\n",
    "up=up.sort_values(by='계약년월',ascending=False)[:10]\n",
    "x=up.index\n",
    "y=up['계약년월']\n",
    "plt.figure(figsize=(8,2.5),dpi=160)\n",
    "plt.bar(x,y,width=0.5,color=\"blue\")\n",
    "a='아파트 전세 보증금별 거래 수'\n",
    "plt.title(a)\n",
    "plt.savefig(a+'.png')"
   ]
  },
  {
   "cell_type": "code",
   "execution_count": null,
   "metadata": {},
   "outputs": [],
   "source": [
    "data_jeon=data_jeon[data_jeon['전월세구분']=='월세']\n",
    "up=data_jeon.groupby('월세(만원)').count()\n",
    "up=up.sort_values(by='계약년월',ascending=False)[:10]\n",
    "x=up.index\n",
    "y=up['계약년월']\n",
    "plt.figure(figsize=(5,2.5),dpi=160)\n",
    "plt.bar(x,y,width=2,color=\"blue\")\n",
    "a='아파트 월세 월세별 거래 수'\n",
    "plt.title(a)\n",
    "plt.savefig(a+'.png')"
   ]
  },
  {
   "cell_type": "markdown",
   "metadata": {},
   "source": [
    "### 연립 전월세"
   ]
  },
  {
   "cell_type": "code",
   "execution_count": null,
   "metadata": {
    "ExecuteTime": {
     "end_time": "2021-03-04T03:19:47.062709Z",
     "start_time": "2021-03-04T03:19:47.019822Z"
    }
   },
   "outputs": [],
   "source": [
    "yata_jeon = pd.read_csv('8.세종시_연립다세대(전월세)_실거래가.csv')\n",
    "yata_jeon[\"평\"]=yata_jeon[\"전용면적(㎡)\"].apply(pyeong)"
   ]
  },
  {
   "cell_type": "code",
   "execution_count": null,
   "metadata": {
    "ExecuteTime": {
     "end_time": "2021-03-04T03:19:47.079663Z",
     "start_time": "2021-03-04T03:19:47.065700Z"
    }
   },
   "outputs": [],
   "source": [
    "up=yata_jeon.groupby('평').count()\n",
    "up=up.reindex(index=['10평 미만','10~20평', '20~30평', '30~40평', '40~50평', '50~60평'])\n",
    "x=up.index\n",
    "y=up['계약일']\n",
    "plt.figure(figsize=(5,2.5),dpi=160)\n",
    "plt.bar(x,y,width=0.5,color=\"blue\")\n",
    "a='연립다가구 평별 전월세 거래수'\n",
    "plt.title(a)\n",
    "plt.savefig(a+'.png')"
   ]
  },
  {
   "cell_type": "code",
   "execution_count": null,
   "metadata": {},
   "outputs": [],
   "source": [
    "up=yata_jeon.groupby('전월세구분').count()\n",
    "x=up.index\n",
    "y=up['계약일']\n",
    "plt.figure(figsize=(5,2.5),dpi=160)\n",
    "plt.bar(x,y,width=0.5,color=\"blue\")\n",
    "a='연립다가구 전월세별 거래수'\n",
    "plt.title(a)\n",
    "plt.savefig(a+'.png')"
   ]
  },
  {
   "cell_type": "code",
   "execution_count": null,
   "metadata": {},
   "outputs": [],
   "source": [
    "#yata_jeon.groupby('보증금(만원)').count()\n",
    "up=yata_jeon[yata_jeon['전월세구분']=='전세']\n",
    "up=up.groupby('보증금(만원)').count()\n",
    "up=up.sort_values(by='계약년월',ascending=False)[:10]\n",
    "x=up.index\n",
    "y=up['계약년월']\n",
    "plt.figure(figsize=(5,2.5),dpi=160)\n",
    "plt.bar(x,y,width=0.8,color=\"blue\")\n",
    "a='연립다가구 전세 보증금별 거래 수'\n",
    "plt.title(a)\n",
    "plt.savefig(a+'.png')"
   ]
  },
  {
   "cell_type": "code",
   "execution_count": null,
   "metadata": {},
   "outputs": [],
   "source": [
    "#yata_jeon.groupby('월세(만원)').count()\n",
    "up=yata_jeon[yata_jeon['전월세구분']=='월세']\n",
    "up=up.groupby('월세(만원)').count()\n",
    "up=up.sort_values(by='계약년월',ascending=False)[:10]\n",
    "x=up.index\n",
    "y=up['계약년월']\n",
    "plt.figure(figsize=(5,2.5),dpi=160)\n",
    "plt.bar(x,y,width=0.5,color=\"blue\")\n",
    "a='연립다가구 월세 월세별 거래 수'\n",
    "plt.title(a)\n",
    "plt.savefig(a+'.png')"
   ]
  },
  {
   "cell_type": "code",
   "execution_count": null,
   "metadata": {},
   "outputs": [],
   "source": [
    "yata_jeon2=yata_jeon[yata_jeon['전월세구분']=='전세']\n",
    "all_yata2 = pd.merge(left=yata,right=yata_jeon2,how='left',on=[\"계약년월\",'시군구','건물명','전용면적(㎡)'],sort=False)\n",
    "idx_not=all_yata2[all_yata2['계약일_y'].isnull()].index\n",
    "all_yata2_notnull=all_yata2.drop(idx_not)\n",
    "all_yata2_notnull['보증금(만원)']=all_yata2_notnull['보증금(만원)'].apply(riri)\n",
    "all_yata2_notnull['거래금액(만원)']=all_yata2_notnull['거래금액(만원)'].apply(riri)\n",
    "all_yata2_notnull['전세가율']=(all_yata2_notnull['보증금(만원)']/all_yata2_notnull['거래금액(만원)'])*100\n",
    "all_yata2_notnull.groupby('계약년월').mean()"
   ]
  },
  {
   "cell_type": "markdown",
   "metadata": {},
   "source": [
    "### 단독 전월세"
   ]
  },
  {
   "cell_type": "code",
   "execution_count": null,
   "metadata": {
    "ExecuteTime": {
     "end_time": "2021-03-04T03:19:47.199341Z",
     "start_time": "2021-03-04T03:19:47.083651Z"
    }
   },
   "outputs": [],
   "source": [
    "danta_jeon = pd.read_csv('9.세종시_단독다가구(전월세)_실거래가.csv')\n",
    "danta_jeon[\"평\"]=danta_jeon[\"계약면적(㎡)\"].apply(pyeong)"
   ]
  },
  {
   "cell_type": "code",
   "execution_count": null,
   "metadata": {
    "ExecuteTime": {
     "end_time": "2021-03-04T03:19:47.229261Z",
     "start_time": "2021-03-04T03:19:47.202333Z"
    }
   },
   "outputs": [],
   "source": [
    "up=danta_jeon.groupby('평').count()\n",
    "up=up.reindex(index=['10평 미만','10~20평', '20~30평', '30~40평', '40~50평', '50~60평'])\n",
    "x=up.index\n",
    "y=up['계약일']\n",
    "plt.figure(figsize=(5,2.5),dpi=160)\n",
    "plt.bar(x,y,width=0.5,color=\"blue\")\n",
    "a='단독다가구 평별 거래수'\n",
    "plt.title(a)\n",
    "plt.savefig(a+'.png')"
   ]
  },
  {
   "cell_type": "code",
   "execution_count": null,
   "metadata": {},
   "outputs": [],
   "source": [
    "up=danta_jeon.groupby('전월세구분').count()\n",
    "x=up.index\n",
    "y=up['계약일']\n",
    "plt.figure(figsize=(5,2.5),dpi=160)\n",
    "plt.bar(x,y,width=0.5,color=\"blue\")\n",
    "a='단독다가구 전월세 거래수'\n",
    "plt.title(a)\n",
    "plt.savefig(a+'.png')"
   ]
  },
  {
   "cell_type": "code",
   "execution_count": null,
   "metadata": {},
   "outputs": [],
   "source": [
    "danta_jeon.groupby('보증금(만원)').count()\n",
    "up=danta_jeon[danta_jeon['전월세구분']=='전세']\n",
    "up=up.groupby('보증금(만원)').count()\n",
    "up=up.sort_values(by='계약년월',ascending=False)[:10]\n",
    "x=up.index\n",
    "y=up['계약년월']\n",
    "plt.figure(figsize=(5,2.5),dpi=160)\n",
    "plt.bar(x,y,width=0.5,color=\"blue\")\n",
    "a='단독다가구 전세 보증금 거래 수'\n",
    "plt.title(a)\n",
    "plt.savefig(a+'.png')"
   ]
  },
  {
   "cell_type": "code",
   "execution_count": null,
   "metadata": {},
   "outputs": [],
   "source": [
    "danta_jeon.groupby('월세(만원)').count()\n",
    "up=danta_jeon[danta_jeon['전월세구분']=='월세']\n",
    "up=up.groupby('월세(만원)').count()\n",
    "up=up.sort_values(by='계약년월',ascending=False)[:10]\n",
    "x=up.index\n",
    "y=up['계약년월']\n",
    "plt.figure(figsize=(5,2.5),dpi=160)\n",
    "plt.bar(x,y,width=1,color=\"blue\")\n",
    "a='단독다가구 월세 월세별 거래 수'\n",
    "plt.title(a)\n",
    "plt.savefig(a+'.png')"
   ]
  },
  {
   "cell_type": "code",
   "execution_count": null,
   "metadata": {},
   "outputs": [],
   "source": [
    "danta"
   ]
  },
  {
   "cell_type": "code",
   "execution_count": null,
   "metadata": {},
   "outputs": [],
   "source": [
    "###단독주택은 안 먹히는 듯\n",
    "danta_jeon2=danta_jeon[danta_jeon['전월세구분']=='전세']\n",
    "all_danta2 = pd.merge(left=danta,right=danta_jeon2,how='left',on=[\"계약년월\",'시군구','계약면적(㎡)'],sort=False)\n",
    "idx_not=all_yata2[all_danta2['계약일_y'].isnull()].index\n",
    "all_danta2_notnull=all_danta2.drop(idx_not)\n",
    "all_danta2_notnull['보증금(만원)']=all_danta2_notnull['보증금(만원)'].apply(riri)\n",
    "all_danta2_notnull['거래금액(만원)']=all_danta2_notnull['거래금액(만원)'].apply(riri)\n",
    "all_danta2_notnull['전세가율']=(all_danta2_notnull['보증금(만원)']/all_danta2_notnull['거래금액(만원)'])*100\n",
    "all_danta2_notnull.groupby('계약년월').mean()"
   ]
  },
  {
   "cell_type": "markdown",
   "metadata": {},
   "source": [
    "### 오피스텔 전월세"
   ]
  },
  {
   "cell_type": "code",
   "execution_count": null,
   "metadata": {
    "ExecuteTime": {
     "end_time": "2021-03-04T03:19:47.276136Z",
     "start_time": "2021-03-04T03:19:47.236243Z"
    }
   },
   "outputs": [],
   "source": [
    "oata_jeon = pd.read_csv('10.세종시_오피스텔(전월세)_실거래가.csv')\n",
    "oata_jeon[\"평\"]=oata_jeon[\"전용면적(㎡)\"].apply(pyeong)"
   ]
  },
  {
   "cell_type": "code",
   "execution_count": null,
   "metadata": {
    "ExecuteTime": {
     "end_time": "2021-03-04T03:19:47.306056Z",
     "start_time": "2021-03-04T03:19:47.282120Z"
    }
   },
   "outputs": [],
   "source": [
    "up=oata_jeon.groupby('평').count()\n",
    "up=up.reindex(index=['10평 미만','10~20평', '20~30평', '30~40평', '40~50평', '50~60평'])\n",
    "x=up.index\n",
    "y=up['계약일']\n",
    "plt.figure(figsize=(5,2.5),dpi=160)\n",
    "plt.bar(x,y,width=0.5,color=\"blue\")\n",
    "a='오피스텔 평별 거래수'\n",
    "plt.title(a)\n",
    "plt.savefig(a+'.png')"
   ]
  },
  {
   "cell_type": "code",
   "execution_count": null,
   "metadata": {},
   "outputs": [],
   "source": [
    "up=oata_jeon.groupby('전월세구분').count()\n",
    "x=up.index\n",
    "y=up['계약일']\n",
    "plt.figure(figsize=(5,2.5),dpi=160)\n",
    "plt.bar(x,y,width=0.5,color=\"blue\")\n",
    "a='오피스텔 전월세별 거래수'\n",
    "plt.title(a)\n",
    "plt.savefig(a+'.png')"
   ]
  },
  {
   "cell_type": "code",
   "execution_count": null,
   "metadata": {},
   "outputs": [],
   "source": [
    "#oata_jeon.groupby('월세(만원)').count()\n",
    "#danta_jeon.groupby('월세(만원)').count()\n",
    "up=oata_jeon[oata_jeon['전월세구분']=='월세']\n",
    "up=up.groupby('월세(만원)').count()\n",
    "up=up.sort_values(by='계약년월',ascending=False)[:10]\n",
    "x=up.index\n",
    "y=up['계약년월']\n",
    "plt.figure(figsize=(5,2.5),dpi=160)\n",
    "plt.bar(x,y,width=0.5,color=\"blue\")\n",
    "a='오피스텔 월세 월세별 거래 수'\n",
    "plt.title(a)\n",
    "plt.savefig(a+'.png')"
   ]
  },
  {
   "cell_type": "code",
   "execution_count": null,
   "metadata": {},
   "outputs": [],
   "source": [
    "###오피스텔 전세가율\n",
    "oata_jeon2=oata_jeon[oata_jeon['전월세구분']=='전세']\n",
    "all_oata2 = pd.merge(left=oata,right=oata_jeon2,how='left',on=[\"계약년월\",'시군구','전용면적(㎡)','단지명'],sort=False)\n",
    "idx_not=all_oata2[all_oata2['계약일_y'].isnull()].index\n",
    "all_oata2_notnull=all_oata2.drop(idx_not)\n",
    "all_oata2_notnull['보증금(만원)']=all_oata2_notnull['보증금(만원)'].apply(riri)\n",
    "all_oata2_notnull['거래금액(만원)']=all_oata2_notnull['거래금액(만원)'].apply(riri)\n",
    "all_oata2_notnull['전세가율']=(all_oata2_notnull['보증금(만원)']/all_oata2_notnull['거래금액(만원)'])*100\n",
    "all_oata2_notnull.groupby('계약년월').mean()"
   ]
  },
  {
   "cell_type": "code",
   "execution_count": null,
   "metadata": {},
   "outputs": [],
   "source": [
    "### 전월세 총합"
   ]
  },
  {
   "cell_type": "code",
   "execution_count": null,
   "metadata": {},
   "outputs": [],
   "source": [
    "data_jeon_all = pd.concat([data_jeon,yata_jeon,danta_jeon,oata_jeon], ignore_index=True)\n",
    "data_jeon_all"
   ]
  },
  {
   "cell_type": "code",
   "execution_count": null,
   "metadata": {},
   "outputs": [],
   "source": [
    "data_jeon_all['계약년월']=data_jeon_all['계약년월'].astype(str)\n",
    "data_jeon_all['계약월']=data_jeon_all['계약년월'].apply(mon)"
   ]
  },
  {
   "cell_type": "code",
   "execution_count": null,
   "metadata": {},
   "outputs": [],
   "source": [
    "up=data_jeon_all.groupby('계약월').count()\n",
    "x=up.index\n",
    "y=up['계약년월']\n",
    "plt.figure(figsize=(5,2.5),dpi=160)\n",
    "plt.bar(x,y,width=0.5,color=\"blue\")\n",
    "a='총 전월세 월별 거래 수'\n",
    "plt.title(a)\n",
    "plt.savefig(a+'.png')"
   ]
  },
  {
   "cell_type": "code",
   "execution_count": null,
   "metadata": {},
   "outputs": [],
   "source": [
    "data_jeon_all['계약년']=data_jeon_all['계약년월'].apply(year)"
   ]
  },
  {
   "cell_type": "code",
   "execution_count": null,
   "metadata": {},
   "outputs": [],
   "source": [
    "up=data_jeon_all.groupby('계약년').count()\n",
    "x=up.index\n",
    "y=up['계약년월']\n",
    "plt.figure(figsize=(5,2.5),dpi=160)\n",
    "plt.bar(x,y,width=0.5,color=\"blue\")\n",
    "a='년도별 총 전월세 거래 수'\n",
    "plt.title(a)\n",
    "plt.savefig(a+'.png')"
   ]
  },
  {
   "cell_type": "code",
   "execution_count": null,
   "metadata": {},
   "outputs": [],
   "source": [
    "up=data_jeon_all.groupby('평').count()\n",
    "up=up.reindex(index=['10평 미만','10~20평', '20~30평', '30~40평', '40~50평', '50~60평'])\n",
    "x=up.index\n",
    "y=up['계약일']\n",
    "plt.figure(figsize=(5,2.5),dpi=160)\n",
    "plt.bar(x,y,width=0.5,color=\"blue\")\n",
    "a='평별 총 전월세 거래수'\n",
    "plt.title(a)\n",
    "plt.savefig(a+'.png')"
   ]
  },
  {
   "cell_type": "code",
   "execution_count": null,
   "metadata": {},
   "outputs": [],
   "source": [
    "data_jeon_all"
   ]
  },
  {
   "cell_type": "markdown",
   "metadata": {},
   "source": [
    "### 토지매매 실거래"
   ]
  },
  {
   "cell_type": "code",
   "execution_count": null,
   "metadata": {
    "ExecuteTime": {
     "end_time": "2021-03-12T02:55:06.945672Z",
     "start_time": "2021-03-12T02:55:06.934696Z"
    }
   },
   "outputs": [],
   "source": [
    "def pyeong2(df):\n",
    "    return int(df/3.3)"
   ]
  },
  {
   "cell_type": "code",
   "execution_count": null,
   "metadata": {
    "ExecuteTime": {
     "end_time": "2021-03-12T02:55:07.402327Z",
     "start_time": "2021-03-12T02:55:07.156851Z"
    }
   },
   "outputs": [],
   "source": [
    "tata = pd.read_csv('12.세종시_토지(매매)_실거래가.csv')\n",
    "tata[\"평\"]=tata[\"계약면적(㎡)\"].apply(pyeong2)\n",
    "tata"
   ]
  },
  {
   "cell_type": "code",
   "execution_count": null,
   "metadata": {
    "ExecuteTime": {
     "end_time": "2021-03-12T02:55:07.406317Z",
     "start_time": "2021-03-12T02:55:07.326Z"
    }
   },
   "outputs": [],
   "source": [
    "up=tata.groupby('지목').count()\n",
    "up=up.sort_values(by='계약년월',ascending=False)[:10]\n",
    "x=up.index\n",
    "y=up['계약년월']\n",
    "plt.figure(figsize=(8,2.5),dpi=160)\n",
    "plt.bar(x,y,width=0.5,color=\"blue\")\n",
    "a='지목별 토지 거래 수'\n",
    "plt.title(a)\n",
    "plt.savefig(a+'.png')"
   ]
  },
  {
   "cell_type": "code",
   "execution_count": null,
   "metadata": {
    "ExecuteTime": {
     "end_time": "2021-03-12T02:55:07.525117Z",
     "start_time": "2021-03-12T02:55:07.511154Z"
    }
   },
   "outputs": [],
   "source": [
    "up=tata.groupby('용도지역').count()\n",
    "up=up.sort_values(by='계약년월',ascending=False)[:10]\n",
    "x=up.index\n",
    "y=up['계약년월']\n",
    "plt.figure(figsize=(16,2.5),dpi=160)\n",
    "plt.bar(x,y,width=0.5,color=\"blue\")\n",
    "a='용도지역별 토지 거래 수'\n",
    "plt.title(a)\n",
    "plt.savefig(a+'.png')"
   ]
  },
  {
   "cell_type": "code",
   "execution_count": null,
   "metadata": {
    "ExecuteTime": {
     "end_time": "2021-03-12T02:55:07.650085Z",
     "start_time": "2021-03-12T02:55:07.634131Z"
    }
   },
   "outputs": [],
   "source": [
    "up=tata.groupby('평').count()\n",
    "up=up.sort_values(by='계약년월',ascending=False)[:10]\n",
    "x=up.index\n",
    "y=up['계약년월']\n",
    "plt.figure(figsize=(5,2.5),dpi=160)\n",
    "plt.bar(x,y,width=0.5,color=\"blue\")\n",
    "a='평별 토지 거래 수'\n",
    "plt.title(a)\n",
    "plt.savefig(a+'.png')"
   ]
  },
  {
   "cell_type": "markdown",
   "metadata": {},
   "source": [
    "### 분양권 실거래가"
   ]
  },
  {
   "cell_type": "code",
   "execution_count": null,
   "metadata": {
    "ExecuteTime": {
     "end_time": "2021-03-04T03:19:47.474605Z",
     "start_time": "2021-03-04T03:19:47.448675Z"
    }
   },
   "outputs": [],
   "source": [
    "bunta = pd.read_csv('13.세종시_분양권_실거래가.csv')\n",
    "bunta[\"평\"]=bunta[\"전용면적(㎡)\"].apply(pyeong)"
   ]
  },
  {
   "cell_type": "code",
   "execution_count": null,
   "metadata": {},
   "outputs": [],
   "source": [
    "bunta"
   ]
  },
  {
   "cell_type": "code",
   "execution_count": null,
   "metadata": {
    "ExecuteTime": {
     "end_time": "2021-03-04T03:19:47.504525Z",
     "start_time": "2021-03-04T03:19:47.475602Z"
    }
   },
   "outputs": [],
   "source": [
    "up=bunta.groupby('평').count()\n",
    "up=up.reindex(index=['10평 미만','10~20평', '20~30평', '30~40평', '40~50평', '50~60평'])\n",
    "x=up.index\n",
    "y=up['계약일']\n",
    "plt.figure(figsize=(5,2.5),dpi=160)\n",
    "plt.bar(x,y,width=0.5,color=\"blue\")\n",
    "a='평별 분양권 거래수'\n",
    "plt.title(a)\n",
    "plt.savefig(a+'.png')"
   ]
  },
  {
   "cell_type": "code",
   "execution_count": null,
   "metadata": {},
   "outputs": [],
   "source": []
  }
 ],
 "metadata": {
  "kernelspec": {
   "display_name": "Python 3",
   "language": "python",
   "name": "python3"
  },
  "language_info": {
   "codemirror_mode": {
    "name": "ipython",
    "version": 3
   },
   "file_extension": ".py",
   "mimetype": "text/x-python",
   "name": "python",
   "nbconvert_exporter": "python",
   "pygments_lexer": "ipython3",
   "version": "3.8.5"
  },
  "toc": {
   "base_numbering": 1,
   "nav_menu": {},
   "number_sections": true,
   "sideBar": true,
   "skip_h1_title": false,
   "title_cell": "Table of Contents",
   "title_sidebar": "Contents",
   "toc_cell": false,
   "toc_position": {},
   "toc_section_display": true,
   "toc_window_display": false
  },
  "varInspector": {
   "cols": {
    "lenName": 16,
    "lenType": 16,
    "lenVar": 40
   },
   "kernels_config": {
    "python": {
     "delete_cmd_postfix": "",
     "delete_cmd_prefix": "del ",
     "library": "var_list.py",
     "varRefreshCmd": "print(var_dic_list())"
    },
    "r": {
     "delete_cmd_postfix": ") ",
     "delete_cmd_prefix": "rm(",
     "library": "var_list.r",
     "varRefreshCmd": "cat(var_dic_list()) "
    }
   },
   "types_to_exclude": [
    "module",
    "function",
    "builtin_function_or_method",
    "instance",
    "_Feature"
   ],
   "window_display": false
  }
 },
 "nbformat": 4,
 "nbformat_minor": 4
}
