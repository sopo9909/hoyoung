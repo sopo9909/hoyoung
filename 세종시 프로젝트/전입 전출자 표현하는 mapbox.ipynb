{
 "cells": [
  {
   "cell_type": "code",
   "execution_count": null,
   "metadata": {},
   "outputs": [],
   "source": []
  },
  {
   "cell_type": "code",
   "execution_count": null,
   "metadata": {
    "ExecuteTime": {
     "end_time": "2021-03-24T04:09:14.988539Z",
     "start_time": "2021-03-24T04:09:14.491579Z"
    }
   },
   "outputs": [],
   "source": [
    "import pydeck as pdk\n",
    "import pandas as pd"
   ]
  },
  {
   "cell_type": "code",
   "execution_count": null,
   "metadata": {
    "ExecuteTime": {
     "end_time": "2021-03-24T04:09:15.036395Z",
     "start_time": "2021-03-24T04:09:15.022422Z"
    }
   },
   "outputs": [],
   "source": [
    "def sido(df):\n",
    "    return df.split(' ')[0]"
   ]
  },
  {
   "cell_type": "code",
   "execution_count": null,
   "metadata": {
    "ExecuteTime": {
     "end_time": "2021-03-24T04:09:15.084305Z",
     "start_time": "2021-03-24T04:09:15.072337Z"
    }
   },
   "outputs": [],
   "source": [
    "geongkibuk=[\"김포시\",\"고양시\",\"양주시\",\"의정부시\",\"파주시\",\"연천군\",\"동두천시\",\"포천시\",\"구리시\",\"의정부시\",\"남양주시\",\"가평군\",\"양평군\"]\n",
    "geongkinam=[\"하남시\",'광주시',\"여주시\",\"이천시\",\"성남시\",\"용인시\",\"안성시\",\"평택시\",\"오산시\",\"수원시\",\"의왕시\",\"과천시\",\"군포시\",\"안양시\",\"광명시\",\"부천시\",\"시흥시\",\"안산시\",\"화성시\",\"평택시\"]"
   ]
  },
  {
   "cell_type": "code",
   "execution_count": null,
   "metadata": {
    "ExecuteTime": {
     "end_time": "2021-03-24T04:09:17.225511Z",
     "start_time": "2021-03-24T04:09:17.211548Z"
    }
   },
   "outputs": [],
   "source": [
    "lat=[37.89081,37.27703,37.73458,35.23830,36.57854,35.15441,35.83421,36.34026,35.16788,37.55626,35.54421,37.45603,34.99069,35.82812,33.49802,36.66962,36.62539]\n",
    "lot=[127.73846,127.00787,127.068296,128.69239,128.77940,126.84307,128.56243,127.39788,129.04583,126.99139,129.24908,126.70575,126.47796,127.11366,126.53174,126.78211,127.50361]"
   ]
  },
  {
   "cell_type": "code",
   "execution_count": null,
   "metadata": {
    "ExecuteTime": {
     "end_time": "2021-03-24T04:44:52.817102Z",
     "start_time": "2021-03-24T04:44:52.662631Z"
    }
   },
   "outputs": [],
   "source": [
    "data2_arc=pd.read_csv('21.세종시_전출자수.csv')\n",
    "data2_arc2=data2_arc.drop(['년월','세종전출행정동','전입읍면동'],axis=1)\n",
    "data2_arc2['시찾기']=data2_arc2['전입시군구'].apply(sido)\n",
    "idx_not=data2_arc2[data2_arc2['시찾기']=='세종특별자치시'].index\n",
    "data2_arc3=data2_arc2.drop(idx_not)\n",
    "data2_arc3=data2_arc3.reset_index(drop=True)"
   ]
  },
  {
   "cell_type": "code",
   "execution_count": null,
   "metadata": {
    "ExecuteTime": {
     "end_time": "2021-03-24T04:09:15.305918Z",
     "start_time": "2021-03-24T04:09:15.118232Z"
    }
   },
   "outputs": [],
   "source": [
    "data_arc=pd.read_csv('20.세종시_전입자수.csv')\n",
    "data_arc2=data_arc.drop(['년월','세종전입행정동','전출읍면동'],axis=1)\n",
    "data_arc2['시찾기']=data_arc2['전출시군구'].apply(sido)\n",
    "idx_not=data_arc2[data_arc2['시찾기']=='세종특별자치시'].index\n",
    "data_arc3=data_arc2.drop(idx_not)\n",
    "data_arc3=data_arc3.reset_index(drop=True)"
   ]
  },
  {
   "cell_type": "code",
   "execution_count": null,
   "metadata": {
    "ExecuteTime": {
     "end_time": "2021-03-24T04:45:18.129445Z",
     "start_time": "2021-03-24T04:45:16.979418Z"
    }
   },
   "outputs": [],
   "source": [
    "rororo2=[]\n",
    "for i in range(len(data2_arc3)):\n",
    "    if data2_arc3['시찾기'][i] in geongkibuk:\n",
    "        rororo2.append('경기북부')\n",
    "    elif data2_arc3['시찾기'][i] in geongkinam:\n",
    "        rororo2.append('경기남부')\n",
    "    else:\n",
    "        rororo2.append(data2_arc3['전입시'][i])\n",
    "data2_arc3['시도발견']=rororo2\n",
    "data2_arc32=data2_arc3.groupby('시도발견').sum()\n",
    "data2_arc32['위도']=lat\n",
    "data2_arc32['경도']=lot"
   ]
  },
  {
   "cell_type": "code",
   "execution_count": null,
   "metadata": {
    "ExecuteTime": {
     "end_time": "2021-03-24T04:09:16.855937Z",
     "start_time": "2021-03-24T04:09:15.372919Z"
    }
   },
   "outputs": [],
   "source": [
    "rororo=[]\n",
    "for i in range(len(data_arc3)):\n",
    "    if data_arc3['시찾기'][i] in geongkibuk:\n",
    "        rororo.append('경기북부')\n",
    "    elif data_arc3['시찾기'][i] in geongkinam:\n",
    "        rororo.append('경기남부')\n",
    "    else:\n",
    "        rororo.append(data_arc3['전출시'][i])\n",
    "data_arc3['시도발견']=rororo"
   ]
  },
  {
   "cell_type": "code",
   "execution_count": null,
   "metadata": {
    "ExecuteTime": {
     "end_time": "2021-03-24T04:29:04.508444Z",
     "start_time": "2021-03-24T04:29:04.485516Z"
    }
   },
   "outputs": [],
   "source": [
    "data_arc32=data_arc3.groupby('시도발견').sum()\n",
    "data_arc32['위도']=lat\n",
    "data_arc32['경도']=lot"
   ]
  },
  {
   "cell_type": "code",
   "execution_count": null,
   "metadata": {
    "ExecuteTime": {
     "end_time": "2021-03-24T04:29:04.900956Z",
     "start_time": "2021-03-24T04:29:04.886993Z"
    }
   },
   "outputs": [],
   "source": [
    "#세종특별자치시 : [36.50319, 127.24628]\n",
    "data_arc32['세종위도']=36.50319\n",
    "data_arc32['세종경도']=127.24628\n",
    "data2_arc32['세종위도']=36.50319\n",
    "data2_arc32['세종경도']=127.24628"
   ]
  },
  {
   "cell_type": "code",
   "execution_count": null,
   "metadata": {
    "ExecuteTime": {
     "end_time": "2021-03-24T04:29:05.309969Z",
     "start_time": "2021-03-24T04:29:05.291002Z"
    }
   },
   "outputs": [],
   "source": [
    "data_arc32=data_arc32.reset_index()"
   ]
  },
  {
   "cell_type": "code",
   "execution_count": null,
   "metadata": {
    "ExecuteTime": {
     "end_time": "2021-03-24T05:59:27.146496Z",
     "start_time": "2021-03-24T05:59:27.118571Z"
    }
   },
   "outputs": [],
   "source": [
    "layer = pdk.Layer(\n",
    "    'ArcLayer',\n",
    "    data_arc32,\n",
    "    get_source_position=['경도', '위도'],\n",
    "    get_target_position=['세종경도', '세종위도'],\n",
    "    get_width='전입자수*0.0001',#'1 + 0000000.1* 전입자수',\n",
    "    get_source_color=[142, 133, 255],\n",
    "    get_target_color=[12, 0, 164],\n",
    "    pickable=True,\n",
    "    auto_highlight=True\n",
    ")\n",
    "view_state = pdk.ViewState(\n",
    "    latitude=36.50319,\n",
    "    longitude=127.24628,\n",
    "    zoom=6,\n",
    "    min_zoom=5,\n",
    "    max_zoom=15,\n",
    "    pitch=40.5,\n",
    "    bearing=-27.36)\n",
    "\n",
    "# Combined all of it and render a viewport\n",
    "r = pdk.Deck(layers=[layer], initial_view_state=view_state)\n",
    "r.to_html('hexagon-example.html')"
   ]
  },
  {
   "cell_type": "code",
   "execution_count": null,
   "metadata": {
    "ExecuteTime": {
     "end_time": "2021-03-24T05:59:31.323489Z",
     "start_time": "2021-03-24T05:59:31.300537Z"
    }
   },
   "outputs": [],
   "source": [
    "layer = pdk.Layer(\n",
    "    'ArcLayer',\n",
    "    data2_arc32,\n",
    "    get_source_position=['경도', '위도'],\n",
    "    get_target_position=['세종경도', '세종위도'],\n",
    "    get_width='전출자수*0.0001',#'1 + 0000000.1* 전입자수',\n",
    "    get_source_color=[255, 109, 109],\n",
    "    get_target_color=[142, 0, 0],\n",
    "    pickable=True,\n",
    "    auto_highlight=True\n",
    ")\n",
    "view_state = pdk.ViewState(\n",
    "    latitude=36.50319,\n",
    "    longitude=127.24628,\n",
    "    zoom=6,\n",
    "    min_zoom=5,\n",
    "    max_zoom=15,\n",
    "    pitch=40.5,\n",
    "    bearing=-27.36)\n",
    "\n",
    "# Combined all of it and render a viewport\n",
    "r = pdk.Deck(layers=[layer], initial_view_state=view_state)\n",
    "r.to_html('hexagon-example.html')"
   ]
  }
 ],
 "metadata": {
  "kernelspec": {
   "display_name": "Python 3",
   "language": "python",
   "name": "python3"
  },
  "language_info": {
   "codemirror_mode": {
    "name": "ipython",
    "version": 3
   },
   "file_extension": ".py",
   "mimetype": "text/x-python",
   "name": "python",
   "nbconvert_exporter": "python",
   "pygments_lexer": "ipython3",
   "version": "3.8.5"
  },
  "toc": {
   "base_numbering": 1,
   "nav_menu": {},
   "number_sections": true,
   "sideBar": true,
   "skip_h1_title": false,
   "title_cell": "Table of Contents",
   "title_sidebar": "Contents",
   "toc_cell": false,
   "toc_position": {},
   "toc_section_display": true,
   "toc_window_display": false
  },
  "varInspector": {
   "cols": {
    "lenName": 16,
    "lenType": 16,
    "lenVar": 40
   },
   "kernels_config": {
    "python": {
     "delete_cmd_postfix": "",
     "delete_cmd_prefix": "del ",
     "library": "var_list.py",
     "varRefreshCmd": "print(var_dic_list())"
    },
    "r": {
     "delete_cmd_postfix": ") ",
     "delete_cmd_prefix": "rm(",
     "library": "var_list.r",
     "varRefreshCmd": "cat(var_dic_list()) "
    }
   },
   "types_to_exclude": [
    "module",
    "function",
    "builtin_function_or_method",
    "instance",
    "_Feature"
   ],
   "window_display": false
  }
 },
 "nbformat": 4,
 "nbformat_minor": 4
}
