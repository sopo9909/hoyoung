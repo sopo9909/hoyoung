{
 "cells": [
  {
   "cell_type": "code",
   "execution_count": 1,
   "metadata": {
    "ExecuteTime": {
     "end_time": "2021-02-04T03:34:51.400816Z",
     "start_time": "2021-02-04T03:34:50.927569Z"
    }
   },
   "outputs": [],
   "source": [
    "from PIL import Image\n",
    "from PIL import ImageFont\n",
    "from PIL import ImageDraw\n",
    "import matplotlib.pylab as plt\n",
    "import copy\n",
    "import random"
   ]
  },
  {
   "cell_type": "code",
   "execution_count": 10,
   "metadata": {
    "ExecuteTime": {
     "end_time": "2021-02-04T03:49:50.941792Z",
     "start_time": "2021-02-04T03:49:50.193749Z"
    }
   },
   "outputs": [
    {
     "name": "stdout",
     "output_type": "stream",
     "text": [
      "<PIL.Image.Image image mode=RGB size=346x433 at 0x1DFD1F092B0>\n",
      "1 11 23\n",
      "41387342\n",
      "41387342\n"
     ]
    }
   ],
   "source": [
    "target = Image.open(r'C:/Users/701/Pictures/[꾸미기]D0AEcLJVYAErhXl.jpg')\n",
    "model = Image.new(target.mode,target.size)\n",
    "k = 0\n",
    "text = 'IU'\n",
    "rgb_target = target.convert('RGB') #타겟의 RGB를 가져온다\n",
    "print(rgb_target)\n",
    "r,g,b = rgb_target.getpixel((random.randrange(0,model.size[0]),random.randrange(0,model.size[1])))\n",
    "print(r,g,b)\n",
    "point_model = 0\n",
    "point_new_model = 0\n",
    "new_model = copy.deepcopy(model)\n",
    "rgb_model = model.convert('RGB')\n",
    "rgb_new_model = new_model.convert('RGB')\n",
    "for i in range(0,target.size[0]):\n",
    "    for j in range(0,target.size[1]):\n",
    "        r0,g0,b0 = rgb_model.getpixel((i,j))\n",
    "        r1,g1,b1 = rgb_new_model.getpixel((i,j))\n",
    "        rt,gt,bt = rgb_target.getpixel((i,j))\n",
    "        point_model += abs(rt-r0)+abs(gt-g0)+abs(bt-b0)\n",
    "        point_new_model += abs(rt-r1)+abs(gt-g1)+abs(bt-b1)\n",
    "print(point_model)\n",
    "print(point_new_model)"
   ]
  },
  {
   "cell_type": "code",
   "execution_count": 2,
   "metadata": {
    "ExecuteTime": {
     "end_time": "2021-02-04T03:35:31.533525Z",
     "start_time": "2021-02-04T03:35:31.508591Z"
    }
   },
   "outputs": [],
   "source": [
    "target = Image.open(r'C:/Users/701/Pictures/[꾸미기]D0AEcLJVYAErhXl.jpg')\n",
    "model = Image.new(target.mode,target.size)\n",
    "k = 0\n",
    "text = 'IU'\n",
    "while 1 :\n",
    "    font_size = random.randrange(0,20)\n",
    "    font_position_x = random.randrange(-model.size[0],model.size[0])\n",
    "    font_position_y = random.randrange(-model.size[1],model.size[1])\n",
    "    rgb_target = target.convert('RGB') #타겟의 RGB를 가져온다\n",
    "    r,g,b = rgb_target.getpixel((random.randrange(0,model.size[0]),random.randrange(0,model.size[1]))) #타겟의 RGB\n",
    "    font  = ImageFont.truetype('arial.ttf',font_size)\n",
    "    new_model = copy.deepcopy(model)\n",
    "    draw = ImageDraw.Draw(new_model)\n",
    "    draw.text((font_position_x,font_position_y),text,(r,g,b),font=font)\n",
    "    rgb_model = model.convert('RGB')\n",
    "    rgb_new_model = new_model.convert('RGB')\n",
    "    point_model = 0\n",
    "    point_new_model = 0\n",
    "    for i in range(0,target.size[0]):\n",
    "        for j in range(0,target.size[1]):\n",
    "            r0,g0,b0 = rgb_model.getpixel((i,j))\n",
    "            r1,g1,b1 = rgb_new_model.getpixel((i,j))\n",
    "            rt,gt,bt = rgb_target.getpixel((i,j))\n",
    "            point_model += abs(rt-r0)+abs(gt-g0)+abs(bt-b0)\n",
    "            point_new_model += abs(rt-r1)+abs(gt-g1)+abs(bt-b1)\n",
    "    if point_new_model < point_model:\n",
    "        model = new_model\n",
    "        k +=1\n",
    "        model.save('IU/model_{}.jpg'.format(k))\n",
    "        print(k)\n"
   ]
  },
  {
   "cell_type": "code",
   "execution_count": null,
   "metadata": {},
   "outputs": [],
   "source": []
  }
 ],
 "metadata": {
  "kernelspec": {
   "display_name": "Python 3",
   "language": "python",
   "name": "python3"
  },
  "language_info": {
   "codemirror_mode": {
    "name": "ipython",
    "version": 3
   },
   "file_extension": ".py",
   "mimetype": "text/x-python",
   "name": "python",
   "nbconvert_exporter": "python",
   "pygments_lexer": "ipython3",
   "version": "3.8.5"
  },
  "toc": {
   "base_numbering": 1,
   "nav_menu": {},
   "number_sections": true,
   "sideBar": true,
   "skip_h1_title": false,
   "title_cell": "Table of Contents",
   "title_sidebar": "Contents",
   "toc_cell": false,
   "toc_position": {},
   "toc_section_display": true,
   "toc_window_display": false
  },
  "varInspector": {
   "cols": {
    "lenName": 16,
    "lenType": 16,
    "lenVar": 40
   },
   "kernels_config": {
    "python": {
     "delete_cmd_postfix": "",
     "delete_cmd_prefix": "del ",
     "library": "var_list.py",
     "varRefreshCmd": "print(var_dic_list())"
    },
    "r": {
     "delete_cmd_postfix": ") ",
     "delete_cmd_prefix": "rm(",
     "library": "var_list.r",
     "varRefreshCmd": "cat(var_dic_list()) "
    }
   },
   "types_to_exclude": [
    "module",
    "function",
    "builtin_function_or_method",
    "instance",
    "_Feature"
   ],
   "window_display": false
  }
 },
 "nbformat": 4,
 "nbformat_minor": 4
}
