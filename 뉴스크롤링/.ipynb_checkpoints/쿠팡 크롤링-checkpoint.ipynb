{
 "cells": [
  {
   "cell_type": "code",
   "execution_count": 1,
   "metadata": {
    "ExecuteTime": {
     "end_time": "2021-03-29T00:43:14.536224Z",
     "start_time": "2021-03-29T00:43:14.201175Z"
    }
   },
   "outputs": [],
   "source": [
    "from selenium import webdriver\n",
    "from selenium.webdriver.common.keys import Keys\n",
    "from bs4 import BeautifulSoup\n",
    "from selenium.webdriver.support.ui import WebDriverWait\n",
    "from selenium.webdriver.support import expected_conditions as EC\n",
    "from selenium.common.exceptions import TimeoutException\n",
    "import time\n",
    "import requests\n",
    "options = webdriver.ChromeOptions()\n",
    "#options.add_argument('headless')\n",
    "options.add_argument(\"start-maximized\")\n",
    "options.add_argument(\"disable-infobars\")\n",
    "options.add_argument(\"--disable-extensions\")\n",
    "options.add_argument('lang=ko_KR')\n",
    "options.add_argument('authority= www.coupang.com')\n",
    "options.add_argument('user-agent=Mozilla/5.0 (Windows NT 10.0; Win64; x64) AppleWebKit/537.36 (KHTML, like Gecko) Chrome/89.0.4389.90 Safari/537.36')\n",
    "options.add_argument('accept=text/html,application/xhtml+xml,application/xml;q=0.9,image/avif,image/webp,image/apng,*/*;q=0.8,application/signed-exchange;v=b3;q=0.9')\n",
    "options.add_argument('cookie=sid=e75eeb9defde46139683c18adb35203a948c0d3e; PCID=27432903235840507024460; overrideAbTestGroup=%5B%5D; MARKETID=27432903235840507024460; bm_sz=DC5C34CE31904F0FF94A2D8E148848B0~YAAQddojF7tk13N4AQAAg2jweAvPajrDO/uPUYwdXozHv2SFFe9iyIMiMNOChTb9CQtH9FmRzI0N/noAJXr+UaQKp0qAou3Ru00JPX4Iat/lXTO8+sNlheJOlAdNoxObgqjtKtZXgiaG4/v9x0OmBLP5bBZueV3kts5o3adaFDgcL7Xh8QEelY2VAlTUAXrZ1Q==; _fbp=fb.1.1616936724605.320452491; bm_sv=B7B343F763238B2AB780F1C1727D5625~CBc8xXUQu1Ukozdr08cb8NIeyDJRoP1cLpv4IBRMxM5n3qRbKiJnEGWtCPoF6bz9kc9so+5W7QZOPly+rEvgYlZrb/TIxA85Vkx+5tiTD871m2T0693WmnKhU+TznY/S/iaL2/+evFuzyktw6c7Fx2ebx8m3Fs3SYof28f0hgMw=; ak_bmsc=731321ED51499E0E7F7BE5F947876BC01723DA75C44F0000147F6060A836AC6C~plRhbR98IP8fD8TSTwa1N47Lg32D/corCNS/et/K0XrpVFgLnej4X0+mg/4XdqbyoDPC8/dyENsaY6+CsIM0dhCi+fwXn4rSPxp7MCxi3pvzSR2Cz8SCLPI5igO1qQAF2eW10YtcZjegz/19wFa4EatSJEdSi0Rt2OwdIDetOqDFgC7JTZ0Pt6dGVtNCqPKUFgmNl+/DV1O2+VOYZUVWTt8E54Li0XjLrQl+bPoSexLY1sUsRHg8b8ZdoteBA72ZTV+um1nYfxDhIjTlt9gi+eJ14Ofmm8j6Wh83JkQ4nKVNk=; _abck=447EC68AFE4E8CA6A5C6A0B3E3F67B09~0~YAAQddojF+1l13N4AQAAHG3weAU1LQrI4XvEe5Bf24dUMBU/1pcNI931S9CoSmJQK6Rznvc6fry2bmcWl0Q9NIy3NhaxfGsWlRPB6Qu5qo1OAauX+oYFu0+91XAtiaQuE3Le3SnLDXBgp1ZYLbqPAhbA6mOkFDOcbRcHKvb87j1OQLsM6/B7xFC20LdCviWnwHaZ1850G0EeQak+/IwVISPF0x9pyh7uu/5lMpu3be3n2P6jP91dOCH4AAwOFad0WqTvAPYnGDz5A55OYc2IN/cOQJqg0Xx6dDoVeLiuwWUxikoAOJ1luJiCp93YX9r2LEOxSsuZAkBfI6kTzplfRK1r72DXd2JUUYUb4tWB6qbkED3zqOfNXhRfFoyOj7gTp0YJ2m3BQk+n53mLTahGDK56Ulj8rp+83Q==~-1~-1~-1; searchSoterTooltip=OFF; baby-isWide=wide')"
   ]
  },
  {
   "cell_type": "code",
   "execution_count": null,
   "metadata": {},
   "outputs": [],
   "source": [
    "authority: www.coupang.com"
   ]
  },
  {
   "cell_type": "markdown",
   "metadata": {},
   "source": [
    "### 드라이버 실행"
   ]
  },
  {
   "cell_type": "code",
   "execution_count": null,
   "metadata": {},
   "outputs": [],
   "source": [
    "driver = webdriver.Chrome(chrome_options=options,executable_path=\"chromedriver.exe\")\n",
    "driver.get(\"https://www.coupang.com/vp/products/1487807826?itemId=2554413715&vendorItemId=3002625519&q=%ED%96%A5%EC%88%98&itemsCount=36&searchId=0b5df22ed878425f9ca4b4626f447797&rank=3&isAddedCart=\")\n",
    "time.sleep(10)"
   ]
  },
  {
   "cell_type": "markdown",
   "metadata": {},
   "source": [
    "### 리뷰 보는 것 클릭"
   ]
  },
  {
   "cell_type": "code",
   "execution_count": null,
   "metadata": {},
   "outputs": [],
   "source": [
    "elrm = driver.find_elements_by_xpath(\"/html/body/div[1]/section/div[2]/div[10]/ul[1]/li[2]\")\n",
    "elrm[0].click()\n",
    "try :\n",
    "    result = driver.switch_to_alert()\n",
    "    print(result.text)\n",
    "    result.accept()\n",
    "    result.dismiss()\n",
    "except:\n",
    "    'ttt'\n",
    "#btfTab > ul.tab-titles > li:nth-child(2)"
   ]
  },
  {
   "cell_type": "code",
   "execution_count": null,
   "metadata": {},
   "outputs": [],
   "source": [
    "###part 1\n",
    "req = driver.page_source\n",
    "soup=BeautifulSoup(req, 'html.parser')\n",
    "information_list = soup.find_all(attrs={'class':'sdp-review__article__list js_reviewArticleReviewList'})\n",
    "for i in range(3,13):\n",
    "    for information in information_list:\n",
    "        a=information.find(attrs={'class':'sdp-review__article__list__review js_reviewArticleContentContainer'})\n",
    "        b=information.find(attrs={'class':'sdp-review__article__list__headline'})\n",
    "        c=information.find(attrs={'class':'sdp-review__article__list__survey__row__answer'})\n",
    "        d=information.find(attrs={'class':'sdp-review__article__list__survey__row__answer'})\n",
    "        e=information.find(attrs={'class':'sdp-review__article__list__info__product-info__star-orange js_reviewArticleRatingValue'})\n",
    "        date=information.find(attrs={'class':'sdp-review__article__list__info__product-info__reg-date'})\n",
    "        print('평점 : '+e[\"data-rating\"])\n",
    "        print('날짜 : '+date.text)\n",
    "        print(a.text.strip().replace('\\n','').replace('-',''))\n",
    "        print('##'*10)\n",
    "        try:\n",
    "            print(b.text.strip().replace('\\n','').replace('-','').replace('  ',''))\n",
    "            print('##'*10)\n",
    "        except:\n",
    "            pass\n",
    "        try:\n",
    "            print(c.text.strip().replace('\\n',''))\n",
    "            print('##'*10)\n",
    "        except:\n",
    "            pass\n",
    "        try:\n",
    "            print(d.text.strip().replace('\\n',''))\n",
    "            print('##'*10)\n",
    "        except:\n",
    "            pass\n",
    "    try :\n",
    "        result = driver.switch_to_alert()\n",
    "        print(result.text)\n",
    "        result.accept()\n",
    "        result.dismiss()\n",
    "    except:\n",
    "        'ttt'\n",
    "    time.sleep(2)\n",
    "    elrm = driver.find_elements_by_xpath(\"/html/body/div[1]/section/div[2]/div[10]/ul[2]/li[2]/div/div[5]/section[4]/div[3]/button[{0}]\".format(i))\n",
    "    elrm[0].click()"
   ]
  },
  {
   "cell_type": "markdown",
   "metadata": {},
   "source": [
    "### 리뷰 크롤링"
   ]
  },
  {
   "cell_type": "code",
   "execution_count": null,
   "metadata": {},
   "outputs": [],
   "source": [
    "for j in range(10):\n",
    "    for i in range(3,13):\n",
    "        try :\n",
    "            result = driver.switch_to_alert()\n",
    "            print(result.text)\n",
    "            result.accept()\n",
    "            result.dismiss()\n",
    "        except:\n",
    "            'ttt'\n",
    "        req = driver.page_source\n",
    "        soup=BeautifulSoup(req, 'html.parser')\n",
    "        information_list = soup.find_all(attrs={'class':'sdp-review__article__list js_reviewArticleReviewList'})\n",
    "        for information in information_list:\n",
    "            a=information.find(attrs={'class':'sdp-review__article__list__review js_reviewArticleContentContainer'})\n",
    "            b=information.find(attrs={'class':'sdp-review__article__list__headline'})\n",
    "            c=information.find(attrs={'class':'sdp-review__article__list__survey__row__answer'})\n",
    "            d=information.find(attrs={'class':'sdp-review__article__list__survey__row__answer'})\n",
    "            e=information.find(attrs={'class':'sdp-review__article__list__info__product-info__star-orange js_reviewArticleRatingValue'})\n",
    "            date=information.find(attrs={'class':'sdp-review__article__list__info__product-info__reg-date'})\n",
    "            print('평점 : '+e[\"data-rating\"])\n",
    "            print('날짜 : '+date.text)\n",
    "            print(a.text.strip().replace('\\n','').replace('-',''))\n",
    "            print('##'*10)\n",
    "            try:\n",
    "                print(b.text.strip().replace('\\n','').replace('-','').replace('  ',''))\n",
    "                print('##'*10)\n",
    "            except:\n",
    "                pass\n",
    "            try:\n",
    "                print(c.text.strip().replace('\\n',''))\n",
    "                print('##'*10)\n",
    "            except:\n",
    "                pass\n",
    "            try:\n",
    "                print(d.text.strip().replace('\\n',''))\n",
    "                print('##'*10)\n",
    "            except:\n",
    "                pass\n",
    "        try :\n",
    "            result = driver.switch_to_alert()\n",
    "            print(result.text)\n",
    "            result.accept()\n",
    "            result.dismiss()\n",
    "        except:\n",
    "            'ttt'\n",
    "        time.sleep(2)\n",
    "        elrm = driver.find_elements_by_xpath(\"/html/body/div[1]/section/div[2]/div[10]/ul[2]/li[2]/div/div[5]/section[4]/div[3]/button[{0}]\".format(i))\n",
    "        elrm[0].click()"
   ]
  },
  {
   "cell_type": "markdown",
   "metadata": {},
   "source": [
    "### url 추출"
   ]
  },
  {
   "cell_type": "code",
   "execution_count": null,
   "metadata": {},
   "outputs": [],
   "source": [
    "driver = webdriver.Chrome(chrome_options=options,executable_path=\"chromedriver.exe\")\n",
    "for i in range(1,19):\n",
    "    driver.get(\"https://www.coupang.com/np/categories/176598?page={}\".format(i))\n",
    "    req = driver.page_source\n",
    "    soup = BeautifulSoup(req, 'html.parser')\n",
    "    text2 = soup.find('title').text\n",
    "    if text2 =='Access Denied':\n",
    "        driver.refresh()\n",
    "    req = driver.page_source\n",
    "    soup = BeautifulSoup(req, 'html.parser')\n",
    "    try :\n",
    "        result = driver.switch_to_alert()\n",
    "        print(result.text)\n",
    "        result.accept()\n",
    "        result.dismiss()\n",
    "    except:\n",
    "        'ttt'\n",
    "    time.sleep(3)\n",
    "    listt = soup.find(attrs={'class':'baby-product-list'})\n",
    "    if listt is None:\n",
    "        print('끝끝')\n",
    "        driver.quit()\n",
    "    else:\n",
    "        lit = listt.find_all('li')\n",
    "        for lt in lit:\n",
    "            print('https://www.coupang.com'+lt.find(attrs={'class':'baby-product-link'})['href']+'&isAddedCart=')"
   ]
  },
  {
   "cell_type": "code",
   "execution_count": null,
   "metadata": {},
   "outputs": [],
   "source": [
    "elrm = driver.find_elements_by_xpath(\"/html/head/title\")\n",
    "print(elrm[0])"
   ]
  },
  {
   "cell_type": "markdown",
   "metadata": {},
   "source": [
    "### 둘 다 합쳐보기"
   ]
  },
  {
   "cell_type": "code",
   "execution_count": 8,
   "metadata": {
    "ExecuteTime": {
     "end_time": "2021-03-29T01:07:48.933881Z",
     "start_time": "2021-03-29T01:07:27.457358Z"
    }
   },
   "outputs": [
    {
     "name": "stderr",
     "output_type": "stream",
     "text": [
      "<ipython-input-8-c05b67a95fc2>:1: DeprecationWarning: use options instead of chrome_options\n",
      "  driver = webdriver.Chrome(chrome_options=options,executable_path=\"chromedriver.exe\")\n",
      "<ipython-input-8-c05b67a95fc2>:12: DeprecationWarning: use driver.switch_to.alert instead\n",
      "  result = driver.switch_to_alert()\n",
      "<ipython-input-8-c05b67a95fc2>:41: DeprecationWarning: use driver.switch_to.alert instead\n",
      "  result = driver.switch_to_alert()\n",
      "<ipython-input-8-c05b67a95fc2>:51: DeprecationWarning: use driver.switch_to.alert instead\n",
      "  result = driver.switch_to_alert()\n",
      "<ipython-input-8-c05b67a95fc2>:102: DeprecationWarning: use driver.switch_to.alert instead\n",
      "  result = driver.switch_to_alert()\n"
     ]
    },
    {
     "ename": "IndexError",
     "evalue": "list index out of range",
     "output_type": "error",
     "traceback": [
      "\u001b[1;31m---------------------------------------------------------------------------\u001b[0m",
      "\u001b[1;31mIndexError\u001b[0m                                Traceback (most recent call last)",
      "\u001b[1;32m<ipython-input-8-c05b67a95fc2>\u001b[0m in \u001b[0;36m<module>\u001b[1;34m\u001b[0m\n\u001b[0;32m    108\u001b[0m                     \u001b[0mtime\u001b[0m\u001b[1;33m.\u001b[0m\u001b[0msleep\u001b[0m\u001b[1;33m(\u001b[0m\u001b[1;36m1\u001b[0m\u001b[1;33m)\u001b[0m\u001b[1;33m\u001b[0m\u001b[1;33m\u001b[0m\u001b[0m\n\u001b[0;32m    109\u001b[0m                     \u001b[0melrm\u001b[0m \u001b[1;33m=\u001b[0m \u001b[0mdriver\u001b[0m\u001b[1;33m.\u001b[0m\u001b[0mfind_elements_by_xpath\u001b[0m\u001b[1;33m(\u001b[0m\u001b[1;34m\"/html/body/div[1]/section/div[2]/div[10]/ul[2]/li[2]/div/div[5]/section[4]/div[3]/button[{}]\"\u001b[0m\u001b[1;33m.\u001b[0m\u001b[0mformat\u001b[0m\u001b[1;33m(\u001b[0m\u001b[0mi\u001b[0m\u001b[1;33m)\u001b[0m\u001b[1;33m)\u001b[0m\u001b[1;33m\u001b[0m\u001b[1;33m\u001b[0m\u001b[0m\n\u001b[1;32m--> 110\u001b[1;33m                     \u001b[0melrm\u001b[0m\u001b[1;33m[\u001b[0m\u001b[1;36m0\u001b[0m\u001b[1;33m]\u001b[0m\u001b[1;33m.\u001b[0m\u001b[0mclick\u001b[0m\u001b[1;33m(\u001b[0m\u001b[1;33m)\u001b[0m\u001b[1;33m\u001b[0m\u001b[1;33m\u001b[0m\u001b[0m\n\u001b[0m",
      "\u001b[1;31mIndexError\u001b[0m: list index out of range"
     ]
    }
   ],
   "source": [
    "driver = webdriver.Chrome(chrome_options=options,executable_path=\"chromedriver.exe\")\n",
    "for i in range(1,19):\n",
    "    driver.get(\"https://www.coupang.com/np/categories/176598?page={}\".format(i))\n",
    "    req = driver.page_source\n",
    "    soup = BeautifulSoup(req, 'html.parser')\n",
    "    text2 = soup.find('title').text\n",
    "    if text2 =='Access Denied':\n",
    "        driver.refresh()\n",
    "    req = driver.page_source\n",
    "    soup = BeautifulSoup(req, 'html.parser')\n",
    "    try :\n",
    "        result = driver.switch_to_alert()\n",
    "        print(result.text)\n",
    "        result.accept()\n",
    "        result.dismiss()\n",
    "    except:\n",
    "        'ttt'\n",
    "    time.sleep(3)\n",
    "    listt = soup.find(attrs={'class':'baby-product-list'})\n",
    "    if listt is None:\n",
    "        print('끝끝')\n",
    "        driver.quit()\n",
    "    else:\n",
    "        lit = listt.find_all('li')\n",
    "        for lt in lit:\n",
    "            driver.get('https://www.coupang.com'+lt.find(attrs={'class':'baby-product-link'})['href']+'&isAddedCart=')\n",
    "            #time.sleep(5)\n",
    "            req = driver.page_source\n",
    "            soup = BeautifulSoup(req, 'html.parser')\n",
    "            text2 = soup.find('title').text\n",
    "            if text2 =='Access Denied':\n",
    "                driver.refresh()\n",
    "            for ti in range(3):\n",
    "                driver.execute_script(\"window.scrollTo(0, 15)\")\n",
    "                time.sleep(2)\n",
    "                driver.execute_script(\"window.scrollTo(0, 1080)\")\n",
    "                elrm = driver.find_elements_by_xpath('/html/body/div[1]/section/div[2]/div[10]/ul[1]/li[2]')\n",
    "                elrm[0].click()\n",
    "                time.sleep(1)\n",
    "            try :\n",
    "                result = driver.switch_to_alert()\n",
    "                print(result.text)\n",
    "                result.accept()\n",
    "                result.dismiss()\n",
    "            except:\n",
    "                'ttt'\n",
    "            driver.execute_script(\"window.scrollTo(0, 30)\")\n",
    "            for j in range(15):\n",
    "                for i in range(3,13):\n",
    "                    try :\n",
    "                        result = driver.switch_to_alert()\n",
    "                        print(result.text)\n",
    "                        result.accept()\n",
    "                        result.dismiss()\n",
    "                    except:\n",
    "                        'ttt'\n",
    "#                     for i in range(3):\n",
    "#                         time.sleep(1)\n",
    "#                         driver.refresh()\n",
    "#                         try :\n",
    "#                             result = driver.switch_to_alert()\n",
    "#                             print(result.text)\n",
    "#                             result.accept()\n",
    "#                             result.dismiss()\n",
    "#                         except:\n",
    "#                             'ttt'\n",
    "                    req = driver.page_source\n",
    "                    soup = BeautifulSoup(req, 'html.parser')\n",
    "                    text2 = soup.find('title').text\n",
    "                    if text2 =='Access Denied':\n",
    "                        driver.refresh()\n",
    "                    req = driver.page_source\n",
    "                    soup = BeautifulSoup(req,'html.parser')\n",
    "                    information_list = soup.find_all(attrs={'class':'sdp-review__article__list js_reviewArticleReviewList'})\n",
    "                    for information in information_list:\n",
    "                        a=information.find(attrs={'class':'sdp-review__article__list__review js_reviewArticleContentContainer'})\n",
    "                        b=information.find(attrs={'class':'sdp-review__article__list__headline'})\n",
    "                        c=information.find(attrs={'class':'sdp-review__article__list__survey__row__answer'})\n",
    "                        d=information.find(attrs={'class':'sdp-review__article__list__survey__row__answer'})\n",
    "                        e=information.find(attrs={'class':'sdp-review__article__list__info__product-info__star-orange js_reviewArticleRatingValue'})\n",
    "                        date=information.find(attrs={'class':'sdp-review__article__list__info__product-info__reg-date'})\n",
    "                        print('평점 : '+e[\"data-rating\"])\n",
    "                        print('날짜 : '+date.text)\n",
    "                        print(a.text.strip().replace('\\n','').replace('-',''))\n",
    "                        print('##'*10)\n",
    "                        try:\n",
    "                            print(b.text.strip().replace('\\n','').replace('-','').replace('  ',''))\n",
    "                            print('##'*10)\n",
    "                        except:\n",
    "                            pass\n",
    "                        try:\n",
    "                            print(c.text.strip().replace('\\n',''))\n",
    "                            print('##'*10)\n",
    "                        except:\n",
    "                            pass\n",
    "                        try:\n",
    "                            print(d.text.strip().replace('\\n',''))\n",
    "                            print('##'*10)\n",
    "                        except:\n",
    "                            pass\n",
    "                    try :\n",
    "                        result = driver.switch_to_alert()\n",
    "                        print(result.text)\n",
    "                        result.accept()\n",
    "                        result.dismiss()\n",
    "                    except:\n",
    "                        'ttt'\n",
    "                    time.sleep(1)\n",
    "                    elrm = driver.find_elements_by_xpath(\"/html/body/div[1]/section/div[2]/div[10]/ul[2]/li[2]/div/div[5]/section[4]/div[3]/button[{}]\".format(i))\n",
    "                    elrm[0].click()"
   ]
  },
  {
   "cell_type": "code",
   "execution_count": null,
   "metadata": {},
   "outputs": [],
   "source": []
  }
 ],
 "metadata": {
  "kernelspec": {
   "display_name": "Python 3",
   "language": "python",
   "name": "python3"
  },
  "language_info": {
   "codemirror_mode": {
    "name": "ipython",
    "version": 3
   },
   "file_extension": ".py",
   "mimetype": "text/x-python",
   "name": "python",
   "nbconvert_exporter": "python",
   "pygments_lexer": "ipython3",
   "version": "3.8.5"
  },
  "toc": {
   "base_numbering": 1,
   "nav_menu": {},
   "number_sections": true,
   "sideBar": true,
   "skip_h1_title": false,
   "title_cell": "Table of Contents",
   "title_sidebar": "Contents",
   "toc_cell": false,
   "toc_position": {},
   "toc_section_display": true,
   "toc_window_display": false
  },
  "varInspector": {
   "cols": {
    "lenName": 16,
    "lenType": 16,
    "lenVar": 40
   },
   "kernels_config": {
    "python": {
     "delete_cmd_postfix": "",
     "delete_cmd_prefix": "del ",
     "library": "var_list.py",
     "varRefreshCmd": "print(var_dic_list())"
    },
    "r": {
     "delete_cmd_postfix": ") ",
     "delete_cmd_prefix": "rm(",
     "library": "var_list.r",
     "varRefreshCmd": "cat(var_dic_list()) "
    }
   },
   "types_to_exclude": [
    "module",
    "function",
    "builtin_function_or_method",
    "instance",
    "_Feature"
   ],
   "window_display": false
  }
 },
 "nbformat": 4,
 "nbformat_minor": 4
}
