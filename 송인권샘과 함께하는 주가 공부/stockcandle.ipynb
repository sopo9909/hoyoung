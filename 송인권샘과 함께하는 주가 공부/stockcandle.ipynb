{
 "cells": [
  {
   "cell_type": "markdown",
   "id": "sorted-export",
   "metadata": {},
   "source": [
    "# 캔들차트를 이용한 시각화\n",
    " * OHLC 캔들차트 활용 투자 매매 타이밍 분석\n"
   ]
  },
  {
   "cell_type": "code",
   "execution_count": 1,
   "id": "distributed-sheet",
   "metadata": {},
   "outputs": [],
   "source": [
    "import numpy as np\n",
    "import pandas as pd\n",
    "import requests\n",
    "from bs4 import BeautifulSoup as bsp\n",
    "import matplotlib as mpl\n",
    "import matplotlib.pyplot as plt\n",
    "import sqlite3"
   ]
  },
  {
   "cell_type": "code",
   "execution_count": 2,
   "id": "operational-river",
   "metadata": {},
   "outputs": [
    {
     "data": {
      "text/plain": [
       "'https://finance.naver.com/item/sise_day.nhn?code=271560&page=2'"
      ]
     },
     "execution_count": 2,
     "metadata": {},
     "output_type": "execute_result"
    }
   ],
   "source": [
    "code=271560\n",
    "pgno=2\n",
    "url='https://finance.naver.com/item/sise_day.nhn?code={0}&page={1}'\n",
    "tgurl=url.format(code,pgno)\n",
    "tgurl"
   ]
  },
  {
   "cell_type": "code",
   "execution_count": 3,
   "id": "higher-gathering",
   "metadata": {},
   "outputs": [],
   "source": [
    "def getDB():\n",
    "    dbname='stockdata.db'\n",
    "    with sqlite3.connect(dbname) as conn:\n",
    "        cur=conn.cursor()\n",
    "        sql='select * from stockp order by skey asc'\n",
    "        qry=cur.execute(sql)\n",
    "        desc=[row[0] for row in qry.description]\n",
    "        data=qry.fetchall()\n",
    "    return((desc,data))"
   ]
  },
  {
   "cell_type": "code",
   "execution_count": 4,
   "id": "protected-columbia",
   "metadata": {},
   "outputs": [
    {
     "data": {
      "text/plain": [
       "['sidx', 'skey', 'sday', 'sopen', 'shigh', 'slow', 'sclose', 'svol']"
      ]
     },
     "execution_count": 4,
     "metadata": {},
     "output_type": "execute_result"
    }
   ],
   "source": [
    "res=getDB()\n",
    "res[0]"
   ]
  },
  {
   "cell_type": "code",
   "execution_count": 5,
   "id": "leading-underwear",
   "metadata": {},
   "outputs": [
    {
     "data": {
      "text/html": [
       "<div>\n",
       "<style scoped>\n",
       "    .dataframe tbody tr th:only-of-type {\n",
       "        vertical-align: middle;\n",
       "    }\n",
       "\n",
       "    .dataframe tbody tr th {\n",
       "        vertical-align: top;\n",
       "    }\n",
       "\n",
       "    .dataframe thead th {\n",
       "        text-align: right;\n",
       "    }\n",
       "</style>\n",
       "<table border=\"1\" class=\"dataframe\">\n",
       "  <thead>\n",
       "    <tr style=\"text-align: right;\">\n",
       "      <th></th>\n",
       "      <th>skey</th>\n",
       "      <th>sday</th>\n",
       "      <th>sopen</th>\n",
       "      <th>shigh</th>\n",
       "      <th>slow</th>\n",
       "      <th>sclose</th>\n",
       "      <th>svol</th>\n",
       "    </tr>\n",
       "    <tr>\n",
       "      <th>sidx</th>\n",
       "      <th></th>\n",
       "      <th></th>\n",
       "      <th></th>\n",
       "      <th></th>\n",
       "      <th></th>\n",
       "      <th></th>\n",
       "      <th></th>\n",
       "    </tr>\n",
       "  </thead>\n",
       "  <tbody>\n",
       "    <tr>\n",
       "      <th>895</th>\n",
       "      <td>20170707</td>\n",
       "      <td>2017-07-07</td>\n",
       "      <td>87100</td>\n",
       "      <td>89700</td>\n",
       "      <td>75700</td>\n",
       "      <td>82300</td>\n",
       "      <td>1619864</td>\n",
       "    </tr>\n",
       "    <tr>\n",
       "      <th>894</th>\n",
       "      <td>20170710</td>\n",
       "      <td>2017-07-10</td>\n",
       "      <td>82300</td>\n",
       "      <td>88000</td>\n",
       "      <td>81000</td>\n",
       "      <td>88000</td>\n",
       "      <td>840451</td>\n",
       "    </tr>\n",
       "    <tr>\n",
       "      <th>893</th>\n",
       "      <td>20170711</td>\n",
       "      <td>2017-07-11</td>\n",
       "      <td>88000</td>\n",
       "      <td>88000</td>\n",
       "      <td>82700</td>\n",
       "      <td>82800</td>\n",
       "      <td>422303</td>\n",
       "    </tr>\n",
       "    <tr>\n",
       "      <th>892</th>\n",
       "      <td>20170712</td>\n",
       "      <td>2017-07-12</td>\n",
       "      <td>83700</td>\n",
       "      <td>84600</td>\n",
       "      <td>80000</td>\n",
       "      <td>83500</td>\n",
       "      <td>238407</td>\n",
       "    </tr>\n",
       "    <tr>\n",
       "      <th>891</th>\n",
       "      <td>20170713</td>\n",
       "      <td>2017-07-13</td>\n",
       "      <td>83400</td>\n",
       "      <td>84000</td>\n",
       "      <td>80800</td>\n",
       "      <td>81600</td>\n",
       "      <td>218138</td>\n",
       "    </tr>\n",
       "  </tbody>\n",
       "</table>\n",
       "</div>"
      ],
      "text/plain": [
       "          skey        sday  sopen  shigh   slow  sclose     svol\n",
       "sidx                                                            \n",
       "895   20170707  2017-07-07  87100  89700  75700   82300  1619864\n",
       "894   20170710  2017-07-10  82300  88000  81000   88000   840451\n",
       "893   20170711  2017-07-11  88000  88000  82700   82800   422303\n",
       "892   20170712  2017-07-12  83700  84600  80000   83500   238407\n",
       "891   20170713  2017-07-13  83400  84000  80800   81600   218138"
      ]
     },
     "execution_count": 5,
     "metadata": {},
     "output_type": "execute_result"
    }
   ],
   "source": [
    "\n",
    "df=pd.DataFrame(data=res[1],columns=res[0]).set_index('sidx')\n",
    "df.head()"
   ]
  },
  {
   "cell_type": "code",
   "execution_count": 6,
   "id": "yellow-width",
   "metadata": {},
   "outputs": [],
   "source": [
    "cdf=df[['sday','sclose']].copy()\n"
   ]
  },
  {
   "cell_type": "code",
   "execution_count": 7,
   "id": "nervous-louis",
   "metadata": {
    "collapsed": true,
    "jupyter": {
     "outputs_hidden": true
    }
   },
   "outputs": [
    {
     "data": {
      "text/html": [
       "<div>\n",
       "<style scoped>\n",
       "    .dataframe tbody tr th:only-of-type {\n",
       "        vertical-align: middle;\n",
       "    }\n",
       "\n",
       "    .dataframe tbody tr th {\n",
       "        vertical-align: top;\n",
       "    }\n",
       "\n",
       "    .dataframe thead th {\n",
       "        text-align: right;\n",
       "    }\n",
       "</style>\n",
       "<table border=\"1\" class=\"dataframe\">\n",
       "  <thead>\n",
       "    <tr style=\"text-align: right;\">\n",
       "      <th></th>\n",
       "      <th>sday</th>\n",
       "      <th>sclose</th>\n",
       "    </tr>\n",
       "    <tr>\n",
       "      <th>sidx</th>\n",
       "      <th></th>\n",
       "      <th></th>\n",
       "    </tr>\n",
       "  </thead>\n",
       "  <tbody>\n",
       "    <tr>\n",
       "      <th>895</th>\n",
       "      <td>2017-07-07</td>\n",
       "      <td>82300</td>\n",
       "    </tr>\n",
       "    <tr>\n",
       "      <th>894</th>\n",
       "      <td>2017-07-10</td>\n",
       "      <td>88000</td>\n",
       "    </tr>\n",
       "    <tr>\n",
       "      <th>893</th>\n",
       "      <td>2017-07-11</td>\n",
       "      <td>82800</td>\n",
       "    </tr>\n",
       "    <tr>\n",
       "      <th>892</th>\n",
       "      <td>2017-07-12</td>\n",
       "      <td>83500</td>\n",
       "    </tr>\n",
       "    <tr>\n",
       "      <th>891</th>\n",
       "      <td>2017-07-13</td>\n",
       "      <td>81600</td>\n",
       "    </tr>\n",
       "  </tbody>\n",
       "</table>\n",
       "</div>"
      ],
      "text/plain": [
       "            sday  sclose\n",
       "sidx                    \n",
       "895   2017-07-07   82300\n",
       "894   2017-07-10   88000\n",
       "893   2017-07-11   82800\n",
       "892   2017-07-12   83500\n",
       "891   2017-07-13   81600"
      ]
     },
     "execution_count": 7,
     "metadata": {},
     "output_type": "execute_result"
    }
   ],
   "source": [
    "cdf.head()"
   ]
  },
  {
   "cell_type": "code",
   "execution_count": 11,
   "id": "sealed-anderson",
   "metadata": {},
   "outputs": [],
   "source": [
    "vdf=pd.read_csv('profit_orion_sim.csv')"
   ]
  },
  {
   "cell_type": "code",
   "execution_count": 19,
   "id": "structured-fraud",
   "metadata": {},
   "outputs": [
    {
     "data": {
      "image/png": "[encoded data removed]",
      "text/plain": [
       "<Figure size 432x288 with 1 Axes>"
      ]
     },
     "metadata": {
      "needs_background": "light"
     },
     "output_type": "display_data"
    }
   ],
   "source": [
    "vdf[[\"long\",\"val\"]].plot()\n",
    "plt.xlim(50,150)\n",
    "plt.show()"
   ]
  },
  {
   "cell_type": "code",
   "execution_count": 20,
   "id": "assisted-advancement",
   "metadata": {},
   "outputs": [
    {
     "data": {
      "text/html": [
       "<div>\n",
       "<style scoped>\n",
       "    .dataframe tbody tr th:only-of-type {\n",
       "        vertical-align: middle;\n",
       "    }\n",
       "\n",
       "    .dataframe tbody tr th {\n",
       "        vertical-align: top;\n",
       "    }\n",
       "\n",
       "    .dataframe thead th {\n",
       "        text-align: right;\n",
       "    }\n",
       "</style>\n",
       "<table border=\"1\" class=\"dataframe\">\n",
       "  <thead>\n",
       "    <tr style=\"text-align: right;\">\n",
       "      <th></th>\n",
       "      <th>Unnamed: 0</th>\n",
       "      <th>short</th>\n",
       "      <th>long</th>\n",
       "      <th>val</th>\n",
       "    </tr>\n",
       "  </thead>\n",
       "  <tbody>\n",
       "    <tr>\n",
       "      <th>59</th>\n",
       "      <td>59</td>\n",
       "      <td>5</td>\n",
       "      <td>8</td>\n",
       "      <td>1876300.0</td>\n",
       "    </tr>\n",
       "  </tbody>\n",
       "</table>\n",
       "</div>"
      ],
      "text/plain": [
       "    Unnamed: 0  short  long        val\n",
       "59          59      5     8  1876300.0"
      ]
     },
     "execution_count": 20,
     "metadata": {},
     "output_type": "execute_result"
    }
   ],
   "source": [
    "vdf[[\"val\"]].max()\n",
    "maxrow=vdf.loc[vdf[\"val\"]==1876300.0]\n",
    "maxrow"
   ]
  },
  {
   "cell_type": "code",
   "execution_count": 21,
   "id": "japanese-outline",
   "metadata": {},
   "outputs": [
    {
     "data": {
      "image/png": "[encoded data removed]",
      "text/plain": [
       "<Figure size 432x288 with 1 Axes>"
      ]
     },
     "metadata": {
      "needs_background": "light"
     },
     "output_type": "display_data"
    }
   ],
   "source": [
    "fig=plt.figure()\n",
    "ax=fig.gca(projection=\"3d\")\n",
    "x=vdf[\"short\"]\n",
    "y=vdf[\"long\"]\n",
    "z=vdf[\"val\"]\n",
    "ax.scatter(x,y,z)\n",
    "plt.show()"
   ]
  },
  {
   "cell_type": "raw",
   "id": "bacterial-belfast",
   "metadata": {},
   "source": [
    "import matplotlib.finance as mpf\n",
    "# 안됨!!!!"
   ]
  },
  {
   "cell_type": "raw",
   "id": "scenic-madness",
   "metadata": {},
   "source": [
    "!pip install mpl_finance"
   ]
  },
  {
   "cell_type": "code",
   "execution_count": 23,
   "id": "weekly-donor",
   "metadata": {},
   "outputs": [],
   "source": [
    "from mpl_finance import candlestick_ohlc\n"
   ]
  },
  {
   "cell_type": "code",
   "execution_count": 24,
   "id": "palestinian-bennett",
   "metadata": {},
   "outputs": [
    {
     "data": {
      "text/html": [
       "<div>\n",
       "<style scoped>\n",
       "    .dataframe tbody tr th:only-of-type {\n",
       "        vertical-align: middle;\n",
       "    }\n",
       "\n",
       "    .dataframe tbody tr th {\n",
       "        vertical-align: top;\n",
       "    }\n",
       "\n",
       "    .dataframe thead th {\n",
       "        text-align: right;\n",
       "    }\n",
       "</style>\n",
       "<table border=\"1\" class=\"dataframe\">\n",
       "  <thead>\n",
       "    <tr style=\"text-align: right;\">\n",
       "      <th></th>\n",
       "      <th>skey</th>\n",
       "      <th>sday</th>\n",
       "      <th>sopen</th>\n",
       "      <th>shigh</th>\n",
       "      <th>slow</th>\n",
       "      <th>sclose</th>\n",
       "      <th>svol</th>\n",
       "    </tr>\n",
       "    <tr>\n",
       "      <th>sidx</th>\n",
       "      <th></th>\n",
       "      <th></th>\n",
       "      <th></th>\n",
       "      <th></th>\n",
       "      <th></th>\n",
       "      <th></th>\n",
       "      <th></th>\n",
       "    </tr>\n",
       "  </thead>\n",
       "  <tbody>\n",
       "    <tr>\n",
       "      <th>895</th>\n",
       "      <td>20170707</td>\n",
       "      <td>2017-07-07</td>\n",
       "      <td>87100</td>\n",
       "      <td>89700</td>\n",
       "      <td>75700</td>\n",
       "      <td>82300</td>\n",
       "      <td>1619864</td>\n",
       "    </tr>\n",
       "    <tr>\n",
       "      <th>894</th>\n",
       "      <td>20170710</td>\n",
       "      <td>2017-07-10</td>\n",
       "      <td>82300</td>\n",
       "      <td>88000</td>\n",
       "      <td>81000</td>\n",
       "      <td>88000</td>\n",
       "      <td>840451</td>\n",
       "    </tr>\n",
       "    <tr>\n",
       "      <th>893</th>\n",
       "      <td>20170711</td>\n",
       "      <td>2017-07-11</td>\n",
       "      <td>88000</td>\n",
       "      <td>88000</td>\n",
       "      <td>82700</td>\n",
       "      <td>82800</td>\n",
       "      <td>422303</td>\n",
       "    </tr>\n",
       "    <tr>\n",
       "      <th>892</th>\n",
       "      <td>20170712</td>\n",
       "      <td>2017-07-12</td>\n",
       "      <td>83700</td>\n",
       "      <td>84600</td>\n",
       "      <td>80000</td>\n",
       "      <td>83500</td>\n",
       "      <td>238407</td>\n",
       "    </tr>\n",
       "    <tr>\n",
       "      <th>891</th>\n",
       "      <td>20170713</td>\n",
       "      <td>2017-07-13</td>\n",
       "      <td>83400</td>\n",
       "      <td>84000</td>\n",
       "      <td>80800</td>\n",
       "      <td>81600</td>\n",
       "      <td>218138</td>\n",
       "    </tr>\n",
       "  </tbody>\n",
       "</table>\n",
       "</div>"
      ],
      "text/plain": [
       "          skey        sday  sopen  shigh   slow  sclose     svol\n",
       "sidx                                                            \n",
       "895   20170707  2017-07-07  87100  89700  75700   82300  1619864\n",
       "894   20170710  2017-07-10  82300  88000  81000   88000   840451\n",
       "893   20170711  2017-07-11  88000  88000  82700   82800   422303\n",
       "892   20170712  2017-07-12  83700  84600  80000   83500   238407\n",
       "891   20170713  2017-07-13  83400  84000  80800   81600   218138"
      ]
     },
     "execution_count": 24,
     "metadata": {},
     "output_type": "execute_result"
    }
   ],
   "source": [
    "df.head()"
   ]
  },
  {
   "cell_type": "code",
   "execution_count": 25,
   "id": "ultimate-fancy",
   "metadata": {},
   "outputs": [
    {
     "data": {
      "text/html": [
       "<div>\n",
       "<style scoped>\n",
       "    .dataframe tbody tr th:only-of-type {\n",
       "        vertical-align: middle;\n",
       "    }\n",
       "\n",
       "    .dataframe tbody tr th {\n",
       "        vertical-align: top;\n",
       "    }\n",
       "\n",
       "    .dataframe thead th {\n",
       "        text-align: right;\n",
       "    }\n",
       "</style>\n",
       "<table border=\"1\" class=\"dataframe\">\n",
       "  <thead>\n",
       "    <tr style=\"text-align: right;\">\n",
       "      <th></th>\n",
       "      <th>sopen</th>\n",
       "      <th>shigh</th>\n",
       "      <th>slow</th>\n",
       "      <th>sclose</th>\n",
       "    </tr>\n",
       "    <tr>\n",
       "      <th>sday</th>\n",
       "      <th></th>\n",
       "      <th></th>\n",
       "      <th></th>\n",
       "      <th></th>\n",
       "    </tr>\n",
       "  </thead>\n",
       "  <tbody>\n",
       "    <tr>\n",
       "      <th>2017-07-07</th>\n",
       "      <td>87100</td>\n",
       "      <td>89700</td>\n",
       "      <td>75700</td>\n",
       "      <td>82300</td>\n",
       "    </tr>\n",
       "    <tr>\n",
       "      <th>2017-07-10</th>\n",
       "      <td>82300</td>\n",
       "      <td>88000</td>\n",
       "      <td>81000</td>\n",
       "      <td>88000</td>\n",
       "    </tr>\n",
       "    <tr>\n",
       "      <th>2017-07-11</th>\n",
       "      <td>88000</td>\n",
       "      <td>88000</td>\n",
       "      <td>82700</td>\n",
       "      <td>82800</td>\n",
       "    </tr>\n",
       "    <tr>\n",
       "      <th>2017-07-12</th>\n",
       "      <td>83700</td>\n",
       "      <td>84600</td>\n",
       "      <td>80000</td>\n",
       "      <td>83500</td>\n",
       "    </tr>\n",
       "    <tr>\n",
       "      <th>2017-07-13</th>\n",
       "      <td>83400</td>\n",
       "      <td>84000</td>\n",
       "      <td>80800</td>\n",
       "      <td>81600</td>\n",
       "    </tr>\n",
       "  </tbody>\n",
       "</table>\n",
       "</div>"
      ],
      "text/plain": [
       "            sopen  shigh   slow  sclose\n",
       "sday                                   \n",
       "2017-07-07  87100  89700  75700   82300\n",
       "2017-07-10  82300  88000  81000   88000\n",
       "2017-07-11  88000  88000  82700   82800\n",
       "2017-07-12  83700  84600  80000   83500\n",
       "2017-07-13  83400  84000  80800   81600"
      ]
     },
     "execution_count": 25,
     "metadata": {},
     "output_type": "execute_result"
    }
   ],
   "source": [
    "cdf=df.set_index('sday')\n",
    "candf=cdf[['sopen','shigh','slow','sclose']].astype(int)\n",
    "candf.head()"
   ]
  },
  {
   "cell_type": "code",
   "execution_count": 29,
   "id": "intermediate-building",
   "metadata": {},
   "outputs": [
    {
     "data": {
      "text/plain": [
       "array([[0],\n",
       "       [1],\n",
       "       [2],\n",
       "       [3],\n",
       "       [4]])"
      ]
     },
     "execution_count": 29,
     "metadata": {},
     "output_type": "execute_result"
    }
   ],
   "source": [
    "import datetime\n",
    "from matplotlib.dates import date2num\n",
    "x=np.arange(len(cdf.index))\n",
    "xs=np.reshape(x,(-1,1))\n",
    "xs[:5]"
   ]
  },
  {
   "cell_type": "code",
   "execution_count": 30,
   "id": "opened-limitation",
   "metadata": {},
   "outputs": [
    {
     "data": {
      "text/plain": [
       "array([[     0,  87100,  89700,  75700,  82300],\n",
       "       [     1,  82300,  88000,  81000,  88000],\n",
       "       [     2,  88000,  88000,  82700,  82800],\n",
       "       ...,\n",
       "       [   887, 135000, 137000, 131500, 136000],\n",
       "       [   888, 137000, 137500, 130500, 131000],\n",
       "       [   889, 131000, 135000, 130500, 133500]])"
      ]
     },
     "execution_count": 30,
     "metadata": {},
     "output_type": "execute_result"
    }
   ],
   "source": [
    "ohlc=candf.values\n",
    "ohlc\n",
    "canohlc=np.hstack((xs,ohlc))\n",
    "canohlc"
   ]
  },
  {
   "cell_type": "code",
   "execution_count": 31,
   "id": "economic-antigua",
   "metadata": {},
   "outputs": [
    {
     "data": {
      "image/png": "[encoded data removed]",
      "text/plain": [
       "<Figure size 576x360 with 1 Axes>"
      ]
     },
     "metadata": {
      "needs_background": "light"
     },
     "output_type": "display_data"
    }
   ],
   "source": [
    "fig,ax=plt.subplots(figsize=(8,5))\n",
    "candlestick_ohlc(ax,canohlc,width=0.5, colorup='r', colordown='b')\n",
    "plt.title(\" orion candle stick graph\")\n",
    "plt.xlim(10,20)\n",
    "plt.ylim(80000,90000)\n",
    "plt.vlines(13,80000,90000,color=\"pink\")\n",
    "plt.show()"
   ]
  },
  {
   "cell_type": "code",
   "execution_count": null,
   "id": "surface-cooking",
   "metadata": {},
   "outputs": [],
   "source": []
  }
 ],
 "metadata": {
  "kernelspec": {
   "display_name": "Python 3",
   "language": "python",
   "name": "python3"
  },
  "language_info": {
   "codemirror_mode": {
    "name": "ipython",
    "version": 3
   },
   "file_extension": ".py",
   "mimetype": "text/x-python",
   "name": "python",
   "nbconvert_exporter": "python",
   "pygments_lexer": "ipython3",
   "version": "3.8.5"
  }
 },
 "nbformat": 4,
 "nbformat_minor": 5
}
