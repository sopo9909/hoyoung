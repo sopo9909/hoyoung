{
 "cells": [
  {
   "cell_type": "code",
   "execution_count": 1,
   "metadata": {
    "ExecuteTime": {
     "end_time": "2021-03-14T02:46:10.233801Z",
     "start_time": "2021-03-14T02:46:08.451269Z"
    }
   },
   "outputs": [],
   "source": [
    "import pandas as pd\n",
    "import numpy as np\n",
    "import matplotlib.pyplot as plt\n",
    "import platform\n",
    "import platform\n",
    "from matplotlib import font_manager, rc\n",
    "import matplotlib.pyplot as plt\n",
    "from sklearn.preprocessing import LabelEncoder\n",
    "import seaborn as sns\n",
    "##그래프의 결과를 출력 세션에 나타나게 하자\n",
    "%matplotlib inline \n",
    "plt.rcParams['axes.unicode_minus'] = False\n",
    "if platform.system() == 'Darwin':\n",
    "    rc('font', family = 'AppleGothic')\n",
    "elif platform.system() == 'Windows':\n",
    "    path ='C:/Windows/Fonts/malgun.ttf'\n",
    "    font_name = font_manager.FontProperties(fname=path).get_name()\n",
    "    rc('font', family=font_name)\n",
    "else:\n",
    "    print(\"Can't find your system.\")"
   ]
  },
  {
   "cell_type": "code",
   "execution_count": 2,
   "metadata": {
    "ExecuteTime": {
     "end_time": "2021-03-14T02:46:10.281277Z",
     "start_time": "2021-03-14T02:46:10.235797Z"
    }
   },
   "outputs": [],
   "source": [
    "data = pd.read_csv('3.세종시_아파트(매매)_실거래가.csv')"
   ]
  },
  {
   "cell_type": "code",
   "execution_count": 3,
   "metadata": {
    "ExecuteTime": {
     "end_time": "2021-03-14T02:46:10.296237Z",
     "start_time": "2021-03-14T02:46:10.283272Z"
    }
   },
   "outputs": [],
   "source": [
    "#읍면동 구분하는 함수\n",
    "def sort_dong(df):\n",
    "    a=df.split(\" \")\n",
    "    if a[1][-1]=='동':\n",
    "        return '동'\n",
    "    elif a[1][-1]=='면':\n",
    "        return '면'\n",
    "    else :\n",
    "        return '읍'\n",
    "#동 구분하는 함수\n",
    "def sort_dong2(df):\n",
    "    a=df.split(\" \")\n",
    "    return a[1]\n",
    "#평수 분해\n",
    "def pyeong(df):\n",
    "    if df< 33:\n",
    "        return '10평 미만'\n",
    "    elif df>= 33 and df < 66:\n",
    "        return '10~20평'\n",
    "    elif df>= 66 and df < 99:\n",
    "        return '20~30평'\n",
    "    elif df>= 99 and df < 132:\n",
    "        return '30~40평'\n",
    "    elif df>= 132 and df < 165:\n",
    "        return '40~50평'\n",
    "    elif df>= 165 and df < 198:\n",
    "        return '50~60평'\n",
    "    else:\n",
    "        return '60평 이상'\n",
    "def pyeong2(df):\n",
    "    return int(df/3.3)\n",
    "def riri(df):\n",
    "    return int(float(df.replace(',','')))"
   ]
  },
  {
   "cell_type": "code",
   "execution_count": 4,
   "metadata": {
    "ExecuteTime": {
     "end_time": "2021-03-14T02:46:10.390075Z",
     "start_time": "2021-03-14T02:46:10.297690Z"
    }
   },
   "outputs": [],
   "source": [
    "data['읍면동구분']=data['시군구'].apply(sort_dong)\n",
    "data['읍면동']=data['시군구'].apply(sort_dong2)\n",
    "data[\"평\"]=data[\"전용면적(㎡)\"].apply(pyeong)\n",
    "data['거래금액(만원)']=data['거래금액(만원)'].apply(riri)\n",
    "data['평평']=data['전용면적(㎡)'].apply(pyeong2)\n",
    "data['평당 가격(만원)']=data['거래금액(만원)']/data['평평']"
   ]
  },
  {
   "cell_type": "code",
   "execution_count": 6,
   "metadata": {
    "ExecuteTime": {
     "end_time": "2021-03-14T02:46:18.311561Z",
     "start_time": "2021-03-14T02:46:18.290635Z"
    }
   },
   "outputs": [],
   "source": [
    "before_tranction=data.groupby('읍면동').count()\n",
    "before_price=data.groupby('읍면동').mean()\n",
    "tranction=before_tranction['계약년월']\n",
    "price=before_price['평당 가격(만원)']\n",
    "a=tranction/(max(tranction))\n",
    "b=price/(max(price))"
   ]
  },
  {
   "cell_type": "code",
   "execution_count": 20,
   "metadata": {
    "ExecuteTime": {
     "end_time": "2021-03-14T02:51:49.681091Z",
     "start_time": "2021-03-14T02:51:49.672115Z"
    }
   },
   "outputs": [
    {
     "data": {
      "text/plain": [
       "읍면동\n",
       "종촌동     1.300753\n",
       "도담동     1.278581\n",
       "고운동     1.240002\n",
       "조치원읍    1.234111\n",
       "새롬동     1.167385\n",
       "dtype: float64"
      ]
     },
     "execution_count": 20,
     "metadata": {},
     "output_type": "execute_result"
    }
   ],
   "source": [
    "ab=a+b\n",
    "ab.sort_values(ascending=False)[:5]"
   ]
  },
  {
   "cell_type": "code",
   "execution_count": null,
   "metadata": {},
   "outputs": [],
   "source": []
  }
 ],
 "metadata": {
  "kernelspec": {
   "display_name": "Python 3",
   "language": "python",
   "name": "python3"
  },
  "language_info": {
   "codemirror_mode": {
    "name": "ipython",
    "version": 3
   },
   "file_extension": ".py",
   "mimetype": "text/x-python",
   "name": "python",
   "nbconvert_exporter": "python",
   "pygments_lexer": "ipython3",
   "version": "3.8.5"
  },
  "toc": {
   "base_numbering": 1,
   "nav_menu": {},
   "number_sections": true,
   "sideBar": true,
   "skip_h1_title": false,
   "title_cell": "Table of Contents",
   "title_sidebar": "Contents",
   "toc_cell": false,
   "toc_position": {},
   "toc_section_display": true,
   "toc_window_display": false
  },
  "varInspector": {
   "cols": {
    "lenName": 16,
    "lenType": 16,
    "lenVar": 40
   },
   "kernels_config": {
    "python": {
     "delete_cmd_postfix": "",
     "delete_cmd_prefix": "del ",
     "library": "var_list.py",
     "varRefreshCmd": "print(var_dic_list())"
    },
    "r": {
     "delete_cmd_postfix": ") ",
     "delete_cmd_prefix": "rm(",
     "library": "var_list.r",
     "varRefreshCmd": "cat(var_dic_list()) "
    }
   },
   "types_to_exclude": [
    "module",
    "function",
    "builtin_function_or_method",
    "instance",
    "_Feature"
   ],
   "window_display": false
  }
 },
 "nbformat": 4,
 "nbformat_minor": 4
}
