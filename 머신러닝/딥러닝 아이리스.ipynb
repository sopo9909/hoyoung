{
 "cells": [
  {
   "cell_type": "markdown",
   "id": "matched-hepatitis",
   "metadata": {},
   "source": [
    "### 딥러닝을 활용한 분류 모델\n",
    "* keras 활용 iris 모델 딥러닝 layer:2"
   ]
  },
  {
   "cell_type": "code",
   "execution_count": 1,
   "id": "inner-musical",
   "metadata": {},
   "outputs": [],
   "source": [
    "import pandas as pd\n",
    "import numpy as np\n",
    "from sklearn.datasets import load_iris\n",
    "import matplotlib.pyplot as plt\n",
    "import seaborn as sns"
   ]
  },
  {
   "cell_type": "code",
   "execution_count": 2,
   "id": "finished-fetish",
   "metadata": {},
   "outputs": [],
   "source": [
    "from sklearn.model_selection import train_test_split\n",
    "irisd=load_iris()\n",
    "X_train,x_test,Y_train,y_test=train_test_split(irisd['data'],irisd['target'],random_state=1)"
   ]
  },
  {
   "cell_type": "code",
   "execution_count": 10,
   "id": "serial-stroke",
   "metadata": {},
   "outputs": [],
   "source": [
    "from tensorflow.keras.models import Sequential\n",
    "from tensorflow.keras.layers import Dense\n",
    "from tensorflow.keras.optimizers import Adam"
   ]
  },
  {
   "cell_type": "code",
   "execution_count": 18,
   "id": "liquid-carrier",
   "metadata": {
    "collapsed": true,
    "jupyter": {
     "outputs_hidden": true
    }
   },
   "outputs": [
    {
     "name": "stdout",
     "output_type": "stream",
     "text": [
      "Model: \"sequential_5\"\n",
      "_________________________________________________________________\n",
      "Layer (type)                 Output Shape              Param #   \n",
      "=================================================================\n",
      "dense_5 (Dense)              (None, 32)                160       \n",
      "_________________________________________________________________\n",
      "dense_6 (Dense)              (None, 16)                528       \n",
      "_________________________________________________________________\n",
      "dense_7 (Dense)              (None, 3)                 51        \n",
      "=================================================================\n",
      "Total params: 739\n",
      "Trainable params: 739\n",
      "Non-trainable params: 0\n",
      "_________________________________________________________________\n"
     ]
    }
   ],
   "source": [
    "model=Sequential()\n",
    "model.add(Dense(32,input_shape=(4,), activation='relu'))\n",
    "model.add(Dense(16, activation='relu'))\n",
    "model.add(Dense(3, activation='softmax'))\n",
    "model.compile(optimizer='Adam',loss='sparse_categorical_crossentropy',metrics=['accuracy'])\n",
    "model.summary()"
   ]
  },
  {
   "cell_type": "code",
   "execution_count": 19,
   "id": "engaged-attachment",
   "metadata": {
    "collapsed": true,
    "jupyter": {
     "outputs_hidden": true
    }
   },
   "outputs": [
    {
     "name": "stdout",
     "output_type": "stream",
     "text": [
      "Epoch 1/100\n",
      "4/4 [==============================] - 1s 83ms/step - loss: 4.5654 - accuracy: 0.3311 - val_loss: 3.9167 - val_accuracy: 0.3421\n",
      "Epoch 2/100\n",
      "4/4 [==============================] - 0s 17ms/step - loss: 4.1201 - accuracy: 0.2988 - val_loss: 3.3251 - val_accuracy: 0.3421\n",
      "Epoch 3/100\n",
      "4/4 [==============================] - 0s 15ms/step - loss: 3.2833 - accuracy: 0.3467 - val_loss: 2.7746 - val_accuracy: 0.3421\n",
      "Epoch 4/100\n",
      "4/4 [==============================] - 0s 18ms/step - loss: 3.1268 - accuracy: 0.2853 - val_loss: 2.2660 - val_accuracy: 0.3421\n",
      "Epoch 5/100\n",
      "4/4 [==============================] - 0s 15ms/step - loss: 2.3941 - accuracy: 0.3280 - val_loss: 1.8378 - val_accuracy: 0.3421\n",
      "Epoch 6/100\n",
      "4/4 [==============================] - 0s 15ms/step - loss: 2.1538 - accuracy: 0.3144 - val_loss: 1.5128 - val_accuracy: 0.3421\n",
      "Epoch 7/100\n",
      "4/4 [==============================] - 0s 18ms/step - loss: 1.6904 - accuracy: 0.3374 - val_loss: 1.2960 - val_accuracy: 0.3684\n",
      "Epoch 8/100\n",
      "4/4 [==============================] - 0s 16ms/step - loss: 1.4599 - accuracy: 0.4961 - val_loss: 1.1683 - val_accuracy: 0.7632\n",
      "Epoch 9/100\n",
      "4/4 [==============================] - 0s 15ms/step - loss: 1.4027 - accuracy: 0.6188 - val_loss: 1.0857 - val_accuracy: 0.7632\n",
      "Epoch 10/100\n",
      "4/4 [==============================] - 0s 17ms/step - loss: 1.2824 - accuracy: 0.6271 - val_loss: 1.0230 - val_accuracy: 0.7632\n",
      "Epoch 11/100\n",
      "4/4 [==============================] - 0s 16ms/step - loss: 1.1642 - accuracy: 0.6588 - val_loss: 0.9823 - val_accuracy: 0.7632\n",
      "Epoch 12/100\n",
      "4/4 [==============================] - 0s 17ms/step - loss: 1.1046 - accuracy: 0.5908 - val_loss: 0.9762 - val_accuracy: 0.6053\n",
      "Epoch 13/100\n",
      "4/4 [==============================] - 0s 15ms/step - loss: 1.0783 - accuracy: 0.3933 - val_loss: 0.9772 - val_accuracy: 0.5526\n",
      "Epoch 14/100\n",
      "4/4 [==============================] - 0s 16ms/step - loss: 1.0624 - accuracy: 0.3216 - val_loss: 0.9810 - val_accuracy: 0.5263\n",
      "Epoch 15/100\n",
      "4/4 [==============================] - 0s 16ms/step - loss: 1.0266 - accuracy: 0.3263 - val_loss: 0.9764 - val_accuracy: 0.5789\n",
      "Epoch 16/100\n",
      "4/4 [==============================] - 0s 19ms/step - loss: 1.0000 - accuracy: 0.3600 - val_loss: 0.9607 - val_accuracy: 0.5789\n",
      "Epoch 17/100\n",
      "4/4 [==============================] - 0s 16ms/step - loss: 0.9761 - accuracy: 0.5896 - val_loss: 0.9365 - val_accuracy: 0.7105\n",
      "Epoch 18/100\n",
      "4/4 [==============================] - 0s 15ms/step - loss: 0.9541 - accuracy: 0.6906 - val_loss: 0.9024 - val_accuracy: 0.7105\n",
      "Epoch 19/100\n",
      "4/4 [==============================] - 0s 16ms/step - loss: 0.9295 - accuracy: 0.7088 - val_loss: 0.8690 - val_accuracy: 0.8684\n",
      "Epoch 20/100\n",
      "4/4 [==============================] - 0s 15ms/step - loss: 0.9004 - accuracy: 0.7423 - val_loss: 0.8464 - val_accuracy: 0.8684\n",
      "Epoch 21/100\n",
      "4/4 [==============================] - 0s 17ms/step - loss: 0.8661 - accuracy: 0.7621 - val_loss: 0.8281 - val_accuracy: 0.8158\n",
      "Epoch 22/100\n",
      "4/4 [==============================] - 0s 17ms/step - loss: 0.8650 - accuracy: 0.7277 - val_loss: 0.8102 - val_accuracy: 0.8158\n",
      "Epoch 23/100\n",
      "4/4 [==============================] - 0s 13ms/step - loss: 0.8468 - accuracy: 0.7500 - val_loss: 0.7886 - val_accuracy: 0.8684\n",
      "Epoch 24/100\n",
      "4/4 [==============================] - 0s 15ms/step - loss: 0.8264 - accuracy: 0.7292 - val_loss: 0.7743 - val_accuracy: 0.7368\n",
      "Epoch 25/100\n",
      "4/4 [==============================] - 0s 18ms/step - loss: 0.8114 - accuracy: 0.7591 - val_loss: 0.7591 - val_accuracy: 0.7105\n",
      "Epoch 26/100\n",
      "4/4 [==============================] - 0s 16ms/step - loss: 0.7926 - accuracy: 0.7458 - val_loss: 0.7514 - val_accuracy: 0.6579\n",
      "Epoch 27/100\n",
      "4/4 [==============================] - 0s 15ms/step - loss: 0.7712 - accuracy: 0.7725 - val_loss: 0.7385 - val_accuracy: 0.6316\n",
      "Epoch 28/100\n",
      "4/4 [==============================] - 0s 19ms/step - loss: 0.7367 - accuracy: 0.7036 - val_loss: 0.7226 - val_accuracy: 0.6316\n",
      "Epoch 29/100\n",
      "4/4 [==============================] - 0s 15ms/step - loss: 0.7433 - accuracy: 0.6665 - val_loss: 0.7090 - val_accuracy: 0.6316\n",
      "Epoch 30/100\n",
      "4/4 [==============================] - 0s 15ms/step - loss: 0.7309 - accuracy: 0.6682 - val_loss: 0.6960 - val_accuracy: 0.6316\n",
      "Epoch 31/100\n",
      "4/4 [==============================] - 0s 20ms/step - loss: 0.7087 - accuracy: 0.6921 - val_loss: 0.6822 - val_accuracy: 0.6053\n",
      "Epoch 32/100\n",
      "4/4 [==============================] - 0s 16ms/step - loss: 0.6948 - accuracy: 0.6936 - val_loss: 0.6690 - val_accuracy: 0.6053\n",
      "Epoch 33/100\n",
      "4/4 [==============================] - 0s 15ms/step - loss: 0.6873 - accuracy: 0.6790 - val_loss: 0.6543 - val_accuracy: 0.6316\n",
      "Epoch 34/100\n",
      "4/4 [==============================] - 0s 17ms/step - loss: 0.6716 - accuracy: 0.7086 - val_loss: 0.6404 - val_accuracy: 0.6316\n",
      "Epoch 35/100\n",
      "4/4 [==============================] - 0s 19ms/step - loss: 0.6500 - accuracy: 0.7199 - val_loss: 0.6242 - val_accuracy: 0.6579\n",
      "Epoch 36/100\n",
      "4/4 [==============================] - 0s 15ms/step - loss: 0.6164 - accuracy: 0.7768 - val_loss: 0.6101 - val_accuracy: 0.7105\n",
      "Epoch 37/100\n",
      "4/4 [==============================] - 0s 14ms/step - loss: 0.6102 - accuracy: 0.7905 - val_loss: 0.6031 - val_accuracy: 0.6316\n",
      "Epoch 38/100\n",
      "4/4 [==============================] - 0s 19ms/step - loss: 0.6054 - accuracy: 0.7562 - val_loss: 0.5931 - val_accuracy: 0.6316\n",
      "Epoch 39/100\n",
      "4/4 [==============================] - 0s 15ms/step - loss: 0.5987 - accuracy: 0.7439 - val_loss: 0.5859 - val_accuracy: 0.6053\n",
      "Epoch 40/100\n",
      "4/4 [==============================] - 0s 16ms/step - loss: 0.5832 - accuracy: 0.7012 - val_loss: 0.5758 - val_accuracy: 0.6053\n",
      "Epoch 41/100\n",
      "4/4 [==============================] - 0s 17ms/step - loss: 0.5736 - accuracy: 0.7057 - val_loss: 0.5737 - val_accuracy: 0.5789\n",
      "Epoch 42/100\n",
      "4/4 [==============================] - 0s 17ms/step - loss: 0.5781 - accuracy: 0.6577 - val_loss: 0.5665 - val_accuracy: 0.5789\n",
      "Epoch 43/100\n",
      "4/4 [==============================] - 0s 15ms/step - loss: 0.5692 - accuracy: 0.6932 - val_loss: 0.5617 - val_accuracy: 0.5789\n",
      "Epoch 44/100\n",
      "4/4 [==============================] - 0s 16ms/step - loss: 0.5281 - accuracy: 0.7109 - val_loss: 0.5501 - val_accuracy: 0.5789\n",
      "Epoch 45/100\n",
      "4/4 [==============================] - 0s 15ms/step - loss: 0.5338 - accuracy: 0.6848 - val_loss: 0.5379 - val_accuracy: 0.5789\n",
      "Epoch 46/100\n",
      "4/4 [==============================] - 0s 16ms/step - loss: 0.5134 - accuracy: 0.7467 - val_loss: 0.5312 - val_accuracy: 0.5789\n",
      "Epoch 47/100\n",
      "4/4 [==============================] - 0s 20ms/step - loss: 0.5142 - accuracy: 0.7494 - val_loss: 0.5185 - val_accuracy: 0.7105\n",
      "Epoch 48/100\n",
      "4/4 [==============================] - 0s 17ms/step - loss: 0.4989 - accuracy: 0.8182 - val_loss: 0.5087 - val_accuracy: 0.7105\n",
      "Epoch 49/100\n",
      "4/4 [==============================] - 0s 15ms/step - loss: 0.4873 - accuracy: 0.8869 - val_loss: 0.4978 - val_accuracy: 0.8158\n",
      "Epoch 50/100\n",
      "4/4 [==============================] - 0s 20ms/step - loss: 0.4987 - accuracy: 0.8955 - val_loss: 0.4864 - val_accuracy: 0.8421\n",
      "Epoch 51/100\n",
      "4/4 [==============================] - 0s 23ms/step - loss: 0.4733 - accuracy: 0.9432 - val_loss: 0.4806 - val_accuracy: 0.8421\n",
      "Epoch 52/100\n",
      "4/4 [==============================] - 0s 17ms/step - loss: 0.4533 - accuracy: 0.9228 - val_loss: 0.4832 - val_accuracy: 0.7368\n",
      "Epoch 53/100\n",
      "4/4 [==============================] - 0s 15ms/step - loss: 0.4706 - accuracy: 0.8702 - val_loss: 0.4804 - val_accuracy: 0.7105\n",
      "Epoch 54/100\n",
      "4/4 [==============================] - 0s 16ms/step - loss: 0.4701 - accuracy: 0.8985 - val_loss: 0.4773 - val_accuracy: 0.7368\n",
      "Epoch 55/100\n",
      "4/4 [==============================] - 0s 15ms/step - loss: 0.4443 - accuracy: 0.8543 - val_loss: 0.4708 - val_accuracy: 0.7368\n",
      "Epoch 56/100\n",
      "4/4 [==============================] - 0s 15ms/step - loss: 0.4533 - accuracy: 0.8655 - val_loss: 0.4562 - val_accuracy: 0.8421\n",
      "Epoch 57/100\n",
      "4/4 [==============================] - 0s 20ms/step - loss: 0.4717 - accuracy: 0.9147 - val_loss: 0.4465 - val_accuracy: 0.8684\n",
      "Epoch 58/100\n",
      "4/4 [==============================] - 0s 26ms/step - loss: 0.4432 - accuracy: 0.9354 - val_loss: 0.4449 - val_accuracy: 0.8421\n",
      "Epoch 59/100\n",
      "4/4 [==============================] - 0s 23ms/step - loss: 0.4650 - accuracy: 0.9012 - val_loss: 0.4465 - val_accuracy: 0.8158\n",
      "Epoch 60/100\n",
      "4/4 [==============================] - 0s 22ms/step - loss: 0.4411 - accuracy: 0.8987 - val_loss: 0.4403 - val_accuracy: 0.8158\n",
      "Epoch 61/100\n",
      "4/4 [==============================] - 0s 15ms/step - loss: 0.4150 - accuracy: 0.9299 - val_loss: 0.4367 - val_accuracy: 0.8158\n",
      "Epoch 62/100\n",
      "4/4 [==============================] - 0s 16ms/step - loss: 0.4167 - accuracy: 0.9174 - val_loss: 0.4322 - val_accuracy: 0.8158\n",
      "Epoch 63/100\n",
      "4/4 [==============================] - 0s 18ms/step - loss: 0.4044 - accuracy: 0.9278 - val_loss: 0.4279 - val_accuracy: 0.8158\n",
      "Epoch 64/100\n",
      "4/4 [==============================] - 0s 15ms/step - loss: 0.3887 - accuracy: 0.9118 - val_loss: 0.4266 - val_accuracy: 0.8158\n",
      "Epoch 65/100\n",
      "4/4 [==============================] - 0s 15ms/step - loss: 0.4188 - accuracy: 0.9085 - val_loss: 0.4087 - val_accuracy: 0.9211\n",
      "Epoch 66/100\n",
      "4/4 [==============================] - 0s 17ms/step - loss: 0.4085 - accuracy: 0.9467 - val_loss: 0.4055 - val_accuracy: 0.8684\n",
      "Epoch 67/100\n",
      "4/4 [==============================] - 0s 17ms/step - loss: 0.3759 - accuracy: 0.9488 - val_loss: 0.4005 - val_accuracy: 0.8947\n",
      "Epoch 68/100\n",
      "4/4 [==============================] - 0s 15ms/step - loss: 0.3907 - accuracy: 0.9467 - val_loss: 0.3939 - val_accuracy: 0.9211\n",
      "Epoch 69/100\n",
      "4/4 [==============================] - 0s 17ms/step - loss: 0.3805 - accuracy: 0.9488 - val_loss: 0.3913 - val_accuracy: 0.9211\n",
      "Epoch 70/100\n",
      "4/4 [==============================] - 0s 17ms/step - loss: 0.3790 - accuracy: 0.9405 - val_loss: 0.3883 - val_accuracy: 0.9211\n",
      "Epoch 71/100\n",
      "4/4 [==============================] - 0s 17ms/step - loss: 0.3487 - accuracy: 0.9469 - val_loss: 0.3918 - val_accuracy: 0.8421\n",
      "Epoch 72/100\n",
      "4/4 [==============================] - 0s 18ms/step - loss: 0.3668 - accuracy: 0.9229 - val_loss: 0.3852 - val_accuracy: 0.8684\n",
      "Epoch 73/100\n",
      "4/4 [==============================] - 0s 15ms/step - loss: 0.3569 - accuracy: 0.9463 - val_loss: 0.3809 - val_accuracy: 0.8684\n",
      "Epoch 74/100\n",
      "4/4 [==============================] - 0s 16ms/step - loss: 0.3533 - accuracy: 0.9561 - val_loss: 0.3703 - val_accuracy: 0.9474\n",
      "Epoch 75/100\n",
      "4/4 [==============================] - 0s 19ms/step - loss: 0.3796 - accuracy: 0.9461 - val_loss: 0.3651 - val_accuracy: 0.9474\n",
      "Epoch 76/100\n",
      "4/4 [==============================] - 0s 16ms/step - loss: 0.3387 - accuracy: 0.9582 - val_loss: 0.3617 - val_accuracy: 0.9474\n",
      "Epoch 77/100\n",
      "4/4 [==============================] - 0s 16ms/step - loss: 0.3417 - accuracy: 0.9603 - val_loss: 0.3610 - val_accuracy: 0.9211\n",
      "Epoch 78/100\n",
      "4/4 [==============================] - 0s 16ms/step - loss: 0.3474 - accuracy: 0.9374 - val_loss: 0.3537 - val_accuracy: 0.9474\n",
      "Epoch 79/100\n",
      "4/4 [==============================] - 0s 18ms/step - loss: 0.3014 - accuracy: 0.9671 - val_loss: 0.3619 - val_accuracy: 0.8684\n",
      "Epoch 80/100\n",
      "4/4 [==============================] - 0s 19ms/step - loss: 0.3178 - accuracy: 0.9490 - val_loss: 0.3526 - val_accuracy: 0.8947\n",
      "Epoch 81/100\n",
      "4/4 [==============================] - 0s 18ms/step - loss: 0.3367 - accuracy: 0.9436 - val_loss: 0.3316 - val_accuracy: 0.9737\n",
      "Epoch 82/100\n",
      "4/4 [==============================] - 0s 15ms/step - loss: 0.3211 - accuracy: 0.9493 - val_loss: 0.3246 - val_accuracy: 1.0000\n",
      "Epoch 83/100\n",
      "4/4 [==============================] - 0s 17ms/step - loss: 0.3161 - accuracy: 0.9711 - val_loss: 0.3357 - val_accuracy: 0.9474\n",
      "Epoch 84/100\n",
      "4/4 [==============================] - 0s 16ms/step - loss: 0.3211 - accuracy: 0.9499 - val_loss: 0.3388 - val_accuracy: 0.8947\n",
      "Epoch 85/100\n",
      "4/4 [==============================] - 0s 16ms/step - loss: 0.3093 - accuracy: 0.9519 - val_loss: 0.3236 - val_accuracy: 0.9737\n",
      "Epoch 86/100\n",
      "4/4 [==============================] - 0s 19ms/step - loss: 0.2971 - accuracy: 0.9555 - val_loss: 0.3122 - val_accuracy: 0.9737\n",
      "Epoch 87/100\n",
      "4/4 [==============================] - 0s 18ms/step - loss: 0.2797 - accuracy: 0.9732 - val_loss: 0.3081 - val_accuracy: 0.9737\n",
      "Epoch 88/100\n",
      "4/4 [==============================] - 0s 24ms/step - loss: 0.2892 - accuracy: 0.9555 - val_loss: 0.3040 - val_accuracy: 0.9737\n",
      "Epoch 89/100\n",
      "4/4 [==============================] - 0s 20ms/step - loss: 0.2980 - accuracy: 0.9638 - val_loss: 0.3023 - val_accuracy: 0.9737\n",
      "Epoch 90/100\n",
      "4/4 [==============================] - 0s 20ms/step - loss: 0.2995 - accuracy: 0.9513 - val_loss: 0.2969 - val_accuracy: 0.9737\n",
      "Epoch 91/100\n",
      "4/4 [==============================] - 0s 22ms/step - loss: 0.2690 - accuracy: 0.9670 - val_loss: 0.2998 - val_accuracy: 0.9737\n",
      "Epoch 92/100\n",
      "4/4 [==============================] - 0s 18ms/step - loss: 0.2678 - accuracy: 0.9743 - val_loss: 0.2965 - val_accuracy: 0.9737\n",
      "Epoch 93/100\n",
      "4/4 [==============================] - 0s 15ms/step - loss: 0.2777 - accuracy: 0.9701 - val_loss: 0.2965 - val_accuracy: 0.9474\n",
      "Epoch 94/100\n",
      "4/4 [==============================] - 0s 17ms/step - loss: 0.2634 - accuracy: 0.9680 - val_loss: 0.2939 - val_accuracy: 0.9474\n",
      "Epoch 95/100\n",
      "4/4 [==============================] - 0s 19ms/step - loss: 0.2664 - accuracy: 0.9555 - val_loss: 0.2748 - val_accuracy: 1.0000\n",
      "Epoch 96/100\n",
      "4/4 [==============================] - 0s 14ms/step - loss: 0.2691 - accuracy: 0.9461 - val_loss: 0.2713 - val_accuracy: 1.0000\n",
      "Epoch 97/100\n",
      "4/4 [==============================] - 0s 16ms/step - loss: 0.2575 - accuracy: 0.9524 - val_loss: 0.2786 - val_accuracy: 0.9737\n",
      "Epoch 98/100\n",
      "4/4 [==============================] - 0s 19ms/step - loss: 0.2387 - accuracy: 0.9644 - val_loss: 0.2816 - val_accuracy: 0.9474\n",
      "Epoch 99/100\n",
      "4/4 [==============================] - 0s 17ms/step - loss: 0.2442 - accuracy: 0.9576 - val_loss: 0.2596 - val_accuracy: 1.0000\n",
      "Epoch 100/100\n",
      "4/4 [==============================] - 0s 17ms/step - loss: 0.2406 - accuracy: 0.9799 - val_loss: 0.2479 - val_accuracy: 1.0000\n"
     ]
    }
   ],
   "source": [
    "hist= model.fit(X_train,Y_train,validation_data=(x_test,y_test),epochs=100)"
   ]
  },
  {
   "cell_type": "code",
   "execution_count": 22,
   "id": "wooden-brazilian",
   "metadata": {},
   "outputs": [],
   "source": [
    "histdf=pd.DataFrame(hist.history)"
   ]
  },
  {
   "cell_type": "code",
   "execution_count": 25,
   "id": "canadian-snowboard",
   "metadata": {},
   "outputs": [
    {
     "data": {
      "image/png": "[encoded data removed]",
      "text/plain": [
       "<Figure size 432x288 with 1 Axes>"
      ]
     },
     "metadata": {
      "needs_background": "light"
     },
     "output_type": "display_data"
    }
   ],
   "source": [
    "histdf[['val_accuracy','accuracy']].plot()\n",
    "plt.show()"
   ]
  },
  {
   "cell_type": "code",
   "execution_count": 26,
   "id": "sporting-pollution",
   "metadata": {},
   "outputs": [
    {
     "data": {
      "image/png": "[encoded data removed]",
      "text/plain": [
       "<Figure size 432x288 with 1 Axes>"
      ]
     },
     "metadata": {
      "needs_background": "light"
     },
     "output_type": "display_data"
    }
   ],
   "source": [
    "histdf[['val_loss','loss']].plot()\n",
    "plt.show()"
   ]
  },
  {
   "cell_type": "code",
   "execution_count": null,
   "id": "significant-papua",
   "metadata": {},
   "outputs": [],
   "source": []
  }
 ],
 "metadata": {
  "kernelspec": {
   "display_name": "Python 3",
   "language": "python",
   "name": "python3"
  },
  "language_info": {
   "codemirror_mode": {
    "name": "ipython",
    "version": 3
   },
   "file_extension": ".py",
   "mimetype": "text/x-python",
   "name": "python",
   "nbconvert_exporter": "python",
   "pygments_lexer": "ipython3",
   "version": "3.8.5"
  }
 },
 "nbformat": 4,
 "nbformat_minor": 5
}
