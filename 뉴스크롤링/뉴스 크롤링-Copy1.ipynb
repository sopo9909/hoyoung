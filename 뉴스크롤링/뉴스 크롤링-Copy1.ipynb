{
 "cells": [
  {
   "cell_type": "code",
   "execution_count": null,
   "metadata": {},
   "outputs": [],
   "source": []
  },
  {
   "cell_type": "code",
   "execution_count": 2,
   "metadata": {
    "ExecuteTime": {
     "end_time": "2021-03-19T00:55:00.958709Z",
     "start_time": "2021-03-19T00:54:59.561805Z"
    }
   },
   "outputs": [],
   "source": [
    "import numpy as np\n",
    "import pandas as pd\n",
    "import requests\n",
    "from bs4 import BeautifulSoup as bsp\n",
    "import matplotlib\n",
    "import matplotlib.pyplot as plt\n",
    "import sqlite3\n",
    "import re\n",
    "import sqlite3"
   ]
  },
  {
   "cell_type": "code",
   "execution_count": 3,
   "metadata": {
    "ExecuteTime": {
     "end_time": "2021-03-19T00:55:00.982646Z",
     "start_time": "2021-03-19T00:55:00.975665Z"
    }
   },
   "outputs": [],
   "source": [
    "def makeKey(txt=''):\n",
    "    txt_=re.sub('http\\S*//',' ',txt)\n",
    "    key=re.sub('[^a-zA-Z0-9%]','',txt_)\n",
    "    return key\n",
    "def insMain(d):\n",
    "    dbname='mknews.db'\n",
    "    with sqlite3.connect(dbname) as conn:\n",
    "        cursor=conn.cursor()\n",
    "        sql='select * from mknews where nkey=\"'+d[6]+'\"'\n",
    "        res=cursor.execute(sql).fetchall()\n",
    "        if(len(res)>0):\n",
    "            print(\"이미 존재 합니다.:\"+d[1])\n",
    "        else:\n",
    "            sql='insert into mknews (ncate,ntitle,ncomp,ndate,nurl,ntext,nkey) values(?,?,?,?,?,?,?)'\n",
    "            res=cursor.execute(sql,d)\n",
    "            print('.',end='')"
   ]
  },
  {
   "cell_type": "code",
   "execution_count": 4,
   "metadata": {
    "ExecuteTime": {
     "end_time": "2021-03-19T00:55:40.791917Z",
     "start_time": "2021-03-19T00:55:04.482034Z"
    }
   },
   "outputs": [
    {
     "name": "stdout",
     "output_type": "stream",
     "text": [
      "10개씩\n",
      "#########\n",
      "0\n",
      "#########\n",
      "1\n",
      "#########\n",
      "2\n",
      "#########\n",
      "3\n",
      "#########\n",
      "4\n",
      "#########\n",
      "5\n",
      "#########\n",
      "6\n",
      "#########\n",
      "7\n",
      "10개씩\n",
      "#########\n",
      "8\n",
      "#########\n",
      "9\n",
      "#########\n",
      "10\n",
      "#########\n",
      "11\n",
      "#########\n",
      "12\n",
      "#########\n",
      "13\n",
      "#########\n",
      "14\n",
      "#########\n",
      "15\n",
      "10개씩\n",
      "#########\n",
      "16\n",
      "#########\n",
      "17\n",
      "#########\n",
      "18\n",
      "#########\n",
      "19\n",
      "#########\n",
      "20\n",
      "#########\n",
      "21\n",
      "#########\n",
      "22\n",
      "10개씩\n",
      "#########\n",
      "23\n",
      "#########\n",
      "24\n",
      "#########\n",
      "25\n",
      "#########\n",
      "26\n",
      "#########\n",
      "27\n",
      "#########\n",
      "28\n",
      "#########\n",
      "29\n",
      "10개씩\n",
      "#########\n",
      "30\n",
      "#########\n",
      "31\n",
      "#########\n",
      "32\n",
      "#########\n",
      "33\n",
      "#########\n",
      "34\n",
      "#########\n",
      "35\n",
      "#########\n",
      "36\n",
      "10개씩\n",
      "#########\n",
      "37\n",
      "#########\n",
      "38\n",
      "#########\n",
      "39\n",
      "#########\n",
      "40\n",
      "#########\n",
      "41\n",
      "#########\n",
      "42\n"
     ]
    },
    {
     "ename": "KeyboardInterrupt",
     "evalue": "",
     "output_type": "error",
     "traceback": [
      "\u001b[1;31m---------------------------------------------------------------------------\u001b[0m",
      "\u001b[1;31mKeyboardInterrupt\u001b[0m                         Traceback (most recent call last)",
      "\u001b[1;32m<ipython-input-4-616b446e2eca>\u001b[0m in \u001b[0;36m<module>\u001b[1;34m\u001b[0m\n\u001b[0;32m     20\u001b[0m     \u001b[0mres\u001b[0m\u001b[1;33m=\u001b[0m\u001b[0mrequests\u001b[0m\u001b[1;33m.\u001b[0m\u001b[0mget\u001b[0m\u001b[1;33m(\u001b[0m\u001b[0murl\u001b[0m\u001b[1;33m,\u001b[0m\u001b[0mheaders\u001b[0m\u001b[1;33m=\u001b[0m\u001b[0mheaders\u001b[0m\u001b[1;33m)\u001b[0m\u001b[1;33m\u001b[0m\u001b[1;33m\u001b[0m\u001b[0m\n\u001b[0;32m     21\u001b[0m     \u001b[0msrc\u001b[0m\u001b[1;33m=\u001b[0m\u001b[0mres\u001b[0m\u001b[1;33m.\u001b[0m\u001b[0mcontent\u001b[0m\u001b[1;33m.\u001b[0m\u001b[0mstrip\u001b[0m\u001b[1;33m(\u001b[0m\u001b[1;33m)\u001b[0m\u001b[1;33m\u001b[0m\u001b[1;33m\u001b[0m\u001b[0m\n\u001b[1;32m---> 22\u001b[1;33m     \u001b[0mhtml\u001b[0m \u001b[1;33m=\u001b[0m\u001b[0mbsp\u001b[0m\u001b[1;33m(\u001b[0m\u001b[0msrc\u001b[0m\u001b[1;33m,\u001b[0m\u001b[1;34m'html.parser'\u001b[0m\u001b[1;33m)\u001b[0m\u001b[1;33m\u001b[0m\u001b[1;33m\u001b[0m\u001b[0m\n\u001b[0m\u001b[0;32m     23\u001b[0m     \u001b[0mtgts\u001b[0m\u001b[1;33m=\u001b[0m\u001b[0mhtml\u001b[0m\u001b[1;33m.\u001b[0m\u001b[0mfind\u001b[0m\u001b[1;33m(\u001b[0m\u001b[0mattrs\u001b[0m\u001b[1;33m=\u001b[0m\u001b[1;33m{\u001b[0m\u001b[1;34m'class'\u001b[0m\u001b[1;33m:\u001b[0m\u001b[1;34m'list_news'\u001b[0m\u001b[1;33m}\u001b[0m\u001b[1;33m)\u001b[0m\u001b[1;33m\u001b[0m\u001b[1;33m\u001b[0m\u001b[0m\n\u001b[0;32m     24\u001b[0m     \u001b[0mlist_tgts\u001b[0m\u001b[1;33m=\u001b[0m\u001b[0mtgts\u001b[0m\u001b[1;33m.\u001b[0m\u001b[0mfind_all\u001b[0m\u001b[1;33m(\u001b[0m\u001b[1;34m'li'\u001b[0m\u001b[1;33m)\u001b[0m\u001b[1;33m\u001b[0m\u001b[1;33m\u001b[0m\u001b[0m\n",
      "\u001b[1;32mC:\\ProgramData\\Anaconda3\\lib\\site-packages\\bs4\\__init__.py\u001b[0m in \u001b[0;36m__init__\u001b[1;34m(self, markup, features, builder, parse_only, from_encoding, exclude_encodings, **kwargs)\u001b[0m\n\u001b[0;32m    226\u001b[0m             \u001b[0mself\u001b[0m\u001b[1;33m.\u001b[0m\u001b[0mreset\u001b[0m\u001b[1;33m(\u001b[0m\u001b[1;33m)\u001b[0m\u001b[1;33m\u001b[0m\u001b[1;33m\u001b[0m\u001b[0m\n\u001b[0;32m    227\u001b[0m             \u001b[1;32mtry\u001b[0m\u001b[1;33m:\u001b[0m\u001b[1;33m\u001b[0m\u001b[1;33m\u001b[0m\u001b[0m\n\u001b[1;32m--> 228\u001b[1;33m                 \u001b[0mself\u001b[0m\u001b[1;33m.\u001b[0m\u001b[0m_feed\u001b[0m\u001b[1;33m(\u001b[0m\u001b[1;33m)\u001b[0m\u001b[1;33m\u001b[0m\u001b[1;33m\u001b[0m\u001b[0m\n\u001b[0m\u001b[0;32m    229\u001b[0m                 \u001b[1;32mbreak\u001b[0m\u001b[1;33m\u001b[0m\u001b[1;33m\u001b[0m\u001b[0m\n\u001b[0;32m    230\u001b[0m             \u001b[1;32mexcept\u001b[0m \u001b[0mParserRejectedMarkup\u001b[0m\u001b[1;33m:\u001b[0m\u001b[1;33m\u001b[0m\u001b[1;33m\u001b[0m\u001b[0m\n",
      "\u001b[1;32mC:\\ProgramData\\Anaconda3\\lib\\site-packages\\bs4\\__init__.py\u001b[0m in \u001b[0;36m_feed\u001b[1;34m(self)\u001b[0m\n\u001b[0;32m    287\u001b[0m         \u001b[0mself\u001b[0m\u001b[1;33m.\u001b[0m\u001b[0mbuilder\u001b[0m\u001b[1;33m.\u001b[0m\u001b[0mreset\u001b[0m\u001b[1;33m(\u001b[0m\u001b[1;33m)\u001b[0m\u001b[1;33m\u001b[0m\u001b[1;33m\u001b[0m\u001b[0m\n\u001b[0;32m    288\u001b[0m \u001b[1;33m\u001b[0m\u001b[0m\n\u001b[1;32m--> 289\u001b[1;33m         \u001b[0mself\u001b[0m\u001b[1;33m.\u001b[0m\u001b[0mbuilder\u001b[0m\u001b[1;33m.\u001b[0m\u001b[0mfeed\u001b[0m\u001b[1;33m(\u001b[0m\u001b[0mself\u001b[0m\u001b[1;33m.\u001b[0m\u001b[0mmarkup\u001b[0m\u001b[1;33m)\u001b[0m\u001b[1;33m\u001b[0m\u001b[1;33m\u001b[0m\u001b[0m\n\u001b[0m\u001b[0;32m    290\u001b[0m         \u001b[1;31m# Close out any unfinished strings and close all the open tags.\u001b[0m\u001b[1;33m\u001b[0m\u001b[1;33m\u001b[0m\u001b[1;33m\u001b[0m\u001b[0m\n\u001b[0;32m    291\u001b[0m         \u001b[0mself\u001b[0m\u001b[1;33m.\u001b[0m\u001b[0mendData\u001b[0m\u001b[1;33m(\u001b[0m\u001b[1;33m)\u001b[0m\u001b[1;33m\u001b[0m\u001b[1;33m\u001b[0m\u001b[0m\n",
      "\u001b[1;32mC:\\ProgramData\\Anaconda3\\lib\\site-packages\\bs4\\builder\\_htmlparser.py\u001b[0m in \u001b[0;36mfeed\u001b[1;34m(self, markup)\u001b[0m\n\u001b[0;32m    213\u001b[0m         \u001b[0mparser\u001b[0m\u001b[1;33m.\u001b[0m\u001b[0msoup\u001b[0m \u001b[1;33m=\u001b[0m \u001b[0mself\u001b[0m\u001b[1;33m.\u001b[0m\u001b[0msoup\u001b[0m\u001b[1;33m\u001b[0m\u001b[1;33m\u001b[0m\u001b[0m\n\u001b[0;32m    214\u001b[0m         \u001b[1;32mtry\u001b[0m\u001b[1;33m:\u001b[0m\u001b[1;33m\u001b[0m\u001b[1;33m\u001b[0m\u001b[0m\n\u001b[1;32m--> 215\u001b[1;33m             \u001b[0mparser\u001b[0m\u001b[1;33m.\u001b[0m\u001b[0mfeed\u001b[0m\u001b[1;33m(\u001b[0m\u001b[0mmarkup\u001b[0m\u001b[1;33m)\u001b[0m\u001b[1;33m\u001b[0m\u001b[1;33m\u001b[0m\u001b[0m\n\u001b[0m\u001b[0;32m    216\u001b[0m         \u001b[1;32mexcept\u001b[0m \u001b[0mHTMLParseError\u001b[0m \u001b[1;32mas\u001b[0m \u001b[0me\u001b[0m\u001b[1;33m:\u001b[0m\u001b[1;33m\u001b[0m\u001b[1;33m\u001b[0m\u001b[0m\n\u001b[0;32m    217\u001b[0m             warnings.warn(RuntimeWarning(\n",
      "\u001b[1;32mC:\\ProgramData\\Anaconda3\\lib\\html\\parser.py\u001b[0m in \u001b[0;36mfeed\u001b[1;34m(self, data)\u001b[0m\n\u001b[0;32m    109\u001b[0m         \"\"\"\n\u001b[0;32m    110\u001b[0m         \u001b[0mself\u001b[0m\u001b[1;33m.\u001b[0m\u001b[0mrawdata\u001b[0m \u001b[1;33m=\u001b[0m \u001b[0mself\u001b[0m\u001b[1;33m.\u001b[0m\u001b[0mrawdata\u001b[0m \u001b[1;33m+\u001b[0m \u001b[0mdata\u001b[0m\u001b[1;33m\u001b[0m\u001b[1;33m\u001b[0m\u001b[0m\n\u001b[1;32m--> 111\u001b[1;33m         \u001b[0mself\u001b[0m\u001b[1;33m.\u001b[0m\u001b[0mgoahead\u001b[0m\u001b[1;33m(\u001b[0m\u001b[1;36m0\u001b[0m\u001b[1;33m)\u001b[0m\u001b[1;33m\u001b[0m\u001b[1;33m\u001b[0m\u001b[0m\n\u001b[0m\u001b[0;32m    112\u001b[0m \u001b[1;33m\u001b[0m\u001b[0m\n\u001b[0;32m    113\u001b[0m     \u001b[1;32mdef\u001b[0m \u001b[0mclose\u001b[0m\u001b[1;33m(\u001b[0m\u001b[0mself\u001b[0m\u001b[1;33m)\u001b[0m\u001b[1;33m:\u001b[0m\u001b[1;33m\u001b[0m\u001b[1;33m\u001b[0m\u001b[0m\n",
      "\u001b[1;32mC:\\ProgramData\\Anaconda3\\lib\\html\\parser.py\u001b[0m in \u001b[0;36mgoahead\u001b[1;34m(self, end)\u001b[0m\n\u001b[0;32m    169\u001b[0m             \u001b[1;32mif\u001b[0m \u001b[0mstartswith\u001b[0m\u001b[1;33m(\u001b[0m\u001b[1;34m'<'\u001b[0m\u001b[1;33m,\u001b[0m \u001b[0mi\u001b[0m\u001b[1;33m)\u001b[0m\u001b[1;33m:\u001b[0m\u001b[1;33m\u001b[0m\u001b[1;33m\u001b[0m\u001b[0m\n\u001b[0;32m    170\u001b[0m                 \u001b[1;32mif\u001b[0m \u001b[0mstarttagopen\u001b[0m\u001b[1;33m.\u001b[0m\u001b[0mmatch\u001b[0m\u001b[1;33m(\u001b[0m\u001b[0mrawdata\u001b[0m\u001b[1;33m,\u001b[0m \u001b[0mi\u001b[0m\u001b[1;33m)\u001b[0m\u001b[1;33m:\u001b[0m \u001b[1;31m# < + letter\u001b[0m\u001b[1;33m\u001b[0m\u001b[1;33m\u001b[0m\u001b[0m\n\u001b[1;32m--> 171\u001b[1;33m                     \u001b[0mk\u001b[0m \u001b[1;33m=\u001b[0m \u001b[0mself\u001b[0m\u001b[1;33m.\u001b[0m\u001b[0mparse_starttag\u001b[0m\u001b[1;33m(\u001b[0m\u001b[0mi\u001b[0m\u001b[1;33m)\u001b[0m\u001b[1;33m\u001b[0m\u001b[1;33m\u001b[0m\u001b[0m\n\u001b[0m\u001b[0;32m    172\u001b[0m                 \u001b[1;32melif\u001b[0m \u001b[0mstartswith\u001b[0m\u001b[1;33m(\u001b[0m\u001b[1;34m\"</\"\u001b[0m\u001b[1;33m,\u001b[0m \u001b[0mi\u001b[0m\u001b[1;33m)\u001b[0m\u001b[1;33m:\u001b[0m\u001b[1;33m\u001b[0m\u001b[1;33m\u001b[0m\u001b[0m\n\u001b[0;32m    173\u001b[0m                     \u001b[0mk\u001b[0m \u001b[1;33m=\u001b[0m \u001b[0mself\u001b[0m\u001b[1;33m.\u001b[0m\u001b[0mparse_endtag\u001b[0m\u001b[1;33m(\u001b[0m\u001b[0mi\u001b[0m\u001b[1;33m)\u001b[0m\u001b[1;33m\u001b[0m\u001b[1;33m\u001b[0m\u001b[0m\n",
      "\u001b[1;32mC:\\ProgramData\\Anaconda3\\lib\\html\\parser.py\u001b[0m in \u001b[0;36mparse_starttag\u001b[1;34m(self, i)\u001b[0m\n\u001b[0;32m    343\u001b[0m             \u001b[0mself\u001b[0m\u001b[1;33m.\u001b[0m\u001b[0mhandle_startendtag\u001b[0m\u001b[1;33m(\u001b[0m\u001b[0mtag\u001b[0m\u001b[1;33m,\u001b[0m \u001b[0mattrs\u001b[0m\u001b[1;33m)\u001b[0m\u001b[1;33m\u001b[0m\u001b[1;33m\u001b[0m\u001b[0m\n\u001b[0;32m    344\u001b[0m         \u001b[1;32melse\u001b[0m\u001b[1;33m:\u001b[0m\u001b[1;33m\u001b[0m\u001b[1;33m\u001b[0m\u001b[0m\n\u001b[1;32m--> 345\u001b[1;33m             \u001b[0mself\u001b[0m\u001b[1;33m.\u001b[0m\u001b[0mhandle_starttag\u001b[0m\u001b[1;33m(\u001b[0m\u001b[0mtag\u001b[0m\u001b[1;33m,\u001b[0m \u001b[0mattrs\u001b[0m\u001b[1;33m)\u001b[0m\u001b[1;33m\u001b[0m\u001b[1;33m\u001b[0m\u001b[0m\n\u001b[0m\u001b[0;32m    346\u001b[0m             \u001b[1;32mif\u001b[0m \u001b[0mtag\u001b[0m \u001b[1;32min\u001b[0m \u001b[0mself\u001b[0m\u001b[1;33m.\u001b[0m\u001b[0mCDATA_CONTENT_ELEMENTS\u001b[0m\u001b[1;33m:\u001b[0m\u001b[1;33m\u001b[0m\u001b[1;33m\u001b[0m\u001b[0m\n\u001b[0;32m    347\u001b[0m                 \u001b[0mself\u001b[0m\u001b[1;33m.\u001b[0m\u001b[0mset_cdata_mode\u001b[0m\u001b[1;33m(\u001b[0m\u001b[0mtag\u001b[0m\u001b[1;33m)\u001b[0m\u001b[1;33m\u001b[0m\u001b[1;33m\u001b[0m\u001b[0m\n",
      "\u001b[1;32mC:\\ProgramData\\Anaconda3\\lib\\site-packages\\bs4\\builder\\_htmlparser.py\u001b[0m in \u001b[0;36mhandle_starttag\u001b[1;34m(self, name, attrs, handle_empty_element)\u001b[0m\n\u001b[0;32m     88\u001b[0m             \u001b[0mattrvalue\u001b[0m \u001b[1;33m=\u001b[0m \u001b[1;34m'\"\"'\u001b[0m\u001b[1;33m\u001b[0m\u001b[1;33m\u001b[0m\u001b[0m\n\u001b[0;32m     89\u001b[0m         \u001b[1;31m#print \"START\", name\u001b[0m\u001b[1;33m\u001b[0m\u001b[1;33m\u001b[0m\u001b[1;33m\u001b[0m\u001b[0m\n\u001b[1;32m---> 90\u001b[1;33m         \u001b[0mtag\u001b[0m \u001b[1;33m=\u001b[0m \u001b[0mself\u001b[0m\u001b[1;33m.\u001b[0m\u001b[0msoup\u001b[0m\u001b[1;33m.\u001b[0m\u001b[0mhandle_starttag\u001b[0m\u001b[1;33m(\u001b[0m\u001b[0mname\u001b[0m\u001b[1;33m,\u001b[0m \u001b[1;32mNone\u001b[0m\u001b[1;33m,\u001b[0m \u001b[1;32mNone\u001b[0m\u001b[1;33m,\u001b[0m \u001b[0mattr_dict\u001b[0m\u001b[1;33m)\u001b[0m\u001b[1;33m\u001b[0m\u001b[1;33m\u001b[0m\u001b[0m\n\u001b[0m\u001b[0;32m     91\u001b[0m         \u001b[1;32mif\u001b[0m \u001b[0mtag\u001b[0m \u001b[1;32mand\u001b[0m \u001b[0mtag\u001b[0m\u001b[1;33m.\u001b[0m\u001b[0mis_empty_element\u001b[0m \u001b[1;32mand\u001b[0m \u001b[0mhandle_empty_element\u001b[0m\u001b[1;33m:\u001b[0m\u001b[1;33m\u001b[0m\u001b[1;33m\u001b[0m\u001b[0m\n\u001b[0;32m     92\u001b[0m             \u001b[1;31m# Unlike other parsers, html.parser doesn't send separate end tag\u001b[0m\u001b[1;33m\u001b[0m\u001b[1;33m\u001b[0m\u001b[1;33m\u001b[0m\u001b[0m\n",
      "\u001b[1;32mC:\\ProgramData\\Anaconda3\\lib\\site-packages\\bs4\\__init__.py\u001b[0m in \u001b[0;36mhandle_starttag\u001b[1;34m(self, name, namespace, nsprefix, attrs)\u001b[0m\n\u001b[0;32m    462\u001b[0m             \u001b[1;32mreturn\u001b[0m \u001b[1;32mNone\u001b[0m\u001b[1;33m\u001b[0m\u001b[1;33m\u001b[0m\u001b[0m\n\u001b[0;32m    463\u001b[0m \u001b[1;33m\u001b[0m\u001b[0m\n\u001b[1;32m--> 464\u001b[1;33m         tag = Tag(self, self.builder, name, namespace, nsprefix, attrs,\n\u001b[0m\u001b[0;32m    465\u001b[0m                   self.currentTag, self._most_recent_element)\n\u001b[0;32m    466\u001b[0m         \u001b[1;32mif\u001b[0m \u001b[0mtag\u001b[0m \u001b[1;32mis\u001b[0m \u001b[1;32mNone\u001b[0m\u001b[1;33m:\u001b[0m\u001b[1;33m\u001b[0m\u001b[1;33m\u001b[0m\u001b[0m\n",
      "\u001b[1;32mC:\\ProgramData\\Anaconda3\\lib\\site-packages\\bs4\\element.py\u001b[0m in \u001b[0;36m__init__\u001b[1;34m(self, parser, builder, name, namespace, prefix, attrs, parent, previous, is_xml)\u001b[0m\n\u001b[0;32m    839\u001b[0m         \u001b[1;32melif\u001b[0m \u001b[0mattrs\u001b[0m\u001b[1;33m:\u001b[0m\u001b[1;33m\u001b[0m\u001b[1;33m\u001b[0m\u001b[0m\n\u001b[0;32m    840\u001b[0m             \u001b[1;32mif\u001b[0m \u001b[0mbuilder\u001b[0m \u001b[1;32mis\u001b[0m \u001b[1;32mnot\u001b[0m \u001b[1;32mNone\u001b[0m \u001b[1;32mand\u001b[0m \u001b[0mbuilder\u001b[0m\u001b[1;33m.\u001b[0m\u001b[0mcdata_list_attributes\u001b[0m\u001b[1;33m:\u001b[0m\u001b[1;33m\u001b[0m\u001b[1;33m\u001b[0m\u001b[0m\n\u001b[1;32m--> 841\u001b[1;33m                 attrs = builder._replace_cdata_list_attribute_values(\n\u001b[0m\u001b[0;32m    842\u001b[0m                     self.name, attrs)\n\u001b[0;32m    843\u001b[0m             \u001b[1;32melse\u001b[0m\u001b[1;33m:\u001b[0m\u001b[1;33m\u001b[0m\u001b[1;33m\u001b[0m\u001b[0m\n",
      "\u001b[1;32mC:\\ProgramData\\Anaconda3\\lib\\site-packages\\bs4\\builder\\__init__.py\u001b[0m in \u001b[0;36m_replace_cdata_list_attribute_values\u001b[1;34m(self, tag_name, attrs)\u001b[0m\n\u001b[0;32m    162\u001b[0m                 tag_name.lower(), None)\n\u001b[0;32m    163\u001b[0m             \u001b[1;32mfor\u001b[0m \u001b[0mattr\u001b[0m \u001b[1;32min\u001b[0m \u001b[0mlist\u001b[0m\u001b[1;33m(\u001b[0m\u001b[0mattrs\u001b[0m\u001b[1;33m.\u001b[0m\u001b[0mkeys\u001b[0m\u001b[1;33m(\u001b[0m\u001b[1;33m)\u001b[0m\u001b[1;33m)\u001b[0m\u001b[1;33m:\u001b[0m\u001b[1;33m\u001b[0m\u001b[1;33m\u001b[0m\u001b[0m\n\u001b[1;32m--> 164\u001b[1;33m                 \u001b[1;32mif\u001b[0m \u001b[0mattr\u001b[0m \u001b[1;32min\u001b[0m \u001b[0muniversal\u001b[0m \u001b[1;32mor\u001b[0m \u001b[1;33m(\u001b[0m\u001b[0mtag_specific\u001b[0m \u001b[1;32mand\u001b[0m \u001b[0mattr\u001b[0m \u001b[1;32min\u001b[0m \u001b[0mtag_specific\u001b[0m\u001b[1;33m)\u001b[0m\u001b[1;33m:\u001b[0m\u001b[1;33m\u001b[0m\u001b[1;33m\u001b[0m\u001b[0m\n\u001b[0m\u001b[0;32m    165\u001b[0m                     \u001b[1;31m# We have a \"class\"-type attribute whose string\u001b[0m\u001b[1;33m\u001b[0m\u001b[1;33m\u001b[0m\u001b[1;33m\u001b[0m\u001b[0m\n\u001b[0;32m    166\u001b[0m                     \u001b[1;31m# value is a whitespace-separated list of\u001b[0m\u001b[1;33m\u001b[0m\u001b[1;33m\u001b[0m\u001b[1;33m\u001b[0m\u001b[0m\n",
      "\u001b[1;31mKeyboardInterrupt\u001b[0m: "
     ]
    }
   ],
   "source": [
    "headers={'authority': \"search.naver.com\",\n",
    "             \"method\": \"GET\",\n",
    "             \"path\": '/search.naver?&where=news&query=%EC%95%84%EB%AA%A8%EB%A0%88%ED%8D%BC%EC%8B%9C%ED%94%BD&sm=tab_pge&sort=1&photo=0&field=0&reporter_article=&pd=0&ds=&de=&docid=&nso=so:dd,p:all,a:all&mynews=1&start=11&refresh_start=0',\n",
    "             \"scheme\": \"https\",\n",
    "             \"accept\": \"text/html,application/xhtml+xml,application/xml;q=0.9,image/avif,image/webp,image/apng,*/*;q=0.8,application/signed-exchange;v=b3;q=0.9\",\n",
    "             \"accept-encoding\": \"gzip, deflate, br\",\n",
    "             \"accept-language\": \"ko,en-US;q=0.9,en;q=0.8\",\n",
    "             \"cache-control\": \"max-age=0\",\n",
    "             \"cookie\": \"NNB=AEP7EKDQOVCWA; nx_ssl=2; nid_inf=740873661; NID_AUT=hRvGg8ABo6CAUZLNPau2fqKxSOI2Jm6Sk+xfNTpcuMrE8CUUKSPnRkCEbBEJ+eVV; NID_JKL=LQqDnEnSrpuFc9mJHiiqLGNZShX8/8HeQ5sb63lKCb4=; _ga=GA1.2.1521198919.1615261089; ASID=3a4c8213000001782476ee550000005d; NDARK=Y; nso_open=1; news_my_status=1; news_office_checked=1009; NID_SES=AAABtTIZqPJJhx7ulMXz7TSiGa65nV5WjcMWlBPTcle4SCqq5iyyQv5OXhWgNeoZzNxr2krcrw4X8ppKBCmJCM6TUV/RlEVDDDQzJpVzDeQytD1qzNEwn/qI1T2uDc/TotacqB9L7qQfr3gE19wsZH2GKIkvMkQrgNfer8VXc0hQrWyBfzaoFuCrivQMl55JlC/Ink5gXsHjZGyrVSPgc4hRMD849sgUS+WpmULuRtWiwKYTHP1CzDYWBs65DZvu3xrDsX4PfJGC0jX73c1fBHQjAG/waO1U64WsrEHielRPB7LKVa3FhXiTcQ+J7u4gviO9rZG7sUUlC5zkhC+GdtuTLegG3bfC/MYiBBXRABpqj0MLCF2+GNQ8TV3xj9mxLSkXqCF5nRvTvp7tbDSf1WdzZpM/fvPBbwdwCBU5V4uFNS9KB1NjLdxLGBXeYX4e/VpmUMxmvGqN3QvG3amP7FNRGA5byX1KqqMk4YuqOAF8CkBjjZVS8ww/rz3KsZdYT9mHUU5yckBDgdCGm+63b7YGxAOQJJ15oPQpBD0yhnj8mZeGtTV6ruXDlNnRvOr99VsTN3S+p4A7uFKiCGCFI5SJA8A=; page_uid=haKcDsp0JywssNl/e8GssssssRo-223963; _naver_usersession_=vieuFR5fdoU74Bj3g41WIw==; BMR=s=1616054353349&r=https%3A%2F%2Fm.blog.naver.com%2FPostView.nhn%3FblogId%3Dkiddwannabe%26logNo%3D221185808375%26proxyReferer%3Dhttps%3A%252F%252Fwww.google.com%252F&r2=https%3A%2F%2Fwww.google.com%2F\",\n",
    "             \"sec-ch-ua-mobile\": \"?0\",\n",
    "             \"sec-fetch-dest\": \"document\",\n",
    "             \"sec-fetch-mode\": \"navigate\",\n",
    "             \"sec-fetch-site\": \"none\",\n",
    "             \"sec-fetch-user\": \"?1\",\n",
    "             \"upgrade-insecure-requests\": \"1\",\n",
    "             \"user-agent\": \"Mozilla/5.0 (Windows NT 10.0; Win64; x64) AppleWebKit/537.36 (KHTML, like Gecko) Chrome/89.0.4389.90 Safari/537.36\"}\n",
    "c=0\n",
    "for y in range(1,4001,10):\n",
    "    url='https://search.naver.com/search.naver?&where=news&query=%EC%95%84%EB%AA%A8%EB%A0%88%ED%8D%BC%EC%8B%9C%ED%94%BD&sm=tab_pge&sort=1&photo=0&field=0&reporter_article=&pd=0&ds=&de=&docid=&nso=so:dd,p:all,a:all&mynews=1&start={}&refresh_start=0'.format(y)\n",
    "    res=requests.get(url,headers=headers)\n",
    "    src=res.content.strip()\n",
    "    html =bsp(src,'html.parser')\n",
    "    tgts=html.find(attrs={'class':'list_news'})\n",
    "    list_tgts=tgts.find_all('li')\n",
    "    print('10개씩')\n",
    "    for i in list_tgts:\n",
    "        try:\n",
    "            #매일경제\n",
    "            url=i.find(attrs={'class':'dsc_thumb '})['href']\n",
    "            res=requests.get(url,headers={'User-Agent':'Mozilla/5.0'})\n",
    "            src=res.content.strip()\n",
    "            key=makeKey(url)\n",
    "            html =bsp(src,'html.parser')\n",
    "            title1=html.find(attrs={'class':'top_title'}).text\n",
    "            title2=html.find(attrs={'class':'sub_title1_new'}).text\n",
    "            #author=html.find(attrs={'class':'author'}).text.strip().replace('\\xa0',' ')\n",
    "            time=html.find(attrs={'class':'lasttime'}).text\n",
    "            time=re.sub('수정.*','',time).replace('입력 :','').replace('\\xa0','').strip()\n",
    "            content=html.find(attrs={'class':'art_txt'}).text\n",
    "            content=content.replace('\\n',\"\").replace('\\t',\"\").replace('\\r',\"\")\n",
    "            content=re.sub('window.*','',content)\n",
    "            content=re.sub('googletag.*;','',content)\n",
    "            content=re.sub('\\[.*?\\]','',content)\n",
    "            content=re.sub('◆.*?◆','',content)\n",
    "            content=content.replace('▶ 여기를 누르시면 크게 보실 수 있습니다','')\n",
    "            content=content.strip()\n",
    "            title=title1+title2\n",
    "            print('#########')\n",
    "            comp='매일경제'\n",
    "            opt=1\n",
    "            print(c)\n",
    "            c+=1\n",
    "            #d=(opt,title,comp,time,url,content,key)\n",
    "            #insMain(d)\n",
    "        except:\n",
    "            pass"
   ]
  },
  {
   "cell_type": "code",
   "execution_count": null,
   "metadata": {},
   "outputs": [],
   "source": [
    "def makeKey(txt=''):\n",
    "    txt_=re.sub('http\\S*//',' ',txt)\n",
    "    key=re.sub('[^a-zA-Z0-9%]','',txt_)\n",
    "    return key\n",
    "def insMain(d):\n",
    "    dbname='mknews.db'\n",
    "    with sqlite3.connect(dbname) as conn:\n",
    "        cursor=conn.cursor()\n",
    "        sql='select * from mknews where nkey=\"'+d[6]+'\"'\n",
    "        res=cursor.execute(sql).fetchall()\n",
    "        if(len(res)>0):\n",
    "            print(\"이미 존재 합니다.:\"+d[1])\n",
    "        else:\n",
    "            sql='insert into mknews (ncate,ntitle,ncomp,ndate,nurl,ntext,nkey) values(?,?,?,?,?,?,?)'\n",
    "            res=cursor.execute(sql,d)\n",
    "            print('.',end='')\n",
    "key=makeKey(url)\n",
    "comp='매일경제'\n",
    "opt=1\n",
    "d=(opt,title,comp,time,url,content,key)\n",
    "insMain(d)"
   ]
  },
  {
   "cell_type": "code",
   "execution_count": 7,
   "metadata": {
    "ExecuteTime": {
     "end_time": "2021-03-18T08:56:12.589905Z",
     "start_time": "2021-03-18T08:56:12.298205Z"
    }
   },
   "outputs": [
    {
     "name": "stdout",
     "output_type": "stream",
     "text": [
      "\"섣불리 시작했다가 공장 내 근로자 한 명만 확진돼도 보름 이상 공장을 통째로 스톱시켜야 합니다. 엄청난 리스크지만 중국 근로자도 출근하고 있고 더 이상 공장을 놀릴 수는 없잖아요.\"(화학 업체 관계자) 세계의 공장인 중국이 신종 코로나바이러스 감염증(우한 폐렴) 사태 속에 10일 조업 재개를 실시하면서 삼성·현대차·SK·LG 등 중국에서 생산공장을 가동 중인 주요 기업들은 비상경영 상태로 조업 준비와 가동에 들어갔다. 조속한 재개가 시급하지만 여전히 확진자와 사망자가 빠르게 증가하고 있어 공장 가동에 상당히 조심스러운 분위기다. 중국에서 석유화학과 배터리를 비롯해 9개 공장을 운영하고 있는 LG화학은 이날부터 출근 가능한 직원들이 조업에 복귀했다. 24시간 동안 가동되는 석유화학 장치 산업 특성상 LG화학 석유화학 공장들은 춘제 기간 가동률을 줄여서 운영해왔다. 중국 자싱시·허페이시·싼장 지역에서 석유화학 공장을 가동 중인 롯데케미칼도 연휴가 끝나는 10일에 맞춰 주재원들이 복귀했으며 이날 출근이 가능한 인력부터 일터로 복귀했다. 회사 관계자는 \"감염으로 인해 행여나 공장 내에서 확진자가 발생하지 않도록 한국 본사와 수시로 연락하며 비상경영을 하고 있다\"고 전했다. 중국 정부의 요청에 따라 공장 재가동 및 정상화를 위한 서류 작업이 진행 중인 곳도 있어 석유화학 업계에선 공장 정상 가동은 이달 말이나 돼야 할 것으로 예상하고 있다. 한 기업 관계자는 \"공장 내에서 확진자가 발생하면 모든 공장을 셧다운하고 방역해야 하는데 이럴 경우 피해가 만만치 않을 것으로 예상되는 만큼 신경을 곤두세우고 있다\"며 \"이번주 중국 내 상황이 진전되기를 바라고 있다\"고 말했다. 애플 아이폰을 조립 생산하는 대만 폭스콘은 허난성 정저우 공장 재가동을 예정일인 10일에서 일주일 더 늦춰 17일 이후 본격 가동에 들어갈 것으로 보인다. 폭스콘은 그간 근무 중 반드시 마스크를 착용하고 매일 수차례 체온 검사를 실시했다. 심지어 마스크 부족 사태로 인해 직원들이 쓸 마스크를 직접 생산하는 특단의 조치를 결정하고 지난 5일부터 시범생산에 돌입했지만 아직까지 공장을 가동하지 못하고 있다. 한 전자 업계 인사는 \"1만6000여 명에 이르는 현지 생산직 근로자들의 감염 확산에 대한 우려가 클 수밖에 없다\"고 전했다.\n"
     ]
    }
   ],
   "source": [
    "#매일경제\n",
    "url='http://news.mk.co.kr/newsRead.php?no=138050&year=2020'\n",
    "res=requests.get(url,headers={'User-Agent':'Mozilla/5.0'})\n",
    "src=res.content.strip()\n",
    "key=makeKey(url)\n",
    "html =bsp(src,'html.parser')\n",
    "title1=html.find(attrs={'class':'top_title'}).text\n",
    "title2=html.find(attrs={'class':'sub_title1_new'}).text\n",
    "#author=html.find(attrs={'class':'author'}).text.strip().replace('\\xa0',' ')\n",
    "time=html.find(attrs={'class':'lasttime'}).text\n",
    "time=re.sub('수정.*','',time).replace('입력 :','').replace('\\xa0','').strip()\n",
    "content=html.find(attrs={'class':'art_txt'}).text\n",
    "content=content.replace('\\n',\"\").replace('\\t',\"\").replace('\\r',\"\")\n",
    "content=re.sub('window.*','',content)\n",
    "content=re.sub('googletag.*;','',content)\n",
    "content=re.sub('\\[.*?\\]','',content)\n",
    "content=re.sub('◆.*?◆','',content)\n",
    "content=content.replace('▶ 여기를 누르시면 크게 보실 수 있습니다','')\n",
    "#content=re.sub('[^가-힣a-z0-9]','',content)◆\n",
    "content=content.strip()\n",
    "title=title1+title2\n",
    "comp='매일경제'\n",
    "opt=1\n",
    "#d=(opt,title,comp,time,url,content,key)\n",
    "#insMain(d)\n",
    "print(content)\n",
    "#print(' 제목 : '+title1+title2+' 기자 : '+author+' 게시시간 : '+time+' 본문 : '+content)"
   ]
  },
  {
   "cell_type": "code",
   "execution_count": null,
   "metadata": {
    "ExecuteTime": {
     "end_time": "2021-03-18T06:56:36.901976Z",
     "start_time": "2021-03-18T06:56:36.612547Z"
    }
   },
   "outputs": [],
   "source": [
    "#경향신문\n",
    "url='http://biz.khan.co.kr/khan_art_view.html?artid=202103162149005&code=920501'\n",
    "res=requests.get(url,headers={'User-Agent':'Mozilla/5.0'})\n",
    "src=res.content.strip()\n",
    "html =bsp(src,'html.parser')\n",
    "title=html.find(attrs={'class':'headline'}).text\n",
    "author=html.find(attrs={'class':'name'}).text\n",
    "author=re.sub('[^가-힣]','',author)\n",
    "time=html.find(attrs={'class':'byline'}).text.replace('\\n','')\n",
    "time=re.sub('수정.*','',time).replace('입력 :','').replace('\\xa0','').strip()\n",
    "content=html.find(attrs={'class':'art_body'}).text\n",
    "author=re.sub('[^가-힣]','',author)\n",
    "content=content.replace('\\n',\"\").replace('\\t',\"\").replace('\\r',\"\")\n",
    "content=re.sub('createIframe.*;','',content)\n",
    "print(' 제목 : '+title+' 기자 : '+author+' 게시시간 : '+time+' 본문 : '+content)"
   ]
  },
  {
   "cell_type": "code",
   "execution_count": null,
   "metadata": {
    "ExecuteTime": {
     "end_time": "2021-03-18T07:21:59.313136Z",
     "start_time": "2021-03-18T07:21:59.126102Z"
    }
   },
   "outputs": [],
   "source": [
    "#경향신문\n",
    "url='http://www.hani.co.kr/arti/economy/consumer/987007.html'\n",
    "res=requests.get(url,headers={'User-Agent':'Mozilla/5.0'})\n",
    "src=res.content.strip()\n",
    "html =bsp(src,'html.parser')\n",
    "title=html.find_all(attrs={'class':'title'})#.text.replace('\\n',\"\").replace('\\t',\"\").replace('\\r',\"\")\n",
    "title\n",
    "# author=html.find(attrs={'align':'right'}).text\n",
    "# author=re.sub('[^가-힣]','',author)\n",
    "#time=html.find(attrs={'align':'right'}).text.replace('\\n','')\n",
    "#time\n",
    "# time=re.sub('수정.*','',time).replace('입력 :','').replace('\\xa0','').strip()\n",
    "# content=html.find(attrs={'class':'art_body'}).text\n",
    "# author=re.sub('[^가-힣]','',author)\n",
    "# content=content.replace('\\n',\"\").replace('\\t',\"\").replace('\\r',\"\")\n",
    "# content=re.sub('createIframe.*;','',content)\n",
    "# print(' 제목 : '+title+' 기자 : '+author+' 게시시간 : '+time+' 본문 : '+content)"
   ]
  },
  {
   "cell_type": "code",
   "execution_count": null,
   "metadata": {},
   "outputs": [],
   "source": []
  },
  {
   "cell_type": "code",
   "execution_count": null,
   "metadata": {
    "ExecuteTime": {
     "end_time": "2021-03-18T06:21:12.099788Z",
     "start_time": "2021-03-18T06:21:11.935267Z"
    }
   },
   "outputs": [],
   "source": [
    "url='https://www.mk.co.kr/news/business/view/2021/03/256458/'\n",
    "res=requests.get(url,headers={'User-Agent':'Mozilla/5.0'})\n",
    "src=res.content.strip()\n",
    "html =bsp(src,'html.parser')\n",
    "title1=html.find(attrs={'class':'top_title'})\n",
    "title2=html.find(attrs={'class':'sub_title1_new'})\n",
    "author=html.find(attrs={'class':'author'})\n",
    "time=html.find(attrs={'class':'lasttime'})\n",
    "content=html.find(attrs={'class':'art_txt'}).text\n",
    "content=content.replace('\\n',\"\").replace('\\t',\"\").replace('\\r',\"\")\n",
    "t=re.sub('\\[.*?\\]',' ',content)\n",
    "#t=re.sub('[googletag.*;]',' ',t)\n",
    "print(t)"
   ]
  }
 ],
 "metadata": {
  "kernelspec": {
   "display_name": "Python 3",
   "language": "python",
   "name": "python3"
  },
  "language_info": {
   "codemirror_mode": {
    "name": "ipython",
    "version": 3
   },
   "file_extension": ".py",
   "mimetype": "text/x-python",
   "name": "python",
   "nbconvert_exporter": "python",
   "pygments_lexer": "ipython3",
   "version": "3.8.5"
  },
  "toc": {
   "base_numbering": 1,
   "nav_menu": {},
   "number_sections": true,
   "sideBar": true,
   "skip_h1_title": false,
   "title_cell": "Table of Contents",
   "title_sidebar": "Contents",
   "toc_cell": false,
   "toc_position": {},
   "toc_section_display": true,
   "toc_window_display": false
  },
  "varInspector": {
   "cols": {
    "lenName": 16,
    "lenType": 16,
    "lenVar": 40
   },
   "kernels_config": {
    "python": {
     "delete_cmd_postfix": "",
     "delete_cmd_prefix": "del ",
     "library": "var_list.py",
     "varRefreshCmd": "print(var_dic_list())"
    },
    "r": {
     "delete_cmd_postfix": ") ",
     "delete_cmd_prefix": "rm(",
     "library": "var_list.r",
     "varRefreshCmd": "cat(var_dic_list()) "
    }
   },
   "types_to_exclude": [
    "module",
    "function",
    "builtin_function_or_method",
    "instance",
    "_Feature"
   ],
   "window_display": false
  }
 },
 "nbformat": 4,
 "nbformat_minor": 4
}
