{
 "cells": [
  {
   "cell_type": "code",
   "execution_count": null,
   "metadata": {},
   "outputs": [],
   "source": []
  },
  {
   "cell_type": "code",
   "execution_count": 1,
   "metadata": {
    "ExecuteTime": {
     "end_time": "2021-03-22T03:19:37.235266Z",
     "start_time": "2021-03-22T03:19:36.316685Z"
    }
   },
   "outputs": [],
   "source": [
    "import numpy as np\n",
    "import pandas as pd\n",
    "import requests\n",
    "from bs4 import BeautifulSoup as bsp\n",
    "import matplotlib\n",
    "import matplotlib.pyplot as plt\n",
    "import sqlite3\n",
    "import re"
   ]
  },
  {
   "cell_type": "code",
   "execution_count": 2,
   "metadata": {
    "ExecuteTime": {
     "end_time": "2021-03-22T03:19:37.343782Z",
     "start_time": "2021-03-22T03:19:37.330817Z"
    }
   },
   "outputs": [],
   "source": [
    "def makeKey(txt=''):\n",
    "    txt_=re.sub('http\\S*//',' ',txt)\n",
    "    key=re.sub('[^a-zA-Z0-9%]','',txt_)\n",
    "    return key\n",
    "def insMain(d):\n",
    "    dbname='mknews.db'\n",
    "    with sqlite3.connect(dbname) as conn:\n",
    "        cursor=conn.cursor()\n",
    "        sql='select * from mknews where nkey=\"'+d[6]+'\"'\n",
    "        res=cursor.execute(sql).fetchall()\n",
    "        if(len(res)>0):\n",
    "            print(\"이미 존재 합니다.:\"+d[1])\n",
    "        else:\n",
    "            sql='select * from mknews where ntitle=\"'+d[1]+'\"'\n",
    "            res=cursor.execute(sql).fetchall()\n",
    "            if(len(res)>0):\n",
    "                print(\"이미 존재 합니다.:\"+d[1])\n",
    "            else:\n",
    "                sql='select * from mknews where ntext=\"'+d[5]+'\"'\n",
    "                res=cursor.execute(sql).fetchall()\n",
    "                if(len(res)>0):\n",
    "                    print(\"이미 존재 합니다.:\"+d[1])\n",
    "                else:\n",
    "                    sql='insert into mknews (ncate,ntitle,ncomp,ndate,nurl,ntext,nkey) values(?,?,?,?,?,?,?)'\n",
    "                    res=cursor.execute(sql,d)\n",
    "                    print('.',end='')"
   ]
  },
  {
   "cell_type": "code",
   "execution_count": 4,
   "metadata": {
    "ExecuteTime": {
     "end_time": "2021-03-22T03:22:30.935713Z",
     "start_time": "2021-03-22T03:19:53.307066Z"
    }
   },
   "outputs": [
    {
     "name": "stdout",
     "output_type": "stream",
     "text": [
      "10개씩\n",
      "10개씩\n",
      "10개씩\n",
      "10개씩\n",
      "10개씩\n",
      "10개씩\n",
      "10개씩\n",
      "10개씩\n",
      "10개씩\n",
      "10개씩\n",
      "10개씩\n",
      "10개씩\n",
      "10개씩\n",
      "10개씩\n",
      "10개씩\n",
      "10개씩\n",
      "10개씩\n",
      "10개씩\n",
      "10개씩\n",
      "10개씩\n",
      "10개씩\n",
      "10개씩\n",
      "10개씩\n",
      "10개씩\n",
      "10개씩\n",
      "10개씩\n",
      "10개씩\n",
      "10개씩\n",
      "10개씩\n",
      "10개씩\n"
     ]
    }
   ],
   "source": [
    "headers={'authority': \"search.naver.com\",\n",
    "             \"method\": \"GET\",\n",
    "             \"path\": '/search.naver?&where=news&query=%EC%95%84%EB%AA%A8%EB%A0%88%ED%8D%BC%EC%8B%9C%ED%94%BD&sm=tab_pge&sort=1&photo=0&field=0&reporter_article=&pd=0&ds=&de=&docid=&nso=so:dd,p:all,a:all&mynews=1&start=11&refresh_start=0',\n",
    "             \"scheme\": \"https\",\n",
    "             \"accept\": \"text/html,application/xhtml+xml,application/xml;q=0.9,image/avif,image/webp,image/apng,*/*;q=0.8,application/signed-exchange;v=b3;q=0.9\",\n",
    "             \"accept-encoding\": \"gzip, deflate, br\",\n",
    "             \"accept-language\": \"ko,en-US;q=0.9,en;q=0.8\",\n",
    "             \"cache-control\": \"max-age=0\",\n",
    "             \"cookie\": \"NNB=AEP7EKDQOVCWA; nx_ssl=2; nid_inf=740873661; NID_AUT=hRvGg8ABo6CAUZLNPau2fqKxSOI2Jm6Sk+xfNTpcuMrE8CUUKSPnRkCEbBEJ+eVV; NID_JKL=LQqDnEnSrpuFc9mJHiiqLGNZShX8/8HeQ5sb63lKCb4=; _ga=GA1.2.1521198919.1615261089; ASID=3a4c8213000001782476ee550000005d; NDARK=Y; nso_open=1; news_my_status=1; news_office_checked=1009; NID_SES=AAABtTIZqPJJhx7ulMXz7TSiGa65nV5WjcMWlBPTcle4SCqq5iyyQv5OXhWgNeoZzNxr2krcrw4X8ppKBCmJCM6TUV/RlEVDDDQzJpVzDeQytD1qzNEwn/qI1T2uDc/TotacqB9L7qQfr3gE19wsZH2GKIkvMkQrgNfer8VXc0hQrWyBfzaoFuCrivQMl55JlC/Ink5gXsHjZGyrVSPgc4hRMD849sgUS+WpmULuRtWiwKYTHP1CzDYWBs65DZvu3xrDsX4PfJGC0jX73c1fBHQjAG/waO1U64WsrEHielRPB7LKVa3FhXiTcQ+J7u4gviO9rZG7sUUlC5zkhC+GdtuTLegG3bfC/MYiBBXRABpqj0MLCF2+GNQ8TV3xj9mxLSkXqCF5nRvTvp7tbDSf1WdzZpM/fvPBbwdwCBU5V4uFNS9KB1NjLdxLGBXeYX4e/VpmUMxmvGqN3QvG3amP7FNRGA5byX1KqqMk4YuqOAF8CkBjjZVS8ww/rz3KsZdYT9mHUU5yckBDgdCGm+63b7YGxAOQJJ15oPQpBD0yhnj8mZeGtTV6ruXDlNnRvOr99VsTN3S+p4A7uFKiCGCFI5SJA8A=; page_uid=haKcDsp0JywssNl/e8GssssssRo-223963; _naver_usersession_=vieuFR5fdoU74Bj3g41WIw==; BMR=s=1616054353349&r=https%3A%2F%2Fm.blog.naver.com%2FPostView.nhn%3FblogId%3Dkiddwannabe%26logNo%3D221185808375%26proxyReferer%3Dhttps%3A%252F%252Fwww.google.com%252F&r2=https%3A%2F%2Fwww.google.com%2F\",\n",
    "             \"sec-ch-ua-mobile\": \"?0\",\n",
    "             \"sec-fetch-dest\": \"document\",\n",
    "             \"sec-fetch-mode\": \"navigate\",\n",
    "             \"sec-fetch-site\": \"none\",\n",
    "             \"sec-fetch-user\": \"?1\",\n",
    "             \"upgrade-insecure-requests\": \"1\",\n",
    "             \"user-agent\": \"Mozilla/5.0 (Windows NT 10.0; Win64; x64) AppleWebKit/537.36 (KHTML, like Gecko) Chrome/89.0.4389.90 Safari/537.36\"}\n",
    "c=1\n",
    "for y in range(1,301,10):\n",
    "    url='https://search.naver.com/search.naver?&where=news&query=%EC%95%84%EB%AA%A8%EB%A0%88%ED%8D%BC%EC%8B%9C%ED%94%BD&sm=tab_pge&sort=1&photo=0&field=0&reporter_article=&pd=0&ds=&de=&docid=&nso=so:dd,p:all,a:all&mynews=1&start={}&refresh_start=0'.format(y)\n",
    "    res=requests.get(url,headers=headers)\n",
    "    src=res.content.strip()\n",
    "    html =bsp(src,'html.parser')\n",
    "    tgts=html.select('ul.list_news > li')\n",
    "    print('10개씩')\n",
    "    for tgt in tgts:\n",
    "        try:\n",
    "            mainarti=tgt.select('div.news_wrap')\n",
    "            url=mainarti[0].select('a.news_tit')[0]['href']\n",
    "            res=requests.get(url,headers={'User-Agent':\"Mozilla/5.0 (Windows NT 10.0; Win64; x64) AppleWebKit/537.36 (KHTML, like Gecko) Chrome/89.0.4389.90 Safari/537.36\"})\n",
    "            src=res.content.strip()\n",
    "            #key=makeKey(url)\n",
    "            html =bsp(src,'html.parser')\n",
    "            try:\n",
    "                title1=html.find(attrs={'class':'top_title'}).text\n",
    "                title2=html.find(attrs={'class':'sub_title1_new'}).text\n",
    "                title=title1+' '+title2\n",
    "                title=title.strip()\n",
    "            except:\n",
    "                pass\n",
    "            try:\n",
    "                time=html.find(attrs={'class':'lasttime'}).text\n",
    "                time=re.sub('수정.*','',time).replace('입력 :','').replace('\\xa0','').strip()\n",
    "            except:\n",
    "                pass\n",
    "            content=html.find_all(attrs={'class':'art_txt'})\n",
    "            if len(content)>1:\n",
    "#                 content=content.replace('\\n',\"\").replace('\\t',\"\").replace('\\r',\"\").replace('△',\"\").replace('■',\"\").replace('▶',\"\")\n",
    "#                 content=content.replace('◆',\"\").replace('◇',\"\").replace('<',\" \").replace('>',\" \").replace('□',\" \")\n",
    "#                 content=content.replace('▲',\"\").replace(\"'\",\" \").replace(\"'\",\" \").replace(\"ㆍ\",\" \").replace(\"(주)\",\"\")\n",
    "#                 content=content.replace('㈜',\"\").replace('(사)',\"\").replace('…',\" \").replace('○',\" \").replace('   ',\"\")\n",
    "#                 content=content.replace('  ',\"\")\n",
    "#                 content=re.sub('window.*','',content)\n",
    "#                 content=re.sub('googletag.*;','',content)\n",
    "#                 content=re.sub('\\[.*?\\]','',content)\n",
    "#                 #content=re.sub('(.*?)','',content)\n",
    "#                 content=re.sub('◆.*?◆','',content)\n",
    "#                 content=content.replace('▶ 여기를 누르시면 크게 보실 수 있습니다','').replace(\"  \",\" \")\n",
    "#                 content=content.strip().strip('-')\n",
    "                comp='매일경제'\n",
    "                opt=1\n",
    "            #print(c)\n",
    "                print(content)\n",
    "            #c+=1\n",
    "            #d=(opt,title,comp,time,url,content,key)\n",
    "            #insMain(d)\n",
    "        except:\n",
    "            pass"
   ]
  },
  {
   "cell_type": "code",
   "execution_count": null,
   "metadata": {},
   "outputs": [],
   "source": []
  },
  {
   "cell_type": "code",
   "execution_count": null,
   "metadata": {},
   "outputs": [],
   "source": []
  }
 ],
 "metadata": {
  "kernelspec": {
   "display_name": "Python 3",
   "language": "python",
   "name": "python3"
  },
  "language_info": {
   "codemirror_mode": {
    "name": "ipython",
    "version": 3
   },
   "file_extension": ".py",
   "mimetype": "text/x-python",
   "name": "python",
   "nbconvert_exporter": "python",
   "pygments_lexer": "ipython3",
   "version": "3.8.5"
  },
  "toc": {
   "base_numbering": 1,
   "nav_menu": {},
   "number_sections": true,
   "sideBar": true,
   "skip_h1_title": false,
   "title_cell": "Table of Contents",
   "title_sidebar": "Contents",
   "toc_cell": false,
   "toc_position": {},
   "toc_section_display": true,
   "toc_window_display": false
  },
  "varInspector": {
   "cols": {
    "lenName": 16,
    "lenType": 16,
    "lenVar": 40
   },
   "kernels_config": {
    "python": {
     "delete_cmd_postfix": "",
     "delete_cmd_prefix": "del ",
     "library": "var_list.py",
     "varRefreshCmd": "print(var_dic_list())"
    },
    "r": {
     "delete_cmd_postfix": ") ",
     "delete_cmd_prefix": "rm(",
     "library": "var_list.r",
     "varRefreshCmd": "cat(var_dic_list()) "
    }
   },
   "types_to_exclude": [
    "module",
    "function",
    "builtin_function_or_method",
    "instance",
    "_Feature"
   ],
   "window_display": false
  }
 },
 "nbformat": 4,
 "nbformat_minor": 4
}
