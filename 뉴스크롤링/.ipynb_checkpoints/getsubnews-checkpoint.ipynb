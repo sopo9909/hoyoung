{
 "cells": [
  {
   "cell_type": "markdown",
   "metadata": {},
   "source": [
    "### 수집된 포털 정보기반 딥크롤링\n",
    "* 기존에 수집된 정보를 바탕으로 매체별 크롤링\n",
    "* 다양한 서브 데이터의 정형화\n",
    "* URL 기반의 다양한 크롤링 기법 사용"
   ]
  },
  {
   "cell_type": "markdown",
   "metadata": {},
   "source": [
    "### 분석요소\n",
    "* 제목 :\n",
    "* 내용  :\n",
    "* 작성일 :\n",
    "* 매체: \n",
    "* 작성자:\n"
   ]
  },
  {
   "cell_type": "markdown",
   "metadata": {},
   "source": [
    "### 기존 수집 데이터 활용\n"
   ]
  },
  {
   "cell_type": "code",
   "execution_count": 46,
   "metadata": {},
   "outputs": [],
   "source": [
    "import numpy as np\n",
    "import pandas as pd\n",
    "import requests\n",
    "from bs4 import BeautifulSoup as bsp\n",
    "import matplotlib\n",
    "import matplotlib.pyplot as plt\n",
    "import sqlite3\n",
    "import re\n",
    "from datetime import datetime, timedelta,date\n",
    "import sys"
   ]
  },
  {
   "cell_type": "code",
   "execution_count": 47,
   "metadata": {},
   "outputs": [],
   "source": [
    "def calcDate(txt=''):\n",
    "    #print(txt)\n",
    "    rdate=''\n",
    "    nowd=datetime.now()\n",
    "    pattern='[^\\d]'\n",
    "    num=int(re.sub(pattern,'',txt))\n",
    "    if('일' in txt):\n",
    "        res=nowd + timedelta(days=num*-1)\n",
    "    elif('.' in txt):\n",
    "        ds=txt.replace('.','-')\n",
    "        #print(ds)\n",
    "        res=ds+' 00:00:00.000000'\n",
    "    else:\n",
    "        res=nowd + timedelta(hours=num*-1)\n",
    "    return res"
   ]
  },
  {
   "cell_type": "code",
   "execution_count": 48,
   "metadata": {},
   "outputs": [
    {
     "data": {
      "text/plain": [
       "'2021-2-1 00:00:00.000000'"
      ]
     },
     "execution_count": 48,
     "metadata": {},
     "output_type": "execute_result"
    }
   ],
   "source": [
    "calcDate('2021.2.1')"
   ]
  },
  {
   "cell_type": "code",
   "execution_count": 49,
   "metadata": {},
   "outputs": [],
   "source": [
    "def makeKey(txt=''):\n",
    "    txt_=re.sub('http\\S*//',' ',txt)\n",
    "    key=re.sub('[^a-zA-Z0-9%]','',txt_)\n",
    "    return key"
   ]
  },
  {
   "cell_type": "code",
   "execution_count": 67,
   "metadata": {},
   "outputs": [],
   "source": [
    "def getData(whr=' where nstat=0'):\n",
    "    dbname='navernews.db'\n",
    "    with sqlite3.connect(dbname) as conn:\n",
    "        cursor=conn.cursor()\n",
    "        sql='select nidx,ncomp,nurl from nnews '+whr\n",
    "        res=cursor.execute(sql).fetchall()\n",
    "    return(res)"
   ]
  },
  {
   "cell_type": "raw",
   "metadata": {},
   "source": [
    "sidx\n",
    "stitle\n",
    "swriter\n",
    "sday\n",
    "sarticle\n",
    "smidx\n",
    "scomp\n",
    "surl\n",
    "skey"
   ]
  },
  {
   "cell_type": "code",
   "execution_count": 51,
   "metadata": {},
   "outputs": [],
   "source": [
    "def setStat(index=0,stat=0):\n",
    "    dbname='navernews.db'\n",
    "    with sqlite3.connect(dbname) as conn:\n",
    "        cursor=conn.cursor()\n",
    "        sql='update nnews set nstat={1} where nidx={0}'.format(index,stat)\n",
    "        res=cursor.execute(sql)\n",
    "        if (stat==1):\n",
    "            print('-',end='')\n",
    "        else:\n",
    "            print('=',end='')"
   ]
  },
  {
   "cell_type": "code",
   "execution_count": 52,
   "metadata": {},
   "outputs": [
    {
     "name": "stdout",
     "output_type": "stream",
     "text": [
      "-"
     ]
    }
   ],
   "source": [
    "setStat(67,1)"
   ]
  },
  {
   "cell_type": "code",
   "execution_count": 65,
   "metadata": {},
   "outputs": [],
   "source": [
    "\n",
    "def insSub(d):\n",
    "    dbname='navernews.db'\n",
    "    if(len(d)==7):\n",
    "        d.append(makeKey(d[6]))\n",
    "    else:\n",
    "        print(d)\n",
    "    with sqlite3.connect(dbname) as conn:\n",
    "        cursor=conn.cursor()\n",
    "        sql='select * from subnews where skey=\"'+d[7]+'\"'\n",
    "        res=cursor.execute(sql).fetchall()\n",
    "        if(len(res)>0):\n",
    "            print(\"이미 존재 합니다.:\"+d[0])\n",
    "        else:\n",
    "            sql='insert into subnews (stitle,swriter,sday,sarticle,smidx,scomp,surl,skey) values(?,?,?,?,?,?,?,?)'\n",
    "            res=cursor.execute(sql,d)\n",
    "            print('.',end='')\n",
    "        "
   ]
  },
  {
   "cell_type": "code",
   "execution_count": 55,
   "metadata": {},
   "outputs": [],
   "source": [
    "def getAsia(urls):\n",
    "    setStat(urls[0],1)# 크롤링 시작 업데이트\n",
    "    url=urls[2]\n",
    "    res=requests.get(url)\n",
    "    src=res.content.strip()\n",
    "    htmls=bsp(src,'html.parser')\n",
    "    title_block=htmls.select('div.area_title')[0]\n",
    "    wtitle=title_block.select('h3')[0].text.strip()\n",
    "    writer=htmls.select('.article_view > .article .e_article')[0].text.strip()\n",
    "    wday_=title_block.select('p.user_data')\n",
    "    wday=str(wday_).split('</strong>')[-1].replace('</p>]','').replace('.','-').strip()\n",
    "    #print(wday)\n",
    "    article_=htmls.select('.article_view > .article ')[0]\n",
    "    pattern='<!-- 본문// -->[\\S\\s]*'\n",
    "    article__=re.sub(pattern,' ',str(article_))\n",
    "    warticle=bsp(article__,'html.parser').text.strip()\n",
    "    #print(warticle)\n",
    "    \"\"\"\n",
    "    pattern='<script[^>]*>((\\n|\\r|.)*?)<\\/script>'\n",
    "    article__=re.sub(pattern,' ',str(article_))\n",
    "    \"\"\"\n",
    "    return [wtitle,writer,wday,warticle,urls[0],urls[1],urls[2]]\n",
    "    #return [wtitle,wday,urls[0],urls[1],urls[2]]\n",
    "urls=(69, '아시아경제', 'https://view.asiae.co.kr/article/2021031715545233623')\n",
    "#print(getAsia(urls))"
   ]
  },
  {
   "cell_type": "code",
   "execution_count": 56,
   "metadata": {},
   "outputs": [],
   "source": [
    "def getDonga(urls):\n",
    "    setStat(urls[0],1)# 크롤링 시작 업데이트\n",
    "    url=urls[2]\n",
    "    res=requests.get(url)\n",
    "    src=res.content.strip()\n",
    "    htmls=bsp(src,'html.parser')\n",
    "    title_block=htmls.select('div.article_title')[0]\n",
    "    wtitle=title_block.select('h1.title')[0].text.strip()\n",
    "    writer=title_block.select('span.report')[0].text.replace('동아닷컴 기자','').strip()\n",
    "    wday=title_block.select('span.date01')[-1].text.strip()\n",
    "    article_=htmls.select('div.article_txt')[0]\n",
    "    pattern='<script[^>]*>((\\n|\\r|.)*?)<\\/script>'\n",
    "    article__=re.sub(pattern,' ',str(article_))\n",
    "    pattern='<div id=\"bestnews_layer\">.*'\n",
    "    article__=re.sub(pattern,' ',str(article__))\n",
    "    warticle=bsp(article__,'html.parser').text\n",
    "    return [wtitle,writer,wday,warticle,urls[0],urls[1],urls[2]]"
   ]
  },
  {
   "cell_type": "code",
   "execution_count": 57,
   "metadata": {},
   "outputs": [],
   "source": [
    "def getDona(url):\n",
    "    res=requests.get(url)\n",
    "    src=res.content.strip()\n",
    "    htmls=bsp(src,'html.parser')\n",
    "    print(url)\n",
    "    title_block=htmls.select('div.article_title')\n",
    "    if(len(tgts)==0):\n",
    "        print('데이터가 없습니다.'+url)\n",
    "        sys.exit(1)\n",
    "    for tgt in tgts:\n",
    "        mainarti=tgt.select('div.news_wrap')\n",
    "        subartis=tgt.select('ul.list_cluster > li.sub_bx')\n",
    "        if(len(mainarti)>0):\n",
    "            title_= mainarti[0].select('a.news_tit')[0].text\n",
    "            title=re.sub('[^ㄱ-힣0-9 a-zA-Z]',' ',title_)\n",
    "            comp=mainarti[0].select('.info.press')[0].text.replace('언론사 선정','')\n",
    "            date_=mainarti[0].select('span.info')[0].text.replace('시간 전','')\n",
    "            date=calcDate(date_)\n",
    "            url=mainarti[0].select('a.news_tit')[0]['href']\n",
    "            key=makeKey(url)\n",
    "            opt=1\n",
    "            d=(opt,title,comp,date,url,key)\n",
    "            insMain(d)\n",
    "            for subarti in subartis:\n",
    "                title_= subarti.select('a.sub_tit')[0].text\n",
    "                title=re.sub('[^ㄱ-힣0-9 a-zA-Z]',' ',title_)\n",
    "                comp=subarti.select('.sub_txt.press')[0].text.replace('언론사 선정','')\n",
    "                date_=subarti.select('span.sub_txt')[0].text.replace('시간 전','').replace('네이버뉴스','')\n",
    "                date=calcDate(date_)\n",
    "                url=subarti.select('a.sub_tit')[0]['href']\n",
    "                key=makeKey(url)\n",
    "                opt=2\n",
    "                d=(opt,title,comp,date,url,key)\n",
    "                insMain(d)\n",
    "\n"
   ]
  },
  {
   "cell_type": "markdown",
   "metadata": {},
   "source": [
    "### 비동기 웹페이지 크롤링\n",
    "* 크롬 드라이버 활용\n",
    "* 다운로드: https://sites.google.com/a/chromium.org/chromedriver/downloads\n",
    "* 해당 크롬 버전에 맞는 드라이버 다운로드\n",
    "* pip install selenium\n"
   ]
  },
  {
   "cell_type": "raw",
   "metadata": {},
   "source": [
    "!pip install selenium"
   ]
  },
  {
   "cell_type": "code",
   "execution_count": 59,
   "metadata": {},
   "outputs": [],
   "source": [
    "from selenium import webdriver\n",
    "from bs4 import BeautifulSoup as bsp"
   ]
  },
  {
   "cell_type": "code",
   "execution_count": 60,
   "metadata": {},
   "outputs": [],
   "source": [
    "dpath='D:\\ASIA\\chromedriver'\n",
    "driver= webdriver.Chrome(dpath)"
   ]
  },
  {
   "cell_type": "code",
   "execution_count": 61,
   "metadata": {},
   "outputs": [],
   "source": [
    "url='https://www.chosun.com/economy/market_trend/2021/03/17/7O5JTHZSJVAJBFMUWNJGK22XUA/?utm_source=naver&utm_medium=referral&utm_campaign=naver-news'\n",
    "urls=[327,'조선일보',url]"
   ]
  },
  {
   "cell_type": "code",
   "execution_count": 62,
   "metadata": {},
   "outputs": [],
   "source": [
    "def getChosun(urls):\n",
    "    setStat(urls[0],1)# 크롤링 시작 업데이트\n",
    "    url=urls[2]\n",
    "    driver.get(url)\n",
    "    driver.implicitly_wait(3)\n",
    "    html=driver.page_source\n",
    "    src=bsp(html,'html.parser')\n",
    "    wtitle=src.select('h1.article-header__headline')[0].text\n",
    "    writer=src.select('a.article-byline__author')[0].text.replace('기자','').strip()\n",
    "    wdate_=src.select('div.article-dateline')[0].text.split(\"|\")[-1]\n",
    "    wday=wdate_.replace('수정','').replace('.','-').strip()+':00'\n",
    "    warticle=src.select('section.article-body')[0].text.replace('\\xad','')\n",
    "    #urls: main index,company,url"
   ]
  },
  {
   "cell_type": "code",
   "execution_count": 63,
   "metadata": {},
   "outputs": [
    {
     "name": "stdout",
     "output_type": "stream",
     "text": [
      "-None\n"
     ]
    }
   ],
   "source": [
    "res=getChosun(urls)\n",
    "print(res)"
   ]
  },
  {
   "cell_type": "code",
   "execution_count": 66,
   "metadata": {},
   "outputs": [
    {
     "name": "stdout",
     "output_type": "stream",
     "text": [
      "--------------------------------------------------\n",
      "-.=['신세계 정용진 지난해 연봉 33억…코로나19 영향으로 일부 감소', '김혜린', '수정 2021-03-17 14:45', '\\n신세계그룹 제공 정용진 신세계그룹 부회장이 지난해 연봉으로 33억 6800만 원을 받았다. 신세계 그룹 총수 일가는 총 142억 원을 수령했다.17일 신세계·이마트 사업보고서에 따르면 정 부회장은 지난해 이마트에서 총 33억 6800만 원을 받았다. 급여 20억 3400만 원과 상여 13억 3400만 원이다.이마트 측은 “어려운 대내외 경영 환경 속에서도 매출액 14조 2138억 원과 영업이익 2950억 원을 달성한 점을 고려했다”고 밝혔다.\\n\\n동생 정유경 신세계 총괄사장은 급여와 상여금 각각 17억 9400만 원, 11억 6600만 원으로 총 29억 6000만 원을 수령했다.\\n주요기사\\n\\n산사태까지 난 땅…용인시 공무원 매입 11일뒤 ‘특구’ 발표원로가 전한 시대정신과 인재론‘윤석열의 정치’ 보인다\\n\\n신세계 측은 “기존 백화점 경쟁력 강화로 어려운 대내외 환경 속에서도 영업이익 1268억 원을 달성한 점을 고려했다”고 전했다. 정 부회장과 정 총괄사장 모두 연봉이 전년 대비 감소한 것으로 나타났다. 정 부회장은 약 1억 9400만 원, 정 총괄사장은 1억 5400만 원가량을 덜 받았다. 이는 신종 코로나바이러스 감염증(코로나19) 사태로 실적이 감소한 영향으로 보인다.이명희 신세계그룹 회장은 이마트에서 26억 9300만 원, 신세계에서 12억 6100만 원으로 총 39억 5400만 원을 받았다. 정재은 명예회장도 이와 동일한 연봉을 수령했다.김혜린 동아닷컴 기자 sinnala8@donga.com\\n', 67, '동아일보', 'https://www.donga.com/news/article/all/20210317/105923783/2', 'wwwdongacomnewsarticleall202103171059237832']\n",
      "--------------------------------------------------\n",
      "\n",
      "--------------------------------------------------\n",
      "-.=['신세계 총수 일가 지난해 연봉 142억원…정용진 33억·정유경 29억', '임춘한 기자 choon@asiae.co.kr', '2021-03-17 15:53', '정용진 신세계그룹 부회장. [이미지출처=연합뉴스]\\n\\n\\n썝蹂몃낫湲 븘씠肄\\n\\n[아시아경제 임춘한 기자] 신세계그룹 총수 일가가 지난해 신세계와 이마트로부터 142억원 가량을 보수로 받은 것으로 나타났다.17일 신세계와 이마트의 사업보고서에 따르면 정용진 신세계그룹 부회장은 지난해 이마트에서 급여 20억3400만원, 명절 상여와 성과급 등이 더해진 상여 13억3400만원 등 총 33억6800만원을 받았다.\\t\\n\\n정유경 신세계 총괄사장은 신세계에서 급여 17억9400만원, 상여로 11억6600만원 등 총 29억6000만원을 받았다.정 부회장의 연봉은 2019년(35억6200만원)보다 1억9400만원 줄었다. 정 총괄사장의 연봉 역시 2019년(31억1400만원) 대비 1억5400만원 감소했다.정 부회장과 정 총괄사장의 모친인 이명희 신세계그룹 회장은 지난해 신세계에서 12억6100만원, 이마트에서 26억9300만원 등 총 39억5400만원을 연봉으로 받았고, 이 회장의 남편인 정재은 신세계그룹 명예회장도 같은 액수를 수령했다.\\t\\n\\n신세계그룹 관계자는 정 부회장과 정 총괄사장의 연봉이 전년 대비 감소한 이유에 대해 \"코로나19으로 업황에 영향이 있다 보니 회사의 실적과 연동되는 상여가 줄면서 보수가 감소했다\"고 말했다.', 69, '아시아경제', 'https://view.asiae.co.kr/article/2021031715545233623', 'viewasiaecokrarticle2021031715545233623']\n"
     ]
    }
   ],
   "source": [
    "allurl=getData()\n",
    "allurl[:5]\n",
    "for urls in allurl[:3]:\n",
    "    print('-'*50)\n",
    "    wdata=''\n",
    "    #print(nidx,ncomp,turl)\n",
    "    if urls[1]==\"동아일보\":\n",
    "        wdata=getDonga(urls)\n",
    "        insSub(wdata)\n",
    "        setStat(urls[0],2)# 크롤링 시작 업데이트\n",
    "    elif urls[1]==\"아시아경제\":\n",
    "        wdata=getAsia(urls)\n",
    "        insSub(wdata)\n",
    "        setStat(urls[0],2)# 크롤링 시작 업데이트\n",
    "    elif urls[1]==\"조선일보\":\n",
    "        wdata=getChosun(urls)\n",
    "        insSub(wdata)\n",
    "        setStat(urls[0],2)# 크롤링 시작 업데이트\n",
    "    print(wdata)\n",
    "    "
   ]
  },
  {
   "cell_type": "code",
   "execution_count": null,
   "metadata": {},
   "outputs": [],
   "source": [
    "#머니투데이 \n",
    "url='https://news.mt.co.kr/mtview.php?no=2021032109384124319'\n",
    "res=requests.get(url,headers={'User-Agent':'Mozilla/5.0'})\n",
    "src=res.content.strip()\n",
    "html =bsp(src,'html.parser')\n",
    "title=html.find(attrs={'class':'subject'}).text\n",
    "subtitle=html.find(attrs={'class':'subtitles'}).text\n",
    "date=html.find(attrs={'class':'dates'}).text\n",
    "title=title.replace(subtitle,'').replace(date,'').replace('\\n','').replace('…','')\n",
    "date=re.sub('수정.*','',date).replace('\\n','').replace('가','').replace('등록 ','')\n",
    "content=html.find(attrs={'class':'news_body'}).text\n",
    "try:\n",
    "    caption=html.find(attrs={'class':'caption'}).text\n",
    "    content=content.replace(caption,\"\")\n",
    "except:\n",
    "    pass\n",
    "try:\n",
    "    caption2=html.find(attrs={'id':'dablewidget_xlzQ0A7Z'}).text\n",
    "    content=content.replace(caption2,\"\")\n",
    "except:\n",
    "    pass\n",
    "try:\n",
    "    r1=html.find(attrs={'class':'view_ad02'}).text\n",
    "    content=content.replace(r1,\"\")\n",
    "except:\n",
    "    pass\n",
    "try:\n",
    "    r2=html.find(attrs={'class':'view_ad01'}).text\n",
    "    content=content.replace(r2,\"\")\n",
    "except:\n",
    "    pass\n",
    "try:\n",
    "    r3=html.find(attrs={'class':'ad_texbanner'}).text\n",
    "    content=content.replace(r3,\"\")\n",
    "except:\n",
    "    pass\n",
    "content=content.replace('\\n',\"\").replace('\\t',\"\").replace('\\r',\"\").replace('△',\"\").replace('■',\"\").replace('▶',\"\")\n",
    "content=content.replace('◆',\"\").replace('◇',\"\").replace('<',\" \").replace('>',\" \").replace('□',\" \")\n",
    "content=content.replace('▲',\"\").replace(\"'\",\" \").replace(\"'\",\" \").replace(\"ㆍ\",\" \").replace(\"(주)\",\"\")\n",
    "content=content.replace('㈜',\"\").replace('(사)',\"\").replace('…',\" \").replace('○',\" \").replace('   ',\"\")\n",
    "content=content.replace('\\v',\"\").replace('  ',\"\").replace('▶',\"\")\n",
    "content=re.sub('window.*','',content)\n",
    "content=re.sub('googletag.*;','',content)\n",
    "content=re.sub('\\[.*?\\]','',content)\n",
    "content=re.sub('\\{.*?\\}','',content)\n",
    "content=re.sub('\\(.*?\\)','',content)\n",
    "content=re.sub('◆.*?◆','',content)\n",
    "content=content.replace('▶ 여기를 누르시면 크게 보실 수 있습니다','').replace(\"  \",\" \")\n",
    "content=content.strip().strip('-')"
   ]
  },
  {
   "cell_type": "code",
   "execution_count": 2,
   "metadata": {
    "ExecuteTime": {
     "end_time": "2021-03-22T07:46:03.884524Z",
     "start_time": "2021-03-22T07:46:02.948934Z"
    }
   },
   "outputs": [],
   "source": [
    "import numpy as np\n",
    "import pandas as pd\n",
    "import requests\n",
    "from bs4 import BeautifulSoup as bsp\n",
    "import matplotlib\n",
    "import matplotlib.pyplot as plt\n",
    "import sqlite3\n",
    "import re"
   ]
  },
  {
   "cell_type": "code",
   "execution_count": 12,
   "metadata": {
    "ExecuteTime": {
     "end_time": "2021-03-22T07:48:39.489033Z",
     "start_time": "2021-03-22T07:48:38.923184Z"
    }
   },
   "outputs": [],
   "source": [
    "#머니투데이 \n",
    "url='https://news.mt.co.kr/mtview.php?no=2021032109384124319'\n",
    "res=requests.get(url,headers={'User-Agent':'Mozilla/5.0'})\n",
    "src=res.content.strip()\n",
    "html =bsp(src,'html.parser')\n",
    "title=html.find(attrs={'class':'subject'}).text\n",
    "date=html.find(attrs={'class':'date'}).text\n",
    "date=date+':00'\n",
    "content=html.find(attrs={'id':'textBody'}).text\n",
    "try:\n",
    "    content2=html.find(attrs={'class':'article_photo center'}).text\n",
    "    content=content.replace(content2,'')\n",
    "except:\n",
    "    pass\n",
    "content=content.replace('\\n',\"\").replace('\\t',\"\").replace('\\r',\"\").replace('△',\"\").replace('■',\"\").replace('▶',\"\")\n",
    "content=content.replace('◆',\"\").replace('◇',\"\").replace('<',\" \").replace('>',\" \").replace('□',\" \")\n",
    "content=content.replace('▲',\"\").replace(\"'\",\" \").replace(\"'\",\" \").replace(\"ㆍ\",\" \").replace(\"(주)\",\"\")\n",
    "content=content.replace('㈜',\"\").replace('(사)',\"\").replace('…',\" \").replace('○',\" \").replace('   ',\"\")\n",
    "content=content.replace('\\v',\"\").replace('  ',\"\").replace('▶',\"\")\n",
    "content=re.sub('window.*','',content)\n",
    "content=re.sub('googletag.*;','',content)\n",
    "content=re.sub('\\[.*?\\]','',content)\n",
    "content=re.sub('\\{.*?\\}','',content)\n",
    "content=re.sub('\\(.*?\\)','',content)\n",
    "content=re.sub('◆.*?◆','',content)\n",
    "content=content.replace('▶ 여기를 누르시면 크게 보실 수 있습니다','').replace(\"  \",\" \")\n",
    "content=content.strip().strip('-')"
   ]
  },
  {
   "cell_type": "code",
   "execution_count": 13,
   "metadata": {
    "ExecuteTime": {
     "end_time": "2021-03-22T07:48:39.596707Z",
     "start_time": "2021-03-22T07:48:39.591722Z"
    }
   },
   "outputs": [
    {
     "data": {
      "text/plain": [
       "'쿠팡이 이달 28일까지 37개의 대표 뷰티 브랜드를 모아 봄 정기세일인 ‘뷰티페어’를 진행한다고 21일 밝혔다.쿠팡에 따르면 이번 ‘뷰티페어’ 에서는 환절기 봄 대표 뷰티 상품과 함께 21년 S·S 트렌드에 따른 Top 키워드 상품을 함께 선보인다. 파운데이션, 스모키, 레드립, 환절기 토너, 클렌징티슈, 마스크팩 등 뷰티 아이템을 할인가에 구매할 수 있으며 구매 금액대별 할인 쿠폰도 받을 수 있다.또 이번 행사에는 AHC, 토니모리, 아모레퍼시픽, 바닐라코, 에이지투웨니스 등 국내외 다수의 코스메틱 브랜드가 참여해 행사 기간 내 다양한 인기 뷰티 아이템을 할인가에 선보인다. AHC ‘슈프림 리얼 아이크림’, 록키스 ‘티트리 모이스쳐 크림’, 미팩토리 ‘3단 돼지코팩’ 등을 할인가에 만나볼 수 있다. 할인 쿠폰은 구매 금액별로 총 3회 사용할 수 있다. 1만5000원 이상 구입 시 2000원 할인, 2만5000원 이상 구입 시 5000원 할인, 4만5000원 이상 구입 시 1만원을 할인 받을 수 있다.이병희 쿠팡 리테일 부사장은 “환절기를 맞아 피부 관리에 도움이 될 수 있도록 뷰티페어를 진행하게 됐다”며 “앞으로도 쿠팡은 뷰티 트렌드 제품을 발빠르게 선별해 고객들이 편리한 쇼핑경험을 할 수 있도록 노력할 것”이라고 밝혔다.'"
      ]
     },
     "execution_count": 13,
     "metadata": {},
     "output_type": "execute_result"
    }
   ],
   "source": [
    "content=content.replace(content2,'')\n",
    "content"
   ]
  },
  {
   "cell_type": "code",
   "execution_count": 14,
   "metadata": {
    "ExecuteTime": {
     "end_time": "2021-03-22T07:48:41.125114Z",
     "start_time": "2021-03-22T07:48:41.120127Z"
    }
   },
   "outputs": [
    {
     "data": {
      "text/plain": [
       "'2021.03.21 09:58:00'"
      ]
     },
     "execution_count": 14,
     "metadata": {},
     "output_type": "execute_result"
    }
   ],
   "source": [
    "date"
   ]
  },
  {
   "cell_type": "code",
   "execution_count": null,
   "metadata": {},
   "outputs": [],
   "source": []
  }
 ],
 "metadata": {
  "kernelspec": {
   "display_name": "Python 3",
   "language": "python",
   "name": "python3"
  },
  "language_info": {
   "codemirror_mode": {
    "name": "ipython",
    "version": 3
   },
   "file_extension": ".py",
   "mimetype": "text/x-python",
   "name": "python",
   "nbconvert_exporter": "python",
   "pygments_lexer": "ipython3",
   "version": "3.8.5"
  },
  "toc": {
   "base_numbering": 1,
   "nav_menu": {},
   "number_sections": true,
   "sideBar": true,
   "skip_h1_title": false,
   "title_cell": "Table of Contents",
   "title_sidebar": "Contents",
   "toc_cell": false,
   "toc_position": {},
   "toc_section_display": true,
   "toc_window_display": false
  },
  "varInspector": {
   "cols": {
    "lenName": 16,
    "lenType": 16,
    "lenVar": 40
   },
   "kernels_config": {
    "python": {
     "delete_cmd_postfix": "",
     "delete_cmd_prefix": "del ",
     "library": "var_list.py",
     "varRefreshCmd": "print(var_dic_list())"
    },
    "r": {
     "delete_cmd_postfix": ") ",
     "delete_cmd_prefix": "rm(",
     "library": "var_list.r",
     "varRefreshCmd": "cat(var_dic_list()) "
    }
   },
   "types_to_exclude": [
    "module",
    "function",
    "builtin_function_or_method",
    "instance",
    "_Feature"
   ],
   "window_display": false
  }
 },
 "nbformat": 4,
 "nbformat_minor": 4
}
