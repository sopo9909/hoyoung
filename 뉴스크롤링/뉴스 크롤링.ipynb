{
 "cells": [
  {
   "cell_type": "code",
   "execution_count": null,
   "metadata": {},
   "outputs": [],
   "source": []
  },
  {
   "cell_type": "code",
   "execution_count": 55,
   "metadata": {
    "ExecuteTime": {
     "end_time": "2021-03-17T08:41:39.115892Z",
     "start_time": "2021-03-17T08:41:39.104920Z"
    }
   },
   "outputs": [],
   "source": [
    "url='https://search.naver.com/search.naver?&where=news&query=%EC%8B%A0%EC%84%B8%EA%B3%84&sm=\n",
    "tab_pge&sort=1&photo=0&field=1&reporter_article=&pd=0&ds=&de=&docid=&nso=so:dd,p:all,a:t&mynews=0&start=11&refresh_start=0'"
   ]
  },
  {
   "cell_type": "code",
   "execution_count": 56,
   "metadata": {
    "ExecuteTime": {
     "end_time": "2021-03-17T08:41:40.937752Z",
     "start_time": "2021-03-17T08:41:40.924394Z"
    }
   },
   "outputs": [],
   "source": [
    "import numpy as np\n",
    "import pandas as pd\n",
    "import requests\n",
    "from bs4 import BeautifulSoup as bsp\n",
    "import matplotlib\n",
    "import matplotlib.pyplot as plt\n",
    "import sqlite3"
   ]
  },
  {
   "cell_type": "code",
   "execution_count": 57,
   "metadata": {
    "ExecuteTime": {
     "end_time": "2021-03-17T08:41:43.539405Z",
     "start_time": "2021-03-17T08:41:42.715800Z"
    }
   },
   "outputs": [],
   "source": [
    "res=requests.get(url,headers={'User-Agent':'Mozilla/5.0'})\n",
    "src=res.content.strip()\n",
    "html =bsp(src,'html.parser')"
   ]
  },
  {
   "cell_type": "code",
   "execution_count": 59,
   "metadata": {
    "ExecuteTime": {
     "end_time": "2021-03-17T08:41:50.303384Z",
     "start_time": "2021-03-17T08:41:50.191683Z"
    }
   },
   "outputs": [
    {
     "name": "stdout",
     "output_type": "stream",
     "text": [
      "http://www.sisajournal-e.com/news/articleView.html?idxno=230248\n",
      "http://www.straightnews.co.kr/news/articleView.html?idxno=100112\n",
      "http://www.newstomato.com/ReadNews.aspx?no=1031718\n",
      "http://www.businesspost.co.kr/BP?command=article_view&num=222159\n",
      "http://www.whitepaper.co.kr/news/articleView.html?idxno=203463\n",
      "http://www.startuptoday.co.kr/news/articleView.html?idxno=72065\n",
      "http://www.idsn.co.kr/news/articleView.html?idxno=42722\n",
      "http://www.thereport.co.kr/news/articleView.html?idxno=10379\n",
      "http://www.gukjenews.com/news/articleView.html?idxno=2183094\n"
     ]
    }
   ],
   "source": [
    "tgts=html.find(attrs={'class':'list_news'})\n",
    "list_tgts=tgts.find_all('li')\n",
    "for i in list_tgts:\n",
    "    try:\n",
    "        url=i.find(attrs={'class':'dsc_thumb '})['href']\n",
    "    except:\n",
    "        pass"
   ]
  },
  {
   "cell_type": "code",
   "execution_count": 58,
   "metadata": {
    "ExecuteTime": {
     "end_time": "2021-03-17T08:41:45.392977Z",
     "start_time": "2021-03-17T08:41:45.302182Z"
    }
   },
   "outputs": [
    {
     "name": "stdout",
     "output_type": "stream",
     "text": [
      "      영남일보50분 전 신세계-네이버 지분교환에 신세계인터내셔날만 웃었다   신세계와 네이버가 지분 교환을 통해 국내 온·오프라인 쇼핑 시장 선점에 나서면서 신세계인터내셔날이 주목을 받고 있다. 콘텐츠 제공자로서 소비자 저변 확장뿐 아니라 네이버 브랜드 경쟁력 증대 또한...        시사저널이코노미56분 전 '신세계·SKT·롯데' 이베이코리아 둘러싼 인수전, 누가 품을까   예비입찰에는 신세계그룹(이마트), SK텔레콤, 롯데그룹과 홈플러스 대주주인 경영참여형 사모펀드(PEF)... ◇이베이코리아 인수, 이커머스 3강 구도를 위한 싸움 유력한 후보인 신세계그룹·SK텔레콤·롯데그룹은...        스트레이트뉴스56분 전 정용진 33억·…신세계 총수 일가 작년 연봉 142억원   정용진 신세계그룹 부회장과 정유경 신세계백화점 총괄사장 신세계그룹 총수 일가가 지난해 신세계와 이마트로부터 142억원 가량을 보수로 받은 것으로 나타났다. 17일 신세계와 이마트의 사업보고서에...        뉴스토마토59분 전 신세계 총수 일가 보수 142억..정용진 33억·정유경 29억   뉴스토마토 = 홍연 기자 | 정용진 신세계그룹 부회장. 사진/신세계그룹제공 신세계그룹 총수 일가가 지난해 신세계와 이마트로부터 약 142억원을 보수로 받았다. 17일 신세계와 이마트의 사업보고서에 따르면...        비즈니스포스트1시간 전 식품주 제각각, 신세계푸드 하림 상승 오리온 교촌에프앤비 하락   17일 신세계푸드 주가는 전날보다 2.54%(1900원) 상승한 7만6600원에 거래를 마감했다. 신세계푸드 로고. 하림 주가는 2.22%(65원) 오른 2995원에, 동서 주가는 1.57%(500원) 높아진 3만2400원에 장을 끝냈다....        화이트페이퍼1시간 전 \"광주신세계\" 학대피해 아동 보호 캠페인 수익금 1천만 원 전달한다   출처=신세계 ㈜광주신세계는 3월 한 달간 학대피해아동 보호 캠페인을 통해 마련될 수익금 1천만 원을 17일 광주시 서구청장실에서 전달식을 가졌다고 전했다. 이날 전달식은 서대석 광주 서구청장, 이동훈 광주신세계...        오늘경제1시간 전 증권가, \"신세계그룹-네이버 지분맞교환, 시너지 기대\" 긍정 평가한 까닭은?   오늘경제 신세계그룹과 네이버의 지분 맞교환 제휴에 대해 17일 증권업계는 대체로 양측간 시너지가 기대되는 조합이라며 긍정적인 평가가 쏟아졌다. [사진출처=연합] 신세계그룹과 네이버의 지분 맞교환 제휴에 대해...        매일안전신문1시간 전 신세계그룹-네이버 손 잡았다...유통시장 최강연합의 향후 행보는?   신세계그룹과 네이버가 손을 잡고 물류, 상생 등에 대한 협약을 체결했다. (사진=신세계그룹 제공) 신세계그룹과 네이버가 손을 잡고 물류, 상생 등에 대한 협약을 체결하면서 온·오프라인을 아우르는 유통 시장...        더리포트1시간 전 '광주신세계', 학대피해 아동 보호 캠페인 수익금 1천만 원 전달하여 주목   출처=신세계 ㈜광주신세계는 3월 한 달간 학대피해아동 보호 캠페인을 통해 마련될 수익금 1천만 원을 17일 광주시 서구청장실에서 전달식을 가졌다고 밝혔다. 이날 전달식은 서대석 광주 서구청장, 이동훈 광주신세계...        국제뉴스1시간 전 네이버-신세계그룹, 온오프라인을 아우르는 새로운 커머스 경험 제공한다   16일 오전 JW메리어트 호텔에서 (왼쪽부터) 최인혁 네이버파이낸셜 대표, 한성숙 네이버 대표, 강희석 이마트 대표, 차정호 신세계백화점 대표 네이버와 신세계그룹이 손을 잡고 온라인과 오프라인을 아우르는 새로운...  \n",
      "####\n"
     ]
    }
   ],
   "source": [
    "tgts=html.find_all(attrs={'class':'list_news'})\n",
    "for i in tgts:\n",
    "    print(i.text)\n",
    "    print('####')"
   ]
  },
  {
   "cell_type": "code",
   "execution_count": 52,
   "metadata": {
    "ExecuteTime": {
     "end_time": "2021-03-17T08:16:43.058182Z",
     "start_time": "2021-03-17T08:16:42.878688Z"
    }
   },
   "outputs": [
    {
     "name": "stdout",
     "output_type": "stream",
     "text": [
      "http://www.edaily.co.kr/news/newspath.asp?newsid=01430086628984304\n",
      "이데일리\n",
      "신세계-네이버 주식교환, 최대 수혜는 `신세계인터내셔날`\n",
      " 지난 16일 신세계(004170)그룹과 네이버(035420)간 2500억원 규모의 주식교환 결정에 대해 최고 수혜는 신세계인터내셔날(031430)이 될 것이란 분석이 나왔다. 하누리 정은수 메리츠증권 연구원은 17일 보고서에서 “관계사중... \n",
      "http://yna.kr/AKR20210317071000030?did=1195m\n",
      "연합뉴스\n",
      "정용진 33억·정유경 29억…신세계 총수 일가 작년 연봉 142억원\n",
      " 권혜진 홍유담 기자 = 신세계그룹 총수 일가가 지난해 신세계와 이마트로부터 142억원 가량을 보수로 받은 것으로 나타났다. 17일 신세계와 이마트의 사업보고서에 따르면 정용진 신세계그룹 부회장은 지난해... \n",
      "https://www.nocutnews.co.kr/news/5517384\n",
      "노컷뉴스\n",
      "네이버-신세계 反쿠팡 동맹…로켓배송, 2시간 만에 '쓱' 꺾겠다\n",
      " 네이버와 신세계가 16일 2500억원 규모의 지분 교환 계약을 맺고, 반(反)쿠팡 연합전선을 구축했다. 양사는 온... 신세계그룹은 1500억원 규모의 이마트 자사주와 신세계가 보유한 신세계인터내셔날 주식 1천억원어치를... \n",
      "http://www.fnnews.com/news/202103161656021071\n",
      "파이낸셜뉴스\n",
      "[속보]신세계-네이버 '최강 연합군'…2500억원 규모 지분 교환\n",
      " 신세계그룹과 네이버가 최강 연합군을 결성한다. 신세계그룹은 16일 서울 서초구 JW메리어트 호텔에서 강희석 이마트 대표, 차정호 신세계백화점 대표, 한성숙 네이버 대표, 최인혁 네이버파이낸셜 대표 등 양사 주요... \n",
      "https://biz.chosun.com/site/data/html_dir/2021/03/16/2021031602659.html?utm_source=naver&utm_medium=original&utm_campaign=biz\n",
      "조선비즈\n",
      "신세계, 본점 명품관서 예술품 전시·판매\n",
      " 신세계 본점, 다음달 12일까지 '블라섬 아트페어' 진행 백남준, 김창열, 이우환, 줄리안 오피 등 유명 작가 작품 다수 공개 신세계 강남점에서 예술품 전시·판매 효과를 확인한 신세계백화점이 본점에서 예술품 기획전을... \n",
      "http://news.mt.co.kr/mtview.php?no=2021031617321566809\n",
      "머니투데이\n",
      "쿠팡이 불 지폈다…신세계-네이버 '유통 공룡' 탄생 배경은\n",
      " 신세계그룹과 네이버가 온-오프라인 연합군을 결성했다. 온-오프라인 거래액이 50조원을 넘는 초대형 유통... 신세계그룹과 네이버는 16일 JW메리어트 호텔에서 강희석 이마트 대표, 차정호 신세계백화점 대표, 한성숙... \n",
      "https://www.hankyung.com/it/article/202103172345g\n",
      "한국경제\n",
      "네이버 미래, 알리바바 보면 안다?…신세계와 뭉친 이유\n",
      " 국내 온라인 쇼핑 1위 사업자인 네이버와 오프라인 유통 강자 신세계가 2500억원 규모의 지분 교환 계약을... 네이버 상품 경쟁력 강화하고 빠른 배송 서비스 극대화 17일 정보기술(IT) 업계에 따르면 전날 네이버와 신세계... \n",
      "https://view.asiae.co.kr/article/2021031619072085683\n",
      "아시아경제\n",
      "이베이코리아 예비 입찰, 롯데·신세계·SKT·MBK 등 참여\n",
      " 16일 업계에 따르면 이베이코리아 매각을 위한 예비 입찰에 신세계그룹(이마트), 롯데그룹(롯데쇼핑) 등... 이마트를 앞세운 신세계그룹은 앞서 인수 자문사를 선정하고 IM 검토에 나섰다. 신세계는 실사 등을 통해 기업... \n",
      "http://www.newsis.com/view/?id=NISX20210316_0001372667&cID=13001&pID=13000\n",
      "뉴시스\n",
      "신세계-네이버 혈맹…\"온·오프 유통 최강자 우뚝\"\n",
      " 신세계그룹과 네이버가 지분 교환에 합의하며 공고한 동맹을 맺었다. 소비자들에게 온·오프라인을 아우르는 새로운 경험을 제공한다는 포부다. 신세계그룹은 16일 JW메리어트 호텔에서 커머스, 물류, 멤버십, 상생 등... \n",
      "https://news.sbs.co.kr/news/endPage.do?news_id=N1006244342&plink=ORI&cooper=NAVER\n",
      "SBS\n",
      "이마트 · 신세계, 네이버와 2,500억 지분 교환\n",
      " 이마트와 신세계는 네이버와 2천500억 원 규모의 지분을 맞교환한다고 오늘(16일) 공시했습니다. 이마트는 1천500억 원, 신세계는 1천억 원 규모로 각각 네이버와 상호 지분을 교환하며 이를 통해 양사간 전략적... \n"
     ]
    }
   ],
   "source": [
    "tgts=html.find(attrs={'class':'list_news'})\n",
    "list_tgts=tgts.find_all('li')\n",
    "#pro=list_tgts.find_all(attrs={'class':'news_wrap api_ani_send'})\n",
    "#sub=list_tgts.find_all(attrs={'class':'news_cluster'})\n",
    "for i in list_tgts:\n",
    "    try:\n",
    "        print(i.find(attrs={'class':'dsc_thumb '})['href'])\n",
    "        print(i.find(attrs={'class':'info press'}).text.replace('언론사 선정',''))\n",
    "        #print(i.find(attrs={'class':'info'}).text)\n",
    "        print(i.find(attrs={'class':'news_tit'})['title'])\n",
    "        print(i.find(attrs={'class':'dsc_wrap'}).text)\n",
    "        \n",
    "    except:\n",
    "        pass"
   ]
  },
  {
   "cell_type": "code",
   "execution_count": null,
   "metadata": {},
   "outputs": [],
   "source": []
  }
 ],
 "metadata": {
  "kernelspec": {
   "display_name": "Python 3",
   "language": "python",
   "name": "python3"
  },
  "language_info": {
   "codemirror_mode": {
    "name": "ipython",
    "version": 3
   },
   "file_extension": ".py",
   "mimetype": "text/x-python",
   "name": "python",
   "nbconvert_exporter": "python",
   "pygments_lexer": "ipython3",
   "version": "3.8.5"
  },
  "toc": {
   "base_numbering": 1,
   "nav_menu": {},
   "number_sections": true,
   "sideBar": true,
   "skip_h1_title": false,
   "title_cell": "Table of Contents",
   "title_sidebar": "Contents",
   "toc_cell": false,
   "toc_position": {},
   "toc_section_display": true,
   "toc_window_display": false
  },
  "varInspector": {
   "cols": {
    "lenName": 16,
    "lenType": 16,
    "lenVar": 40
   },
   "kernels_config": {
    "python": {
     "delete_cmd_postfix": "",
     "delete_cmd_prefix": "del ",
     "library": "var_list.py",
     "varRefreshCmd": "print(var_dic_list())"
    },
    "r": {
     "delete_cmd_postfix": ") ",
     "delete_cmd_prefix": "rm(",
     "library": "var_list.r",
     "varRefreshCmd": "cat(var_dic_list()) "
    }
   },
   "types_to_exclude": [
    "module",
    "function",
    "builtin_function_or_method",
    "instance",
    "_Feature"
   ],
   "window_display": false
  }
 },
 "nbformat": 4,
 "nbformat_minor": 4
}
