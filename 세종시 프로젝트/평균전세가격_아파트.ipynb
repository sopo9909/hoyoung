{
 "cells": [
  {
   "cell_type": "code",
   "execution_count": 1,
   "metadata": {
    "ExecuteTime": {
     "end_time": "2021-03-20T08:49:28.970846Z",
     "start_time": "2021-03-20T08:49:28.631807Z"
    }
   },
   "outputs": [],
   "source": [
    "import pandas as pd"
   ]
  },
  {
   "cell_type": "code",
   "execution_count": 2,
   "metadata": {
    "ExecuteTime": {
     "end_time": "2021-03-20T08:49:28.996776Z",
     "start_time": "2021-03-20T08:49:28.985806Z"
    }
   },
   "outputs": [],
   "source": [
    "data=pd.read_csv('평균전세가격_아파트1.csv',encoding='cp949',header=10)"
   ]
  },
  {
   "cell_type": "code",
   "execution_count": 3,
   "metadata": {
    "ExecuteTime": {
     "end_time": "2021-03-20T08:49:29.039662Z",
     "start_time": "2021-03-20T08:49:29.033678Z"
    }
   },
   "outputs": [],
   "source": [
    "jeon=data[data['지 역']=='전국']\n",
    "seoul=data[data['지 역']=='서울']\n",
    "sejong=data[data['지 역']=='세종']"
   ]
  },
  {
   "cell_type": "code",
   "execution_count": 4,
   "metadata": {
    "ExecuteTime": {
     "end_time": "2021-03-20T08:49:29.147374Z",
     "start_time": "2021-03-20T08:49:29.122469Z"
    }
   },
   "outputs": [
    {
     "data": {
      "text/html": [
       "<div>\n",
       "<style scoped>\n",
       "    .dataframe tbody tr th:only-of-type {\n",
       "        vertical-align: middle;\n",
       "    }\n",
       "\n",
       "    .dataframe tbody tr th {\n",
       "        vertical-align: top;\n",
       "    }\n",
       "\n",
       "    .dataframe thead th {\n",
       "        text-align: right;\n",
       "    }\n",
       "</style>\n",
       "<table border=\"1\" class=\"dataframe\">\n",
       "  <thead>\n",
       "    <tr style=\"text-align: right;\">\n",
       "      <th></th>\n",
       "      <th>지 역</th>\n",
       "      <th>Unnamed: 1</th>\n",
       "      <th>Unnamed: 2</th>\n",
       "      <th>2006년</th>\n",
       "      <th>2007년</th>\n",
       "      <th>2008년</th>\n",
       "      <th>2009년</th>\n",
       "      <th>2010년</th>\n",
       "      <th>2011년</th>\n",
       "      <th>2012년</th>\n",
       "      <th>2013년</th>\n",
       "      <th>2014년</th>\n",
       "      <th>2015년</th>\n",
       "      <th>2016년</th>\n",
       "      <th>2017년</th>\n",
       "      <th>2018년</th>\n",
       "      <th>2019년</th>\n",
       "      <th>2020년</th>\n",
       "      <th>2021년</th>\n",
       "    </tr>\n",
       "  </thead>\n",
       "  <tbody>\n",
       "    <tr>\n",
       "      <th>83</th>\n",
       "      <td>세종</td>\n",
       "      <td>NaN</td>\n",
       "      <td>NaN</td>\n",
       "      <td>-</td>\n",
       "      <td>-</td>\n",
       "      <td>-</td>\n",
       "      <td>-</td>\n",
       "      <td>-</td>\n",
       "      <td>-</td>\n",
       "      <td>6204</td>\n",
       "      <td>8158</td>\n",
       "      <td>17004</td>\n",
       "      <td>37627</td>\n",
       "      <td>22996</td>\n",
       "      <td>33096</td>\n",
       "      <td>30294</td>\n",
       "      <td>21667</td>\n",
       "      <td>26273</td>\n",
       "      <td>1210</td>\n",
       "    </tr>\n",
       "  </tbody>\n",
       "</table>\n",
       "</div>"
      ],
      "text/plain": [
       "   지 역 Unnamed: 1 Unnamed: 2 2006년 2007년 2008년 2009년 2010년 2011년 2012년 2013년  \\\n",
       "83  세종        NaN        NaN     -     -     -     -     -     -  6204  8158   \n",
       "\n",
       "    2014년  2015년  2016년  2017년  2018년  2019년  2020년 2021년  \n",
       "83  17004  37627  22996  33096  30294  21667  26273  1210  "
      ]
     },
     "execution_count": 4,
     "metadata": {},
     "output_type": "execute_result"
    }
   ],
   "source": [
    "sejong"
   ]
  },
  {
   "cell_type": "code",
   "execution_count": null,
   "metadata": {},
   "outputs": [],
   "source": []
  }
 ],
 "metadata": {
  "kernelspec": {
   "display_name": "Python 3",
   "language": "python",
   "name": "python3"
  },
  "language_info": {
   "codemirror_mode": {
    "name": "ipython",
    "version": 3
   },
   "file_extension": ".py",
   "mimetype": "text/x-python",
   "name": "python",
   "nbconvert_exporter": "python",
   "pygments_lexer": "ipython3",
   "version": "3.8.5"
  },
  "toc": {
   "base_numbering": 1,
   "nav_menu": {},
   "number_sections": true,
   "sideBar": true,
   "skip_h1_title": false,
   "title_cell": "Table of Contents",
   "title_sidebar": "Contents",
   "toc_cell": false,
   "toc_position": {},
   "toc_section_display": true,
   "toc_window_display": false
  },
  "varInspector": {
   "cols": {
    "lenName": 16,
    "lenType": 16,
    "lenVar": 40
   },
   "kernels_config": {
    "python": {
     "delete_cmd_postfix": "",
     "delete_cmd_prefix": "del ",
     "library": "var_list.py",
     "varRefreshCmd": "print(var_dic_list())"
    },
    "r": {
     "delete_cmd_postfix": ") ",
     "delete_cmd_prefix": "rm(",
     "library": "var_list.r",
     "varRefreshCmd": "cat(var_dic_list()) "
    }
   },
   "types_to_exclude": [
    "module",
    "function",
    "builtin_function_or_method",
    "instance",
    "_Feature"
   ],
   "window_display": false
  }
 },
 "nbformat": 4,
 "nbformat_minor": 4
}
