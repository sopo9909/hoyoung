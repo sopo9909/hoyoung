{
 "cells": [
  {
   "cell_type": "code",
   "execution_count": null,
   "metadata": {},
   "outputs": [],
   "source": []
  },
  {
   "cell_type": "code",
   "execution_count": null,
   "metadata": {
    "ExecuteTime": {
     "end_time": "2021-03-21T07:21:07.008603Z",
     "start_time": "2021-03-21T07:21:05.734766Z"
    }
   },
   "outputs": [],
   "source": [
    "import pandas as pd\n",
    "import matplotlib.pyplot as plt\n",
    "import matplotlib.pyplot as plt\n",
    "import platform\n",
    "from matplotlib import font_manager, rc\n",
    "import seaborn as sns\n",
    "%matplotlib inline \n",
    "plt.rcParams['axes.unicode_minus'] = False\n",
    "if platform.system() == 'Darwin':\n",
    "    rc('font', family = 'AppleGothic')\n",
    "elif platform.system() == 'Windows':\n",
    "    path ='C:/Windows/Fonts/malgun.ttf'\n",
    "    font_name = font_manager.FontProperties(fname=path).get_name()\n",
    "    rc('font', family=font_name)\n",
    "else:\n",
    "    print(\"Can't find your system.\")"
   ]
  },
  {
   "cell_type": "code",
   "execution_count": null,
   "metadata": {
    "ExecuteTime": {
     "end_time": "2021-03-21T07:21:07.064464Z",
     "start_time": "2021-03-21T07:21:07.035494Z"
    }
   },
   "outputs": [],
   "source": [
    "data = pd.read_csv('평균단위매매가격_아파트1.csv',encoding='cp949',header=10)"
   ]
  },
  {
   "cell_type": "code",
   "execution_count": null,
   "metadata": {
    "ExecuteTime": {
     "end_time": "2021-03-21T07:21:07.134234Z",
     "start_time": "2021-03-21T07:21:07.128250Z"
    }
   },
   "outputs": [],
   "source": [
    "jeon=data[data['지 역']=='전국'].T\n",
    "seoul=data[data['지 역']=='서울'].T\n",
    "sejong=data[data['지 역']=='세종'].T"
   ]
  },
  {
   "cell_type": "code",
   "execution_count": null,
   "metadata": {
    "ExecuteTime": {
     "end_time": "2021-03-21T07:21:07.216011Z",
     "start_time": "2021-03-21T07:21:07.212022Z"
    }
   },
   "outputs": [],
   "source": [
    "seoul_da=seoul.iloc[52:112]\n",
    "sejong_da=sejong.iloc[52:112]\n",
    "jeon_da=jeon.iloc[52:112]"
   ]
  },
  {
   "cell_type": "code",
   "execution_count": null,
   "metadata": {
    "ExecuteTime": {
     "end_time": "2021-03-21T07:21:07.352644Z",
     "start_time": "2021-03-21T07:21:07.333696Z"
    }
   },
   "outputs": [],
   "source": [
    "#평당 가격 구하기\n",
    "seoul_da=seoul_da.astype(int)*3.3\n",
    "jeon_da=jeon_da.astype(int)*3.3\n",
    "sejong_da=sejong_da.astype(int)*3.3"
   ]
  },
  {
   "cell_type": "code",
   "execution_count": null,
   "metadata": {
    "ExecuteTime": {
     "end_time": "2021-03-21T07:21:07.465371Z",
     "start_time": "2021-03-21T07:21:07.459362Z"
    }
   },
   "outputs": [],
   "source": [
    "sejo=[]\n",
    "jeo=[]\n",
    "seou=[]\n",
    "for i in range(60):\n",
    "    seou.append(int(seoul_da.values[i][0]))\n",
    "    sejo.append(int(sejong_da.values[i][0]))\n",
    "    jeo.append(int(jeon_da.values[i][0]))"
   ]
  },
  {
   "cell_type": "code",
   "execution_count": null,
   "metadata": {
    "ExecuteTime": {
     "end_time": "2021-03-21T07:21:07.712682Z",
     "start_time": "2021-03-21T07:21:07.704730Z"
    }
   },
   "outputs": [],
   "source": [
    "new_index=[]\n",
    "for i in range(60):\n",
    "    if jeon_da.index[i][-3:]=='01월':\n",
    "        new_index.append(jeon_da.index[i])\n",
    "    else:\n",
    "        new_index.append('')"
   ]
  },
  {
   "cell_type": "code",
   "execution_count": null,
   "metadata": {
    "ExecuteTime": {
     "end_time": "2021-03-21T07:21:08.159451Z",
     "start_time": "2021-03-21T07:21:07.822414Z"
    }
   },
   "outputs": [],
   "source": [
    "plt.figure(figsize=(10,10))\n",
    "plt.plot(jeon_da.index,sejo,color='slategrey', linewidth=5, label='세종특별자치시') #세종\n",
    "plt.plot(jeon_da.index,jeo,color='lightcoral',linewidth=5,label='전국') #전국\n",
    "plt.plot(jeon_da.index,seou,color='royalblue',linewidth=5,label='서울특별시') #서울\n",
    "plt.xticks(ticks=jeon_da.index, labels=new_index,rotation=45, fontsize=15)\n",
    "plt.ylabel('가격 (단위: 천원)',fontsize=15)\n",
    "plt.yticks(fontsize=15)\n",
    "# plt.xticks(jeon_da.index,range(2016,2021))\n",
    "plt.title('전국/세종/서울 아파트 평당 가격 비교',fontsize=30)\n",
    "plt.legend()\n",
    "#plt.locator_params(axis='x', nbins=len(new_index)/12)\n",
    "plt.show()"
   ]
  },
  {
   "cell_type": "code",
   "execution_count": null,
   "metadata": {},
   "outputs": [],
   "source": []
  }
 ],
 "metadata": {
  "kernelspec": {
   "display_name": "Python 3",
   "language": "python",
   "name": "python3"
  },
  "language_info": {
   "codemirror_mode": {
    "name": "ipython",
    "version": 3
   },
   "file_extension": ".py",
   "mimetype": "text/x-python",
   "name": "python",
   "nbconvert_exporter": "python",
   "pygments_lexer": "ipython3",
   "version": "3.8.5"
  },
  "toc": {
   "base_numbering": 1,
   "nav_menu": {},
   "number_sections": true,
   "sideBar": true,
   "skip_h1_title": false,
   "title_cell": "Table of Contents",
   "title_sidebar": "Contents",
   "toc_cell": false,
   "toc_position": {},
   "toc_section_display": true,
   "toc_window_display": false
  },
  "varInspector": {
   "cols": {
    "lenName": 16,
    "lenType": 16,
    "lenVar": 40
   },
   "kernels_config": {
    "python": {
     "delete_cmd_postfix": "",
     "delete_cmd_prefix": "del ",
     "library": "var_list.py",
     "varRefreshCmd": "print(var_dic_list())"
    },
    "r": {
     "delete_cmd_postfix": ") ",
     "delete_cmd_prefix": "rm(",
     "library": "var_list.r",
     "varRefreshCmd": "cat(var_dic_list()) "
    }
   },
   "types_to_exclude": [
    "module",
    "function",
    "builtin_function_or_method",
    "instance",
    "_Feature"
   ],
   "window_display": false
  }
 },
 "nbformat": 4,
 "nbformat_minor": 4
}
