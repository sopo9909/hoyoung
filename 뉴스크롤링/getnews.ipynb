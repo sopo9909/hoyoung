{
 "cells": [
  {
   "cell_type": "markdown",
   "metadata": {},
   "source": [
    "### 비정형 데이터 융합형 기업 예측 모델\n",
    "* 뉴스나 전문가 의견및 여론 기반한 비정형 데이터 수집\n",
    "* 주가 등 정형 데이터 수집\n",
    "* 기업의 주가 영향 요소 예측등을 통한\n",
    "* 기업의 위험관리및 투자예측 분석"
   ]
  },
  {
   "cell_type": "markdown",
   "metadata": {},
   "source": [
    "설립일:1955년 12월 9일 (65주년)[2]\n",
    "주소\n",
    "서울특별시 서초구 신반포로 194 (반포동)[3]\n",
    "업종명\n",
    "백화점\n",
    "상장유무\n",
    "상장기업\n",
    "기업규모\n",
    "대기업\n",
    "상장시장\n",
    "유가증권시장 (1985년 ~ 현재)\n",
    "대표이사\n",
    "차정호\n",
    "종목코드\n",
    "004170\n",
    "자본금\n",
    "492억 2천만원 (2019)\n",
    "매출액\n",
    "1조 5,576억원 (2019)\n",
    "영업이익\n",
    "2,220억 9천만원 (2019)\n",
    "당기순이익\n",
    "7,059억 5천만원 (2019)\n",
    "직원 수\n",
    "2,745명 (2020.06.30)"
   ]
  },
  {
   "cell_type": "markdown",
   "metadata": {},
   "source": [
    "### 분석요소\n",
    "* 뉴스 :\n",
    "* SNS  :\n",
    "* 댓글 :\n",
    "* 재무재표: \n",
    "* 기업분석 지표:\n",
    "\n",
    "* 제품 매출 현황\n",
    "\n",
    "* 시가 :\n",
    "* 종가 :\n",
    "* 고가 :\n",
    "* 저가 :\n",
    "* 거래량:"
   ]
  },
  {
   "cell_type": "markdown",
   "metadata": {},
   "source": [
    "### 네이버 뉴스 수집\n",
    "* 신세계\n",
    "* url = https://search.naver.com/search.naver?query=%EC%8B%A0%EC%84%B8%EA%B3%84&where=news&ie=utf8&sm=nws_hty"
   ]
  },
  {
   "cell_type": "raw",
   "metadata": {},
   "source": [
    "url = 'https://search.naver.com/search.naver?query={0}&where=news&ie=utf8&sm=nws_hty'.format('신세계')\n",
    "url\n",
    "https://search.naver.com/search.naver?&where=news&query={0}&sm=tab_pge&sort=0&photo=0&field=0&reporter_article=&pd=0&ds=&de=&docid=&nso=so:r,p:all,a:all&mynews=0&cluster_rank=35&start={1}"
   ]
  },
  {
   "cell_type": "code",
   "execution_count": 13,
   "metadata": {},
   "outputs": [
    {
     "data": {
      "text/plain": [
       "'https://search.naver.com/search.naver?&where=news&query=신세계&start=11'"
      ]
     },
     "execution_count": 13,
     "metadata": {},
     "output_type": "execute_result"
    }
   ],
   "source": [
    "url='https://search.naver.com/search.naver?&where=news&query={0}&start={1}'.format('신세계',11)\n",
    "url"
   ]
  },
  {
   "cell_type": "code",
   "execution_count": 44,
   "metadata": {},
   "outputs": [],
   "source": [
    "import numpy as np\n",
    "import pandas as pd\n",
    "import requests\n",
    "from bs4 import BeautifulSoup as bsp\n",
    "import matplotlib\n",
    "import matplotlib.pyplot as plt\n",
    "import sqlite3\n",
    "import re\n",
    "from datetime import datetime, timedelta\n"
   ]
  },
  {
   "cell_type": "code",
   "execution_count": 53,
   "metadata": {},
   "outputs": [],
   "source": [
    "def calcDate(txt=''):\n",
    "    #print(txt)\n",
    "    rdate=''\n",
    "    nowd=datetime.now()\n",
    "    pattern='[^\\d]'\n",
    "    num=int(re.sub(pattern,'',txt))\n",
    "    if('일' in txt):\n",
    "        res=nowd + timedelta(days=num*-1)\n",
    "    else:\n",
    "        res=nowd + timedelta(hours=num*-1)\n",
    "    return res"
   ]
  },
  {
   "cell_type": "code",
   "execution_count": 54,
   "metadata": {},
   "outputs": [],
   "source": [
    "def makeKey(txt=''):\n",
    "    txt_=re.sub('http\\S*//',' ',txt)\n",
    "    key=re.sub('[^a-zA-Z0-9%]','',txt_)\n",
    "    return key"
   ]
  },
  {
   "cell_type": "code",
   "execution_count": 57,
   "metadata": {},
   "outputs": [],
   "source": [
    "def getPage(url):\n",
    "    res=requests.get(url)\n",
    "    src=res.content.strip()\n",
    "    htmls=bsp(src,'html.parser')\n",
    "    tgts=htmls.select('ul.list_news > li')\n",
    "    len(tgts)\n",
    "    for tgt in tgts:\n",
    "        print('-'*30)\n",
    "        mainarti=tgt.select('div.news_wrap')\n",
    "        subarti=tgt.select('ul.list_cluster > li.sub_bx')\n",
    "        if(len(mainarti)>0):\n",
    "            title_= mainarti[0].select('a.news_tit')[0].text\n",
    "            title=re.sub('[^ㄱ-힣0-9 a-zA-Z]',' ',title_)\n",
    "            comp=mainarti[0].select('.info.press')[0].text.replace('언론사 선정','')\n",
    "            date=mainarti[0].select('span.info')[0].text.replace('시간 전','')\n",
    "            url=mainarti[0].select('a.news_tit')[0]['href']\n",
    "            key=makeKey(url)\n",
    "            opt=1\n",
    "            print(title,comp,date,url,key)\n",
    "            print('='*30)\n",
    "        if(len(subarti)>0):\n",
    "            title_= subarti[0].select('a.sub_tit')[0].text\n",
    "            title=re.sub('[^ㄱ-힣0-9 a-zA-Z]',' ',title_)\n",
    "            comp=subarti[0].select('.sub_txt.press')[0].text.replace('언론사 선정','')\n",
    "            date_=subarti[0].select('span.sub_txt')[0].text.replace('시간 전','').replace('네이버뉴스','')\n",
    "            date=calcDate(date_)\n",
    "            url=subarti[0].select('a.sub_tit')[0]['href']\n",
    "            key=makeKey(url)\n",
    "            opt=2,title,comp\n",
    "            print(title,comp,date,url,key)\n",
    "\n"
   ]
  },
  {
   "cell_type": "code",
   "execution_count": 58,
   "metadata": {},
   "outputs": [
    {
     "name": "stdout",
     "output_type": "stream",
     "text": [
      "https://search.naver.com/search.naver?&where=news&query=신세계&start=1\n",
      "------------------------------\n",
      "신세계 네이버 주식교환  최대 수혜는  신세계인터내셔날  이데일리 1일 전 http://www.edaily.co.kr/news/newspath.asp?newsid=01430086628984304 wwwedailycokrnewsnewspathaspnewsid01430086628984304\n",
      "==============================\n",
      "네이버 신세계 2500억규모 지분교환에 덩달아 주가 오른 곳은  한국경제 2021-03-17 16:39:49.611997 https://www.hankyung.com/finance/article/202103174198i wwwhankyungcomfinancearticle202103174198i\n",
      "------------------------------\n",
      "정용진 33억 정유경 29억 신세계 총수 일가 작년 연봉 142억원 연합뉴스 1일 전 http://yna.kr/AKR20210317071000030?did=1195m ynakrAKR20210317071000030did1195m\n",
      "==============================\n",
      "정용진 지난해 연봉 34억 신세계 총수 일가 142억 수령 한국경제 2021-03-17 11:39:49.612994 https://www.hankyung.com/economy/article/202103172123i wwwhankyungcomeconomyarticle202103172123i\n",
      "------------------------------\n",
      "신세계   화성테마파크  사업 박차   땅값만 8600억 블로터 17 http://www.bloter.net/archives/536243 wwwbloternetarchives536243\n",
      "==============================\n",
      "------------------------------\n",
      "신세계백화점ㆍSSG닷컴  2030  골린이  잡는다 이투데이 5 https://www.etoday.co.kr/news/view/2005423 wwwetodaycokrnewsview2005423\n",
      "==============================\n",
      "신세계百 SSG닷컴  2030 영골퍼 겨냥  골프 대전  연다 뉴스1 2021-03-18 06:39:49.614989 https://www.news1.kr/articles/?4244392 wwwnews1krarticles4244392\n",
      "------------------------------\n",
      "쿠팡 100조에 놀라 뭉쳤다 네이버 신세계  2500억 지분 교환 한국경제 A4면 1단 https://www.hankyung.com/economy/article/2021031601961 wwwhankyungcomeconomyarticle2021031601961\n",
      "==============================\n",
      "신세계 네이버 동맹 이커머스 쿠팡천하 막는다 종합  이데일리 2021-03-17 11:39:49.614989 http://www.edaily.co.kr/news/newspath.asp?newsid=03840886628983976 wwwedailycokrnewsnewspathaspnewsid03840886628983976\n",
      "------------------------------\n",
      " 특징주  대영포장   신세계 정용진  야심작 화성테마파크 토지매매계약 체결    파이낸셜뉴스 2 http://www.fnnews.com/news/202103180925459601 wwwfnnewscomnews202103180925459601\n",
      "==============================\n",
      "신세계건설   화성 국제테마파크  본궤도 기대감에 11   한국경제 2021-03-18 10:39:49.615986 https://www.hankyung.com/finance/article/2021031866256 wwwhankyungcomfinancearticle2021031866256\n",
      "------------------------------\n",
      "이마트 신세계  네이버와 지분교환 쿠팡에 함께 맞선다 SBS Biz 1일 전 https://biz.sbs.co.kr/article_hub/20000007613?division=NAVER bizsbscokrarticlehub20000007613divisionNAVER\n",
      "==============================\n",
      "신세계 네이버  동맹   온 오프라인 최강 연합군  한국경제TV 2021-03-17 11:39:49.616983 http://www.wowtv.co.kr/NewsCenter/News/Read?articleId=A202103160367&t=NN wwwwowtvcokrNewsCenterNewsReadarticleIdA202103160367tNN\n",
      "------------------------------\n",
      "신세계아이앤씨  클라우드 매니지먼트 플랫폼  스파로스 CMP  출시 전자신문 4 http://www.etnews.com/20210318000001 wwwetnewscom20210318000001\n",
      "==============================\n",
      "신세계아이앤씨  클라우드 통합관리  스파로스 CMP  출시 파이낸셜뉴스 2021-03-18 09:39:49.617980 http://www.fnnews.com/news/202103180853533600 wwwfnnewscomnews202103180853533600\n",
      "------------------------------\n",
      "낮술한 용진이형  소주의 신세계  외친 전통주는 매일경제 13 http://news.mk.co.kr/newsRead.php?no=256458&year=2021 newsmkcokrnewsReadphpno256458year2021\n",
      "==============================\n",
      "------------------------------\n",
      "신세계  본점 명품관서 예술품 전시 판매 조선비즈 1일 전 https://biz.chosun.com/site/data/html_dir/2021/03/16/2021031602659.html?utm_source=naver&utm_medium=original&utm_campaign=biz bizchosuncomsitedatahtmldir202103162021031602659htmlutmsourcenaverutmmediumoriginalutmcampaignbiz\n",
      "==============================\n",
      "신세계 명품매장에서  김창열 줄리안 오피  만나자 머니투데이 2021-03-17 11:39:49.618978 http://news.mt.co.kr/mtview.php?no=2021031707470189932 newsmtcokrmtviewphpno2021031707470189932\n",
      "https://search.naver.com/search.naver?&where=news&query=신세계&start=11\n",
      "------------------------------\n",
      "네이버 미래  알리바바 보면 안다  신세계와 뭉친 이유 한국경제 23 https://www.hankyung.com/it/article/202103172345g wwwhankyungcomitarticle202103172345g\n",
      "==============================\n",
      " 혈맹  네이버 신세계 지분 교환 쿠팡과 경쟁 본격화 SBS Biz 2021-03-17 11:39:50.607132 https://biz.sbs.co.kr/article_hub/20000007641?division=NAVER bizsbscokrarticlehub20000007641divisionNAVER\n",
      "------------------------------\n",
      "신세계푸드  젊은 골퍼 겨냥  안전빵  출시 스포츠서울 3 http://www.sportsseoul.com/news/read/1023954?ref=naver wwwsportsseoulcomnewsread1023954refnaver\n",
      "==============================\n",
      "신세계푸드  골퍼들을 위한 펀 Fun  간식  안전빵  출시 스포츠조선 2021-03-16 08:39:50.608129 http://sports.chosun.com/news/ntype.htm?id=202103180100141090009107&servicedate=20210318 sportschosuncomnewsntypehtmid202103180100141090009107servicedate20210318\n",
      "------------------------------\n",
      "이베이코리아 예비 입찰  롯데 신세계 SKT MBK 등 참여 아시아경제 1일 전 https://view.asiae.co.kr/article/2021031619072085683 viewasiaecokrarticle2021031619072085683\n",
      "==============================\n",
      "이베이코리아 인수전  신세계 SKT 참여 카카오  불참  더팩트 2021-03-17 11:39:50.609127 http://news.tf.co.kr/read/economy/1848416.htm newstfcokrreadeconomy1848416htm\n",
      "------------------------------\n",
      "이베이코리아 매각 입찰일에 네이버 신세계 맞손 이데일리 A1면 2단 http://www.edaily.co.kr/news/newspath.asp?newsid=04093446628983976 wwwedailycokrnewsnewspathaspnewsid04093446628983976\n",
      "==============================\n",
      " 커머스 격변기 판 뒤엎을  신세계 네이버 이베이  초대형 공룡 가능성은 블로터 2021-03-17 11:39:50.610124 http://www.bloter.net/archives/535996 wwwbloternetarchives535996\n",
      "------------------------------\n",
      "쿠팡 로켓  우린 2시간 광속이다  네이버 신세계  크로스  국민일보 1일 전 http://news.kmib.co.kr/article/view.asp?arcid=0015638477&code=61141611&cp=nv newskmibcokrarticleviewasparcid0015638477code61141611cpnv\n",
      "==============================\n",
      "CJ에 이어 신세계와도 혈맹 쿠팡 견제 나선 네이버 이데일리 2021-03-17 11:39:50.611121 http://www.edaily.co.kr/news/newspath.asp?newsid=03936006628983976 wwwedailycokrnewsnewspathaspnewsid03936006628983976\n",
      "------------------------------\n",
      "네이버 신세계 反쿠팡 동맹 로켓배송  2시간 만에  쓱  꺾겠다 노컷뉴스 1일 전 https://www.nocutnews.co.kr/news/5517384 wwwnocutnewscokrnews5517384\n",
      "==============================\n",
      "------------------------------\n",
      "신세계 네이버 혈맹  온 오프 유통 최강자 우뚝  뉴시스 1일 전 http://www.newsis.com/view/?id=NISX20210316_0001372667&cID=13001&pID=13000 wwwnewsiscomviewidNISX202103160001372667cID13001pID13000\n",
      "==============================\n",
      " 네이버에 쓱 올라탄 신세계   온 오프라인 최강 연합군 탄생 머니투데이 2021-03-17 11:39:50.612119 http://news.mt.co.kr/mtview.php?no=2021031617042856057 newsmtcokrmtviewphpno2021031617042856057\n",
      "------------------------------\n",
      "이마트   신세계  네이버와 2 500억 지분 교환 SBS 1일 전 https://news.sbs.co.kr/news/endPage.do?news_id=N1006244342&plink=ORI&cooper=NAVER newssbscokrnewsendPagedonewsidN1006244342plinkORIcooperNAVER\n",
      "==============================\n",
      " 2보  이마트 신세계  네이버와 지분교환  전략적 제휴강화  연합뉴스 2021-03-17 11:39:50.613116 http://yna.kr/AKR20210316150800030?did=1195m ynakrAKR20210316150800030did1195m\n",
      "------------------------------\n",
      "신세계 오너 일가 지난해 연봉은 얼마  아시아타임즈 4 https://www.asiatime.co.kr/article/20210317500206 wwwasiatimecokrarticle20210317500206\n",
      "==============================\n",
      "신세계 총수 일가 작년 연봉 142억원    정용진 34억원 정유경 30억원 민중의소리 2021-03-18 10:39:50.614113 https://www.vop.co.kr/A00001556307.html wwwvopcokrA00001556307html\n",
      "------------------------------\n",
      "롯데 신세계 SKT 등 이베이코리아와 시너지  눈독  신아일보 1일 전 http://www.shinailbo.co.kr/news/articleView.html?idxno=1388698 wwwshinailbocokrnewsarticleViewhtmlidxno1388698\n",
      "==============================\n"
     ]
    }
   ],
   "source": [
    "urlsrc='https://search.naver.com/search.naver?&where=news&query={0}&start={1}'\n",
    "for i in range(2):\n",
    "    url=urlsrc.format('신세계',i*10+1)\n",
    "    print(url)\n",
    "    getPage(url)"
   ]
  },
  {
   "cell_type": "code",
   "execution_count": null,
   "metadata": {},
   "outputs": [],
   "source": []
  }
 ],
 "metadata": {
  "kernelspec": {
   "display_name": "Python 3",
   "language": "python",
   "name": "python3"
  },
  "language_info": {
   "codemirror_mode": {
    "name": "ipython",
    "version": 3
   },
   "file_extension": ".py",
   "mimetype": "text/x-python",
   "name": "python",
   "nbconvert_exporter": "python",
   "pygments_lexer": "ipython3",
   "version": "3.8.5"
  },
  "toc": {
   "base_numbering": 1,
   "nav_menu": {},
   "number_sections": true,
   "sideBar": true,
   "skip_h1_title": false,
   "title_cell": "Table of Contents",
   "title_sidebar": "Contents",
   "toc_cell": false,
   "toc_position": {},
   "toc_section_display": true,
   "toc_window_display": false
  },
  "varInspector": {
   "cols": {
    "lenName": 16,
    "lenType": 16,
    "lenVar": 40
   },
   "kernels_config": {
    "python": {
     "delete_cmd_postfix": "",
     "delete_cmd_prefix": "del ",
     "library": "var_list.py",
     "varRefreshCmd": "print(var_dic_list())"
    },
    "r": {
     "delete_cmd_postfix": ") ",
     "delete_cmd_prefix": "rm(",
     "library": "var_list.r",
     "varRefreshCmd": "cat(var_dic_list()) "
    }
   },
   "types_to_exclude": [
    "module",
    "function",
    "builtin_function_or_method",
    "instance",
    "_Feature"
   ],
   "window_display": false
  }
 },
 "nbformat": 4,
 "nbformat_minor": 4
}
