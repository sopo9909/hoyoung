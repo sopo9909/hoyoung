{
 "cells": [
  {
   "cell_type": "code",
   "execution_count": null,
   "metadata": {},
   "outputs": [],
   "source": []
  },
  {
   "cell_type": "code",
   "execution_count": 1,
   "metadata": {
    "ExecuteTime": {
     "end_time": "2021-03-21T07:21:07.008603Z",
     "start_time": "2021-03-21T07:21:05.734766Z"
    }
   },
   "outputs": [],
   "source": [
    "import pandas as pd\n",
    "import matplotlib.pyplot as plt\n",
    "import matplotlib.pyplot as plt\n",
    "import platform\n",
    "from matplotlib import font_manager, rc\n",
    "import seaborn as sns\n",
    "%matplotlib inline \n",
    "plt.rcParams['axes.unicode_minus'] = False\n",
    "if platform.system() == 'Darwin':\n",
    "    rc('font', family = 'AppleGothic')\n",
    "elif platform.system() == 'Windows':\n",
    "    path ='C:/Windows/Fonts/malgun.ttf'\n",
    "    font_name = font_manager.FontProperties(fname=path).get_name()\n",
    "    rc('font', family=font_name)\n",
    "else:\n",
    "    print(\"Can't find your system.\")"
   ]
  },
  {
   "cell_type": "code",
   "execution_count": 2,
   "metadata": {
    "ExecuteTime": {
     "end_time": "2021-03-21T07:21:07.064464Z",
     "start_time": "2021-03-21T07:21:07.035494Z"
    }
   },
   "outputs": [],
   "source": [
    "data = pd.read_csv('평균단위매매가격_아파트1.csv',encoding='cp949',header=10)"
   ]
  },
  {
   "cell_type": "code",
   "execution_count": 3,
   "metadata": {
    "ExecuteTime": {
     "end_time": "2021-03-21T07:21:07.134234Z",
     "start_time": "2021-03-21T07:21:07.128250Z"
    }
   },
   "outputs": [],
   "source": [
    "jeon=data[data['지 역']=='전국'].T\n",
    "seoul=data[data['지 역']=='서울'].T\n",
    "sejong=data[data['지 역']=='세종'].T"
   ]
  },
  {
   "cell_type": "code",
   "execution_count": 4,
   "metadata": {
    "ExecuteTime": {
     "end_time": "2021-03-21T07:21:07.216011Z",
     "start_time": "2021-03-21T07:21:07.212022Z"
    }
   },
   "outputs": [],
   "source": [
    "seoul_da=seoul.iloc[52:112]\n",
    "sejong_da=sejong.iloc[52:112]\n",
    "jeon_da=jeon.iloc[52:112]"
   ]
  },
  {
   "cell_type": "code",
   "execution_count": 5,
   "metadata": {
    "ExecuteTime": {
     "end_time": "2021-03-21T07:21:07.352644Z",
     "start_time": "2021-03-21T07:21:07.333696Z"
    }
   },
   "outputs": [],
   "source": [
    "#평당 가격 구하기\n",
    "seoul_da=seoul_da.astype(int)*3.3\n",
    "jeon_da=jeon_da.astype(int)*3.3\n",
    "sejong_da=sejong_da.astype(int)*3.3"
   ]
  },
  {
   "cell_type": "code",
   "execution_count": 6,
   "metadata": {
    "ExecuteTime": {
     "end_time": "2021-03-21T07:21:07.465371Z",
     "start_time": "2021-03-21T07:21:07.459362Z"
    }
   },
   "outputs": [],
   "source": [
    "sejo=[]\n",
    "jeo=[]\n",
    "seou=[]\n",
    "for i in range(60):\n",
    "    seou.append(int(seoul_da.values[i][0]))\n",
    "    sejo.append(int(sejong_da.values[i][0]))\n",
    "    jeo.append(int(jeon_da.values[i][0]))"
   ]
  },
  {
   "cell_type": "code",
   "execution_count": 7,
   "metadata": {
    "ExecuteTime": {
     "end_time": "2021-03-21T07:21:07.590017Z",
     "start_time": "2021-03-21T07:21:07.584026Z"
    }
   },
   "outputs": [
    {
     "data": {
      "text/plain": [
       "Index(['2016년 01월', '2016년 02월', '2016년 03월', '2016년 04월', '2016년 05월',\n",
       "       '2016년 06월', '2016년 07월', '2016년 08월', '2016년 09월', '2016년 10월',\n",
       "       '2016년 11월', '2016년 12월', '2017년 01월', '2017년 02월', '2017년 03월',\n",
       "       '2017년 04월', '2017년 05월', '2017년 06월', '2017년 07월', '2017년 08월',\n",
       "       '2017년 09월', '2017년 10월', '2017년 11월', '2017년 12월', '2018년 01월',\n",
       "       '2018년 02월', '2018년 03월', '2018년 04월', '2018년 05월', '2018년 06월',\n",
       "       '2018년 07월', '2018년 08월', '2018년 09월', '2018년 10월', '2018년 11월',\n",
       "       '2018년 12월', '2019년 01월', '2019년 02월', '2019년 03월', '2019년 04월',\n",
       "       '2019년 05월', '2019년 06월', '2019년 07월', '2019년 08월', '2019년 09월',\n",
       "       '2019년 10월', '2019년 11월', '2019년 12월', '2020년 01월', '2020년 02월',\n",
       "       '2020년 03월', '2020년 04월', '2020년 05월', '2020년 06월', '2020년 07월',\n",
       "       '2020년 08월', '2020년 09월', '2020년 10월', '2020년 11월', '2020년 12월'],\n",
       "      dtype='object')"
      ]
     },
     "execution_count": 7,
     "metadata": {},
     "output_type": "execute_result"
    }
   ],
   "source": [
    "jeon_da.index"
   ]
  },
  {
   "cell_type": "code",
   "execution_count": 8,
   "metadata": {
    "ExecuteTime": {
     "end_time": "2021-03-21T07:21:07.712682Z",
     "start_time": "2021-03-21T07:21:07.704730Z"
    }
   },
   "outputs": [
    {
     "data": {
      "text/plain": [
       "['2016년 01월',\n",
       " '',\n",
       " '',\n",
       " '',\n",
       " '',\n",
       " '',\n",
       " '',\n",
       " '',\n",
       " '',\n",
       " '',\n",
       " '',\n",
       " '',\n",
       " '2017년 01월',\n",
       " '',\n",
       " '',\n",
       " '',\n",
       " '',\n",
       " '',\n",
       " '',\n",
       " '',\n",
       " '',\n",
       " '',\n",
       " '',\n",
       " '',\n",
       " '2018년 01월',\n",
       " '',\n",
       " '',\n",
       " '',\n",
       " '',\n",
       " '',\n",
       " '',\n",
       " '',\n",
       " '',\n",
       " '',\n",
       " '',\n",
       " '',\n",
       " '2019년 01월',\n",
       " '',\n",
       " '',\n",
       " '',\n",
       " '',\n",
       " '',\n",
       " '',\n",
       " '',\n",
       " '',\n",
       " '',\n",
       " '',\n",
       " '',\n",
       " '2020년 01월',\n",
       " '',\n",
       " '',\n",
       " '',\n",
       " '',\n",
       " '',\n",
       " '',\n",
       " '',\n",
       " '',\n",
       " '',\n",
       " '',\n",
       " '']"
      ]
     },
     "execution_count": 8,
     "metadata": {},
     "output_type": "execute_result"
    }
   ],
   "source": [
    "new_index=[]\n",
    "for i in range(60):\n",
    "    if jeon_da.index[i][-3:]=='01월':\n",
    "        new_index.append(jeon_da.index[i])\n",
    "    else:\n",
    "        new_index.append('')\n",
    "new_index"
   ]
  },
  {
   "cell_type": "code",
   "execution_count": 9,
   "metadata": {
    "ExecuteTime": {
     "end_time": "2021-03-21T07:21:08.159451Z",
     "start_time": "2021-03-21T07:21:07.822414Z"
    }
   },
   "outputs": [
    {
     "data": {
      "image/png": "[encoded data removed]",
      "text/plain": [
       "<Figure size 432x288 with 1 Axes>"
      ]
     },
     "metadata": {
      "needs_background": "light"
     },
     "output_type": "display_data"
    }
   ],
   "source": [
    "plt.plot(jeon_da.index,sejo,color='#e35f62', linewidth=2)#세종\n",
    "plt.plot(jeon_da.index,jeo,color='springgreen')#전국\n",
    "plt.plot(jeon_da.index,seou,color='#000000')#서울\n",
    "plt.xticks(ticks=jeon_da.index, labels=new_index)\n",
    "#plt.locator_params(axis='x', nbins=len(new_index)/12)\n",
    "plt.show()"
   ]
  },
  {
   "cell_type": "code",
   "execution_count": null,
   "metadata": {},
   "outputs": [],
   "source": []
  }
 ],
 "metadata": {
  "kernelspec": {
   "display_name": "Python 3",
   "language": "python",
   "name": "python3"
  },
  "language_info": {
   "codemirror_mode": {
    "name": "ipython",
    "version": 3
   },
   "file_extension": ".py",
   "mimetype": "text/x-python",
   "name": "python",
   "nbconvert_exporter": "python",
   "pygments_lexer": "ipython3",
   "version": "3.8.5"
  },
  "toc": {
   "base_numbering": 1,
   "nav_menu": {},
   "number_sections": true,
   "sideBar": true,
   "skip_h1_title": false,
   "title_cell": "Table of Contents",
   "title_sidebar": "Contents",
   "toc_cell": false,
   "toc_position": {},
   "toc_section_display": true,
   "toc_window_display": false
  },
  "varInspector": {
   "cols": {
    "lenName": 16,
    "lenType": 16,
    "lenVar": 40
   },
   "kernels_config": {
    "python": {
     "delete_cmd_postfix": "",
     "delete_cmd_prefix": "del ",
     "library": "var_list.py",
     "varRefreshCmd": "print(var_dic_list())"
    },
    "r": {
     "delete_cmd_postfix": ") ",
     "delete_cmd_prefix": "rm(",
     "library": "var_list.r",
     "varRefreshCmd": "cat(var_dic_list()) "
    }
   },
   "types_to_exclude": [
    "module",
    "function",
    "builtin_function_or_method",
    "instance",
    "_Feature"
   ],
   "window_display": false
  }
 },
 "nbformat": 4,
 "nbformat_minor": 4
}
