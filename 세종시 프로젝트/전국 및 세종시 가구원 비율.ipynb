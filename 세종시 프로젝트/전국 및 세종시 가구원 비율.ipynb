{
 "cells": [
  {
   "cell_type": "code",
   "execution_count": null,
   "metadata": {},
   "outputs": [],
   "source": []
  },
  {
   "cell_type": "code",
   "execution_count": 45,
   "metadata": {
    "ExecuteTime": {
     "end_time": "2021-03-23T05:21:04.841049Z",
     "start_time": "2021-03-23T05:21:04.835056Z"
    }
   },
   "outputs": [],
   "source": [
    "import pandas as pd\n",
    "import seaborn as sns\n",
    "from matplotlib import pyplot\n",
    "import matplotlib.pyplot as plt\n",
    "import platform\n",
    "from matplotlib import font_manager, rc\n",
    "\n",
    "plt.rcParams['axes.unicode_minus'] = False\n",
    "if platform.system() == 'Darwin':\n",
    "    rc('font', family = 'AppleGothic')\n",
    "elif platform.system() == 'Windows':\n",
    "    path ='C:/Windows/Fonts/malgun.ttf'\n",
    "    font_name = font_manager.FontProperties(fname=path).get_name()\n",
    "    rc('font', family=font_name)\n",
    "else:\n",
    "    print(\"Can't find your system.\")"
   ]
  },
  {
   "cell_type": "code",
   "execution_count": 46,
   "metadata": {
    "ExecuteTime": {
     "end_time": "2021-03-23T05:21:05.394275Z",
     "start_time": "2021-03-23T05:21:05.384293Z"
    }
   },
   "outputs": [],
   "source": [
    "data=pd.read_csv('가구원수별_가구_일반가구___읍면동_2015___시군구_2016__20210320160717.csv',encoding='cp949',header=1)\n",
    "jeonguk=data[data['행정구역별(읍면동)']=='전국']\n",
    "list_index_oul=list(jeonguk.T.index[2:])#1인가구~~7인이상\n",
    "value_pop_oul=list(jeonguk.T.iloc[2:][0])#그들의 값"
   ]
  },
  {
   "cell_type": "code",
   "execution_count": 10,
   "metadata": {
    "ExecuteTime": {
     "end_time": "2021-03-23T04:12:11.534564Z",
     "start_time": "2021-03-23T04:12:11.528580Z"
    }
   },
   "outputs": [],
   "source": [
    "data=pd.read_csv('가구원수별_가구_일반가구___읍면동_2015___시군구_2016__20210320160717.csv',encoding='cp949',header=1)\n"
   ]
  },
  {
   "cell_type": "code",
   "execution_count": 12,
   "metadata": {
    "ExecuteTime": {
     "end_time": "2021-03-23T04:12:29.064275Z",
     "start_time": "2021-03-23T04:12:29.048318Z"
    }
   },
   "outputs": [
    {
     "data": {
      "text/html": [
       "<div>\n",
       "<style scoped>\n",
       "    .dataframe tbody tr th:only-of-type {\n",
       "        vertical-align: middle;\n",
       "    }\n",
       "\n",
       "    .dataframe tbody tr th {\n",
       "        vertical-align: top;\n",
       "    }\n",
       "\n",
       "    .dataframe thead th {\n",
       "        text-align: right;\n",
       "    }\n",
       "</style>\n",
       "<table border=\"1\" class=\"dataframe\">\n",
       "  <thead>\n",
       "    <tr style=\"text-align: right;\">\n",
       "      <th></th>\n",
       "      <th>행정구역별(읍면동)</th>\n",
       "      <th>일반가구_계</th>\n",
       "      <th>1인</th>\n",
       "      <th>2인</th>\n",
       "      <th>3인</th>\n",
       "      <th>4인</th>\n",
       "      <th>5인</th>\n",
       "      <th>6인</th>\n",
       "      <th>7인 이상</th>\n",
       "    </tr>\n",
       "  </thead>\n",
       "  <tbody>\n",
       "    <tr>\n",
       "      <th>0</th>\n",
       "      <td>전국</td>\n",
       "      <td>20343188</td>\n",
       "      <td>6147516</td>\n",
       "      <td>5663330</td>\n",
       "      <td>4217736</td>\n",
       "      <td>3300114</td>\n",
       "      <td>801048</td>\n",
       "      <td>166866</td>\n",
       "      <td>46578</td>\n",
       "    </tr>\n",
       "    <tr>\n",
       "      <th>1</th>\n",
       "      <td>읍부</td>\n",
       "      <td>1937519</td>\n",
       "      <td>563446</td>\n",
       "      <td>573991</td>\n",
       "      <td>390046</td>\n",
       "      <td>301488</td>\n",
       "      <td>83859</td>\n",
       "      <td>18831</td>\n",
       "      <td>5858</td>\n",
       "    </tr>\n",
       "    <tr>\n",
       "      <th>2</th>\n",
       "      <td>면부</td>\n",
       "      <td>1968717</td>\n",
       "      <td>686531</td>\n",
       "      <td>711332</td>\n",
       "      <td>312768</td>\n",
       "      <td>175464</td>\n",
       "      <td>58445</td>\n",
       "      <td>17324</td>\n",
       "      <td>6853</td>\n",
       "    </tr>\n",
       "    <tr>\n",
       "      <th>3</th>\n",
       "      <td>동부</td>\n",
       "      <td>16436952</td>\n",
       "      <td>4897539</td>\n",
       "      <td>4378007</td>\n",
       "      <td>3514922</td>\n",
       "      <td>2823162</td>\n",
       "      <td>658744</td>\n",
       "      <td>130711</td>\n",
       "      <td>33867</td>\n",
       "    </tr>\n",
       "    <tr>\n",
       "      <th>4</th>\n",
       "      <td>서울특별시</td>\n",
       "      <td>3896389</td>\n",
       "      <td>1299787</td>\n",
       "      <td>1005065</td>\n",
       "      <td>801819</td>\n",
       "      <td>614026</td>\n",
       "      <td>138596</td>\n",
       "      <td>29336</td>\n",
       "      <td>7760</td>\n",
       "    </tr>\n",
       "    <tr>\n",
       "      <th>5</th>\n",
       "      <td>부산광역시</td>\n",
       "      <td>1377030</td>\n",
       "      <td>423227</td>\n",
       "      <td>400961</td>\n",
       "      <td>286644</td>\n",
       "      <td>208618</td>\n",
       "      <td>45849</td>\n",
       "      <td>9348</td>\n",
       "      <td>2383</td>\n",
       "    </tr>\n",
       "    <tr>\n",
       "      <th>6</th>\n",
       "      <td>대구광역시</td>\n",
       "      <td>968620</td>\n",
       "      <td>284416</td>\n",
       "      <td>267961</td>\n",
       "      <td>207953</td>\n",
       "      <td>163754</td>\n",
       "      <td>35926</td>\n",
       "      <td>6983</td>\n",
       "      <td>1627</td>\n",
       "    </tr>\n",
       "    <tr>\n",
       "      <th>7</th>\n",
       "      <td>인천광역시</td>\n",
       "      <td>1120576</td>\n",
       "      <td>297865</td>\n",
       "      <td>305688</td>\n",
       "      <td>253332</td>\n",
       "      <td>203577</td>\n",
       "      <td>47920</td>\n",
       "      <td>9663</td>\n",
       "      <td>2531</td>\n",
       "    </tr>\n",
       "    <tr>\n",
       "      <th>8</th>\n",
       "      <td>광주광역시</td>\n",
       "      <td>587159</td>\n",
       "      <td>182364</td>\n",
       "      <td>156984</td>\n",
       "      <td>117401</td>\n",
       "      <td>98248</td>\n",
       "      <td>26302</td>\n",
       "      <td>4676</td>\n",
       "      <td>1184</td>\n",
       "    </tr>\n",
       "    <tr>\n",
       "      <th>9</th>\n",
       "      <td>대전광역시</td>\n",
       "      <td>609043</td>\n",
       "      <td>205165</td>\n",
       "      <td>158832</td>\n",
       "      <td>119508</td>\n",
       "      <td>96271</td>\n",
       "      <td>23465</td>\n",
       "      <td>4623</td>\n",
       "      <td>1179</td>\n",
       "    </tr>\n",
       "    <tr>\n",
       "      <th>10</th>\n",
       "      <td>울산광역시</td>\n",
       "      <td>437094</td>\n",
       "      <td>116015</td>\n",
       "      <td>119926</td>\n",
       "      <td>100984</td>\n",
       "      <td>80479</td>\n",
       "      <td>16182</td>\n",
       "      <td>2805</td>\n",
       "      <td>703</td>\n",
       "    </tr>\n",
       "    <tr>\n",
       "      <th>11</th>\n",
       "      <td>세종특별자치시</td>\n",
       "      <td>129664</td>\n",
       "      <td>39078</td>\n",
       "      <td>31236</td>\n",
       "      <td>26828</td>\n",
       "      <td>24944</td>\n",
       "      <td>6186</td>\n",
       "      <td>1096</td>\n",
       "      <td>296</td>\n",
       "    </tr>\n",
       "    <tr>\n",
       "      <th>12</th>\n",
       "      <td>경기도</td>\n",
       "      <td>4907660</td>\n",
       "      <td>1290893</td>\n",
       "      <td>1284977</td>\n",
       "      <td>1106151</td>\n",
       "      <td>943962</td>\n",
       "      <td>223584</td>\n",
       "      <td>45755</td>\n",
       "      <td>12338</td>\n",
       "    </tr>\n",
       "    <tr>\n",
       "      <th>13</th>\n",
       "      <td>강원도</td>\n",
       "      <td>633942</td>\n",
       "      <td>208857</td>\n",
       "      <td>200035</td>\n",
       "      <td>117416</td>\n",
       "      <td>79476</td>\n",
       "      <td>21560</td>\n",
       "      <td>5043</td>\n",
       "      <td>1555</td>\n",
       "    </tr>\n",
       "    <tr>\n",
       "      <th>14</th>\n",
       "      <td>충청북도</td>\n",
       "      <td>654713</td>\n",
       "      <td>215196</td>\n",
       "      <td>191655</td>\n",
       "      <td>123239</td>\n",
       "      <td>91764</td>\n",
       "      <td>25674</td>\n",
       "      <td>5503</td>\n",
       "      <td>1682</td>\n",
       "    </tr>\n",
       "    <tr>\n",
       "      <th>15</th>\n",
       "      <td>충청남도</td>\n",
       "      <td>864102</td>\n",
       "      <td>280773</td>\n",
       "      <td>256360</td>\n",
       "      <td>160674</td>\n",
       "      <td>122401</td>\n",
       "      <td>33995</td>\n",
       "      <td>7444</td>\n",
       "      <td>2455</td>\n",
       "    </tr>\n",
       "    <tr>\n",
       "      <th>16</th>\n",
       "      <td>전라북도</td>\n",
       "      <td>738307</td>\n",
       "      <td>238746</td>\n",
       "      <td>226681</td>\n",
       "      <td>135931</td>\n",
       "      <td>98322</td>\n",
       "      <td>29636</td>\n",
       "      <td>6775</td>\n",
       "      <td>2216</td>\n",
       "    </tr>\n",
       "    <tr>\n",
       "      <th>17</th>\n",
       "      <td>전라남도</td>\n",
       "      <td>741026</td>\n",
       "      <td>238147</td>\n",
       "      <td>245725</td>\n",
       "      <td>132242</td>\n",
       "      <td>88381</td>\n",
       "      <td>27679</td>\n",
       "      <td>6605</td>\n",
       "      <td>2247</td>\n",
       "    </tr>\n",
       "    <tr>\n",
       "      <th>18</th>\n",
       "      <td>경상북도</td>\n",
       "      <td>1102934</td>\n",
       "      <td>360213</td>\n",
       "      <td>352260</td>\n",
       "      <td>206493</td>\n",
       "      <td>139394</td>\n",
       "      <td>34712</td>\n",
       "      <td>7619</td>\n",
       "      <td>2243</td>\n",
       "    </tr>\n",
       "    <tr>\n",
       "      <th>19</th>\n",
       "      <td>경상남도</td>\n",
       "      <td>1321213</td>\n",
       "      <td>391421</td>\n",
       "      <td>387575</td>\n",
       "      <td>272119</td>\n",
       "      <td>207863</td>\n",
       "      <td>49606</td>\n",
       "      <td>9880</td>\n",
       "      <td>2749</td>\n",
       "    </tr>\n",
       "    <tr>\n",
       "      <th>20</th>\n",
       "      <td>제주특별자치도</td>\n",
       "      <td>253716</td>\n",
       "      <td>75353</td>\n",
       "      <td>71409</td>\n",
       "      <td>49002</td>\n",
       "      <td>38634</td>\n",
       "      <td>14176</td>\n",
       "      <td>3712</td>\n",
       "      <td>1430</td>\n",
       "    </tr>\n",
       "  </tbody>\n",
       "</table>\n",
       "</div>"
      ],
      "text/plain": [
       "   행정구역별(읍면동)    일반가구_계       1인       2인       3인       4인      5인      6인  \\\n",
       "0          전국  20343188  6147516  5663330  4217736  3300114  801048  166866   \n",
       "1          읍부   1937519   563446   573991   390046   301488   83859   18831   \n",
       "2          면부   1968717   686531   711332   312768   175464   58445   17324   \n",
       "3          동부  16436952  4897539  4378007  3514922  2823162  658744  130711   \n",
       "4       서울특별시   3896389  1299787  1005065   801819   614026  138596   29336   \n",
       "5       부산광역시   1377030   423227   400961   286644   208618   45849    9348   \n",
       "6       대구광역시    968620   284416   267961   207953   163754   35926    6983   \n",
       "7       인천광역시   1120576   297865   305688   253332   203577   47920    9663   \n",
       "8       광주광역시    587159   182364   156984   117401    98248   26302    4676   \n",
       "9       대전광역시    609043   205165   158832   119508    96271   23465    4623   \n",
       "10      울산광역시    437094   116015   119926   100984    80479   16182    2805   \n",
       "11    세종특별자치시    129664    39078    31236    26828    24944    6186    1096   \n",
       "12        경기도   4907660  1290893  1284977  1106151   943962  223584   45755   \n",
       "13        강원도    633942   208857   200035   117416    79476   21560    5043   \n",
       "14       충청북도    654713   215196   191655   123239    91764   25674    5503   \n",
       "15       충청남도    864102   280773   256360   160674   122401   33995    7444   \n",
       "16       전라북도    738307   238746   226681   135931    98322   29636    6775   \n",
       "17       전라남도    741026   238147   245725   132242    88381   27679    6605   \n",
       "18       경상북도   1102934   360213   352260   206493   139394   34712    7619   \n",
       "19       경상남도   1321213   391421   387575   272119   207863   49606    9880   \n",
       "20    제주특별자치도    253716    75353    71409    49002    38634   14176    3712   \n",
       "\n",
       "    7인 이상  \n",
       "0   46578  \n",
       "1    5858  \n",
       "2    6853  \n",
       "3   33867  \n",
       "4    7760  \n",
       "5    2383  \n",
       "6    1627  \n",
       "7    2531  \n",
       "8    1184  \n",
       "9    1179  \n",
       "10    703  \n",
       "11    296  \n",
       "12  12338  \n",
       "13   1555  \n",
       "14   1682  \n",
       "15   2455  \n",
       "16   2216  \n",
       "17   2247  \n",
       "18   2243  \n",
       "19   2749  \n",
       "20   1430  "
      ]
     },
     "execution_count": 12,
     "metadata": {},
     "output_type": "execute_result"
    }
   ],
   "source": [
    "data"
   ]
  },
  {
   "cell_type": "code",
   "execution_count": 47,
   "metadata": {
    "ExecuteTime": {
     "end_time": "2021-03-23T05:21:11.833448Z",
     "start_time": "2021-03-23T05:21:11.827464Z"
    }
   },
   "outputs": [],
   "source": [
    "sejong=data[data['행정구역별(읍면동)']=='세종특별자치시']\n",
    "sejong=sejong.T\n",
    "list_index_jong=list(sejong.index[2:])\n",
    "value_pop_jong=list(sejong.iloc[2:][11])"
   ]
  },
  {
   "cell_type": "code",
   "execution_count": null,
   "metadata": {},
   "outputs": [],
   "source": [
    "colors = sns.color_palette('hls',len(df['가구']))\n",
    "fig = plt.figure(figsize=(7,7))\n",
    "fig.set_facecolor('white')\n",
    "ax = fig.add_subplot()\n",
    "pie = ax.pie(df['비율'], startangle=90, colors=colors, autopct='%1.1f%%')\n",
    "plt.legend(pie[0],df['가구'],bbox_to_anchor=(1, 0.9))\n",
    "plt.title('2019년 전국 가구원 수 비율',fontsize=20)\n",
    "plt.show()"
   ]
  },
  {
   "cell_type": "code",
   "execution_count": 39,
   "metadata": {
    "ExecuteTime": {
     "end_time": "2021-03-23T05:09:38.389902Z",
     "start_time": "2021-03-23T05:09:38.384915Z"
    }
   },
   "outputs": [
    {
     "data": {
      "text/plain": [
       "7"
      ]
     },
     "execution_count": 39,
     "metadata": {},
     "output_type": "execute_result"
    }
   ],
   "source": [
    "len(value_pop)"
   ]
  },
  {
   "cell_type": "code",
   "execution_count": 38,
   "metadata": {
    "ExecuteTime": {
     "end_time": "2021-03-23T04:25:04.523169Z",
     "start_time": "2021-03-23T04:25:04.381546Z"
    }
   },
   "outputs": [
    {
     "data": {
      "image/png": "[encoded data removed]",
      "text/plain": [
       "<Figure size 504x504 with 1 Axes>"
      ]
     },
     "metadata": {},
     "output_type": "display_data"
    }
   ],
   "source": [
    "colors = sns.color_palette('hls',len(value_pop))\n",
    "fig = plt.figure(figsize=(7,7))\n",
    "fig.set_facecolor('white')\n",
    "ax = fig.add_subplot()\n",
    "plt.pie(value_pop, autopct='%1.1f%%', startangle=260, counterclock=False)\n",
    "plt.title('2019년 세종 가구원 수 비율',fontsize=15)\n",
    "plt.show()"
   ]
  },
  {
   "cell_type": "code",
   "execution_count": 83,
   "metadata": {
    "ExecuteTime": {
     "end_time": "2021-03-23T08:56:50.791585Z",
     "start_time": "2021-03-23T08:56:50.265941Z"
    }
   },
   "outputs": [
    {
     "data": {
      "image/png": "[encoded data removed]",
      "text/plain": [
       "<Figure size 648x648 with 1 Axes>"
      ]
     },
     "metadata": {},
     "output_type": "display_data"
    }
   ],
   "source": [
    "colors = sns.color_palette('Greens_r',len(list_index_jong))\n",
    "labels = list_index_jong ## 라벨\n",
    "frequency = value_pop_jong## 빈도\n",
    "fig = plt.figure(figsize=(9,9)) ## 캔버스 생성\n",
    "fig.set_facecolor('white') ## 캔버스 배경색을 하얀색으로 설정\n",
    "ax = fig.add_subplot() ## 프레임 생성\n",
    "pie = ax.pie(frequency, ## 파이차트 출력\n",
    "        startangle=90, ## 시작점을 90도(degree)로 지정\n",
    "       counterclock=False, ## 시계 방향으로 그린다.\n",
    "       #autopct=lambda p : '{:.2f}%'.format(p), ## 퍼센티지 출력\n",
    "       colors = colors,#['bisque','lightgreen','powderblue','lightsteelblue','plum','mistyrose','salmon'], ## 색상 지정\n",
    "        explode = [0,0,0,0,0,0,0])\n",
    "total = np.sum(frequency) ## 빈도수 합\n",
    "threshold = 5 ## 상한선 비율\n",
    "sum_pct = 0 ## 퍼센티지\n",
    "bbox_props = dict(boxstyle='square',fc='w',ec='w',alpha=0) ## annotation 박스 스타일\n",
    "## annotation 설정\n",
    "config = dict(arrowprops=dict(arrowstyle='-'),bbox=bbox_props,va='center')\n",
    "for i,l in enumerate(labels):\n",
    "    ang1, ang2 = ax.patches[i].theta1, ax.patches[i].theta2 ## 파이의 시작 각도와 끝 각도\n",
    "    center, r = ax.patches[i].center, ax.patches[i].r ## 원의 중심 좌표와 반지름길이\n",
    "    if i < len(labels) - 1:\n",
    "        sum_pct += float(f'{frequency[i]/total*100:.2f}')\n",
    "        text = f'{frequency[i]/total*100:.2f}%'\n",
    "    else: ## 마지막 파이 조각은 퍼센티지의 합이 100이 되도록 비율을 조절\n",
    "        text = f'{100-sum_pct:.2f}%'\n",
    "    ## 비율 상한선보다 작은 것들은 Annotation으로 만든다.\n",
    "    if frequency[i]/total*100 < threshold and i < len(labels) - 1:#마지막값이 아님\n",
    "        ang = (ang1+ang2)/2 ## 중심각\n",
    "        x = np.cos(np.deg2rad(ang)) ## Annotation의 끝점에 해당하는 x좌표\n",
    "        y = np.sin(np.deg2rad(ang)) ## Annotation의 끝점에 해당하는 y좌표\n",
    "        ## x좌표가 양수이면 즉 y축을 중심으로 오른쪽에 있으면 왼쪽 정렬\n",
    "        ## x좌표가 음수이면 즉 y축을 중심으로 왼쪽에 있으면 오른쪽 정렬\n",
    "        horizontalalignment = {-1: \"right\", 1: \"left\"}[int(np.sign(x))]\n",
    "        connectionstyle = \"angle,angleA=0,angleB={}\".format(ang) ## 시작점과 끝점 연결 스타일\n",
    "        config[\"arrowprops\"].update({\"connectionstyle\": connectionstyle}) ## \n",
    "        ax.annotate(text, xy=(x, y), xytext=(1.5*x, 1.2*y),\n",
    "                    horizontalalignment=horizontalalignment, **config, fontsize=15)\n",
    "    elif frequency[i]/total*100 < threshold and i >= len(labels) - 1:#마지막\n",
    "        ang = (ang1+ang2)/2 ## 중심각\n",
    "        x = np.cos(np.deg2rad(ang)) ## Annotation의 끝점에 해당하는 x좌표\n",
    "        y = np.sin(np.deg2rad(ang)) ## Annotation의 끝점에 해당하는 y좌표\n",
    "        horizontalalignment = {-1: \"right\", 1: \"left\"}[int(np.sign(x))]\n",
    "        connectionstyle = \"angle,angleA=0,angleB={}\".format(ang) ## 시작점과 끝점 연결 스타일\n",
    "        config[\"arrowprops\"].update({\"connectionstyle\": connectionstyle}) ## \n",
    "        ax.annotate(text, xy=(x, y), xytext=(1.5*x+0.2, 1.2*y),\n",
    "                    horizontalalignment=horizontalalignment, **config, fontsize=15)\n",
    "    else:\n",
    "        x = (r/2)*np.cos(np.pi/180*((ang1+ang2)/2)) + center[0] ## 텍스트 x좌표\n",
    "        y = (r/2)*np.sin(np.pi/180*((ang1+ang2)/2)) + center[1] ## 텍스트 y좌표\n",
    "        ax.text(x,y,text,ha='center',va='center',fontsize=20)\n",
    "plt.title('2019년 세종 가구원 수 비율', fontsize=18,pad=20)\n",
    "plt.legend(labels,loc='upper right') ## 범례 표시\n",
    "plt.savefig('2019년 세종 가구원 수 비율'+'.png')\n",
    "plt.show()"
   ]
  },
  {
   "cell_type": "code",
   "execution_count": 82,
   "metadata": {
    "ExecuteTime": {
     "end_time": "2021-03-23T08:56:22.277459Z",
     "start_time": "2021-03-23T08:56:21.816691Z"
    }
   },
   "outputs": [
    {
     "data": {
      "image/png": "[encoded data removed]",
      "text/plain": [
       "<Figure size 648x648 with 1 Axes>"
      ]
     },
     "metadata": {},
     "output_type": "display_data"
    }
   ],
   "source": [
    "colors = sns.color_palette('Blues_r',len(value_pop_oul))\n",
    "labels = list_index_oul ## 라벨\n",
    "frequency = value_pop_oul## 빈도\n",
    "fig = plt.figure(figsize=(9,9)) ## 캔버스 생성\n",
    "fig.set_facecolor('white') ## 캔버스 배경색을 하얀색으로 설정\n",
    "ax = fig.add_subplot() ## 프레임 생성\n",
    "pie = ax.pie(frequency, ## 파이차트 출력\n",
    "        startangle=90, ## 시작점을 90도(degree)로 지정\n",
    "       counterclock=False, ## 시계 방향으로 그린다.\n",
    "       #autopct=lambda p : '{:.2f}%'.format(p), ## 퍼센티지 출력\n",
    "       colors = colors,#['bisque','lightgreen','powderblue','lightsteelblue','plum','mistyrose','salmon'], ## 색상 지정\n",
    "        explode = [0,0,0,0,0,0,0])\n",
    "total = np.sum(frequency) ## 빈도수 합\n",
    "threshold = 5 ## 상한선 비율\n",
    "sum_pct = 0 ## 퍼센티지\n",
    "bbox_props = dict(boxstyle='square',fc='w',ec='w',alpha=0) ## annotation 박스 스타일\n",
    "## annotation 설정\n",
    "config = dict(arrowprops=dict(arrowstyle='-'),bbox=bbox_props,va='center')\n",
    "for i,l in enumerate(labels):\n",
    "    ang1, ang2 = ax.patches[i].theta1, ax.patches[i].theta2 ## 파이의 시작 각도와 끝 각도\n",
    "    center, r = ax.patches[i].center, ax.patches[i].r ## 원의 중심 좌표와 반지름길이\n",
    "    if i < len(labels) - 1:\n",
    "        sum_pct += float(f'{frequency[i]/total*100:.2f}')\n",
    "        text = f'{frequency[i]/total*100:.2f}%'\n",
    "    else: ## 마지막 파이 조각은 퍼센티지의 합이 100이 되도록 비율을 조절\n",
    "        text = f'{100-sum_pct:.2f}%'\n",
    "    ## 비율 상한선보다 작은 것들은 Annotation으로 만든다.\n",
    "    if frequency[i]/total*100 < threshold and i < len(labels) - 1:#마지막값이 아님\n",
    "        ang = (ang1+ang2)/2 ## 중심각\n",
    "        x = np.cos(np.deg2rad(ang)) ## Annotation의 끝점에 해당하는 x좌표\n",
    "        y = np.sin(np.deg2rad(ang)) ## Annotation의 끝점에 해당하는 y좌표\n",
    "        ## x좌표가 양수이면 즉 y축을 중심으로 오른쪽에 있으면 왼쪽 정렬\n",
    "        ## x좌표가 음수이면 즉 y축을 중심으로 왼쪽에 있으면 오른쪽 정렬\n",
    "        horizontalalignment = {-1: \"right\", 1: \"left\"}[int(np.sign(x))]\n",
    "        connectionstyle = \"angle,angleA=0,angleB={}\".format(ang) ## 시작점과 끝점 연결 스타일\n",
    "        config[\"arrowprops\"].update({\"connectionstyle\": connectionstyle}) ## \n",
    "        ax.annotate(text, xy=(x, y), xytext=(1.5*x+0.1, 1.2*y),\n",
    "                    horizontalalignment=horizontalalignment, **config, fontsize=15)\n",
    "    elif frequency[i]/total*100 < threshold and i >= len(labels) - 1:#마지막\n",
    "        ang = (ang1+ang2)/2 ## 중심각\n",
    "        x = np.cos(np.deg2rad(ang)) ## Annotation의 끝점에 해당하는 x좌표\n",
    "        y = np.sin(np.deg2rad(ang)) ## Annotation의 끝점에 해당하는 y좌표\n",
    "        ## x좌표가 양수이면 즉 y축을 중심으로 오른쪽에 있으면 왼쪽 정렬\n",
    "        ## x좌표가 음수이면 즉 y축을 중심으로 왼쪽에 있으면 오른쪽 정렬\n",
    "        horizontalalignment = {-1: \"right\", 1: \"left\"}[int(np.sign(x))]\n",
    "        connectionstyle = \"angle,angleA=0,angleB={}\".format(ang) ## 시작점과 끝점 연결 스타일\n",
    "        config[\"arrowprops\"].update({\"connectionstyle\": connectionstyle}) ## \n",
    "        ax.annotate(text, xy=(x, y), xytext=(1.5*x+0.3, 1.2*y-0.1),\n",
    "                    horizontalalignment=horizontalalignment, **config, fontsize=15)\n",
    "    else:\n",
    "        x = (r/2)*np.cos(np.pi/180*((ang1+ang2)/2)) + center[0] ## 텍스트 x좌표\n",
    "        y = (r/2)*np.sin(np.pi/180*((ang1+ang2)/2)) + center[1] ## 텍스트 y좌표\n",
    "        ax.text(x,y,text,ha='center',va='center',fontsize=20)\n",
    "plt.title('2019년 전국 가구원 수 비율', fontsize=18,pad=20)\n",
    "plt.legend(labels,loc='upper right') ## 범례 표시\n",
    "plt.savefig('2019년 전국 가구원 수 비율'+'.png')\n",
    "plt.show()"
   ]
  },
  {
   "cell_type": "code",
   "execution_count": 15,
   "metadata": {
    "ExecuteTime": {
     "end_time": "2021-03-23T04:13:01.275286Z",
     "start_time": "2021-03-23T04:13:01.270300Z"
    }
   },
   "outputs": [
    {
     "data": {
      "text/plain": [
       "[11]"
      ]
     },
     "execution_count": 15,
     "metadata": {},
     "output_type": "execute_result"
    }
   ],
   "source": [
    "list_index=list(sejong.T.index[2:])#1인가구~~7인이상\n",
    "value_pop=list(sejong.T.iloc[2:])#그들의 값\n",
    "value_pop"
   ]
  },
  {
   "cell_type": "code",
   "execution_count": null,
   "metadata": {
    "ExecuteTime": {
     "end_time": "2021-03-21T08:15:23.707592Z",
     "start_time": "2021-03-21T08:15:23.688642Z"
    }
   },
   "outputs": [],
   "source": [
    "#퍼센트가 필요하다면\n",
    "for i in range(2,9):\n",
    "    print((int(jeonguk.T.iloc[i][0])/int(jeonguk.T.iloc[1][0]))*100)"
   ]
  },
  {
   "cell_type": "code",
   "execution_count": null,
   "metadata": {},
   "outputs": [],
   "source": []
  }
 ],
 "metadata": {
  "kernelspec": {
   "display_name": "Python 3",
   "language": "python",
   "name": "python3"
  },
  "language_info": {
   "codemirror_mode": {
    "name": "ipython",
    "version": 3
   },
   "file_extension": ".py",
   "mimetype": "text/x-python",
   "name": "python",
   "nbconvert_exporter": "python",
   "pygments_lexer": "ipython3",
   "version": "3.8.5"
  },
  "toc": {
   "base_numbering": 1,
   "nav_menu": {},
   "number_sections": true,
   "sideBar": true,
   "skip_h1_title": false,
   "title_cell": "Table of Contents",
   "title_sidebar": "Contents",
   "toc_cell": false,
   "toc_position": {},
   "toc_section_display": true,
   "toc_window_display": false
  },
  "varInspector": {
   "cols": {
    "lenName": 16,
    "lenType": 16,
    "lenVar": 40
   },
   "kernels_config": {
    "python": {
     "delete_cmd_postfix": "",
     "delete_cmd_prefix": "del ",
     "library": "var_list.py",
     "varRefreshCmd": "print(var_dic_list())"
    },
    "r": {
     "delete_cmd_postfix": ") ",
     "delete_cmd_prefix": "rm(",
     "library": "var_list.r",
     "varRefreshCmd": "cat(var_dic_list()) "
    }
   },
   "types_to_exclude": [
    "module",
    "function",
    "builtin_function_or_method",
    "instance",
    "_Feature"
   ],
   "window_display": false
  }
 },
 "nbformat": 4,
 "nbformat_minor": 4
}
