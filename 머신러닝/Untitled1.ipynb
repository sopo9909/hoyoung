{
 "cells": [
  {
   "cell_type": "code",
   "execution_count": 1,
   "metadata": {
    "ExecuteTime": {
     "end_time": "2021-03-05T08:30:07.555972Z",
     "start_time": "2021-03-05T08:30:07.543007Z"
    }
   },
   "outputs": [],
   "source": [
    "###딥러닝을 활용한 분류"
   ]
  },
  {
   "cell_type": "code",
   "execution_count": 2,
   "metadata": {
    "ExecuteTime": {
     "end_time": "2021-03-05T08:30:11.808094Z",
     "start_time": "2021-03-05T08:30:07.557968Z"
    }
   },
   "outputs": [],
   "source": [
    "import pandas as pd\n",
    "import numpy as np\n",
    "from sklearn.datasets import load_iris\n",
    "import matplotlib.pyplot as plt\n",
    "import seaborn as sns\n",
    "from sklearn.model_selection import train_test_split\n",
    "from tensorflow.keras.models import Sequential\n",
    "from tensorflow.keras.layers import Dense\n",
    "from tensorflow.keras.optimizers import Adam"
   ]
  },
  {
   "cell_type": "code",
   "execution_count": 3,
   "metadata": {
    "ExecuteTime": {
     "end_time": "2021-03-05T08:30:11.823727Z",
     "start_time": "2021-03-05T08:30:11.809146Z"
    }
   },
   "outputs": [],
   "source": [
    "iris=load_iris()\n",
    "X_train,X_test,y_train,y_test=train_test_split(iris['data'],iris['target'],random_state=1)\n",
    "#irisdf=pd.DataFrame(data=iris['data'],columns=iris['feature_names'])\n",
    "#irisdf['target']=irisd['target']"
   ]
  },
  {
   "cell_type": "code",
   "execution_count": 4,
   "metadata": {
    "ExecuteTime": {
     "end_time": "2021-03-05T08:30:12.742354Z",
     "start_time": "2021-03-05T08:30:11.825682Z"
    }
   },
   "outputs": [],
   "source": [
    "model=Sequential()\n",
    "model.add(Dense(16,input_shape=(4,),activation='relu'))\n",
    "model.add(Dense(8,activation='relu'))\n",
    "model.add(Dense(3,activation='softmax'))\n",
    "model.compile(optimizer='Adam',loss='sparse_categorical_crossentropy',metrics=['accuracy'])"
   ]
  },
  {
   "cell_type": "code",
   "execution_count": 5,
   "metadata": {
    "ExecuteTime": {
     "end_time": "2021-03-05T08:30:12.773275Z",
     "start_time": "2021-03-05T08:30:12.744352Z"
    }
   },
   "outputs": [
    {
     "name": "stdout",
     "output_type": "stream",
     "text": [
      "Model: \"sequential\"\n",
      "_________________________________________________________________\n",
      "Layer (type)                 Output Shape              Param #   \n",
      "=================================================================\n",
      "dense (Dense)                (None, 16)                80        \n",
      "_________________________________________________________________\n",
      "dense_1 (Dense)              (None, 8)                 136       \n",
      "_________________________________________________________________\n",
      "dense_2 (Dense)              (None, 3)                 27        \n",
      "=================================================================\n",
      "Total params: 243\n",
      "Trainable params: 243\n",
      "Non-trainable params: 0\n",
      "_________________________________________________________________\n"
     ]
    }
   ],
   "source": [
    "model.summary()"
   ]
  },
  {
   "cell_type": "code",
   "execution_count": 14,
   "metadata": {
    "ExecuteTime": {
     "end_time": "2021-03-05T09:00:22.411011Z",
     "start_time": "2021-03-05T09:00:18.557298Z"
    }
   },
   "outputs": [
    {
     "name": "stdout",
     "output_type": "stream",
     "text": [
      "Epoch 1/50\n",
      "4/4 [==============================] - ETA: 0s - loss: 0.9160 - accuracy: 0.59 - 0s 33ms/step - loss: 0.8323 - accuracy: 0.6875 - val_loss: 0.9485 - val_accuracy: 0.5789\n",
      "Epoch 2/50\n",
      "4/4 [==============================] - ETA: 0s - loss: 0.8293 - accuracy: 0.71 - 0s 21ms/step - loss: 0.8179 - accuracy: 0.6964 - val_loss: 0.9391 - val_accuracy: 0.5789\n",
      "Epoch 3/50\n",
      "4/4 [==============================] - ETA: 0s - loss: 0.8179 - accuracy: 0.71 - 0s 22ms/step - loss: 0.8048 - accuracy: 0.6964 - val_loss: 0.9312 - val_accuracy: 0.5789\n",
      "Epoch 4/50\n",
      "4/4 [==============================] - ETA: 0s - loss: 0.7164 - accuracy: 0.75 - 0s 23ms/step - loss: 0.7932 - accuracy: 0.6964 - val_loss: 0.9223 - val_accuracy: 0.5789\n",
      "Epoch 5/50\n",
      "4/4 [==============================] - ETA: 0s - loss: 0.7559 - accuracy: 0.68 - 0s 21ms/step - loss: 0.7807 - accuracy: 0.6964 - val_loss: 0.9109 - val_accuracy: 0.5789\n",
      "Epoch 6/50\n",
      "4/4 [==============================] - ETA: 0s - loss: 0.7935 - accuracy: 0.62 - 0s 22ms/step - loss: 0.7689 - accuracy: 0.6964 - val_loss: 0.8968 - val_accuracy: 0.5789\n",
      "Epoch 7/50\n",
      "4/4 [==============================] - ETA: 0s - loss: 0.7218 - accuracy: 0.75 - 0s 21ms/step - loss: 0.7576 - accuracy: 0.6964 - val_loss: 0.8874 - val_accuracy: 0.5789\n",
      "Epoch 8/50\n",
      "4/4 [==============================] - ETA: 0s - loss: 0.7725 - accuracy: 0.65 - 0s 22ms/step - loss: 0.7470 - accuracy: 0.6964 - val_loss: 0.8760 - val_accuracy: 0.5789\n",
      "Epoch 9/50\n",
      "4/4 [==============================] - ETA: 0s - loss: 0.7454 - accuracy: 0.68 - 0s 22ms/step - loss: 0.7359 - accuracy: 0.6964 - val_loss: 0.8601 - val_accuracy: 0.5789\n",
      "Epoch 10/50\n",
      "4/4 [==============================] - ETA: 0s - loss: 0.7030 - accuracy: 0.75 - 0s 22ms/step - loss: 0.7267 - accuracy: 0.6964 - val_loss: 0.8482 - val_accuracy: 0.5789\n",
      "Epoch 11/50\n",
      "4/4 [==============================] - ETA: 0s - loss: 0.7187 - accuracy: 0.68 - 0s 20ms/step - loss: 0.7158 - accuracy: 0.6964 - val_loss: 0.8407 - val_accuracy: 0.5789\n",
      "Epoch 12/50\n",
      "4/4 [==============================] - ETA: 0s - loss: 0.6154 - accuracy: 0.81 - 0s 20ms/step - loss: 0.7063 - accuracy: 0.6964 - val_loss: 0.8358 - val_accuracy: 0.5789\n",
      "Epoch 13/50\n",
      "4/4 [==============================] - ETA: 0s - loss: 0.7876 - accuracy: 0.59 - 0s 21ms/step - loss: 0.6957 - accuracy: 0.6964 - val_loss: 0.8250 - val_accuracy: 0.5789\n",
      "Epoch 14/50\n",
      "4/4 [==============================] - ETA: 0s - loss: 0.7044 - accuracy: 0.68 - 0s 20ms/step - loss: 0.6861 - accuracy: 0.6964 - val_loss: 0.8108 - val_accuracy: 0.5789\n",
      "Epoch 15/50\n",
      "4/4 [==============================] - ETA: 0s - loss: 0.6402 - accuracy: 0.78 - 0s 21ms/step - loss: 0.6767 - accuracy: 0.6964 - val_loss: 0.8006 - val_accuracy: 0.5789\n",
      "Epoch 16/50\n",
      "4/4 [==============================] - ETA: 0s - loss: 0.7587 - accuracy: 0.56 - 0s 22ms/step - loss: 0.6670 - accuracy: 0.7054 - val_loss: 0.7924 - val_accuracy: 0.6053\n",
      "Epoch 17/50\n",
      "4/4 [==============================] - ETA: 0s - loss: 0.5990 - accuracy: 0.78 - 0s 22ms/step - loss: 0.6577 - accuracy: 0.7054 - val_loss: 0.7872 - val_accuracy: 0.6053\n",
      "Epoch 18/50\n",
      "4/4 [==============================] - ETA: 0s - loss: 0.6847 - accuracy: 0.68 - 0s 21ms/step - loss: 0.6483 - accuracy: 0.7054 - val_loss: 0.7786 - val_accuracy: 0.6053\n",
      "Epoch 19/50\n",
      "4/4 [==============================] - ETA: 0s - loss: 0.6423 - accuracy: 0.68 - 0s 21ms/step - loss: 0.6391 - accuracy: 0.7054 - val_loss: 0.7685 - val_accuracy: 0.6053\n",
      "Epoch 20/50\n",
      "4/4 [==============================] - ETA: 0s - loss: 0.5890 - accuracy: 0.78 - 0s 21ms/step - loss: 0.6302 - accuracy: 0.7054 - val_loss: 0.7575 - val_accuracy: 0.6053\n",
      "Epoch 21/50\n",
      "4/4 [==============================] - ETA: 0s - loss: 0.5379 - accuracy: 0.78 - 0s 21ms/step - loss: 0.6206 - accuracy: 0.7054 - val_loss: 0.7472 - val_accuracy: 0.6053\n",
      "Epoch 22/50\n",
      "4/4 [==============================] - ETA: 0s - loss: 0.6277 - accuracy: 0.71 - 0s 20ms/step - loss: 0.6114 - accuracy: 0.7232 - val_loss: 0.7359 - val_accuracy: 0.6053\n",
      "Epoch 23/50\n",
      "4/4 [==============================] - ETA: 0s - loss: 0.6631 - accuracy: 0.62 - 0s 21ms/step - loss: 0.6032 - accuracy: 0.7232 - val_loss: 0.7211 - val_accuracy: 0.6053\n",
      "Epoch 24/50\n",
      "4/4 [==============================] - ETA: 0s - loss: 0.5274 - accuracy: 0.75 - 0s 19ms/step - loss: 0.5954 - accuracy: 0.7232 - val_loss: 0.7153 - val_accuracy: 0.6053\n",
      "Epoch 25/50\n",
      "4/4 [==============================] - ETA: 0s - loss: 0.5888 - accuracy: 0.68 - 0s 18ms/step - loss: 0.5845 - accuracy: 0.7321 - val_loss: 0.6984 - val_accuracy: 0.6579\n",
      "Epoch 26/50\n",
      "4/4 [==============================] - ETA: 0s - loss: 0.5467 - accuracy: 0.78 - 0s 20ms/step - loss: 0.5762 - accuracy: 0.7589 - val_loss: 0.6869 - val_accuracy: 0.6579\n",
      "Epoch 27/50\n",
      "4/4 [==============================] - ETA: 0s - loss: 0.5750 - accuracy: 0.81 - 0s 20ms/step - loss: 0.5676 - accuracy: 0.7679 - val_loss: 0.6818 - val_accuracy: 0.6579\n",
      "Epoch 28/50\n",
      "4/4 [==============================] - ETA: 0s - loss: 0.5192 - accuracy: 0.78 - 0s 19ms/step - loss: 0.5589 - accuracy: 0.7679 - val_loss: 0.6777 - val_accuracy: 0.6316\n",
      "Epoch 29/50\n",
      "4/4 [==============================] - ETA: 0s - loss: 0.6465 - accuracy: 0.68 - 0s 19ms/step - loss: 0.5499 - accuracy: 0.7768 - val_loss: 0.6641 - val_accuracy: 0.6579\n",
      "Epoch 30/50\n",
      "4/4 [==============================] - ETA: 0s - loss: 0.5979 - accuracy: 0.65 - 0s 21ms/step - loss: 0.5415 - accuracy: 0.7768 - val_loss: 0.6539 - val_accuracy: 0.6579\n",
      "Epoch 31/50\n",
      "4/4 [==============================] - ETA: 0s - loss: 0.5054 - accuracy: 0.87 - 0s 21ms/step - loss: 0.5329 - accuracy: 0.7857 - val_loss: 0.6490 - val_accuracy: 0.6842\n",
      "Epoch 32/50\n",
      "4/4 [==============================] - ETA: 0s - loss: 0.5659 - accuracy: 0.78 - 0s 21ms/step - loss: 0.5247 - accuracy: 0.7946 - val_loss: 0.6400 - val_accuracy: 0.6842\n",
      "Epoch 33/50\n",
      "4/4 [==============================] - ETA: 0s - loss: 0.4006 - accuracy: 0.87 - 0s 21ms/step - loss: 0.5172 - accuracy: 0.7946 - val_loss: 0.6365 - val_accuracy: 0.6842\n",
      "Epoch 34/50\n",
      "4/4 [==============================] - ETA: 0s - loss: 0.5538 - accuracy: 0.75 - 0s 21ms/step - loss: 0.5086 - accuracy: 0.8036 - val_loss: 0.6240 - val_accuracy: 0.6842\n",
      "Epoch 35/50\n",
      "4/4 [==============================] - ETA: 0s - loss: 0.5490 - accuracy: 0.81 - 0s 22ms/step - loss: 0.5002 - accuracy: 0.8393 - val_loss: 0.6082 - val_accuracy: 0.6842\n",
      "Epoch 36/50\n",
      "4/4 [==============================] - ETA: 0s - loss: 0.4701 - accuracy: 0.87 - 0s 20ms/step - loss: 0.4928 - accuracy: 0.8482 - val_loss: 0.5968 - val_accuracy: 0.6842\n",
      "Epoch 37/50\n",
      "4/4 [==============================] - ETA: 0s - loss: 0.5523 - accuracy: 0.84 - 0s 20ms/step - loss: 0.4858 - accuracy: 0.8661 - val_loss: 0.5882 - val_accuracy: 0.6842\n",
      "Epoch 38/50\n",
      "4/4 [==============================] - ETA: 0s - loss: 0.5134 - accuracy: 0.81 - 0s 19ms/step - loss: 0.4778 - accuracy: 0.8661 - val_loss: 0.5834 - val_accuracy: 0.6842\n",
      "Epoch 39/50\n",
      "4/4 [==============================] - ETA: 0s - loss: 0.4762 - accuracy: 0.87 - 0s 22ms/step - loss: 0.4698 - accuracy: 0.8661 - val_loss: 0.5782 - val_accuracy: 0.6842\n",
      "Epoch 40/50\n",
      "4/4 [==============================] - ETA: 0s - loss: 0.5242 - accuracy: 0.84 - 0s 21ms/step - loss: 0.4622 - accuracy: 0.8482 - val_loss: 0.5760 - val_accuracy: 0.6842\n",
      "Epoch 41/50\n",
      "4/4 [==============================] - ETA: 0s - loss: 0.4574 - accuracy: 0.90 - 0s 21ms/step - loss: 0.4559 - accuracy: 0.8482 - val_loss: 0.5736 - val_accuracy: 0.6842\n",
      "Epoch 42/50\n",
      "4/4 [==============================] - ETA: 0s - loss: 0.3494 - accuracy: 0.96 - 0s 21ms/step - loss: 0.4492 - accuracy: 0.8482 - val_loss: 0.5629 - val_accuracy: 0.6842\n",
      "Epoch 43/50\n",
      "4/4 [==============================] - ETA: 0s - loss: 0.3190 - accuracy: 0.96 - 0s 20ms/step - loss: 0.4414 - accuracy: 0.8571 - val_loss: 0.5429 - val_accuracy: 0.7105\n",
      "Epoch 44/50\n",
      "4/4 [==============================] - ETA: 0s - loss: 0.4997 - accuracy: 0.81 - 0s 21ms/step - loss: 0.4365 - accuracy: 0.8929 - val_loss: 0.5283 - val_accuracy: 0.7632\n",
      "Epoch 45/50\n",
      "4/4 [==============================] - ETA: 0s - loss: 0.3812 - accuracy: 0.93 - 0s 21ms/step - loss: 0.4289 - accuracy: 0.9018 - val_loss: 0.5240 - val_accuracy: 0.7368\n",
      "Epoch 46/50\n"
     ]
    },
    {
     "name": "stdout",
     "output_type": "stream",
     "text": [
      "4/4 [==============================] - ETA: 0s - loss: 0.3608 - accuracy: 0.90 - 0s 22ms/step - loss: 0.4223 - accuracy: 0.8839 - val_loss: 0.5251 - val_accuracy: 0.7368\n",
      "Epoch 47/50\n",
      "4/4 [==============================] - ETA: 0s - loss: 0.3855 - accuracy: 0.87 - 0s 20ms/step - loss: 0.4152 - accuracy: 0.8839 - val_loss: 0.5209 - val_accuracy: 0.7105\n",
      "Epoch 48/50\n",
      "4/4 [==============================] - ETA: 0s - loss: 0.3690 - accuracy: 0.84 - 0s 19ms/step - loss: 0.4090 - accuracy: 0.8839 - val_loss: 0.5132 - val_accuracy: 0.7368\n",
      "Epoch 49/50\n",
      "4/4 [==============================] - ETA: 0s - loss: 0.4244 - accuracy: 0.87 - 0s 19ms/step - loss: 0.4029 - accuracy: 0.8839 - val_loss: 0.5023 - val_accuracy: 0.7368\n",
      "Epoch 50/50\n",
      "4/4 [==============================] - ETA: 0s - loss: 0.4171 - accuracy: 0.90 - 0s 21ms/step - loss: 0.3965 - accuracy: 0.9018 - val_loss: 0.4941 - val_accuracy: 0.7632\n"
     ]
    }
   ],
   "source": [
    "hist=model.fit(X_train,y_train,validation_data=(X_test,y_test),epochs=50)"
   ]
  },
  {
   "cell_type": "code",
   "execution_count": 15,
   "metadata": {
    "ExecuteTime": {
     "end_time": "2021-03-05T09:00:28.070628Z",
     "start_time": "2021-03-05T09:00:28.055107Z"
    }
   },
   "outputs": [
    {
     "data": {
      "text/plain": [
       "dict_keys(['loss', 'accuracy', 'val_loss', 'val_accuracy'])"
      ]
     },
     "execution_count": 15,
     "metadata": {},
     "output_type": "execute_result"
    }
   ],
   "source": [
    "hist.history.keys()"
   ]
  },
  {
   "cell_type": "code",
   "execution_count": 16,
   "metadata": {
    "ExecuteTime": {
     "end_time": "2021-03-05T09:00:30.483605Z",
     "start_time": "2021-03-05T09:00:30.471607Z"
    }
   },
   "outputs": [],
   "source": [
    "histdf=pd.DataFrame(hist.history)"
   ]
  },
  {
   "cell_type": "code",
   "execution_count": 17,
   "metadata": {
    "ExecuteTime": {
     "end_time": "2021-03-05T09:00:33.192514Z",
     "start_time": "2021-03-05T09:00:32.971320Z"
    }
   },
   "outputs": [
    {
     "data": {
      "image/png": "[encoded data removed]",
      "text/plain": [
       "<Figure size 432x288 with 1 Axes>"
      ]
     },
     "metadata": {
      "needs_background": "light"
     },
     "output_type": "display_data"
    }
   ],
   "source": [
    "histdf[['val_accuracy','accuracy']].plot()\n",
    "plt.show()"
   ]
  },
  {
   "cell_type": "code",
   "execution_count": null,
   "metadata": {},
   "outputs": [],
   "source": [
    "histdf[['val_accuracy','accuracy']].plot()\n",
    "plt.show()"
   ]
  },
  {
   "cell_type": "code",
   "execution_count": 7,
   "metadata": {
    "ExecuteTime": {
     "end_time": "2021-03-05T08:30:13.994639Z",
     "start_time": "2021-03-05T08:30:13.870911Z"
    }
   },
   "outputs": [],
   "source": [
    "prediction=model.predict(X_test)"
   ]
  },
  {
   "cell_type": "code",
   "execution_count": 8,
   "metadata": {
    "ExecuteTime": {
     "end_time": "2021-03-05T08:30:14.213600Z",
     "start_time": "2021-03-05T08:30:13.996605Z"
    }
   },
   "outputs": [
    {
     "name": "stdout",
     "output_type": "stream",
     "text": [
      "2/2 - 0s - loss: 1.0470 - accuracy: 0.2368\n",
      "\n",
      "테스트 정확도: 0.2368421107530594\n"
     ]
    }
   ],
   "source": [
    "test_loss, test_acc = model.evaluate(X_test,  y_test, verbose=2)\n",
    "print('\\n테스트 정확도:', test_acc)"
   ]
  },
  {
   "cell_type": "code",
   "execution_count": 9,
   "metadata": {
    "ExecuteTime": {
     "end_time": "2021-03-05T08:30:14.277205Z",
     "start_time": "2021-03-05T08:30:14.215548Z"
    }
   },
   "outputs": [],
   "source": [
    "predictions = model.predict(X_test)"
   ]
  },
  {
   "cell_type": "code",
   "execution_count": 10,
   "metadata": {
    "ExecuteTime": {
     "end_time": "2021-03-05T08:30:14.293012Z",
     "start_time": "2021-03-05T08:30:14.278996Z"
    }
   },
   "outputs": [
    {
     "data": {
      "text/plain": [
       "2"
      ]
     },
     "execution_count": 10,
     "metadata": {},
     "output_type": "execute_result"
    }
   ],
   "source": [
    "np.argmax(predictions[0])"
   ]
  },
  {
   "cell_type": "code",
   "execution_count": 11,
   "metadata": {
    "ExecuteTime": {
     "end_time": "2021-03-05T08:30:14.308918Z",
     "start_time": "2021-03-05T08:30:14.294955Z"
    }
   },
   "outputs": [
    {
     "data": {
      "text/plain": [
       "0"
      ]
     },
     "execution_count": 11,
     "metadata": {},
     "output_type": "execute_result"
    }
   ],
   "source": [
    "y_test[0]"
   ]
  },
  {
   "cell_type": "code",
   "execution_count": null,
   "metadata": {},
   "outputs": [],
   "source": []
  }
 ],
 "metadata": {
  "kernelspec": {
   "display_name": "Python 3",
   "language": "python",
   "name": "python3"
  },
  "language_info": {
   "codemirror_mode": {
    "name": "ipython",
    "version": 3
   },
   "file_extension": ".py",
   "mimetype": "text/x-python",
   "name": "python",
   "nbconvert_exporter": "python",
   "pygments_lexer": "ipython3",
   "version": "3.8.5"
  },
  "toc": {
   "base_numbering": 1,
   "nav_menu": {},
   "number_sections": true,
   "sideBar": true,
   "skip_h1_title": false,
   "title_cell": "Table of Contents",
   "title_sidebar": "Contents",
   "toc_cell": false,
   "toc_position": {},
   "toc_section_display": true,
   "toc_window_display": false
  },
  "varInspector": {
   "cols": {
    "lenName": 16,
    "lenType": 16,
    "lenVar": 40
   },
   "kernels_config": {
    "python": {
     "delete_cmd_postfix": "",
     "delete_cmd_prefix": "del ",
     "library": "var_list.py",
     "varRefreshCmd": "print(var_dic_list())"
    },
    "r": {
     "delete_cmd_postfix": ") ",
     "delete_cmd_prefix": "rm(",
     "library": "var_list.r",
     "varRefreshCmd": "cat(var_dic_list()) "
    }
   },
   "types_to_exclude": [
    "module",
    "function",
    "builtin_function_or_method",
    "instance",
    "_Feature"
   ],
   "window_display": false
  }
 },
 "nbformat": 4,
 "nbformat_minor": 4
}
