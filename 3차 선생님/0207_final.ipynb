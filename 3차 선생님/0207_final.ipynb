{
 "cells": [
  {
   "cell_type": "code",
   "execution_count": 1,
   "metadata": {
    "ExecuteTime": {
     "end_time": "2021-02-08T08:39:09.886397Z",
     "start_time": "2021-02-08T08:39:06.733941Z"
    }
   },
   "outputs": [],
   "source": [
    "#-*- encoding: utf-8 -*-\n",
    "import pandas as pd\n",
    "from datetime import datetime\n",
    "import platform\n",
    "from matplotlib import font_manager, rc\n",
    "import matplotlib.pyplot as plt\n",
    "import matplotlib as mpl\n",
    "import matplotlib.font_manager as fm\n",
    "import folium\n",
    "from datetime import datetime, timedelta\n",
    "from pandas import DataFrame\n",
    "from time import localtime,strftime\n",
    "import seaborn as sns\n",
    "import matplotlib.ticker as ticker\n",
    "colors = sns.color_palette('hls',11)\n",
    "mpl.rcParams['axes.unicode_minus'] = False"
   ]
  },
  {
   "cell_type": "code",
   "execution_count": 2,
   "metadata": {
    "ExecuteTime": {
     "end_time": "2021-02-08T08:39:16.675203Z",
     "start_time": "2021-02-08T08:39:09.906330Z"
    }
   },
   "outputs": [],
   "source": [
    "data_set= pd.read_csv('department_data_ho(utf-8).csv',encoding='utf-8')"
   ]
  },
  {
   "cell_type": "code",
   "execution_count": 3,
   "metadata": {
    "ExecuteTime": {
     "end_time": "2021-02-08T08:39:16.736552Z",
     "start_time": "2021-02-08T08:39:16.726579Z"
    }
   },
   "outputs": [],
   "source": [
    "%matplotlib inline \n",
    "plt.rcParams['axes.unicode_minus'] = False\n",
    "if platform.system() == 'Darwin':\n",
    "    rc('font', family = 'AppleGothic')\n",
    "elif platform.system() == 'Windows':\n",
    "    path ='C:/Windows/Fonts/malgun.ttf'\n",
    "    font_name = font_manager.FontProperties(fname=path).get_name()\n",
    "    rc('font', family=font_name)\n",
    "else:\n",
    "    print(\"Can't find your system.\")"
   ]
  },
  {
   "cell_type": "code",
   "execution_count": 12,
   "metadata": {
    "ExecuteTime": {
     "end_time": "2021-02-08T08:48:08.971951Z",
     "start_time": "2021-02-08T08:48:08.964943Z"
    }
   },
   "outputs": [],
   "source": [
    "data_set['count']=1"
   ]
  },
  {
   "cell_type": "code",
   "execution_count": 15,
   "metadata": {
    "ExecuteTime": {
     "end_time": "2021-02-08T08:52:07.384604Z",
     "start_time": "2021-02-08T08:52:06.370805Z"
    }
   },
   "outputs": [
    {
     "data": {
      "text/html": [
       "<div>\n",
       "<style scoped>\n",
       "    .dataframe tbody tr th:only-of-type {\n",
       "        vertical-align: middle;\n",
       "    }\n",
       "\n",
       "    .dataframe tbody tr th {\n",
       "        vertical-align: top;\n",
       "    }\n",
       "\n",
       "    .dataframe thead th {\n",
       "        text-align: right;\n",
       "    }\n",
       "</style>\n",
       "<table border=\"1\" class=\"dataframe\">\n",
       "  <thead>\n",
       "    <tr style=\"text-align: right;\">\n",
       "      <th></th>\n",
       "      <th>Unnamed: 0</th>\n",
       "      <th>custid</th>\n",
       "      <th>date_time</th>\n",
       "      <th>store</th>\n",
       "      <th>product</th>\n",
       "      <th>brand</th>\n",
       "      <th>corner</th>\n",
       "      <th>pc</th>\n",
       "      <th>part</th>\n",
       "      <th>imported</th>\n",
       "      <th>...</th>\n",
       "      <th>discount</th>\n",
       "      <th>installment</th>\n",
       "      <th>gender</th>\n",
       "      <th>지점</th>\n",
       "      <th>지점명</th>\n",
       "      <th>평균기온(°C)</th>\n",
       "      <th>일강수량(mm)</th>\n",
       "      <th>time</th>\n",
       "      <th>week</th>\n",
       "      <th>count</th>\n",
       "    </tr>\n",
       "  </thead>\n",
       "  <tbody>\n",
       "    <tr>\n",
       "      <th>0</th>\n",
       "      <td>0</td>\n",
       "      <td>0</td>\n",
       "      <td>2000-06-25 12:12:00</td>\n",
       "      <td>무역점</td>\n",
       "      <td>2116050008000</td>\n",
       "      <td>에스티로더</td>\n",
       "      <td>수입종합화장품</td>\n",
       "      <td>화장품</td>\n",
       "      <td>명품잡화</td>\n",
       "      <td>1</td>\n",
       "      <td>...</td>\n",
       "      <td>9000</td>\n",
       "      <td>3</td>\n",
       "      <td>1</td>\n",
       "      <td>108</td>\n",
       "      <td>서울</td>\n",
       "      <td>25.1</td>\n",
       "      <td>0.0</td>\n",
       "      <td>12:12</td>\n",
       "      <td>Sunday</td>\n",
       "      <td>1</td>\n",
       "    </tr>\n",
       "    <tr>\n",
       "      <th>1</th>\n",
       "      <td>1</td>\n",
       "      <td>0</td>\n",
       "      <td>2000-06-25 12:42:00</td>\n",
       "      <td>무역점</td>\n",
       "      <td>4125440008000</td>\n",
       "      <td>시슬리</td>\n",
       "      <td>수입종합화장품</td>\n",
       "      <td>화장품</td>\n",
       "      <td>명품잡화</td>\n",
       "      <td>1</td>\n",
       "      <td>...</td>\n",
       "      <td>3900</td>\n",
       "      <td>1</td>\n",
       "      <td>1</td>\n",
       "      <td>108</td>\n",
       "      <td>서울</td>\n",
       "      <td>25.1</td>\n",
       "      <td>0.0</td>\n",
       "      <td>12:42</td>\n",
       "      <td>Sunday</td>\n",
       "      <td>1</td>\n",
       "    </tr>\n",
       "    <tr>\n",
       "      <th>2</th>\n",
       "      <td>2</td>\n",
       "      <td>0</td>\n",
       "      <td>2000-08-26 18:10:00</td>\n",
       "      <td>본점</td>\n",
       "      <td>2116052008000</td>\n",
       "      <td>크리니크</td>\n",
       "      <td>수입종합화장품</td>\n",
       "      <td>화장품</td>\n",
       "      <td>잡화파트</td>\n",
       "      <td>1</td>\n",
       "      <td>...</td>\n",
       "      <td>17500</td>\n",
       "      <td>3</td>\n",
       "      <td>1</td>\n",
       "      <td>108</td>\n",
       "      <td>서울</td>\n",
       "      <td>22.1</td>\n",
       "      <td>89.3</td>\n",
       "      <td>18:10</td>\n",
       "      <td>Saturday</td>\n",
       "      <td>1</td>\n",
       "    </tr>\n",
       "    <tr>\n",
       "      <th>3</th>\n",
       "      <td>3</td>\n",
       "      <td>0</td>\n",
       "      <td>2000-08-26 18:30:00</td>\n",
       "      <td>본점</td>\n",
       "      <td>4106430119900</td>\n",
       "      <td>듀퐁</td>\n",
       "      <td>수입의류</td>\n",
       "      <td>명품토탈</td>\n",
       "      <td>잡화파트</td>\n",
       "      <td>1</td>\n",
       "      <td>...</td>\n",
       "      <td>45500</td>\n",
       "      <td>3</td>\n",
       "      <td>1</td>\n",
       "      <td>108</td>\n",
       "      <td>서울</td>\n",
       "      <td>22.1</td>\n",
       "      <td>89.3</td>\n",
       "      <td>18:30</td>\n",
       "      <td>Saturday</td>\n",
       "      <td>1</td>\n",
       "    </tr>\n",
       "    <tr>\n",
       "      <th>4</th>\n",
       "      <td>4</td>\n",
       "      <td>0</td>\n",
       "      <td>2000-09-03 18:02:00</td>\n",
       "      <td>무역점</td>\n",
       "      <td>2139141008000</td>\n",
       "      <td>랑콤</td>\n",
       "      <td>수입종합화장품</td>\n",
       "      <td>화장품</td>\n",
       "      <td>명품잡화</td>\n",
       "      <td>0</td>\n",
       "      <td>...</td>\n",
       "      <td>10000</td>\n",
       "      <td>3</td>\n",
       "      <td>1</td>\n",
       "      <td>108</td>\n",
       "      <td>서울</td>\n",
       "      <td>25.1</td>\n",
       "      <td>9.5</td>\n",
       "      <td>18:02</td>\n",
       "      <td>Sunday</td>\n",
       "      <td>1</td>\n",
       "    </tr>\n",
       "    <tr>\n",
       "      <th>...</th>\n",
       "      <td>...</td>\n",
       "      <td>...</td>\n",
       "      <td>...</td>\n",
       "      <td>...</td>\n",
       "      <td>...</td>\n",
       "      <td>...</td>\n",
       "      <td>...</td>\n",
       "      <td>...</td>\n",
       "      <td>...</td>\n",
       "      <td>...</td>\n",
       "      <td>...</td>\n",
       "      <td>...</td>\n",
       "      <td>...</td>\n",
       "      <td>...</td>\n",
       "      <td>...</td>\n",
       "      <td>...</td>\n",
       "      <td>...</td>\n",
       "      <td>...</td>\n",
       "      <td>...</td>\n",
       "      <td>...</td>\n",
       "      <td>...</td>\n",
       "    </tr>\n",
       "    <tr>\n",
       "      <th>1726425</th>\n",
       "      <td>1726425</td>\n",
       "      <td>49993</td>\n",
       "      <td>2001-01-31 17:50:00</td>\n",
       "      <td>신촌점</td>\n",
       "      <td>4405551020474</td>\n",
       "      <td>톰키드</td>\n",
       "      <td>아동</td>\n",
       "      <td>아동</td>\n",
       "      <td>아동문화</td>\n",
       "      <td>0</td>\n",
       "      <td>...</td>\n",
       "      <td>0</td>\n",
       "      <td>1</td>\n",
       "      <td>1</td>\n",
       "      <td>108</td>\n",
       "      <td>서울</td>\n",
       "      <td>-0.3</td>\n",
       "      <td>4.0</td>\n",
       "      <td>17:50</td>\n",
       "      <td>Wednesday</td>\n",
       "      <td>1</td>\n",
       "    </tr>\n",
       "    <tr>\n",
       "      <th>1726426</th>\n",
       "      <td>1726426</td>\n",
       "      <td>49993</td>\n",
       "      <td>2001-01-31 18:33:00</td>\n",
       "      <td>신촌점</td>\n",
       "      <td>2139140008300</td>\n",
       "      <td>폴로화장품</td>\n",
       "      <td>향수</td>\n",
       "      <td>화장품</td>\n",
       "      <td>패션잡화</td>\n",
       "      <td>0</td>\n",
       "      <td>...</td>\n",
       "      <td>3500</td>\n",
       "      <td>1</td>\n",
       "      <td>1</td>\n",
       "      <td>108</td>\n",
       "      <td>서울</td>\n",
       "      <td>-0.3</td>\n",
       "      <td>4.0</td>\n",
       "      <td>18:33</td>\n",
       "      <td>Wednesday</td>\n",
       "      <td>1</td>\n",
       "    </tr>\n",
       "    <tr>\n",
       "      <th>1726427</th>\n",
       "      <td>1726427</td>\n",
       "      <td>49994</td>\n",
       "      <td>2001-04-14 17:50:00</td>\n",
       "      <td>본점</td>\n",
       "      <td>4230120011274</td>\n",
       "      <td>스테파넬</td>\n",
       "      <td>영트랜드</td>\n",
       "      <td>영트렌디</td>\n",
       "      <td>케주얼,구두,아동</td>\n",
       "      <td>0</td>\n",
       "      <td>...</td>\n",
       "      <td>0</td>\n",
       "      <td>1</td>\n",
       "      <td>0</td>\n",
       "      <td>108</td>\n",
       "      <td>서울</td>\n",
       "      <td>9.1</td>\n",
       "      <td>4.3</td>\n",
       "      <td>17:50</td>\n",
       "      <td>Saturday</td>\n",
       "      <td>1</td>\n",
       "    </tr>\n",
       "    <tr>\n",
       "      <th>1726428</th>\n",
       "      <td>1726428</td>\n",
       "      <td>49994</td>\n",
       "      <td>2001-04-14 18:10:00</td>\n",
       "      <td>본점</td>\n",
       "      <td>4409271026010</td>\n",
       "      <td>써스데이아일앤드</td>\n",
       "      <td>진케주얼</td>\n",
       "      <td>진케주얼</td>\n",
       "      <td>케주얼,구두,아동</td>\n",
       "      <td>0</td>\n",
       "      <td>...</td>\n",
       "      <td>0</td>\n",
       "      <td>1</td>\n",
       "      <td>0</td>\n",
       "      <td>108</td>\n",
       "      <td>서울</td>\n",
       "      <td>9.1</td>\n",
       "      <td>4.3</td>\n",
       "      <td>18:10</td>\n",
       "      <td>Saturday</td>\n",
       "      <td>1</td>\n",
       "    </tr>\n",
       "    <tr>\n",
       "      <th>1726429</th>\n",
       "      <td>1726429</td>\n",
       "      <td>49994</td>\n",
       "      <td>2001-04-15 16:02:00</td>\n",
       "      <td>무역점</td>\n",
       "      <td>2116052008000</td>\n",
       "      <td>크리니크</td>\n",
       "      <td>수입종합화장품</td>\n",
       "      <td>화장품</td>\n",
       "      <td>명품잡화</td>\n",
       "      <td>1</td>\n",
       "      <td>...</td>\n",
       "      <td>8600</td>\n",
       "      <td>1</td>\n",
       "      <td>0</td>\n",
       "      <td>108</td>\n",
       "      <td>서울</td>\n",
       "      <td>12.9</td>\n",
       "      <td>0.0</td>\n",
       "      <td>16:02</td>\n",
       "      <td>Sunday</td>\n",
       "      <td>1</td>\n",
       "    </tr>\n",
       "  </tbody>\n",
       "</table>\n",
       "<p>1726430 rows × 21 columns</p>\n",
       "</div>"
      ],
      "text/plain": [
       "         Unnamed: 0  custid            date_time store        product  \\\n",
       "0                 0       0  2000-06-25 12:12:00   무역점  2116050008000   \n",
       "1                 1       0  2000-06-25 12:42:00   무역점  4125440008000   \n",
       "2                 2       0  2000-08-26 18:10:00    본점  2116052008000   \n",
       "3                 3       0  2000-08-26 18:30:00    본점  4106430119900   \n",
       "4                 4       0  2000-09-03 18:02:00   무역점  2139141008000   \n",
       "...             ...     ...                  ...   ...            ...   \n",
       "1726425     1726425   49993  2001-01-31 17:50:00   신촌점  4405551020474   \n",
       "1726426     1726426   49993  2001-01-31 18:33:00   신촌점  2139140008300   \n",
       "1726427     1726427   49994  2001-04-14 17:50:00    본점  4230120011274   \n",
       "1726428     1726428   49994  2001-04-14 18:10:00    본점  4409271026010   \n",
       "1726429     1726429   49994  2001-04-15 16:02:00   무역점  2116052008000   \n",
       "\n",
       "            brand   corner    pc       part  imported  ...  discount  \\\n",
       "0           에스티로더  수입종합화장품   화장품       명품잡화         1  ...      9000   \n",
       "1             시슬리  수입종합화장품   화장품       명품잡화         1  ...      3900   \n",
       "2            크리니크  수입종합화장품   화장품       잡화파트         1  ...     17500   \n",
       "3              듀퐁     수입의류  명품토탈       잡화파트         1  ...     45500   \n",
       "4              랑콤  수입종합화장품   화장품       명품잡화         0  ...     10000   \n",
       "...           ...      ...   ...        ...       ...  ...       ...   \n",
       "1726425       톰키드       아동    아동       아동문화         0  ...         0   \n",
       "1726426     폴로화장품       향수   화장품       패션잡화         0  ...      3500   \n",
       "1726427      스테파넬     영트랜드  영트렌디  케주얼,구두,아동         0  ...         0   \n",
       "1726428  써스데이아일앤드     진케주얼  진케주얼  케주얼,구두,아동         0  ...         0   \n",
       "1726429      크리니크  수입종합화장품   화장품       명품잡화         1  ...      8600   \n",
       "\n",
       "         installment  gender   지점  지점명 평균기온(°C)  일강수량(mm)   time       week  \\\n",
       "0                  3       1  108   서울     25.1       0.0  12:12     Sunday   \n",
       "1                  1       1  108   서울     25.1       0.0  12:42     Sunday   \n",
       "2                  3       1  108   서울     22.1      89.3  18:10   Saturday   \n",
       "3                  3       1  108   서울     22.1      89.3  18:30   Saturday   \n",
       "4                  3       1  108   서울     25.1       9.5  18:02     Sunday   \n",
       "...              ...     ...  ...  ...      ...       ...    ...        ...   \n",
       "1726425            1       1  108   서울     -0.3       4.0  17:50  Wednesday   \n",
       "1726426            1       1  108   서울     -0.3       4.0  18:33  Wednesday   \n",
       "1726427            1       0  108   서울      9.1       4.3  17:50   Saturday   \n",
       "1726428            1       0  108   서울      9.1       4.3  18:10   Saturday   \n",
       "1726429            1       0  108   서울     12.9       0.0  16:02     Sunday   \n",
       "\n",
       "        count  \n",
       "0           1  \n",
       "1           1  \n",
       "2           1  \n",
       "3           1  \n",
       "4           1  \n",
       "...       ...  \n",
       "1726425     1  \n",
       "1726426     1  \n",
       "1726427     1  \n",
       "1726428     1  \n",
       "1726429     1  \n",
       "\n",
       "[1726430 rows x 21 columns]"
      ]
     },
     "execution_count": 15,
     "metadata": {},
     "output_type": "execute_result"
    }
   ],
   "source": [
    "data_set"
   ]
  },
  {
   "cell_type": "code",
   "execution_count": null,
   "metadata": {},
   "outputs": [],
   "source": []
  },
  {
   "cell_type": "code",
   "execution_count": 19,
   "metadata": {
    "ExecuteTime": {
     "end_time": "2021-02-08T08:57:26.301885Z",
     "start_time": "2021-02-08T08:57:25.521949Z"
    }
   },
   "outputs": [
    {
     "data": {
      "text/html": [
       "<div>\n",
       "<style scoped>\n",
       "    .dataframe tbody tr th:only-of-type {\n",
       "        vertical-align: middle;\n",
       "    }\n",
       "\n",
       "    .dataframe tbody tr th {\n",
       "        vertical-align: top;\n",
       "    }\n",
       "\n",
       "    .dataframe thead th {\n",
       "        text-align: right;\n",
       "    }\n",
       "</style>\n",
       "<table border=\"1\" class=\"dataframe\">\n",
       "  <thead>\n",
       "    <tr style=\"text-align: right;\">\n",
       "      <th></th>\n",
       "      <th>Unnamed: 0</th>\n",
       "      <th>custid</th>\n",
       "      <th>product</th>\n",
       "      <th>imported</th>\n",
       "      <th>amount</th>\n",
       "      <th>discount</th>\n",
       "      <th>installment</th>\n",
       "      <th>gender</th>\n",
       "      <th>지점</th>\n",
       "      <th>평균기온(°C)</th>\n",
       "      <th>일강수량(mm)</th>\n",
       "      <th>count</th>\n",
       "    </tr>\n",
       "    <tr>\n",
       "      <th>brand</th>\n",
       "      <th></th>\n",
       "      <th></th>\n",
       "      <th></th>\n",
       "      <th></th>\n",
       "      <th></th>\n",
       "      <th></th>\n",
       "      <th></th>\n",
       "      <th></th>\n",
       "      <th></th>\n",
       "      <th></th>\n",
       "      <th></th>\n",
       "      <th></th>\n",
       "    </tr>\n",
       "  </thead>\n",
       "  <tbody>\n",
       "    <tr>\n",
       "      <th>식품</th>\n",
       "      <td>202393819763</td>\n",
       "      <td>5838983442</td>\n",
       "      <td>634248900000000000</td>\n",
       "      <td>0</td>\n",
       "      <td>9137942104</td>\n",
       "      <td>192980</td>\n",
       "      <td>269110</td>\n",
       "      <td>0</td>\n",
       "      <td>25369956</td>\n",
       "      <td>2962957.1</td>\n",
       "      <td>769781.9</td>\n",
       "      <td>234907</td>\n",
       "    </tr>\n",
       "    <tr>\n",
       "      <th>폴로</th>\n",
       "      <td>8601229790</td>\n",
       "      <td>248159835</td>\n",
       "      <td>54828808022911248</td>\n",
       "      <td>126</td>\n",
       "      <td>1119303000</td>\n",
       "      <td>55712930</td>\n",
       "      <td>23959</td>\n",
       "      <td>0</td>\n",
       "      <td>1063476</td>\n",
       "      <td>130770.9</td>\n",
       "      <td>37833.5</td>\n",
       "      <td>9847</td>\n",
       "    </tr>\n",
       "    <tr>\n",
       "      <th>타임</th>\n",
       "      <td>3292134317</td>\n",
       "      <td>94997277</td>\n",
       "      <td>15699159737300252</td>\n",
       "      <td>0</td>\n",
       "      <td>909024000</td>\n",
       "      <td>51135150</td>\n",
       "      <td>10678</td>\n",
       "      <td>0</td>\n",
       "      <td>402840</td>\n",
       "      <td>50687.6</td>\n",
       "      <td>13174.6</td>\n",
       "      <td>3730</td>\n",
       "    </tr>\n",
       "    <tr>\n",
       "      <th>지오다노</th>\n",
       "      <td>16265017086</td>\n",
       "      <td>469288586</td>\n",
       "      <td>83731451017627296</td>\n",
       "      <td>0</td>\n",
       "      <td>795665600</td>\n",
       "      <td>40802490</td>\n",
       "      <td>28022</td>\n",
       "      <td>0</td>\n",
       "      <td>2027268</td>\n",
       "      <td>247840.2</td>\n",
       "      <td>61166.8</td>\n",
       "      <td>18771</td>\n",
       "    </tr>\n",
       "    <tr>\n",
       "      <th>버버리</th>\n",
       "      <td>2029215487</td>\n",
       "      <td>58550638</td>\n",
       "      <td>9550838062735470</td>\n",
       "      <td>2329</td>\n",
       "      <td>744200600</td>\n",
       "      <td>35323860</td>\n",
       "      <td>7073</td>\n",
       "      <td>0</td>\n",
       "      <td>251532</td>\n",
       "      <td>26074.7</td>\n",
       "      <td>7236.2</td>\n",
       "      <td>2329</td>\n",
       "    </tr>\n",
       "    <tr>\n",
       "      <th>마인</th>\n",
       "      <td>3268289986</td>\n",
       "      <td>94304773</td>\n",
       "      <td>15967804878008932</td>\n",
       "      <td>0</td>\n",
       "      <td>733084600</td>\n",
       "      <td>35004490</td>\n",
       "      <td>10487</td>\n",
       "      <td>0</td>\n",
       "      <td>410292</td>\n",
       "      <td>46447.5</td>\n",
       "      <td>12161.1</td>\n",
       "      <td>3799</td>\n",
       "    </tr>\n",
       "    <tr>\n",
       "      <th>삼성</th>\n",
       "      <td>1444839698</td>\n",
       "      <td>41688030</td>\n",
       "      <td>7293500740398749</td>\n",
       "      <td>0</td>\n",
       "      <td>676484330</td>\n",
       "      <td>151730</td>\n",
       "      <td>4963</td>\n",
       "      <td>0</td>\n",
       "      <td>174960</td>\n",
       "      <td>22568.6</td>\n",
       "      <td>5503.8</td>\n",
       "      <td>1620</td>\n",
       "    </tr>\n",
       "    <tr>\n",
       "      <th>빈폴</th>\n",
       "      <td>4736832114</td>\n",
       "      <td>136671528</td>\n",
       "      <td>34174984730187060</td>\n",
       "      <td>0</td>\n",
       "      <td>582621500</td>\n",
       "      <td>25731720</td>\n",
       "      <td>13020</td>\n",
       "      <td>0</td>\n",
       "      <td>585144</td>\n",
       "      <td>75505.9</td>\n",
       "      <td>14214.6</td>\n",
       "      <td>5418</td>\n",
       "    </tr>\n",
       "    <tr>\n",
       "      <th>에뜨로</th>\n",
       "      <td>1501842279</td>\n",
       "      <td>43324740</td>\n",
       "      <td>7414128345021383</td>\n",
       "      <td>1635</td>\n",
       "      <td>508710700</td>\n",
       "      <td>22765150</td>\n",
       "      <td>4770</td>\n",
       "      <td>0</td>\n",
       "      <td>194400</td>\n",
       "      <td>22417.9</td>\n",
       "      <td>5194.9</td>\n",
       "      <td>1800</td>\n",
       "    </tr>\n",
       "    <tr>\n",
       "      <th>루이비통</th>\n",
       "      <td>981506773</td>\n",
       "      <td>28323422</td>\n",
       "      <td>6739771373737500</td>\n",
       "      <td>1099</td>\n",
       "      <td>508487800</td>\n",
       "      <td>0</td>\n",
       "      <td>3722</td>\n",
       "      <td>0</td>\n",
       "      <td>118692</td>\n",
       "      <td>14740.2</td>\n",
       "      <td>3989.7</td>\n",
       "      <td>1099</td>\n",
       "    </tr>\n",
       "    <tr>\n",
       "      <th>시스템</th>\n",
       "      <td>4060266502</td>\n",
       "      <td>117151238</td>\n",
       "      <td>19978572316797108</td>\n",
       "      <td>0</td>\n",
       "      <td>504731250</td>\n",
       "      <td>23697260</td>\n",
       "      <td>12384</td>\n",
       "      <td>0</td>\n",
       "      <td>512568</td>\n",
       "      <td>68073.0</td>\n",
       "      <td>15900.7</td>\n",
       "      <td>4746</td>\n",
       "    </tr>\n",
       "    <tr>\n",
       "      <th>SJ</th>\n",
       "      <td>3705579570</td>\n",
       "      <td>106913985</td>\n",
       "      <td>18016929687374208</td>\n",
       "      <td>0</td>\n",
       "      <td>502163850</td>\n",
       "      <td>23845860</td>\n",
       "      <td>11194</td>\n",
       "      <td>0</td>\n",
       "      <td>462240</td>\n",
       "      <td>58935.8</td>\n",
       "      <td>12084.4</td>\n",
       "      <td>4280</td>\n",
       "    </tr>\n",
       "    <tr>\n",
       "      <th>피에르가르뎅</th>\n",
       "      <td>4424464525</td>\n",
       "      <td>127653527</td>\n",
       "      <td>23147402449843328</td>\n",
       "      <td>0</td>\n",
       "      <td>488511770</td>\n",
       "      <td>10453510</td>\n",
       "      <td>10751</td>\n",
       "      <td>0</td>\n",
       "      <td>550152</td>\n",
       "      <td>69202.1</td>\n",
       "      <td>17117.7</td>\n",
       "      <td>5094</td>\n",
       "    </tr>\n",
       "    <tr>\n",
       "      <th>손정완</th>\n",
       "      <td>825565031</td>\n",
       "      <td>23824673</td>\n",
       "      <td>3973214763701517</td>\n",
       "      <td>0</td>\n",
       "      <td>470041900</td>\n",
       "      <td>15986870</td>\n",
       "      <td>3042</td>\n",
       "      <td>0</td>\n",
       "      <td>101736</td>\n",
       "      <td>12264.0</td>\n",
       "      <td>3533.1</td>\n",
       "      <td>942</td>\n",
       "    </tr>\n",
       "    <tr>\n",
       "      <th>아이잗바바</th>\n",
       "      <td>1970357596</td>\n",
       "      <td>56838204</td>\n",
       "      <td>9748315748267584</td>\n",
       "      <td>0</td>\n",
       "      <td>463844800</td>\n",
       "      <td>16928030</td>\n",
       "      <td>6647</td>\n",
       "      <td>0</td>\n",
       "      <td>249480</td>\n",
       "      <td>30248.0</td>\n",
       "      <td>7215.2</td>\n",
       "      <td>2310</td>\n",
       "    </tr>\n",
       "    <tr>\n",
       "      <th>막스마라</th>\n",
       "      <td>1044701830</td>\n",
       "      <td>30156998</td>\n",
       "      <td>4643170170118065</td>\n",
       "      <td>1130</td>\n",
       "      <td>457719900</td>\n",
       "      <td>23526730</td>\n",
       "      <td>3544</td>\n",
       "      <td>0</td>\n",
       "      <td>122040</td>\n",
       "      <td>14589.1</td>\n",
       "      <td>3594.9</td>\n",
       "      <td>1130</td>\n",
       "    </tr>\n",
       "    <tr>\n",
       "      <th>구찌</th>\n",
       "      <td>1030476820</td>\n",
       "      <td>29720611</td>\n",
       "      <td>7377743794963397</td>\n",
       "      <td>1202</td>\n",
       "      <td>456162000</td>\n",
       "      <td>20431440</td>\n",
       "      <td>3638</td>\n",
       "      <td>0</td>\n",
       "      <td>129816</td>\n",
       "      <td>15764.9</td>\n",
       "      <td>3387.7</td>\n",
       "      <td>1202</td>\n",
       "    </tr>\n",
       "    <tr>\n",
       "      <th>닥스</th>\n",
       "      <td>2816803318</td>\n",
       "      <td>81256259</td>\n",
       "      <td>15732364011391196</td>\n",
       "      <td>0</td>\n",
       "      <td>453362750</td>\n",
       "      <td>9272020</td>\n",
       "      <td>7175</td>\n",
       "      <td>0</td>\n",
       "      <td>355860</td>\n",
       "      <td>44906.2</td>\n",
       "      <td>8926.8</td>\n",
       "      <td>3295</td>\n",
       "    </tr>\n",
       "    <tr>\n",
       "      <th>진도모피</th>\n",
       "      <td>176120380</td>\n",
       "      <td>5081301</td>\n",
       "      <td>930052016987979</td>\n",
       "      <td>0</td>\n",
       "      <td>430994500</td>\n",
       "      <td>20807930</td>\n",
       "      <td>829</td>\n",
       "      <td>0</td>\n",
       "      <td>23868</td>\n",
       "      <td>1615.0</td>\n",
       "      <td>576.4</td>\n",
       "      <td>221</td>\n",
       "    </tr>\n",
       "    <tr>\n",
       "      <th>근화모피</th>\n",
       "      <td>272709638</td>\n",
       "      <td>7868977</td>\n",
       "      <td>1331399582381520</td>\n",
       "      <td>0</td>\n",
       "      <td>426768450</td>\n",
       "      <td>18775400</td>\n",
       "      <td>1204</td>\n",
       "      <td>0</td>\n",
       "      <td>32940</td>\n",
       "      <td>1357.8</td>\n",
       "      <td>460.1</td>\n",
       "      <td>305</td>\n",
       "    </tr>\n",
       "  </tbody>\n",
       "</table>\n",
       "</div>"
      ],
      "text/plain": [
       "          Unnamed: 0      custid             product  imported      amount  \\\n",
       "brand                                                                        \n",
       "식품      202393819763  5838983442  634248900000000000         0  9137942104   \n",
       "폴로        8601229790   248159835   54828808022911248       126  1119303000   \n",
       "타임        3292134317    94997277   15699159737300252         0   909024000   \n",
       "지오다노     16265017086   469288586   83731451017627296         0   795665600   \n",
       "버버리       2029215487    58550638    9550838062735470      2329   744200600   \n",
       "마인        3268289986    94304773   15967804878008932         0   733084600   \n",
       "삼성        1444839698    41688030    7293500740398749         0   676484330   \n",
       "빈폴        4736832114   136671528   34174984730187060         0   582621500   \n",
       "에뜨로       1501842279    43324740    7414128345021383      1635   508710700   \n",
       "루이비통       981506773    28323422    6739771373737500      1099   508487800   \n",
       "시스템       4060266502   117151238   19978572316797108         0   504731250   \n",
       "SJ        3705579570   106913985   18016929687374208         0   502163850   \n",
       "피에르가르뎅    4424464525   127653527   23147402449843328         0   488511770   \n",
       "손정완        825565031    23824673    3973214763701517         0   470041900   \n",
       "아이잗바바     1970357596    56838204    9748315748267584         0   463844800   \n",
       "막스마라      1044701830    30156998    4643170170118065      1130   457719900   \n",
       "구찌        1030476820    29720611    7377743794963397      1202   456162000   \n",
       "닥스        2816803318    81256259   15732364011391196         0   453362750   \n",
       "진도모피       176120380     5081301     930052016987979         0   430994500   \n",
       "근화모피       272709638     7868977    1331399582381520         0   426768450   \n",
       "\n",
       "        discount  installment  gender        지점   평균기온(°C)  일강수량(mm)   count  \n",
       "brand                                                                         \n",
       "식품        192980       269110       0  25369956  2962957.1  769781.9  234907  \n",
       "폴로      55712930        23959       0   1063476   130770.9   37833.5    9847  \n",
       "타임      51135150        10678       0    402840    50687.6   13174.6    3730  \n",
       "지오다노    40802490        28022       0   2027268   247840.2   61166.8   18771  \n",
       "버버리     35323860         7073       0    251532    26074.7    7236.2    2329  \n",
       "마인      35004490        10487       0    410292    46447.5   12161.1    3799  \n",
       "삼성        151730         4963       0    174960    22568.6    5503.8    1620  \n",
       "빈폴      25731720        13020       0    585144    75505.9   14214.6    5418  \n",
       "에뜨로     22765150         4770       0    194400    22417.9    5194.9    1800  \n",
       "루이비통           0         3722       0    118692    14740.2    3989.7    1099  \n",
       "시스템     23697260        12384       0    512568    68073.0   15900.7    4746  \n",
       "SJ      23845860        11194       0    462240    58935.8   12084.4    4280  \n",
       "피에르가르뎅  10453510        10751       0    550152    69202.1   17117.7    5094  \n",
       "손정완     15986870         3042       0    101736    12264.0    3533.1     942  \n",
       "아이잗바바   16928030         6647       0    249480    30248.0    7215.2    2310  \n",
       "막스마라    23526730         3544       0    122040    14589.1    3594.9    1130  \n",
       "구찌      20431440         3638       0    129816    15764.9    3387.7    1202  \n",
       "닥스       9272020         7175       0    355860    44906.2    8926.8    3295  \n",
       "진도모피    20807930          829       0     23868     1615.0     576.4     221  \n",
       "근화모피    18775400         1204       0     32940     1357.8     460.1     305  "
      ]
     },
     "execution_count": 19,
     "metadata": {},
     "output_type": "execute_result"
    }
   ],
   "source": [
    "#date_all=data_set.groupby(['all_date']).mean()\n",
    "dat=data_set[data_set['gender']==0]\n",
    "#index_n1 = dat[dat['pc']=='화장품'].index\n",
    "dat= dat.drop(index_n1)\n",
    "eeee=dat.groupby('brand').sum()\n",
    "eeee=eeee.sort_values(by=['amount'],ascending=False)[:20]\n",
    "eeee"
   ]
  },
  {
   "cell_type": "code",
   "execution_count": 75,
   "metadata": {
    "ExecuteTime": {
     "end_time": "2021-02-07T16:39:44.933331Z",
     "start_time": "2021-02-07T16:39:27.852259Z"
    }
   },
   "outputs": [
    {
     "ename": "KeyError",
     "evalue": "\"['Unnamed: 0'] not found in axis\"",
     "output_type": "error",
     "traceback": [
      "\u001b[1;31m---------------------------------------------------------------------------\u001b[0m",
      "\u001b[1;31mKeyError\u001b[0m                                  Traceback (most recent call last)",
      "\u001b[1;32m<ipython-input-75-7e66803676aa>\u001b[0m in \u001b[0;36m<module>\u001b[1;34m\u001b[0m\n\u001b[0;32m      3\u001b[0m \u001b[0mdata_set\u001b[0m\u001b[1;33m[\u001b[0m\u001b[1;34m'date_time'\u001b[0m\u001b[1;33m]\u001b[0m\u001b[1;33m=\u001b[0m\u001b[0mpd\u001b[0m\u001b[1;33m.\u001b[0m\u001b[0mto_datetime\u001b[0m\u001b[1;33m(\u001b[0m\u001b[0mdata_set\u001b[0m\u001b[1;33m[\u001b[0m\u001b[1;34m'date_time'\u001b[0m\u001b[1;33m]\u001b[0m\u001b[1;33m)\u001b[0m\u001b[1;33m\u001b[0m\u001b[1;33m\u001b[0m\u001b[0m\n\u001b[0;32m      4\u001b[0m \u001b[0mdata_set\u001b[0m\u001b[1;33m[\u001b[0m\u001b[1;34m'month'\u001b[0m\u001b[1;33m]\u001b[0m \u001b[1;33m=\u001b[0m \u001b[0mdata_set\u001b[0m\u001b[1;33m[\u001b[0m\u001b[1;34m'date_time'\u001b[0m\u001b[1;33m]\u001b[0m\u001b[1;33m.\u001b[0m\u001b[0mdt\u001b[0m\u001b[1;33m.\u001b[0m\u001b[0mstrftime\u001b[0m\u001b[1;33m(\u001b[0m\u001b[1;34m'%m'\u001b[0m\u001b[1;33m)\u001b[0m\u001b[1;33m\u001b[0m\u001b[1;33m\u001b[0m\u001b[0m\n\u001b[1;32m----> 5\u001b[1;33m \u001b[0mdata_set\u001b[0m\u001b[1;33m=\u001b[0m\u001b[0mdata_set\u001b[0m\u001b[1;33m.\u001b[0m\u001b[0mdrop\u001b[0m\u001b[1;33m(\u001b[0m\u001b[1;33m[\u001b[0m\u001b[1;34m'Unnamed: 0'\u001b[0m\u001b[1;33m]\u001b[0m\u001b[1;33m,\u001b[0m\u001b[0maxis\u001b[0m\u001b[1;33m=\u001b[0m\u001b[1;36m1\u001b[0m\u001b[1;33m)\u001b[0m\u001b[1;33m\u001b[0m\u001b[1;33m\u001b[0m\u001b[0m\n\u001b[0m\u001b[0;32m      6\u001b[0m \u001b[0mdata_set\u001b[0m\u001b[1;33m[\u001b[0m\u001b[1;34m'time'\u001b[0m\u001b[1;33m]\u001b[0m\u001b[1;33m=\u001b[0m \u001b[0mdata_set\u001b[0m\u001b[1;33m[\u001b[0m\u001b[1;34m'time'\u001b[0m\u001b[1;33m]\u001b[0m\u001b[1;33m.\u001b[0m\u001b[0mastype\u001b[0m\u001b[1;33m(\u001b[0m\u001b[1;34m'str'\u001b[0m\u001b[1;33m)\u001b[0m\u001b[1;33m\u001b[0m\u001b[1;33m\u001b[0m\u001b[0m\n\u001b[0;32m      7\u001b[0m \u001b[0mdata_set\u001b[0m\u001b[1;33m[\u001b[0m\u001b[1;34m'time'\u001b[0m\u001b[1;33m]\u001b[0m\u001b[1;33m=\u001b[0m\u001b[0mpd\u001b[0m\u001b[1;33m.\u001b[0m\u001b[0mto_datetime\u001b[0m\u001b[1;33m(\u001b[0m\u001b[0mdata_set\u001b[0m\u001b[1;33m[\u001b[0m\u001b[1;34m'time'\u001b[0m\u001b[1;33m]\u001b[0m\u001b[1;33m)\u001b[0m\u001b[1;33m\u001b[0m\u001b[1;33m\u001b[0m\u001b[0m\n",
      "\u001b[1;32m~\\anaconda3\\lib\\site-packages\\pandas\\core\\frame.py\u001b[0m in \u001b[0;36mdrop\u001b[1;34m(self, labels, axis, index, columns, level, inplace, errors)\u001b[0m\n\u001b[0;32m   4161\u001b[0m                 \u001b[0mweight\u001b[0m  \u001b[1;36m1.0\u001b[0m     \u001b[1;36m0.8\u001b[0m\u001b[1;33m\u001b[0m\u001b[1;33m\u001b[0m\u001b[0m\n\u001b[0;32m   4162\u001b[0m         \"\"\"\n\u001b[1;32m-> 4163\u001b[1;33m         return super().drop(\n\u001b[0m\u001b[0;32m   4164\u001b[0m             \u001b[0mlabels\u001b[0m\u001b[1;33m=\u001b[0m\u001b[0mlabels\u001b[0m\u001b[1;33m,\u001b[0m\u001b[1;33m\u001b[0m\u001b[1;33m\u001b[0m\u001b[0m\n\u001b[0;32m   4165\u001b[0m             \u001b[0maxis\u001b[0m\u001b[1;33m=\u001b[0m\u001b[0maxis\u001b[0m\u001b[1;33m,\u001b[0m\u001b[1;33m\u001b[0m\u001b[1;33m\u001b[0m\u001b[0m\n",
      "\u001b[1;32m~\\anaconda3\\lib\\site-packages\\pandas\\core\\generic.py\u001b[0m in \u001b[0;36mdrop\u001b[1;34m(self, labels, axis, index, columns, level, inplace, errors)\u001b[0m\n\u001b[0;32m   3885\u001b[0m         \u001b[1;32mfor\u001b[0m \u001b[0maxis\u001b[0m\u001b[1;33m,\u001b[0m \u001b[0mlabels\u001b[0m \u001b[1;32min\u001b[0m \u001b[0maxes\u001b[0m\u001b[1;33m.\u001b[0m\u001b[0mitems\u001b[0m\u001b[1;33m(\u001b[0m\u001b[1;33m)\u001b[0m\u001b[1;33m:\u001b[0m\u001b[1;33m\u001b[0m\u001b[1;33m\u001b[0m\u001b[0m\n\u001b[0;32m   3886\u001b[0m             \u001b[1;32mif\u001b[0m \u001b[0mlabels\u001b[0m \u001b[1;32mis\u001b[0m \u001b[1;32mnot\u001b[0m \u001b[1;32mNone\u001b[0m\u001b[1;33m:\u001b[0m\u001b[1;33m\u001b[0m\u001b[1;33m\u001b[0m\u001b[0m\n\u001b[1;32m-> 3887\u001b[1;33m                 \u001b[0mobj\u001b[0m \u001b[1;33m=\u001b[0m \u001b[0mobj\u001b[0m\u001b[1;33m.\u001b[0m\u001b[0m_drop_axis\u001b[0m\u001b[1;33m(\u001b[0m\u001b[0mlabels\u001b[0m\u001b[1;33m,\u001b[0m \u001b[0maxis\u001b[0m\u001b[1;33m,\u001b[0m \u001b[0mlevel\u001b[0m\u001b[1;33m=\u001b[0m\u001b[0mlevel\u001b[0m\u001b[1;33m,\u001b[0m \u001b[0merrors\u001b[0m\u001b[1;33m=\u001b[0m\u001b[0merrors\u001b[0m\u001b[1;33m)\u001b[0m\u001b[1;33m\u001b[0m\u001b[1;33m\u001b[0m\u001b[0m\n\u001b[0m\u001b[0;32m   3888\u001b[0m \u001b[1;33m\u001b[0m\u001b[0m\n\u001b[0;32m   3889\u001b[0m         \u001b[1;32mif\u001b[0m \u001b[0minplace\u001b[0m\u001b[1;33m:\u001b[0m\u001b[1;33m\u001b[0m\u001b[1;33m\u001b[0m\u001b[0m\n",
      "\u001b[1;32m~\\anaconda3\\lib\\site-packages\\pandas\\core\\generic.py\u001b[0m in \u001b[0;36m_drop_axis\u001b[1;34m(self, labels, axis, level, errors)\u001b[0m\n\u001b[0;32m   3919\u001b[0m                 \u001b[0mnew_axis\u001b[0m \u001b[1;33m=\u001b[0m \u001b[0maxis\u001b[0m\u001b[1;33m.\u001b[0m\u001b[0mdrop\u001b[0m\u001b[1;33m(\u001b[0m\u001b[0mlabels\u001b[0m\u001b[1;33m,\u001b[0m \u001b[0mlevel\u001b[0m\u001b[1;33m=\u001b[0m\u001b[0mlevel\u001b[0m\u001b[1;33m,\u001b[0m \u001b[0merrors\u001b[0m\u001b[1;33m=\u001b[0m\u001b[0merrors\u001b[0m\u001b[1;33m)\u001b[0m\u001b[1;33m\u001b[0m\u001b[1;33m\u001b[0m\u001b[0m\n\u001b[0;32m   3920\u001b[0m             \u001b[1;32melse\u001b[0m\u001b[1;33m:\u001b[0m\u001b[1;33m\u001b[0m\u001b[1;33m\u001b[0m\u001b[0m\n\u001b[1;32m-> 3921\u001b[1;33m                 \u001b[0mnew_axis\u001b[0m \u001b[1;33m=\u001b[0m \u001b[0maxis\u001b[0m\u001b[1;33m.\u001b[0m\u001b[0mdrop\u001b[0m\u001b[1;33m(\u001b[0m\u001b[0mlabels\u001b[0m\u001b[1;33m,\u001b[0m \u001b[0merrors\u001b[0m\u001b[1;33m=\u001b[0m\u001b[0merrors\u001b[0m\u001b[1;33m)\u001b[0m\u001b[1;33m\u001b[0m\u001b[1;33m\u001b[0m\u001b[0m\n\u001b[0m\u001b[0;32m   3922\u001b[0m             \u001b[0mresult\u001b[0m \u001b[1;33m=\u001b[0m \u001b[0mself\u001b[0m\u001b[1;33m.\u001b[0m\u001b[0mreindex\u001b[0m\u001b[1;33m(\u001b[0m\u001b[1;33m**\u001b[0m\u001b[1;33m{\u001b[0m\u001b[0maxis_name\u001b[0m\u001b[1;33m:\u001b[0m \u001b[0mnew_axis\u001b[0m\u001b[1;33m}\u001b[0m\u001b[1;33m)\u001b[0m\u001b[1;33m\u001b[0m\u001b[1;33m\u001b[0m\u001b[0m\n\u001b[0;32m   3923\u001b[0m \u001b[1;33m\u001b[0m\u001b[0m\n",
      "\u001b[1;32m~\\anaconda3\\lib\\site-packages\\pandas\\core\\indexes\\base.py\u001b[0m in \u001b[0;36mdrop\u001b[1;34m(self, labels, errors)\u001b[0m\n\u001b[0;32m   5280\u001b[0m         \u001b[1;32mif\u001b[0m \u001b[0mmask\u001b[0m\u001b[1;33m.\u001b[0m\u001b[0many\u001b[0m\u001b[1;33m(\u001b[0m\u001b[1;33m)\u001b[0m\u001b[1;33m:\u001b[0m\u001b[1;33m\u001b[0m\u001b[1;33m\u001b[0m\u001b[0m\n\u001b[0;32m   5281\u001b[0m             \u001b[1;32mif\u001b[0m \u001b[0merrors\u001b[0m \u001b[1;33m!=\u001b[0m \u001b[1;34m\"ignore\"\u001b[0m\u001b[1;33m:\u001b[0m\u001b[1;33m\u001b[0m\u001b[1;33m\u001b[0m\u001b[0m\n\u001b[1;32m-> 5282\u001b[1;33m                 \u001b[1;32mraise\u001b[0m \u001b[0mKeyError\u001b[0m\u001b[1;33m(\u001b[0m\u001b[1;34mf\"{labels[mask]} not found in axis\"\u001b[0m\u001b[1;33m)\u001b[0m\u001b[1;33m\u001b[0m\u001b[1;33m\u001b[0m\u001b[0m\n\u001b[0m\u001b[0;32m   5283\u001b[0m             \u001b[0mindexer\u001b[0m \u001b[1;33m=\u001b[0m \u001b[0mindexer\u001b[0m\u001b[1;33m[\u001b[0m\u001b[1;33m~\u001b[0m\u001b[0mmask\u001b[0m\u001b[1;33m]\u001b[0m\u001b[1;33m\u001b[0m\u001b[1;33m\u001b[0m\u001b[0m\n\u001b[0;32m   5284\u001b[0m         \u001b[1;32mreturn\u001b[0m \u001b[0mself\u001b[0m\u001b[1;33m.\u001b[0m\u001b[0mdelete\u001b[0m\u001b[1;33m(\u001b[0m\u001b[0mindexer\u001b[0m\u001b[1;33m)\u001b[0m\u001b[1;33m\u001b[0m\u001b[1;33m\u001b[0m\u001b[0m\n",
      "\u001b[1;31mKeyError\u001b[0m: \"['Unnamed: 0'] not found in axis\""
     ]
    }
   ],
   "source": [
    "data_set['date_time'] = pd.to_datetime(data_set['date_time'],format = '%Y-%m-%d %H:%M:%S',errors='raise')\n",
    "data_set['date_time']= data_set['date_time'].astype('str')\n",
    "data_set['date_time']=pd.to_datetime(data_set['date_time'])\n",
    "data_set['month'] = data_set['date_time'].dt.strftime('%m')\n",
    "data_set=data_set.drop(['Unnamed: 0'],axis=1)\n",
    "data_set['time']= data_set['time'].astype('str')\n",
    "data_set['time']=pd.to_datetime(data_set['time'])\n",
    "data_set['hour']=data_set['time'].dt.strftime('%H')\n",
    "data_set['all_date']=data_set[\"date_time\"].dt.strftime('%Y-%m-%d')\n",
    "data_set['all_date']=data_set['all_date'].astype('str')\n",
    "data_set['week'] = data_set['date_time'].dt.strftime('%A')\n",
    "data_set"
   ]
  },
  {
   "cell_type": "markdown",
   "metadata": {},
   "source": [
    "## 날짜별 판매액 "
   ]
  },
  {
   "cell_type": "code",
   "execution_count": 5,
   "metadata": {
    "ExecuteTime": {
     "end_time": "2021-02-07T13:27:49.992730Z",
     "start_time": "2021-02-07T13:27:48.704155Z"
    }
   },
   "outputs": [
    {
     "name": "stderr",
     "output_type": "stream",
     "text": [
      "<ipython-input-5-0bd4214e1f20>:6: MatplotlibDeprecationWarning: Adding an axes using the same arguments as a previous axes currently reuses the earlier instance.  In a future version, a new instance will always be created and returned.  Meanwhile, this warning can be suppressed, and the future behavior ensured, by passing a unique label to each axes instance.\n",
      "  ax =plt.axes()\n"
     ]
    },
    {
     "data": {
      "image/png": "[encoded data removed]",
      "text/plain": [
       "<Figure size 432x288 with 1 Axes>"
      ]
     },
     "metadata": {
      "needs_background": "light"
     },
     "output_type": "display_data"
    }
   ],
   "source": [
    "date_all=data_set.groupby(['all_date']).mean()\n",
    "date_all=date_all.sort_values(by=['amount'],ascending=False)[:20]\n",
    "date_all1=date_all['amount']\n",
    "date_all1.plot(kind='bar', rot=0,color=colors)\n",
    "plt.rcParams[\"figure.figsize\"]=(20,5)\n",
    "ax =plt.axes()\n",
    "ax.xaxis.set_minor_locator(ticker.MultipleLocator(5))\n",
    "plt.title(\"날짜별 매출액 top20\")\n",
    "plt.xlabel(\"날짜\")\n",
    "plt.xticks(rotation=60)\n",
    "plt.ylabel(\"매출\")\n",
    "plt.show()"
   ]
  },
  {
   "cell_type": "code",
   "execution_count": 6,
   "metadata": {
    "ExecuteTime": {
     "end_time": "2021-02-07T13:27:50.598371Z",
     "start_time": "2021-02-07T13:27:49.995720Z"
    }
   },
   "outputs": [],
   "source": [
    "brand_s=data_set.groupby(['brand']).mean()\n",
    "brand_s=pd.DataFrame(brand_s)\n",
    "tt=brand_s.sort_values(by=['amount'],ascending=True)[:20].index"
   ]
  },
  {
   "cell_type": "code",
   "execution_count": 7,
   "metadata": {
    "ExecuteTime": {
     "end_time": "2021-02-07T13:27:51.278340Z",
     "start_time": "2021-02-07T13:27:50.600361Z"
    }
   },
   "outputs": [],
   "source": [
    "def collect2(df):\n",
    "    if df ==\"03\" or df == \"04\"or df == \"05\":\n",
    "        return '봄'\n",
    "    elif df ==\"06\" or df == \"07\" or  df ==\"08\":\n",
    "        return '여름'\n",
    "    elif df ==\"09\" or df == \"10\" or df == \"11\":\n",
    "        return '가을'\n",
    "    elif df ==\"12\" or df == \"01\" or df == \"02\":\n",
    "        return '겨울'\n",
    "data_set['season']=data_set['month'].apply(collect2)"
   ]
  },
  {
   "cell_type": "code",
   "execution_count": 8,
   "metadata": {
    "ExecuteTime": {
     "end_time": "2021-02-07T13:27:51.962430Z",
     "start_time": "2021-02-07T13:27:51.281331Z"
    }
   },
   "outputs": [],
   "source": [
    "def collect(df):\n",
    "    if df ==\"10\" or df == \"11\":\n",
    "        return '오전'\n",
    "    elif df ==\"12\" or df == \"13\" or  df ==\"14\":\n",
    "        return '오후1'\n",
    "    elif df ==\"15\" or df == \"16\" or df == \"17\":\n",
    "        return '오후2'\n",
    "    elif df ==\"18\" or df == \"19\" or df == \"20\":\n",
    "        return '오후3'\n",
    "    else :\n",
    "        return '그외'\n",
    "data_set['ro']=data_set['hour'].apply(collect)"
   ]
  },
  {
   "cell_type": "code",
   "execution_count": 9,
   "metadata": {
    "ExecuteTime": {
     "end_time": "2021-02-07T13:27:53.897984Z",
     "start_time": "2021-02-07T13:27:51.966420Z"
    }
   },
   "outputs": [],
   "source": [
    "roro_s=data_set.groupby(['ro','store']).sum()['amount']\n",
    "hour_s=data_set.groupby(['store','hour']).sum()['amount']"
   ]
  },
  {
   "cell_type": "code",
   "execution_count": 74,
   "metadata": {
    "ExecuteTime": {
     "end_time": "2021-02-07T15:11:50.922809Z",
     "start_time": "2021-02-07T15:11:48.476748Z"
    }
   },
   "outputs": [
    {
     "data": {
      "text/plain": [
       "<matplotlib.legend.Legend at 0x1ae1345aeb0>"
      ]
     },
     "execution_count": 74,
     "metadata": {},
     "output_type": "execute_result"
    },
    {
     "data": {
      "image/png": "[encoded data removed]",
      "text/plain": [
       "<Figure size 1080x360 with 1 Axes>"
      ]
     },
     "metadata": {
      "needs_background": "light"
     },
     "output_type": "display_data"
    },
    {
     "data": {
      "image/png": "[encoded data removed]",
      "text/plain": [
       "<Figure size 1080x360 with 1 Axes>"
      ]
     },
     "metadata": {
      "needs_background": "light"
     },
     "output_type": "display_data"
    }
   ],
   "source": [
    "ss1=data_set.groupby(['store','gender','imported']).count()\n",
    "ss_1=data_set.groupby(['store','gender','imported']).sum()\n",
    "a=[] #0 0\n",
    "b=[] #0 1\n",
    "c=[] #1 0\n",
    "d=[] #1 1\n",
    "for i in range(len(ss1['custid'])):\n",
    "    if i % 4 ==0 : \n",
    "        a.append(ss1['custid'][i])\n",
    "    elif i % 4 ==1 : \n",
    "        b.append(ss1['custid'][i])\n",
    "    elif i % 4 ==2 : \n",
    "        c.append(ss1['custid'][i])\n",
    "    else:\n",
    "        d.append(ss1['custid'][i])\n",
    "import numpy as np\n",
    "#data1=[a,b]\n",
    "#data2=[c,d]\n",
    "fig , ax = plt.subplots()\n",
    "ind = np.arange(4)    # the x locations for the groups\n",
    "width = 0.35\n",
    "p1 = ax.bar(ind, a, width)\n",
    "p2 = ax.bar(ind, b, width, bottom=a)\n",
    "fig , ax2 = plt.subplots()\n",
    "p3 = ax2.bar(ind, c, width)\n",
    "p4 = ax2.bar(ind, d, width, bottom=c)\n",
    "plt.ylabel('Scores')\n",
    "plt.title('Scores by group and gender')\n",
    "plt.xticks(ind, [\"무역점\",\"본점\",\"신촌점\",\"천호점\"])\n",
    "#plt.yticks(np.arange(0, 81, 10))\n",
    "plt.legend((p1[0], p2[0]), ('Men', 'Women'))"
   ]
  },
  {
   "cell_type": "code",
   "execution_count": 70,
   "metadata": {
    "ExecuteTime": {
     "end_time": "2021-02-07T14:59:38.680167Z",
     "start_time": "2021-02-07T14:59:36.390380Z"
    },
    "scrolled": true
   },
   "outputs": [
    {
     "name": "stdout",
     "output_type": "stream",
     "text": [
      "store  gender  imported\n",
      "무역점    0       0           260218\n",
      "               1            43784\n",
      "       1       0           150415\n",
      "               1            23797\n",
      "본점     0       0           223183\n",
      "               1            53629\n",
      "       1       0           180325\n",
      "               1            39384\n",
      "신촌점    0       0           269129\n",
      "               1            28924\n",
      "       1       0           105745\n",
      "               1            10050\n",
      "천호점    0       0           198367\n",
      "               1            22210\n",
      "       1       0           106668\n",
      "               1            10602\n",
      "Name: custid, dtype: int64\n",
      "16\n",
      "[260218, 223183, 269129, 198367]\n"
     ]
    },
    {
     "ename": "TypeError",
     "evalue": "'value' must be an instance of str or bytes, not a tuple",
     "output_type": "error",
     "traceback": [
      "\u001b[1;31m---------------------------------------------------------------------------\u001b[0m",
      "\u001b[1;31mTypeError\u001b[0m                                 Traceback (most recent call last)",
      "\u001b[1;32m<ipython-input-70-be27eb53cafb>\u001b[0m in \u001b[0;36m<module>\u001b[1;34m\u001b[0m\n\u001b[0;32m     36\u001b[0m \u001b[0max1\u001b[0m\u001b[1;33m.\u001b[0m\u001b[0mset_xlabel\u001b[0m\u001b[1;33m(\u001b[0m\u001b[1;34m'time (s)'\u001b[0m\u001b[1;33m)\u001b[0m\u001b[1;33m\u001b[0m\u001b[1;33m\u001b[0m\u001b[0m\n\u001b[0;32m     37\u001b[0m \u001b[0max1\u001b[0m\u001b[1;33m.\u001b[0m\u001b[0mset_ylabel\u001b[0m\u001b[1;33m(\u001b[0m\u001b[1;34m'exp'\u001b[0m\u001b[1;33m,\u001b[0m \u001b[0mcolor\u001b[0m\u001b[1;33m=\u001b[0m\u001b[0mcolor\u001b[0m\u001b[1;33m)\u001b[0m\u001b[1;33m\u001b[0m\u001b[1;33m\u001b[0m\u001b[0m\n\u001b[1;32m---> 38\u001b[1;33m \u001b[0max1\u001b[0m\u001b[1;33m.\u001b[0m\u001b[0mplot\u001b[0m\u001b[1;33m(\u001b[0m\u001b[0mss1\u001b[0m\u001b[1;33m.\u001b[0m\u001b[0mindex\u001b[0m\u001b[1;33m,\u001b[0m \u001b[0mdata1\u001b[0m\u001b[1;33m,\u001b[0m \u001b[0mcolor\u001b[0m\u001b[1;33m=\u001b[0m\u001b[0mcolor\u001b[0m\u001b[1;33m)\u001b[0m\u001b[1;33m\u001b[0m\u001b[1;33m\u001b[0m\u001b[0m\n\u001b[0m\u001b[0;32m     39\u001b[0m \u001b[0max1\u001b[0m\u001b[1;33m.\u001b[0m\u001b[0mtick_params\u001b[0m\u001b[1;33m(\u001b[0m\u001b[0maxis\u001b[0m\u001b[1;33m=\u001b[0m\u001b[1;34m'y'\u001b[0m\u001b[1;33m,\u001b[0m \u001b[0mlabelcolor\u001b[0m\u001b[1;33m=\u001b[0m\u001b[0mcolor\u001b[0m\u001b[1;33m)\u001b[0m\u001b[1;33m\u001b[0m\u001b[1;33m\u001b[0m\u001b[0m\n\u001b[0;32m     40\u001b[0m ax1.annotate('', xy=(7, 1096), xytext=(-0.5, 1096), # start the arrow from x=7 and draw towards primary y-axis\n",
      "\u001b[1;32m~\\anaconda3\\lib\\site-packages\\matplotlib\\axes\\_axes.py\u001b[0m in \u001b[0;36mplot\u001b[1;34m(self, scalex, scaley, data, *args, **kwargs)\u001b[0m\n\u001b[0;32m   1741\u001b[0m         \"\"\"\n\u001b[0;32m   1742\u001b[0m         \u001b[0mkwargs\u001b[0m \u001b[1;33m=\u001b[0m \u001b[0mcbook\u001b[0m\u001b[1;33m.\u001b[0m\u001b[0mnormalize_kwargs\u001b[0m\u001b[1;33m(\u001b[0m\u001b[0mkwargs\u001b[0m\u001b[1;33m,\u001b[0m \u001b[0mmlines\u001b[0m\u001b[1;33m.\u001b[0m\u001b[0mLine2D\u001b[0m\u001b[1;33m)\u001b[0m\u001b[1;33m\u001b[0m\u001b[1;33m\u001b[0m\u001b[0m\n\u001b[1;32m-> 1743\u001b[1;33m         \u001b[0mlines\u001b[0m \u001b[1;33m=\u001b[0m \u001b[1;33m[\u001b[0m\u001b[1;33m*\u001b[0m\u001b[0mself\u001b[0m\u001b[1;33m.\u001b[0m\u001b[0m_get_lines\u001b[0m\u001b[1;33m(\u001b[0m\u001b[1;33m*\u001b[0m\u001b[0margs\u001b[0m\u001b[1;33m,\u001b[0m \u001b[0mdata\u001b[0m\u001b[1;33m=\u001b[0m\u001b[0mdata\u001b[0m\u001b[1;33m,\u001b[0m \u001b[1;33m**\u001b[0m\u001b[0mkwargs\u001b[0m\u001b[1;33m)\u001b[0m\u001b[1;33m]\u001b[0m\u001b[1;33m\u001b[0m\u001b[1;33m\u001b[0m\u001b[0m\n\u001b[0m\u001b[0;32m   1744\u001b[0m         \u001b[1;32mfor\u001b[0m \u001b[0mline\u001b[0m \u001b[1;32min\u001b[0m \u001b[0mlines\u001b[0m\u001b[1;33m:\u001b[0m\u001b[1;33m\u001b[0m\u001b[1;33m\u001b[0m\u001b[0m\n\u001b[0;32m   1745\u001b[0m             \u001b[0mself\u001b[0m\u001b[1;33m.\u001b[0m\u001b[0madd_line\u001b[0m\u001b[1;33m(\u001b[0m\u001b[0mline\u001b[0m\u001b[1;33m)\u001b[0m\u001b[1;33m\u001b[0m\u001b[1;33m\u001b[0m\u001b[0m\n",
      "\u001b[1;32m~\\anaconda3\\lib\\site-packages\\matplotlib\\axes\\_base.py\u001b[0m in \u001b[0;36m__call__\u001b[1;34m(self, data, *args, **kwargs)\u001b[0m\n\u001b[0;32m    271\u001b[0m                 \u001b[0mthis\u001b[0m \u001b[1;33m+=\u001b[0m \u001b[0margs\u001b[0m\u001b[1;33m[\u001b[0m\u001b[1;36m0\u001b[0m\u001b[1;33m]\u001b[0m\u001b[1;33m,\u001b[0m\u001b[1;33m\u001b[0m\u001b[1;33m\u001b[0m\u001b[0m\n\u001b[0;32m    272\u001b[0m                 \u001b[0margs\u001b[0m \u001b[1;33m=\u001b[0m \u001b[0margs\u001b[0m\u001b[1;33m[\u001b[0m\u001b[1;36m1\u001b[0m\u001b[1;33m:\u001b[0m\u001b[1;33m]\u001b[0m\u001b[1;33m\u001b[0m\u001b[1;33m\u001b[0m\u001b[0m\n\u001b[1;32m--> 273\u001b[1;33m             \u001b[1;32myield\u001b[0m \u001b[1;32mfrom\u001b[0m \u001b[0mself\u001b[0m\u001b[1;33m.\u001b[0m\u001b[0m_plot_args\u001b[0m\u001b[1;33m(\u001b[0m\u001b[0mthis\u001b[0m\u001b[1;33m,\u001b[0m \u001b[0mkwargs\u001b[0m\u001b[1;33m)\u001b[0m\u001b[1;33m\u001b[0m\u001b[1;33m\u001b[0m\u001b[0m\n\u001b[0m\u001b[0;32m    274\u001b[0m \u001b[1;33m\u001b[0m\u001b[0m\n\u001b[0;32m    275\u001b[0m     \u001b[1;32mdef\u001b[0m \u001b[0mget_next_color\u001b[0m\u001b[1;33m(\u001b[0m\u001b[0mself\u001b[0m\u001b[1;33m)\u001b[0m\u001b[1;33m:\u001b[0m\u001b[1;33m\u001b[0m\u001b[1;33m\u001b[0m\u001b[0m\n",
      "\u001b[1;32m~\\anaconda3\\lib\\site-packages\\matplotlib\\axes\\_base.py\u001b[0m in \u001b[0;36m_plot_args\u001b[1;34m(self, tup, kwargs)\u001b[0m\n\u001b[0;32m    392\u001b[0m \u001b[1;33m\u001b[0m\u001b[0m\n\u001b[0;32m    393\u001b[0m         \u001b[1;32mif\u001b[0m \u001b[0mself\u001b[0m\u001b[1;33m.\u001b[0m\u001b[0maxes\u001b[0m\u001b[1;33m.\u001b[0m\u001b[0mxaxis\u001b[0m \u001b[1;32mis\u001b[0m \u001b[1;32mnot\u001b[0m \u001b[1;32mNone\u001b[0m\u001b[1;33m:\u001b[0m\u001b[1;33m\u001b[0m\u001b[1;33m\u001b[0m\u001b[0m\n\u001b[1;32m--> 394\u001b[1;33m             \u001b[0mself\u001b[0m\u001b[1;33m.\u001b[0m\u001b[0maxes\u001b[0m\u001b[1;33m.\u001b[0m\u001b[0mxaxis\u001b[0m\u001b[1;33m.\u001b[0m\u001b[0mupdate_units\u001b[0m\u001b[1;33m(\u001b[0m\u001b[0mx\u001b[0m\u001b[1;33m)\u001b[0m\u001b[1;33m\u001b[0m\u001b[1;33m\u001b[0m\u001b[0m\n\u001b[0m\u001b[0;32m    395\u001b[0m         \u001b[1;32mif\u001b[0m \u001b[0mself\u001b[0m\u001b[1;33m.\u001b[0m\u001b[0maxes\u001b[0m\u001b[1;33m.\u001b[0m\u001b[0myaxis\u001b[0m \u001b[1;32mis\u001b[0m \u001b[1;32mnot\u001b[0m \u001b[1;32mNone\u001b[0m\u001b[1;33m:\u001b[0m\u001b[1;33m\u001b[0m\u001b[1;33m\u001b[0m\u001b[0m\n\u001b[0;32m    396\u001b[0m             \u001b[0mself\u001b[0m\u001b[1;33m.\u001b[0m\u001b[0maxes\u001b[0m\u001b[1;33m.\u001b[0m\u001b[0myaxis\u001b[0m\u001b[1;33m.\u001b[0m\u001b[0mupdate_units\u001b[0m\u001b[1;33m(\u001b[0m\u001b[0my\u001b[0m\u001b[1;33m)\u001b[0m\u001b[1;33m\u001b[0m\u001b[1;33m\u001b[0m\u001b[0m\n",
      "\u001b[1;32m~\\anaconda3\\lib\\site-packages\\matplotlib\\axis.py\u001b[0m in \u001b[0;36mupdate_units\u001b[1;34m(self, data)\u001b[0m\n\u001b[0;32m   1461\u001b[0m         \u001b[0mneednew\u001b[0m \u001b[1;33m=\u001b[0m \u001b[0mself\u001b[0m\u001b[1;33m.\u001b[0m\u001b[0mconverter\u001b[0m \u001b[1;33m!=\u001b[0m \u001b[0mconverter\u001b[0m\u001b[1;33m\u001b[0m\u001b[1;33m\u001b[0m\u001b[0m\n\u001b[0;32m   1462\u001b[0m         \u001b[0mself\u001b[0m\u001b[1;33m.\u001b[0m\u001b[0mconverter\u001b[0m \u001b[1;33m=\u001b[0m \u001b[0mconverter\u001b[0m\u001b[1;33m\u001b[0m\u001b[1;33m\u001b[0m\u001b[0m\n\u001b[1;32m-> 1463\u001b[1;33m         \u001b[0mdefault\u001b[0m \u001b[1;33m=\u001b[0m \u001b[0mself\u001b[0m\u001b[1;33m.\u001b[0m\u001b[0mconverter\u001b[0m\u001b[1;33m.\u001b[0m\u001b[0mdefault_units\u001b[0m\u001b[1;33m(\u001b[0m\u001b[0mdata\u001b[0m\u001b[1;33m,\u001b[0m \u001b[0mself\u001b[0m\u001b[1;33m)\u001b[0m\u001b[1;33m\u001b[0m\u001b[1;33m\u001b[0m\u001b[0m\n\u001b[0m\u001b[0;32m   1464\u001b[0m         \u001b[1;32mif\u001b[0m \u001b[0mdefault\u001b[0m \u001b[1;32mis\u001b[0m \u001b[1;32mnot\u001b[0m \u001b[1;32mNone\u001b[0m \u001b[1;32mand\u001b[0m \u001b[0mself\u001b[0m\u001b[1;33m.\u001b[0m\u001b[0munits\u001b[0m \u001b[1;32mis\u001b[0m \u001b[1;32mNone\u001b[0m\u001b[1;33m:\u001b[0m\u001b[1;33m\u001b[0m\u001b[1;33m\u001b[0m\u001b[0m\n\u001b[0;32m   1465\u001b[0m             \u001b[0mself\u001b[0m\u001b[1;33m.\u001b[0m\u001b[0mset_units\u001b[0m\u001b[1;33m(\u001b[0m\u001b[0mdefault\u001b[0m\u001b[1;33m)\u001b[0m\u001b[1;33m\u001b[0m\u001b[1;33m\u001b[0m\u001b[0m\n",
      "\u001b[1;32m~\\anaconda3\\lib\\site-packages\\matplotlib\\category.py\u001b[0m in \u001b[0;36mdefault_units\u001b[1;34m(data, axis)\u001b[0m\n\u001b[0;32m    105\u001b[0m         \u001b[1;31m# the conversion call stack is default_units -> axis_info -> convert\u001b[0m\u001b[1;33m\u001b[0m\u001b[1;33m\u001b[0m\u001b[1;33m\u001b[0m\u001b[0m\n\u001b[0;32m    106\u001b[0m         \u001b[1;32mif\u001b[0m \u001b[0maxis\u001b[0m\u001b[1;33m.\u001b[0m\u001b[0munits\u001b[0m \u001b[1;32mis\u001b[0m \u001b[1;32mNone\u001b[0m\u001b[1;33m:\u001b[0m\u001b[1;33m\u001b[0m\u001b[1;33m\u001b[0m\u001b[0m\n\u001b[1;32m--> 107\u001b[1;33m             \u001b[0maxis\u001b[0m\u001b[1;33m.\u001b[0m\u001b[0mset_units\u001b[0m\u001b[1;33m(\u001b[0m\u001b[0mUnitData\u001b[0m\u001b[1;33m(\u001b[0m\u001b[0mdata\u001b[0m\u001b[1;33m)\u001b[0m\u001b[1;33m)\u001b[0m\u001b[1;33m\u001b[0m\u001b[1;33m\u001b[0m\u001b[0m\n\u001b[0m\u001b[0;32m    108\u001b[0m         \u001b[1;32melse\u001b[0m\u001b[1;33m:\u001b[0m\u001b[1;33m\u001b[0m\u001b[1;33m\u001b[0m\u001b[0m\n\u001b[0;32m    109\u001b[0m             \u001b[0maxis\u001b[0m\u001b[1;33m.\u001b[0m\u001b[0munits\u001b[0m\u001b[1;33m.\u001b[0m\u001b[0mupdate\u001b[0m\u001b[1;33m(\u001b[0m\u001b[0mdata\u001b[0m\u001b[1;33m)\u001b[0m\u001b[1;33m\u001b[0m\u001b[1;33m\u001b[0m\u001b[0m\n",
      "\u001b[1;32m~\\anaconda3\\lib\\site-packages\\matplotlib\\category.py\u001b[0m in \u001b[0;36m__init__\u001b[1;34m(self, data)\u001b[0m\n\u001b[0;32m    174\u001b[0m         \u001b[0mself\u001b[0m\u001b[1;33m.\u001b[0m\u001b[0m_counter\u001b[0m \u001b[1;33m=\u001b[0m \u001b[0mitertools\u001b[0m\u001b[1;33m.\u001b[0m\u001b[0mcount\u001b[0m\u001b[1;33m(\u001b[0m\u001b[1;33m)\u001b[0m\u001b[1;33m\u001b[0m\u001b[1;33m\u001b[0m\u001b[0m\n\u001b[0;32m    175\u001b[0m         \u001b[1;32mif\u001b[0m \u001b[0mdata\u001b[0m \u001b[1;32mis\u001b[0m \u001b[1;32mnot\u001b[0m \u001b[1;32mNone\u001b[0m\u001b[1;33m:\u001b[0m\u001b[1;33m\u001b[0m\u001b[1;33m\u001b[0m\u001b[0m\n\u001b[1;32m--> 176\u001b[1;33m             \u001b[0mself\u001b[0m\u001b[1;33m.\u001b[0m\u001b[0mupdate\u001b[0m\u001b[1;33m(\u001b[0m\u001b[0mdata\u001b[0m\u001b[1;33m)\u001b[0m\u001b[1;33m\u001b[0m\u001b[1;33m\u001b[0m\u001b[0m\n\u001b[0m\u001b[0;32m    177\u001b[0m \u001b[1;33m\u001b[0m\u001b[0m\n\u001b[0;32m    178\u001b[0m     \u001b[1;33m@\u001b[0m\u001b[0mstaticmethod\u001b[0m\u001b[1;33m\u001b[0m\u001b[1;33m\u001b[0m\u001b[0m\n",
      "\u001b[1;32m~\\anaconda3\\lib\\site-packages\\matplotlib\\category.py\u001b[0m in \u001b[0;36mupdate\u001b[1;34m(self, data)\u001b[0m\n\u001b[0;32m    209\u001b[0m         \u001b[1;32mfor\u001b[0m \u001b[0mval\u001b[0m \u001b[1;32min\u001b[0m \u001b[0mOrderedDict\u001b[0m\u001b[1;33m.\u001b[0m\u001b[0mfromkeys\u001b[0m\u001b[1;33m(\u001b[0m\u001b[0mdata\u001b[0m\u001b[1;33m)\u001b[0m\u001b[1;33m:\u001b[0m\u001b[1;33m\u001b[0m\u001b[1;33m\u001b[0m\u001b[0m\n\u001b[0;32m    210\u001b[0m             \u001b[1;31m# OrderedDict just iterates over unique values in data.\u001b[0m\u001b[1;33m\u001b[0m\u001b[1;33m\u001b[0m\u001b[1;33m\u001b[0m\u001b[0m\n\u001b[1;32m--> 211\u001b[1;33m             \u001b[0mcbook\u001b[0m\u001b[1;33m.\u001b[0m\u001b[0m_check_isinstance\u001b[0m\u001b[1;33m(\u001b[0m\u001b[1;33m(\u001b[0m\u001b[0mstr\u001b[0m\u001b[1;33m,\u001b[0m \u001b[0mbytes\u001b[0m\u001b[1;33m)\u001b[0m\u001b[1;33m,\u001b[0m \u001b[0mvalue\u001b[0m\u001b[1;33m=\u001b[0m\u001b[0mval\u001b[0m\u001b[1;33m)\u001b[0m\u001b[1;33m\u001b[0m\u001b[1;33m\u001b[0m\u001b[0m\n\u001b[0m\u001b[0;32m    212\u001b[0m             \u001b[1;32mif\u001b[0m \u001b[0mconvertible\u001b[0m\u001b[1;33m:\u001b[0m\u001b[1;33m\u001b[0m\u001b[1;33m\u001b[0m\u001b[0m\n\u001b[0;32m    213\u001b[0m                 \u001b[1;31m# this will only be called so long as convertible is True.\u001b[0m\u001b[1;33m\u001b[0m\u001b[1;33m\u001b[0m\u001b[1;33m\u001b[0m\u001b[0m\n",
      "\u001b[1;32m~\\anaconda3\\lib\\site-packages\\matplotlib\\cbook\\__init__.py\u001b[0m in \u001b[0;36m_check_isinstance\u001b[1;34m(_types, **kwargs)\u001b[0m\n\u001b[0;32m   2244\u001b[0m     \u001b[1;32mfor\u001b[0m \u001b[0mk\u001b[0m\u001b[1;33m,\u001b[0m \u001b[0mv\u001b[0m \u001b[1;32min\u001b[0m \u001b[0mkwargs\u001b[0m\u001b[1;33m.\u001b[0m\u001b[0mitems\u001b[0m\u001b[1;33m(\u001b[0m\u001b[1;33m)\u001b[0m\u001b[1;33m:\u001b[0m\u001b[1;33m\u001b[0m\u001b[1;33m\u001b[0m\u001b[0m\n\u001b[0;32m   2245\u001b[0m         \u001b[1;32mif\u001b[0m \u001b[1;32mnot\u001b[0m \u001b[0misinstance\u001b[0m\u001b[1;33m(\u001b[0m\u001b[0mv\u001b[0m\u001b[1;33m,\u001b[0m \u001b[0mtypes\u001b[0m\u001b[1;33m)\u001b[0m\u001b[1;33m:\u001b[0m\u001b[1;33m\u001b[0m\u001b[1;33m\u001b[0m\u001b[0m\n\u001b[1;32m-> 2246\u001b[1;33m             raise TypeError(\n\u001b[0m\u001b[0;32m   2247\u001b[0m                 \"{!r} must be an instance of {}, not a {}\".format(\n\u001b[0;32m   2248\u001b[0m                     \u001b[0mk\u001b[0m\u001b[1;33m,\u001b[0m\u001b[1;33m\u001b[0m\u001b[1;33m\u001b[0m\u001b[0m\n",
      "\u001b[1;31mTypeError\u001b[0m: 'value' must be an instance of str or bytes, not a tuple"
     ]
    },
    {
     "data": {
      "image/png": "[encoded data removed]",
      "text/plain": [
       "<Figure size 1080x360 with 1 Axes>"
      ]
     },
     "metadata": {
      "needs_background": "light"
     },
     "output_type": "display_data"
    }
   ],
   "source": [
    "# store1= data_set[data_set[\"store\"]==\"본점\"]\n",
    "# store2= data_set[data_set[\"store\"]==\"무역점\"]\n",
    "# store3= data_set[data_set[\"store\"]==\"천호점\"]\n",
    "# store4= data_set[data_set[\"store\"]==\"신촌점\"]\n",
    "#ss1=data_set.groupby(['store','gender','imported']).count()\n",
    "ss1=data_set.groupby(['store','gender','imported']).count()\n",
    "# ss2=store2.groupby(['store','gender','imported']).count()\n",
    "# ss3=store3.groupby(['store','gender','imported']).count()\n",
    "# ss4=store4.groupby(['store','gender','imported']).count()\n",
    "ss_1=data_set.groupby(['store','gender','imported']).sum()\n",
    "# ss_2=store2.groupby(['store','gender','imported']).sum()\n",
    "# ss_3=store3.groupby(['store','gender','imported']).sum()\n",
    "# ss_4=store4.groupby(['store','gender','imported']).sum()\n",
    "print(ss1['custid'])\n",
    "print(len(ss1['custid']))\n",
    "a=[] #0 0\n",
    "b=[] #0 1\n",
    "c=[] #1 0\n",
    "d=[] #1 1\n",
    "for i in range(len(ss1['custid'])):\n",
    "    if i % 4 ==0 : \n",
    "        a.append(ss1['custid'][i])\n",
    "    elif i % 4 ==1 : \n",
    "        b.append(ss1['custid'][i])\n",
    "    elif i % 4 ==2 : \n",
    "        c.append(ss1['custid'][i])\n",
    "    else:\n",
    "        d.append(ss1['custid'][i])\n",
    "print(a)\n",
    "import numpy as np\n",
    "#ss1['store']\n",
    "data1=[a,b]\n",
    "data2=[c,d]\n",
    "\n",
    "fig , ax1 = plt.subplots()\n",
    "width=0.35\n",
    "x=np.arange(len(labels))\n",
    "labels = [\"무역점\",\"본점\",\"신촌점\",\"천호점\"]\n",
    "for i in range(0,2):\n",
    "    ax1.bar(\n",
    "    labels,data1[i],\n",
    "    bottom=np.sum(data1[:i],axis=0))\n",
    "#     ax.bar(\n",
    "#     labels,data1[i],\n",
    "#     bottom=np.sum(data2[:i],axis=0))\n",
    "fig , ax2= plt.subplots()\n",
    "for i in range(0,2):\n",
    "    ax2.bar(\n",
    "    labels,data2[i],\n",
    "    bottom=np.sum(data2[:i],axis=0))    \n",
    "ax.set_ylabel('이것')\n",
    "ax.set_title('요것이 제목')\n",
    "ax.set_xticks(x)\n",
    "ax.set_xticklabels(labels)\n",
    "ax.legend()\n",
    "fig.tight_layout()\n",
    "plt.show()\n",
    "# \n",
    "# # print(b)\n",
    "# width=0.35\n",
    "# plt.figure(figsize=(9,7))\n",
    "# x=np.arange(len(labels))\n",
    "# fig , ax = plt.subplots()\n",
    "# rect1 =ax.bar(x-width/2,a,width,label='여자')\n",
    "# ax.bar(x-width/2,bottom=b,0.35,label='수입')\n",
    "# rect2 =ax.bar(x+width/2,c,width,label='남자')\n",
    "# ax.bar(x-width/2,bottom=d,0.35,label='수입')\n",
    "# ax.set_ylabel('이것')\n",
    "# ax.set_title('요것이 제목')\n",
    "# ax.set_xticks(x)\n",
    "# ax.set_xticklabels(labels)\n",
    "# ax.legend()\n",
    "# fig.tight_layout()\n",
    "# plt.show()\n",
    "# data1=ss1['custid']#횟수\n",
    "# data2=ss_1['amount']#금액\n",
    "# fig, ax1 = plt.subplots()\n",
    "# color = 'tab:red'\n",
    "# ax1.set_xlabel('time (s)')\n",
    "# ax1.set_ylabel('exp', color=color)\n",
    "# ax1.plot(ss1.index, data1, color=color)\n",
    "# ax1.tick_params(axis='y', labelcolor=color)\n",
    "# ax1.annotate('', xy=(7, 1096), xytext=(-0.5, 1096), # start the arrow from x=7 and draw towards primary y-axis\n",
    "#             arrowprops=dict(arrowstyle=\"<-\", color=color))\n",
    "# ax2 = ax1.twinx()  # instantiate a second axes that shares the same x-axis\n",
    "# color = 'tab:blue'\n",
    "# ax2.set_ylabel('sin', color=color)  # we already handled the x-label with ax1\n",
    "# ax2.plot(t, data2, color=color)\n",
    "# ax2.tick_params(axis='y', labelcolor=color)\n",
    "# # plt.arrow()\n",
    "# ax2.annotate('', xy=(6,0),  xytext=(10.4, 0), # start the arrow from x=6 and draw towards secondary y-axis\n",
    "#             arrowprops=dict(arrowstyle=\"<-\", color=color))\n",
    "# fig.tight_layout()  # otherwise the right y-label is slightly clipped\n",
    "# plt.show()\n",
    "# # ss2=store2.groupby('hour').sum()\n",
    "# # ss3=store3.groupby('hour').sum()\n",
    "# # ss4=store4.groupby('hour').sum()\n",
    "# # sss1=ss1['amount']\n",
    "# # sss2=ss2['amount']\n",
    "# # sss3=ss3['amount']\n",
    "# # sss4=ss4['amount']"
   ]
  },
  {
   "cell_type": "markdown",
   "metadata": {},
   "source": [
    "## 계절별 판매 금액"
   ]
  },
  {
   "cell_type": "code",
   "execution_count": 10,
   "metadata": {
    "ExecuteTime": {
     "end_time": "2021-02-07T13:27:54.479070Z",
     "start_time": "2021-02-07T13:27:53.900974Z"
    }
   },
   "outputs": [
    {
     "data": {
      "text/html": [
       "<div>\n",
       "<style scoped>\n",
       "    .dataframe tbody tr th:only-of-type {\n",
       "        vertical-align: middle;\n",
       "    }\n",
       "\n",
       "    .dataframe tbody tr th {\n",
       "        vertical-align: top;\n",
       "    }\n",
       "\n",
       "    .dataframe thead th {\n",
       "        text-align: right;\n",
       "    }\n",
       "</style>\n",
       "<table border=\"1\" class=\"dataframe\">\n",
       "  <thead>\n",
       "    <tr style=\"text-align: right;\">\n",
       "      <th></th>\n",
       "      <th>custid</th>\n",
       "      <th>product</th>\n",
       "      <th>imported</th>\n",
       "      <th>amount</th>\n",
       "      <th>discount</th>\n",
       "      <th>installment</th>\n",
       "      <th>gender</th>\n",
       "      <th>지점</th>\n",
       "      <th>평균기온(°C)</th>\n",
       "      <th>일강수량(mm)</th>\n",
       "    </tr>\n",
       "    <tr>\n",
       "      <th>season</th>\n",
       "      <th></th>\n",
       "      <th></th>\n",
       "      <th></th>\n",
       "      <th></th>\n",
       "      <th></th>\n",
       "      <th></th>\n",
       "      <th></th>\n",
       "      <th></th>\n",
       "      <th></th>\n",
       "      <th></th>\n",
       "    </tr>\n",
       "  </thead>\n",
       "  <tbody>\n",
       "    <tr>\n",
       "      <th>가을</th>\n",
       "      <td>10428654452</td>\n",
       "      <td>1641134009741693184</td>\n",
       "      <td>57121</td>\n",
       "      <td>45135226756</td>\n",
       "      <td>1669790740</td>\n",
       "      <td>811484</td>\n",
       "      <td>151450</td>\n",
       "      <td>45255456</td>\n",
       "      <td>6.249358e+06</td>\n",
       "      <td>941042.1</td>\n",
       "    </tr>\n",
       "    <tr>\n",
       "      <th>겨울</th>\n",
       "      <td>9948949878</td>\n",
       "      <td>1543330944292637952</td>\n",
       "      <td>55196</td>\n",
       "      <td>41031100976</td>\n",
       "      <td>1289104420</td>\n",
       "      <td>742586</td>\n",
       "      <td>141652</td>\n",
       "      <td>43124616</td>\n",
       "      <td>-4.886376e+05</td>\n",
       "      <td>505906.9</td>\n",
       "    </tr>\n",
       "    <tr>\n",
       "      <th>봄</th>\n",
       "      <td>11410189543</td>\n",
       "      <td>1799528336087031808</td>\n",
       "      <td>60641</td>\n",
       "      <td>44118790429</td>\n",
       "      <td>1612475190</td>\n",
       "      <td>855275</td>\n",
       "      <td>165780</td>\n",
       "      <td>49477068</td>\n",
       "      <td>5.503248e+06</td>\n",
       "      <td>549744.4</td>\n",
       "    </tr>\n",
       "    <tr>\n",
       "      <th>여름</th>\n",
       "      <td>11208339683</td>\n",
       "      <td>1777387937666455040</td>\n",
       "      <td>59422</td>\n",
       "      <td>40060601364</td>\n",
       "      <td>1218421470</td>\n",
       "      <td>819724</td>\n",
       "      <td>168104</td>\n",
       "      <td>48597300</td>\n",
       "      <td>1.144922e+07</td>\n",
       "      <td>3634389.7</td>\n",
       "    </tr>\n",
       "  </tbody>\n",
       "</table>\n",
       "</div>"
      ],
      "text/plain": [
       "             custid              product  imported       amount    discount  \\\n",
       "season                                                                        \n",
       "가을      10428654452  1641134009741693184     57121  45135226756  1669790740   \n",
       "겨울       9948949878  1543330944292637952     55196  41031100976  1289104420   \n",
       "봄       11410189543  1799528336087031808     60641  44118790429  1612475190   \n",
       "여름      11208339683  1777387937666455040     59422  40060601364  1218421470   \n",
       "\n",
       "        installment  gender        지점      평균기온(°C)   일강수량(mm)  \n",
       "season                                                          \n",
       "가을           811484  151450  45255456  6.249358e+06   941042.1  \n",
       "겨울           742586  141652  43124616 -4.886376e+05   505906.9  \n",
       "봄            855275  165780  49477068  5.503248e+06   549744.4  \n",
       "여름           819724  168104  48597300  1.144922e+07  3634389.7  "
      ]
     },
     "execution_count": 10,
     "metadata": {},
     "output_type": "execute_result"
    }
   ],
   "source": [
    "sseason_all=data_set.groupby('season').sum()\n",
    "sseason_all"
   ]
  },
  {
   "cell_type": "markdown",
   "metadata": {},
   "source": [
    "## 계절별 평균 판매금액"
   ]
  },
  {
   "cell_type": "code",
   "execution_count": 11,
   "metadata": {
    "ExecuteTime": {
     "end_time": "2021-02-07T13:27:55.231803Z",
     "start_time": "2021-02-07T13:27:54.481064Z"
    }
   },
   "outputs": [
    {
     "name": "stderr",
     "output_type": "stream",
     "text": [
      "<ipython-input-11-cb3ad62e7e79>:5: MatplotlibDeprecationWarning: Adding an axes using the same arguments as a previous axes currently reuses the earlier instance.  In a future version, a new instance will always be created and returned.  Meanwhile, this warning can be suppressed, and the future behavior ensured, by passing a unique label to each axes instance.\n",
      "  ax =plt.axes()\n"
     ]
    },
    {
     "data": {
      "image/png": "[encoded data removed]",
      "text/plain": [
       "<Figure size 1440x360 with 1 Axes>"
      ]
     },
     "metadata": {
      "needs_background": "light"
     },
     "output_type": "display_data"
    }
   ],
   "source": [
    "sseason_all_mean=data_set.groupby('season').mean()\n",
    "sseason_all_mean=sseason_all_mean['amount']\n",
    "sseason_all_mean.plot(kind='bar', rot=0,color=colors)\n",
    "plt.rcParams[\"figure.figsize\"]=(15,5)\n",
    "ax =plt.axes()\n",
    "ax.xaxis.set_minor_locator(ticker.MultipleLocator(2))\n",
    "plt.title(\"계절별 평균 판매 금액\")\n",
    "plt.xlabel(\"계절\")\n",
    "plt.xticks(rotation=60)\n",
    "plt.ylabel(\"매출\")\n",
    "plt.show()"
   ]
  },
  {
   "cell_type": "markdown",
   "metadata": {},
   "source": [
    "## 계절별 판매 횟수"
   ]
  },
  {
   "cell_type": "code",
   "execution_count": 19,
   "metadata": {
    "ExecuteTime": {
     "end_time": "2021-02-07T13:29:17.810030Z",
     "start_time": "2021-02-07T13:29:17.219207Z"
    }
   },
   "outputs": [],
   "source": [
    "data_set['count']=1\n",
    "sseason_all_to=data_set.groupby('season').sum()\n",
    "sseason_all_to=sseason_all_to.sort_values(by=['count'],ascending=False)"
   ]
  },
  {
   "cell_type": "code",
   "execution_count": 20,
   "metadata": {
    "ExecuteTime": {
     "end_time": "2021-02-07T13:29:21.258878Z",
     "start_time": "2021-02-07T13:29:21.077363Z"
    }
   },
   "outputs": [
    {
     "name": "stderr",
     "output_type": "stream",
     "text": [
      "<ipython-input-20-fdbb8c48464f>:4: MatplotlibDeprecationWarning: Adding an axes using the same arguments as a previous axes currently reuses the earlier instance.  In a future version, a new instance will always be created and returned.  Meanwhile, this warning can be suppressed, and the future behavior ensured, by passing a unique label to each axes instance.\n",
      "  ax =plt.axes()\n"
     ]
    },
    {
     "data": {
      "image/png": "[encoded data removed]",
      "text/plain": [
       "<Figure size 1080x360 with 1 Axes>"
      ]
     },
     "metadata": {
      "needs_background": "light"
     },
     "output_type": "display_data"
    }
   ],
   "source": [
    "sseason_all_to=sseason_all_to['count']\n",
    "sseason_all_to.plot(kind='bar', rot=0,color=colors)\n",
    "plt.rcParams[\"figure.figsize\"]=(15,5)\n",
    "ax =plt.axes()\n",
    "ax.xaxis.set_minor_locator(ticker.MultipleLocator(2))\n",
    "plt.title(\"계절별 판매 횟수\")\n",
    "plt.xlabel(\"계절\")\n",
    "plt.xticks(rotation=60)\n",
    "plt.ylabel(\"횟수\")\n",
    "plt.show()"
   ]
  },
  {
   "cell_type": "code",
   "execution_count": 14,
   "metadata": {
    "ExecuteTime": {
     "end_time": "2021-02-07T13:27:56.653346Z",
     "start_time": "2021-02-07T13:27:56.085862Z"
    }
   },
   "outputs": [
    {
     "data": {
      "text/html": [
       "<div>\n",
       "<style scoped>\n",
       "    .dataframe tbody tr th:only-of-type {\n",
       "        vertical-align: middle;\n",
       "    }\n",
       "\n",
       "    .dataframe tbody tr th {\n",
       "        vertical-align: top;\n",
       "    }\n",
       "\n",
       "    .dataframe thead th {\n",
       "        text-align: right;\n",
       "    }\n",
       "</style>\n",
       "<table border=\"1\" class=\"dataframe\">\n",
       "  <thead>\n",
       "    <tr style=\"text-align: right;\">\n",
       "      <th></th>\n",
       "      <th>custid</th>\n",
       "      <th>product</th>\n",
       "      <th>imported</th>\n",
       "      <th>amount</th>\n",
       "      <th>discount</th>\n",
       "      <th>installment</th>\n",
       "      <th>gender</th>\n",
       "      <th>지점</th>\n",
       "      <th>평균기온(°C)</th>\n",
       "      <th>일강수량(mm)</th>\n",
       "      <th>count</th>\n",
       "    </tr>\n",
       "    <tr>\n",
       "      <th>season</th>\n",
       "      <th></th>\n",
       "      <th></th>\n",
       "      <th></th>\n",
       "      <th></th>\n",
       "      <th></th>\n",
       "      <th></th>\n",
       "      <th></th>\n",
       "      <th></th>\n",
       "      <th></th>\n",
       "      <th></th>\n",
       "      <th></th>\n",
       "    </tr>\n",
       "  </thead>\n",
       "  <tbody>\n",
       "    <tr>\n",
       "      <th>가을</th>\n",
       "      <td>10428654452</td>\n",
       "      <td>1641134009741693184</td>\n",
       "      <td>57121</td>\n",
       "      <td>45135226756</td>\n",
       "      <td>1669790740</td>\n",
       "      <td>811484</td>\n",
       "      <td>151450</td>\n",
       "      <td>45255456</td>\n",
       "      <td>6.249358e+06</td>\n",
       "      <td>941042.1</td>\n",
       "      <td>419032</td>\n",
       "    </tr>\n",
       "    <tr>\n",
       "      <th>겨울</th>\n",
       "      <td>9948949878</td>\n",
       "      <td>1543330944292637952</td>\n",
       "      <td>55196</td>\n",
       "      <td>41031100976</td>\n",
       "      <td>1289104420</td>\n",
       "      <td>742586</td>\n",
       "      <td>141652</td>\n",
       "      <td>43124616</td>\n",
       "      <td>-4.886376e+05</td>\n",
       "      <td>505906.9</td>\n",
       "      <td>399302</td>\n",
       "    </tr>\n",
       "    <tr>\n",
       "      <th>봄</th>\n",
       "      <td>11410189543</td>\n",
       "      <td>1799528336087031808</td>\n",
       "      <td>60641</td>\n",
       "      <td>44118790429</td>\n",
       "      <td>1612475190</td>\n",
       "      <td>855275</td>\n",
       "      <td>165780</td>\n",
       "      <td>49477068</td>\n",
       "      <td>5.503248e+06</td>\n",
       "      <td>549744.4</td>\n",
       "      <td>458121</td>\n",
       "    </tr>\n",
       "    <tr>\n",
       "      <th>여름</th>\n",
       "      <td>11208339683</td>\n",
       "      <td>1777387937666455040</td>\n",
       "      <td>59422</td>\n",
       "      <td>40060601364</td>\n",
       "      <td>1218421470</td>\n",
       "      <td>819724</td>\n",
       "      <td>168104</td>\n",
       "      <td>48597300</td>\n",
       "      <td>1.144922e+07</td>\n",
       "      <td>3634389.7</td>\n",
       "      <td>449975</td>\n",
       "    </tr>\n",
       "  </tbody>\n",
       "</table>\n",
       "</div>"
      ],
      "text/plain": [
       "             custid              product  imported       amount    discount  \\\n",
       "season                                                                        \n",
       "가을      10428654452  1641134009741693184     57121  45135226756  1669790740   \n",
       "겨울       9948949878  1543330944292637952     55196  41031100976  1289104420   \n",
       "봄       11410189543  1799528336087031808     60641  44118790429  1612475190   \n",
       "여름      11208339683  1777387937666455040     59422  40060601364  1218421470   \n",
       "\n",
       "        installment  gender        지점      평균기온(°C)   일강수량(mm)   count  \n",
       "season                                                                  \n",
       "가을           811484  151450  45255456  6.249358e+06   941042.1  419032  \n",
       "겨울           742586  141652  43124616 -4.886376e+05   505906.9  399302  \n",
       "봄            855275  165780  49477068  5.503248e+06   549744.4  458121  \n",
       "여름           819724  168104  48597300  1.144922e+07  3634389.7  449975  "
      ]
     },
     "execution_count": 14,
     "metadata": {},
     "output_type": "execute_result"
    }
   ],
   "source": [
    "sseason_all=data_set.groupby('season').sum()\n",
    "sseason_all"
   ]
  },
  {
   "cell_type": "code",
   "execution_count": 15,
   "metadata": {
    "ExecuteTime": {
     "end_time": "2021-02-07T13:27:56.885729Z",
     "start_time": "2021-02-07T13:27:56.655341Z"
    }
   },
   "outputs": [
    {
     "name": "stderr",
     "output_type": "stream",
     "text": [
      "<ipython-input-15-1e740f219ff1>:4: MatplotlibDeprecationWarning: Adding an axes using the same arguments as a previous axes currently reuses the earlier instance.  In a future version, a new instance will always be created and returned.  Meanwhile, this warning can be suppressed, and the future behavior ensured, by passing a unique label to each axes instance.\n",
      "  ax =plt.axes()\n"
     ]
    },
    {
     "data": {
      "image/png": "[encoded data removed]",
      "text/plain": [
       "<Figure size 1080x360 with 1 Axes>"
      ]
     },
     "metadata": {
      "needs_background": "light"
     },
     "output_type": "display_data"
    }
   ],
   "source": [
    "sseason_all=sseason_all['amount']\n",
    "sseason_all_to=sseason_all_to.sort_values(by=['amount'],ascending=False)\n",
    "sseason_all.plot(kind='bar', rot=0,color=colors)\n",
    "plt.rcParams[\"figure.figsize\"]=(15,5)\n",
    "ax =plt.axes()\n",
    "ax.xaxis.set_minor_locator(ticker.MultipleLocator(2))\n",
    "plt.title(\"계절별 판매 금액\")\n",
    "plt.xlabel(\"계절\")\n",
    "plt.ylabel(\"매출액\")\n",
    "plt.show()"
   ]
  },
  {
   "cell_type": "code",
   "execution_count": 16,
   "metadata": {
    "ExecuteTime": {
     "end_time": "2021-02-07T13:27:57.402367Z",
     "start_time": "2021-02-07T13:27:56.887724Z"
    }
   },
   "outputs": [
    {
     "ename": "KeyError",
     "evalue": "'amount'",
     "output_type": "error",
     "traceback": [
      "\u001b[1;31m---------------------------------------------------------------------------\u001b[0m",
      "\u001b[1;31mKeyError\u001b[0m                                  Traceback (most recent call last)",
      "\u001b[1;32m~\\anaconda3\\lib\\site-packages\\pandas\\core\\indexes\\base.py\u001b[0m in \u001b[0;36mget_loc\u001b[1;34m(self, key, method, tolerance)\u001b[0m\n\u001b[0;32m   2894\u001b[0m             \u001b[1;32mtry\u001b[0m\u001b[1;33m:\u001b[0m\u001b[1;33m\u001b[0m\u001b[1;33m\u001b[0m\u001b[0m\n\u001b[1;32m-> 2895\u001b[1;33m                 \u001b[1;32mreturn\u001b[0m \u001b[0mself\u001b[0m\u001b[1;33m.\u001b[0m\u001b[0m_engine\u001b[0m\u001b[1;33m.\u001b[0m\u001b[0mget_loc\u001b[0m\u001b[1;33m(\u001b[0m\u001b[0mcasted_key\u001b[0m\u001b[1;33m)\u001b[0m\u001b[1;33m\u001b[0m\u001b[1;33m\u001b[0m\u001b[0m\n\u001b[0m\u001b[0;32m   2896\u001b[0m             \u001b[1;32mexcept\u001b[0m \u001b[0mKeyError\u001b[0m \u001b[1;32mas\u001b[0m \u001b[0merr\u001b[0m\u001b[1;33m:\u001b[0m\u001b[1;33m\u001b[0m\u001b[1;33m\u001b[0m\u001b[0m\n",
      "\u001b[1;32mpandas\\_libs\\index.pyx\u001b[0m in \u001b[0;36mpandas._libs.index.IndexEngine.get_loc\u001b[1;34m()\u001b[0m\n",
      "\u001b[1;32mpandas\\_libs\\index.pyx\u001b[0m in \u001b[0;36mpandas._libs.index.IndexEngine.get_loc\u001b[1;34m()\u001b[0m\n",
      "\u001b[1;32mpandas\\_libs\\hashtable_class_helper.pxi\u001b[0m in \u001b[0;36mpandas._libs.hashtable.PyObjectHashTable.get_item\u001b[1;34m()\u001b[0m\n",
      "\u001b[1;32mpandas\\_libs\\hashtable_class_helper.pxi\u001b[0m in \u001b[0;36mpandas._libs.hashtable.PyObjectHashTable.get_item\u001b[1;34m()\u001b[0m\n",
      "\u001b[1;31mKeyError\u001b[0m: 'amount'",
      "\nThe above exception was the direct cause of the following exception:\n",
      "\u001b[1;31mKeyError\u001b[0m                                  Traceback (most recent call last)",
      "\u001b[1;32m<ipython-input-16-6179abfa61db>\u001b[0m in \u001b[0;36m<module>\u001b[1;34m\u001b[0m\n\u001b[0;32m      2\u001b[0m \u001b[0mplt\u001b[0m\u001b[1;33m.\u001b[0m\u001b[0mrc\u001b[0m\u001b[1;33m(\u001b[0m\u001b[1;34m'font'\u001b[0m\u001b[1;33m,\u001b[0m \u001b[0mfamily\u001b[0m\u001b[1;33m=\u001b[0m\u001b[1;34m'Malgun Gothic'\u001b[0m\u001b[1;33m,\u001b[0m \u001b[0msize\u001b[0m\u001b[1;33m=\u001b[0m\u001b[1;36m20\u001b[0m\u001b[1;33m)\u001b[0m\u001b[1;33m\u001b[0m\u001b[1;33m\u001b[0m\u001b[0m\n\u001b[0;32m      3\u001b[0m \u001b[0mcolors\u001b[0m \u001b[1;33m=\u001b[0m \u001b[0msns\u001b[0m\u001b[1;33m.\u001b[0m\u001b[0mcolor_palette\u001b[0m\u001b[1;33m(\u001b[0m\u001b[1;34m'hls'\u001b[0m\u001b[1;33m,\u001b[0m\u001b[1;36m30\u001b[0m\u001b[1;33m)\u001b[0m\u001b[1;33m\u001b[0m\u001b[1;33m\u001b[0m\u001b[0m\n\u001b[1;32m----> 4\u001b[1;33m patches, texts, autotexts = plt.pie(sseason_all['amount'],\n\u001b[0m\u001b[0;32m      5\u001b[0m                                     \u001b[0mlabels\u001b[0m\u001b[1;33m=\u001b[0m\u001b[0msseason_all\u001b[0m\u001b[1;33m.\u001b[0m\u001b[0mindex\u001b[0m\u001b[1;33m,\u001b[0m\u001b[1;33m\u001b[0m\u001b[1;33m\u001b[0m\u001b[0m\n\u001b[0;32m      6\u001b[0m                                     \u001b[0mstartangle\u001b[0m\u001b[1;33m=\u001b[0m\u001b[1;36m90\u001b[0m\u001b[1;33m,\u001b[0m\u001b[1;33m\u001b[0m\u001b[1;33m\u001b[0m\u001b[0m\n",
      "\u001b[1;32m~\\anaconda3\\lib\\site-packages\\pandas\\core\\series.py\u001b[0m in \u001b[0;36m__getitem__\u001b[1;34m(self, key)\u001b[0m\n\u001b[0;32m    880\u001b[0m \u001b[1;33m\u001b[0m\u001b[0m\n\u001b[0;32m    881\u001b[0m         \u001b[1;32melif\u001b[0m \u001b[0mkey_is_scalar\u001b[0m\u001b[1;33m:\u001b[0m\u001b[1;33m\u001b[0m\u001b[1;33m\u001b[0m\u001b[0m\n\u001b[1;32m--> 882\u001b[1;33m             \u001b[1;32mreturn\u001b[0m \u001b[0mself\u001b[0m\u001b[1;33m.\u001b[0m\u001b[0m_get_value\u001b[0m\u001b[1;33m(\u001b[0m\u001b[0mkey\u001b[0m\u001b[1;33m)\u001b[0m\u001b[1;33m\u001b[0m\u001b[1;33m\u001b[0m\u001b[0m\n\u001b[0m\u001b[0;32m    883\u001b[0m \u001b[1;33m\u001b[0m\u001b[0m\n\u001b[0;32m    884\u001b[0m         \u001b[1;32mif\u001b[0m \u001b[0mis_hashable\u001b[0m\u001b[1;33m(\u001b[0m\u001b[0mkey\u001b[0m\u001b[1;33m)\u001b[0m\u001b[1;33m:\u001b[0m\u001b[1;33m\u001b[0m\u001b[1;33m\u001b[0m\u001b[0m\n",
      "\u001b[1;32m~\\anaconda3\\lib\\site-packages\\pandas\\core\\series.py\u001b[0m in \u001b[0;36m_get_value\u001b[1;34m(self, label, takeable)\u001b[0m\n\u001b[0;32m    987\u001b[0m \u001b[1;33m\u001b[0m\u001b[0m\n\u001b[0;32m    988\u001b[0m         \u001b[1;31m# Similar to Index.get_value, but we do not fall back to positional\u001b[0m\u001b[1;33m\u001b[0m\u001b[1;33m\u001b[0m\u001b[1;33m\u001b[0m\u001b[0m\n\u001b[1;32m--> 989\u001b[1;33m         \u001b[0mloc\u001b[0m \u001b[1;33m=\u001b[0m \u001b[0mself\u001b[0m\u001b[1;33m.\u001b[0m\u001b[0mindex\u001b[0m\u001b[1;33m.\u001b[0m\u001b[0mget_loc\u001b[0m\u001b[1;33m(\u001b[0m\u001b[0mlabel\u001b[0m\u001b[1;33m)\u001b[0m\u001b[1;33m\u001b[0m\u001b[1;33m\u001b[0m\u001b[0m\n\u001b[0m\u001b[0;32m    990\u001b[0m         \u001b[1;32mreturn\u001b[0m \u001b[0mself\u001b[0m\u001b[1;33m.\u001b[0m\u001b[0mindex\u001b[0m\u001b[1;33m.\u001b[0m\u001b[0m_get_values_for_loc\u001b[0m\u001b[1;33m(\u001b[0m\u001b[0mself\u001b[0m\u001b[1;33m,\u001b[0m \u001b[0mloc\u001b[0m\u001b[1;33m,\u001b[0m \u001b[0mlabel\u001b[0m\u001b[1;33m)\u001b[0m\u001b[1;33m\u001b[0m\u001b[1;33m\u001b[0m\u001b[0m\n\u001b[0;32m    991\u001b[0m \u001b[1;33m\u001b[0m\u001b[0m\n",
      "\u001b[1;32m~\\anaconda3\\lib\\site-packages\\pandas\\core\\indexes\\base.py\u001b[0m in \u001b[0;36mget_loc\u001b[1;34m(self, key, method, tolerance)\u001b[0m\n\u001b[0;32m   2895\u001b[0m                 \u001b[1;32mreturn\u001b[0m \u001b[0mself\u001b[0m\u001b[1;33m.\u001b[0m\u001b[0m_engine\u001b[0m\u001b[1;33m.\u001b[0m\u001b[0mget_loc\u001b[0m\u001b[1;33m(\u001b[0m\u001b[0mcasted_key\u001b[0m\u001b[1;33m)\u001b[0m\u001b[1;33m\u001b[0m\u001b[1;33m\u001b[0m\u001b[0m\n\u001b[0;32m   2896\u001b[0m             \u001b[1;32mexcept\u001b[0m \u001b[0mKeyError\u001b[0m \u001b[1;32mas\u001b[0m \u001b[0merr\u001b[0m\u001b[1;33m:\u001b[0m\u001b[1;33m\u001b[0m\u001b[1;33m\u001b[0m\u001b[0m\n\u001b[1;32m-> 2897\u001b[1;33m                 \u001b[1;32mraise\u001b[0m \u001b[0mKeyError\u001b[0m\u001b[1;33m(\u001b[0m\u001b[0mkey\u001b[0m\u001b[1;33m)\u001b[0m \u001b[1;32mfrom\u001b[0m \u001b[0merr\u001b[0m\u001b[1;33m\u001b[0m\u001b[1;33m\u001b[0m\u001b[0m\n\u001b[0m\u001b[0;32m   2898\u001b[0m \u001b[1;33m\u001b[0m\u001b[0m\n\u001b[0;32m   2899\u001b[0m         \u001b[1;32mif\u001b[0m \u001b[0mtolerance\u001b[0m \u001b[1;32mis\u001b[0m \u001b[1;32mnot\u001b[0m \u001b[1;32mNone\u001b[0m\u001b[1;33m:\u001b[0m\u001b[1;33m\u001b[0m\u001b[1;33m\u001b[0m\u001b[0m\n",
      "\u001b[1;31mKeyError\u001b[0m: 'amount'"
     ]
    },
    {
     "data": {
      "text/plain": [
       "<Figure size 1440x1440 with 0 Axes>"
      ]
     },
     "metadata": {},
     "output_type": "display_data"
    }
   ],
   "source": [
    "fig = plt.figure(figsize=(20,20))\n",
    "plt.rc('font', family='Malgun Gothic', size=20)\n",
    "colors = sns.color_palette('hls',30)\n",
    "patches, texts, autotexts = plt.pie(sseason_all['amount'],\n",
    "                                    labels=sseason_all.index,\n",
    "                                    startangle=90,\n",
    "                                    counterclock=False,\n",
    "                                    autopct='%.2f%%',\n",
    "                                    colors = colors,\n",
    "                                    pctdistance=0.7,\n",
    "                                    labeldistance=1.05)\n",
    "for t in texts:\n",
    "    t.set_color(\"white\")\n",
    "    t.set_fontsize(20)\n",
    "for t in autotexts:\n",
    "    t.set_color(\"white\")\n",
    "    t.set_fontsize(20)\n",
    "title = '계절별 매출액 비중'\n",
    "plt.title(title, size=40)\n",
    "plt.show()"
   ]
  },
  {
   "cell_type": "markdown",
   "metadata": {},
   "source": [
    "## 계절별 pc 판매률"
   ]
  },
  {
   "cell_type": "code",
   "execution_count": null,
   "metadata": {
    "ExecuteTime": {
     "end_time": "2021-02-07T13:27:57.416330Z",
     "start_time": "2021-02-07T13:26:38.499Z"
    }
   },
   "outputs": [],
   "source": [
    "sseason1=season1.groupby('pc').sum()\n",
    "sseason2=season2.groupby('pc').sum()\n",
    "sseason3=season3.groupby('pc').sum()\n",
    "sseason4=season4.groupby('pc').sum()\n",
    "ssea1=sseason1.sort_values(by=['amount'],ascending=False)[:10]\n",
    "ssea2=sseason2.sort_values(by=['amount'],ascending=False)[:10]\n",
    "ssea3=sseason3.sort_values(by=['amount'],ascending=False)[:10]\n",
    "ssea4=sseason4.sort_values(by=['amount'],ascending=False)[:10]"
   ]
  },
  {
   "cell_type": "code",
   "execution_count": null,
   "metadata": {
    "ExecuteTime": {
     "end_time": "2021-02-07T13:27:57.418325Z",
     "start_time": "2021-02-07T13:26:38.503Z"
    }
   },
   "outputs": [],
   "source": [
    "fig = plt.figure(figsize=(20,20))\n",
    "plt.rc('font', family='Malgun Gothic', size=20)\n",
    "colors = sns.color_palette('hls',30)\n",
    "patches, texts, autotexts = plt.pie(ssea1['amount'],\n",
    "                                    labels=ssea1.index,\n",
    "                                    startangle=90,\n",
    "                                    counterclock=False,\n",
    "                                    autopct='%.2f%%',\n",
    "                                    colors = colors,\n",
    "                                    pctdistance=0.7,\n",
    "                                    labeldistance=1.05)\n",
    "for t in texts:\n",
    "    t.set_color(\"white\")\n",
    "    t.set_fontsize(20)\n",
    "for t in autotexts:\n",
    "    t.set_color(\"white\")\n",
    "    t.set_fontsize(20)\n",
    "title = '봄 top10 pc'\n",
    "plt.title(title, size=40)\n",
    "plt.show()"
   ]
  },
  {
   "cell_type": "code",
   "execution_count": null,
   "metadata": {
    "ExecuteTime": {
     "end_time": "2021-02-07T13:27:57.419322Z",
     "start_time": "2021-02-07T13:26:38.510Z"
    }
   },
   "outputs": [],
   "source": [
    "fig = plt.figure(figsize=(20,20))\n",
    "plt.rc('font', family='Malgun Gothic', size=20)\n",
    "colors = sns.color_palette('hls',30)\n",
    "patches, texts, autotexts = plt.pie(ssea2['amount'],\n",
    "                                    labels=ssea2.index,\n",
    "                                    startangle=90,\n",
    "                                    counterclock=False,\n",
    "                                    autopct='%.2f%%',\n",
    "                                    colors = colors,\n",
    "                                    pctdistance=0.7,\n",
    "                                    labeldistance=1.05)\n",
    "for t in texts:\n",
    "    t.set_color(\"white\")\n",
    "    t.set_fontsize(20)\n",
    "for t in autotexts:\n",
    "    t.set_color(\"white\")\n",
    "    t.set_fontsize(20)\n",
    "title = '여름 top10 pc'\n",
    "plt.title(title, size=40)\n",
    "plt.show()"
   ]
  },
  {
   "cell_type": "code",
   "execution_count": null,
   "metadata": {
    "ExecuteTime": {
     "end_time": "2021-02-07T13:27:57.420319Z",
     "start_time": "2021-02-07T13:26:38.515Z"
    }
   },
   "outputs": [],
   "source": [
    "fig = plt.figure(figsize=(20,20))\n",
    "plt.rc('font', family='Malgun Gothic', size=20)\n",
    "colors = sns.color_palette('hls',30)\n",
    "patches, texts, autotexts = plt.pie(ssea3['amount'],\n",
    "                                    labels=ssea3.index,\n",
    "                                    startangle=90,\n",
    "                                    counterclock=False,\n",
    "                                    autopct='%.2f%%',\n",
    "                                    colors = colors,\n",
    "                                    pctdistance=0.7,\n",
    "                                    labeldistance=1.05)\n",
    "for t in texts:\n",
    "    t.set_color(\"white\")\n",
    "    t.set_fontsize(20)\n",
    "for t in autotexts:\n",
    "    t.set_color(\"white\")\n",
    "    t.set_fontsize(20)\n",
    "title = '가을 top10 pc'\n",
    "plt.title(title, size=40)\n",
    "plt.show()"
   ]
  },
  {
   "cell_type": "code",
   "execution_count": null,
   "metadata": {
    "ExecuteTime": {
     "end_time": "2021-02-07T13:27:57.421318Z",
     "start_time": "2021-02-07T13:26:38.522Z"
    }
   },
   "outputs": [],
   "source": [
    "fig = plt.figure(figsize=(20,20))\n",
    "plt.rc('font', family='Malgun Gothic', size=20)\n",
    "colors = sns.color_palette('hls',30)\n",
    "patches, texts, autotexts = plt.pie(ssea4['amount'],\n",
    "                                    labels=ssea4.index,\n",
    "                                    startangle=90,\n",
    "                                    counterclock=False,\n",
    "                                    autopct='%.2f%%',\n",
    "                                    colors = colors,\n",
    "                                    pctdistance=0.7,\n",
    "                                    labeldistance=1.05)\n",
    "for t in texts:\n",
    "    t.set_color(\"white\")\n",
    "    t.set_fontsize(20)\n",
    "for t in autotexts:\n",
    "    t.set_color(\"white\")\n",
    "    t.set_fontsize(20)\n",
    "title = '겨울 top10 pc'\n",
    "plt.title(title, size=40)\n",
    "plt.show()"
   ]
  },
  {
   "cell_type": "code",
   "execution_count": null,
   "metadata": {
    "ExecuteTime": {
     "end_time": "2021-02-07T13:27:57.423311Z",
     "start_time": "2021-02-07T13:26:38.526Z"
    }
   },
   "outputs": [],
   "source": [
    "index_n1 = data_set[data_set['brand']=='식품'].index\n",
    "data_set2= data_set.drop(index_n1)\n",
    "season1= data_set2[data_set2['season']==\"봄\"]\n",
    "season2= data_set2[data_set2[\"season\"]==\"여름\"]\n",
    "season3= data_set2[data_set2[\"season\"]==\"가을\"]\n",
    "season4= data_set2[data_set2[\"season\"]==\"겨울\"]"
   ]
  },
  {
   "cell_type": "code",
   "execution_count": null,
   "metadata": {
    "ExecuteTime": {
     "end_time": "2021-02-07T13:27:57.424309Z",
     "start_time": "2021-02-07T13:26:38.531Z"
    }
   },
   "outputs": [],
   "source": [
    "sseason1=season1.groupby('brand').sum()\n",
    "sseason2=season2.groupby('brand').sum()\n",
    "sseason3=season3.groupby('brand').sum()\n",
    "sseason4=season4.groupby('brand').sum()\n",
    "ssea1=sseason1.sort_values(by=['amount'],ascending=False)[:10]\n",
    "ssea2=sseason2.sort_values(by=['amount'],ascending=False)[:10]\n",
    "ssea3=sseason3.sort_values(by=['amount'],ascending=False)[:10]\n",
    "ssea4=sseason4.sort_values(by=['amount'],ascending=False)[:10]\n",
    "ssea1"
   ]
  },
  {
   "cell_type": "code",
   "execution_count": null,
   "metadata": {
    "ExecuteTime": {
     "end_time": "2021-02-07T13:27:57.425306Z",
     "start_time": "2021-02-07T13:26:38.535Z"
    }
   },
   "outputs": [],
   "source": [
    "sseason1=season1.groupby('brand').mean()\n",
    "sseason2=season2.groupby('brand').sum()\n",
    "sseason3=season3.groupby('brand').sum()\n",
    "sseason4=season4.groupby('brand').sum()\n",
    "ssea1=sseason1.sort_values(by=['amount'],ascending=False)[:10]\n",
    "ssea2=sseason2.sort_values(by=['amount'],ascending=False)[:10]\n",
    "ssea3=sseason3.sort_values(by=['amount'],ascending=False)[:10]\n",
    "ssea4=sseason4.sort_values(by=['amount'],ascending=False)[:10]\n",
    "ssea1"
   ]
  },
  {
   "cell_type": "markdown",
   "metadata": {},
   "source": [
    "## 계절별 top10 브랜드"
   ]
  },
  {
   "cell_type": "code",
   "execution_count": null,
   "metadata": {
    "ExecuteTime": {
     "end_time": "2021-02-07T13:27:57.427300Z",
     "start_time": "2021-02-07T13:26:38.715Z"
    }
   },
   "outputs": [],
   "source": [
    "fig = plt.figure(figsize=(20,20))\n",
    "plt.rc('font', family='Malgun Gothic', size=20)\n",
    "colors = sns.color_palette('hls',30)\n",
    "patches, texts, autotexts = plt.pie(ssea1['amount'],\n",
    "                                    labels=ssea1.index,\n",
    "                                    startangle=90,\n",
    "                                    counterclock=False,\n",
    "                                    autopct='%.2f%%',\n",
    "                                    colors = colors,\n",
    "                                    pctdistance=0.7,\n",
    "                                    labeldistance=1.05)\n",
    "for t in texts:\n",
    "    t.set_color(\"white\")\n",
    "    t.set_fontsize(20)\n",
    "for t in autotexts:\n",
    "    t.set_color(\"white\")\n",
    "    t.set_fontsize(20)\n",
    "title = '봄 top10 브랜드'\n",
    "plt.title(title, size=40)\n",
    "plt.show()"
   ]
  },
  {
   "cell_type": "code",
   "execution_count": null,
   "metadata": {
    "ExecuteTime": {
     "end_time": "2021-02-07T13:27:57.429297Z",
     "start_time": "2021-02-07T13:26:38.725Z"
    }
   },
   "outputs": [],
   "source": [
    "fig = plt.figure(figsize=(20,20))\n",
    "plt.rc('font', family='Malgun Gothic', size=20)\n",
    "colors = sns.color_palette('hls',30)\n",
    "patches, texts, autotexts = plt.pie(ssea2['amount'],\n",
    "                                    labels=ssea2.index,\n",
    "                                    startangle=90,\n",
    "                                    counterclock=False,\n",
    "                                    autopct='%.2f%%',\n",
    "                                    colors = colors,\n",
    "                                    pctdistance=0.7,\n",
    "                                    labeldistance=1.05)\n",
    "for t in texts:\n",
    "    t.set_color(\"white\")\n",
    "    t.set_fontsize(20)\n",
    "for t in autotexts:\n",
    "    t.set_color(\"white\")\n",
    "    t.set_fontsize(20)\n",
    "title = '여름 top10 브랜드'\n",
    "plt.title(title, size=40)\n",
    "plt.show()"
   ]
  },
  {
   "cell_type": "code",
   "execution_count": null,
   "metadata": {
    "ExecuteTime": {
     "end_time": "2021-02-07T13:27:57.431290Z",
     "start_time": "2021-02-07T13:26:38.730Z"
    }
   },
   "outputs": [],
   "source": [
    "fig = plt.figure(figsize=(20,20))\n",
    "plt.rc('font', family='Malgun Gothic', size=20)\n",
    "colors = sns.color_palette('hls',30)\n",
    "patches, texts, autotexts = plt.pie(ssea3['amount'],\n",
    "                                    labels=ssea3.index,\n",
    "                                    startangle=90,\n",
    "                                    counterclock=False,\n",
    "                                    autopct='%.2f%%',\n",
    "                                    colors = colors,\n",
    "                                    pctdistance=0.7,\n",
    "                                    labeldistance=1.05)\n",
    "for t in texts:\n",
    "    t.set_color(\"white\")\n",
    "    t.set_fontsize(20)\n",
    "for t in autotexts:\n",
    "    t.set_color(\"white\")\n",
    "    t.set_fontsize(20)\n",
    "title = '가을 top10 브랜드'\n",
    "plt.title(title, size=40)\n",
    "plt.show()"
   ]
  },
  {
   "cell_type": "code",
   "execution_count": null,
   "metadata": {
    "ExecuteTime": {
     "end_time": "2021-02-07T13:27:57.432288Z",
     "start_time": "2021-02-07T13:26:38.735Z"
    }
   },
   "outputs": [],
   "source": [
    "fig = plt.figure(figsize=(20,20))\n",
    "plt.rc('font', family='Malgun Gothic', size=20)\n",
    "colors = sns.color_palette('hls',30)\n",
    "patches, texts, autotexts = plt.pie(ssea4['amount'],\n",
    "                                    labels=ssea4.index,\n",
    "                                    startangle=90,\n",
    "                                    counterclock=False,\n",
    "                                    autopct='%.2f%%',\n",
    "                                    colors = colors,\n",
    "                                    pctdistance=0.7,\n",
    "                                    labeldistance=1.05)\n",
    "for t in texts:\n",
    "    t.set_color(\"white\")\n",
    "    t.set_fontsize(20)\n",
    "for t in autotexts:\n",
    "    t.set_color(\"white\")\n",
    "    t.set_fontsize(20)\n",
    "title = '겨울 top10 브랜드'\n",
    "plt.title(title, size=40)\n",
    "plt.show()"
   ]
  },
  {
   "cell_type": "markdown",
   "metadata": {},
   "source": [
    "## 지점당 시간별 매출"
   ]
  },
  {
   "cell_type": "code",
   "execution_count": null,
   "metadata": {
    "ExecuteTime": {
     "end_time": "2021-02-07T13:27:57.433285Z",
     "start_time": "2021-02-07T13:26:38.916Z"
    }
   },
   "outputs": [],
   "source": [
    "index_n1 = data_set[data_set['hour']=='00'].index\n",
    "data_set1= data_set.drop(index_n1)\n",
    "index_n1 = data_set1[data_set1['hour']=='01'].index\n",
    "data_set1= data_set1.drop(index_n1)\n",
    "index_n1 = data_set1[data_set1['hour']=='08'].index\n",
    "data_set1= data_set1.drop(index_n1)\n",
    "index_n1 = data_set1[data_set1['hour']=='09'].index\n",
    "data_set1= data_set1.drop(index_n1)\n",
    "index_n1 = data_set1[data_set1['hour']=='21'].index\n",
    "data_set1= data_set1.drop(index_n1)\n",
    "index_n1 = data_set1[data_set1['hour']=='22'].index\n",
    "data_set1= data_set1.drop(index_n1)\n",
    "index_n1 = data_set1[data_set1['hour']=='23'].index\n",
    "data_set1= data_set1.drop(index_n1)\n",
    "store1= data_set1[data_set1[\"store\"]==\"본점\"]\n",
    "store2= data_set1[data_set1[\"store\"]==\"무역점\"]\n",
    "store3= data_set1[data_set1[\"store\"]==\"천호점\"]\n",
    "store4= data_set1[data_set1[\"store\"]==\"신촌점\"]\n",
    "ss1=store1.groupby('hour').sum()\n",
    "ss2=store2.groupby('hour').sum()\n",
    "ss3=store3.groupby('hour').sum()\n",
    "ss4=store4.groupby('hour').sum()\n",
    "sss1=ss1['amount']\n",
    "sss2=ss2['amount']\n",
    "sss3=ss3['amount']\n",
    "sss4=ss4['amount']\n",
    "sss1.plot(kind='bar', rot=0,color=colors)\n",
    "plt.title(\"시간별 매출 금액(본점)\")\n",
    "plt.xlabel(\"시간\")\n",
    "#plt.xticks(rotation=45)\n",
    "plt.ylabel(\"매출\")\n",
    "plt.show()\n",
    "sss2.plot(kind='bar', rot=0,color=colors)\n",
    "plt.title(\"시간별 매출 금액(무역점)\")\n",
    "plt.xlabel(\"시간\")\n",
    "#plt.xticks(rotation=45)\n",
    "plt.ylabel(\"매출\")\n",
    "plt.show()\n",
    "sss3.plot(kind='bar', rot=0,color=colors)\n",
    "plt.title(\"시간별 매출 금액(천호점)\")\n",
    "plt.xlabel(\"시간\")\n",
    "#plt.xticks(rotation=45)\n",
    "plt.ylabel(\"매출\")\n",
    "plt.show()\n",
    "sss4.plot(kind='bar', rot=0,color=colors)\n",
    "plt.title(\"시간별 매출 금액(신촌점)\")\n",
    "plt.xlabel(\"시간\")\n",
    "#plt.xticks(rotation=45)\n",
    "plt.ylabel(\"매출\")\n",
    "plt.show()"
   ]
  },
  {
   "cell_type": "markdown",
   "metadata": {},
   "source": [
    "## 시간별 브랜드 판매률"
   ]
  },
  {
   "cell_type": "code",
   "execution_count": null,
   "metadata": {
    "ExecuteTime": {
     "end_time": "2021-02-07T13:27:57.434282Z",
     "start_time": "2021-02-07T13:26:39.101Z"
    }
   },
   "outputs": [],
   "source": [
    "index_n1 = data_set[data_set['hour']=='00'].index\n",
    "data_set1= data_set.drop(index_n1)\n",
    "index_n1 = data_set1[data_set1['hour']=='01'].index\n",
    "data_set1= data_set1.drop(index_n1)\n",
    "index_n1 = data_set1[data_set1['hour']=='08'].index\n",
    "data_set1= data_set1.drop(index_n1)\n",
    "index_n1 = data_set1[data_set1['hour']=='09'].index\n",
    "data_set1= data_set1.drop(index_n1)\n",
    "index_n1 = data_set1[data_set1['hour']=='21'].index\n",
    "data_set1= data_set1.drop(index_n1)\n",
    "index_n1 = data_set1[data_set1['hour']=='22'].index\n",
    "data_set1= data_set1.drop(index_n1)\n",
    "index_n1 = data_set1[data_set1['hour']=='23'].index\n",
    "data_set1= data_set1.drop(index_n1)\n",
    "index_n1 = data_set1[data_set1['amount']<0].index\n",
    "data_set1= data_set1.drop(index_n1)\n",
    "index_n1 = data_set1[data_set1['brand']=='식품'].index\n",
    "data_set1= data_set1.drop(index_n1)\n",
    "store1= data_set1[data_set1[\"hour\"]==\"10\"]\n",
    "store2= data_set1[data_set1[\"hour\"]==\"11\"]\n",
    "store3= data_set1[data_set1[\"hour\"]==\"12\"]\n",
    "store4= data_set1[data_set1[\"hour\"]==\"13\"]\n",
    "store5= data_set1[data_set1[\"hour\"]==\"14\"]\n",
    "store6= data_set1[data_set1[\"hour\"]==\"15\"]\n",
    "store7= data_set1[data_set1[\"hour\"]==\"16\"]\n",
    "store8= data_set1[data_set1[\"hour\"]==\"17\"]\n",
    "store9= data_set1[data_set1[\"hour\"]==\"18\"]\n",
    "store10= data_set1[data_set1[\"hour\"]==\"19\"]\n",
    "store11= data_set1[data_set1[\"hour\"]==\"20\"]\n",
    "ss1=store1.groupby('brand').sum()\n",
    "ss1=ss1.sort_values(by='amount',ascending=False)[:20]\n",
    "ss2=store2.groupby('brand').sum()\n",
    "ss2=ss2.sort_values(by='amount',ascending=False)[:20]\n",
    "ss3=store3.groupby('brand').sum()\n",
    "ss3=ss3.sort_values(by='amount',ascending=False)[:20]\n",
    "ss4=store4.groupby('brand').sum()\n",
    "ss4=ss4.sort_values(by='amount',ascending=False)[:20]\n",
    "ss5=store5.groupby('brand').sum()\n",
    "ss5=ss5.sort_values(by='amount',ascending=False)[:20]\n",
    "ss6=store6.groupby('brand').sum()\n",
    "ss6=ss6.sort_values(by='amount',ascending=False)[:20]\n",
    "ss7=store7.groupby('brand').sum()\n",
    "ss7=ss7.sort_values(by='amount',ascending=False)[:20]\n",
    "ss8=store8.groupby('brand').sum()\n",
    "ss8=ss8.sort_values(by='amount',ascending=False)[:20]\n",
    "ss9=store9.groupby('brand').sum()\n",
    "ss9=ss9.sort_values(by='amount',ascending=False)[:20]\n",
    "ss10=store10.groupby('brand').sum()\n",
    "ss10=ss10.sort_values(by='amount',ascending=False)[:20]\n",
    "ss11=store11.groupby('brand').sum()\n",
    "ss11=ss11.sort_values(by='amount',ascending=False)[:20]\n",
    "# sss1=ss1['amount']\n",
    "# sss2=ss2['amount']\n",
    "# sss3=ss3['amount']\n",
    "# sss4=ss4['amount']\n",
    "# sss5=ss5['amount']\n",
    "# sss6=ss6['amount']\n",
    "# sss7=ss7['amount']\n",
    "# sss8=ss8['amount']\n",
    "# sss9=ss9['amount']\n",
    "# sss10=ss10['amount']\n",
    "# sss11=ss11['amount']\n",
    "# sss1.plot(kind='bar', rot=0,color=colors)\n",
    "# plt.title(\"시간별 매출 금액(본점)\")\n",
    "# plt.xlabel(\"시간\")\n",
    "# plt.xticks(rotation=45)\n",
    "# plt.ylabel(\"매출\")\n",
    "# plt.show()"
   ]
  },
  {
   "cell_type": "code",
   "execution_count": null,
   "metadata": {
    "ExecuteTime": {
     "end_time": "2021-02-07T13:27:57.435279Z",
     "start_time": "2021-02-07T13:26:39.106Z"
    }
   },
   "outputs": [],
   "source": [
    "fig = plt.figure(figsize=(20,20))\n",
    "plt.rc('font', family='Malgun Gothic', size=20)\n",
    "colors = sns.color_palette('hls',30)\n",
    "patches, texts, autotexts = plt.pie(ss1['amount'],\n",
    "                                    labels=ss1.index,\n",
    "                                    startangle=90,\n",
    "                                    counterclock=False,\n",
    "                                    autopct='%.2f%%',\n",
    "                                    colors = colors,\n",
    "                                    pctdistance=0.7,\n",
    "                                    labeldistance=1.05)\n",
    "for t in texts:\n",
    "    t.set_color(\"white\")\n",
    "    t.set_fontsize(20)\n",
    "for t in autotexts:\n",
    "    t.set_color(\"white\")\n",
    "    t.set_fontsize(20)\n",
    "title = '10시 브랜드별 판매률(식품제외)'\n",
    "plt.title(title, size=40)\n",
    "plt.show()"
   ]
  },
  {
   "cell_type": "code",
   "execution_count": null,
   "metadata": {
    "ExecuteTime": {
     "end_time": "2021-02-07T13:27:57.436277Z",
     "start_time": "2021-02-07T13:26:39.110Z"
    }
   },
   "outputs": [],
   "source": [
    "fig = plt.figure(figsize=(20,20))\n",
    "plt.rc('font', family='Malgun Gothic', size=20)\n",
    "colors = sns.color_palette('hls',20)\n",
    "patches, texts, autotexts = plt.pie(ss2['amount'],\n",
    "                                    labels=ss2.index,\n",
    "                                    startangle=90,\n",
    "                                    counterclock=False,\n",
    "                                    autopct='%.2f%%',\n",
    "                                    colors = colors,\n",
    "                                    pctdistance=0.7,\n",
    "                                    labeldistance=1.05)\n",
    "for t in texts:\n",
    "    t.set_color(\"white\")\n",
    "    t.set_fontsize(20)\n",
    "for t in autotexts:\n",
    "    t.set_color(\"white\")\n",
    "    t.set_fontsize(20)\n",
    "title = '11시 브랜드별 판매률(식품제외)'\n",
    "plt.title(title, size=40)\n",
    "plt.show()"
   ]
  },
  {
   "cell_type": "code",
   "execution_count": null,
   "metadata": {
    "ExecuteTime": {
     "end_time": "2021-02-07T13:27:57.437274Z",
     "start_time": "2021-02-07T13:26:39.116Z"
    }
   },
   "outputs": [],
   "source": [
    "fig = plt.figure(figsize=(20,20))\n",
    "plt.rc('font', family='Malgun Gothic', size=20)\n",
    "colors = sns.color_palette('hls',20)\n",
    "patches, texts, autotexts = plt.pie(ss3['amount'],\n",
    "                                    labels=ss3.index,\n",
    "                                    startangle=90,\n",
    "                                    counterclock=False,\n",
    "                                    autopct='%.2f%%',\n",
    "                                    colors = colors,\n",
    "                                    pctdistance=0.7,\n",
    "                                    labeldistance=1.05)\n",
    "for t in texts:\n",
    "    t.set_color(\"white\")\n",
    "    t.set_fontsize(20)\n",
    "for t in autotexts:\n",
    "    t.set_color(\"white\")\n",
    "    t.set_fontsize(20)\n",
    "title = '12시 브랜드별 판매률(식품제외)'\n",
    "plt.title(title, size=40)\n",
    "plt.show()"
   ]
  },
  {
   "cell_type": "code",
   "execution_count": null,
   "metadata": {
    "ExecuteTime": {
     "end_time": "2021-02-07T13:27:57.438271Z",
     "start_time": "2021-02-07T13:26:39.121Z"
    }
   },
   "outputs": [],
   "source": [
    "fig = plt.figure(figsize=(20,20))\n",
    "plt.rc('font', family='Malgun Gothic', size=20)\n",
    "colors = sns.color_palette('hls',20)\n",
    "patches, texts, autotexts = plt.pie(ss4['amount'],\n",
    "                                    labels=ss4.index,\n",
    "                                    startangle=90,\n",
    "                                    counterclock=False,\n",
    "                                    autopct='%.2f%%',\n",
    "                                    colors = colors,\n",
    "                                    pctdistance=0.7,\n",
    "                                    labeldistance=1.05)\n",
    "for t in texts:\n",
    "    t.set_color(\"white\")\n",
    "    t.set_fontsize(20)\n",
    "for t in autotexts:\n",
    "    t.set_color(\"white\")\n",
    "    t.set_fontsize(20)\n",
    "title = '13시 브랜드별 판매률(식품제외)'\n",
    "plt.title(title, size=40)\n",
    "plt.show()"
   ]
  },
  {
   "cell_type": "code",
   "execution_count": null,
   "metadata": {
    "ExecuteTime": {
     "end_time": "2021-02-07T13:27:57.439269Z",
     "start_time": "2021-02-07T13:26:39.128Z"
    }
   },
   "outputs": [],
   "source": [
    "fig = plt.figure(figsize=(20,20))\n",
    "plt.rc('font', family='Malgun Gothic', size=20)\n",
    "colors = sns.color_palette('hls',20)\n",
    "patches, texts, autotexts = plt.pie(ss5['amount'],\n",
    "                                    labels=ss5.index,\n",
    "                                    startangle=90,\n",
    "                                    counterclock=False,\n",
    "                                    autopct='%.2f%%',\n",
    "                                    colors = colors,\n",
    "                                    pctdistance=0.7,\n",
    "                                    labeldistance=1.05)\n",
    "for t in texts:\n",
    "    t.set_color(\"white\")\n",
    "    t.set_fontsize(20)\n",
    "for t in autotexts:\n",
    "    t.set_color(\"white\")\n",
    "    t.set_fontsize(20)\n",
    "title = '14시 브랜드별 판매률(식품제외)'\n",
    "plt.title(title, size=40)\n",
    "plt.show()"
   ]
  },
  {
   "cell_type": "code",
   "execution_count": null,
   "metadata": {
    "ExecuteTime": {
     "end_time": "2021-02-07T13:27:57.440266Z",
     "start_time": "2021-02-07T13:26:39.132Z"
    }
   },
   "outputs": [],
   "source": [
    "fig = plt.figure(figsize=(20,20))\n",
    "plt.rc('font', family='Malgun Gothic', size=20)\n",
    "colors = sns.color_palette('hls',20)\n",
    "patches, texts, autotexts = plt.pie(ss6['amount'],\n",
    "                                    labels=ss6.index,\n",
    "                                    startangle=90,\n",
    "                                    counterclock=False,\n",
    "                                    autopct='%.2f%%',\n",
    "                                    colors = colors,\n",
    "                                    pctdistance=0.7,\n",
    "                                    labeldistance=1.05)\n",
    "for t in texts:\n",
    "    t.set_color(\"white\")\n",
    "    t.set_fontsize(20)\n",
    "for t in autotexts:\n",
    "    t.set_color(\"white\")\n",
    "    t.set_fontsize(20)\n",
    "title = '15시 브랜드별 판매률(식품제외)'\n",
    "plt.title(title, size=40)\n",
    "plt.show()"
   ]
  },
  {
   "cell_type": "code",
   "execution_count": null,
   "metadata": {
    "ExecuteTime": {
     "end_time": "2021-02-07T13:27:57.441263Z",
     "start_time": "2021-02-07T13:26:39.136Z"
    }
   },
   "outputs": [],
   "source": [
    "fig = plt.figure(figsize=(20,20))\n",
    "plt.rc('font', family='Malgun Gothic', size=20)\n",
    "colors = sns.color_palette('hls',20)\n",
    "patches, texts, autotexts = plt.pie(ss7['amount'],\n",
    "                                    labels=ss7.index,\n",
    "                                    startangle=90,\n",
    "                                    counterclock=False,\n",
    "                                    autopct='%.2f%%',\n",
    "                                    colors = colors,\n",
    "                                    pctdistance=0.7,\n",
    "                                    labeldistance=1.05)\n",
    "for t in texts:\n",
    "    t.set_color(\"white\")\n",
    "    t.set_fontsize(20)\n",
    "for t in autotexts:\n",
    "    t.set_color(\"white\")\n",
    "    t.set_fontsize(20)\n",
    "title = '16시 브랜드별 판매률(식품제외)'\n",
    "plt.title(title, size=40)\n",
    "plt.show()"
   ]
  },
  {
   "cell_type": "code",
   "execution_count": null,
   "metadata": {
    "ExecuteTime": {
     "end_time": "2021-02-07T13:27:57.443258Z",
     "start_time": "2021-02-07T13:26:39.141Z"
    }
   },
   "outputs": [],
   "source": [
    "fig = plt.figure(figsize=(20,20))\n",
    "plt.rc('font', family='Malgun Gothic', size=20)\n",
    "colors = sns.color_palette('hls',20)\n",
    "patches, texts, autotexts = plt.pie(ss8['amount'],\n",
    "                                    labels=ss8.index,\n",
    "                                    startangle=90,\n",
    "                                    counterclock=False,\n",
    "                                    autopct='%.2f%%',\n",
    "                                    colors = colors,\n",
    "                                    pctdistance=0.7,\n",
    "                                    labeldistance=1.05)\n",
    "for t in texts:\n",
    "    t.set_color(\"white\")\n",
    "    t.set_fontsize(20)\n",
    "for t in autotexts:\n",
    "    t.set_color(\"white\")\n",
    "    t.set_fontsize(20)\n",
    "title = '17시 브랜드별 판매률(식품제외)'\n",
    "plt.title(title, size=40)\n",
    "plt.show()"
   ]
  },
  {
   "cell_type": "code",
   "execution_count": null,
   "metadata": {
    "ExecuteTime": {
     "end_time": "2021-02-07T13:27:57.444256Z",
     "start_time": "2021-02-07T13:26:39.145Z"
    }
   },
   "outputs": [],
   "source": [
    "fig = plt.figure(figsize=(20,20))\n",
    "plt.rc('font', family='Malgun Gothic', size=20)\n",
    "colors = sns.color_palette('hls',20)\n",
    "patches, texts, autotexts = plt.pie(ss9['amount'],\n",
    "                                    labels=ss9.index,\n",
    "                                    startangle=90,\n",
    "                                    counterclock=False,\n",
    "                                    autopct='%.2f%%',\n",
    "                                    colors = colors,\n",
    "                                    pctdistance=0.7,\n",
    "                                    labeldistance=1.05)\n",
    "for t in texts:\n",
    "    t.set_color(\"white\")\n",
    "    t.set_fontsize(20)\n",
    "for t in autotexts:\n",
    "    t.set_color(\"white\")\n",
    "    t.set_fontsize(20)\n",
    "title = '18시 브랜드별 판매률(식품제외)'\n",
    "plt.title(title, size=40)\n",
    "plt.show()"
   ]
  },
  {
   "cell_type": "code",
   "execution_count": null,
   "metadata": {
    "ExecuteTime": {
     "end_time": "2021-02-07T13:27:57.446250Z",
     "start_time": "2021-02-07T13:26:39.149Z"
    }
   },
   "outputs": [],
   "source": [
    "fig = plt.figure(figsize=(20,20))\n",
    "plt.rc('font', family='Malgun Gothic', size=20)\n",
    "colors = sns.color_palette('hls',20)\n",
    "patches, texts, autotexts = plt.pie(ss10['amount'],\n",
    "                                    labels=ss10.index,\n",
    "                                    startangle=90,\n",
    "                                    counterclock=False,\n",
    "                                    autopct='%.2f%%',\n",
    "                                    colors = colors,\n",
    "                                    pctdistance=0.7,\n",
    "                                    labeldistance=1.05)\n",
    "for t in texts:\n",
    "    t.set_color(\"white\")\n",
    "    t.set_fontsize(20)\n",
    "for t in autotexts:\n",
    "    t.set_color(\"white\")\n",
    "    t.set_fontsize(20)\n",
    "title = '19시 브랜드별 판매률(식품제외)'\n",
    "plt.title(title, size=40)\n",
    "plt.show()"
   ]
  },
  {
   "cell_type": "code",
   "execution_count": null,
   "metadata": {
    "ExecuteTime": {
     "end_time": "2021-02-07T13:27:57.447247Z",
     "start_time": "2021-02-07T13:26:39.154Z"
    }
   },
   "outputs": [],
   "source": [
    "fig = plt.figure(figsize=(20,20))\n",
    "plt.rc('font', family='Malgun Gothic', size=20)\n",
    "colors = sns.color_palette('hls',20)\n",
    "patches, texts, autotexts = plt.pie(ss11['amount'],\n",
    "                                    labels=ss11.index,\n",
    "                                    startangle=90,\n",
    "                                    counterclock=False,\n",
    "                                    autopct='%.2f%%',\n",
    "                                    colors = colors,\n",
    "                                    pctdistance=0.7,\n",
    "                                    labeldistance=1.05)\n",
    "for t in texts:\n",
    "    t.set_color(\"white\")\n",
    "    t.set_fontsize(20)\n",
    "for t in autotexts:\n",
    "    t.set_color(\"white\")\n",
    "    t.set_fontsize(20)\n",
    "title = '20시 브랜드별 판매률(식품제외)'\n",
    "plt.title(title, size=40)\n",
    "plt.show()"
   ]
  },
  {
   "cell_type": "code",
   "execution_count": null,
   "metadata": {
    "ExecuteTime": {
     "end_time": "2021-02-07T13:27:57.448245Z",
     "start_time": "2021-02-07T13:26:39.159Z"
    }
   },
   "outputs": [],
   "source": [
    "index_n1 = data_set[data_set['hour']=='00' or data_set['hour']=='01' or data_set['hour']=='08' or data_set['hour']=='09' or data_set['hour']=='21' or data_set['hour']=='22' or data_set['hour']=='23'].index\n",
    "data_set1= data_set.drop(index_n1)"
   ]
  },
  {
   "cell_type": "code",
   "execution_count": null,
   "metadata": {
    "ExecuteTime": {
     "end_time": "2021-02-07T13:27:57.449242Z",
     "start_time": "2021-02-07T13:26:39.164Z"
    }
   },
   "outputs": [],
   "source": [
    "index_n1 =data_set[data_set['ro']=='그외'].index\n",
    "data_set1=data_set.drop(index_n1)\n",
    "store1= data_set1[data_set1[\"store\"]==\"본점\"]\n",
    "store2= data_set1[data_set1[\"store\"]==\"무역점\"]\n",
    "store3= data_set1[data_set1[\"store\"]==\"천호점\"]\n",
    "store4= data_set1[data_set1[\"store\"]==\"신촌점\"]\n",
    "ss1=store1.groupby('hour').sum()\n",
    "ss2=store2.groupby('hour').sum()\n",
    "ss3=store3.groupby('hour').sum()\n",
    "ss4=store4.groupby('hour').sum()\n",
    "sss1=ss1['amount']\n",
    "sss2=ss2['amount']\n",
    "sss3=ss3['amount']\n",
    "sss4=ss4['amount']\n",
    "sss1.plot(kind='bar', rot=0,color=colors)\n",
    "plt.title(\"시간별 매출 금액(본점)\")\n",
    "plt.xlabel(\"시간\")\n",
    "plt.ylabel(\"매출\")\n",
    "plt.show()\n",
    "sss2.plot(kind='bar', rot=0,color=colors)\n",
    "plt.title(\"시간별 매출 금액(무역점)\")\n",
    "plt.xlabel(\"시간\")\n",
    "plt.ylabel(\"매출\")\n",
    "plt.show()\n",
    "sss3.plot(kind='bar', rot=0,color=colors)\n",
    "plt.title(\"시간별 매출 금액(천호점)\")\n",
    "plt.xlabel(\"시간\")\n",
    "plt.ylabel(\"매출\")\n",
    "plt.show()\n",
    "sss4.plot(kind='bar', rot=0,color=colors)\n",
    "plt.title(\"시간별 매출 금액(신촌점)\")\n",
    "plt.xlabel(\"시간\")\n",
    "plt.ylabel(\"매출\")\n",
    "plt.show()"
   ]
  },
  {
   "cell_type": "markdown",
   "metadata": {},
   "source": [
    "## 시간별 pc 판매률"
   ]
  },
  {
   "cell_type": "code",
   "execution_count": null,
   "metadata": {
    "ExecuteTime": {
     "end_time": "2021-02-07T13:27:57.453232Z",
     "start_time": "2021-02-07T13:26:39.352Z"
    }
   },
   "outputs": [],
   "source": [
    "data_set1[\"part\"] = data_set1[\"part\"].replace(\"가정용품\",\"가정용품파트\")\n",
    "data_set1[\"part\"] = data_set1[\"part\"].replace(\"골프/유니캐쥬얼\",\"골프_스포츠\")\n",
    "data_set1[\"part\"] = data_set1[\"part\"].replace(\"공산품\",\"공산품파트\")\n",
    "data_set1[\"part\"] = data_set1[\"part\"].replace(\"남성정장스포츠\",\"남성의류\")\n",
    "data_set1[\"part\"] = data_set1[\"part\"].replace(\"로얄부띠끄\",\"명품_부띠끄\")\n",
    "data_set1[\"part\"] = data_set1[\"part\"].replace(\"로얄부틱\",\"명품_부띠끄\")\n",
    "data_set1[\"part\"] = data_set1[\"part\"].replace(\"명품잡화\",\"명품_부띠끄\")\n",
    "data_set1[\"part\"] = data_set1[\"part\"].replace(\"상품개발영업1과\",\"행사상품\")\n",
    "data_set1[\"part\"] = data_set1[\"part\"].replace(\"생식품\",\"생식품파트\")\n",
    "data_set1[\"part\"] = data_set1[\"part\"].replace(\"아동\",\"아동파트\")\n",
    "data_set1[\"part\"] = data_set1[\"part\"].replace(\"아동,스포츠\",\"아동파트\")\n",
    "data_set1[\"part\"] = data_set1[\"part\"].replace(\"아동,스포츠\",\"아동파트\")\n",
    "data_set1[\"part\"] = data_set1[\"part\"].replace(\"아동문화\",\"아동파트\")\n",
    "data_set1[\"part\"] = data_set1[\"part\"].replace(\"스포츠캐주얼\",\"스포츠캐쥬얼\")\n",
    "data_set1[\"part\"] = data_set1[\"part\"].replace(\"여성정장\",\"여성의류파트\")\n",
    "data_set1[\"part\"] = data_set1[\"part\"].replace(\"여성캐주얼\",\"여성의류파트\")\n",
    "data_set1[\"part\"] = data_set1[\"part\"].replace(\"여성캐쥬얼\",\"여성의류파트\")\n",
    "data_set1[\"part\"] = data_set1[\"part\"].replace(\"영라이브\",\"여성의류파트\")\n",
    "data_set1[\"part\"] = data_set1[\"part\"].replace(\"영어덜트캐쥬얼\",\"여성의류파트\")\n",
    "data_set1[\"part\"] = data_set1[\"part\"].replace(\"영캐릭터\",\"영캐주얼\")\n",
    "data_set1[\"part\"] = data_set1[\"part\"].replace(\"영플라자\",\"영캐주얼\")\n",
    "data_set1[\"part\"] = data_set1[\"part\"].replace(\"잡화\",\"패션잡화\")\n",
    "data_set1[\"part\"] = data_set1[\"part\"].replace(\"잡화파트\",\"패션잡화\")\n",
    "index_n1 = data_set1[data_set1['amount']<0].index\n",
    "data_set1= data_set1.drop(index_n1)\n",
    "store1= data_set1[data_set1[\"hour\"]==\"10\"]\n",
    "store2= data_set1[data_set1[\"hour\"]==\"11\"]\n",
    "store3= data_set1[data_set1[\"hour\"]==\"12\"]\n",
    "store4= data_set1[data_set1[\"hour\"]==\"13\"]\n",
    "store5= data_set1[data_set1[\"hour\"]==\"14\"]\n",
    "store6= data_set1[data_set1[\"hour\"]==\"15\"]\n",
    "store7= data_set1[data_set1[\"hour\"]==\"16\"]\n",
    "store8= data_set1[data_set1[\"hour\"]==\"17\"]\n",
    "store9= data_set1[data_set1[\"hour\"]==\"18\"]\n",
    "store10= data_set1[data_set1[\"hour\"]==\"19\"]\n",
    "store11= data_set1[data_set1[\"hour\"]==\"20\"]\n",
    "ss1=store1.groupby(\"part\").sum()\n",
    "ss1=ss1.sort_values(by='amount',ascending=False)[:20]\n",
    "ss2=store2.groupby(\"part\").sum()\n",
    "ss2=ss2.sort_values(by='amount',ascending=False)[:20]\n",
    "ss3=store3.groupby(\"part\").sum()\n",
    "ss3=ss3.sort_values(by='amount',ascending=False)[:20]\n",
    "ss4=store4.groupby(\"part\").sum()\n",
    "ss4=ss4.sort_values(by='amount',ascending=False)[:20]\n",
    "ss5=store5.groupby(\"part\").sum()\n",
    "ss5=ss5.sort_values(by='amount',ascending=False)[:20]\n",
    "ss6=store6.groupby(\"part\").sum()\n",
    "ss6=ss6.sort_values(by='amount',ascending=False)[:20]\n",
    "ss7=store7.groupby(\"part\").sum()\n",
    "ss7=ss7.sort_values(by='amount',ascending=False)[:20]\n",
    "ss8=store8.groupby(\"part\").sum()\n",
    "ss8=ss8.sort_values(by='amount',ascending=False)[:20]\n",
    "ss9=store9.groupby(\"part\").sum()\n",
    "ss9=ss9.sort_values(by='amount',ascending=False)[:20]\n",
    "ss10=store10.groupby(\"part\").sum()\n",
    "ss10=ss10.sort_values(by='amount',ascending=False)[:20]\n",
    "ss11=store11.groupby(\"part\").sum()\n",
    "ss11=ss11.sort_values(by='amount',ascending=False)[:20]"
   ]
  },
  {
   "cell_type": "code",
   "execution_count": null,
   "metadata": {
    "ExecuteTime": {
     "end_time": "2021-02-07T13:27:57.455228Z",
     "start_time": "2021-02-07T13:26:39.357Z"
    }
   },
   "outputs": [],
   "source": [
    "fig = plt.figure(figsize=(20,20))\n",
    "plt.rc('font', family='Malgun Gothic', size=20)\n",
    "colors = sns.color_palette('hls',30)\n",
    "patches, texts, autotexts = plt.pie(ss1['amount'],\n",
    "                                    labels=ss1.index,\n",
    "                                    startangle=90,\n",
    "                                    counterclock=False,\n",
    "                                    autopct='%.2f%%',\n",
    "                                    colors = colors,\n",
    "                                    pctdistance=0.7,\n",
    "                                    labeldistance=1.05)\n",
    "for t in texts:\n",
    "    t.set_color(\"white\")\n",
    "    t.set_fontsize(20)\n",
    "for t in autotexts:\n",
    "    t.set_color(\"white\")\n",
    "    t.set_fontsize(20)\n",
    "title = '10시 pc별 판매률'\n",
    "plt.title(title, size=40,color='white')\n",
    "plt.show()"
   ]
  },
  {
   "cell_type": "code",
   "execution_count": null,
   "metadata": {
    "ExecuteTime": {
     "end_time": "2021-02-07T13:27:57.456224Z",
     "start_time": "2021-02-07T13:26:39.361Z"
    }
   },
   "outputs": [],
   "source": [
    "fig = plt.figure(figsize=(20,20))\n",
    "plt.rc('font', family='Malgun Gothic', size=20)\n",
    "colors = sns.color_palette('hls',30)\n",
    "patches, texts, autotexts = plt.pie(ss2['amount'],\n",
    "                                    labels=ss2.index,\n",
    "                                    startangle=90,\n",
    "                                    counterclock=False,\n",
    "                                    autopct='%.2f%%',\n",
    "                                    colors = colors,\n",
    "                                    pctdistance=0.7,\n",
    "                                    labeldistance=1.05)\n",
    "for t in texts:\n",
    "    t.set_color(\"white\")\n",
    "    t.set_fontsize(20)\n",
    "for t in autotexts:\n",
    "    t.set_color(\"white\")\n",
    "    t.set_fontsize(20)\n",
    "title = '11시 pc별 판매률'\n",
    "plt.title(title, size=40,color='white')\n",
    "plt.show()"
   ]
  },
  {
   "cell_type": "code",
   "execution_count": null,
   "metadata": {
    "ExecuteTime": {
     "end_time": "2021-02-07T13:27:57.457222Z",
     "start_time": "2021-02-07T13:26:39.366Z"
    }
   },
   "outputs": [],
   "source": [
    "fig = plt.figure(figsize=(20,20))\n",
    "plt.rc('font', family='Malgun Gothic', size=20)\n",
    "colors = sns.color_palette('hls',30)\n",
    "patches, texts, autotexts = plt.pie(ss3['amount'],\n",
    "                                    labels=ss3.index,\n",
    "                                    startangle=90,\n",
    "                                    counterclock=False,\n",
    "                                    autopct='%.2f%%',\n",
    "                                    colors = colors,\n",
    "                                    pctdistance=0.7,\n",
    "                                    labeldistance=1.05)\n",
    "for t in texts:\n",
    "    t.set_color(\"white\")\n",
    "    t.set_fontsize(20)\n",
    "for t in autotexts:\n",
    "    t.set_color(\"white\")\n",
    "    t.set_fontsize(20)\n",
    "title = '12시 pc별 판매률'\n",
    "plt.title(title, size=40,color='white')\n",
    "plt.show()"
   ]
  },
  {
   "cell_type": "code",
   "execution_count": null,
   "metadata": {
    "ExecuteTime": {
     "end_time": "2021-02-07T13:27:57.458218Z",
     "start_time": "2021-02-07T13:26:39.373Z"
    }
   },
   "outputs": [],
   "source": [
    "fig = plt.figure(figsize=(20,20))\n",
    "plt.rc('font', family='Malgun Gothic', size=20)\n",
    "colors = sns.color_palette('hls',30)\n",
    "patches, texts, autotexts = plt.pie(ss4['amount'],\n",
    "                                    labels=ss4.index,\n",
    "                                    startangle=90,\n",
    "                                    counterclock=False,\n",
    "                                    autopct='%.2f%%',\n",
    "                                    colors = colors,\n",
    "                                    pctdistance=0.7,\n",
    "                                    labeldistance=1.05)\n",
    "for t in texts:\n",
    "    t.set_color(\"white\")\n",
    "    t.set_fontsize(20)\n",
    "for t in autotexts:\n",
    "    t.set_color(\"white\")\n",
    "    t.set_fontsize(20)\n",
    "title = '13시 pc별 판매률'\n",
    "plt.title(title, size=40,color='white')\n",
    "plt.show()"
   ]
  },
  {
   "cell_type": "code",
   "execution_count": null,
   "metadata": {
    "ExecuteTime": {
     "end_time": "2021-02-07T13:27:57.460213Z",
     "start_time": "2021-02-07T13:26:39.379Z"
    }
   },
   "outputs": [],
   "source": [
    "fig = plt.figure(figsize=(20,20))\n",
    "plt.rc('font', family='Malgun Gothic', size=20)\n",
    "colors = sns.color_palette('hls',30)\n",
    "patches, texts, autotexts = plt.pie(ss5['amount'],\n",
    "                                    labels=ss5.index,\n",
    "                                    startangle=90,\n",
    "                                    counterclock=False,\n",
    "                                    autopct='%.2f%%',\n",
    "                                    colors = colors,\n",
    "                                    pctdistance=0.7,\n",
    "                                    labeldistance=1.05)\n",
    "for t in texts:\n",
    "    t.set_color(\"white\")\n",
    "    t.set_fontsize(20)\n",
    "for t in autotexts:\n",
    "    t.set_color(\"white\")\n",
    "    t.set_fontsize(20)\n",
    "title = '14시 pc별 판매률'\n",
    "plt.title(title, size=40,color='white')\n",
    "plt.show()"
   ]
  },
  {
   "cell_type": "code",
   "execution_count": null,
   "metadata": {
    "ExecuteTime": {
     "end_time": "2021-02-07T13:27:57.461210Z",
     "start_time": "2021-02-07T13:26:39.385Z"
    }
   },
   "outputs": [],
   "source": [
    "fig = plt.figure(figsize=(20,20))\n",
    "plt.rc('font', family='Malgun Gothic', size=20)\n",
    "colors = sns.color_palette('hls',30)\n",
    "patches, texts, autotexts = plt.pie(ss6['amount'],\n",
    "                                    labels=ss6.index,\n",
    "                                    startangle=90,\n",
    "                                    counterclock=False,\n",
    "                                    autopct='%.2f%%',\n",
    "                                    colors = colors,\n",
    "                                    pctdistance=0.7,\n",
    "                                    labeldistance=1.05)\n",
    "for t in texts:\n",
    "    t.set_color(\"white\")\n",
    "    t.set_fontsize(20)\n",
    "for t in autotexts:\n",
    "    t.set_color(\"white\")\n",
    "    t.set_fontsize(20)\n",
    "title = '15시 pc별 판매률'\n",
    "plt.title(title, size=40,color='white')\n",
    "plt.show()"
   ]
  },
  {
   "cell_type": "code",
   "execution_count": null,
   "metadata": {
    "ExecuteTime": {
     "end_time": "2021-02-07T13:27:57.463205Z",
     "start_time": "2021-02-07T13:26:39.390Z"
    }
   },
   "outputs": [],
   "source": [
    "fig = plt.figure(figsize=(20,20))\n",
    "plt.rc('font', family='Malgun Gothic', size=20)\n",
    "colors = sns.color_palette('hls',30)\n",
    "patches, texts, autotexts = plt.pie(ss7['amount'],\n",
    "                                    labels=ss7.index,\n",
    "                                    startangle=90,\n",
    "                                    counterclock=False,\n",
    "                                    autopct='%.2f%%',\n",
    "                                    colors = colors,\n",
    "                                    pctdistance=0.7,\n",
    "                                    labeldistance=1.05)\n",
    "for t in texts:\n",
    "    t.set_color(\"white\")\n",
    "    t.set_fontsize(20)\n",
    "for t in autotexts:\n",
    "    t.set_color(\"white\")\n",
    "    t.set_fontsize(20)\n",
    "title = '16시 pc별 판매률'\n",
    "plt.title(title, size=40,color='white')\n",
    "plt.show()"
   ]
  },
  {
   "cell_type": "code",
   "execution_count": null,
   "metadata": {
    "ExecuteTime": {
     "end_time": "2021-02-07T13:27:57.464203Z",
     "start_time": "2021-02-07T13:26:39.397Z"
    }
   },
   "outputs": [],
   "source": [
    "fig = plt.figure(figsize=(20,20))\n",
    "plt.rc('font', family='Malgun Gothic', size=20)\n",
    "colors = sns.color_palette('hls',30)\n",
    "patches, texts, autotexts = plt.pie(ss8['amount'],\n",
    "                                    labels=ss8.index,\n",
    "                                    startangle=90,\n",
    "                                    counterclock=False,\n",
    "                                    autopct='%.2f%%',\n",
    "                                    colors = colors,\n",
    "                                    pctdistance=0.7,\n",
    "                                    labeldistance=1.05)\n",
    "for t in texts:\n",
    "    t.set_color(\"white\")\n",
    "    t.set_fontsize(20)\n",
    "for t in autotexts:\n",
    "    t.set_color(\"white\")\n",
    "    t.set_fontsize(20)\n",
    "title = '17시 pc별 판매률'\n",
    "plt.title(title, size=40,color='white')\n",
    "plt.show()"
   ]
  },
  {
   "cell_type": "code",
   "execution_count": null,
   "metadata": {
    "ExecuteTime": {
     "end_time": "2021-02-07T13:27:57.466197Z",
     "start_time": "2021-02-07T13:26:39.404Z"
    }
   },
   "outputs": [],
   "source": [
    "fig = plt.figure(figsize=(20,20))\n",
    "plt.rc('font', family='Malgun Gothic', size=20)\n",
    "colors = sns.color_palette('hls',30)\n",
    "patches, texts, autotexts = plt.pie(ss9['amount'],\n",
    "                                    labels=ss9.index,\n",
    "                                    startangle=90,\n",
    "                                    counterclock=False,\n",
    "                                    autopct='%.2f%%',\n",
    "                                    colors = colors,\n",
    "                                    pctdistance=0.7,\n",
    "                                    labeldistance=1.05)\n",
    "for t in texts:\n",
    "    t.set_color(\"white\")\n",
    "    t.set_fontsize(20)\n",
    "for t in autotexts:\n",
    "    t.set_color(\"white\")\n",
    "    t.set_fontsize(20)\n",
    "title = '18시 pc별 판매률'\n",
    "plt.title(title, size=40,color='white')\n",
    "plt.show()"
   ]
  },
  {
   "cell_type": "code",
   "execution_count": null,
   "metadata": {
    "ExecuteTime": {
     "end_time": "2021-02-07T13:27:57.467194Z",
     "start_time": "2021-02-07T13:26:39.410Z"
    }
   },
   "outputs": [],
   "source": [
    "fig = plt.figure(figsize=(20,20))\n",
    "plt.rc('font', family='Malgun Gothic', size=20)\n",
    "colors = sns.color_palette('hls',30)\n",
    "patches, texts, autotexts = plt.pie(ss10['amount'],\n",
    "                                    labels=ss10.index,\n",
    "                                    startangle=90,\n",
    "                                    counterclock=False,\n",
    "                                    autopct='%.2f%%',\n",
    "                                    colors = colors,\n",
    "                                    pctdistance=0.7,\n",
    "                                    labeldistance=1.05)\n",
    "for t in texts:\n",
    "    t.set_color(\"white\")\n",
    "    t.set_fontsize(20)\n",
    "for t in autotexts:\n",
    "    t.set_color(\"white\")\n",
    "    t.set_fontsize(20)\n",
    "title = '19시 pc별 판매률'\n",
    "plt.title(title, size=40,color='white')\n",
    "plt.show()"
   ]
  },
  {
   "cell_type": "code",
   "execution_count": null,
   "metadata": {
    "ExecuteTime": {
     "end_time": "2021-02-07T13:27:57.468192Z",
     "start_time": "2021-02-07T13:26:39.414Z"
    }
   },
   "outputs": [],
   "source": [
    "fig = plt.figure(figsize=(20,20))\n",
    "plt.rc('font', family='Malgun Gothic', size=20)\n",
    "colors = sns.color_palette('hls',30)\n",
    "patches, texts, autotexts = plt.pie(ss11['amount'],\n",
    "                                    labels=ss11.index,\n",
    "                                    startangle=90,\n",
    "                                    counterclock=False,\n",
    "                                    autopct='%.2f%%',\n",
    "                                    colors = colors,\n",
    "                                    pctdistance=0.7,\n",
    "                                    labeldistance=1.05)\n",
    "for t in texts:\n",
    "    t.set_color(\"white\")\n",
    "    t.set_fontsize(20)\n",
    "for t in autotexts:\n",
    "    t.set_color(\"white\")\n",
    "    t.set_fontsize(20)\n",
    "title = '20시 pc별 판매률'\n",
    "plt.title(title, size=40,color='white')\n",
    "plt.show()"
   ]
  },
  {
   "cell_type": "code",
   "execution_count": null,
   "metadata": {
    "ExecuteTime": {
     "end_time": "2021-02-07T13:27:57.469188Z",
     "start_time": "2021-02-07T13:26:39.419Z"
    }
   },
   "outputs": [],
   "source": [
    "month_size=data_set.groupby(['month']).size()\n",
    "month_size.plot(kind='bar', rot=0,color=colors)\n",
    "plt.rcParams[\"figure.figsize\"]=(15,5)\n",
    "ax =plt.axes()\n",
    "ax.xaxis.set_minor_locator(ticker.MultipleLocator(2))\n",
    "plt.title(\"월별 판매수\")\n",
    "plt.xlabel(\"월\")\n",
    "plt.ylabel(\"판매 횟수\")\n",
    "plt.show()"
   ]
  },
  {
   "cell_type": "code",
   "execution_count": null,
   "metadata": {
    "ExecuteTime": {
     "end_time": "2021-02-07T13:27:57.471183Z",
     "start_time": "2021-02-07T13:26:39.424Z"
    }
   },
   "outputs": [],
   "source": [
    "month_mean=data_set.groupby(['month']).mean()\n",
    "month_mean=month_mean['amount']\n",
    "month_mean.plot(kind='bar', rot=0,color=colors)\n",
    "plt.rcParams[\"figure.figsize\"]=(15,5)\n",
    "ax =plt.axes()\n",
    "ax.xaxis.set_minor_locator(ticker.MultipleLocator(2))\n",
    "plt.title(\"월별 평균 매출\")\n",
    "plt.xlabel(\"월\")\n",
    "plt.ylabel(\"평균 매출\")\n",
    "plt.show()"
   ]
  },
  {
   "cell_type": "code",
   "execution_count": null,
   "metadata": {
    "ExecuteTime": {
     "end_time": "2021-02-07T13:27:57.472180Z",
     "start_time": "2021-02-07T13:26:39.428Z"
    }
   },
   "outputs": [],
   "source": [
    "data_set[\"part\"] = data_set[\"part\"].replace(\"가정용품\",\"가정용품파트\")\n",
    "data_set[\"part\"] = data_set[\"part\"].replace(\"골프/유니캐쥬얼\",\"골프_스포츠\")\n",
    "data_set[\"part\"] = data_set[\"part\"].replace(\"공산품\",\"공산품파트\")\n",
    "data_set[\"part\"] = data_set[\"part\"].replace(\"남성정장스포츠\",\"남성의류\")\n",
    "data_set[\"part\"] = data_set[\"part\"].replace(\"로얄부띠끄\",\"명품_부띠끄\")\n",
    "data_set[\"part\"] = data_set[\"part\"].replace(\"로얄부틱\",\"명품_부띠끄\")\n",
    "data_set[\"part\"] = data_set[\"part\"].replace(\"명품잡화\",\"명품_부띠끄\")\n",
    "data_set[\"part\"] = data_set[\"part\"].replace(\"상품개발영업1과\",\"행사상품\")\n",
    "data_set[\"part\"] = data_set[\"part\"].replace(\"생식품\",\"생식품파트\")\n",
    "data_set[\"part\"] = data_set[\"part\"].replace(\"아동\",\"아동파트\")\n",
    "data_set[\"part\"] = data_set[\"part\"].replace(\"아동,스포츠\",\"아동파트\")\n",
    "data_set[\"part\"] = data_set[\"part\"].replace(\"아동,스포츠\",\"아동파트\")\n",
    "data_set[\"part\"] = data_set[\"part\"].replace(\"아동문화\",\"아동파트\")\n",
    "data_set[\"part\"] = data_set[\"part\"].replace(\"스포츠캐주얼\",\"스포츠캐쥬얼\")\n",
    "data_set[\"part\"] = data_set[\"part\"].replace(\"여성정장\",\"여성의류파트\")\n",
    "data_set[\"part\"] = data_set[\"part\"].replace(\"여성캐주얼\",\"여성의류파트\")\n",
    "data_set[\"part\"] = data_set[\"part\"].replace(\"여성캐쥬얼\",\"여성의류파트\")\n",
    "data_set[\"part\"] = data_set[\"part\"].replace(\"영라이브\",\"여성의류파트\")\n",
    "data_set[\"part\"] = data_set[\"part\"].replace(\"영어덜트캐쥬얼\",\"여성의류파트\")\n",
    "data_set[\"part\"] = data_set[\"part\"].replace(\"영캐릭터\",\"영캐주얼\")\n",
    "data_set[\"part\"] = data_set[\"part\"].replace(\"영플라자\",\"영캐주얼\")\n",
    "data_set[\"part\"] = data_set[\"part\"].replace(\"잡화\",\"패션잡화\")\n",
    "data_set[\"part\"] = data_set[\"part\"].replace(\"잡화파트\",\"패션잡화\")"
   ]
  },
  {
   "cell_type": "code",
   "execution_count": null,
   "metadata": {
    "ExecuteTime": {
     "end_time": "2021-02-07T13:27:57.473178Z",
     "start_time": "2021-02-07T13:26:39.433Z"
    }
   },
   "outputs": [],
   "source": [
    "spring=data_set[data_set['season']=='봄']\n",
    "spring=spring.sort_values(by=['amount'],ascending=False)\n",
    "summer=data_set[data_set['season']=='여름']\n",
    "summer=summer.sort_values(by=['amount'],ascending=False)\n",
    "index_n1 = summer[summer['pc']=='행사상품'].index\n",
    "summer= summer.drop(index_n1)\n",
    "fall=data_set[data_set['season']=='가을']\n",
    "fall=fall.sort_values(by=['amount'],ascending=False)\n",
    "winter=data_set[data_set['season']=='겨울']\n",
    "winter=winter.sort_values(by=['amount'],ascending=False)\n",
    "index_n1 = winter[winter['pc']=='인터넷백화점'].index\n",
    "winter= winter.drop(index_n1)\n",
    "spring_size=spring.groupby(['part']).sum()\n",
    "summer_size=summer.groupby(['part']).sum()\n",
    "fall_size=fall.groupby(['part']).sum()\n",
    "winter_size=winter.groupby(['part']).sum()\n",
    "spring_size=spring_size['count']\n",
    "spring_size.plot(kind='bar', rot=0,color=colors)\n",
    "plt.rcParams[\"figure.figsize\"]=(15,5)\n",
    "ax =plt.axes()\n",
    "ax.xaxis.set_minor_locator(ticker.MultipleLocator(2))\n",
    "plt.title(\"봄 pc 판매수\")\n",
    "plt.xlabel(\"pc\")\n",
    "plt.xticks(rotation=60)\n",
    "plt.ylabel(\"판매 횟수\")\n",
    "plt.show()\n",
    "summer_size=summer_size['count']\n",
    "summer_size.plot(kind='bar', rot=0,color=colors)\n",
    "plt.rcParams[\"figure.figsize\"]=(15,5)\n",
    "ax =plt.axes()\n",
    "ax.xaxis.set_minor_locator(ticker.MultipleLocator(2))\n",
    "plt.title(\"여름 pc 판매수\")\n",
    "plt.xlabel(\"pc\")\n",
    "plt.xticks(rotation=60)\n",
    "plt.ylabel(\"판매 횟수\")\n",
    "plt.show()\n",
    "fall_size=fall_size['count']\n",
    "fall_size.plot(kind='bar', rot=0,color=colors)\n",
    "plt.rcParams[\"figure.figsize\"]=(15,5)\n",
    "ax =plt.axes()\n",
    "ax.xaxis.set_minor_locator(ticker.MultipleLocator(2))\n",
    "plt.title(\"가을 pc 판매수\")\n",
    "plt.xlabel(\"pc\")\n",
    "plt.xticks(rotation=60)\n",
    "plt.ylabel(\"판매 횟수\")\n",
    "plt.show()\n",
    "winter_size=winter_size['count']\n",
    "winter_size.plot(kind='bar', rot=0,color=colors)\n",
    "plt.rcParams[\"figure.figsize\"]=(15,5)\n",
    "ax =plt.axes()\n",
    "ax.xaxis.set_minor_locator(ticker.MultipleLocator(2))\n",
    "plt.title(\"겨울 pc 판매수\")\n",
    "plt.xlabel(\"pc\")\n",
    "plt.xticks(rotation=60)\n",
    "plt.ylabel(\"판매 횟수\")\n",
    "plt.show()"
   ]
  },
  {
   "cell_type": "code",
   "execution_count": null,
   "metadata": {
    "ExecuteTime": {
     "end_time": "2021-02-07T13:27:57.474175Z",
     "start_time": "2021-02-07T13:26:39.440Z"
    }
   },
   "outputs": [],
   "source": [
    "week_am=data_set.groupby(['week']).mean()\n",
    "week_am=week_am.sort_values(by=['amount'],ascending=False)\n",
    "week_am=week_am['amount']\n",
    "week_am.plot(kind='bar', rot=0,color=colors)\n",
    "plt.rcParams[\"figure.figsize\"]=(15,5)\n",
    "ax =plt.axes()\n",
    "ax.xaxis.set_minor_locator(ticker.MultipleLocator(2))\n",
    "plt.title(\"요일별 평균 판매금액\")\n",
    "plt.xlabel(\"요일\")\n",
    "plt.ylabel(\"판매 금액\")\n",
    "plt.show()\n"
   ]
  },
  {
   "cell_type": "code",
   "execution_count": null,
   "metadata": {
    "ExecuteTime": {
     "end_time": "2021-02-07T13:27:57.477173Z",
     "start_time": "2021-02-07T13:26:39.455Z"
    }
   },
   "outputs": [],
   "source": [
    "gogo=data_set.groupby(['store']).mean()\n",
    "gogo=gogo['amount']\n",
    "gogo.plot(kind='bar', rot=0,color=colors)\n",
    "plt.rcParams[\"figure.figsize\"]=(15,5)\n",
    "ax =plt.axes()\n",
    "ax.xaxis.set_minor_locator(ticker.MultipleLocator(2))\n",
    "plt.title(\"지점별 평균 금액\")\n",
    "plt.xlabel(\"지점\")\n",
    "plt.ylabel(\"판매 금액\")\n",
    "plt.show()\n",
    "print(gogo)"
   ]
  },
  {
   "cell_type": "code",
   "execution_count": null,
   "metadata": {
    "ExecuteTime": {
     "end_time": "2021-02-07T13:27:57.479162Z",
     "start_time": "2021-02-07T13:26:39.460Z"
    }
   },
   "outputs": [],
   "source": [
    "gogo=data_set.groupby(['store']).mean()\n",
    "gogo=gogo['count']\n",
    "gogo.plot(kind='bar', rot=0,color=colors)\n",
    "plt.rcParams[\"figure.figsize\"]=(15,5)\n",
    "ax =plt.axes()\n",
    "ax.xaxis.set_minor_locator(ticker.MultipleLocator(2))\n",
    "plt.title(\"지점별 평균 금액\")\n",
    "plt.xlabel(\"지점\")\n",
    "plt.ylabel(\"판매 금액\")\n",
    "plt.show()\n",
    "print(gogo)"
   ]
  },
  {
   "cell_type": "code",
   "execution_count": null,
   "metadata": {
    "ExecuteTime": {
     "end_time": "2021-02-07T13:27:57.480160Z",
     "start_time": "2021-02-07T13:26:39.467Z"
    }
   },
   "outputs": [],
   "source": [
    "def collect3(df):\n",
    "    if df >=23:\n",
    "        return '23도 이상'\n",
    "    elif df >= 15 and  df <23:\n",
    "        return '17도 이상'\n",
    "    elif df >= 7 and  df <15:\n",
    "        return '7도 이상'\n",
    "    else:\n",
    "        return '7도 이하'\n",
    "data_set['기온']=data_set['평균기온(°C)'].apply(collect3)"
   ]
  },
  {
   "cell_type": "code",
   "execution_count": null,
   "metadata": {
    "ExecuteTime": {
     "end_time": "2021-02-07T13:27:57.481157Z",
     "start_time": "2021-02-07T13:26:39.472Z"
    }
   },
   "outputs": [],
   "source": [
    "ss1=store1.groupby('기온').mean()\n",
    "sss1=ss1['amount']\n",
    "sss1.plot(kind='bar', rot=0,color=colors)\n",
    "plt.title(\"기온별 평균 매출 금액\")\n",
    "plt.xlabel(\"기온\")\n",
    "plt.ylabel(\"매출\")\n",
    "plt.show()"
   ]
  },
  {
   "cell_type": "code",
   "execution_count": null,
   "metadata": {
    "ExecuteTime": {
     "end_time": "2021-02-07T13:27:57.482154Z",
     "start_time": "2021-02-07T13:26:39.477Z"
    }
   },
   "outputs": [],
   "source": [
    "ss1=store1.groupby('기온').sum()\n",
    "sss1=ss1['count']\n",
    "sss1.plot(kind='bar', rot=0,color=colors)\n",
    "plt.title(\"기온별 거래 수\")\n",
    "plt.xlabel(\"기온\")\n",
    "plt.ylabel(\"매출\")\n",
    "plt.show()"
   ]
  },
  {
   "cell_type": "code",
   "execution_count": null,
   "metadata": {
    "ExecuteTime": {
     "end_time": "2021-02-07T13:27:57.483151Z",
     "start_time": "2021-02-07T13:26:39.481Z"
    }
   },
   "outputs": [],
   "source": [
    "store1= data_set[data_set[\"store\"]==\"본점\"]\n",
    "store2= data_set[data_set[\"store\"]==\"무역점\"]\n",
    "store3= data_set[data_set[\"store\"]==\"천호점\"]\n",
    "store4= data_set[data_set[\"store\"]==\"신촌점\"]\n",
    "ss1=store1.groupby('기온').mean()\n",
    "ss2=store2.groupby('기온').mean()\n",
    "ss3=store3.groupby('기온').mean()\n",
    "ss4=store4.groupby('기온').mean()\n",
    "sss1=ss1['amount']\n",
    "sss2=ss2['amount']\n",
    "sss3=ss3['amount']\n",
    "sss4=ss4['amount']\n",
    "sss1.plot(kind='bar', rot=0,color=colors)\n",
    "plt.title(\"기온별 매출 금액(본점)\")\n",
    "plt.xlabel(\"기온\")\n",
    "#plt.xticks(rotation=45)\n",
    "plt.ylabel(\"매출\")\n",
    "plt.show()\n",
    "sss2.plot(kind='bar', rot=0,color=colors)\n",
    "plt.title(\"기온별 매출 금액(무역점)\")\n",
    "plt.xlabel(\"기온\")\n",
    "#plt.xticks(rotation=45)\n",
    "plt.ylabel(\"매출\")\n",
    "plt.show()\n",
    "sss3.plot(kind='bar', rot=0,color=colors)\n",
    "plt.title(\"기온별 매출 금액(천호점)\")\n",
    "plt.xlabel(\"기온\")\n",
    "#plt.xticks(rotation=45)\n",
    "plt.ylabel(\"매출\")\n",
    "plt.show()\n",
    "sss4.plot(kind='bar', rot=0,color=colors)\n",
    "plt.title(\"기온별 매출 금액(신촌점)\")\n",
    "plt.xlabel(\"기온\")\n",
    "#plt.xticks(rotation=45)\n",
    "plt.ylabel(\"매출\")\n",
    "plt.show()"
   ]
  },
  {
   "cell_type": "code",
   "execution_count": null,
   "metadata": {},
   "outputs": [],
   "source": []
  }
 ],
 "metadata": {
  "kernelspec": {
   "display_name": "Python 3",
   "language": "python",
   "name": "python3"
  },
  "language_info": {
   "codemirror_mode": {
    "name": "ipython",
    "version": 3
   },
   "file_extension": ".py",
   "mimetype": "text/x-python",
   "name": "python",
   "nbconvert_exporter": "python",
   "pygments_lexer": "ipython3",
   "version": "3.8.5"
  },
  "toc": {
   "base_numbering": 1,
   "nav_menu": {},
   "number_sections": true,
   "sideBar": true,
   "skip_h1_title": false,
   "title_cell": "Table of Contents",
   "title_sidebar": "Contents",
   "toc_cell": false,
   "toc_position": {},
   "toc_section_display": true,
   "toc_window_display": false
  },
  "varInspector": {
   "cols": {
    "lenName": 16,
    "lenType": 16,
    "lenVar": 40
   },
   "kernels_config": {
    "python": {
     "delete_cmd_postfix": "",
     "delete_cmd_prefix": "del ",
     "library": "var_list.py",
     "varRefreshCmd": "print(var_dic_list())"
    },
    "r": {
     "delete_cmd_postfix": ") ",
     "delete_cmd_prefix": "rm(",
     "library": "var_list.r",
     "varRefreshCmd": "cat(var_dic_list()) "
    }
   },
   "types_to_exclude": [
    "module",
    "function",
    "builtin_function_or_method",
    "instance",
    "_Feature"
   ],
   "window_display": false
  }
 },
 "nbformat": 4,
 "nbformat_minor": 4
}
