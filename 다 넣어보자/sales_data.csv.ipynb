{
 "cells": [],
 "metadata": {
  "kernelspec": {
   "display_name": "Python 3",
   "language": "python",
   "name": "python3"
  },
  "language_info": {
   "codemirror_mode": {
    "name": "ipython",
    "version": 2
   },
   "file_extension": ".py",
   "mimetype": "text/x-python",
   "name": "python",
   "nbconvert_exporter": "python",
   "pygments_lexer": "ipython2",
   "version": "2.7.6"
  },
  "pycharm": {
   "stem_cell": {
    "cell_type": "raw",
    "source": [
     "연도,판매량,매출,순익\n",
     "2015,103,500000,370000\n",
     "2016,70,300000,190000\n",
     "2017,130,400000,300000\n",
     "2018,60,550000,480000\n",
     "2019,190,700000,600000\n",
     "2020,230,680000,590000"
    ],
    "metadata": {
     "collapsed": false
    }
   }
  }
 },
 "nbformat": 4,
 "nbformat_minor": 0
}