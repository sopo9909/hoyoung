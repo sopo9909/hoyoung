{
 "cells": [
  {
   "cell_type": "code",
   "execution_count": null,
   "metadata": {},
   "outputs": [],
   "source": []
  },
  {
   "cell_type": "code",
   "execution_count": null,
   "metadata": {
    "ExecuteTime": {
     "end_time": "2021-03-26T06:16:18.023378Z",
     "start_time": "2021-03-26T06:16:08.857892Z"
    }
   },
   "outputs": [],
   "source": [
    "from selenium import webdriver\n",
    "from selenium.webdriver.common.keys import Keys\n",
    "driver= webdriver.Chrome('C:/Users/701/Desktop/chromedriver.exe') \n",
    "driver.get('https://search.shopping.naver.com/catalog/4114273022?cat_id=50000451&frm=NVSCPRO&query=%ED%81%B4%EB%A0%8C%EC%A7%95%ED%8F%BC&NaPm=ct%3Dkmpwk9m0%7Cci%3D977b124865f6c71b02fbe375c55bef7dcf7f6682%7Ctr%3Dsls%7Csn%3D95694%7Chk%3D70c5b2e0ad9d22847e226ddb77d8eef4ca7d4279')\n",
    "driver.implicitly_wait(2)\n",
    "# driver.execute_script(\"window.scrollTo(0,document.body.scrollHeight);\")\n",
    "# a = driver.find_elements_by_css_selector('div.company-name strong')\n",
    "# name=[]\n",
    "# login_btn2 = driver.find_element_by_css_selector('.more-jobs')\n",
    "# login_btn2.click()\n",
    "# for i in a:\n",
    "#     name.append(i.text)\n",
    "# b= driver.find_elements_by_css_selector('div.description')"
   ]
  },
  {
   "cell_type": "code",
   "execution_count": null,
   "metadata": {
    "ExecuteTime": {
     "end_time": "2021-03-26T08:25:07.928287Z",
     "start_time": "2021-03-26T08:25:07.874430Z"
    }
   },
   "outputs": [],
   "source": [
    "from bs4 import BeautifulSoup\n",
    "import requests"
   ]
  },
  {
   "cell_type": "code",
   "execution_count": null,
   "metadata": {
    "ExecuteTime": {
     "start_time": "2021-03-26T08:25:39.606Z"
    }
   },
   "outputs": [],
   "source": [
    "url='https://www.coupang.com/vp/products/2358930773?itemId=4094198188&vendorItemId=72078178957&sourceType=CATEGORY&categoryId=176498&isAddedCart='\n",
    "#.format(y)\n",
    "res=requests.get(url)#,headers=headers)\n",
    "src=res.content.strip()\n",
    "html =bsp(src,'html.parser')\n",
    "tgts=html.select('article.sdp-review__article__list js_reviewArticleReviewList')\n",
    "#time=html.find(attrs={'class':'byline'}).text.replace('\\n','')"
   ]
  },
  {
   "cell_type": "code",
   "execution_count": null,
   "metadata": {
    "ExecuteTime": {
     "start_time": "2021-03-26T08:25:45.158Z"
    }
   },
   "outputs": [],
   "source": [
    "tgts"
   ]
  },
  {
   "cell_type": "code",
   "execution_count": null,
   "metadata": {},
   "outputs": [],
   "source": []
  },
  {
   "cell_type": "code",
   "execution_count": null,
   "metadata": {},
   "outputs": [],
   "source": []
  }
 ],
 "metadata": {
  "kernelspec": {
   "display_name": "Python 3",
   "language": "python",
   "name": "python3"
  },
  "language_info": {
   "codemirror_mode": {
    "name": "ipython",
    "version": 3
   },
   "file_extension": ".py",
   "mimetype": "text/x-python",
   "name": "python",
   "nbconvert_exporter": "python",
   "pygments_lexer": "ipython3",
   "version": "3.8.5"
  },
  "toc": {
   "base_numbering": 1,
   "nav_menu": {},
   "number_sections": true,
   "sideBar": true,
   "skip_h1_title": false,
   "title_cell": "Table of Contents",
   "title_sidebar": "Contents",
   "toc_cell": false,
   "toc_position": {},
   "toc_section_display": true,
   "toc_window_display": false
  },
  "varInspector": {
   "cols": {
    "lenName": 16,
    "lenType": 16,
    "lenVar": 40
   },
   "kernels_config": {
    "python": {
     "delete_cmd_postfix": "",
     "delete_cmd_prefix": "del ",
     "library": "var_list.py",
     "varRefreshCmd": "print(var_dic_list())"
    },
    "r": {
     "delete_cmd_postfix": ") ",
     "delete_cmd_prefix": "rm(",
     "library": "var_list.r",
     "varRefreshCmd": "cat(var_dic_list()) "
    }
   },
   "types_to_exclude": [
    "module",
    "function",
    "builtin_function_or_method",
    "instance",
    "_Feature"
   ],
   "window_display": false
  }
 },
 "nbformat": 4,
 "nbformat_minor": 4
}
