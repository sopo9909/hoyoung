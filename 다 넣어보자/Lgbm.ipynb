{
 "cells": [
  {
   "cell_type": "code",
   "execution_count": 75,
   "id": "continuous-joshua",
   "metadata": {},
   "outputs": [],
   "source": [
    "import numpy as np\n",
    "import pandas as pd\n",
    "import  matplotlib.pyplot as plt\n",
    "from sklearn.metrics import accuracy_score\n",
    "from sklearn.model_selection import GridSearchCV"
   ]
  },
  {
   "cell_type": "markdown",
   "id": "adequate-messaging",
   "metadata": {},
   "source": [
    "### LightGBM\n",
    "* 기존의 XGboost의 단점인 속도를 보완하기위해 비대칭 리프 확장 방식을 사용\n",
    "* 장점\n",
    "    -  더 빠른 학습\n",
    "    -  더 적은 메모리\n",
    "    - 카테고리 피쳐형 자동변환과 최적 분할\n",
    "    \n"
   ]
  },
  {
   "cell_type": "code",
   "execution_count": 80,
   "id": "compressed-oklahoma",
   "metadata": {},
   "outputs": [],
   "source": [
    "from lightgbm import LGBMClassifier\n",
    "from sklearn.datasets import load_breast_cancer\n",
    "from sklearn.model_selection import train_test_split"
   ]
  },
  {
   "cell_type": "code",
   "execution_count": 77,
   "id": "exotic-bradley",
   "metadata": {},
   "outputs": [],
   "source": [
    "cancer=load_breast_cancer()"
   ]
  },
  {
   "cell_type": "raw",
   "id": "revised-allah",
   "metadata": {},
   "source": [
    "cancer.__dir__"
   ]
  },
  {
   "cell_type": "code",
   "execution_count": 78,
   "id": "floating-specific",
   "metadata": {},
   "outputs": [
    {
     "data": {
      "text/plain": [
       "array(['malignant', 'benign'], dtype='<U9')"
      ]
     },
     "execution_count": 78,
     "metadata": {},
     "output_type": "execute_result"
    }
   ],
   "source": [
    "cancer['data']\n",
    "cancer['feature_names']\n",
    "cancer['target']\n",
    "cancer['target_names']"
   ]
  },
  {
   "cell_type": "code",
   "execution_count": 68,
   "id": "dominican-windows",
   "metadata": {
    "jupyter": {
     "source_hidden": true
    }
   },
   "outputs": [],
   "source": [
    "#https://statkclee.github.io/model/model-python-xgboost-hyper.html\n"
   ]
  },
  {
   "cell_type": "code",
   "execution_count": 83,
   "id": "psychological-brush",
   "metadata": {},
   "outputs": [],
   "source": [
    "X_train,X_test,y_train,y_test= train_test_split(cancer['data'],\n",
    "                                                cancer['target'],\n",
    "                                               test_size=0.2,\n",
    "                                               random_state=1)"
   ]
  },
  {
   "cell_type": "code",
   "execution_count": 86,
   "id": "administrative-newport",
   "metadata": {
    "collapsed": true,
    "jupyter": {
     "outputs_hidden": true
    }
   },
   "outputs": [
    {
     "name": "stdout",
     "output_type": "stream",
     "text": [
      "[1]\tvalid_0's binary_logloss: 0.593721\n",
      "Training until validation scores don't improve for 100 rounds\n",
      "[2]\tvalid_0's binary_logloss: 0.542714\n",
      "[3]\tvalid_0's binary_logloss: 0.493469\n",
      "[4]\tvalid_0's binary_logloss: 0.455123\n",
      "[5]\tvalid_0's binary_logloss: 0.425932\n",
      "[6]\tvalid_0's binary_logloss: 0.392549\n",
      "[7]\tvalid_0's binary_logloss: 0.373954\n",
      "[8]\tvalid_0's binary_logloss: 0.350322\n",
      "[9]\tvalid_0's binary_logloss: 0.327624\n",
      "[10]\tvalid_0's binary_logloss: 0.307464\n",
      "[11]\tvalid_0's binary_logloss: 0.289879\n",
      "[12]\tvalid_0's binary_logloss: 0.278128\n",
      "[13]\tvalid_0's binary_logloss: 0.26507\n",
      "[14]\tvalid_0's binary_logloss: 0.250933\n",
      "[15]\tvalid_0's binary_logloss: 0.240135\n",
      "[16]\tvalid_0's binary_logloss: 0.234059\n",
      "[17]\tvalid_0's binary_logloss: 0.225141\n",
      "[18]\tvalid_0's binary_logloss: 0.220605\n",
      "[19]\tvalid_0's binary_logloss: 0.213102\n",
      "[20]\tvalid_0's binary_logloss: 0.210121\n",
      "[21]\tvalid_0's binary_logloss: 0.204022\n",
      "[22]\tvalid_0's binary_logloss: 0.197572\n",
      "[23]\tvalid_0's binary_logloss: 0.19718\n",
      "[24]\tvalid_0's binary_logloss: 0.191221\n",
      "[25]\tvalid_0's binary_logloss: 0.186757\n",
      "[26]\tvalid_0's binary_logloss: 0.183002\n",
      "[27]\tvalid_0's binary_logloss: 0.180182\n",
      "[28]\tvalid_0's binary_logloss: 0.177752\n",
      "[29]\tvalid_0's binary_logloss: 0.1742\n",
      "[30]\tvalid_0's binary_logloss: 0.171129\n",
      "[31]\tvalid_0's binary_logloss: 0.170406\n",
      "[32]\tvalid_0's binary_logloss: 0.166374\n",
      "[33]\tvalid_0's binary_logloss: 0.165931\n",
      "[34]\tvalid_0's binary_logloss: 0.164566\n",
      "[35]\tvalid_0's binary_logloss: 0.164694\n",
      "[36]\tvalid_0's binary_logloss: 0.161413\n",
      "[37]\tvalid_0's binary_logloss: 0.160795\n",
      "[38]\tvalid_0's binary_logloss: 0.158919\n",
      "[39]\tvalid_0's binary_logloss: 0.159102\n",
      "[40]\tvalid_0's binary_logloss: 0.159369\n",
      "[41]\tvalid_0's binary_logloss: 0.158587\n",
      "[42]\tvalid_0's binary_logloss: 0.156783\n",
      "[43]\tvalid_0's binary_logloss: 0.156149\n",
      "[44]\tvalid_0's binary_logloss: 0.157089\n",
      "[45]\tvalid_0's binary_logloss: 0.157888\n",
      "[46]\tvalid_0's binary_logloss: 0.155157\n",
      "[47]\tvalid_0's binary_logloss: 0.156783\n",
      "[48]\tvalid_0's binary_logloss: 0.156719\n",
      "[49]\tvalid_0's binary_logloss: 0.159141\n",
      "[50]\tvalid_0's binary_logloss: 0.160024\n",
      "[51]\tvalid_0's binary_logloss: 0.162104\n",
      "[52]\tvalid_0's binary_logloss: 0.162467\n",
      "[53]\tvalid_0's binary_logloss: 0.162602\n",
      "[54]\tvalid_0's binary_logloss: 0.160887\n",
      "[55]\tvalid_0's binary_logloss: 0.159369\n",
      "[56]\tvalid_0's binary_logloss: 0.159521\n",
      "[57]\tvalid_0's binary_logloss: 0.162399\n",
      "[58]\tvalid_0's binary_logloss: 0.164424\n",
      "[59]\tvalid_0's binary_logloss: 0.166635\n",
      "[60]\tvalid_0's binary_logloss: 0.165465\n",
      "[61]\tvalid_0's binary_logloss: 0.164844\n",
      "[62]\tvalid_0's binary_logloss: 0.166133\n",
      "[63]\tvalid_0's binary_logloss: 0.168428\n",
      "[64]\tvalid_0's binary_logloss: 0.169345\n",
      "[65]\tvalid_0's binary_logloss: 0.170539\n",
      "[66]\tvalid_0's binary_logloss: 0.173034\n",
      "[67]\tvalid_0's binary_logloss: 0.174293\n",
      "[68]\tvalid_0's binary_logloss: 0.176438\n",
      "[69]\tvalid_0's binary_logloss: 0.176501\n",
      "[70]\tvalid_0's binary_logloss: 0.176664\n",
      "[71]\tvalid_0's binary_logloss: 0.178276\n",
      "[72]\tvalid_0's binary_logloss: 0.178026\n",
      "[73]\tvalid_0's binary_logloss: 0.180557\n",
      "[74]\tvalid_0's binary_logloss: 0.18116\n",
      "[75]\tvalid_0's binary_logloss: 0.181675\n",
      "[76]\tvalid_0's binary_logloss: 0.183089\n",
      "[77]\tvalid_0's binary_logloss: 0.183992\n",
      "[78]\tvalid_0's binary_logloss: 0.185336\n",
      "[79]\tvalid_0's binary_logloss: 0.187082\n",
      "[80]\tvalid_0's binary_logloss: 0.18667\n",
      "[81]\tvalid_0's binary_logloss: 0.188968\n",
      "[82]\tvalid_0's binary_logloss: 0.190137\n",
      "[83]\tvalid_0's binary_logloss: 0.191643\n",
      "[84]\tvalid_0's binary_logloss: 0.193292\n",
      "[85]\tvalid_0's binary_logloss: 0.195929\n",
      "[86]\tvalid_0's binary_logloss: 0.197317\n",
      "[87]\tvalid_0's binary_logloss: 0.199659\n",
      "[88]\tvalid_0's binary_logloss: 0.202632\n",
      "[89]\tvalid_0's binary_logloss: 0.204752\n",
      "[90]\tvalid_0's binary_logloss: 0.206339\n",
      "[91]\tvalid_0's binary_logloss: 0.209206\n",
      "[92]\tvalid_0's binary_logloss: 0.21135\n",
      "[93]\tvalid_0's binary_logloss: 0.211898\n",
      "[94]\tvalid_0's binary_logloss: 0.214877\n",
      "[95]\tvalid_0's binary_logloss: 0.215214\n",
      "[96]\tvalid_0's binary_logloss: 0.216613\n",
      "[97]\tvalid_0's binary_logloss: 0.218851\n",
      "[98]\tvalid_0's binary_logloss: 0.221676\n",
      "[99]\tvalid_0's binary_logloss: 0.22392\n",
      "[100]\tvalid_0's binary_logloss: 0.225789\n",
      "[101]\tvalid_0's binary_logloss: 0.225388\n",
      "[102]\tvalid_0's binary_logloss: 0.228384\n",
      "[103]\tvalid_0's binary_logloss: 0.230417\n",
      "[104]\tvalid_0's binary_logloss: 0.230325\n",
      "[105]\tvalid_0's binary_logloss: 0.232618\n",
      "[106]\tvalid_0's binary_logloss: 0.231522\n",
      "[107]\tvalid_0's binary_logloss: 0.231502\n",
      "[108]\tvalid_0's binary_logloss: 0.230398\n",
      "[109]\tvalid_0's binary_logloss: 0.229324\n",
      "[110]\tvalid_0's binary_logloss: 0.232263\n",
      "[111]\tvalid_0's binary_logloss: 0.233164\n",
      "[112]\tvalid_0's binary_logloss: 0.232208\n",
      "[113]\tvalid_0's binary_logloss: 0.231226\n",
      "[114]\tvalid_0's binary_logloss: 0.23054\n",
      "[115]\tvalid_0's binary_logloss: 0.233426\n",
      "[116]\tvalid_0's binary_logloss: 0.234424\n",
      "[117]\tvalid_0's binary_logloss: 0.235493\n",
      "[118]\tvalid_0's binary_logloss: 0.235252\n",
      "[119]\tvalid_0's binary_logloss: 0.238166\n",
      "[120]\tvalid_0's binary_logloss: 0.240195\n",
      "[121]\tvalid_0's binary_logloss: 0.239854\n",
      "[122]\tvalid_0's binary_logloss: 0.239255\n",
      "[123]\tvalid_0's binary_logloss: 0.238273\n",
      "[124]\tvalid_0's binary_logloss: 0.241196\n",
      "[125]\tvalid_0's binary_logloss: 0.240669\n",
      "[126]\tvalid_0's binary_logloss: 0.239715\n",
      "[127]\tvalid_0's binary_logloss: 0.242047\n",
      "[128]\tvalid_0's binary_logloss: 0.241156\n",
      "[129]\tvalid_0's binary_logloss: 0.239409\n",
      "[130]\tvalid_0's binary_logloss: 0.241483\n",
      "[131]\tvalid_0's binary_logloss: 0.241242\n",
      "[132]\tvalid_0's binary_logloss: 0.240514\n",
      "[133]\tvalid_0's binary_logloss: 0.242842\n",
      "[134]\tvalid_0's binary_logloss: 0.244526\n",
      "[135]\tvalid_0's binary_logloss: 0.247234\n",
      "[136]\tvalid_0's binary_logloss: 0.24771\n",
      "[137]\tvalid_0's binary_logloss: 0.247351\n",
      "[138]\tvalid_0's binary_logloss: 0.244419\n",
      "[139]\tvalid_0's binary_logloss: 0.244637\n",
      "[140]\tvalid_0's binary_logloss: 0.243719\n",
      "[141]\tvalid_0's binary_logloss: 0.245496\n",
      "[142]\tvalid_0's binary_logloss: 0.247008\n",
      "[143]\tvalid_0's binary_logloss: 0.244323\n",
      "[144]\tvalid_0's binary_logloss: 0.242256\n",
      "[145]\tvalid_0's binary_logloss: 0.244333\n",
      "[146]\tvalid_0's binary_logloss: 0.243837\n",
      "Early stopping, best iteration is:\n",
      "[46]\tvalid_0's binary_logloss: 0.155157\n"
     ]
    },
    {
     "data": {
      "text/plain": [
       "LGBMClassifier(n_estimators=400)"
      ]
     },
     "execution_count": 86,
     "metadata": {},
     "output_type": "execute_result"
    }
   ],
   "source": [
    "lgclf=LGBMClassifier(n_estimators=400)\n",
    "evals=[(X_test,y_test)]\n",
    "lgclf.fit(X_train,y_train,\n",
    "          early_stopping_rounds=100,\n",
    "          eval_metric=\"logloss\",\n",
    "          eval_set=evals,\n",
    "          verbose=True\n",
    "         )"
   ]
  },
  {
   "cell_type": "code",
   "execution_count": 88,
   "id": "wired-musician",
   "metadata": {},
   "outputs": [
    {
     "data": {
      "text/plain": [
       "array([1, 0, 1, 0, 1, 0, 0, 0, 1, 1, 1, 0, 0, 1, 1, 1, 1, 1, 1, 0, 1, 1,\n",
       "       0, 1, 0, 1, 1, 0, 0, 0, 0, 1, 0, 0, 1, 1, 0, 1, 1, 1, 1, 1, 1, 1,\n",
       "       1, 0, 1, 1, 1, 0, 0, 0, 1, 1, 1, 1, 1, 0, 1, 1, 1, 0, 1, 1, 1, 1,\n",
       "       1, 0, 1, 1, 1, 1, 1, 0, 1, 0, 1, 1, 1, 0, 1, 0, 1, 0, 1, 1, 0, 1,\n",
       "       0, 1, 1, 0, 1, 1, 0, 0, 1, 1, 1, 1, 1, 1, 1, 1, 1, 1, 1, 1, 0, 0,\n",
       "       0, 1, 1, 1])"
      ]
     },
     "execution_count": 88,
     "metadata": {},
     "output_type": "execute_result"
    }
   ],
   "source": [
    "pred=lgclf.predict(X_test)\n",
    "pred"
   ]
  },
  {
   "cell_type": "code",
   "execution_count": 91,
   "id": "pursuant-money",
   "metadata": {
    "collapsed": true,
    "jupyter": {
     "outputs_hidden": true
    }
   },
   "outputs": [
    {
     "data": {
      "text/plain": [
       "array([0.88010928, 0.02756436, 0.99648441, 0.01708187, 0.71053731,\n",
       "       0.00408979, 0.07235819, 0.02386951, 0.99611449, 0.99441356,\n",
       "       0.9940348 , 0.00800412, 0.008824  , 0.99540714, 0.96176268,\n",
       "       0.97928645, 0.99633879, 0.99587328, 0.96380953, 0.01625686,\n",
       "       0.99594423, 0.99402628, 0.00624271, 0.9961348 , 0.00728832,\n",
       "       0.98768461, 0.90469658, 0.00544228, 0.00646985, 0.04030076,\n",
       "       0.00878179, 0.9960111 , 0.00596859, 0.00830336, 0.99591703,\n",
       "       0.99480943, 0.08286792, 0.98601895, 0.83949469, 0.99034658,\n",
       "       0.99611821, 0.98880653, 0.94721097, 0.99369861, 0.99599827,\n",
       "       0.00881775, 0.9893107 , 0.99634636, 0.91808839, 0.13159134,\n",
       "       0.00894148, 0.0429148 , 0.99195379, 0.99635251, 0.927607  ,\n",
       "       0.99520273, 0.99634009, 0.06073799, 0.99654577, 0.99634242,\n",
       "       0.99634943, 0.09294226, 0.75039793, 0.98285881, 0.99526549,\n",
       "       0.99470986, 0.9963458 , 0.01006538, 0.99584618, 0.99634486,\n",
       "       0.9908811 , 0.99541727, 0.99000817, 0.00594674, 0.99016255,\n",
       "       0.00586834, 0.76625585, 0.99558771, 0.99638125, 0.00727958,\n",
       "       0.99419989, 0.00595797, 0.9960624 , 0.00564772, 0.99633865,\n",
       "       0.99635024, 0.01791478, 0.99203297, 0.00566523, 0.99646589,\n",
       "       0.99211846, 0.00985918, 0.99220398, 0.99581002, 0.00596171,\n",
       "       0.18509672, 0.99633947, 0.97848708, 0.99636422, 0.99633971,\n",
       "       0.99165039, 0.99547691, 0.99634758, 0.98743004, 0.98615504,\n",
       "       0.99014397, 0.99634195, 0.99613262, 0.06349381, 0.04709823,\n",
       "       0.09543327, 0.57516001, 0.85881806, 0.99032524])"
      ]
     },
     "execution_count": 91,
     "metadata": {},
     "output_type": "execute_result"
    }
   ],
   "source": [
    "prob=lgclf.predict_proba(X_test)[:,1]\n",
    "prob"
   ]
  },
  {
   "cell_type": "code",
   "execution_count": 98,
   "id": "improving-happiness",
   "metadata": {},
   "outputs": [],
   "source": [
    "from sklearn.model_selection import train_test_split\n",
    "from sklearn.metrics import accuracy_score, precision_score, recall_score, roc_auc_score\n",
    "from sklearn.metrics import f1_score, confusion_matrix, precision_recall_curve, roc_curve\n",
    "from sklearn.preprocessing import StandardScaler, Binarizer\n",
    "from sklearn.linear_model import LogisticRegression\n",
    "# 평가지표 출력하는 함수 설정\n",
    "def get_clf_eval(y_test, y_pred):\n",
    "    confusion = confusion_matrix(y_test, y_pred)\n",
    "    accuracy = accuracy_score(y_test, y_pred)\n",
    "    precision = precision_score(y_test, y_pred)\n",
    "    recall = recall_score(y_test, y_pred)\n",
    "    F1 = f1_score(y_test, y_pred)\n",
    "    AUC = roc_auc_score(y_test, y_pred)\n",
    "    \n",
    "    print('오차행렬:\\n', confusion)\n",
    "    print('\\n정확도: {:.4f}'.format(accuracy))\n",
    "    print('정밀도: {:.4f}'.format(precision))\n",
    "    print('재현율: {:.4f}'.format(recall))\n",
    "    print('F1: {:.4f}'.format(F1))\n",
    "    print('AUC: {:.4f}'.format(AUC))"
   ]
  },
  {
   "cell_type": "code",
   "execution_count": 99,
   "id": "other-storm",
   "metadata": {},
   "outputs": [
    {
     "name": "stdout",
     "output_type": "stream",
     "text": [
      "오차행렬:\n",
      " [[37  5]\n",
      " [ 0 72]]\n",
      "\n",
      "정확도: 0.9561\n",
      "정밀도: 0.9351\n",
      "재현율: 1.0000\n",
      "F1: 0.9664\n",
      "AUC: 0.9405\n"
     ]
    }
   ],
   "source": [
    "get_clf_eval(y_test,pred)"
   ]
  },
  {
   "cell_type": "code",
   "execution_count": null,
   "id": "external-formula",
   "metadata": {},
   "outputs": [],
   "source": []
  }
 ],
 "metadata": {
  "kernelspec": {
   "display_name": "Python 3",
   "language": "python",
   "name": "python3"
  },
  "language_info": {
   "codemirror_mode": {
    "name": "ipython",
    "version": 3
   },
   "file_extension": ".py",
   "mimetype": "text/x-python",
   "name": "python",
   "nbconvert_exporter": "python",
   "pygments_lexer": "ipython3",
   "version": "3.8.5"
  }
 },
 "nbformat": 4,
 "nbformat_minor": 5
}
