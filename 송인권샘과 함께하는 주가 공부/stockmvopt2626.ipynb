{
 "cells": [
  {
   "cell_type": "markdown",
   "metadata": {},
   "source": [
    "# 이동평균선\n",
    " * 일정 기간동안의 평균을 이동하면서 계산하여 이은 선\n",
    " * 5,20,60,120 이 일반적인 기준 \n",
    " * 장단기 크로스 포인트 기반의 투자 기법\n",
    " * 단기 라인이 장기 라인을 위에서 아래로 뚫었을때 : 매도 타이밍\n",
    " * 단기 라인이 장기 라인을 아래서 위로 뚫었을때: 매수 타이밍\n",
    " * ? 도대체 몇일 선이 단기라인이고 장기라인인 것인가?\n",
    " \n"
   ]
  },
  {
   "cell_type": "code",
   "execution_count": 38,
   "metadata": {},
   "outputs": [],
   "source": [
    "import numpy as np\n",
    "import pandas as pd\n",
    "import requests\n",
    "from bs4 import BeautifulSoup as bsp\n",
    "import matplotlib as mpl\n",
    "import matplotlib.pyplot as plt\n",
    "import sqlite3"
   ]
  },
  {
   "cell_type": "code",
   "execution_count": 39,
   "metadata": {},
   "outputs": [
    {
     "data": {
      "text/plain": [
       "'https://finance.naver.com/item/sise_day.nhn?code=271560&page=2'"
      ]
     },
     "execution_count": 39,
     "metadata": {},
     "output_type": "execute_result"
    }
   ],
   "source": [
    "code=271560\n",
    "pgno=2\n",
    "url='https://finance.naver.com/item/sise_day.nhn?code={0}&page={1}'\n",
    "tgurl=url.format(code,pgno)\n",
    "tgurl"
   ]
  },
  {
   "cell_type": "code",
   "execution_count": 40,
   "metadata": {},
   "outputs": [],
   "source": [
    "def getDB():\n",
    "    dbname='stockdata.db'\n",
    "    with sqlite3.connect(dbname) as conn:\n",
    "        cur=conn.cursor()\n",
    "        sql='select * from stockp order by skey asc'\n",
    "        qry=cur.execute(sql)\n",
    "        desc=[row[0] for row in qry.description]\n",
    "        data=qry.fetchall()\n",
    "    return((desc,data))"
   ]
  },
  {
   "cell_type": "code",
   "execution_count": 41,
   "metadata": {},
   "outputs": [
    {
     "data": {
      "text/plain": [
       "['sidx', 'skey', 'sday', 'sopen', 'shigh', 'slow', 'sclose', 'svol']"
      ]
     },
     "execution_count": 41,
     "metadata": {},
     "output_type": "execute_result"
    }
   ],
   "source": [
    "res=getDB()\n",
    "res[0]"
   ]
  },
  {
   "cell_type": "code",
   "execution_count": 42,
   "metadata": {},
   "outputs": [
    {
     "data": {
      "text/html": [
       "<div>\n",
       "<style scoped>\n",
       "    .dataframe tbody tr th:only-of-type {\n",
       "        vertical-align: middle;\n",
       "    }\n",
       "\n",
       "    .dataframe tbody tr th {\n",
       "        vertical-align: top;\n",
       "    }\n",
       "\n",
       "    .dataframe thead th {\n",
       "        text-align: right;\n",
       "    }\n",
       "</style>\n",
       "<table border=\"1\" class=\"dataframe\">\n",
       "  <thead>\n",
       "    <tr style=\"text-align: right;\">\n",
       "      <th></th>\n",
       "      <th>skey</th>\n",
       "      <th>sday</th>\n",
       "      <th>sopen</th>\n",
       "      <th>shigh</th>\n",
       "      <th>slow</th>\n",
       "      <th>sclose</th>\n",
       "      <th>svol</th>\n",
       "    </tr>\n",
       "    <tr>\n",
       "      <th>sidx</th>\n",
       "      <th></th>\n",
       "      <th></th>\n",
       "      <th></th>\n",
       "      <th></th>\n",
       "      <th></th>\n",
       "      <th></th>\n",
       "      <th></th>\n",
       "    </tr>\n",
       "  </thead>\n",
       "  <tbody>\n",
       "    <tr>\n",
       "      <th>895</th>\n",
       "      <td>20170707</td>\n",
       "      <td>2017-07-07</td>\n",
       "      <td>87100</td>\n",
       "      <td>89700</td>\n",
       "      <td>75700</td>\n",
       "      <td>82300</td>\n",
       "      <td>1619864</td>\n",
       "    </tr>\n",
       "    <tr>\n",
       "      <th>894</th>\n",
       "      <td>20170710</td>\n",
       "      <td>2017-07-10</td>\n",
       "      <td>82300</td>\n",
       "      <td>88000</td>\n",
       "      <td>81000</td>\n",
       "      <td>88000</td>\n",
       "      <td>840451</td>\n",
       "    </tr>\n",
       "    <tr>\n",
       "      <th>893</th>\n",
       "      <td>20170711</td>\n",
       "      <td>2017-07-11</td>\n",
       "      <td>88000</td>\n",
       "      <td>88000</td>\n",
       "      <td>82700</td>\n",
       "      <td>82800</td>\n",
       "      <td>422303</td>\n",
       "    </tr>\n",
       "    <tr>\n",
       "      <th>892</th>\n",
       "      <td>20170712</td>\n",
       "      <td>2017-07-12</td>\n",
       "      <td>83700</td>\n",
       "      <td>84600</td>\n",
       "      <td>80000</td>\n",
       "      <td>83500</td>\n",
       "      <td>238407</td>\n",
       "    </tr>\n",
       "    <tr>\n",
       "      <th>891</th>\n",
       "      <td>20170713</td>\n",
       "      <td>2017-07-13</td>\n",
       "      <td>83400</td>\n",
       "      <td>84000</td>\n",
       "      <td>80800</td>\n",
       "      <td>81600</td>\n",
       "      <td>218138</td>\n",
       "    </tr>\n",
       "  </tbody>\n",
       "</table>\n",
       "</div>"
      ],
      "text/plain": [
       "          skey        sday  sopen  shigh   slow  sclose     svol\n",
       "sidx                                                            \n",
       "895   20170707  2017-07-07  87100  89700  75700   82300  1619864\n",
       "894   20170710  2017-07-10  82300  88000  81000   88000   840451\n",
       "893   20170711  2017-07-11  88000  88000  82700   82800   422303\n",
       "892   20170712  2017-07-12  83700  84600  80000   83500   238407\n",
       "891   20170713  2017-07-13  83400  84000  80800   81600   218138"
      ]
     },
     "execution_count": 42,
     "metadata": {},
     "output_type": "execute_result"
    }
   ],
   "source": [
    "\n",
    "df=pd.DataFrame(data=res[1],columns=res[0]).set_index('sidx')\n",
    "df.head()"
   ]
  },
  {
   "cell_type": "code",
   "execution_count": 43,
   "metadata": {},
   "outputs": [],
   "source": [
    "cdf=df[['sday','sclose']].copy()\n"
   ]
  },
  {
   "cell_type": "code",
   "execution_count": 44,
   "metadata": {},
   "outputs": [
    {
     "data": {
      "text/html": [
       "<div>\n",
       "<style scoped>\n",
       "    .dataframe tbody tr th:only-of-type {\n",
       "        vertical-align: middle;\n",
       "    }\n",
       "\n",
       "    .dataframe tbody tr th {\n",
       "        vertical-align: top;\n",
       "    }\n",
       "\n",
       "    .dataframe thead th {\n",
       "        text-align: right;\n",
       "    }\n",
       "</style>\n",
       "<table border=\"1\" class=\"dataframe\">\n",
       "  <thead>\n",
       "    <tr style=\"text-align: right;\">\n",
       "      <th></th>\n",
       "      <th>sday</th>\n",
       "      <th>sclose</th>\n",
       "    </tr>\n",
       "    <tr>\n",
       "      <th>sidx</th>\n",
       "      <th></th>\n",
       "      <th></th>\n",
       "    </tr>\n",
       "  </thead>\n",
       "  <tbody>\n",
       "    <tr>\n",
       "      <th>895</th>\n",
       "      <td>2017-07-07</td>\n",
       "      <td>82300</td>\n",
       "    </tr>\n",
       "    <tr>\n",
       "      <th>894</th>\n",
       "      <td>2017-07-10</td>\n",
       "      <td>88000</td>\n",
       "    </tr>\n",
       "    <tr>\n",
       "      <th>893</th>\n",
       "      <td>2017-07-11</td>\n",
       "      <td>82800</td>\n",
       "    </tr>\n",
       "    <tr>\n",
       "      <th>892</th>\n",
       "      <td>2017-07-12</td>\n",
       "      <td>83500</td>\n",
       "    </tr>\n",
       "    <tr>\n",
       "      <th>891</th>\n",
       "      <td>2017-07-13</td>\n",
       "      <td>81600</td>\n",
       "    </tr>\n",
       "  </tbody>\n",
       "</table>\n",
       "</div>"
      ],
      "text/plain": [
       "            sday  sclose\n",
       "sidx                    \n",
       "895   2017-07-07   82300\n",
       "894   2017-07-10   88000\n",
       "893   2017-07-11   82800\n",
       "892   2017-07-12   83500\n",
       "891   2017-07-13   81600"
      ]
     },
     "execution_count": 44,
     "metadata": {},
     "output_type": "execute_result"
    }
   ],
   "source": [
    "cdf.head()"
   ]
  },
  {
   "cell_type": "code",
   "execution_count": 45,
   "metadata": {},
   "outputs": [],
   "source": [
    "def mvline(src=[],mday=5):\n",
    "    mvdata=[0 for i in range(mday-1)]\n",
    "    mvdata\n",
    "    tot =len(src)\n",
    "    for i in range(tot-mday+1):\n",
    "        mvm=np.mean(cdf['sclose'][i:mday+i])\n",
    "        mvdata.append(mvm)\n",
    "    return (mvdata)"
   ]
  },
  {
   "cell_type": "code",
   "execution_count": 46,
   "metadata": {},
   "outputs": [],
   "source": [
    "def finprs(df):\n",
    "    fdf=df.copy()\n",
    "    precre=0 # 이전 주식 잔고\n",
    "    predeb=1000000 # 이전 통장 잔고\n",
    "    prestock=0\n",
    "    for idx,row in fdf.iterrows():\n",
    "         # 살수 있는 주식의 갯수\n",
    "        #단기물 곡선이 하위 포지션에 있다가 장기물 곡선을 크로스 하였다=> 주가 상승 압력이 시작됬다\n",
    "        # 상승할것으로 보여지니 매수한다.\n",
    "        if (row.loc['shortpos']==1 and row.loc['shortpos']*row.loc['preshortpos']<0):\n",
    "            canbuy=predeb//row.loc['sclose']\n",
    "            if(canbuy>0):\n",
    "                #산다\n",
    "                cre=precre+canbuy*row.loc['sclose']\n",
    "                deb=predeb-canbuy*row.loc['sclose']\n",
    "                instock=canbuy\n",
    "            else:# 돈없어서 아무일 없다\n",
    "                instock=prestock\n",
    "                cre=precre\n",
    "                deb=predeb                \n",
    "        # 단기물 곡선이 상위포지션에 있다가 장기물 곡선을 크로스했다--> 주가의 하방압력이 시작됬다.\n",
    "        # 하락할것으로 보여지니 매도한다.\n",
    "        elif (row.loc['shortpos']==-1 and row.loc['shortpos']*row.loc['preshortpos']<0):\n",
    "            cre=0\n",
    "            deb=predeb+row.loc['sclose']*prestock\n",
    "            instock=0\n",
    "            # sellpos:1 prestock:1,sellpos:-1 prestock:0, no debt\n",
    "        else:# 조건이 안맞아서 아무일 없다.\n",
    "            instock=prestock\n",
    "            cre=precre\n",
    "            deb=predeb\n",
    "        fdf.loc[idx,'hasstock']=instock\n",
    "        fdf.loc[idx,'debt']=deb\n",
    "        fdf.loc[idx,'credit']=cre\n",
    "        prestock=instock\n",
    "        precre=cre\n",
    "        predeb=deb\n",
    "    return fdf\n"
   ]
  },
  {
   "cell_type": "code",
   "execution_count": 55,
   "metadata": {},
   "outputs": [],
   "source": [
    "def optmv(cdf,sv=5,lv=10):\n",
    "    cdf['mvshort']=mvline(cdf['sclose'],sv)\n",
    "    cdf['mvlong']=mvline(cdf['sclose'],lv)\n",
    "    cdf['shortpos']=np.where(cdf['mvshort']>cdf['mvlong'],1,-1) * np.where(cdf['mvlong']==0,0,1)\n",
    "    redf=cdf.set_index('sday')\n",
    "    redf['preshortpos']=redf['shortpos'].shift(1)\n",
    "    rdf=finprs(redf)\n",
    "    rdf['totval']=rdf['debt']+rdf['credit']\n",
    "    lastrow=rdf.iloc[-1:]\n",
    "    mylastval=lastrow['totval'].values[0]\n",
    "    return ((sv,lv,mylastval))"
   ]
  },
  {
   "cell_type": "code",
   "execution_count": 56,
   "metadata": {},
   "outputs": [],
   "source": [
    "result=[]\n",
    "for sb in range(2,20):\n",
    "    for lb in range(sb+1,sb+60):\n",
    "        res=optmv(cdf,sb,lb)\n",
    "        result.append(res)"
   ]
  },
  {
   "cell_type": "code",
   "execution_count": 59,
   "metadata": {
    "collapsed": true,
    "jupyter": {
     "outputs_hidden": true
    }
   },
   "outputs": [
    {
     "data": {
      "text/html": [
       "<div>\n",
       "<style scoped>\n",
       "    .dataframe tbody tr th:only-of-type {\n",
       "        vertical-align: middle;\n",
       "    }\n",
       "\n",
       "    .dataframe tbody tr th {\n",
       "        vertical-align: top;\n",
       "    }\n",
       "\n",
       "    .dataframe thead th {\n",
       "        text-align: right;\n",
       "    }\n",
       "</style>\n",
       "<table border=\"1\" class=\"dataframe\">\n",
       "  <thead>\n",
       "    <tr style=\"text-align: right;\">\n",
       "      <th></th>\n",
       "      <th>short</th>\n",
       "      <th>long</th>\n",
       "      <th>val</th>\n",
       "    </tr>\n",
       "  </thead>\n",
       "  <tbody>\n",
       "    <tr>\n",
       "      <th>1057</th>\n",
       "      <td>19</td>\n",
       "      <td>74</td>\n",
       "      <td>1136700.0</td>\n",
       "    </tr>\n",
       "    <tr>\n",
       "      <th>1058</th>\n",
       "      <td>19</td>\n",
       "      <td>75</td>\n",
       "      <td>1151200.0</td>\n",
       "    </tr>\n",
       "    <tr>\n",
       "      <th>1059</th>\n",
       "      <td>19</td>\n",
       "      <td>76</td>\n",
       "      <td>1135200.0</td>\n",
       "    </tr>\n",
       "    <tr>\n",
       "      <th>1060</th>\n",
       "      <td>19</td>\n",
       "      <td>77</td>\n",
       "      <td>1127200.0</td>\n",
       "    </tr>\n",
       "    <tr>\n",
       "      <th>1061</th>\n",
       "      <td>19</td>\n",
       "      <td>78</td>\n",
       "      <td>1183000.0</td>\n",
       "    </tr>\n",
       "  </tbody>\n",
       "</table>\n",
       "</div>"
      ],
      "text/plain": [
       "      short  long        val\n",
       "1057     19    74  1136700.0\n",
       "1058     19    75  1151200.0\n",
       "1059     19    76  1135200.0\n",
       "1060     19    77  1127200.0\n",
       "1061     19    78  1183000.0"
      ]
     },
     "execution_count": 59,
     "metadata": {},
     "output_type": "execute_result"
    }
   ],
   "source": [
    "vdf= pd.DataFrame(data=result,columns=[\"short\",\"long\",\"val\"])\n",
    "vdf.tail()"
   ]
  },
  {
   "cell_type": "code",
   "execution_count": 64,
   "metadata": {},
   "outputs": [
    {
     "data": {
      "image/png": "[encoded data removed]",
      "text/plain": [
       "<Figure size 432x288 with 1 Axes>"
      ]
     },
     "metadata": {
      "needs_background": "light"
     },
     "output_type": "display_data"
    }
   ],
   "source": [
    "vdf[[\"long\",\"val\"]].plot()\n",
    "plt.xlim(100,250)\n",
    "plt.show()"
   ]
  },
  {
   "cell_type": "code",
   "execution_count": 62,
   "metadata": {},
   "outputs": [
    {
     "data": {
      "text/html": [
       "<div>\n",
       "<style scoped>\n",
       "    .dataframe tbody tr th:only-of-type {\n",
       "        vertical-align: middle;\n",
       "    }\n",
       "\n",
       "    .dataframe tbody tr th {\n",
       "        vertical-align: top;\n",
       "    }\n",
       "\n",
       "    .dataframe thead th {\n",
       "        text-align: right;\n",
       "    }\n",
       "</style>\n",
       "<table border=\"1\" class=\"dataframe\">\n",
       "  <thead>\n",
       "    <tr style=\"text-align: right;\">\n",
       "      <th></th>\n",
       "      <th>short</th>\n",
       "      <th>long</th>\n",
       "      <th>val</th>\n",
       "    </tr>\n",
       "  </thead>\n",
       "  <tbody>\n",
       "    <tr>\n",
       "      <th>179</th>\n",
       "      <td>5</td>\n",
       "      <td>8</td>\n",
       "      <td>1876300.0</td>\n",
       "    </tr>\n",
       "  </tbody>\n",
       "</table>\n",
       "</div>"
      ],
      "text/plain": [
       "     short  long        val\n",
       "179      5     8  1876300.0"
      ]
     },
     "execution_count": 62,
     "metadata": {},
     "output_type": "execute_result"
    }
   ],
   "source": [
    "vdf[[\"val\"]].max()\n",
    "maxrow=vdf.loc[vdf[\"val\"]==1876300.0]\n",
    "maxrow"
   ]
  },
  {
   "cell_type": "code",
   "execution_count": 53,
   "metadata": {},
   "outputs": [
    {
     "data": {
      "text/plain": [
       "1558500.0"
      ]
     },
     "execution_count": 53,
     "metadata": {},
     "output_type": "execute_result"
    }
   ],
   "source": [
    "rv=optmv(cdf)"
   ]
  },
  {
   "cell_type": "raw",
   "metadata": {},
   "source": [
    "ax1=rdf['totval'].plot()\n",
    "ax1.set_ylabel('debit')\n",
    "ax2 = rdf['sclose'].plot(secondary_y=True, color='r')\n",
    "ax2.set_ylabel('stock price')\n",
    "plt.show()"
   ]
  },
  {
   "cell_type": "code",
   "execution_count": null,
   "metadata": {},
   "outputs": [],
   "source": []
  }
 ],
 "metadata": {
  "kernelspec": {
   "display_name": "Python 3",
   "language": "python",
   "name": "python3"
  },
  "language_info": {
   "codemirror_mode": {
    "name": "ipython",
    "version": 3
   },
   "file_extension": ".py",
   "mimetype": "text/x-python",
   "name": "python",
   "nbconvert_exporter": "python",
   "pygments_lexer": "ipython3",
   "version": "3.8.5"
  },
  "toc": {
   "base_numbering": 1,
   "nav_menu": {},
   "number_sections": true,
   "sideBar": true,
   "skip_h1_title": false,
   "title_cell": "Table of Contents",
   "title_sidebar": "Contents",
   "toc_cell": false,
   "toc_position": {},
   "toc_section_display": true,
   "toc_window_display": false
  },
  "varInspector": {
   "cols": {
    "lenName": 16,
    "lenType": 16,
    "lenVar": 40
   },
   "kernels_config": {
    "python": {
     "delete_cmd_postfix": "",
     "delete_cmd_prefix": "del ",
     "library": "var_list.py",
     "varRefreshCmd": "print(var_dic_list())"
    },
    "r": {
     "delete_cmd_postfix": ") ",
     "delete_cmd_prefix": "rm(",
     "library": "var_list.r",
     "varRefreshCmd": "cat(var_dic_list()) "
    }
   },
   "types_to_exclude": [
    "module",
    "function",
    "builtin_function_or_method",
    "instance",
    "_Feature"
   ],
   "window_display": false
  }
 },
 "nbformat": 4,
 "nbformat_minor": 5
}
