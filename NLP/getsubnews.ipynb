{
 "cells": [
  {
   "cell_type": "markdown",
   "metadata": {},
   "source": [
    "### 수집된 포털 정보기반 딥크롤링\n",
    "* 기존에 수집된 정보를 바탕으로 매체별 크롤링\n",
    "* 다양한 서브 데이터의 정형화\n",
    "* URL 기반의 다양한 크롤링 기법 사용"
   ]
  },
  {
   "cell_type": "markdown",
   "metadata": {},
   "source": [
    "### 분석요소\n",
    "* 제목 :\n",
    "* 내용  :\n",
    "* 작성일 :\n",
    "* 매체: \n",
    "* 작성자:\n"
   ]
  },
  {
   "cell_type": "markdown",
   "metadata": {},
   "source": [
    "### 기존 수집 데이터 활용\n"
   ]
  },
  {
   "cell_type": "code",
   "execution_count": 1,
   "metadata": {},
   "outputs": [],
   "source": [
    "import numpy as np\n",
    "import pandas as pd\n",
    "import requests\n",
    "from bs4 import BeautifulSoup as bsp\n",
    "import matplotlib\n",
    "import matplotlib.pyplot as plt\n",
    "import sqlite3\n",
    "import re\n",
    "from datetime import datetime, timedelta,date\n",
    "import sys"
   ]
  },
  {
   "cell_type": "code",
   "execution_count": 2,
   "metadata": {},
   "outputs": [],
   "source": [
    "def calcDate(txt=''):\n",
    "    #print(txt)\n",
    "    rdate=''\n",
    "    nowd=datetime.now()\n",
    "    pattern='[^\\d]'\n",
    "    num=int(re.sub(pattern,'',txt))\n",
    "    if('일' in txt):\n",
    "        res=nowd + timedelta(days=num*-1)\n",
    "    elif('.' in txt):\n",
    "        ds=txt.replace('.','-')\n",
    "        #print(ds)\n",
    "        res=ds+' 00:00:00.000000'\n",
    "    else:\n",
    "        res=nowd + timedelta(hours=num*-1)\n",
    "    return res"
   ]
  },
  {
   "cell_type": "code",
   "execution_count": 3,
   "metadata": {},
   "outputs": [
    {
     "data": {
      "text/plain": [
       "'2021-2-1 00:00:00.000000'"
      ]
     },
     "execution_count": 3,
     "metadata": {},
     "output_type": "execute_result"
    }
   ],
   "source": [
    "calcDate('2021.2.1')"
   ]
  },
  {
   "cell_type": "code",
   "execution_count": 4,
   "metadata": {},
   "outputs": [],
   "source": [
    "def makeKey(txt=''):\n",
    "    txt_=re.sub('http\\S*//',' ',txt)\n",
    "    key=re.sub('[^a-zA-Z0-9%]','',txt_)\n",
    "    return key"
   ]
  },
  {
   "cell_type": "code",
   "execution_count": 5,
   "metadata": {},
   "outputs": [],
   "source": [
    "def getData(whr=''):\n",
    "    dbname='navernews.db'\n",
    "    with sqlite3.connect(dbname) as conn:\n",
    "        cursor=conn.cursor()\n",
    "        sql='select nidx,ncomp,nurl from nnews '+whr\n",
    "        res=cursor.execute(sql).fetchall()\n",
    "    return(res)"
   ]
  },
  {
   "cell_type": "code",
   "execution_count": 6,
   "metadata": {},
   "outputs": [],
   "source": [
    "def insSub(d):\n",
    "    dbname='navernews.db'\n",
    "    with sqlite3.connect(dbname) as conn:\n",
    "        cursor=conn.cursor()\n",
    "        sql='select * from subnews where nkey=\"'+d[5]+'\"'\n",
    "        res=cursor.execute(sql).fetchall()\n",
    "        if(len(res)>0):\n",
    "            print(\"이미 존재 합니다.:\"+d[1])\n",
    "        else:\n",
    "            sql='insert into subnews (ncate,ntitle,ncomp,ndate,nurl,nkey) values(?,?,?,?,?,?)'\n",
    "            res=cursor.execute(sql,d)\n",
    "            print('.',end='')\n",
    "        "
   ]
  },
  {
   "cell_type": "code",
   "execution_count": 7,
   "metadata": {},
   "outputs": [],
   "source": [
    "def getAsia(urls):\n",
    "    url = urls[2]\n",
    "    res=requests.get(url)\n",
    "    src=res.content.strip()\n",
    "    htmls=bsp(src,'html.parser')\n",
    "    print(url)\n",
    "    title_block=htmls.select('div.area_title')[0]\n",
    "    wtitle=title_block.select('h3')[0].text.strip()\n",
    "    writer=htmls.select('.article_view > .article .e_article')[0].text.strip()\n",
    "    wday_=title_block.select('p.user_data')\n",
    "    wday = str(wday_).split('</strong>')[-1].replace('</p>]','').replace('.','-').strip()\n",
    "    article_=htmls.select('.article_view > .article ')[0]\n",
    "    pattern='<!-- 본문// -->[\\S\\s]*'\n",
    "    article__=re.sub(pattern,' ',str(article_))\n",
    "#     pattern='<div id=\"bestnews_layer\">.*'\n",
    "#     article__=re.sub(pattern,' ',str(article__))\n",
    "    warticle=bsp(article__,'html.parser').text.strip()\n",
    "    return [wtitle,writer,wday,warticle,urls[0],urls[1],urls[2]]\n",
    "    #return [wtitle,wday,urls[0],urls[1],urls[2]]\n",
    "urls = (69,'아시아경제','https://view.asiae.co.kr/article/2021031715545233623')\n",
    "#print(getAsia(urls))"
   ]
  },
  {
   "cell_type": "code",
   "execution_count": 8,
   "metadata": {},
   "outputs": [],
   "source": [
    "def getDonga(urls):\n",
    "    url = urls[2]\n",
    "    res=requests.get(url)\n",
    "    src=res.content.strip()\n",
    "    htmls=bsp(src,'html.parser')\n",
    "    print(url)\n",
    "    title_block=htmls.select('div.article_title')[0]\n",
    "    wtitle=title_block.select('h1.title')[0].text.strip()\n",
    "    writer=title_block.select('span.report')[0].text.replace('동아닷컴 기자','').strip()\n",
    "    wday=title_block.select('span.date01')[-1].text.strip()\n",
    "    article_=htmls.select('div.article_txt')[0]\n",
    "    pattern='<script[^>]*>((\\n|\\r|.)*?)<\\/script>'\n",
    "    article__=re.sub(pattern,' ',str(article_))\n",
    "    pattern='<div id=\"bestnews_layer\">.*'\n",
    "    article__=re.sub(pattern,' ',str(article__))\n",
    "    warticle=bsp(article__,'html.parser').text\n",
    "    return [wtitle,writer,wday,warticle,urls[0],urls[1],urls[2]]"
   ]
  },
  {
   "cell_type": "code",
   "execution_count": 9,
   "metadata": {
    "jupyter": {
     "source_hidden": true
    }
   },
   "outputs": [],
   "source": [
    "def getDona(url):\n",
    "    res=requests.get(url)\n",
    "    src=res.content.strip()\n",
    "    htmls=bsp(src,'html.parser')\n",
    "    print(url)\n",
    "    title_block=htmls.select('div.article_title')\n",
    "    if(len(tgts)==0):\n",
    "        print('데이터가 없습니다.'+url)\n",
    "        sys.exit(1)\n",
    "    for tgt in tgts:\n",
    "        mainarti=tgt.select('div.news_wrap')\n",
    "        subartis=tgt.select('ul.list_cluster > li.sub_bx')\n",
    "        if(len(mainarti)>0):\n",
    "            title_= mainarti[0].select('a.news_tit')[0].text\n",
    "            title=re.sub('[^ㄱ-힣0-9 a-zA-Z]',' ',title_)\n",
    "            comp=mainarti[0].select('.info.press')[0].text.replace('언론사 선정','')\n",
    "            date_=mainarti[0].select('span.info')[0].text.replace('시간 전','')\n",
    "            date=calcDate(date_)\n",
    "            url=mainarti[0].select('a.news_tit')[0]['href']\n",
    "            key=makeKey(url)\n",
    "            opt=1\n",
    "            d=(opt,title,comp,date,url,key)\n",
    "            insMain(d)\n",
    "            for subarti in subartis:\n",
    "                title_= subarti.select('a.sub_tit')[0].text\n",
    "                title=re.sub('[^ㄱ-힣0-9 a-zA-Z]',' ',title_)\n",
    "                comp=subarti.select('.sub_txt.press')[0].text.replace('언론사 선정','')\n",
    "                date_=subarti.select('span.sub_txt')[0].text.replace('시간 전','').replace('네이버뉴스','')\n",
    "                date=calcDate(date_)\n",
    "                url=subarti.select('a.sub_tit')[0]['href']\n",
    "                key=makeKey(url)\n",
    "                opt=2\n",
    "                d=(opt,title,comp,date,url,key)\n",
    "                insMain(d)\n",
    "\n"
   ]
  },
  {
   "cell_type": "code",
   "execution_count": 10,
   "metadata": {
    "jupyter": {
     "outputs_hidden": true,
     "source_hidden": true
    }
   },
   "outputs": [
    {
     "data": {
      "text/plain": [
       "[(1, '연합뉴스', 'http://yna.kr/AKR20210317071000030?did=1195m'),\n",
       " (2,\n",
       "  '이데일리',\n",
       "  'http://www.edaily.co.kr/news/newspath.asp?newsid=01430086628984304'),\n",
       " (3, '이투데이', 'https://www.etoday.co.kr/news/view/2005423'),\n",
       " (4, '파이낸셜뉴스', 'http://www.fnnews.com/news/202103180822274935'),\n",
       " (5, '뉴스1', 'https://www.news1.kr/articles/?4244392')]"
      ]
     },
     "execution_count": 10,
     "metadata": {},
     "output_type": "execute_result"
    }
   ],
   "source": [
    "allurl=getData()\n",
    "allurl[:5]"
   ]
  },
  {
   "cell_type": "code",
   "execution_count": 11,
   "metadata": {},
   "outputs": [
    {
     "name": "stdout",
     "output_type": "stream",
     "text": [
      "--------------------------------------------------\n",
      "\n",
      "--------------------------------------------------\n",
      "\n",
      "--------------------------------------------------\n",
      "\n"
     ]
    }
   ],
   "source": [
    "for urls in allurl[:3]:\n",
    "    print('-'*50)\n",
    "    wdata=''\n",
    "    #print(nidx,ncomp,turl)\n",
    "    if urls[1]==\"동아일보\":\n",
    "        wdata=getDonga(urls)\n",
    "    elif urls[1]==\"아시아경제\":\n",
    "        wdata=getAsia(urls)\n",
    "    print(wdata)"
   ]
  },
  {
   "cell_type": "code",
   "execution_count": null,
   "metadata": {},
   "outputs": [],
   "source": []
  },
  {
   "cell_type": "code",
   "execution_count": null,
   "metadata": {},
   "outputs": [],
   "source": []
  }
 ],
 "metadata": {
  "kernelspec": {
   "display_name": "Python 3",
   "language": "python",
   "name": "python3"
  },
  "language_info": {
   "codemirror_mode": {
    "name": "ipython",
    "version": 3
   },
   "file_extension": ".py",
   "mimetype": "text/x-python",
   "name": "python",
   "nbconvert_exporter": "python",
   "pygments_lexer": "ipython3",
   "version": "3.8.5"
  },
  "toc": {
   "base_numbering": 1,
   "nav_menu": {},
   "number_sections": true,
   "sideBar": true,
   "skip_h1_title": false,
   "title_cell": "Table of Contents",
   "title_sidebar": "Contents",
   "toc_cell": false,
   "toc_position": {},
   "toc_section_display": true,
   "toc_window_display": false
  },
  "varInspector": {
   "cols": {
    "lenName": 16,
    "lenType": 16,
    "lenVar": 40
   },
   "kernels_config": {
    "python": {
     "delete_cmd_postfix": "",
     "delete_cmd_prefix": "del ",
     "library": "var_list.py",
     "varRefreshCmd": "print(var_dic_list())"
    },
    "r": {
     "delete_cmd_postfix": ") ",
     "delete_cmd_prefix": "rm(",
     "library": "var_list.r",
     "varRefreshCmd": "cat(var_dic_list()) "
    }
   },
   "types_to_exclude": [
    "module",
    "function",
    "builtin_function_or_method",
    "instance",
    "_Feature"
   ],
   "window_display": false
  }
 },
 "nbformat": 4,
 "nbformat_minor": 4
}
