{
 "cells": [
  {
   "cell_type": "code",
   "execution_count": 1,
   "metadata": {
    "ExecuteTime": {
     "end_time": "2021-03-25T01:10:14.100116Z",
     "start_time": "2021-03-25T01:10:11.902640Z"
    }
   },
   "outputs": [],
   "source": [
    "import pandas as pd\n",
    "import numpy as np\n",
    "import matplotlib.pyplot as plt\n",
    "import platform\n",
    "import platform\n",
    "from matplotlib import font_manager, rc\n",
    "import matplotlib.pyplot as plt\n",
    "from sklearn.preprocessing import LabelEncoder\n",
    "import seaborn as sns\n",
    "##그래프의 결과를 출력 세션에 나타나게 하자\n",
    "%matplotlib inline \n",
    "plt.rcParams['axes.unicode_minus'] = False\n",
    "if platform.system() == 'Darwin':\n",
    "    rc('font', family = 'AppleGothic')\n",
    "elif platform.system() == 'Windows':\n",
    "    path ='C:/Windows/Fonts/malgun.ttf'\n",
    "    font_name = font_manager.FontProperties(fname=path).get_name()\n",
    "    rc('font', family=font_name)\n",
    "else:\n",
    "    print(\"Can't find your system.\")"
   ]
  },
  {
   "cell_type": "markdown",
   "metadata": {},
   "source": [
    "### 머신러닝을 통한 결측치(건축년도)제거"
   ]
  },
  {
   "cell_type": "code",
   "execution_count": 2,
   "metadata": {
    "ExecuteTime": {
     "end_time": "2021-03-25T01:10:14.116073Z",
     "start_time": "2021-03-25T01:10:14.102137Z"
    }
   },
   "outputs": [],
   "source": [
    "#읍면동 구분하는 함수\n",
    "def sort_dong(df):\n",
    "    a=df.split(\" \")\n",
    "    if a[1][-1]=='동':\n",
    "        return '동'\n",
    "    elif a[1][-1]=='면':\n",
    "        return '면'\n",
    "    else :\n",
    "        return '읍'\n",
    "#동 구분하는 함수\n",
    "def sort_dong2(df):\n",
    "    a=df.split(\" \")\n",
    "    return a[1]\n",
    "#년도 추출\n",
    "def year(df):\n",
    "    return df[:-2]\n",
    "#평수 분해\n",
    "def pyeong(df):\n",
    "    if df< 33:\n",
    "        return '10평 미만'\n",
    "    elif df>= 33 and df < 66:\n",
    "        return '10~20평'\n",
    "    elif df>= 66 and df < 99:\n",
    "        return '20~30평'\n",
    "    elif df>= 99 and df < 132:\n",
    "        return '30~40평'\n",
    "    elif df>= 132 and df < 165:\n",
    "        return '40~50평'\n",
    "    elif df>= 165 and df < 198:\n",
    "        return '50~60평'\n",
    "    else:\n",
    "        return '60평 이상'\n",
    "def mon(df):\n",
    "    return df[-2:]\n",
    "def pyeong2(df):\n",
    "    return int(df/3.3)\n",
    "def riri(df):\n",
    "    return int(float(df.replace(',','')))\n",
    "def rep(df):\n",
    "    if df == '-':\n",
    "        return 0\n",
    "    elif df.find('m이상') != -1:\n",
    "        return df.replace('m이상','')\n",
    "    else:\n",
    "        return df.replace('m미만','')"
   ]
  },
  {
   "cell_type": "code",
   "execution_count": 3,
   "metadata": {
    "ExecuteTime": {
     "end_time": "2021-03-25T01:10:14.132030Z",
     "start_time": "2021-03-25T01:10:14.118068Z"
    }
   },
   "outputs": [],
   "source": [
    "danta = pd.read_csv('5.세종시_단독다가구(매매)_실거래가.csv')"
   ]
  },
  {
   "cell_type": "markdown",
   "metadata": {},
   "source": [
    "#### 건축년도 결측치 확인"
   ]
  },
  {
   "cell_type": "code",
   "execution_count": 4,
   "metadata": {
    "ExecuteTime": {
     "end_time": "2021-03-25T01:10:14.162948Z",
     "start_time": "2021-03-25T01:10:14.136021Z"
    }
   },
   "outputs": [
    {
     "data": {
      "text/html": [
       "<div>\n",
       "<style scoped>\n",
       "    .dataframe tbody tr th:only-of-type {\n",
       "        vertical-align: middle;\n",
       "    }\n",
       "\n",
       "    .dataframe tbody tr th {\n",
       "        vertical-align: top;\n",
       "    }\n",
       "\n",
       "    .dataframe thead th {\n",
       "        text-align: right;\n",
       "    }\n",
       "</style>\n",
       "<table border=\"1\" class=\"dataframe\">\n",
       "  <thead>\n",
       "    <tr style=\"text-align: right;\">\n",
       "      <th></th>\n",
       "      <th>계약년월</th>\n",
       "      <th>계약일</th>\n",
       "      <th>시군구</th>\n",
       "      <th>주택유형</th>\n",
       "      <th>도로조건</th>\n",
       "      <th>연면적(㎡)</th>\n",
       "      <th>대지면적(㎡)</th>\n",
       "      <th>거래금액(만원)</th>\n",
       "      <th>건축년도</th>\n",
       "      <th>해제사유발생일</th>\n",
       "    </tr>\n",
       "  </thead>\n",
       "  <tbody>\n",
       "    <tr>\n",
       "      <th>37</th>\n",
       "      <td>201702</td>\n",
       "      <td>18</td>\n",
       "      <td>세종특별자치시 연서면 국촌리</td>\n",
       "      <td>단독</td>\n",
       "      <td>8m미만</td>\n",
       "      <td>104.60</td>\n",
       "      <td>304.0</td>\n",
       "      <td>7,000</td>\n",
       "      <td>NaN</td>\n",
       "      <td>NaN</td>\n",
       "    </tr>\n",
       "    <tr>\n",
       "      <th>44</th>\n",
       "      <td>201702</td>\n",
       "      <td>26</td>\n",
       "      <td>세종특별자치시 조치원읍 신흥리</td>\n",
       "      <td>단독</td>\n",
       "      <td>8m미만</td>\n",
       "      <td>41.31</td>\n",
       "      <td>152.0</td>\n",
       "      <td>2,000</td>\n",
       "      <td>NaN</td>\n",
       "      <td>NaN</td>\n",
       "    </tr>\n",
       "    <tr>\n",
       "      <th>68</th>\n",
       "      <td>201703</td>\n",
       "      <td>15</td>\n",
       "      <td>세종특별자치시 전동면 심중리</td>\n",
       "      <td>단독</td>\n",
       "      <td>8m미만</td>\n",
       "      <td>61.16</td>\n",
       "      <td>347.0</td>\n",
       "      <td>12,353</td>\n",
       "      <td>NaN</td>\n",
       "      <td>NaN</td>\n",
       "    </tr>\n",
       "    <tr>\n",
       "      <th>278</th>\n",
       "      <td>201711</td>\n",
       "      <td>20</td>\n",
       "      <td>세종특별자치시 장군면 금암리</td>\n",
       "      <td>단독</td>\n",
       "      <td>8m미만</td>\n",
       "      <td>88.45</td>\n",
       "      <td>567.0</td>\n",
       "      <td>27,400</td>\n",
       "      <td>NaN</td>\n",
       "      <td>NaN</td>\n",
       "    </tr>\n",
       "    <tr>\n",
       "      <th>827</th>\n",
       "      <td>202003</td>\n",
       "      <td>18</td>\n",
       "      <td>세종특별자치시 장군면 금암리</td>\n",
       "      <td>단독</td>\n",
       "      <td>8m미만</td>\n",
       "      <td>185.92</td>\n",
       "      <td>1104.0</td>\n",
       "      <td>90,000</td>\n",
       "      <td>NaN</td>\n",
       "      <td>20200519.0</td>\n",
       "    </tr>\n",
       "    <tr>\n",
       "      <th>1021</th>\n",
       "      <td>202009</td>\n",
       "      <td>24</td>\n",
       "      <td>세종특별자치시 연기면 보통리</td>\n",
       "      <td>다가구</td>\n",
       "      <td>8m미만</td>\n",
       "      <td>493.86</td>\n",
       "      <td>505.0</td>\n",
       "      <td>90,000</td>\n",
       "      <td>NaN</td>\n",
       "      <td>20201015.0</td>\n",
       "    </tr>\n",
       "    <tr>\n",
       "      <th>1023</th>\n",
       "      <td>202009</td>\n",
       "      <td>24</td>\n",
       "      <td>세종특별자치시 연기면 보통리</td>\n",
       "      <td>다가구</td>\n",
       "      <td>8m미만</td>\n",
       "      <td>493.86</td>\n",
       "      <td>532.0</td>\n",
       "      <td>90,000</td>\n",
       "      <td>NaN</td>\n",
       "      <td>20201015.0</td>\n",
       "    </tr>\n",
       "    <tr>\n",
       "      <th>1025</th>\n",
       "      <td>202009</td>\n",
       "      <td>24</td>\n",
       "      <td>세종특별자치시 연기면 보통리</td>\n",
       "      <td>다가구</td>\n",
       "      <td>8m미만</td>\n",
       "      <td>493.86</td>\n",
       "      <td>595.2</td>\n",
       "      <td>90,000</td>\n",
       "      <td>NaN</td>\n",
       "      <td>20201015.0</td>\n",
       "    </tr>\n",
       "    <tr>\n",
       "      <th>1026</th>\n",
       "      <td>202009</td>\n",
       "      <td>24</td>\n",
       "      <td>세종특별자치시 연기면 보통리</td>\n",
       "      <td>다가구</td>\n",
       "      <td>8m미만</td>\n",
       "      <td>493.86</td>\n",
       "      <td>619.8</td>\n",
       "      <td>90,000</td>\n",
       "      <td>NaN</td>\n",
       "      <td>20201015.0</td>\n",
       "    </tr>\n",
       "  </tbody>\n",
       "</table>\n",
       "</div>"
      ],
      "text/plain": [
       "        계약년월  계약일               시군구 주택유형  도로조건  연면적(㎡)  대지면적(㎡) 거래금액(만원)  \\\n",
       "37    201702   18   세종특별자치시 연서면 국촌리   단독  8m미만  104.60    304.0    7,000   \n",
       "44    201702   26  세종특별자치시 조치원읍 신흥리   단독  8m미만   41.31    152.0    2,000   \n",
       "68    201703   15   세종특별자치시 전동면 심중리   단독  8m미만   61.16    347.0   12,353   \n",
       "278   201711   20   세종특별자치시 장군면 금암리   단독  8m미만   88.45    567.0   27,400   \n",
       "827   202003   18   세종특별자치시 장군면 금암리   단독  8m미만  185.92   1104.0   90,000   \n",
       "1021  202009   24   세종특별자치시 연기면 보통리  다가구  8m미만  493.86    505.0   90,000   \n",
       "1023  202009   24   세종특별자치시 연기면 보통리  다가구  8m미만  493.86    532.0   90,000   \n",
       "1025  202009   24   세종특별자치시 연기면 보통리  다가구  8m미만  493.86    595.2   90,000   \n",
       "1026  202009   24   세종특별자치시 연기면 보통리  다가구  8m미만  493.86    619.8   90,000   \n",
       "\n",
       "      건축년도     해제사유발생일  \n",
       "37     NaN         NaN  \n",
       "44     NaN         NaN  \n",
       "68     NaN         NaN  \n",
       "278    NaN         NaN  \n",
       "827    NaN  20200519.0  \n",
       "1021   NaN  20201015.0  \n",
       "1023   NaN  20201015.0  \n",
       "1025   NaN  20201015.0  \n",
       "1026   NaN  20201015.0  "
      ]
     },
     "execution_count": 4,
     "metadata": {},
     "output_type": "execute_result"
    }
   ],
   "source": [
    "danta[danta['건축년도'].isnull()]"
   ]
  },
  {
   "cell_type": "markdown",
   "metadata": {},
   "source": [
    "#### 결측치 제거를 위한 데이터 정제"
   ]
  },
  {
   "cell_type": "code",
   "execution_count": 5,
   "metadata": {
    "ExecuteTime": {
     "end_time": "2021-03-25T01:10:14.193865Z",
     "start_time": "2021-03-25T01:10:14.164943Z"
    }
   },
   "outputs": [],
   "source": [
    "danta[\"평\"]=danta[\"연면적(㎡)\"].apply(pyeong)\n",
    "danta['읍면동구분']=danta['시군구'].apply(sort_dong)\n",
    "danta['읍면동']=danta['시군구'].apply(sort_dong2)\n",
    "danta[\"도로\"]=danta[\"도로조건\"].apply(rep)"
   ]
  },
  {
   "cell_type": "markdown",
   "metadata": {},
   "source": [
    "#### 머신러닝을 처리하기 위한 문자의 숫자화"
   ]
  },
  {
   "cell_type": "code",
   "execution_count": 7,
   "metadata": {
    "ExecuteTime": {
     "end_time": "2021-03-25T01:10:14.223785Z",
     "start_time": "2021-03-25T01:10:14.212815Z"
    }
   },
   "outputs": [],
   "source": [
    "from sklearn.preprocessing import LabelEncoder\n",
    "labelencoder_x= LabelEncoder()\n",
    "y = danta[\"시군구\"]\n",
    "danta[\"시군구2\"]=labelencoder_x.fit_transform(y)\n",
    "z = danta[\"주택유형\"]\n",
    "danta[\"주택유형2\"]=labelencoder_x.fit_transform(z)\n",
    "danta['거래금액2(만원)']= danta['거래금액(만원)'].apply(riri)"
   ]
  },
  {
   "cell_type": "markdown",
   "metadata": {},
   "source": [
    "#### 선형회귀를 통한 머신러닝"
   ]
  },
  {
   "cell_type": "code",
   "execution_count": 8,
   "metadata": {
    "ExecuteTime": {
     "end_time": "2021-03-25T01:10:14.315322Z",
     "start_time": "2021-03-25T01:10:14.226780Z"
    }
   },
   "outputs": [],
   "source": [
    "from sklearn.linear_model import LinearRegression\n",
    "lm = LinearRegression()"
   ]
  },
  {
   "cell_type": "code",
   "execution_count": 9,
   "metadata": {
    "ExecuteTime": {
     "end_time": "2021-03-25T01:10:14.347234Z",
     "start_time": "2021-03-25T01:10:14.317314Z"
    }
   },
   "outputs": [
    {
     "data": {
      "text/html": [
       "<div>\n",
       "<style scoped>\n",
       "    .dataframe tbody tr th:only-of-type {\n",
       "        vertical-align: middle;\n",
       "    }\n",
       "\n",
       "    .dataframe tbody tr th {\n",
       "        vertical-align: top;\n",
       "    }\n",
       "\n",
       "    .dataframe thead th {\n",
       "        text-align: right;\n",
       "    }\n",
       "</style>\n",
       "<table border=\"1\" class=\"dataframe\">\n",
       "  <thead>\n",
       "    <tr style=\"text-align: right;\">\n",
       "      <th></th>\n",
       "      <th>계약년월</th>\n",
       "      <th>계약일</th>\n",
       "      <th>시군구</th>\n",
       "      <th>주택유형</th>\n",
       "      <th>도로조건</th>\n",
       "      <th>연면적(㎡)</th>\n",
       "      <th>대지면적(㎡)</th>\n",
       "      <th>거래금액(만원)</th>\n",
       "      <th>건축년도</th>\n",
       "      <th>해제사유발생일</th>\n",
       "      <th>평</th>\n",
       "      <th>읍면동구분</th>\n",
       "      <th>읍면동</th>\n",
       "      <th>도로</th>\n",
       "      <th>시군구2</th>\n",
       "      <th>주택유형2</th>\n",
       "      <th>거래금액2(만원)</th>\n",
       "    </tr>\n",
       "  </thead>\n",
       "  <tbody>\n",
       "    <tr>\n",
       "      <th>37</th>\n",
       "      <td>201702</td>\n",
       "      <td>18</td>\n",
       "      <td>세종특별자치시 연서면 국촌리</td>\n",
       "      <td>단독</td>\n",
       "      <td>8m미만</td>\n",
       "      <td>104.60</td>\n",
       "      <td>304.0</td>\n",
       "      <td>7,000</td>\n",
       "      <td>NaN</td>\n",
       "      <td>NaN</td>\n",
       "      <td>30~40평</td>\n",
       "      <td>면</td>\n",
       "      <td>연서면</td>\n",
       "      <td>8</td>\n",
       "      <td>53</td>\n",
       "      <td>1</td>\n",
       "      <td>7000</td>\n",
       "    </tr>\n",
       "    <tr>\n",
       "      <th>44</th>\n",
       "      <td>201702</td>\n",
       "      <td>26</td>\n",
       "      <td>세종특별자치시 조치원읍 신흥리</td>\n",
       "      <td>단독</td>\n",
       "      <td>8m미만</td>\n",
       "      <td>41.31</td>\n",
       "      <td>152.0</td>\n",
       "      <td>2,000</td>\n",
       "      <td>NaN</td>\n",
       "      <td>NaN</td>\n",
       "      <td>10~20평</td>\n",
       "      <td>읍</td>\n",
       "      <td>조치원읍</td>\n",
       "      <td>8</td>\n",
       "      <td>108</td>\n",
       "      <td>1</td>\n",
       "      <td>2000</td>\n",
       "    </tr>\n",
       "    <tr>\n",
       "      <th>68</th>\n",
       "      <td>201703</td>\n",
       "      <td>15</td>\n",
       "      <td>세종특별자치시 전동면 심중리</td>\n",
       "      <td>단독</td>\n",
       "      <td>8m미만</td>\n",
       "      <td>61.16</td>\n",
       "      <td>347.0</td>\n",
       "      <td>12,353</td>\n",
       "      <td>NaN</td>\n",
       "      <td>NaN</td>\n",
       "      <td>10~20평</td>\n",
       "      <td>면</td>\n",
       "      <td>전동면</td>\n",
       "      <td>8</td>\n",
       "      <td>85</td>\n",
       "      <td>1</td>\n",
       "      <td>12353</td>\n",
       "    </tr>\n",
       "    <tr>\n",
       "      <th>278</th>\n",
       "      <td>201711</td>\n",
       "      <td>20</td>\n",
       "      <td>세종특별자치시 장군면 금암리</td>\n",
       "      <td>단독</td>\n",
       "      <td>8m미만</td>\n",
       "      <td>88.45</td>\n",
       "      <td>567.0</td>\n",
       "      <td>27,400</td>\n",
       "      <td>NaN</td>\n",
       "      <td>NaN</td>\n",
       "      <td>20~30평</td>\n",
       "      <td>면</td>\n",
       "      <td>장군면</td>\n",
       "      <td>8</td>\n",
       "      <td>65</td>\n",
       "      <td>1</td>\n",
       "      <td>27400</td>\n",
       "    </tr>\n",
       "  </tbody>\n",
       "</table>\n",
       "</div>"
      ],
      "text/plain": [
       "       계약년월  계약일               시군구 주택유형  도로조건  연면적(㎡)  대지면적(㎡) 거래금액(만원)  건축년도  \\\n",
       "37   201702   18   세종특별자치시 연서면 국촌리   단독  8m미만  104.60    304.0    7,000   NaN   \n",
       "44   201702   26  세종특별자치시 조치원읍 신흥리   단독  8m미만   41.31    152.0    2,000   NaN   \n",
       "68   201703   15   세종특별자치시 전동면 심중리   단독  8m미만   61.16    347.0   12,353   NaN   \n",
       "278  201711   20   세종특별자치시 장군면 금암리   단독  8m미만   88.45    567.0   27,400   NaN   \n",
       "\n",
       "     해제사유발생일       평 읍면동구분   읍면동 도로  시군구2  주택유형2  거래금액2(만원)  \n",
       "37       NaN  30~40평     면   연서면  8    53      1       7000  \n",
       "44       NaN  10~20평     읍  조치원읍  8   108      1       2000  \n",
       "68       NaN  10~20평     면   전동면  8    85      1      12353  \n",
       "278      NaN  20~30평     면   장군면  8    65      1      27400  "
      ]
     },
     "execution_count": 9,
     "metadata": {},
     "output_type": "execute_result"
    }
   ],
   "source": [
    "danta_null=danta[danta['건축년도'].isnull()&danta['해제사유발생일'].isnull()]\n",
    "danta_null"
   ]
  },
  {
   "cell_type": "code",
   "execution_count": 10,
   "metadata": {
    "ExecuteTime": {
     "end_time": "2021-03-25T01:10:14.362194Z",
     "start_time": "2021-03-25T01:10:14.349665Z"
    }
   },
   "outputs": [],
   "source": [
    "#null 값이 아닌 것만 뽑아오기\n",
    "idx_not=danta[danta['건축년도'].isnull()].index\n",
    "danta_notnull=danta.drop(idx_not)"
   ]
  },
  {
   "cell_type": "code",
   "execution_count": 11,
   "metadata": {
    "ExecuteTime": {
     "end_time": "2021-03-25T01:10:14.377158Z",
     "start_time": "2021-03-25T01:10:14.365187Z"
    }
   },
   "outputs": [],
   "source": [
    "X = danta_notnull[[\"계약년월\",\"연면적(㎡)\",\"대지면적(㎡)\",\"거래금액2(만원)\",\"도로\",\"시군구2\",\"주택유형2\"]]\n",
    "y = danta_notnull['건축년도']"
   ]
  },
  {
   "cell_type": "code",
   "execution_count": 12,
   "metadata": {
    "ExecuteTime": {
     "end_time": "2021-03-25T01:10:14.424028Z",
     "start_time": "2021-03-25T01:10:14.382141Z"
    }
   },
   "outputs": [
    {
     "data": {
      "text/plain": [
       "LinearRegression()"
      ]
     },
     "execution_count": 12,
     "metadata": {},
     "output_type": "execute_result"
    }
   ],
   "source": [
    "lm.fit(X,y)"
   ]
  },
  {
   "cell_type": "code",
   "execution_count": 13,
   "metadata": {
    "ExecuteTime": {
     "end_time": "2021-03-25T01:10:14.438989Z",
     "start_time": "2021-03-25T01:10:14.426023Z"
    }
   },
   "outputs": [],
   "source": [
    "X2 = danta_null[[\"계약년월\",\"연면적(㎡)\",\"대지면적(㎡)\",\"거래금액2(만원)\",\"도로\",\"시군구2\",\"주택유형2\"]]"
   ]
  },
  {
   "cell_type": "code",
   "execution_count": 14,
   "metadata": {
    "ExecuteTime": {
     "end_time": "2021-03-25T01:10:14.454945Z",
     "start_time": "2021-03-25T01:10:14.440984Z"
    }
   },
   "outputs": [],
   "source": [
    "predictions = lm.predict(X2)\n",
    "predictions=predictions.astype(int)"
   ]
  },
  {
   "cell_type": "code",
   "execution_count": 15,
   "metadata": {
    "ExecuteTime": {
     "end_time": "2021-03-25T01:10:14.470904Z",
     "start_time": "2021-03-25T01:10:14.455943Z"
    }
   },
   "outputs": [],
   "source": [
    "for i in range(len(danta_null.index)):\n",
    "    danta.loc[ danta_null.index[i] , \"건축년도\" ]=int(predictions[i])"
   ]
  },
  {
   "cell_type": "markdown",
   "metadata": {},
   "source": [
    "#### 건축년도 예측"
   ]
  },
  {
   "cell_type": "code",
   "execution_count": 16,
   "metadata": {
    "ExecuteTime": {
     "end_time": "2021-03-25T01:10:14.501821Z",
     "start_time": "2021-03-25T01:10:14.472898Z"
    }
   },
   "outputs": [
    {
     "data": {
      "text/html": [
       "<div>\n",
       "<style scoped>\n",
       "    .dataframe tbody tr th:only-of-type {\n",
       "        vertical-align: middle;\n",
       "    }\n",
       "\n",
       "    .dataframe tbody tr th {\n",
       "        vertical-align: top;\n",
       "    }\n",
       "\n",
       "    .dataframe thead th {\n",
       "        text-align: right;\n",
       "    }\n",
       "</style>\n",
       "<table border=\"1\" class=\"dataframe\">\n",
       "  <thead>\n",
       "    <tr style=\"text-align: right;\">\n",
       "      <th></th>\n",
       "      <th>계약년월</th>\n",
       "      <th>계약일</th>\n",
       "      <th>시군구</th>\n",
       "      <th>주택유형</th>\n",
       "      <th>도로조건</th>\n",
       "      <th>연면적(㎡)</th>\n",
       "      <th>대지면적(㎡)</th>\n",
       "      <th>거래금액(만원)</th>\n",
       "      <th>건축년도</th>\n",
       "      <th>해제사유발생일</th>\n",
       "      <th>평</th>\n",
       "      <th>읍면동구분</th>\n",
       "      <th>읍면동</th>\n",
       "      <th>도로</th>\n",
       "      <th>시군구2</th>\n",
       "      <th>주택유형2</th>\n",
       "      <th>거래금액2(만원)</th>\n",
       "    </tr>\n",
       "  </thead>\n",
       "  <tbody>\n",
       "    <tr>\n",
       "      <th>37</th>\n",
       "      <td>201702</td>\n",
       "      <td>18</td>\n",
       "      <td>세종특별자치시 연서면 국촌리</td>\n",
       "      <td>단독</td>\n",
       "      <td>8m미만</td>\n",
       "      <td>104.60</td>\n",
       "      <td>304.0</td>\n",
       "      <td>7,000</td>\n",
       "      <td>1985.0</td>\n",
       "      <td>NaN</td>\n",
       "      <td>30~40평</td>\n",
       "      <td>면</td>\n",
       "      <td>연서면</td>\n",
       "      <td>8</td>\n",
       "      <td>53</td>\n",
       "      <td>1</td>\n",
       "      <td>7000</td>\n",
       "    </tr>\n",
       "    <tr>\n",
       "      <th>44</th>\n",
       "      <td>201702</td>\n",
       "      <td>26</td>\n",
       "      <td>세종특별자치시 조치원읍 신흥리</td>\n",
       "      <td>단독</td>\n",
       "      <td>8m미만</td>\n",
       "      <td>41.31</td>\n",
       "      <td>152.0</td>\n",
       "      <td>2,000</td>\n",
       "      <td>1978.0</td>\n",
       "      <td>NaN</td>\n",
       "      <td>10~20평</td>\n",
       "      <td>읍</td>\n",
       "      <td>조치원읍</td>\n",
       "      <td>8</td>\n",
       "      <td>108</td>\n",
       "      <td>1</td>\n",
       "      <td>2000</td>\n",
       "    </tr>\n",
       "    <tr>\n",
       "      <th>68</th>\n",
       "      <td>201703</td>\n",
       "      <td>15</td>\n",
       "      <td>세종특별자치시 전동면 심중리</td>\n",
       "      <td>단독</td>\n",
       "      <td>8m미만</td>\n",
       "      <td>61.16</td>\n",
       "      <td>347.0</td>\n",
       "      <td>12,353</td>\n",
       "      <td>1982.0</td>\n",
       "      <td>NaN</td>\n",
       "      <td>10~20평</td>\n",
       "      <td>면</td>\n",
       "      <td>전동면</td>\n",
       "      <td>8</td>\n",
       "      <td>85</td>\n",
       "      <td>1</td>\n",
       "      <td>12353</td>\n",
       "    </tr>\n",
       "    <tr>\n",
       "      <th>278</th>\n",
       "      <td>201711</td>\n",
       "      <td>20</td>\n",
       "      <td>세종특별자치시 장군면 금암리</td>\n",
       "      <td>단독</td>\n",
       "      <td>8m미만</td>\n",
       "      <td>88.45</td>\n",
       "      <td>567.0</td>\n",
       "      <td>27,400</td>\n",
       "      <td>1986.0</td>\n",
       "      <td>NaN</td>\n",
       "      <td>20~30평</td>\n",
       "      <td>면</td>\n",
       "      <td>장군면</td>\n",
       "      <td>8</td>\n",
       "      <td>65</td>\n",
       "      <td>1</td>\n",
       "      <td>27400</td>\n",
       "    </tr>\n",
       "  </tbody>\n",
       "</table>\n",
       "</div>"
      ],
      "text/plain": [
       "       계약년월  계약일               시군구 주택유형  도로조건  연면적(㎡)  대지면적(㎡) 거래금액(만원)  \\\n",
       "37   201702   18   세종특별자치시 연서면 국촌리   단독  8m미만  104.60    304.0    7,000   \n",
       "44   201702   26  세종특별자치시 조치원읍 신흥리   단독  8m미만   41.31    152.0    2,000   \n",
       "68   201703   15   세종특별자치시 전동면 심중리   단독  8m미만   61.16    347.0   12,353   \n",
       "278  201711   20   세종특별자치시 장군면 금암리   단독  8m미만   88.45    567.0   27,400   \n",
       "\n",
       "       건축년도  해제사유발생일       평 읍면동구분   읍면동 도로  시군구2  주택유형2  거래금액2(만원)  \n",
       "37   1985.0      NaN  30~40평     면   연서면  8    53      1       7000  \n",
       "44   1978.0      NaN  10~20평     읍  조치원읍  8   108      1       2000  \n",
       "68   1982.0      NaN  10~20평     면   전동면  8    85      1      12353  \n",
       "278  1986.0      NaN  20~30평     면   장군면  8    65      1      27400  "
      ]
     },
     "execution_count": 16,
     "metadata": {},
     "output_type": "execute_result"
    }
   ],
   "source": [
    "danta.loc[[37,44,68,278]]"
   ]
  },
  {
   "cell_type": "code",
   "execution_count": null,
   "metadata": {},
   "outputs": [],
   "source": []
  }
 ],
 "metadata": {
  "kernelspec": {
   "display_name": "Python 3",
   "language": "python",
   "name": "python3"
  },
  "language_info": {
   "codemirror_mode": {
    "name": "ipython",
    "version": 3
   },
   "file_extension": ".py",
   "mimetype": "text/x-python",
   "name": "python",
   "nbconvert_exporter": "python",
   "pygments_lexer": "ipython3",
   "version": "3.8.5"
  },
  "toc": {
   "base_numbering": 1,
   "nav_menu": {},
   "number_sections": true,
   "sideBar": true,
   "skip_h1_title": false,
   "title_cell": "Table of Contents",
   "title_sidebar": "Contents",
   "toc_cell": false,
   "toc_position": {},
   "toc_section_display": true,
   "toc_window_display": false
  },
  "varInspector": {
   "cols": {
    "lenName": 16,
    "lenType": 16,
    "lenVar": 40
   },
   "kernels_config": {
    "python": {
     "delete_cmd_postfix": "",
     "delete_cmd_prefix": "del ",
     "library": "var_list.py",
     "varRefreshCmd": "print(var_dic_list())"
    },
    "r": {
     "delete_cmd_postfix": ") ",
     "delete_cmd_prefix": "rm(",
     "library": "var_list.r",
     "varRefreshCmd": "cat(var_dic_list()) "
    }
   },
   "types_to_exclude": [
    "module",
    "function",
    "builtin_function_or_method",
    "instance",
    "_Feature"
   ],
   "window_display": false
  }
 },
 "nbformat": 4,
 "nbformat_minor": 4
}
