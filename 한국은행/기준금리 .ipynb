{
 "cells": [
  {
   "cell_type": "markdown",
   "metadata": {},
   "source": [
    "# 기준금리 크롤링 코드"
   ]
  },
  {
   "cell_type": "code",
   "execution_count": 3,
   "metadata": {},
   "outputs": [],
   "source": [
    "import csv\n",
    "from bs4 import BeautifulSoup\n",
    "import requests\n",
    "import pandas as pd\n",
    "\n",
    "date=[]\n",
    "nom_rate=[]\n",
    "url = 'https://www.bok.or.kr/portal/singl/baseRate/list.do?dataSeCd=01&menuNo=200643'\n",
    "r = requests.get(url)\n",
    "html = r.content\n",
    "soup = BeautifulSoup(html, 'html.parser')\n",
    "tr = soup.select('.fixed tbody tr')\n",
    "for i in range(1, len(tr)-1):\n",
    "    if tr[i].select('td')[0].text.strip():\n",
    "        a=tr[i].select('td')[0].text.strip()+'.'\n",
    "        b=tr[i].select('td')[1].text.strip().replace('월 ','.').replace('일','')\n",
    "        c=tr[i].select('td')[2].text.strip()\n",
    "        date.append(a+b)\n",
    "        nom_rate.append(c)\n",
    "nom_rate={'날짜':date,'기준금리':nom_rate}\n",
    "nom_rate=pd.DataFrame(nom_rate)\n",
    "nom_rate.to_csv('nom_rate.csv',encoding='utf-8')\n"
   ]
  },
  {
   "cell_type": "code",
   "execution_count": null,
   "metadata": {},
   "outputs": [],
   "source": []
  }
 ],
 "metadata": {
  "kernelspec": {
   "display_name": "Python 3",
   "language": "python",
   "name": "python3"
  },
  "language_info": {
   "codemirror_mode": {
    "name": "ipython",
    "version": 3
   },
   "file_extension": ".py",
   "mimetype": "text/x-python",
   "name": "python",
   "nbconvert_exporter": "python",
   "pygments_lexer": "ipython3",
   "version": "3.8.5"
  }
 },
 "nbformat": 4,
 "nbformat_minor": 4
}
