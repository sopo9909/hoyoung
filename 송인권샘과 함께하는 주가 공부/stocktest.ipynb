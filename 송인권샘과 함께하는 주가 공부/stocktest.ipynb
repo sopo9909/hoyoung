{
 "cells": [
  {
   "cell_type": "markdown",
   "id": "worth-lucas",
   "metadata": {},
   "source": [
    "# 금융분석\n",
    " * 주식 시뮬레이션 1\n",
    " * 저가에 매수 고가에 매도\n",
    " * 데일리 트레이더- 일일 매매 전략\n",
    " * 오리온(주) 테스트\n"
   ]
  },
  {
   "cell_type": "code",
   "execution_count": 3,
   "id": "recent-mentor",
   "metadata": {},
   "outputs": [],
   "source": [
    "import numpy as np\n",
    "import pandas as pd\n",
    "import requests\n",
    "from bs4 import BeautifulSoup as bsp\n",
    "import matplotlib as mpl\n",
    "import matplotlib.pyplot as plt\n",
    "import sqlite3"
   ]
  },
  {
   "cell_type": "code",
   "execution_count": 4,
   "id": "exact-objective",
   "metadata": {},
   "outputs": [
    {
     "data": {
      "text/plain": [
       "'https://finance.naver.com/item/sise_day.nhn?code=271560&page=2'"
      ]
     },
     "execution_count": 4,
     "metadata": {},
     "output_type": "execute_result"
    }
   ],
   "source": [
    "code=271560\n",
    "pgno=2\n",
    "url='https://finance.naver.com/item/sise_day.nhn?code={0}&page={1}'\n",
    "tgurl=url.format(code,pgno)\n",
    "tgurl"
   ]
  },
  {
   "cell_type": "code",
   "execution_count": 11,
   "id": "curious-prompt",
   "metadata": {},
   "outputs": [],
   "source": [
    "def getDB():\n",
    "    dbname='stockdata.db'\n",
    "    with sqlite3.connect(dbname) as conn:\n",
    "        cur=conn.cursor()\n",
    "        sql='select * from stockp order by skey asc'\n",
    "        qry=cur.execute(sql)\n",
    "        desc=qry.description\n",
    "        data=qry.fetchall()\n",
    "    return((desc,data))"
   ]
  },
  {
   "cell_type": "code",
   "execution_count": 13,
   "id": "signed-crown",
   "metadata": {},
   "outputs": [
    {
     "data": {
      "text/plain": [
       "(('sidx', None, None, None, None, None, None),\n",
       " ('skey', None, None, None, None, None, None),\n",
       " ('sday', None, None, None, None, None, None),\n",
       " ('sopen', None, None, None, None, None, None),\n",
       " ('shigh', None, None, None, None, None, None),\n",
       " ('slow', None, None, None, None, None, None),\n",
       " ('sclose', None, None, None, None, None, None),\n",
       " ('svol', None, None, None, None, None, None))"
      ]
     },
     "execution_count": 13,
     "metadata": {},
     "output_type": "execute_result"
    }
   ],
   "source": [
    "res=getDB()\n",
    "res[0]"
   ]
  },
  {
   "cell_type": "code",
   "execution_count": 12,
   "id": "secure-lemon",
   "metadata": {},
   "outputs": [
    {
     "data": {
      "text/html": [
       "<div>\n",
       "<style scoped>\n",
       "    .dataframe tbody tr th:only-of-type {\n",
       "        vertical-align: middle;\n",
       "    }\n",
       "\n",
       "    .dataframe tbody tr th {\n",
       "        vertical-align: top;\n",
       "    }\n",
       "\n",
       "    .dataframe thead th {\n",
       "        text-align: right;\n",
       "    }\n",
       "</style>\n",
       "<table border=\"1\" class=\"dataframe\">\n",
       "  <thead>\n",
       "    <tr style=\"text-align: right;\">\n",
       "      <th></th>\n",
       "      <th>0</th>\n",
       "      <th>1</th>\n",
       "      <th>2</th>\n",
       "      <th>3</th>\n",
       "      <th>4</th>\n",
       "      <th>5</th>\n",
       "      <th>6</th>\n",
       "      <th>7</th>\n",
       "    </tr>\n",
       "  </thead>\n",
       "  <tbody>\n",
       "    <tr>\n",
       "      <th>0</th>\n",
       "      <td>895</td>\n",
       "      <td>20170707</td>\n",
       "      <td>2017-07-07</td>\n",
       "      <td>87100</td>\n",
       "      <td>89700</td>\n",
       "      <td>75700</td>\n",
       "      <td>82300</td>\n",
       "      <td>1619864</td>\n",
       "    </tr>\n",
       "    <tr>\n",
       "      <th>1</th>\n",
       "      <td>894</td>\n",
       "      <td>20170710</td>\n",
       "      <td>2017-07-10</td>\n",
       "      <td>82300</td>\n",
       "      <td>88000</td>\n",
       "      <td>81000</td>\n",
       "      <td>88000</td>\n",
       "      <td>840451</td>\n",
       "    </tr>\n",
       "    <tr>\n",
       "      <th>2</th>\n",
       "      <td>893</td>\n",
       "      <td>20170711</td>\n",
       "      <td>2017-07-11</td>\n",
       "      <td>88000</td>\n",
       "      <td>88000</td>\n",
       "      <td>82700</td>\n",
       "      <td>82800</td>\n",
       "      <td>422303</td>\n",
       "    </tr>\n",
       "    <tr>\n",
       "      <th>3</th>\n",
       "      <td>892</td>\n",
       "      <td>20170712</td>\n",
       "      <td>2017-07-12</td>\n",
       "      <td>83700</td>\n",
       "      <td>84600</td>\n",
       "      <td>80000</td>\n",
       "      <td>83500</td>\n",
       "      <td>238407</td>\n",
       "    </tr>\n",
       "    <tr>\n",
       "      <th>4</th>\n",
       "      <td>891</td>\n",
       "      <td>20170713</td>\n",
       "      <td>2017-07-13</td>\n",
       "      <td>83400</td>\n",
       "      <td>84000</td>\n",
       "      <td>80800</td>\n",
       "      <td>81600</td>\n",
       "      <td>218138</td>\n",
       "    </tr>\n",
       "  </tbody>\n",
       "</table>\n",
       "</div>"
      ],
      "text/plain": [
       "     0         1           2      3      4      5      6        7\n",
       "0  895  20170707  2017-07-07  87100  89700  75700  82300  1619864\n",
       "1  894  20170710  2017-07-10  82300  88000  81000  88000   840451\n",
       "2  893  20170711  2017-07-11  88000  88000  82700  82800   422303\n",
       "3  892  20170712  2017-07-12  83700  84600  80000  83500   238407\n",
       "4  891  20170713  2017-07-13  83400  84000  80800  81600   218138"
      ]
     },
     "execution_count": 12,
     "metadata": {},
     "output_type": "execute_result"
    }
   ],
   "source": [
    "\n",
    "df=pd.DataFrame(res[1])\n",
    "df.head()"
   ]
  },
  {
   "cell_type": "code",
   "execution_count": null,
   "id": "historic-firmware",
   "metadata": {},
   "outputs": [],
   "source": []
  }
 ],
 "metadata": {
  "kernelspec": {
   "display_name": "Python 3",
   "language": "python",
   "name": "python3"
  },
  "language_info": {
   "codemirror_mode": {
    "name": "ipython",
    "version": 3
   },
   "file_extension": ".py",
   "mimetype": "text/x-python",
   "name": "python",
   "nbconvert_exporter": "python",
   "pygments_lexer": "ipython3",
   "version": "3.8.5"
  }
 },
 "nbformat": 4,
 "nbformat_minor": 5
}
