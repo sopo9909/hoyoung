{
 "cells": [
  {
   "cell_type": "code",
   "execution_count": 1,
   "metadata": {
    "ExecuteTime": {
     "end_time": "2021-03-04T03:19:42.371178Z",
     "start_time": "2021-03-04T03:19:41.416195Z"
    }
   },
   "outputs": [],
   "source": [
    "import pandas as pd\n",
    "import numpy as np\n",
    "import matplotlib.pyplot as plt"
   ]
  },
  {
   "cell_type": "code",
   "execution_count": 2,
   "metadata": {
    "ExecuteTime": {
     "end_time": "2021-03-04T03:19:42.448971Z",
     "start_time": "2021-03-04T03:19:42.373174Z"
    }
   },
   "outputs": [],
   "source": [
    "data = pd.read_csv('C:/Users/sopo9/Downloads/SBJ_2102_001/3.세종시_아파트(매매)_실거래가.csv')"
   ]
  },
  {
   "cell_type": "markdown",
   "metadata": {},
   "source": [
    "### 아파트 계약년월일 기준 오름차순"
   ]
  },
  {
   "cell_type": "code",
   "execution_count": 3,
   "metadata": {},
   "outputs": [],
   "source": [
    "#읍면동 구분하는 함수\n",
    "def sort_dong(df):\n",
    "    a=df.split(\" \")\n",
    "    if a[1][-1]=='동':\n",
    "        return '동'\n",
    "    elif a[1][-1]=='면':\n",
    "        return '면'\n",
    "    else :\n",
    "        return '읍'\n",
    "data['읍면동구분']=data['시군구'].apply(sort_dong)"
   ]
  },
  {
   "cell_type": "code",
   "execution_count": 4,
   "metadata": {},
   "outputs": [],
   "source": [
    "#동 구분하는 함수\n",
    "def sort_dong2(df):\n",
    "    a=df.split(\" \")\n",
    "    return a[1]\n",
    "data['읍면동']=data['시군구'].apply(sort_dong2)"
   ]
  },
  {
   "cell_type": "code",
   "execution_count": 5,
   "metadata": {},
   "outputs": [
    {
     "output_type": "execute_result",
     "data": {
      "text/plain": [
       "array(['고운동', '금남면', '나성동', '도담동', '보람동', '부강면', '소담동', '아름동', '어진동',\n",
       "       '연동면', '연서면', '장군면', '전동면', '전의면', '조치원읍', '종촌동', '한솔동', '소정면',\n",
       "       '새롬동', '다정동', '대평동', '반곡동', '가람동'], dtype=object)"
      ]
     },
     "metadata": {},
     "execution_count": 5
    }
   ],
   "source": [
    "data['읍면동'].unique()"
   ]
  },
  {
   "cell_type": "code",
   "execution_count": 80,
   "metadata": {},
   "outputs": [
    {
     "output_type": "execute_result",
     "data": {
      "text/plain": [
       "      계약년월   계약일   시군구    본번    부번   단지명  전용면적(㎡)  거래금액(만원)     층  건축년도  \\\n",
       "읍면동                                                                       \n",
       "가람동      1     1     1     1     1     1        1         1     1     1   \n",
       "고운동   1984  1984  1984  1984  1984  1984     1984      1984  1984  1984   \n",
       "금남면    432   432   432   432   432   432      432       432   432   432   \n",
       "나성동    290   290   290   290   290   290      290       290   290   290   \n",
       "다정동    592   592   592   592   592   592      592       592   592   592   \n",
       "대평동    167   167   167   167   167   167      167       167   167   167   \n",
       "도담동   1589  1589  1589  1589  1589  1589     1589      1589  1589  1589   \n",
       "반곡동    103   103   103   103   103   103      103       103   103   103   \n",
       "보람동    380   380   380   380   380   380      380       380   380   380   \n",
       "부강면     93    93    93    93    93    93       93        93    93    93   \n",
       "새롬동    634   634   634   634   634   634      634       634   634   634   \n",
       "소담동    577   577   577   577   577   577      577       577   577   577   \n",
       "소정면     21    21    21    21    21    21       21        21    21    21   \n",
       "아름동   2329  2329  2329  2329  2329  2329     2329      2329  2329  2329   \n",
       "어진동    422   422   422   422   422   422      422       422   422   422   \n",
       "연동면    178   178   178   178   178   178      178       178   178   178   \n",
       "연서면    129   129   129   129   129   129      129       129   129   129   \n",
       "장군면     71    71    71    71    71    71       71        71    71    71   \n",
       "전동면     21    21    21    21    21    21       21        21    21    21   \n",
       "전의면    104   104   104   104   104   104      104       104   104   104   \n",
       "조치원읍  3583  3583  3583  3583  3583  3583     3583      3583  3583  3583   \n",
       "종촌동   2790  2790  2790  2790  2790  2790     2790      2790  2790  2790   \n",
       "한솔동   1919  1919  1919  1919  1919  1919     1919      1919  1919  1919   \n",
       "\n",
       "      해제사유발생일  읍면동구분     평  \n",
       "읍면동                         \n",
       "가람동         0      1     1  \n",
       "고운동        55   1984  1984  \n",
       "금남면        12    432   432  \n",
       "나성동        10    290   290  \n",
       "다정동        27    592   592  \n",
       "대평동         8    167   167  \n",
       "도담동        45   1589  1589  \n",
       "반곡동         8    103   103  \n",
       "보람동        32    380   380  \n",
       "부강면         2     93    93  \n",
       "새롬동        25    634   634  \n",
       "소담동        30    577   577  \n",
       "소정면         0     21    21  \n",
       "아름동        30   2329  2329  \n",
       "어진동        12    422   422  \n",
       "연동면         6    178   178  \n",
       "연서면         6    129   129  \n",
       "장군면         0     71    71  \n",
       "전동면         0     21    21  \n",
       "전의면         2    104   104  \n",
       "조치원읍      106   3583  3583  \n",
       "종촌동        46   2790  2790  \n",
       "한솔동        28   1919  1919  "
      ],
      "text/html": "<div>\n<style scoped>\n    .dataframe tbody tr th:only-of-type {\n        vertical-align: middle;\n    }\n\n    .dataframe tbody tr th {\n        vertical-align: top;\n    }\n\n    .dataframe thead th {\n        text-align: right;\n    }\n</style>\n<table border=\"1\" class=\"dataframe\">\n  <thead>\n    <tr style=\"text-align: right;\">\n      <th></th>\n      <th>계약년월</th>\n      <th>계약일</th>\n      <th>시군구</th>\n      <th>본번</th>\n      <th>부번</th>\n      <th>단지명</th>\n      <th>전용면적(㎡)</th>\n      <th>거래금액(만원)</th>\n      <th>층</th>\n      <th>건축년도</th>\n      <th>해제사유발생일</th>\n      <th>읍면동구분</th>\n      <th>평</th>\n    </tr>\n    <tr>\n      <th>읍면동</th>\n      <th></th>\n      <th></th>\n      <th></th>\n      <th></th>\n      <th></th>\n      <th></th>\n      <th></th>\n      <th></th>\n      <th></th>\n      <th></th>\n      <th></th>\n      <th></th>\n      <th></th>\n    </tr>\n  </thead>\n  <tbody>\n    <tr>\n      <th>가람동</th>\n      <td>1</td>\n      <td>1</td>\n      <td>1</td>\n      <td>1</td>\n      <td>1</td>\n      <td>1</td>\n      <td>1</td>\n      <td>1</td>\n      <td>1</td>\n      <td>1</td>\n      <td>0</td>\n      <td>1</td>\n      <td>1</td>\n    </tr>\n    <tr>\n      <th>고운동</th>\n      <td>1984</td>\n      <td>1984</td>\n      <td>1984</td>\n      <td>1984</td>\n      <td>1984</td>\n      <td>1984</td>\n      <td>1984</td>\n      <td>1984</td>\n      <td>1984</td>\n      <td>1984</td>\n      <td>55</td>\n      <td>1984</td>\n      <td>1984</td>\n    </tr>\n    <tr>\n      <th>금남면</th>\n      <td>432</td>\n      <td>432</td>\n      <td>432</td>\n      <td>432</td>\n      <td>432</td>\n      <td>432</td>\n      <td>432</td>\n      <td>432</td>\n      <td>432</td>\n      <td>432</td>\n      <td>12</td>\n      <td>432</td>\n      <td>432</td>\n    </tr>\n    <tr>\n      <th>나성동</th>\n      <td>290</td>\n      <td>290</td>\n      <td>290</td>\n      <td>290</td>\n      <td>290</td>\n      <td>290</td>\n      <td>290</td>\n      <td>290</td>\n      <td>290</td>\n      <td>290</td>\n      <td>10</td>\n      <td>290</td>\n      <td>290</td>\n    </tr>\n    <tr>\n      <th>다정동</th>\n      <td>592</td>\n      <td>592</td>\n      <td>592</td>\n      <td>592</td>\n      <td>592</td>\n      <td>592</td>\n      <td>592</td>\n      <td>592</td>\n      <td>592</td>\n      <td>592</td>\n      <td>27</td>\n      <td>592</td>\n      <td>592</td>\n    </tr>\n    <tr>\n      <th>대평동</th>\n      <td>167</td>\n      <td>167</td>\n      <td>167</td>\n      <td>167</td>\n      <td>167</td>\n      <td>167</td>\n      <td>167</td>\n      <td>167</td>\n      <td>167</td>\n      <td>167</td>\n      <td>8</td>\n      <td>167</td>\n      <td>167</td>\n    </tr>\n    <tr>\n      <th>도담동</th>\n      <td>1589</td>\n      <td>1589</td>\n      <td>1589</td>\n      <td>1589</td>\n      <td>1589</td>\n      <td>1589</td>\n      <td>1589</td>\n      <td>1589</td>\n      <td>1589</td>\n      <td>1589</td>\n      <td>45</td>\n      <td>1589</td>\n      <td>1589</td>\n    </tr>\n    <tr>\n      <th>반곡동</th>\n      <td>103</td>\n      <td>103</td>\n      <td>103</td>\n      <td>103</td>\n      <td>103</td>\n      <td>103</td>\n      <td>103</td>\n      <td>103</td>\n      <td>103</td>\n      <td>103</td>\n      <td>8</td>\n      <td>103</td>\n      <td>103</td>\n    </tr>\n    <tr>\n      <th>보람동</th>\n      <td>380</td>\n      <td>380</td>\n      <td>380</td>\n      <td>380</td>\n      <td>380</td>\n      <td>380</td>\n      <td>380</td>\n      <td>380</td>\n      <td>380</td>\n      <td>380</td>\n      <td>32</td>\n      <td>380</td>\n      <td>380</td>\n    </tr>\n    <tr>\n      <th>부강면</th>\n      <td>93</td>\n      <td>93</td>\n      <td>93</td>\n      <td>93</td>\n      <td>93</td>\n      <td>93</td>\n      <td>93</td>\n      <td>93</td>\n      <td>93</td>\n      <td>93</td>\n      <td>2</td>\n      <td>93</td>\n      <td>93</td>\n    </tr>\n    <tr>\n      <th>새롬동</th>\n      <td>634</td>\n      <td>634</td>\n      <td>634</td>\n      <td>634</td>\n      <td>634</td>\n      <td>634</td>\n      <td>634</td>\n      <td>634</td>\n      <td>634</td>\n      <td>634</td>\n      <td>25</td>\n      <td>634</td>\n      <td>634</td>\n    </tr>\n    <tr>\n      <th>소담동</th>\n      <td>577</td>\n      <td>577</td>\n      <td>577</td>\n      <td>577</td>\n      <td>577</td>\n      <td>577</td>\n      <td>577</td>\n      <td>577</td>\n      <td>577</td>\n      <td>577</td>\n      <td>30</td>\n      <td>577</td>\n      <td>577</td>\n    </tr>\n    <tr>\n      <th>소정면</th>\n      <td>21</td>\n      <td>21</td>\n      <td>21</td>\n      <td>21</td>\n      <td>21</td>\n      <td>21</td>\n      <td>21</td>\n      <td>21</td>\n      <td>21</td>\n      <td>21</td>\n      <td>0</td>\n      <td>21</td>\n      <td>21</td>\n    </tr>\n    <tr>\n      <th>아름동</th>\n      <td>2329</td>\n      <td>2329</td>\n      <td>2329</td>\n      <td>2329</td>\n      <td>2329</td>\n      <td>2329</td>\n      <td>2329</td>\n      <td>2329</td>\n      <td>2329</td>\n      <td>2329</td>\n      <td>30</td>\n      <td>2329</td>\n      <td>2329</td>\n    </tr>\n    <tr>\n      <th>어진동</th>\n      <td>422</td>\n      <td>422</td>\n      <td>422</td>\n      <td>422</td>\n      <td>422</td>\n      <td>422</td>\n      <td>422</td>\n      <td>422</td>\n      <td>422</td>\n      <td>422</td>\n      <td>12</td>\n      <td>422</td>\n      <td>422</td>\n    </tr>\n    <tr>\n      <th>연동면</th>\n      <td>178</td>\n      <td>178</td>\n      <td>178</td>\n      <td>178</td>\n      <td>178</td>\n      <td>178</td>\n      <td>178</td>\n      <td>178</td>\n      <td>178</td>\n      <td>178</td>\n      <td>6</td>\n      <td>178</td>\n      <td>178</td>\n    </tr>\n    <tr>\n      <th>연서면</th>\n      <td>129</td>\n      <td>129</td>\n      <td>129</td>\n      <td>129</td>\n      <td>129</td>\n      <td>129</td>\n      <td>129</td>\n      <td>129</td>\n      <td>129</td>\n      <td>129</td>\n      <td>6</td>\n      <td>129</td>\n      <td>129</td>\n    </tr>\n    <tr>\n      <th>장군면</th>\n      <td>71</td>\n      <td>71</td>\n      <td>71</td>\n      <td>71</td>\n      <td>71</td>\n      <td>71</td>\n      <td>71</td>\n      <td>71</td>\n      <td>71</td>\n      <td>71</td>\n      <td>0</td>\n      <td>71</td>\n      <td>71</td>\n    </tr>\n    <tr>\n      <th>전동면</th>\n      <td>21</td>\n      <td>21</td>\n      <td>21</td>\n      <td>21</td>\n      <td>21</td>\n      <td>21</td>\n      <td>21</td>\n      <td>21</td>\n      <td>21</td>\n      <td>21</td>\n      <td>0</td>\n      <td>21</td>\n      <td>21</td>\n    </tr>\n    <tr>\n      <th>전의면</th>\n      <td>104</td>\n      <td>104</td>\n      <td>104</td>\n      <td>104</td>\n      <td>104</td>\n      <td>104</td>\n      <td>104</td>\n      <td>104</td>\n      <td>104</td>\n      <td>104</td>\n      <td>2</td>\n      <td>104</td>\n      <td>104</td>\n    </tr>\n    <tr>\n      <th>조치원읍</th>\n      <td>3583</td>\n      <td>3583</td>\n      <td>3583</td>\n      <td>3583</td>\n      <td>3583</td>\n      <td>3583</td>\n      <td>3583</td>\n      <td>3583</td>\n      <td>3583</td>\n      <td>3583</td>\n      <td>106</td>\n      <td>3583</td>\n      <td>3583</td>\n    </tr>\n    <tr>\n      <th>종촌동</th>\n      <td>2790</td>\n      <td>2790</td>\n      <td>2790</td>\n      <td>2790</td>\n      <td>2790</td>\n      <td>2790</td>\n      <td>2790</td>\n      <td>2790</td>\n      <td>2790</td>\n      <td>2790</td>\n      <td>46</td>\n      <td>2790</td>\n      <td>2790</td>\n    </tr>\n    <tr>\n      <th>한솔동</th>\n      <td>1919</td>\n      <td>1919</td>\n      <td>1919</td>\n      <td>1919</td>\n      <td>1919</td>\n      <td>1919</td>\n      <td>1919</td>\n      <td>1919</td>\n      <td>1919</td>\n      <td>1919</td>\n      <td>28</td>\n      <td>1919</td>\n      <td>1919</td>\n    </tr>\n  </tbody>\n</table>\n</div>"
     },
     "metadata": {},
     "execution_count": 80
    }
   ],
   "source": [
    "data.groupby('읍면동').count()"
   ]
  },
  {
   "cell_type": "code",
   "execution_count": 103,
   "metadata": {},
   "outputs": [],
   "source": [
    "def riri(df):\n",
    "    return int(float(df.replace(',','')))\n",
    "data['거래금액(만원)'] =data['거래금액(만원)'].apply(riri)"
   ]
  },
  {
   "cell_type": "code",
   "execution_count": 104,
   "metadata": {},
   "outputs": [
    {
     "output_type": "execute_result",
     "data": {
      "text/plain": [
       "               계약년월        계약일         부번    전용면적(㎡)      거래금액(만원)          층  \\\n",
       "읍면동                                                                             \n",
       "가람동   202006.000000  12.000000   0.000000  59.933100  54000.000000   5.000000   \n",
       "고운동   201894.597782  15.607359   0.000000  75.812906  34431.779738  10.310988   \n",
       "금남면   201852.902778  15.502315   0.000000  52.873269  13959.120370   7.951389   \n",
       "나성동   201890.462069  15.962069   0.000000  27.205074  10585.482759   5.682759   \n",
       "다정동   201980.471284  16.170608   0.000000  81.698369  62177.157095   9.966216   \n",
       "대평동   201965.556886  15.988024   1.149701  84.745504  73175.011976  10.574850   \n",
       "도담동   201870.839522  15.285714   0.000000  74.161839  44911.933291  10.904342   \n",
       "반곡동   202004.854369  15.563107   2.640777  77.063544  57494.951456   8.067961   \n",
       "보람동   201963.273684  15.668421   0.165789  84.261626  65879.284211  10.589474   \n",
       "부강면   201867.817204  15.903226  14.774194  58.348387   7851.290323   6.161290   \n",
       "새롬동   201965.313880  15.990536   0.000000  80.992821  66054.370662  10.195584   \n",
       "소담동   201937.642981  15.525130   1.788562  79.421503  56853.738302  11.202773   \n",
       "소정면   201835.428571  17.523810   1.000000  60.480476   6392.857143   6.571429   \n",
       "아름동   201836.245599  12.920996   0.000000  85.020698  35044.949764  11.605410   \n",
       "어진동   201873.680095  15.530806   0.000000  59.810456  39625.319905   8.016588   \n",
       "연동면   201890.601124  15.685393   0.000000  46.472096   6625.719101   4.921348   \n",
       "연서면   201874.488372  15.558140   0.000000  70.738062  11966.279070   5.387597   \n",
       "장군면   201791.309859  17.267606   0.732394  28.805141   2771.408451   2.633803   \n",
       "전동면   201852.904762  15.714286   0.000000  49.380000   5652.380952   2.142857   \n",
       "전의면   201853.538462  15.000000  12.038462  56.668365   7903.365385   4.807692   \n",
       "조치원읍  201879.395200  15.547028   0.420318  82.511428  16970.891432   7.861848   \n",
       "종촌동   201859.813620  16.105376   0.000000  80.286730  39196.429032  12.029032   \n",
       "한솔동   201854.961959  15.495571   0.000000  90.959136  40881.186555  10.190724   \n",
       "\n",
       "             건축년도       해제사유발생일  \n",
       "읍면동                              \n",
       "가람동   2017.000000           NaN  \n",
       "고운동   2015.162298  2.020095e+07  \n",
       "금남면   2001.199074  2.020069e+07  \n",
       "나성동   2015.096552  2.020077e+07  \n",
       "다정동   2018.030405  2.020112e+07  \n",
       "대평동   2017.778443  2.020199e+07  \n",
       "도담동   2014.454374  2.020077e+07  \n",
       "반곡동   2019.000000  2.020212e+07  \n",
       "보람동   2016.876316  2.020116e+07  \n",
       "부강면   1995.688172  2.020101e+07  \n",
       "새롬동   2017.012618  2.020073e+07  \n",
       "소담동   2016.630849  2.020076e+07  \n",
       "소정면   1996.000000           NaN  \n",
       "아름동   2014.248175  2.020140e+07  \n",
       "어진동   2013.462085  2.020075e+07  \n",
       "연동면   2001.000000  2.020099e+07  \n",
       "연서면   2002.000000  2.020086e+07  \n",
       "장군면   2001.464789           NaN  \n",
       "전동면   1994.000000           NaN  \n",
       "전의면   1996.730769  2.020067e+07  \n",
       "조치원읍  2002.753558  2.020072e+07  \n",
       "종촌동   2014.288889  2.020098e+07  \n",
       "한솔동   2011.675873  2.020076e+07  "
      ],
      "text/html": "<div>\n<style scoped>\n    .dataframe tbody tr th:only-of-type {\n        vertical-align: middle;\n    }\n\n    .dataframe tbody tr th {\n        vertical-align: top;\n    }\n\n    .dataframe thead th {\n        text-align: right;\n    }\n</style>\n<table border=\"1\" class=\"dataframe\">\n  <thead>\n    <tr style=\"text-align: right;\">\n      <th></th>\n      <th>계약년월</th>\n      <th>계약일</th>\n      <th>부번</th>\n      <th>전용면적(㎡)</th>\n      <th>거래금액(만원)</th>\n      <th>층</th>\n      <th>건축년도</th>\n      <th>해제사유발생일</th>\n    </tr>\n    <tr>\n      <th>읍면동</th>\n      <th></th>\n      <th></th>\n      <th></th>\n      <th></th>\n      <th></th>\n      <th></th>\n      <th></th>\n      <th></th>\n    </tr>\n  </thead>\n  <tbody>\n    <tr>\n      <th>가람동</th>\n      <td>202006.000000</td>\n      <td>12.000000</td>\n      <td>0.000000</td>\n      <td>59.933100</td>\n      <td>54000.000000</td>\n      <td>5.000000</td>\n      <td>2017.000000</td>\n      <td>NaN</td>\n    </tr>\n    <tr>\n      <th>고운동</th>\n      <td>201894.597782</td>\n      <td>15.607359</td>\n      <td>0.000000</td>\n      <td>75.812906</td>\n      <td>34431.779738</td>\n      <td>10.310988</td>\n      <td>2015.162298</td>\n      <td>2.020095e+07</td>\n    </tr>\n    <tr>\n      <th>금남면</th>\n      <td>201852.902778</td>\n      <td>15.502315</td>\n      <td>0.000000</td>\n      <td>52.873269</td>\n      <td>13959.120370</td>\n      <td>7.951389</td>\n      <td>2001.199074</td>\n      <td>2.020069e+07</td>\n    </tr>\n    <tr>\n      <th>나성동</th>\n      <td>201890.462069</td>\n      <td>15.962069</td>\n      <td>0.000000</td>\n      <td>27.205074</td>\n      <td>10585.482759</td>\n      <td>5.682759</td>\n      <td>2015.096552</td>\n      <td>2.020077e+07</td>\n    </tr>\n    <tr>\n      <th>다정동</th>\n      <td>201980.471284</td>\n      <td>16.170608</td>\n      <td>0.000000</td>\n      <td>81.698369</td>\n      <td>62177.157095</td>\n      <td>9.966216</td>\n      <td>2018.030405</td>\n      <td>2.020112e+07</td>\n    </tr>\n    <tr>\n      <th>대평동</th>\n      <td>201965.556886</td>\n      <td>15.988024</td>\n      <td>1.149701</td>\n      <td>84.745504</td>\n      <td>73175.011976</td>\n      <td>10.574850</td>\n      <td>2017.778443</td>\n      <td>2.020199e+07</td>\n    </tr>\n    <tr>\n      <th>도담동</th>\n      <td>201870.839522</td>\n      <td>15.285714</td>\n      <td>0.000000</td>\n      <td>74.161839</td>\n      <td>44911.933291</td>\n      <td>10.904342</td>\n      <td>2014.454374</td>\n      <td>2.020077e+07</td>\n    </tr>\n    <tr>\n      <th>반곡동</th>\n      <td>202004.854369</td>\n      <td>15.563107</td>\n      <td>2.640777</td>\n      <td>77.063544</td>\n      <td>57494.951456</td>\n      <td>8.067961</td>\n      <td>2019.000000</td>\n      <td>2.020212e+07</td>\n    </tr>\n    <tr>\n      <th>보람동</th>\n      <td>201963.273684</td>\n      <td>15.668421</td>\n      <td>0.165789</td>\n      <td>84.261626</td>\n      <td>65879.284211</td>\n      <td>10.589474</td>\n      <td>2016.876316</td>\n      <td>2.020116e+07</td>\n    </tr>\n    <tr>\n      <th>부강면</th>\n      <td>201867.817204</td>\n      <td>15.903226</td>\n      <td>14.774194</td>\n      <td>58.348387</td>\n      <td>7851.290323</td>\n      <td>6.161290</td>\n      <td>1995.688172</td>\n      <td>2.020101e+07</td>\n    </tr>\n    <tr>\n      <th>새롬동</th>\n      <td>201965.313880</td>\n      <td>15.990536</td>\n      <td>0.000000</td>\n      <td>80.992821</td>\n      <td>66054.370662</td>\n      <td>10.195584</td>\n      <td>2017.012618</td>\n      <td>2.020073e+07</td>\n    </tr>\n    <tr>\n      <th>소담동</th>\n      <td>201937.642981</td>\n      <td>15.525130</td>\n      <td>1.788562</td>\n      <td>79.421503</td>\n      <td>56853.738302</td>\n      <td>11.202773</td>\n      <td>2016.630849</td>\n      <td>2.020076e+07</td>\n    </tr>\n    <tr>\n      <th>소정면</th>\n      <td>201835.428571</td>\n      <td>17.523810</td>\n      <td>1.000000</td>\n      <td>60.480476</td>\n      <td>6392.857143</td>\n      <td>6.571429</td>\n      <td>1996.000000</td>\n      <td>NaN</td>\n    </tr>\n    <tr>\n      <th>아름동</th>\n      <td>201836.245599</td>\n      <td>12.920996</td>\n      <td>0.000000</td>\n      <td>85.020698</td>\n      <td>35044.949764</td>\n      <td>11.605410</td>\n      <td>2014.248175</td>\n      <td>2.020140e+07</td>\n    </tr>\n    <tr>\n      <th>어진동</th>\n      <td>201873.680095</td>\n      <td>15.530806</td>\n      <td>0.000000</td>\n      <td>59.810456</td>\n      <td>39625.319905</td>\n      <td>8.016588</td>\n      <td>2013.462085</td>\n      <td>2.020075e+07</td>\n    </tr>\n    <tr>\n      <th>연동면</th>\n      <td>201890.601124</td>\n      <td>15.685393</td>\n      <td>0.000000</td>\n      <td>46.472096</td>\n      <td>6625.719101</td>\n      <td>4.921348</td>\n      <td>2001.000000</td>\n      <td>2.020099e+07</td>\n    </tr>\n    <tr>\n      <th>연서면</th>\n      <td>201874.488372</td>\n      <td>15.558140</td>\n      <td>0.000000</td>\n      <td>70.738062</td>\n      <td>11966.279070</td>\n      <td>5.387597</td>\n      <td>2002.000000</td>\n      <td>2.020086e+07</td>\n    </tr>\n    <tr>\n      <th>장군면</th>\n      <td>201791.309859</td>\n      <td>17.267606</td>\n      <td>0.732394</td>\n      <td>28.805141</td>\n      <td>2771.408451</td>\n      <td>2.633803</td>\n      <td>2001.464789</td>\n      <td>NaN</td>\n    </tr>\n    <tr>\n      <th>전동면</th>\n      <td>201852.904762</td>\n      <td>15.714286</td>\n      <td>0.000000</td>\n      <td>49.380000</td>\n      <td>5652.380952</td>\n      <td>2.142857</td>\n      <td>1994.000000</td>\n      <td>NaN</td>\n    </tr>\n    <tr>\n      <th>전의면</th>\n      <td>201853.538462</td>\n      <td>15.000000</td>\n      <td>12.038462</td>\n      <td>56.668365</td>\n      <td>7903.365385</td>\n      <td>4.807692</td>\n      <td>1996.730769</td>\n      <td>2.020067e+07</td>\n    </tr>\n    <tr>\n      <th>조치원읍</th>\n      <td>201879.395200</td>\n      <td>15.547028</td>\n      <td>0.420318</td>\n      <td>82.511428</td>\n      <td>16970.891432</td>\n      <td>7.861848</td>\n      <td>2002.753558</td>\n      <td>2.020072e+07</td>\n    </tr>\n    <tr>\n      <th>종촌동</th>\n      <td>201859.813620</td>\n      <td>16.105376</td>\n      <td>0.000000</td>\n      <td>80.286730</td>\n      <td>39196.429032</td>\n      <td>12.029032</td>\n      <td>2014.288889</td>\n      <td>2.020098e+07</td>\n    </tr>\n    <tr>\n      <th>한솔동</th>\n      <td>201854.961959</td>\n      <td>15.495571</td>\n      <td>0.000000</td>\n      <td>90.959136</td>\n      <td>40881.186555</td>\n      <td>10.190724</td>\n      <td>2011.675873</td>\n      <td>2.020076e+07</td>\n    </tr>\n  </tbody>\n</table>\n</div>"
     },
     "metadata": {},
     "execution_count": 104
    }
   ],
   "source": [
    "data.groupby('읍면동').mean()"
   ]
  },
  {
   "cell_type": "code",
   "execution_count": 81,
   "metadata": {},
   "outputs": [
    {
     "output_type": "execute_result",
     "data": {
      "text/plain": [
       "        계약년월    계약일    시군구     본번     부번    단지명  전용면적(㎡)  거래금액(만원)      층  \\\n",
       "읍면동구분                                                                       \n",
       "동      13777  13777  13777  13777  13777  13777    13777     13777  13777   \n",
       "면       1049   1049   1049   1049   1049   1049     1049      1049   1049   \n",
       "읍       3583   3583   3583   3583   3583   3583     3583      3583   3583   \n",
       "\n",
       "        건축년도  해제사유발생일    읍면동      평  \n",
       "읍면동구분                                \n",
       "동      13777      356  13777  13777  \n",
       "면       1049       28   1049   1049  \n",
       "읍       3583      106   3583   3583  "
      ],
      "text/html": "<div>\n<style scoped>\n    .dataframe tbody tr th:only-of-type {\n        vertical-align: middle;\n    }\n\n    .dataframe tbody tr th {\n        vertical-align: top;\n    }\n\n    .dataframe thead th {\n        text-align: right;\n    }\n</style>\n<table border=\"1\" class=\"dataframe\">\n  <thead>\n    <tr style=\"text-align: right;\">\n      <th></th>\n      <th>계약년월</th>\n      <th>계약일</th>\n      <th>시군구</th>\n      <th>본번</th>\n      <th>부번</th>\n      <th>단지명</th>\n      <th>전용면적(㎡)</th>\n      <th>거래금액(만원)</th>\n      <th>층</th>\n      <th>건축년도</th>\n      <th>해제사유발생일</th>\n      <th>읍면동</th>\n      <th>평</th>\n    </tr>\n    <tr>\n      <th>읍면동구분</th>\n      <th></th>\n      <th></th>\n      <th></th>\n      <th></th>\n      <th></th>\n      <th></th>\n      <th></th>\n      <th></th>\n      <th></th>\n      <th></th>\n      <th></th>\n      <th></th>\n      <th></th>\n    </tr>\n  </thead>\n  <tbody>\n    <tr>\n      <th>동</th>\n      <td>13777</td>\n      <td>13777</td>\n      <td>13777</td>\n      <td>13777</td>\n      <td>13777</td>\n      <td>13777</td>\n      <td>13777</td>\n      <td>13777</td>\n      <td>13777</td>\n      <td>13777</td>\n      <td>356</td>\n      <td>13777</td>\n      <td>13777</td>\n    </tr>\n    <tr>\n      <th>면</th>\n      <td>1049</td>\n      <td>1049</td>\n      <td>1049</td>\n      <td>1049</td>\n      <td>1049</td>\n      <td>1049</td>\n      <td>1049</td>\n      <td>1049</td>\n      <td>1049</td>\n      <td>1049</td>\n      <td>28</td>\n      <td>1049</td>\n      <td>1049</td>\n    </tr>\n    <tr>\n      <th>읍</th>\n      <td>3583</td>\n      <td>3583</td>\n      <td>3583</td>\n      <td>3583</td>\n      <td>3583</td>\n      <td>3583</td>\n      <td>3583</td>\n      <td>3583</td>\n      <td>3583</td>\n      <td>3583</td>\n      <td>106</td>\n      <td>3583</td>\n      <td>3583</td>\n    </tr>\n  </tbody>\n</table>\n</div>"
     },
     "metadata": {},
     "execution_count": 81
    }
   ],
   "source": [
    "data.groupby('읍면동구분').count()"
   ]
  },
  {
   "cell_type": "code",
   "execution_count": 105,
   "metadata": {},
   "outputs": [
    {
     "output_type": "execute_result",
     "data": {
      "text/plain": [
       "                계약년월        계약일        부번    전용면적(㎡)      거래금액(만원)          층  \\\n",
       "읍면동구분                                                                           \n",
       "동      201881.034115  15.250635  0.113160  79.673347  42361.936561  10.772665   \n",
       "면      201858.820782  15.690181  2.572927  53.298990  10252.819828   6.147760   \n",
       "읍      201879.395200  15.547028  0.420318  82.511428  16970.891432   7.861848   \n",
       "\n",
       "              건축년도       해제사유발생일  \n",
       "읍면동구분                             \n",
       "동      2014.587864  2.020099e+07  \n",
       "면      2000.102002  2.020082e+07  \n",
       "읍      2002.753558  2.020072e+07  "
      ],
      "text/html": "<div>\n<style scoped>\n    .dataframe tbody tr th:only-of-type {\n        vertical-align: middle;\n    }\n\n    .dataframe tbody tr th {\n        vertical-align: top;\n    }\n\n    .dataframe thead th {\n        text-align: right;\n    }\n</style>\n<table border=\"1\" class=\"dataframe\">\n  <thead>\n    <tr style=\"text-align: right;\">\n      <th></th>\n      <th>계약년월</th>\n      <th>계약일</th>\n      <th>부번</th>\n      <th>전용면적(㎡)</th>\n      <th>거래금액(만원)</th>\n      <th>층</th>\n      <th>건축년도</th>\n      <th>해제사유발생일</th>\n    </tr>\n    <tr>\n      <th>읍면동구분</th>\n      <th></th>\n      <th></th>\n      <th></th>\n      <th></th>\n      <th></th>\n      <th></th>\n      <th></th>\n      <th></th>\n    </tr>\n  </thead>\n  <tbody>\n    <tr>\n      <th>동</th>\n      <td>201881.034115</td>\n      <td>15.250635</td>\n      <td>0.113160</td>\n      <td>79.673347</td>\n      <td>42361.936561</td>\n      <td>10.772665</td>\n      <td>2014.587864</td>\n      <td>2.020099e+07</td>\n    </tr>\n    <tr>\n      <th>면</th>\n      <td>201858.820782</td>\n      <td>15.690181</td>\n      <td>2.572927</td>\n      <td>53.298990</td>\n      <td>10252.819828</td>\n      <td>6.147760</td>\n      <td>2000.102002</td>\n      <td>2.020082e+07</td>\n    </tr>\n    <tr>\n      <th>읍</th>\n      <td>201879.395200</td>\n      <td>15.547028</td>\n      <td>0.420318</td>\n      <td>82.511428</td>\n      <td>16970.891432</td>\n      <td>7.861848</td>\n      <td>2002.753558</td>\n      <td>2.020072e+07</td>\n    </tr>\n  </tbody>\n</table>\n</div>"
     },
     "metadata": {},
     "execution_count": 105
    }
   ],
   "source": [
    "data.groupby('읍면동구분').mean()"
   ]
  },
  {
   "cell_type": "code",
   "execution_count": 7,
   "metadata": {
    "ExecuteTime": {
     "end_time": "2021-03-04T03:19:42.480884Z",
     "start_time": "2021-03-04T03:19:42.450965Z"
    }
   },
   "outputs": [
    {
     "output_type": "execute_result",
     "data": {
      "text/plain": [
       "         계약년월  계약일               시군구    본번  부번              단지명  전용면적(㎡)  \\\n",
       "55     201701    1       세종특별자치시 보람동   743   0           스타힐타워Ⅰ  16.9849   \n",
       "200    201701    1       세종특별자치시 종촌동   683   0          가재마을2단지  59.8652   \n",
       "1      201701    2       세종특별자치시 고운동  1393   0  가락마을15단지(중흥파크뷰)  84.9894   \n",
       "10     201701    2       세종특별자치시 고운동  1706   0  가락마을8단지(고운뜰아파트)  84.9800   \n",
       "76     201701    2       세종특별자치시 아름동  1284   0  범지기마을7단지 호반에코시티  84.9280   \n",
       "...       ...  ...               ...   ...  ..              ...      ...   \n",
       "18298  202010   31   세종특별자치시 연동면 명학리   255   0             다산청정  31.7580   \n",
       "18342  202010   31  세종특별자치시 조치원읍 신안리   244   1               조형  58.3500   \n",
       "18368  202010   31  세종특별자치시 조치원읍 죽림리   396   0          조치원죽림자이  84.6641   \n",
       "18377  202010   31  세종특별자치시 조치원읍 침산리    89   0            욱일아파트  59.9990   \n",
       "18404  202010   31       세종특별자치시 한솔동  1226   0   첫마을4단지(대우푸르지오)  84.7000   \n",
       "\n",
       "      거래금액(만원)   층  건축년도  해제사유발생일 읍면동구분   읍면동  \n",
       "55       8,600   7  2016      NaN     동   보람동  \n",
       "200     27,300   7  2014      NaN     동   종촌동  \n",
       "1       32,000   3  2015      NaN     동   고운동  \n",
       "10      30,500  20  2015      NaN     동   고운동  \n",
       "76      31,300   6  2014      NaN     동   아름동  \n",
       "...        ...  ..   ...      ...   ...   ...  \n",
       "18298    4,700   1  2001      NaN     면   연동면  \n",
       "18342    7,950   5  1991      NaN     읍  조치원읍  \n",
       "18368   29,000   2  2008      NaN     읍  조치원읍  \n",
       "18377   17,600   6  1996      NaN     읍  조치원읍  \n",
       "18404   66,800  18  2012      NaN     동   한솔동  \n",
       "\n",
       "[18409 rows x 13 columns]"
      ],
      "text/html": "<div>\n<style scoped>\n    .dataframe tbody tr th:only-of-type {\n        vertical-align: middle;\n    }\n\n    .dataframe tbody tr th {\n        vertical-align: top;\n    }\n\n    .dataframe thead th {\n        text-align: right;\n    }\n</style>\n<table border=\"1\" class=\"dataframe\">\n  <thead>\n    <tr style=\"text-align: right;\">\n      <th></th>\n      <th>계약년월</th>\n      <th>계약일</th>\n      <th>시군구</th>\n      <th>본번</th>\n      <th>부번</th>\n      <th>단지명</th>\n      <th>전용면적(㎡)</th>\n      <th>거래금액(만원)</th>\n      <th>층</th>\n      <th>건축년도</th>\n      <th>해제사유발생일</th>\n      <th>읍면동구분</th>\n      <th>읍면동</th>\n    </tr>\n  </thead>\n  <tbody>\n    <tr>\n      <th>55</th>\n      <td>201701</td>\n      <td>1</td>\n      <td>세종특별자치시 보람동</td>\n      <td>743</td>\n      <td>0</td>\n      <td>스타힐타워Ⅰ</td>\n      <td>16.9849</td>\n      <td>8,600</td>\n      <td>7</td>\n      <td>2016</td>\n      <td>NaN</td>\n      <td>동</td>\n      <td>보람동</td>\n    </tr>\n    <tr>\n      <th>200</th>\n      <td>201701</td>\n      <td>1</td>\n      <td>세종특별자치시 종촌동</td>\n      <td>683</td>\n      <td>0</td>\n      <td>가재마을2단지</td>\n      <td>59.8652</td>\n      <td>27,300</td>\n      <td>7</td>\n      <td>2014</td>\n      <td>NaN</td>\n      <td>동</td>\n      <td>종촌동</td>\n    </tr>\n    <tr>\n      <th>1</th>\n      <td>201701</td>\n      <td>2</td>\n      <td>세종특별자치시 고운동</td>\n      <td>1393</td>\n      <td>0</td>\n      <td>가락마을15단지(중흥파크뷰)</td>\n      <td>84.9894</td>\n      <td>32,000</td>\n      <td>3</td>\n      <td>2015</td>\n      <td>NaN</td>\n      <td>동</td>\n      <td>고운동</td>\n    </tr>\n    <tr>\n      <th>10</th>\n      <td>201701</td>\n      <td>2</td>\n      <td>세종특별자치시 고운동</td>\n      <td>1706</td>\n      <td>0</td>\n      <td>가락마을8단지(고운뜰아파트)</td>\n      <td>84.9800</td>\n      <td>30,500</td>\n      <td>20</td>\n      <td>2015</td>\n      <td>NaN</td>\n      <td>동</td>\n      <td>고운동</td>\n    </tr>\n    <tr>\n      <th>76</th>\n      <td>201701</td>\n      <td>2</td>\n      <td>세종특별자치시 아름동</td>\n      <td>1284</td>\n      <td>0</td>\n      <td>범지기마을7단지 호반에코시티</td>\n      <td>84.9280</td>\n      <td>31,300</td>\n      <td>6</td>\n      <td>2014</td>\n      <td>NaN</td>\n      <td>동</td>\n      <td>아름동</td>\n    </tr>\n    <tr>\n      <th>...</th>\n      <td>...</td>\n      <td>...</td>\n      <td>...</td>\n      <td>...</td>\n      <td>...</td>\n      <td>...</td>\n      <td>...</td>\n      <td>...</td>\n      <td>...</td>\n      <td>...</td>\n      <td>...</td>\n      <td>...</td>\n      <td>...</td>\n    </tr>\n    <tr>\n      <th>18298</th>\n      <td>202010</td>\n      <td>31</td>\n      <td>세종특별자치시 연동면 명학리</td>\n      <td>255</td>\n      <td>0</td>\n      <td>다산청정</td>\n      <td>31.7580</td>\n      <td>4,700</td>\n      <td>1</td>\n      <td>2001</td>\n      <td>NaN</td>\n      <td>면</td>\n      <td>연동면</td>\n    </tr>\n    <tr>\n      <th>18342</th>\n      <td>202010</td>\n      <td>31</td>\n      <td>세종특별자치시 조치원읍 신안리</td>\n      <td>244</td>\n      <td>1</td>\n      <td>조형</td>\n      <td>58.3500</td>\n      <td>7,950</td>\n      <td>5</td>\n      <td>1991</td>\n      <td>NaN</td>\n      <td>읍</td>\n      <td>조치원읍</td>\n    </tr>\n    <tr>\n      <th>18368</th>\n      <td>202010</td>\n      <td>31</td>\n      <td>세종특별자치시 조치원읍 죽림리</td>\n      <td>396</td>\n      <td>0</td>\n      <td>조치원죽림자이</td>\n      <td>84.6641</td>\n      <td>29,000</td>\n      <td>2</td>\n      <td>2008</td>\n      <td>NaN</td>\n      <td>읍</td>\n      <td>조치원읍</td>\n    </tr>\n    <tr>\n      <th>18377</th>\n      <td>202010</td>\n      <td>31</td>\n      <td>세종특별자치시 조치원읍 침산리</td>\n      <td>89</td>\n      <td>0</td>\n      <td>욱일아파트</td>\n      <td>59.9990</td>\n      <td>17,600</td>\n      <td>6</td>\n      <td>1996</td>\n      <td>NaN</td>\n      <td>읍</td>\n      <td>조치원읍</td>\n    </tr>\n    <tr>\n      <th>18404</th>\n      <td>202010</td>\n      <td>31</td>\n      <td>세종특별자치시 한솔동</td>\n      <td>1226</td>\n      <td>0</td>\n      <td>첫마을4단지(대우푸르지오)</td>\n      <td>84.7000</td>\n      <td>66,800</td>\n      <td>18</td>\n      <td>2012</td>\n      <td>NaN</td>\n      <td>동</td>\n      <td>한솔동</td>\n    </tr>\n  </tbody>\n</table>\n<p>18409 rows × 13 columns</p>\n</div>"
     },
     "metadata": {},
     "execution_count": 7
    }
   ],
   "source": [
    "sort_data=data.sort_values(by=['계약년월','계약일'])\n",
    "sort_data"
   ]
  },
  {
   "cell_type": "code",
   "execution_count": null,
   "metadata": {},
   "outputs": [],
   "source": [
    "sort_data['읍면동']"
   ]
  },
  {
   "cell_type": "markdown",
   "metadata": {},
   "source": [
    "### 아파트 전용면적 별 거래 수"
   ]
  },
  {
   "cell_type": "code",
   "execution_count": 8,
   "metadata": {
    "ExecuteTime": {
     "end_time": "2021-03-04T03:19:42.510805Z",
     "start_time": "2021-03-04T03:19:42.484874Z"
    }
   },
   "outputs": [
    {
     "output_type": "execute_result",
     "data": {
      "text/plain": [
       "    전용면적(㎡)  계약년월   계약일   시군구    본번    부번   단지명  거래금액(만원)     층  건축년도  \\\n",
       "57       84  7880  7880  7880  7880  7880  7880      7880  7880  7880   \n",
       "38       59  3729  3729  3729  3729  3729  3729      3729  3729  3729   \n",
       "49       74   608   608   608   608   608   608       608   608   608   \n",
       "63       99   417   417   417   417   417   417       417   417   417   \n",
       "77      114   354   354   354   354   354   354       354   354   354   \n",
       "65      101   329   329   329   329   329   329       329   329   329   \n",
       "27       43   300   300   300   300   300   300       300   300   300   \n",
       "60       96   270   270   270   270   270   270       270   270   270   \n",
       "32       49   265   265   265   265   265   265       265   265   265   \n",
       "24       39   256   256   256   256   256   256       256   256   256   \n",
       "\n",
       "    해제사유발생일  읍면동구분   읍면동  \n",
       "57      172   7880  7880  \n",
       "38      114   3729  3729  \n",
       "49        8    608   608  \n",
       "63       12    417   417  \n",
       "77        2    354   354  \n",
       "65       13    329   329  \n",
       "27        5    300   300  \n",
       "60        7    270   270  \n",
       "32        3    265   265  \n",
       "24       14    256   256  "
      ],
      "text/html": "<div>\n<style scoped>\n    .dataframe tbody tr th:only-of-type {\n        vertical-align: middle;\n    }\n\n    .dataframe tbody tr th {\n        vertical-align: top;\n    }\n\n    .dataframe thead th {\n        text-align: right;\n    }\n</style>\n<table border=\"1\" class=\"dataframe\">\n  <thead>\n    <tr style=\"text-align: right;\">\n      <th></th>\n      <th>전용면적(㎡)</th>\n      <th>계약년월</th>\n      <th>계약일</th>\n      <th>시군구</th>\n      <th>본번</th>\n      <th>부번</th>\n      <th>단지명</th>\n      <th>거래금액(만원)</th>\n      <th>층</th>\n      <th>건축년도</th>\n      <th>해제사유발생일</th>\n      <th>읍면동구분</th>\n      <th>읍면동</th>\n    </tr>\n  </thead>\n  <tbody>\n    <tr>\n      <th>57</th>\n      <td>84</td>\n      <td>7880</td>\n      <td>7880</td>\n      <td>7880</td>\n      <td>7880</td>\n      <td>7880</td>\n      <td>7880</td>\n      <td>7880</td>\n      <td>7880</td>\n      <td>7880</td>\n      <td>172</td>\n      <td>7880</td>\n      <td>7880</td>\n    </tr>\n    <tr>\n      <th>38</th>\n      <td>59</td>\n      <td>3729</td>\n      <td>3729</td>\n      <td>3729</td>\n      <td>3729</td>\n      <td>3729</td>\n      <td>3729</td>\n      <td>3729</td>\n      <td>3729</td>\n      <td>3729</td>\n      <td>114</td>\n      <td>3729</td>\n      <td>3729</td>\n    </tr>\n    <tr>\n      <th>49</th>\n      <td>74</td>\n      <td>608</td>\n      <td>608</td>\n      <td>608</td>\n      <td>608</td>\n      <td>608</td>\n      <td>608</td>\n      <td>608</td>\n      <td>608</td>\n      <td>608</td>\n      <td>8</td>\n      <td>608</td>\n      <td>608</td>\n    </tr>\n    <tr>\n      <th>63</th>\n      <td>99</td>\n      <td>417</td>\n      <td>417</td>\n      <td>417</td>\n      <td>417</td>\n      <td>417</td>\n      <td>417</td>\n      <td>417</td>\n      <td>417</td>\n      <td>417</td>\n      <td>12</td>\n      <td>417</td>\n      <td>417</td>\n    </tr>\n    <tr>\n      <th>77</th>\n      <td>114</td>\n      <td>354</td>\n      <td>354</td>\n      <td>354</td>\n      <td>354</td>\n      <td>354</td>\n      <td>354</td>\n      <td>354</td>\n      <td>354</td>\n      <td>354</td>\n      <td>2</td>\n      <td>354</td>\n      <td>354</td>\n    </tr>\n    <tr>\n      <th>65</th>\n      <td>101</td>\n      <td>329</td>\n      <td>329</td>\n      <td>329</td>\n      <td>329</td>\n      <td>329</td>\n      <td>329</td>\n      <td>329</td>\n      <td>329</td>\n      <td>329</td>\n      <td>13</td>\n      <td>329</td>\n      <td>329</td>\n    </tr>\n    <tr>\n      <th>27</th>\n      <td>43</td>\n      <td>300</td>\n      <td>300</td>\n      <td>300</td>\n      <td>300</td>\n      <td>300</td>\n      <td>300</td>\n      <td>300</td>\n      <td>300</td>\n      <td>300</td>\n      <td>5</td>\n      <td>300</td>\n      <td>300</td>\n    </tr>\n    <tr>\n      <th>60</th>\n      <td>96</td>\n      <td>270</td>\n      <td>270</td>\n      <td>270</td>\n      <td>270</td>\n      <td>270</td>\n      <td>270</td>\n      <td>270</td>\n      <td>270</td>\n      <td>270</td>\n      <td>7</td>\n      <td>270</td>\n      <td>270</td>\n    </tr>\n    <tr>\n      <th>32</th>\n      <td>49</td>\n      <td>265</td>\n      <td>265</td>\n      <td>265</td>\n      <td>265</td>\n      <td>265</td>\n      <td>265</td>\n      <td>265</td>\n      <td>265</td>\n      <td>265</td>\n      <td>3</td>\n      <td>265</td>\n      <td>265</td>\n    </tr>\n    <tr>\n      <th>24</th>\n      <td>39</td>\n      <td>256</td>\n      <td>256</td>\n      <td>256</td>\n      <td>256</td>\n      <td>256</td>\n      <td>256</td>\n      <td>256</td>\n      <td>256</td>\n      <td>256</td>\n      <td>14</td>\n      <td>256</td>\n      <td>256</td>\n    </tr>\n  </tbody>\n</table>\n</div>"
     },
     "metadata": {},
     "execution_count": 8
    }
   ],
   "source": [
    "sort_data['전용면적(㎡)'] =sort_data['전용면적(㎡)'].astype(int)\n",
    "sort_data_g=sort_data.groupby(by=['전용면적(㎡)'], as_index=False).count()\n",
    "sort_data_g.sort_values(by='계약년월',ascending=False)[:10]"
   ]
  },
  {
   "cell_type": "markdown",
   "metadata": {},
   "source": [
    "### 아파트 금액별 거래 수(제일 잘 팔리는 금액대)"
   ]
  },
  {
   "cell_type": "code",
   "execution_count": null,
   "metadata": {
    "ExecuteTime": {
     "end_time": "2021-03-04T03:19:42.540725Z",
     "start_time": "2021-03-04T03:19:42.513797Z"
    }
   },
   "outputs": [],
   "source": [
    "sort_data_m=sort_data.groupby(by=['거래금액(만원)'], as_index=False).count()\n",
    "sort_data_m.sort_values(by='계약년월',ascending=False)"
   ]
  },
  {
   "cell_type": "code",
   "execution_count": null,
   "metadata": {
    "ExecuteTime": {
     "end_time": "2021-03-04T03:19:42.555685Z",
     "start_time": "2021-03-04T03:19:42.543717Z"
    }
   },
   "outputs": [],
   "source": [
    "maxpr=np.max(sort_data['거래금액(만원)'])\n",
    "maxpr"
   ]
  },
  {
   "cell_type": "code",
   "execution_count": null,
   "metadata": {
    "ExecuteTime": {
     "end_time": "2021-03-04T03:19:42.571641Z",
     "start_time": "2021-03-04T03:19:42.557679Z"
    }
   },
   "outputs": [],
   "source": [
    "minpr=np.min(sort_data['거래금액(만원)'])\n",
    "minpr"
   ]
  },
  {
   "cell_type": "code",
   "execution_count": null,
   "metadata": {
    "ExecuteTime": {
     "end_time": "2021-03-04T03:19:42.586602Z",
     "start_time": "2021-03-04T03:19:42.572639Z"
    }
   },
   "outputs": [],
   "source": [
    "sort_data[sort_data['거래금액(만원)']==maxpr]"
   ]
  },
  {
   "cell_type": "code",
   "execution_count": null,
   "metadata": {
    "ExecuteTime": {
     "end_time": "2021-03-04T03:19:42.617518Z",
     "start_time": "2021-03-04T03:19:42.588597Z"
    }
   },
   "outputs": [],
   "source": [
    "sort_data[sort_data['거래금액(만원)']==minpr]"
   ]
  },
  {
   "cell_type": "code",
   "execution_count": 9,
   "metadata": {
    "ExecuteTime": {
     "end_time": "2021-03-04T03:19:42.633481Z",
     "start_time": "2021-03-04T03:19:42.620512Z"
    }
   },
   "outputs": [],
   "source": [
    "def pyeong(df):\n",
    "    if df< 33:\n",
    "        return '10평 미만'\n",
    "    elif df>= 33 and df < 66:\n",
    "        return '10~20평'\n",
    "    elif df>= 66 and df < 99:\n",
    "        return '20~30평'\n",
    "    elif df>= 99 and df < 132:\n",
    "        return '30~40평'\n",
    "    elif df>= 132 and df < 165:\n",
    "        return '40~50평'\n",
    "    elif df>= 165 and df < 198:\n",
    "        return '50~60평'\n",
    "    else:\n",
    "        return '60평 이상'"
   ]
  },
  {
   "cell_type": "code",
   "execution_count": 10,
   "metadata": {
    "ExecuteTime": {
     "end_time": "2021-03-04T03:19:42.680351Z",
     "start_time": "2021-03-04T03:19:42.635471Z"
    }
   },
   "outputs": [
    {
     "output_type": "execute_result",
     "data": {
      "text/plain": [
       "         계약년월  계약일          시군구    본번  부번               단지명   전용면적(㎡)  \\\n",
       "0      201701   19  세종특별자치시 고운동  1401   0  가락마을13단지(대광로제비앙)   59.6550   \n",
       "1      201701    2  세종특별자치시 고운동  1393   0   가락마을15단지(중흥파크뷰)   84.9894   \n",
       "2      201701   14  세종특별자치시 고운동  1395   0    가락마을16단지(에듀그린)   84.8788   \n",
       "3      201701    9  세종특별자치시 고운동  1386   0   가락마을17단지(골드클래스)   59.9159   \n",
       "4      201701    9  세종특별자치시 고운동  1390   0    가락마을21단지(에듀포레)   99.9434   \n",
       "...       ...  ...          ...   ...  ..               ...       ...   \n",
       "18404  202010   31  세종특별자치시 한솔동  1226   0    첫마을4단지(대우푸르지오)   84.7000   \n",
       "18405  202010   15  세종특별자치시 한솔동   971   0      첫마을5단지(푸르지오)  114.1600   \n",
       "18406  202010   25  세종특별자치시 한솔동   971   0      첫마을5단지(푸르지오)  149.8000   \n",
       "18407  202010    9  세종특별자치시 한솔동   974   0     첫마을6단지(힐스테이트)   84.1100   \n",
       "18408  202010   17  세종특별자치시 한솔동   974   0     첫마을6단지(힐스테이트)   84.1200   \n",
       "\n",
       "      거래금액(만원)   층  건축년도  해제사유발생일 읍면동구분  읍면동       평  \n",
       "0       23,000  11  2015      NaN     동  고운동  10~20평  \n",
       "1       32,000   3  2015      NaN     동  고운동  20~30평  \n",
       "2       32,500  21  2015      NaN     동  고운동  20~30평  \n",
       "3       25,100   7  2015      NaN     동  고운동  10~20평  \n",
       "4       32,250   3  2015      NaN     동  고운동  30~40평  \n",
       "...        ...  ..   ...      ...   ...  ...     ...  \n",
       "18404   66,800  18  2012      NaN     동  한솔동  20~30평  \n",
       "18405   40,000   4  2012      NaN     동  한솔동  30~40평  \n",
       "18406  134,000  13  2012      NaN     동  한솔동  40~50평  \n",
       "18407   72,800  16  2012      NaN     동  한솔동  20~30평  \n",
       "18408   74,800  15  2012      NaN     동  한솔동  20~30평  \n",
       "\n",
       "[18409 rows x 14 columns]"
      ],
      "text/html": "<div>\n<style scoped>\n    .dataframe tbody tr th:only-of-type {\n        vertical-align: middle;\n    }\n\n    .dataframe tbody tr th {\n        vertical-align: top;\n    }\n\n    .dataframe thead th {\n        text-align: right;\n    }\n</style>\n<table border=\"1\" class=\"dataframe\">\n  <thead>\n    <tr style=\"text-align: right;\">\n      <th></th>\n      <th>계약년월</th>\n      <th>계약일</th>\n      <th>시군구</th>\n      <th>본번</th>\n      <th>부번</th>\n      <th>단지명</th>\n      <th>전용면적(㎡)</th>\n      <th>거래금액(만원)</th>\n      <th>층</th>\n      <th>건축년도</th>\n      <th>해제사유발생일</th>\n      <th>읍면동구분</th>\n      <th>읍면동</th>\n      <th>평</th>\n    </tr>\n  </thead>\n  <tbody>\n    <tr>\n      <th>0</th>\n      <td>201701</td>\n      <td>19</td>\n      <td>세종특별자치시 고운동</td>\n      <td>1401</td>\n      <td>0</td>\n      <td>가락마을13단지(대광로제비앙)</td>\n      <td>59.6550</td>\n      <td>23,000</td>\n      <td>11</td>\n      <td>2015</td>\n      <td>NaN</td>\n      <td>동</td>\n      <td>고운동</td>\n      <td>10~20평</td>\n    </tr>\n    <tr>\n      <th>1</th>\n      <td>201701</td>\n      <td>2</td>\n      <td>세종특별자치시 고운동</td>\n      <td>1393</td>\n      <td>0</td>\n      <td>가락마을15단지(중흥파크뷰)</td>\n      <td>84.9894</td>\n      <td>32,000</td>\n      <td>3</td>\n      <td>2015</td>\n      <td>NaN</td>\n      <td>동</td>\n      <td>고운동</td>\n      <td>20~30평</td>\n    </tr>\n    <tr>\n      <th>2</th>\n      <td>201701</td>\n      <td>14</td>\n      <td>세종특별자치시 고운동</td>\n      <td>1395</td>\n      <td>0</td>\n      <td>가락마을16단지(에듀그린)</td>\n      <td>84.8788</td>\n      <td>32,500</td>\n      <td>21</td>\n      <td>2015</td>\n      <td>NaN</td>\n      <td>동</td>\n      <td>고운동</td>\n      <td>20~30평</td>\n    </tr>\n    <tr>\n      <th>3</th>\n      <td>201701</td>\n      <td>9</td>\n      <td>세종특별자치시 고운동</td>\n      <td>1386</td>\n      <td>0</td>\n      <td>가락마을17단지(골드클래스)</td>\n      <td>59.9159</td>\n      <td>25,100</td>\n      <td>7</td>\n      <td>2015</td>\n      <td>NaN</td>\n      <td>동</td>\n      <td>고운동</td>\n      <td>10~20평</td>\n    </tr>\n    <tr>\n      <th>4</th>\n      <td>201701</td>\n      <td>9</td>\n      <td>세종특별자치시 고운동</td>\n      <td>1390</td>\n      <td>0</td>\n      <td>가락마을21단지(에듀포레)</td>\n      <td>99.9434</td>\n      <td>32,250</td>\n      <td>3</td>\n      <td>2015</td>\n      <td>NaN</td>\n      <td>동</td>\n      <td>고운동</td>\n      <td>30~40평</td>\n    </tr>\n    <tr>\n      <th>...</th>\n      <td>...</td>\n      <td>...</td>\n      <td>...</td>\n      <td>...</td>\n      <td>...</td>\n      <td>...</td>\n      <td>...</td>\n      <td>...</td>\n      <td>...</td>\n      <td>...</td>\n      <td>...</td>\n      <td>...</td>\n      <td>...</td>\n      <td>...</td>\n    </tr>\n    <tr>\n      <th>18404</th>\n      <td>202010</td>\n      <td>31</td>\n      <td>세종특별자치시 한솔동</td>\n      <td>1226</td>\n      <td>0</td>\n      <td>첫마을4단지(대우푸르지오)</td>\n      <td>84.7000</td>\n      <td>66,800</td>\n      <td>18</td>\n      <td>2012</td>\n      <td>NaN</td>\n      <td>동</td>\n      <td>한솔동</td>\n      <td>20~30평</td>\n    </tr>\n    <tr>\n      <th>18405</th>\n      <td>202010</td>\n      <td>15</td>\n      <td>세종특별자치시 한솔동</td>\n      <td>971</td>\n      <td>0</td>\n      <td>첫마을5단지(푸르지오)</td>\n      <td>114.1600</td>\n      <td>40,000</td>\n      <td>4</td>\n      <td>2012</td>\n      <td>NaN</td>\n      <td>동</td>\n      <td>한솔동</td>\n      <td>30~40평</td>\n    </tr>\n    <tr>\n      <th>18406</th>\n      <td>202010</td>\n      <td>25</td>\n      <td>세종특별자치시 한솔동</td>\n      <td>971</td>\n      <td>0</td>\n      <td>첫마을5단지(푸르지오)</td>\n      <td>149.8000</td>\n      <td>134,000</td>\n      <td>13</td>\n      <td>2012</td>\n      <td>NaN</td>\n      <td>동</td>\n      <td>한솔동</td>\n      <td>40~50평</td>\n    </tr>\n    <tr>\n      <th>18407</th>\n      <td>202010</td>\n      <td>9</td>\n      <td>세종특별자치시 한솔동</td>\n      <td>974</td>\n      <td>0</td>\n      <td>첫마을6단지(힐스테이트)</td>\n      <td>84.1100</td>\n      <td>72,800</td>\n      <td>16</td>\n      <td>2012</td>\n      <td>NaN</td>\n      <td>동</td>\n      <td>한솔동</td>\n      <td>20~30평</td>\n    </tr>\n    <tr>\n      <th>18408</th>\n      <td>202010</td>\n      <td>17</td>\n      <td>세종특별자치시 한솔동</td>\n      <td>974</td>\n      <td>0</td>\n      <td>첫마을6단지(힐스테이트)</td>\n      <td>84.1200</td>\n      <td>74,800</td>\n      <td>15</td>\n      <td>2012</td>\n      <td>NaN</td>\n      <td>동</td>\n      <td>한솔동</td>\n      <td>20~30평</td>\n    </tr>\n  </tbody>\n</table>\n<p>18409 rows × 14 columns</p>\n</div>"
     },
     "metadata": {},
     "execution_count": 10
    }
   ],
   "source": [
    "data[\"평\"]=data[\"전용면적(㎡)\"].apply(pyeong)\n",
    "data"
   ]
  },
  {
   "cell_type": "code",
   "execution_count": 47,
   "metadata": {
    "ExecuteTime": {
     "end_time": "2021-03-04T03:19:42.711268Z",
     "start_time": "2021-03-04T03:19:42.683343Z"
    }
   },
   "outputs": [
    {
     "output_type": "execute_result",
     "data": {
      "text/plain": [
       "        계약년월   계약일   시군구    본번    부번   단지명  전용면적(㎡)  거래금액(만원)     층  건축년도  \\\n",
       "평                                                                           \n",
       "10~20평  4916  4916  4916  4916  4916  4916     4916      4916  4916  4916   \n",
       "10평 미만   831   831   831   831   831   831      831       831   831   831   \n",
       "20~30평  9792  9792  9792  9792  9792  9792     9792      9792  9792  9792   \n",
       "30~40평  2702  2702  2702  2702  2702  2702     2702      2702  2702  2702   \n",
       "40~50평   156   156   156   156   156   156      156       156   156   156   \n",
       "50~60평    12    12    12    12    12    12       12        12    12    12   \n",
       "\n",
       "        해제사유발생일  읍면동구분   읍면동  \n",
       "평                             \n",
       "10~20평      153   4916  4916  \n",
       "10평 미만       21    831   831  \n",
       "20~30평      222   9792  9792  \n",
       "30~40평       84   2702  2702  \n",
       "40~50평       10    156   156  \n",
       "50~60평        0     12    12  "
      ],
      "text/html": "<div>\n<style scoped>\n    .dataframe tbody tr th:only-of-type {\n        vertical-align: middle;\n    }\n\n    .dataframe tbody tr th {\n        vertical-align: top;\n    }\n\n    .dataframe thead th {\n        text-align: right;\n    }\n</style>\n<table border=\"1\" class=\"dataframe\">\n  <thead>\n    <tr style=\"text-align: right;\">\n      <th></th>\n      <th>계약년월</th>\n      <th>계약일</th>\n      <th>시군구</th>\n      <th>본번</th>\n      <th>부번</th>\n      <th>단지명</th>\n      <th>전용면적(㎡)</th>\n      <th>거래금액(만원)</th>\n      <th>층</th>\n      <th>건축년도</th>\n      <th>해제사유발생일</th>\n      <th>읍면동구분</th>\n      <th>읍면동</th>\n    </tr>\n    <tr>\n      <th>평</th>\n      <th></th>\n      <th></th>\n      <th></th>\n      <th></th>\n      <th></th>\n      <th></th>\n      <th></th>\n      <th></th>\n      <th></th>\n      <th></th>\n      <th></th>\n      <th></th>\n      <th></th>\n    </tr>\n  </thead>\n  <tbody>\n    <tr>\n      <th>10~20평</th>\n      <td>4916</td>\n      <td>4916</td>\n      <td>4916</td>\n      <td>4916</td>\n      <td>4916</td>\n      <td>4916</td>\n      <td>4916</td>\n      <td>4916</td>\n      <td>4916</td>\n      <td>4916</td>\n      <td>153</td>\n      <td>4916</td>\n      <td>4916</td>\n    </tr>\n    <tr>\n      <th>10평 미만</th>\n      <td>831</td>\n      <td>831</td>\n      <td>831</td>\n      <td>831</td>\n      <td>831</td>\n      <td>831</td>\n      <td>831</td>\n      <td>831</td>\n      <td>831</td>\n      <td>831</td>\n      <td>21</td>\n      <td>831</td>\n      <td>831</td>\n    </tr>\n    <tr>\n      <th>20~30평</th>\n      <td>9792</td>\n      <td>9792</td>\n      <td>9792</td>\n      <td>9792</td>\n      <td>9792</td>\n      <td>9792</td>\n      <td>9792</td>\n      <td>9792</td>\n      <td>9792</td>\n      <td>9792</td>\n      <td>222</td>\n      <td>9792</td>\n      <td>9792</td>\n    </tr>\n    <tr>\n      <th>30~40평</th>\n      <td>2702</td>\n      <td>2702</td>\n      <td>2702</td>\n      <td>2702</td>\n      <td>2702</td>\n      <td>2702</td>\n      <td>2702</td>\n      <td>2702</td>\n      <td>2702</td>\n      <td>2702</td>\n      <td>84</td>\n      <td>2702</td>\n      <td>2702</td>\n    </tr>\n    <tr>\n      <th>40~50평</th>\n      <td>156</td>\n      <td>156</td>\n      <td>156</td>\n      <td>156</td>\n      <td>156</td>\n      <td>156</td>\n      <td>156</td>\n      <td>156</td>\n      <td>156</td>\n      <td>156</td>\n      <td>10</td>\n      <td>156</td>\n      <td>156</td>\n    </tr>\n    <tr>\n      <th>50~60평</th>\n      <td>12</td>\n      <td>12</td>\n      <td>12</td>\n      <td>12</td>\n      <td>12</td>\n      <td>12</td>\n      <td>12</td>\n      <td>12</td>\n      <td>12</td>\n      <td>12</td>\n      <td>0</td>\n      <td>12</td>\n      <td>12</td>\n    </tr>\n  </tbody>\n</table>\n</div>"
     },
     "metadata": {},
     "execution_count": 47
    }
   ],
   "source": [
    "data.groupby('평').count()"
   ]
  },
  {
   "cell_type": "markdown",
   "metadata": {},
   "source": [
    "### 연립 다주택"
   ]
  },
  {
   "cell_type": "code",
   "execution_count": 44,
   "metadata": {
    "ExecuteTime": {
     "end_time": "2021-03-04T03:19:42.758143Z",
     "start_time": "2021-03-04T03:19:42.712266Z"
    }
   },
   "outputs": [
    {
     "output_type": "execute_result",
     "data": {
      "text/plain": [
       "       계약년월  계약일               시군구   본번  부번     건물명  전용면적(㎡)  대지권면적(㎡)  \\\n",
       "0    201701   18   세종특별자치시 전의면 관정리  262   6  홍성맨션3차   53.965     77.15   \n",
       "1    201701   26  세종특별자치시 조치원읍 서창리  140  11    삼현빌라   48.530     37.30   \n",
       "2    201701    3   세종특별자치시 조치원읍 원리  132   7    고려1동   62.080     36.31   \n",
       "3    201701   13  세종특별자치시 조치원읍 침산리  167   6    용성빌라   64.230     42.25   \n",
       "4    201702    1  세종특별자치시 조치원읍 신흥리  106   0    주공연립   67.900    133.43   \n",
       "..      ...  ...               ...  ...  ..     ...      ...       ...   \n",
       "541  202010   14  세종특별자치시 조치원읍 신흥리   24   3    신흥연립   70.420     39.26   \n",
       "542  202010    8  세종특별자치시 조치원읍 신흥리  106   0    주공연립   55.350    108.78   \n",
       "543  202010   20  세종특별자치시 조치원읍 신흥리  106   0    주공연립   57.510    113.04   \n",
       "544  202010   22  세종특별자치시 조치원읍 침산리  148   3      고려   76.320     53.75   \n",
       "545  202010   18  세종특별자치시 조치원읍 침산리  147   4   고려(2)   76.320     61.34   \n",
       "\n",
       "    거래금액(만원)  층  건축년도  해제사유발생일       평  \n",
       "0      4,300  4  2002      NaN  10~20평  \n",
       "1      4,000  2  1989      NaN  10~20평  \n",
       "2      4,700  2  1983      NaN  10~20평  \n",
       "3      6,500  2  1991      NaN  10~20평  \n",
       "4     12,800  1  1984      NaN  20~30평  \n",
       "..       ... ..   ...      ...     ...  \n",
       "541    5,000  2  1982      NaN  20~30평  \n",
       "542   20,700  3  1984      NaN  10~20평  \n",
       "543   22,500  3  1984      NaN  10~20평  \n",
       "544    9,800  1  1986      NaN  20~30평  \n",
       "545   12,000  3  1986      NaN  20~30평  \n",
       "\n",
       "[546 rows x 13 columns]"
      ],
      "text/html": "<div>\n<style scoped>\n    .dataframe tbody tr th:only-of-type {\n        vertical-align: middle;\n    }\n\n    .dataframe tbody tr th {\n        vertical-align: top;\n    }\n\n    .dataframe thead th {\n        text-align: right;\n    }\n</style>\n<table border=\"1\" class=\"dataframe\">\n  <thead>\n    <tr style=\"text-align: right;\">\n      <th></th>\n      <th>계약년월</th>\n      <th>계약일</th>\n      <th>시군구</th>\n      <th>본번</th>\n      <th>부번</th>\n      <th>건물명</th>\n      <th>전용면적(㎡)</th>\n      <th>대지권면적(㎡)</th>\n      <th>거래금액(만원)</th>\n      <th>층</th>\n      <th>건축년도</th>\n      <th>해제사유발생일</th>\n      <th>평</th>\n    </tr>\n  </thead>\n  <tbody>\n    <tr>\n      <th>0</th>\n      <td>201701</td>\n      <td>18</td>\n      <td>세종특별자치시 전의면 관정리</td>\n      <td>262</td>\n      <td>6</td>\n      <td>홍성맨션3차</td>\n      <td>53.965</td>\n      <td>77.15</td>\n      <td>4,300</td>\n      <td>4</td>\n      <td>2002</td>\n      <td>NaN</td>\n      <td>10~20평</td>\n    </tr>\n    <tr>\n      <th>1</th>\n      <td>201701</td>\n      <td>26</td>\n      <td>세종특별자치시 조치원읍 서창리</td>\n      <td>140</td>\n      <td>11</td>\n      <td>삼현빌라</td>\n      <td>48.530</td>\n      <td>37.30</td>\n      <td>4,000</td>\n      <td>2</td>\n      <td>1989</td>\n      <td>NaN</td>\n      <td>10~20평</td>\n    </tr>\n    <tr>\n      <th>2</th>\n      <td>201701</td>\n      <td>3</td>\n      <td>세종특별자치시 조치원읍 원리</td>\n      <td>132</td>\n      <td>7</td>\n      <td>고려1동</td>\n      <td>62.080</td>\n      <td>36.31</td>\n      <td>4,700</td>\n      <td>2</td>\n      <td>1983</td>\n      <td>NaN</td>\n      <td>10~20평</td>\n    </tr>\n    <tr>\n      <th>3</th>\n      <td>201701</td>\n      <td>13</td>\n      <td>세종특별자치시 조치원읍 침산리</td>\n      <td>167</td>\n      <td>6</td>\n      <td>용성빌라</td>\n      <td>64.230</td>\n      <td>42.25</td>\n      <td>6,500</td>\n      <td>2</td>\n      <td>1991</td>\n      <td>NaN</td>\n      <td>10~20평</td>\n    </tr>\n    <tr>\n      <th>4</th>\n      <td>201702</td>\n      <td>1</td>\n      <td>세종특별자치시 조치원읍 신흥리</td>\n      <td>106</td>\n      <td>0</td>\n      <td>주공연립</td>\n      <td>67.900</td>\n      <td>133.43</td>\n      <td>12,800</td>\n      <td>1</td>\n      <td>1984</td>\n      <td>NaN</td>\n      <td>20~30평</td>\n    </tr>\n    <tr>\n      <th>...</th>\n      <td>...</td>\n      <td>...</td>\n      <td>...</td>\n      <td>...</td>\n      <td>...</td>\n      <td>...</td>\n      <td>...</td>\n      <td>...</td>\n      <td>...</td>\n      <td>...</td>\n      <td>...</td>\n      <td>...</td>\n      <td>...</td>\n    </tr>\n    <tr>\n      <th>541</th>\n      <td>202010</td>\n      <td>14</td>\n      <td>세종특별자치시 조치원읍 신흥리</td>\n      <td>24</td>\n      <td>3</td>\n      <td>신흥연립</td>\n      <td>70.420</td>\n      <td>39.26</td>\n      <td>5,000</td>\n      <td>2</td>\n      <td>1982</td>\n      <td>NaN</td>\n      <td>20~30평</td>\n    </tr>\n    <tr>\n      <th>542</th>\n      <td>202010</td>\n      <td>8</td>\n      <td>세종특별자치시 조치원읍 신흥리</td>\n      <td>106</td>\n      <td>0</td>\n      <td>주공연립</td>\n      <td>55.350</td>\n      <td>108.78</td>\n      <td>20,700</td>\n      <td>3</td>\n      <td>1984</td>\n      <td>NaN</td>\n      <td>10~20평</td>\n    </tr>\n    <tr>\n      <th>543</th>\n      <td>202010</td>\n      <td>20</td>\n      <td>세종특별자치시 조치원읍 신흥리</td>\n      <td>106</td>\n      <td>0</td>\n      <td>주공연립</td>\n      <td>57.510</td>\n      <td>113.04</td>\n      <td>22,500</td>\n      <td>3</td>\n      <td>1984</td>\n      <td>NaN</td>\n      <td>10~20평</td>\n    </tr>\n    <tr>\n      <th>544</th>\n      <td>202010</td>\n      <td>22</td>\n      <td>세종특별자치시 조치원읍 침산리</td>\n      <td>148</td>\n      <td>3</td>\n      <td>고려</td>\n      <td>76.320</td>\n      <td>53.75</td>\n      <td>9,800</td>\n      <td>1</td>\n      <td>1986</td>\n      <td>NaN</td>\n      <td>20~30평</td>\n    </tr>\n    <tr>\n      <th>545</th>\n      <td>202010</td>\n      <td>18</td>\n      <td>세종특별자치시 조치원읍 침산리</td>\n      <td>147</td>\n      <td>4</td>\n      <td>고려(2)</td>\n      <td>76.320</td>\n      <td>61.34</td>\n      <td>12,000</td>\n      <td>3</td>\n      <td>1986</td>\n      <td>NaN</td>\n      <td>20~30평</td>\n    </tr>\n  </tbody>\n</table>\n<p>546 rows × 13 columns</p>\n</div>"
     },
     "metadata": {},
     "execution_count": 44
    }
   ],
   "source": [
    "yata = pd.read_csv('C:/Users/sopo9/Downloads/SBJ_2102_001/4.세종시_연립다세대(매매)_실거래가.csv')\n",
    "yata[\"평\"]=yata[\"전용면적(㎡)\"].apply(pyeong)\n",
    "yata"
   ]
  },
  {
   "cell_type": "code",
   "execution_count": 83,
   "metadata": {},
   "outputs": [],
   "source": [
    "yata['읍면동구분']=yata['시군구'].apply(sort_dong)\n",
    "yata['읍면동']=yata['시군구'].apply(sort_dong2)"
   ]
  },
  {
   "cell_type": "code",
   "execution_count": 84,
   "metadata": {},
   "outputs": [
    {
     "output_type": "execute_result",
     "data": {
      "text/plain": [
       "      계약년월  계약일  시군구   본번   부번  건물명  전용면적(㎡)  대지권면적(㎡)  거래금액(만원)    층  건축년도  \\\n",
       "읍면동                                                                           \n",
       "금남면     20   20   20   20   20   20       20        20        20   20    20   \n",
       "도담동      6    6    6    6    6    6        6         6         6    6     6   \n",
       "반곡동     18   18   18   18   18   18       18        18        18   18    18   \n",
       "보람동      9    9    9    9    9    9        9         9         9    9     9   \n",
       "부강면     67   67   67   67   67   67       67        67        67   67    67   \n",
       "소담동      5    5    5    5    5    5        5         5         5    5     5   \n",
       "소정면      3    3    3    3    3    3        3         3         3    3     3   \n",
       "연기면     37   37   37   37   37   37       37        37        37   37    37   \n",
       "연서면     12   12   12   12   12   12       12        12        12   12    12   \n",
       "장군면      6    6    6    6    6    6        6         6         6    6     6   \n",
       "전동면      3    3    3    3    3    3        3         3         3    3     3   \n",
       "전의면     30   30   30   30   30   30       30        30        30   30    30   \n",
       "조치원읍   330  330  330  330  330  330      330       330       330  330   330   \n",
       "\n",
       "      해제사유발생일    평  읍면동구분  \n",
       "읍면동                        \n",
       "금남면         0   20     20  \n",
       "도담동         0    6      6  \n",
       "반곡동         1   18     18  \n",
       "보람동         0    9      9  \n",
       "부강면         0   67     67  \n",
       "소담동         0    5      5  \n",
       "소정면         0    3      3  \n",
       "연기면         0   37     37  \n",
       "연서면         0   12     12  \n",
       "장군면         0    6      6  \n",
       "전동면         0    3      3  \n",
       "전의면         0   30     30  \n",
       "조치원읍        1  330    330  "
      ],
      "text/html": "<div>\n<style scoped>\n    .dataframe tbody tr th:only-of-type {\n        vertical-align: middle;\n    }\n\n    .dataframe tbody tr th {\n        vertical-align: top;\n    }\n\n    .dataframe thead th {\n        text-align: right;\n    }\n</style>\n<table border=\"1\" class=\"dataframe\">\n  <thead>\n    <tr style=\"text-align: right;\">\n      <th></th>\n      <th>계약년월</th>\n      <th>계약일</th>\n      <th>시군구</th>\n      <th>본번</th>\n      <th>부번</th>\n      <th>건물명</th>\n      <th>전용면적(㎡)</th>\n      <th>대지권면적(㎡)</th>\n      <th>거래금액(만원)</th>\n      <th>층</th>\n      <th>건축년도</th>\n      <th>해제사유발생일</th>\n      <th>평</th>\n      <th>읍면동구분</th>\n    </tr>\n    <tr>\n      <th>읍면동</th>\n      <th></th>\n      <th></th>\n      <th></th>\n      <th></th>\n      <th></th>\n      <th></th>\n      <th></th>\n      <th></th>\n      <th></th>\n      <th></th>\n      <th></th>\n      <th></th>\n      <th></th>\n      <th></th>\n    </tr>\n  </thead>\n  <tbody>\n    <tr>\n      <th>금남면</th>\n      <td>20</td>\n      <td>20</td>\n      <td>20</td>\n      <td>20</td>\n      <td>20</td>\n      <td>20</td>\n      <td>20</td>\n      <td>20</td>\n      <td>20</td>\n      <td>20</td>\n      <td>20</td>\n      <td>0</td>\n      <td>20</td>\n      <td>20</td>\n    </tr>\n    <tr>\n      <th>도담동</th>\n      <td>6</td>\n      <td>6</td>\n      <td>6</td>\n      <td>6</td>\n      <td>6</td>\n      <td>6</td>\n      <td>6</td>\n      <td>6</td>\n      <td>6</td>\n      <td>6</td>\n      <td>6</td>\n      <td>0</td>\n      <td>6</td>\n      <td>6</td>\n    </tr>\n    <tr>\n      <th>반곡동</th>\n      <td>18</td>\n      <td>18</td>\n      <td>18</td>\n      <td>18</td>\n      <td>18</td>\n      <td>18</td>\n      <td>18</td>\n      <td>18</td>\n      <td>18</td>\n      <td>18</td>\n      <td>18</td>\n      <td>1</td>\n      <td>18</td>\n      <td>18</td>\n    </tr>\n    <tr>\n      <th>보람동</th>\n      <td>9</td>\n      <td>9</td>\n      <td>9</td>\n      <td>9</td>\n      <td>9</td>\n      <td>9</td>\n      <td>9</td>\n      <td>9</td>\n      <td>9</td>\n      <td>9</td>\n      <td>9</td>\n      <td>0</td>\n      <td>9</td>\n      <td>9</td>\n    </tr>\n    <tr>\n      <th>부강면</th>\n      <td>67</td>\n      <td>67</td>\n      <td>67</td>\n      <td>67</td>\n      <td>67</td>\n      <td>67</td>\n      <td>67</td>\n      <td>67</td>\n      <td>67</td>\n      <td>67</td>\n      <td>67</td>\n      <td>0</td>\n      <td>67</td>\n      <td>67</td>\n    </tr>\n    <tr>\n      <th>소담동</th>\n      <td>5</td>\n      <td>5</td>\n      <td>5</td>\n      <td>5</td>\n      <td>5</td>\n      <td>5</td>\n      <td>5</td>\n      <td>5</td>\n      <td>5</td>\n      <td>5</td>\n      <td>5</td>\n      <td>0</td>\n      <td>5</td>\n      <td>5</td>\n    </tr>\n    <tr>\n      <th>소정면</th>\n      <td>3</td>\n      <td>3</td>\n      <td>3</td>\n      <td>3</td>\n      <td>3</td>\n      <td>3</td>\n      <td>3</td>\n      <td>3</td>\n      <td>3</td>\n      <td>3</td>\n      <td>3</td>\n      <td>0</td>\n      <td>3</td>\n      <td>3</td>\n    </tr>\n    <tr>\n      <th>연기면</th>\n      <td>37</td>\n      <td>37</td>\n      <td>37</td>\n      <td>37</td>\n      <td>37</td>\n      <td>37</td>\n      <td>37</td>\n      <td>37</td>\n      <td>37</td>\n      <td>37</td>\n      <td>37</td>\n      <td>0</td>\n      <td>37</td>\n      <td>37</td>\n    </tr>\n    <tr>\n      <th>연서면</th>\n      <td>12</td>\n      <td>12</td>\n      <td>12</td>\n      <td>12</td>\n      <td>12</td>\n      <td>12</td>\n      <td>12</td>\n      <td>12</td>\n      <td>12</td>\n      <td>12</td>\n      <td>12</td>\n      <td>0</td>\n      <td>12</td>\n      <td>12</td>\n    </tr>\n    <tr>\n      <th>장군면</th>\n      <td>6</td>\n      <td>6</td>\n      <td>6</td>\n      <td>6</td>\n      <td>6</td>\n      <td>6</td>\n      <td>6</td>\n      <td>6</td>\n      <td>6</td>\n      <td>6</td>\n      <td>6</td>\n      <td>0</td>\n      <td>6</td>\n      <td>6</td>\n    </tr>\n    <tr>\n      <th>전동면</th>\n      <td>3</td>\n      <td>3</td>\n      <td>3</td>\n      <td>3</td>\n      <td>3</td>\n      <td>3</td>\n      <td>3</td>\n      <td>3</td>\n      <td>3</td>\n      <td>3</td>\n      <td>3</td>\n      <td>0</td>\n      <td>3</td>\n      <td>3</td>\n    </tr>\n    <tr>\n      <th>전의면</th>\n      <td>30</td>\n      <td>30</td>\n      <td>30</td>\n      <td>30</td>\n      <td>30</td>\n      <td>30</td>\n      <td>30</td>\n      <td>30</td>\n      <td>30</td>\n      <td>30</td>\n      <td>30</td>\n      <td>0</td>\n      <td>30</td>\n      <td>30</td>\n    </tr>\n    <tr>\n      <th>조치원읍</th>\n      <td>330</td>\n      <td>330</td>\n      <td>330</td>\n      <td>330</td>\n      <td>330</td>\n      <td>330</td>\n      <td>330</td>\n      <td>330</td>\n      <td>330</td>\n      <td>330</td>\n      <td>330</td>\n      <td>1</td>\n      <td>330</td>\n      <td>330</td>\n    </tr>\n  </tbody>\n</table>\n</div>"
     },
     "metadata": {},
     "execution_count": 84
    }
   ],
   "source": [
    "yata.groupby('읍면동').count()"
   ]
  },
  {
   "cell_type": "code",
   "execution_count": 85,
   "metadata": {},
   "outputs": [
    {
     "output_type": "execute_result",
     "data": {
      "text/plain": [
       "       계약년월  계약일  시군구   본번   부번  건물명  전용면적(㎡)  대지권면적(㎡)  거래금액(만원)    층  건축년도  \\\n",
       "읍면동구분                                                                          \n",
       "동        38   38   38   38   38   38       38        38        38   38    38   \n",
       "면       178  178  178  178  178  178      178       178       178  178   178   \n",
       "읍       330  330  330  330  330  330      330       330       330  330   330   \n",
       "\n",
       "       해제사유발생일    평  읍면동  \n",
       "읍면동구분                     \n",
       "동            1   38   38  \n",
       "면            0  178  178  \n",
       "읍            1  330  330  "
      ],
      "text/html": "<div>\n<style scoped>\n    .dataframe tbody tr th:only-of-type {\n        vertical-align: middle;\n    }\n\n    .dataframe tbody tr th {\n        vertical-align: top;\n    }\n\n    .dataframe thead th {\n        text-align: right;\n    }\n</style>\n<table border=\"1\" class=\"dataframe\">\n  <thead>\n    <tr style=\"text-align: right;\">\n      <th></th>\n      <th>계약년월</th>\n      <th>계약일</th>\n      <th>시군구</th>\n      <th>본번</th>\n      <th>부번</th>\n      <th>건물명</th>\n      <th>전용면적(㎡)</th>\n      <th>대지권면적(㎡)</th>\n      <th>거래금액(만원)</th>\n      <th>층</th>\n      <th>건축년도</th>\n      <th>해제사유발생일</th>\n      <th>평</th>\n      <th>읍면동</th>\n    </tr>\n    <tr>\n      <th>읍면동구분</th>\n      <th></th>\n      <th></th>\n      <th></th>\n      <th></th>\n      <th></th>\n      <th></th>\n      <th></th>\n      <th></th>\n      <th></th>\n      <th></th>\n      <th></th>\n      <th></th>\n      <th></th>\n      <th></th>\n    </tr>\n  </thead>\n  <tbody>\n    <tr>\n      <th>동</th>\n      <td>38</td>\n      <td>38</td>\n      <td>38</td>\n      <td>38</td>\n      <td>38</td>\n      <td>38</td>\n      <td>38</td>\n      <td>38</td>\n      <td>38</td>\n      <td>38</td>\n      <td>38</td>\n      <td>1</td>\n      <td>38</td>\n      <td>38</td>\n    </tr>\n    <tr>\n      <th>면</th>\n      <td>178</td>\n      <td>178</td>\n      <td>178</td>\n      <td>178</td>\n      <td>178</td>\n      <td>178</td>\n      <td>178</td>\n      <td>178</td>\n      <td>178</td>\n      <td>178</td>\n      <td>178</td>\n      <td>0</td>\n      <td>178</td>\n      <td>178</td>\n    </tr>\n    <tr>\n      <th>읍</th>\n      <td>330</td>\n      <td>330</td>\n      <td>330</td>\n      <td>330</td>\n      <td>330</td>\n      <td>330</td>\n      <td>330</td>\n      <td>330</td>\n      <td>330</td>\n      <td>330</td>\n      <td>330</td>\n      <td>1</td>\n      <td>330</td>\n      <td>330</td>\n    </tr>\n  </tbody>\n</table>\n</div>"
     },
     "metadata": {},
     "execution_count": 85
    }
   ],
   "source": [
    "yata.groupby('읍면동구분').count()"
   ]
  },
  {
   "cell_type": "code",
   "execution_count": 45,
   "metadata": {
    "ExecuteTime": {
     "end_time": "2021-03-04T03:19:42.833940Z",
     "start_time": "2021-03-04T03:19:42.806015Z"
    }
   },
   "outputs": [
    {
     "output_type": "execute_result",
     "data": {
      "text/plain": [
       "        계약년월  계약일  시군구   본번   부번  건물명  전용면적(㎡)  대지권면적(㎡)  거래금액(만원)    층  건축년도  \\\n",
       "평                                                                               \n",
       "10~20평   224  224  224  224  224  224      224       224       224  224   224   \n",
       "10평 미만   223  223  223  223  223  223      223       223       223  223   223   \n",
       "20~30평    98   98   98   98   98   98       98        98        98   98    98   \n",
       "30~40평     1    1    1    1    1    1        1         1         1    1     1   \n",
       "\n",
       "        해제사유발생일  \n",
       "평                \n",
       "10~20평        1  \n",
       "10평 미만        0  \n",
       "20~30평        1  \n",
       "30~40평        0  "
      ],
      "text/html": "<div>\n<style scoped>\n    .dataframe tbody tr th:only-of-type {\n        vertical-align: middle;\n    }\n\n    .dataframe tbody tr th {\n        vertical-align: top;\n    }\n\n    .dataframe thead th {\n        text-align: right;\n    }\n</style>\n<table border=\"1\" class=\"dataframe\">\n  <thead>\n    <tr style=\"text-align: right;\">\n      <th></th>\n      <th>계약년월</th>\n      <th>계약일</th>\n      <th>시군구</th>\n      <th>본번</th>\n      <th>부번</th>\n      <th>건물명</th>\n      <th>전용면적(㎡)</th>\n      <th>대지권면적(㎡)</th>\n      <th>거래금액(만원)</th>\n      <th>층</th>\n      <th>건축년도</th>\n      <th>해제사유발생일</th>\n    </tr>\n    <tr>\n      <th>평</th>\n      <th></th>\n      <th></th>\n      <th></th>\n      <th></th>\n      <th></th>\n      <th></th>\n      <th></th>\n      <th></th>\n      <th></th>\n      <th></th>\n      <th></th>\n      <th></th>\n    </tr>\n  </thead>\n  <tbody>\n    <tr>\n      <th>10~20평</th>\n      <td>224</td>\n      <td>224</td>\n      <td>224</td>\n      <td>224</td>\n      <td>224</td>\n      <td>224</td>\n      <td>224</td>\n      <td>224</td>\n      <td>224</td>\n      <td>224</td>\n      <td>224</td>\n      <td>1</td>\n    </tr>\n    <tr>\n      <th>10평 미만</th>\n      <td>223</td>\n      <td>223</td>\n      <td>223</td>\n      <td>223</td>\n      <td>223</td>\n      <td>223</td>\n      <td>223</td>\n      <td>223</td>\n      <td>223</td>\n      <td>223</td>\n      <td>223</td>\n      <td>0</td>\n    </tr>\n    <tr>\n      <th>20~30평</th>\n      <td>98</td>\n      <td>98</td>\n      <td>98</td>\n      <td>98</td>\n      <td>98</td>\n      <td>98</td>\n      <td>98</td>\n      <td>98</td>\n      <td>98</td>\n      <td>98</td>\n      <td>98</td>\n      <td>1</td>\n    </tr>\n    <tr>\n      <th>30~40평</th>\n      <td>1</td>\n      <td>1</td>\n      <td>1</td>\n      <td>1</td>\n      <td>1</td>\n      <td>1</td>\n      <td>1</td>\n      <td>1</td>\n      <td>1</td>\n      <td>1</td>\n      <td>1</td>\n      <td>0</td>\n    </tr>\n  </tbody>\n</table>\n</div>"
     },
     "metadata": {},
     "execution_count": 45
    }
   ],
   "source": [
    "yata.groupby('평').count()"
   ]
  },
  {
   "cell_type": "code",
   "execution_count": 46,
   "metadata": {
    "ExecuteTime": {
     "end_time": "2021-03-04T03:19:42.803023Z",
     "start_time": "2021-03-04T03:19:42.760138Z"
    }
   },
   "outputs": [
    {
     "output_type": "execute_result",
     "data": {
      "text/plain": [
       "                  계약년월  계약일   본번   부번  건물명  전용면적(㎡)  대지권면적(㎡)  거래금액(만원)    층  \\\n",
       "시군구                                                                            \n",
       "세종특별자치시 금남면 도남리      7    7    7    7    7        7         7         7    7   \n",
       "세종특별자치시 금남면 용포리     13   13   13   13   13       13        13        13   13   \n",
       "세종특별자치시 도담동          6    6    6    6    6        6         6         6    6   \n",
       "세종특별자치시 반곡동         18   18   18   18   18       18        18        18   18   \n",
       "세종특별자치시 보람동          9    9    9    9    9        9         9         9    9   \n",
       "세종특별자치시 부강면 문곡리     24   24   24   24   24       24        24        24   24   \n",
       "세종특별자치시 부강면 부강리     43   43   43   43   43       43        43        43   43   \n",
       "세종특별자치시 소담동          5    5    5    5    5        5         5         5    5   \n",
       "세종특별자치시 소정면 대곡리      2    2    2    2    2        2         2         2    2   \n",
       "세종특별자치시 소정면 소정리      1    1    1    1    1        1         1         1    1   \n",
       "세종특별자치시 연기면 보통리     14   14   14   14   14       14        14        14   14   \n",
       "세종특별자치시 연기면 연기리     23   23   23   23   23       23        23        23   23   \n",
       "세종특별자치시 연서면 봉암리      5    5    5    5    5        5         5         5    5   \n",
       "세종특별자치시 연서면 월하리      7    7    7    7    7        7         7         7    7   \n",
       "세종특별자치시 장군면 도계리      6    6    6    6    6        6         6         6    6   \n",
       "세종특별자치시 전동면 노장리      3    3    3    3    3        3         3         3    3   \n",
       "세종특별자치시 전의면 관정리     25   25   25   25   25       25        25        25   25   \n",
       "세종특별자치시 전의면 동교리      4    4    4    4    4        4         4         4    4   \n",
       "세종특별자치시 전의면 읍내리      1    1    1    1    1        1         1         1    1   \n",
       "세종특별자치시 조치원읍 교리     11   11   11   11   11       11        11        11   11   \n",
       "세종특별자치시 조치원읍 남리     19   19   19   19   19       19        19        19   19   \n",
       "세종특별자치시 조치원읍 명리      5    5    5    5    5        5         5         5    5   \n",
       "세종특별자치시 조치원읍 번암리     1    1    1    1    1        1         1         1    1   \n",
       "세종특별자치시 조치원읍 봉산리     6    6    6    6    6        6         6         6    6   \n",
       "세종특별자치시 조치원읍 상리      2    2    2    2    2        2         2         2    2   \n",
       "세종특별자치시 조치원읍 서창리    47   47   47   47   47       47        47        47   47   \n",
       "세종특별자치시 조치원읍 신안리    31   31   31   31   31       31        31        31   31   \n",
       "세종특별자치시 조치원읍 신흥리    53   53   53   53   53       53        53        53   53   \n",
       "세종특별자치시 조치원읍 원리     15   15   15   15   15       15        15        15   15   \n",
       "세종특별자치시 조치원읍 정리    111  111  111  111  111      111       111       111  111   \n",
       "세종특별자치시 조치원읍 죽림리    11   11   11   11   11       11        11        11   11   \n",
       "세종특별자치시 조치원읍 침산리    16   16   16   16   16       16        16        16   16   \n",
       "세종특별자치시 조치원읍 평리      2    2    2    2    2        2         2         2    2   \n",
       "\n",
       "                  건축년도  해제사유발생일    평  \n",
       "시군구                                   \n",
       "세종특별자치시 금남면 도남리      7        0    7  \n",
       "세종특별자치시 금남면 용포리     13        0   13  \n",
       "세종특별자치시 도담동          6        0    6  \n",
       "세종특별자치시 반곡동         18        1   18  \n",
       "세종특별자치시 보람동          9        0    9  \n",
       "세종특별자치시 부강면 문곡리     24        0   24  \n",
       "세종특별자치시 부강면 부강리     43        0   43  \n",
       "세종특별자치시 소담동          5        0    5  \n",
       "세종특별자치시 소정면 대곡리      2        0    2  \n",
       "세종특별자치시 소정면 소정리      1        0    1  \n",
       "세종특별자치시 연기면 보통리     14        0   14  \n",
       "세종특별자치시 연기면 연기리     23        0   23  \n",
       "세종특별자치시 연서면 봉암리      5        0    5  \n",
       "세종특별자치시 연서면 월하리      7        0    7  \n",
       "세종특별자치시 장군면 도계리      6        0    6  \n",
       "세종특별자치시 전동면 노장리      3        0    3  \n",
       "세종특별자치시 전의면 관정리     25        0   25  \n",
       "세종특별자치시 전의면 동교리      4        0    4  \n",
       "세종특별자치시 전의면 읍내리      1        0    1  \n",
       "세종특별자치시 조치원읍 교리     11        0   11  \n",
       "세종특별자치시 조치원읍 남리     19        0   19  \n",
       "세종특별자치시 조치원읍 명리      5        0    5  \n",
       "세종특별자치시 조치원읍 번암리     1        0    1  \n",
       "세종특별자치시 조치원읍 봉산리     6        0    6  \n",
       "세종특별자치시 조치원읍 상리      2        0    2  \n",
       "세종특별자치시 조치원읍 서창리    47        0   47  \n",
       "세종특별자치시 조치원읍 신안리    31        0   31  \n",
       "세종특별자치시 조치원읍 신흥리    53        1   53  \n",
       "세종특별자치시 조치원읍 원리     15        0   15  \n",
       "세종특별자치시 조치원읍 정리    111        0  111  \n",
       "세종특별자치시 조치원읍 죽림리    11        0   11  \n",
       "세종특별자치시 조치원읍 침산리    16        0   16  \n",
       "세종특별자치시 조치원읍 평리      2        0    2  "
      ],
      "text/html": "<div>\n<style scoped>\n    .dataframe tbody tr th:only-of-type {\n        vertical-align: middle;\n    }\n\n    .dataframe tbody tr th {\n        vertical-align: top;\n    }\n\n    .dataframe thead th {\n        text-align: right;\n    }\n</style>\n<table border=\"1\" class=\"dataframe\">\n  <thead>\n    <tr style=\"text-align: right;\">\n      <th></th>\n      <th>계약년월</th>\n      <th>계약일</th>\n      <th>본번</th>\n      <th>부번</th>\n      <th>건물명</th>\n      <th>전용면적(㎡)</th>\n      <th>대지권면적(㎡)</th>\n      <th>거래금액(만원)</th>\n      <th>층</th>\n      <th>건축년도</th>\n      <th>해제사유발생일</th>\n      <th>평</th>\n    </tr>\n    <tr>\n      <th>시군구</th>\n      <th></th>\n      <th></th>\n      <th></th>\n      <th></th>\n      <th></th>\n      <th></th>\n      <th></th>\n      <th></th>\n      <th></th>\n      <th></th>\n      <th></th>\n      <th></th>\n    </tr>\n  </thead>\n  <tbody>\n    <tr>\n      <th>세종특별자치시 금남면 도남리</th>\n      <td>7</td>\n      <td>7</td>\n      <td>7</td>\n      <td>7</td>\n      <td>7</td>\n      <td>7</td>\n      <td>7</td>\n      <td>7</td>\n      <td>7</td>\n      <td>7</td>\n      <td>0</td>\n      <td>7</td>\n    </tr>\n    <tr>\n      <th>세종특별자치시 금남면 용포리</th>\n      <td>13</td>\n      <td>13</td>\n      <td>13</td>\n      <td>13</td>\n      <td>13</td>\n      <td>13</td>\n      <td>13</td>\n      <td>13</td>\n      <td>13</td>\n      <td>13</td>\n      <td>0</td>\n      <td>13</td>\n    </tr>\n    <tr>\n      <th>세종특별자치시 도담동</th>\n      <td>6</td>\n      <td>6</td>\n      <td>6</td>\n      <td>6</td>\n      <td>6</td>\n      <td>6</td>\n      <td>6</td>\n      <td>6</td>\n      <td>6</td>\n      <td>6</td>\n      <td>0</td>\n      <td>6</td>\n    </tr>\n    <tr>\n      <th>세종특별자치시 반곡동</th>\n      <td>18</td>\n      <td>18</td>\n      <td>18</td>\n      <td>18</td>\n      <td>18</td>\n      <td>18</td>\n      <td>18</td>\n      <td>18</td>\n      <td>18</td>\n      <td>18</td>\n      <td>1</td>\n      <td>18</td>\n    </tr>\n    <tr>\n      <th>세종특별자치시 보람동</th>\n      <td>9</td>\n      <td>9</td>\n      <td>9</td>\n      <td>9</td>\n      <td>9</td>\n      <td>9</td>\n      <td>9</td>\n      <td>9</td>\n      <td>9</td>\n      <td>9</td>\n      <td>0</td>\n      <td>9</td>\n    </tr>\n    <tr>\n      <th>세종특별자치시 부강면 문곡리</th>\n      <td>24</td>\n      <td>24</td>\n      <td>24</td>\n      <td>24</td>\n      <td>24</td>\n      <td>24</td>\n      <td>24</td>\n      <td>24</td>\n      <td>24</td>\n      <td>24</td>\n      <td>0</td>\n      <td>24</td>\n    </tr>\n    <tr>\n      <th>세종특별자치시 부강면 부강리</th>\n      <td>43</td>\n      <td>43</td>\n      <td>43</td>\n      <td>43</td>\n      <td>43</td>\n      <td>43</td>\n      <td>43</td>\n      <td>43</td>\n      <td>43</td>\n      <td>43</td>\n      <td>0</td>\n      <td>43</td>\n    </tr>\n    <tr>\n      <th>세종특별자치시 소담동</th>\n      <td>5</td>\n      <td>5</td>\n      <td>5</td>\n      <td>5</td>\n      <td>5</td>\n      <td>5</td>\n      <td>5</td>\n      <td>5</td>\n      <td>5</td>\n      <td>5</td>\n      <td>0</td>\n      <td>5</td>\n    </tr>\n    <tr>\n      <th>세종특별자치시 소정면 대곡리</th>\n      <td>2</td>\n      <td>2</td>\n      <td>2</td>\n      <td>2</td>\n      <td>2</td>\n      <td>2</td>\n      <td>2</td>\n      <td>2</td>\n      <td>2</td>\n      <td>2</td>\n      <td>0</td>\n      <td>2</td>\n    </tr>\n    <tr>\n      <th>세종특별자치시 소정면 소정리</th>\n      <td>1</td>\n      <td>1</td>\n      <td>1</td>\n      <td>1</td>\n      <td>1</td>\n      <td>1</td>\n      <td>1</td>\n      <td>1</td>\n      <td>1</td>\n      <td>1</td>\n      <td>0</td>\n      <td>1</td>\n    </tr>\n    <tr>\n      <th>세종특별자치시 연기면 보통리</th>\n      <td>14</td>\n      <td>14</td>\n      <td>14</td>\n      <td>14</td>\n      <td>14</td>\n      <td>14</td>\n      <td>14</td>\n      <td>14</td>\n      <td>14</td>\n      <td>14</td>\n      <td>0</td>\n      <td>14</td>\n    </tr>\n    <tr>\n      <th>세종특별자치시 연기면 연기리</th>\n      <td>23</td>\n      <td>23</td>\n      <td>23</td>\n      <td>23</td>\n      <td>23</td>\n      <td>23</td>\n      <td>23</td>\n      <td>23</td>\n      <td>23</td>\n      <td>23</td>\n      <td>0</td>\n      <td>23</td>\n    </tr>\n    <tr>\n      <th>세종특별자치시 연서면 봉암리</th>\n      <td>5</td>\n      <td>5</td>\n      <td>5</td>\n      <td>5</td>\n      <td>5</td>\n      <td>5</td>\n      <td>5</td>\n      <td>5</td>\n      <td>5</td>\n      <td>5</td>\n      <td>0</td>\n      <td>5</td>\n    </tr>\n    <tr>\n      <th>세종특별자치시 연서면 월하리</th>\n      <td>7</td>\n      <td>7</td>\n      <td>7</td>\n      <td>7</td>\n      <td>7</td>\n      <td>7</td>\n      <td>7</td>\n      <td>7</td>\n      <td>7</td>\n      <td>7</td>\n      <td>0</td>\n      <td>7</td>\n    </tr>\n    <tr>\n      <th>세종특별자치시 장군면 도계리</th>\n      <td>6</td>\n      <td>6</td>\n      <td>6</td>\n      <td>6</td>\n      <td>6</td>\n      <td>6</td>\n      <td>6</td>\n      <td>6</td>\n      <td>6</td>\n      <td>6</td>\n      <td>0</td>\n      <td>6</td>\n    </tr>\n    <tr>\n      <th>세종특별자치시 전동면 노장리</th>\n      <td>3</td>\n      <td>3</td>\n      <td>3</td>\n      <td>3</td>\n      <td>3</td>\n      <td>3</td>\n      <td>3</td>\n      <td>3</td>\n      <td>3</td>\n      <td>3</td>\n      <td>0</td>\n      <td>3</td>\n    </tr>\n    <tr>\n      <th>세종특별자치시 전의면 관정리</th>\n      <td>25</td>\n      <td>25</td>\n      <td>25</td>\n      <td>25</td>\n      <td>25</td>\n      <td>25</td>\n      <td>25</td>\n      <td>25</td>\n      <td>25</td>\n      <td>25</td>\n      <td>0</td>\n      <td>25</td>\n    </tr>\n    <tr>\n      <th>세종특별자치시 전의면 동교리</th>\n      <td>4</td>\n      <td>4</td>\n      <td>4</td>\n      <td>4</td>\n      <td>4</td>\n      <td>4</td>\n      <td>4</td>\n      <td>4</td>\n      <td>4</td>\n      <td>4</td>\n      <td>0</td>\n      <td>4</td>\n    </tr>\n    <tr>\n      <th>세종특별자치시 전의면 읍내리</th>\n      <td>1</td>\n      <td>1</td>\n      <td>1</td>\n      <td>1</td>\n      <td>1</td>\n      <td>1</td>\n      <td>1</td>\n      <td>1</td>\n      <td>1</td>\n      <td>1</td>\n      <td>0</td>\n      <td>1</td>\n    </tr>\n    <tr>\n      <th>세종특별자치시 조치원읍 교리</th>\n      <td>11</td>\n      <td>11</td>\n      <td>11</td>\n      <td>11</td>\n      <td>11</td>\n      <td>11</td>\n      <td>11</td>\n      <td>11</td>\n      <td>11</td>\n      <td>11</td>\n      <td>0</td>\n      <td>11</td>\n    </tr>\n    <tr>\n      <th>세종특별자치시 조치원읍 남리</th>\n      <td>19</td>\n      <td>19</td>\n      <td>19</td>\n      <td>19</td>\n      <td>19</td>\n      <td>19</td>\n      <td>19</td>\n      <td>19</td>\n      <td>19</td>\n      <td>19</td>\n      <td>0</td>\n      <td>19</td>\n    </tr>\n    <tr>\n      <th>세종특별자치시 조치원읍 명리</th>\n      <td>5</td>\n      <td>5</td>\n      <td>5</td>\n      <td>5</td>\n      <td>5</td>\n      <td>5</td>\n      <td>5</td>\n      <td>5</td>\n      <td>5</td>\n      <td>5</td>\n      <td>0</td>\n      <td>5</td>\n    </tr>\n    <tr>\n      <th>세종특별자치시 조치원읍 번암리</th>\n      <td>1</td>\n      <td>1</td>\n      <td>1</td>\n      <td>1</td>\n      <td>1</td>\n      <td>1</td>\n      <td>1</td>\n      <td>1</td>\n      <td>1</td>\n      <td>1</td>\n      <td>0</td>\n      <td>1</td>\n    </tr>\n    <tr>\n      <th>세종특별자치시 조치원읍 봉산리</th>\n      <td>6</td>\n      <td>6</td>\n      <td>6</td>\n      <td>6</td>\n      <td>6</td>\n      <td>6</td>\n      <td>6</td>\n      <td>6</td>\n      <td>6</td>\n      <td>6</td>\n      <td>0</td>\n      <td>6</td>\n    </tr>\n    <tr>\n      <th>세종특별자치시 조치원읍 상리</th>\n      <td>2</td>\n      <td>2</td>\n      <td>2</td>\n      <td>2</td>\n      <td>2</td>\n      <td>2</td>\n      <td>2</td>\n      <td>2</td>\n      <td>2</td>\n      <td>2</td>\n      <td>0</td>\n      <td>2</td>\n    </tr>\n    <tr>\n      <th>세종특별자치시 조치원읍 서창리</th>\n      <td>47</td>\n      <td>47</td>\n      <td>47</td>\n      <td>47</td>\n      <td>47</td>\n      <td>47</td>\n      <td>47</td>\n      <td>47</td>\n      <td>47</td>\n      <td>47</td>\n      <td>0</td>\n      <td>47</td>\n    </tr>\n    <tr>\n      <th>세종특별자치시 조치원읍 신안리</th>\n      <td>31</td>\n      <td>31</td>\n      <td>31</td>\n      <td>31</td>\n      <td>31</td>\n      <td>31</td>\n      <td>31</td>\n      <td>31</td>\n      <td>31</td>\n      <td>31</td>\n      <td>0</td>\n      <td>31</td>\n    </tr>\n    <tr>\n      <th>세종특별자치시 조치원읍 신흥리</th>\n      <td>53</td>\n      <td>53</td>\n      <td>53</td>\n      <td>53</td>\n      <td>53</td>\n      <td>53</td>\n      <td>53</td>\n      <td>53</td>\n      <td>53</td>\n      <td>53</td>\n      <td>1</td>\n      <td>53</td>\n    </tr>\n    <tr>\n      <th>세종특별자치시 조치원읍 원리</th>\n      <td>15</td>\n      <td>15</td>\n      <td>15</td>\n      <td>15</td>\n      <td>15</td>\n      <td>15</td>\n      <td>15</td>\n      <td>15</td>\n      <td>15</td>\n      <td>15</td>\n      <td>0</td>\n      <td>15</td>\n    </tr>\n    <tr>\n      <th>세종특별자치시 조치원읍 정리</th>\n      <td>111</td>\n      <td>111</td>\n      <td>111</td>\n      <td>111</td>\n      <td>111</td>\n      <td>111</td>\n      <td>111</td>\n      <td>111</td>\n      <td>111</td>\n      <td>111</td>\n      <td>0</td>\n      <td>111</td>\n    </tr>\n    <tr>\n      <th>세종특별자치시 조치원읍 죽림리</th>\n      <td>11</td>\n      <td>11</td>\n      <td>11</td>\n      <td>11</td>\n      <td>11</td>\n      <td>11</td>\n      <td>11</td>\n      <td>11</td>\n      <td>11</td>\n      <td>11</td>\n      <td>0</td>\n      <td>11</td>\n    </tr>\n    <tr>\n      <th>세종특별자치시 조치원읍 침산리</th>\n      <td>16</td>\n      <td>16</td>\n      <td>16</td>\n      <td>16</td>\n      <td>16</td>\n      <td>16</td>\n      <td>16</td>\n      <td>16</td>\n      <td>16</td>\n      <td>16</td>\n      <td>0</td>\n      <td>16</td>\n    </tr>\n    <tr>\n      <th>세종특별자치시 조치원읍 평리</th>\n      <td>2</td>\n      <td>2</td>\n      <td>2</td>\n      <td>2</td>\n      <td>2</td>\n      <td>2</td>\n      <td>2</td>\n      <td>2</td>\n      <td>2</td>\n      <td>2</td>\n      <td>0</td>\n      <td>2</td>\n    </tr>\n  </tbody>\n</table>\n</div>"
     },
     "metadata": {},
     "execution_count": 46
    }
   ],
   "source": [
    "yata.groupby('시군구').count()"
   ]
  },
  {
   "cell_type": "code",
   "execution_count": null,
   "metadata": {
    "ExecuteTime": {
     "end_time": "2021-03-04T03:19:42.848901Z",
     "start_time": "2021-03-04T03:19:42.836932Z"
    }
   },
   "outputs": [],
   "source": [
    "yata.isnull().sum()"
   ]
  },
  {
   "cell_type": "markdown",
   "metadata": {},
   "source": [
    "### 단독다가구 - 전용면적 없음"
   ]
  },
  {
   "cell_type": "code",
   "execution_count": 48,
   "metadata": {
    "ExecuteTime": {
     "end_time": "2021-03-04T03:19:42.894778Z",
     "start_time": "2021-03-04T03:19:42.851893Z"
    }
   },
   "outputs": [
    {
     "output_type": "execute_result",
     "data": {
      "text/plain": [
       "        계약년월  계약일               시군구 주택유형   도로조건  연면적(㎡)  대지면적(㎡) 거래금액(만원)  \\\n",
       "0     201701   10   세종특별자치시 금남면 성덕리   단독   8m미만   56.20    354.0   11,000   \n",
       "1     201701    6   세종특별자치시 금남면 용담리   단독   8m미만   95.76    537.0   26,000   \n",
       "2     201701   10   세종특별자치시 부강면 부강리   단독  12m미만  659.57    320.0  112,000   \n",
       "3     201701    9   세종특별자치시 연기면 보통리   단독  25m미만  307.24    660.0  135,000   \n",
       "4     201701   13   세종특별자치시 연기면 수산리   단독  12m미만  100.00    570.0   33,000   \n",
       "...      ...  ...               ...  ...    ...     ...      ...      ...   \n",
       "1050  202010   16   세종특별자치시 조치원읍 명리   단독  12m미만   79.43    188.0   24,700   \n",
       "1051  202010   20   세종특별자치시 조치원읍 상리   단독   8m미만  171.97    126.0   31,476   \n",
       "1052  202010   26  세종특별자치시 조치원읍 신안리  다가구  12m미만  378.81    263.0   49,000   \n",
       "1053  202010   15  세종특별자치시 조치원읍 죽림리   단독   8m미만   98.73    167.0   23,000   \n",
       "1054  202010   29   세종특별자치시 조치원읍 평리   단독   8m미만  141.30    159.0   13,000   \n",
       "\n",
       "        건축년도  해제사유발생일       평  \n",
       "0     1934.0      NaN  10~20평  \n",
       "1     1977.0      NaN  20~30평  \n",
       "2     2013.0      NaN  60평 이상  \n",
       "3     2004.0      NaN  60평 이상  \n",
       "4     1987.0      NaN  30~40평  \n",
       "...      ...      ...     ...  \n",
       "1050  1975.0      NaN  20~30평  \n",
       "1051  1996.0      NaN  50~60평  \n",
       "1052  1999.0      NaN  60평 이상  \n",
       "1053  1979.0      NaN  20~30평  \n",
       "1054  1985.0      NaN  40~50평  \n",
       "\n",
       "[1055 rows x 11 columns]"
      ],
      "text/html": "<div>\n<style scoped>\n    .dataframe tbody tr th:only-of-type {\n        vertical-align: middle;\n    }\n\n    .dataframe tbody tr th {\n        vertical-align: top;\n    }\n\n    .dataframe thead th {\n        text-align: right;\n    }\n</style>\n<table border=\"1\" class=\"dataframe\">\n  <thead>\n    <tr style=\"text-align: right;\">\n      <th></th>\n      <th>계약년월</th>\n      <th>계약일</th>\n      <th>시군구</th>\n      <th>주택유형</th>\n      <th>도로조건</th>\n      <th>연면적(㎡)</th>\n      <th>대지면적(㎡)</th>\n      <th>거래금액(만원)</th>\n      <th>건축년도</th>\n      <th>해제사유발생일</th>\n      <th>평</th>\n    </tr>\n  </thead>\n  <tbody>\n    <tr>\n      <th>0</th>\n      <td>201701</td>\n      <td>10</td>\n      <td>세종특별자치시 금남면 성덕리</td>\n      <td>단독</td>\n      <td>8m미만</td>\n      <td>56.20</td>\n      <td>354.0</td>\n      <td>11,000</td>\n      <td>1934.0</td>\n      <td>NaN</td>\n      <td>10~20평</td>\n    </tr>\n    <tr>\n      <th>1</th>\n      <td>201701</td>\n      <td>6</td>\n      <td>세종특별자치시 금남면 용담리</td>\n      <td>단독</td>\n      <td>8m미만</td>\n      <td>95.76</td>\n      <td>537.0</td>\n      <td>26,000</td>\n      <td>1977.0</td>\n      <td>NaN</td>\n      <td>20~30평</td>\n    </tr>\n    <tr>\n      <th>2</th>\n      <td>201701</td>\n      <td>10</td>\n      <td>세종특별자치시 부강면 부강리</td>\n      <td>단독</td>\n      <td>12m미만</td>\n      <td>659.57</td>\n      <td>320.0</td>\n      <td>112,000</td>\n      <td>2013.0</td>\n      <td>NaN</td>\n      <td>60평 이상</td>\n    </tr>\n    <tr>\n      <th>3</th>\n      <td>201701</td>\n      <td>9</td>\n      <td>세종특별자치시 연기면 보통리</td>\n      <td>단독</td>\n      <td>25m미만</td>\n      <td>307.24</td>\n      <td>660.0</td>\n      <td>135,000</td>\n      <td>2004.0</td>\n      <td>NaN</td>\n      <td>60평 이상</td>\n    </tr>\n    <tr>\n      <th>4</th>\n      <td>201701</td>\n      <td>13</td>\n      <td>세종특별자치시 연기면 수산리</td>\n      <td>단독</td>\n      <td>12m미만</td>\n      <td>100.00</td>\n      <td>570.0</td>\n      <td>33,000</td>\n      <td>1987.0</td>\n      <td>NaN</td>\n      <td>30~40평</td>\n    </tr>\n    <tr>\n      <th>...</th>\n      <td>...</td>\n      <td>...</td>\n      <td>...</td>\n      <td>...</td>\n      <td>...</td>\n      <td>...</td>\n      <td>...</td>\n      <td>...</td>\n      <td>...</td>\n      <td>...</td>\n      <td>...</td>\n    </tr>\n    <tr>\n      <th>1050</th>\n      <td>202010</td>\n      <td>16</td>\n      <td>세종특별자치시 조치원읍 명리</td>\n      <td>단독</td>\n      <td>12m미만</td>\n      <td>79.43</td>\n      <td>188.0</td>\n      <td>24,700</td>\n      <td>1975.0</td>\n      <td>NaN</td>\n      <td>20~30평</td>\n    </tr>\n    <tr>\n      <th>1051</th>\n      <td>202010</td>\n      <td>20</td>\n      <td>세종특별자치시 조치원읍 상리</td>\n      <td>단독</td>\n      <td>8m미만</td>\n      <td>171.97</td>\n      <td>126.0</td>\n      <td>31,476</td>\n      <td>1996.0</td>\n      <td>NaN</td>\n      <td>50~60평</td>\n    </tr>\n    <tr>\n      <th>1052</th>\n      <td>202010</td>\n      <td>26</td>\n      <td>세종특별자치시 조치원읍 신안리</td>\n      <td>다가구</td>\n      <td>12m미만</td>\n      <td>378.81</td>\n      <td>263.0</td>\n      <td>49,000</td>\n      <td>1999.0</td>\n      <td>NaN</td>\n      <td>60평 이상</td>\n    </tr>\n    <tr>\n      <th>1053</th>\n      <td>202010</td>\n      <td>15</td>\n      <td>세종특별자치시 조치원읍 죽림리</td>\n      <td>단독</td>\n      <td>8m미만</td>\n      <td>98.73</td>\n      <td>167.0</td>\n      <td>23,000</td>\n      <td>1979.0</td>\n      <td>NaN</td>\n      <td>20~30평</td>\n    </tr>\n    <tr>\n      <th>1054</th>\n      <td>202010</td>\n      <td>29</td>\n      <td>세종특별자치시 조치원읍 평리</td>\n      <td>단독</td>\n      <td>8m미만</td>\n      <td>141.30</td>\n      <td>159.0</td>\n      <td>13,000</td>\n      <td>1985.0</td>\n      <td>NaN</td>\n      <td>40~50평</td>\n    </tr>\n  </tbody>\n</table>\n<p>1055 rows × 11 columns</p>\n</div>"
     },
     "metadata": {},
     "execution_count": 48
    }
   ],
   "source": [
    "danta = pd.read_csv('C:/Users/sopo9/Downloads/SBJ_2102_001/5.세종시_단독다가구(매매)_실거래가.csv')\n",
    "danta[\"평\"]=danta[\"연면적(㎡)\"].apply(pyeong)\n",
    "danta"
   ]
  },
  {
   "cell_type": "code",
   "execution_count": 86,
   "metadata": {},
   "outputs": [],
   "source": [
    "danta['읍면동구분']=danta['시군구'].apply(sort_dong)\n",
    "danta['읍면동']=danta['시군구'].apply(sort_dong2)"
   ]
  },
  {
   "cell_type": "code",
   "execution_count": 87,
   "metadata": {},
   "outputs": [
    {
     "output_type": "execute_result",
     "data": {
      "text/plain": [
       "      계약년월  계약일  시군구  주택유형  도로조건  연면적(㎡)  대지면적(㎡)  거래금액(만원)  건축년도  해제사유발생일  \\\n",
       "읍면동                                                                          \n",
       "고운동      5    5    5     5     5       5        5         5     5        0   \n",
       "금남면    132  132  132   132   132     132      132       132   132        6   \n",
       "도담동      2    2    2     2     2       2        2         2     2        1   \n",
       "부강면     70   70   70    70    70      70       70        70    70        3   \n",
       "새롬동      1    1    1     1     1       1        1         1     1        0   \n",
       "소정면     27   27   27    27    27      27       27        27    27        0   \n",
       "아름동      2    2    2     2     2       2        2         2     2        0   \n",
       "연기면     68   68   68    68    68      68       68        68    68        5   \n",
       "연동면     31   31   31    31    31      31       31        31    31        1   \n",
       "연서면    132  132  132   132   132     132      132       132   132        1   \n",
       "장군면    142  142  142   142   142     142      142       142   142        8   \n",
       "전동면     47   47   47    47    47      47       47        47    47        1   \n",
       "전의면     70   70   70    70    70      70       70        70    70        2   \n",
       "조치원읍   325  325  325   325   325     325      325       325   325        7   \n",
       "한솔동      1    1    1     1     1       1        1         1     1        0   \n",
       "\n",
       "        평   도로  시군구2  주택유형2  거래금액2(만원)  읍면동구분  \n",
       "읍면동                                            \n",
       "고운동     5    5     5      5          5      5  \n",
       "금남면   132  132   132    132        132    132  \n",
       "도담동     2    2     2      2          2      2  \n",
       "부강면    70   70    70     70         70     70  \n",
       "새롬동     1    1     1      1          1      1  \n",
       "소정면    27   27    27     27         27     27  \n",
       "아름동     2    2     2      2          2      2  \n",
       "연기면    68   68    68     68         68     68  \n",
       "연동면    31   31    31     31         31     31  \n",
       "연서면   132  132   132    132        132    132  \n",
       "장군면   142  142   142    142        142    142  \n",
       "전동면    47   47    47     47         47     47  \n",
       "전의면    70   70    70     70         70     70  \n",
       "조치원읍  325  325   325    325        325    325  \n",
       "한솔동     1    1     1      1          1      1  "
      ],
      "text/html": "<div>\n<style scoped>\n    .dataframe tbody tr th:only-of-type {\n        vertical-align: middle;\n    }\n\n    .dataframe tbody tr th {\n        vertical-align: top;\n    }\n\n    .dataframe thead th {\n        text-align: right;\n    }\n</style>\n<table border=\"1\" class=\"dataframe\">\n  <thead>\n    <tr style=\"text-align: right;\">\n      <th></th>\n      <th>계약년월</th>\n      <th>계약일</th>\n      <th>시군구</th>\n      <th>주택유형</th>\n      <th>도로조건</th>\n      <th>연면적(㎡)</th>\n      <th>대지면적(㎡)</th>\n      <th>거래금액(만원)</th>\n      <th>건축년도</th>\n      <th>해제사유발생일</th>\n      <th>평</th>\n      <th>도로</th>\n      <th>시군구2</th>\n      <th>주택유형2</th>\n      <th>거래금액2(만원)</th>\n      <th>읍면동구분</th>\n    </tr>\n    <tr>\n      <th>읍면동</th>\n      <th></th>\n      <th></th>\n      <th></th>\n      <th></th>\n      <th></th>\n      <th></th>\n      <th></th>\n      <th></th>\n      <th></th>\n      <th></th>\n      <th></th>\n      <th></th>\n      <th></th>\n      <th></th>\n      <th></th>\n      <th></th>\n    </tr>\n  </thead>\n  <tbody>\n    <tr>\n      <th>고운동</th>\n      <td>5</td>\n      <td>5</td>\n      <td>5</td>\n      <td>5</td>\n      <td>5</td>\n      <td>5</td>\n      <td>5</td>\n      <td>5</td>\n      <td>5</td>\n      <td>0</td>\n      <td>5</td>\n      <td>5</td>\n      <td>5</td>\n      <td>5</td>\n      <td>5</td>\n      <td>5</td>\n    </tr>\n    <tr>\n      <th>금남면</th>\n      <td>132</td>\n      <td>132</td>\n      <td>132</td>\n      <td>132</td>\n      <td>132</td>\n      <td>132</td>\n      <td>132</td>\n      <td>132</td>\n      <td>132</td>\n      <td>6</td>\n      <td>132</td>\n      <td>132</td>\n      <td>132</td>\n      <td>132</td>\n      <td>132</td>\n      <td>132</td>\n    </tr>\n    <tr>\n      <th>도담동</th>\n      <td>2</td>\n      <td>2</td>\n      <td>2</td>\n      <td>2</td>\n      <td>2</td>\n      <td>2</td>\n      <td>2</td>\n      <td>2</td>\n      <td>2</td>\n      <td>1</td>\n      <td>2</td>\n      <td>2</td>\n      <td>2</td>\n      <td>2</td>\n      <td>2</td>\n      <td>2</td>\n    </tr>\n    <tr>\n      <th>부강면</th>\n      <td>70</td>\n      <td>70</td>\n      <td>70</td>\n      <td>70</td>\n      <td>70</td>\n      <td>70</td>\n      <td>70</td>\n      <td>70</td>\n      <td>70</td>\n      <td>3</td>\n      <td>70</td>\n      <td>70</td>\n      <td>70</td>\n      <td>70</td>\n      <td>70</td>\n      <td>70</td>\n    </tr>\n    <tr>\n      <th>새롬동</th>\n      <td>1</td>\n      <td>1</td>\n      <td>1</td>\n      <td>1</td>\n      <td>1</td>\n      <td>1</td>\n      <td>1</td>\n      <td>1</td>\n      <td>1</td>\n      <td>0</td>\n      <td>1</td>\n      <td>1</td>\n      <td>1</td>\n      <td>1</td>\n      <td>1</td>\n      <td>1</td>\n    </tr>\n    <tr>\n      <th>소정면</th>\n      <td>27</td>\n      <td>27</td>\n      <td>27</td>\n      <td>27</td>\n      <td>27</td>\n      <td>27</td>\n      <td>27</td>\n      <td>27</td>\n      <td>27</td>\n      <td>0</td>\n      <td>27</td>\n      <td>27</td>\n      <td>27</td>\n      <td>27</td>\n      <td>27</td>\n      <td>27</td>\n    </tr>\n    <tr>\n      <th>아름동</th>\n      <td>2</td>\n      <td>2</td>\n      <td>2</td>\n      <td>2</td>\n      <td>2</td>\n      <td>2</td>\n      <td>2</td>\n      <td>2</td>\n      <td>2</td>\n      <td>0</td>\n      <td>2</td>\n      <td>2</td>\n      <td>2</td>\n      <td>2</td>\n      <td>2</td>\n      <td>2</td>\n    </tr>\n    <tr>\n      <th>연기면</th>\n      <td>68</td>\n      <td>68</td>\n      <td>68</td>\n      <td>68</td>\n      <td>68</td>\n      <td>68</td>\n      <td>68</td>\n      <td>68</td>\n      <td>68</td>\n      <td>5</td>\n      <td>68</td>\n      <td>68</td>\n      <td>68</td>\n      <td>68</td>\n      <td>68</td>\n      <td>68</td>\n    </tr>\n    <tr>\n      <th>연동면</th>\n      <td>31</td>\n      <td>31</td>\n      <td>31</td>\n      <td>31</td>\n      <td>31</td>\n      <td>31</td>\n      <td>31</td>\n      <td>31</td>\n      <td>31</td>\n      <td>1</td>\n      <td>31</td>\n      <td>31</td>\n      <td>31</td>\n      <td>31</td>\n      <td>31</td>\n      <td>31</td>\n    </tr>\n    <tr>\n      <th>연서면</th>\n      <td>132</td>\n      <td>132</td>\n      <td>132</td>\n      <td>132</td>\n      <td>132</td>\n      <td>132</td>\n      <td>132</td>\n      <td>132</td>\n      <td>132</td>\n      <td>1</td>\n      <td>132</td>\n      <td>132</td>\n      <td>132</td>\n      <td>132</td>\n      <td>132</td>\n      <td>132</td>\n    </tr>\n    <tr>\n      <th>장군면</th>\n      <td>142</td>\n      <td>142</td>\n      <td>142</td>\n      <td>142</td>\n      <td>142</td>\n      <td>142</td>\n      <td>142</td>\n      <td>142</td>\n      <td>142</td>\n      <td>8</td>\n      <td>142</td>\n      <td>142</td>\n      <td>142</td>\n      <td>142</td>\n      <td>142</td>\n      <td>142</td>\n    </tr>\n    <tr>\n      <th>전동면</th>\n      <td>47</td>\n      <td>47</td>\n      <td>47</td>\n      <td>47</td>\n      <td>47</td>\n      <td>47</td>\n      <td>47</td>\n      <td>47</td>\n      <td>47</td>\n      <td>1</td>\n      <td>47</td>\n      <td>47</td>\n      <td>47</td>\n      <td>47</td>\n      <td>47</td>\n      <td>47</td>\n    </tr>\n    <tr>\n      <th>전의면</th>\n      <td>70</td>\n      <td>70</td>\n      <td>70</td>\n      <td>70</td>\n      <td>70</td>\n      <td>70</td>\n      <td>70</td>\n      <td>70</td>\n      <td>70</td>\n      <td>2</td>\n      <td>70</td>\n      <td>70</td>\n      <td>70</td>\n      <td>70</td>\n      <td>70</td>\n      <td>70</td>\n    </tr>\n    <tr>\n      <th>조치원읍</th>\n      <td>325</td>\n      <td>325</td>\n      <td>325</td>\n      <td>325</td>\n      <td>325</td>\n      <td>325</td>\n      <td>325</td>\n      <td>325</td>\n      <td>325</td>\n      <td>7</td>\n      <td>325</td>\n      <td>325</td>\n      <td>325</td>\n      <td>325</td>\n      <td>325</td>\n      <td>325</td>\n    </tr>\n    <tr>\n      <th>한솔동</th>\n      <td>1</td>\n      <td>1</td>\n      <td>1</td>\n      <td>1</td>\n      <td>1</td>\n      <td>1</td>\n      <td>1</td>\n      <td>1</td>\n      <td>1</td>\n      <td>0</td>\n      <td>1</td>\n      <td>1</td>\n      <td>1</td>\n      <td>1</td>\n      <td>1</td>\n      <td>1</td>\n    </tr>\n  </tbody>\n</table>\n</div>"
     },
     "metadata": {},
     "execution_count": 87
    }
   ],
   "source": [
    "danta.groupby('읍면동').count()"
   ]
  },
  {
   "cell_type": "code",
   "execution_count": 88,
   "metadata": {},
   "outputs": [
    {
     "output_type": "execute_result",
     "data": {
      "text/plain": [
       "       계약년월  계약일  시군구  주택유형  도로조건  연면적(㎡)  대지면적(㎡)  거래금액(만원)  건축년도  해제사유발생일  \\\n",
       "읍면동구분                                                                         \n",
       "동        11   11   11    11    11      11       11        11    11        1   \n",
       "면       719  719  719   719   719     719      719       719   719       27   \n",
       "읍       325  325  325   325   325     325      325       325   325        7   \n",
       "\n",
       "         평   도로  시군구2  주택유형2  거래금액2(만원)  읍면동  \n",
       "읍면동구분                                         \n",
       "동       11   11    11     11         11   11  \n",
       "면      719  719   719    719        719  719  \n",
       "읍      325  325   325    325        325  325  "
      ],
      "text/html": "<div>\n<style scoped>\n    .dataframe tbody tr th:only-of-type {\n        vertical-align: middle;\n    }\n\n    .dataframe tbody tr th {\n        vertical-align: top;\n    }\n\n    .dataframe thead th {\n        text-align: right;\n    }\n</style>\n<table border=\"1\" class=\"dataframe\">\n  <thead>\n    <tr style=\"text-align: right;\">\n      <th></th>\n      <th>계약년월</th>\n      <th>계약일</th>\n      <th>시군구</th>\n      <th>주택유형</th>\n      <th>도로조건</th>\n      <th>연면적(㎡)</th>\n      <th>대지면적(㎡)</th>\n      <th>거래금액(만원)</th>\n      <th>건축년도</th>\n      <th>해제사유발생일</th>\n      <th>평</th>\n      <th>도로</th>\n      <th>시군구2</th>\n      <th>주택유형2</th>\n      <th>거래금액2(만원)</th>\n      <th>읍면동</th>\n    </tr>\n    <tr>\n      <th>읍면동구분</th>\n      <th></th>\n      <th></th>\n      <th></th>\n      <th></th>\n      <th></th>\n      <th></th>\n      <th></th>\n      <th></th>\n      <th></th>\n      <th></th>\n      <th></th>\n      <th></th>\n      <th></th>\n      <th></th>\n      <th></th>\n      <th></th>\n    </tr>\n  </thead>\n  <tbody>\n    <tr>\n      <th>동</th>\n      <td>11</td>\n      <td>11</td>\n      <td>11</td>\n      <td>11</td>\n      <td>11</td>\n      <td>11</td>\n      <td>11</td>\n      <td>11</td>\n      <td>11</td>\n      <td>1</td>\n      <td>11</td>\n      <td>11</td>\n      <td>11</td>\n      <td>11</td>\n      <td>11</td>\n      <td>11</td>\n    </tr>\n    <tr>\n      <th>면</th>\n      <td>719</td>\n      <td>719</td>\n      <td>719</td>\n      <td>719</td>\n      <td>719</td>\n      <td>719</td>\n      <td>719</td>\n      <td>719</td>\n      <td>719</td>\n      <td>27</td>\n      <td>719</td>\n      <td>719</td>\n      <td>719</td>\n      <td>719</td>\n      <td>719</td>\n      <td>719</td>\n    </tr>\n    <tr>\n      <th>읍</th>\n      <td>325</td>\n      <td>325</td>\n      <td>325</td>\n      <td>325</td>\n      <td>325</td>\n      <td>325</td>\n      <td>325</td>\n      <td>325</td>\n      <td>325</td>\n      <td>7</td>\n      <td>325</td>\n      <td>325</td>\n      <td>325</td>\n      <td>325</td>\n      <td>325</td>\n      <td>325</td>\n    </tr>\n  </tbody>\n</table>\n</div>"
     },
     "metadata": {},
     "execution_count": 88
    }
   ],
   "source": [
    "danta.groupby('읍면동구분').count()"
   ]
  },
  {
   "cell_type": "code",
   "execution_count": 49,
   "metadata": {
    "ExecuteTime": {
     "end_time": "2021-03-04T03:19:42.954635Z",
     "start_time": "2021-03-04T03:19:42.926708Z"
    }
   },
   "outputs": [
    {
     "output_type": "execute_result",
     "data": {
      "text/plain": [
       "        계약년월  계약일  시군구  주택유형  도로조건  연면적(㎡)  대지면적(㎡)  거래금액(만원)  건축년도  해제사유발생일\n",
       "평                                                                           \n",
       "10~20평   149  149  149   149   149     149      149       149   147        4\n",
       "10평 미만    18   18   18    18    18      18       18        18    18        0\n",
       "20~30평   311  311  311   311   311     311      311       311   310        8\n",
       "30~40평   143  143  143   143   143     143      143       143   142        5\n",
       "40~50평    98   98   98    98    98      98       98        98    98        3\n",
       "50~60평    55   55   55    55    55      55       55        55    54        4\n",
       "60평 이상   281  281  281   281   281     281      281       281   277       11"
      ],
      "text/html": "<div>\n<style scoped>\n    .dataframe tbody tr th:only-of-type {\n        vertical-align: middle;\n    }\n\n    .dataframe tbody tr th {\n        vertical-align: top;\n    }\n\n    .dataframe thead th {\n        text-align: right;\n    }\n</style>\n<table border=\"1\" class=\"dataframe\">\n  <thead>\n    <tr style=\"text-align: right;\">\n      <th></th>\n      <th>계약년월</th>\n      <th>계약일</th>\n      <th>시군구</th>\n      <th>주택유형</th>\n      <th>도로조건</th>\n      <th>연면적(㎡)</th>\n      <th>대지면적(㎡)</th>\n      <th>거래금액(만원)</th>\n      <th>건축년도</th>\n      <th>해제사유발생일</th>\n    </tr>\n    <tr>\n      <th>평</th>\n      <th></th>\n      <th></th>\n      <th></th>\n      <th></th>\n      <th></th>\n      <th></th>\n      <th></th>\n      <th></th>\n      <th></th>\n      <th></th>\n    </tr>\n  </thead>\n  <tbody>\n    <tr>\n      <th>10~20평</th>\n      <td>149</td>\n      <td>149</td>\n      <td>149</td>\n      <td>149</td>\n      <td>149</td>\n      <td>149</td>\n      <td>149</td>\n      <td>149</td>\n      <td>147</td>\n      <td>4</td>\n    </tr>\n    <tr>\n      <th>10평 미만</th>\n      <td>18</td>\n      <td>18</td>\n      <td>18</td>\n      <td>18</td>\n      <td>18</td>\n      <td>18</td>\n      <td>18</td>\n      <td>18</td>\n      <td>18</td>\n      <td>0</td>\n    </tr>\n    <tr>\n      <th>20~30평</th>\n      <td>311</td>\n      <td>311</td>\n      <td>311</td>\n      <td>311</td>\n      <td>311</td>\n      <td>311</td>\n      <td>311</td>\n      <td>311</td>\n      <td>310</td>\n      <td>8</td>\n    </tr>\n    <tr>\n      <th>30~40평</th>\n      <td>143</td>\n      <td>143</td>\n      <td>143</td>\n      <td>143</td>\n      <td>143</td>\n      <td>143</td>\n      <td>143</td>\n      <td>143</td>\n      <td>142</td>\n      <td>5</td>\n    </tr>\n    <tr>\n      <th>40~50평</th>\n      <td>98</td>\n      <td>98</td>\n      <td>98</td>\n      <td>98</td>\n      <td>98</td>\n      <td>98</td>\n      <td>98</td>\n      <td>98</td>\n      <td>98</td>\n      <td>3</td>\n    </tr>\n    <tr>\n      <th>50~60평</th>\n      <td>55</td>\n      <td>55</td>\n      <td>55</td>\n      <td>55</td>\n      <td>55</td>\n      <td>55</td>\n      <td>55</td>\n      <td>55</td>\n      <td>54</td>\n      <td>4</td>\n    </tr>\n    <tr>\n      <th>60평 이상</th>\n      <td>281</td>\n      <td>281</td>\n      <td>281</td>\n      <td>281</td>\n      <td>281</td>\n      <td>281</td>\n      <td>281</td>\n      <td>281</td>\n      <td>277</td>\n      <td>11</td>\n    </tr>\n  </tbody>\n</table>\n</div>"
     },
     "metadata": {},
     "execution_count": 49
    }
   ],
   "source": [
    "danta.groupby('평').count()"
   ]
  },
  {
   "cell_type": "code",
   "execution_count": 50,
   "metadata": {
    "ExecuteTime": {
     "end_time": "2021-03-04T03:19:42.969593Z",
     "start_time": "2021-03-04T03:19:42.957626Z"
    }
   },
   "outputs": [
    {
     "output_type": "execute_result",
     "data": {
      "text/plain": [
       "계약년월           0\n",
       "계약일            0\n",
       "시군구            0\n",
       "주택유형           0\n",
       "도로조건           0\n",
       "연면적(㎡)         0\n",
       "대지면적(㎡)        0\n",
       "거래금액(만원)       0\n",
       "건축년도           9\n",
       "해제사유발생일     1020\n",
       "평              0\n",
       "dtype: int64"
      ]
     },
     "metadata": {},
     "execution_count": 50
    }
   ],
   "source": [
    "danta.isnull().sum()"
   ]
  },
  {
   "cell_type": "code",
   "execution_count": 51,
   "metadata": {
    "ExecuteTime": {
     "end_time": "2021-03-04T03:19:42.984553Z",
     "start_time": "2021-03-04T03:19:42.971588Z"
    }
   },
   "outputs": [],
   "source": [
    "def rep(df):\n",
    "    if df == '-':\n",
    "        return 0\n",
    "    elif df.find('m이상') != -1:\n",
    "        return df.replace('m이상','')\n",
    "    else:\n",
    "        return df.replace('m미만','')"
   ]
  },
  {
   "cell_type": "code",
   "execution_count": 52,
   "metadata": {
    "ExecuteTime": {
     "end_time": "2021-03-04T03:19:43.031936Z",
     "start_time": "2021-03-04T03:19:42.988542Z"
    }
   },
   "outputs": [
    {
     "output_type": "execute_result",
     "data": {
      "text/plain": [
       "        계약년월  계약일               시군구 주택유형   도로조건  연면적(㎡)  대지면적(㎡) 거래금액(만원)  \\\n",
       "0     201701   10   세종특별자치시 금남면 성덕리   단독   8m미만   56.20    354.0   11,000   \n",
       "1     201701    6   세종특별자치시 금남면 용담리   단독   8m미만   95.76    537.0   26,000   \n",
       "2     201701   10   세종특별자치시 부강면 부강리   단독  12m미만  659.57    320.0  112,000   \n",
       "3     201701    9   세종특별자치시 연기면 보통리   단독  25m미만  307.24    660.0  135,000   \n",
       "4     201701   13   세종특별자치시 연기면 수산리   단독  12m미만  100.00    570.0   33,000   \n",
       "...      ...  ...               ...  ...    ...     ...      ...      ...   \n",
       "1050  202010   16   세종특별자치시 조치원읍 명리   단독  12m미만   79.43    188.0   24,700   \n",
       "1051  202010   20   세종특별자치시 조치원읍 상리   단독   8m미만  171.97    126.0   31,476   \n",
       "1052  202010   26  세종특별자치시 조치원읍 신안리  다가구  12m미만  378.81    263.0   49,000   \n",
       "1053  202010   15  세종특별자치시 조치원읍 죽림리   단독   8m미만   98.73    167.0   23,000   \n",
       "1054  202010   29   세종특별자치시 조치원읍 평리   단독   8m미만  141.30    159.0   13,000   \n",
       "\n",
       "        건축년도  해제사유발생일       평  도로  \n",
       "0     1934.0      NaN  10~20평   8  \n",
       "1     1977.0      NaN  20~30평   8  \n",
       "2     2013.0      NaN  60평 이상  12  \n",
       "3     2004.0      NaN  60평 이상  25  \n",
       "4     1987.0      NaN  30~40평  12  \n",
       "...      ...      ...     ...  ..  \n",
       "1050  1975.0      NaN  20~30평  12  \n",
       "1051  1996.0      NaN  50~60평   8  \n",
       "1052  1999.0      NaN  60평 이상  12  \n",
       "1053  1979.0      NaN  20~30평   8  \n",
       "1054  1985.0      NaN  40~50평   8  \n",
       "\n",
       "[1055 rows x 12 columns]"
      ],
      "text/html": "<div>\n<style scoped>\n    .dataframe tbody tr th:only-of-type {\n        vertical-align: middle;\n    }\n\n    .dataframe tbody tr th {\n        vertical-align: top;\n    }\n\n    .dataframe thead th {\n        text-align: right;\n    }\n</style>\n<table border=\"1\" class=\"dataframe\">\n  <thead>\n    <tr style=\"text-align: right;\">\n      <th></th>\n      <th>계약년월</th>\n      <th>계약일</th>\n      <th>시군구</th>\n      <th>주택유형</th>\n      <th>도로조건</th>\n      <th>연면적(㎡)</th>\n      <th>대지면적(㎡)</th>\n      <th>거래금액(만원)</th>\n      <th>건축년도</th>\n      <th>해제사유발생일</th>\n      <th>평</th>\n      <th>도로</th>\n    </tr>\n  </thead>\n  <tbody>\n    <tr>\n      <th>0</th>\n      <td>201701</td>\n      <td>10</td>\n      <td>세종특별자치시 금남면 성덕리</td>\n      <td>단독</td>\n      <td>8m미만</td>\n      <td>56.20</td>\n      <td>354.0</td>\n      <td>11,000</td>\n      <td>1934.0</td>\n      <td>NaN</td>\n      <td>10~20평</td>\n      <td>8</td>\n    </tr>\n    <tr>\n      <th>1</th>\n      <td>201701</td>\n      <td>6</td>\n      <td>세종특별자치시 금남면 용담리</td>\n      <td>단독</td>\n      <td>8m미만</td>\n      <td>95.76</td>\n      <td>537.0</td>\n      <td>26,000</td>\n      <td>1977.0</td>\n      <td>NaN</td>\n      <td>20~30평</td>\n      <td>8</td>\n    </tr>\n    <tr>\n      <th>2</th>\n      <td>201701</td>\n      <td>10</td>\n      <td>세종특별자치시 부강면 부강리</td>\n      <td>단독</td>\n      <td>12m미만</td>\n      <td>659.57</td>\n      <td>320.0</td>\n      <td>112,000</td>\n      <td>2013.0</td>\n      <td>NaN</td>\n      <td>60평 이상</td>\n      <td>12</td>\n    </tr>\n    <tr>\n      <th>3</th>\n      <td>201701</td>\n      <td>9</td>\n      <td>세종특별자치시 연기면 보통리</td>\n      <td>단독</td>\n      <td>25m미만</td>\n      <td>307.24</td>\n      <td>660.0</td>\n      <td>135,000</td>\n      <td>2004.0</td>\n      <td>NaN</td>\n      <td>60평 이상</td>\n      <td>25</td>\n    </tr>\n    <tr>\n      <th>4</th>\n      <td>201701</td>\n      <td>13</td>\n      <td>세종특별자치시 연기면 수산리</td>\n      <td>단독</td>\n      <td>12m미만</td>\n      <td>100.00</td>\n      <td>570.0</td>\n      <td>33,000</td>\n      <td>1987.0</td>\n      <td>NaN</td>\n      <td>30~40평</td>\n      <td>12</td>\n    </tr>\n    <tr>\n      <th>...</th>\n      <td>...</td>\n      <td>...</td>\n      <td>...</td>\n      <td>...</td>\n      <td>...</td>\n      <td>...</td>\n      <td>...</td>\n      <td>...</td>\n      <td>...</td>\n      <td>...</td>\n      <td>...</td>\n      <td>...</td>\n    </tr>\n    <tr>\n      <th>1050</th>\n      <td>202010</td>\n      <td>16</td>\n      <td>세종특별자치시 조치원읍 명리</td>\n      <td>단독</td>\n      <td>12m미만</td>\n      <td>79.43</td>\n      <td>188.0</td>\n      <td>24,700</td>\n      <td>1975.0</td>\n      <td>NaN</td>\n      <td>20~30평</td>\n      <td>12</td>\n    </tr>\n    <tr>\n      <th>1051</th>\n      <td>202010</td>\n      <td>20</td>\n      <td>세종특별자치시 조치원읍 상리</td>\n      <td>단독</td>\n      <td>8m미만</td>\n      <td>171.97</td>\n      <td>126.0</td>\n      <td>31,476</td>\n      <td>1996.0</td>\n      <td>NaN</td>\n      <td>50~60평</td>\n      <td>8</td>\n    </tr>\n    <tr>\n      <th>1052</th>\n      <td>202010</td>\n      <td>26</td>\n      <td>세종특별자치시 조치원읍 신안리</td>\n      <td>다가구</td>\n      <td>12m미만</td>\n      <td>378.81</td>\n      <td>263.0</td>\n      <td>49,000</td>\n      <td>1999.0</td>\n      <td>NaN</td>\n      <td>60평 이상</td>\n      <td>12</td>\n    </tr>\n    <tr>\n      <th>1053</th>\n      <td>202010</td>\n      <td>15</td>\n      <td>세종특별자치시 조치원읍 죽림리</td>\n      <td>단독</td>\n      <td>8m미만</td>\n      <td>98.73</td>\n      <td>167.0</td>\n      <td>23,000</td>\n      <td>1979.0</td>\n      <td>NaN</td>\n      <td>20~30평</td>\n      <td>8</td>\n    </tr>\n    <tr>\n      <th>1054</th>\n      <td>202010</td>\n      <td>29</td>\n      <td>세종특별자치시 조치원읍 평리</td>\n      <td>단독</td>\n      <td>8m미만</td>\n      <td>141.30</td>\n      <td>159.0</td>\n      <td>13,000</td>\n      <td>1985.0</td>\n      <td>NaN</td>\n      <td>40~50평</td>\n      <td>8</td>\n    </tr>\n  </tbody>\n</table>\n<p>1055 rows × 12 columns</p>\n</div>"
     },
     "metadata": {},
     "execution_count": 52
    }
   ],
   "source": [
    "danta[\"도로\"]=danta[\"도로조건\"].apply(rep)\n",
    "danta"
   ]
  },
  {
   "cell_type": "code",
   "execution_count": 53,
   "metadata": {
    "ExecuteTime": {
     "end_time": "2021-03-04T03:19:43.046896Z",
     "start_time": "2021-03-04T03:19:43.033931Z"
    }
   },
   "outputs": [],
   "source": [
    "def riri(df):\n",
    "    return int(float(df.replace(',','')))"
   ]
  },
  {
   "cell_type": "code",
   "execution_count": 54,
   "metadata": {
    "ExecuteTime": {
     "end_time": "2021-03-04T03:19:44.571545Z",
     "start_time": "2021-03-04T03:19:43.050886Z"
    }
   },
   "outputs": [],
   "source": [
    "from sklearn.preprocessing import LabelEncoder\n",
    "labelencoder_x= LabelEncoder()\n",
    "y = danta[\"시군구\"]\n",
    "danta[\"시군구2\"]=labelencoder_x.fit_transform(y)\n",
    "z = danta[\"주택유형\"]\n",
    "danta[\"주택유형2\"]=labelencoder_x.fit_transform(z)\n",
    "danta['거래금액2(만원)']= danta['거래금액(만원)'].apply(riri)"
   ]
  },
  {
   "cell_type": "code",
   "execution_count": 55,
   "metadata": {
    "ExecuteTime": {
     "end_time": "2021-03-04T03:19:44.680462Z",
     "start_time": "2021-03-04T03:19:44.573496Z"
    }
   },
   "outputs": [],
   "source": [
    "from sklearn.linear_model import LinearRegression\n",
    "lm = LinearRegression()"
   ]
  },
  {
   "cell_type": "code",
   "execution_count": 56,
   "metadata": {
    "ExecuteTime": {
     "end_time": "2021-03-04T03:19:44.711380Z",
     "start_time": "2021-03-04T03:19:44.681461Z"
    }
   },
   "outputs": [
    {
     "output_type": "execute_result",
     "data": {
      "text/plain": [
       "        계약년월  계약일               시군구 주택유형  도로조건  연면적(㎡)  대지면적(㎡) 거래금액(만원)  \\\n",
       "30    201702   18   세종특별자치시 연서면 국촌리   단독  8m미만  104.60    304.0    7,000   \n",
       "44    201702   26  세종특별자치시 조치원읍 신흥리   단독  8m미만   41.31    152.0    2,000   \n",
       "70    201703   15   세종특별자치시 전동면 심중리   단독  8m미만   61.16    347.0   12,353   \n",
       "274   201711   20   세종특별자치시 장군면 금암리   단독  8m미만   88.45    567.0   27,400   \n",
       "818   202003   18   세종특별자치시 장군면 금암리   단독  8m미만  185.92   1104.0   90,000   \n",
       "1013  202009   24   세종특별자치시 연기면 보통리  다가구  8m미만  493.86    505.0   90,000   \n",
       "1015  202009   24   세종특별자치시 연기면 보통리  다가구  8m미만  493.86    532.0   90,000   \n",
       "1016  202009   24   세종특별자치시 연기면 보통리  다가구  8m미만  493.86    595.2   90,000   \n",
       "1017  202009   24   세종특별자치시 연기면 보통리  다가구  8m미만  493.86    619.8   90,000   \n",
       "\n",
       "      건축년도     해제사유발생일       평 도로  시군구2  주택유형2  거래금액2(만원)  \n",
       "30     NaN         NaN  30~40평  8    53      1       7000  \n",
       "44     NaN         NaN  10~20평  8   106      1       2000  \n",
       "70     NaN         NaN  10~20평  8    83      1      12353  \n",
       "274    NaN         NaN  20~30평  8    65      1      27400  \n",
       "818    NaN  20200519.0  50~60평  8    65      1      90000  \n",
       "1013   NaN  20201015.0  60평 이상  8    42      0      90000  \n",
       "1015   NaN  20201015.0  60평 이상  8    42      0      90000  \n",
       "1016   NaN  20201015.0  60평 이상  8    42      0      90000  \n",
       "1017   NaN  20201015.0  60평 이상  8    42      0      90000  "
      ],
      "text/html": "<div>\n<style scoped>\n    .dataframe tbody tr th:only-of-type {\n        vertical-align: middle;\n    }\n\n    .dataframe tbody tr th {\n        vertical-align: top;\n    }\n\n    .dataframe thead th {\n        text-align: right;\n    }\n</style>\n<table border=\"1\" class=\"dataframe\">\n  <thead>\n    <tr style=\"text-align: right;\">\n      <th></th>\n      <th>계약년월</th>\n      <th>계약일</th>\n      <th>시군구</th>\n      <th>주택유형</th>\n      <th>도로조건</th>\n      <th>연면적(㎡)</th>\n      <th>대지면적(㎡)</th>\n      <th>거래금액(만원)</th>\n      <th>건축년도</th>\n      <th>해제사유발생일</th>\n      <th>평</th>\n      <th>도로</th>\n      <th>시군구2</th>\n      <th>주택유형2</th>\n      <th>거래금액2(만원)</th>\n    </tr>\n  </thead>\n  <tbody>\n    <tr>\n      <th>30</th>\n      <td>201702</td>\n      <td>18</td>\n      <td>세종특별자치시 연서면 국촌리</td>\n      <td>단독</td>\n      <td>8m미만</td>\n      <td>104.60</td>\n      <td>304.0</td>\n      <td>7,000</td>\n      <td>NaN</td>\n      <td>NaN</td>\n      <td>30~40평</td>\n      <td>8</td>\n      <td>53</td>\n      <td>1</td>\n      <td>7000</td>\n    </tr>\n    <tr>\n      <th>44</th>\n      <td>201702</td>\n      <td>26</td>\n      <td>세종특별자치시 조치원읍 신흥리</td>\n      <td>단독</td>\n      <td>8m미만</td>\n      <td>41.31</td>\n      <td>152.0</td>\n      <td>2,000</td>\n      <td>NaN</td>\n      <td>NaN</td>\n      <td>10~20평</td>\n      <td>8</td>\n      <td>106</td>\n      <td>1</td>\n      <td>2000</td>\n    </tr>\n    <tr>\n      <th>70</th>\n      <td>201703</td>\n      <td>15</td>\n      <td>세종특별자치시 전동면 심중리</td>\n      <td>단독</td>\n      <td>8m미만</td>\n      <td>61.16</td>\n      <td>347.0</td>\n      <td>12,353</td>\n      <td>NaN</td>\n      <td>NaN</td>\n      <td>10~20평</td>\n      <td>8</td>\n      <td>83</td>\n      <td>1</td>\n      <td>12353</td>\n    </tr>\n    <tr>\n      <th>274</th>\n      <td>201711</td>\n      <td>20</td>\n      <td>세종특별자치시 장군면 금암리</td>\n      <td>단독</td>\n      <td>8m미만</td>\n      <td>88.45</td>\n      <td>567.0</td>\n      <td>27,400</td>\n      <td>NaN</td>\n      <td>NaN</td>\n      <td>20~30평</td>\n      <td>8</td>\n      <td>65</td>\n      <td>1</td>\n      <td>27400</td>\n    </tr>\n    <tr>\n      <th>818</th>\n      <td>202003</td>\n      <td>18</td>\n      <td>세종특별자치시 장군면 금암리</td>\n      <td>단독</td>\n      <td>8m미만</td>\n      <td>185.92</td>\n      <td>1104.0</td>\n      <td>90,000</td>\n      <td>NaN</td>\n      <td>20200519.0</td>\n      <td>50~60평</td>\n      <td>8</td>\n      <td>65</td>\n      <td>1</td>\n      <td>90000</td>\n    </tr>\n    <tr>\n      <th>1013</th>\n      <td>202009</td>\n      <td>24</td>\n      <td>세종특별자치시 연기면 보통리</td>\n      <td>다가구</td>\n      <td>8m미만</td>\n      <td>493.86</td>\n      <td>505.0</td>\n      <td>90,000</td>\n      <td>NaN</td>\n      <td>20201015.0</td>\n      <td>60평 이상</td>\n      <td>8</td>\n      <td>42</td>\n      <td>0</td>\n      <td>90000</td>\n    </tr>\n    <tr>\n      <th>1015</th>\n      <td>202009</td>\n      <td>24</td>\n      <td>세종특별자치시 연기면 보통리</td>\n      <td>다가구</td>\n      <td>8m미만</td>\n      <td>493.86</td>\n      <td>532.0</td>\n      <td>90,000</td>\n      <td>NaN</td>\n      <td>20201015.0</td>\n      <td>60평 이상</td>\n      <td>8</td>\n      <td>42</td>\n      <td>0</td>\n      <td>90000</td>\n    </tr>\n    <tr>\n      <th>1016</th>\n      <td>202009</td>\n      <td>24</td>\n      <td>세종특별자치시 연기면 보통리</td>\n      <td>다가구</td>\n      <td>8m미만</td>\n      <td>493.86</td>\n      <td>595.2</td>\n      <td>90,000</td>\n      <td>NaN</td>\n      <td>20201015.0</td>\n      <td>60평 이상</td>\n      <td>8</td>\n      <td>42</td>\n      <td>0</td>\n      <td>90000</td>\n    </tr>\n    <tr>\n      <th>1017</th>\n      <td>202009</td>\n      <td>24</td>\n      <td>세종특별자치시 연기면 보통리</td>\n      <td>다가구</td>\n      <td>8m미만</td>\n      <td>493.86</td>\n      <td>619.8</td>\n      <td>90,000</td>\n      <td>NaN</td>\n      <td>20201015.0</td>\n      <td>60평 이상</td>\n      <td>8</td>\n      <td>42</td>\n      <td>0</td>\n      <td>90000</td>\n    </tr>\n  </tbody>\n</table>\n</div>"
     },
     "metadata": {},
     "execution_count": 56
    }
   ],
   "source": [
    "danta_null=danta[danta['건축년도'].isnull()]\n",
    "danta_null"
   ]
  },
  {
   "cell_type": "code",
   "execution_count": 57,
   "metadata": {
    "ExecuteTime": {
     "end_time": "2021-03-04T03:19:44.742300Z",
     "start_time": "2021-03-04T03:19:44.713374Z"
    }
   },
   "outputs": [
    {
     "output_type": "execute_result",
     "data": {
      "text/plain": [
       "        계약년월  계약일               시군구 주택유형   도로조건  연면적(㎡)  대지면적(㎡) 거래금액(만원)  \\\n",
       "0     201701   10   세종특별자치시 금남면 성덕리   단독   8m미만   56.20    354.0   11,000   \n",
       "1     201701    6   세종특별자치시 금남면 용담리   단독   8m미만   95.76    537.0   26,000   \n",
       "2     201701   10   세종특별자치시 부강면 부강리   단독  12m미만  659.57    320.0  112,000   \n",
       "3     201701    9   세종특별자치시 연기면 보통리   단독  25m미만  307.24    660.0  135,000   \n",
       "4     201701   13   세종특별자치시 연기면 수산리   단독  12m미만  100.00    570.0   33,000   \n",
       "...      ...  ...               ...  ...    ...     ...      ...      ...   \n",
       "1050  202010   16   세종특별자치시 조치원읍 명리   단독  12m미만   79.43    188.0   24,700   \n",
       "1051  202010   20   세종특별자치시 조치원읍 상리   단독   8m미만  171.97    126.0   31,476   \n",
       "1052  202010   26  세종특별자치시 조치원읍 신안리  다가구  12m미만  378.81    263.0   49,000   \n",
       "1053  202010   15  세종특별자치시 조치원읍 죽림리   단독   8m미만   98.73    167.0   23,000   \n",
       "1054  202010   29   세종특별자치시 조치원읍 평리   단독   8m미만  141.30    159.0   13,000   \n",
       "\n",
       "        건축년도  해제사유발생일       평  도로  시군구2  주택유형2  거래금액2(만원)  \n",
       "0     1934.0      NaN  10~20평   8    15      1      11000  \n",
       "1     1977.0      NaN  20~30평   8    20      1      26000  \n",
       "2     2013.0      NaN  60평 이상  12    33      1     112000  \n",
       "3     2004.0      NaN  60평 이상  25    42      1     135000  \n",
       "4     1987.0      NaN  30~40평  12    43      1      33000  \n",
       "...      ...      ...     ...  ..   ...    ...        ...  \n",
       "1050  1975.0      NaN  20~30평  12   100      1      24700  \n",
       "1051  1996.0      NaN  50~60평   8   103      1      31476  \n",
       "1052  1999.0      NaN  60평 이상  12   105      0      49000  \n",
       "1053  1979.0      NaN  20~30평   8   109      1      23000  \n",
       "1054  1985.0      NaN  40~50평   8   111      1      13000  \n",
       "\n",
       "[1046 rows x 15 columns]"
      ],
      "text/html": "<div>\n<style scoped>\n    .dataframe tbody tr th:only-of-type {\n        vertical-align: middle;\n    }\n\n    .dataframe tbody tr th {\n        vertical-align: top;\n    }\n\n    .dataframe thead th {\n        text-align: right;\n    }\n</style>\n<table border=\"1\" class=\"dataframe\">\n  <thead>\n    <tr style=\"text-align: right;\">\n      <th></th>\n      <th>계약년월</th>\n      <th>계약일</th>\n      <th>시군구</th>\n      <th>주택유형</th>\n      <th>도로조건</th>\n      <th>연면적(㎡)</th>\n      <th>대지면적(㎡)</th>\n      <th>거래금액(만원)</th>\n      <th>건축년도</th>\n      <th>해제사유발생일</th>\n      <th>평</th>\n      <th>도로</th>\n      <th>시군구2</th>\n      <th>주택유형2</th>\n      <th>거래금액2(만원)</th>\n    </tr>\n  </thead>\n  <tbody>\n    <tr>\n      <th>0</th>\n      <td>201701</td>\n      <td>10</td>\n      <td>세종특별자치시 금남면 성덕리</td>\n      <td>단독</td>\n      <td>8m미만</td>\n      <td>56.20</td>\n      <td>354.0</td>\n      <td>11,000</td>\n      <td>1934.0</td>\n      <td>NaN</td>\n      <td>10~20평</td>\n      <td>8</td>\n      <td>15</td>\n      <td>1</td>\n      <td>11000</td>\n    </tr>\n    <tr>\n      <th>1</th>\n      <td>201701</td>\n      <td>6</td>\n      <td>세종특별자치시 금남면 용담리</td>\n      <td>단독</td>\n      <td>8m미만</td>\n      <td>95.76</td>\n      <td>537.0</td>\n      <td>26,000</td>\n      <td>1977.0</td>\n      <td>NaN</td>\n      <td>20~30평</td>\n      <td>8</td>\n      <td>20</td>\n      <td>1</td>\n      <td>26000</td>\n    </tr>\n    <tr>\n      <th>2</th>\n      <td>201701</td>\n      <td>10</td>\n      <td>세종특별자치시 부강면 부강리</td>\n      <td>단독</td>\n      <td>12m미만</td>\n      <td>659.57</td>\n      <td>320.0</td>\n      <td>112,000</td>\n      <td>2013.0</td>\n      <td>NaN</td>\n      <td>60평 이상</td>\n      <td>12</td>\n      <td>33</td>\n      <td>1</td>\n      <td>112000</td>\n    </tr>\n    <tr>\n      <th>3</th>\n      <td>201701</td>\n      <td>9</td>\n      <td>세종특별자치시 연기면 보통리</td>\n      <td>단독</td>\n      <td>25m미만</td>\n      <td>307.24</td>\n      <td>660.0</td>\n      <td>135,000</td>\n      <td>2004.0</td>\n      <td>NaN</td>\n      <td>60평 이상</td>\n      <td>25</td>\n      <td>42</td>\n      <td>1</td>\n      <td>135000</td>\n    </tr>\n    <tr>\n      <th>4</th>\n      <td>201701</td>\n      <td>13</td>\n      <td>세종특별자치시 연기면 수산리</td>\n      <td>단독</td>\n      <td>12m미만</td>\n      <td>100.00</td>\n      <td>570.0</td>\n      <td>33,000</td>\n      <td>1987.0</td>\n      <td>NaN</td>\n      <td>30~40평</td>\n      <td>12</td>\n      <td>43</td>\n      <td>1</td>\n      <td>33000</td>\n    </tr>\n    <tr>\n      <th>...</th>\n      <td>...</td>\n      <td>...</td>\n      <td>...</td>\n      <td>...</td>\n      <td>...</td>\n      <td>...</td>\n      <td>...</td>\n      <td>...</td>\n      <td>...</td>\n      <td>...</td>\n      <td>...</td>\n      <td>...</td>\n      <td>...</td>\n      <td>...</td>\n      <td>...</td>\n    </tr>\n    <tr>\n      <th>1050</th>\n      <td>202010</td>\n      <td>16</td>\n      <td>세종특별자치시 조치원읍 명리</td>\n      <td>단독</td>\n      <td>12m미만</td>\n      <td>79.43</td>\n      <td>188.0</td>\n      <td>24,700</td>\n      <td>1975.0</td>\n      <td>NaN</td>\n      <td>20~30평</td>\n      <td>12</td>\n      <td>100</td>\n      <td>1</td>\n      <td>24700</td>\n    </tr>\n    <tr>\n      <th>1051</th>\n      <td>202010</td>\n      <td>20</td>\n      <td>세종특별자치시 조치원읍 상리</td>\n      <td>단독</td>\n      <td>8m미만</td>\n      <td>171.97</td>\n      <td>126.0</td>\n      <td>31,476</td>\n      <td>1996.0</td>\n      <td>NaN</td>\n      <td>50~60평</td>\n      <td>8</td>\n      <td>103</td>\n      <td>1</td>\n      <td>31476</td>\n    </tr>\n    <tr>\n      <th>1052</th>\n      <td>202010</td>\n      <td>26</td>\n      <td>세종특별자치시 조치원읍 신안리</td>\n      <td>다가구</td>\n      <td>12m미만</td>\n      <td>378.81</td>\n      <td>263.0</td>\n      <td>49,000</td>\n      <td>1999.0</td>\n      <td>NaN</td>\n      <td>60평 이상</td>\n      <td>12</td>\n      <td>105</td>\n      <td>0</td>\n      <td>49000</td>\n    </tr>\n    <tr>\n      <th>1053</th>\n      <td>202010</td>\n      <td>15</td>\n      <td>세종특별자치시 조치원읍 죽림리</td>\n      <td>단독</td>\n      <td>8m미만</td>\n      <td>98.73</td>\n      <td>167.0</td>\n      <td>23,000</td>\n      <td>1979.0</td>\n      <td>NaN</td>\n      <td>20~30평</td>\n      <td>8</td>\n      <td>109</td>\n      <td>1</td>\n      <td>23000</td>\n    </tr>\n    <tr>\n      <th>1054</th>\n      <td>202010</td>\n      <td>29</td>\n      <td>세종특별자치시 조치원읍 평리</td>\n      <td>단독</td>\n      <td>8m미만</td>\n      <td>141.30</td>\n      <td>159.0</td>\n      <td>13,000</td>\n      <td>1985.0</td>\n      <td>NaN</td>\n      <td>40~50평</td>\n      <td>8</td>\n      <td>111</td>\n      <td>1</td>\n      <td>13000</td>\n    </tr>\n  </tbody>\n</table>\n<p>1046 rows × 15 columns</p>\n</div>"
     },
     "metadata": {},
     "execution_count": 57
    }
   ],
   "source": [
    "#null 값이 아닌 것만 뽑아오기\n",
    "idx_not=danta[danta['건축년도'].isnull()].index\n",
    "danta_notnull=danta.drop(idx_not)\n",
    "danta_notnull"
   ]
  },
  {
   "cell_type": "code",
   "execution_count": 58,
   "metadata": {
    "ExecuteTime": {
     "end_time": "2021-03-04T03:19:44.757257Z",
     "start_time": "2021-03-04T03:19:44.744292Z"
    }
   },
   "outputs": [],
   "source": [
    "X = danta_notnull[[\"계약년월\",\"연면적(㎡)\",\"대지면적(㎡)\",\"거래금액2(만원)\",\"도로\",\"시군구2\",\"주택유형2\"]]\n",
    "y = danta_notnull['건축년도']"
   ]
  },
  {
   "cell_type": "code",
   "execution_count": 59,
   "metadata": {
    "ExecuteTime": {
     "end_time": "2021-03-04T03:19:44.788176Z",
     "start_time": "2021-03-04T03:19:44.759251Z"
    }
   },
   "outputs": [
    {
     "output_type": "execute_result",
     "data": {
      "text/plain": [
       "LinearRegression()"
      ]
     },
     "metadata": {},
     "execution_count": 59
    }
   ],
   "source": [
    "lm.fit(X,y)"
   ]
  },
  {
   "cell_type": "code",
   "execution_count": 60,
   "metadata": {
    "ExecuteTime": {
     "end_time": "2021-03-04T03:19:44.803134Z",
     "start_time": "2021-03-04T03:19:44.790169Z"
    }
   },
   "outputs": [],
   "source": [
    "X2 = danta_null[[\"계약년월\",\"연면적(㎡)\",\"대지면적(㎡)\",\"거래금액2(만원)\",\"도로\",\"시군구2\",\"주택유형2\"]]"
   ]
  },
  {
   "cell_type": "code",
   "execution_count": 61,
   "metadata": {
    "ExecuteTime": {
     "end_time": "2021-03-04T03:19:44.819090Z",
     "start_time": "2021-03-04T03:19:44.804132Z"
    }
   },
   "outputs": [
    {
     "output_type": "stream",
     "name": "stdout",
     "text": [
      "[1985.44957982 1979.09593051 1982.46228245 1986.33982176 1998.09580227\n 2013.01184105 2013.0641091  2013.18645506 2013.23407706]\n"
     ]
    }
   ],
   "source": [
    "predictions = lm.predict(X2)\n",
    "print(predictions)"
   ]
  },
  {
   "cell_type": "code",
   "execution_count": 63,
   "metadata": {
    "ExecuteTime": {
     "end_time": "2021-03-04T03:19:44.834054Z",
     "start_time": "2021-03-04T03:19:44.821086Z"
    }
   },
   "outputs": [],
   "source": [
    "#적용 완료\n",
    "for i in range(len(danta_null.index)):\n",
    "    danta.loc[ danta_null.index[i] , \"건축년도\" ]=int(predictions[i])"
   ]
  },
  {
   "cell_type": "code",
   "execution_count": 64,
   "metadata": {},
   "outputs": [
    {
     "output_type": "execute_result",
     "data": {
      "text/plain": [
       "        계약년월  계약일               시군구 주택유형   도로조건  연면적(㎡)  대지면적(㎡) 거래금액(만원)  \\\n",
       "0     201701   10   세종특별자치시 금남면 성덕리   단독   8m미만   56.20    354.0   11,000   \n",
       "1     201701    6   세종특별자치시 금남면 용담리   단독   8m미만   95.76    537.0   26,000   \n",
       "2     201701   10   세종특별자치시 부강면 부강리   단독  12m미만  659.57    320.0  112,000   \n",
       "3     201701    9   세종특별자치시 연기면 보통리   단독  25m미만  307.24    660.0  135,000   \n",
       "4     201701   13   세종특별자치시 연기면 수산리   단독  12m미만  100.00    570.0   33,000   \n",
       "...      ...  ...               ...  ...    ...     ...      ...      ...   \n",
       "1050  202010   16   세종특별자치시 조치원읍 명리   단독  12m미만   79.43    188.0   24,700   \n",
       "1051  202010   20   세종특별자치시 조치원읍 상리   단독   8m미만  171.97    126.0   31,476   \n",
       "1052  202010   26  세종특별자치시 조치원읍 신안리  다가구  12m미만  378.81    263.0   49,000   \n",
       "1053  202010   15  세종특별자치시 조치원읍 죽림리   단독   8m미만   98.73    167.0   23,000   \n",
       "1054  202010   29   세종특별자치시 조치원읍 평리   단독   8m미만  141.30    159.0   13,000   \n",
       "\n",
       "        건축년도  해제사유발생일       평  도로  시군구2  주택유형2  거래금액2(만원)  \n",
       "0     1934.0      NaN  10~20평   8    15      1      11000  \n",
       "1     1977.0      NaN  20~30평   8    20      1      26000  \n",
       "2     2013.0      NaN  60평 이상  12    33      1     112000  \n",
       "3     2004.0      NaN  60평 이상  25    42      1     135000  \n",
       "4     1987.0      NaN  30~40평  12    43      1      33000  \n",
       "...      ...      ...     ...  ..   ...    ...        ...  \n",
       "1050  1975.0      NaN  20~30평  12   100      1      24700  \n",
       "1051  1996.0      NaN  50~60평   8   103      1      31476  \n",
       "1052  1999.0      NaN  60평 이상  12   105      0      49000  \n",
       "1053  1979.0      NaN  20~30평   8   109      1      23000  \n",
       "1054  1985.0      NaN  40~50평   8   111      1      13000  \n",
       "\n",
       "[1055 rows x 15 columns]"
      ],
      "text/html": "<div>\n<style scoped>\n    .dataframe tbody tr th:only-of-type {\n        vertical-align: middle;\n    }\n\n    .dataframe tbody tr th {\n        vertical-align: top;\n    }\n\n    .dataframe thead th {\n        text-align: right;\n    }\n</style>\n<table border=\"1\" class=\"dataframe\">\n  <thead>\n    <tr style=\"text-align: right;\">\n      <th></th>\n      <th>계약년월</th>\n      <th>계약일</th>\n      <th>시군구</th>\n      <th>주택유형</th>\n      <th>도로조건</th>\n      <th>연면적(㎡)</th>\n      <th>대지면적(㎡)</th>\n      <th>거래금액(만원)</th>\n      <th>건축년도</th>\n      <th>해제사유발생일</th>\n      <th>평</th>\n      <th>도로</th>\n      <th>시군구2</th>\n      <th>주택유형2</th>\n      <th>거래금액2(만원)</th>\n    </tr>\n  </thead>\n  <tbody>\n    <tr>\n      <th>0</th>\n      <td>201701</td>\n      <td>10</td>\n      <td>세종특별자치시 금남면 성덕리</td>\n      <td>단독</td>\n      <td>8m미만</td>\n      <td>56.20</td>\n      <td>354.0</td>\n      <td>11,000</td>\n      <td>1934.0</td>\n      <td>NaN</td>\n      <td>10~20평</td>\n      <td>8</td>\n      <td>15</td>\n      <td>1</td>\n      <td>11000</td>\n    </tr>\n    <tr>\n      <th>1</th>\n      <td>201701</td>\n      <td>6</td>\n      <td>세종특별자치시 금남면 용담리</td>\n      <td>단독</td>\n      <td>8m미만</td>\n      <td>95.76</td>\n      <td>537.0</td>\n      <td>26,000</td>\n      <td>1977.0</td>\n      <td>NaN</td>\n      <td>20~30평</td>\n      <td>8</td>\n      <td>20</td>\n      <td>1</td>\n      <td>26000</td>\n    </tr>\n    <tr>\n      <th>2</th>\n      <td>201701</td>\n      <td>10</td>\n      <td>세종특별자치시 부강면 부강리</td>\n      <td>단독</td>\n      <td>12m미만</td>\n      <td>659.57</td>\n      <td>320.0</td>\n      <td>112,000</td>\n      <td>2013.0</td>\n      <td>NaN</td>\n      <td>60평 이상</td>\n      <td>12</td>\n      <td>33</td>\n      <td>1</td>\n      <td>112000</td>\n    </tr>\n    <tr>\n      <th>3</th>\n      <td>201701</td>\n      <td>9</td>\n      <td>세종특별자치시 연기면 보통리</td>\n      <td>단독</td>\n      <td>25m미만</td>\n      <td>307.24</td>\n      <td>660.0</td>\n      <td>135,000</td>\n      <td>2004.0</td>\n      <td>NaN</td>\n      <td>60평 이상</td>\n      <td>25</td>\n      <td>42</td>\n      <td>1</td>\n      <td>135000</td>\n    </tr>\n    <tr>\n      <th>4</th>\n      <td>201701</td>\n      <td>13</td>\n      <td>세종특별자치시 연기면 수산리</td>\n      <td>단독</td>\n      <td>12m미만</td>\n      <td>100.00</td>\n      <td>570.0</td>\n      <td>33,000</td>\n      <td>1987.0</td>\n      <td>NaN</td>\n      <td>30~40평</td>\n      <td>12</td>\n      <td>43</td>\n      <td>1</td>\n      <td>33000</td>\n    </tr>\n    <tr>\n      <th>...</th>\n      <td>...</td>\n      <td>...</td>\n      <td>...</td>\n      <td>...</td>\n      <td>...</td>\n      <td>...</td>\n      <td>...</td>\n      <td>...</td>\n      <td>...</td>\n      <td>...</td>\n      <td>...</td>\n      <td>...</td>\n      <td>...</td>\n      <td>...</td>\n      <td>...</td>\n    </tr>\n    <tr>\n      <th>1050</th>\n      <td>202010</td>\n      <td>16</td>\n      <td>세종특별자치시 조치원읍 명리</td>\n      <td>단독</td>\n      <td>12m미만</td>\n      <td>79.43</td>\n      <td>188.0</td>\n      <td>24,700</td>\n      <td>1975.0</td>\n      <td>NaN</td>\n      <td>20~30평</td>\n      <td>12</td>\n      <td>100</td>\n      <td>1</td>\n      <td>24700</td>\n    </tr>\n    <tr>\n      <th>1051</th>\n      <td>202010</td>\n      <td>20</td>\n      <td>세종특별자치시 조치원읍 상리</td>\n      <td>단독</td>\n      <td>8m미만</td>\n      <td>171.97</td>\n      <td>126.0</td>\n      <td>31,476</td>\n      <td>1996.0</td>\n      <td>NaN</td>\n      <td>50~60평</td>\n      <td>8</td>\n      <td>103</td>\n      <td>1</td>\n      <td>31476</td>\n    </tr>\n    <tr>\n      <th>1052</th>\n      <td>202010</td>\n      <td>26</td>\n      <td>세종특별자치시 조치원읍 신안리</td>\n      <td>다가구</td>\n      <td>12m미만</td>\n      <td>378.81</td>\n      <td>263.0</td>\n      <td>49,000</td>\n      <td>1999.0</td>\n      <td>NaN</td>\n      <td>60평 이상</td>\n      <td>12</td>\n      <td>105</td>\n      <td>0</td>\n      <td>49000</td>\n    </tr>\n    <tr>\n      <th>1053</th>\n      <td>202010</td>\n      <td>15</td>\n      <td>세종특별자치시 조치원읍 죽림리</td>\n      <td>단독</td>\n      <td>8m미만</td>\n      <td>98.73</td>\n      <td>167.0</td>\n      <td>23,000</td>\n      <td>1979.0</td>\n      <td>NaN</td>\n      <td>20~30평</td>\n      <td>8</td>\n      <td>109</td>\n      <td>1</td>\n      <td>23000</td>\n    </tr>\n    <tr>\n      <th>1054</th>\n      <td>202010</td>\n      <td>29</td>\n      <td>세종특별자치시 조치원읍 평리</td>\n      <td>단독</td>\n      <td>8m미만</td>\n      <td>141.30</td>\n      <td>159.0</td>\n      <td>13,000</td>\n      <td>1985.0</td>\n      <td>NaN</td>\n      <td>40~50평</td>\n      <td>8</td>\n      <td>111</td>\n      <td>1</td>\n      <td>13000</td>\n    </tr>\n  </tbody>\n</table>\n<p>1055 rows × 15 columns</p>\n</div>"
     },
     "metadata": {},
     "execution_count": 64
    }
   ],
   "source": [
    "danta"
   ]
  },
  {
   "cell_type": "code",
   "execution_count": 65,
   "metadata": {},
   "outputs": [
    {
     "output_type": "execute_result",
     "data": {
      "text/plain": [
       "                  계약년월  계약일  주택유형  도로조건  연면적(㎡)  대지면적(㎡)  거래금액(만원)  건축년도  \\\n",
       "시군구                                                                        \n",
       "세종특별자치시 고운동          5    5     5     5       5        5         5     5   \n",
       "세종특별자치시 금남면 감성리      2    2     2     2       2        2         2     2   \n",
       "세종특별자치시 금남면 국곡리      1    1     1     1       1        1         1     1   \n",
       "세종특별자치시 금남면 금천리      2    2     2     2       2        2         2     2   \n",
       "세종특별자치시 금남면 남곡리      1    1     1     1       1        1         1     1   \n",
       "...                ...  ...   ...   ...     ...      ...       ...   ...   \n",
       "세종특별자치시 조치원읍 정리      4    4     4     4       4        4         4     4   \n",
       "세종특별자치시 조치원읍 죽림리    17   17    17    17      17       17        17    17   \n",
       "세종특별자치시 조치원읍 침산리    34   34    34    34      34       34        34    34   \n",
       "세종특별자치시 조치원읍 평리     17   17    17    17      17       17        17    17   \n",
       "세종특별자치시 한솔동          1    1     1     1       1        1         1     1   \n",
       "\n",
       "                  해제사유발생일   평  도로  시군구2  주택유형2  거래금액2(만원)  \n",
       "시군구                                                        \n",
       "세종특별자치시 고운동             0   5   5     5      5          5  \n",
       "세종특별자치시 금남면 감성리         0   2   2     2      2          2  \n",
       "세종특별자치시 금남면 국곡리         0   1   1     1      1          1  \n",
       "세종특별자치시 금남면 금천리         0   2   2     2      2          2  \n",
       "세종특별자치시 금남면 남곡리         0   1   1     1      1          1  \n",
       "...                   ...  ..  ..   ...    ...        ...  \n",
       "세종특별자치시 조치원읍 정리         0   4   4     4      4          4  \n",
       "세종특별자치시 조치원읍 죽림리        1  17  17    17     17         17  \n",
       "세종특별자치시 조치원읍 침산리        0  34  34    34     34         34  \n",
       "세종특별자치시 조치원읍 평리         0  17  17    17     17         17  \n",
       "세종특별자치시 한솔동             0   1   1     1      1          1  \n",
       "\n",
       "[113 rows x 14 columns]"
      ],
      "text/html": "<div>\n<style scoped>\n    .dataframe tbody tr th:only-of-type {\n        vertical-align: middle;\n    }\n\n    .dataframe tbody tr th {\n        vertical-align: top;\n    }\n\n    .dataframe thead th {\n        text-align: right;\n    }\n</style>\n<table border=\"1\" class=\"dataframe\">\n  <thead>\n    <tr style=\"text-align: right;\">\n      <th></th>\n      <th>계약년월</th>\n      <th>계약일</th>\n      <th>주택유형</th>\n      <th>도로조건</th>\n      <th>연면적(㎡)</th>\n      <th>대지면적(㎡)</th>\n      <th>거래금액(만원)</th>\n      <th>건축년도</th>\n      <th>해제사유발생일</th>\n      <th>평</th>\n      <th>도로</th>\n      <th>시군구2</th>\n      <th>주택유형2</th>\n      <th>거래금액2(만원)</th>\n    </tr>\n    <tr>\n      <th>시군구</th>\n      <th></th>\n      <th></th>\n      <th></th>\n      <th></th>\n      <th></th>\n      <th></th>\n      <th></th>\n      <th></th>\n      <th></th>\n      <th></th>\n      <th></th>\n      <th></th>\n      <th></th>\n      <th></th>\n    </tr>\n  </thead>\n  <tbody>\n    <tr>\n      <th>세종특별자치시 고운동</th>\n      <td>5</td>\n      <td>5</td>\n      <td>5</td>\n      <td>5</td>\n      <td>5</td>\n      <td>5</td>\n      <td>5</td>\n      <td>5</td>\n      <td>0</td>\n      <td>5</td>\n      <td>5</td>\n      <td>5</td>\n      <td>5</td>\n      <td>5</td>\n    </tr>\n    <tr>\n      <th>세종특별자치시 금남면 감성리</th>\n      <td>2</td>\n      <td>2</td>\n      <td>2</td>\n      <td>2</td>\n      <td>2</td>\n      <td>2</td>\n      <td>2</td>\n      <td>2</td>\n      <td>0</td>\n      <td>2</td>\n      <td>2</td>\n      <td>2</td>\n      <td>2</td>\n      <td>2</td>\n    </tr>\n    <tr>\n      <th>세종특별자치시 금남면 국곡리</th>\n      <td>1</td>\n      <td>1</td>\n      <td>1</td>\n      <td>1</td>\n      <td>1</td>\n      <td>1</td>\n      <td>1</td>\n      <td>1</td>\n      <td>0</td>\n      <td>1</td>\n      <td>1</td>\n      <td>1</td>\n      <td>1</td>\n      <td>1</td>\n    </tr>\n    <tr>\n      <th>세종특별자치시 금남면 금천리</th>\n      <td>2</td>\n      <td>2</td>\n      <td>2</td>\n      <td>2</td>\n      <td>2</td>\n      <td>2</td>\n      <td>2</td>\n      <td>2</td>\n      <td>0</td>\n      <td>2</td>\n      <td>2</td>\n      <td>2</td>\n      <td>2</td>\n      <td>2</td>\n    </tr>\n    <tr>\n      <th>세종특별자치시 금남면 남곡리</th>\n      <td>1</td>\n      <td>1</td>\n      <td>1</td>\n      <td>1</td>\n      <td>1</td>\n      <td>1</td>\n      <td>1</td>\n      <td>1</td>\n      <td>0</td>\n      <td>1</td>\n      <td>1</td>\n      <td>1</td>\n      <td>1</td>\n      <td>1</td>\n    </tr>\n    <tr>\n      <th>...</th>\n      <td>...</td>\n      <td>...</td>\n      <td>...</td>\n      <td>...</td>\n      <td>...</td>\n      <td>...</td>\n      <td>...</td>\n      <td>...</td>\n      <td>...</td>\n      <td>...</td>\n      <td>...</td>\n      <td>...</td>\n      <td>...</td>\n      <td>...</td>\n    </tr>\n    <tr>\n      <th>세종특별자치시 조치원읍 정리</th>\n      <td>4</td>\n      <td>4</td>\n      <td>4</td>\n      <td>4</td>\n      <td>4</td>\n      <td>4</td>\n      <td>4</td>\n      <td>4</td>\n      <td>0</td>\n      <td>4</td>\n      <td>4</td>\n      <td>4</td>\n      <td>4</td>\n      <td>4</td>\n    </tr>\n    <tr>\n      <th>세종특별자치시 조치원읍 죽림리</th>\n      <td>17</td>\n      <td>17</td>\n      <td>17</td>\n      <td>17</td>\n      <td>17</td>\n      <td>17</td>\n      <td>17</td>\n      <td>17</td>\n      <td>1</td>\n      <td>17</td>\n      <td>17</td>\n      <td>17</td>\n      <td>17</td>\n      <td>17</td>\n    </tr>\n    <tr>\n      <th>세종특별자치시 조치원읍 침산리</th>\n      <td>34</td>\n      <td>34</td>\n      <td>34</td>\n      <td>34</td>\n      <td>34</td>\n      <td>34</td>\n      <td>34</td>\n      <td>34</td>\n      <td>0</td>\n      <td>34</td>\n      <td>34</td>\n      <td>34</td>\n      <td>34</td>\n      <td>34</td>\n    </tr>\n    <tr>\n      <th>세종특별자치시 조치원읍 평리</th>\n      <td>17</td>\n      <td>17</td>\n      <td>17</td>\n      <td>17</td>\n      <td>17</td>\n      <td>17</td>\n      <td>17</td>\n      <td>17</td>\n      <td>0</td>\n      <td>17</td>\n      <td>17</td>\n      <td>17</td>\n      <td>17</td>\n      <td>17</td>\n    </tr>\n    <tr>\n      <th>세종특별자치시 한솔동</th>\n      <td>1</td>\n      <td>1</td>\n      <td>1</td>\n      <td>1</td>\n      <td>1</td>\n      <td>1</td>\n      <td>1</td>\n      <td>1</td>\n      <td>0</td>\n      <td>1</td>\n      <td>1</td>\n      <td>1</td>\n      <td>1</td>\n      <td>1</td>\n    </tr>\n  </tbody>\n</table>\n<p>113 rows × 14 columns</p>\n</div>"
     },
     "metadata": {},
     "execution_count": 65
    }
   ],
   "source": [
    "danta.groupby('시군구').count()"
   ]
  },
  {
   "cell_type": "code",
   "execution_count": 66,
   "metadata": {},
   "outputs": [
    {
     "output_type": "execute_result",
     "data": {
      "text/plain": [
       "      계약년월  계약일  시군구  도로조건  연면적(㎡)  대지면적(㎡)  거래금액(만원)  건축년도  해제사유발생일    평  \\\n",
       "주택유형                                                                        \n",
       "다가구    124  124  124   124     124      124       124   124        8  124   \n",
       "단독     931  931  931   931     931      931       931   931       27  931   \n",
       "\n",
       "       도로  시군구2  주택유형2  거래금액2(만원)  \n",
       "주택유형                               \n",
       "다가구   124   124    124        124  \n",
       "단독    931   931    931        931  "
      ],
      "text/html": "<div>\n<style scoped>\n    .dataframe tbody tr th:only-of-type {\n        vertical-align: middle;\n    }\n\n    .dataframe tbody tr th {\n        vertical-align: top;\n    }\n\n    .dataframe thead th {\n        text-align: right;\n    }\n</style>\n<table border=\"1\" class=\"dataframe\">\n  <thead>\n    <tr style=\"text-align: right;\">\n      <th></th>\n      <th>계약년월</th>\n      <th>계약일</th>\n      <th>시군구</th>\n      <th>도로조건</th>\n      <th>연면적(㎡)</th>\n      <th>대지면적(㎡)</th>\n      <th>거래금액(만원)</th>\n      <th>건축년도</th>\n      <th>해제사유발생일</th>\n      <th>평</th>\n      <th>도로</th>\n      <th>시군구2</th>\n      <th>주택유형2</th>\n      <th>거래금액2(만원)</th>\n    </tr>\n    <tr>\n      <th>주택유형</th>\n      <th></th>\n      <th></th>\n      <th></th>\n      <th></th>\n      <th></th>\n      <th></th>\n      <th></th>\n      <th></th>\n      <th></th>\n      <th></th>\n      <th></th>\n      <th></th>\n      <th></th>\n      <th></th>\n    </tr>\n  </thead>\n  <tbody>\n    <tr>\n      <th>다가구</th>\n      <td>124</td>\n      <td>124</td>\n      <td>124</td>\n      <td>124</td>\n      <td>124</td>\n      <td>124</td>\n      <td>124</td>\n      <td>124</td>\n      <td>8</td>\n      <td>124</td>\n      <td>124</td>\n      <td>124</td>\n      <td>124</td>\n      <td>124</td>\n    </tr>\n    <tr>\n      <th>단독</th>\n      <td>931</td>\n      <td>931</td>\n      <td>931</td>\n      <td>931</td>\n      <td>931</td>\n      <td>931</td>\n      <td>931</td>\n      <td>931</td>\n      <td>27</td>\n      <td>931</td>\n      <td>931</td>\n      <td>931</td>\n      <td>931</td>\n      <td>931</td>\n    </tr>\n  </tbody>\n</table>\n</div>"
     },
     "metadata": {},
     "execution_count": 66
    }
   ],
   "source": [
    "danta.groupby('주택유형').count()"
   ]
  },
  {
   "cell_type": "code",
   "execution_count": 67,
   "metadata": {},
   "outputs": [
    {
     "output_type": "execute_result",
     "data": {
      "text/plain": [
       "        계약년월  계약일  시군구  주택유형  도로조건  연면적(㎡)  대지면적(㎡)  거래금액(만원)  건축년도  해제사유발생일  \\\n",
       "평                                                                              \n",
       "10~20평   149  149  149   149   149     149      149       149   149        4   \n",
       "10평 미만    18   18   18    18    18      18       18        18    18        0   \n",
       "20~30평   311  311  311   311   311     311      311       311   311        8   \n",
       "30~40평   143  143  143   143   143     143      143       143   143        5   \n",
       "40~50평    98   98   98    98    98      98       98        98    98        3   \n",
       "50~60평    55   55   55    55    55      55       55        55    55        4   \n",
       "60평 이상   281  281  281   281   281     281      281       281   281       11   \n",
       "\n",
       "         도로  시군구2  주택유형2  거래금액2(만원)  \n",
       "평                                    \n",
       "10~20평  149   149    149        149  \n",
       "10평 미만   18    18     18         18  \n",
       "20~30평  311   311    311        311  \n",
       "30~40평  143   143    143        143  \n",
       "40~50평   98    98     98         98  \n",
       "50~60평   55    55     55         55  \n",
       "60평 이상  281   281    281        281  "
      ],
      "text/html": "<div>\n<style scoped>\n    .dataframe tbody tr th:only-of-type {\n        vertical-align: middle;\n    }\n\n    .dataframe tbody tr th {\n        vertical-align: top;\n    }\n\n    .dataframe thead th {\n        text-align: right;\n    }\n</style>\n<table border=\"1\" class=\"dataframe\">\n  <thead>\n    <tr style=\"text-align: right;\">\n      <th></th>\n      <th>계약년월</th>\n      <th>계약일</th>\n      <th>시군구</th>\n      <th>주택유형</th>\n      <th>도로조건</th>\n      <th>연면적(㎡)</th>\n      <th>대지면적(㎡)</th>\n      <th>거래금액(만원)</th>\n      <th>건축년도</th>\n      <th>해제사유발생일</th>\n      <th>도로</th>\n      <th>시군구2</th>\n      <th>주택유형2</th>\n      <th>거래금액2(만원)</th>\n    </tr>\n    <tr>\n      <th>평</th>\n      <th></th>\n      <th></th>\n      <th></th>\n      <th></th>\n      <th></th>\n      <th></th>\n      <th></th>\n      <th></th>\n      <th></th>\n      <th></th>\n      <th></th>\n      <th></th>\n      <th></th>\n      <th></th>\n    </tr>\n  </thead>\n  <tbody>\n    <tr>\n      <th>10~20평</th>\n      <td>149</td>\n      <td>149</td>\n      <td>149</td>\n      <td>149</td>\n      <td>149</td>\n      <td>149</td>\n      <td>149</td>\n      <td>149</td>\n      <td>149</td>\n      <td>4</td>\n      <td>149</td>\n      <td>149</td>\n      <td>149</td>\n      <td>149</td>\n    </tr>\n    <tr>\n      <th>10평 미만</th>\n      <td>18</td>\n      <td>18</td>\n      <td>18</td>\n      <td>18</td>\n      <td>18</td>\n      <td>18</td>\n      <td>18</td>\n      <td>18</td>\n      <td>18</td>\n      <td>0</td>\n      <td>18</td>\n      <td>18</td>\n      <td>18</td>\n      <td>18</td>\n    </tr>\n    <tr>\n      <th>20~30평</th>\n      <td>311</td>\n      <td>311</td>\n      <td>311</td>\n      <td>311</td>\n      <td>311</td>\n      <td>311</td>\n      <td>311</td>\n      <td>311</td>\n      <td>311</td>\n      <td>8</td>\n      <td>311</td>\n      <td>311</td>\n      <td>311</td>\n      <td>311</td>\n    </tr>\n    <tr>\n      <th>30~40평</th>\n      <td>143</td>\n      <td>143</td>\n      <td>143</td>\n      <td>143</td>\n      <td>143</td>\n      <td>143</td>\n      <td>143</td>\n      <td>143</td>\n      <td>143</td>\n      <td>5</td>\n      <td>143</td>\n      <td>143</td>\n      <td>143</td>\n      <td>143</td>\n    </tr>\n    <tr>\n      <th>40~50평</th>\n      <td>98</td>\n      <td>98</td>\n      <td>98</td>\n      <td>98</td>\n      <td>98</td>\n      <td>98</td>\n      <td>98</td>\n      <td>98</td>\n      <td>98</td>\n      <td>3</td>\n      <td>98</td>\n      <td>98</td>\n      <td>98</td>\n      <td>98</td>\n    </tr>\n    <tr>\n      <th>50~60평</th>\n      <td>55</td>\n      <td>55</td>\n      <td>55</td>\n      <td>55</td>\n      <td>55</td>\n      <td>55</td>\n      <td>55</td>\n      <td>55</td>\n      <td>55</td>\n      <td>4</td>\n      <td>55</td>\n      <td>55</td>\n      <td>55</td>\n      <td>55</td>\n    </tr>\n    <tr>\n      <th>60평 이상</th>\n      <td>281</td>\n      <td>281</td>\n      <td>281</td>\n      <td>281</td>\n      <td>281</td>\n      <td>281</td>\n      <td>281</td>\n      <td>281</td>\n      <td>281</td>\n      <td>11</td>\n      <td>281</td>\n      <td>281</td>\n      <td>281</td>\n      <td>281</td>\n    </tr>\n  </tbody>\n</table>\n</div>"
     },
     "metadata": {},
     "execution_count": 67
    }
   ],
   "source": [
    "danta.groupby('평').count()"
   ]
  },
  {
   "cell_type": "markdown",
   "metadata": {},
   "source": [
    "### 오피스텔"
   ]
  },
  {
   "cell_type": "code",
   "execution_count": 41,
   "metadata": {
    "ExecuteTime": {
     "end_time": "2021-03-04T03:19:44.878931Z",
     "start_time": "2021-03-04T03:19:44.837045Z"
    }
   },
   "outputs": [
    {
     "output_type": "execute_result",
     "data": {
      "text/plain": [
       "       계약년월  계약일          시군구   본번  부번       단지명  전용면적(㎡) 거래금액(만원)   층  건축년도  \\\n",
       "0    201701    4  세종특별자치시 어진동    0   0    푸르지오시티    23.74    9,000  14  2014   \n",
       "1    201701    6  세종특별자치시 어진동    0   0    푸르지오시티    23.74    9,500  11  2014   \n",
       "2    201702    5  세종특별자치시 나성동  713   0    세진이너스빌    34.15   13,000   8  2013   \n",
       "3    201702    9  세종특별자치시 도담동  246   5   세종한신휴시티    29.47   13,000   6  2014   \n",
       "4    201702   17  세종특별자치시 어진동    0   0  2차푸르지오시티    23.24   12,300  12  2014   \n",
       "..      ...  ...          ...  ...  ..       ...      ...      ...  ..   ...   \n",
       "302  202010   23  세종특별자치시 어진동    0   0    푸르지오시티    22.42    7,950  12  2014   \n",
       "303  202010   24  세종특별자치시 어진동    0   0    푸르지오시티    22.42    7,900   5  2014   \n",
       "304  202010   24  세종특별자치시 어진동    0   0    푸르지오시티    23.74    8,000  15  2014   \n",
       "305  202010   30  세종특별자치시 어진동    0   0    푸르지오시티    22.42    7,950  16  2014   \n",
       "306  202010   16  세종특별자치시 어진동    0   0     호수의아침    23.57    7,700  10  2014   \n",
       "\n",
       "        해제사유발생일       평  \n",
       "0           NaN  10평 미만  \n",
       "1           NaN  10평 미만  \n",
       "2           NaN  10~20평  \n",
       "3           NaN  10평 미만  \n",
       "4           NaN  10평 미만  \n",
       "..          ...     ...  \n",
       "302         NaN  10평 미만  \n",
       "303         NaN  10평 미만  \n",
       "304         NaN  10평 미만  \n",
       "305         NaN  10평 미만  \n",
       "306  20201208.0  10평 미만  \n",
       "\n",
       "[307 rows x 12 columns]"
      ],
      "text/html": "<div>\n<style scoped>\n    .dataframe tbody tr th:only-of-type {\n        vertical-align: middle;\n    }\n\n    .dataframe tbody tr th {\n        vertical-align: top;\n    }\n\n    .dataframe thead th {\n        text-align: right;\n    }\n</style>\n<table border=\"1\" class=\"dataframe\">\n  <thead>\n    <tr style=\"text-align: right;\">\n      <th></th>\n      <th>계약년월</th>\n      <th>계약일</th>\n      <th>시군구</th>\n      <th>본번</th>\n      <th>부번</th>\n      <th>단지명</th>\n      <th>전용면적(㎡)</th>\n      <th>거래금액(만원)</th>\n      <th>층</th>\n      <th>건축년도</th>\n      <th>해제사유발생일</th>\n      <th>평</th>\n    </tr>\n  </thead>\n  <tbody>\n    <tr>\n      <th>0</th>\n      <td>201701</td>\n      <td>4</td>\n      <td>세종특별자치시 어진동</td>\n      <td>0</td>\n      <td>0</td>\n      <td>푸르지오시티</td>\n      <td>23.74</td>\n      <td>9,000</td>\n      <td>14</td>\n      <td>2014</td>\n      <td>NaN</td>\n      <td>10평 미만</td>\n    </tr>\n    <tr>\n      <th>1</th>\n      <td>201701</td>\n      <td>6</td>\n      <td>세종특별자치시 어진동</td>\n      <td>0</td>\n      <td>0</td>\n      <td>푸르지오시티</td>\n      <td>23.74</td>\n      <td>9,500</td>\n      <td>11</td>\n      <td>2014</td>\n      <td>NaN</td>\n      <td>10평 미만</td>\n    </tr>\n    <tr>\n      <th>2</th>\n      <td>201702</td>\n      <td>5</td>\n      <td>세종특별자치시 나성동</td>\n      <td>713</td>\n      <td>0</td>\n      <td>세진이너스빌</td>\n      <td>34.15</td>\n      <td>13,000</td>\n      <td>8</td>\n      <td>2013</td>\n      <td>NaN</td>\n      <td>10~20평</td>\n    </tr>\n    <tr>\n      <th>3</th>\n      <td>201702</td>\n      <td>9</td>\n      <td>세종특별자치시 도담동</td>\n      <td>246</td>\n      <td>5</td>\n      <td>세종한신휴시티</td>\n      <td>29.47</td>\n      <td>13,000</td>\n      <td>6</td>\n      <td>2014</td>\n      <td>NaN</td>\n      <td>10평 미만</td>\n    </tr>\n    <tr>\n      <th>4</th>\n      <td>201702</td>\n      <td>17</td>\n      <td>세종특별자치시 어진동</td>\n      <td>0</td>\n      <td>0</td>\n      <td>2차푸르지오시티</td>\n      <td>23.24</td>\n      <td>12,300</td>\n      <td>12</td>\n      <td>2014</td>\n      <td>NaN</td>\n      <td>10평 미만</td>\n    </tr>\n    <tr>\n      <th>...</th>\n      <td>...</td>\n      <td>...</td>\n      <td>...</td>\n      <td>...</td>\n      <td>...</td>\n      <td>...</td>\n      <td>...</td>\n      <td>...</td>\n      <td>...</td>\n      <td>...</td>\n      <td>...</td>\n      <td>...</td>\n    </tr>\n    <tr>\n      <th>302</th>\n      <td>202010</td>\n      <td>23</td>\n      <td>세종특별자치시 어진동</td>\n      <td>0</td>\n      <td>0</td>\n      <td>푸르지오시티</td>\n      <td>22.42</td>\n      <td>7,950</td>\n      <td>12</td>\n      <td>2014</td>\n      <td>NaN</td>\n      <td>10평 미만</td>\n    </tr>\n    <tr>\n      <th>303</th>\n      <td>202010</td>\n      <td>24</td>\n      <td>세종특별자치시 어진동</td>\n      <td>0</td>\n      <td>0</td>\n      <td>푸르지오시티</td>\n      <td>22.42</td>\n      <td>7,900</td>\n      <td>5</td>\n      <td>2014</td>\n      <td>NaN</td>\n      <td>10평 미만</td>\n    </tr>\n    <tr>\n      <th>304</th>\n      <td>202010</td>\n      <td>24</td>\n      <td>세종특별자치시 어진동</td>\n      <td>0</td>\n      <td>0</td>\n      <td>푸르지오시티</td>\n      <td>23.74</td>\n      <td>8,000</td>\n      <td>15</td>\n      <td>2014</td>\n      <td>NaN</td>\n      <td>10평 미만</td>\n    </tr>\n    <tr>\n      <th>305</th>\n      <td>202010</td>\n      <td>30</td>\n      <td>세종특별자치시 어진동</td>\n      <td>0</td>\n      <td>0</td>\n      <td>푸르지오시티</td>\n      <td>22.42</td>\n      <td>7,950</td>\n      <td>16</td>\n      <td>2014</td>\n      <td>NaN</td>\n      <td>10평 미만</td>\n    </tr>\n    <tr>\n      <th>306</th>\n      <td>202010</td>\n      <td>16</td>\n      <td>세종특별자치시 어진동</td>\n      <td>0</td>\n      <td>0</td>\n      <td>호수의아침</td>\n      <td>23.57</td>\n      <td>7,700</td>\n      <td>10</td>\n      <td>2014</td>\n      <td>20201208.0</td>\n      <td>10평 미만</td>\n    </tr>\n  </tbody>\n</table>\n<p>307 rows × 12 columns</p>\n</div>"
     },
     "metadata": {},
     "execution_count": 41
    }
   ],
   "source": [
    "oata = pd.read_csv('C:/Users/sopo9/Downloads/SBJ_2102_001/6.세종시_오피스텔(매매)_실거래가.csv')\n",
    "oata[\"평\"]=oata[\"전용면적(㎡)\"].apply(pyeong)\n",
    "oata"
   ]
  },
  {
   "cell_type": "code",
   "execution_count": 89,
   "metadata": {},
   "outputs": [],
   "source": [
    "oata['읍면동구분']=oata['시군구'].apply(sort_dong)\n",
    "oata['읍면동']=oata['시군구'].apply(sort_dong2)"
   ]
  },
  {
   "cell_type": "code",
   "execution_count": 90,
   "metadata": {},
   "outputs": [
    {
     "output_type": "execute_result",
     "data": {
      "text/plain": [
       "       계약년월  계약일  시군구   본번   부번  단지명  전용면적(㎡)  거래금액(만원)    층  건축년도  해제사유발생일  \\\n",
       "읍면동구분                                                                         \n",
       "동       301  301  301  301  301  301      301       301  301   301        7   \n",
       "면         1    1    1    1    1    1        1         1    1     1        0   \n",
       "읍         5    5    5    5    5    5        5         5    5     5        0   \n",
       "\n",
       "         평  읍면동  \n",
       "읍면동구분            \n",
       "동      301  301  \n",
       "면        1    1  \n",
       "읍        5    5  "
      ],
      "text/html": "<div>\n<style scoped>\n    .dataframe tbody tr th:only-of-type {\n        vertical-align: middle;\n    }\n\n    .dataframe tbody tr th {\n        vertical-align: top;\n    }\n\n    .dataframe thead th {\n        text-align: right;\n    }\n</style>\n<table border=\"1\" class=\"dataframe\">\n  <thead>\n    <tr style=\"text-align: right;\">\n      <th></th>\n      <th>계약년월</th>\n      <th>계약일</th>\n      <th>시군구</th>\n      <th>본번</th>\n      <th>부번</th>\n      <th>단지명</th>\n      <th>전용면적(㎡)</th>\n      <th>거래금액(만원)</th>\n      <th>층</th>\n      <th>건축년도</th>\n      <th>해제사유발생일</th>\n      <th>평</th>\n      <th>읍면동</th>\n    </tr>\n    <tr>\n      <th>읍면동구분</th>\n      <th></th>\n      <th></th>\n      <th></th>\n      <th></th>\n      <th></th>\n      <th></th>\n      <th></th>\n      <th></th>\n      <th></th>\n      <th></th>\n      <th></th>\n      <th></th>\n      <th></th>\n    </tr>\n  </thead>\n  <tbody>\n    <tr>\n      <th>동</th>\n      <td>301</td>\n      <td>301</td>\n      <td>301</td>\n      <td>301</td>\n      <td>301</td>\n      <td>301</td>\n      <td>301</td>\n      <td>301</td>\n      <td>301</td>\n      <td>301</td>\n      <td>7</td>\n      <td>301</td>\n      <td>301</td>\n    </tr>\n    <tr>\n      <th>면</th>\n      <td>1</td>\n      <td>1</td>\n      <td>1</td>\n      <td>1</td>\n      <td>1</td>\n      <td>1</td>\n      <td>1</td>\n      <td>1</td>\n      <td>1</td>\n      <td>1</td>\n      <td>0</td>\n      <td>1</td>\n      <td>1</td>\n    </tr>\n    <tr>\n      <th>읍</th>\n      <td>5</td>\n      <td>5</td>\n      <td>5</td>\n      <td>5</td>\n      <td>5</td>\n      <td>5</td>\n      <td>5</td>\n      <td>5</td>\n      <td>5</td>\n      <td>5</td>\n      <td>0</td>\n      <td>5</td>\n      <td>5</td>\n    </tr>\n  </tbody>\n</table>\n</div>"
     },
     "metadata": {},
     "execution_count": 90
    }
   ],
   "source": [
    "oata.groupby('읍면동구분').count()"
   ]
  },
  {
   "cell_type": "code",
   "execution_count": 91,
   "metadata": {},
   "outputs": [
    {
     "output_type": "execute_result",
     "data": {
      "text/plain": [
       "      계약년월  계약일  시군구   본번   부번  단지명  전용면적(㎡)  거래금액(만원)    층  건축년도  해제사유발생일  \\\n",
       "읍면동                                                                          \n",
       "나성동     22   22   22   22   22   22       22        22   22    22        1   \n",
       "도담동     32   32   32   32   32   32       32        32   32    32        0   \n",
       "부강면      1    1    1    1    1    1        1         1    1     1        0   \n",
       "어진동    247  247  247  247  247  247      247       247  247   247        6   \n",
       "조치원읍     5    5    5    5    5    5        5         5    5     5        0   \n",
       "\n",
       "        평  읍면동구분  \n",
       "읍면동               \n",
       "나성동    22     22  \n",
       "도담동    32     32  \n",
       "부강면     1      1  \n",
       "어진동   247    247  \n",
       "조치원읍    5      5  "
      ],
      "text/html": "<div>\n<style scoped>\n    .dataframe tbody tr th:only-of-type {\n        vertical-align: middle;\n    }\n\n    .dataframe tbody tr th {\n        vertical-align: top;\n    }\n\n    .dataframe thead th {\n        text-align: right;\n    }\n</style>\n<table border=\"1\" class=\"dataframe\">\n  <thead>\n    <tr style=\"text-align: right;\">\n      <th></th>\n      <th>계약년월</th>\n      <th>계약일</th>\n      <th>시군구</th>\n      <th>본번</th>\n      <th>부번</th>\n      <th>단지명</th>\n      <th>전용면적(㎡)</th>\n      <th>거래금액(만원)</th>\n      <th>층</th>\n      <th>건축년도</th>\n      <th>해제사유발생일</th>\n      <th>평</th>\n      <th>읍면동구분</th>\n    </tr>\n    <tr>\n      <th>읍면동</th>\n      <th></th>\n      <th></th>\n      <th></th>\n      <th></th>\n      <th></th>\n      <th></th>\n      <th></th>\n      <th></th>\n      <th></th>\n      <th></th>\n      <th></th>\n      <th></th>\n      <th></th>\n    </tr>\n  </thead>\n  <tbody>\n    <tr>\n      <th>나성동</th>\n      <td>22</td>\n      <td>22</td>\n      <td>22</td>\n      <td>22</td>\n      <td>22</td>\n      <td>22</td>\n      <td>22</td>\n      <td>22</td>\n      <td>22</td>\n      <td>22</td>\n      <td>1</td>\n      <td>22</td>\n      <td>22</td>\n    </tr>\n    <tr>\n      <th>도담동</th>\n      <td>32</td>\n      <td>32</td>\n      <td>32</td>\n      <td>32</td>\n      <td>32</td>\n      <td>32</td>\n      <td>32</td>\n      <td>32</td>\n      <td>32</td>\n      <td>32</td>\n      <td>0</td>\n      <td>32</td>\n      <td>32</td>\n    </tr>\n    <tr>\n      <th>부강면</th>\n      <td>1</td>\n      <td>1</td>\n      <td>1</td>\n      <td>1</td>\n      <td>1</td>\n      <td>1</td>\n      <td>1</td>\n      <td>1</td>\n      <td>1</td>\n      <td>1</td>\n      <td>0</td>\n      <td>1</td>\n      <td>1</td>\n    </tr>\n    <tr>\n      <th>어진동</th>\n      <td>247</td>\n      <td>247</td>\n      <td>247</td>\n      <td>247</td>\n      <td>247</td>\n      <td>247</td>\n      <td>247</td>\n      <td>247</td>\n      <td>247</td>\n      <td>247</td>\n      <td>6</td>\n      <td>247</td>\n      <td>247</td>\n    </tr>\n    <tr>\n      <th>조치원읍</th>\n      <td>5</td>\n      <td>5</td>\n      <td>5</td>\n      <td>5</td>\n      <td>5</td>\n      <td>5</td>\n      <td>5</td>\n      <td>5</td>\n      <td>5</td>\n      <td>5</td>\n      <td>0</td>\n      <td>5</td>\n      <td>5</td>\n    </tr>\n  </tbody>\n</table>\n</div>"
     },
     "metadata": {},
     "execution_count": 91
    }
   ],
   "source": [
    "oata.groupby('읍면동').count()"
   ]
  },
  {
   "cell_type": "code",
   "execution_count": 42,
   "metadata": {
    "ExecuteTime": {
     "end_time": "2021-03-04T03:19:44.925319Z",
     "start_time": "2021-03-04T03:19:44.880928Z"
    }
   },
   "outputs": [
    {
     "output_type": "execute_result",
     "data": {
      "text/plain": [
       "                 계약년월  계약일   본번   부번  단지명  전용면적(㎡)  거래금액(만원)    층  건축년도  \\\n",
       "시군구                                                                       \n",
       "세종특별자치시 나성동        22   22   22   22   22       22        22   22    22   \n",
       "세종특별자치시 도담동        32   32   32   32   32       32        32   32    32   \n",
       "세종특별자치시 부강면 부강리     1    1    1    1    1        1         1    1     1   \n",
       "세종특별자치시 어진동       247  247  247  247  247      247       247  247   247   \n",
       "세종특별자치시 조치원읍 남리     4    4    4    4    4        4         4    4     4   \n",
       "세종특별자치시 조치원읍 명리     1    1    1    1    1        1         1    1     1   \n",
       "\n",
       "                 해제사유발생일    평  \n",
       "시군구                            \n",
       "세종특별자치시 나성동            1   22  \n",
       "세종특별자치시 도담동            0   32  \n",
       "세종특별자치시 부강면 부강리        0    1  \n",
       "세종특별자치시 어진동            6  247  \n",
       "세종특별자치시 조치원읍 남리        0    4  \n",
       "세종특별자치시 조치원읍 명리        0    1  "
      ],
      "text/html": "<div>\n<style scoped>\n    .dataframe tbody tr th:only-of-type {\n        vertical-align: middle;\n    }\n\n    .dataframe tbody tr th {\n        vertical-align: top;\n    }\n\n    .dataframe thead th {\n        text-align: right;\n    }\n</style>\n<table border=\"1\" class=\"dataframe\">\n  <thead>\n    <tr style=\"text-align: right;\">\n      <th></th>\n      <th>계약년월</th>\n      <th>계약일</th>\n      <th>본번</th>\n      <th>부번</th>\n      <th>단지명</th>\n      <th>전용면적(㎡)</th>\n      <th>거래금액(만원)</th>\n      <th>층</th>\n      <th>건축년도</th>\n      <th>해제사유발생일</th>\n      <th>평</th>\n    </tr>\n    <tr>\n      <th>시군구</th>\n      <th></th>\n      <th></th>\n      <th></th>\n      <th></th>\n      <th></th>\n      <th></th>\n      <th></th>\n      <th></th>\n      <th></th>\n      <th></th>\n      <th></th>\n    </tr>\n  </thead>\n  <tbody>\n    <tr>\n      <th>세종특별자치시 나성동</th>\n      <td>22</td>\n      <td>22</td>\n      <td>22</td>\n      <td>22</td>\n      <td>22</td>\n      <td>22</td>\n      <td>22</td>\n      <td>22</td>\n      <td>22</td>\n      <td>1</td>\n      <td>22</td>\n    </tr>\n    <tr>\n      <th>세종특별자치시 도담동</th>\n      <td>32</td>\n      <td>32</td>\n      <td>32</td>\n      <td>32</td>\n      <td>32</td>\n      <td>32</td>\n      <td>32</td>\n      <td>32</td>\n      <td>32</td>\n      <td>0</td>\n      <td>32</td>\n    </tr>\n    <tr>\n      <th>세종특별자치시 부강면 부강리</th>\n      <td>1</td>\n      <td>1</td>\n      <td>1</td>\n      <td>1</td>\n      <td>1</td>\n      <td>1</td>\n      <td>1</td>\n      <td>1</td>\n      <td>1</td>\n      <td>0</td>\n      <td>1</td>\n    </tr>\n    <tr>\n      <th>세종특별자치시 어진동</th>\n      <td>247</td>\n      <td>247</td>\n      <td>247</td>\n      <td>247</td>\n      <td>247</td>\n      <td>247</td>\n      <td>247</td>\n      <td>247</td>\n      <td>247</td>\n      <td>6</td>\n      <td>247</td>\n    </tr>\n    <tr>\n      <th>세종특별자치시 조치원읍 남리</th>\n      <td>4</td>\n      <td>4</td>\n      <td>4</td>\n      <td>4</td>\n      <td>4</td>\n      <td>4</td>\n      <td>4</td>\n      <td>4</td>\n      <td>4</td>\n      <td>0</td>\n      <td>4</td>\n    </tr>\n    <tr>\n      <th>세종특별자치시 조치원읍 명리</th>\n      <td>1</td>\n      <td>1</td>\n      <td>1</td>\n      <td>1</td>\n      <td>1</td>\n      <td>1</td>\n      <td>1</td>\n      <td>1</td>\n      <td>1</td>\n      <td>0</td>\n      <td>1</td>\n    </tr>\n  </tbody>\n</table>\n</div>"
     },
     "metadata": {},
     "execution_count": 42
    }
   ],
   "source": [
    "oata.groupby('시군구').count()"
   ]
  },
  {
   "cell_type": "code",
   "execution_count": 43,
   "metadata": {
    "ExecuteTime": {
     "end_time": "2021-03-04T03:19:44.956236Z",
     "start_time": "2021-03-04T03:19:44.928312Z"
    }
   },
   "outputs": [
    {
     "output_type": "execute_result",
     "data": {
      "text/plain": [
       "        계약년월  계약일  시군구   본번   부번  단지명  전용면적(㎡)  거래금액(만원)    층  건축년도  해제사유발생일\n",
       "평                                                                           \n",
       "10~20평    30   30   30   30   30   30       30        30   30    30        1\n",
       "10평 미만   275  275  275  275  275  275      275       275  275   275        6\n",
       "20~30평     2    2    2    2    2    2        2         2    2     2        0"
      ],
      "text/html": "<div>\n<style scoped>\n    .dataframe tbody tr th:only-of-type {\n        vertical-align: middle;\n    }\n\n    .dataframe tbody tr th {\n        vertical-align: top;\n    }\n\n    .dataframe thead th {\n        text-align: right;\n    }\n</style>\n<table border=\"1\" class=\"dataframe\">\n  <thead>\n    <tr style=\"text-align: right;\">\n      <th></th>\n      <th>계약년월</th>\n      <th>계약일</th>\n      <th>시군구</th>\n      <th>본번</th>\n      <th>부번</th>\n      <th>단지명</th>\n      <th>전용면적(㎡)</th>\n      <th>거래금액(만원)</th>\n      <th>층</th>\n      <th>건축년도</th>\n      <th>해제사유발생일</th>\n    </tr>\n    <tr>\n      <th>평</th>\n      <th></th>\n      <th></th>\n      <th></th>\n      <th></th>\n      <th></th>\n      <th></th>\n      <th></th>\n      <th></th>\n      <th></th>\n      <th></th>\n      <th></th>\n    </tr>\n  </thead>\n  <tbody>\n    <tr>\n      <th>10~20평</th>\n      <td>30</td>\n      <td>30</td>\n      <td>30</td>\n      <td>30</td>\n      <td>30</td>\n      <td>30</td>\n      <td>30</td>\n      <td>30</td>\n      <td>30</td>\n      <td>30</td>\n      <td>1</td>\n    </tr>\n    <tr>\n      <th>10평 미만</th>\n      <td>275</td>\n      <td>275</td>\n      <td>275</td>\n      <td>275</td>\n      <td>275</td>\n      <td>275</td>\n      <td>275</td>\n      <td>275</td>\n      <td>275</td>\n      <td>275</td>\n      <td>6</td>\n    </tr>\n    <tr>\n      <th>20~30평</th>\n      <td>2</td>\n      <td>2</td>\n      <td>2</td>\n      <td>2</td>\n      <td>2</td>\n      <td>2</td>\n      <td>2</td>\n      <td>2</td>\n      <td>2</td>\n      <td>2</td>\n      <td>0</td>\n    </tr>\n  </tbody>\n</table>\n</div>"
     },
     "metadata": {},
     "execution_count": 43
    }
   ],
   "source": [
    "oata.groupby('평').count()"
   ]
  },
  {
   "cell_type": "code",
   "execution_count": null,
   "metadata": {
    "ExecuteTime": {
     "end_time": "2021-03-04T03:19:44.971195Z",
     "start_time": "2021-03-04T03:19:44.958231Z"
    }
   },
   "outputs": [],
   "source": [
    "oata.isnull().sum()"
   ]
  },
  {
   "cell_type": "markdown",
   "metadata": {},
   "source": [
    "### 매매 총 합"
   ]
  },
  {
   "cell_type": "code",
   "execution_count": 72,
   "metadata": {
    "ExecuteTime": {
     "end_time": "2021-03-04T03:19:45.080187Z",
     "start_time": "2021-03-04T03:19:44.972193Z"
    }
   },
   "outputs": [
    {
     "output_type": "execute_result",
     "data": {
      "text/plain": [
       "         계약년월  계약일          시군구    본번   부번               단지명  전용면적(㎡)  \\\n",
       "0      201701   19  세종특별자치시 고운동  1401  0.0  가락마을13단지(대광로제비앙)  59.6550   \n",
       "1      201701    2  세종특별자치시 고운동  1393  0.0   가락마을15단지(중흥파크뷰)  84.9894   \n",
       "2      201701   14  세종특별자치시 고운동  1395  0.0    가락마을16단지(에듀그린)  84.8788   \n",
       "3      201701    9  세종특별자치시 고운동  1386  0.0   가락마을17단지(골드클래스)  59.9159   \n",
       "4      201701    9  세종특별자치시 고운동  1390  0.0    가락마을21단지(에듀포레)  99.9434   \n",
       "...       ...  ...          ...   ...  ...               ...      ...   \n",
       "20312  202010   23  세종특별자치시 어진동     0  0.0            푸르지오시티  22.4200   \n",
       "20313  202010   24  세종특별자치시 어진동     0  0.0            푸르지오시티  22.4200   \n",
       "20314  202010   24  세종특별자치시 어진동     0  0.0            푸르지오시티  23.7400   \n",
       "20315  202010   30  세종특별자치시 어진동     0  0.0            푸르지오시티  22.4200   \n",
       "20316  202010   16  세종특별자치시 어진동     0  0.0             호수의아침  23.5700   \n",
       "\n",
       "      거래금액(만원)     층    건축년도  ...  건물명 대지권면적(㎡) 주택유형 도로조건 연면적(㎡)  대지면적(㎡)  \\\n",
       "0       23,000  11.0  2015.0  ...  NaN      NaN  NaN  NaN    NaN      NaN   \n",
       "1       32,000   3.0  2015.0  ...  NaN      NaN  NaN  NaN    NaN      NaN   \n",
       "2       32,500  21.0  2015.0  ...  NaN      NaN  NaN  NaN    NaN      NaN   \n",
       "3       25,100   7.0  2015.0  ...  NaN      NaN  NaN  NaN    NaN      NaN   \n",
       "4       32,250   3.0  2015.0  ...  NaN      NaN  NaN  NaN    NaN      NaN   \n",
       "...        ...   ...     ...  ...  ...      ...  ...  ...    ...      ...   \n",
       "20312    7,950  12.0  2014.0  ...  NaN      NaN  NaN  NaN    NaN      NaN   \n",
       "20313    7,900   5.0  2014.0  ...  NaN      NaN  NaN  NaN    NaN      NaN   \n",
       "20314    8,000  15.0  2014.0  ...  NaN      NaN  NaN  NaN    NaN      NaN   \n",
       "20315    7,950  16.0  2014.0  ...  NaN      NaN  NaN  NaN    NaN      NaN   \n",
       "20316    7,700  10.0  2014.0  ...  NaN      NaN  NaN  NaN    NaN      NaN   \n",
       "\n",
       "        도로 시군구2  주택유형2  거래금액2(만원)  \n",
       "0      NaN  NaN    NaN        NaN  \n",
       "1      NaN  NaN    NaN        NaN  \n",
       "2      NaN  NaN    NaN        NaN  \n",
       "3      NaN  NaN    NaN        NaN  \n",
       "4      NaN  NaN    NaN        NaN  \n",
       "...    ...  ...    ...        ...  \n",
       "20312  NaN  NaN    NaN        NaN  \n",
       "20313  NaN  NaN    NaN        NaN  \n",
       "20314  NaN  NaN    NaN        NaN  \n",
       "20315  NaN  NaN    NaN        NaN  \n",
       "20316  NaN  NaN    NaN        NaN  \n",
       "\n",
       "[20317 rows x 24 columns]"
      ],
      "text/html": "<div>\n<style scoped>\n    .dataframe tbody tr th:only-of-type {\n        vertical-align: middle;\n    }\n\n    .dataframe tbody tr th {\n        vertical-align: top;\n    }\n\n    .dataframe thead th {\n        text-align: right;\n    }\n</style>\n<table border=\"1\" class=\"dataframe\">\n  <thead>\n    <tr style=\"text-align: right;\">\n      <th></th>\n      <th>계약년월</th>\n      <th>계약일</th>\n      <th>시군구</th>\n      <th>본번</th>\n      <th>부번</th>\n      <th>단지명</th>\n      <th>전용면적(㎡)</th>\n      <th>거래금액(만원)</th>\n      <th>층</th>\n      <th>건축년도</th>\n      <th>...</th>\n      <th>건물명</th>\n      <th>대지권면적(㎡)</th>\n      <th>주택유형</th>\n      <th>도로조건</th>\n      <th>연면적(㎡)</th>\n      <th>대지면적(㎡)</th>\n      <th>도로</th>\n      <th>시군구2</th>\n      <th>주택유형2</th>\n      <th>거래금액2(만원)</th>\n    </tr>\n  </thead>\n  <tbody>\n    <tr>\n      <th>0</th>\n      <td>201701</td>\n      <td>19</td>\n      <td>세종특별자치시 고운동</td>\n      <td>1401</td>\n      <td>0.0</td>\n      <td>가락마을13단지(대광로제비앙)</td>\n      <td>59.6550</td>\n      <td>23,000</td>\n      <td>11.0</td>\n      <td>2015.0</td>\n      <td>...</td>\n      <td>NaN</td>\n      <td>NaN</td>\n      <td>NaN</td>\n      <td>NaN</td>\n      <td>NaN</td>\n      <td>NaN</td>\n      <td>NaN</td>\n      <td>NaN</td>\n      <td>NaN</td>\n      <td>NaN</td>\n    </tr>\n    <tr>\n      <th>1</th>\n      <td>201701</td>\n      <td>2</td>\n      <td>세종특별자치시 고운동</td>\n      <td>1393</td>\n      <td>0.0</td>\n      <td>가락마을15단지(중흥파크뷰)</td>\n      <td>84.9894</td>\n      <td>32,000</td>\n      <td>3.0</td>\n      <td>2015.0</td>\n      <td>...</td>\n      <td>NaN</td>\n      <td>NaN</td>\n      <td>NaN</td>\n      <td>NaN</td>\n      <td>NaN</td>\n      <td>NaN</td>\n      <td>NaN</td>\n      <td>NaN</td>\n      <td>NaN</td>\n      <td>NaN</td>\n    </tr>\n    <tr>\n      <th>2</th>\n      <td>201701</td>\n      <td>14</td>\n      <td>세종특별자치시 고운동</td>\n      <td>1395</td>\n      <td>0.0</td>\n      <td>가락마을16단지(에듀그린)</td>\n      <td>84.8788</td>\n      <td>32,500</td>\n      <td>21.0</td>\n      <td>2015.0</td>\n      <td>...</td>\n      <td>NaN</td>\n      <td>NaN</td>\n      <td>NaN</td>\n      <td>NaN</td>\n      <td>NaN</td>\n      <td>NaN</td>\n      <td>NaN</td>\n      <td>NaN</td>\n      <td>NaN</td>\n      <td>NaN</td>\n    </tr>\n    <tr>\n      <th>3</th>\n      <td>201701</td>\n      <td>9</td>\n      <td>세종특별자치시 고운동</td>\n      <td>1386</td>\n      <td>0.0</td>\n      <td>가락마을17단지(골드클래스)</td>\n      <td>59.9159</td>\n      <td>25,100</td>\n      <td>7.0</td>\n      <td>2015.0</td>\n      <td>...</td>\n      <td>NaN</td>\n      <td>NaN</td>\n      <td>NaN</td>\n      <td>NaN</td>\n      <td>NaN</td>\n      <td>NaN</td>\n      <td>NaN</td>\n      <td>NaN</td>\n      <td>NaN</td>\n      <td>NaN</td>\n    </tr>\n    <tr>\n      <th>4</th>\n      <td>201701</td>\n      <td>9</td>\n      <td>세종특별자치시 고운동</td>\n      <td>1390</td>\n      <td>0.0</td>\n      <td>가락마을21단지(에듀포레)</td>\n      <td>99.9434</td>\n      <td>32,250</td>\n      <td>3.0</td>\n      <td>2015.0</td>\n      <td>...</td>\n      <td>NaN</td>\n      <td>NaN</td>\n      <td>NaN</td>\n      <td>NaN</td>\n      <td>NaN</td>\n      <td>NaN</td>\n      <td>NaN</td>\n      <td>NaN</td>\n      <td>NaN</td>\n      <td>NaN</td>\n    </tr>\n    <tr>\n      <th>...</th>\n      <td>...</td>\n      <td>...</td>\n      <td>...</td>\n      <td>...</td>\n      <td>...</td>\n      <td>...</td>\n      <td>...</td>\n      <td>...</td>\n      <td>...</td>\n      <td>...</td>\n      <td>...</td>\n      <td>...</td>\n      <td>...</td>\n      <td>...</td>\n      <td>...</td>\n      <td>...</td>\n      <td>...</td>\n      <td>...</td>\n      <td>...</td>\n      <td>...</td>\n      <td>...</td>\n    </tr>\n    <tr>\n      <th>20312</th>\n      <td>202010</td>\n      <td>23</td>\n      <td>세종특별자치시 어진동</td>\n      <td>0</td>\n      <td>0.0</td>\n      <td>푸르지오시티</td>\n      <td>22.4200</td>\n      <td>7,950</td>\n      <td>12.0</td>\n      <td>2014.0</td>\n      <td>...</td>\n      <td>NaN</td>\n      <td>NaN</td>\n      <td>NaN</td>\n      <td>NaN</td>\n      <td>NaN</td>\n      <td>NaN</td>\n      <td>NaN</td>\n      <td>NaN</td>\n      <td>NaN</td>\n      <td>NaN</td>\n    </tr>\n    <tr>\n      <th>20313</th>\n      <td>202010</td>\n      <td>24</td>\n      <td>세종특별자치시 어진동</td>\n      <td>0</td>\n      <td>0.0</td>\n      <td>푸르지오시티</td>\n      <td>22.4200</td>\n      <td>7,900</td>\n      <td>5.0</td>\n      <td>2014.0</td>\n      <td>...</td>\n      <td>NaN</td>\n      <td>NaN</td>\n      <td>NaN</td>\n      <td>NaN</td>\n      <td>NaN</td>\n      <td>NaN</td>\n      <td>NaN</td>\n      <td>NaN</td>\n      <td>NaN</td>\n      <td>NaN</td>\n    </tr>\n    <tr>\n      <th>20314</th>\n      <td>202010</td>\n      <td>24</td>\n      <td>세종특별자치시 어진동</td>\n      <td>0</td>\n      <td>0.0</td>\n      <td>푸르지오시티</td>\n      <td>23.7400</td>\n      <td>8,000</td>\n      <td>15.0</td>\n      <td>2014.0</td>\n      <td>...</td>\n      <td>NaN</td>\n      <td>NaN</td>\n      <td>NaN</td>\n      <td>NaN</td>\n      <td>NaN</td>\n      <td>NaN</td>\n      <td>NaN</td>\n      <td>NaN</td>\n      <td>NaN</td>\n      <td>NaN</td>\n    </tr>\n    <tr>\n      <th>20315</th>\n      <td>202010</td>\n      <td>30</td>\n      <td>세종특별자치시 어진동</td>\n      <td>0</td>\n      <td>0.0</td>\n      <td>푸르지오시티</td>\n      <td>22.4200</td>\n      <td>7,950</td>\n      <td>16.0</td>\n      <td>2014.0</td>\n      <td>...</td>\n      <td>NaN</td>\n      <td>NaN</td>\n      <td>NaN</td>\n      <td>NaN</td>\n      <td>NaN</td>\n      <td>NaN</td>\n      <td>NaN</td>\n      <td>NaN</td>\n      <td>NaN</td>\n      <td>NaN</td>\n    </tr>\n    <tr>\n      <th>20316</th>\n      <td>202010</td>\n      <td>16</td>\n      <td>세종특별자치시 어진동</td>\n      <td>0</td>\n      <td>0.0</td>\n      <td>호수의아침</td>\n      <td>23.5700</td>\n      <td>7,700</td>\n      <td>10.0</td>\n      <td>2014.0</td>\n      <td>...</td>\n      <td>NaN</td>\n      <td>NaN</td>\n      <td>NaN</td>\n      <td>NaN</td>\n      <td>NaN</td>\n      <td>NaN</td>\n      <td>NaN</td>\n      <td>NaN</td>\n      <td>NaN</td>\n      <td>NaN</td>\n    </tr>\n  </tbody>\n</table>\n<p>20317 rows × 24 columns</p>\n</div>"
     },
     "metadata": {},
     "execution_count": 72
    }
   ],
   "source": [
    "data_all = pd.concat([data,yata,danta,oata], ignore_index=True)\n",
    "data_all"
   ]
  },
  {
   "cell_type": "code",
   "execution_count": 92,
   "metadata": {},
   "outputs": [],
   "source": [
    "data_all['읍면동구분']=data_all['시군구'].apply(sort_dong)\n",
    "data_all['읍면동']=data_all['시군구'].apply(sort_dong2)"
   ]
  },
  {
   "cell_type": "code",
   "execution_count": 93,
   "metadata": {},
   "outputs": [
    {
     "output_type": "execute_result",
     "data": {
      "text/plain": [
       "      계약년월   계약일   시군구    본번    부번   단지명  전용면적(㎡)  거래금액(만원)     층  건축년도  ...  \\\n",
       "읍면동                                                                      ...   \n",
       "가람동      1     1     1     1     1     1        1         1     1     1  ...   \n",
       "고운동   1989  1989  1989  1984  1984  1984     1984      1989  1984  1989  ...   \n",
       "금남면    584   584   584   452   452   432      452       584   452   584  ...   \n",
       "나성동    312   312   312   312   312   312      312       312   312   312  ...   \n",
       "다정동    592   592   592   592   592   592      592       592   592   592  ...   \n",
       "대평동    167   167   167   167   167   167      167       167   167   167  ...   \n",
       "도담동   1629  1629  1629  1627  1627  1621     1627      1629  1627  1629  ...   \n",
       "반곡동    121   121   121   121   121   103      121       121   121   121  ...   \n",
       "보람동    389   389   389   389   389   380      389       389   389   389  ...   \n",
       "부강면    231   231   231   161   161    94      161       231   161   231  ...   \n",
       "새롬동    635   635   635   634   634   634      634       635   634   635  ...   \n",
       "소담동    582   582   582   582   582   577      582       582   582   582  ...   \n",
       "소정면     51    51    51    24    24    21       24        51    24    51  ...   \n",
       "아름동   2331  2331  2331  2329  2329  2329     2329      2331  2329  2331  ...   \n",
       "어진동    669   669   669   669   669   669      669       669   669   669  ...   \n",
       "연기면    105   105   105    37    37     0       37       105    37   105  ...   \n",
       "연동면    209   209   209   178   178   178      178       209   178   209  ...   \n",
       "연서면    273   273   273   141   141   129      141       273   141   273  ...   \n",
       "장군면    219   219   219    77    77    71       77       219    77   219  ...   \n",
       "전동면     71    71    71    24    24    21       24        71    24    71  ...   \n",
       "전의면    204   204   204   134   134   104      134       204   134   204  ...   \n",
       "조치원읍  4243  4243  4243  3918  3918  3588     3918      4243  3918  4243  ...   \n",
       "종촌동   2790  2790  2790  2790  2790  2790     2790      2790  2790  2790  ...   \n",
       "한솔동   1920  1920  1920  1919  1919  1919     1919      1920  1919  1920  ...   \n",
       "\n",
       "      주택유형  도로조건  연면적(㎡)  대지면적(㎡)   도로  시군구2  주택유형2  거래금액2(만원)   계약월   계약년  \n",
       "읍면동                                                                         \n",
       "가람동      0     0       0        0    0     0      0          0     1     1  \n",
       "고운동      5     5       5        5    5     5      5          5  1989  1989  \n",
       "금남면    132   132     132      132  132   132    132        132   584   584  \n",
       "나성동      0     0       0        0    0     0      0          0   312   312  \n",
       "다정동      0     0       0        0    0     0      0          0   592   592  \n",
       "대평동      0     0       0        0    0     0      0          0   167   167  \n",
       "도담동      2     2       2        2    2     2      2          2  1629  1629  \n",
       "반곡동      0     0       0        0    0     0      0          0   121   121  \n",
       "보람동      0     0       0        0    0     0      0          0   389   389  \n",
       "부강면     70    70      70       70   70    70     70         70   231   231  \n",
       "새롬동      1     1       1        1    1     1      1          1   635   635  \n",
       "소담동      0     0       0        0    0     0      0          0   582   582  \n",
       "소정면     27    27      27       27   27    27     27         27    51    51  \n",
       "아름동      2     2       2        2    2     2      2          2  2331  2331  \n",
       "어진동      0     0       0        0    0     0      0          0   669   669  \n",
       "연기면     68    68      68       68   68    68     68         68   105   105  \n",
       "연동면     31    31      31       31   31    31     31         31   209   209  \n",
       "연서면    132   132     132      132  132   132    132        132   273   273  \n",
       "장군면    142   142     142      142  142   142    142        142   219   219  \n",
       "전동면     47    47      47       47   47    47     47         47    71    71  \n",
       "전의면     70    70      70       70   70    70     70         70   204   204  \n",
       "조치원읍   325   325     325      325  325   325    325        325  4243  4243  \n",
       "종촌동      0     0       0        0    0     0      0          0  2790  2790  \n",
       "한솔동      1     1       1        1    1     1      1          1  1920  1920  \n",
       "\n",
       "[24 rows x 25 columns]"
      ],
      "text/html": "<div>\n<style scoped>\n    .dataframe tbody tr th:only-of-type {\n        vertical-align: middle;\n    }\n\n    .dataframe tbody tr th {\n        vertical-align: top;\n    }\n\n    .dataframe thead th {\n        text-align: right;\n    }\n</style>\n<table border=\"1\" class=\"dataframe\">\n  <thead>\n    <tr style=\"text-align: right;\">\n      <th></th>\n      <th>계약년월</th>\n      <th>계약일</th>\n      <th>시군구</th>\n      <th>본번</th>\n      <th>부번</th>\n      <th>단지명</th>\n      <th>전용면적(㎡)</th>\n      <th>거래금액(만원)</th>\n      <th>층</th>\n      <th>건축년도</th>\n      <th>...</th>\n      <th>주택유형</th>\n      <th>도로조건</th>\n      <th>연면적(㎡)</th>\n      <th>대지면적(㎡)</th>\n      <th>도로</th>\n      <th>시군구2</th>\n      <th>주택유형2</th>\n      <th>거래금액2(만원)</th>\n      <th>계약월</th>\n      <th>계약년</th>\n    </tr>\n    <tr>\n      <th>읍면동</th>\n      <th></th>\n      <th></th>\n      <th></th>\n      <th></th>\n      <th></th>\n      <th></th>\n      <th></th>\n      <th></th>\n      <th></th>\n      <th></th>\n      <th></th>\n      <th></th>\n      <th></th>\n      <th></th>\n      <th></th>\n      <th></th>\n      <th></th>\n      <th></th>\n      <th></th>\n      <th></th>\n      <th></th>\n    </tr>\n  </thead>\n  <tbody>\n    <tr>\n      <th>가람동</th>\n      <td>1</td>\n      <td>1</td>\n      <td>1</td>\n      <td>1</td>\n      <td>1</td>\n      <td>1</td>\n      <td>1</td>\n      <td>1</td>\n      <td>1</td>\n      <td>1</td>\n      <td>...</td>\n      <td>0</td>\n      <td>0</td>\n      <td>0</td>\n      <td>0</td>\n      <td>0</td>\n      <td>0</td>\n      <td>0</td>\n      <td>0</td>\n      <td>1</td>\n      <td>1</td>\n    </tr>\n    <tr>\n      <th>고운동</th>\n      <td>1989</td>\n      <td>1989</td>\n      <td>1989</td>\n      <td>1984</td>\n      <td>1984</td>\n      <td>1984</td>\n      <td>1984</td>\n      <td>1989</td>\n      <td>1984</td>\n      <td>1989</td>\n      <td>...</td>\n      <td>5</td>\n      <td>5</td>\n      <td>5</td>\n      <td>5</td>\n      <td>5</td>\n      <td>5</td>\n      <td>5</td>\n      <td>5</td>\n      <td>1989</td>\n      <td>1989</td>\n    </tr>\n    <tr>\n      <th>금남면</th>\n      <td>584</td>\n      <td>584</td>\n      <td>584</td>\n      <td>452</td>\n      <td>452</td>\n      <td>432</td>\n      <td>452</td>\n      <td>584</td>\n      <td>452</td>\n      <td>584</td>\n      <td>...</td>\n      <td>132</td>\n      <td>132</td>\n      <td>132</td>\n      <td>132</td>\n      <td>132</td>\n      <td>132</td>\n      <td>132</td>\n      <td>132</td>\n      <td>584</td>\n      <td>584</td>\n    </tr>\n    <tr>\n      <th>나성동</th>\n      <td>312</td>\n      <td>312</td>\n      <td>312</td>\n      <td>312</td>\n      <td>312</td>\n      <td>312</td>\n      <td>312</td>\n      <td>312</td>\n      <td>312</td>\n      <td>312</td>\n      <td>...</td>\n      <td>0</td>\n      <td>0</td>\n      <td>0</td>\n      <td>0</td>\n      <td>0</td>\n      <td>0</td>\n      <td>0</td>\n      <td>0</td>\n      <td>312</td>\n      <td>312</td>\n    </tr>\n    <tr>\n      <th>다정동</th>\n      <td>592</td>\n      <td>592</td>\n      <td>592</td>\n      <td>592</td>\n      <td>592</td>\n      <td>592</td>\n      <td>592</td>\n      <td>592</td>\n      <td>592</td>\n      <td>592</td>\n      <td>...</td>\n      <td>0</td>\n      <td>0</td>\n      <td>0</td>\n      <td>0</td>\n      <td>0</td>\n      <td>0</td>\n      <td>0</td>\n      <td>0</td>\n      <td>592</td>\n      <td>592</td>\n    </tr>\n    <tr>\n      <th>대평동</th>\n      <td>167</td>\n      <td>167</td>\n      <td>167</td>\n      <td>167</td>\n      <td>167</td>\n      <td>167</td>\n      <td>167</td>\n      <td>167</td>\n      <td>167</td>\n      <td>167</td>\n      <td>...</td>\n      <td>0</td>\n      <td>0</td>\n      <td>0</td>\n      <td>0</td>\n      <td>0</td>\n      <td>0</td>\n      <td>0</td>\n      <td>0</td>\n      <td>167</td>\n      <td>167</td>\n    </tr>\n    <tr>\n      <th>도담동</th>\n      <td>1629</td>\n      <td>1629</td>\n      <td>1629</td>\n      <td>1627</td>\n      <td>1627</td>\n      <td>1621</td>\n      <td>1627</td>\n      <td>1629</td>\n      <td>1627</td>\n      <td>1629</td>\n      <td>...</td>\n      <td>2</td>\n      <td>2</td>\n      <td>2</td>\n      <td>2</td>\n      <td>2</td>\n      <td>2</td>\n      <td>2</td>\n      <td>2</td>\n      <td>1629</td>\n      <td>1629</td>\n    </tr>\n    <tr>\n      <th>반곡동</th>\n      <td>121</td>\n      <td>121</td>\n      <td>121</td>\n      <td>121</td>\n      <td>121</td>\n      <td>103</td>\n      <td>121</td>\n      <td>121</td>\n      <td>121</td>\n      <td>121</td>\n      <td>...</td>\n      <td>0</td>\n      <td>0</td>\n      <td>0</td>\n      <td>0</td>\n      <td>0</td>\n      <td>0</td>\n      <td>0</td>\n      <td>0</td>\n      <td>121</td>\n      <td>121</td>\n    </tr>\n    <tr>\n      <th>보람동</th>\n      <td>389</td>\n      <td>389</td>\n      <td>389</td>\n      <td>389</td>\n      <td>389</td>\n      <td>380</td>\n      <td>389</td>\n      <td>389</td>\n      <td>389</td>\n      <td>389</td>\n      <td>...</td>\n      <td>0</td>\n      <td>0</td>\n      <td>0</td>\n      <td>0</td>\n      <td>0</td>\n      <td>0</td>\n      <td>0</td>\n      <td>0</td>\n      <td>389</td>\n      <td>389</td>\n    </tr>\n    <tr>\n      <th>부강면</th>\n      <td>231</td>\n      <td>231</td>\n      <td>231</td>\n      <td>161</td>\n      <td>161</td>\n      <td>94</td>\n      <td>161</td>\n      <td>231</td>\n      <td>161</td>\n      <td>231</td>\n      <td>...</td>\n      <td>70</td>\n      <td>70</td>\n      <td>70</td>\n      <td>70</td>\n      <td>70</td>\n      <td>70</td>\n      <td>70</td>\n      <td>70</td>\n      <td>231</td>\n      <td>231</td>\n    </tr>\n    <tr>\n      <th>새롬동</th>\n      <td>635</td>\n      <td>635</td>\n      <td>635</td>\n      <td>634</td>\n      <td>634</td>\n      <td>634</td>\n      <td>634</td>\n      <td>635</td>\n      <td>634</td>\n      <td>635</td>\n      <td>...</td>\n      <td>1</td>\n      <td>1</td>\n      <td>1</td>\n      <td>1</td>\n      <td>1</td>\n      <td>1</td>\n      <td>1</td>\n      <td>1</td>\n      <td>635</td>\n      <td>635</td>\n    </tr>\n    <tr>\n      <th>소담동</th>\n      <td>582</td>\n      <td>582</td>\n      <td>582</td>\n      <td>582</td>\n      <td>582</td>\n      <td>577</td>\n      <td>582</td>\n      <td>582</td>\n      <td>582</td>\n      <td>582</td>\n      <td>...</td>\n      <td>0</td>\n      <td>0</td>\n      <td>0</td>\n      <td>0</td>\n      <td>0</td>\n      <td>0</td>\n      <td>0</td>\n      <td>0</td>\n      <td>582</td>\n      <td>582</td>\n    </tr>\n    <tr>\n      <th>소정면</th>\n      <td>51</td>\n      <td>51</td>\n      <td>51</td>\n      <td>24</td>\n      <td>24</td>\n      <td>21</td>\n      <td>24</td>\n      <td>51</td>\n      <td>24</td>\n      <td>51</td>\n      <td>...</td>\n      <td>27</td>\n      <td>27</td>\n      <td>27</td>\n      <td>27</td>\n      <td>27</td>\n      <td>27</td>\n      <td>27</td>\n      <td>27</td>\n      <td>51</td>\n      <td>51</td>\n    </tr>\n    <tr>\n      <th>아름동</th>\n      <td>2331</td>\n      <td>2331</td>\n      <td>2331</td>\n      <td>2329</td>\n      <td>2329</td>\n      <td>2329</td>\n      <td>2329</td>\n      <td>2331</td>\n      <td>2329</td>\n      <td>2331</td>\n      <td>...</td>\n      <td>2</td>\n      <td>2</td>\n      <td>2</td>\n      <td>2</td>\n      <td>2</td>\n      <td>2</td>\n      <td>2</td>\n      <td>2</td>\n      <td>2331</td>\n      <td>2331</td>\n    </tr>\n    <tr>\n      <th>어진동</th>\n      <td>669</td>\n      <td>669</td>\n      <td>669</td>\n      <td>669</td>\n      <td>669</td>\n      <td>669</td>\n      <td>669</td>\n      <td>669</td>\n      <td>669</td>\n      <td>669</td>\n      <td>...</td>\n      <td>0</td>\n      <td>0</td>\n      <td>0</td>\n      <td>0</td>\n      <td>0</td>\n      <td>0</td>\n      <td>0</td>\n      <td>0</td>\n      <td>669</td>\n      <td>669</td>\n    </tr>\n    <tr>\n      <th>연기면</th>\n      <td>105</td>\n      <td>105</td>\n      <td>105</td>\n      <td>37</td>\n      <td>37</td>\n      <td>0</td>\n      <td>37</td>\n      <td>105</td>\n      <td>37</td>\n      <td>105</td>\n      <td>...</td>\n      <td>68</td>\n      <td>68</td>\n      <td>68</td>\n      <td>68</td>\n      <td>68</td>\n      <td>68</td>\n      <td>68</td>\n      <td>68</td>\n      <td>105</td>\n      <td>105</td>\n    </tr>\n    <tr>\n      <th>연동면</th>\n      <td>209</td>\n      <td>209</td>\n      <td>209</td>\n      <td>178</td>\n      <td>178</td>\n      <td>178</td>\n      <td>178</td>\n      <td>209</td>\n      <td>178</td>\n      <td>209</td>\n      <td>...</td>\n      <td>31</td>\n      <td>31</td>\n      <td>31</td>\n      <td>31</td>\n      <td>31</td>\n      <td>31</td>\n      <td>31</td>\n      <td>31</td>\n      <td>209</td>\n      <td>209</td>\n    </tr>\n    <tr>\n      <th>연서면</th>\n      <td>273</td>\n      <td>273</td>\n      <td>273</td>\n      <td>141</td>\n      <td>141</td>\n      <td>129</td>\n      <td>141</td>\n      <td>273</td>\n      <td>141</td>\n      <td>273</td>\n      <td>...</td>\n      <td>132</td>\n      <td>132</td>\n      <td>132</td>\n      <td>132</td>\n      <td>132</td>\n      <td>132</td>\n      <td>132</td>\n      <td>132</td>\n      <td>273</td>\n      <td>273</td>\n    </tr>\n    <tr>\n      <th>장군면</th>\n      <td>219</td>\n      <td>219</td>\n      <td>219</td>\n      <td>77</td>\n      <td>77</td>\n      <td>71</td>\n      <td>77</td>\n      <td>219</td>\n      <td>77</td>\n      <td>219</td>\n      <td>...</td>\n      <td>142</td>\n      <td>142</td>\n      <td>142</td>\n      <td>142</td>\n      <td>142</td>\n      <td>142</td>\n      <td>142</td>\n      <td>142</td>\n      <td>219</td>\n      <td>219</td>\n    </tr>\n    <tr>\n      <th>전동면</th>\n      <td>71</td>\n      <td>71</td>\n      <td>71</td>\n      <td>24</td>\n      <td>24</td>\n      <td>21</td>\n      <td>24</td>\n      <td>71</td>\n      <td>24</td>\n      <td>71</td>\n      <td>...</td>\n      <td>47</td>\n      <td>47</td>\n      <td>47</td>\n      <td>47</td>\n      <td>47</td>\n      <td>47</td>\n      <td>47</td>\n      <td>47</td>\n      <td>71</td>\n      <td>71</td>\n    </tr>\n    <tr>\n      <th>전의면</th>\n      <td>204</td>\n      <td>204</td>\n      <td>204</td>\n      <td>134</td>\n      <td>134</td>\n      <td>104</td>\n      <td>134</td>\n      <td>204</td>\n      <td>134</td>\n      <td>204</td>\n      <td>...</td>\n      <td>70</td>\n      <td>70</td>\n      <td>70</td>\n      <td>70</td>\n      <td>70</td>\n      <td>70</td>\n      <td>70</td>\n      <td>70</td>\n      <td>204</td>\n      <td>204</td>\n    </tr>\n    <tr>\n      <th>조치원읍</th>\n      <td>4243</td>\n      <td>4243</td>\n      <td>4243</td>\n      <td>3918</td>\n      <td>3918</td>\n      <td>3588</td>\n      <td>3918</td>\n      <td>4243</td>\n      <td>3918</td>\n      <td>4243</td>\n      <td>...</td>\n      <td>325</td>\n      <td>325</td>\n      <td>325</td>\n      <td>325</td>\n      <td>325</td>\n      <td>325</td>\n      <td>325</td>\n      <td>325</td>\n      <td>4243</td>\n      <td>4243</td>\n    </tr>\n    <tr>\n      <th>종촌동</th>\n      <td>2790</td>\n      <td>2790</td>\n      <td>2790</td>\n      <td>2790</td>\n      <td>2790</td>\n      <td>2790</td>\n      <td>2790</td>\n      <td>2790</td>\n      <td>2790</td>\n      <td>2790</td>\n      <td>...</td>\n      <td>0</td>\n      <td>0</td>\n      <td>0</td>\n      <td>0</td>\n      <td>0</td>\n      <td>0</td>\n      <td>0</td>\n      <td>0</td>\n      <td>2790</td>\n      <td>2790</td>\n    </tr>\n    <tr>\n      <th>한솔동</th>\n      <td>1920</td>\n      <td>1920</td>\n      <td>1920</td>\n      <td>1919</td>\n      <td>1919</td>\n      <td>1919</td>\n      <td>1919</td>\n      <td>1920</td>\n      <td>1919</td>\n      <td>1920</td>\n      <td>...</td>\n      <td>1</td>\n      <td>1</td>\n      <td>1</td>\n      <td>1</td>\n      <td>1</td>\n      <td>1</td>\n      <td>1</td>\n      <td>1</td>\n      <td>1920</td>\n      <td>1920</td>\n    </tr>\n  </tbody>\n</table>\n<p>24 rows × 25 columns</p>\n</div>"
     },
     "metadata": {},
     "execution_count": 93
    }
   ],
   "source": [
    "data_all.groupby('읍면동').count()"
   ]
  },
  {
   "cell_type": "code",
   "execution_count": 95,
   "metadata": {},
   "outputs": [
    {
     "output_type": "execute_result",
     "data": {
      "text/plain": [
       "        계약년월    계약일    시군구     본번     부번    단지명  전용면적(㎡)  거래금액(만원)      층  \\\n",
       "읍면동구분                                                                       \n",
       "동      14127  14127  14127  14116  14116  14078    14116     14127  14116   \n",
       "면       1947   1947   1947   1228   1228   1050     1228      1947   1228   \n",
       "읍       4243   4243   4243   3918   3918   3588     3918      4243   3918   \n",
       "\n",
       "        건축년도  ...  주택유형  도로조건  연면적(㎡)  대지면적(㎡)   도로  시군구2  주택유형2  거래금액2(만원)  \\\n",
       "읍면동구분         ...                                                             \n",
       "동      14127  ...    11    11      11       11   11    11     11         11   \n",
       "면       1947  ...   719   719     719      719  719   719    719        719   \n",
       "읍       4243  ...   325   325     325      325  325   325    325        325   \n",
       "\n",
       "         계약월    계약년  \n",
       "읍면동구분                \n",
       "동      14127  14127  \n",
       "면       1947   1947  \n",
       "읍       4243   4243  \n",
       "\n",
       "[3 rows x 25 columns]"
      ],
      "text/html": "<div>\n<style scoped>\n    .dataframe tbody tr th:only-of-type {\n        vertical-align: middle;\n    }\n\n    .dataframe tbody tr th {\n        vertical-align: top;\n    }\n\n    .dataframe thead th {\n        text-align: right;\n    }\n</style>\n<table border=\"1\" class=\"dataframe\">\n  <thead>\n    <tr style=\"text-align: right;\">\n      <th></th>\n      <th>계약년월</th>\n      <th>계약일</th>\n      <th>시군구</th>\n      <th>본번</th>\n      <th>부번</th>\n      <th>단지명</th>\n      <th>전용면적(㎡)</th>\n      <th>거래금액(만원)</th>\n      <th>층</th>\n      <th>건축년도</th>\n      <th>...</th>\n      <th>주택유형</th>\n      <th>도로조건</th>\n      <th>연면적(㎡)</th>\n      <th>대지면적(㎡)</th>\n      <th>도로</th>\n      <th>시군구2</th>\n      <th>주택유형2</th>\n      <th>거래금액2(만원)</th>\n      <th>계약월</th>\n      <th>계약년</th>\n    </tr>\n    <tr>\n      <th>읍면동구분</th>\n      <th></th>\n      <th></th>\n      <th></th>\n      <th></th>\n      <th></th>\n      <th></th>\n      <th></th>\n      <th></th>\n      <th></th>\n      <th></th>\n      <th></th>\n      <th></th>\n      <th></th>\n      <th></th>\n      <th></th>\n      <th></th>\n      <th></th>\n      <th></th>\n      <th></th>\n      <th></th>\n      <th></th>\n    </tr>\n  </thead>\n  <tbody>\n    <tr>\n      <th>동</th>\n      <td>14127</td>\n      <td>14127</td>\n      <td>14127</td>\n      <td>14116</td>\n      <td>14116</td>\n      <td>14078</td>\n      <td>14116</td>\n      <td>14127</td>\n      <td>14116</td>\n      <td>14127</td>\n      <td>...</td>\n      <td>11</td>\n      <td>11</td>\n      <td>11</td>\n      <td>11</td>\n      <td>11</td>\n      <td>11</td>\n      <td>11</td>\n      <td>11</td>\n      <td>14127</td>\n      <td>14127</td>\n    </tr>\n    <tr>\n      <th>면</th>\n      <td>1947</td>\n      <td>1947</td>\n      <td>1947</td>\n      <td>1228</td>\n      <td>1228</td>\n      <td>1050</td>\n      <td>1228</td>\n      <td>1947</td>\n      <td>1228</td>\n      <td>1947</td>\n      <td>...</td>\n      <td>719</td>\n      <td>719</td>\n      <td>719</td>\n      <td>719</td>\n      <td>719</td>\n      <td>719</td>\n      <td>719</td>\n      <td>719</td>\n      <td>1947</td>\n      <td>1947</td>\n    </tr>\n    <tr>\n      <th>읍</th>\n      <td>4243</td>\n      <td>4243</td>\n      <td>4243</td>\n      <td>3918</td>\n      <td>3918</td>\n      <td>3588</td>\n      <td>3918</td>\n      <td>4243</td>\n      <td>3918</td>\n      <td>4243</td>\n      <td>...</td>\n      <td>325</td>\n      <td>325</td>\n      <td>325</td>\n      <td>325</td>\n      <td>325</td>\n      <td>325</td>\n      <td>325</td>\n      <td>325</td>\n      <td>4243</td>\n      <td>4243</td>\n    </tr>\n  </tbody>\n</table>\n<p>3 rows × 25 columns</p>\n</div>"
     },
     "metadata": {},
     "execution_count": 95
    }
   ],
   "source": [
    "data_all.groupby('읍면동구분').count()"
   ]
  },
  {
   "cell_type": "code",
   "execution_count": 97,
   "metadata": {},
   "outputs": [
    {
     "output_type": "execute_result",
     "data": {
      "text/plain": [
       "         계약년월    계약일    시군구    본번    부번   단지명  전용면적(㎡)  거래금액(만원)     층   건축년도  \\\n",
       "평                                                                               \n",
       "10~20평   5319   5319   5319  5170  5170  4946     5170      5319  5170   5319   \n",
       "10평 미만   1347   1347   1347  1329  1329  1106     1329      1347  1329   1347   \n",
       "20~30평  10203  10203  10203  9892  9892  9794     9892     10203  9892  10203   \n",
       "30~40평   2846   2846   2846  2703  2703  2702     2703      2846  2703   2846   \n",
       "40~50평    254    254    254   156   156   156      156       254   156    254   \n",
       "50~60평     67     67     67    12    12    12       12        67    12     67   \n",
       "60평 이상    281    281    281     0     0     0        0       281     0    281   \n",
       "\n",
       "        ...  주택유형  도로조건  연면적(㎡)  대지면적(㎡)   도로  시군구2  주택유형2  거래금액2(만원)    계약월  \\\n",
       "평       ...                                                                    \n",
       "10~20평  ...   149   149     149      149  149   149    149        149   5319   \n",
       "10평 미만  ...    18    18      18       18   18    18     18         18   1347   \n",
       "20~30평  ...   311   311     311      311  311   311    311        311  10203   \n",
       "30~40평  ...   143   143     143      143  143   143    143        143   2846   \n",
       "40~50평  ...    98    98      98       98   98    98     98         98    254   \n",
       "50~60평  ...    55    55      55       55   55    55     55         55     67   \n",
       "60평 이상  ...   281   281     281      281  281   281    281        281    281   \n",
       "\n",
       "          계약년  \n",
       "평              \n",
       "10~20평   5319  \n",
       "10평 미만   1347  \n",
       "20~30평  10203  \n",
       "30~40평   2846  \n",
       "40~50평    254  \n",
       "50~60평     67  \n",
       "60평 이상    281  \n",
       "\n",
       "[7 rows x 25 columns]"
      ],
      "text/html": "<div>\n<style scoped>\n    .dataframe tbody tr th:only-of-type {\n        vertical-align: middle;\n    }\n\n    .dataframe tbody tr th {\n        vertical-align: top;\n    }\n\n    .dataframe thead th {\n        text-align: right;\n    }\n</style>\n<table border=\"1\" class=\"dataframe\">\n  <thead>\n    <tr style=\"text-align: right;\">\n      <th></th>\n      <th>계약년월</th>\n      <th>계약일</th>\n      <th>시군구</th>\n      <th>본번</th>\n      <th>부번</th>\n      <th>단지명</th>\n      <th>전용면적(㎡)</th>\n      <th>거래금액(만원)</th>\n      <th>층</th>\n      <th>건축년도</th>\n      <th>...</th>\n      <th>주택유형</th>\n      <th>도로조건</th>\n      <th>연면적(㎡)</th>\n      <th>대지면적(㎡)</th>\n      <th>도로</th>\n      <th>시군구2</th>\n      <th>주택유형2</th>\n      <th>거래금액2(만원)</th>\n      <th>계약월</th>\n      <th>계약년</th>\n    </tr>\n    <tr>\n      <th>평</th>\n      <th></th>\n      <th></th>\n      <th></th>\n      <th></th>\n      <th></th>\n      <th></th>\n      <th></th>\n      <th></th>\n      <th></th>\n      <th></th>\n      <th></th>\n      <th></th>\n      <th></th>\n      <th></th>\n      <th></th>\n      <th></th>\n      <th></th>\n      <th></th>\n      <th></th>\n      <th></th>\n      <th></th>\n    </tr>\n  </thead>\n  <tbody>\n    <tr>\n      <th>10~20평</th>\n      <td>5319</td>\n      <td>5319</td>\n      <td>5319</td>\n      <td>5170</td>\n      <td>5170</td>\n      <td>4946</td>\n      <td>5170</td>\n      <td>5319</td>\n      <td>5170</td>\n      <td>5319</td>\n      <td>...</td>\n      <td>149</td>\n      <td>149</td>\n      <td>149</td>\n      <td>149</td>\n      <td>149</td>\n      <td>149</td>\n      <td>149</td>\n      <td>149</td>\n      <td>5319</td>\n      <td>5319</td>\n    </tr>\n    <tr>\n      <th>10평 미만</th>\n      <td>1347</td>\n      <td>1347</td>\n      <td>1347</td>\n      <td>1329</td>\n      <td>1329</td>\n      <td>1106</td>\n      <td>1329</td>\n      <td>1347</td>\n      <td>1329</td>\n      <td>1347</td>\n      <td>...</td>\n      <td>18</td>\n      <td>18</td>\n      <td>18</td>\n      <td>18</td>\n      <td>18</td>\n      <td>18</td>\n      <td>18</td>\n      <td>18</td>\n      <td>1347</td>\n      <td>1347</td>\n    </tr>\n    <tr>\n      <th>20~30평</th>\n      <td>10203</td>\n      <td>10203</td>\n      <td>10203</td>\n      <td>9892</td>\n      <td>9892</td>\n      <td>9794</td>\n      <td>9892</td>\n      <td>10203</td>\n      <td>9892</td>\n      <td>10203</td>\n      <td>...</td>\n      <td>311</td>\n      <td>311</td>\n      <td>311</td>\n      <td>311</td>\n      <td>311</td>\n      <td>311</td>\n      <td>311</td>\n      <td>311</td>\n      <td>10203</td>\n      <td>10203</td>\n    </tr>\n    <tr>\n      <th>30~40평</th>\n      <td>2846</td>\n      <td>2846</td>\n      <td>2846</td>\n      <td>2703</td>\n      <td>2703</td>\n      <td>2702</td>\n      <td>2703</td>\n      <td>2846</td>\n      <td>2703</td>\n      <td>2846</td>\n      <td>...</td>\n      <td>143</td>\n      <td>143</td>\n      <td>143</td>\n      <td>143</td>\n      <td>143</td>\n      <td>143</td>\n      <td>143</td>\n      <td>143</td>\n      <td>2846</td>\n      <td>2846</td>\n    </tr>\n    <tr>\n      <th>40~50평</th>\n      <td>254</td>\n      <td>254</td>\n      <td>254</td>\n      <td>156</td>\n      <td>156</td>\n      <td>156</td>\n      <td>156</td>\n      <td>254</td>\n      <td>156</td>\n      <td>254</td>\n      <td>...</td>\n      <td>98</td>\n      <td>98</td>\n      <td>98</td>\n      <td>98</td>\n      <td>98</td>\n      <td>98</td>\n      <td>98</td>\n      <td>98</td>\n      <td>254</td>\n      <td>254</td>\n    </tr>\n    <tr>\n      <th>50~60평</th>\n      <td>67</td>\n      <td>67</td>\n      <td>67</td>\n      <td>12</td>\n      <td>12</td>\n      <td>12</td>\n      <td>12</td>\n      <td>67</td>\n      <td>12</td>\n      <td>67</td>\n      <td>...</td>\n      <td>55</td>\n      <td>55</td>\n      <td>55</td>\n      <td>55</td>\n      <td>55</td>\n      <td>55</td>\n      <td>55</td>\n      <td>55</td>\n      <td>67</td>\n      <td>67</td>\n    </tr>\n    <tr>\n      <th>60평 이상</th>\n      <td>281</td>\n      <td>281</td>\n      <td>281</td>\n      <td>0</td>\n      <td>0</td>\n      <td>0</td>\n      <td>0</td>\n      <td>281</td>\n      <td>0</td>\n      <td>281</td>\n      <td>...</td>\n      <td>281</td>\n      <td>281</td>\n      <td>281</td>\n      <td>281</td>\n      <td>281</td>\n      <td>281</td>\n      <td>281</td>\n      <td>281</td>\n      <td>281</td>\n      <td>281</td>\n    </tr>\n  </tbody>\n</table>\n<p>7 rows × 25 columns</p>\n</div>"
     },
     "metadata": {},
     "execution_count": 97
    }
   ],
   "source": [
    "data_all.groupby('평').count()"
   ]
  },
  {
   "cell_type": "markdown",
   "metadata": {},
   "source": [
    "## 매매로 세종시로 오는 이사건 수"
   ]
  },
  {
   "cell_type": "code",
   "execution_count": null,
   "metadata": {
    "ExecuteTime": {
     "end_time": "2021-03-04T03:19:45.141022Z",
     "start_time": "2021-03-04T03:19:45.083177Z"
    }
   },
   "outputs": [],
   "source": [
    "tt1=data_all.groupby('계약년월').count()\n",
    "tt1"
   ]
  },
  {
   "cell_type": "code",
   "execution_count": 75,
   "metadata": {},
   "outputs": [
    {
     "output_type": "execute_result",
     "data": {
      "text/plain": [
       "'2020'"
      ]
     },
     "metadata": {},
     "execution_count": 75
    }
   ],
   "source": [
    "uu='202010'\n",
    "uu[:-2]"
   ]
  },
  {
   "cell_type": "markdown",
   "metadata": {},
   "source": [
    "### 달별 매매 이사건수(2020년 11월 12월 데이터 없음) "
   ]
  },
  {
   "cell_type": "code",
   "execution_count": 71,
   "metadata": {
    "ExecuteTime": {
     "end_time": "2021-03-04T03:19:45.156493Z",
     "start_time": "2021-03-04T03:19:45.143536Z"
    }
   },
   "outputs": [],
   "source": [
    "def mon(df):\n",
    "    return df[-2:]"
   ]
  },
  {
   "cell_type": "code",
   "execution_count": 76,
   "metadata": {},
   "outputs": [],
   "source": [
    "def year(df):\n",
    "    return df[:-2]"
   ]
  },
  {
   "cell_type": "code",
   "execution_count": 73,
   "metadata": {
    "ExecuteTime": {
     "end_time": "2021-03-04T03:19:45.234284Z",
     "start_time": "2021-03-04T03:19:45.158488Z"
    }
   },
   "outputs": [
    {
     "output_type": "execute_result",
     "data": {
      "text/plain": [
       "     계약년월   계약일   시군구    본번    부번   단지명  전용면적(㎡)  거래금액(만원)     층  건축년도  ...  \\\n",
       "계약월                                                                     ...   \n",
       "01   1883  1883  1883  1796  1796  1774     1796      1883  1796  1883  ...   \n",
       "02   1953  1953  1953  1872  1872  1851     1872      1953  1872  1953  ...   \n",
       "03   1559  1559  1559  1436  1436  1396     1436      1559  1436  1559  ...   \n",
       "04   1220  1220  1220  1126  1126  1103     1126      1220  1126  1220  ...   \n",
       "05   1759  1759  1759  1662  1662  1609     1662      1759  1662  1759  ...   \n",
       "06   2948  2948  2948  2842  2842  2704     2842      2948  2842  2948  ...   \n",
       "07   2526  2526  2526  2419  2419  2315     2419      2526  2419  2526  ...   \n",
       "08   1474  1474  1474  1386  1386  1362     1386      1474  1386  1474  ...   \n",
       "09   1070  1070  1070   992   992   933      992      1070   992  1070  ...   \n",
       "10   1043  1043  1043   961   961   930      961      1043   961  1043  ...   \n",
       "11    883   883   883   835   835   816      835       883   835   883  ...   \n",
       "12   1999  1999  1999  1935  1935  1923     1935      1999  1935  1999  ...   \n",
       "\n",
       "     건물명  대지권면적(㎡)  주택유형  도로조건  연면적(㎡)  대지면적(㎡)   도로  시군구2  주택유형2  거래금액2(만원)  \n",
       "계약월                                                                           \n",
       "01    22        22    87    87      87       87   87    87     87         87  \n",
       "02    21        21    81    81      81       81   81    81     81         81  \n",
       "03    40        40   123   123     123      123  123   123    123        123  \n",
       "04    23        23    94    94      94       94   94    94     94         94  \n",
       "05    53        53    97    97      97       97   97    97     97         97  \n",
       "06   138       138   106   106     106      106  106   106    106        106  \n",
       "07   104       104   107   107     107      107  107   107    107        107  \n",
       "08    24        24    88    88      88       88   88    88     88         88  \n",
       "09    59        59    78    78      78       78   78    78     78         78  \n",
       "10    31        31    82    82      82       82   82    82     82         82  \n",
       "11    19        19    48    48      48       48   48    48     48         48  \n",
       "12    12        12    64    64      64       64   64    64     64         64  \n",
       "\n",
       "[12 rows x 24 columns]"
      ],
      "text/html": "<div>\n<style scoped>\n    .dataframe tbody tr th:only-of-type {\n        vertical-align: middle;\n    }\n\n    .dataframe tbody tr th {\n        vertical-align: top;\n    }\n\n    .dataframe thead th {\n        text-align: right;\n    }\n</style>\n<table border=\"1\" class=\"dataframe\">\n  <thead>\n    <tr style=\"text-align: right;\">\n      <th></th>\n      <th>계약년월</th>\n      <th>계약일</th>\n      <th>시군구</th>\n      <th>본번</th>\n      <th>부번</th>\n      <th>단지명</th>\n      <th>전용면적(㎡)</th>\n      <th>거래금액(만원)</th>\n      <th>층</th>\n      <th>건축년도</th>\n      <th>...</th>\n      <th>건물명</th>\n      <th>대지권면적(㎡)</th>\n      <th>주택유형</th>\n      <th>도로조건</th>\n      <th>연면적(㎡)</th>\n      <th>대지면적(㎡)</th>\n      <th>도로</th>\n      <th>시군구2</th>\n      <th>주택유형2</th>\n      <th>거래금액2(만원)</th>\n    </tr>\n    <tr>\n      <th>계약월</th>\n      <th></th>\n      <th></th>\n      <th></th>\n      <th></th>\n      <th></th>\n      <th></th>\n      <th></th>\n      <th></th>\n      <th></th>\n      <th></th>\n      <th></th>\n      <th></th>\n      <th></th>\n      <th></th>\n      <th></th>\n      <th></th>\n      <th></th>\n      <th></th>\n      <th></th>\n      <th></th>\n      <th></th>\n    </tr>\n  </thead>\n  <tbody>\n    <tr>\n      <th>01</th>\n      <td>1883</td>\n      <td>1883</td>\n      <td>1883</td>\n      <td>1796</td>\n      <td>1796</td>\n      <td>1774</td>\n      <td>1796</td>\n      <td>1883</td>\n      <td>1796</td>\n      <td>1883</td>\n      <td>...</td>\n      <td>22</td>\n      <td>22</td>\n      <td>87</td>\n      <td>87</td>\n      <td>87</td>\n      <td>87</td>\n      <td>87</td>\n      <td>87</td>\n      <td>87</td>\n      <td>87</td>\n    </tr>\n    <tr>\n      <th>02</th>\n      <td>1953</td>\n      <td>1953</td>\n      <td>1953</td>\n      <td>1872</td>\n      <td>1872</td>\n      <td>1851</td>\n      <td>1872</td>\n      <td>1953</td>\n      <td>1872</td>\n      <td>1953</td>\n      <td>...</td>\n      <td>21</td>\n      <td>21</td>\n      <td>81</td>\n      <td>81</td>\n      <td>81</td>\n      <td>81</td>\n      <td>81</td>\n      <td>81</td>\n      <td>81</td>\n      <td>81</td>\n    </tr>\n    <tr>\n      <th>03</th>\n      <td>1559</td>\n      <td>1559</td>\n      <td>1559</td>\n      <td>1436</td>\n      <td>1436</td>\n      <td>1396</td>\n      <td>1436</td>\n      <td>1559</td>\n      <td>1436</td>\n      <td>1559</td>\n      <td>...</td>\n      <td>40</td>\n      <td>40</td>\n      <td>123</td>\n      <td>123</td>\n      <td>123</td>\n      <td>123</td>\n      <td>123</td>\n      <td>123</td>\n      <td>123</td>\n      <td>123</td>\n    </tr>\n    <tr>\n      <th>04</th>\n      <td>1220</td>\n      <td>1220</td>\n      <td>1220</td>\n      <td>1126</td>\n      <td>1126</td>\n      <td>1103</td>\n      <td>1126</td>\n      <td>1220</td>\n      <td>1126</td>\n      <td>1220</td>\n      <td>...</td>\n      <td>23</td>\n      <td>23</td>\n      <td>94</td>\n      <td>94</td>\n      <td>94</td>\n      <td>94</td>\n      <td>94</td>\n      <td>94</td>\n      <td>94</td>\n      <td>94</td>\n    </tr>\n    <tr>\n      <th>05</th>\n      <td>1759</td>\n      <td>1759</td>\n      <td>1759</td>\n      <td>1662</td>\n      <td>1662</td>\n      <td>1609</td>\n      <td>1662</td>\n      <td>1759</td>\n      <td>1662</td>\n      <td>1759</td>\n      <td>...</td>\n      <td>53</td>\n      <td>53</td>\n      <td>97</td>\n      <td>97</td>\n      <td>97</td>\n      <td>97</td>\n      <td>97</td>\n      <td>97</td>\n      <td>97</td>\n      <td>97</td>\n    </tr>\n    <tr>\n      <th>06</th>\n      <td>2948</td>\n      <td>2948</td>\n      <td>2948</td>\n      <td>2842</td>\n      <td>2842</td>\n      <td>2704</td>\n      <td>2842</td>\n      <td>2948</td>\n      <td>2842</td>\n      <td>2948</td>\n      <td>...</td>\n      <td>138</td>\n      <td>138</td>\n      <td>106</td>\n      <td>106</td>\n      <td>106</td>\n      <td>106</td>\n      <td>106</td>\n      <td>106</td>\n      <td>106</td>\n      <td>106</td>\n    </tr>\n    <tr>\n      <th>07</th>\n      <td>2526</td>\n      <td>2526</td>\n      <td>2526</td>\n      <td>2419</td>\n      <td>2419</td>\n      <td>2315</td>\n      <td>2419</td>\n      <td>2526</td>\n      <td>2419</td>\n      <td>2526</td>\n      <td>...</td>\n      <td>104</td>\n      <td>104</td>\n      <td>107</td>\n      <td>107</td>\n      <td>107</td>\n      <td>107</td>\n      <td>107</td>\n      <td>107</td>\n      <td>107</td>\n      <td>107</td>\n    </tr>\n    <tr>\n      <th>08</th>\n      <td>1474</td>\n      <td>1474</td>\n      <td>1474</td>\n      <td>1386</td>\n      <td>1386</td>\n      <td>1362</td>\n      <td>1386</td>\n      <td>1474</td>\n      <td>1386</td>\n      <td>1474</td>\n      <td>...</td>\n      <td>24</td>\n      <td>24</td>\n      <td>88</td>\n      <td>88</td>\n      <td>88</td>\n      <td>88</td>\n      <td>88</td>\n      <td>88</td>\n      <td>88</td>\n      <td>88</td>\n    </tr>\n    <tr>\n      <th>09</th>\n      <td>1070</td>\n      <td>1070</td>\n      <td>1070</td>\n      <td>992</td>\n      <td>992</td>\n      <td>933</td>\n      <td>992</td>\n      <td>1070</td>\n      <td>992</td>\n      <td>1070</td>\n      <td>...</td>\n      <td>59</td>\n      <td>59</td>\n      <td>78</td>\n      <td>78</td>\n      <td>78</td>\n      <td>78</td>\n      <td>78</td>\n      <td>78</td>\n      <td>78</td>\n      <td>78</td>\n    </tr>\n    <tr>\n      <th>10</th>\n      <td>1043</td>\n      <td>1043</td>\n      <td>1043</td>\n      <td>961</td>\n      <td>961</td>\n      <td>930</td>\n      <td>961</td>\n      <td>1043</td>\n      <td>961</td>\n      <td>1043</td>\n      <td>...</td>\n      <td>31</td>\n      <td>31</td>\n      <td>82</td>\n      <td>82</td>\n      <td>82</td>\n      <td>82</td>\n      <td>82</td>\n      <td>82</td>\n      <td>82</td>\n      <td>82</td>\n    </tr>\n    <tr>\n      <th>11</th>\n      <td>883</td>\n      <td>883</td>\n      <td>883</td>\n      <td>835</td>\n      <td>835</td>\n      <td>816</td>\n      <td>835</td>\n      <td>883</td>\n      <td>835</td>\n      <td>883</td>\n      <td>...</td>\n      <td>19</td>\n      <td>19</td>\n      <td>48</td>\n      <td>48</td>\n      <td>48</td>\n      <td>48</td>\n      <td>48</td>\n      <td>48</td>\n      <td>48</td>\n      <td>48</td>\n    </tr>\n    <tr>\n      <th>12</th>\n      <td>1999</td>\n      <td>1999</td>\n      <td>1999</td>\n      <td>1935</td>\n      <td>1935</td>\n      <td>1923</td>\n      <td>1935</td>\n      <td>1999</td>\n      <td>1935</td>\n      <td>1999</td>\n      <td>...</td>\n      <td>12</td>\n      <td>12</td>\n      <td>64</td>\n      <td>64</td>\n      <td>64</td>\n      <td>64</td>\n      <td>64</td>\n      <td>64</td>\n      <td>64</td>\n      <td>64</td>\n    </tr>\n  </tbody>\n</table>\n<p>12 rows × 24 columns</p>\n</div>"
     },
     "metadata": {},
     "execution_count": 73
    }
   ],
   "source": [
    "data_all['계약년월']=data_all['계약년월'].astype(str)\n",
    "data_all['계약월']=data_all['계약년월'].apply(mon)\n",
    "tt2=data_all.groupby('계약월').count()\n",
    "tt2"
   ]
  },
  {
   "cell_type": "code",
   "execution_count": 77,
   "metadata": {},
   "outputs": [
    {
     "output_type": "execute_result",
     "data": {
      "text/plain": [
       "      계약년월   계약일   시군구    본번    부번   단지명  전용면적(㎡)  거래금액(만원)     층  건축년도  ...  \\\n",
       "계약년                                                                      ...   \n",
       "2017  5218  5218  5218  4908  4908  4717     4908      5218  4908  5218  ...   \n",
       "2018  3805  3805  3805  3552  3552  3472     3552      3805  3552  3805  ...   \n",
       "2019  2783  2783  2783  2583  2583  2497     2583      2783  2583  2783  ...   \n",
       "2020  8511  8511  8511  8219  8219  8030     8219      8511  8219  8511  ...   \n",
       "\n",
       "      대지권면적(㎡)  주택유형  도로조건  연면적(㎡)  대지면적(㎡)   도로  시군구2  주택유형2  거래금액2(만원)   계약월  \n",
       "계약년                                                                             \n",
       "2017       191   310   310     310      310  310   310    310        310  5218  \n",
       "2018        80   253   253     253      253  253   253    253        253  3805  \n",
       "2019        86   200   200     200      200  200   200    200        200  2783  \n",
       "2020       189   292   292     292      292  292   292    292        292  8511  \n",
       "\n",
       "[4 rows x 25 columns]"
      ],
      "text/html": "<div>\n<style scoped>\n    .dataframe tbody tr th:only-of-type {\n        vertical-align: middle;\n    }\n\n    .dataframe tbody tr th {\n        vertical-align: top;\n    }\n\n    .dataframe thead th {\n        text-align: right;\n    }\n</style>\n<table border=\"1\" class=\"dataframe\">\n  <thead>\n    <tr style=\"text-align: right;\">\n      <th></th>\n      <th>계약년월</th>\n      <th>계약일</th>\n      <th>시군구</th>\n      <th>본번</th>\n      <th>부번</th>\n      <th>단지명</th>\n      <th>전용면적(㎡)</th>\n      <th>거래금액(만원)</th>\n      <th>층</th>\n      <th>건축년도</th>\n      <th>...</th>\n      <th>대지권면적(㎡)</th>\n      <th>주택유형</th>\n      <th>도로조건</th>\n      <th>연면적(㎡)</th>\n      <th>대지면적(㎡)</th>\n      <th>도로</th>\n      <th>시군구2</th>\n      <th>주택유형2</th>\n      <th>거래금액2(만원)</th>\n      <th>계약월</th>\n    </tr>\n    <tr>\n      <th>계약년</th>\n      <th></th>\n      <th></th>\n      <th></th>\n      <th></th>\n      <th></th>\n      <th></th>\n      <th></th>\n      <th></th>\n      <th></th>\n      <th></th>\n      <th></th>\n      <th></th>\n      <th></th>\n      <th></th>\n      <th></th>\n      <th></th>\n      <th></th>\n      <th></th>\n      <th></th>\n      <th></th>\n      <th></th>\n    </tr>\n  </thead>\n  <tbody>\n    <tr>\n      <th>2017</th>\n      <td>5218</td>\n      <td>5218</td>\n      <td>5218</td>\n      <td>4908</td>\n      <td>4908</td>\n      <td>4717</td>\n      <td>4908</td>\n      <td>5218</td>\n      <td>4908</td>\n      <td>5218</td>\n      <td>...</td>\n      <td>191</td>\n      <td>310</td>\n      <td>310</td>\n      <td>310</td>\n      <td>310</td>\n      <td>310</td>\n      <td>310</td>\n      <td>310</td>\n      <td>310</td>\n      <td>5218</td>\n    </tr>\n    <tr>\n      <th>2018</th>\n      <td>3805</td>\n      <td>3805</td>\n      <td>3805</td>\n      <td>3552</td>\n      <td>3552</td>\n      <td>3472</td>\n      <td>3552</td>\n      <td>3805</td>\n      <td>3552</td>\n      <td>3805</td>\n      <td>...</td>\n      <td>80</td>\n      <td>253</td>\n      <td>253</td>\n      <td>253</td>\n      <td>253</td>\n      <td>253</td>\n      <td>253</td>\n      <td>253</td>\n      <td>253</td>\n      <td>3805</td>\n    </tr>\n    <tr>\n      <th>2019</th>\n      <td>2783</td>\n      <td>2783</td>\n      <td>2783</td>\n      <td>2583</td>\n      <td>2583</td>\n      <td>2497</td>\n      <td>2583</td>\n      <td>2783</td>\n      <td>2583</td>\n      <td>2783</td>\n      <td>...</td>\n      <td>86</td>\n      <td>200</td>\n      <td>200</td>\n      <td>200</td>\n      <td>200</td>\n      <td>200</td>\n      <td>200</td>\n      <td>200</td>\n      <td>200</td>\n      <td>2783</td>\n    </tr>\n    <tr>\n      <th>2020</th>\n      <td>8511</td>\n      <td>8511</td>\n      <td>8511</td>\n      <td>8219</td>\n      <td>8219</td>\n      <td>8030</td>\n      <td>8219</td>\n      <td>8511</td>\n      <td>8219</td>\n      <td>8511</td>\n      <td>...</td>\n      <td>189</td>\n      <td>292</td>\n      <td>292</td>\n      <td>292</td>\n      <td>292</td>\n      <td>292</td>\n      <td>292</td>\n      <td>292</td>\n      <td>292</td>\n      <td>8511</td>\n    </tr>\n  </tbody>\n</table>\n<p>4 rows × 25 columns</p>\n</div>"
     },
     "metadata": {},
     "execution_count": 77
    }
   ],
   "source": [
    "data_all['계약년']=data_all['계약년월'].apply(year)\n",
    "tt2_1=data_all.groupby('계약년').count()\n",
    "tt2_1"
   ]
  },
  {
   "cell_type": "code",
   "execution_count": null,
   "metadata": {
    "ExecuteTime": {
     "end_time": "2021-03-04T03:19:45.249245Z",
     "start_time": "2021-03-04T03:19:45.237277Z"
    }
   },
   "outputs": [],
   "source": []
  },
  {
   "cell_type": "markdown",
   "metadata": {},
   "source": [
    "### 아파트 전월세"
   ]
  },
  {
   "cell_type": "code",
   "execution_count": 34,
   "metadata": {
    "ExecuteTime": {
     "end_time": "2021-03-04T03:19:46.972948Z",
     "start_time": "2021-03-04T03:19:46.852253Z"
    }
   },
   "outputs": [
    {
     "output_type": "execute_result",
     "data": {
      "text/plain": [
       "         계약년월  계약일          시군구    본번  부번                  단지명 전월세구분  \\\n",
       "0      201701   13  세종특별자치시 고운동  1396   0  가락마을 20단지(호반베르디움5차)    전세   \n",
       "1      201701   14  세종특별자치시 고운동  1396   0  가락마을 20단지(호반베르디움5차)    전세   \n",
       "2      201701   14  세종특별자치시 고운동  1396   0  가락마을 20단지(호반베르디움5차)    전세   \n",
       "3      201701   15  세종특별자치시 고운동  1396   0  가락마을 20단지(호반베르디움5차)    전세   \n",
       "4      201702    4  세종특별자치시 고운동  1396   0  가락마을 20단지(호반베르디움5차)    월세   \n",
       "...       ...  ...          ...   ...  ..                  ...   ...   \n",
       "38890  202011   21  세종특별자치시 해밀동  6402   1             해밀마을 2단지    월세   \n",
       "38891  202012    8  세종특별자치시 해밀동  6402   1             해밀마을 2단지    월세   \n",
       "38892  202012   11  세종특별자치시 해밀동  6402   1             해밀마을 2단지    전세   \n",
       "38893  202012   12  세종특별자치시 해밀동  6402   1             해밀마을 2단지    전세   \n",
       "38894  202012   13  세종특별자치시 해밀동  6402   1             해밀마을 2단지    월세   \n",
       "\n",
       "        전용면적(㎡) 보증금(만원)  월세(만원)   층  건축년도       평  \n",
       "0       84.9895  10,000       0  13  2015  20~30평  \n",
       "1       84.9895  18,000       0  19  2015  20~30평  \n",
       "2       59.8338  17,000       0  10  2015  10~20평  \n",
       "3       84.9895  17,000       0   2  2015  20~30평  \n",
       "4       84.9895  10,000      30  13  2015  20~30평  \n",
       "...         ...     ...     ...  ..   ...     ...  \n",
       "38890  102.8300  10,000     100   5  2020  30~40평  \n",
       "38891  102.5300  10,000      95  14  2020  30~40평  \n",
       "38892   84.9500  30,000       0  18  2020  20~30평  \n",
       "38893   84.9500  34,000       0  18  2020  20~30평  \n",
       "38894   84.9500   8,000      85  16  2020  20~30평  \n",
       "\n",
       "[38895 rows x 13 columns]"
      ],
      "text/html": "<div>\n<style scoped>\n    .dataframe tbody tr th:only-of-type {\n        vertical-align: middle;\n    }\n\n    .dataframe tbody tr th {\n        vertical-align: top;\n    }\n\n    .dataframe thead th {\n        text-align: right;\n    }\n</style>\n<table border=\"1\" class=\"dataframe\">\n  <thead>\n    <tr style=\"text-align: right;\">\n      <th></th>\n      <th>계약년월</th>\n      <th>계약일</th>\n      <th>시군구</th>\n      <th>본번</th>\n      <th>부번</th>\n      <th>단지명</th>\n      <th>전월세구분</th>\n      <th>전용면적(㎡)</th>\n      <th>보증금(만원)</th>\n      <th>월세(만원)</th>\n      <th>층</th>\n      <th>건축년도</th>\n      <th>평</th>\n    </tr>\n  </thead>\n  <tbody>\n    <tr>\n      <th>0</th>\n      <td>201701</td>\n      <td>13</td>\n      <td>세종특별자치시 고운동</td>\n      <td>1396</td>\n      <td>0</td>\n      <td>가락마을 20단지(호반베르디움5차)</td>\n      <td>전세</td>\n      <td>84.9895</td>\n      <td>10,000</td>\n      <td>0</td>\n      <td>13</td>\n      <td>2015</td>\n      <td>20~30평</td>\n    </tr>\n    <tr>\n      <th>1</th>\n      <td>201701</td>\n      <td>14</td>\n      <td>세종특별자치시 고운동</td>\n      <td>1396</td>\n      <td>0</td>\n      <td>가락마을 20단지(호반베르디움5차)</td>\n      <td>전세</td>\n      <td>84.9895</td>\n      <td>18,000</td>\n      <td>0</td>\n      <td>19</td>\n      <td>2015</td>\n      <td>20~30평</td>\n    </tr>\n    <tr>\n      <th>2</th>\n      <td>201701</td>\n      <td>14</td>\n      <td>세종특별자치시 고운동</td>\n      <td>1396</td>\n      <td>0</td>\n      <td>가락마을 20단지(호반베르디움5차)</td>\n      <td>전세</td>\n      <td>59.8338</td>\n      <td>17,000</td>\n      <td>0</td>\n      <td>10</td>\n      <td>2015</td>\n      <td>10~20평</td>\n    </tr>\n    <tr>\n      <th>3</th>\n      <td>201701</td>\n      <td>15</td>\n      <td>세종특별자치시 고운동</td>\n      <td>1396</td>\n      <td>0</td>\n      <td>가락마을 20단지(호반베르디움5차)</td>\n      <td>전세</td>\n      <td>84.9895</td>\n      <td>17,000</td>\n      <td>0</td>\n      <td>2</td>\n      <td>2015</td>\n      <td>20~30평</td>\n    </tr>\n    <tr>\n      <th>4</th>\n      <td>201702</td>\n      <td>4</td>\n      <td>세종특별자치시 고운동</td>\n      <td>1396</td>\n      <td>0</td>\n      <td>가락마을 20단지(호반베르디움5차)</td>\n      <td>월세</td>\n      <td>84.9895</td>\n      <td>10,000</td>\n      <td>30</td>\n      <td>13</td>\n      <td>2015</td>\n      <td>20~30평</td>\n    </tr>\n    <tr>\n      <th>...</th>\n      <td>...</td>\n      <td>...</td>\n      <td>...</td>\n      <td>...</td>\n      <td>...</td>\n      <td>...</td>\n      <td>...</td>\n      <td>...</td>\n      <td>...</td>\n      <td>...</td>\n      <td>...</td>\n      <td>...</td>\n      <td>...</td>\n    </tr>\n    <tr>\n      <th>38890</th>\n      <td>202011</td>\n      <td>21</td>\n      <td>세종특별자치시 해밀동</td>\n      <td>6402</td>\n      <td>1</td>\n      <td>해밀마을 2단지</td>\n      <td>월세</td>\n      <td>102.8300</td>\n      <td>10,000</td>\n      <td>100</td>\n      <td>5</td>\n      <td>2020</td>\n      <td>30~40평</td>\n    </tr>\n    <tr>\n      <th>38891</th>\n      <td>202012</td>\n      <td>8</td>\n      <td>세종특별자치시 해밀동</td>\n      <td>6402</td>\n      <td>1</td>\n      <td>해밀마을 2단지</td>\n      <td>월세</td>\n      <td>102.5300</td>\n      <td>10,000</td>\n      <td>95</td>\n      <td>14</td>\n      <td>2020</td>\n      <td>30~40평</td>\n    </tr>\n    <tr>\n      <th>38892</th>\n      <td>202012</td>\n      <td>11</td>\n      <td>세종특별자치시 해밀동</td>\n      <td>6402</td>\n      <td>1</td>\n      <td>해밀마을 2단지</td>\n      <td>전세</td>\n      <td>84.9500</td>\n      <td>30,000</td>\n      <td>0</td>\n      <td>18</td>\n      <td>2020</td>\n      <td>20~30평</td>\n    </tr>\n    <tr>\n      <th>38893</th>\n      <td>202012</td>\n      <td>12</td>\n      <td>세종특별자치시 해밀동</td>\n      <td>6402</td>\n      <td>1</td>\n      <td>해밀마을 2단지</td>\n      <td>전세</td>\n      <td>84.9500</td>\n      <td>34,000</td>\n      <td>0</td>\n      <td>18</td>\n      <td>2020</td>\n      <td>20~30평</td>\n    </tr>\n    <tr>\n      <th>38894</th>\n      <td>202012</td>\n      <td>13</td>\n      <td>세종특별자치시 해밀동</td>\n      <td>6402</td>\n      <td>1</td>\n      <td>해밀마을 2단지</td>\n      <td>월세</td>\n      <td>84.9500</td>\n      <td>8,000</td>\n      <td>85</td>\n      <td>16</td>\n      <td>2020</td>\n      <td>20~30평</td>\n    </tr>\n  </tbody>\n</table>\n<p>38895 rows × 13 columns</p>\n</div>"
     },
     "metadata": {},
     "execution_count": 34
    }
   ],
   "source": [
    "data_jeon = pd.read_csv('C:/Users/sopo9/Downloads/SBJ_2102_001/7.세종시_아파트(전월세)_실거래가.csv')\n",
    "data_jeon[\"평\"]=data_jeon[\"전용면적(㎡)\"].apply(pyeong)\n",
    "data_jeon"
   ]
  },
  {
   "cell_type": "code",
   "execution_count": 35,
   "metadata": {
    "ExecuteTime": {
     "end_time": "2021-03-04T03:19:47.017827Z",
     "start_time": "2021-03-04T03:19:46.976937Z"
    }
   },
   "outputs": [
    {
     "output_type": "execute_result",
     "data": {
      "text/plain": [
       "         계약년월    계약일    시군구     본번     부번    단지명  전월세구분  전용면적(㎡)  보증금(만원)  \\\n",
       "평                                                                           \n",
       "10~20평  12516  12516  12516  12516  12516  12516  12516    12516    12516   \n",
       "10평 미만   3392   3392   3392   3392   3392   3392   3392     3392     3392   \n",
       "20~30평  18505  18505  18505  18505  18505  18505  18505    18505    18505   \n",
       "30~40평   4371   4371   4371   4371   4371   4371   4371     4371     4371   \n",
       "40~50평     92     92     92     92     92     92     92       92       92   \n",
       "50~60평     17     17     17     17     17     17     17       17       17   \n",
       "60평 이상      2      2      2      2      2      2      2        2        2   \n",
       "\n",
       "        월세(만원)      층   건축년도  \n",
       "평                             \n",
       "10~20평   12516  12516  12516  \n",
       "10평 미만    3392   3392   3392  \n",
       "20~30평   18505  18505  18505  \n",
       "30~40평    4371   4371   4371  \n",
       "40~50평      92     92     92  \n",
       "50~60평      17     17     17  \n",
       "60평 이상       2      2      2  "
      ],
      "text/html": "<div>\n<style scoped>\n    .dataframe tbody tr th:only-of-type {\n        vertical-align: middle;\n    }\n\n    .dataframe tbody tr th {\n        vertical-align: top;\n    }\n\n    .dataframe thead th {\n        text-align: right;\n    }\n</style>\n<table border=\"1\" class=\"dataframe\">\n  <thead>\n    <tr style=\"text-align: right;\">\n      <th></th>\n      <th>계약년월</th>\n      <th>계약일</th>\n      <th>시군구</th>\n      <th>본번</th>\n      <th>부번</th>\n      <th>단지명</th>\n      <th>전월세구분</th>\n      <th>전용면적(㎡)</th>\n      <th>보증금(만원)</th>\n      <th>월세(만원)</th>\n      <th>층</th>\n      <th>건축년도</th>\n    </tr>\n    <tr>\n      <th>평</th>\n      <th></th>\n      <th></th>\n      <th></th>\n      <th></th>\n      <th></th>\n      <th></th>\n      <th></th>\n      <th></th>\n      <th></th>\n      <th></th>\n      <th></th>\n      <th></th>\n    </tr>\n  </thead>\n  <tbody>\n    <tr>\n      <th>10~20평</th>\n      <td>12516</td>\n      <td>12516</td>\n      <td>12516</td>\n      <td>12516</td>\n      <td>12516</td>\n      <td>12516</td>\n      <td>12516</td>\n      <td>12516</td>\n      <td>12516</td>\n      <td>12516</td>\n      <td>12516</td>\n      <td>12516</td>\n    </tr>\n    <tr>\n      <th>10평 미만</th>\n      <td>3392</td>\n      <td>3392</td>\n      <td>3392</td>\n      <td>3392</td>\n      <td>3392</td>\n      <td>3392</td>\n      <td>3392</td>\n      <td>3392</td>\n      <td>3392</td>\n      <td>3392</td>\n      <td>3392</td>\n      <td>3392</td>\n    </tr>\n    <tr>\n      <th>20~30평</th>\n      <td>18505</td>\n      <td>18505</td>\n      <td>18505</td>\n      <td>18505</td>\n      <td>18505</td>\n      <td>18505</td>\n      <td>18505</td>\n      <td>18505</td>\n      <td>18505</td>\n      <td>18505</td>\n      <td>18505</td>\n      <td>18505</td>\n    </tr>\n    <tr>\n      <th>30~40평</th>\n      <td>4371</td>\n      <td>4371</td>\n      <td>4371</td>\n      <td>4371</td>\n      <td>4371</td>\n      <td>4371</td>\n      <td>4371</td>\n      <td>4371</td>\n      <td>4371</td>\n      <td>4371</td>\n      <td>4371</td>\n      <td>4371</td>\n    </tr>\n    <tr>\n      <th>40~50평</th>\n      <td>92</td>\n      <td>92</td>\n      <td>92</td>\n      <td>92</td>\n      <td>92</td>\n      <td>92</td>\n      <td>92</td>\n      <td>92</td>\n      <td>92</td>\n      <td>92</td>\n      <td>92</td>\n      <td>92</td>\n    </tr>\n    <tr>\n      <th>50~60평</th>\n      <td>17</td>\n      <td>17</td>\n      <td>17</td>\n      <td>17</td>\n      <td>17</td>\n      <td>17</td>\n      <td>17</td>\n      <td>17</td>\n      <td>17</td>\n      <td>17</td>\n      <td>17</td>\n      <td>17</td>\n    </tr>\n    <tr>\n      <th>60평 이상</th>\n      <td>2</td>\n      <td>2</td>\n      <td>2</td>\n      <td>2</td>\n      <td>2</td>\n      <td>2</td>\n      <td>2</td>\n      <td>2</td>\n      <td>2</td>\n      <td>2</td>\n      <td>2</td>\n      <td>2</td>\n    </tr>\n  </tbody>\n</table>\n</div>"
     },
     "metadata": {},
     "execution_count": 35
    }
   ],
   "source": [
    "data_jeon.groupby('평').count()"
   ]
  },
  {
   "cell_type": "code",
   "execution_count": 36,
   "metadata": {},
   "outputs": [
    {
     "output_type": "execute_result",
     "data": {
      "text/plain": [
       "        계약년월    계약일    시군구     본번     부번    단지명  전용면적(㎡)  보증금(만원)  월세(만원)  \\\n",
       "전월세구분                                                                       \n",
       "월세     11960  11960  11960  11960  11960  11960    11960    11960   11960   \n",
       "전세     26935  26935  26935  26935  26935  26935    26935    26935   26935   \n",
       "\n",
       "           층   건축년도      평  \n",
       "전월세구분                       \n",
       "월세     11960  11960  11960  \n",
       "전세     26935  26935  26935  "
      ],
      "text/html": "<div>\n<style scoped>\n    .dataframe tbody tr th:only-of-type {\n        vertical-align: middle;\n    }\n\n    .dataframe tbody tr th {\n        vertical-align: top;\n    }\n\n    .dataframe thead th {\n        text-align: right;\n    }\n</style>\n<table border=\"1\" class=\"dataframe\">\n  <thead>\n    <tr style=\"text-align: right;\">\n      <th></th>\n      <th>계약년월</th>\n      <th>계약일</th>\n      <th>시군구</th>\n      <th>본번</th>\n      <th>부번</th>\n      <th>단지명</th>\n      <th>전용면적(㎡)</th>\n      <th>보증금(만원)</th>\n      <th>월세(만원)</th>\n      <th>층</th>\n      <th>건축년도</th>\n      <th>평</th>\n    </tr>\n    <tr>\n      <th>전월세구분</th>\n      <th></th>\n      <th></th>\n      <th></th>\n      <th></th>\n      <th></th>\n      <th></th>\n      <th></th>\n      <th></th>\n      <th></th>\n      <th></th>\n      <th></th>\n      <th></th>\n    </tr>\n  </thead>\n  <tbody>\n    <tr>\n      <th>월세</th>\n      <td>11960</td>\n      <td>11960</td>\n      <td>11960</td>\n      <td>11960</td>\n      <td>11960</td>\n      <td>11960</td>\n      <td>11960</td>\n      <td>11960</td>\n      <td>11960</td>\n      <td>11960</td>\n      <td>11960</td>\n      <td>11960</td>\n    </tr>\n    <tr>\n      <th>전세</th>\n      <td>26935</td>\n      <td>26935</td>\n      <td>26935</td>\n      <td>26935</td>\n      <td>26935</td>\n      <td>26935</td>\n      <td>26935</td>\n      <td>26935</td>\n      <td>26935</td>\n      <td>26935</td>\n      <td>26935</td>\n      <td>26935</td>\n    </tr>\n  </tbody>\n</table>\n</div>"
     },
     "metadata": {},
     "execution_count": 36
    }
   ],
   "source": [
    "data_jeon.groupby('전월세구분').count()"
   ]
  },
  {
   "cell_type": "code",
   "execution_count": 38,
   "metadata": {},
   "outputs": [
    {
     "output_type": "execute_result",
     "data": {
      "text/plain": [
       "         계약년월   계약일   시군구    본번    부번   단지명  전월세구분  전용면적(㎡)  월세(만원)     층  \\\n",
       "보증금(만원)                                                                     \n",
       "0           9     9     9     9     9     9      9        9       9     9   \n",
       "1,000    2127  2127  2127  2127  2127  2127   2127     2127    2127  2127   \n",
       "1,006       1     1     1     1     1     1      1        1       1     1   \n",
       "1,009     192   192   192   192   192   192    192      192     192   192   \n",
       "1,018       1     1     1     1     1     1      1        1       1     1   \n",
       "...       ...   ...   ...   ...   ...   ...    ...      ...     ...   ...   \n",
       "949         1     1     1     1     1     1      1        1       1     1   \n",
       "962         1     1     1     1     1     1      1        1       1     1   \n",
       "979         1     1     1     1     1     1      1        1       1     1   \n",
       "980         6     6     6     6     6     6      6        6       6     6   \n",
       "990         8     8     8     8     8     8      8        8       8     8   \n",
       "\n",
       "         건축년도     평  \n",
       "보증금(만원)              \n",
       "0           9     9  \n",
       "1,000    2127  2127  \n",
       "1,006       1     1  \n",
       "1,009     192   192  \n",
       "1,018       1     1  \n",
       "...       ...   ...  \n",
       "949         1     1  \n",
       "962         1     1  \n",
       "979         1     1  \n",
       "980         6     6  \n",
       "990         8     8  \n",
       "\n",
       "[850 rows x 12 columns]"
      ],
      "text/html": "<div>\n<style scoped>\n    .dataframe tbody tr th:only-of-type {\n        vertical-align: middle;\n    }\n\n    .dataframe tbody tr th {\n        vertical-align: top;\n    }\n\n    .dataframe thead th {\n        text-align: right;\n    }\n</style>\n<table border=\"1\" class=\"dataframe\">\n  <thead>\n    <tr style=\"text-align: right;\">\n      <th></th>\n      <th>계약년월</th>\n      <th>계약일</th>\n      <th>시군구</th>\n      <th>본번</th>\n      <th>부번</th>\n      <th>단지명</th>\n      <th>전월세구분</th>\n      <th>전용면적(㎡)</th>\n      <th>월세(만원)</th>\n      <th>층</th>\n      <th>건축년도</th>\n      <th>평</th>\n    </tr>\n    <tr>\n      <th>보증금(만원)</th>\n      <th></th>\n      <th></th>\n      <th></th>\n      <th></th>\n      <th></th>\n      <th></th>\n      <th></th>\n      <th></th>\n      <th></th>\n      <th></th>\n      <th></th>\n      <th></th>\n    </tr>\n  </thead>\n  <tbody>\n    <tr>\n      <th>0</th>\n      <td>9</td>\n      <td>9</td>\n      <td>9</td>\n      <td>9</td>\n      <td>9</td>\n      <td>9</td>\n      <td>9</td>\n      <td>9</td>\n      <td>9</td>\n      <td>9</td>\n      <td>9</td>\n      <td>9</td>\n    </tr>\n    <tr>\n      <th>1,000</th>\n      <td>2127</td>\n      <td>2127</td>\n      <td>2127</td>\n      <td>2127</td>\n      <td>2127</td>\n      <td>2127</td>\n      <td>2127</td>\n      <td>2127</td>\n      <td>2127</td>\n      <td>2127</td>\n      <td>2127</td>\n      <td>2127</td>\n    </tr>\n    <tr>\n      <th>1,006</th>\n      <td>1</td>\n      <td>1</td>\n      <td>1</td>\n      <td>1</td>\n      <td>1</td>\n      <td>1</td>\n      <td>1</td>\n      <td>1</td>\n      <td>1</td>\n      <td>1</td>\n      <td>1</td>\n      <td>1</td>\n    </tr>\n    <tr>\n      <th>1,009</th>\n      <td>192</td>\n      <td>192</td>\n      <td>192</td>\n      <td>192</td>\n      <td>192</td>\n      <td>192</td>\n      <td>192</td>\n      <td>192</td>\n      <td>192</td>\n      <td>192</td>\n      <td>192</td>\n      <td>192</td>\n    </tr>\n    <tr>\n      <th>1,018</th>\n      <td>1</td>\n      <td>1</td>\n      <td>1</td>\n      <td>1</td>\n      <td>1</td>\n      <td>1</td>\n      <td>1</td>\n      <td>1</td>\n      <td>1</td>\n      <td>1</td>\n      <td>1</td>\n      <td>1</td>\n    </tr>\n    <tr>\n      <th>...</th>\n      <td>...</td>\n      <td>...</td>\n      <td>...</td>\n      <td>...</td>\n      <td>...</td>\n      <td>...</td>\n      <td>...</td>\n      <td>...</td>\n      <td>...</td>\n      <td>...</td>\n      <td>...</td>\n      <td>...</td>\n    </tr>\n    <tr>\n      <th>949</th>\n      <td>1</td>\n      <td>1</td>\n      <td>1</td>\n      <td>1</td>\n      <td>1</td>\n      <td>1</td>\n      <td>1</td>\n      <td>1</td>\n      <td>1</td>\n      <td>1</td>\n      <td>1</td>\n      <td>1</td>\n    </tr>\n    <tr>\n      <th>962</th>\n      <td>1</td>\n      <td>1</td>\n      <td>1</td>\n      <td>1</td>\n      <td>1</td>\n      <td>1</td>\n      <td>1</td>\n      <td>1</td>\n      <td>1</td>\n      <td>1</td>\n      <td>1</td>\n      <td>1</td>\n    </tr>\n    <tr>\n      <th>979</th>\n      <td>1</td>\n      <td>1</td>\n      <td>1</td>\n      <td>1</td>\n      <td>1</td>\n      <td>1</td>\n      <td>1</td>\n      <td>1</td>\n      <td>1</td>\n      <td>1</td>\n      <td>1</td>\n      <td>1</td>\n    </tr>\n    <tr>\n      <th>980</th>\n      <td>6</td>\n      <td>6</td>\n      <td>6</td>\n      <td>6</td>\n      <td>6</td>\n      <td>6</td>\n      <td>6</td>\n      <td>6</td>\n      <td>6</td>\n      <td>6</td>\n      <td>6</td>\n      <td>6</td>\n    </tr>\n    <tr>\n      <th>990</th>\n      <td>8</td>\n      <td>8</td>\n      <td>8</td>\n      <td>8</td>\n      <td>8</td>\n      <td>8</td>\n      <td>8</td>\n      <td>8</td>\n      <td>8</td>\n      <td>8</td>\n      <td>8</td>\n      <td>8</td>\n    </tr>\n  </tbody>\n</table>\n<p>850 rows × 12 columns</p>\n</div>"
     },
     "metadata": {},
     "execution_count": 38
    }
   ],
   "source": [
    "data_jeon.groupby('보증금(만원)').count()"
   ]
  },
  {
   "cell_type": "code",
   "execution_count": 39,
   "metadata": {},
   "outputs": [
    {
     "output_type": "execute_result",
     "data": {
      "text/plain": [
       "         계약년월    계약일    시군구     본번     부번    단지명  전월세구분  전용면적(㎡)  보증금(만원)  \\\n",
       "월세(만원)                                                                      \n",
       "0       26936  26936  26936  26936  26936  26936  26936    26936    26936   \n",
       "1          12     12     12     12     12     12     12       12       12   \n",
       "2           7      7      7      7      7      7      7        7        7   \n",
       "3          75     75     75     75     75     75     75       75       75   \n",
       "4          28     28     28     28     28     28     28       28       28   \n",
       "...       ...    ...    ...    ...    ...    ...    ...      ...      ...   \n",
       "165         2      2      2      2      2      2      2        2        2   \n",
       "200         1      1      1      1      1      1      1        1        1   \n",
       "450         1      1      1      1      1      1      1        1        1   \n",
       "650         3      3      3      3      3      3      3        3        3   \n",
       "660         1      1      1      1      1      1      1        1        1   \n",
       "\n",
       "            층   건축년도      평  \n",
       "월세(만원)                       \n",
       "0       26936  26936  26936  \n",
       "1          12     12     12  \n",
       "2           7      7      7  \n",
       "3          75     75     75  \n",
       "4          28     28     28  \n",
       "...       ...    ...    ...  \n",
       "165         2      2      2  \n",
       "200         1      1      1  \n",
       "450         1      1      1  \n",
       "650         3      3      3  \n",
       "660         1      1      1  \n",
       "\n",
       "[101 rows x 12 columns]"
      ],
      "text/html": "<div>\n<style scoped>\n    .dataframe tbody tr th:only-of-type {\n        vertical-align: middle;\n    }\n\n    .dataframe tbody tr th {\n        vertical-align: top;\n    }\n\n    .dataframe thead th {\n        text-align: right;\n    }\n</style>\n<table border=\"1\" class=\"dataframe\">\n  <thead>\n    <tr style=\"text-align: right;\">\n      <th></th>\n      <th>계약년월</th>\n      <th>계약일</th>\n      <th>시군구</th>\n      <th>본번</th>\n      <th>부번</th>\n      <th>단지명</th>\n      <th>전월세구분</th>\n      <th>전용면적(㎡)</th>\n      <th>보증금(만원)</th>\n      <th>층</th>\n      <th>건축년도</th>\n      <th>평</th>\n    </tr>\n    <tr>\n      <th>월세(만원)</th>\n      <th></th>\n      <th></th>\n      <th></th>\n      <th></th>\n      <th></th>\n      <th></th>\n      <th></th>\n      <th></th>\n      <th></th>\n      <th></th>\n      <th></th>\n      <th></th>\n    </tr>\n  </thead>\n  <tbody>\n    <tr>\n      <th>0</th>\n      <td>26936</td>\n      <td>26936</td>\n      <td>26936</td>\n      <td>26936</td>\n      <td>26936</td>\n      <td>26936</td>\n      <td>26936</td>\n      <td>26936</td>\n      <td>26936</td>\n      <td>26936</td>\n      <td>26936</td>\n      <td>26936</td>\n    </tr>\n    <tr>\n      <th>1</th>\n      <td>12</td>\n      <td>12</td>\n      <td>12</td>\n      <td>12</td>\n      <td>12</td>\n      <td>12</td>\n      <td>12</td>\n      <td>12</td>\n      <td>12</td>\n      <td>12</td>\n      <td>12</td>\n      <td>12</td>\n    </tr>\n    <tr>\n      <th>2</th>\n      <td>7</td>\n      <td>7</td>\n      <td>7</td>\n      <td>7</td>\n      <td>7</td>\n      <td>7</td>\n      <td>7</td>\n      <td>7</td>\n      <td>7</td>\n      <td>7</td>\n      <td>7</td>\n      <td>7</td>\n    </tr>\n    <tr>\n      <th>3</th>\n      <td>75</td>\n      <td>75</td>\n      <td>75</td>\n      <td>75</td>\n      <td>75</td>\n      <td>75</td>\n      <td>75</td>\n      <td>75</td>\n      <td>75</td>\n      <td>75</td>\n      <td>75</td>\n      <td>75</td>\n    </tr>\n    <tr>\n      <th>4</th>\n      <td>28</td>\n      <td>28</td>\n      <td>28</td>\n      <td>28</td>\n      <td>28</td>\n      <td>28</td>\n      <td>28</td>\n      <td>28</td>\n      <td>28</td>\n      <td>28</td>\n      <td>28</td>\n      <td>28</td>\n    </tr>\n    <tr>\n      <th>...</th>\n      <td>...</td>\n      <td>...</td>\n      <td>...</td>\n      <td>...</td>\n      <td>...</td>\n      <td>...</td>\n      <td>...</td>\n      <td>...</td>\n      <td>...</td>\n      <td>...</td>\n      <td>...</td>\n      <td>...</td>\n    </tr>\n    <tr>\n      <th>165</th>\n      <td>2</td>\n      <td>2</td>\n      <td>2</td>\n      <td>2</td>\n      <td>2</td>\n      <td>2</td>\n      <td>2</td>\n      <td>2</td>\n      <td>2</td>\n      <td>2</td>\n      <td>2</td>\n      <td>2</td>\n    </tr>\n    <tr>\n      <th>200</th>\n      <td>1</td>\n      <td>1</td>\n      <td>1</td>\n      <td>1</td>\n      <td>1</td>\n      <td>1</td>\n      <td>1</td>\n      <td>1</td>\n      <td>1</td>\n      <td>1</td>\n      <td>1</td>\n      <td>1</td>\n    </tr>\n    <tr>\n      <th>450</th>\n      <td>1</td>\n      <td>1</td>\n      <td>1</td>\n      <td>1</td>\n      <td>1</td>\n      <td>1</td>\n      <td>1</td>\n      <td>1</td>\n      <td>1</td>\n      <td>1</td>\n      <td>1</td>\n      <td>1</td>\n    </tr>\n    <tr>\n      <th>650</th>\n      <td>3</td>\n      <td>3</td>\n      <td>3</td>\n      <td>3</td>\n      <td>3</td>\n      <td>3</td>\n      <td>3</td>\n      <td>3</td>\n      <td>3</td>\n      <td>3</td>\n      <td>3</td>\n      <td>3</td>\n    </tr>\n    <tr>\n      <th>660</th>\n      <td>1</td>\n      <td>1</td>\n      <td>1</td>\n      <td>1</td>\n      <td>1</td>\n      <td>1</td>\n      <td>1</td>\n      <td>1</td>\n      <td>1</td>\n      <td>1</td>\n      <td>1</td>\n      <td>1</td>\n    </tr>\n  </tbody>\n</table>\n<p>101 rows × 12 columns</p>\n</div>"
     },
     "metadata": {},
     "execution_count": 39
    }
   ],
   "source": [
    "data_jeon.groupby('월세(만원)').count()"
   ]
  },
  {
   "cell_type": "markdown",
   "metadata": {},
   "source": [
    "### 연립 전월세"
   ]
  },
  {
   "cell_type": "code",
   "execution_count": 29,
   "metadata": {
    "ExecuteTime": {
     "end_time": "2021-03-04T03:19:47.062709Z",
     "start_time": "2021-03-04T03:19:47.019822Z"
    }
   },
   "outputs": [
    {
     "output_type": "execute_result",
     "data": {
      "text/plain": [
       "       계약년월  계약일               시군구   본번  부번              건물명 전월세구분  전용면적(㎡)  \\\n",
       "0    201701   18   세종특별자치시 금남면 도남리   95   0  금강의휴양림마을(프로방스빌)    월세  52.1820   \n",
       "1    201703   16   세종특별자치시 금남면 도남리   95   0  금강의휴양림마을(프로방스빌)    월세  52.1820   \n",
       "2    201706   20   세종특별자치시 금남면 도남리   95   0  금강의휴양림마을(프로방스빌)    월세  54.3420   \n",
       "3    201706   20   세종특별자치시 금남면 도남리   95   0  금강의휴양림마을(프로방스빌)    월세  54.3420   \n",
       "4    201709    7   세종특별자치시 금남면 도남리   95   0  금강의휴양림마을(프로방스빌)    월세  54.3420   \n",
       "..      ...  ...               ...  ...  ..              ...   ...      ...   \n",
       "418  202011   26   세종특별자치시 조치원읍 정리  112   0            세진시티빌    월세  20.2003   \n",
       "419  202004   11  세종특별자치시 조치원읍 침산리  275   1    Juniper Hille    월세  17.3800   \n",
       "420  202012   26  세종특별자치시 조치원읍 침산리  148   0           거성주택AB    전세  40.9500   \n",
       "421  202003   17  세종특별자치시 조치원읍 침산리  147   4            고려(2)    전세  76.3200   \n",
       "422  202004   21  세종특별자치시 조치원읍 침산리  283   4           해솔마을A동    전세  20.9200   \n",
       "\n",
       "    보증금(만원)  월세(만원)  층  건축년도       평  \n",
       "0     1,000      40  2  2015  10~20평  \n",
       "1     1,000      40  4  2015  10~20평  \n",
       "2     2,000      25  1  2015  10~20평  \n",
       "3     1,000      35  2  2015  10~20평  \n",
       "4     2,000      30  4  2015  10~20평  \n",
       "..      ...     ... ..   ...     ...  \n",
       "418   1,500      30  3  2015  10평 미만  \n",
       "419      30      33  5  2013  10평 미만  \n",
       "420   5,000       0  2  1989  10~20평  \n",
       "421   5,500       0  2  1986  20~30평  \n",
       "422   4,000       0  2  2013  10평 미만  \n",
       "\n",
       "[423 rows x 13 columns]"
      ],
      "text/html": "<div>\n<style scoped>\n    .dataframe tbody tr th:only-of-type {\n        vertical-align: middle;\n    }\n\n    .dataframe tbody tr th {\n        vertical-align: top;\n    }\n\n    .dataframe thead th {\n        text-align: right;\n    }\n</style>\n<table border=\"1\" class=\"dataframe\">\n  <thead>\n    <tr style=\"text-align: right;\">\n      <th></th>\n      <th>계약년월</th>\n      <th>계약일</th>\n      <th>시군구</th>\n      <th>본번</th>\n      <th>부번</th>\n      <th>건물명</th>\n      <th>전월세구분</th>\n      <th>전용면적(㎡)</th>\n      <th>보증금(만원)</th>\n      <th>월세(만원)</th>\n      <th>층</th>\n      <th>건축년도</th>\n      <th>평</th>\n    </tr>\n  </thead>\n  <tbody>\n    <tr>\n      <th>0</th>\n      <td>201701</td>\n      <td>18</td>\n      <td>세종특별자치시 금남면 도남리</td>\n      <td>95</td>\n      <td>0</td>\n      <td>금강의휴양림마을(프로방스빌)</td>\n      <td>월세</td>\n      <td>52.1820</td>\n      <td>1,000</td>\n      <td>40</td>\n      <td>2</td>\n      <td>2015</td>\n      <td>10~20평</td>\n    </tr>\n    <tr>\n      <th>1</th>\n      <td>201703</td>\n      <td>16</td>\n      <td>세종특별자치시 금남면 도남리</td>\n      <td>95</td>\n      <td>0</td>\n      <td>금강의휴양림마을(프로방스빌)</td>\n      <td>월세</td>\n      <td>52.1820</td>\n      <td>1,000</td>\n      <td>40</td>\n      <td>4</td>\n      <td>2015</td>\n      <td>10~20평</td>\n    </tr>\n    <tr>\n      <th>2</th>\n      <td>201706</td>\n      <td>20</td>\n      <td>세종특별자치시 금남면 도남리</td>\n      <td>95</td>\n      <td>0</td>\n      <td>금강의휴양림마을(프로방스빌)</td>\n      <td>월세</td>\n      <td>54.3420</td>\n      <td>2,000</td>\n      <td>25</td>\n      <td>1</td>\n      <td>2015</td>\n      <td>10~20평</td>\n    </tr>\n    <tr>\n      <th>3</th>\n      <td>201706</td>\n      <td>20</td>\n      <td>세종특별자치시 금남면 도남리</td>\n      <td>95</td>\n      <td>0</td>\n      <td>금강의휴양림마을(프로방스빌)</td>\n      <td>월세</td>\n      <td>54.3420</td>\n      <td>1,000</td>\n      <td>35</td>\n      <td>2</td>\n      <td>2015</td>\n      <td>10~20평</td>\n    </tr>\n    <tr>\n      <th>4</th>\n      <td>201709</td>\n      <td>7</td>\n      <td>세종특별자치시 금남면 도남리</td>\n      <td>95</td>\n      <td>0</td>\n      <td>금강의휴양림마을(프로방스빌)</td>\n      <td>월세</td>\n      <td>54.3420</td>\n      <td>2,000</td>\n      <td>30</td>\n      <td>4</td>\n      <td>2015</td>\n      <td>10~20평</td>\n    </tr>\n    <tr>\n      <th>...</th>\n      <td>...</td>\n      <td>...</td>\n      <td>...</td>\n      <td>...</td>\n      <td>...</td>\n      <td>...</td>\n      <td>...</td>\n      <td>...</td>\n      <td>...</td>\n      <td>...</td>\n      <td>...</td>\n      <td>...</td>\n      <td>...</td>\n    </tr>\n    <tr>\n      <th>418</th>\n      <td>202011</td>\n      <td>26</td>\n      <td>세종특별자치시 조치원읍 정리</td>\n      <td>112</td>\n      <td>0</td>\n      <td>세진시티빌</td>\n      <td>월세</td>\n      <td>20.2003</td>\n      <td>1,500</td>\n      <td>30</td>\n      <td>3</td>\n      <td>2015</td>\n      <td>10평 미만</td>\n    </tr>\n    <tr>\n      <th>419</th>\n      <td>202004</td>\n      <td>11</td>\n      <td>세종특별자치시 조치원읍 침산리</td>\n      <td>275</td>\n      <td>1</td>\n      <td>Juniper Hille</td>\n      <td>월세</td>\n      <td>17.3800</td>\n      <td>30</td>\n      <td>33</td>\n      <td>5</td>\n      <td>2013</td>\n      <td>10평 미만</td>\n    </tr>\n    <tr>\n      <th>420</th>\n      <td>202012</td>\n      <td>26</td>\n      <td>세종특별자치시 조치원읍 침산리</td>\n      <td>148</td>\n      <td>0</td>\n      <td>거성주택AB</td>\n      <td>전세</td>\n      <td>40.9500</td>\n      <td>5,000</td>\n      <td>0</td>\n      <td>2</td>\n      <td>1989</td>\n      <td>10~20평</td>\n    </tr>\n    <tr>\n      <th>421</th>\n      <td>202003</td>\n      <td>17</td>\n      <td>세종특별자치시 조치원읍 침산리</td>\n      <td>147</td>\n      <td>4</td>\n      <td>고려(2)</td>\n      <td>전세</td>\n      <td>76.3200</td>\n      <td>5,500</td>\n      <td>0</td>\n      <td>2</td>\n      <td>1986</td>\n      <td>20~30평</td>\n    </tr>\n    <tr>\n      <th>422</th>\n      <td>202004</td>\n      <td>21</td>\n      <td>세종특별자치시 조치원읍 침산리</td>\n      <td>283</td>\n      <td>4</td>\n      <td>해솔마을A동</td>\n      <td>전세</td>\n      <td>20.9200</td>\n      <td>4,000</td>\n      <td>0</td>\n      <td>2</td>\n      <td>2013</td>\n      <td>10평 미만</td>\n    </tr>\n  </tbody>\n</table>\n<p>423 rows × 13 columns</p>\n</div>"
     },
     "metadata": {},
     "execution_count": 29
    }
   ],
   "source": [
    "yata_jeon = pd.read_csv('C:/Users/sopo9/Downloads/SBJ_2102_001/8.세종시_연립다세대(전월세)_실거래가.csv')\n",
    "yata_jeon[\"평\"]=yata_jeon[\"전용면적(㎡)\"].apply(pyeong)\n",
    "yata_jeon"
   ]
  },
  {
   "cell_type": "code",
   "execution_count": 30,
   "metadata": {
    "ExecuteTime": {
     "end_time": "2021-03-04T03:19:47.079663Z",
     "start_time": "2021-03-04T03:19:47.065700Z"
    }
   },
   "outputs": [
    {
     "output_type": "execute_result",
     "data": {
      "text/plain": [
       "        계약년월  계약일  시군구   본번   부번  건물명  전월세구분  전용면적(㎡)  보증금(만원)  월세(만원)    층  \\\n",
       "평                                                                             \n",
       "10~20평    95   95   95   95   95   95     95       95       95      95   95   \n",
       "10평 미만   302  302  302  302  302  302    302      302      302     302  302   \n",
       "20~30평    26   26   26   26   26   26     26       26       26      26   26   \n",
       "\n",
       "        건축년도  \n",
       "평             \n",
       "10~20평    95  \n",
       "10평 미만   302  \n",
       "20~30평    26  "
      ],
      "text/html": "<div>\n<style scoped>\n    .dataframe tbody tr th:only-of-type {\n        vertical-align: middle;\n    }\n\n    .dataframe tbody tr th {\n        vertical-align: top;\n    }\n\n    .dataframe thead th {\n        text-align: right;\n    }\n</style>\n<table border=\"1\" class=\"dataframe\">\n  <thead>\n    <tr style=\"text-align: right;\">\n      <th></th>\n      <th>계약년월</th>\n      <th>계약일</th>\n      <th>시군구</th>\n      <th>본번</th>\n      <th>부번</th>\n      <th>건물명</th>\n      <th>전월세구분</th>\n      <th>전용면적(㎡)</th>\n      <th>보증금(만원)</th>\n      <th>월세(만원)</th>\n      <th>층</th>\n      <th>건축년도</th>\n    </tr>\n    <tr>\n      <th>평</th>\n      <th></th>\n      <th></th>\n      <th></th>\n      <th></th>\n      <th></th>\n      <th></th>\n      <th></th>\n      <th></th>\n      <th></th>\n      <th></th>\n      <th></th>\n      <th></th>\n    </tr>\n  </thead>\n  <tbody>\n    <tr>\n      <th>10~20평</th>\n      <td>95</td>\n      <td>95</td>\n      <td>95</td>\n      <td>95</td>\n      <td>95</td>\n      <td>95</td>\n      <td>95</td>\n      <td>95</td>\n      <td>95</td>\n      <td>95</td>\n      <td>95</td>\n      <td>95</td>\n    </tr>\n    <tr>\n      <th>10평 미만</th>\n      <td>302</td>\n      <td>302</td>\n      <td>302</td>\n      <td>302</td>\n      <td>302</td>\n      <td>302</td>\n      <td>302</td>\n      <td>302</td>\n      <td>302</td>\n      <td>302</td>\n      <td>302</td>\n      <td>302</td>\n    </tr>\n    <tr>\n      <th>20~30평</th>\n      <td>26</td>\n      <td>26</td>\n      <td>26</td>\n      <td>26</td>\n      <td>26</td>\n      <td>26</td>\n      <td>26</td>\n      <td>26</td>\n      <td>26</td>\n      <td>26</td>\n      <td>26</td>\n      <td>26</td>\n    </tr>\n  </tbody>\n</table>\n</div>"
     },
     "metadata": {},
     "execution_count": 30
    }
   ],
   "source": [
    "yata_jeon.groupby('평').count()"
   ]
  },
  {
   "cell_type": "code",
   "execution_count": 31,
   "metadata": {},
   "outputs": [
    {
     "output_type": "execute_result",
     "data": {
      "text/plain": [
       "       계약년월  계약일  시군구   본번   부번  건물명  전용면적(㎡)  보증금(만원)  월세(만원)    층  건축년도    평\n",
       "전월세구분                                                                         \n",
       "월세      227  227  227  227  227  227      227      227     227  227   227  227\n",
       "전세      196  196  196  196  196  196      196      196     196  196   196  196"
      ],
      "text/html": "<div>\n<style scoped>\n    .dataframe tbody tr th:only-of-type {\n        vertical-align: middle;\n    }\n\n    .dataframe tbody tr th {\n        vertical-align: top;\n    }\n\n    .dataframe thead th {\n        text-align: right;\n    }\n</style>\n<table border=\"1\" class=\"dataframe\">\n  <thead>\n    <tr style=\"text-align: right;\">\n      <th></th>\n      <th>계약년월</th>\n      <th>계약일</th>\n      <th>시군구</th>\n      <th>본번</th>\n      <th>부번</th>\n      <th>건물명</th>\n      <th>전용면적(㎡)</th>\n      <th>보증금(만원)</th>\n      <th>월세(만원)</th>\n      <th>층</th>\n      <th>건축년도</th>\n      <th>평</th>\n    </tr>\n    <tr>\n      <th>전월세구분</th>\n      <th></th>\n      <th></th>\n      <th></th>\n      <th></th>\n      <th></th>\n      <th></th>\n      <th></th>\n      <th></th>\n      <th></th>\n      <th></th>\n      <th></th>\n      <th></th>\n    </tr>\n  </thead>\n  <tbody>\n    <tr>\n      <th>월세</th>\n      <td>227</td>\n      <td>227</td>\n      <td>227</td>\n      <td>227</td>\n      <td>227</td>\n      <td>227</td>\n      <td>227</td>\n      <td>227</td>\n      <td>227</td>\n      <td>227</td>\n      <td>227</td>\n      <td>227</td>\n    </tr>\n    <tr>\n      <th>전세</th>\n      <td>196</td>\n      <td>196</td>\n      <td>196</td>\n      <td>196</td>\n      <td>196</td>\n      <td>196</td>\n      <td>196</td>\n      <td>196</td>\n      <td>196</td>\n      <td>196</td>\n      <td>196</td>\n      <td>196</td>\n    </tr>\n  </tbody>\n</table>\n</div>"
     },
     "metadata": {},
     "execution_count": 31
    }
   ],
   "source": [
    "yata_jeon.groupby('전월세구분').count()"
   ]
  },
  {
   "cell_type": "code",
   "execution_count": 32,
   "metadata": {},
   "outputs": [
    {
     "output_type": "execute_result",
     "data": {
      "text/plain": [
       "         계약년월  계약일  시군구  본번  부번  건물명  전월세구분  전용면적(㎡)  월세(만원)   층  건축년도   평\n",
       "보증금(만원)                                                                   \n",
       "1,000      22   22   22  22  22   22     22       22      22  22    22  22\n",
       "1,200       1    1    1   1   1    1      1        1       1   1     1   1\n",
       "1,300       1    1    1   1   1    1      1        1       1   1     1   1\n",
       "1,400       1    1    1   1   1    1      1        1       1   1     1   1\n",
       "1,500      10   10   10  10  10   10     10       10      10  10    10  10\n",
       "10,000      4    4    4   4   4    4      4        4       4   4     4   4\n",
       "100         9    9    9   9   9    9      9        9       9   9     9   9\n",
       "11,000      3    3    3   3   3    3      3        3       3   3     3   3\n",
       "11,500      1    1    1   1   1    1      1        1       1   1     1   1\n",
       "14,000      2    2    2   2   2    2      2        2       2   2     2   2\n",
       "2,000      24   24   24  24  24   24     24       24      24  24    24  24\n",
       "2,200       1    1    1   1   1    1      1        1       1   1     1   1\n",
       "2,500       7    7    7   7   7    7      7        7       7   7     7   7\n",
       "2,600       1    1    1   1   1    1      1        1       1   1     1   1\n",
       "2,700       3    3    3   3   3    3      3        3       3   3     3   3\n",
       "2,800       4    4    4   4   4    4      4        4       4   4     4   4\n",
       "2,900       1    1    1   1   1    1      1        1       1   1     1   1\n",
       "20          1    1    1   1   1    1      1        1       1   1     1   1\n",
       "20,000      1    1    1   1   1    1      1        1       1   1     1   1\n",
       "200         9    9    9   9   9    9      9        9       9   9     9   9\n",
       "3,000      47   47   47  47  47   47     47       47      47  47    47  47\n",
       "3,200       2    2    2   2   2    2      2        2       2   2     2   2\n",
       "3,300       6    6    6   6   6    6      6        6       6   6     6   6\n",
       "3,500      19   19   19  19  19   19     19       19      19  19    19  19\n",
       "3,700       3    3    3   3   3    3      3        3       3   3     3   3\n",
       "3,800       2    2    2   2   2    2      2        2       2   2     2   2\n",
       "30          2    2    2   2   2    2      2        2       2   2     2   2\n",
       "300        56   56   56  56  56   56     56       56      56  56    56  56\n",
       "310         2    2    2   2   2    2      2        2       2   2     2   2\n",
       "33          1    1    1   1   1    1      1        1       1   1     1   1\n",
       "4,000      27   27   27  27  27   27     27       27      27  27    27  27\n",
       "4,200       2    2    2   2   2    2      2        2       2   2     2   2\n",
       "4,500       8    8    8   8   8    8      8        8       8   8     8   8\n",
       "4,725       1    1    1   1   1    1      1        1       1   1     1   1\n",
       "400         4    4    4   4   4    4      4        4       4   4     4   4\n",
       "5,000      14   14   14  14  14   14     14       14      14  14    14  14\n",
       "5,500       3    3    3   3   3    3      3        3       3   3     3   3\n",
       "50          2    2    2   2   2    2      2        2       2   2     2   2\n",
       "500        73   73   73  73  73   73     73       73      73  73    73  73\n",
       "6,000      10   10   10  10  10   10     10       10      10  10    10  10\n",
       "6,300       1    1    1   1   1    1      1        1       1   1     1   1\n",
       "6,500       6    6    6   6   6    6      6        6       6   6     6   6\n",
       "7,000       6    6    6   6   6    6      6        6       6   6     6   6\n",
       "7,300       1    1    1   1   1    1      1        1       1   1     1   1\n",
       "7,500       1    1    1   1   1    1      1        1       1   1     1   1\n",
       "8,000       4    4    4   4   4    4      4        4       4   4     4   4\n",
       "8,500       7    7    7   7   7    7      7        7       7   7     7   7\n",
       "8,600       2    2    2   2   2    2      2        2       2   2     2   2\n",
       "8,820       1    1    1   1   1    1      1        1       1   1     1   1\n",
       "8,925       2    2    2   2   2    2      2        2       2   2     2   2\n",
       "9,000       2    2    2   2   2    2      2        2       2   2     2   2"
      ],
      "text/html": "<div>\n<style scoped>\n    .dataframe tbody tr th:only-of-type {\n        vertical-align: middle;\n    }\n\n    .dataframe tbody tr th {\n        vertical-align: top;\n    }\n\n    .dataframe thead th {\n        text-align: right;\n    }\n</style>\n<table border=\"1\" class=\"dataframe\">\n  <thead>\n    <tr style=\"text-align: right;\">\n      <th></th>\n      <th>계약년월</th>\n      <th>계약일</th>\n      <th>시군구</th>\n      <th>본번</th>\n      <th>부번</th>\n      <th>건물명</th>\n      <th>전월세구분</th>\n      <th>전용면적(㎡)</th>\n      <th>월세(만원)</th>\n      <th>층</th>\n      <th>건축년도</th>\n      <th>평</th>\n    </tr>\n    <tr>\n      <th>보증금(만원)</th>\n      <th></th>\n      <th></th>\n      <th></th>\n      <th></th>\n      <th></th>\n      <th></th>\n      <th></th>\n      <th></th>\n      <th></th>\n      <th></th>\n      <th></th>\n      <th></th>\n    </tr>\n  </thead>\n  <tbody>\n    <tr>\n      <th>1,000</th>\n      <td>22</td>\n      <td>22</td>\n      <td>22</td>\n      <td>22</td>\n      <td>22</td>\n      <td>22</td>\n      <td>22</td>\n      <td>22</td>\n      <td>22</td>\n      <td>22</td>\n      <td>22</td>\n      <td>22</td>\n    </tr>\n    <tr>\n      <th>1,200</th>\n      <td>1</td>\n      <td>1</td>\n      <td>1</td>\n      <td>1</td>\n      <td>1</td>\n      <td>1</td>\n      <td>1</td>\n      <td>1</td>\n      <td>1</td>\n      <td>1</td>\n      <td>1</td>\n      <td>1</td>\n    </tr>\n    <tr>\n      <th>1,300</th>\n      <td>1</td>\n      <td>1</td>\n      <td>1</td>\n      <td>1</td>\n      <td>1</td>\n      <td>1</td>\n      <td>1</td>\n      <td>1</td>\n      <td>1</td>\n      <td>1</td>\n      <td>1</td>\n      <td>1</td>\n    </tr>\n    <tr>\n      <th>1,400</th>\n      <td>1</td>\n      <td>1</td>\n      <td>1</td>\n      <td>1</td>\n      <td>1</td>\n      <td>1</td>\n      <td>1</td>\n      <td>1</td>\n      <td>1</td>\n      <td>1</td>\n      <td>1</td>\n      <td>1</td>\n    </tr>\n    <tr>\n      <th>1,500</th>\n      <td>10</td>\n      <td>10</td>\n      <td>10</td>\n      <td>10</td>\n      <td>10</td>\n      <td>10</td>\n      <td>10</td>\n      <td>10</td>\n      <td>10</td>\n      <td>10</td>\n      <td>10</td>\n      <td>10</td>\n    </tr>\n    <tr>\n      <th>10,000</th>\n      <td>4</td>\n      <td>4</td>\n      <td>4</td>\n      <td>4</td>\n      <td>4</td>\n      <td>4</td>\n      <td>4</td>\n      <td>4</td>\n      <td>4</td>\n      <td>4</td>\n      <td>4</td>\n      <td>4</td>\n    </tr>\n    <tr>\n      <th>100</th>\n      <td>9</td>\n      <td>9</td>\n      <td>9</td>\n      <td>9</td>\n      <td>9</td>\n      <td>9</td>\n      <td>9</td>\n      <td>9</td>\n      <td>9</td>\n      <td>9</td>\n      <td>9</td>\n      <td>9</td>\n    </tr>\n    <tr>\n      <th>11,000</th>\n      <td>3</td>\n      <td>3</td>\n      <td>3</td>\n      <td>3</td>\n      <td>3</td>\n      <td>3</td>\n      <td>3</td>\n      <td>3</td>\n      <td>3</td>\n      <td>3</td>\n      <td>3</td>\n      <td>3</td>\n    </tr>\n    <tr>\n      <th>11,500</th>\n      <td>1</td>\n      <td>1</td>\n      <td>1</td>\n      <td>1</td>\n      <td>1</td>\n      <td>1</td>\n      <td>1</td>\n      <td>1</td>\n      <td>1</td>\n      <td>1</td>\n      <td>1</td>\n      <td>1</td>\n    </tr>\n    <tr>\n      <th>14,000</th>\n      <td>2</td>\n      <td>2</td>\n      <td>2</td>\n      <td>2</td>\n      <td>2</td>\n      <td>2</td>\n      <td>2</td>\n      <td>2</td>\n      <td>2</td>\n      <td>2</td>\n      <td>2</td>\n      <td>2</td>\n    </tr>\n    <tr>\n      <th>2,000</th>\n      <td>24</td>\n      <td>24</td>\n      <td>24</td>\n      <td>24</td>\n      <td>24</td>\n      <td>24</td>\n      <td>24</td>\n      <td>24</td>\n      <td>24</td>\n      <td>24</td>\n      <td>24</td>\n      <td>24</td>\n    </tr>\n    <tr>\n      <th>2,200</th>\n      <td>1</td>\n      <td>1</td>\n      <td>1</td>\n      <td>1</td>\n      <td>1</td>\n      <td>1</td>\n      <td>1</td>\n      <td>1</td>\n      <td>1</td>\n      <td>1</td>\n      <td>1</td>\n      <td>1</td>\n    </tr>\n    <tr>\n      <th>2,500</th>\n      <td>7</td>\n      <td>7</td>\n      <td>7</td>\n      <td>7</td>\n      <td>7</td>\n      <td>7</td>\n      <td>7</td>\n      <td>7</td>\n      <td>7</td>\n      <td>7</td>\n      <td>7</td>\n      <td>7</td>\n    </tr>\n    <tr>\n      <th>2,600</th>\n      <td>1</td>\n      <td>1</td>\n      <td>1</td>\n      <td>1</td>\n      <td>1</td>\n      <td>1</td>\n      <td>1</td>\n      <td>1</td>\n      <td>1</td>\n      <td>1</td>\n      <td>1</td>\n      <td>1</td>\n    </tr>\n    <tr>\n      <th>2,700</th>\n      <td>3</td>\n      <td>3</td>\n      <td>3</td>\n      <td>3</td>\n      <td>3</td>\n      <td>3</td>\n      <td>3</td>\n      <td>3</td>\n      <td>3</td>\n      <td>3</td>\n      <td>3</td>\n      <td>3</td>\n    </tr>\n    <tr>\n      <th>2,800</th>\n      <td>4</td>\n      <td>4</td>\n      <td>4</td>\n      <td>4</td>\n      <td>4</td>\n      <td>4</td>\n      <td>4</td>\n      <td>4</td>\n      <td>4</td>\n      <td>4</td>\n      <td>4</td>\n      <td>4</td>\n    </tr>\n    <tr>\n      <th>2,900</th>\n      <td>1</td>\n      <td>1</td>\n      <td>1</td>\n      <td>1</td>\n      <td>1</td>\n      <td>1</td>\n      <td>1</td>\n      <td>1</td>\n      <td>1</td>\n      <td>1</td>\n      <td>1</td>\n      <td>1</td>\n    </tr>\n    <tr>\n      <th>20</th>\n      <td>1</td>\n      <td>1</td>\n      <td>1</td>\n      <td>1</td>\n      <td>1</td>\n      <td>1</td>\n      <td>1</td>\n      <td>1</td>\n      <td>1</td>\n      <td>1</td>\n      <td>1</td>\n      <td>1</td>\n    </tr>\n    <tr>\n      <th>20,000</th>\n      <td>1</td>\n      <td>1</td>\n      <td>1</td>\n      <td>1</td>\n      <td>1</td>\n      <td>1</td>\n      <td>1</td>\n      <td>1</td>\n      <td>1</td>\n      <td>1</td>\n      <td>1</td>\n      <td>1</td>\n    </tr>\n    <tr>\n      <th>200</th>\n      <td>9</td>\n      <td>9</td>\n      <td>9</td>\n      <td>9</td>\n      <td>9</td>\n      <td>9</td>\n      <td>9</td>\n      <td>9</td>\n      <td>9</td>\n      <td>9</td>\n      <td>9</td>\n      <td>9</td>\n    </tr>\n    <tr>\n      <th>3,000</th>\n      <td>47</td>\n      <td>47</td>\n      <td>47</td>\n      <td>47</td>\n      <td>47</td>\n      <td>47</td>\n      <td>47</td>\n      <td>47</td>\n      <td>47</td>\n      <td>47</td>\n      <td>47</td>\n      <td>47</td>\n    </tr>\n    <tr>\n      <th>3,200</th>\n      <td>2</td>\n      <td>2</td>\n      <td>2</td>\n      <td>2</td>\n      <td>2</td>\n      <td>2</td>\n      <td>2</td>\n      <td>2</td>\n      <td>2</td>\n      <td>2</td>\n      <td>2</td>\n      <td>2</td>\n    </tr>\n    <tr>\n      <th>3,300</th>\n      <td>6</td>\n      <td>6</td>\n      <td>6</td>\n      <td>6</td>\n      <td>6</td>\n      <td>6</td>\n      <td>6</td>\n      <td>6</td>\n      <td>6</td>\n      <td>6</td>\n      <td>6</td>\n      <td>6</td>\n    </tr>\n    <tr>\n      <th>3,500</th>\n      <td>19</td>\n      <td>19</td>\n      <td>19</td>\n      <td>19</td>\n      <td>19</td>\n      <td>19</td>\n      <td>19</td>\n      <td>19</td>\n      <td>19</td>\n      <td>19</td>\n      <td>19</td>\n      <td>19</td>\n    </tr>\n    <tr>\n      <th>3,700</th>\n      <td>3</td>\n      <td>3</td>\n      <td>3</td>\n      <td>3</td>\n      <td>3</td>\n      <td>3</td>\n      <td>3</td>\n      <td>3</td>\n      <td>3</td>\n      <td>3</td>\n      <td>3</td>\n      <td>3</td>\n    </tr>\n    <tr>\n      <th>3,800</th>\n      <td>2</td>\n      <td>2</td>\n      <td>2</td>\n      <td>2</td>\n      <td>2</td>\n      <td>2</td>\n      <td>2</td>\n      <td>2</td>\n      <td>2</td>\n      <td>2</td>\n      <td>2</td>\n      <td>2</td>\n    </tr>\n    <tr>\n      <th>30</th>\n      <td>2</td>\n      <td>2</td>\n      <td>2</td>\n      <td>2</td>\n      <td>2</td>\n      <td>2</td>\n      <td>2</td>\n      <td>2</td>\n      <td>2</td>\n      <td>2</td>\n      <td>2</td>\n      <td>2</td>\n    </tr>\n    <tr>\n      <th>300</th>\n      <td>56</td>\n      <td>56</td>\n      <td>56</td>\n      <td>56</td>\n      <td>56</td>\n      <td>56</td>\n      <td>56</td>\n      <td>56</td>\n      <td>56</td>\n      <td>56</td>\n      <td>56</td>\n      <td>56</td>\n    </tr>\n    <tr>\n      <th>310</th>\n      <td>2</td>\n      <td>2</td>\n      <td>2</td>\n      <td>2</td>\n      <td>2</td>\n      <td>2</td>\n      <td>2</td>\n      <td>2</td>\n      <td>2</td>\n      <td>2</td>\n      <td>2</td>\n      <td>2</td>\n    </tr>\n    <tr>\n      <th>33</th>\n      <td>1</td>\n      <td>1</td>\n      <td>1</td>\n      <td>1</td>\n      <td>1</td>\n      <td>1</td>\n      <td>1</td>\n      <td>1</td>\n      <td>1</td>\n      <td>1</td>\n      <td>1</td>\n      <td>1</td>\n    </tr>\n    <tr>\n      <th>4,000</th>\n      <td>27</td>\n      <td>27</td>\n      <td>27</td>\n      <td>27</td>\n      <td>27</td>\n      <td>27</td>\n      <td>27</td>\n      <td>27</td>\n      <td>27</td>\n      <td>27</td>\n      <td>27</td>\n      <td>27</td>\n    </tr>\n    <tr>\n      <th>4,200</th>\n      <td>2</td>\n      <td>2</td>\n      <td>2</td>\n      <td>2</td>\n      <td>2</td>\n      <td>2</td>\n      <td>2</td>\n      <td>2</td>\n      <td>2</td>\n      <td>2</td>\n      <td>2</td>\n      <td>2</td>\n    </tr>\n    <tr>\n      <th>4,500</th>\n      <td>8</td>\n      <td>8</td>\n      <td>8</td>\n      <td>8</td>\n      <td>8</td>\n      <td>8</td>\n      <td>8</td>\n      <td>8</td>\n      <td>8</td>\n      <td>8</td>\n      <td>8</td>\n      <td>8</td>\n    </tr>\n    <tr>\n      <th>4,725</th>\n      <td>1</td>\n      <td>1</td>\n      <td>1</td>\n      <td>1</td>\n      <td>1</td>\n      <td>1</td>\n      <td>1</td>\n      <td>1</td>\n      <td>1</td>\n      <td>1</td>\n      <td>1</td>\n      <td>1</td>\n    </tr>\n    <tr>\n      <th>400</th>\n      <td>4</td>\n      <td>4</td>\n      <td>4</td>\n      <td>4</td>\n      <td>4</td>\n      <td>4</td>\n      <td>4</td>\n      <td>4</td>\n      <td>4</td>\n      <td>4</td>\n      <td>4</td>\n      <td>4</td>\n    </tr>\n    <tr>\n      <th>5,000</th>\n      <td>14</td>\n      <td>14</td>\n      <td>14</td>\n      <td>14</td>\n      <td>14</td>\n      <td>14</td>\n      <td>14</td>\n      <td>14</td>\n      <td>14</td>\n      <td>14</td>\n      <td>14</td>\n      <td>14</td>\n    </tr>\n    <tr>\n      <th>5,500</th>\n      <td>3</td>\n      <td>3</td>\n      <td>3</td>\n      <td>3</td>\n      <td>3</td>\n      <td>3</td>\n      <td>3</td>\n      <td>3</td>\n      <td>3</td>\n      <td>3</td>\n      <td>3</td>\n      <td>3</td>\n    </tr>\n    <tr>\n      <th>50</th>\n      <td>2</td>\n      <td>2</td>\n      <td>2</td>\n      <td>2</td>\n      <td>2</td>\n      <td>2</td>\n      <td>2</td>\n      <td>2</td>\n      <td>2</td>\n      <td>2</td>\n      <td>2</td>\n      <td>2</td>\n    </tr>\n    <tr>\n      <th>500</th>\n      <td>73</td>\n      <td>73</td>\n      <td>73</td>\n      <td>73</td>\n      <td>73</td>\n      <td>73</td>\n      <td>73</td>\n      <td>73</td>\n      <td>73</td>\n      <td>73</td>\n      <td>73</td>\n      <td>73</td>\n    </tr>\n    <tr>\n      <th>6,000</th>\n      <td>10</td>\n      <td>10</td>\n      <td>10</td>\n      <td>10</td>\n      <td>10</td>\n      <td>10</td>\n      <td>10</td>\n      <td>10</td>\n      <td>10</td>\n      <td>10</td>\n      <td>10</td>\n      <td>10</td>\n    </tr>\n    <tr>\n      <th>6,300</th>\n      <td>1</td>\n      <td>1</td>\n      <td>1</td>\n      <td>1</td>\n      <td>1</td>\n      <td>1</td>\n      <td>1</td>\n      <td>1</td>\n      <td>1</td>\n      <td>1</td>\n      <td>1</td>\n      <td>1</td>\n    </tr>\n    <tr>\n      <th>6,500</th>\n      <td>6</td>\n      <td>6</td>\n      <td>6</td>\n      <td>6</td>\n      <td>6</td>\n      <td>6</td>\n      <td>6</td>\n      <td>6</td>\n      <td>6</td>\n      <td>6</td>\n      <td>6</td>\n      <td>6</td>\n    </tr>\n    <tr>\n      <th>7,000</th>\n      <td>6</td>\n      <td>6</td>\n      <td>6</td>\n      <td>6</td>\n      <td>6</td>\n      <td>6</td>\n      <td>6</td>\n      <td>6</td>\n      <td>6</td>\n      <td>6</td>\n      <td>6</td>\n      <td>6</td>\n    </tr>\n    <tr>\n      <th>7,300</th>\n      <td>1</td>\n      <td>1</td>\n      <td>1</td>\n      <td>1</td>\n      <td>1</td>\n      <td>1</td>\n      <td>1</td>\n      <td>1</td>\n      <td>1</td>\n      <td>1</td>\n      <td>1</td>\n      <td>1</td>\n    </tr>\n    <tr>\n      <th>7,500</th>\n      <td>1</td>\n      <td>1</td>\n      <td>1</td>\n      <td>1</td>\n      <td>1</td>\n      <td>1</td>\n      <td>1</td>\n      <td>1</td>\n      <td>1</td>\n      <td>1</td>\n      <td>1</td>\n      <td>1</td>\n    </tr>\n    <tr>\n      <th>8,000</th>\n      <td>4</td>\n      <td>4</td>\n      <td>4</td>\n      <td>4</td>\n      <td>4</td>\n      <td>4</td>\n      <td>4</td>\n      <td>4</td>\n      <td>4</td>\n      <td>4</td>\n      <td>4</td>\n      <td>4</td>\n    </tr>\n    <tr>\n      <th>8,500</th>\n      <td>7</td>\n      <td>7</td>\n      <td>7</td>\n      <td>7</td>\n      <td>7</td>\n      <td>7</td>\n      <td>7</td>\n      <td>7</td>\n      <td>7</td>\n      <td>7</td>\n      <td>7</td>\n      <td>7</td>\n    </tr>\n    <tr>\n      <th>8,600</th>\n      <td>2</td>\n      <td>2</td>\n      <td>2</td>\n      <td>2</td>\n      <td>2</td>\n      <td>2</td>\n      <td>2</td>\n      <td>2</td>\n      <td>2</td>\n      <td>2</td>\n      <td>2</td>\n      <td>2</td>\n    </tr>\n    <tr>\n      <th>8,820</th>\n      <td>1</td>\n      <td>1</td>\n      <td>1</td>\n      <td>1</td>\n      <td>1</td>\n      <td>1</td>\n      <td>1</td>\n      <td>1</td>\n      <td>1</td>\n      <td>1</td>\n      <td>1</td>\n      <td>1</td>\n    </tr>\n    <tr>\n      <th>8,925</th>\n      <td>2</td>\n      <td>2</td>\n      <td>2</td>\n      <td>2</td>\n      <td>2</td>\n      <td>2</td>\n      <td>2</td>\n      <td>2</td>\n      <td>2</td>\n      <td>2</td>\n      <td>2</td>\n      <td>2</td>\n    </tr>\n    <tr>\n      <th>9,000</th>\n      <td>2</td>\n      <td>2</td>\n      <td>2</td>\n      <td>2</td>\n      <td>2</td>\n      <td>2</td>\n      <td>2</td>\n      <td>2</td>\n      <td>2</td>\n      <td>2</td>\n      <td>2</td>\n      <td>2</td>\n    </tr>\n  </tbody>\n</table>\n</div>"
     },
     "metadata": {},
     "execution_count": 32
    }
   ],
   "source": [
    "yata_jeon.groupby('보증금(만원)').count()"
   ]
  },
  {
   "cell_type": "code",
   "execution_count": 33,
   "metadata": {},
   "outputs": [
    {
     "output_type": "execute_result",
     "data": {
      "text/plain": [
       "        계약년월  계약일  시군구   본번   부번  건물명  전월세구분  전용면적(㎡)  보증금(만원)    층  건축년도    평\n",
       "월세(만원)                                                                        \n",
       "0        196  196  196  196  196  196    196      196      196  196   196  196\n",
       "3          5    5    5    5    5    5      5        5        5    5     5    5\n",
       "5          3    3    3    3    3    3      3        3        3    3     3    3\n",
       "8          1    1    1    1    1    1      1        1        1    1     1    1\n",
       "10         3    3    3    3    3    3      3        3        3    3     3    3\n",
       "12         1    1    1    1    1    1      1        1        1    1     1    1\n",
       "13         2    2    2    2    2    2      2        2        2    2     2    2\n",
       "14         1    1    1    1    1    1      1        1        1    1     1    1\n",
       "15         8    8    8    8    8    8      8        8        8    8     8    8\n",
       "17         1    1    1    1    1    1      1        1        1    1     1    1\n",
       "20         5    5    5    5    5    5      5        5        5    5     5    5\n",
       "22         1    1    1    1    1    1      1        1        1    1     1    1\n",
       "24         1    1    1    1    1    1      1        1        1    1     1    1\n",
       "25         7    7    7    7    7    7      7        7        7    7     7    7\n",
       "26         3    3    3    3    3    3      3        3        3    3     3    3\n",
       "27         5    5    5    5    5    5      5        5        5    5     5    5\n",
       "28         4    4    4    4    4    4      4        4        4    4     4    4\n",
       "30        25   25   25   25   25   25     25       25       25   25    25   25\n",
       "31         3    3    3    3    3    3      3        3        3    3     3    3\n",
       "32         3    3    3    3    3    3      3        3        3    3     3    3\n",
       "33         5    5    5    5    5    5      5        5        5    5     5    5\n",
       "34         4    4    4    4    4    4      4        4        4    4     4    4\n",
       "35        26   26   26   26   26   26     26       26       26   26    26   26\n",
       "36         7    7    7    7    7    7      7        7        7    7     7    7\n",
       "37         9    9    9    9    9    9      9        9        9    9     9    9\n",
       "38        12   12   12   12   12   12     12       12       12   12    12   12\n",
       "39         3    3    3    3    3    3      3        3        3    3     3    3\n",
       "40        26   26   26   26   26   26     26       26       26   26    26   26\n",
       "41         2    2    2    2    2    2      2        2        2    2     2    2\n",
       "42        11   11   11   11   11   11     11       11       11   11    11   11\n",
       "43         5    5    5    5    5    5      5        5        5    5     5    5\n",
       "44         2    2    2    2    2    2      2        2        2    2     2    2\n",
       "45        23   23   23   23   23   23     23       23       23   23    23   23\n",
       "47         2    2    2    2    2    2      2        2        2    2     2    2\n",
       "48         1    1    1    1    1    1      1        1        1    1     1    1\n",
       "50         7    7    7    7    7    7      7        7        7    7     7    7"
      ],
      "text/html": "<div>\n<style scoped>\n    .dataframe tbody tr th:only-of-type {\n        vertical-align: middle;\n    }\n\n    .dataframe tbody tr th {\n        vertical-align: top;\n    }\n\n    .dataframe thead th {\n        text-align: right;\n    }\n</style>\n<table border=\"1\" class=\"dataframe\">\n  <thead>\n    <tr style=\"text-align: right;\">\n      <th></th>\n      <th>계약년월</th>\n      <th>계약일</th>\n      <th>시군구</th>\n      <th>본번</th>\n      <th>부번</th>\n      <th>건물명</th>\n      <th>전월세구분</th>\n      <th>전용면적(㎡)</th>\n      <th>보증금(만원)</th>\n      <th>층</th>\n      <th>건축년도</th>\n      <th>평</th>\n    </tr>\n    <tr>\n      <th>월세(만원)</th>\n      <th></th>\n      <th></th>\n      <th></th>\n      <th></th>\n      <th></th>\n      <th></th>\n      <th></th>\n      <th></th>\n      <th></th>\n      <th></th>\n      <th></th>\n      <th></th>\n    </tr>\n  </thead>\n  <tbody>\n    <tr>\n      <th>0</th>\n      <td>196</td>\n      <td>196</td>\n      <td>196</td>\n      <td>196</td>\n      <td>196</td>\n      <td>196</td>\n      <td>196</td>\n      <td>196</td>\n      <td>196</td>\n      <td>196</td>\n      <td>196</td>\n      <td>196</td>\n    </tr>\n    <tr>\n      <th>3</th>\n      <td>5</td>\n      <td>5</td>\n      <td>5</td>\n      <td>5</td>\n      <td>5</td>\n      <td>5</td>\n      <td>5</td>\n      <td>5</td>\n      <td>5</td>\n      <td>5</td>\n      <td>5</td>\n      <td>5</td>\n    </tr>\n    <tr>\n      <th>5</th>\n      <td>3</td>\n      <td>3</td>\n      <td>3</td>\n      <td>3</td>\n      <td>3</td>\n      <td>3</td>\n      <td>3</td>\n      <td>3</td>\n      <td>3</td>\n      <td>3</td>\n      <td>3</td>\n      <td>3</td>\n    </tr>\n    <tr>\n      <th>8</th>\n      <td>1</td>\n      <td>1</td>\n      <td>1</td>\n      <td>1</td>\n      <td>1</td>\n      <td>1</td>\n      <td>1</td>\n      <td>1</td>\n      <td>1</td>\n      <td>1</td>\n      <td>1</td>\n      <td>1</td>\n    </tr>\n    <tr>\n      <th>10</th>\n      <td>3</td>\n      <td>3</td>\n      <td>3</td>\n      <td>3</td>\n      <td>3</td>\n      <td>3</td>\n      <td>3</td>\n      <td>3</td>\n      <td>3</td>\n      <td>3</td>\n      <td>3</td>\n      <td>3</td>\n    </tr>\n    <tr>\n      <th>12</th>\n      <td>1</td>\n      <td>1</td>\n      <td>1</td>\n      <td>1</td>\n      <td>1</td>\n      <td>1</td>\n      <td>1</td>\n      <td>1</td>\n      <td>1</td>\n      <td>1</td>\n      <td>1</td>\n      <td>1</td>\n    </tr>\n    <tr>\n      <th>13</th>\n      <td>2</td>\n      <td>2</td>\n      <td>2</td>\n      <td>2</td>\n      <td>2</td>\n      <td>2</td>\n      <td>2</td>\n      <td>2</td>\n      <td>2</td>\n      <td>2</td>\n      <td>2</td>\n      <td>2</td>\n    </tr>\n    <tr>\n      <th>14</th>\n      <td>1</td>\n      <td>1</td>\n      <td>1</td>\n      <td>1</td>\n      <td>1</td>\n      <td>1</td>\n      <td>1</td>\n      <td>1</td>\n      <td>1</td>\n      <td>1</td>\n      <td>1</td>\n      <td>1</td>\n    </tr>\n    <tr>\n      <th>15</th>\n      <td>8</td>\n      <td>8</td>\n      <td>8</td>\n      <td>8</td>\n      <td>8</td>\n      <td>8</td>\n      <td>8</td>\n      <td>8</td>\n      <td>8</td>\n      <td>8</td>\n      <td>8</td>\n      <td>8</td>\n    </tr>\n    <tr>\n      <th>17</th>\n      <td>1</td>\n      <td>1</td>\n      <td>1</td>\n      <td>1</td>\n      <td>1</td>\n      <td>1</td>\n      <td>1</td>\n      <td>1</td>\n      <td>1</td>\n      <td>1</td>\n      <td>1</td>\n      <td>1</td>\n    </tr>\n    <tr>\n      <th>20</th>\n      <td>5</td>\n      <td>5</td>\n      <td>5</td>\n      <td>5</td>\n      <td>5</td>\n      <td>5</td>\n      <td>5</td>\n      <td>5</td>\n      <td>5</td>\n      <td>5</td>\n      <td>5</td>\n      <td>5</td>\n    </tr>\n    <tr>\n      <th>22</th>\n      <td>1</td>\n      <td>1</td>\n      <td>1</td>\n      <td>1</td>\n      <td>1</td>\n      <td>1</td>\n      <td>1</td>\n      <td>1</td>\n      <td>1</td>\n      <td>1</td>\n      <td>1</td>\n      <td>1</td>\n    </tr>\n    <tr>\n      <th>24</th>\n      <td>1</td>\n      <td>1</td>\n      <td>1</td>\n      <td>1</td>\n      <td>1</td>\n      <td>1</td>\n      <td>1</td>\n      <td>1</td>\n      <td>1</td>\n      <td>1</td>\n      <td>1</td>\n      <td>1</td>\n    </tr>\n    <tr>\n      <th>25</th>\n      <td>7</td>\n      <td>7</td>\n      <td>7</td>\n      <td>7</td>\n      <td>7</td>\n      <td>7</td>\n      <td>7</td>\n      <td>7</td>\n      <td>7</td>\n      <td>7</td>\n      <td>7</td>\n      <td>7</td>\n    </tr>\n    <tr>\n      <th>26</th>\n      <td>3</td>\n      <td>3</td>\n      <td>3</td>\n      <td>3</td>\n      <td>3</td>\n      <td>3</td>\n      <td>3</td>\n      <td>3</td>\n      <td>3</td>\n      <td>3</td>\n      <td>3</td>\n      <td>3</td>\n    </tr>\n    <tr>\n      <th>27</th>\n      <td>5</td>\n      <td>5</td>\n      <td>5</td>\n      <td>5</td>\n      <td>5</td>\n      <td>5</td>\n      <td>5</td>\n      <td>5</td>\n      <td>5</td>\n      <td>5</td>\n      <td>5</td>\n      <td>5</td>\n    </tr>\n    <tr>\n      <th>28</th>\n      <td>4</td>\n      <td>4</td>\n      <td>4</td>\n      <td>4</td>\n      <td>4</td>\n      <td>4</td>\n      <td>4</td>\n      <td>4</td>\n      <td>4</td>\n      <td>4</td>\n      <td>4</td>\n      <td>4</td>\n    </tr>\n    <tr>\n      <th>30</th>\n      <td>25</td>\n      <td>25</td>\n      <td>25</td>\n      <td>25</td>\n      <td>25</td>\n      <td>25</td>\n      <td>25</td>\n      <td>25</td>\n      <td>25</td>\n      <td>25</td>\n      <td>25</td>\n      <td>25</td>\n    </tr>\n    <tr>\n      <th>31</th>\n      <td>3</td>\n      <td>3</td>\n      <td>3</td>\n      <td>3</td>\n      <td>3</td>\n      <td>3</td>\n      <td>3</td>\n      <td>3</td>\n      <td>3</td>\n      <td>3</td>\n      <td>3</td>\n      <td>3</td>\n    </tr>\n    <tr>\n      <th>32</th>\n      <td>3</td>\n      <td>3</td>\n      <td>3</td>\n      <td>3</td>\n      <td>3</td>\n      <td>3</td>\n      <td>3</td>\n      <td>3</td>\n      <td>3</td>\n      <td>3</td>\n      <td>3</td>\n      <td>3</td>\n    </tr>\n    <tr>\n      <th>33</th>\n      <td>5</td>\n      <td>5</td>\n      <td>5</td>\n      <td>5</td>\n      <td>5</td>\n      <td>5</td>\n      <td>5</td>\n      <td>5</td>\n      <td>5</td>\n      <td>5</td>\n      <td>5</td>\n      <td>5</td>\n    </tr>\n    <tr>\n      <th>34</th>\n      <td>4</td>\n      <td>4</td>\n      <td>4</td>\n      <td>4</td>\n      <td>4</td>\n      <td>4</td>\n      <td>4</td>\n      <td>4</td>\n      <td>4</td>\n      <td>4</td>\n      <td>4</td>\n      <td>4</td>\n    </tr>\n    <tr>\n      <th>35</th>\n      <td>26</td>\n      <td>26</td>\n      <td>26</td>\n      <td>26</td>\n      <td>26</td>\n      <td>26</td>\n      <td>26</td>\n      <td>26</td>\n      <td>26</td>\n      <td>26</td>\n      <td>26</td>\n      <td>26</td>\n    </tr>\n    <tr>\n      <th>36</th>\n      <td>7</td>\n      <td>7</td>\n      <td>7</td>\n      <td>7</td>\n      <td>7</td>\n      <td>7</td>\n      <td>7</td>\n      <td>7</td>\n      <td>7</td>\n      <td>7</td>\n      <td>7</td>\n      <td>7</td>\n    </tr>\n    <tr>\n      <th>37</th>\n      <td>9</td>\n      <td>9</td>\n      <td>9</td>\n      <td>9</td>\n      <td>9</td>\n      <td>9</td>\n      <td>9</td>\n      <td>9</td>\n      <td>9</td>\n      <td>9</td>\n      <td>9</td>\n      <td>9</td>\n    </tr>\n    <tr>\n      <th>38</th>\n      <td>12</td>\n      <td>12</td>\n      <td>12</td>\n      <td>12</td>\n      <td>12</td>\n      <td>12</td>\n      <td>12</td>\n      <td>12</td>\n      <td>12</td>\n      <td>12</td>\n      <td>12</td>\n      <td>12</td>\n    </tr>\n    <tr>\n      <th>39</th>\n      <td>3</td>\n      <td>3</td>\n      <td>3</td>\n      <td>3</td>\n      <td>3</td>\n      <td>3</td>\n      <td>3</td>\n      <td>3</td>\n      <td>3</td>\n      <td>3</td>\n      <td>3</td>\n      <td>3</td>\n    </tr>\n    <tr>\n      <th>40</th>\n      <td>26</td>\n      <td>26</td>\n      <td>26</td>\n      <td>26</td>\n      <td>26</td>\n      <td>26</td>\n      <td>26</td>\n      <td>26</td>\n      <td>26</td>\n      <td>26</td>\n      <td>26</td>\n      <td>26</td>\n    </tr>\n    <tr>\n      <th>41</th>\n      <td>2</td>\n      <td>2</td>\n      <td>2</td>\n      <td>2</td>\n      <td>2</td>\n      <td>2</td>\n      <td>2</td>\n      <td>2</td>\n      <td>2</td>\n      <td>2</td>\n      <td>2</td>\n      <td>2</td>\n    </tr>\n    <tr>\n      <th>42</th>\n      <td>11</td>\n      <td>11</td>\n      <td>11</td>\n      <td>11</td>\n      <td>11</td>\n      <td>11</td>\n      <td>11</td>\n      <td>11</td>\n      <td>11</td>\n      <td>11</td>\n      <td>11</td>\n      <td>11</td>\n    </tr>\n    <tr>\n      <th>43</th>\n      <td>5</td>\n      <td>5</td>\n      <td>5</td>\n      <td>5</td>\n      <td>5</td>\n      <td>5</td>\n      <td>5</td>\n      <td>5</td>\n      <td>5</td>\n      <td>5</td>\n      <td>5</td>\n      <td>5</td>\n    </tr>\n    <tr>\n      <th>44</th>\n      <td>2</td>\n      <td>2</td>\n      <td>2</td>\n      <td>2</td>\n      <td>2</td>\n      <td>2</td>\n      <td>2</td>\n      <td>2</td>\n      <td>2</td>\n      <td>2</td>\n      <td>2</td>\n      <td>2</td>\n    </tr>\n    <tr>\n      <th>45</th>\n      <td>23</td>\n      <td>23</td>\n      <td>23</td>\n      <td>23</td>\n      <td>23</td>\n      <td>23</td>\n      <td>23</td>\n      <td>23</td>\n      <td>23</td>\n      <td>23</td>\n      <td>23</td>\n      <td>23</td>\n    </tr>\n    <tr>\n      <th>47</th>\n      <td>2</td>\n      <td>2</td>\n      <td>2</td>\n      <td>2</td>\n      <td>2</td>\n      <td>2</td>\n      <td>2</td>\n      <td>2</td>\n      <td>2</td>\n      <td>2</td>\n      <td>2</td>\n      <td>2</td>\n    </tr>\n    <tr>\n      <th>48</th>\n      <td>1</td>\n      <td>1</td>\n      <td>1</td>\n      <td>1</td>\n      <td>1</td>\n      <td>1</td>\n      <td>1</td>\n      <td>1</td>\n      <td>1</td>\n      <td>1</td>\n      <td>1</td>\n      <td>1</td>\n    </tr>\n    <tr>\n      <th>50</th>\n      <td>7</td>\n      <td>7</td>\n      <td>7</td>\n      <td>7</td>\n      <td>7</td>\n      <td>7</td>\n      <td>7</td>\n      <td>7</td>\n      <td>7</td>\n      <td>7</td>\n      <td>7</td>\n      <td>7</td>\n    </tr>\n  </tbody>\n</table>\n</div>"
     },
     "metadata": {},
     "execution_count": 33
    }
   ],
   "source": [
    "yata_jeon.groupby('월세(만원)').count()"
   ]
  },
  {
   "cell_type": "markdown",
   "metadata": {},
   "source": [
    "### 단독 전월세"
   ]
  },
  {
   "cell_type": "code",
   "execution_count": 24,
   "metadata": {
    "ExecuteTime": {
     "end_time": "2021-03-04T03:19:47.199341Z",
     "start_time": "2021-03-04T03:19:47.083651Z"
    }
   },
   "outputs": [
    {
     "output_type": "execute_result",
     "data": {
      "text/plain": [
       "        계약년월  계약일              시군구   도로조건  계약면적(㎡) 전월세구분 보증금(만원)  월세(만원)  \\\n",
       "0     201707   28      세종특별자치시 고운동  25m미만   249.78    전세  30,000       0   \n",
       "1     201706    2  세종특별자치시 금남면 감성리   8m미만    51.34    월세   3,000      20   \n",
       "2     201712    1  세종특별자치시 금남면 대박리  12m미만    70.20    월세   2,000      80   \n",
       "3     201712   15  세종특별자치시 금남면 도남리   8m미만   112.63    월세   5,000      55   \n",
       "4     201712    3  세종특별자치시 금남면 도암리   8m미만    20.00    월세     100      10   \n",
       "...      ...  ...              ...    ...      ...   ...     ...     ...   \n",
       "4600  202006   21  세종특별자치시 조치원읍 평리   8m미만    64.62    월세   2,000      20   \n",
       "4601  202011    7  세종특별자치시 조치원읍 평리   8m미만    65.00    월세     300      47   \n",
       "4602  202008   10  세종특별자치시 조치원읍 평리      -    67.25    전세   6,000       0   \n",
       "4603  202002   24  세종특별자치시 조치원읍 평리   8m미만    90.22    전세   6,000       0   \n",
       "4604  202005    1  세종특별자치시 조치원읍 평리   8m미만   155.50    월세     500      25   \n",
       "\n",
       "        건축년도       평  \n",
       "0     2015.0  60평 이상  \n",
       "1     1973.0  10~20평  \n",
       "2     2014.0  20~30평  \n",
       "3     1998.0  30~40평  \n",
       "4     1999.0  10평 미만  \n",
       "...      ...     ...  \n",
       "4600  1993.0  10~20평  \n",
       "4601  2014.0  10~20평  \n",
       "4602  1985.0  20~30평  \n",
       "4603  1985.0  20~30평  \n",
       "4604  1989.0  40~50평  \n",
       "\n",
       "[4605 rows x 10 columns]"
      ],
      "text/html": "<div>\n<style scoped>\n    .dataframe tbody tr th:only-of-type {\n        vertical-align: middle;\n    }\n\n    .dataframe tbody tr th {\n        vertical-align: top;\n    }\n\n    .dataframe thead th {\n        text-align: right;\n    }\n</style>\n<table border=\"1\" class=\"dataframe\">\n  <thead>\n    <tr style=\"text-align: right;\">\n      <th></th>\n      <th>계약년월</th>\n      <th>계약일</th>\n      <th>시군구</th>\n      <th>도로조건</th>\n      <th>계약면적(㎡)</th>\n      <th>전월세구분</th>\n      <th>보증금(만원)</th>\n      <th>월세(만원)</th>\n      <th>건축년도</th>\n      <th>평</th>\n    </tr>\n  </thead>\n  <tbody>\n    <tr>\n      <th>0</th>\n      <td>201707</td>\n      <td>28</td>\n      <td>세종특별자치시 고운동</td>\n      <td>25m미만</td>\n      <td>249.78</td>\n      <td>전세</td>\n      <td>30,000</td>\n      <td>0</td>\n      <td>2015.0</td>\n      <td>60평 이상</td>\n    </tr>\n    <tr>\n      <th>1</th>\n      <td>201706</td>\n      <td>2</td>\n      <td>세종특별자치시 금남면 감성리</td>\n      <td>8m미만</td>\n      <td>51.34</td>\n      <td>월세</td>\n      <td>3,000</td>\n      <td>20</td>\n      <td>1973.0</td>\n      <td>10~20평</td>\n    </tr>\n    <tr>\n      <th>2</th>\n      <td>201712</td>\n      <td>1</td>\n      <td>세종특별자치시 금남면 대박리</td>\n      <td>12m미만</td>\n      <td>70.20</td>\n      <td>월세</td>\n      <td>2,000</td>\n      <td>80</td>\n      <td>2014.0</td>\n      <td>20~30평</td>\n    </tr>\n    <tr>\n      <th>3</th>\n      <td>201712</td>\n      <td>15</td>\n      <td>세종특별자치시 금남면 도남리</td>\n      <td>8m미만</td>\n      <td>112.63</td>\n      <td>월세</td>\n      <td>5,000</td>\n      <td>55</td>\n      <td>1998.0</td>\n      <td>30~40평</td>\n    </tr>\n    <tr>\n      <th>4</th>\n      <td>201712</td>\n      <td>3</td>\n      <td>세종특별자치시 금남면 도암리</td>\n      <td>8m미만</td>\n      <td>20.00</td>\n      <td>월세</td>\n      <td>100</td>\n      <td>10</td>\n      <td>1999.0</td>\n      <td>10평 미만</td>\n    </tr>\n    <tr>\n      <th>...</th>\n      <td>...</td>\n      <td>...</td>\n      <td>...</td>\n      <td>...</td>\n      <td>...</td>\n      <td>...</td>\n      <td>...</td>\n      <td>...</td>\n      <td>...</td>\n      <td>...</td>\n    </tr>\n    <tr>\n      <th>4600</th>\n      <td>202006</td>\n      <td>21</td>\n      <td>세종특별자치시 조치원읍 평리</td>\n      <td>8m미만</td>\n      <td>64.62</td>\n      <td>월세</td>\n      <td>2,000</td>\n      <td>20</td>\n      <td>1993.0</td>\n      <td>10~20평</td>\n    </tr>\n    <tr>\n      <th>4601</th>\n      <td>202011</td>\n      <td>7</td>\n      <td>세종특별자치시 조치원읍 평리</td>\n      <td>8m미만</td>\n      <td>65.00</td>\n      <td>월세</td>\n      <td>300</td>\n      <td>47</td>\n      <td>2014.0</td>\n      <td>10~20평</td>\n    </tr>\n    <tr>\n      <th>4602</th>\n      <td>202008</td>\n      <td>10</td>\n      <td>세종특별자치시 조치원읍 평리</td>\n      <td>-</td>\n      <td>67.25</td>\n      <td>전세</td>\n      <td>6,000</td>\n      <td>0</td>\n      <td>1985.0</td>\n      <td>20~30평</td>\n    </tr>\n    <tr>\n      <th>4603</th>\n      <td>202002</td>\n      <td>24</td>\n      <td>세종특별자치시 조치원읍 평리</td>\n      <td>8m미만</td>\n      <td>90.22</td>\n      <td>전세</td>\n      <td>6,000</td>\n      <td>0</td>\n      <td>1985.0</td>\n      <td>20~30평</td>\n    </tr>\n    <tr>\n      <th>4604</th>\n      <td>202005</td>\n      <td>1</td>\n      <td>세종특별자치시 조치원읍 평리</td>\n      <td>8m미만</td>\n      <td>155.50</td>\n      <td>월세</td>\n      <td>500</td>\n      <td>25</td>\n      <td>1989.0</td>\n      <td>40~50평</td>\n    </tr>\n  </tbody>\n</table>\n<p>4605 rows × 10 columns</p>\n</div>"
     },
     "metadata": {},
     "execution_count": 24
    }
   ],
   "source": [
    "danta_jeon = pd.read_csv('C:/Users/sopo9/Downloads/SBJ_2102_001/9.세종시_단독다가구(전월세)_실거래가.csv')\n",
    "danta_jeon[\"평\"]=danta_jeon[\"계약면적(㎡)\"].apply(pyeong)\n",
    "danta_jeon"
   ]
  },
  {
   "cell_type": "code",
   "execution_count": 25,
   "metadata": {
    "ExecuteTime": {
     "end_time": "2021-03-04T03:19:47.229261Z",
     "start_time": "2021-03-04T03:19:47.202333Z"
    }
   },
   "outputs": [
    {
     "output_type": "execute_result",
     "data": {
      "text/plain": [
       "        계약년월   계약일   시군구  도로조건  계약면적(㎡)  전월세구분  보증금(만원)  월세(만원)  건축년도\n",
       "평                                                                    \n",
       "10~20평  1435  1435  1435  1435     1435   1435     1435    1435  1370\n",
       "10평 미만  2585  2585  2585  2585     2585   2585     2585    2585  2474\n",
       "20~30평   392   392   392   392      392    392      392     392   357\n",
       "30~40평    92    92    92    92       92     92       92      92    83\n",
       "40~50평    52    52    52    52       52     52       52      52    46\n",
       "50~60평    30    30    30    30       30     30       30      30    23\n",
       "60평 이상    19    19    19    19       19     19       19      19    19"
      ],
      "text/html": "<div>\n<style scoped>\n    .dataframe tbody tr th:only-of-type {\n        vertical-align: middle;\n    }\n\n    .dataframe tbody tr th {\n        vertical-align: top;\n    }\n\n    .dataframe thead th {\n        text-align: right;\n    }\n</style>\n<table border=\"1\" class=\"dataframe\">\n  <thead>\n    <tr style=\"text-align: right;\">\n      <th></th>\n      <th>계약년월</th>\n      <th>계약일</th>\n      <th>시군구</th>\n      <th>도로조건</th>\n      <th>계약면적(㎡)</th>\n      <th>전월세구분</th>\n      <th>보증금(만원)</th>\n      <th>월세(만원)</th>\n      <th>건축년도</th>\n    </tr>\n    <tr>\n      <th>평</th>\n      <th></th>\n      <th></th>\n      <th></th>\n      <th></th>\n      <th></th>\n      <th></th>\n      <th></th>\n      <th></th>\n      <th></th>\n    </tr>\n  </thead>\n  <tbody>\n    <tr>\n      <th>10~20평</th>\n      <td>1435</td>\n      <td>1435</td>\n      <td>1435</td>\n      <td>1435</td>\n      <td>1435</td>\n      <td>1435</td>\n      <td>1435</td>\n      <td>1435</td>\n      <td>1370</td>\n    </tr>\n    <tr>\n      <th>10평 미만</th>\n      <td>2585</td>\n      <td>2585</td>\n      <td>2585</td>\n      <td>2585</td>\n      <td>2585</td>\n      <td>2585</td>\n      <td>2585</td>\n      <td>2585</td>\n      <td>2474</td>\n    </tr>\n    <tr>\n      <th>20~30평</th>\n      <td>392</td>\n      <td>392</td>\n      <td>392</td>\n      <td>392</td>\n      <td>392</td>\n      <td>392</td>\n      <td>392</td>\n      <td>392</td>\n      <td>357</td>\n    </tr>\n    <tr>\n      <th>30~40평</th>\n      <td>92</td>\n      <td>92</td>\n      <td>92</td>\n      <td>92</td>\n      <td>92</td>\n      <td>92</td>\n      <td>92</td>\n      <td>92</td>\n      <td>83</td>\n    </tr>\n    <tr>\n      <th>40~50평</th>\n      <td>52</td>\n      <td>52</td>\n      <td>52</td>\n      <td>52</td>\n      <td>52</td>\n      <td>52</td>\n      <td>52</td>\n      <td>52</td>\n      <td>46</td>\n    </tr>\n    <tr>\n      <th>50~60평</th>\n      <td>30</td>\n      <td>30</td>\n      <td>30</td>\n      <td>30</td>\n      <td>30</td>\n      <td>30</td>\n      <td>30</td>\n      <td>30</td>\n      <td>23</td>\n    </tr>\n    <tr>\n      <th>60평 이상</th>\n      <td>19</td>\n      <td>19</td>\n      <td>19</td>\n      <td>19</td>\n      <td>19</td>\n      <td>19</td>\n      <td>19</td>\n      <td>19</td>\n      <td>19</td>\n    </tr>\n  </tbody>\n</table>\n</div>"
     },
     "metadata": {},
     "execution_count": 25
    }
   ],
   "source": [
    "danta_jeon.groupby('평').count()"
   ]
  },
  {
   "cell_type": "code",
   "execution_count": 26,
   "metadata": {},
   "outputs": [
    {
     "output_type": "execute_result",
     "data": {
      "text/plain": [
       "       계약년월   계약일   시군구  도로조건  계약면적(㎡)  보증금(만원)  월세(만원)  건축년도     평\n",
       "전월세구분                                                              \n",
       "월세     1361  1361  1361  1361     1361     1361    1361  1282  1361\n",
       "전세     3244  3244  3244  3244     3244     3244    3244  3090  3244"
      ],
      "text/html": "<div>\n<style scoped>\n    .dataframe tbody tr th:only-of-type {\n        vertical-align: middle;\n    }\n\n    .dataframe tbody tr th {\n        vertical-align: top;\n    }\n\n    .dataframe thead th {\n        text-align: right;\n    }\n</style>\n<table border=\"1\" class=\"dataframe\">\n  <thead>\n    <tr style=\"text-align: right;\">\n      <th></th>\n      <th>계약년월</th>\n      <th>계약일</th>\n      <th>시군구</th>\n      <th>도로조건</th>\n      <th>계약면적(㎡)</th>\n      <th>보증금(만원)</th>\n      <th>월세(만원)</th>\n      <th>건축년도</th>\n      <th>평</th>\n    </tr>\n    <tr>\n      <th>전월세구분</th>\n      <th></th>\n      <th></th>\n      <th></th>\n      <th></th>\n      <th></th>\n      <th></th>\n      <th></th>\n      <th></th>\n      <th></th>\n    </tr>\n  </thead>\n  <tbody>\n    <tr>\n      <th>월세</th>\n      <td>1361</td>\n      <td>1361</td>\n      <td>1361</td>\n      <td>1361</td>\n      <td>1361</td>\n      <td>1361</td>\n      <td>1361</td>\n      <td>1282</td>\n      <td>1361</td>\n    </tr>\n    <tr>\n      <th>전세</th>\n      <td>3244</td>\n      <td>3244</td>\n      <td>3244</td>\n      <td>3244</td>\n      <td>3244</td>\n      <td>3244</td>\n      <td>3244</td>\n      <td>3090</td>\n      <td>3244</td>\n    </tr>\n  </tbody>\n</table>\n</div>"
     },
     "metadata": {},
     "execution_count": 26
    }
   ],
   "source": [
    "danta_jeon.groupby('전월세구분').count()"
   ]
  },
  {
   "cell_type": "code",
   "execution_count": 27,
   "metadata": {},
   "outputs": [
    {
     "output_type": "execute_result",
     "data": {
      "text/plain": [
       "         계약년월  계약일  시군구  도로조건  계약면적(㎡)  전월세구분  월세(만원)  건축년도    평\n",
       "보증금(만원)                                                         \n",
       "0          11   11   11    11       11     11      11     9   11\n",
       "1,000     152  152  152   152      152    152     152   144  152\n",
       "1,200       2    2    2     2        2      2       2     2    2\n",
       "1,300       5    5    5     5        5      5       5     4    5\n",
       "1,500      51   51   51    51       51     51      51    47   51\n",
       "...       ...  ...  ...   ...      ...    ...     ...   ...  ...\n",
       "800         2    2    2     2        2      2       2     2    2\n",
       "9,000      35   35   35    35       35     35      35    35   35\n",
       "9,500      13   13   13    13       13     13      13    13   13\n",
       "900         1    1    1     1        1      1       1     1    1\n",
       "950         1    1    1     1        1      1       1     1    1\n",
       "\n",
       "[119 rows x 9 columns]"
      ],
      "text/html": "<div>\n<style scoped>\n    .dataframe tbody tr th:only-of-type {\n        vertical-align: middle;\n    }\n\n    .dataframe tbody tr th {\n        vertical-align: top;\n    }\n\n    .dataframe thead th {\n        text-align: right;\n    }\n</style>\n<table border=\"1\" class=\"dataframe\">\n  <thead>\n    <tr style=\"text-align: right;\">\n      <th></th>\n      <th>계약년월</th>\n      <th>계약일</th>\n      <th>시군구</th>\n      <th>도로조건</th>\n      <th>계약면적(㎡)</th>\n      <th>전월세구분</th>\n      <th>월세(만원)</th>\n      <th>건축년도</th>\n      <th>평</th>\n    </tr>\n    <tr>\n      <th>보증금(만원)</th>\n      <th></th>\n      <th></th>\n      <th></th>\n      <th></th>\n      <th></th>\n      <th></th>\n      <th></th>\n      <th></th>\n      <th></th>\n    </tr>\n  </thead>\n  <tbody>\n    <tr>\n      <th>0</th>\n      <td>11</td>\n      <td>11</td>\n      <td>11</td>\n      <td>11</td>\n      <td>11</td>\n      <td>11</td>\n      <td>11</td>\n      <td>9</td>\n      <td>11</td>\n    </tr>\n    <tr>\n      <th>1,000</th>\n      <td>152</td>\n      <td>152</td>\n      <td>152</td>\n      <td>152</td>\n      <td>152</td>\n      <td>152</td>\n      <td>152</td>\n      <td>144</td>\n      <td>152</td>\n    </tr>\n    <tr>\n      <th>1,200</th>\n      <td>2</td>\n      <td>2</td>\n      <td>2</td>\n      <td>2</td>\n      <td>2</td>\n      <td>2</td>\n      <td>2</td>\n      <td>2</td>\n      <td>2</td>\n    </tr>\n    <tr>\n      <th>1,300</th>\n      <td>5</td>\n      <td>5</td>\n      <td>5</td>\n      <td>5</td>\n      <td>5</td>\n      <td>5</td>\n      <td>5</td>\n      <td>4</td>\n      <td>5</td>\n    </tr>\n    <tr>\n      <th>1,500</th>\n      <td>51</td>\n      <td>51</td>\n      <td>51</td>\n      <td>51</td>\n      <td>51</td>\n      <td>51</td>\n      <td>51</td>\n      <td>47</td>\n      <td>51</td>\n    </tr>\n    <tr>\n      <th>...</th>\n      <td>...</td>\n      <td>...</td>\n      <td>...</td>\n      <td>...</td>\n      <td>...</td>\n      <td>...</td>\n      <td>...</td>\n      <td>...</td>\n      <td>...</td>\n    </tr>\n    <tr>\n      <th>800</th>\n      <td>2</td>\n      <td>2</td>\n      <td>2</td>\n      <td>2</td>\n      <td>2</td>\n      <td>2</td>\n      <td>2</td>\n      <td>2</td>\n      <td>2</td>\n    </tr>\n    <tr>\n      <th>9,000</th>\n      <td>35</td>\n      <td>35</td>\n      <td>35</td>\n      <td>35</td>\n      <td>35</td>\n      <td>35</td>\n      <td>35</td>\n      <td>35</td>\n      <td>35</td>\n    </tr>\n    <tr>\n      <th>9,500</th>\n      <td>13</td>\n      <td>13</td>\n      <td>13</td>\n      <td>13</td>\n      <td>13</td>\n      <td>13</td>\n      <td>13</td>\n      <td>13</td>\n      <td>13</td>\n    </tr>\n    <tr>\n      <th>900</th>\n      <td>1</td>\n      <td>1</td>\n      <td>1</td>\n      <td>1</td>\n      <td>1</td>\n      <td>1</td>\n      <td>1</td>\n      <td>1</td>\n      <td>1</td>\n    </tr>\n    <tr>\n      <th>950</th>\n      <td>1</td>\n      <td>1</td>\n      <td>1</td>\n      <td>1</td>\n      <td>1</td>\n      <td>1</td>\n      <td>1</td>\n      <td>1</td>\n      <td>1</td>\n    </tr>\n  </tbody>\n</table>\n<p>119 rows × 9 columns</p>\n</div>"
     },
     "metadata": {},
     "execution_count": 27
    }
   ],
   "source": [
    "danta_jeon.groupby('보증금(만원)').count()"
   ]
  },
  {
   "cell_type": "code",
   "execution_count": 28,
   "metadata": {},
   "outputs": [
    {
     "output_type": "execute_result",
     "data": {
      "text/plain": [
       "        계약년월   계약일   시군구  도로조건  계약면적(㎡)  전월세구분  보증금(만원)  건축년도     평\n",
       "월세(만원)                                                             \n",
       "0       3244  3244  3244  3244     3244   3244     3244  3090  3244\n",
       "3          4     4     4     4        4      4        4     3     4\n",
       "4          7     7     7     7        7      7        7     7     7\n",
       "5         24    24    24    24       24     24       24    24    24\n",
       "6          3     3     3     3        3      3        3     3     3\n",
       "...      ...   ...   ...   ...      ...    ...      ...   ...   ...\n",
       "96         1     1     1     1        1      1        1     0     1\n",
       "110        1     1     1     1        1      1        1     1     1\n",
       "111        1     1     1     1        1      1        1     0     1\n",
       "170        1     1     1     1        1      1        1     0     1\n",
       "200        1     1     1     1        1      1        1     0     1\n",
       "\n",
       "[72 rows x 9 columns]"
      ],
      "text/html": "<div>\n<style scoped>\n    .dataframe tbody tr th:only-of-type {\n        vertical-align: middle;\n    }\n\n    .dataframe tbody tr th {\n        vertical-align: top;\n    }\n\n    .dataframe thead th {\n        text-align: right;\n    }\n</style>\n<table border=\"1\" class=\"dataframe\">\n  <thead>\n    <tr style=\"text-align: right;\">\n      <th></th>\n      <th>계약년월</th>\n      <th>계약일</th>\n      <th>시군구</th>\n      <th>도로조건</th>\n      <th>계약면적(㎡)</th>\n      <th>전월세구분</th>\n      <th>보증금(만원)</th>\n      <th>건축년도</th>\n      <th>평</th>\n    </tr>\n    <tr>\n      <th>월세(만원)</th>\n      <th></th>\n      <th></th>\n      <th></th>\n      <th></th>\n      <th></th>\n      <th></th>\n      <th></th>\n      <th></th>\n      <th></th>\n    </tr>\n  </thead>\n  <tbody>\n    <tr>\n      <th>0</th>\n      <td>3244</td>\n      <td>3244</td>\n      <td>3244</td>\n      <td>3244</td>\n      <td>3244</td>\n      <td>3244</td>\n      <td>3244</td>\n      <td>3090</td>\n      <td>3244</td>\n    </tr>\n    <tr>\n      <th>3</th>\n      <td>4</td>\n      <td>4</td>\n      <td>4</td>\n      <td>4</td>\n      <td>4</td>\n      <td>4</td>\n      <td>4</td>\n      <td>3</td>\n      <td>4</td>\n    </tr>\n    <tr>\n      <th>4</th>\n      <td>7</td>\n      <td>7</td>\n      <td>7</td>\n      <td>7</td>\n      <td>7</td>\n      <td>7</td>\n      <td>7</td>\n      <td>7</td>\n      <td>7</td>\n    </tr>\n    <tr>\n      <th>5</th>\n      <td>24</td>\n      <td>24</td>\n      <td>24</td>\n      <td>24</td>\n      <td>24</td>\n      <td>24</td>\n      <td>24</td>\n      <td>24</td>\n      <td>24</td>\n    </tr>\n    <tr>\n      <th>6</th>\n      <td>3</td>\n      <td>3</td>\n      <td>3</td>\n      <td>3</td>\n      <td>3</td>\n      <td>3</td>\n      <td>3</td>\n      <td>3</td>\n      <td>3</td>\n    </tr>\n    <tr>\n      <th>...</th>\n      <td>...</td>\n      <td>...</td>\n      <td>...</td>\n      <td>...</td>\n      <td>...</td>\n      <td>...</td>\n      <td>...</td>\n      <td>...</td>\n      <td>...</td>\n    </tr>\n    <tr>\n      <th>96</th>\n      <td>1</td>\n      <td>1</td>\n      <td>1</td>\n      <td>1</td>\n      <td>1</td>\n      <td>1</td>\n      <td>1</td>\n      <td>0</td>\n      <td>1</td>\n    </tr>\n    <tr>\n      <th>110</th>\n      <td>1</td>\n      <td>1</td>\n      <td>1</td>\n      <td>1</td>\n      <td>1</td>\n      <td>1</td>\n      <td>1</td>\n      <td>1</td>\n      <td>1</td>\n    </tr>\n    <tr>\n      <th>111</th>\n      <td>1</td>\n      <td>1</td>\n      <td>1</td>\n      <td>1</td>\n      <td>1</td>\n      <td>1</td>\n      <td>1</td>\n      <td>0</td>\n      <td>1</td>\n    </tr>\n    <tr>\n      <th>170</th>\n      <td>1</td>\n      <td>1</td>\n      <td>1</td>\n      <td>1</td>\n      <td>1</td>\n      <td>1</td>\n      <td>1</td>\n      <td>0</td>\n      <td>1</td>\n    </tr>\n    <tr>\n      <th>200</th>\n      <td>1</td>\n      <td>1</td>\n      <td>1</td>\n      <td>1</td>\n      <td>1</td>\n      <td>1</td>\n      <td>1</td>\n      <td>0</td>\n      <td>1</td>\n    </tr>\n  </tbody>\n</table>\n<p>72 rows × 9 columns</p>\n</div>"
     },
     "metadata": {},
     "execution_count": 28
    }
   ],
   "source": [
    "danta_jeon.groupby('월세(만원)').count()"
   ]
  },
  {
   "cell_type": "markdown",
   "metadata": {},
   "source": [
    "### 오피스텔 전월세"
   ]
  },
  {
   "cell_type": "code",
   "execution_count": 20,
   "metadata": {
    "ExecuteTime": {
     "end_time": "2021-03-04T03:19:47.276136Z",
     "start_time": "2021-03-04T03:19:47.236243Z"
    }
   },
   "outputs": [
    {
     "output_type": "execute_result",
     "data": {
      "text/plain": [
       "              시군구   본번  부번       단지명 전월세구분  전용면적(㎡)    계약년월  계약일 보증금(만원)  \\\n",
       "0     세종특별자치시 어진동    0   0  2차푸르지오시티    전세    21.92  201701    1   7,500   \n",
       "1     세종특별자치시 어진동    0   0    푸르지오시티    월세    23.74  201701    2     300   \n",
       "2     세종특별자치시 어진동    0   0     호수의아침    전세    23.57  201701    3   6,000   \n",
       "3     세종특별자치시 어진동    0   0     호수의아침    전세    23.57  201701    5   7,000   \n",
       "4     세종특별자치시 어진동    0   0  2차푸르지오시티    전세    21.92  201701    6   7,000   \n",
       "...           ...  ...  ..       ...   ...      ...     ...  ...     ...   \n",
       "1269  세종특별자치시 나성동  756   0  리치먼드시티세종    전세    26.18  202012    9  14,000   \n",
       "1270  세종특별자치시 나성동  756   0  리치먼드시티세종    월세    32.50  202012   16   1,000   \n",
       "1271  세종특별자치시 도담동  246   5   세종한신휴시티    전세    24.03  202012   18   9,000   \n",
       "1272  세종특별자치시 나성동  756   0  리치먼드시티세종    전세    26.18  202012   28  16,000   \n",
       "1273  세종특별자치시 나성동  756   0  리치먼드시티세종    전세    26.18  202012   30  15,000   \n",
       "\n",
       "      월세(만원)   층  건축년도       평  \n",
       "0          0   9  2014  10평 미만  \n",
       "1         30  13  2014  10평 미만  \n",
       "2          0  11  2014  10평 미만  \n",
       "3          0  10  2014  10평 미만  \n",
       "4          0  15  2014  10평 미만  \n",
       "...      ...  ..   ...     ...  \n",
       "1269       0   6  2020  10평 미만  \n",
       "1270      65   4  2020  10평 미만  \n",
       "1271       0   4  2014  10평 미만  \n",
       "1272       0   8  2020  10평 미만  \n",
       "1273       0   8  2020  10평 미만  \n",
       "\n",
       "[1274 rows x 13 columns]"
      ],
      "text/html": "<div>\n<style scoped>\n    .dataframe tbody tr th:only-of-type {\n        vertical-align: middle;\n    }\n\n    .dataframe tbody tr th {\n        vertical-align: top;\n    }\n\n    .dataframe thead th {\n        text-align: right;\n    }\n</style>\n<table border=\"1\" class=\"dataframe\">\n  <thead>\n    <tr style=\"text-align: right;\">\n      <th></th>\n      <th>시군구</th>\n      <th>본번</th>\n      <th>부번</th>\n      <th>단지명</th>\n      <th>전월세구분</th>\n      <th>전용면적(㎡)</th>\n      <th>계약년월</th>\n      <th>계약일</th>\n      <th>보증금(만원)</th>\n      <th>월세(만원)</th>\n      <th>층</th>\n      <th>건축년도</th>\n      <th>평</th>\n    </tr>\n  </thead>\n  <tbody>\n    <tr>\n      <th>0</th>\n      <td>세종특별자치시 어진동</td>\n      <td>0</td>\n      <td>0</td>\n      <td>2차푸르지오시티</td>\n      <td>전세</td>\n      <td>21.92</td>\n      <td>201701</td>\n      <td>1</td>\n      <td>7,500</td>\n      <td>0</td>\n      <td>9</td>\n      <td>2014</td>\n      <td>10평 미만</td>\n    </tr>\n    <tr>\n      <th>1</th>\n      <td>세종특별자치시 어진동</td>\n      <td>0</td>\n      <td>0</td>\n      <td>푸르지오시티</td>\n      <td>월세</td>\n      <td>23.74</td>\n      <td>201701</td>\n      <td>2</td>\n      <td>300</td>\n      <td>30</td>\n      <td>13</td>\n      <td>2014</td>\n      <td>10평 미만</td>\n    </tr>\n    <tr>\n      <th>2</th>\n      <td>세종특별자치시 어진동</td>\n      <td>0</td>\n      <td>0</td>\n      <td>호수의아침</td>\n      <td>전세</td>\n      <td>23.57</td>\n      <td>201701</td>\n      <td>3</td>\n      <td>6,000</td>\n      <td>0</td>\n      <td>11</td>\n      <td>2014</td>\n      <td>10평 미만</td>\n    </tr>\n    <tr>\n      <th>3</th>\n      <td>세종특별자치시 어진동</td>\n      <td>0</td>\n      <td>0</td>\n      <td>호수의아침</td>\n      <td>전세</td>\n      <td>23.57</td>\n      <td>201701</td>\n      <td>5</td>\n      <td>7,000</td>\n      <td>0</td>\n      <td>10</td>\n      <td>2014</td>\n      <td>10평 미만</td>\n    </tr>\n    <tr>\n      <th>4</th>\n      <td>세종특별자치시 어진동</td>\n      <td>0</td>\n      <td>0</td>\n      <td>2차푸르지오시티</td>\n      <td>전세</td>\n      <td>21.92</td>\n      <td>201701</td>\n      <td>6</td>\n      <td>7,000</td>\n      <td>0</td>\n      <td>15</td>\n      <td>2014</td>\n      <td>10평 미만</td>\n    </tr>\n    <tr>\n      <th>...</th>\n      <td>...</td>\n      <td>...</td>\n      <td>...</td>\n      <td>...</td>\n      <td>...</td>\n      <td>...</td>\n      <td>...</td>\n      <td>...</td>\n      <td>...</td>\n      <td>...</td>\n      <td>...</td>\n      <td>...</td>\n      <td>...</td>\n    </tr>\n    <tr>\n      <th>1269</th>\n      <td>세종특별자치시 나성동</td>\n      <td>756</td>\n      <td>0</td>\n      <td>리치먼드시티세종</td>\n      <td>전세</td>\n      <td>26.18</td>\n      <td>202012</td>\n      <td>9</td>\n      <td>14,000</td>\n      <td>0</td>\n      <td>6</td>\n      <td>2020</td>\n      <td>10평 미만</td>\n    </tr>\n    <tr>\n      <th>1270</th>\n      <td>세종특별자치시 나성동</td>\n      <td>756</td>\n      <td>0</td>\n      <td>리치먼드시티세종</td>\n      <td>월세</td>\n      <td>32.50</td>\n      <td>202012</td>\n      <td>16</td>\n      <td>1,000</td>\n      <td>65</td>\n      <td>4</td>\n      <td>2020</td>\n      <td>10평 미만</td>\n    </tr>\n    <tr>\n      <th>1271</th>\n      <td>세종특별자치시 도담동</td>\n      <td>246</td>\n      <td>5</td>\n      <td>세종한신휴시티</td>\n      <td>전세</td>\n      <td>24.03</td>\n      <td>202012</td>\n      <td>18</td>\n      <td>9,000</td>\n      <td>0</td>\n      <td>4</td>\n      <td>2014</td>\n      <td>10평 미만</td>\n    </tr>\n    <tr>\n      <th>1272</th>\n      <td>세종특별자치시 나성동</td>\n      <td>756</td>\n      <td>0</td>\n      <td>리치먼드시티세종</td>\n      <td>전세</td>\n      <td>26.18</td>\n      <td>202012</td>\n      <td>28</td>\n      <td>16,000</td>\n      <td>0</td>\n      <td>8</td>\n      <td>2020</td>\n      <td>10평 미만</td>\n    </tr>\n    <tr>\n      <th>1273</th>\n      <td>세종특별자치시 나성동</td>\n      <td>756</td>\n      <td>0</td>\n      <td>리치먼드시티세종</td>\n      <td>전세</td>\n      <td>26.18</td>\n      <td>202012</td>\n      <td>30</td>\n      <td>15,000</td>\n      <td>0</td>\n      <td>8</td>\n      <td>2020</td>\n      <td>10평 미만</td>\n    </tr>\n  </tbody>\n</table>\n<p>1274 rows × 13 columns</p>\n</div>"
     },
     "metadata": {},
     "execution_count": 20
    }
   ],
   "source": [
    "oata_jeon = pd.read_csv('C:/Users/sopo9/Downloads/SBJ_2102_001/10.세종시_오피스텔(전월세)_실거래가.csv')\n",
    "oata_jeon[\"평\"]=oata_jeon[\"전용면적(㎡)\"].apply(pyeong)\n",
    "oata_jeon"
   ]
  },
  {
   "cell_type": "code",
   "execution_count": 21,
   "metadata": {
    "ExecuteTime": {
     "end_time": "2021-03-04T03:19:47.306056Z",
     "start_time": "2021-03-04T03:19:47.282120Z"
    }
   },
   "outputs": [
    {
     "output_type": "execute_result",
     "data": {
      "text/plain": [
       "         시군구    본번    부번   단지명  전월세구분  전용면적(㎡)  계약년월   계약일  보증금(만원)  월세(만원)  \\\n",
       "평                                                                             \n",
       "10~20평   110   110   110   110    110      110   110   110      110     110   \n",
       "10평 미만  1158  1158  1158  1158   1158     1158  1158  1158     1158    1158   \n",
       "20~30평     6     6     6     6      6        6     6     6        6       6   \n",
       "\n",
       "           층  건축년도  \n",
       "평                   \n",
       "10~20평   110   110  \n",
       "10평 미만  1158  1158  \n",
       "20~30평     6     6  "
      ],
      "text/html": "<div>\n<style scoped>\n    .dataframe tbody tr th:only-of-type {\n        vertical-align: middle;\n    }\n\n    .dataframe tbody tr th {\n        vertical-align: top;\n    }\n\n    .dataframe thead th {\n        text-align: right;\n    }\n</style>\n<table border=\"1\" class=\"dataframe\">\n  <thead>\n    <tr style=\"text-align: right;\">\n      <th></th>\n      <th>시군구</th>\n      <th>본번</th>\n      <th>부번</th>\n      <th>단지명</th>\n      <th>전월세구분</th>\n      <th>전용면적(㎡)</th>\n      <th>계약년월</th>\n      <th>계약일</th>\n      <th>보증금(만원)</th>\n      <th>월세(만원)</th>\n      <th>층</th>\n      <th>건축년도</th>\n    </tr>\n    <tr>\n      <th>평</th>\n      <th></th>\n      <th></th>\n      <th></th>\n      <th></th>\n      <th></th>\n      <th></th>\n      <th></th>\n      <th></th>\n      <th></th>\n      <th></th>\n      <th></th>\n      <th></th>\n    </tr>\n  </thead>\n  <tbody>\n    <tr>\n      <th>10~20평</th>\n      <td>110</td>\n      <td>110</td>\n      <td>110</td>\n      <td>110</td>\n      <td>110</td>\n      <td>110</td>\n      <td>110</td>\n      <td>110</td>\n      <td>110</td>\n      <td>110</td>\n      <td>110</td>\n      <td>110</td>\n    </tr>\n    <tr>\n      <th>10평 미만</th>\n      <td>1158</td>\n      <td>1158</td>\n      <td>1158</td>\n      <td>1158</td>\n      <td>1158</td>\n      <td>1158</td>\n      <td>1158</td>\n      <td>1158</td>\n      <td>1158</td>\n      <td>1158</td>\n      <td>1158</td>\n      <td>1158</td>\n    </tr>\n    <tr>\n      <th>20~30평</th>\n      <td>6</td>\n      <td>6</td>\n      <td>6</td>\n      <td>6</td>\n      <td>6</td>\n      <td>6</td>\n      <td>6</td>\n      <td>6</td>\n      <td>6</td>\n      <td>6</td>\n      <td>6</td>\n      <td>6</td>\n    </tr>\n  </tbody>\n</table>\n</div>"
     },
     "metadata": {},
     "execution_count": 21
    }
   ],
   "source": [
    "oata_jeon.groupby('평').count()"
   ]
  },
  {
   "cell_type": "code",
   "execution_count": 22,
   "metadata": {},
   "outputs": [
    {
     "output_type": "execute_result",
     "data": {
      "text/plain": [
       "       시군구   본번   부번  단지명  전용면적(㎡)  계약년월  계약일  보증금(만원)  월세(만원)    층  건축년도    평\n",
       "전월세구분                                                                         \n",
       "월세     697  697  697  697      697   697  697      697     697  697   697  697\n",
       "전세     577  577  577  577      577   577  577      577     577  577   577  577"
      ],
      "text/html": "<div>\n<style scoped>\n    .dataframe tbody tr th:only-of-type {\n        vertical-align: middle;\n    }\n\n    .dataframe tbody tr th {\n        vertical-align: top;\n    }\n\n    .dataframe thead th {\n        text-align: right;\n    }\n</style>\n<table border=\"1\" class=\"dataframe\">\n  <thead>\n    <tr style=\"text-align: right;\">\n      <th></th>\n      <th>시군구</th>\n      <th>본번</th>\n      <th>부번</th>\n      <th>단지명</th>\n      <th>전용면적(㎡)</th>\n      <th>계약년월</th>\n      <th>계약일</th>\n      <th>보증금(만원)</th>\n      <th>월세(만원)</th>\n      <th>층</th>\n      <th>건축년도</th>\n      <th>평</th>\n    </tr>\n    <tr>\n      <th>전월세구분</th>\n      <th></th>\n      <th></th>\n      <th></th>\n      <th></th>\n      <th></th>\n      <th></th>\n      <th></th>\n      <th></th>\n      <th></th>\n      <th></th>\n      <th></th>\n      <th></th>\n    </tr>\n  </thead>\n  <tbody>\n    <tr>\n      <th>월세</th>\n      <td>697</td>\n      <td>697</td>\n      <td>697</td>\n      <td>697</td>\n      <td>697</td>\n      <td>697</td>\n      <td>697</td>\n      <td>697</td>\n      <td>697</td>\n      <td>697</td>\n      <td>697</td>\n      <td>697</td>\n    </tr>\n    <tr>\n      <th>전세</th>\n      <td>577</td>\n      <td>577</td>\n      <td>577</td>\n      <td>577</td>\n      <td>577</td>\n      <td>577</td>\n      <td>577</td>\n      <td>577</td>\n      <td>577</td>\n      <td>577</td>\n      <td>577</td>\n      <td>577</td>\n    </tr>\n  </tbody>\n</table>\n</div>"
     },
     "metadata": {},
     "execution_count": 22
    }
   ],
   "source": [
    "oata_jeon.groupby('전월세구분').count()"
   ]
  },
  {
   "cell_type": "code",
   "execution_count": 23,
   "metadata": {},
   "outputs": [
    {
     "output_type": "execute_result",
     "data": {
      "text/plain": [
       "        시군구   본번   부번  단지명  전월세구분  전용면적(㎡)  계약년월  계약일  보증금(만원)    층  건축년도    평\n",
       "월세(만원)                                                                        \n",
       "0       577  577  577  577    577      577   577  577      577  577   577  577\n",
       "5         1    1    1    1      1        1     1    1        1    1     1    1\n",
       "7         1    1    1    1      1        1     1    1        1    1     1    1\n",
       "10        3    3    3    3      3        3     3    3        3    3     3    3\n",
       "15        7    7    7    7      7        7     7    7        7    7     7    7\n",
       "17        2    2    2    2      2        2     2    2        2    2     2    2\n",
       "20       36   36   36   36     36       36    36   36       36   36    36   36\n",
       "22        4    4    4    4      4        4     4    4        4    4     4    4\n",
       "23        9    9    9    9      9        9     9    9        9    9     9    9\n",
       "24        2    2    2    2      2        2     2    2        2    2     2    2\n",
       "25       24   24   24   24     24       24    24   24       24   24    24   24\n",
       "26        6    6    6    6      6        6     6    6        6    6     6    6\n",
       "27       19   19   19   19     19       19    19   19       19   19    19   19\n",
       "28       22   22   22   22     22       22    22   22       22   22    22   22\n",
       "29       15   15   15   15     15       15    15   15       15   15    15   15\n",
       "30      135  135  135  135    135      135   135  135      135  135   135  135\n",
       "31       12   12   12   12     12       12    12   12       12   12    12   12\n",
       "32       39   39   39   39     39       39    39   39       39   39    39   39\n",
       "33       46   46   46   46     46       46    46   46       46   46    46   46\n",
       "34        5    5    5    5      5        5     5    5        5    5     5    5\n",
       "35      119  119  119  119    119      119   119  119      119  119   119  119\n",
       "36       13   13   13   13     13       13    13   13       13   13    13   13\n",
       "37       30   30   30   30     30       30    30   30       30   30    30   30\n",
       "38       25   25   25   25     25       25    25   25       25   25    25   25\n",
       "40       52   52   52   52     52       52    52   52       52   52    52   52\n",
       "42        9    9    9    9      9        9     9    9        9    9     9    9\n",
       "43        2    2    2    2      2        2     2    2        2    2     2    2\n",
       "44        1    1    1    1      1        1     1    1        1    1     1    1\n",
       "45       20   20   20   20     20       20    20   20       20   20    20   20\n",
       "46        1    1    1    1      1        1     1    1        1    1     1    1\n",
       "47        4    4    4    4      4        4     4    4        4    4     4    4\n",
       "48        1    1    1    1      1        1     1    1        1    1     1    1\n",
       "49        1    1    1    1      1        1     1    1        1    1     1    1\n",
       "50       15   15   15   15     15       15    15   15       15   15    15   15\n",
       "53        2    2    2    2      2        2     2    2        2    2     2    2\n",
       "55        4    4    4    4      4        4     4    4        4    4     4    4\n",
       "57        1    1    1    1      1        1     1    1        1    1     1    1\n",
       "60        5    5    5    5      5        5     5    5        5    5     5    5\n",
       "65        2    2    2    2      2        2     2    2        2    2     2    2\n",
       "70        1    1    1    1      1        1     1    1        1    1     1    1\n",
       "75        1    1    1    1      1        1     1    1        1    1     1    1"
      ],
      "text/html": "<div>\n<style scoped>\n    .dataframe tbody tr th:only-of-type {\n        vertical-align: middle;\n    }\n\n    .dataframe tbody tr th {\n        vertical-align: top;\n    }\n\n    .dataframe thead th {\n        text-align: right;\n    }\n</style>\n<table border=\"1\" class=\"dataframe\">\n  <thead>\n    <tr style=\"text-align: right;\">\n      <th></th>\n      <th>시군구</th>\n      <th>본번</th>\n      <th>부번</th>\n      <th>단지명</th>\n      <th>전월세구분</th>\n      <th>전용면적(㎡)</th>\n      <th>계약년월</th>\n      <th>계약일</th>\n      <th>보증금(만원)</th>\n      <th>층</th>\n      <th>건축년도</th>\n      <th>평</th>\n    </tr>\n    <tr>\n      <th>월세(만원)</th>\n      <th></th>\n      <th></th>\n      <th></th>\n      <th></th>\n      <th></th>\n      <th></th>\n      <th></th>\n      <th></th>\n      <th></th>\n      <th></th>\n      <th></th>\n      <th></th>\n    </tr>\n  </thead>\n  <tbody>\n    <tr>\n      <th>0</th>\n      <td>577</td>\n      <td>577</td>\n      <td>577</td>\n      <td>577</td>\n      <td>577</td>\n      <td>577</td>\n      <td>577</td>\n      <td>577</td>\n      <td>577</td>\n      <td>577</td>\n      <td>577</td>\n      <td>577</td>\n    </tr>\n    <tr>\n      <th>5</th>\n      <td>1</td>\n      <td>1</td>\n      <td>1</td>\n      <td>1</td>\n      <td>1</td>\n      <td>1</td>\n      <td>1</td>\n      <td>1</td>\n      <td>1</td>\n      <td>1</td>\n      <td>1</td>\n      <td>1</td>\n    </tr>\n    <tr>\n      <th>7</th>\n      <td>1</td>\n      <td>1</td>\n      <td>1</td>\n      <td>1</td>\n      <td>1</td>\n      <td>1</td>\n      <td>1</td>\n      <td>1</td>\n      <td>1</td>\n      <td>1</td>\n      <td>1</td>\n      <td>1</td>\n    </tr>\n    <tr>\n      <th>10</th>\n      <td>3</td>\n      <td>3</td>\n      <td>3</td>\n      <td>3</td>\n      <td>3</td>\n      <td>3</td>\n      <td>3</td>\n      <td>3</td>\n      <td>3</td>\n      <td>3</td>\n      <td>3</td>\n      <td>3</td>\n    </tr>\n    <tr>\n      <th>15</th>\n      <td>7</td>\n      <td>7</td>\n      <td>7</td>\n      <td>7</td>\n      <td>7</td>\n      <td>7</td>\n      <td>7</td>\n      <td>7</td>\n      <td>7</td>\n      <td>7</td>\n      <td>7</td>\n      <td>7</td>\n    </tr>\n    <tr>\n      <th>17</th>\n      <td>2</td>\n      <td>2</td>\n      <td>2</td>\n      <td>2</td>\n      <td>2</td>\n      <td>2</td>\n      <td>2</td>\n      <td>2</td>\n      <td>2</td>\n      <td>2</td>\n      <td>2</td>\n      <td>2</td>\n    </tr>\n    <tr>\n      <th>20</th>\n      <td>36</td>\n      <td>36</td>\n      <td>36</td>\n      <td>36</td>\n      <td>36</td>\n      <td>36</td>\n      <td>36</td>\n      <td>36</td>\n      <td>36</td>\n      <td>36</td>\n      <td>36</td>\n      <td>36</td>\n    </tr>\n    <tr>\n      <th>22</th>\n      <td>4</td>\n      <td>4</td>\n      <td>4</td>\n      <td>4</td>\n      <td>4</td>\n      <td>4</td>\n      <td>4</td>\n      <td>4</td>\n      <td>4</td>\n      <td>4</td>\n      <td>4</td>\n      <td>4</td>\n    </tr>\n    <tr>\n      <th>23</th>\n      <td>9</td>\n      <td>9</td>\n      <td>9</td>\n      <td>9</td>\n      <td>9</td>\n      <td>9</td>\n      <td>9</td>\n      <td>9</td>\n      <td>9</td>\n      <td>9</td>\n      <td>9</td>\n      <td>9</td>\n    </tr>\n    <tr>\n      <th>24</th>\n      <td>2</td>\n      <td>2</td>\n      <td>2</td>\n      <td>2</td>\n      <td>2</td>\n      <td>2</td>\n      <td>2</td>\n      <td>2</td>\n      <td>2</td>\n      <td>2</td>\n      <td>2</td>\n      <td>2</td>\n    </tr>\n    <tr>\n      <th>25</th>\n      <td>24</td>\n      <td>24</td>\n      <td>24</td>\n      <td>24</td>\n      <td>24</td>\n      <td>24</td>\n      <td>24</td>\n      <td>24</td>\n      <td>24</td>\n      <td>24</td>\n      <td>24</td>\n      <td>24</td>\n    </tr>\n    <tr>\n      <th>26</th>\n      <td>6</td>\n      <td>6</td>\n      <td>6</td>\n      <td>6</td>\n      <td>6</td>\n      <td>6</td>\n      <td>6</td>\n      <td>6</td>\n      <td>6</td>\n      <td>6</td>\n      <td>6</td>\n      <td>6</td>\n    </tr>\n    <tr>\n      <th>27</th>\n      <td>19</td>\n      <td>19</td>\n      <td>19</td>\n      <td>19</td>\n      <td>19</td>\n      <td>19</td>\n      <td>19</td>\n      <td>19</td>\n      <td>19</td>\n      <td>19</td>\n      <td>19</td>\n      <td>19</td>\n    </tr>\n    <tr>\n      <th>28</th>\n      <td>22</td>\n      <td>22</td>\n      <td>22</td>\n      <td>22</td>\n      <td>22</td>\n      <td>22</td>\n      <td>22</td>\n      <td>22</td>\n      <td>22</td>\n      <td>22</td>\n      <td>22</td>\n      <td>22</td>\n    </tr>\n    <tr>\n      <th>29</th>\n      <td>15</td>\n      <td>15</td>\n      <td>15</td>\n      <td>15</td>\n      <td>15</td>\n      <td>15</td>\n      <td>15</td>\n      <td>15</td>\n      <td>15</td>\n      <td>15</td>\n      <td>15</td>\n      <td>15</td>\n    </tr>\n    <tr>\n      <th>30</th>\n      <td>135</td>\n      <td>135</td>\n      <td>135</td>\n      <td>135</td>\n      <td>135</td>\n      <td>135</td>\n      <td>135</td>\n      <td>135</td>\n      <td>135</td>\n      <td>135</td>\n      <td>135</td>\n      <td>135</td>\n    </tr>\n    <tr>\n      <th>31</th>\n      <td>12</td>\n      <td>12</td>\n      <td>12</td>\n      <td>12</td>\n      <td>12</td>\n      <td>12</td>\n      <td>12</td>\n      <td>12</td>\n      <td>12</td>\n      <td>12</td>\n      <td>12</td>\n      <td>12</td>\n    </tr>\n    <tr>\n      <th>32</th>\n      <td>39</td>\n      <td>39</td>\n      <td>39</td>\n      <td>39</td>\n      <td>39</td>\n      <td>39</td>\n      <td>39</td>\n      <td>39</td>\n      <td>39</td>\n      <td>39</td>\n      <td>39</td>\n      <td>39</td>\n    </tr>\n    <tr>\n      <th>33</th>\n      <td>46</td>\n      <td>46</td>\n      <td>46</td>\n      <td>46</td>\n      <td>46</td>\n      <td>46</td>\n      <td>46</td>\n      <td>46</td>\n      <td>46</td>\n      <td>46</td>\n      <td>46</td>\n      <td>46</td>\n    </tr>\n    <tr>\n      <th>34</th>\n      <td>5</td>\n      <td>5</td>\n      <td>5</td>\n      <td>5</td>\n      <td>5</td>\n      <td>5</td>\n      <td>5</td>\n      <td>5</td>\n      <td>5</td>\n      <td>5</td>\n      <td>5</td>\n      <td>5</td>\n    </tr>\n    <tr>\n      <th>35</th>\n      <td>119</td>\n      <td>119</td>\n      <td>119</td>\n      <td>119</td>\n      <td>119</td>\n      <td>119</td>\n      <td>119</td>\n      <td>119</td>\n      <td>119</td>\n      <td>119</td>\n      <td>119</td>\n      <td>119</td>\n    </tr>\n    <tr>\n      <th>36</th>\n      <td>13</td>\n      <td>13</td>\n      <td>13</td>\n      <td>13</td>\n      <td>13</td>\n      <td>13</td>\n      <td>13</td>\n      <td>13</td>\n      <td>13</td>\n      <td>13</td>\n      <td>13</td>\n      <td>13</td>\n    </tr>\n    <tr>\n      <th>37</th>\n      <td>30</td>\n      <td>30</td>\n      <td>30</td>\n      <td>30</td>\n      <td>30</td>\n      <td>30</td>\n      <td>30</td>\n      <td>30</td>\n      <td>30</td>\n      <td>30</td>\n      <td>30</td>\n      <td>30</td>\n    </tr>\n    <tr>\n      <th>38</th>\n      <td>25</td>\n      <td>25</td>\n      <td>25</td>\n      <td>25</td>\n      <td>25</td>\n      <td>25</td>\n      <td>25</td>\n      <td>25</td>\n      <td>25</td>\n      <td>25</td>\n      <td>25</td>\n      <td>25</td>\n    </tr>\n    <tr>\n      <th>40</th>\n      <td>52</td>\n      <td>52</td>\n      <td>52</td>\n      <td>52</td>\n      <td>52</td>\n      <td>52</td>\n      <td>52</td>\n      <td>52</td>\n      <td>52</td>\n      <td>52</td>\n      <td>52</td>\n      <td>52</td>\n    </tr>\n    <tr>\n      <th>42</th>\n      <td>9</td>\n      <td>9</td>\n      <td>9</td>\n      <td>9</td>\n      <td>9</td>\n      <td>9</td>\n      <td>9</td>\n      <td>9</td>\n      <td>9</td>\n      <td>9</td>\n      <td>9</td>\n      <td>9</td>\n    </tr>\n    <tr>\n      <th>43</th>\n      <td>2</td>\n      <td>2</td>\n      <td>2</td>\n      <td>2</td>\n      <td>2</td>\n      <td>2</td>\n      <td>2</td>\n      <td>2</td>\n      <td>2</td>\n      <td>2</td>\n      <td>2</td>\n      <td>2</td>\n    </tr>\n    <tr>\n      <th>44</th>\n      <td>1</td>\n      <td>1</td>\n      <td>1</td>\n      <td>1</td>\n      <td>1</td>\n      <td>1</td>\n      <td>1</td>\n      <td>1</td>\n      <td>1</td>\n      <td>1</td>\n      <td>1</td>\n      <td>1</td>\n    </tr>\n    <tr>\n      <th>45</th>\n      <td>20</td>\n      <td>20</td>\n      <td>20</td>\n      <td>20</td>\n      <td>20</td>\n      <td>20</td>\n      <td>20</td>\n      <td>20</td>\n      <td>20</td>\n      <td>20</td>\n      <td>20</td>\n      <td>20</td>\n    </tr>\n    <tr>\n      <th>46</th>\n      <td>1</td>\n      <td>1</td>\n      <td>1</td>\n      <td>1</td>\n      <td>1</td>\n      <td>1</td>\n      <td>1</td>\n      <td>1</td>\n      <td>1</td>\n      <td>1</td>\n      <td>1</td>\n      <td>1</td>\n    </tr>\n    <tr>\n      <th>47</th>\n      <td>4</td>\n      <td>4</td>\n      <td>4</td>\n      <td>4</td>\n      <td>4</td>\n      <td>4</td>\n      <td>4</td>\n      <td>4</td>\n      <td>4</td>\n      <td>4</td>\n      <td>4</td>\n      <td>4</td>\n    </tr>\n    <tr>\n      <th>48</th>\n      <td>1</td>\n      <td>1</td>\n      <td>1</td>\n      <td>1</td>\n      <td>1</td>\n      <td>1</td>\n      <td>1</td>\n      <td>1</td>\n      <td>1</td>\n      <td>1</td>\n      <td>1</td>\n      <td>1</td>\n    </tr>\n    <tr>\n      <th>49</th>\n      <td>1</td>\n      <td>1</td>\n      <td>1</td>\n      <td>1</td>\n      <td>1</td>\n      <td>1</td>\n      <td>1</td>\n      <td>1</td>\n      <td>1</td>\n      <td>1</td>\n      <td>1</td>\n      <td>1</td>\n    </tr>\n    <tr>\n      <th>50</th>\n      <td>15</td>\n      <td>15</td>\n      <td>15</td>\n      <td>15</td>\n      <td>15</td>\n      <td>15</td>\n      <td>15</td>\n      <td>15</td>\n      <td>15</td>\n      <td>15</td>\n      <td>15</td>\n      <td>15</td>\n    </tr>\n    <tr>\n      <th>53</th>\n      <td>2</td>\n      <td>2</td>\n      <td>2</td>\n      <td>2</td>\n      <td>2</td>\n      <td>2</td>\n      <td>2</td>\n      <td>2</td>\n      <td>2</td>\n      <td>2</td>\n      <td>2</td>\n      <td>2</td>\n    </tr>\n    <tr>\n      <th>55</th>\n      <td>4</td>\n      <td>4</td>\n      <td>4</td>\n      <td>4</td>\n      <td>4</td>\n      <td>4</td>\n      <td>4</td>\n      <td>4</td>\n      <td>4</td>\n      <td>4</td>\n      <td>4</td>\n      <td>4</td>\n    </tr>\n    <tr>\n      <th>57</th>\n      <td>1</td>\n      <td>1</td>\n      <td>1</td>\n      <td>1</td>\n      <td>1</td>\n      <td>1</td>\n      <td>1</td>\n      <td>1</td>\n      <td>1</td>\n      <td>1</td>\n      <td>1</td>\n      <td>1</td>\n    </tr>\n    <tr>\n      <th>60</th>\n      <td>5</td>\n      <td>5</td>\n      <td>5</td>\n      <td>5</td>\n      <td>5</td>\n      <td>5</td>\n      <td>5</td>\n      <td>5</td>\n      <td>5</td>\n      <td>5</td>\n      <td>5</td>\n      <td>5</td>\n    </tr>\n    <tr>\n      <th>65</th>\n      <td>2</td>\n      <td>2</td>\n      <td>2</td>\n      <td>2</td>\n      <td>2</td>\n      <td>2</td>\n      <td>2</td>\n      <td>2</td>\n      <td>2</td>\n      <td>2</td>\n      <td>2</td>\n      <td>2</td>\n    </tr>\n    <tr>\n      <th>70</th>\n      <td>1</td>\n      <td>1</td>\n      <td>1</td>\n      <td>1</td>\n      <td>1</td>\n      <td>1</td>\n      <td>1</td>\n      <td>1</td>\n      <td>1</td>\n      <td>1</td>\n      <td>1</td>\n      <td>1</td>\n    </tr>\n    <tr>\n      <th>75</th>\n      <td>1</td>\n      <td>1</td>\n      <td>1</td>\n      <td>1</td>\n      <td>1</td>\n      <td>1</td>\n      <td>1</td>\n      <td>1</td>\n      <td>1</td>\n      <td>1</td>\n      <td>1</td>\n      <td>1</td>\n    </tr>\n  </tbody>\n</table>\n</div>"
     },
     "metadata": {},
     "execution_count": 23
    }
   ],
   "source": [
    "oata_jeon.groupby('월세(만원)').count()"
   ]
  },
  {
   "cell_type": "code",
   "execution_count": null,
   "metadata": {},
   "outputs": [],
   "source": [
    "### 전월세 총합"
   ]
  },
  {
   "cell_type": "code",
   "execution_count": 69,
   "metadata": {},
   "outputs": [
    {
     "output_type": "execute_result",
     "data": {
      "text/plain": [
       "         계약년월  계약일          시군구    본번   부번                  단지명 전월세구분  \\\n",
       "0      201701   13  세종특별자치시 고운동  1396  0.0  가락마을 20단지(호반베르디움5차)    전세   \n",
       "1      201701   14  세종특별자치시 고운동  1396  0.0  가락마을 20단지(호반베르디움5차)    전세   \n",
       "2      201701   14  세종특별자치시 고운동  1396  0.0  가락마을 20단지(호반베르디움5차)    전세   \n",
       "3      201701   15  세종특별자치시 고운동  1396  0.0  가락마을 20단지(호반베르디움5차)    전세   \n",
       "4      201702    4  세종특별자치시 고운동  1396  0.0  가락마을 20단지(호반베르디움5차)    월세   \n",
       "...       ...  ...          ...   ...  ...                  ...   ...   \n",
       "45192  202012    9  세종특별자치시 나성동   756  0.0             리치먼드시티세종    전세   \n",
       "45193  202012   16  세종특별자치시 나성동   756  0.0             리치먼드시티세종    월세   \n",
       "45194  202012   18  세종특별자치시 도담동   246  5.0              세종한신휴시티    전세   \n",
       "45195  202012   28  세종특별자치시 나성동   756  0.0             리치먼드시티세종    전세   \n",
       "45196  202012   30  세종특별자치시 나성동   756  0.0             리치먼드시티세종    전세   \n",
       "\n",
       "       전용면적(㎡) 보증금(만원)  월세(만원)     층    건축년도       평  건물명 도로조건  계약면적(㎡)  \n",
       "0      84.9895  10,000       0  13.0  2015.0  20~30평  NaN  NaN      NaN  \n",
       "1      84.9895  18,000       0  19.0  2015.0  20~30평  NaN  NaN      NaN  \n",
       "2      59.8338  17,000       0  10.0  2015.0  10~20평  NaN  NaN      NaN  \n",
       "3      84.9895  17,000       0   2.0  2015.0  20~30평  NaN  NaN      NaN  \n",
       "4      84.9895  10,000      30  13.0  2015.0  20~30평  NaN  NaN      NaN  \n",
       "...        ...     ...     ...   ...     ...     ...  ...  ...      ...  \n",
       "45192  26.1800  14,000       0   6.0  2020.0  10평 미만  NaN  NaN      NaN  \n",
       "45193  32.5000   1,000      65   4.0  2020.0  10평 미만  NaN  NaN      NaN  \n",
       "45194  24.0300   9,000       0   4.0  2014.0  10평 미만  NaN  NaN      NaN  \n",
       "45195  26.1800  16,000       0   8.0  2020.0  10평 미만  NaN  NaN      NaN  \n",
       "45196  26.1800  15,000       0   8.0  2020.0  10평 미만  NaN  NaN      NaN  \n",
       "\n",
       "[45197 rows x 16 columns]"
      ],
      "text/html": "<div>\n<style scoped>\n    .dataframe tbody tr th:only-of-type {\n        vertical-align: middle;\n    }\n\n    .dataframe tbody tr th {\n        vertical-align: top;\n    }\n\n    .dataframe thead th {\n        text-align: right;\n    }\n</style>\n<table border=\"1\" class=\"dataframe\">\n  <thead>\n    <tr style=\"text-align: right;\">\n      <th></th>\n      <th>계약년월</th>\n      <th>계약일</th>\n      <th>시군구</th>\n      <th>본번</th>\n      <th>부번</th>\n      <th>단지명</th>\n      <th>전월세구분</th>\n      <th>전용면적(㎡)</th>\n      <th>보증금(만원)</th>\n      <th>월세(만원)</th>\n      <th>층</th>\n      <th>건축년도</th>\n      <th>평</th>\n      <th>건물명</th>\n      <th>도로조건</th>\n      <th>계약면적(㎡)</th>\n    </tr>\n  </thead>\n  <tbody>\n    <tr>\n      <th>0</th>\n      <td>201701</td>\n      <td>13</td>\n      <td>세종특별자치시 고운동</td>\n      <td>1396</td>\n      <td>0.0</td>\n      <td>가락마을 20단지(호반베르디움5차)</td>\n      <td>전세</td>\n      <td>84.9895</td>\n      <td>10,000</td>\n      <td>0</td>\n      <td>13.0</td>\n      <td>2015.0</td>\n      <td>20~30평</td>\n      <td>NaN</td>\n      <td>NaN</td>\n      <td>NaN</td>\n    </tr>\n    <tr>\n      <th>1</th>\n      <td>201701</td>\n      <td>14</td>\n      <td>세종특별자치시 고운동</td>\n      <td>1396</td>\n      <td>0.0</td>\n      <td>가락마을 20단지(호반베르디움5차)</td>\n      <td>전세</td>\n      <td>84.9895</td>\n      <td>18,000</td>\n      <td>0</td>\n      <td>19.0</td>\n      <td>2015.0</td>\n      <td>20~30평</td>\n      <td>NaN</td>\n      <td>NaN</td>\n      <td>NaN</td>\n    </tr>\n    <tr>\n      <th>2</th>\n      <td>201701</td>\n      <td>14</td>\n      <td>세종특별자치시 고운동</td>\n      <td>1396</td>\n      <td>0.0</td>\n      <td>가락마을 20단지(호반베르디움5차)</td>\n      <td>전세</td>\n      <td>59.8338</td>\n      <td>17,000</td>\n      <td>0</td>\n      <td>10.0</td>\n      <td>2015.0</td>\n      <td>10~20평</td>\n      <td>NaN</td>\n      <td>NaN</td>\n      <td>NaN</td>\n    </tr>\n    <tr>\n      <th>3</th>\n      <td>201701</td>\n      <td>15</td>\n      <td>세종특별자치시 고운동</td>\n      <td>1396</td>\n      <td>0.0</td>\n      <td>가락마을 20단지(호반베르디움5차)</td>\n      <td>전세</td>\n      <td>84.9895</td>\n      <td>17,000</td>\n      <td>0</td>\n      <td>2.0</td>\n      <td>2015.0</td>\n      <td>20~30평</td>\n      <td>NaN</td>\n      <td>NaN</td>\n      <td>NaN</td>\n    </tr>\n    <tr>\n      <th>4</th>\n      <td>201702</td>\n      <td>4</td>\n      <td>세종특별자치시 고운동</td>\n      <td>1396</td>\n      <td>0.0</td>\n      <td>가락마을 20단지(호반베르디움5차)</td>\n      <td>월세</td>\n      <td>84.9895</td>\n      <td>10,000</td>\n      <td>30</td>\n      <td>13.0</td>\n      <td>2015.0</td>\n      <td>20~30평</td>\n      <td>NaN</td>\n      <td>NaN</td>\n      <td>NaN</td>\n    </tr>\n    <tr>\n      <th>...</th>\n      <td>...</td>\n      <td>...</td>\n      <td>...</td>\n      <td>...</td>\n      <td>...</td>\n      <td>...</td>\n      <td>...</td>\n      <td>...</td>\n      <td>...</td>\n      <td>...</td>\n      <td>...</td>\n      <td>...</td>\n      <td>...</td>\n      <td>...</td>\n      <td>...</td>\n      <td>...</td>\n    </tr>\n    <tr>\n      <th>45192</th>\n      <td>202012</td>\n      <td>9</td>\n      <td>세종특별자치시 나성동</td>\n      <td>756</td>\n      <td>0.0</td>\n      <td>리치먼드시티세종</td>\n      <td>전세</td>\n      <td>26.1800</td>\n      <td>14,000</td>\n      <td>0</td>\n      <td>6.0</td>\n      <td>2020.0</td>\n      <td>10평 미만</td>\n      <td>NaN</td>\n      <td>NaN</td>\n      <td>NaN</td>\n    </tr>\n    <tr>\n      <th>45193</th>\n      <td>202012</td>\n      <td>16</td>\n      <td>세종특별자치시 나성동</td>\n      <td>756</td>\n      <td>0.0</td>\n      <td>리치먼드시티세종</td>\n      <td>월세</td>\n      <td>32.5000</td>\n      <td>1,000</td>\n      <td>65</td>\n      <td>4.0</td>\n      <td>2020.0</td>\n      <td>10평 미만</td>\n      <td>NaN</td>\n      <td>NaN</td>\n      <td>NaN</td>\n    </tr>\n    <tr>\n      <th>45194</th>\n      <td>202012</td>\n      <td>18</td>\n      <td>세종특별자치시 도담동</td>\n      <td>246</td>\n      <td>5.0</td>\n      <td>세종한신휴시티</td>\n      <td>전세</td>\n      <td>24.0300</td>\n      <td>9,000</td>\n      <td>0</td>\n      <td>4.0</td>\n      <td>2014.0</td>\n      <td>10평 미만</td>\n      <td>NaN</td>\n      <td>NaN</td>\n      <td>NaN</td>\n    </tr>\n    <tr>\n      <th>45195</th>\n      <td>202012</td>\n      <td>28</td>\n      <td>세종특별자치시 나성동</td>\n      <td>756</td>\n      <td>0.0</td>\n      <td>리치먼드시티세종</td>\n      <td>전세</td>\n      <td>26.1800</td>\n      <td>16,000</td>\n      <td>0</td>\n      <td>8.0</td>\n      <td>2020.0</td>\n      <td>10평 미만</td>\n      <td>NaN</td>\n      <td>NaN</td>\n      <td>NaN</td>\n    </tr>\n    <tr>\n      <th>45196</th>\n      <td>202012</td>\n      <td>30</td>\n      <td>세종특별자치시 나성동</td>\n      <td>756</td>\n      <td>0.0</td>\n      <td>리치먼드시티세종</td>\n      <td>전세</td>\n      <td>26.1800</td>\n      <td>15,000</td>\n      <td>0</td>\n      <td>8.0</td>\n      <td>2020.0</td>\n      <td>10평 미만</td>\n      <td>NaN</td>\n      <td>NaN</td>\n      <td>NaN</td>\n    </tr>\n  </tbody>\n</table>\n<p>45197 rows × 16 columns</p>\n</div>"
     },
     "metadata": {},
     "execution_count": 69
    }
   ],
   "source": [
    "data_jeon_all = pd.concat([data_jeon,yata_jeon,danta_jeon,oata_jeon], ignore_index=True)\n",
    "data_jeon_all"
   ]
  },
  {
   "cell_type": "code",
   "execution_count": 74,
   "metadata": {},
   "outputs": [
    {
     "output_type": "execute_result",
     "data": {
      "text/plain": [
       "     계약년월   계약일   시군구    본번    부번   단지명  전월세구분  전용면적(㎡)  보증금(만원)  월세(만원)  \\\n",
       "계약월                                                                        \n",
       "01   4542  4542  4542  4078  4078  4036   4542     4078     4542    4542   \n",
       "02   4404  4404  4404  3790  3790  3731   4404     3790     4404    4404   \n",
       "03   3446  3446  3446  3060  3060  3020   3446     3060     3446    3446   \n",
       "04   2912  2912  2912  2613  2613  2589   2912     2613     2912    2912   \n",
       "05   3006  3006  3006  2669  2669  2630   3006     2669     3006    3006   \n",
       "06   3346  3346  3346  3019  3019  2995   3346     3019     3346    3346   \n",
       "07   3855  3855  3855  3509  3509  3478   3855     3509     3855    3855   \n",
       "08   3623  3623  3623  3208  3208  3164   3623     3208     3623    3623   \n",
       "09   3689  3689  3689  3400  3400  3365   3689     3400     3689    3689   \n",
       "10   3522  3522  3522  3230  3230  3211   3522     3230     3522    3522   \n",
       "11   4180  4180  4180  3865  3865  3837   4180     3865     4180    4180   \n",
       "12   4672  4672  4672  4151  4151  4113   4672     4151     4672    4672   \n",
       "\n",
       "        층  건축년도     평  건물명  도로조건  계약면적(㎡)  \n",
       "계약월                                        \n",
       "01   4078  4509  4542   42   464      464  \n",
       "02   3790  4380  4404   59   614      614  \n",
       "03   3060  3423  3446   40   386      386  \n",
       "04   2613  2899  2912   24   299      299  \n",
       "05   2669  2987  3006   39   337      337  \n",
       "06   3019  3335  3346   24   327      327  \n",
       "07   3509  3842  3855   31   346      346  \n",
       "08   3208  3594  3623   44   415      415  \n",
       "09   3400  3681  3689   35   289      289  \n",
       "10   3230  3507  3522   19   292      292  \n",
       "11   3865  4164  4180   28   315      315  \n",
       "12   4151  4643  4672   38   521      521  "
      ],
      "text/html": "<div>\n<style scoped>\n    .dataframe tbody tr th:only-of-type {\n        vertical-align: middle;\n    }\n\n    .dataframe tbody tr th {\n        vertical-align: top;\n    }\n\n    .dataframe thead th {\n        text-align: right;\n    }\n</style>\n<table border=\"1\" class=\"dataframe\">\n  <thead>\n    <tr style=\"text-align: right;\">\n      <th></th>\n      <th>계약년월</th>\n      <th>계약일</th>\n      <th>시군구</th>\n      <th>본번</th>\n      <th>부번</th>\n      <th>단지명</th>\n      <th>전월세구분</th>\n      <th>전용면적(㎡)</th>\n      <th>보증금(만원)</th>\n      <th>월세(만원)</th>\n      <th>층</th>\n      <th>건축년도</th>\n      <th>평</th>\n      <th>건물명</th>\n      <th>도로조건</th>\n      <th>계약면적(㎡)</th>\n    </tr>\n    <tr>\n      <th>계약월</th>\n      <th></th>\n      <th></th>\n      <th></th>\n      <th></th>\n      <th></th>\n      <th></th>\n      <th></th>\n      <th></th>\n      <th></th>\n      <th></th>\n      <th></th>\n      <th></th>\n      <th></th>\n      <th></th>\n      <th></th>\n      <th></th>\n    </tr>\n  </thead>\n  <tbody>\n    <tr>\n      <th>01</th>\n      <td>4542</td>\n      <td>4542</td>\n      <td>4542</td>\n      <td>4078</td>\n      <td>4078</td>\n      <td>4036</td>\n      <td>4542</td>\n      <td>4078</td>\n      <td>4542</td>\n      <td>4542</td>\n      <td>4078</td>\n      <td>4509</td>\n      <td>4542</td>\n      <td>42</td>\n      <td>464</td>\n      <td>464</td>\n    </tr>\n    <tr>\n      <th>02</th>\n      <td>4404</td>\n      <td>4404</td>\n      <td>4404</td>\n      <td>3790</td>\n      <td>3790</td>\n      <td>3731</td>\n      <td>4404</td>\n      <td>3790</td>\n      <td>4404</td>\n      <td>4404</td>\n      <td>3790</td>\n      <td>4380</td>\n      <td>4404</td>\n      <td>59</td>\n      <td>614</td>\n      <td>614</td>\n    </tr>\n    <tr>\n      <th>03</th>\n      <td>3446</td>\n      <td>3446</td>\n      <td>3446</td>\n      <td>3060</td>\n      <td>3060</td>\n      <td>3020</td>\n      <td>3446</td>\n      <td>3060</td>\n      <td>3446</td>\n      <td>3446</td>\n      <td>3060</td>\n      <td>3423</td>\n      <td>3446</td>\n      <td>40</td>\n      <td>386</td>\n      <td>386</td>\n    </tr>\n    <tr>\n      <th>04</th>\n      <td>2912</td>\n      <td>2912</td>\n      <td>2912</td>\n      <td>2613</td>\n      <td>2613</td>\n      <td>2589</td>\n      <td>2912</td>\n      <td>2613</td>\n      <td>2912</td>\n      <td>2912</td>\n      <td>2613</td>\n      <td>2899</td>\n      <td>2912</td>\n      <td>24</td>\n      <td>299</td>\n      <td>299</td>\n    </tr>\n    <tr>\n      <th>05</th>\n      <td>3006</td>\n      <td>3006</td>\n      <td>3006</td>\n      <td>2669</td>\n      <td>2669</td>\n      <td>2630</td>\n      <td>3006</td>\n      <td>2669</td>\n      <td>3006</td>\n      <td>3006</td>\n      <td>2669</td>\n      <td>2987</td>\n      <td>3006</td>\n      <td>39</td>\n      <td>337</td>\n      <td>337</td>\n    </tr>\n    <tr>\n      <th>06</th>\n      <td>3346</td>\n      <td>3346</td>\n      <td>3346</td>\n      <td>3019</td>\n      <td>3019</td>\n      <td>2995</td>\n      <td>3346</td>\n      <td>3019</td>\n      <td>3346</td>\n      <td>3346</td>\n      <td>3019</td>\n      <td>3335</td>\n      <td>3346</td>\n      <td>24</td>\n      <td>327</td>\n      <td>327</td>\n    </tr>\n    <tr>\n      <th>07</th>\n      <td>3855</td>\n      <td>3855</td>\n      <td>3855</td>\n      <td>3509</td>\n      <td>3509</td>\n      <td>3478</td>\n      <td>3855</td>\n      <td>3509</td>\n      <td>3855</td>\n      <td>3855</td>\n      <td>3509</td>\n      <td>3842</td>\n      <td>3855</td>\n      <td>31</td>\n      <td>346</td>\n      <td>346</td>\n    </tr>\n    <tr>\n      <th>08</th>\n      <td>3623</td>\n      <td>3623</td>\n      <td>3623</td>\n      <td>3208</td>\n      <td>3208</td>\n      <td>3164</td>\n      <td>3623</td>\n      <td>3208</td>\n      <td>3623</td>\n      <td>3623</td>\n      <td>3208</td>\n      <td>3594</td>\n      <td>3623</td>\n      <td>44</td>\n      <td>415</td>\n      <td>415</td>\n    </tr>\n    <tr>\n      <th>09</th>\n      <td>3689</td>\n      <td>3689</td>\n      <td>3689</td>\n      <td>3400</td>\n      <td>3400</td>\n      <td>3365</td>\n      <td>3689</td>\n      <td>3400</td>\n      <td>3689</td>\n      <td>3689</td>\n      <td>3400</td>\n      <td>3681</td>\n      <td>3689</td>\n      <td>35</td>\n      <td>289</td>\n      <td>289</td>\n    </tr>\n    <tr>\n      <th>10</th>\n      <td>3522</td>\n      <td>3522</td>\n      <td>3522</td>\n      <td>3230</td>\n      <td>3230</td>\n      <td>3211</td>\n      <td>3522</td>\n      <td>3230</td>\n      <td>3522</td>\n      <td>3522</td>\n      <td>3230</td>\n      <td>3507</td>\n      <td>3522</td>\n      <td>19</td>\n      <td>292</td>\n      <td>292</td>\n    </tr>\n    <tr>\n      <th>11</th>\n      <td>4180</td>\n      <td>4180</td>\n      <td>4180</td>\n      <td>3865</td>\n      <td>3865</td>\n      <td>3837</td>\n      <td>4180</td>\n      <td>3865</td>\n      <td>4180</td>\n      <td>4180</td>\n      <td>3865</td>\n      <td>4164</td>\n      <td>4180</td>\n      <td>28</td>\n      <td>315</td>\n      <td>315</td>\n    </tr>\n    <tr>\n      <th>12</th>\n      <td>4672</td>\n      <td>4672</td>\n      <td>4672</td>\n      <td>4151</td>\n      <td>4151</td>\n      <td>4113</td>\n      <td>4672</td>\n      <td>4151</td>\n      <td>4672</td>\n      <td>4672</td>\n      <td>4151</td>\n      <td>4643</td>\n      <td>4672</td>\n      <td>38</td>\n      <td>521</td>\n      <td>521</td>\n    </tr>\n  </tbody>\n</table>\n</div>"
     },
     "metadata": {},
     "execution_count": 74
    }
   ],
   "source": [
    "data_jeon_all['계약년월']=data_jeon_all['계약년월'].astype(str)\n",
    "data_jeon_all['계약월']=data_jeon_all['계약년월'].apply(mon)\n",
    "tt3=data_jeon_all.groupby('계약월').count()\n",
    "tt3"
   ]
  },
  {
   "cell_type": "code",
   "execution_count": 78,
   "metadata": {},
   "outputs": [
    {
     "output_type": "execute_result",
     "data": {
      "text/plain": [
       "       계약년월    계약일    시군구     본번     부번    단지명  전월세구분  전용면적(㎡)  보증금(만원)  \\\n",
       "계약년                                                                       \n",
       "2017  10204  10204  10204   9238   9238   9149  10204     9238    10204   \n",
       "2018   9948   9948   9948   8880   8880   8793   9948     8880     9948   \n",
       "2019  12291  12291  12291  11140  11140  11046  12291    11140    12291   \n",
       "2020  12754  12754  12754  11334  11334  11181  12754    11334    12754   \n",
       "\n",
       "      월세(만원)      층   건축년도      평  건물명  도로조건  계약면적(㎡)    계약월  \n",
       "계약년                                                           \n",
       "2017   10204   9238  10168  10204   89   966      966  10204  \n",
       "2018    9948   8880   9896   9948   87  1068     1068   9948  \n",
       "2019   12291  11140  12222  12291   94  1151     1151  12291  \n",
       "2020   12754  11334  12678  12754  153  1420     1420  12754  "
      ],
      "text/html": "<div>\n<style scoped>\n    .dataframe tbody tr th:only-of-type {\n        vertical-align: middle;\n    }\n\n    .dataframe tbody tr th {\n        vertical-align: top;\n    }\n\n    .dataframe thead th {\n        text-align: right;\n    }\n</style>\n<table border=\"1\" class=\"dataframe\">\n  <thead>\n    <tr style=\"text-align: right;\">\n      <th></th>\n      <th>계약년월</th>\n      <th>계약일</th>\n      <th>시군구</th>\n      <th>본번</th>\n      <th>부번</th>\n      <th>단지명</th>\n      <th>전월세구분</th>\n      <th>전용면적(㎡)</th>\n      <th>보증금(만원)</th>\n      <th>월세(만원)</th>\n      <th>층</th>\n      <th>건축년도</th>\n      <th>평</th>\n      <th>건물명</th>\n      <th>도로조건</th>\n      <th>계약면적(㎡)</th>\n      <th>계약월</th>\n    </tr>\n    <tr>\n      <th>계약년</th>\n      <th></th>\n      <th></th>\n      <th></th>\n      <th></th>\n      <th></th>\n      <th></th>\n      <th></th>\n      <th></th>\n      <th></th>\n      <th></th>\n      <th></th>\n      <th></th>\n      <th></th>\n      <th></th>\n      <th></th>\n      <th></th>\n      <th></th>\n    </tr>\n  </thead>\n  <tbody>\n    <tr>\n      <th>2017</th>\n      <td>10204</td>\n      <td>10204</td>\n      <td>10204</td>\n      <td>9238</td>\n      <td>9238</td>\n      <td>9149</td>\n      <td>10204</td>\n      <td>9238</td>\n      <td>10204</td>\n      <td>10204</td>\n      <td>9238</td>\n      <td>10168</td>\n      <td>10204</td>\n      <td>89</td>\n      <td>966</td>\n      <td>966</td>\n      <td>10204</td>\n    </tr>\n    <tr>\n      <th>2018</th>\n      <td>9948</td>\n      <td>9948</td>\n      <td>9948</td>\n      <td>8880</td>\n      <td>8880</td>\n      <td>8793</td>\n      <td>9948</td>\n      <td>8880</td>\n      <td>9948</td>\n      <td>9948</td>\n      <td>8880</td>\n      <td>9896</td>\n      <td>9948</td>\n      <td>87</td>\n      <td>1068</td>\n      <td>1068</td>\n      <td>9948</td>\n    </tr>\n    <tr>\n      <th>2019</th>\n      <td>12291</td>\n      <td>12291</td>\n      <td>12291</td>\n      <td>11140</td>\n      <td>11140</td>\n      <td>11046</td>\n      <td>12291</td>\n      <td>11140</td>\n      <td>12291</td>\n      <td>12291</td>\n      <td>11140</td>\n      <td>12222</td>\n      <td>12291</td>\n      <td>94</td>\n      <td>1151</td>\n      <td>1151</td>\n      <td>12291</td>\n    </tr>\n    <tr>\n      <th>2020</th>\n      <td>12754</td>\n      <td>12754</td>\n      <td>12754</td>\n      <td>11334</td>\n      <td>11334</td>\n      <td>11181</td>\n      <td>12754</td>\n      <td>11334</td>\n      <td>12754</td>\n      <td>12754</td>\n      <td>11334</td>\n      <td>12678</td>\n      <td>12754</td>\n      <td>153</td>\n      <td>1420</td>\n      <td>1420</td>\n      <td>12754</td>\n    </tr>\n  </tbody>\n</table>\n</div>"
     },
     "metadata": {},
     "execution_count": 78
    }
   ],
   "source": [
    "data_jeon_all['계약년']=data_jeon_all['계약년월'].apply(year)\n",
    "tt3_1=data_jeon_all.groupby('계약년').count()\n",
    "tt3_1"
   ]
  },
  {
   "cell_type": "markdown",
   "metadata": {},
   "source": [
    "### 토지매매 실거래"
   ]
  },
  {
   "cell_type": "code",
   "execution_count": 14,
   "metadata": {
    "ExecuteTime": {
     "end_time": "2021-03-04T03:19:47.322013Z",
     "start_time": "2021-03-04T03:19:47.309048Z"
    }
   },
   "outputs": [],
   "source": [
    "def pyeong2(df):\n",
    "    return int(df/3.3)"
   ]
  },
  {
   "cell_type": "code",
   "execution_count": 15,
   "metadata": {
    "ExecuteTime": {
     "end_time": "2021-03-04T03:19:47.444685Z",
     "start_time": "2021-03-04T03:19:47.327000Z"
    }
   },
   "outputs": [
    {
     "output_type": "execute_result",
     "data": {
      "text/plain": [
       "                   시군구   지목    용도지역  도로조건    계약년월  계약일  계약면적(㎡) 거래금액(만원) 지분구분  \\\n",
       "0      세종특별자치시 전동면 보덕리   임야    농림지역     -  201801    1    331.0    1,050   지분   \n",
       "1      세종특별자치시 전동면 봉대리   임야    농림지역     -  201801    1    330.0    1,190   지분   \n",
       "2      세종특별자치시 전동면 송정리   임야    농림지역     -  201801    1    331.0    1,290   지분   \n",
       "3      세종특별자치시 전동면 송정리   임야    농림지역     -  201801    1   2645.0   10,320   지분   \n",
       "4      세종특별자치시 장군면 은용리   임야    농림지역     -  201801    1   1652.0   11,450   지분   \n",
       "...                ...  ...     ...   ...     ...  ...      ...      ...  ...   \n",
       "35672  세종특별자치시 전의면 신방리  과수원  계획관리지역  8m미만  201712   30    155.0    3,525   지분   \n",
       "35673  세종특별자치시 전의면 신방리  과수원  계획관리지역  8m미만  201712   30    199.0    4,500   지분   \n",
       "35674  세종특별자치시 전의면 신방리  과수원  계획관리지역  8m미만  201712   30    324.0    4,998   지분   \n",
       "35675  세종특별자치시 전의면 신방리  과수원  계획관리지역  8m미만  201712   30     30.0      459   지분   \n",
       "35676  세종특별자치시 장군면 금암리    전  계획관리지역  8m미만  201712   31    364.0   22,000        \n",
       "\n",
       "       해제사유발생일    평  \n",
       "0          NaN  100  \n",
       "1          NaN  100  \n",
       "2          NaN  100  \n",
       "3          NaN  801  \n",
       "4          NaN  500  \n",
       "...        ...  ...  \n",
       "35672      NaN   46  \n",
       "35673      NaN   60  \n",
       "35674      NaN   98  \n",
       "35675      NaN    9  \n",
       "35676      NaN  110  \n",
       "\n",
       "[35677 rows x 11 columns]"
      ],
      "text/html": "<div>\n<style scoped>\n    .dataframe tbody tr th:only-of-type {\n        vertical-align: middle;\n    }\n\n    .dataframe tbody tr th {\n        vertical-align: top;\n    }\n\n    .dataframe thead th {\n        text-align: right;\n    }\n</style>\n<table border=\"1\" class=\"dataframe\">\n  <thead>\n    <tr style=\"text-align: right;\">\n      <th></th>\n      <th>시군구</th>\n      <th>지목</th>\n      <th>용도지역</th>\n      <th>도로조건</th>\n      <th>계약년월</th>\n      <th>계약일</th>\n      <th>계약면적(㎡)</th>\n      <th>거래금액(만원)</th>\n      <th>지분구분</th>\n      <th>해제사유발생일</th>\n      <th>평</th>\n    </tr>\n  </thead>\n  <tbody>\n    <tr>\n      <th>0</th>\n      <td>세종특별자치시 전동면 보덕리</td>\n      <td>임야</td>\n      <td>농림지역</td>\n      <td>-</td>\n      <td>201801</td>\n      <td>1</td>\n      <td>331.0</td>\n      <td>1,050</td>\n      <td>지분</td>\n      <td>NaN</td>\n      <td>100</td>\n    </tr>\n    <tr>\n      <th>1</th>\n      <td>세종특별자치시 전동면 봉대리</td>\n      <td>임야</td>\n      <td>농림지역</td>\n      <td>-</td>\n      <td>201801</td>\n      <td>1</td>\n      <td>330.0</td>\n      <td>1,190</td>\n      <td>지분</td>\n      <td>NaN</td>\n      <td>100</td>\n    </tr>\n    <tr>\n      <th>2</th>\n      <td>세종특별자치시 전동면 송정리</td>\n      <td>임야</td>\n      <td>농림지역</td>\n      <td>-</td>\n      <td>201801</td>\n      <td>1</td>\n      <td>331.0</td>\n      <td>1,290</td>\n      <td>지분</td>\n      <td>NaN</td>\n      <td>100</td>\n    </tr>\n    <tr>\n      <th>3</th>\n      <td>세종특별자치시 전동면 송정리</td>\n      <td>임야</td>\n      <td>농림지역</td>\n      <td>-</td>\n      <td>201801</td>\n      <td>1</td>\n      <td>2645.0</td>\n      <td>10,320</td>\n      <td>지분</td>\n      <td>NaN</td>\n      <td>801</td>\n    </tr>\n    <tr>\n      <th>4</th>\n      <td>세종특별자치시 장군면 은용리</td>\n      <td>임야</td>\n      <td>농림지역</td>\n      <td>-</td>\n      <td>201801</td>\n      <td>1</td>\n      <td>1652.0</td>\n      <td>11,450</td>\n      <td>지분</td>\n      <td>NaN</td>\n      <td>500</td>\n    </tr>\n    <tr>\n      <th>...</th>\n      <td>...</td>\n      <td>...</td>\n      <td>...</td>\n      <td>...</td>\n      <td>...</td>\n      <td>...</td>\n      <td>...</td>\n      <td>...</td>\n      <td>...</td>\n      <td>...</td>\n      <td>...</td>\n    </tr>\n    <tr>\n      <th>35672</th>\n      <td>세종특별자치시 전의면 신방리</td>\n      <td>과수원</td>\n      <td>계획관리지역</td>\n      <td>8m미만</td>\n      <td>201712</td>\n      <td>30</td>\n      <td>155.0</td>\n      <td>3,525</td>\n      <td>지분</td>\n      <td>NaN</td>\n      <td>46</td>\n    </tr>\n    <tr>\n      <th>35673</th>\n      <td>세종특별자치시 전의면 신방리</td>\n      <td>과수원</td>\n      <td>계획관리지역</td>\n      <td>8m미만</td>\n      <td>201712</td>\n      <td>30</td>\n      <td>199.0</td>\n      <td>4,500</td>\n      <td>지분</td>\n      <td>NaN</td>\n      <td>60</td>\n    </tr>\n    <tr>\n      <th>35674</th>\n      <td>세종특별자치시 전의면 신방리</td>\n      <td>과수원</td>\n      <td>계획관리지역</td>\n      <td>8m미만</td>\n      <td>201712</td>\n      <td>30</td>\n      <td>324.0</td>\n      <td>4,998</td>\n      <td>지분</td>\n      <td>NaN</td>\n      <td>98</td>\n    </tr>\n    <tr>\n      <th>35675</th>\n      <td>세종특별자치시 전의면 신방리</td>\n      <td>과수원</td>\n      <td>계획관리지역</td>\n      <td>8m미만</td>\n      <td>201712</td>\n      <td>30</td>\n      <td>30.0</td>\n      <td>459</td>\n      <td>지분</td>\n      <td>NaN</td>\n      <td>9</td>\n    </tr>\n    <tr>\n      <th>35676</th>\n      <td>세종특별자치시 장군면 금암리</td>\n      <td>전</td>\n      <td>계획관리지역</td>\n      <td>8m미만</td>\n      <td>201712</td>\n      <td>31</td>\n      <td>364.0</td>\n      <td>22,000</td>\n      <td></td>\n      <td>NaN</td>\n      <td>110</td>\n    </tr>\n  </tbody>\n</table>\n<p>35677 rows × 11 columns</p>\n</div>"
     },
     "metadata": {},
     "execution_count": 15
    }
   ],
   "source": [
    "tata = pd.read_csv('C:/Users/sopo9/Downloads/SBJ_2102_001/12.세종시_토지(매매)_실거래가.csv')\n",
    "tata[\"평\"]=tata[\"계약면적(㎡)\"].apply(pyeong2)\n",
    "tata"
   ]
  },
  {
   "cell_type": "code",
   "execution_count": 16,
   "metadata": {},
   "outputs": [
    {
     "output_type": "execute_result",
     "data": {
      "text/plain": [
       "         시군구   용도지역   도로조건   계약년월    계약일  계약면적(㎡)  거래금액(만원)   지분구분  해제사유발생일  \\\n",
       "지목                                                                            \n",
       "공원       438    438    438    438    438      438       438    438       34   \n",
       "공장용지     203    203    203    203    203      203       203    203        5   \n",
       "과수원      963    963    963    963    963      963       963    963       25   \n",
       "구거        20     20     20     20     20       20        20     20        0   \n",
       "답       4140   4138   4140   4140   4140     4140      4140   4140       90   \n",
       "대       3244   3238   3244   3244   3244     3244      3244   3244       65   \n",
       "도로      1809   1809   1809   1809   1809     1809      1809   1809       66   \n",
       "목장용지     290    284    290    290    290      290       290    290        3   \n",
       "묘지        17     17     17     17     17       17        17     17        0   \n",
       "수도용지      11     11     11     11     11       11        11     11        0   \n",
       "양어장        4      4      4      4      4        4         4      4        0   \n",
       "유지        17     17     17     17     17       17        17     17        0   \n",
       "임야     20040  20034  20040  20040  20040    20040     20040  20040      274   \n",
       "잡종지      191    191    191    191    191      191       191    191        6   \n",
       "전       4133   4129   4133   4133   4133     4133      4133   4133      111   \n",
       "제방        12     12     12     12     12       12        12     12        0   \n",
       "종교용지       5      5      5      5      5        5         5      5        0   \n",
       "주유소용지      3      3      3      3      3        3         3      3        0   \n",
       "주차장       17     17     17     17     17       17        17     17        0   \n",
       "창고용지      32     32     32     32     32       32        32     32        1   \n",
       "철도용지       6      6      6      6      6        6         6      6        0   \n",
       "하천        64     64     64     64     64       64        64     64        1   \n",
       "학교용지      18     18     18     18     18       18        18     18        0   \n",
       "\n",
       "           평  \n",
       "지목            \n",
       "공원       438  \n",
       "공장용지     203  \n",
       "과수원      963  \n",
       "구거        20  \n",
       "답       4140  \n",
       "대       3244  \n",
       "도로      1809  \n",
       "목장용지     290  \n",
       "묘지        17  \n",
       "수도용지      11  \n",
       "양어장        4  \n",
       "유지        17  \n",
       "임야     20040  \n",
       "잡종지      191  \n",
       "전       4133  \n",
       "제방        12  \n",
       "종교용지       5  \n",
       "주유소용지      3  \n",
       "주차장       17  \n",
       "창고용지      32  \n",
       "철도용지       6  \n",
       "하천        64  \n",
       "학교용지      18  "
      ],
      "text/html": "<div>\n<style scoped>\n    .dataframe tbody tr th:only-of-type {\n        vertical-align: middle;\n    }\n\n    .dataframe tbody tr th {\n        vertical-align: top;\n    }\n\n    .dataframe thead th {\n        text-align: right;\n    }\n</style>\n<table border=\"1\" class=\"dataframe\">\n  <thead>\n    <tr style=\"text-align: right;\">\n      <th></th>\n      <th>시군구</th>\n      <th>용도지역</th>\n      <th>도로조건</th>\n      <th>계약년월</th>\n      <th>계약일</th>\n      <th>계약면적(㎡)</th>\n      <th>거래금액(만원)</th>\n      <th>지분구분</th>\n      <th>해제사유발생일</th>\n      <th>평</th>\n    </tr>\n    <tr>\n      <th>지목</th>\n      <th></th>\n      <th></th>\n      <th></th>\n      <th></th>\n      <th></th>\n      <th></th>\n      <th></th>\n      <th></th>\n      <th></th>\n      <th></th>\n    </tr>\n  </thead>\n  <tbody>\n    <tr>\n      <th>공원</th>\n      <td>438</td>\n      <td>438</td>\n      <td>438</td>\n      <td>438</td>\n      <td>438</td>\n      <td>438</td>\n      <td>438</td>\n      <td>438</td>\n      <td>34</td>\n      <td>438</td>\n    </tr>\n    <tr>\n      <th>공장용지</th>\n      <td>203</td>\n      <td>203</td>\n      <td>203</td>\n      <td>203</td>\n      <td>203</td>\n      <td>203</td>\n      <td>203</td>\n      <td>203</td>\n      <td>5</td>\n      <td>203</td>\n    </tr>\n    <tr>\n      <th>과수원</th>\n      <td>963</td>\n      <td>963</td>\n      <td>963</td>\n      <td>963</td>\n      <td>963</td>\n      <td>963</td>\n      <td>963</td>\n      <td>963</td>\n      <td>25</td>\n      <td>963</td>\n    </tr>\n    <tr>\n      <th>구거</th>\n      <td>20</td>\n      <td>20</td>\n      <td>20</td>\n      <td>20</td>\n      <td>20</td>\n      <td>20</td>\n      <td>20</td>\n      <td>20</td>\n      <td>0</td>\n      <td>20</td>\n    </tr>\n    <tr>\n      <th>답</th>\n      <td>4140</td>\n      <td>4138</td>\n      <td>4140</td>\n      <td>4140</td>\n      <td>4140</td>\n      <td>4140</td>\n      <td>4140</td>\n      <td>4140</td>\n      <td>90</td>\n      <td>4140</td>\n    </tr>\n    <tr>\n      <th>대</th>\n      <td>3244</td>\n      <td>3238</td>\n      <td>3244</td>\n      <td>3244</td>\n      <td>3244</td>\n      <td>3244</td>\n      <td>3244</td>\n      <td>3244</td>\n      <td>65</td>\n      <td>3244</td>\n    </tr>\n    <tr>\n      <th>도로</th>\n      <td>1809</td>\n      <td>1809</td>\n      <td>1809</td>\n      <td>1809</td>\n      <td>1809</td>\n      <td>1809</td>\n      <td>1809</td>\n      <td>1809</td>\n      <td>66</td>\n      <td>1809</td>\n    </tr>\n    <tr>\n      <th>목장용지</th>\n      <td>290</td>\n      <td>284</td>\n      <td>290</td>\n      <td>290</td>\n      <td>290</td>\n      <td>290</td>\n      <td>290</td>\n      <td>290</td>\n      <td>3</td>\n      <td>290</td>\n    </tr>\n    <tr>\n      <th>묘지</th>\n      <td>17</td>\n      <td>17</td>\n      <td>17</td>\n      <td>17</td>\n      <td>17</td>\n      <td>17</td>\n      <td>17</td>\n      <td>17</td>\n      <td>0</td>\n      <td>17</td>\n    </tr>\n    <tr>\n      <th>수도용지</th>\n      <td>11</td>\n      <td>11</td>\n      <td>11</td>\n      <td>11</td>\n      <td>11</td>\n      <td>11</td>\n      <td>11</td>\n      <td>11</td>\n      <td>0</td>\n      <td>11</td>\n    </tr>\n    <tr>\n      <th>양어장</th>\n      <td>4</td>\n      <td>4</td>\n      <td>4</td>\n      <td>4</td>\n      <td>4</td>\n      <td>4</td>\n      <td>4</td>\n      <td>4</td>\n      <td>0</td>\n      <td>4</td>\n    </tr>\n    <tr>\n      <th>유지</th>\n      <td>17</td>\n      <td>17</td>\n      <td>17</td>\n      <td>17</td>\n      <td>17</td>\n      <td>17</td>\n      <td>17</td>\n      <td>17</td>\n      <td>0</td>\n      <td>17</td>\n    </tr>\n    <tr>\n      <th>임야</th>\n      <td>20040</td>\n      <td>20034</td>\n      <td>20040</td>\n      <td>20040</td>\n      <td>20040</td>\n      <td>20040</td>\n      <td>20040</td>\n      <td>20040</td>\n      <td>274</td>\n      <td>20040</td>\n    </tr>\n    <tr>\n      <th>잡종지</th>\n      <td>191</td>\n      <td>191</td>\n      <td>191</td>\n      <td>191</td>\n      <td>191</td>\n      <td>191</td>\n      <td>191</td>\n      <td>191</td>\n      <td>6</td>\n      <td>191</td>\n    </tr>\n    <tr>\n      <th>전</th>\n      <td>4133</td>\n      <td>4129</td>\n      <td>4133</td>\n      <td>4133</td>\n      <td>4133</td>\n      <td>4133</td>\n      <td>4133</td>\n      <td>4133</td>\n      <td>111</td>\n      <td>4133</td>\n    </tr>\n    <tr>\n      <th>제방</th>\n      <td>12</td>\n      <td>12</td>\n      <td>12</td>\n      <td>12</td>\n      <td>12</td>\n      <td>12</td>\n      <td>12</td>\n      <td>12</td>\n      <td>0</td>\n      <td>12</td>\n    </tr>\n    <tr>\n      <th>종교용지</th>\n      <td>5</td>\n      <td>5</td>\n      <td>5</td>\n      <td>5</td>\n      <td>5</td>\n      <td>5</td>\n      <td>5</td>\n      <td>5</td>\n      <td>0</td>\n      <td>5</td>\n    </tr>\n    <tr>\n      <th>주유소용지</th>\n      <td>3</td>\n      <td>3</td>\n      <td>3</td>\n      <td>3</td>\n      <td>3</td>\n      <td>3</td>\n      <td>3</td>\n      <td>3</td>\n      <td>0</td>\n      <td>3</td>\n    </tr>\n    <tr>\n      <th>주차장</th>\n      <td>17</td>\n      <td>17</td>\n      <td>17</td>\n      <td>17</td>\n      <td>17</td>\n      <td>17</td>\n      <td>17</td>\n      <td>17</td>\n      <td>0</td>\n      <td>17</td>\n    </tr>\n    <tr>\n      <th>창고용지</th>\n      <td>32</td>\n      <td>32</td>\n      <td>32</td>\n      <td>32</td>\n      <td>32</td>\n      <td>32</td>\n      <td>32</td>\n      <td>32</td>\n      <td>1</td>\n      <td>32</td>\n    </tr>\n    <tr>\n      <th>철도용지</th>\n      <td>6</td>\n      <td>6</td>\n      <td>6</td>\n      <td>6</td>\n      <td>6</td>\n      <td>6</td>\n      <td>6</td>\n      <td>6</td>\n      <td>0</td>\n      <td>6</td>\n    </tr>\n    <tr>\n      <th>하천</th>\n      <td>64</td>\n      <td>64</td>\n      <td>64</td>\n      <td>64</td>\n      <td>64</td>\n      <td>64</td>\n      <td>64</td>\n      <td>64</td>\n      <td>1</td>\n      <td>64</td>\n    </tr>\n    <tr>\n      <th>학교용지</th>\n      <td>18</td>\n      <td>18</td>\n      <td>18</td>\n      <td>18</td>\n      <td>18</td>\n      <td>18</td>\n      <td>18</td>\n      <td>18</td>\n      <td>0</td>\n      <td>18</td>\n    </tr>\n  </tbody>\n</table>\n</div>"
     },
     "metadata": {},
     "execution_count": 16
    }
   ],
   "source": [
    "tata.groupby('지목').count()"
   ]
  },
  {
   "cell_type": "code",
   "execution_count": 17,
   "metadata": {},
   "outputs": [
    {
     "output_type": "execute_result",
     "data": {
      "text/plain": [
       "             시군구     지목   도로조건   계약년월    계약일  계약면적(㎡)  거래금액(만원)   지분구분  \\\n",
       "용도지역                                                                     \n",
       "개발제한구역       605    605    605    605    605      605       605    605   \n",
       "계획관리지역      8701   8701   8701   8701   8701     8701      8701   8701   \n",
       "관리지역           6      6      6      6      6        6         6      6   \n",
       "근린상업지역         2      2      2      2      2        2         2      2   \n",
       "농림지역       13244  13244  13244  13244  13244    13244     13244  13244   \n",
       "보전관리지역      6968   6968   6968   6968   6968     6968      6968   6968   \n",
       "보전녹지지역       260    260    260    260    260      260       260    260   \n",
       "생산관리지역      1777   1777   1777   1777   1777     1777      1777   1777   \n",
       "생산녹지지역        51     51     51     51     51       51        51     51   \n",
       "용도미지정        534    534    534    534    534      534       534    534   \n",
       "일반공업지역        67     67     67     67     67       67        67     67   \n",
       "일반상업지역        38     38     38     38     38       38        38     38   \n",
       "일반주거지역         1      1      1      1      1        1         1      1   \n",
       "자연녹지지역      1501   1501   1501   1501   1501     1501      1501   1501   \n",
       "자연환경보전        82     82     82     82     82       82        82     82   \n",
       "제1종일반주거지역    223    223    223    223    223      223       223    223   \n",
       "제1종전용주거지역    891    891    891    891    891      891       891    891   \n",
       "제2종일반주거지역    637    637    637    637    637      637       637    637   \n",
       "제2종전용주거지역      2      2      2      2      2        2         2      2   \n",
       "준공업지역         30     30     30     30     30       30        30     30   \n",
       "준주거지역         30     30     30     30     30       30        30     30   \n",
       "중심상업지역         3      3      3      3      3        3         3      3   \n",
       "\n",
       "           해제사유발생일      평  \n",
       "용도지역                       \n",
       "개발제한구역           7    605  \n",
       "계획관리지역         227   8701  \n",
       "관리지역             0      6  \n",
       "근린상업지역           0      2  \n",
       "농림지역           122  13244  \n",
       "보전관리지역         185   6968  \n",
       "보전녹지지역           1    260  \n",
       "생산관리지역          35   1777  \n",
       "생산녹지지역           2     51  \n",
       "용도미지정            2    534  \n",
       "일반공업지역           2     67  \n",
       "일반상업지역           0     38  \n",
       "일반주거지역           0      1  \n",
       "자연녹지지역          36   1501  \n",
       "자연환경보전           0     82  \n",
       "제1종일반주거지역        4    223  \n",
       "제1종전용주거지역       14    891  \n",
       "제2종일반주거지역       12    637  \n",
       "제2종전용주거지역        2      2  \n",
       "준공업지역           12     30  \n",
       "준주거지역            0     30  \n",
       "중심상업지역           0      3  "
      ],
      "text/html": "<div>\n<style scoped>\n    .dataframe tbody tr th:only-of-type {\n        vertical-align: middle;\n    }\n\n    .dataframe tbody tr th {\n        vertical-align: top;\n    }\n\n    .dataframe thead th {\n        text-align: right;\n    }\n</style>\n<table border=\"1\" class=\"dataframe\">\n  <thead>\n    <tr style=\"text-align: right;\">\n      <th></th>\n      <th>시군구</th>\n      <th>지목</th>\n      <th>도로조건</th>\n      <th>계약년월</th>\n      <th>계약일</th>\n      <th>계약면적(㎡)</th>\n      <th>거래금액(만원)</th>\n      <th>지분구분</th>\n      <th>해제사유발생일</th>\n      <th>평</th>\n    </tr>\n    <tr>\n      <th>용도지역</th>\n      <th></th>\n      <th></th>\n      <th></th>\n      <th></th>\n      <th></th>\n      <th></th>\n      <th></th>\n      <th></th>\n      <th></th>\n      <th></th>\n    </tr>\n  </thead>\n  <tbody>\n    <tr>\n      <th>개발제한구역</th>\n      <td>605</td>\n      <td>605</td>\n      <td>605</td>\n      <td>605</td>\n      <td>605</td>\n      <td>605</td>\n      <td>605</td>\n      <td>605</td>\n      <td>7</td>\n      <td>605</td>\n    </tr>\n    <tr>\n      <th>계획관리지역</th>\n      <td>8701</td>\n      <td>8701</td>\n      <td>8701</td>\n      <td>8701</td>\n      <td>8701</td>\n      <td>8701</td>\n      <td>8701</td>\n      <td>8701</td>\n      <td>227</td>\n      <td>8701</td>\n    </tr>\n    <tr>\n      <th>관리지역</th>\n      <td>6</td>\n      <td>6</td>\n      <td>6</td>\n      <td>6</td>\n      <td>6</td>\n      <td>6</td>\n      <td>6</td>\n      <td>6</td>\n      <td>0</td>\n      <td>6</td>\n    </tr>\n    <tr>\n      <th>근린상업지역</th>\n      <td>2</td>\n      <td>2</td>\n      <td>2</td>\n      <td>2</td>\n      <td>2</td>\n      <td>2</td>\n      <td>2</td>\n      <td>2</td>\n      <td>0</td>\n      <td>2</td>\n    </tr>\n    <tr>\n      <th>농림지역</th>\n      <td>13244</td>\n      <td>13244</td>\n      <td>13244</td>\n      <td>13244</td>\n      <td>13244</td>\n      <td>13244</td>\n      <td>13244</td>\n      <td>13244</td>\n      <td>122</td>\n      <td>13244</td>\n    </tr>\n    <tr>\n      <th>보전관리지역</th>\n      <td>6968</td>\n      <td>6968</td>\n      <td>6968</td>\n      <td>6968</td>\n      <td>6968</td>\n      <td>6968</td>\n      <td>6968</td>\n      <td>6968</td>\n      <td>185</td>\n      <td>6968</td>\n    </tr>\n    <tr>\n      <th>보전녹지지역</th>\n      <td>260</td>\n      <td>260</td>\n      <td>260</td>\n      <td>260</td>\n      <td>260</td>\n      <td>260</td>\n      <td>260</td>\n      <td>260</td>\n      <td>1</td>\n      <td>260</td>\n    </tr>\n    <tr>\n      <th>생산관리지역</th>\n      <td>1777</td>\n      <td>1777</td>\n      <td>1777</td>\n      <td>1777</td>\n      <td>1777</td>\n      <td>1777</td>\n      <td>1777</td>\n      <td>1777</td>\n      <td>35</td>\n      <td>1777</td>\n    </tr>\n    <tr>\n      <th>생산녹지지역</th>\n      <td>51</td>\n      <td>51</td>\n      <td>51</td>\n      <td>51</td>\n      <td>51</td>\n      <td>51</td>\n      <td>51</td>\n      <td>51</td>\n      <td>2</td>\n      <td>51</td>\n    </tr>\n    <tr>\n      <th>용도미지정</th>\n      <td>534</td>\n      <td>534</td>\n      <td>534</td>\n      <td>534</td>\n      <td>534</td>\n      <td>534</td>\n      <td>534</td>\n      <td>534</td>\n      <td>2</td>\n      <td>534</td>\n    </tr>\n    <tr>\n      <th>일반공업지역</th>\n      <td>67</td>\n      <td>67</td>\n      <td>67</td>\n      <td>67</td>\n      <td>67</td>\n      <td>67</td>\n      <td>67</td>\n      <td>67</td>\n      <td>2</td>\n      <td>67</td>\n    </tr>\n    <tr>\n      <th>일반상업지역</th>\n      <td>38</td>\n      <td>38</td>\n      <td>38</td>\n      <td>38</td>\n      <td>38</td>\n      <td>38</td>\n      <td>38</td>\n      <td>38</td>\n      <td>0</td>\n      <td>38</td>\n    </tr>\n    <tr>\n      <th>일반주거지역</th>\n      <td>1</td>\n      <td>1</td>\n      <td>1</td>\n      <td>1</td>\n      <td>1</td>\n      <td>1</td>\n      <td>1</td>\n      <td>1</td>\n      <td>0</td>\n      <td>1</td>\n    </tr>\n    <tr>\n      <th>자연녹지지역</th>\n      <td>1501</td>\n      <td>1501</td>\n      <td>1501</td>\n      <td>1501</td>\n      <td>1501</td>\n      <td>1501</td>\n      <td>1501</td>\n      <td>1501</td>\n      <td>36</td>\n      <td>1501</td>\n    </tr>\n    <tr>\n      <th>자연환경보전</th>\n      <td>82</td>\n      <td>82</td>\n      <td>82</td>\n      <td>82</td>\n      <td>82</td>\n      <td>82</td>\n      <td>82</td>\n      <td>82</td>\n      <td>0</td>\n      <td>82</td>\n    </tr>\n    <tr>\n      <th>제1종일반주거지역</th>\n      <td>223</td>\n      <td>223</td>\n      <td>223</td>\n      <td>223</td>\n      <td>223</td>\n      <td>223</td>\n      <td>223</td>\n      <td>223</td>\n      <td>4</td>\n      <td>223</td>\n    </tr>\n    <tr>\n      <th>제1종전용주거지역</th>\n      <td>891</td>\n      <td>891</td>\n      <td>891</td>\n      <td>891</td>\n      <td>891</td>\n      <td>891</td>\n      <td>891</td>\n      <td>891</td>\n      <td>14</td>\n      <td>891</td>\n    </tr>\n    <tr>\n      <th>제2종일반주거지역</th>\n      <td>637</td>\n      <td>637</td>\n      <td>637</td>\n      <td>637</td>\n      <td>637</td>\n      <td>637</td>\n      <td>637</td>\n      <td>637</td>\n      <td>12</td>\n      <td>637</td>\n    </tr>\n    <tr>\n      <th>제2종전용주거지역</th>\n      <td>2</td>\n      <td>2</td>\n      <td>2</td>\n      <td>2</td>\n      <td>2</td>\n      <td>2</td>\n      <td>2</td>\n      <td>2</td>\n      <td>2</td>\n      <td>2</td>\n    </tr>\n    <tr>\n      <th>준공업지역</th>\n      <td>30</td>\n      <td>30</td>\n      <td>30</td>\n      <td>30</td>\n      <td>30</td>\n      <td>30</td>\n      <td>30</td>\n      <td>30</td>\n      <td>12</td>\n      <td>30</td>\n    </tr>\n    <tr>\n      <th>준주거지역</th>\n      <td>30</td>\n      <td>30</td>\n      <td>30</td>\n      <td>30</td>\n      <td>30</td>\n      <td>30</td>\n      <td>30</td>\n      <td>30</td>\n      <td>0</td>\n      <td>30</td>\n    </tr>\n    <tr>\n      <th>중심상업지역</th>\n      <td>3</td>\n      <td>3</td>\n      <td>3</td>\n      <td>3</td>\n      <td>3</td>\n      <td>3</td>\n      <td>3</td>\n      <td>3</td>\n      <td>0</td>\n      <td>3</td>\n    </tr>\n  </tbody>\n</table>\n</div>"
     },
     "metadata": {},
     "execution_count": 17
    }
   ],
   "source": [
    "tata.groupby('용도지역').count()"
   ]
  },
  {
   "cell_type": "code",
   "execution_count": 18,
   "metadata": {},
   "outputs": [
    {
     "output_type": "execute_result",
     "data": {
      "text/plain": [
       "        시군구   지목  용도지역  도로조건  계약년월  계약일  계약면적(㎡)  거래금액(만원)  지분구분  해제사유발생일\n",
       "평                                                                        \n",
       "0       876  876   876   876   876  876      876       876   876       28\n",
       "1       543  543   543   543   543  543      543       543   543       27\n",
       "2       437  437   437   437   437  437      437       437   437       13\n",
       "3       474  474   474   474   474  474      474       474   474       14\n",
       "4       319  319   319   319   319  319      319       319   319        6\n",
       "...     ...  ...   ...   ...   ...  ...      ...       ...   ...      ...\n",
       "42751     1    1     1     1     1    1        1         1     1        0\n",
       "54086     1    1     1     1     1    1        1         1     1        0\n",
       "88999     1    1     1     1     1    1        1         1     1        0\n",
       "91179     1    1     1     1     1    1        1         1     1        0\n",
       "196969    1    1     1     1     1    1        1         1     1        0\n",
       "\n",
       "[1971 rows x 10 columns]"
      ],
      "text/html": "<div>\n<style scoped>\n    .dataframe tbody tr th:only-of-type {\n        vertical-align: middle;\n    }\n\n    .dataframe tbody tr th {\n        vertical-align: top;\n    }\n\n    .dataframe thead th {\n        text-align: right;\n    }\n</style>\n<table border=\"1\" class=\"dataframe\">\n  <thead>\n    <tr style=\"text-align: right;\">\n      <th></th>\n      <th>시군구</th>\n      <th>지목</th>\n      <th>용도지역</th>\n      <th>도로조건</th>\n      <th>계약년월</th>\n      <th>계약일</th>\n      <th>계약면적(㎡)</th>\n      <th>거래금액(만원)</th>\n      <th>지분구분</th>\n      <th>해제사유발생일</th>\n    </tr>\n    <tr>\n      <th>평</th>\n      <th></th>\n      <th></th>\n      <th></th>\n      <th></th>\n      <th></th>\n      <th></th>\n      <th></th>\n      <th></th>\n      <th></th>\n      <th></th>\n    </tr>\n  </thead>\n  <tbody>\n    <tr>\n      <th>0</th>\n      <td>876</td>\n      <td>876</td>\n      <td>876</td>\n      <td>876</td>\n      <td>876</td>\n      <td>876</td>\n      <td>876</td>\n      <td>876</td>\n      <td>876</td>\n      <td>28</td>\n    </tr>\n    <tr>\n      <th>1</th>\n      <td>543</td>\n      <td>543</td>\n      <td>543</td>\n      <td>543</td>\n      <td>543</td>\n      <td>543</td>\n      <td>543</td>\n      <td>543</td>\n      <td>543</td>\n      <td>27</td>\n    </tr>\n    <tr>\n      <th>2</th>\n      <td>437</td>\n      <td>437</td>\n      <td>437</td>\n      <td>437</td>\n      <td>437</td>\n      <td>437</td>\n      <td>437</td>\n      <td>437</td>\n      <td>437</td>\n      <td>13</td>\n    </tr>\n    <tr>\n      <th>3</th>\n      <td>474</td>\n      <td>474</td>\n      <td>474</td>\n      <td>474</td>\n      <td>474</td>\n      <td>474</td>\n      <td>474</td>\n      <td>474</td>\n      <td>474</td>\n      <td>14</td>\n    </tr>\n    <tr>\n      <th>4</th>\n      <td>319</td>\n      <td>319</td>\n      <td>319</td>\n      <td>319</td>\n      <td>319</td>\n      <td>319</td>\n      <td>319</td>\n      <td>319</td>\n      <td>319</td>\n      <td>6</td>\n    </tr>\n    <tr>\n      <th>...</th>\n      <td>...</td>\n      <td>...</td>\n      <td>...</td>\n      <td>...</td>\n      <td>...</td>\n      <td>...</td>\n      <td>...</td>\n      <td>...</td>\n      <td>...</td>\n      <td>...</td>\n    </tr>\n    <tr>\n      <th>42751</th>\n      <td>1</td>\n      <td>1</td>\n      <td>1</td>\n      <td>1</td>\n      <td>1</td>\n      <td>1</td>\n      <td>1</td>\n      <td>1</td>\n      <td>1</td>\n      <td>0</td>\n    </tr>\n    <tr>\n      <th>54086</th>\n      <td>1</td>\n      <td>1</td>\n      <td>1</td>\n      <td>1</td>\n      <td>1</td>\n      <td>1</td>\n      <td>1</td>\n      <td>1</td>\n      <td>1</td>\n      <td>0</td>\n    </tr>\n    <tr>\n      <th>88999</th>\n      <td>1</td>\n      <td>1</td>\n      <td>1</td>\n      <td>1</td>\n      <td>1</td>\n      <td>1</td>\n      <td>1</td>\n      <td>1</td>\n      <td>1</td>\n      <td>0</td>\n    </tr>\n    <tr>\n      <th>91179</th>\n      <td>1</td>\n      <td>1</td>\n      <td>1</td>\n      <td>1</td>\n      <td>1</td>\n      <td>1</td>\n      <td>1</td>\n      <td>1</td>\n      <td>1</td>\n      <td>0</td>\n    </tr>\n    <tr>\n      <th>196969</th>\n      <td>1</td>\n      <td>1</td>\n      <td>1</td>\n      <td>1</td>\n      <td>1</td>\n      <td>1</td>\n      <td>1</td>\n      <td>1</td>\n      <td>1</td>\n      <td>0</td>\n    </tr>\n  </tbody>\n</table>\n<p>1971 rows × 10 columns</p>\n</div>"
     },
     "metadata": {},
     "execution_count": 18
    }
   ],
   "source": [
    "tata.groupby('평').count()"
   ]
  },
  {
   "cell_type": "markdown",
   "metadata": {},
   "source": [
    "### 분양권 실거래가"
   ]
  },
  {
   "cell_type": "code",
   "execution_count": 11,
   "metadata": {
    "ExecuteTime": {
     "end_time": "2021-03-04T03:19:47.474605Z",
     "start_time": "2021-03-04T03:19:47.448675Z"
    }
   },
   "outputs": [],
   "source": [
    "bunta = pd.read_csv('C:/Users/sopo9/Downloads/SBJ_2102_001/13.세종시_분양권_실거래가.csv')\n",
    "bunta[\"평\"]=bunta[\"전용면적(㎡)\"].apply(pyeong)"
   ]
  },
  {
   "cell_type": "code",
   "execution_count": 12,
   "metadata": {},
   "outputs": [
    {
     "output_type": "execute_result",
     "data": {
      "text/plain": [
       "              시군구                   단지명   전용면적(㎡)        거래금액(만원)   층    계약년월  \\\n",
       "0     세종특별자치시 고운동      가락마을 19단지(세종파라곤)  105.6138          37,725   5  201710   \n",
       "1     세종특별자치시 고운동      가락마을 19단지(세종파라곤)   59.6506          22,169   2  201710   \n",
       "2     세종특별자치시 고운동      가락마을 19단지(세종파라곤)   59.6506          22,569  17  201710   \n",
       "3     세종특별자치시 고운동      가락마을 19단지(세종파라곤)   84.9544          33,572  16  201710   \n",
       "4     세종특별자치시 고운동      가락마을 19단지(세종파라곤)   84.9544          32,072  12  201710   \n",
       "...           ...                   ...       ...             ...  ..     ...   \n",
       "7413  세종특별자치시 집현동      세종 하늘채 센트레빌 M5블록   84.4700          41,220  12  202005   \n",
       "7414  세종특별자치시 해밀동  세종 마스터힐스 6-4생활권 L1블록   84.9500          43,954   4  202003   \n",
       "7415  세종특별자치시 해밀동  세종 마스터힐스 6-4생활권 L1블록   59.0000          49,000  12  202007   \n",
       "7416  세종특별자치시 해밀동  세종 마스터힐스 6-4생활권 M1블록  112.8900          84,000   3  202007   \n",
       "7417  세종특별자치시 해밀동  세종 마스터힐스 6-4생활권 M1블록   84.9500          56,672  21  202009   \n",
       "\n",
       "      계약일 분/입구분  해제사유발생일       평  \n",
       "0      11     분      NaN  30~40평  \n",
       "1      13     분      NaN  10~20평  \n",
       "2      13     분      NaN  10~20평  \n",
       "3      14     분      NaN  20~30평  \n",
       "4      14     분      NaN  20~30평  \n",
       "...   ...   ...      ...     ...  \n",
       "7413   18     분      NaN  20~30평  \n",
       "7414    7     분      NaN  20~30평  \n",
       "7415    6     분      NaN  10~20평  \n",
       "7416    9     분      NaN  30~40평  \n",
       "7417   17     분      NaN  20~30평  \n",
       "\n",
       "[7418 rows x 10 columns]"
      ],
      "text/html": "<div>\n<style scoped>\n    .dataframe tbody tr th:only-of-type {\n        vertical-align: middle;\n    }\n\n    .dataframe tbody tr th {\n        vertical-align: top;\n    }\n\n    .dataframe thead th {\n        text-align: right;\n    }\n</style>\n<table border=\"1\" class=\"dataframe\">\n  <thead>\n    <tr style=\"text-align: right;\">\n      <th></th>\n      <th>시군구</th>\n      <th>단지명</th>\n      <th>전용면적(㎡)</th>\n      <th>거래금액(만원)</th>\n      <th>층</th>\n      <th>계약년월</th>\n      <th>계약일</th>\n      <th>분/입구분</th>\n      <th>해제사유발생일</th>\n      <th>평</th>\n    </tr>\n  </thead>\n  <tbody>\n    <tr>\n      <th>0</th>\n      <td>세종특별자치시 고운동</td>\n      <td>가락마을 19단지(세종파라곤)</td>\n      <td>105.6138</td>\n      <td>37,725</td>\n      <td>5</td>\n      <td>201710</td>\n      <td>11</td>\n      <td>분</td>\n      <td>NaN</td>\n      <td>30~40평</td>\n    </tr>\n    <tr>\n      <th>1</th>\n      <td>세종특별자치시 고운동</td>\n      <td>가락마을 19단지(세종파라곤)</td>\n      <td>59.6506</td>\n      <td>22,169</td>\n      <td>2</td>\n      <td>201710</td>\n      <td>13</td>\n      <td>분</td>\n      <td>NaN</td>\n      <td>10~20평</td>\n    </tr>\n    <tr>\n      <th>2</th>\n      <td>세종특별자치시 고운동</td>\n      <td>가락마을 19단지(세종파라곤)</td>\n      <td>59.6506</td>\n      <td>22,569</td>\n      <td>17</td>\n      <td>201710</td>\n      <td>13</td>\n      <td>분</td>\n      <td>NaN</td>\n      <td>10~20평</td>\n    </tr>\n    <tr>\n      <th>3</th>\n      <td>세종특별자치시 고운동</td>\n      <td>가락마을 19단지(세종파라곤)</td>\n      <td>84.9544</td>\n      <td>33,572</td>\n      <td>16</td>\n      <td>201710</td>\n      <td>14</td>\n      <td>분</td>\n      <td>NaN</td>\n      <td>20~30평</td>\n    </tr>\n    <tr>\n      <th>4</th>\n      <td>세종특별자치시 고운동</td>\n      <td>가락마을 19단지(세종파라곤)</td>\n      <td>84.9544</td>\n      <td>32,072</td>\n      <td>12</td>\n      <td>201710</td>\n      <td>14</td>\n      <td>분</td>\n      <td>NaN</td>\n      <td>20~30평</td>\n    </tr>\n    <tr>\n      <th>...</th>\n      <td>...</td>\n      <td>...</td>\n      <td>...</td>\n      <td>...</td>\n      <td>...</td>\n      <td>...</td>\n      <td>...</td>\n      <td>...</td>\n      <td>...</td>\n      <td>...</td>\n    </tr>\n    <tr>\n      <th>7413</th>\n      <td>세종특별자치시 집현동</td>\n      <td>세종 하늘채 센트레빌 M5블록</td>\n      <td>84.4700</td>\n      <td>41,220</td>\n      <td>12</td>\n      <td>202005</td>\n      <td>18</td>\n      <td>분</td>\n      <td>NaN</td>\n      <td>20~30평</td>\n    </tr>\n    <tr>\n      <th>7414</th>\n      <td>세종특별자치시 해밀동</td>\n      <td>세종 마스터힐스 6-4생활권 L1블록</td>\n      <td>84.9500</td>\n      <td>43,954</td>\n      <td>4</td>\n      <td>202003</td>\n      <td>7</td>\n      <td>분</td>\n      <td>NaN</td>\n      <td>20~30평</td>\n    </tr>\n    <tr>\n      <th>7415</th>\n      <td>세종특별자치시 해밀동</td>\n      <td>세종 마스터힐스 6-4생활권 L1블록</td>\n      <td>59.0000</td>\n      <td>49,000</td>\n      <td>12</td>\n      <td>202007</td>\n      <td>6</td>\n      <td>분</td>\n      <td>NaN</td>\n      <td>10~20평</td>\n    </tr>\n    <tr>\n      <th>7416</th>\n      <td>세종특별자치시 해밀동</td>\n      <td>세종 마스터힐스 6-4생활권 M1블록</td>\n      <td>112.8900</td>\n      <td>84,000</td>\n      <td>3</td>\n      <td>202007</td>\n      <td>9</td>\n      <td>분</td>\n      <td>NaN</td>\n      <td>30~40평</td>\n    </tr>\n    <tr>\n      <th>7417</th>\n      <td>세종특별자치시 해밀동</td>\n      <td>세종 마스터힐스 6-4생활권 M1블록</td>\n      <td>84.9500</td>\n      <td>56,672</td>\n      <td>21</td>\n      <td>202009</td>\n      <td>17</td>\n      <td>분</td>\n      <td>NaN</td>\n      <td>20~30평</td>\n    </tr>\n  </tbody>\n</table>\n<p>7418 rows × 10 columns</p>\n</div>"
     },
     "metadata": {},
     "execution_count": 12
    }
   ],
   "source": [
    "bunta"
   ]
  },
  {
   "cell_type": "code",
   "execution_count": 13,
   "metadata": {
    "ExecuteTime": {
     "end_time": "2021-03-04T03:19:47.504525Z",
     "start_time": "2021-03-04T03:19:47.475602Z"
    }
   },
   "outputs": [
    {
     "output_type": "execute_result",
     "data": {
      "text/plain": [
       "         시군구   단지명  전용면적(㎡)  거래금액(만원)     층  계약년월   계약일  분/입구분  해제사유발생일\n",
       "평                                                                      \n",
       "10~20평  1749  1749     1749      1749  1749  1749  1749   1749        0\n",
       "10평 미만    75    75       75        75    75    75    75     75        0\n",
       "20~30평  3712  3712     3712      3712  3712  3712  3712   3712        0\n",
       "30~40평  1866  1866     1866      1866  1866  1866  1866   1866        1\n",
       "40~50평    13    13       13        13    13    13    13     13        0\n",
       "50~60평     2     2        2         2     2     2     2      2        0\n",
       "60평 이상     1     1        1         1     1     1     1      1        0"
      ],
      "text/html": "<div>\n<style scoped>\n    .dataframe tbody tr th:only-of-type {\n        vertical-align: middle;\n    }\n\n    .dataframe tbody tr th {\n        vertical-align: top;\n    }\n\n    .dataframe thead th {\n        text-align: right;\n    }\n</style>\n<table border=\"1\" class=\"dataframe\">\n  <thead>\n    <tr style=\"text-align: right;\">\n      <th></th>\n      <th>시군구</th>\n      <th>단지명</th>\n      <th>전용면적(㎡)</th>\n      <th>거래금액(만원)</th>\n      <th>층</th>\n      <th>계약년월</th>\n      <th>계약일</th>\n      <th>분/입구분</th>\n      <th>해제사유발생일</th>\n    </tr>\n    <tr>\n      <th>평</th>\n      <th></th>\n      <th></th>\n      <th></th>\n      <th></th>\n      <th></th>\n      <th></th>\n      <th></th>\n      <th></th>\n      <th></th>\n    </tr>\n  </thead>\n  <tbody>\n    <tr>\n      <th>10~20평</th>\n      <td>1749</td>\n      <td>1749</td>\n      <td>1749</td>\n      <td>1749</td>\n      <td>1749</td>\n      <td>1749</td>\n      <td>1749</td>\n      <td>1749</td>\n      <td>0</td>\n    </tr>\n    <tr>\n      <th>10평 미만</th>\n      <td>75</td>\n      <td>75</td>\n      <td>75</td>\n      <td>75</td>\n      <td>75</td>\n      <td>75</td>\n      <td>75</td>\n      <td>75</td>\n      <td>0</td>\n    </tr>\n    <tr>\n      <th>20~30평</th>\n      <td>3712</td>\n      <td>3712</td>\n      <td>3712</td>\n      <td>3712</td>\n      <td>3712</td>\n      <td>3712</td>\n      <td>3712</td>\n      <td>3712</td>\n      <td>0</td>\n    </tr>\n    <tr>\n      <th>30~40평</th>\n      <td>1866</td>\n      <td>1866</td>\n      <td>1866</td>\n      <td>1866</td>\n      <td>1866</td>\n      <td>1866</td>\n      <td>1866</td>\n      <td>1866</td>\n      <td>1</td>\n    </tr>\n    <tr>\n      <th>40~50평</th>\n      <td>13</td>\n      <td>13</td>\n      <td>13</td>\n      <td>13</td>\n      <td>13</td>\n      <td>13</td>\n      <td>13</td>\n      <td>13</td>\n      <td>0</td>\n    </tr>\n    <tr>\n      <th>50~60평</th>\n      <td>2</td>\n      <td>2</td>\n      <td>2</td>\n      <td>2</td>\n      <td>2</td>\n      <td>2</td>\n      <td>2</td>\n      <td>2</td>\n      <td>0</td>\n    </tr>\n    <tr>\n      <th>60평 이상</th>\n      <td>1</td>\n      <td>1</td>\n      <td>1</td>\n      <td>1</td>\n      <td>1</td>\n      <td>1</td>\n      <td>1</td>\n      <td>1</td>\n      <td>0</td>\n    </tr>\n  </tbody>\n</table>\n</div>"
     },
     "metadata": {},
     "execution_count": 13
    }
   ],
   "source": [
    "bunta.groupby('평').count()"
   ]
  },
  {
   "source": [],
   "cell_type": "code",
   "metadata": {},
   "execution_count": 68,
   "outputs": []
  }
 ],
 "metadata": {
  "kernelspec": {
   "name": "python3",
   "display_name": "Python 3.8.6 64-bit",
   "metadata": {
    "interpreter": {
     "hash": "4eaeb70a00e9399e0d40e6967724f23f17d131055fb7fba376f95f2092cc3e85"
    }
   }
  },
  "language_info": {
   "codemirror_mode": {
    "name": "ipython",
    "version": 3
   },
   "file_extension": ".py",
   "mimetype": "text/x-python",
   "name": "python",
   "nbconvert_exporter": "python",
   "pygments_lexer": "ipython3",
   "version": "3.8.6-final"
  },
  "toc": {
   "base_numbering": 1,
   "nav_menu": {},
   "number_sections": true,
   "sideBar": true,
   "skip_h1_title": false,
   "title_cell": "Table of Contents",
   "title_sidebar": "Contents",
   "toc_cell": false,
   "toc_position": {},
   "toc_section_display": true,
   "toc_window_display": false
  },
  "varInspector": {
   "cols": {
    "lenName": 16,
    "lenType": 16,
    "lenVar": 40
   },
   "kernels_config": {
    "python": {
     "delete_cmd_postfix": "",
     "delete_cmd_prefix": "del ",
     "library": "var_list.py",
     "varRefreshCmd": "print(var_dic_list())"
    },
    "r": {
     "delete_cmd_postfix": ") ",
     "delete_cmd_prefix": "rm(",
     "library": "var_list.r",
     "varRefreshCmd": "cat(var_dic_list()) "
    }
   },
   "types_to_exclude": [
    "module",
    "function",
    "builtin_function_or_method",
    "instance",
    "_Feature"
   ],
   "window_display": false
  }
 },
 "nbformat": 4,
 "nbformat_minor": 4
}