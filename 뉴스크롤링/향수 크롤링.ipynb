{
 "cells": [
  {
   "cell_type": "code",
   "execution_count": 29,
   "metadata": {
    "ExecuteTime": {
     "end_time": "2021-03-16T08:39:53.193871Z",
     "start_time": "2021-03-16T08:39:51.404975Z"
    }
   },
   "outputs": [
    {
     "name": "stdout",
     "output_type": "stream",
     "text": [
      "Sri lankan cinnamon,  Honey , Patchouli leaf,  Floral notes , "
     ]
    }
   ],
   "source": [
    "from bs4 import BeautifulSoup\n",
    "import requests\n",
    "url='https://www.basenotes.net/ID26163019.html'\n",
    "response = requests.get(url,headers={'User-Agent':'Mozilla/5.0'})\n",
    "soup = BeautifulSoup(response.text, \"html.parser\")\n",
    "result = soup.select(\".dirright50\")\n",
    "r=result[0].text.split(\"\\n\")#.strip().split()\n",
    "a=[]\n",
    "for i in range(2,len(r)):\n",
    "    if r[i] =='' or r[i]== '                                        ':\n",
    "        pass\n",
    "    else:\n",
    "        a.append(r[i])\n",
    "top=a[1].split(',')\n",
    "for i in top:\n",
    "    print(i,end=', ')\n",
    "heart=a[3].split(',')\n",
    "for i in heart:\n",
    "    print(i,end=', ')\n",
    "base=a[5].split(',')\n",
    "#print('top'+top.values)"
   ]
  },
  {
   "cell_type": "code",
   "execution_count": 26,
   "metadata": {
    "ExecuteTime": {
     "end_time": "2021-03-17T01:22:09.251398Z",
     "start_time": "2021-03-17T01:22:08.768384Z"
    }
   },
   "outputs": [
    {
     "name": "stdout",
     "output_type": "stream",
     "text": [
      "\n",
      "×  Forum FragramNewsPerfumes Search Designers Countries Parent Companies Industries Notes Perfumers Search by notes Groups Colors Awards Awards 2020 Awards 2019 Awards 2018 Awards 2017AboutNotesPerfumers Forum FragramAbout (adsbygoogle = window.adsbygoogle || []).push({}); Chanel Coco Mademoisellefemale2001 Yves Saint Laurent La Nuit de l'Hommemale2009 Mugler Alienfemale2005 Christian Dior Hypnotic Poisonfemale1998 Dolce&Gabbana; Light Bluefemale2001 Tom Ford Black Orchidfemale2006 Creed Aventusmale2010 Hermès Terre d'Hermesmale2006 Viktor&Rolf; Flowerbombfemale2005 Christian Dior J'adorefemale1999 Chanel Bleu de Chanelmale2010 Lolita Lempicka Lolita Lempickafemale1997 Tom Ford Tobacco Vanilleunisex2007 Mugler Angelfemale1992 Jean Paul Gaultier Le Male male1995 Giorgio Armani Acqua di Giomale1996 Guerlain Shalimar Eau de Parfumfemale1925 Lalique Encre Noiremale2006 Calvin Klein Euphoriafemale2005 Christian Dior Fahrenheit male1988 Calvin Klein CK Oneunisex1994 Issey Miyake L'Eau d'Issey Pour Hommemale1994 Chloé Chloe Eau de Parfumfemale2008 Versace Crystal Noirfemale2004 Dolce&Gabbana; The One for Menmale2008 Christian Dior Dior Addictfemale2002 Juicy Couture Viva la Juicyfemale2008 Christian Dior Dior Homme Intense 2011male2011 Paco Rabanne 1 Millionmale2008 Lancome La Vie Est Bellefemale2012 Versace Versace Pour Hommemale2008 Britney Spears Fantasyfemale2005 Davidoff Cool Watermale1988 Versace Bright Crystalfemale2006 Narciso Rodriguez Narciso Rodriguez For Herfemale2003 Viktor&Rolf; Spicebombmale2012 Chanel Allure Homme Sportmale2004 Dolce&Gabbana; The Onefemale2006 Christian Dior Sauvagemale2015 Yves Saint Laurent L'Hommemale2006 Versace Versace Man Eau Fraichemale2006 Mugler A*Men Pure Maltmale2009 Chanel Coco Eau de Parfumfemale1984 Serge Lutens Cherguiunisex2005 Mugler A*Men Pure Havanemale2011 Aquolina Pink Sugarfemale2004 Burberry London for Menmale2006 Giorgio Armani Armani Code for Womenfemale2006 Versace Erosmale2012 Yves Saint Laurent Black Opiumfemale2014 Mugler A*Menmale1996 Donna Karan DKNY Be Deliciousfemale2004 Christian Dior Pure Poisonfemale2004 Creed Green Irish Tweedmale1985 Chanel Chance Eau Tendrefemale2010 Jean Paul Gaultier Classiquefemale1993 Marc Jacobs Daisyfemale2007 Prada Prada Candyfemale2011 Christian Dior Poisonfemale1985 Giorgio Armani Armani Codemale2004 Chanel Chanel No 5 Parfumfemale1921 Guerlain Samsara Eau de Parfumfemale1989 Hermès Un Jardin Sur Le Nilunisex2005 Montblanc Individuelmale2003 Nina Ricci Ninafemale2006 Lolita Lempicka L de Lolita Lempickafemale2006 Chanel Chance Eau de Toilettefemale2003 Giorgio Armani Acqua di Giò Profumomale2015 Burberry Burberry Britfemale2003 Britney Spears Midnight Fantasyfemale2006 Chanel Allure Homme Sport Eau Extrememale2012 Christian Dior Miss Dior Cheriefemale2005 Christian Dior Dunefemale1991 Yves Saint Laurent Cinémafemale2004 Giorgio Armani Acqua di Gioiafemale2010 Vera Wang Princessfemale2006 Hugo Boss Boss Bottledmale1998 Armaf Club de Nuit Intense Manmale2015 Van Cleef & Arpels Midnight in Parismale2010 Tauer Perfumes 02 L'Air du Desert Marocainunisex2005 Chanel Egoiste Platinummale1993 Prada Infusion d'Irisfemale2007 Dolce&Gabbana; D&G; Anthology L'Imperatrice 3female2009 Chanel Chance Eau Fraichefemale2007 Bvlgari Blackunisex1998 Tom Ford Oud Woodunisex2007 Gucci Gucci Pour Homme IImale2007 Giorgio Armani Sifemale2013 Guerlain L'Instant de Guerlain pour Homme Eau Extrememale2005 Lancome Hypnôsefemale2005 Kenzo Kenzo Amour female2006 Dolce&Gabbana; The One for Men Eau de Parfummale2015 Kenzo Flower by Kenzofemale2000 Bvlgari Aqva Pour Hommemale2005 Jessica Simpson Fancyfemale2008 Elie Saab Le Parfumfemale2011 Nautica Nautica Voyagemale2006 Lancome Miraclefemale2000 Versace Dreamer The Original Editionmale1996 Mugler Mugler Cologneunisex2001 Lancome Tresorfemale1990 Elizabeth Arden Green Teafemale1999 Chanel Allure Homme Edition Blanchemale2008 Guerlain L'Heure Bleue Eau de Parfumfemale1912 Tom Ford Tuscan Leatherunisex2007 Chanel Coco Noirfemale2012 Creed Virgin Island Waterunisex2007 Cacharel LouLoufemale1987 Givenchy Ange ou Demonfemale2006 Cacharel Anais Anaisfemale1978 Guerlain L'Instant de Guerlainfemale2003 Estée Lauder Pleasuresfemale1995 Sarah Jessica Parker Lovelyfemale2005 Bvlgari Jasmin Noirfemale2008 Davidoff Cool Waterfemale1996 Gucci Gucci Guiltyfemale2010 Christian Dior Midnight Poisonfemale2007 Chanel Allure Hommemale1999 Lanvin Eclat d’Arpègefemale2002 Cacharel Amor Amorfemale2003 Kenzo Kenzo Jungle L'Elephantfemale1996 Guerlain Mon Guerlainfemale2017 Christian Dior Dolce Vitafemale1994 Givenchy Organzafemale1996 Tom Ford Grey Vetivermale2009 Calvin Klein Obsessionfemale1985 Yves Saint Laurent Opium (1977)female1977 Narciso Rodriguez Narciso Rodriguez for Her Eau de Parfumfemale2006 Givenchy Pimale1998 Paco Rabanne Lady Millionfemale2010 Tom Ford Noir de Noir unisex2007 Prada Prada L'Hommemale2016 Creed Millésime Impérialunisex1995 Britney Spears Curiousfemale2004 Frederic Malle Musc Ravageurunisex2000 Hermès Eau des Merveillesfemale2004 Bvlgari Aqva Amaramale2014 Jean Paul Gaultier Ultra Malemale2015 Diptyque Philosykosunisex1996 Guerlain Shalimar Parfum Initialfemale2011 Bvlgari Omnia Crystallinefemale2005 Chanel Bleu de Chanel Eau de Parfummale2014 Lancome Tresor Midnight Rosefemale2011 Jimmy Choo Jimmy Choofemale2011 Paco Rabanne Black XS for Herfemale2007 Amouage Jubilation XXV Manmale2008 Christian Dior Dior Hommemale2011 Chanel Allure Eau de Parfumfemale1999 Chanel Egoistemale1990 Issey Miyake L'eau d'Isseyfemale1992(adsbygoogle = window.adsbygoogle || []).push({}); × Perfume EncyclopediaPerfumes: 64776Fragrance Reviews: 1044887Perfume lovers: 620356Online right now: 1649 RegisterLog inRegister Perfume ReviewsKate Spade Live Colorfullybygtabasso Gwen Stefani Lbygpaisley Keiko Mecheri Myrrhe & Merveillesbytandem_4x4 Ralph Lauren Romance ParfumbyJeremy Lin Christian Dior SauvagebyChrononomicon A Lab on Fire Made in HeavenbyMissAleksandra Giorgio Armani SensibyMadz M Elie Saab Girl of Now ShinebyOrientalVanillaGourmand By Kilian Woman in GoldbySteph_S Kenzo Flower by KenzobyStinkyTinky Tom Ford Black Orchidbyalatchka Elie Saab Girl of Now ForeverbyOrientalVanillaGourmand Hermès Un Jardin Sur Le NilbyLiz-frag Miu Miu Miu Miubygiri-boni The 7 Virtues Vanilla Woodsbybdragonfly12345 New Reviews Article CommentsHermès’ H24 – A Possible Modern Classic?byjovejove Lancôme Rose Peonia and Jasmin D'Eaubypanda-inc Perfume and Beauty in Times of DistressbyMammuchan Gucci Guilty Pour Homme Eau de ParfumbyBackToTheEighties Would You Like To Own The Scent Of Outer Space?byRayRayMcRayRay Moschino Toy 2 Bubble GumbyPalmer Eldritch Lapidus Pour Homme - A Bit Fun, A Bit DatedbyBackToTheEighties Jo Loves Cobalt Patchouli & Cedarbytrevorstilerocks The Emperor’s New Clothes: Is it OK to Lie About Being a Perfumer?bymatfr Essence Rare Houbigant: Long Echo Of The Twentieth CenturybyFlemeth New: Ulrich Lang LethebyXscentrick Dsquared² 2 Woodbymikemuscles21 Erawan Dusita Paris: The Light ForestbyClaire Dessert Different Blue: L'Eau Bleue d'Issey Pour Homme Issey MiyakebyKonga5000 The Return of the Repressed Almond for Me and Sergebysistermoon Perfumed Horoscope: March 15 - March 21byw_nmbo Chanel Chance Eau VivebyCocoLoverForever Yves Saint Laurent Libre Eau De Toilettebyjovejove Givenchy Gentleman Eau de Toilette Intensebyالمكتبة العطرية Agatha Ruiz De La Prada LOOKbyJasminalia  Popular brands and perfumesAcqua di ParmaAlienAmouageArmafAventusAvonBaccarat Rouge 540Black OpiumBlack OrchidBurberryBvlgariBy KilianByredoCalvin KleinCarolina HerreraCartierChanelChloéChristian DiorClub de Nuit Intense ManCoco MademoiselleCreedDiptyqueDolce&GabbanaElizabeth ArdenEstée LauderEtat Libre d'OrangeFrederic MalleGiorgio ArmaniGivenchyGood GirlGucciGuerlainHermèsHugo BossIssey MiyakeJean Paul GaultierJo Malone LondonKenzoL'Artisan ParfumeurLa Vie Est BelleLaliqueLancomeLibreMaison Francis KurkdjianMaison Martin MargielaManceraMarc JacobsMontaleMontblancMuglerNarciso RodriguezNaturaO BoticárioPaco RabanneParfums de MarlyPenhaligon'sPradaRalph LaurenSalvatore FerragamoSauvageSerge LutensTiziana TerenziTobacco VanilleTom FordValentinoVersaceViktor&RolfXerjoffYves RocherYves Saint LaurentZaramoreJump to the topFragrantica in your language:| Deutsch | Español | Français | Italiano | Русский | Polski | Português | Ελληνικά | 汉语 | Nederlands | Srpski | Română | العربية | Українська | Монгол | עברית | Luxois Watches |Beauty Almanac |Copyrights © 2006-2021 Fragrantica.com perfumes magazine - All Rights Reserved - do not copy anything without prior written permission. Please read the Terms of Service and Privacy policy. Fragrantica® Inc, San Diego, CA United States\n"
     ]
    },
    {
     "name": "stdout",
     "output_type": "stream",
     "text": [
      "(adsbygoogle = window.adsbygoogle || []).push({}); Chanel Coco Mademoisellefemale2001 Yves Saint Laurent La Nuit de l'Hommemale2009 Mugler Alienfemale2005 Christian Dior Hypnotic Poisonfemale1998 Dolce&Gabbana; Light Bluefemale2001 Tom Ford Black Orchidfemale2006 Creed Aventusmale2010 Hermès Terre d'Hermesmale2006 Viktor&Rolf; Flowerbombfemale2005 Christian Dior J'adorefemale1999 Chanel Bleu de Chanelmale2010 Lolita Lempicka Lolita Lempickafemale1997 Tom Ford Tobacco Vanilleunisex2007 Mugler Angelfemale1992 Jean Paul Gaultier Le Male male1995 Giorgio Armani Acqua di Giomale1996 Guerlain Shalimar Eau de Parfumfemale1925 Lalique Encre Noiremale2006 Calvin Klein Euphoriafemale2005 Christian Dior Fahrenheit male1988 Calvin Klein CK Oneunisex1994 Issey Miyake L'Eau d'Issey Pour Hommemale1994 Chloé Chloe Eau de Parfumfemale2008 Versace Crystal Noirfemale2004 Dolce&Gabbana; The One for Menmale2008 Christian Dior Dior Addictfemale2002 Juicy Couture Viva la Juicyfemale2008 Christian Dior Dior Homme Intense 2011male2011 Paco Rabanne 1 Millionmale2008 Lancome La Vie Est Bellefemale2012 Versace Versace Pour Hommemale2008 Britney Spears Fantasyfemale2005 Davidoff Cool Watermale1988 Versace Bright Crystalfemale2006 Narciso Rodriguez Narciso Rodriguez For Herfemale2003 Viktor&Rolf; Spicebombmale2012 Chanel Allure Homme Sportmale2004 Dolce&Gabbana; The Onefemale2006 Christian Dior Sauvagemale2015 Yves Saint Laurent L'Hommemale2006 Versace Versace Man Eau Fraichemale2006 Mugler A*Men Pure Maltmale2009 Chanel Coco Eau de Parfumfemale1984 Serge Lutens Cherguiunisex2005 Mugler A*Men Pure Havanemale2011 Aquolina Pink Sugarfemale2004 Burberry London for Menmale2006 Giorgio Armani Armani Code for Womenfemale2006 Versace Erosmale2012 Yves Saint Laurent Black Opiumfemale2014 Mugler A*Menmale1996 Donna Karan DKNY Be Deliciousfemale2004 Christian Dior Pure Poisonfemale2004 Creed Green Irish Tweedmale1985 Chanel Chance Eau Tendrefemale2010 Jean Paul Gaultier Classiquefemale1993 Marc Jacobs Daisyfemale2007 Prada Prada Candyfemale2011 Christian Dior Poisonfemale1985 Giorgio Armani Armani Codemale2004 Chanel Chanel No 5 Parfumfemale1921 Guerlain Samsara Eau de Parfumfemale1989 Hermès Un Jardin Sur Le Nilunisex2005 Montblanc Individuelmale2003 Nina Ricci Ninafemale2006 Lolita Lempicka L de Lolita Lempickafemale2006 Chanel Chance Eau de Toilettefemale2003 Giorgio Armani Acqua di Giò Profumomale2015 Burberry Burberry Britfemale2003 Britney Spears Midnight Fantasyfemale2006 Chanel Allure Homme Sport Eau Extrememale2012 Christian Dior Miss Dior Cheriefemale2005 Christian Dior Dunefemale1991 Yves Saint Laurent Cinémafemale2004 Giorgio Armani Acqua di Gioiafemale2010 Vera Wang Princessfemale2006 Hugo Boss Boss Bottledmale1998 Armaf Club de Nuit Intense Manmale2015 Van Cleef & Arpels Midnight in Parismale2010 Tauer Perfumes 02 L'Air du Desert Marocainunisex2005 Chanel Egoiste Platinummale1993 Prada Infusion d'Irisfemale2007 Dolce&Gabbana; D&G; Anthology L'Imperatrice 3female2009 Chanel Chance Eau Fraichefemale2007 Bvlgari Blackunisex1998 Tom Ford Oud Woodunisex2007 Gucci Gucci Pour Homme IImale2007 Giorgio Armani Sifemale2013 Guerlain L'Instant de Guerlain pour Homme Eau Extrememale2005 Lancome Hypnôsefemale2005 Kenzo Kenzo Amour female2006 Dolce&Gabbana; The One for Men Eau de Parfummale2015 Kenzo Flower by Kenzofemale2000 Bvlgari Aqva Pour Hommemale2005 Jessica Simpson Fancyfemale2008 Elie Saab Le Parfumfemale2011 Nautica Nautica Voyagemale2006 Lancome Miraclefemale2000 Versace Dreamer The Original Editionmale1996 Mugler Mugler Cologneunisex2001 Lancome Tresorfemale1990 Elizabeth Arden Green Teafemale1999 Chanel Allure Homme Edition Blanchemale2008 Guerlain L'Heure Bleue Eau de Parfumfemale1912 Tom Ford Tuscan Leatherunisex2007 Chanel Coco Noirfemale2012 Creed Virgin Island Waterunisex2007 Cacharel LouLoufemale1987 Givenchy Ange ou Demonfemale2006 Cacharel Anais Anaisfemale1978 Guerlain L'Instant de Guerlainfemale2003 Estée Lauder Pleasuresfemale1995 Sarah Jessica Parker Lovelyfemale2005 Bvlgari Jasmin Noirfemale2008 Davidoff Cool Waterfemale1996 Gucci Gucci Guiltyfemale2010 Christian Dior Midnight Poisonfemale2007 Chanel Allure Hommemale1999 Lanvin Eclat d’Arpègefemale2002 Cacharel Amor Amorfemale2003 Kenzo Kenzo Jungle L'Elephantfemale1996 Guerlain Mon Guerlainfemale2017 Christian Dior Dolce Vitafemale1994 Givenchy Organzafemale1996 Tom Ford Grey Vetivermale2009 Calvin Klein Obsessionfemale1985 Yves Saint Laurent Opium (1977)female1977 Narciso Rodriguez Narciso Rodriguez for Her Eau de Parfumfemale2006 Givenchy Pimale1998 Paco Rabanne Lady Millionfemale2010 Tom Ford Noir de Noir unisex2007 Prada Prada L'Hommemale2016 Creed Millésime Impérialunisex1995 Britney Spears Curiousfemale2004 Frederic Malle Musc Ravageurunisex2000 Hermès Eau des Merveillesfemale2004 Bvlgari Aqva Amaramale2014 Jean Paul Gaultier Ultra Malemale2015 Diptyque Philosykosunisex1996 Guerlain Shalimar Parfum Initialfemale2011 Bvlgari Omnia Crystallinefemale2005 Chanel Bleu de Chanel Eau de Parfummale2014 Lancome Tresor Midnight Rosefemale2011 Jimmy Choo Jimmy Choofemale2011 Paco Rabanne Black XS for Herfemale2007 Amouage Jubilation XXV Manmale2008 Christian Dior Dior Hommemale2011 Chanel Allure Eau de Parfumfemale1999 Chanel Egoistemale1990 Issey Miyake L'eau d'Isseyfemale1992(adsbygoogle = window.adsbygoogle || []).push({}); × Perfume EncyclopediaPerfumes: 64776Fragrance Reviews: 1044887Perfume lovers: 620356Online right now: 1649 RegisterLog inRegister Perfume ReviewsKate Spade Live Colorfullybygtabasso Gwen Stefani Lbygpaisley Keiko Mecheri Myrrhe & Merveillesbytandem_4x4 Ralph Lauren Romance ParfumbyJeremy Lin Christian Dior SauvagebyChrononomicon A Lab on Fire Made in HeavenbyMissAleksandra Giorgio Armani SensibyMadz M Elie Saab Girl of Now ShinebyOrientalVanillaGourmand By Kilian Woman in GoldbySteph_S Kenzo Flower by KenzobyStinkyTinky Tom Ford Black Orchidbyalatchka Elie Saab Girl of Now ForeverbyOrientalVanillaGourmand Hermès Un Jardin Sur Le NilbyLiz-frag Miu Miu Miu Miubygiri-boni The 7 Virtues Vanilla Woodsbybdragonfly12345 New Reviews Article CommentsHermès’ H24 – A Possible Modern Classic?byjovejove Lancôme Rose Peonia and Jasmin D'Eaubypanda-inc Perfume and Beauty in Times of DistressbyMammuchan Gucci Guilty Pour Homme Eau de ParfumbyBackToTheEighties Would You Like To Own The Scent Of Outer Space?byRayRayMcRayRay Moschino Toy 2 Bubble GumbyPalmer Eldritch Lapidus Pour Homme - A Bit Fun, A Bit DatedbyBackToTheEighties Jo Loves Cobalt Patchouli & Cedarbytrevorstilerocks The Emperor’s New Clothes: Is it OK to Lie About Being a Perfumer?bymatfr Essence Rare Houbigant: Long Echo Of The Twentieth CenturybyFlemeth New: Ulrich Lang LethebyXscentrick Dsquared² 2 Woodbymikemuscles21 Erawan Dusita Paris: The Light ForestbyClaire Dessert Different Blue: L'Eau Bleue d'Issey Pour Homme Issey MiyakebyKonga5000 The Return of the Repressed Almond for Me and Sergebysistermoon Perfumed Horoscope: March 15 - March 21byw_nmbo Chanel Chance Eau VivebyCocoLoverForever Yves Saint Laurent Libre Eau De Toilettebyjovejove Givenchy Gentleman Eau de Toilette Intensebyالمكتبة العطرية Agatha Ruiz De La Prada LOOKbyJasminalia  Popular brands and perfumesAcqua di ParmaAlienAmouageArmafAventusAvonBaccarat Rouge 540Black OpiumBlack OrchidBurberryBvlgariBy KilianByredoCalvin KleinCarolina HerreraCartierChanelChloéChristian DiorClub de Nuit Intense ManCoco MademoiselleCreedDiptyqueDolce&GabbanaElizabeth ArdenEstée LauderEtat Libre d'OrangeFrederic MalleGiorgio ArmaniGivenchyGood GirlGucciGuerlainHermèsHugo BossIssey MiyakeJean Paul GaultierJo Malone LondonKenzoL'Artisan ParfumeurLa Vie Est BelleLaliqueLancomeLibreMaison Francis KurkdjianMaison Martin MargielaManceraMarc JacobsMontaleMontblancMuglerNarciso RodriguezNaturaO BoticárioPaco RabanneParfums de MarlyPenhaligon'sPradaRalph LaurenSalvatore FerragamoSauvageSerge LutensTiziana TerenziTobacco VanilleTom FordValentinoVersaceViktor&RolfXerjoffYves RocherYves Saint LaurentZaramoreJump to the topFragrantica in your language:| Deutsch | Español | Français | Italiano | Русский | Polski | Português | Ελληνικά | 汉语 | Nederlands | Srpski | Română | العربية | Українська | Монгол | עברית | Luxois Watches |Beauty Almanac |Copyrights © 2006-2021 Fragrantica.com perfumes magazine - All Rights Reserved - do not copy anything without prior written permission. Please read the Terms of Service and Privacy policy. Fragrantica® Inc, San Diego, CA United States"
     ]
    },
    {
     "name": "stdout",
     "output_type": "stream",
     "text": [
      "\n",
      " Chanel Coco Mademoisellefemale2001 Yves Saint Laurent La Nuit de l'Hommemale2009 Mugler Alienfemale2005 Christian Dior Hypnotic Poisonfemale1998 Dolce&Gabbana; Light Bluefemale2001 Tom Ford Black Orchidfemale2006 Creed Aventusmale2010 Hermès Terre d'Hermesmale2006 Viktor&Rolf; Flowerbombfemale2005 Christian Dior J'adorefemale1999 Chanel Bleu de Chanelmale2010 Lolita Lempicka Lolita Lempickafemale1997 Tom Ford Tobacco Vanilleunisex2007 Mugler Angelfemale1992 Jean Paul Gaultier Le Male male1995 Giorgio Armani Acqua di Giomale1996 Guerlain Shalimar Eau de Parfumfemale1925 Lalique Encre Noiremale2006 Calvin Klein Euphoriafemale2005 Christian Dior Fahrenheit male1988 Calvin Klein CK Oneunisex1994 Issey Miyake L'Eau d'Issey Pour Hommemale1994 Chloé Chloe Eau de Parfumfemale2008 Versace Crystal Noirfemale2004 Dolce&Gabbana; The One for Menmale2008 Christian Dior Dior Addictfemale2002 Juicy Couture Viva la Juicyfemale2008 Christian Dior Dior Homme Intense 2011male2011 Paco Rabanne 1 Millionmale2008 Lancome La Vie Est Bellefemale2012 Versace Versace Pour Hommemale2008 Britney Spears Fantasyfemale2005 Davidoff Cool Watermale1988 Versace Bright Crystalfemale2006 Narciso Rodriguez Narciso Rodriguez For Herfemale2003 Viktor&Rolf; Spicebombmale2012 Chanel Allure Homme Sportmale2004 Dolce&Gabbana; The Onefemale2006 Christian Dior Sauvagemale2015 Yves Saint Laurent L'Hommemale2006 Versace Versace Man Eau Fraichemale2006 Mugler A*Men Pure Maltmale2009 Chanel Coco Eau de Parfumfemale1984 Serge Lutens Cherguiunisex2005 Mugler A*Men Pure Havanemale2011 Aquolina Pink Sugarfemale2004 Burberry London for Menmale2006 Giorgio Armani Armani Code for Womenfemale2006 Versace Erosmale2012 Yves Saint Laurent Black Opiumfemale2014 Mugler A*Menmale1996 Donna Karan DKNY Be Deliciousfemale2004 Christian Dior Pure Poisonfemale2004 Creed Green Irish Tweedmale1985 Chanel Chance Eau Tendrefemale2010 Jean Paul Gaultier Classiquefemale1993 Marc Jacobs Daisyfemale2007 Prada Prada Candyfemale2011 Christian Dior Poisonfemale1985 Giorgio Armani Armani Codemale2004 Chanel Chanel No 5 Parfumfemale1921 Guerlain Samsara Eau de Parfumfemale1989 Hermès Un Jardin Sur Le Nilunisex2005 Montblanc Individuelmale2003 Nina Ricci Ninafemale2006 Lolita Lempicka L de Lolita Lempickafemale2006 Chanel Chance Eau de Toilettefemale2003 Giorgio Armani Acqua di Giò Profumomale2015 Burberry Burberry Britfemale2003 Britney Spears Midnight Fantasyfemale2006 Chanel Allure Homme Sport Eau Extrememale2012 Christian Dior Miss Dior Cheriefemale2005 Christian Dior Dunefemale1991 Yves Saint Laurent Cinémafemale2004 Giorgio Armani Acqua di Gioiafemale2010 Vera Wang Princessfemale2006 Hugo Boss Boss Bottledmale1998 Armaf Club de Nuit Intense Manmale2015 Van Cleef & Arpels Midnight in Parismale2010 Tauer Perfumes 02 L'Air du Desert Marocainunisex2005 Chanel Egoiste Platinummale1993 Prada Infusion d'Irisfemale2007 Dolce&Gabbana; D&G; Anthology L'Imperatrice 3female2009 Chanel Chance Eau Fraichefemale2007 Bvlgari Blackunisex1998 Tom Ford Oud Woodunisex2007 Gucci Gucci Pour Homme IImale2007 Giorgio Armani Sifemale2013 Guerlain L'Instant de Guerlain pour Homme Eau Extrememale2005 Lancome Hypnôsefemale2005 Kenzo Kenzo Amour female2006 Dolce&Gabbana; The One for Men Eau de Parfummale2015 Kenzo Flower by Kenzofemale2000 Bvlgari Aqva Pour Hommemale2005 Jessica Simpson Fancyfemale2008 Elie Saab Le Parfumfemale2011 Nautica Nautica Voyagemale2006 Lancome Miraclefemale2000 Versace Dreamer The Original Editionmale1996 Mugler Mugler Cologneunisex2001 Lancome Tresorfemale1990 Elizabeth Arden Green Teafemale1999 Chanel Allure Homme Edition Blanchemale2008 Guerlain L'Heure Bleue Eau de Parfumfemale1912 Tom Ford Tuscan Leatherunisex2007 Chanel Coco Noirfemale2012 Creed Virgin Island Waterunisex2007 Cacharel LouLoufemale1987 Givenchy Ange ou Demonfemale2006 Cacharel Anais Anaisfemale1978 Guerlain L'Instant de Guerlainfemale2003 Estée Lauder Pleasuresfemale1995 Sarah Jessica Parker Lovelyfemale2005 Bvlgari Jasmin Noirfemale2008 Davidoff Cool Waterfemale1996 Gucci Gucci Guiltyfemale2010 Christian Dior Midnight Poisonfemale2007 Chanel Allure Hommemale1999 Lanvin Eclat d’Arpègefemale2002 Cacharel Amor Amorfemale2003 Kenzo Kenzo Jungle L'Elephantfemale1996 Guerlain Mon Guerlainfemale2017 Christian Dior Dolce Vitafemale1994 Givenchy Organzafemale1996 Tom Ford Grey Vetivermale2009 Calvin Klein Obsessionfemale1985 Yves Saint Laurent Opium (1977)female1977 Narciso Rodriguez Narciso Rodriguez for Her Eau de Parfumfemale2006 Givenchy Pimale1998 Paco Rabanne Lady Millionfemale2010 Tom Ford Noir de Noir unisex2007 Prada Prada L'Hommemale2016 Creed Millésime Impérialunisex1995 Britney Spears Curiousfemale2004 Frederic Malle Musc Ravageurunisex2000 Hermès Eau des Merveillesfemale2004 Bvlgari Aqva Amaramale2014 Jean Paul Gaultier Ultra Malemale2015 Diptyque Philosykosunisex1996 Guerlain Shalimar Parfum Initialfemale2011 Bvlgari Omnia Crystallinefemale2005 Chanel Bleu de Chanel Eau de Parfummale2014 Lancome Tresor Midnight Rosefemale2011 Jimmy Choo Jimmy Choofemale2011 Paco Rabanne Black XS for Herfemale2007 Amouage Jubilation XXV Manmale2008 Christian Dior Dior Hommemale2011 Chanel Allure Eau de Parfumfemale1999 Chanel Egoistemale1990 Issey Miyake L'eau d'Isseyfemale1992\n"
     ]
    }
   ],
   "source": [
    "from bs4 import BeautifulSoup\n",
    "import requests\n",
    "url='https://www.fragrantica.com/search/?'\n",
    "response = requests.get(url,headers={'User-Agent':'Mozilla/5.0'})\n",
    "soup = BeautifulSoup(response.text, \"html.parser\")\n",
    "soup\n",
    "result = soup.select(\"tbody\")\n",
    "for i in result:\n",
    "    print(i.text.replace('\\n',''))"
   ]
  },
  {
   "cell_type": "code",
   "execution_count": null,
   "metadata": {},
   "outputs": [],
   "source": [
    "from bs4 import BeautifulSoup\n",
    "import requests\n",
    "for i in range(1,56):\n",
    "    url=\"https://www.basenotes.net/fragrancedirectory/?launch1=2021&launch=3&p=\"+str(i)\n",
    "    response = requests.get(url,headers={'User-Agent':'Mozilla/5.0'})\n",
    "    soup = BeautifulSoup(response.text, \"html.parser\")\n",
    "    result = soup.select(\"tbody\")"
   ]
  },
  {
   "cell_type": "code",
   "execution_count": null,
   "metadata": {},
   "outputs": [],
   "source": [
    "### 뷰티풀 숲 추추 ###\n",
    "from bs4 import BeautifulSoup\n",
    "import requests"
   ]
  },
  {
   "cell_type": "code",
   "execution_count": 51,
   "metadata": {
    "ExecuteTime": {
     "end_time": "2021-03-17T02:48:24.096612Z",
     "start_time": "2021-03-17T02:45:43.049608Z"
    }
   },
   "outputs": [],
   "source": [
    "url=\"https://www.basenotes.net/fragrancedirectory/?launch1=2020&launch=1&p=1\"\n",
    "response = requests.get(url,headers={'User-Agent':'Mozilla/5.0'})\n",
    "soup = BeautifulSoup(response.text, \"html.parser\")\n",
    "result = soup.find_all(attrs={'valign':'top'})\n",
    "a=[]\n",
    "for i in result:\n",
    "    try:\n",
    "        url=i.find('a')[\"href\"]\n",
    "        response = requests.get(url,headers={'User-Agent':'Mozilla/5.0'})\n",
    "        soup = BeautifulSoup(response.text, \"html.parser\")\n",
    "        product_name=soup.find_all(attrs={'itemprop':'name'})\n",
    "        brand_name=soup.find_all(attrs={'itemprop':'brand manufacturer'})\n",
    "        print(product_name.text,brand_name.text)\n",
    "    except:\n",
    "        pass"
   ]
  },
  {
   "cell_type": "code",
   "execution_count": 74,
   "metadata": {
    "ExecuteTime": {
     "end_time": "2021-03-17T04:19:43.805787Z",
     "start_time": "2021-03-17T04:17:05.954023Z"
    }
   },
   "outputs": [
    {
     "name": "stdout",
     "output_type": "stream",
     "text": [
      "product_name :   Tempo Rubato Extrait de Parfum brand_name :  Maher Olfactive\n",
      "Apricot, Plum, Neroli, Petitgrain, Orange blossom absolute, Rose otto absolute, Narcissus absolute, Jasmine grandiflorum absolute, Galbanum, Orris butter, Benzoin, Leather, Musk\n",
      "product_name :  1 Million Parfum brand_name :  Paco Rabanne\n",
      "rating : 2.6\n",
      "Floral notes, Salty skin, Amber, Leather\n",
      "I'll still give it a chance through longer usage, to see if my opinion changes about it, but for now, i'd rate this as a strong pass. a try and it just doesn't do it for me, the smell doesn't really catch your attention and I've had zero hit's from the ladies with this version.\n",
      "It's 5:30am the next morning and as I type this \"review\", although, it should be considered to the reader as a WARNING, I can STILL smell this crap on my hand. I am leaving it there until my shower, as a warning to my self and everyone, who might read this: STAY AWAY FROM THIS CASTASTROPHE. Quite possibly, the worst perfume I have ever experienced in my life.T, I get up and scrub the back of my hand with soap and scalding hot water. While this doesn't really remove the stench, it did allow my extreme fatigue to win a short-lived battle against the onslaught of wretched fumes.\n",
      "The beginning of this spring is quite well done and quite interesting, but later in it just becomes so egregiously generic in an overly synthetic manner.  Overall 2.75/5e note, which is sweet due to some creamy vanilla still, yet carries with it touches of labdanum. There is a nonspecific woodsiness to it towards the end.  \n",
      "1 Million Parfum is not aquatic nor conventionally fresh, so if you're looking for that, stick with something blue. Considering Absolutely Gold was sold in the Middle East and 1 Million Intense was made a unicorn in short order after it's run was stopped, I'd not give high hopes to 1 Million Parfum staying available for long, especially with it being tuberose, sunscreen, beach sand, and a suede handbag in a bottle. Fans of stuff like Jil Sander Sun (2002) may see this as a throwback to when beachy masculines were common, and Dolce & Gabanna also tried something like this recently with Light Blue Sun for Men (2019), but not with same conviction. 1 Million Parfum is a fragrance that feels like its made either for or to channel the aesthetic of a rich playboy who can still afford extravagant vacations to Ibiza or the Polynesians in 2020, which admittedly feels a bit too socially-oblvious even for a gaudy designer like Paco Rabanne, but folks in this industry aren't known to be aware of the Human condition, or their 2020 perfume releases would all smell of turmoil, climate change, pandemics, police brutality and a political slide into authoritarianism. If you need something to help you forget all that, maybe 1 Million Parfum is just the kind of medicine you need. I think the stuff is interesting and fun to wear but I'm not sure 1 Million Parfum is going to sway anyone not already on board with bottles shaped like gold bars to the line, depsite it's niche-like conceptual construction. Thumbs up.ious caveats. \n",
      "Other than both scents being sweet, this seems to be something quite different from the original.  Not as loud as the original but it does project during the first few hours very nicely. It's also the more smooth and rounded scent. The beach+florals scent is what really sets this apart from the original. Lasts for 2-3 hours and then you get a soft, amber-vanilla that lasts for many more hours but much closer to skin. It's very unisex to me.\n",
      "product_name :  1881 Silver brand_name :  Cerruti\n",
      "Top Notes                                        Ginger, Lemon, Basil, Coriander, Clary sage Heart Notes                                        Lavender, Geranium, Pineapple Base notes                                        Amberwood, Patchouli, Oakmoss \n",
      "product_name :  1902 Lagon & Fleur de Tiaré brand_name :  Berdoues\n",
      "Top Notes                                        Tiaré, Orange blossom, Coconut Heart Notes                                        White flowers, Exotic fruits Base notes                                        Vanilla, Sandalwood \n",
      "product_name :  1902 Orange Fizz brand_name :  Berdoues\n",
      "Top Notes                                        Orange, Mandarin, Clementine Heart Notes                                        Orange blossom, Freesia Base notes                                        Amber, Cedarwood, White musk \n",
      "product_name :  1920 The Origin Eau de Toilette brand_name :  Tous\n",
      "Top Notes                                        Grapefruit, Sage, Cardamom Heart Notes                                        Ceylon cinnamon, Geranium, Aquatic notes Base notes                                        Vetiver, Amber, Guaiac wood \n",
      "After the initial citrus blast opening settles, it becomes difficult to smell, low projection.  Also, longevity is not good, maybe 4 hours. fade and a soft, unisex floral that reminds me of CK One appears.\n",
      "product_name :  1979 New Wave brand_name :  Les Bains Guerbois\n",
      "Top Notes                                        Spearmint, Peppermint, Aldehydes Heart Notes                                        Iris concrete, Virginia cedarwood Base notes                                        Australian sandalwood, Musk, Amber wood \n",
      "product_name :  20/20 brand_name :  J.F. Schwarzlose\n",
      "Rose, Benzoin, Patchouli, Amber wood, Pink pepper, Geranium bourbon\n",
      "At the time of writing 20/20 is one of the finalists in the Indy category of the Art and Olfaction Awards 2020. No comment.     nal.  glam, excess and irreverence of the Roaring 1920s  with a contemporary interpretation but of course. All of which seems to be the fig leaf behind which one hides a rather insipid creation in which a strangely mentholated rose and geranium accord is matched with a watery patchouli. Powerful shades rendered in dilute water colour it would seem  the whole thing has an excess of gauziness about it, whether achieved  by laundry musks or other aromachemicals, rendering its initial impression on this wearer as a prolonged fadeout. Theres a homeopathic sprinkling of spice in the mix, an attempt to warm this poor things wispy little corpus.\n",
      "product_name :  2018 Roxo Tonic brand_name :  Les Bains Guerbois\n",
      "Top Notes                                        Bergamot, Lemon, Ginger Heart Notes                                        Gentian, Neroli, Tea Base notes                                        Haitian vetiver, Ambroxan, Musk \n",
      " This starts really well, with lovely notes of candied lemon, neroli, and vetiver-- very fresh and somewhat austere. The citrus notes fade fairly quickly though, leaving the ginger and vetiver to persist. If the citrus would hang around longer it could be truly great.\n",
      "product_name :  2020 The Year of the Sugar Mouse brand_name :  4160 Tuesdays\n",
      "Cinder toffee, Saffron, Blood orange\n",
      "Sugary sweetness à la Cinder Toffee, warm, delicious; spicy aromatic saffron (one of my favorite notes ever); sweet, juicy exotic blood orange. Lovely and delicious. I can't stop smelling my wrists. I also want cinder toffee now haha\n",
      "product_name :  2030 Verbena Crush brand_name :  Courrèges\n",
      "Top Notes                                        Calamansi lemon Heart Notes                                        Verbena Base notes                                        Vetiver \n",
      "product_name :  2040 Nectar Tonka brand_name :  Courrèges\n",
      "Top Notes                                        Bitter orange Heart Notes                                        Sichuan pepper Base notes                                        Tonka bean \n",
      "product_name :  2050 Berrie Flash brand_name :  Courrèges\n",
      "Top Notes                                        Juniper berry Heart Notes                                        Bay leaf Base notes                                        Cypress \n",
      "product_name :  2060 Cedar Pulp brand_name :  Courrèges\n",
      "Top Notes                                        Neroli Heart Notes                                        Almond, Basil Base notes                                        Cedarwood \n",
      "product_name :  21 Conduit St brand_name :  Jovoy\n",
      "Top Notes                                        Lavender, Bergamot, Grapefruit, Rhubarb Heart Notes                                        Almond, Fir balsam Base notes                                        Woods, Ambroxan, Java vetiver, Tonka bean \n",
      "I give this scent credit for working far better on my skin than on the smelling strip, but I can't say I'd ever seek it out to wear again. If it's lavender I want, I'll turn to stalwarts like Pour un Homme and Jicky, or to Antonio Gardoni's magisterial MEM, thank you.ovoy pyramid). While theres no mention of it in Jovoys advertised pyramid,  I do detect a smattering of vetiver lain over the fougere foundation. Besides that, I get a fleeting hint of tart rhubarb, but honestly speaking, not much else. It certainly doesn't offend, but then it does not inspire, either.\n",
      "product_name :  44 Gerrard Street brand_name :  Atkinsons\n",
      "Top Notes                                        Eucalyptus, Lime, Ginger Heart Notes                                        Jasmine, Orchid, Rose Base notes                                        Amber, Woods \n",
      "product_name :  4711 Remix Cologne 2020 brand_name :  4711\n",
      "Top Notes                                        Italian lemon, Shiso, Yuzu Heart Notes                                        Violet, Solar accord, Rose, Orange blossom Base notes                                        Patchouli, White musk, Amber wood \n",
      "product_name :  5th Avenue brand_name :  Strada Parfumerie\n",
      "Top Notes                                        Jasmine, Saffron Heart Notes                                        Amber, Caramel Base notes                                        Oakmoss, Oud \n",
      "product_name :  7753 Unexpected Mona brand_name :  Histoires de Parfums\n",
      "Top Notes                                        Italian bergamot, Ivy, Ma khaen berry Heart Notes                                        Tuberose, Barbary fig, Heliotrope Base notes                                        Vetiver, Sandalwood, Oakmoss \n",
      "product_name :  A Blvd. Called Sunset brand_name :  A Lab on Fire\n",
      "Top Notes                                        Bergamot, Almond Heart Notes                                        Violet, Jasmine, Leather accord Base notes                                        Sandalwood, Madagascan vanilla, Tonka bean \n",
      "product_name :  A Scent Called Home brand_name :  Smell Bent\n",
      "Aged amber, Chai spices, Orange peel, Mahogany\n",
      "product_name :  A Whiff of Waffle Cone brand_name :  Imaginary Authors\n",
      "Vanilla, Cream, Salted caramel, Amyris, Almond syrup, Cinnamon, Ice cream shoppe\n",
      "product_name :  A/Embers (Heirloom Elixir no.15) brand_name :  Dawn Spencer Hurwitz\n",
      "Amber, Ambergris, Angelica, Birch tar, Bourbon vanilla, Bulgarian rose absolute, Bulgarian rose otto, Castoreum, Ciste absolute, East indian patchouli, Elemi, Fossilized amber resin, Frankincense co2 absolute, Grandiflorum jasmine, Labdanum, Myrrh gum, Oakwood co2, Orris concrete, Pine needle, Siam benzoin, Spice notes, Texas cedarwood\n",
      "product_name :  Absolu Tiaré brand_name :  Acorelle\n",
      "Top Notes                                        Tiare flower, Mandarin, Petitgrain Heart Notes                                        Ylang Ylang, Orange blossom, Frangipani Base notes                                        Vanilla, Caramel, Peach, Coconut \n",
      "product_name :  Accord Particulier brand_name :  Givenchy\n",
      "Rose, Patchouli, Vetiver, Ambroxan\n",
      "product_name :  Acqua di Giò Profondo brand_name :  Giorgio Armani\n",
      "rating : 3.6470588235294\n",
      "Top Notes                                        Green mandarin, Bergamot, Marine notes Heart Notes                                        Rosemary, Lavender, Cypress, Lentisque Base notes                                        Patchouli, Musk, Mineral amber \n",
      "YMMVs NOT a bad fragrance by any means and I would happily wear it but personal preference as a man approaching 40 would be to stick with Profumo.t to complete a collection.sent. However, I don't personally think that there is really a need for this fragrance. \n",
      "Ok.  This smells not too bad.  I was very disappointed at first.   It is very raw green antiseptic through the first two hours and smells as if it were inspired by some of the finer floor cleansing products such as Mr. Clean or Simple Green, or a quality laundry detergent pod.  But, after a few hours the Armani AdG oceanic spray effect starts to take over and it's . . .  I'll give it an OK.  The first half of the scent is thumbs down for me and the second half is better - approaching thumbs up, so I've revised my rating to meh!  Just not worth going beyond with description - test it before blind buying.\n",
      "I guess this is Acqua di Gio's answer to Blue de Chanel and Sauvage. It's not a bad scent, but it's just not original. I initially got a decent aquatic vibe from the original spray. The musk note kicks in during the base of this one. Nothing to write home about, but a decent fragrance nontheless.\n",
      "subjective impression 7/10_lso very well known DNA. Regardless, I'm rating it positively. s overworn as it is, which makes Profondo flanker very redundant albeit exquisitely well done. AdG Profondo is a very good, universal frag for the summer, but it'll not smell unique or \"new\".\n",
      "Projection is good and can be cloying if over-applied. Longevity is decent, maybe 6-7 hours. Polo Blue. Very fresh and clean. Super versatile and pleasing. \n",
      "Slightly better sillage and longevity I think. Anyways, it's very nice, and seems like a pretty straight-forward more modern reiteration of the original all the way through. Good stuff Profumo (despite the similar looking bottle).\n",
      "product_name :  Adrenaline and Scorched Earth brand_name :  Dawn Spencer Hurwitz\n",
      "Ambergris, Amyris, Birch tar, Brown oakmoss, Bulgarian rose absolute, Cade, Charcoal accord, Choya ral, Coriander seed, Cowboy coffee, East indian patchouli, Fossilized amber resin, Frankincense co2 absolute, Hay absolute, Indonesian vetiver, Mexican cedarwood, Mitti attar, Myrrh gum, Oppopanax, Petitgrain, Sugar cube accord, Yerba maté absolute\n",
      "product_name :  After Every Ounce of Joy (Leaves My Body) brand_name :  Chris Rusak\n",
      "Pinyon pine resin, Pyrogenated amber, Styrax, Patchouli, Vetiver, Musk, Acetone, Gasoline\n",
      "product_name :  Afternoon Delight Alchemy brand_name :  Alkemia Apothecary and Perfumery\n",
      "Orange dreamsicle, Grass notes, Vanilla musk \n",
      "product_name :  Agar de Noir brand_name :  Areej le Doré\n",
      "rating : 4.5625\n",
      "Top Notes                                        Cardamom, Arnica, Calamus, Hawthorn, Calumba, Guaiac wood Heart Notes                                        Indian oud, Laos oud, Violet Base notes                                        Peru balsam, Benzoin, Labdanum, Tonka bean \n",
      "This sucker is really good!  So good in fact, I ended up getting a backup bottle....and I never do that. Its a jammy, dark raisin/dark cherry top, mixed with just a little violet. The woody dark Oud becomes more and more present throughout, and it lasts forever!  Theres also a dark chocolate note that I find glues it all together. \n",
      "A nice oudy, smokey, dark and semi gourmand fragrance with hints of dark chocolate m. I also get some spice with this one perhaps nutmeg? All in all a really nice perfume from Adam \n",
      "I dont know why Agar de Noir doesnt get more love. Maybe its more unknown than unloved! It is beautiful, long lasting and dirty in the nicest way. It is thick, syrupy and luscious without being cloying, and its just so darkly masculine. The effect is calming on me, its a true work of perfumery art in my view. Id swear I smell castoreum in there but it isnt in the list. Id like to smell it on someone else to reassure myself Im not overwhelming everyone around me. Its very strong. One of my all time favorites. All thumbs up.\n",
      "product_name :  Ahava brand_name :  Deconstructing Eden\n",
      "Clean skin musks, White sheets, Myrtle, Orange blossom, White violet\n",
      "product_name :  Aimez-Moi Comme Je Suis brand_name :  Caron\n",
      "Hazelnut, Vetiver\n"
     ]
    },
    {
     "name": "stdout",
     "output_type": "stream",
     "text": [
      "Sticklers for specific ingredients or people who have biases towards them can say they hate this without smelling it and move on with their lives because of the woody-amber foundation (which I found rather tolerable to enjoyable), but calling this corporate mainstream sell-out dreck would be a stretch since nothing with a prominent vetiver note (let alone hazelnut) will ever be totally mainstream, and the closest you get to that is the aforementioned Terre d'Hermès. Last time I checked, that scent isn't exactly new anymore, and the last time Caron tried a new male pillar was the ill-received Yuzu Man (2011) created by Richard Fraysse. Now, I'm not saying you need to take what Caron gives you and be grateful, that's not it at all. If you're the kind of person that only wants to live in the world Daltroff created, you're entitled to that, and likewise if the polarizing 70's alpha male scent of Yatagan (1976) by Vincent Marcello (created when Caron had a downmarket turn under A.H. Robins and Révillion Freres ownership) is more your speed, that's not going anywhere. Yeah, I'm a little bummed that the Rothschilds sacked William Fraysse only 2 years after inheriting master perfumer from his dad and only making four perfumes for Caron, but there had to be a reason. Jean Jacques comes mostly from Oriflame and Cofinluxe, so he's never had a chance to work for a prestigious house like Caron, meaning he may be \"hungrier\" to do a better job than William Fraysse could have, since the latter was nearly groomed nepotism-style for his role. Who knows? All I do know is we got a good easy-wearing vetiver fragrance that doesn't feel cheap, pays respect to what Caron is, and doesn't have any pretense about it at all. For a perfume house whose biggest previous hit in the men's world came out 35 years prior (1985's Le 3ème Homme), I'd say that's a step in the right direction. Caron can save the game-changers for next time. Thumbs up.ility. Wear time is eight hours, and projection isn't fierce, staying steady until halfway through where it collapses into the base. \n",
      "Carded sampleam - or not, it could have been worse; but it could have been much much better - it could have been an original score by the new wunderkind composer Missy Mazzoli...reatest Hits. from it.music was sublime; and everyone knows Beethoven's Fifth - da,da,da daaaah ...\n",
      "It will suit people who are looking for something nice and wearable (this is office-friendly for instance). However, if you're into things more edgy, adventurous, artistic, then you might want to go for Orto Parisi's Terroni. \n",
      "product_name :  Airavata (Heirloom Elixir no.13) brand_name :  Dawn Spencer Hurwitz\n",
      "Ambrette seed, Australian sandalwood, Basmati rice, Coconut milk, Galub attar, Grandiflorum jasmine, Mandarin, Mysore sandalwood, Orris root, Peach skin accord, Rose, Rosewater, Tahini accord\n",
      "product_name :  Alice Ball brand_name :  Poesie\n",
      "Lemon, Bergamot, Ginger, Candyfloss, Musk accord\n",
      "product_name :  Alien Man Mirage brand_name :  Thierry Mugler\n",
      "Juniper, Reed, Leather, Patchouli\n",
      "There isn't much else to say here, and I feel dogged for having to make you read another review about another attempt to cash in on ideas that haven't been new since the beginning of the 2010's, but seeing as bloodsuckers and bean counters are squeezing all the life out of increasingly-incorporated designer perfume  houses like this (at least in their standard lines), reviews like this are getting more common and nearly unavoidable. To be fair, I don't think Alien Man Mirage smells offensive from afar, it just does absolutely nothing for the line it has been thrust into, nothing for the name of Thierry Mugler, and adds yet another redundant option to a long row of many such options for the general consumer. It's like stuff such as this isn't even trying to improve or innovate on what other scents it borrows from, and just steals a bit of thunder much the same way a scent from a clone house does, but minus the clone price. Not recommendable unless you are a collector or extreme Thierry Mugler fan, because whoever perfumed this was definitely painting by numbers, and there are much better options for a modern freshie that cost less. I really hope this stuff is a mirage, so it eventually goes away. Thumbs down. \n",
      "On top of all that, it doesn't perform well either.  Light projection after the sweet opening and then it's gone after 4-5 hours.he light version, maybe best for warmer days?  Not sure, but it doesnt really work for me.\n",
      "product_name :  Alien Mirage brand_name :  Thierry Mugler\n",
      "Pink peppercorn, Seringa flower, Lotus flower, White amber, Hinoki wood\n",
      "product_name :  Allegretto 7.2 brand_name :  Berceuse Parfum\n",
      "rating : 3.5454545454545\n",
      "Top Notes                                        Thyme, Rosemary, Bay leaf, Mint Heart Notes                                        Lavender, Vanilla, Ylang ylang Base notes                                        Vetiver, Benzoin, Himalayan cedarwood \n",
      "   If you like this \"dark and mysterious\" bitter type scents, definitely give this a try -- but would recommend a sample first, this is NOT a blind buy. And not Beethovan, but a tune more dissonant and atonal - Stravinksy or Scriabin?illa briefly.  It was so bad on my skin and to my scent I scrubbed it, or tried. Longevity is unlikely to be a problem.\n",
      "An easy 5/5 for me. If a larger house has released this it would be an immediate grail. If Berceuse can hold it together through this Coronavirus crisis, Allegretto 7.2 may achieve modern masterpiece status. Time will tell! only dresses Vetiver in all of the minty, herbal, woody hues that it embodies naturally, he lifts it upon a custard-Ylang-benzoin-vanilla base that acts holographically on the root-notes of the grassy materials, giving it the brightest, most high-definition reflection it might ever hope to see. \n",
      "Allegretto 7.2 is a product from a new brand called Berceuse created in collaboration with Will Carius of the well-regarded artisanal shaving product company Barrister and Mann fame.  While I confess that as an avid wet shaver (and one who has tried and owns many shaving products from the company), I personally have never been overly impressed with the Barrister and Mann shaving soap *fragrances*, finding them just above average. In any case, Will's involvement did add an additional level of interest to this writer.  Also of interest is the perfumer chosen for this outing, Antonio Gardoni.  Mr. Gardoni has amassed quite the following, and I have enjoyed several of his creations over the years.  Definitely when one sprays Allegretto 7.2 on skin the culinary herbs used and the trademark aromatics (both not unlike those even earlier used by Angelo Orazio Pregoni of O'driu) have his \"fingerprints\" all over them.  I tend to like this kind of thing, but the mint that permeates a good portion of the composition coupling with the relatively linear development as the sharp woody vetiver gradually gains strength as time passes proves too much.  I guess coming full circle one has to wonder what any of this has to do with Will Carius of Barrister and Mann, as it really doesn't seem his style at all?  The bottom line is the $225 per 50 ml bottle Allegretto 7.2 is certainly distinctive (including its subjectively ugly bottle logo) but the relatively linear sharp woody accord proves too much to endure over time, earning the composition an \"average\" 2.5 stars out of 5 rating and an avoid recommendation, especially to wet shavers expecting a Barrister and Mann tie-in who wont find it.      \n",
      "product_name :  AlSahra brand_name :  The Different Company\n",
      "Top Notes                                        Mineral accord, Salt crystals, White violet Heart Notes                                        Sand lily, Cinnamon Base notes                                        Incense, Cistus labdanum, Patchouli, Sandalwood \n",
      "product_name :  Amazing Grace Jasmine brand_name :  Philosophy\n",
      "Top Notes                                        Bergamot Heart Notes                                        Jasmine, Coconut water Base notes                                        Musk \n",
      "product_name :  Amber Elixir Mystery brand_name :  Oriflame\n",
      "Top Notes                                        Orange, Vanilla Heart Notes                                        Red lily Base notes                                        Amber \n",
      "product_name :  Amber Kiss brand_name :  Jimmy Choo\n",
      "Top Notes                                        Bergamot, Pink pepper, Peony Heart Notes                                        Benzoin, Cinnamon, Suede Base notes                                        Patchouli, Ambergris, Cedarwood \n",
      "product_name :  Amber Woods brand_name :  4160 Tuesdays\n",
      "Raspberry, Woods, Amber, Resinous balsams, Smoke\n",
      "product_name :  Amber Woods brand_name :  4160 Tuesdays\n",
      "Raspberry, Woods, Amber, Resinous balsams, Smoke\n",
      "product_name :  Amberland brand_name :  Happyland Studio\n",
      "Bergamot, Orange, Labdanum, Patchouli, Sandalwood, Vanilla, Amber\n",
      "product_name :  Amberlicious Cherry brand_name :  Dua Fragrances\n",
      "Honey, Benzoin, Labdanum, Musk, Vanilla, Sesame seed, Caramel, Rum, Cinnamon, Black cherry, Bitter almond, Cherry liqueur, Griotte syrup, Jasmine sambac, Turkish rose, Peru balsam, Haitian vetiver, Cedarwood, Roasted tonka, Sandalwood, White orchid, Amber accord\n",
      "product_name :  Ambre Amande brand_name :  L'Occitane\n",
      "Top Notes                                        Almond, Coriander, Saffron accord, Lavender Heart Notes                                        Nutmeg, Cedarwood, Belle de nuit, Incense Base notes                                        Cashmere wood, Cypriol, Oud, White musk \n",
      "product_name :  Ambré Eau Fraîche brand_name :  Baldessarini\n",
      "Top Notes                                        Watermelon, Bergamot, Aromatic notes Heart Notes                                        Nutmeg, Apple, Sage, Violet, Cypress Base notes                                        Amber, Sandalwood, Oak, Leather \n",
      "subjective grade 7/10__ flanker that deserves attention.e character side, while still very fresh as a scent. It probably won't be liked by the younger crowd. The more experienced ones will probably like it under a condition to try it for multiple times before the final judgement.\n",
      "product_name :  Ambrette de Noir brand_name :  Aerin\n",
      "Top Notes                                        Rose, Freesia Heart Notes                                        Orange flower, Jasmine, White peony Base notes                                        Ambrette seed, Tonka absolute, Bourbon vanilla, Cedarwood, Ambrox, Benzoin \n",
      "product_name :  Amo per Lei brand_name :  Salvatore Ferragamo\n",
      "Top Notes                                        Pear, Raspberry Heart Notes                                        Magnolia, Osmanthus Base notes                                        Cedarwood, Sandalwood, Cashmere musk \n",
      "product_name :  Amor Amor Love Festival brand_name :  Cacharel\n",
      "Top Notes                                        Cola, Grapefruit, Blackcurrant Heart Notes                                        Jasmine, Rose, Lily of the valley Base notes                                        Musk, Vanilla, Cedarwood \n",
      "product_name :  Anamalix brand_name :  Aaron Terence Hughes\n",
      "Top Notes                                         Heart Notes                                         Base notes                                        Civet, Vegan deer musk, Ethical ambergris, Vegan castoreum, Amber, Wood, Filth \n",
      "product_name :  Ananda Nectar brand_name :  Micallef\n",
      "Top Notes                                        Plum, Pear Heart Notes                                        Violet, Rose Base notes                                        White musks, Mimosa \n",
      "product_name :  Anatolia brand_name :  Prin\n",
      "Leather, Date, Apple, Oud, Cinnamon, Cumin seed, Patchouli, Amber, Incense, Loukhoum, Cacao powder, Honey, Suede\n",
      "product_name :  Angel Nova brand_name :  Thierry Mugler\n",
      "Top Notes                                        Raspberry, Lychee Heart Notes                                        Damask rose Base notes                                        Akigalawood, Benzoin \n",
      "product_name :  Angeleno Eau Fraiche 2.43 brand_name :  Yosh\n",
      "Starfruit, Waterlily, Cucumber, Sunshine, Love\n",
      "product_name :  Angels Share brand_name :  By Kilian\n",
      "rating : 4.3333333333333\n",
      "Top Notes                                        Cognac Heart Notes                                        Oak, Cinnamon, Tonka bean Base notes                                        Praline, Vanilla, Sandalwood \n",
      "l'm not sure l'd pay full price for it, but this is a very enjoyable winter fragrance that reeks of quality, & l think it's perfect for the festive season.pering the sweetness, & like that reviewer, I also find it less bold than l expected. This doesn't matter though, because the drydown is a deliciously warm, rich & comforting blend of praline, tonka & woods. The projection is great for the first couple of hours, & after that l still get nice little wafts as l move. The cinnamon is very faint on me, but the vanilla becomes more apparent in the base, & it's still going softly twelve hours in.\n",
      "8 out of 10pricing of both Angels Share and Roses on Ice is somewhat modest (basically as inexpensive as their fragrances get), at $195 for 50ml, but this may very well due to be presentation, which does not seem to include one of the brands signature wooden coffrets.ience with most of the darker fragrances in the house. then some woods, for which oak seems right on the money.fined.tured note, along with hazelnut and oak, per the house website, though other sources list notes of praline, vanilla, sandalwood, cinnamon, and tonka.\n",
      "A tad sweeter and less bold than I expected it to be. otes. \n",
      "product_name :  Angelys Pear brand_name :  Nicolaï\n",
      "Top Notes                                        Bergamot, Blackcurrant, Cut grass Heart Notes                                        Pear, Jasmine, Coriander Base notes                                        Patchouli, Oakmoss, Musk \n",
      "I find some fruit scents to be too cloying but this one isnt at all. No pears drenched in syrup here...rather slightly un ripe ones. The pear note is dominant throughout but is softened with a lovely, lasting floral accord. Im sitting here in my bedroom, bathed in pear blossoms. I thought this was a close-to-your-skin kind of scent at first but as I sit, I can tell  that the pear blossoms are finding their way into the hall. To me this is a very feminine scent, not unisex at all. \n",
      "product_name :  Animal Mondain brand_name :  Pierre Guillaume\n",
      "Pear tree leaf, Turkish tobacco absolute, Mahogany wood\n",
      "product_name :  Annie Jump Cannon brand_name :  Poesie\n",
      "Cool night air, Star anise, Nutmeg, Golden resins, Vanilla\n",
      "product_name :  Anubis brand_name :  Aaron Terence Hughes\n",
      " op Notes                                        Bergamot Heart Notes                                        Incense, Honey, Tobacco, Oakmoss, Amber Base notes                                        Vanilla bean, Cardamom, Sandalwood, Patchouli, Musk \n",
      "product_name :  Apple Tabac brand_name :  Pineward Perfumes\n",
      "Red apple, Tobacco, Fir balsam, Rum resin, Dried fruits\n",
      "What can I say?  Apple Tabac was a complete surprise on my skin, and not a good one.  I get no tobacco at all, and the apple, while very natural smelling - just as one might expect a freshly bitten into red apple does not smell like something that would mesh with tobacco even if it *was* there.  Instead, I get an odd, celery-like supporting accord that I have to believe is actually the fir, that with this perfume is not playing well with my skin chemistry, as I can't believe this was the intended effect.  As is, it smells quite off-putting, and unfortunately the longevity performance metric is through the roof superb, which in this case is a bad thing as Apple Tabac is a major scrubber.  The bottom line is the $128 per 37mm extrait concentration Apple Tabac swaps the intended tobacco for horrific smelling celery, earning it a \"poor\" 2 stars out of 5 rating and a strong avoid recommendation.  One can only hope that this was just a skin chemistry issue that others will not encounter.    \n"
     ]
    },
    {
     "name": "stdout",
     "output_type": "stream",
     "text": [
      "&#8285;abac lasts a long time on my skin and is very enjoyable. This indeed has a strong \"Fresh Red Apple\" note. As a kid I worked in the orchards with apples many summers and I can say that this apple note is indeed that of a fresh red apple as opposed to a Golden Delicious or a Granny Smith apple type note. This is counter balanced by a tobacco leaf like note. This tobacco leaf note smells of the dried tobacco leaf variety to me but perhaps thats because of the blending. It gives the apple note a bed of warmth to lay on along with a slight zing from some fir balasam and butteriness from the rum note. This is a beautiful fragrance and I have been enjoying it very much.\n",
      "product_name :  April 2020 brand_name :  Scent Trunk\n",
      "Pink grapefruit, Mint, Cinnamon, Cardamom, Ginger, Saffron, Gardenia, Patchouli, Labdanum, Vetiver, Musk\n",
      "product_name :  Aqua Allegoria Granada Salvia brand_name :  Guerlain\n",
      "Top Notes                                        Pomegranate, Blackcurrant, Bergamot, Lemon, Cypress Heart Notes                                        Sage, Rose Base notes                                        White musk, Moss, Patchouli \n",
      "product_name :  Aqua Allegoria Orange Soleia brand_name :  Guerlain\n",
      "Blood orange, Mint, Pink peppercorn, Bergamot, Woody notes, Tonka bean\n",
      "It's a nice scent and orange in here is very lovely, and I love citruses, therefore a thumbs up. If I had a bottle, it would be used. But I personally really prefer Mandarine Basilic and Orange Sanguine to this.guine - and Orange Sanguine is much more juicy and sunny and feels just like orange juice. Orange Soleia is less orange juice-y and the woody base is more prominent - but that base is not sharp, it's in between of \"subtle\" and \"non-descript\". On my first try that woody base felt rather generic and bothered me, but on subsequent tries I liked it much better. It's also a bit similar to Aqua Allegoria Mandarine Basilic in feel, but is more unisex, calmer, more serious/less happy and (to me) not nearly as good.\n",
      "product_name :  Aqua Amantia brand_name :  Le Couvent des Minimes\n",
      "Grapefruit, Hibiscus, Cedarwood\n",
      "product_name :  Aqua Millefolia brand_name :  Le Couvent des Minimes\n",
      "Verbena, Citrus notes, Mint, Herbs, Guaiacwood\n",
      "product_name :  Aqua Palmaris brand_name :  Le Couvent des Minimes\n",
      "Petitgrain, Neroli, Powdery notes, White musk\n",
      "product_name :  Aqua Wood brand_name :  Mancera\n",
      "Top Notes                                        Citrus fruits, Pear Heart Notes                                        Turkish rose, Indian ginger root, Patchouli leaf Base notes                                        Amber, Incense, Benzoin, White musk \n",
      "Like most Manceras, Aqua Wood has very decent projection like the Bulgari.of Bulgari Aqua Amara. To continue the comparison, the drydown has a sweeter, more powdery feel, but otherwise still similar.\n",
      "product_name :  Arabesque brand_name :  Fragrance Du Bois\n",
      "Top Notes                                        Apple, Blackberry, Saffron, Citrus notes Heart Notes                                        White oud, Rose, Geranium Base notes                                        Sandalwood, Cedarwood, Musk, Amber, Vanilla \n",
      "product_name :  Aran (อรัญ) brand_name :  Prin\n",
      " oat hair, Leather, Frankincense, Civet, Castoreum, Oakmoss, Saffron, Fir balsam, Jasmine absolute, Jatamansi, Cardamom, Nargamotha, Tobacco, Vetiver, Mushroom, Oud, Sandalwood\n",
      "Aran is a dense, dark masculine fragrance that brings to mind the smell of freshly brushed black leather boots. If you can imagine the mixture of stated ingredients: goat hair, leather, frankincense, nagarmotha, tobacco, civet, castoreum, oak moss and mushroom you are sniffing a big dark leather scent. At first it is a little off putting and I am not sure about this one.  When I first smelled Aran it was summertime weather and it was just too much. But with Fall and Winter I have come to really like this complex leather which is spliced with various resinous woods which help emphasize the wood nature of the leather over the animalic bits.  There is a slight incense aroma that works its way through but the character stays true to well aged polished boot leather.  I rate Aran 4 of 5 stars on a scale that lists Ma Nishtana from Prin Lomrose (parfums prissana) as a 5 of 5 stars.  Aran is not quite equal to his best, but still a very excellent masculine perfume and is highly recommended.\n",
      "product_name :  Arcanum brand_name :  Navitus Parfums\n",
      "Top Notes                                        Cinnamon, Coconut, Frankincense tears Heart Notes                                        Labdanum, Osmanthus, Laos oud Base notes                                        Dark amberwoods, Vanilla, Tonka bean \n",
      "Arcanum indeed pulls a magic trick of making you think of something tropical fruity and fun before pulling a rabbit out of its hat and turning your clubber into a boring sweetened modern woody amber fragrance you could get from any number of Dolce & Gabbana or Giorgio Armani flankers out there. The $140 for 50ml asking price might seem a steal for something with extrait de parfum longevity, but you have to really love the mishmash of values on display here to appreciate this for 12+ hours straight. I just can't, I'm sorry. Like with Oud Luxuria (2019), the heavy overdose of woody amber scratch destroys all tolerance I have for the perfume, and unlike Oud Luxuria, I don't like the development on the way to that scratch, so it just goes from bad to worse for me. Some may compare this overdosed aromachemical trick to what Parfums de Marly does, but at least they have some competent blending. Jorge Lee of Nishane fame either phoned this completely in, or was underpaid for his work and didn't really care past a certain point, because Arcanum feels barely put together from ideas that had no ideas they were being combined before they were. Some of what Navitus does with Steven from Redolessence is pretty novel and wearable, even if ultimately not spectacular, but this is just not one of those perfumes. Thumbs down.rait, and projection lasts longer than some other Navitus scents I've tried, but calms down in a few hours. Where you'd use this is up to you, because I can't stand it.\n",
      "product_name :  Ardor brand_name :  Astrid Perfume\n",
      "Clementine, Lemon, Nutmeg, Patchouli, Apple, Calendula, Sunflower petal\n",
      "product_name :  Areej brand_name :  Fragrance Du Bois\n",
      "Top Notes                                        Bergamot, Rose Heart Notes                                        Caramel, Violet, Woods Base notes                                        Vanilla, Cashmere wood, Guaiac wood, Indian oud \n",
      "product_name :  Argentina brand_name :  Memo\n",
      "Pink pepper, Ambrette, Turkish rose, Jasmine sambac, Egyptian jasmine, Magnolia, Oud, Cypriol, Benzoin\n",
      "product_name :  Armani Privé Cuir Zerzura brand_name :  Giorgio Armani\n",
      "Top Notes                                        Mandarin, Violet leaf Heart Notes                                        Floral notes Base notes                                        Leather, Cedarwood, Bourbon vanilla \n",
      "product_name :  Armani Privé Gardenia Antigua brand_name :  Giorgio Armani\n",
      "Bergamot, Damask rose, Grandiflorum jasmine, Ylang ylang, Neroli, Patchouli, Ambroxan, White musk\n",
      "Early review is 2 thumbs up.icularly pleased that Dora Baghriche got this note just right. Upon checking my wardrobe, the only other fragrance I've tried of Dora Baghriche's is L'Artisan's Caligna (which I love). I think she's a perfumer I need to watch a bit more closely to see what else she's done I might like.\n",
      "product_name :  Armani Privé Ikat Bleu brand_name :  Giorgio Armani\n",
      "Pink pepper, Bergamot, Iris, Incense, Patchouli, Bourbon vanilla, Guaiac wood\n",
      "product_name :  Armani Privé Ikat Rouge brand_name :  Giorgio Armani\n",
      "Bergamot, Iris, Patchouli, Incense, Cistus labdanum, Guaiac wood \n",
      "product_name :  Armani Privé Jasmin Kusamono brand_name :  Giorgio Armani\n",
      "Pink pepper, Nashi pear, Jasmine, Ylang ylang, Gardenia, Lily of the valley, Neroli, White musk, Ambergris, Cedarwood, Sandalwood\n",
      "product_name :  Armani Privé Rose Milano brand_name :  Giorgio Armani\n",
      "Italian lemon, Nashi pear, Sambac jasmine, Lily of the valley, Sandalwood, Patchouli, Moss\n"
     ]
    }
   ],
   "source": [
    "from bs4 import BeautifulSoup\n",
    "import requests\n",
    "url=\"https://www.basenotes.net/fragrancedirectory/?launch1=2020&launch=1&p=1\"\n",
    "response = requests.get(url,headers={'User-Agent':'Mozilla/5.0'})\n",
    "soup = BeautifulSoup(response.text, \"html.parser\")\n",
    "result = soup.find_all(attrs={'valign':'top'})\n",
    "for i in result:\n",
    "    try:\n",
    "        url=i.find('a')[\"href\"]\n",
    "        response = requests.get(url,headers={'User-Agent':'Mozilla/5.0'})\n",
    "        soup = BeautifulSoup(response.text, \"html.parser\")\n",
    "        product_name=soup.find(attrs={'itemprop':'name'})\n",
    "        brand_name=soup.find(attrs={'itemprop':'brand manufacturer'})\n",
    "        print('product_name : ',product_name.text,'brand_name : ',brand_name.text)\n",
    "        try:\n",
    "            rate=soup.find(attrs={'itemprop':'ratingValue'})[\"content\"]\n",
    "            print('rating : '+rate)\n",
    "        except:\n",
    "            pass\n",
    "        try:\n",
    "            note=soup.find(attrs={'class':'notespyramid notespyramidb'})\n",
    "            print(note.text.replace('\\n',''))\n",
    "        except:\n",
    "            pass\n",
    "        try:\n",
    "            review=soup.find_all(attrs={'class':'reviewblurb'})\n",
    "            for i in review:\n",
    "                print(i.text.replace('\\n','').replace('<br>',''))\n",
    "            #print('리뷰 :'+review.text.replace('\\n',''))\n",
    "        except:\n",
    "            pass\n",
    "    except:\n",
    "        pass"
   ]
  },
  {
   "cell_type": "code",
   "execution_count": 72,
   "metadata": {
    "ExecuteTime": {
     "end_time": "2021-03-17T04:03:42.817889Z",
     "start_time": "2021-03-17T04:03:40.374038Z"
    }
   },
   "outputs": [
    {
     "name": "stdout",
     "output_type": "stream",
     "text": [
      "product_name :  1 Million Parfum brand_name :  Paco Rabanne 2.6\n",
      "Floral notes, Salty skin, Amber, Leather\n",
      "Not really a fan of this, I thought it was the original 1 million, it didn't click with me that it was a different version. I gave it a try and it just doesn't do it for me, the smell doesn't really catch your attention and I've had zero hit's from the ladies with this version.\n",
      "\n",
      "I'll still give it a chance through longer usage, to see if my opinion changes about it, but for now, i'd rate this as a strong pass.\n",
      "Blind bought this juice after reading some positive reviews and having a modicum of confidence in the house of Paco Rabanne. To be honest, the only other scent I have, is a vintage bottle of the Pour Homme EdT. Now, to this...smell. \n",
      "\n",
      "This is the EXACT timeline and I stray not from the facts.\n",
      "\n",
      "Bottle arrives yesterday.\n",
      "Cracked the cellophane and admire the box and the bottle.\n",
      "Squirted the teeniest of sprays into the air. Literally the juice dribbled out.\n",
      "I thought to my self...wow, that's potent stuff.\n",
      "Later that evening, I decided to try ONE spray on the back of my left hand.\n",
      "My olfactory senses are blasted with a monstrous, sweet, fruity...something.\n",
      "I am astounded at how explosive this smell is.\n",
      "I wait around, hoping the dry down will tame this obnoxious beast...nope.\n",
      "Go to bed and I cannot find a position that doesn't send this cacophony of disgusting stench into my face. My poor wife. I tuck my hand under the covers and pillow, but only succeed in transferring the smell to the sheets and pillowcase. UGH. Now what? 2-3 hours later, still tossing and turning with a side case of extreme buyers' remorse...no, stronger, REGRET, I get up and scrub the back of my hand with soap and scalding hot water. While this doesn't really remove the stench, it did allow my extreme fatigue to win a short-lived battle against the onslaught of wretched fumes.\n",
      "It's 5:30am the next morning and as I type this \"review\", although, it should be considered to the reader as a WARNING, I can STILL smell this crap on my hand. I am leaving it there until my shower, as a warning to my self and everyone, who might read this: STAY AWAY FROM THIS CASTASTROPHE. Quite possibly, the worst perfume I have ever experienced in my life.\n",
      "The opening sent of floral notes is centered sound a pleasant tuberose, which is quite intense but not heavy, and lacks any waxiness or indolic undertones. At times his of sun tan lotion creep in, but only weakly so; this is No Bond No.9 Fire Island.  Shades of muguet also come and go. \n",
      "\n",
      "In the drydown a slightly salty note develops. A bite like a synthetic ambergris, which is combined  with an ambroxan, later to be pushed aside by a soft and supple suede note, which is sweet due to some creamy vanilla still, yet carries with it touches of labdanum. There is a nonspecific woodsiness to it towards the end.  \n",
      "\n",
      "I get strong sillage, excellent projection, and a superb longevity on twelve hours on my skin.  \n",
      "\n",
      "The beginning of this spring is quite well done and quite interesting, but later in it just becomes so egregiously generic in an overly synthetic manner.  Overall 2.75/5\n",
      "Nobody saw this coming, and I mean nobody. Not niche aficionados on forum boards and Facebook nor compliment junkies on YouTube and Instagram, and certainly not the general public vaguely aware that the original Paco Rabanne 1 Million (2008) even comes in so many flavors as it does because the original is just that strong in sales. Yet here we have 1 Million Parfum (2020), an altogether different beast from either 1 Million Absolutely Gold (2012) and 1 Million Intense (2013), both now discontinued leading up to the launching of this. What's more surprising than Paco Rabanne rebooting an intense version of their star clubber for the second time (making the third iteration), is the fact that it smells the least like the pillar release among the three. What's more surprising than that is how it actually smells. Perfumers Quentin Bisch and Christophe Reynaud composed this (with Reynaud returning from the original yet again), and most of the reason this smells the way it does can be attributed to a vacation bag accident when broken bottles of sunscreen mixed with a labdanum sample Bisch had received. The rest is obviously aromachemical magic but what gets me is how much of a polar opposite this is from the one that started it all. Considering everything previously had at least a drop of 1 Million DNA somewhere in it, this parfum seems a bit like a gamble for the line. Hmmm....\n",
      "\n",
      "In any case, I've held you in suspense long enough. 1 Million Parfum is primarily a woody amber, but what makes it special is tuberose. You heard me right, this is a men's fragrance with tuberose in the core. The note is often found in sunscreens (which don't have gender assigned typically), and Bisch merged it with some bright aldehydes and the essence of manoï oil, a special perfume made of Tahitian gardenias soaked in coconut oil. The tuberose isn't going to gobsmack you like in an old 80's perfume for women, but like Richard James Saville Row (2003), it's detectable. Bisch sure was busy replicating his vacation here in 1 Million Parfum, and it doesn't stop into the base (the perfume has no heart). A salty beachy ambergris note (achieved with a compound containing some form of ambroxan/ambroxide obviously), is mixed with vanilla, amber, cashmeran, labdanum, and that popular suede leather molecule everyone from Coach to Tom Ford is using now. I get some banana vibes here too but that's just me, and keep in mind 1 Million Parfum is still very much a sweet creamy fragrance like the original. If the OG is your nightlife scent, this could be your daytime getaway scent, with the pair of them being your best friends on a trip to Tahiti. Send Quentin my regards. Wear time is long at 10 hours and sillage is dense but not overly projecting. This is a parfum so it behaves that way, sitting close after the first hour. Suggested use is going to be the beach or a warm dry summer day, but with some serious caveats. \n",
      "\n",
      "1 Million Parfum is not aquatic nor conventionally fresh, so if you're looking for that, stick with something blue. Considering Absolutely Gold was sold in the Middle East and 1 Million Intense was made a unicorn in short order after it's run was stopped, I'd not give high hopes to 1 Million Parfum staying available for long, especially with it being tuberose, sunscreen, beach sand, and a suede handbag in a bottle. Fans of stuff like Jil Sander Sun (2002) may see this as a throwback to when beachy masculines were common, and Dolce & Gabanna also tried something like this recently with Light Blue Sun for Men (2019), but not with same conviction. 1 Million Parfum is a fragrance that feels like its made either for or to channel the aesthetic of a rich playboy who can still afford extravagant vacations to Ibiza or the Polynesians in 2020, which admittedly feels a bit too socially-oblvious even for a gaudy designer like Paco Rabanne, but folks in this industry aren't known to be aware of the Human condition, or their 2020 perfume releases would all smell of turmoil, climate change, pandemics, police brutality and a political slide into authoritarianism. If you need something to help you forget all that, maybe 1 Million Parfum is just the kind of medicine you need. I think the stuff is interesting and fun to wear but I'm not sure 1 Million Parfum is going to sway anyone not already on board with bottles shaped like gold bars to the line, depsite it's niche-like conceptual construction. Thumbs up.\n",
      "\n",
      "I like this better than the original and Prive, both of which I own.  Hmm, might have to add this one too.\n",
      "\n",
      "Beachy, white floral opening with a warm, amber base. Smells like something my wife would love to wear.  Easy compliment bait as she really liked it and I received a compliment from another female on first wearing.\n",
      "\n",
      "Other than both scents being sweet, this seems to be something quite different from the original.  Not as loud as the original but it does project during the first few hours very nicely. It's also the more smooth and rounded scent. The beach+florals scent is what really sets this apart from the original. Lasts for 2-3 hours and then you get a soft, amber-vanilla that lasts for many more hours but much closer to skin. It's very unisex to me.\n"
     ]
    }
   ],
   "source": [
    "url=\"https://www.basenotes.net/ID26161304.html\"\n",
    "response = requests.get(url,headers={'User-Agent':'Mozilla/5.0'})\n",
    "soup = BeautifulSoup(response.text, \"html.parser\")\n",
    "product_name=soup.find(attrs={'itemprop':'name'})\n",
    "brand_name=soup.find(attrs={'itemprop':'brand manufacturer'})\n",
    "rate=soup.find(attrs={'itemprop':'ratingValue'})[\"content\"]\n",
    "print('product_name : ',product_name.text,'brand_name : ',brand_name.text,rate)\n",
    "note=soup.find(attrs={'class':'notespyramid notespyramidb'})\n",
    "print(note.text)\n",
    "review=soup.find_all(attrs={'class':'reviewblurb'})\n",
    "for i in review:\n",
    "    print(i.text)\n",
    "#print('리뷰 :'+review.text.replace('\\n',''))\n",
    "# review=soup.find(attrs={'class':'reviewblurb'})   notespyramid notespyramidb\n",
    "# print('리뷰 :'+review.text.replace('\\n',''))"
   ]
  },
  {
   "cell_type": "code",
   "execution_count": null,
   "metadata": {},
   "outputs": [],
   "source": []
  }
 ],
 "metadata": {
  "kernelspec": {
   "display_name": "Python 3",
   "language": "python",
   "name": "python3"
  },
  "language_info": {
   "codemirror_mode": {
    "name": "ipython",
    "version": 3
   },
   "file_extension": ".py",
   "mimetype": "text/x-python",
   "name": "python",
   "nbconvert_exporter": "python",
   "pygments_lexer": "ipython3",
   "version": "3.8.5"
  },
  "toc": {
   "base_numbering": 1,
   "nav_menu": {},
   "number_sections": true,
   "sideBar": true,
   "skip_h1_title": false,
   "title_cell": "Table of Contents",
   "title_sidebar": "Contents",
   "toc_cell": false,
   "toc_position": {},
   "toc_section_display": true,
   "toc_window_display": false
  },
  "varInspector": {
   "cols": {
    "lenName": 16,
    "lenType": 16,
    "lenVar": 40
   },
   "kernels_config": {
    "python": {
     "delete_cmd_postfix": "",
     "delete_cmd_prefix": "del ",
     "library": "var_list.py",
     "varRefreshCmd": "print(var_dic_list())"
    },
    "r": {
     "delete_cmd_postfix": ") ",
     "delete_cmd_prefix": "rm(",
     "library": "var_list.r",
     "varRefreshCmd": "cat(var_dic_list()) "
    }
   },
   "types_to_exclude": [
    "module",
    "function",
    "builtin_function_or_method",
    "instance",
    "_Feature"
   ],
   "window_display": false
  }
 },
 "nbformat": 4,
 "nbformat_minor": 4
}
