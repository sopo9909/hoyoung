{
 "cells": [
  {
   "cell_type": "code",
   "execution_count": null,
   "metadata": {},
   "outputs": [],
   "source": [
    "https://db-engines.com/en/ranking\n",
    "\n",
    "https://insights.stackoverflow.com/survey/2019#most-loved-dreaded-and-wanted\n",
    "\n",
    "https://www.mongodb.com/who-uses-mongodb"
   ]
  },
  {
   "cell_type": "markdown",
   "metadata": {},
   "source": [
    "####  파이썬의 장단점\n",
    "\n",
    "파이썬의 장점은 많고 간단하지만 다음과 같이 요약 할 수 있습니다.\n",
    "\n",
    "1. 간단하고 명확하며 한 가지 방법은 한 가지뿐입니다.\n",
    "2. 학습 곡선이 낮고 파이썬은 다른 많은 언어보다 사용하기 쉽습니다.\n",
    "3. 강력한 커뮤니티와 생태계를 갖춘 오픈 소스 코드.\n",
    "4. 본질적으로 플랫폼 이식성으로 해석되는 언어.\n",
    "5. 두 가지 주류 프로그래밍 패러다임 (객체 지향 프로그래밍 및 기능 프로그래밍)을 지원합니다.\n",
    "6. 확장 성 및 내장 성 (예 : C / C ++ 코드)을 Python에서 호출 할 수 있습니다.\n",
    "7. 코드는 높은 수준의 표준화와 강력한 가독성을 가지고 있으며 코드 청결 및 강박 장애를 가진 사람들에게 적합합니다.\n",
    "1. 많은 프로그래밍 언어보다 사용하기 쉽고 간단하고 명확하며 학습이 적은 곡선.\n",
    "2. 특히 데이터 분석 및 기계 학습 분야에서 강력한 커뮤니티와 생태계를 갖춘 오픈 소스 코드.\n",
    "3. 플랫폼 이식성으로 태어난 통역 된 언어는 코드가 다른 운영 체제에서 작동 할 수 있습니다.\n",
    "4. 두 가지 주류 프로그래밍 패러다임 (객체 지향 프로그래밍 및 기능 프로그래밍)을 지원합니다.\n",
    "5. 코드는 높은 수준의 표준화와 강력한 가독성을 가지고있어 코드 청결 및 강박 장애를 가진 사람들에게 적합합니다."
   ]
  },
  {
   "cell_type": "markdown",
   "metadata": {},
   "source": [
    "파이썬의 단점은 주로 다음과 같은 점에 집중되어 있습니다.\n",
    "\n",
    "1. 실행 효율성이 약간 낮아서 C / C ++로 계산 집약적 인 작업을 작성할 수 있습니다 .\n",
    "1. 실행 효율이 약간 낮으며 실행 효율 요구 사항이 높은 부품은 다른 언어 (예 : C, C ++)로 작성할 수 있습니다 .\n",
    "2. 코드를 암호화 할 수는 없지만 많은 회사에서 소프트웨어를 판매하지 않지만 서비스를 판매하면이 문제가 약화됩니다.\n",
    "3. 개발 중에 선택할 수있는 프레임 워크가 너무 많습니다 (예 : 100 개 이상의 웹 프레임 워크가 있음). 선택에 오류가 있습니다."
   ]
  },
  {
   "cell_type": "markdown",
   "metadata": {},
   "source": [
    "## Simple data types"
   ]
  },
  {
   "cell_type": "markdown",
   "metadata": {},
   "source": [
    "### Integers"
   ]
  },
  {
   "cell_type": "code",
   "execution_count": null,
   "metadata": {
    "collapsed": true
   },
   "outputs": [],
   "source": [
    "i = -7\n",
    "j = 123\n",
    "print(i, j)"
   ]
  },
  {
   "cell_type": "markdown",
   "metadata": {},
   "source": [
    "### Floats"
   ]
  },
  {
   "cell_type": "code",
   "execution_count": null,
   "metadata": {
    "collapsed": true
   },
   "outputs": [],
   "source": [
    "x = 3.14159\n",
    "y = -42.3\n",
    "print(x * y)"
   ]
  },
  {
   "cell_type": "code",
   "execution_count": null,
   "metadata": {
    "collapsed": true
   },
   "outputs": [],
   "source": [
    "k = 1.5e3\n",
    "l = 3e-2\n",
    "print(k)\n",
    "print(l)"
   ]
  },
  {
   "cell_type": "markdown",
   "metadata": {},
   "source": [
    "### Strings"
   ]
  },
  {
   "cell_type": "code",
   "execution_count": null,
   "metadata": {
    "collapsed": true
   },
   "outputs": [],
   "source": [
    "s = \"ATGTCGTCTACAACACT\"\n",
    "t = 'Serine'\n",
    "u = \"It's a string with apostrophes\"\n",
    "v = \"\"\"A string that extends\n",
    "over multiple lines\"\"\"\n",
    "print(v)"
   ]
  },
  {
   "cell_type": "markdown",
   "metadata": {},
   "source": [
    "### Booleans"
   ]
  },
  {
   "cell_type": "code",
   "execution_count": null,
   "metadata": {
    "collapsed": true
   },
   "outputs": [],
   "source": [
    "a = True\n",
    "b = False\n",
    "print(a, b)"
   ]
  },
  {
   "cell_type": "markdown",
   "metadata": {},
   "source": [
    "### The <tt>None</tt> object"
   ]
  },
  {
   "cell_type": "code",
   "execution_count": null,
   "metadata": {
    "collapsed": true
   },
   "outputs": [],
   "source": [
    "z = None\n",
    "print(z)"
   ]
  },
  {
   "cell_type": "markdown",
   "metadata": {},
   "source": [
    "### Object type"
   ]
  },
  {
   "cell_type": "code",
   "execution_count": 1,
   "metadata": {},
   "outputs": [
    {
     "name": "stdout",
     "output_type": "stream",
     "text": [
      "True is of <class 'bool'>\n"
     ]
    }
   ],
   "source": [
    "a = True\n",
    "print(a, \"is of\", type(a))"
   ]
  },
  {
   "cell_type": "code",
   "execution_count": 2,
   "metadata": {},
   "outputs": [
    {
     "name": "stdout",
     "output_type": "stream",
     "text": [
      "-7 is of <class 'int'>\n"
     ]
    }
   ],
   "source": [
    "i = -7\n",
    "print(i, \"is of\", type(i))"
   ]
  },
  {
   "cell_type": "code",
   "execution_count": 3,
   "metadata": {},
   "outputs": [
    {
     "name": "stdout",
     "output_type": "stream",
     "text": [
      "12.7893 is of <class 'float'>\n"
     ]
    }
   ],
   "source": [
    "x = 12.7893\n",
    "print(x, \"is of\", type(x))"
   ]
  },
  {
   "cell_type": "code",
   "execution_count": 4,
   "metadata": {},
   "outputs": [
    {
     "name": "stdout",
     "output_type": "stream",
     "text": [
      "ATGTCGTCTACAACACT is of <class 'str'>\n"
     ]
    }
   ],
   "source": [
    "s = \"ATGTCGTCTACAACACT\"\n",
    "print(s, \"is of\", type(s))"
   ]
  },
  {
   "cell_type": "code",
   "execution_count": 5,
   "metadata": {},
   "outputs": [
    {
     "name": "stdout",
     "output_type": "stream",
     "text": [
      "None is of <class 'NoneType'>\n"
     ]
    }
   ],
   "source": [
    "z = None\n",
    "print(z, \"is of\", type(z))"
   ]
  },
  {
   "cell_type": "markdown",
   "metadata": {},
   "source": [
    "## Comments"
   ]
  },
  {
   "cell_type": "code",
   "execution_count": 7,
   "metadata": {},
   "outputs": [
    {
     "name": "stdout",
     "output_type": "stream",
     "text": [
      "Hi\n",
      "Bye\n"
     ]
    }
   ],
   "source": [
    "print(\"Hi\")\n",
    "print(\"Bye\")"
   ]
  },
  {
   "cell_type": "markdown",
   "metadata": {},
   "source": [
    "## Arithmetic"
   ]
  },
  {
   "cell_type": "code",
   "execution_count": 8,
   "metadata": {},
   "outputs": [
    {
     "name": "stdout",
     "output_type": "stream",
     "text": [
      "x 4.5 y 2\n",
      "addition x + y = 6.5\n",
      "subtraction x - y = 2.5\n",
      "multiplication x * y = 9.0\n",
      "division x / y = 2.25\n"
     ]
    }
   ],
   "source": [
    "x = 4.5\n",
    "y = 2\n",
    "\n",
    "print('x', x, 'y', y)\n",
    "print('addition x + y =', x + y) \n",
    "print('subtraction x - y =', x - y) \n",
    "print('multiplication x * y =', x * y) \n",
    "print('division x / y =', x / y) "
   ]
  },
  {
   "cell_type": "code",
   "execution_count": 9,
   "metadata": {},
   "outputs": [
    {
     "name": "stdout",
     "output_type": "stream",
     "text": [
      "x 4.5 y 2\n",
      "division x / y = 2.25\n",
      "floored division x // y = 2.0\n",
      "modulus (remainder of x/y) x % y = 0.5\n",
      "exponentiation x ** y = 20.25\n"
     ]
    }
   ],
   "source": [
    "x = 4.5\n",
    "y = 2\n",
    "\n",
    "print('x', x, 'y', y)\n",
    "print('division x / y =', x / y)\n",
    "print('floored division x // y =', x // y) \n",
    "print('modulus (remainder of x/y) x % y =', x % y) \n",
    "print('exponentiation x ** y =', x ** y)"
   ]
  },
  {
   "cell_type": "code",
   "execution_count": 10,
   "metadata": {},
   "outputs": [
    {
     "name": "stdout",
     "output_type": "stream",
     "text": [
      "x * (2 + y) = 91\n",
      "(x * 2) + y = 31\n",
      "x * 2 + y = 31\n"
     ]
    }
   ],
   "source": [
    "x = 13\n",
    "y = 5\n",
    "\n",
    "print('x * (2 + y) =', x * (2 + y))\n",
    "print('(x * 2) + y =', (x * 2) + y)\n",
    "print('x * 2 + y =', x * 2 + y)"
   ]
  },
  {
   "cell_type": "code",
   "execution_count": 11,
   "metadata": {},
   "outputs": [
    {
     "data": {
      "text/plain": [
       "18.0"
      ]
     },
     "execution_count": 11,
     "metadata": {},
     "output_type": "execute_result"
    }
   ],
   "source": [
    "13 + 5.0"
   ]
  },
  {
   "cell_type": "code",
   "execution_count": 12,
   "metadata": {},
   "outputs": [
    {
     "data": {
      "text/plain": [
       "10.0"
      ]
     },
     "execution_count": 12,
     "metadata": {},
     "output_type": "execute_result"
    }
   ],
   "source": [
    "float(3) + float(7)"
   ]
  },
  {
   "cell_type": "code",
   "execution_count": 13,
   "metadata": {},
   "outputs": [
    {
     "data": {
      "text/plain": [
       "4"
      ]
     },
     "execution_count": 13,
     "metadata": {},
     "output_type": "execute_result"
    }
   ],
   "source": [
    "int(3.14159) + 1"
   ]
  },
  {
   "cell_type": "code",
   "execution_count": 16,
   "metadata": {},
   "outputs": [
    {
     "name": "stdout",
     "output_type": "stream",
     "text": [
      "number3\n"
     ]
    }
   ],
   "source": [
    "print('number' + str(3))"
   ]
  },
  {
   "cell_type": "code",
   "execution_count": 17,
   "metadata": {},
   "outputs": [
    {
     "name": "stdout",
     "output_type": "stream",
     "text": [
      "3/4 = 0.75\n",
      "3.0/4 = 0.75\n",
      "float(3)/4 = 0.75\n"
     ]
    }
   ],
   "source": [
    "print(\"3/4 =\", 3/4) # in Python 2, you would get 0\n",
    "print(\"3.0/4 =\", 3.0/4)\n",
    "print(\"float(3)/4 =\", float(3)/4)"
   ]
  },
  {
   "cell_type": "code",
   "execution_count": 18,
   "metadata": {},
   "outputs": [
    {
     "data": {
      "text/plain": [
       "4"
      ]
     },
     "execution_count": 18,
     "metadata": {},
     "output_type": "execute_result"
    }
   ],
   "source": [
    "x = 3\n",
    "x += 1 # equivalent to x = x + 1\n",
    "x"
   ]
  },
  {
   "cell_type": "code",
   "execution_count": 19,
   "metadata": {},
   "outputs": [
    {
     "data": {
      "text/plain": [
       "20"
      ]
     },
     "execution_count": 19,
     "metadata": {},
     "output_type": "execute_result"
    }
   ],
   "source": [
    "x = 2\n",
    "y = 10\n",
    "y *= x\n",
    "y"
   ]
  },
  {
   "cell_type": "markdown",
   "metadata": {},
   "source": [
    "# Collections Lists and Strings"
   ]
  },
  {
   "cell_type": "markdown",
   "metadata": {},
   "source": [
    "# Tuples"
   ]
  },
  {
   "cell_type": "code",
   "execution_count": 21,
   "metadata": {},
   "outputs": [
    {
     "name": "stdout",
     "output_type": "stream",
     "text": [
      "(123, 54, 92)\n",
      "()\n",
      "('Ala',)\n",
      "(2, 3, False, 'Arg', None)\n"
     ]
    }
   ],
   "source": [
    "a = (123, 54, 92) # tuple of 4 integers\n",
    "b = () # empty tuple\n",
    "c = (\"Ala\",) # tuple of a single string (note the trailing \",\")\n",
    "d = (2, 3, False, \"Arg\", None) # a tuple of mixed types\n",
    "\n",
    "print(a)\n",
    "print(b)\n",
    "print(c)\n",
    "print(d)"
   ]
  },
  {
   "cell_type": "code",
   "execution_count": 22,
   "metadata": {},
   "outputs": [
    {
     "name": "stdout",
     "output_type": "stream",
     "text": [
      "(1.2, -0.3, 0.9)\n"
     ]
    }
   ],
   "source": [
    "x = 1.2\n",
    "y = -0.3\n",
    "z = 0.9\n",
    "t = (x, y, z)\n",
    "\n",
    "print(t)"
   ]
  },
  {
   "cell_type": "code",
   "execution_count": 23,
   "metadata": {},
   "outputs": [
    {
     "name": "stdout",
     "output_type": "stream",
     "text": [
      "t is (2, 3, 4)\n",
      "x is 2\n",
      "y is 3\n",
      "z is 4\n"
     ]
    }
   ],
   "source": [
    "\n",
    "t = 2, 3, 4 # tuple packing\n",
    "print('t is', t)\n",
    "x, y, z = t # tuple unpacking\n",
    "print('x is', x)\n",
    "print('y is', y)\n",
    "print('z is', z)"
   ]
  },
  {
   "cell_type": "markdown",
   "metadata": {},
   "source": [
    "# Lists"
   ]
  },
  {
   "cell_type": "code",
   "execution_count": 24,
   "metadata": {},
   "outputs": [
    {
     "name": "stdout",
     "output_type": "stream",
     "text": [
      "[1, 3, 9]\n",
      "['ATG']\n",
      "[]\n"
     ]
    }
   ],
   "source": [
    "a = [1, 3, 9]\n",
    "b = [\"ATG\"]\n",
    "c = []\n",
    "\n",
    "print(a)\n",
    "print(b)\n",
    "print(c)"
   ]
  },
  {
   "cell_type": "code",
   "execution_count": 26,
   "metadata": {},
   "outputs": [
    {
     "name": "stdout",
     "output_type": "stream",
     "text": [
      "[[1, 0], [0, 2]]\n"
     ]
    }
   ],
   "source": [
    "matrix = [[1, 0], [0, 2]]\n",
    "print(matrix)"
   ]
  },
  {
   "cell_type": "code",
   "execution_count": 27,
   "metadata": {},
   "outputs": [
    {
     "name": "stdout",
     "output_type": "stream",
     "text": [
      "(1, 4, 9, 16)\n",
      "['G', 'C', 'A', 'T']\n",
      "[1, 4, 9, 16]\n",
      "('G', 'C', 'A', 'T')\n"
     ]
    }
   ],
   "source": [
    "\n",
    "a = (1, 4, 9, 16)     # A tuple of numbers\n",
    "b = ['G','C','A','T'] # A list of characters\n",
    "\n",
    "print(a)\n",
    "print(b)\n",
    "\n",
    "l = list(a)   # Make a list based on a tuple \n",
    "print(l)\n",
    "\n",
    "t = tuple(b)  # Make a tuple based on a list\n",
    "print(t)"
   ]
  },
  {
   "cell_type": "markdown",
   "metadata": {},
   "source": [
    "# 튜플 리스트 변형"
   ]
  },
  {
   "cell_type": "markdown",
   "metadata": {},
   "source": [
    "# Index access"
   ]
  },
  {
   "cell_type": "code",
   "execution_count": 29,
   "metadata": {},
   "outputs": [
    {
     "name": "stdout",
     "output_type": "stream",
     "text": [
      "t is (123, 54, 92, 87, 33)\n",
      "t[0] is 123\n",
      "t[2] is 92\n",
      "x is [123, 54, 92, 87, 33]\n",
      "x[-1] is 33\n"
     ]
    }
   ],
   "source": [
    "t = (123, 54, 92, 87, 33)\n",
    "x = [123, 54, 92, 87, 33]\n",
    "\n",
    "print('t is', t)\n",
    "print('t[0] is', t[0])\n",
    "print('t[2] is', t[2])\n",
    "\n",
    "print('x is', x)\n",
    "print('x[-1] is', x[-1])"
   ]
  },
  {
   "cell_type": "markdown",
   "metadata": {},
   "source": [
    "# Slices"
   ]
  },
  {
   "cell_type": "code",
   "execution_count": 31,
   "metadata": {},
   "outputs": [
    {
     "name": "stdout",
     "output_type": "stream",
     "text": [
      "t[1:3] is (54, 92)\n",
      "x[2:] is [92, 87, 33]\n",
      "x[:-1] is [123, 54, 92, 87]\n"
     ]
    }
   ],
   "source": [
    "t = (123, 54, 92, 87, 33)\n",
    "x = [123, 54, 92, 87, 33]\n",
    "print('t[1:3] is', t[1:3])\n",
    "print('x[2:] is', x[2:])\n",
    "print('x[:-1] is', x[:-1])"
   ]
  },
  {
   "cell_type": "markdown",
   "metadata": {},
   "source": [
    "# in operator"
   ]
  },
  {
   "cell_type": "code",
   "execution_count": 32,
   "metadata": {},
   "outputs": [
    {
     "name": "stdout",
     "output_type": "stream",
     "text": [
      "123 in [123, 54, 92, 87, 33] True\n",
      "234 in (123, 54, 92, 87, 33) False\n",
      "999 not in [123, 54, 92, 87, 33] True\n"
     ]
    }
   ],
   "source": [
    "t = (123, 54, 92, 87, 33)\n",
    "x = [123, 54, 92, 87, 33]\n",
    "print('123 in', x, 123 in x)\n",
    "print('234 in', t, 234 in t)\n",
    "print('999 not in', x, 999 not in x)"
   ]
  },
  {
   "cell_type": "markdown",
   "metadata": {},
   "source": [
    "# len() and count() functions"
   ]
  },
  {
   "cell_type": "code",
   "execution_count": 34,
   "metadata": {},
   "outputs": [
    {
     "name": "stdout",
     "output_type": "stream",
     "text": [
      "length of t is 5\n",
      "number of 33s in x is 1\n"
     ]
    }
   ],
   "source": [
    "t = (123, 54, 92, 87, 33)\n",
    "x = [123, 54, 92, 87, 33]\n",
    "print(\"length of t is\", len(t))\n",
    "print(\"number of 33s in x is\", x.count(33))"
   ]
  },
  {
   "cell_type": "markdown",
   "metadata": {},
   "source": [
    "# Modifying lists"
   ]
  },
  {
   "cell_type": "code",
   "execution_count": 35,
   "metadata": {},
   "outputs": [
    {
     "name": "stdout",
     "output_type": "stream",
     "text": [
      "[123, 54, 92, 87, 33]\n",
      "[123, 54, 33, 87, 33]\n"
     ]
    }
   ],
   "source": [
    "x = [123, 54, 92, 87, 33]\n",
    "print(x)\n",
    "x[2] = 33\n",
    "print(x)"
   ]
  },
  {
   "cell_type": "code",
   "execution_count": 36,
   "metadata": {},
   "outputs": [
    {
     "name": "stdout",
     "output_type": "stream",
     "text": [
      "(123, 54, 92, 87, 33)\n"
     ]
    },
    {
     "ename": "TypeError",
     "evalue": "'tuple' object does not support item assignment",
     "output_type": "error",
     "traceback": [
      "\u001b[1;31m---------------------------------------------------------------------------\u001b[0m",
      "\u001b[1;31mTypeError\u001b[0m                                 Traceback (most recent call last)",
      "\u001b[1;32m<ipython-input-36-8b8ecaf23c21>\u001b[0m in \u001b[0;36m<module>\u001b[1;34m\u001b[0m\n\u001b[0;32m      1\u001b[0m \u001b[0mt\u001b[0m \u001b[1;33m=\u001b[0m \u001b[1;33m(\u001b[0m\u001b[1;36m123\u001b[0m\u001b[1;33m,\u001b[0m \u001b[1;36m54\u001b[0m\u001b[1;33m,\u001b[0m \u001b[1;36m92\u001b[0m\u001b[1;33m,\u001b[0m \u001b[1;36m87\u001b[0m\u001b[1;33m,\u001b[0m \u001b[1;36m33\u001b[0m\u001b[1;33m)\u001b[0m\u001b[1;33m\u001b[0m\u001b[1;33m\u001b[0m\u001b[0m\n\u001b[0;32m      2\u001b[0m \u001b[0mprint\u001b[0m\u001b[1;33m(\u001b[0m\u001b[0mt\u001b[0m\u001b[1;33m)\u001b[0m\u001b[1;33m\u001b[0m\u001b[1;33m\u001b[0m\u001b[0m\n\u001b[1;32m----> 3\u001b[1;33m \u001b[0mt\u001b[0m\u001b[1;33m[\u001b[0m\u001b[1;36m1\u001b[0m\u001b[1;33m]\u001b[0m \u001b[1;33m=\u001b[0m \u001b[1;36m4\u001b[0m\u001b[1;33m\u001b[0m\u001b[1;33m\u001b[0m\u001b[0m\n\u001b[0m",
      "\u001b[1;31mTypeError\u001b[0m: 'tuple' object does not support item assignment"
     ]
    }
   ],
   "source": [
    "t = (123, 54, 92, 87, 33)\n",
    "print(t)\n",
    "t[1] = 4 #튜플은 수정이 안됨"
   ]
  },
  {
   "cell_type": "code",
   "execution_count": 37,
   "metadata": {},
   "outputs": [
    {
     "name": "stdout",
     "output_type": "stream",
     "text": [
      "[123, 54, 92, 87, 33, 101]\n"
     ]
    }
   ],
   "source": [
    "x = [123, 54, 92, 87, 33]\n",
    "x.append(101)\n",
    "print(x)"
   ]
  },
  {
   "cell_type": "code",
   "execution_count": 38,
   "metadata": {},
   "outputs": [
    {
     "name": "stdout",
     "output_type": "stream",
     "text": [
      "[123, 54, 92, 1111, 87, 33]\n"
     ]
    }
   ],
   "source": [
    "x = [123, 54, 92, 87, 33]\n",
    "x.insert(3, 1111)\n",
    "print(x)"
   ]
  },
  {
   "cell_type": "code",
   "execution_count": 40,
   "metadata": {},
   "outputs": [
    {
     "name": "stdout",
     "output_type": "stream",
     "text": [
      "[54, 92, 87, 33]\n"
     ]
    }
   ],
   "source": [
    "x = [123, 54, 92, 87, 33]\n",
    "x.remove(123)\n",
    "print(x)"
   ]
  },
  {
   "cell_type": "code",
   "execution_count": 42,
   "metadata": {},
   "outputs": [
    {
     "name": "stdout",
     "output_type": "stream",
     "text": [
      "[123, 54, 92, 87, 33]\n",
      "[54, 92, 87, 33]\n"
     ]
    }
   ],
   "source": [
    "x = [123, 54, 92, 87, 33]\n",
    "print(x)\n",
    "del x[0]\n",
    "print(x)"
   ]
  },
  {
   "cell_type": "code",
   "execution_count": 43,
   "metadata": {},
   "outputs": [
    {
     "name": "stdout",
     "output_type": "stream",
     "text": [
      "[1, 2, 3, 4, 5, 6]\n",
      "[1, 2, 3, 4, 5, 6, [4, 5, 6]]\n"
     ]
    }
   ],
   "source": [
    "a = [1,2,3]\n",
    "b = [4,5,6]\n",
    "a.extend(b)\n",
    "print(a)\n",
    "a.append(b)\n",
    "print(a)"
   ]
  },
  {
   "cell_type": "code",
   "execution_count": 44,
   "metadata": {},
   "outputs": [
    {
     "name": "stdout",
     "output_type": "stream",
     "text": [
      "[1, 2, 3, 4, 5, 6]\n"
     ]
    }
   ],
   "source": [
    "a = [1, 2, 3]\n",
    "b = [4, 5, 6]\n",
    "a = a + b\n",
    "print(a)"
   ]
  },
  {
   "cell_type": "code",
   "execution_count": 45,
   "metadata": {},
   "outputs": [
    {
     "name": "stdout",
     "output_type": "stream",
     "text": [
      "[1, 9, 9, 9, 9, 4, 5, 6]\n"
     ]
    }
   ],
   "source": [
    "a = [1, 2, 3, 4, 5, 6]\n",
    "a[1:3] = [9, 9, 9, 9]\n",
    "print(a)"
   ]
  },
  {
   "cell_type": "code",
   "execution_count": 47,
   "metadata": {},
   "outputs": [
    {
     "name": "stdout",
     "output_type": "stream",
     "text": [
      "[2, 4, 5, 3, 1]\n",
      "[1, 2, 3, 4, 5]\n"
     ]
    }
   ],
   "source": [
    "a = [1, 3, 5, 4, 2]\n",
    "a.reverse()\n",
    "print(a)\n",
    "a.sort()\n",
    "print(a)"
   ]
  },
  {
   "cell_type": "code",
   "execution_count": 49,
   "metadata": {},
   "outputs": [
    {
     "name": "stdout",
     "output_type": "stream",
     "text": [
      "[2, 5, 7, 1]\n",
      "[1, 2, 5, 7]\n"
     ]
    }
   ],
   "source": [
    "a = [2, 5, 7, 1]\n",
    "b = sorted(a)\n",
    "print(a)\n",
    "print(b)"
   ]
  },
  {
   "cell_type": "code",
   "execution_count": 50,
   "metadata": {},
   "outputs": [
    {
     "name": "stdout",
     "output_type": "stream",
     "text": [
      "Help on built-in function len in module builtins:\n",
      "\n",
      "len(obj, /)\n",
      "    Return the number of items in a container.\n",
      "\n"
     ]
    }
   ],
   "source": [
    "help(len)"
   ]
  },
  {
   "cell_type": "code",
   "execution_count": 51,
   "metadata": {},
   "outputs": [
    {
     "name": "stdout",
     "output_type": "stream",
     "text": [
      "Help on class list in module builtins:\n",
      "\n",
      "class list(object)\n",
      " |  list(iterable=(), /)\n",
      " |  \n",
      " |  Built-in mutable sequence.\n",
      " |  \n",
      " |  If no argument is given, the constructor creates a new empty list.\n",
      " |  The argument must be an iterable if specified.\n",
      " |  \n",
      " |  Methods defined here:\n",
      " |  \n",
      " |  __add__(self, value, /)\n",
      " |      Return self+value.\n",
      " |  \n",
      " |  __contains__(self, key, /)\n",
      " |      Return key in self.\n",
      " |  \n",
      " |  __delitem__(self, key, /)\n",
      " |      Delete self[key].\n",
      " |  \n",
      " |  __eq__(self, value, /)\n",
      " |      Return self==value.\n",
      " |  \n",
      " |  __ge__(self, value, /)\n",
      " |      Return self>=value.\n",
      " |  \n",
      " |  __getattribute__(self, name, /)\n",
      " |      Return getattr(self, name).\n",
      " |  \n",
      " |  __getitem__(...)\n",
      " |      x.__getitem__(y) <==> x[y]\n",
      " |  \n",
      " |  __gt__(self, value, /)\n",
      " |      Return self>value.\n",
      " |  \n",
      " |  __iadd__(self, value, /)\n",
      " |      Implement self+=value.\n",
      " |  \n",
      " |  __imul__(self, value, /)\n",
      " |      Implement self*=value.\n",
      " |  \n",
      " |  __init__(self, /, *args, **kwargs)\n",
      " |      Initialize self.  See help(type(self)) for accurate signature.\n",
      " |  \n",
      " |  __iter__(self, /)\n",
      " |      Implement iter(self).\n",
      " |  \n",
      " |  __le__(self, value, /)\n",
      " |      Return self<=value.\n",
      " |  \n",
      " |  __len__(self, /)\n",
      " |      Return len(self).\n",
      " |  \n",
      " |  __lt__(self, value, /)\n",
      " |      Return self<value.\n",
      " |  \n",
      " |  __mul__(self, value, /)\n",
      " |      Return self*value.\n",
      " |  \n",
      " |  __ne__(self, value, /)\n",
      " |      Return self!=value.\n",
      " |  \n",
      " |  __repr__(self, /)\n",
      " |      Return repr(self).\n",
      " |  \n",
      " |  __reversed__(self, /)\n",
      " |      Return a reverse iterator over the list.\n",
      " |  \n",
      " |  __rmul__(self, value, /)\n",
      " |      Return value*self.\n",
      " |  \n",
      " |  __setitem__(self, key, value, /)\n",
      " |      Set self[key] to value.\n",
      " |  \n",
      " |  __sizeof__(self, /)\n",
      " |      Return the size of the list in memory, in bytes.\n",
      " |  \n",
      " |  append(self, object, /)\n",
      " |      Append object to the end of the list.\n",
      " |  \n",
      " |  clear(self, /)\n",
      " |      Remove all items from list.\n",
      " |  \n",
      " |  copy(self, /)\n",
      " |      Return a shallow copy of the list.\n",
      " |  \n",
      " |  count(self, value, /)\n",
      " |      Return number of occurrences of value.\n",
      " |  \n",
      " |  extend(self, iterable, /)\n",
      " |      Extend list by appending elements from the iterable.\n",
      " |  \n",
      " |  index(self, value, start=0, stop=9223372036854775807, /)\n",
      " |      Return first index of value.\n",
      " |      \n",
      " |      Raises ValueError if the value is not present.\n",
      " |  \n",
      " |  insert(self, index, object, /)\n",
      " |      Insert object before index.\n",
      " |  \n",
      " |  pop(self, index=-1, /)\n",
      " |      Remove and return item at index (default last).\n",
      " |      \n",
      " |      Raises IndexError if list is empty or index is out of range.\n",
      " |  \n",
      " |  remove(self, value, /)\n",
      " |      Remove first occurrence of value.\n",
      " |      \n",
      " |      Raises ValueError if the value is not present.\n",
      " |  \n",
      " |  reverse(self, /)\n",
      " |      Reverse *IN PLACE*.\n",
      " |  \n",
      " |  sort(self, /, *, key=None, reverse=False)\n",
      " |      Stable sort *IN PLACE*.\n",
      " |  \n",
      " |  ----------------------------------------------------------------------\n",
      " |  Static methods defined here:\n",
      " |  \n",
      " |  __new__(*args, **kwargs) from builtins.type\n",
      " |      Create and return a new object.  See help(type) for accurate signature.\n",
      " |  \n",
      " |  ----------------------------------------------------------------------\n",
      " |  Data and other attributes defined here:\n",
      " |  \n",
      " |  __hash__ = None\n",
      "\n"
     ]
    }
   ],
   "source": [
    "help(list)"
   ]
  },
  {
   "cell_type": "code",
   "execution_count": 52,
   "metadata": {},
   "outputs": [
    {
     "name": "stdout",
     "output_type": "stream",
     "text": [
      "Help on method_descriptor:\n",
      "\n",
      "insert(self, index, object, /)\n",
      "    Insert object before index.\n",
      "\n"
     ]
    }
   ],
   "source": [
    "help(list.insert)"
   ]
  },
  {
   "cell_type": "code",
   "execution_count": 53,
   "metadata": {},
   "outputs": [
    {
     "name": "stdout",
     "output_type": "stream",
     "text": [
      "Help on method_descriptor:\n",
      "\n",
      "count(self, value, /)\n",
      "    Return number of occurrences of value.\n",
      "\n"
     ]
    }
   ],
   "source": [
    "help(list.count)"
   ]
  },
  {
   "cell_type": "markdown",
   "metadata": {},
   "source": [
    "# String 변형"
   ]
  },
  {
   "cell_type": "code",
   "execution_count": 55,
   "metadata": {},
   "outputs": [
    {
     "name": "stdout",
     "output_type": "stream",
     "text": [
      "A\n",
      "G\n",
      "ATGTCA\n",
      "True\n",
      "False\n",
      "11\n"
     ]
    }
   ],
   "source": [
    "text = \"ATGTCATTTGT\"\n",
    "print(text[0])\n",
    "print(text[-2])\n",
    "print(text[0:6])\n",
    "print(\"ATG\" in text)\n",
    "print(\"TGA\" in text)\n",
    "print(len(text))"
   ]
  },
  {
   "cell_type": "code",
   "execution_count": 60,
   "metadata": {},
   "outputs": [
    {
     "ename": "TypeError",
     "evalue": "'str' object does not support item assignment",
     "output_type": "error",
     "traceback": [
      "\u001b[1;31m---------------------------------------------------------------------------\u001b[0m",
      "\u001b[1;31mTypeError\u001b[0m                                 Traceback (most recent call last)",
      "\u001b[1;32m<ipython-input-60-b4dea77e3709>\u001b[0m in \u001b[0;36m<module>\u001b[1;34m\u001b[0m\n\u001b[0;32m      1\u001b[0m \u001b[0mtext\u001b[0m \u001b[1;33m=\u001b[0m \u001b[1;34m\"ATGTCATTTGT\"\u001b[0m\u001b[1;33m\u001b[0m\u001b[1;33m\u001b[0m\u001b[0m\n\u001b[1;32m----> 2\u001b[1;33m \u001b[0mtext\u001b[0m\u001b[1;33m[\u001b[0m\u001b[1;36m0\u001b[0m\u001b[1;33m:\u001b[0m\u001b[1;36m2\u001b[0m\u001b[1;33m]\u001b[0m \u001b[1;33m=\u001b[0m \u001b[1;34m\"CCC\"\u001b[0m\u001b[1;33m\u001b[0m\u001b[1;33m\u001b[0m\u001b[0m\n\u001b[0m\u001b[0;32m      3\u001b[0m \u001b[1;31m#튜플과 마찬가지로 문자열 요소에 값을 할당하려고하면 오류가 발생합니다\u001b[0m\u001b[1;33m\u001b[0m\u001b[1;33m\u001b[0m\u001b[1;33m\u001b[0m\u001b[0m\n",
      "\u001b[1;31mTypeError\u001b[0m: 'str' object does not support item assignment"
     ]
    }
   ],
   "source": [
    "text = \"ATGTCATTTGT\"\n",
    "text[0:2] = \"CCC\"\n",
    "#튜플과 마찬가지로 문자열 요소에 값을 할당하려고하면 오류가 발생합니다"
   ]
  },
  {
   "cell_type": "code",
   "execution_count": 61,
   "metadata": {},
   "outputs": [
    {
     "name": "stdout",
     "output_type": "stream",
     "text": [
      "TCA is at position: 3\n",
      "The last Cytosine is at position: 7\n",
      "Position of a stop codon: -1\n"
     ]
    }
   ],
   "source": [
    "dna = \"ATGTCACCGTTT\"\n",
    "index = dna.find(\"TCA\")\n",
    "print(\"TCA is at position:\", index)\n",
    "index = dna.rfind('C')\n",
    "print(\"The last Cytosine is at position:\", index)\n",
    "print(\"Position of a stop codon:\", dna.find(\"TGA\"))"
   ]
  },
  {
   "cell_type": "code",
   "execution_count": 69,
   "metadata": {},
   "outputs": [
    {
     "name": "stdout",
     "output_type": "stream",
     "text": [
      "34     나는 파이썬 잘해                     \n",
      "30 나는 파이썬 잘해                     \n",
      "9 나는 파이썬 잘해\n",
      "9 나는 파이썬 잘해\n"
     ]
    }
   ],
   "source": [
    "s = \"    나는 파이썬 잘해                     \"\n",
    "print(len(s), s)\n",
    "s = s.lstrip()\n",
    "print(len(s), s)\n",
    "s = s.rstrip()\n",
    "print(len(s), s)\n",
    "s = \"    나는 파이썬 잘해                     \"\n",
    "s = s.strip()\n",
    "print(len(s), s)"
   ]
  },
  {
   "cell_type": "code",
   "execution_count": 63,
   "metadata": {},
   "outputs": [
    {
     "name": "stdout",
     "output_type": "stream",
     "text": [
      "['ATG', 'TCA', 'CCG', 'GGC']\n",
      "['A', 'T', 'G', ' ', 'T', 'C', 'A', ' ', 'C', 'C', 'G', ' ', 'G', 'G', 'C']\n"
     ]
    }
   ],
   "source": [
    "seq = \"ATG TCA CCG GGC\"\n",
    "codons = seq.split(\" \")\n",
    "print(codons)\n",
    "\n",
    "bases = list(seq) # a tuple of character converted into a list\n",
    "print(bases)"
   ]
  },
  {
   "cell_type": "code",
   "execution_count": 64,
   "metadata": {},
   "outputs": [
    {
     "name": "stdout",
     "output_type": "stream",
     "text": [
      "['ATG', 'TCA', 'CCG', 'GGC']\n",
      "ATG|TCA|CCG|GGC\n"
     ]
    }
   ],
   "source": [
    "\n",
    "seq = \"ATG TCA CCG GGC\"\n",
    "codons = seq.split(\" \")\n",
    "print(codons)\n",
    "print(\"|\".join(codons))"
   ]
  },
  {
   "cell_type": "code",
   "execution_count": 65,
   "metadata": {},
   "outputs": [
    {
     "name": "stdout",
     "output_type": "stream",
     "text": [
      "chr2\n"
     ]
    }
   ],
   "source": [
    "s = \"chr\"\n",
    "chrom_number = 2\n",
    "print(s + str(chrom_number))"
   ]
  },
  {
   "cell_type": "code",
   "execution_count": 66,
   "metadata": {},
   "outputs": [
    {
     "name": "stdout",
     "output_type": "stream",
     "text": [
      "Help on method_descriptor:\n",
      "\n",
      "split(self, /, sep=None, maxsplit=-1)\n",
      "    Return a list of the words in the string, using sep as the delimiter string.\n",
      "    \n",
      "    sep\n",
      "      The delimiter according which to split the string.\n",
      "      None (the default value) means split according to any whitespace,\n",
      "      and discard empty strings from the result.\n",
      "    maxsplit\n",
      "      Maximum number of splits to do.\n",
      "      -1 (the default value) means no limit.\n",
      "\n",
      "Help on method_descriptor:\n",
      "\n",
      "join(self, iterable, /)\n",
      "    Concatenate any number of strings.\n",
      "    \n",
      "    The string whose method is called is inserted in between each given string.\n",
      "    The result is returned as a new string.\n",
      "    \n",
      "    Example: '.'.join(['ab', 'pq', 'rs']) -> 'ab.pq.rs'\n",
      "\n"
     ]
    }
   ],
   "source": [
    "help(str.split)\n",
    "help(str.join)"
   ]
  },
  {
   "cell_type": "markdown",
   "metadata": {},
   "source": [
    "# Sets"
   ]
  },
  {
   "cell_type": "code",
   "execution_count": 70,
   "metadata": {},
   "outputs": [
    {
     "name": "stdout",
     "output_type": "stream",
     "text": [
      "{1, 2, 3}\n",
      "set()\n"
     ]
    }
   ],
   "source": [
    "\n",
    "l = [1, 2, 3, 2, 3] # list of 5 values\n",
    "s = set(l) # set of 3 unique values\n",
    "print(s)\n",
    "e = set() # empty set\n",
    "print(e)"
   ]
  },
  {
   "cell_type": "code",
   "execution_count": 71,
   "metadata": {},
   "outputs": [
    {
     "name": "stdout",
     "output_type": "stream",
     "text": [
      "{1, 2, 3}\n",
      "number in set: 3\n",
      "{1, 2, 3, 4}\n",
      "{1, 2, 3, 4}\n"
     ]
    }
   ],
   "source": [
    "s = set([1, 2, 3, 2, 3])\n",
    "print(s)\n",
    "print(\"number in set:\", len(s))\n",
    "s.add(4)\n",
    "print(s)\n",
    "s.add(3)\n",
    "print(s)"
   ]
  },
  {
   "cell_type": "code",
   "execution_count": 72,
   "metadata": {},
   "outputs": [
    {
     "name": "stdout",
     "output_type": "stream",
     "text": [
      "{1, 2, 3}\n",
      "{1, 2}\n"
     ]
    }
   ],
   "source": [
    "\n",
    "s = set([1, 2, 3, 2, 3])\n",
    "print(s)\n",
    "s.remove(3)\n",
    "print(s)"
   ]
  },
  {
   "cell_type": "code",
   "execution_count": 74,
   "metadata": {},
   "outputs": [
    {
     "name": "stdout",
     "output_type": "stream",
     "text": [
      "합집합: {2, 4, 5, 6, 7, 8, 10}\n",
      "교집합: {4, 6}\n"
     ]
    }
   ],
   "source": [
    "s1 = set([2, 4, 6, 8, 10])\n",
    "s2 = set([4, 5, 6, 7])\n",
    "\n",
    "print(\"합집합:\", s1 | s2)\n",
    "print(\"교집합:\", s1 & s2)"
   ]
  },
  {
   "cell_type": "markdown",
   "metadata": {},
   "source": [
    "# Dictionaries"
   ]
  },
  {
   "cell_type": "code",
   "execution_count": 75,
   "metadata": {},
   "outputs": [
    {
     "name": "stdout",
     "output_type": "stream",
     "text": [
      "{'A': 'Adenine', 'C': 'Cytosine', 'G': 'Guanine', 'T': 'Thymine'}\n"
     ]
    }
   ],
   "source": [
    "dna = {\"A\": \"Adenine\", \"C\": \"Cytosine\", \"G\": \"Guanine\", \"T\": \"Thymine\"}\n",
    "print(dna)"
   ]
  },
  {
   "cell_type": "code",
   "execution_count": 77,
   "metadata": {},
   "outputs": [
    {
     "name": "stdout",
     "output_type": "stream",
     "text": [
      "A 는 Adenine\n",
      "G 는 Guanine\n"
     ]
    }
   ],
   "source": [
    "dna = {\"A\": \"Adenine\", \"C\": \"Cytosine\", \"G\": \"Guanine\", \"T\": \"Thymine\"}\n",
    "print(\"A 는\", dna[\"A\"])\n",
    "print(\"G 는\", dna[\"G\"])"
   ]
  },
  {
   "cell_type": "code",
   "execution_count": 78,
   "metadata": {},
   "outputs": [
    {
     "ename": "KeyError",
     "evalue": "'N'",
     "output_type": "error",
     "traceback": [
      "\u001b[1;31m---------------------------------------------------------------------------\u001b[0m",
      "\u001b[1;31mKeyError\u001b[0m                                  Traceback (most recent call last)",
      "\u001b[1;32m<ipython-input-78-8300010def4c>\u001b[0m in \u001b[0;36m<module>\u001b[1;34m\u001b[0m\n\u001b[0;32m      1\u001b[0m \u001b[0mdna\u001b[0m \u001b[1;33m=\u001b[0m \u001b[1;33m{\u001b[0m\u001b[1;34m\"A\"\u001b[0m\u001b[1;33m:\u001b[0m \u001b[1;34m\"Adenine\"\u001b[0m\u001b[1;33m,\u001b[0m \u001b[1;34m\"C\"\u001b[0m\u001b[1;33m:\u001b[0m \u001b[1;34m\"Cytosine\"\u001b[0m\u001b[1;33m,\u001b[0m \u001b[1;34m\"G\"\u001b[0m\u001b[1;33m:\u001b[0m \u001b[1;34m\"Guanine\"\u001b[0m\u001b[1;33m,\u001b[0m \u001b[1;34m\"T\"\u001b[0m\u001b[1;33m:\u001b[0m \u001b[1;34m\"Thymine\"\u001b[0m\u001b[1;33m}\u001b[0m\u001b[1;33m\u001b[0m\u001b[1;33m\u001b[0m\u001b[0m\n\u001b[1;32m----> 2\u001b[1;33m \u001b[0mprint\u001b[0m\u001b[1;33m(\u001b[0m\u001b[1;34m\"What about N?\"\u001b[0m\u001b[1;33m,\u001b[0m \u001b[0mdna\u001b[0m\u001b[1;33m[\u001b[0m\u001b[1;34m\"N\"\u001b[0m\u001b[1;33m]\u001b[0m\u001b[1;33m)\u001b[0m\u001b[1;33m\u001b[0m\u001b[1;33m\u001b[0m\u001b[0m\n\u001b[0m",
      "\u001b[1;31mKeyError\u001b[0m: 'N'"
     ]
    }
   ],
   "source": [
    "dna = {\"A\": \"Adenine\", \"C\": \"Cytosine\", \"G\": \"Guanine\", \"T\": \"Thymine\"}\n",
    "print(\"What about N?\", dna[\"N\"])"
   ]
  },
  {
   "cell_type": "code",
   "execution_count": 80,
   "metadata": {},
   "outputs": [
    {
     "name": "stdout",
     "output_type": "stream",
     "text": [
      "N은 None\n",
      "값은: unknown\n"
     ]
    }
   ],
   "source": [
    "dna = {\"A\": \"Adenine\", \"C\": \"Cytosine\", \"G\": \"Guanine\", \"T\": \"Thymine\"}\n",
    "print(\"N은\", dna.get(\"N\"))\n",
    "print(\"값은:\", dna.get(\"N\", \"unknown\"))"
   ]
  },
  {
   "cell_type": "code",
   "execution_count": 81,
   "metadata": {},
   "outputs": [
    {
     "data": {
      "text/plain": [
       "True"
      ]
     },
     "execution_count": 81,
     "metadata": {},
     "output_type": "execute_result"
    }
   ],
   "source": [
    "dna = {\"A\": \"Adenine\", \"C\": \"Cytosine\", \"G\": \"Guanine\", \"T\": \"Thymine\"}\n",
    "\"T\" in dna"
   ]
  },
  {
   "cell_type": "code",
   "execution_count": 82,
   "metadata": {},
   "outputs": [
    {
     "data": {
      "text/plain": [
       "True"
      ]
     },
     "execution_count": 82,
     "metadata": {},
     "output_type": "execute_result"
    }
   ],
   "source": [
    "\n",
    "dna = {\"A\": \"Adenine\", \"C\": \"Cytosine\", \"G\": \"Guanine\", \"T\": \"Thymine\"}\n",
    "\"Y\" not in dna"
   ]
  },
  {
   "cell_type": "code",
   "execution_count": 83,
   "metadata": {},
   "outputs": [
    {
     "name": "stdout",
     "output_type": "stream",
     "text": [
      "4\n"
     ]
    }
   ],
   "source": [
    "dna = {\"A\": \"Adenine\", \"C\": \"Cytosine\", \"G\": \"Guanine\", \"T\": \"Thymine\"}\n",
    "print(len(dna))"
   ]
  },
  {
   "cell_type": "code",
   "execution_count": 84,
   "metadata": {},
   "outputs": [
    {
     "name": "stdout",
     "output_type": "stream",
     "text": [
      "{'A': 'Adenine', 'C': 'Cytosine', 'G': 'Guanine', 'T': 'Thymine', 'Y': 'Pyrimidine'}\n"
     ]
    }
   ],
   "source": [
    "dna = {\"A\": \"Adenine\", \"C\": \"Cytosine\", \"G\": \"Guanine\", \"T\": \"Thymine\"}\n",
    "dna['Y'] = 'Pyrimidine'\n",
    "print(dna)"
   ]
  },
  {
   "cell_type": "code",
   "execution_count": 85,
   "metadata": {},
   "outputs": [
    {
     "name": "stdout",
     "output_type": "stream",
     "text": [
      "{'A': 'Adenine', 'C': 'Cytosine', 'T': 'Thymine', 'G': 'Guanine', 'Y': 'Cytosine or Thymine'}\n"
     ]
    }
   ],
   "source": [
    "dna = {'A': 'Adenine', 'C': 'Cytosine', 'T': 'Thymine', 'G': 'Guanine', 'Y': 'Pyrimidine'}\n",
    "dna['Y'] = 'Cytosine or Thymine'\n",
    "print(dna)"
   ]
  },
  {
   "cell_type": "code",
   "execution_count": 86,
   "metadata": {},
   "outputs": [
    {
     "name": "stdout",
     "output_type": "stream",
     "text": [
      "{'A': 'Adenine', 'C': 'Cytosine', 'T': 'Thymine', 'G': 'Guanine'}\n"
     ]
    }
   ],
   "source": [
    "\n",
    "dna = {'A': 'Adenine', 'C': 'Cytosine', 'T': 'Thymine', 'G': 'Guanine', 'Y': 'Pyrimidine'}\n",
    "del dna['Y']\n",
    "print(dna)"
   ]
  },
  {
   "cell_type": "code",
   "execution_count": 87,
   "metadata": {},
   "outputs": [
    {
     "name": "stdout",
     "output_type": "stream",
     "text": [
      "['A', 'C', 'T', 'G', 'Y']\n"
     ]
    }
   ],
   "source": [
    "dna = {'A': 'Adenine', 'C': 'Cytosine', 'T': 'Thymine', 'G': 'Guanine', 'Y': 'Pyrimidine'}\n",
    "print(list(dna.keys()))"
   ]
  },
  {
   "cell_type": "code",
   "execution_count": 88,
   "metadata": {},
   "outputs": [
    {
     "name": "stdout",
     "output_type": "stream",
     "text": [
      "['Adenine', 'Cytosine', 'Thymine', 'Guanine', 'Pyrimidine']\n"
     ]
    }
   ],
   "source": [
    "dna = {'A': 'Adenine', 'C': 'Cytosine', 'T': 'Thymine', 'G': 'Guanine', 'Y': 'Pyrimidine'}\n",
    "print(list(dna.values()))"
   ]
  },
  {
   "cell_type": "code",
   "execution_count": 89,
   "metadata": {},
   "outputs": [
    {
     "name": "stdout",
     "output_type": "stream",
     "text": [
      "[('A', 'Adenine'), ('C', 'Cytosine'), ('T', 'Thymine'), ('G', 'Guanine'), ('Y', 'Pyrimidine')]\n"
     ]
    }
   ],
   "source": [
    "dna = {'A': 'Adenine', 'C': 'Cytosine', 'T': 'Thymine', 'G': 'Guanine', 'Y': 'Pyrimidine'}\n",
    "print(list(dna.items()))"
   ]
  },
  {
   "cell_type": "markdown",
   "metadata": {},
   "source": [
    "# Conditional execution"
   ]
  },
  {
   "cell_type": "code",
   "execution_count": 90,
   "metadata": {},
   "outputs": [
    {
     "name": "stdout",
     "output_type": "stream",
     "text": [
      "Value is negative\n"
     ]
    }
   ],
   "source": [
    "x = -3\n",
    "\n",
    "if x > 0:\n",
    "  print(\"Value is positive\")\n",
    "\n",
    "elif x < 0:\n",
    "  print(\"Value is negative\")\n",
    "\n",
    "else:\n",
    "  print(\"Value is zero\")"
   ]
  },
  {
   "cell_type": "code",
   "execution_count": 91,
   "metadata": {},
   "outputs": [
    {
     "name": "stdout",
     "output_type": "stream",
     "text": [
      "BRCA2 is downregulated\n"
     ]
    }
   ],
   "source": [
    "\n",
    "gene = \"BRCA2\"\n",
    "geneExpression = -1.2\n",
    "\n",
    "if geneExpression < 0:\n",
    "    print(gene, \"is downregulated\")\n",
    "        \n",
    "elif geneExpression > 0:\n",
    "    print(gene, \"is upregulated\")\n",
    "        \n",
    "else:\n",
    "    pass"
   ]
  },
  {
   "cell_type": "code",
   "execution_count": 92,
   "metadata": {},
   "outputs": [
    {
     "name": "stdout",
     "output_type": "stream",
     "text": [
      "No\n",
      "No\n"
     ]
    }
   ],
   "source": [
    "\n",
    "x = 11\n",
    "\n",
    "if x < 10:\n",
    "    s = \"Yes\"\n",
    "else:\n",
    "    s = \"No\"\n",
    "print(s)\n",
    "\n",
    "# Could also be written onto one line\n",
    "s = \"Yes\" if x < 10 else \"No\"\n",
    "print(s)"
   ]
  },
  {
   "cell_type": "code",
   "execution_count": 93,
   "metadata": {},
   "outputs": [
    {
     "name": "stdout",
     "output_type": "stream",
     "text": [
      "In range B\n"
     ]
    }
   ],
   "source": [
    "x = -5\n",
    "\n",
    "if x > 0 and x < 10:\n",
    "    print(\"In range A\")\n",
    "    \n",
    "elif x < 0 or x > 10:\n",
    "    print(\"In range B\")"
   ]
  },
  {
   "cell_type": "code",
   "execution_count": 94,
   "metadata": {},
   "outputs": [
    {
     "name": "stdout",
     "output_type": "stream",
     "text": [
      "True\n",
      "False\n"
     ]
    }
   ],
   "source": [
    "a = 500\n",
    "b = 500\n",
    "print(a == b) # True\n",
    "print(a is b) # False"
   ]
  },
  {
   "cell_type": "code",
   "execution_count": 95,
   "metadata": {},
   "outputs": [
    {
     "name": "stdout",
     "output_type": "stream",
     "text": [
      "[123, 54, 92, 87, 33]\n",
      "[123, 54, 92, 87, 33]\n",
      "[123, 54, 92, 87, 33]\n",
      "Are values of y and x the same? True\n",
      "Are objects y and x the same? False\n",
      "Are values of z and x the same? True\n",
      "Are objects z and x the same? True\n"
     ]
    }
   ],
   "source": [
    "x = [123, 54, 92, 87, 33]\n",
    "y = x[:] # y is a copy of x\n",
    "z = x\n",
    "print(x)\n",
    "print(y)\n",
    "print(z)\n",
    "print(\"Are values of y and x the same?\", y == x)\n",
    "print(\"Are objects y and x the same?\", y is x)\n",
    "print(\"Are values of z and x the same?\", z == x)\n",
    "print(\"Are objects z and x the same?\", z is x)"
   ]
  },
  {
   "cell_type": "code",
   "execution_count": 96,
   "metadata": {},
   "outputs": [
    {
     "name": "stdout",
     "output_type": "stream",
     "text": [
      "[123, 23, 92, 87, 33]\n",
      "[123, 54, 92, 87, 33]\n",
      "[123, 23, 92, 87, 33]\n",
      "Are values of y and x the same? False\n",
      "Are objects y and x the same? False\n",
      "Are values of z and x the same? True\n",
      "Are objects z and x the same? True\n"
     ]
    }
   ],
   "source": [
    "# Let's change x\n",
    "x[1] = 23\n",
    "print(x)\n",
    "print(y)\n",
    "print(z)\n",
    "print(\"Are values of y and x the same?\", y == x)\n",
    "print(\"Are objects y and x the same?\", y is x)\n",
    "print(\"Are values of z and x the same?\", z == x)\n",
    "print(\"Are objects z and x the same?\", z is x)"
   ]
  },
  {
   "cell_type": "code",
   "execution_count": 97,
   "metadata": {},
   "outputs": [
    {
     "name": "stdout",
     "output_type": "stream",
     "text": [
      "x is false\n",
      "y is true\n"
     ]
    }
   ],
   "source": [
    "x = ''      # An empty string\n",
    "y = ['a']   # A list with one item\n",
    "\n",
    "if x:\n",
    "    print(\"x is true\")\n",
    "else: \n",
    "    print(\"x is false\")     \n",
    "\n",
    "if y:\n",
    "    print(\"y is true\")\n",
    "else:\n",
    "    print(\"y is false\")"
   ]
  },
  {
   "cell_type": "markdown",
   "metadata": {},
   "source": [
    "# Loops"
   ]
  },
  {
   "cell_type": "code",
   "execution_count": 100,
   "metadata": {},
   "outputs": [
    {
     "name": "stdout",
     "output_type": "stream",
     "text": [
      "NA06984\n",
      "NA06985\n",
      "NA06986\n",
      "NA06989\n",
      "NA06991\n"
     ]
    }
   ],
   "source": [
    "codeList = ['NA06984', 'NA06985', 'NA06986', 'NA06989', 'NA06991']\n",
    "\n",
    "for code in codeList:\n",
    "    print(code)"
   ]
  },
  {
   "cell_type": "code",
   "execution_count": 101,
   "metadata": {},
   "outputs": [
    {
     "name": "stdout",
     "output_type": "stream",
     "text": [
      "A\n",
      "T\n",
      "G\n",
      "G\n",
      "T\n",
      "G\n",
      "T\n",
      "T\n",
      "G\n",
      "C\n",
      "C\n"
     ]
    }
   ],
   "source": [
    "dnaSequence = 'ATGGTGTTGCC'\n",
    "\n",
    "for base in dnaSequence:\n",
    "    print(base)"
   ]
  },
  {
   "cell_type": "code",
   "execution_count": 103,
   "metadata": {},
   "outputs": [
    {
     "name": "stdout",
     "output_type": "stream",
     "text": [
      "G 345.21\n",
      "C 305.18\n",
      "A 329.21\n",
      "U 302.16\n"
     ]
    }
   ],
   "source": [
    "rnaMassDict = {\"G\":345.21, \"C\":305.18, \"A\":329.21, \"U\":302.16}\n",
    "\n",
    "for x in rnaMassDict:\n",
    "    print(x, rnaMassDict[x])"
   ]
  },
  {
   "cell_type": "code",
   "execution_count": 104,
   "metadata": {},
   "outputs": [
    {
     "name": "stdout",
     "output_type": "stream",
     "text": [
      "1\n",
      "3\n",
      "7\n",
      "15\n",
      "31\n",
      "31\n"
     ]
    }
   ],
   "source": [
    "total = 0\n",
    "values = [1, 2, 4, 8, 16]\n",
    "\n",
    "for v in values:\n",
    "    total = total + v\n",
    "    # total += v\n",
    "    print(total)\n",
    "\n",
    "print(total)"
   ]
  },
  {
   "cell_type": "code",
   "execution_count": 105,
   "metadata": {},
   "outputs": [
    {
     "name": "stdout",
     "output_type": "stream",
     "text": [
      "Beta-Catenin is upregulated\n",
      "Beta-Actin is upregulated\n",
      "No change in expression of  Pax6\n",
      "HoxA2 is downregulated\n"
     ]
    }
   ],
   "source": [
    "geneExpression = {\n",
    "    'Beta-Catenin': 2.5, \n",
    "    'Beta-Actin': 1.7, \n",
    "    'Pax6': 0, \n",
    "    'HoxA2': -3.2\n",
    "}\n",
    "\n",
    "for gene in geneExpression:\n",
    "    if geneExpression[gene] < 0:\n",
    "        print(gene, \"is downregulated\")\n",
    "        \n",
    "    elif geneExpression[gene] > 0:\n",
    "        print(gene, \"is upregulated\")\n",
    "        \n",
    "    else:\n",
    "        print(\"No change in expression of \", gene)"
   ]
  },
  {
   "cell_type": "code",
   "execution_count": 106,
   "metadata": {},
   "outputs": [
    {
     "name": "stdout",
     "output_type": "stream",
     "text": [
      "0.5\n",
      "1.0\n",
      "2.0\n",
      "4.0\n",
      "8.0\n",
      "final value: 8.0\n"
     ]
    }
   ],
   "source": [
    "value = 0.25\n",
    "while value < 8:\n",
    "    value = value * 2\n",
    "    print(value)\n",
    "\n",
    "print(\"final value:\", value)"
   ]
  },
  {
   "cell_type": "markdown",
   "metadata": {},
   "source": [
    "# Skipping and breaking loops"
   ]
  },
  {
   "cell_type": "code",
   "execution_count": 107,
   "metadata": {},
   "outputs": [
    {
     "name": "stdout",
     "output_type": "stream",
     "text": [
      "20\n"
     ]
    }
   ],
   "source": [
    "values = [10, -5, 3, -1, 7]\n",
    "\n",
    "total = 0\n",
    "for v in values:\n",
    "    if v < 0:\n",
    "        continue # Skip this iteration   \n",
    "    total += v\n",
    "\n",
    "print(total)"
   ]
  },
  {
   "cell_type": "code",
   "execution_count": 108,
   "metadata": {},
   "outputs": [
    {
     "name": "stdout",
     "output_type": "stream",
     "text": [
      "Glutamine\n",
      "Tyrosine\n",
      "Glutamine\n"
     ]
    }
   ],
   "source": [
    "geneticCode = {'TAT': 'Tyrosine',  'TAC': 'Tyrosine',\n",
    "               'CAA': 'Glutamine', 'CAG': 'Glutamine',\n",
    "               'TAG': 'STOP'}\n",
    "\n",
    "sequence = ['CAG','TAC','CAA','TAG','TAC','CAG','CAA']\n",
    "\n",
    "for codon in sequence:\n",
    "    if geneticCode[codon] == 'STOP':\n",
    "        break            # Quit looping at this point\n",
    "    else:\n",
    "        print(geneticCode[codon])"
   ]
  },
  {
   "cell_type": "markdown",
   "metadata": {},
   "source": [
    "# Using range()"
   ]
  },
  {
   "cell_type": "code",
   "execution_count": 110,
   "metadata": {},
   "outputs": [
    {
     "name": "stdout",
     "output_type": "stream",
     "text": [
      "[0, 1, 2, 3, 4, 5, 6, 7, 8, 9]\n",
      "[5, 6, 7, 8, 9]\n",
      "[0, 3, 6, 9]\n",
      "[7, 5, 3]\n"
     ]
    }
   ],
   "source": [
    "print(list(range(10)))\n",
    "\n",
    "print(list(range(5, 10)))\n",
    "\n",
    "print(list(range(0, 10, 3)))\n",
    "\n",
    "print(list(range(7, 2, -2)))"
   ]
  },
  {
   "cell_type": "code",
   "execution_count": 111,
   "metadata": {},
   "outputs": [
    {
     "name": "stdout",
     "output_type": "stream",
     "text": [
      "0\n",
      "1\n",
      "4\n",
      "9\n",
      "16\n",
      "25\n",
      "36\n",
      "49\n"
     ]
    }
   ],
   "source": [
    "\n",
    "for x in range(8):\n",
    "    print(x*x)"
   ]
  },
  {
   "cell_type": "code",
   "execution_count": 112,
   "metadata": {},
   "outputs": [
    {
     "name": "stdout",
     "output_type": "stream",
     "text": [
      "[0, 1, 4, 9, 16, 25, 36, 49]\n"
     ]
    }
   ],
   "source": [
    "\n",
    "squares = []\n",
    "for x in range(8):\n",
    "    s = x*x\n",
    "    squares.append(s)\n",
    "    \n",
    "print(squares)"
   ]
  },
  {
   "cell_type": "markdown",
   "metadata": {},
   "source": [
    "# Using enumerate()"
   ]
  },
  {
   "cell_type": "code",
   "execution_count": 113,
   "metadata": {},
   "outputs": [
    {
     "name": "stdout",
     "output_type": "stream",
     "text": [
      "0 A\n",
      "1 C\n",
      "2 G\n",
      "3 T\n"
     ]
    }
   ],
   "source": [
    "letters = ['A','C','G','T']\n",
    "for index, letter in enumerate(letters):\n",
    "    print(index, letter)"
   ]
  },
  {
   "cell_type": "code",
   "execution_count": 114,
   "metadata": {},
   "outputs": [
    {
     "name": "stdout",
     "output_type": "stream",
     "text": [
      "[(0, 'A'), (1, 'C'), (2, 'G'), (3, 'T')]\n"
     ]
    }
   ],
   "source": [
    "numbered_letters = list(enumerate(letters))\n",
    "print(numbered_letters)"
   ]
  },
  {
   "cell_type": "markdown",
   "metadata": {},
   "source": [
    "# Filtering in loops"
   ]
  },
  {
   "cell_type": "code",
   "execution_count": 116,
   "metadata": {},
   "outputs": [
    {
     "name": "stdout",
     "output_type": "stream",
     "text": [
      "['London', 'Glasgow']\n"
     ]
    }
   ],
   "source": [
    "city_pops = {\n",
    "    'London': 8200000,\n",
    "    'Cambridge': 130000,\n",
    "    'Edinburgh': 420000,\n",
    "    'Glasgow': 1200000\n",
    "}\n",
    "\n",
    "big_cities = []\n",
    "for city in city_pops:\n",
    "    if city_pops[city] >= 1000000:\n",
    "         big_cities.append(city)\n",
    "\n",
    "print(big_cities)"
   ]
  },
  {
   "cell_type": "code",
   "execution_count": 117,
   "metadata": {},
   "outputs": [
    {
     "name": "stdout",
     "output_type": "stream",
     "text": [
      "total population: 9950000\n"
     ]
    }
   ],
   "source": [
    "total = 0\n",
    "for city in city_pops:\n",
    "    total += city_pops[city]\n",
    "print(\"total population:\", total)"
   ]
  },
  {
   "cell_type": "code",
   "execution_count": 118,
   "metadata": {},
   "outputs": [
    {
     "name": "stdout",
     "output_type": "stream",
     "text": [
      "total population: 9950000\n"
     ]
    }
   ],
   "source": [
    "pops = list(city_pops.values())\n",
    "print(\"total population:\", sum(pops))"
   ]
  },
  {
   "cell_type": "markdown",
   "metadata": {},
   "source": [
    "# Formating string"
   ]
  },
  {
   "cell_type": "markdown",
   "metadata": {},
   "source": [
    "d: decimal integer\n",
    "f: floating point number\n",
    "s: string"
   ]
  },
  {
   "cell_type": "code",
   "execution_count": 120,
   "metadata": {},
   "outputs": [
    {
     "name": "stdout",
     "output_type": "stream",
     "text": [
      "0.46\n"
     ]
    }
   ],
   "source": [
    "print('{:.2f}'.format(0.4567))"
   ]
  },
  {
   "cell_type": "code",
   "execution_count": 122,
   "metadata": {},
   "outputs": [
    {
     "name": "stdout",
     "output_type": "stream",
     "text": [
      "Beta-Catenin\t+2.50\n",
      "Beta-Actin\t+1.70\n",
      "Pax6\t+0.00\n",
      "HoxA2\t-3.20\n"
     ]
    }
   ],
   "source": [
    "geneExpression = {\n",
    "    'Beta-Catenin': 2.5, \n",
    "    'Beta-Actin': 1.7, \n",
    "    'Pax6': 0, \n",
    "    'HoxA2': -3.2\n",
    "}\n",
    "\n",
    "for gene in geneExpression:\n",
    "    print('{:s}\\t{:+.2f}'.format(gene, geneExpression[gene]))"
   ]
  },
  {
   "cell_type": "markdown",
   "metadata": {},
   "source": [
    "# Data input and output (I/O)"
   ]
  },
  {
   "cell_type": "markdown",
   "metadata": {},
   "source": [
    "# Opening files"
   ]
  },
  {
   "cell_type": "code",
   "execution_count": 124,
   "metadata": {},
   "outputs": [],
   "source": [
    "path = \"sample.txt\"\n",
    "fileObj = open( path )"
   ]
  },
  {
   "cell_type": "code",
   "execution_count": 126,
   "metadata": {},
   "outputs": [
    {
     "data": {
      "text/plain": [
       "<_io.TextIOWrapper name='sample.txt' mode='r' encoding='cp949'>"
      ]
     },
     "execution_count": 126,
     "metadata": {},
     "output_type": "execute_result"
    }
   ],
   "source": [
    "open( \"sample.txt\", \"r\" ) # open for reading, default"
   ]
  },
  {
   "cell_type": "code",
   "execution_count": 127,
   "metadata": {},
   "outputs": [
    {
     "data": {
      "text/plain": [
       "<_io.TextIOWrapper name='sample.txt' mode='w' encoding='cp949'>"
      ]
     },
     "execution_count": 127,
     "metadata": {},
     "output_type": "execute_result"
    }
   ],
   "source": [
    "open( \"sample.txt\", \"w\" )"
   ]
  },
  {
   "cell_type": "code",
   "execution_count": 128,
   "metadata": {},
   "outputs": [
    {
     "data": {
      "text/plain": [
       "<_io.TextIOWrapper name='sample.txt' mode='a' encoding='cp949'>"
      ]
     },
     "execution_count": 128,
     "metadata": {},
     "output_type": "execute_result"
    }
   ],
   "source": [
    "open( \"sample.txt\", \"a\" )"
   ]
  },
  {
   "cell_type": "markdown",
   "metadata": {},
   "source": [
    "# Closing files"
   ]
  },
  {
   "cell_type": "code",
   "execution_count": 129,
   "metadata": {},
   "outputs": [],
   "source": [
    "fileObj.close()"
   ]
  },
  {
   "cell_type": "markdown",
   "metadata": {},
   "source": [
    "# Reading from files"
   ]
  },
  {
   "cell_type": "code",
   "execution_count": 134,
   "metadata": {},
   "outputs": [
    {
     "name": "stdout",
     "output_type": "stream",
     "text": [
      "<경향> 후순위 된 최저임금… 소주성 문 정부의 역설\n",
      "<국민> 文 대통령 “5년간 160조 투입”...‘한국판 뉴딜’ 승부수\n",
      "<동아> 성폭력 매뉴얼 무용지물이었다\n",
      "<서울> “덮기 급급한 서울시에 못 맡겨 檢·인권위 나서 ‘진실’ 밝혀라” \n",
      "<세계> ‘박원순 성추행 의혹’ 진실규명 목소리 확산\n",
      "<조선> 피해자 절규 6층 박원순 사람들에 막혔다\n",
      "<중앙> 고소장도 내기 전에 박원순 알고 있었다\n",
      "<한겨레>“미투에도 변한 게 없다” 무력감이 여성 울분 키웠다\n",
      "<한국> 160조 한국판 뉴딜... “일자리 190만개 창출” \n",
      "-------------------------------------------------- \n",
      "<매경> 한국판 뉴딜에 160조원 …文의 승부수\n",
      "<한경> 文 ‘한국판 뉴딜’에 화답한 현대차·네이버\n",
      "<서경> 재산세 22% 폭등… 보유세 폭탄 터졌다 \n",
      "\n"
     ]
    }
   ],
   "source": [
    "fileObj = open( \"sample.txt\" )\n",
    "print(fileObj.read()) # everything\n",
    "fileObj.close()"
   ]
  },
  {
   "cell_type": "code",
   "execution_count": 135,
   "metadata": {},
   "outputs": [
    {
     "name": "stdout",
     "output_type": "stream",
     "text": [
      "1st line: <경향> 후순위 된 최저임금… 소주성 문 정부의 역설\n",
      "\n",
      "2nd line: <국민> 文 대통령 “5년간 160조 투입”...‘한국판 뉴딜’ 승부수\n",
      "\n",
      "3rd line: <동아> 성폭력 매뉴얼 무용지물이었다\n",
      "\n",
      "4th line: <서울> “덮기 급급한 서울시에 못 맡겨 檢·인권위 나서 ‘진실’ 밝혀라” \n",
      "\n"
     ]
    }
   ],
   "source": [
    "fileObj = open( \"sample.txt\" )\n",
    "print(\"1st line:\", fileObj.readline())\n",
    "print(\"2nd line:\", fileObj.readline())\n",
    "print(\"3rd line:\", fileObj.readline())\n",
    "print(\"4th line:\", fileObj.readline())\n",
    "fileObj.close()"
   ]
  },
  {
   "cell_type": "code",
   "execution_count": 137,
   "metadata": {},
   "outputs": [
    {
     "name": "stdout",
     "output_type": "stream",
     "text": [
      "The file has 13 lines\n"
     ]
    }
   ],
   "source": [
    "fileObj = open( \"sample.txt\" )\n",
    "\n",
    "lines = fileObj.readlines()\n",
    "\n",
    "print(\"The file has\", len(lines), \"lines\")\n",
    "\n",
    "fileObj.close()"
   ]
  },
  {
   "cell_type": "code",
   "execution_count": 139,
   "metadata": {},
   "outputs": [
    {
     "name": "stdout",
     "output_type": "stream",
     "text": [
      "<경향> 후순위 된 최저임금… 소주성 문 정부의 역설\n",
      "<국민> 文 대통령 “5년간 160조 투입”...‘한국판 뉴딜’ 승부수\n",
      "<동아> 성폭력 매뉴얼 무용지물이었다\n",
      "<서울> “덮기 급급한 서울시에 못 맡겨 檢·인권위 나서 ‘진실’ 밝혀라”\n",
      "<세계> ‘박원순 성추행 의혹’ 진실규명 목소리 확산\n",
      "<조선> 피해자 절규 6층 박원순 사람들에 막혔다\n",
      "<중앙> 고소장도 내기 전에 박원순 알고 있었다\n",
      "<한겨레>“미투에도 변한 게 없다” 무력감이 여성 울분 키웠다\n",
      "<한국> 160조 한국판 뉴딜... “일자리 190만개 창출”\n",
      "--------------------------------------------------\n",
      "<매경> 한국판 뉴딜에 160조원 …文의 승부수\n",
      "<한경> 文 ‘한국판 뉴딜’에 화답한 현대차·네이버\n",
      "<서경> 재산세 22% 폭등… 보유세 폭탄 터졌다\n"
     ]
    }
   ],
   "source": [
    "fileObj = open( \"sample.txt\" )\n",
    "\n",
    "for line in fileObj:\n",
    "    print(line.rstrip().upper()) #iterable 처리\n",
    "\n",
    "fileObj.close()"
   ]
  },
  {
   "cell_type": "code",
   "execution_count": 142,
   "metadata": {},
   "outputs": [
    {
     "name": "stdout",
     "output_type": "stream",
     "text": [
      "1 <경향> 후순위 된 최저임금… 소주성 문 정부의 역설\n",
      "2 <국민> 文 대통령 “5년간 160조 투입”...‘한국판 뉴딜’ 승부수\n",
      "3 <동아> 성폭력 매뉴얼 무용지물이었다\n",
      "4 <서울> “덮기 급급한 서울시에 못 맡겨 檢·인권위 나서 ‘진실’ 밝혀라”\n",
      "5 <세계> ‘박원순 성추행 의혹’ 진실규명 목소리 확산\n",
      "6 <조선> 피해자 절규 6층 박원순 사람들에 막혔다\n",
      "7 <중앙> 고소장도 내기 전에 박원순 알고 있었다\n",
      "8 <한겨레>“미투에도 변한 게 없다” 무력감이 여성 울분 키웠다\n",
      "9 <한국> 160조 한국판 뉴딜... “일자리 190만개 창출”\n",
      "10 --------------------------------------------------\n",
      "11 <매경> 한국판 뉴딜에 160조원 …文의 승부수\n",
      "12 <한경> 文 ‘한국판 뉴딜’에 화답한 현대차·네이버\n",
      "13 <서경> 재산세 22% 폭등… 보유세 폭탄 터졌다\n"
     ]
    }
   ],
   "source": [
    "with open( \"sample.txt\" ) as fileObj:\n",
    "    for ( i, line ) in enumerate( fileObj, start = 1 ):\n",
    "        print( i, line.strip() )"
   ]
  },
  {
   "cell_type": "code",
   "execution_count": 143,
   "metadata": {},
   "outputs": [],
   "source": [
    "read_counts = {\n",
    "    'BRCA2': 43234,\n",
    "    'FOXP2': 3245,\n",
    "    'SORT1': 343792\n",
    "}\n",
    "\n",
    "with open( \"out.txt\", \"w\" ) as output:\n",
    "    output.write(\"GENE\\tREAD_COUNT\\n\")\n",
    "\n",
    "    for gene in read_counts:\n",
    "        line = \"\\t\".join( [ gene, str(read_counts[gene]) ] )\n",
    "        output.write(line + \"\\n\")"
   ]
  },
  {
   "cell_type": "markdown",
   "metadata": {},
   "source": [
    "# Data formats"
   ]
  },
  {
   "cell_type": "code",
   "execution_count": 144,
   "metadata": {},
   "outputs": [
    {
     "name": "stdout",
     "output_type": "stream",
     "text": [
      "[['<국민>', '文', '대통령', '“5년간', '160조', '투입”...‘한국판', '뉴딜’', '승부수'], ['<동아>', '성폭력', '매뉴얼', '무용지물이었다'], ['<서울>', '“덮기', '급급한', '서울시에', '못', '맡겨', '檢·인권위', '나서', '‘진실’', '밝혀라”'], ['<세계>', '‘박원순', '성추행', '의혹’', '진실규명', '목소리', '확산'], ['<조선>', '피해자', '절규', '6층', '박원순', '사람들에', '막혔다'], ['<중앙>', '고소장도', '내기', '전에', '박원순', '알고', '있었다'], ['<한겨레>“미투에도', '변한', '게', '없다”', '무력감이', '여성', '울분', '키웠다'], ['<한국>', '160조', '한국판', '뉴딜...', '“일자리', '190만개', '창출”'], ['--------------------------------------------------'], ['<매경>', '한국판', '뉴딜에', '160조원', '…文의', '승부수'], ['<한경>', '文', '‘한국판', '뉴딜’에', '화답한', '현대차·네이버'], ['<서경>', '재산세', '22%', '폭등…', '보유세', '폭탄', '터졌다']]\n"
     ]
    }
   ],
   "source": [
    "results = []\n",
    "\n",
    "with open(\"sample.txt\", \"r\") as data:\n",
    "    header = data.readline()\n",
    "    for line in data:\n",
    "        results.append(line.split())\n",
    "        \n",
    "        \n",
    "print(results)"
   ]
  },
  {
   "cell_type": "code",
   "execution_count": 148,
   "metadata": {},
   "outputs": [
    {
     "name": "stdout",
     "output_type": "stream",
     "text": [
      "Writing mydata.txt\n"
     ]
    }
   ],
   "source": [
    "%%writefile mydata.txt\n",
    "Index Organism Score\n",
    "1 Human 1.076\n",
    "2 Mouse 1.202\n",
    "3 Frog 2.2362\n",
    "4 Fly 0.9853"
   ]
  },
  {
   "cell_type": "code",
   "execution_count": 149,
   "metadata": {},
   "outputs": [
    {
     "name": "stdout",
     "output_type": "stream",
     "text": [
      "[{'Index': 1, 'Organism': 'Human', 'Score': 1.076}, {'Index': 2, 'Organism': 'Mouse', 'Score': 1.202}, {'Index': 3, 'Organism': 'Frog', 'Score': 2.2362}, {'Index': 4, 'Organism': 'Fly', 'Score': 0.9853}]\n",
      "Score of first row: 1.076\n"
     ]
    }
   ],
   "source": [
    "results = []\n",
    "\n",
    "with open(\"mydata.txt\", \"r\") as data:\n",
    "    header = data.readline()\n",
    "    for line in data:\n",
    "        idx, org, score = line.split()\n",
    "        row = {'Index': int(idx), 'Organism': org, 'Score': float(score)}\n",
    "        results.append(row)\n",
    "        \n",
    "print(results)\n",
    "print('Score of first row:', results[0]['Score'])"
   ]
  },
  {
   "cell_type": "markdown",
   "metadata": {},
   "source": [
    "# 파일 구분해서 저장하기"
   ]
  },
  {
   "cell_type": "code",
   "execution_count": 151,
   "metadata": {},
   "outputs": [],
   "source": [
    "mydata = [{'Organism': 'Human', 'Index': 1, 'Score': 1.076}, \n",
    "          {'Organism': 'Mouse', 'Index': 2, 'Score': 1.202}, \n",
    "          {'Organism': 'Frog', 'Index': 3, 'Score': 2.2362}, \n",
    "          {'Organism': 'Fly', 'Index': 4, 'Score': 0.9853}]\n",
    "\n",
    "with open('mydata.csv', 'w') as output:\n",
    "    # write a header\n",
    "    header = \",\".join(['Index', 'Organism', 'Score'])\n",
    "    output.write(header + \"\\n\")\n",
    "    for row in mydata:\n",
    "        line = \",\".join([str(row['Index']), row['Organism'], str(row['Score'])])\n",
    "        output.write(line + \"\\n\")"
   ]
  },
  {
   "cell_type": "markdown",
   "metadata": {},
   "source": [
    "# 예외처리"
   ]
  },
  {
   "cell_type": "code",
   "execution_count": 238,
   "metadata": {},
   "outputs": [
    {
     "name": "stdout",
     "output_type": "stream",
     "text": [
      "1.0\n",
      "Success!!!\n"
     ]
    }
   ],
   "source": [
    "def divide(num): \n",
    "    print(100/num)\n",
    "try:\n",
    "    divide(100)\n",
    "    fp = open(\"sample.txt\", \"r\")\n",
    "except ZeroDivisionError:\n",
    "    print(\"Zero Division not allowed\")\n",
    "except FileNotFoundError:\n",
    "    print(\"File Exception\")\n",
    "except:\n",
    "    print(\"General Exception\")\n",
    "else:\n",
    "    print(\"Success!!!\")"
   ]
  },
  {
   "cell_type": "markdown",
   "metadata": {},
   "source": [
    "왜 예외를 사용하는가?\n",
    "\n",
    "\n",
    "Python은 런타임에 프로그램에서 오류를 감지 할 때마다 예외를 발생시킵니다.\n",
    "코드의 오류 또는 Python의 기본 동작이 시작되고 프로그램이 중지되고 오류 메시지를 인쇄 할 수 있습니다.\n",
    "\n",
    "예외가 발생할 수있는 의심스러운 코드가있는 경우 try : 블록 코드를 배치 할 수 있습니다.\n",
    "try : 블록 뒤에는 except : 문을 포함하고 코드 블록을 포함하십시오."
   ]
  },
  {
   "cell_type": "code",
   "execution_count": 240,
   "metadata": {},
   "outputs": [
    {
     "ename": "ZeroDivisionError",
     "evalue": "division by zero",
     "output_type": "error",
     "traceback": [
      "\u001b[1;31m---------------------------------------------------------------------------\u001b[0m",
      "\u001b[1;31mZeroDivisionError\u001b[0m                         Traceback (most recent call last)",
      "\u001b[1;32m<ipython-input-240-b75faf41dc75>\u001b[0m in \u001b[0;36m<module>\u001b[1;34m\u001b[0m\n\u001b[1;32m----> 1\u001b[1;33m \u001b[1;36m8\u001b[0m\u001b[1;33m/\u001b[0m\u001b[1;36m0\u001b[0m\u001b[1;33m\u001b[0m\u001b[1;33m\u001b[0m\u001b[0m\n\u001b[0m",
      "\u001b[1;31mZeroDivisionError\u001b[0m: division by zero"
     ]
    }
   ],
   "source": [
    "8/0"
   ]
  },
  {
   "cell_type": "code",
   "execution_count": 241,
   "metadata": {},
   "outputs": [
    {
     "name": "stdout",
     "output_type": "stream",
     "text": [
      "20.0\n",
      "division by zero\n",
      "Finally\n"
     ]
    }
   ],
   "source": [
    "\n",
    "def divide(num): \n",
    "    print(100/num)\n",
    "\n",
    "try:\n",
    "    divide(5)\n",
    "    divide(0)\n",
    "    fp = open(\"hsdjhd.txt\", \"r\")\n",
    "except ZeroDivisionError as er:\n",
    "    print(er)\n",
    "except:\n",
    "    print(\"dsdsd\")\n",
    "finally:\n",
    "    print(\"Finally\")"
   ]
  },
  {
   "cell_type": "code",
   "execution_count": 242,
   "metadata": {},
   "outputs": [
    {
     "name": "stdout",
     "output_type": "stream",
     "text": [
      "Please enter an integer: 12\n",
      "Great, you successfully entered an integer!\n"
     ]
    }
   ],
   "source": [
    "\n",
    "while True:\n",
    "    try:\n",
    "        n = input(\"Please enter an integer: \")\n",
    "        n = int(n)\n",
    "        break\n",
    "    except ValueError:\n",
    "        print(\"No valid integer! Please try again ...\")\n",
    "print(\"Great, you successfully entered an integer!\")"
   ]
  },
  {
   "cell_type": "code",
   "execution_count": 243,
   "metadata": {},
   "outputs": [
    {
     "name": "stdout",
     "output_type": "stream",
     "text": [
      "I/O error(2): No such file or directory\n"
     ]
    }
   ],
   "source": [
    "import sys\n",
    "\n",
    "try:\n",
    "    f = open('file.txt', 'r')\n",
    "    s = f.readline()\n",
    "    i = int(s.strip())\n",
    "    print(i)\n",
    "except IOError as e:\n",
    "    errno, strerror = e.args\n",
    "    print(\"I/O error({0}): {1}\".format(errno,strerror))\n",
    "    # e can be printed directly without using .args:\n",
    "    # print(e)\n",
    "except ValueError:\n",
    "    print(\"No valid integer in line.\")\n",
    "except:\n",
    "    print(\"Unexpected error:\", sys.exc_info()[0])\n",
    "    raise"
   ]
  },
  {
   "cell_type": "code",
   "execution_count": 244,
   "metadata": {},
   "outputs": [
    {
     "name": "stdout",
     "output_type": "stream",
     "text": [
      "50.0\n",
      "no matter what I get executed\n",
      "division by zero\n",
      "no matter what I get executed\n"
     ]
    }
   ],
   "source": [
    "def divide(num):\n",
    "    try:\n",
    "        print(100/num)\n",
    "    except ZeroDivisionError as ze:\n",
    "        print(ze)\n",
    "    finally:\n",
    "        print(\"no matter what I get executed\")\n",
    "\n",
    "divide(2)\n",
    "divide(0)"
   ]
  },
  {
   "cell_type": "code",
   "execution_count": 245,
   "metadata": {},
   "outputs": [
    {
     "name": "stdout",
     "output_type": "stream",
     "text": [
      "Enter choice1\n",
      "hello\n"
     ]
    }
   ],
   "source": [
    "\n",
    "def print_hello():\n",
    "    print(\"hello\")\n",
    "def print_world():\n",
    "    print(\"World\")\n",
    "def default():\n",
    "    print(\"Default\")\n",
    "\n",
    "switch = {\n",
    "    \"1\":print_hello,\n",
    "    \"2\":print_world\n",
    "}\n",
    "\n",
    "inp = input(\"Enter choice\")\n",
    "try:\n",
    "    switch[inp]()\n",
    "except:\n",
    "    default()"
   ]
  },
  {
   "cell_type": "markdown",
   "metadata": {},
   "source": [
    "# Builtins 함수\n",
    "https://www.programiz.com/python-programming/methods/built-in"
   ]
  },
  {
   "cell_type": "code",
   "execution_count": 247,
   "metadata": {},
   "outputs": [
    {
     "name": "stdout",
     "output_type": "stream",
     "text": [
      "1\n"
     ]
    }
   ],
   "source": [
    "print(abs(-1))"
   ]
  },
  {
   "cell_type": "code",
   "execution_count": 248,
   "metadata": {},
   "outputs": [
    {
     "name": "stdout",
     "output_type": "stream",
     "text": [
      "True\n",
      "False\n",
      "False\n",
      "False\n",
      "True\n"
     ]
    }
   ],
   "source": [
    "# all values true\n",
    "l = [1, 3, 4, 5]\n",
    "print(all(l))\n",
    "\n",
    "# all values false\n",
    "l = [0, False]\n",
    "print(all(l))\n",
    "\n",
    "# one false value\n",
    "l = [1, 3, 4, 0]\n",
    "print(all(l))\n",
    "\n",
    "# one true value\n",
    "l = [0, False, 5]\n",
    "print(all(l))\n",
    "\n",
    "# empty iterable\n",
    "l = []\n",
    "print(all(l))"
   ]
  },
  {
   "cell_type": "code",
   "execution_count": 249,
   "metadata": {},
   "outputs": [
    {
     "name": "stdout",
     "output_type": "stream",
     "text": [
      "True\n",
      "False\n",
      "True\n",
      "False\n"
     ]
    }
   ],
   "source": [
    "l = [1, 3, 4, 0]\n",
    "print(any(l))\n",
    "\n",
    "l = [0, False]\n",
    "print(any(l))\n",
    "\n",
    "l = [0, False, 5]\n",
    "print(any(l))\n",
    "\n",
    "l = []\n",
    "print(any(l))"
   ]
  },
  {
   "cell_type": "code",
   "execution_count": 250,
   "metadata": {},
   "outputs": [
    {
     "name": "stdout",
     "output_type": "stream",
     "text": [
      "'Python'\n",
      "'Pyth\\xf6n'\n",
      "Pythön\n"
     ]
    }
   ],
   "source": [
    "normalText = 'Python'\n",
    "print(ascii(normalText))\n",
    "\n",
    "otherText = 'Pythön'\n",
    "print(ascii(otherText))\n",
    "\n",
    "print('Pyth\\xf6n')"
   ]
  },
  {
   "cell_type": "code",
   "execution_count": 251,
   "metadata": {},
   "outputs": [
    {
     "name": "stdout",
     "output_type": "stream",
     "text": [
      "0b10\n",
      "0b1011\n"
     ]
    }
   ],
   "source": [
    "print(bin(2))\n",
    "print(bin(11))"
   ]
  },
  {
   "cell_type": "code",
   "execution_count": 253,
   "metadata": {},
   "outputs": [
    {
     "name": "stdout",
     "output_type": "stream",
     "text": [
      "False\n",
      "True\n",
      "True\n",
      "True\n",
      "False\n"
     ]
    }
   ],
   "source": [
    "print(bool(0))\n",
    "print(bool(1))\n",
    "print(bool(-1))\n",
    "print(bool(123))\n",
    "print(bool(None))"
   ]
  },
  {
   "cell_type": "code",
   "execution_count": 255,
   "metadata": {},
   "outputs": [
    {
     "name": "stdout",
     "output_type": "stream",
     "text": [
      "bytearray(b'Python is interesting.')\n",
      "bytearray(b'[1, 2, 3]')\n"
     ]
    }
   ],
   "source": [
    "string = \"Python is interesting.\"\n",
    "\n",
    "# string with encoding 'utf-8'\n",
    "arr = bytearray(string, 'utf-8')\n",
    "print(arr)\n",
    "\n",
    "my_val = [1, 2, 3]\n",
    "\n",
    "# string with encoding 'utf-8'\n",
    "val_arr = bytearray(str(my_val), 'utf-8')\n",
    "print(val_arr)"
   ]
  },
  {
   "cell_type": "markdown",
   "metadata": {},
   "source": [
    "# 예약어"
   ]
  },
  {
   "cell_type": "code",
   "execution_count": 256,
   "metadata": {},
   "outputs": [
    {
     "name": "stdout",
     "output_type": "stream",
     "text": [
      "['False', 'None', 'True', 'and', 'as', 'assert', 'async', 'await', 'break', 'class', 'continue', 'def', 'del', 'elif', 'else', 'except', 'finally', 'for', 'from', 'global', 'if', 'import', 'in', 'is', 'lambda', 'nonlocal', 'not', 'or', 'pass', 'raise', 'return', 'try', 'while', 'with', 'yield']\n"
     ]
    }
   ],
   "source": [
    "from keyword import kwlist\n",
    "print(kwlist)"
   ]
  },
  {
   "cell_type": "markdown",
   "metadata": {},
   "source": [
    "# Generators"
   ]
  },
  {
   "cell_type": "markdown",
   "metadata": {},
   "source": [
    "# Iterator"
   ]
  },
  {
   "cell_type": "code",
   "execution_count": 259,
   "metadata": {},
   "outputs": [
    {
     "name": "stdout",
     "output_type": "stream",
     "text": [
      "1\n",
      "2\n",
      "3\n",
      "4\n",
      "5\n",
      "H\n",
      "e\n",
      "l\n",
      "l\n",
      "o\n",
      " \n",
      "W\n",
      "o\n",
      "r\n",
      "l\n",
      "d\n"
     ]
    }
   ],
   "source": [
    "# 리스트 Iterable\n",
    "for n in [1,2,3,4,5]:\n",
    "    print(n)\n",
    " # 문자열 Iterable\n",
    "for c in \"Hello World\":\n",
    "    print(c)"
   ]
  },
  {
   "cell_type": "code",
   "execution_count": 260,
   "metadata": {},
   "outputs": [
    {
     "name": "stdout",
     "output_type": "stream",
     "text": [
      "<class 'generator'>\n",
      "1\n",
      "2\n",
      "3\n",
      "1\n",
      "2\n",
      "3\n"
     ]
    }
   ],
   "source": [
    "# Generator 함수\n",
    "def gen():\n",
    "    yield 1\n",
    "    yield 2\n",
    "    yield 3\n",
    " \n",
    "# Generator 객체\n",
    "g = gen()\n",
    "print(type(g))  # <class 'generator'>\n",
    " \n",
    "# next() 함수 사용\n",
    "n = next(g); print(n)  # 1\n",
    "n = next(g); print(n)  # 2\n",
    "n = next(g); print(n)  # 3\n",
    " \n",
    "# for 루프 사용 가능\n",
    "for x in gen():\n",
    "    print(x)"
   ]
  },
  {
   "cell_type": "code",
   "execution_count": 263,
   "metadata": {},
   "outputs": [
    {
     "name": "stdout",
     "output_type": "stream",
     "text": [
      "['__abs__', '__add__', '__and__', '__bool__', '__ceil__', '__class__', '__delattr__', '__dir__', '__divmod__', '__doc__', '__eq__', '__float__', '__floor__', '__floordiv__', '__format__', '__ge__', '__getattribute__', '__getnewargs__', '__gt__', '__hash__', '__index__', '__init__', '__init_subclass__', '__int__', '__invert__', '__le__', '__lshift__', '__lt__', '__mod__', '__mul__', '__ne__', '__neg__', '__new__', '__or__', '__pos__', '__pow__', '__radd__', '__rand__', '__rdivmod__', '__reduce__', '__reduce_ex__', '__repr__', '__rfloordiv__', '__rlshift__', '__rmod__', '__rmul__', '__ror__', '__round__', '__rpow__', '__rrshift__', '__rshift__', '__rsub__', '__rtruediv__', '__rxor__', '__setattr__', '__sizeof__', '__str__', '__sub__', '__subclasshook__', '__truediv__', '__trunc__', '__xor__', 'bit_length', 'conjugate', 'denominator', 'from_bytes', 'imag', 'numerator', 'real', 'to_bytes']\n",
      "['__class__', '__del__', '__delattr__', '__dir__', '__doc__', '__eq__', '__format__', '__ge__', '__getattribute__', '__gt__', '__hash__', '__init__', '__init_subclass__', '__iter__', '__le__', '__lt__', '__name__', '__ne__', '__new__', '__next__', '__qualname__', '__reduce__', '__reduce_ex__', '__repr__', '__setattr__', '__sizeof__', '__str__', '__subclasshook__', 'close', 'gi_code', 'gi_frame', 'gi_running', 'gi_yieldfrom', 'send', 'throw']\n"
     ]
    }
   ],
   "source": [
    "def func():\n",
    "    return 42\n",
    "\n",
    "def gen():\n",
    "    yield 45\n",
    "    yield 46\n",
    "\n",
    "f = func()\n",
    "g = gen()\n",
    "\n",
    "print(dir(f))\n",
    "print(dir(g))"
   ]
  },
  {
   "cell_type": "code",
   "execution_count": 264,
   "metadata": {},
   "outputs": [
    {
     "name": "stdout",
     "output_type": "stream",
     "text": [
      "45\n",
      "46\n"
     ]
    }
   ],
   "source": [
    "for thing in g:\n",
    "    print(thing)"
   ]
  },
  {
   "cell_type": "code",
   "execution_count": 265,
   "metadata": {},
   "outputs": [
    {
     "name": "stdout",
     "output_type": "stream",
     "text": [
      "45\n",
      "46\n"
     ]
    }
   ],
   "source": [
    "g2 = gen()\n",
    "print(next(g2))\n",
    "print(next(g2))"
   ]
  },
  {
   "cell_type": "code",
   "execution_count": 266,
   "metadata": {},
   "outputs": [
    {
     "name": "stdout",
     "output_type": "stream",
     "text": [
      "1\n",
      "3\n",
      "4\n"
     ]
    }
   ],
   "source": [
    "def my_gen():\n",
    "    yield 1\n",
    "    i = 3\n",
    "    yield i\n",
    "    i += 1\n",
    "    yield i\n",
    "\n",
    "g = my_gen()\n",
    "for each in g:\n",
    "    print(each)"
   ]
  },
  {
   "cell_type": "code",
   "execution_count": 267,
   "metadata": {},
   "outputs": [
    {
     "name": "stdout",
     "output_type": "stream",
     "text": [
      "<class 'generator'>\n",
      "4\n",
      "5\n"
     ]
    },
    {
     "ename": "StopIteration",
     "evalue": "",
     "output_type": "error",
     "traceback": [
      "\u001b[1;31m---------------------------------------------------------------------------\u001b[0m",
      "\u001b[1;31mStopIteration\u001b[0m                             Traceback (most recent call last)",
      "\u001b[1;32m<ipython-input-267-1551497816b1>\u001b[0m in \u001b[0;36m<module>\u001b[1;34m\u001b[0m\n\u001b[0;32m      5\u001b[0m \u001b[1;33m\u001b[0m\u001b[0m\n\u001b[0;32m      6\u001b[0m \u001b[1;31m# Under the hood\u001b[0m\u001b[1;33m\u001b[0m\u001b[1;33m\u001b[0m\u001b[1;33m\u001b[0m\u001b[0m\n\u001b[1;32m----> 7\u001b[1;33m \u001b[0mprint\u001b[0m\u001b[1;33m(\u001b[0m\u001b[0mnext\u001b[0m\u001b[1;33m(\u001b[0m\u001b[0mcomprehension_gen\u001b[0m\u001b[1;33m)\u001b[0m\u001b[1;33m)\u001b[0m\u001b[1;33m\u001b[0m\u001b[1;33m\u001b[0m\u001b[0m\n\u001b[0m\u001b[0;32m      8\u001b[0m \u001b[0mprint\u001b[0m\u001b[1;33m(\u001b[0m\u001b[0mnext\u001b[0m\u001b[1;33m(\u001b[0m\u001b[0mcomprehension_gen\u001b[0m\u001b[1;33m)\u001b[0m\u001b[1;33m)\u001b[0m\u001b[1;33m\u001b[0m\u001b[1;33m\u001b[0m\u001b[0m\n\u001b[0;32m      9\u001b[0m \u001b[0mprint\u001b[0m\u001b[1;33m(\u001b[0m\u001b[0mnext\u001b[0m\u001b[1;33m(\u001b[0m\u001b[0mcomprehension_gen\u001b[0m\u001b[1;33m)\u001b[0m\u001b[1;33m)\u001b[0m  \u001b[1;31m# Throws StopIteration means the loop should stop\u001b[0m\u001b[1;33m\u001b[0m\u001b[1;33m\u001b[0m\u001b[0m\n",
      "\u001b[1;31mStopIteration\u001b[0m: "
     ]
    }
   ],
   "source": [
    "\n",
    "comprehension_gen = (x for x in range(4, 6))\n",
    "print(type(comprehension_gen))\n",
    "for each in comprehension_gen:\n",
    "    print(each)\n",
    "\n",
    "# Under the hood\n",
    "print(next(comprehension_gen))\n",
    "print(next(comprehension_gen))\n",
    "print(next(comprehension_gen))  # Throws StopIteration means the loop should stop"
   ]
  },
  {
   "cell_type": "code",
   "execution_count": 268,
   "metadata": {},
   "outputs": [
    {
     "name": "stdout",
     "output_type": "stream",
     "text": [
      "Memory consumed by list l:  87600\n",
      "Memory consumed by generator g:  96\n"
     ]
    }
   ],
   "source": [
    "l = [x for x in range(1, 10000)]\n",
    "g = (x for x in range(1, 10000))\n",
    "\n",
    "print(\"Memory consumed by list l: \", l.__sizeof__())\n",
    "print(\"Memory consumed by generator g: \", g.__sizeof__())"
   ]
  },
  {
   "cell_type": "code",
   "execution_count": 270,
   "metadata": {},
   "outputs": [
    {
     "name": "stdout",
     "output_type": "stream",
     "text": [
      "1\n",
      "3\n",
      "4\n"
     ]
    }
   ],
   "source": [
    "def my_gen():\n",
    "    yield 1\n",
    "    i = 3\n",
    "    yield i\n",
    "    i += 1\n",
    "    yield i\n",
    "\n",
    "g = my_gen()\n",
    "print(next(g))\n",
    "print(next(g))\n",
    "print(next(g))\n",
    "# print(next(g)) # Throws StopIteration"
   ]
  },
  {
   "cell_type": "code",
   "execution_count": 271,
   "metadata": {},
   "outputs": [
    {
     "name": "stdout",
     "output_type": "stream",
     "text": [
      "44\n",
      "11\n",
      "12\n"
     ]
    }
   ],
   "source": [
    "def my_gen(val):\n",
    "    yield val + 34\n",
    "    i = 3\n",
    "    yield val + 1\n",
    "    i += 1\n",
    "    yield val + 2\n",
    "\n",
    "g = my_gen(10)\n",
    "print(next(g))\n",
    "print(next(g))\n",
    "print(next(g))"
   ]
  },
  {
   "cell_type": "markdown",
   "metadata": {},
   "source": [
    "# Decorators"
   ]
  },
  {
   "cell_type": "markdown",
   "metadata": {},
   "source": [
    "데코레이터는 다음을 도와줍니다.\n",
    "중복 코드 처리\n",
    "우리의 논리를 방해하는 코드를 다루다\n",
    "수정하지 않고 코드에 추가 기능 추가"
   ]
  },
  {
   "cell_type": "code",
   "execution_count": 272,
   "metadata": {},
   "outputs": [
    {
     "name": "stdout",
     "output_type": "stream",
     "text": [
      "Inner executed\n",
      "Hello World!\n"
     ]
    }
   ],
   "source": [
    "\n",
    "def my_func():\n",
    "    print(\"Hello World!\")\n",
    "\n",
    "def outer(arg_func): # function as an argument\n",
    "    def inner():     # defined nested function\n",
    "        print(\"Inner executed\")\n",
    "        arg_func()   # execute arg_func inside the inner func\n",
    "    return inner # return the inner function as a value\n",
    "\n",
    "m = my_func # function assigned as a variable's value\n",
    "o = outer\n",
    "r = o(m) # passing function to another function\n",
    "r() # this is executing the inner() function"
   ]
  },
  {
   "cell_type": "code",
   "execution_count": 273,
   "metadata": {},
   "outputs": [
    {
     "name": "stdout",
     "output_type": "stream",
     "text": [
      "1\n",
      "2\n",
      "3\n",
      "name Sagar\n",
      "age 25\n",
      "[10, 11, 12, 13]\n"
     ]
    }
   ],
   "source": [
    "\n",
    "def my_func(*args, **kwargs):\n",
    "    for each in args:\n",
    "        print(each)\n",
    "    for k, v in kwargs.items():\n",
    "        print(k, v)\n",
    "\n",
    "my_func()\n",
    "my_func(1, 2, 3)\n",
    "my_func(name=\"Sagar\", age=25)\n",
    "my_func([10, 11, 12, 13])"
   ]
  },
  {
   "cell_type": "code",
   "execution_count": 274,
   "metadata": {},
   "outputs": [
    {
     "name": "stdout",
     "output_type": "stream",
     "text": [
      "before some_function()\n",
      "Hello!\n",
      "after some_function()\n"
     ]
    }
   ],
   "source": [
    "\n",
    "def my_decorator(some_function):\n",
    "    def wrapper():\n",
    "        print(\"before some_function()\")\n",
    "        some_function()\n",
    "        print(\"after some_function()\")\n",
    "    return wrapper\n",
    "\n",
    "@my_decorator\n",
    "def just_some_function():\n",
    "    print(\"Hello!\")\n",
    "\n",
    "just_some_function()"
   ]
  },
  {
   "cell_type": "code",
   "execution_count": 275,
   "metadata": {},
   "outputs": [],
   "source": [
    "def calc_square(numbers):\n",
    "    return [n**2 for n in numbers]\n",
    "\n",
    "def calc_cube(numbers):\n",
    "    return [n**3 for n in numbers]\n",
    "\n",
    "nums = range(1, 10000)\n",
    "squares = calc_square(nums)\n",
    "cube = calc_cube(nums)"
   ]
  },
  {
   "cell_type": "code",
   "execution_count": 276,
   "metadata": {},
   "outputs": [
    {
     "name": "stdout",
     "output_type": "stream",
     "text": [
      "Calc square took: 2.9959678649902344 ms\n",
      "Calc cube took: 3.2927989959716797 ms\n"
     ]
    }
   ],
   "source": [
    "import time\n",
    "\n",
    "def calc_square(numbers):\n",
    "    start = time.time()\n",
    "    result = [n**2 for n in numbers]\n",
    "    end = time.time()\n",
    "    print(\"Calc square took: {} ms\".format(((end-start)*1000)))\n",
    "    \n",
    "def calc_cube(numbers):\n",
    "    start = time.time()\n",
    "    result = [n**3 for n in numbers]\n",
    "    end = time.time()\n",
    "    print(\"Calc cube took: {} ms\".format(((end-start)*1000)))\n",
    "\n",
    "nums = range(1, 10000)\n",
    "squares = calc_square(nums)\n",
    "cube = calc_cube(nums)"
   ]
  },
  {
   "cell_type": "code",
   "execution_count": 277,
   "metadata": {},
   "outputs": [
    {
     "name": "stdout",
     "output_type": "stream",
     "text": [
      "calc_square took: 31.00 ms\n",
      "calc_cube took: 43.00 ms\n"
     ]
    }
   ],
   "source": [
    "import time\n",
    "\n",
    "def time_it(func):\n",
    "    def wrapper(*args, **kwargs):\n",
    "        start = time.time()\n",
    "        result = func(*args, **kwargs)\n",
    "        end = time.time()\n",
    "        print(\"{} took: {:.2f} ms\".format(func.__name__, ((end-start)*1000)))\n",
    "        return result\n",
    "    return wrapper\n",
    "\n",
    "@time_it\n",
    "def calc_square(numbers):\n",
    "    return [n**2 for n in numbers]\n",
    "\n",
    "@time_it\n",
    "def calc_cube(numbers):\n",
    "    return [n**3 for n in numbers]\n",
    "\n",
    "nums = range(1, 100000)\n",
    "squares = calc_square(nums)\n",
    "cube = calc_cube(nums)"
   ]
  },
  {
   "cell_type": "code",
   "execution_count": 278,
   "metadata": {},
   "outputs": [
    {
     "name": "stdout",
     "output_type": "stream",
     "text": [
      "calc_square took: 31.00 ms\n",
      "calc_cube took: 33.03 ms\n"
     ]
    }
   ],
   "source": [
    "\n",
    "import time\n",
    "from functools import wraps\n",
    "\n",
    "def time_it(func):\n",
    "    @wraps(func)\n",
    "    def wrapper(*args, **kwargs):\n",
    "        start = time.time()\n",
    "        result = func(*args, **kwargs)\n",
    "        end = time.time()\n",
    "        print(\"{} took: {:.2f} ms\".format(func.__name__, ((end-start)*1000)))\n",
    "        return result\n",
    "    return wrapper\n",
    "\n",
    "@time_it\n",
    "def calc_square(numbers):\n",
    "    return [n**2 for n in numbers]\n",
    "\n",
    "@time_it\n",
    "def calc_cube(numbers):\n",
    "    return [n**3 for n in numbers]\n",
    "\n",
    "nums = range(1, 100000)\n",
    "squares = calc_square(nums)\n",
    "cube = calc_cube(nums)"
   ]
  },
  {
   "cell_type": "markdown",
   "metadata": {},
   "source": [
    "# Database 작업하기"
   ]
  },
  {
   "cell_type": "raw",
   "metadata": {},
   "source": [
    "Python의 sqlite3 인터페이스와 결합 된 SQLite.\n",
    "SQLite는 대부분의 표준 Python 설치와 함께 번들로 제공되는 단일 파일 관계형 데이터베이스입니다.\n",
    "SQLite는 종종 소규모 응용 프로그램에서 선택하는 기술입니다.\n",
    "특히 전화 및 태블릿, 스마트 기기 및 IOT와 같은 임베디드 시스템 및 장치"
   ]
  },
  {
   "cell_type": "markdown",
   "metadata": {},
   "source": [
    "https://stackabuse.com/a-sqlite-tutorial-with-python/?utm_content=buffer24017&utm_medium=social&utm_source=facebook.com&utm_campaign=buffer"
   ]
  },
  {
   "cell_type": "code",
   "execution_count": 1,
   "metadata": {},
   "outputs": [
    {
     "ename": "OperationalError",
     "evalue": "table product already exists",
     "output_type": "error",
     "traceback": [
      "\u001b[1;31m---------------------------------------------------------------------------\u001b[0m",
      "\u001b[1;31mOperationalError\u001b[0m                          Traceback (most recent call last)",
      "\u001b[1;32m<ipython-input-1-ec22cbfe04d6>\u001b[0m in \u001b[0;36m<module>\u001b[1;34m\u001b[0m\n\u001b[0;32m     14\u001b[0m \u001b[1;33m\u001b[0m\u001b[0m\n\u001b[0;32m     15\u001b[0m \u001b[1;31m# execute the query\u001b[0m\u001b[1;33m\u001b[0m\u001b[1;33m\u001b[0m\u001b[1;33m\u001b[0m\u001b[0m\n\u001b[1;32m---> 16\u001b[1;33m \u001b[0mcur\u001b[0m\u001b[1;33m.\u001b[0m\u001b[0mexecute\u001b[0m\u001b[1;33m(\u001b[0m\u001b[0mcreate_table_query\u001b[0m\u001b[1;33m)\u001b[0m\u001b[1;33m\u001b[0m\u001b[1;33m\u001b[0m\u001b[0m\n\u001b[0m",
      "\u001b[1;31mOperationalError\u001b[0m: table product already exists"
     ]
    }
   ],
   "source": [
    "import sqlite3\n",
    "\n",
    "#connect to database\n",
    "con = sqlite3.connect('PQRS.sqlite3')\n",
    "\n",
    "# generate a cursor\n",
    "cur = con.cursor()\n",
    "\n",
    "# define a SQL query string\n",
    "create_table_query = \"\"\" CREATE TABLE product (\n",
    "                        name text NOT NULL, \n",
    "                        price text NOT NULL\n",
    "                    )\"\"\"\n",
    "\n",
    "# execute the query\n",
    "cur.execute(create_table_query)"
   ]
  },
  {
   "cell_type": "code",
   "execution_count": 2,
   "metadata": {},
   "outputs": [
    {
     "name": "stdout",
     "output_type": "stream",
     "text": [
      "Enter name1\n",
      "Enter price2\n"
     ]
    },
    {
     "ename": "OperationalError",
     "evalue": "table product already exists",
     "output_type": "error",
     "traceback": [
      "\u001b[1;31m---------------------------------------------------------------------------\u001b[0m",
      "\u001b[1;31mOperationalError\u001b[0m                          Traceback (most recent call last)",
      "\u001b[1;32m<ipython-input-2-06e285e23e56>\u001b[0m in \u001b[0;36m<module>\u001b[1;34m\u001b[0m\n\u001b[0;32m     16\u001b[0m \u001b[1;33m\u001b[0m\u001b[0m\n\u001b[0;32m     17\u001b[0m \u001b[1;31m# execute the query\u001b[0m\u001b[1;33m\u001b[0m\u001b[1;33m\u001b[0m\u001b[1;33m\u001b[0m\u001b[0m\n\u001b[1;32m---> 18\u001b[1;33m \u001b[0mcur\u001b[0m\u001b[1;33m.\u001b[0m\u001b[0mexecute\u001b[0m\u001b[1;33m(\u001b[0m\u001b[0mcreate_table_query\u001b[0m\u001b[1;33m)\u001b[0m\u001b[1;33m\u001b[0m\u001b[1;33m\u001b[0m\u001b[0m\n\u001b[0m\u001b[0;32m     19\u001b[0m \u001b[0mcur\u001b[0m\u001b[1;33m.\u001b[0m\u001b[0mexecute\u001b[0m\u001b[1;33m(\u001b[0m\u001b[0madd_data_query\u001b[0m\u001b[1;33m)\u001b[0m\u001b[1;33m\u001b[0m\u001b[1;33m\u001b[0m\u001b[0m\n\u001b[0;32m     20\u001b[0m \u001b[1;33m\u001b[0m\u001b[0m\n",
      "\u001b[1;31mOperationalError\u001b[0m: table product already exists"
     ]
    }
   ],
   "source": [
    "# Creating a database\n",
    "import sqlite3  \n",
    "con = sqlite3.connect('PQRS.sqlite3')  \n",
    "cur = con.cursor()\n",
    "create_table_query = \"\"\" CREATE TABLE product (\n",
    "                    name text NOT NULL, \n",
    "                    price text NOT NULL\n",
    "                )\"\"\"\n",
    "\n",
    "# take user input\n",
    "name = input(\"Enter name\")\n",
    "price = input(\"Enter price\")\n",
    "\n",
    "# generate query based on user input\n",
    "add_data_query = \"\"\"INSERT INTO product (name, price) VALUES ('{}', '{}')\"\"\".format(name, price)\n",
    "\n",
    "# execute the query\n",
    "cur.execute(create_table_query)\n",
    "cur.execute(add_data_query)\n",
    "\n",
    "# commit or save the execution\n",
    "con.commit()\n",
    "\n",
    "#close the cursor\n",
    "cur.close()"
   ]
  },
  {
   "cell_type": "code",
   "execution_count": 3,
   "metadata": {},
   "outputs": [],
   "source": [
    "import sqlite3  \n",
    "con = sqlite3.connect('PQRS.sqlite3')  \n",
    "cur = con.cursor()\n",
    "add_data_query = \"\"\"INSERT INTO product (name, price) VALUES ('Test Product 123', '50000')\"\"\"\n",
    "cur.execute(add_data_query)\n",
    "con.commit()\n",
    "cur.close()"
   ]
  },
  {
   "cell_type": "code",
   "execution_count": 5,
   "metadata": {},
   "outputs": [
    {
     "name": "stdout",
     "output_type": "stream",
     "text": [
      "('Test Product 123', '50000')\n",
      "[]\n",
      "[]\n"
     ]
    }
   ],
   "source": [
    "import sqlite3  \n",
    "con = sqlite3.connect('PQRS.sqlite3')  \n",
    "cur = con.cursor()\n",
    "con.commit()\n",
    "cur.execute(\"SELECT * FROM product\")\n",
    "print(cur.fetchone())  #fetch just one item (this behaves as a generator)\n",
    "\n",
    "print(cur.fetchall()) # fetch all records in the database\n",
    "\n",
    "\n",
    "print(cur.fetchmany(1)) #Fetches several rows from the resultset."
   ]
  },
  {
   "cell_type": "code",
   "execution_count": 8,
   "metadata": {},
   "outputs": [
    {
     "name": "stdout",
     "output_type": "stream",
     "text": [
      "[('DSLR Camera', 50000.0)]\n"
     ]
    }
   ],
   "source": [
    "\n",
    "class Product:\n",
    "    def __init__(self, name, price):\n",
    "        self.name = name\n",
    "        self.price = price\n",
    "\n",
    "conn = sqlite3.connect('product.db')\n",
    "\n",
    "c = conn.cursor()\n",
    "\n",
    "c.execute(\"\"\"CREATE TABLE products (\n",
    "            name text,\n",
    "            price float\n",
    "            )\"\"\")\n",
    "\n",
    "\n",
    "def insert_product(prod):\n",
    "    with conn: # work with context manager so that we don't have to commit everytime\n",
    "        # paramaterized SQL query\n",
    "        c.execute(\"INSERT INTO products VALUES (:name, :price)\", {'name': prod.name, 'price': prod.price})\n",
    "\n",
    "\n",
    "def get_product_by_name(name):\n",
    "    c.execute(\"SELECT * FROM products WHERE name=:name\", {'name': name})\n",
    "    return c.fetchall()\n",
    "\n",
    "\n",
    "def update_price(prod, price):\n",
    "    with conn:\n",
    "        c.execute(\"\"\"UPDATE products SET price = :price\n",
    "                    WHERE name = :name\"\"\",\n",
    "                  {'name': prod.name, 'price': price})\n",
    "\n",
    "\n",
    "def remove_product(prod):\n",
    "    with conn:\n",
    "        c.execute(\"DELETE from products WHERE name = :name\",\n",
    "                  {'name': prod.name})\n",
    "\n",
    "p1 = Product(\"DSLR Camera\", 50000)\n",
    "p2 = Product(\"Toshiba Laptop\", 750000)\n",
    "p3 = Product(\"ADATA External HDD 1TB\", 7500)\n",
    "\n",
    "insert_product(p1)\n",
    "insert_product(p2)\n",
    "insert_product(p3)\n",
    "\n",
    "prod = get_product_by_name('DSLR Camera')\n",
    "print(prod)\n",
    "\n",
    "update_price(p2, 70000)\n",
    "\n",
    "remove_product(p3)\n",
    "\n",
    "conn.close()"
   ]
  },
  {
   "cell_type": "code",
   "execution_count": null,
   "metadata": {},
   "outputs": [],
   "source": []
  },
  {
   "cell_type": "code",
   "execution_count": null,
   "metadata": {},
   "outputs": [],
   "source": []
  },
  {
   "cell_type": "code",
   "execution_count": null,
   "metadata": {},
   "outputs": [],
   "source": []
  },
  {
   "cell_type": "code",
   "execution_count": null,
   "metadata": {},
   "outputs": [],
   "source": []
  },
  {
   "cell_type": "markdown",
   "metadata": {},
   "source": [
    "# 함수"
   ]
  },
  {
   "cell_type": "code",
   "execution_count": 154,
   "metadata": {},
   "outputs": [
    {
     "name": "stdout",
     "output_type": "stream",
     "text": [
      "0\n",
      "1\n",
      "3\n",
      "6\n",
      "25\n"
     ]
    }
   ],
   "source": [
    "#매개 변수 이름 앞에 args가 변수 매개 변수임을 나타냅니다.\n",
    "def add(*args):\n",
    "    total = 0\n",
    "    for val in args:\n",
    "        total += val\n",
    "    return total\n",
    "\n",
    "\n",
    "# add 함수를 호출 할 때 0 개 이상의 매개 변수를 전달할 수 있습니다.\n",
    "print(add())\n",
    "print(add(1))\n",
    "print(add(1, 2))\n",
    "print(add(1, 2, 3))\n",
    "print(add(1, 3, 5, 7, 9))"
   ]
  },
  {
   "cell_type": "code",
   "execution_count": 155,
   "metadata": {},
   "outputs": [
    {
     "name": "stdout",
     "output_type": "stream",
     "text": [
      "goodbye, world!\n"
     ]
    }
   ],
   "source": [
    "def foo():\n",
    "    print('hello, world!')\n",
    "\n",
    "\n",
    "def foo():\n",
    "    print('goodbye, world!')\n",
    "\n",
    "\n",
    "# 다음 코드는 무엇을 출력합니까?\n",
    "foo()\n",
    "#다른사람과 작업을 할경우 함수충돌이 발생할수 잇습니다"
   ]
  },
  {
   "cell_type": "code",
   "execution_count": 156,
   "metadata": {},
   "outputs": [
    {
     "name": "stdout",
     "output_type": "stream",
     "text": [
      "Overwriting module1.py\n"
     ]
    }
   ],
   "source": [
    "%%writefile module1.py\n",
    "\n",
    "def foo():\n",
    "    print('hello, world!')"
   ]
  },
  {
   "cell_type": "code",
   "execution_count": 157,
   "metadata": {},
   "outputs": [
    {
     "name": "stdout",
     "output_type": "stream",
     "text": [
      "Overwriting module2.py\n"
     ]
    }
   ],
   "source": [
    "%%writefile module2.py\n",
    "\n",
    "def foo():\n",
    "    print('goodbye, world!')"
   ]
  },
  {
   "cell_type": "code",
   "execution_count": 158,
   "metadata": {},
   "outputs": [
    {
     "name": "stdout",
     "output_type": "stream",
     "text": [
      "Overwriting test.py\n"
     ]
    }
   ],
   "source": [
    "%%writefile test.py\n",
    "from module1 import foo\n",
    "\n",
    "foo()\n",
    "\n",
    "from module2 import foo\n",
    "\n",
    "foo()"
   ]
  },
  {
   "cell_type": "code",
   "execution_count": 159,
   "metadata": {},
   "outputs": [
    {
     "name": "stdout",
     "output_type": "stream",
     "text": [
      "hello, world!\n",
      "goodbye, world!\n"
     ]
    }
   ],
   "source": [
    "!python test.py"
   ]
  },
  {
   "cell_type": "code",
   "execution_count": 160,
   "metadata": {},
   "outputs": [
    {
     "name": "stdout",
     "output_type": "stream",
     "text": [
      "Overwriting test.py\n"
     ]
    }
   ],
   "source": [
    "%%writefile test.py\n",
    "\n",
    "import module1 as m1\n",
    "import module2 as m2\n",
    "\n",
    "m1.foo()\n",
    "m2.foo()"
   ]
  },
  {
   "cell_type": "code",
   "execution_count": 161,
   "metadata": {},
   "outputs": [
    {
     "name": "stdout",
     "output_type": "stream",
     "text": [
      "hello, world!\n",
      "goodbye, world!\n"
     ]
    }
   ],
   "source": [
    "!python test.py"
   ]
  },
  {
   "cell_type": "code",
   "execution_count": 162,
   "metadata": {},
   "outputs": [
    {
     "name": "stdout",
     "output_type": "stream",
     "text": [
      "Overwriting test.py\n"
     ]
    }
   ],
   "source": [
    "%%writefile test.py\n",
    "\n",
    "from module1 import foo\n",
    "from module2 import foo\n",
    "\n",
    "foo()"
   ]
  },
  {
   "cell_type": "code",
   "execution_count": 163,
   "metadata": {},
   "outputs": [
    {
     "name": "stdout",
     "output_type": "stream",
     "text": [
      "goodbye, world!\n"
     ]
    }
   ],
   "source": [
    "!python test.py"
   ]
  },
  {
   "cell_type": "code",
   "execution_count": 164,
   "metadata": {},
   "outputs": [
    {
     "name": "stdout",
     "output_type": "stream",
     "text": [
      "Overwriting test.py\n"
     ]
    }
   ],
   "source": [
    "%%writefile test.py\n",
    "\n",
    "from module2 import foo\n",
    "from module1 import foo\n",
    "\n",
    "foo()"
   ]
  },
  {
   "cell_type": "code",
   "execution_count": 165,
   "metadata": {},
   "outputs": [
    {
     "name": "stdout",
     "output_type": "stream",
     "text": [
      "hello, world!\n"
     ]
    }
   ],
   "source": [
    "!python test.py"
   ]
  },
  {
   "cell_type": "code",
   "execution_count": 166,
   "metadata": {},
   "outputs": [
    {
     "name": "stdout",
     "output_type": "stream",
     "text": [
      "Overwriting module3.py\n"
     ]
    }
   ],
   "source": [
    "%%writefile module3.py\n",
    "\n",
    "def foo():\n",
    "    pass\n",
    "\n",
    "\n",
    "def bar():\n",
    "    pass\n",
    "\n",
    "# __name__은 파이썬에서 모듈의 이름을 나타내는 암시적 변수입니다\n",
    "# 파이썬 인터프리터가 직접 실행하는 모듈의 이름 만 __main__입니다.\n",
    "if __name__ == '__main__':\n",
    "    print('call foo()')\n",
    "    foo()\n",
    "    print('call bar()')\n",
    "    bar()"
   ]
  },
  {
   "cell_type": "code",
   "execution_count": 167,
   "metadata": {},
   "outputs": [
    {
     "name": "stdout",
     "output_type": "stream",
     "text": [
      "Overwriting test.py\n"
     ]
    }
   ],
   "source": [
    "%%writefile test.py\n",
    "\n",
    "import module3\n",
    "# module3을 가져올 때, 모듈의 이름이 __main__ 대신 module3이므로 \n",
    "# 모듈의 if 조건이 설정 될 때 코드가 실행되지 않습니다.\n",
    "# 따라서 실행되는 모듈이 불러오는 것이기때문에 실행되지는 않음"
   ]
  },
  {
   "cell_type": "code",
   "execution_count": 178,
   "metadata": {},
   "outputs": [
    {
     "name": "stdout",
     "output_type": "stream",
     "text": [
      "10\n",
      "20\n",
      "a\n"
     ]
    }
   ],
   "source": [
    "def myFunc(*args):\n",
    "    for arg in args:\n",
    "        print(arg)\n",
    "myFunc(10, 20, 'a')"
   ]
  },
  {
   "cell_type": "code",
   "execution_count": 179,
   "metadata": {},
   "outputs": [
    {
     "name": "stdout",
     "output_type": "stream",
     "text": [
      "10\n",
      "20\n",
      "a\n"
     ]
    }
   ],
   "source": [
    "p1 = [10, 20, 'a']\n",
    "myFunc(*p1)"
   ]
  },
  {
   "cell_type": "code",
   "execution_count": 174,
   "metadata": {},
   "outputs": [
    {
     "name": "stdout",
     "output_type": "stream",
     "text": [
      "('x', 100)\n",
      "('y', 200)\n",
      "('z', 'b')\n"
     ]
    }
   ],
   "source": [
    "def myFunc(**kwargs):\n",
    "    for item in kwargs.items():\n",
    "        print(item)\n",
    "myFunc(x=100, y=200, z='b')"
   ]
  },
  {
   "cell_type": "code",
   "execution_count": 180,
   "metadata": {},
   "outputs": [
    {
     "name": "stdout",
     "output_type": "stream",
     "text": [
      "10\n",
      "20\n",
      "a\n",
      "('x', 100)\n",
      "('y', 200)\n",
      "('z', 'b')\n"
     ]
    }
   ],
   "source": [
    "def myFunc(*args, **kwargs):\n",
    "    for arg in args:\n",
    "        print(arg)\n",
    "    for item in kwargs.items():\n",
    "        print(item)    \n",
    "\n",
    "myFunc(10, 20, 'a',x=100, y=200, z='b')"
   ]
  },
  {
   "cell_type": "code",
   "execution_count": 181,
   "metadata": {},
   "outputs": [
    {
     "name": "stdout",
     "output_type": "stream",
     "text": [
      "10\n",
      "20\n",
      "a\n",
      "('x', 100)\n",
      "('y', 200)\n",
      "('z', 'b')\n"
     ]
    }
   ],
   "source": [
    "p1 = [10, 20, 'a']\n",
    "myFunc(*p1,x=100, y=200, z='b')"
   ]
  },
  {
   "cell_type": "markdown",
   "metadata": {},
   "source": [
    "# Comprehension, lamda"
   ]
  },
  {
   "cell_type": "code",
   "execution_count": 207,
   "metadata": {},
   "outputs": [
    {
     "name": "stdout",
     "output_type": "stream",
     "text": [
      "[0, 1, 2, 3, 4, 5, 6, 7, 8, 9]\n",
      "False\n",
      "my_copy =  [0, 1, 2, 3, 4, 5, 6, 7, 8, 9]\n"
     ]
    }
   ],
   "source": [
    "my_list = list(range(0,10))\n",
    "print(my_list)\n",
    "my_copy = []\n",
    "for n in my_list:\n",
    "    my_copy.append(n)\n",
    "\n",
    "print(my_list is my_copy)\n",
    "print(\"my_copy = \", my_copy)"
   ]
  },
  {
   "cell_type": "code",
   "execution_count": 209,
   "metadata": {},
   "outputs": [
    {
     "name": "stdout",
     "output_type": "stream",
     "text": [
      "my_list =  [0, 1, 2, 3, 4, 5, 6, 7, 8, 9]\n",
      "False\n",
      "my_copy =  [0, 1, 2, 3, 4, 5, 6, 7, 8, 9]\n"
     ]
    }
   ],
   "source": [
    "my_list = list(range(0,10))\n",
    "print(\"my_list = \", my_list)\n",
    "\n",
    "my_copy = [n for n in my_list] # Comprehension\n",
    "print(my_list is my_copy)\n",
    "print(\"my_copy = \", my_copy)"
   ]
  },
  {
   "cell_type": "code",
   "execution_count": 210,
   "metadata": {},
   "outputs": [
    {
     "name": "stdout",
     "output_type": "stream",
     "text": [
      "my_list =  [0, 1, 2, 3, 4, 5, 6, 7, 8, 9]\n",
      "my_squared =  [0, 1, 4, 9, 16, 25, 36, 49, 64, 81]\n"
     ]
    }
   ],
   "source": [
    "\n",
    "my_list = list(range(0,10))\n",
    "print(\"my_list = \", my_list)\n",
    "\n",
    "my_squared = [n*n for n in my_list] # Comprehension\n",
    "\n",
    "print(\"my_squared = \", my_squared)"
   ]
  },
  {
   "cell_type": "code",
   "execution_count": 211,
   "metadata": {},
   "outputs": [
    {
     "data": {
      "text/plain": [
       "[0, 1, 4, 9, 16, 25, 36, 49, 64, 81]"
      ]
     },
     "execution_count": 211,
     "metadata": {},
     "output_type": "execute_result"
    }
   ],
   "source": [
    "nums = list(range(0,10))\n",
    "my_list = map(lambda n: n*n, nums)\n",
    "list(my_list)"
   ]
  },
  {
   "cell_type": "code",
   "execution_count": 212,
   "metadata": {},
   "outputs": [
    {
     "name": "stdout",
     "output_type": "stream",
     "text": [
      "function:  25\n",
      "Lambda: 25\n"
     ]
    }
   ],
   "source": [
    "def squared(x=10):\n",
    "    return x*x\n",
    "\n",
    "print(\"function: \", squared(5))\n",
    "\n",
    "sq = lambda x=10: x*x\n",
    "print(\"Lambda:\", sq(5))"
   ]
  },
  {
   "cell_type": "code",
   "execution_count": 213,
   "metadata": {},
   "outputs": [
    {
     "data": {
      "text/plain": [
       "5"
      ]
     },
     "execution_count": 213,
     "metadata": {},
     "output_type": "execute_result"
    }
   ],
   "source": [
    "addition = lambda x, y: x+y\n",
    "addition(2, 3)"
   ]
  },
  {
   "cell_type": "code",
   "execution_count": 214,
   "metadata": {},
   "outputs": [
    {
     "data": {
      "text/plain": [
       "19"
      ]
     },
     "execution_count": 214,
     "metadata": {},
     "output_type": "execute_result"
    }
   ],
   "source": [
    "def maximum(x, y):\n",
    "    if x > y:\n",
    "        return x\n",
    "    else:\n",
    "        return y\n",
    "maximum(7,19)"
   ]
  },
  {
   "cell_type": "code",
   "execution_count": 216,
   "metadata": {},
   "outputs": [
    {
     "data": {
      "text/plain": [
       "123"
      ]
     },
     "execution_count": 216,
     "metadata": {},
     "output_type": "execute_result"
    }
   ],
   "source": [
    "maximum = lambda x, y: x if x > y else y\n",
    "maximum(3,123)"
   ]
  },
  {
   "cell_type": "code",
   "execution_count": 217,
   "metadata": {},
   "outputs": [
    {
     "data": {
      "text/plain": [
       "'zero division errer'"
      ]
     },
     "execution_count": 217,
     "metadata": {},
     "output_type": "execute_result"
    }
   ],
   "source": [
    "\n",
    "div = lambda x, y: x/y if y!=0 else \"zero division errer\"\n",
    "div(4,0)"
   ]
  },
  {
   "cell_type": "markdown",
   "metadata": {},
   "source": [
    "# map"
   ]
  },
  {
   "cell_type": "code",
   "execution_count": 218,
   "metadata": {},
   "outputs": [
    {
     "name": "stdout",
     "output_type": "stream",
     "text": [
      "[97.7, 98.60000000000001, 99.5, 102.2]\n",
      "[2.5, 2.7777777777777777, 3.055555555555556, 3.8888888888888893]\n"
     ]
    }
   ],
   "source": [
    "def fahrenheit(T):\n",
    "    return ((float(9)/5)*T + 32)\n",
    "def celsius(T):\n",
    "    return (float(5)/9)*(T-32)\n",
    "\n",
    "temp = (36.5, 37, 37.5,39)\n",
    "\n",
    "F = map(fahrenheit, temp)\n",
    "C = map(celsius, temp)\n",
    "print(list(F))\n",
    "print(list(C))"
   ]
  },
  {
   "cell_type": "markdown",
   "metadata": {},
   "source": [
    "# filter"
   ]
  },
  {
   "cell_type": "code",
   "execution_count": 220,
   "metadata": {},
   "outputs": [
    {
     "name": "stdout",
     "output_type": "stream",
     "text": [
      "[0, 2, 8, 34]\n"
     ]
    }
   ],
   "source": [
    "fib = [0,1,1,2,3,5,8,13,21,34,55]\n",
    "result = filter(lambda x: x % 2 == 0, fib)\n",
    "print(list(result))"
   ]
  },
  {
   "cell_type": "markdown",
   "metadata": {},
   "source": [
    "# Reduce"
   ]
  },
  {
   "cell_type": "code",
   "execution_count": 222,
   "metadata": {},
   "outputs": [
    {
     "data": {
      "text/plain": [
       "113"
      ]
     },
     "execution_count": 222,
     "metadata": {},
     "output_type": "execute_result"
    }
   ],
   "source": [
    "from functools import reduce\n",
    "nums= [47, 11, 42, 13] #47+11 = 58 + 42 = 100 +13 =113\n",
    "final_val = reduce(lambda x,y: x+y, nums)\n",
    "final_val"
   ]
  },
  {
   "cell_type": "code",
   "execution_count": 224,
   "metadata": {},
   "outputs": [
    {
     "data": {
      "text/plain": [
       "[(0, 5), (1, 10), (2, 15), (3, 20), (4, 25)]"
      ]
     },
     "execution_count": 224,
     "metadata": {},
     "output_type": "execute_result"
    }
   ],
   "source": [
    "nums = [5, 10, 15, 20, 25]\n",
    "my_list = []\n",
    "for val in enumerate(nums):\n",
    "    my_list.append(val)\n",
    "my_list"
   ]
  },
  {
   "cell_type": "code",
   "execution_count": 227,
   "metadata": {},
   "outputs": [
    {
     "data": {
      "text/plain": [
       "[(0, 5), (1, 10), (2, 15), (3, 20), (4, 25)]"
      ]
     },
     "execution_count": 227,
     "metadata": {},
     "output_type": "execute_result"
    }
   ],
   "source": [
    "nums = [5, 10, 15, 20, 25]\n",
    "my_list = [val for val in enumerate(nums)]\n",
    "my_list"
   ]
  },
  {
   "cell_type": "code",
   "execution_count": 228,
   "metadata": {},
   "outputs": [
    {
     "name": "stdout",
     "output_type": "stream",
     "text": [
      "[('a', 0), ('a', 1), ('a', 2), ('b', 0), ('b', 1), ('b', 2), ('c', 0), ('c', 1), ('c', 2)]\n"
     ]
    }
   ],
   "source": [
    "my_str = \"abc\"\n",
    "my_list = []\n",
    "for letter in my_str:\n",
    "    for index in range(len(my_str)):\n",
    "        my_list.append((letter, index))\n",
    "print(my_list)"
   ]
  },
  {
   "cell_type": "code",
   "execution_count": 229,
   "metadata": {},
   "outputs": [
    {
     "data": {
      "text/plain": [
       "[('a', 0),\n",
       " ('a', 1),\n",
       " ('a', 2),\n",
       " ('b', 0),\n",
       " ('b', 1),\n",
       " ('b', 2),\n",
       " ('c', 0),\n",
       " ('c', 1),\n",
       " ('c', 2)]"
      ]
     },
     "execution_count": 229,
     "metadata": {},
     "output_type": "execute_result"
    }
   ],
   "source": [
    "my_str = \"abc\"\n",
    "my_list = [(letter, index) for letter in my_str for index in range(len(my_str))]\n",
    "my_list"
   ]
  },
  {
   "cell_type": "markdown",
   "metadata": {},
   "source": [
    "# dictionary comprehensions"
   ]
  },
  {
   "cell_type": "code",
   "execution_count": 230,
   "metadata": {},
   "outputs": [
    {
     "name": "stdout",
     "output_type": "stream",
     "text": [
      "[('a', 1), ('b', 2), ('c', 3)]\n"
     ]
    }
   ],
   "source": [
    "#print(list(zip([\"a\", \"b\", \"c\"], [1, 2, 3])))\n",
    "# print(list(zip([\"a\", \"b\", \"c\"], [1, 2, 3, 4])))\n",
    "print(list(zip([\"a\", \"b\", \"c\", \"d\"], [1, 2, 3])))"
   ]
  },
  {
   "cell_type": "code",
   "execution_count": 231,
   "metadata": {},
   "outputs": [
    {
     "name": "stdout",
     "output_type": "stream",
     "text": [
      "{'Python': 'Guido Van Rossum', 'Java': 'James Gosling', 'C': 'Denis Ritchi'}\n"
     ]
    }
   ],
   "source": [
    "lang = [\"Python\", \"Java\", \"C\"]\n",
    "creator = [\"Guido Van Rossum\", \"James Gosling\", \"Denis Ritchi\"]\n",
    "\n",
    "my_dictionary = {}\n",
    "for key, val in zip(lang, creator):\n",
    "    my_dictionary[key]=val\n",
    "print(my_dictionary)"
   ]
  },
  {
   "cell_type": "code",
   "execution_count": 232,
   "metadata": {},
   "outputs": [
    {
     "name": "stdout",
     "output_type": "stream",
     "text": [
      "{'Python': 'Guido Van Rossum', 'Java': 'James Gosling', 'C': 'Denis Ritchi'}\n"
     ]
    }
   ],
   "source": [
    "\n",
    "lang = [\"Python\", \"Java\", \"C\"]\n",
    "creator = [\"Guido Van Rossum\", \"James Gosling\", \"Denis Ritchi\"]\n",
    "\n",
    "my_dict = {key:val for key, val in zip(lang, creator)} # Comprehensions\n",
    "print(my_dict)"
   ]
  },
  {
   "cell_type": "code",
   "execution_count": 233,
   "metadata": {},
   "outputs": [
    {
     "name": "stdout",
     "output_type": "stream",
     "text": [
      "{'Python': 'Guido Van Rossum', 'Java': 'James Gosling', 'C': 'Denis Ritchi'}\n"
     ]
    }
   ],
   "source": [
    "\n",
    "lang = [\"Python\", \"Java\", \"C\", \"linux\"]\n",
    "creator = [\"Guido Van Rossum\", \"James Gosling\", \"Denis Ritchi\", \"Linus Torvalds\"]\n",
    "\n",
    "my_dictionary = {}\n",
    "for key, val in zip(lang, creator):\n",
    "    if key != \"linux\":\n",
    "        my_dictionary[key]=val\n",
    "print(my_dictionary)"
   ]
  },
  {
   "cell_type": "code",
   "execution_count": 234,
   "metadata": {},
   "outputs": [
    {
     "name": "stdout",
     "output_type": "stream",
     "text": [
      "{'Python': 'Guido Van Rossum', 'Java': 'James Gosling', 'C': 'Denis Ritchi', 'linux': 'Linus Torvalds'}\n",
      "{'Python': 'Guido Van Rossum', 'Java': 'James Gosling', 'C': 'Denis Ritchi'}\n"
     ]
    }
   ],
   "source": [
    "lang = [\"Python\", \"Java\", \"C\", \"linux\"]\n",
    "creator = [\"Guido Van Rossum\", \"James Gosling\", \"Denis Ritchi\", \"Linus Torvalds\"]\n",
    "\n",
    "my_dict = {key:val for key, val in zip(lang, creator)}\n",
    "print(my_dict)\n",
    "\n",
    "\n",
    "my_dictionary = {key:val for key, val in zip(lang, creator) if key != \"linux\"}\n",
    "print(my_dictionary)"
   ]
  },
  {
   "cell_type": "markdown",
   "metadata": {},
   "source": [
    "# set comprehension"
   ]
  },
  {
   "cell_type": "code",
   "execution_count": null,
   "metadata": {},
   "outputs": [],
   "source": [
    "\n",
    "nums = [1, 2, 3, 4, 5, 5]\n",
    "my_set = {val*val for val in nums}\n",
    "my_set"
   ]
  },
  {
   "cell_type": "markdown",
   "metadata": {},
   "source": [
    "# tuple comprehension"
   ]
  },
  {
   "cell_type": "code",
   "execution_count": 236,
   "metadata": {},
   "outputs": [
    {
     "name": "stdout",
     "output_type": "stream",
     "text": [
      "<class 'tuple'>\n",
      "<generator object <genexpr> at 0x00000251BB1576D8>\n"
     ]
    }
   ],
   "source": [
    "nums = (1, 2, 3, 4, 5)\n",
    "print(type(nums))\n",
    "my_s_tup = (n*n for n in nums)\n",
    "print(my_s_tup)"
   ]
  },
  {
   "cell_type": "code",
   "execution_count": 237,
   "metadata": {},
   "outputs": [
    {
     "name": "stdout",
     "output_type": "stream",
     "text": [
      "[1, 4, 9, 16, 25]\n"
     ]
    }
   ],
   "source": [
    "print(list(my_s_tup))"
   ]
  },
  {
   "cell_type": "markdown",
   "metadata": {},
   "source": [
    "# 정규식표현"
   ]
  },
  {
   "cell_type": "raw",
   "metadata": {},
   "source": [
    "파이썬에서 re를 사용하는 단계 :\n",
    "\n",
    "다시 가져 오기\n",
    "re.compile () 함수를 사용하여 Regex 객체를 만듭니다. (원시 문자열을 사용해야합니다.)\n",
    "검색 문자열을 정규식 객체의 search () 메소드에 전달하십시오.\n",
    "Match 개체의 group () 메서드를 호출하여 실제 일치하는 텍스트의 문자열을 반환합니다."
   ]
  },
  {
   "cell_type": "markdown",
   "metadata": {},
   "source": [
    "https://www.youtube.com/embed/sa-TUpSx1JA"
   ]
  },
  {
   "cell_type": "raw",
   "metadata": {},
   "source": [
    "\\d -0에서 9까지의 숫자\n",
    "\n",
    "\\D -0에서 9 사이의 숫자가 아닌 문자\n",
    "\n",
    "\\w -문자, 숫자 또는 밑줄 문자 (이를 일치하는 \"단어\"문자로 생각하십시오.)\n",
    "\n",
    "\\W -문자, 숫자 또는 밑줄 문자가 아닌 문자.\n",
    "\n",
    "\\s -공백, 탭 또는 줄 바꿈 문자 (이는 \"공백\"문자와 일치한다고 생각하십시오.)\n",
    "\n",
    "\\S -공백, 탭 또는 줄 바꿈이 아닌 모든 문자."
   ]
  },
  {
   "cell_type": "code",
   "execution_count": 4,
   "metadata": {},
   "outputs": [
    {
     "name": "stdout",
     "output_type": "stream",
     "text": [
      "matchObj.group() :  are\n"
     ]
    }
   ],
   "source": [
    "import re\n",
    "\n",
    "my_str = \"Many Cats are smarter than dogs My. 45 Aren't they?\"\n",
    "reg_obj = re.compile(r'are')\n",
    "matchObj = reg_obj.search(my_str)\n",
    "\n",
    "if matchObj:\n",
    "    print(\"matchObj.group() : \", matchObj.group()) # returns entire match\n",
    "else:\n",
    "    print(\"No match!!\")"
   ]
  },
  {
   "cell_type": "markdown",
   "metadata": {},
   "source": [
    "# random module"
   ]
  },
  {
   "cell_type": "code",
   "execution_count": 6,
   "metadata": {},
   "outputs": [
    {
     "name": "stdout",
     "output_type": "stream",
     "text": [
      "0.8997041295983553\n",
      "455\n",
      "3\n",
      "2\n",
      "[462, 501, 311, 3, 502, 345, 785, 372, 675, 225, 219, 554, 895, 467, 2, 377, 206, 623, 685, 587, 395, 806, 935, 727, 636, 381, 387, 5, 43, 816, 231, 744, 603, 543, 186, 702, 778, 967, 510, 751, 117, 598, 958, 460, 84, 813, 41, 846, 346, 601]\n",
      "[1, 2, 3, 4, 5, 6, 7, 8, 9, 10, 11, 12, 13, 14, 15, 16, 17, 18, 19, 20, 21, 22, 23, 24, 25, 26, 27, 28, 29, 30, 31, 32, 33, 34, 35, 36, 37, 38, 39, 40, 41, 42, 43, 44, 45, 46, 47, 48, 49, 50, 51, 52]\n",
      "[12, 42, 6, 29, 11, 40, 4, 20, 35, 26, 3, 24, 19, 15, 37, 39, 48, 45, 18, 23, 51, 36, 41, 16, 22, 32, 8, 50, 10, 1, 28, 52, 2, 30, 21, 9, 17, 43, 38, 14, 5, 25, 33, 34, 44, 46, 27, 47, 31, 49, 7, 13]\n"
     ]
    }
   ],
   "source": [
    "import random\n",
    "\n",
    "print(random.random())\n",
    "print(random.randint(1, 1000)) # includes endpoint\n",
    "print(random.randrange(1, 5)) # dont include endpoint\n",
    "\n",
    "l = [1, 2, 3, 5, 6, 3, 2, 123]\n",
    "print(random.choice(l)) #like a lottery\n",
    "sample = random.sample(list(range(1, 1000)), 50)\n",
    "print(sample)\n",
    "\n",
    "my_l = list(range(1, 53))\n",
    "print(my_l)\n",
    "random.shuffle(my_l)\n",
    "print(my_l)"
   ]
  },
  {
   "cell_type": "markdown",
   "metadata": {},
   "source": [
    "# Datetime"
   ]
  },
  {
   "cell_type": "code",
   "execution_count": 7,
   "metadata": {},
   "outputs": [
    {
     "name": "stdout",
     "output_type": "stream",
     "text": [
      "Today's date is  2020-07-16\n",
      "Date Components:  16 7 2020\n",
      "Today's Weekday #:  3\n"
     ]
    }
   ],
   "source": [
    "from datetime import date\n",
    "from datetime import time\n",
    "from datetime import datetime\n",
    "\n",
    "# Get today's date from the simple today() method from the date class\n",
    "today = date.today()\n",
    "print(\"Today's date is \", today)\n",
    "\n",
    "# print out the date's individual components\n",
    "print (\"Date Components: \", today.day, today.month, today.year)\n",
    "  \n",
    "# retrieve today's weekday (0=Monday, 6=Sunday)\n",
    "print(\"Today's Weekday #: \", today.weekday())"
   ]
  },
  {
   "cell_type": "code",
   "execution_count": 13,
   "metadata": {},
   "outputs": [
    {
     "name": "stdout",
     "output_type": "stream",
     "text": [
      "Today is day number 3\n",
      "Which is a thursday\n"
     ]
    }
   ],
   "source": [
    "\n",
    "# # DATETIME OBJECTS\n",
    "# #Get today's date from the datetime class\n",
    "# today = datetime.now()\n",
    "# print(\"The current date and time is \", today)\n",
    "  \n",
    "# #Get the current time\n",
    "# t = datetime.time(datetime.now())\n",
    "# print (\"The current time is \", t)\n",
    "  \n",
    "# #weekday returns 0 (monday) through 6 (sunday)\n",
    "# wd = date.weekday(today)  \n",
    "\n",
    "# # # Days start at 0 for Monday \n",
    "days = [\"monday\",\"tuesday\",\"wednesday\",\"thursday\",\"friday\",\"saturday\",\"sunday\"]\n",
    "print (\"Today is day number {}\".format(wd))\n",
    "print (\"Which is a \" + days[wd])"
   ]
  },
  {
   "cell_type": "code",
   "execution_count": 14,
   "metadata": {},
   "outputs": [
    {
     "name": "stdout",
     "output_type": "stream",
     "text": [
      "20\n",
      "Thu, 16 July, 20\n"
     ]
    }
   ],
   "source": [
    "from datetime import datetime\n",
    "\n",
    "# Times and dates can be formatted using a set of predefined string\n",
    "# control codes \n",
    "now = datetime.now() # get the current date and time\n",
    "\n",
    "#### Date Formatting ####\n",
    "  \n",
    "# %y/%Y - Year, %a/%A - weekday, %b/%B - month, %d - day of month\n",
    "print(now.strftime(\"%y\")) # full year with century\n",
    "print(now.strftime(\"%a, %d %B, %y\"))# abbreviated day, num, full month, abbreviated year"
   ]
  },
  {
   "cell_type": "code",
   "execution_count": 15,
   "metadata": {},
   "outputs": [
    {
     "name": "stdout",
     "output_type": "stream",
     "text": [
      "Thu Jul 16 11:12:14 2020\n",
      "07/16/20\n",
      "11:12:14\n",
      "11:12:14 AM\n"
     ]
    }
   ],
   "source": [
    "# %c - locale's date and time, %x - locale's date, %X - locale's time\n",
    "print (now.strftime(\"%c\"))\n",
    "print (now.strftime(\"%x\"))\n",
    "print (now.strftime(\"%X\"))\n",
    "  \n",
    "#### Time Formatting ####\n",
    "\n",
    "# %I/%H - 12/24 Hour, %M - minute, %S - second, %p - locale's AM/PM\n",
    "print (now.strftime(\"%H:%M:%S %p\")) # 12-Hour:Minute:Second:AM"
   ]
  },
  {
   "cell_type": "code",
   "execution_count": 17,
   "metadata": {},
   "outputs": [
    {
     "name": "stdout",
     "output_type": "stream",
     "text": [
      "    January 2017\n",
      "Mo Tu We Th Fr Sa Su\n",
      "                   1\n",
      " 2  3  4  5  6  7  8\n",
      " 9 10 11 12 13 14 15\n",
      "16 17 18 19 20 21 22\n",
      "23 24 25 26 27 28 29\n",
      "30 31\n",
      "\n",
      "<table border=\"0\" cellpadding=\"0\" cellspacing=\"0\" class=\"month\">\n",
      "<tr><th colspan=\"7\" class=\"month\">January 2013</th></tr>\n",
      "<tr><th class=\"sun\">Sun</th><th class=\"mon\">Mon</th><th class=\"tue\">Tue</th><th class=\"wed\">Wed</th><th class=\"thu\">Thu</th><th class=\"fri\">Fri</th><th class=\"sat\">Sat</th></tr>\n",
      "<tr><td class=\"noday\">&nbsp;</td><td class=\"noday\">&nbsp;</td><td class=\"tue\">1</td><td class=\"wed\">2</td><td class=\"thu\">3</td><td class=\"fri\">4</td><td class=\"sat\">5</td></tr>\n",
      "<tr><td class=\"sun\">6</td><td class=\"mon\">7</td><td class=\"tue\">8</td><td class=\"wed\">9</td><td class=\"thu\">10</td><td class=\"fri\">11</td><td class=\"sat\">12</td></tr>\n",
      "<tr><td class=\"sun\">13</td><td class=\"mon\">14</td><td class=\"tue\">15</td><td class=\"wed\">16</td><td class=\"thu\">17</td><td class=\"fri\">18</td><td class=\"sat\">19</td></tr>\n",
      "<tr><td class=\"sun\">20</td><td class=\"mon\">21</td><td class=\"tue\">22</td><td class=\"wed\">23</td><td class=\"thu\">24</td><td class=\"fri\">25</td><td class=\"sat\">26</td></tr>\n",
      "<tr><td class=\"sun\">27</td><td class=\"mon\">28</td><td class=\"tue\">29</td><td class=\"wed\">30</td><td class=\"thu\">31</td><td class=\"noday\">&nbsp;</td><td class=\"noday\">&nbsp;</td></tr>\n",
      "</table>\n",
      "\n"
     ]
    }
   ],
   "source": [
    "import calendar\n",
    "\n",
    "# create a plain text calendar\n",
    "c = calendar.TextCalendar(calendar.MONDAY)\n",
    "cal = c.formatmonth(2017, 1)\n",
    "print(cal)\n",
    "\n",
    "#create an HTML formatted calendar\n",
    "hc = calendar.HTMLCalendar(calendar.SUNDAY)\n",
    "cal = hc.formatmonth(2013, 1)\n",
    "print(cal)"
   ]
  },
  {
   "cell_type": "markdown",
   "metadata": {},
   "source": [
    "# OS module"
   ]
  },
  {
   "cell_type": "code",
   "execution_count": 18,
   "metadata": {},
   "outputs": [
    {
     "name": "stdout",
     "output_type": "stream",
     "text": [
      "C:\\Users\\james\\AI_Advance\n"
     ]
    }
   ],
   "source": [
    "import os\n",
    "from os import path\n",
    "import datetime\n",
    "from datetime import date, time, timedelta\n",
    "import time\n",
    "\n",
    "# print(os.path.exists(\"textfile.txt\"))\n",
    "# print(os.path.isfile(\"textfile.txt\"))\n",
    "# print(os.path.isdir(\"textfile.txt\"))\n",
    "\n",
    "print(os.getcwd())\n",
    "# os.mkdir(\"XYZ\")\n",
    "# print(os.path.isdir(\"XYZ\"))\n",
    "# print(os.listdir())\n",
    "# \"XYZ\" in os.listdir()\n",
    "# print(os.chdir(os.path.join(\"/home\", \"linuxsagar\")))\n",
    "# print(os.getcwd())\n",
    "\n",
    "for dire, _, files in os.walk('/home/linuxsagar/Pictures/Wallpapers/'):\n",
    "    for each in files:\n",
    "        print(each)"
   ]
  },
  {
   "cell_type": "code",
   "execution_count": 21,
   "metadata": {},
   "outputs": [
    {
     "name": "stdout",
     "output_type": "stream",
     "text": [
      "Searching in specified directory: -f\n",
      "0 png/PNG files found.\n"
     ]
    }
   ],
   "source": [
    "import glob\n",
    "import os\n",
    "import sys\n",
    "\n",
    "search_dir = None\n",
    "if len(sys.argv) > 1 and sys.argv[1] == '.':\n",
    "    print(\"Searching in specified directory: {}\".format(os.getcwd()))\n",
    "    search_dir = os.path.join(os.getcwd(), '')\n",
    "elif len(sys.argv) > 1:\n",
    "    print(\"Searching in specified directory: {}\".format(sys.argv[1]))\n",
    "    search_dir = os.path.join(sys.argv[1], '')\n",
    "else:\n",
    "    print(\"Please specify where to search.\")\n",
    "    exit(0)\n",
    "\n",
    "png_files = []\n",
    "search_pattern_1 = search_dir + '**/*.png'\n",
    "search_pattern_2 = search_dir + '**/*.PNG'\n",
    "\n",
    "\n",
    "def search_png():\n",
    "    \"\"\"\n",
    "    Usage: $ python3 pyngsearch.py [<arguments>]\n",
    "    :return: NoneType\n",
    "    \"\"\"\n",
    "    for filename in glob.iglob(search_pattern_1, recursive=True):\n",
    "        png_files.append(filename)\n",
    "    for filename in glob.iglob(search_pattern_2, recursive=True):\n",
    "        png_files.append(filename)\n",
    "\n",
    "\n",
    "if __name__ == '__main__':\n",
    "    search_png()\n",
    "    print('{} png/PNG files found.'.format(len(png_files)))"
   ]
  },
  {
   "cell_type": "markdown",
   "metadata": {},
   "source": [
    "# Class"
   ]
  },
  {
   "cell_type": "raw",
   "metadata": {},
   "source": [
    "파이썬의 OOP\n",
    "    절차 적 프로그래밍\n",
    "    객체 지향 프로그래밍 (OOP)\n",
    "    OOP는 실제 작업 방식과 훨씬 유사합니다.\n",
    "    각 프로그램은 객체라고하는 많은 엔티티로 구성됩니다.\n",
    "    데이터를 요청하는 메시지를 보내야합니다"
   ]
  },
  {
   "cell_type": "raw",
   "metadata": {},
   "source": [
    "OOP의 특징\n",
    "    실제 이벤트를 훨씬 더 효과적으로 시뮬레이션하는 기능\n",
    "    코드를 재사용 할 수 있으므로 적은 코드를 작성해야 할 수도 있습니다\n",
    "    GUI (Graphical User Interface) 응용 프로그램을보다 효과적으로 만들 수 있음 WEB (ORM)\n",
    "    프로그래머는 더 빠르고 정확하며 더 잘 작성된 응용 프로그램을 만들 수 있습니다"
   ]
  },
  {
   "cell_type": "raw",
   "metadata": {},
   "source": [
    "객체 란?\n",
    "     객체는 객체 지향 시스템의 기본 런타임 엔터티입니다.\n",
    "     객체은 사람, 장소, 은행 계좌 등을 나타낼 수 있습니다\n",
    "     객체는 서로에게 메시지를 보내 상호 작용합니다.\n",
    "     객체에는 두 가지 구성 요소가 있습니다.\n",
    "         데이터 (즉, 속성)\n",
    "         동작 (예 : 방법)"
   ]
  },
  {
   "cell_type": "markdown",
   "metadata": {},
   "source": [
    "# method"
   ]
  },
  {
   "cell_type": "code",
   "execution_count": 25,
   "metadata": {},
   "outputs": [
    {
     "name": "stdout",
     "output_type": "stream",
     "text": [
      "['__add__', '__class__', '__contains__', '__delattr__', '__dir__', '__doc__', '__eq__', '__format__', '__ge__', '__getattribute__', '__getitem__', '__getnewargs__', '__gt__', '__hash__', '__init__', '__init_subclass__', '__iter__', '__le__', '__len__', '__lt__', '__mod__', '__mul__', '__ne__', '__new__', '__reduce__', '__reduce_ex__', '__repr__', '__rmod__', '__rmul__', '__setattr__', '__sizeof__', '__str__', '__subclasshook__', 'capitalize', 'casefold', 'center', 'count', 'encode', 'endswith', 'expandtabs', 'find', 'format', 'format_map', 'index', 'isalnum', 'isalpha', 'isascii', 'isdecimal', 'isdigit', 'isidentifier', 'islower', 'isnumeric', 'isprintable', 'isspace', 'istitle', 'isupper', 'join', 'ljust', 'lower', 'lstrip', 'maketrans', 'partition', 'replace', 'rfind', 'rindex', 'rjust', 'rpartition', 'rsplit', 'rstrip', 'split', 'splitlines', 'startswith', 'strip', 'swapcase', 'title', 'translate', 'upper', 'zfill']\n"
     ]
    }
   ],
   "source": [
    "my_str = \"Hello World!\"\n",
    "print(dir(my_str))"
   ]
  },
  {
   "cell_type": "code",
   "execution_count": 26,
   "metadata": {},
   "outputs": [
    {
     "name": "stdout",
     "output_type": "stream",
     "text": [
      "['Hello', 'World']\n"
     ]
    }
   ],
   "source": [
    "# l = [\"hello\", \"hola\", \"world\"]\n",
    "# for each in l:\n",
    "#     if each.startswith(\"h\"):\n",
    "#         print(each)\n",
    "\n",
    "x = \"Hello World\"\n",
    "print(x.split(\" \"))"
   ]
  },
  {
   "cell_type": "raw",
   "metadata": {},
   "source": [
    "Class란?\n",
    "    클래스는 특정 종류의 오브젝트를 빌드하는 방법을 정의하는 프로토 타입 / 블루 프린트입니다.\n",
    "    이 클래스는 또한이 클래스의 모든 인스턴스가 공유하는 일부 데이터 항목을 저장합니다 (속성).\n",
    "    인스턴스는 클래스 내부에 제공된 정의를 따르는 객체입니다."
   ]
  },
  {
   "cell_type": "code",
   "execution_count": 27,
   "metadata": {},
   "outputs": [],
   "source": [
    "class MyFirstClass:\n",
    "    \"\"\"This is a doc string abc\"\"\"\n",
    "    pass"
   ]
  },
  {
   "cell_type": "code",
   "execution_count": 28,
   "metadata": {},
   "outputs": [
    {
     "name": "stdout",
     "output_type": "stream",
     "text": [
      "This is a doc string abc\n"
     ]
    }
   ],
   "source": [
    "# Insatances / objects\n",
    "a = MyFirstClass()\n",
    "b = MyFirstClass()\n",
    "print(a.__doc__)"
   ]
  },
  {
   "cell_type": "code",
   "execution_count": 29,
   "metadata": {},
   "outputs": [
    {
     "name": "stdout",
     "output_type": "stream",
     "text": [
      "['__class__', '__delattr__', '__dir__', '__doc__', '__eq__', '__format__', '__ge__', '__getattribute__', '__gt__', '__hash__', '__init__', '__init_subclass__', '__le__', '__lt__', '__ne__', '__new__', '__reduce__', '__reduce_ex__', '__repr__', '__setattr__', '__sizeof__', '__str__', '__subclasshook__']\n"
     ]
    }
   ],
   "source": [
    "print(dir(object))"
   ]
  },
  {
   "cell_type": "code",
   "execution_count": 30,
   "metadata": {},
   "outputs": [
    {
     "name": "stdout",
     "output_type": "stream",
     "text": [
      "['__class__', '__delattr__', '__dict__', '__dir__', '__doc__', '__eq__', '__format__', '__ge__', '__getattribute__', '__gt__', '__hash__', '__init__', '__init_subclass__', '__le__', '__lt__', '__module__', '__ne__', '__new__', '__reduce__', '__reduce_ex__', '__repr__', '__setattr__', '__sizeof__', '__str__', '__subclasshook__', '__weakref__']\n"
     ]
    }
   ],
   "source": [
    "print(dir(a))\n",
    "# print(a.__dict__)\n",
    "# print(a.__doc__)\n",
    "#print(a.__hash__())\n",
    "#print(a.__sizeof__())\n",
    "#print(a.__str__())"
   ]
  },
  {
   "cell_type": "markdown",
   "metadata": {},
   "source": [
    "# 클래스 속성"
   ]
  },
  {
   "cell_type": "code",
   "execution_count": 31,
   "metadata": {},
   "outputs": [
    {
     "name": "stdout",
     "output_type": "stream",
     "text": [
      "5 4\n",
      "3 6\n"
     ]
    }
   ],
   "source": [
    "class Point:\n",
    "    pass\n",
    "\n",
    "p1 = Point()\n",
    "p2 = Point()\n",
    "\n",
    "p1.x = 5\n",
    "p1.y = 4\n",
    "\n",
    "p2.x = 3\n",
    "p2.y = 6\n",
    "\n",
    "print(p1.x, p1.y)\n",
    "print(p2.x, p2.y)"
   ]
  },
  {
   "cell_type": "markdown",
   "metadata": {},
   "source": [
    "# 메소드를 가진 클래스"
   ]
  },
  {
   "cell_type": "code",
   "execution_count": 33,
   "metadata": {},
   "outputs": [
    {
     "name": "stdout",
     "output_type": "stream",
     "text": [
      "5 4\n",
      "0 0\n"
     ]
    }
   ],
   "source": [
    "class Point:\n",
    "    def reset(self):\n",
    "        self.x = 0\n",
    "        self.y = 0\n",
    "\n",
    "p = Point()\n",
    "p2 = Point()\n",
    "p.x = 5\n",
    "p.y = 4\n",
    "print(p.x, p.y)\n",
    "p.reset()\n",
    "p2.reset()\n",
    "print(p.x, p.y)"
   ]
  },
  {
   "cell_type": "code",
   "execution_count": 35,
   "metadata": {},
   "outputs": [
    {
     "name": "stdout",
     "output_type": "stream",
     "text": [
      "0 0\n"
     ]
    }
   ],
   "source": [
    "# 정적으로 메소드 호출\n",
    "class Point:\n",
    "    def reset(self):\n",
    "        self.x = 0\n",
    "        self.y = 0\n",
    "\n",
    "p = Point()\n",
    "Point.reset(p)\n",
    "print(p.x, p.y)"
   ]
  },
  {
   "cell_type": "raw",
   "metadata": {},
   "source": [
    "적절한 파이썬 클래스\n",
    "    관습에 따라 클래스 이름은 대문자로 시작해야합니다\n",
    "    이 클래스는 또한이 클래스의 모든 인스턴스가 공유하는 일부 데이터 항목을 저장합니다\n",
    "    인스턴스는 클래스 내부에 제공된 정의를 따르는 객체입니다.\n",
    "    클래스 블록의 범위 내에 함수 정의 (def)를 포함시켜 클래스에서 메소드를 정의하십시오.\n",
    "    호출하는 인스턴스에 바인딩되는 모든 메소드 정의에는 특별한 첫 번째 인수 self가 있어야합니다.\n",
    "    대부분의 클래스에는 일반적으로 __init__이라는 특수 메소드가 있습니다.\n",
    "    __init__은 생성자입니다"
   ]
  },
  {
   "cell_type": "code",
   "execution_count": 37,
   "metadata": {},
   "outputs": [],
   "source": [
    "class Employee:\n",
    "    \"\"\" This is a doc string for Employee class\"\"\"\n",
    "    def __init__(self, first, last, pay):\n",
    "        # here self is the automatically invoked instance to the method\n",
    "        self.first = first\n",
    "        self.last = last\n",
    "        self.pay = pay\n",
    "        # email can be derived from the \"first\" and \"last\" name\n",
    "        self.email = self.first+\".\"+self.last+\"company.com\"\n",
    "\n",
    "    # a method that returns fullname. self is a must for any method\n",
    "    def fullname(self):\n",
    "        return \"{0} {1}\".format(self.first, self.last)"
   ]
  },
  {
   "cell_type": "raw",
   "metadata": {},
   "source": [
    "__init__은 기본 생성자입니다.\n",
    "__init__는 클래스의 생성자로 사용됩니다.\n",
    "일반적으로 일부 초기화 작업을 수행합니다\n",
    "__init__ 메소드는 여러 인수를 사용할 수 있습니다\n",
    "그러나 __init__의 정의에서 첫 번째 인수 self는 특별합니다."
   ]
  },
  {
   "cell_type": "code",
   "execution_count": 38,
   "metadata": {},
   "outputs": [],
   "source": [
    "# instances with data\n",
    "emp_1 = Employee(\"Sagar\", \"Giri\", 50000)\n",
    "emp_2 = Employee(\"Test\", \"User\", 60000)"
   ]
  },
  {
   "cell_type": "code",
   "execution_count": 39,
   "metadata": {},
   "outputs": [
    {
     "name": "stdout",
     "output_type": "stream",
     "text": [
      "{'first': 'Sagar', 'last': 'Giri', 'pay': 50000, 'email': 'Sagar.Giricompany.com'}\n",
      "['__class__', '__delattr__', '__dict__', '__dir__', '__doc__', '__eq__', '__format__', '__ge__', '__getattribute__', '__gt__', '__hash__', '__init__', '__init_subclass__', '__le__', '__lt__', '__module__', '__ne__', '__new__', '__reduce__', '__reduce_ex__', '__repr__', '__setattr__', '__sizeof__', '__str__', '__subclasshook__', '__weakref__', 'email', 'first', 'fullname', 'last', 'pay']\n",
      "Test.Usercompany.com\n"
     ]
    }
   ],
   "source": [
    "# print(emp_1.__dict__)\n",
    "# print(dir(emp_1))\n",
    "# print(emp_2.email)"
   ]
  },
  {
   "cell_type": "code",
   "execution_count": 40,
   "metadata": {},
   "outputs": [
    {
     "name": "stdout",
     "output_type": "stream",
     "text": [
      "Sagar Giri\n",
      "Test User\n"
     ]
    }
   ],
   "source": [
    "# While calling a methods, don't forget the parenthesis\n",
    "print(emp_1.fullname())\n",
    "print(emp_2.fullname())"
   ]
  },
  {
   "cell_type": "code",
   "execution_count": 42,
   "metadata": {},
   "outputs": [
    {
     "name": "stdout",
     "output_type": "stream",
     "text": [
      "Directly from class--->  Sagar Giri\n",
      "Directly from class--->  Test User\n"
     ]
    }
   ],
   "source": [
    "# calling method directly from class.\n",
    "# To do so, we need to pass the instance we created.\n",
    "# Remember the self we added in the method :)\n",
    "print(\"Directly from class---> \",Employee.fullname(emp_1))\n",
    "print(\"Directly from class---> \",Employee.fullname(emp_2))"
   ]
  },
  {
   "cell_type": "code",
   "execution_count": 168,
   "metadata": {},
   "outputs": [
    {
     "name": "stdout",
     "output_type": "stream",
     "text": [
      "Blu is a bird\n",
      "Woo is also a bird\n",
      "Blu is 10 years old\n",
      "Woo is 15 years old\n"
     ]
    }
   ],
   "source": [
    "class Parrot:\n",
    "\n",
    "    # class attribute\n",
    "    species = \"bird\"\n",
    "\n",
    "    # instance attribute\n",
    "    def __init__(self, name, age):\n",
    "        self.name = name\n",
    "        self.age = age\n",
    "\n",
    "\n",
    "blu = Parrot(\"Blu\", 10)\n",
    "woo = Parrot(\"Woo\", 15)\n",
    "\n",
    "print(\"Blu is a {}\".format(blu.species))\n",
    "print(\"Woo is also a {}\".format(woo.species))\n",
    "\n",
    "# access the instance attributes\n",
    "print(\"{} is {} years old\".format( blu.name, blu.age))\n",
    "print(\"{} is {} years old\".format( woo.name, woo.age))"
   ]
  },
  {
   "cell_type": "raw",
   "metadata": {},
   "source": [
    "클래스 변수는 클래스의 모든 인스턴스에서 공유되는 변수입니다.\n",
    "그러나 인스턴스 변수는 각 인스턴스마다 고유 할 수 있습니다."
   ]
  },
  {
   "cell_type": "code",
   "execution_count": 43,
   "metadata": {},
   "outputs": [
    {
     "name": "stdout",
     "output_type": "stream",
     "text": [
      "50000\n",
      "Sagar Giri\n"
     ]
    }
   ],
   "source": [
    "class Employee:\n",
    "\n",
    "    def __init__(self, first, last, pay):\n",
    "        self.first = first #these are instance variables\n",
    "        self.last = last\n",
    "        self.pay = pay\n",
    "        self.email = self.first + \".\" + self.last + \"@deerwalk.com\"\n",
    "    \n",
    "    def fullname(self):\n",
    "        return \"{} {}\".format(self.first, self.last)\n",
    "\n",
    "emp1 = Employee(\"Sagar\", \"Giri\", 50000)\n",
    "print(emp1.pay)\n",
    "print(emp1.fullname())"
   ]
  },
  {
   "cell_type": "code",
   "execution_count": null,
   "metadata": {},
   "outputs": [],
   "source": [
    "클래스 변수를 정의하려면 모든 인스턴스에서 어떤 종류의 데이터가 공유되는지 알아야합니다.\n",
    "예를 들어 deerwalk가 각 직원에 대해 연간 인상을 제공한다고 가정 해 봅시다.\n",
    "이 인상은 클래스 변수로 간주 될 수 있습니다"
   ]
  },
  {
   "cell_type": "code",
   "execution_count": 44,
   "metadata": {},
   "outputs": [
    {
     "name": "stdout",
     "output_type": "stream",
     "text": [
      "50000\n",
      "52000\n"
     ]
    }
   ],
   "source": [
    "# But, first lets set a hardcoded raise percentage\n",
    "class Employee:\n",
    "\n",
    "    def __init__(self, first, last, pay):\n",
    "        self.first = first #these are instance variables\n",
    "        self.last = last\n",
    "        self.pay = pay\n",
    "        self.email = self.first + \".\" + self.last + \"@deerwalk.com\"\n",
    "    \n",
    "    def fullname(self):\n",
    "        return \"{} {}\".format(self.first, self.last)\n",
    "    \n",
    "    def raise_salary(self):\n",
    "        self.pay = int(self.pay * 1.04)\n",
    "\n",
    "emp1 = Employee(\"Sagar\", \"Giri\", 50000)\n",
    "print(emp1.pay)\n",
    "emp1.raise_salary()\n",
    "print(emp1.pay)"
   ]
  },
  {
   "cell_type": "code",
   "execution_count": 46,
   "metadata": {},
   "outputs": [],
   "source": [
    "class Employee:\n",
    "    rasie_amount = 1.04 #메소드변수 지정\n",
    "    \n",
    "    def __init__(self, first, last, pay):\n",
    "        self.first = first #these are instance variables\n",
    "        self.last = last\n",
    "        self.pay = pay\n",
    "        self.email = self.first + \".\" + self.last + \"@deerwalk.com\"\n",
    "    \n",
    "    def fullname(self):\n",
    "        return \"{} {}\".format(self.first, self.last)\n",
    "    \n",
    "    def raise_salary(self):\n",
    "        self.pay = int(self.pay * Employee.rasie_amount)\n",
    "        #self.pay = int(self.pay * self.rasie_amount)"
   ]
  },
  {
   "cell_type": "code",
   "execution_count": 48,
   "metadata": {},
   "outputs": [
    {
     "name": "stdout",
     "output_type": "stream",
     "text": [
      "50000\n",
      "52000\n"
     ]
    }
   ],
   "source": [
    "emp1 = Employee(\"Sagar\", \"Giri\", 50000)\n",
    "print(emp1.pay)\n",
    "emp1.raise_salary()\n",
    "print(emp1.pay)"
   ]
  },
  {
   "cell_type": "code",
   "execution_count": 49,
   "metadata": {},
   "outputs": [
    {
     "name": "stdout",
     "output_type": "stream",
     "text": [
      "1.04\n",
      "1.04\n",
      "1.04\n"
     ]
    }
   ],
   "source": [
    "emp1 = Employee(\"Sagar\", \"Giri\", 50000)\n",
    "emp2 = Employee(\"Hari\", \"Bahadur\", 40000)\n",
    "print(Employee.rasie_amount)\n",
    "print(emp1.rasie_amount)\n",
    "print(emp2.rasie_amount)"
   ]
  },
  {
   "cell_type": "code",
   "execution_count": 50,
   "metadata": {},
   "outputs": [
    {
     "name": "stdout",
     "output_type": "stream",
     "text": [
      "{'__module__': '__main__', 'rasie_amount': 1.04, '__init__': <function Employee.__init__ at 0x0000026657CDBA60>, 'fullname': <function Employee.fullname at 0x0000026657CDBF28>, 'raise_salary': <function Employee.raise_salary at 0x0000026657CF6048>, '__dict__': <attribute '__dict__' of 'Employee' objects>, '__weakref__': <attribute '__weakref__' of 'Employee' objects>, '__doc__': None}\n"
     ]
    }
   ],
   "source": [
    "print(Employee.__dict__)"
   ]
  },
  {
   "cell_type": "code",
   "execution_count": 51,
   "metadata": {},
   "outputs": [],
   "source": [
    "class Employee(object):\n",
    "    num_of_employee = 0\n",
    "    \n",
    "    def __init__(self):\n",
    "        Employee.num_of_employee += 1"
   ]
  },
  {
   "cell_type": "markdown",
   "metadata": {},
   "source": [
    "# Class Methods"
   ]
  },
  {
   "cell_type": "raw",
   "metadata": {},
   "source": [
    "데코레이터 @classmethod를 사용하여 클래스 메소드 선언\n",
    "cls를 첫 번째 필수 인수로 전달"
   ]
  },
  {
   "cell_type": "code",
   "execution_count": 1,
   "metadata": {},
   "outputs": [],
   "source": [
    "\n",
    "class Account:\n",
    "    interest = 0.15\n",
    "    def __init__(self, name, accNo, balance=0.0):\n",
    "        self.name = name\n",
    "        self.accNo = accNo\n",
    "        self.balance = balance\n",
    "\n",
    "    def withdraw(self, amount):\n",
    "        if self.balance > amount:\n",
    "            self.balance -= amount\n",
    "            return self.balance\n",
    "        else:\n",
    "            return False\n",
    "\n",
    "    def deposit(self, amount):\n",
    "        self.balance += amount\n",
    "        return self.balance\n",
    "\n",
    "    def getInterestRate(self):\n",
    "        return self.interest\n",
    "\n",
    "    @classmethod\n",
    "    def initializeFromString(cls, inp): #This is class method\n",
    "        name, accNo = inp.split(\"-\")\n",
    "        return cls(name, accNo)"
   ]
  },
  {
   "cell_type": "code",
   "execution_count": 2,
   "metadata": {},
   "outputs": [
    {
     "name": "stdout",
     "output_type": "stream",
     "text": [
      "0.15\n",
      "0.2\n"
     ]
    }
   ],
   "source": [
    "\n",
    "a1 = Account(\"Sagar\", 525252)\n",
    "a2 = Account.initializeFromString(\"Sagar-1234\")\n",
    "a2.interest = 0.20\n",
    "print(a1.getInterestRate())\n",
    "print(a2.getInterestRate())"
   ]
  },
  {
   "cell_type": "markdown",
   "metadata": {},
   "source": [
    "# 데코레이터"
   ]
  },
  {
   "cell_type": "raw",
   "metadata": {},
   "source": [
    "\n",
    "데코레이터 – 다른 기능의 동작을 수정하는 데 사용되는 기능.\n",
    "클래스 정의에 자주 사용되는 내장 데코레이터가 있습니다.\n",
    "@classmethod\n",
    "@staticmethod\n",
    "@property"
   ]
  },
  {
   "cell_type": "raw",
   "metadata": {},
   "source": [
    "@classmethod\n",
    "클래스 메소드에는 여전히 호출 객체가 첫 번째 매개 변수로 있지만 규칙에 따라이 매개 변수의 이름을 self에서 cls로 바꿉니다.\n",
    "인스턴스에서 클래스 메소드를 호출하면이 매개 변수에 인스턴스 객체가 포함됩니다.\n",
    "클래스에서 호출하면 클래스 객체가 포함됩니다."
   ]
  },
  {
   "cell_type": "raw",
   "metadata": {},
   "source": [
    "좋은 Class 방법은 무엇입니까?\n",
    "클래스와 관련된 작업 만있는 경우\n",
    "인스턴스를 통해 이러한 작업을 사용해야한다면 아무 이유없이 인스턴스를 만들어야하므로 낭비가됩니다.\n",
    "입력을 처리 한 후 클래스의 인스턴스를 작성하는 클래스 메소드를 작성하여 클래스 생성자에 전달할 올바른 형식으로 작성하는 것이 유용한 경우도 있습니다."
   ]
  },
  {
   "cell_type": "code",
   "execution_count": 3,
   "metadata": {},
   "outputs": [],
   "source": [
    "\n",
    "class Account:\n",
    "    \n",
    "    interest = 0.15 #class variable\n",
    "    \n",
    "    def __init__(self, name, accNo, balance=0.0):\n",
    "        self.name = name\n",
    "        self.accNo = accNo\n",
    "        self.balance = balance\n",
    "\n",
    "    def withdraw(self, amount):\n",
    "        if self.balance > amount:\n",
    "            self.balance -= amount\n",
    "            return self.balance\n",
    "        else:\n",
    "            return False\n",
    "\n",
    "    def deposit(self, amount):\n",
    "        self.balance += amount\n",
    "        return self.balance\n",
    "\n",
    "    @classmethod\n",
    "    def initializeFromString(cls, inp): #This is class method\n",
    "        name, accNo = inp.split(\"-\")\n",
    "        return cls(name, accNo)"
   ]
  },
  {
   "cell_type": "code",
   "execution_count": 4,
   "metadata": {},
   "outputs": [
    {
     "data": {
      "text/plain": [
       "{'name': 'Sagar', 'accNo': '1234', 'balance': 0.0}"
      ]
     },
     "execution_count": 4,
     "metadata": {},
     "output_type": "execute_result"
    }
   ],
   "source": [
    "a1 = Account.initializeFromString(\"Sagar-1234\")\n",
    "a1.__dict__"
   ]
  },
  {
   "cell_type": "raw",
   "metadata": {},
   "source": [
    "@staticmethods\n",
    "@staticmethods 데코레이터는 정적 메소드를 정의하는 데 사용됩니다\n",
    "정적 메소드를 정의하는 동안 cls (Class) 또는 self (instance)를 첫 번째 매개 변수로 전달하지 않습니다.\n",
    "나머지 클래스 나 인스턴스에는 전혀 액세스 할 수 없습니다.\n",
    "정적 메서드는 클래스 메서드와 같은 클래스 개체에서 가장 일반적으로 호출됩니다.\n",
    "그러나 인스턴스에서 정적 메소드를 호출 할 수도 있습니다."
   ]
  },
  {
   "cell_type": "raw",
   "metadata": {},
   "source": [
    "언제 사용합니까?\n",
    "클래스를 사용하여 서로 또는 클래스의 다른 데이터에 액세스 할 필요가없는 관련 메소드를 그룹화하는 경우.\n",
    "정적 메소드를 사용하여 메소드 정의에서 불필요한 cls 또는 자체 매개 변수를 제거합니다."
   ]
  },
  {
   "cell_type": "code",
   "execution_count": 5,
   "metadata": {},
   "outputs": [],
   "source": [
    "\n",
    "class Account:\n",
    "    TYPE = ('Savings', \n",
    "            'Basic Checking', \n",
    "            'Interest-Bearing Checking', \n",
    "            'Money Market Deposit')\n",
    "\n",
    "    @classmethod\n",
    "    def allowed_titles_starting_with(cls, startswith): # class method\n",
    "        # class or instance object accessible through cls\n",
    "        return [t for t in cls.TYPE if t.startswith(startswith)]\n",
    "\n",
    "    @staticmethod\n",
    "    def allowed_titles_ending_with(endswith): # static method\n",
    "        # no parameter for class or instance object\n",
    "        # we have to use Account directly\n",
    "        return [t for t in Account.TYPE if t.endswith(endswith)]"
   ]
  },
  {
   "cell_type": "code",
   "execution_count": 6,
   "metadata": {},
   "outputs": [
    {
     "name": "stdout",
     "output_type": "stream",
     "text": [
      "['Money Market Deposit']\n",
      "['Money Market Deposit']\n",
      "['Savings']\n",
      "['Savings']\n"
     ]
    }
   ],
   "source": [
    "\n",
    "a = Account()\n",
    "\n",
    "print(a.allowed_titles_starting_with(\"M\"))\n",
    "print(Account.allowed_titles_starting_with(\"M\"))\n",
    "\n",
    "print(a.allowed_titles_ending_with(\"s\"))\n",
    "\n",
    "print(Account.allowed_titles_ending_with(\"s\"))"
   ]
  },
  {
   "cell_type": "code",
   "execution_count": 7,
   "metadata": {},
   "outputs": [
    {
     "name": "stdout",
     "output_type": "stream",
     "text": [
      "Is 2018-07-27 workday ? -> True\n"
     ]
    }
   ],
   "source": [
    "import datetime\n",
    "class DateTimeWrapper():\n",
    "    \n",
    "    @staticmethod\n",
    "    def is_workday(day):\n",
    "        if day.weekday() == 5 or day.weekday() == 6:\n",
    "            return False\n",
    "        return True\n",
    "\n",
    "my_date = datetime.date(2018, 7, 27)\n",
    "is_workDay = DateTimeWrapper.is_workday(my_date)\n",
    "print(\"Is {} workday ? -> {}\".format(my_date, is_workDay))"
   ]
  },
  {
   "cell_type": "raw",
   "metadata": {},
   "source": [
    "@property\n",
    "@property decorator를 사용하면 속성처럼 접근 할 수있는 메소드를 정의 할 수 있습니다\n",
    "@property 데코레이터는 getter 및 setter 메소드를 구현하는 데 도움이됩니다.\n",
    "메소드를 사용하여 객체의 속성을 동적으로 생성"
   ]
  },
  {
   "cell_type": "code",
   "execution_count": 11,
   "metadata": {},
   "outputs": [],
   "source": [
    "class Person:\n",
    "    def __init__(self, height):\n",
    "        self.height = height\n",
    "\n",
    "    def get_height(self):\n",
    "        return self.height\n",
    "\n",
    "    def set_height(self, height):\n",
    "        self.height = height\n",
    "\n",
    "height=153\n",
    "p = Person(height) # Jane is 153cm tall\n",
    "\n",
    "p.height += 1 # Jane grows by a centimetre\n",
    "p.set_height(height + 1) # Jane grows again"
   ]
  },
  {
   "cell_type": "code",
   "execution_count": 12,
   "metadata": {},
   "outputs": [
    {
     "name": "stdout",
     "output_type": "stream",
     "text": [
      "Sagar\n",
      "Sagar.Giri@company.com\n",
      "john\n",
      "john.Giri@company.com\n"
     ]
    }
   ],
   "source": [
    "class Employee:\n",
    "\n",
    "    def __init__(self, first, last):\n",
    "        self.first = first\n",
    "        self.last = last\n",
    "    \n",
    "    def email(self):\n",
    "        return self.first+\".\"+self.last+\"@company.com\"\n",
    "\n",
    "    def fullname(self):\n",
    "        return \"{} {}\".format(self.first, self.last)\n",
    "\n",
    "emp1 = Employee(\"Sagar\", \"Giri\")\n",
    "print(emp1.first)\n",
    "print(emp1.email()) #problem - Everyone who is using this Class need to do this\n",
    "emp1.first= \"john\"\n",
    "print(emp1.first)\n",
    "print(emp1.email())"
   ]
  },
  {
   "cell_type": "markdown",
   "metadata": {},
   "source": [
    "# @property decorator 사용하기"
   ]
  },
  {
   "cell_type": "code",
   "execution_count": 13,
   "metadata": {},
   "outputs": [
    {
     "name": "stdout",
     "output_type": "stream",
     "text": [
      "Sagar\n",
      "Sagar.Giri@company.com\n",
      "john\n",
      "john.Giri@company.com\n",
      "<bound method Employee.fullname of <__main__.Employee object at 0x000002612893AAC8>>\n"
     ]
    },
    {
     "ename": "AttributeError",
     "evalue": "can't set attribute",
     "output_type": "error",
     "traceback": [
      "\u001b[1;31m---------------------------------------------------------------------------\u001b[0m",
      "\u001b[1;31mAttributeError\u001b[0m                            Traceback (most recent call last)",
      "\u001b[1;32m<ipython-input-13-e0f5cc8ab09c>\u001b[0m in \u001b[0;36m<module>\u001b[1;34m\u001b[0m\n\u001b[0;32m     23\u001b[0m \u001b[1;33m\u001b[0m\u001b[0m\n\u001b[0;32m     24\u001b[0m \u001b[1;31m#BUT, DOWNSIDE IS WE CANNOT CHANGE EMAIL\u001b[0m\u001b[1;33m\u001b[0m\u001b[1;33m\u001b[0m\u001b[1;33m\u001b[0m\u001b[0m\n\u001b[1;32m---> 25\u001b[1;33m \u001b[0memp1\u001b[0m\u001b[1;33m.\u001b[0m\u001b[0memail\u001b[0m \u001b[1;33m=\u001b[0m \u001b[1;34m\"sgiri@deerwalk.com\"\u001b[0m \u001b[1;31m# TO OVERCOME THIS, WE USE GETTER AND SETTER\u001b[0m\u001b[1;33m\u001b[0m\u001b[1;33m\u001b[0m\u001b[0m\n\u001b[0m",
      "\u001b[1;31mAttributeError\u001b[0m: can't set attribute"
     ]
    }
   ],
   "source": [
    "class Employee:\n",
    "\n",
    "    def __init__(self, first, last):\n",
    "        self.first = first\n",
    "        self.last = last\n",
    "    \n",
    "    @property\n",
    "    def email(self):\n",
    "        return self.first+\".\"+self.last+\"@company.com\"\n",
    "\n",
    "    def fullname(self):\n",
    "        return \"{} {}\".format(self.first, self.last)\n",
    "    \n",
    "emp1 = Employee(\"Sagar\", \"Giri\")\n",
    "print(emp1.first)\n",
    "print(emp1.email) #problem - Everyone who is using this Class need to do this\n",
    "emp1.first= \"john\"\n",
    "print(emp1.first)\n",
    "print(emp1.email)\n",
    "\n",
    "print(emp1.fullname)\n",
    "\n",
    "\n",
    "#그러나 아래쪽은 이메일을 변경할 수 없습니다\n",
    "emp1.email = \"sgiri@deerwalk.com\" # 이를 극복하기 위해 GETTER AND SETTER를 사용해야합니다"
   ]
  },
  {
   "cell_type": "raw",
   "metadata": {},
   "source": [
    "@property 데코레이터를 getter 및 setter로 사용\n",
    "    getter 및 setter는 속성에 직접 액세스하는 대신 속성 값을 업데이트하는 방법입니다.\n",
    "    그것들은 각각 속성 값을 \"get\"및 \"set\"하기 때문에 getter 및 setter라고합니다.\n",
    "    이를 위해 @ property.setter의 이름을 사용합니다.\n",
    "    전체 이름을 설정하려면 @ fullname.setter를 사용하십시오.\n",
    "    이 설정자 아래에서 같은 이름으로 메소드를 정의하십시오."
   ]
  },
  {
   "cell_type": "code",
   "execution_count": 14,
   "metadata": {},
   "outputs": [
    {
     "name": "stdout",
     "output_type": "stream",
     "text": [
      "Sagar Giri\n",
      "Sagar.Giri@company.com\n",
      "---------After setter----------\n",
      "Hari Bahadur\n",
      "Hari.Bahadur@company.com\n"
     ]
    }
   ],
   "source": [
    "class Employee:\n",
    "\n",
    "    def __init__(self, first, last):\n",
    "        self.first = first\n",
    "        self.last = last\n",
    "    \n",
    "    @property\n",
    "    def email(self):\n",
    "        return self.first+\".\"+self.last+\"@company.com\"\n",
    "    \n",
    "    @property\n",
    "    def fullname(self):\n",
    "        return \"{} {}\".format(self.first, self.last)\n",
    "    \n",
    "    @fullname.setter # this is setter\n",
    "    def fullname(self, name):\n",
    "        first, last = name.split(\" \")\n",
    "        self.first = first\n",
    "        self.last = last\n",
    "\n",
    "emp1 = Employee(\"Sagar\", \"Giri\")\n",
    "print(emp1.fullname)\n",
    "print(emp1.email)\n",
    "\n",
    "print(\"---------After setter----------\")\n",
    "emp1.fullname = \"Hari Bahadur\"\n",
    "print(emp1.fullname)\n",
    "print(emp1.email)"
   ]
  },
  {
   "cell_type": "code",
   "execution_count": 15,
   "metadata": {},
   "outputs": [
    {
     "name": "stdout",
     "output_type": "stream",
     "text": [
      "Sagar Giri\n",
      "Sagar.Giri@company.com\n",
      "---------After setter----------\n",
      "Hari Bahadur\n",
      "Hari.Bahadur@company.com\n",
      "{'first': 'Hari', 'last': 'Bahadur'}\n",
      "---------After Deleter----------\n",
      "Delete fullname\n",
      "{}\n"
     ]
    }
   ],
   "source": [
    "class Employee:\n",
    "\n",
    "    def __init__(self, first, last):\n",
    "        self.first = first\n",
    "        self.last = last\n",
    "    \n",
    "    @property\n",
    "    def email(self):\n",
    "        return self.first+\".\"+self.last+\"@company.com\"\n",
    "    \n",
    "    @property\n",
    "    def fullname(self):\n",
    "        return \"{} {}\".format(self.first, self.last)\n",
    "    \n",
    "    @fullname.setter # this is setter\n",
    "    def fullname(self, name):\n",
    "        first, last = name.split(\" \")\n",
    "        self.first = first\n",
    "        self.last = last\n",
    "    \n",
    "    @fullname.deleter # this is setter\n",
    "    def fullname(self):\n",
    "        print(\"Delete fullname\")\n",
    "        del self.first\n",
    "        del self.last\n",
    "\n",
    "emp1 = Employee(\"Sagar\", \"Giri\")\n",
    "print(emp1.fullname)\n",
    "print(emp1.email)\n",
    "\n",
    "print(\"---------After setter----------\")\n",
    "emp1.fullname = \"Hari Bahadur\"\n",
    "print(emp1.fullname)\n",
    "print(emp1.email)\n",
    "print(emp1.__dict__)\n",
    "\n",
    "print(\"---------After Deleter----------\")\n",
    "del emp1.fullname\n",
    "print(emp1.__dict__)"
   ]
  },
  {
   "cell_type": "markdown",
   "metadata": {},
   "source": [
    "# Object Inspectation"
   ]
  },
  {
   "cell_type": "raw",
   "metadata": {},
   "source": [
    "dir 함수를 사용하여 객체에 어떤 속성이 정의되어 있는지 확인할 수 있습니다\n",
    "dir (객체)"
   ]
  },
  {
   "cell_type": "code",
   "execution_count": 16,
   "metadata": {},
   "outputs": [
    {
     "name": "stdout",
     "output_type": "stream",
     "text": [
      "True\n",
      "False\n",
      "True\n",
      "True\n"
     ]
    }
   ],
   "source": [
    "class Person:\n",
    "    pass\n",
    "p = Person()\n",
    "print(isinstance(1, int))\n",
    "print(isinstance(1, float))\n",
    "print(isinstance(\"a\", str))\n",
    "print(isinstance(p, Person))"
   ]
  },
  {
   "cell_type": "code",
   "execution_count": 17,
   "metadata": {},
   "outputs": [
    {
     "name": "stdout",
     "output_type": "stream",
     "text": [
      "['__class__', '__delattr__', '__dict__', '__dir__', '__doc__', '__eq__', '__format__', '__ge__', '__getattribute__', '__gt__', '__hash__', '__init__', '__init_subclass__', '__le__', '__lt__', '__module__', '__ne__', '__new__', '__reduce__', '__reduce_ex__', '__repr__', '__setattr__', '__sizeof__', '__str__', '__subclasshook__', '__weakref__', 'first', 'fullname', 'last']\n"
     ]
    }
   ],
   "source": [
    "\n",
    "class SuperHero:\n",
    "    def __init__(self, first, last):\n",
    "        self.first = first\n",
    "        self.last = last\n",
    "\n",
    "    def fullname(self):\n",
    "        return \"{} {}\".format(self.first, self.last)\n",
    "\n",
    "ironMan = SuperHero(\"Tony\", \"Stark\")\n",
    "print(dir(ironMan))"
   ]
  },
  {
   "cell_type": "raw",
   "metadata": {},
   "source": [
    "이것들은 기본 물체에서 암시됩니다.\n",
    "\n",
    "    고유 한 __init__ 메소드를 작성하면 기본 메소드를 대체합니다. 때때로 우리는 이것을 오버로딩이라고 부릅니다.\n",
    "    이러한 속성은 대개 메서드이며 마법 메서드라고도합니다.\n",
    "    그리고 우리는이 마술을 과부하 할 수 있습니다\n",
    "    __init__ : 객체의 초기화 방법으로, 객체가 생성 될 때 호출됩니다.\n",
    "    __str__ : 객체의 문자열 표현 방법으로, str 함수를 사용하여 해당 객체를 문자열로 변환 할 때 호출됩니다.\n",
    "    __class__ : 객체의 클래스 (또는 유형)를 저장하는 속성 – 객체에서 type 함수를 사용할 때 반환되는 속성입니다.\n",
    "    __eq__ :이 객체가 다른 객체와 같은지 여부를 결정하는 방법. 동일하지 않은지 아닌지를 결정하는 다른 방법도 있습니다. 이러한 방법은 개체 비교에 사용됩니다 (예 : 등호 연산자 ==를 사용하여 두 개체가 같은지 확인하는 경우).\n",
    "    __add__는이 객체를 다른 객체에 추가 할 수있는 방법입니다. 다른 모든 산술 연산자에는 동등한 방법이 있습니다. 모든 객체가 모든 대수 연산을 지원하는 것은 아닙니다. 숫자에는 이러한 모든 메소드가 정의되어 있지만 다른 객체에는 하위 집합 만있을 수 있습니다.\n",
    "    __iter__ : 객체에 대해 반복자를 반환하는 메소드 – 문자열, 목록 및 기타 이터 러블에서 찾을 수 있습니다. 객체에서 iter 함수를 사용할 때 실행됩니다.\n",
    "    __len__ : 객체의 길이를 계산하는 방법 – 시퀀스에서 찾을 수 있습니다. 객체의 len 함수를 사용할 때 실행됩니다.\n",
    "    __dict__ : 이름이 키인 객체의 모든 인스턴스 속성이 포함 된 사전입니다. 객체의 모든 속성을 반복하려는 경우 유용 할 수 있습니다. __dict__에는 메소드, 클래스 속성 또는 __class__와 같은 특수 기본 속성이 포함되지 않습니다."
   ]
  },
  {
   "cell_type": "code",
   "execution_count": 18,
   "metadata": {},
   "outputs": [],
   "source": [
    "class Person:\n",
    "        def __init__(self, name):\n",
    "            self.name = name\n",
    "\n",
    "        def get_name(self):\n",
    "            return self.name"
   ]
  },
  {
   "cell_type": "raw",
   "metadata": {},
   "source": [
    "Person 클래스의 인스턴스를 작성하십시오.\n",
    "인스턴스에서 dir 함수를 사용하십시오.\n",
    "그런 다음 클래스에서 dir 함수를 사용하십시오.\n",
    "인스턴스에서 __str__ 메소드를 호출하면 어떻게됩니까?\n",
    "인스턴스 유형은 무엇입니까?\n",
    "수업의 종류는 무엇입니까?\n",
    "모든 속성의 이름과 값을 출력하는 함수 작성"
   ]
  },
  {
   "cell_type": "code",
   "execution_count": 19,
   "metadata": {},
   "outputs": [],
   "source": [
    "\n",
    "class Person:\n",
    "        def __init__(self, name):\n",
    "            self.name = name\n",
    "\n",
    "        def get_name(self):\n",
    "            return self.name\n",
    "\n",
    "# p = Person(\"Sagar\")\n",
    "# print(\"Instance: \", dir(p))\n",
    "# print(\"Class: \", dir(Person))\n",
    "# print(\"p.str: \", p.__str__())\n",
    "# print(type(p))\n",
    "# print(type(Person))\n",
    "\n",
    "\n",
    "# def print_object_attrs(any_object):\n",
    "#     for k, v in any_object.__dict__.items():\n",
    "#         print(\"{}: {}\".format(k, v))\n",
    "# print_object_attrs(p)"
   ]
  },
  {
   "cell_type": "markdown",
   "metadata": {},
   "source": [
    "# getattr, setattr and hasattr"
   ]
  },
  {
   "cell_type": "code",
   "execution_count": null,
   "metadata": {},
   "outputs": [],
   "source": [
    "class MyClass:\n",
    "    def __init__(self, var):\n",
    "        self.var = var\n",
    "c = MyClass(\"123\")\n",
    "print(c.__dict__)\n",
    "getattr(c, \"var\")\n",
    "\n",
    "setattr(c, \"var\", 456)\n",
    "print(c.__dict__)\n",
    "\n",
    "hasattr(c, \"var\")\n",
    "hasattr(c, \"arggg\")"
   ]
  },
  {
   "cell_type": "markdown",
   "metadata": {},
   "source": [
    "# Overriding magic methods"
   ]
  },
  {
   "cell_type": "raw",
   "metadata": {},
   "source": [
    "매직 메소드는 객체가 생성 될 때마다 암시 적으로 호출됩니다"
   ]
  },
  {
   "cell_type": "code",
   "execution_count": 21,
   "metadata": {},
   "outputs": [
    {
     "name": "stdout",
     "output_type": "stream",
     "text": [
      "4\n",
      "ab\n",
      "[1, 2, 3, 4, 5, 6]\n"
     ]
    }
   ],
   "source": [
    "\n",
    "# + behaves differently\n",
    "print(1 + 3)\n",
    "print(\"a\" + \"b\")\n",
    "print([1, 2, 3] + [4, 5, 6])"
   ]
  },
  {
   "cell_type": "code",
   "execution_count": 22,
   "metadata": {},
   "outputs": [
    {
     "name": "stdout",
     "output_type": "stream",
     "text": [
      "['__class__', '__delattr__', '__dict__', '__dir__', '__doc__', '__eq__', '__format__', '__ge__', '__getattribute__', '__gt__', '__hash__', '__init__', '__init_subclass__', '__le__', '__lt__', '__module__', '__ne__', '__new__', '__reduce__', '__reduce_ex__', '__repr__', '__setattr__', '__sizeof__', '__str__', '__subclasshook__', '__weakref__', 'fname', 'fullname', 'lname']\n",
      "Bruce Wayne\n"
     ]
    }
   ],
   "source": [
    "class Person(object):\n",
    "    def __init__(self, fname, lname):\n",
    "        self.fname = fname\n",
    "        self.lname = lname\n",
    "    \n",
    "    @property\n",
    "    def fullname(self):\n",
    "        return \"{} {}\".format(self.fname, self.lname)\n",
    "\n",
    "p = Person(\"Bruce\", \"Wayne\")\n",
    "print(dir(p))\n",
    "print(p.fullname)\n",
    "\n",
    "# print(p)\n",
    "# print(p.__str__())"
   ]
  },
  {
   "cell_type": "code",
   "execution_count": 23,
   "metadata": {},
   "outputs": [
    {
     "name": "stdout",
     "output_type": "stream",
     "text": [
      "Peter Parker\n",
      "Employee ('Peter', 'Parker')\n",
      "Peter Parker\n",
      "Employee ('Peter', 'Parker')\n",
      "Peter Parker\n"
     ]
    }
   ],
   "source": [
    "\n",
    "class Person(object):\n",
    "    def __init__(self, fname, lname):\n",
    "        self.fname = fname\n",
    "        self.lname = lname\n",
    "    \n",
    "    @property\n",
    "    def fullname(self):\n",
    "        return \"{} {}\".format(self.fname, self.lname)\n",
    "\n",
    "    def __repr__(self): # used for debugging, logging\n",
    "        return \"Employee ('{}', '{}')\".format(self.fname, self.lname)\n",
    "    \n",
    "    def __str__(self): # user for string representation to end user\n",
    "        return \"{}\".format(self.fullname)\n",
    "    \n",
    "p = Person(\"Peter\", \"Parker\")\n",
    "print(p)\n",
    "\n",
    "print(repr(p))\n",
    "print(str(p))\n",
    "\n",
    "print(p.__repr__())\n",
    "print(p.__str__())"
   ]
  },
  {
   "cell_type": "code",
   "execution_count": 24,
   "metadata": {},
   "outputs": [
    {
     "name": "stdout",
     "output_type": "stream",
     "text": [
      "['__abs__', '__add__', '__and__', '__bool__', '__ceil__', '__class__', '__delattr__', '__dir__', '__divmod__', '__doc__', '__eq__', '__float__', '__floor__', '__floordiv__', '__format__', '__ge__', '__getattribute__', '__getnewargs__', '__gt__', '__hash__', '__index__', '__init__', '__init_subclass__', '__int__', '__invert__', '__le__', '__lshift__', '__lt__', '__mod__', '__mul__', '__ne__', '__neg__', '__new__', '__or__', '__pos__', '__pow__', '__radd__', '__rand__', '__rdivmod__', '__reduce__', '__reduce_ex__', '__repr__', '__rfloordiv__', '__rlshift__', '__rmod__', '__rmul__', '__ror__', '__round__', '__rpow__', '__rrshift__', '__rshift__', '__rsub__', '__rtruediv__', '__rxor__', '__setattr__', '__sizeof__', '__str__', '__sub__', '__subclasshook__', '__truediv__', '__trunc__', '__xor__', 'bit_length', 'conjugate', 'denominator', 'from_bytes', 'imag', 'numerator', 'real', 'to_bytes']\n"
     ]
    }
   ],
   "source": [
    "print(dir(1))"
   ]
  },
  {
   "cell_type": "code",
   "execution_count": 25,
   "metadata": {},
   "outputs": [
    {
     "name": "stdout",
     "output_type": "stream",
     "text": [
      "['__add__', '__class__', '__contains__', '__delattr__', '__dir__', '__doc__', '__eq__', '__format__', '__ge__', '__getattribute__', '__getitem__', '__getnewargs__', '__gt__', '__hash__', '__init__', '__init_subclass__', '__iter__', '__le__', '__len__', '__lt__', '__mod__', '__mul__', '__ne__', '__new__', '__reduce__', '__reduce_ex__', '__repr__', '__rmod__', '__rmul__', '__setattr__', '__sizeof__', '__str__', '__subclasshook__', 'capitalize', 'casefold', 'center', 'count', 'encode', 'endswith', 'expandtabs', 'find', 'format', 'format_map', 'index', 'isalnum', 'isalpha', 'isascii', 'isdecimal', 'isdigit', 'isidentifier', 'islower', 'isnumeric', 'isprintable', 'isspace', 'istitle', 'isupper', 'join', 'ljust', 'lower', 'lstrip', 'maketrans', 'partition', 'replace', 'rfind', 'rindex', 'rjust', 'rpartition', 'rsplit', 'rstrip', 'split', 'splitlines', 'startswith', 'strip', 'swapcase', 'title', 'translate', 'upper', 'zfill']\n"
     ]
    }
   ],
   "source": [
    "print(dir(\"a\"))"
   ]
  },
  {
   "cell_type": "code",
   "execution_count": 26,
   "metadata": {},
   "outputs": [
    {
     "name": "stdout",
     "output_type": "stream",
     "text": [
      "3\n",
      "Hello world\n"
     ]
    }
   ],
   "source": [
    "print(int.__add__(1, 2))\n",
    "print(str.__add__(\"Hello \",\"world\"))"
   ]
  },
  {
   "cell_type": "code",
   "execution_count": 27,
   "metadata": {},
   "outputs": [
    {
     "name": "stdout",
     "output_type": "stream",
     "text": [
      "375\n"
     ]
    }
   ],
   "source": [
    "\n",
    "class SuperHero:\n",
    "    def __init__(self, name, worth):\n",
    "        self.name = name\n",
    "        self.worth = worth\n",
    "    \n",
    "    def __add__(self, other):\n",
    "        return self.worth + other.worth\n",
    "\n",
    "ironMan = SuperHero(\"Tony Stark\", 175)\n",
    "batMan = SuperHero(\"Bruce Wayne\", 200)\n",
    "\n",
    "total = ironMan.__add__(batMan)\n",
    "print(total)"
   ]
  },
  {
   "cell_type": "markdown",
   "metadata": {},
   "source": [
    "# Basic OOP principles"
   ]
  },
  {
   "cell_type": "markdown",
   "metadata": {},
   "source": [
    "# Encapsulation\n"
   ]
  },
  {
   "cell_type": "raw",
   "metadata": {},
   "source": [
    "객체 지향의 가장 중요한 원칙은 캡슐화입니다.\n",
    "\n",
    "    객체 내부의 데이터는 객체의 메소드를 통해서만 액세스해야한다는 생각입니다."
   ]
  },
  {
   "cell_type": "code",
   "execution_count": 28,
   "metadata": {},
   "outputs": [],
   "source": [
    "class Person:\n",
    "    def __init__(self, fname, lname):\n",
    "        self.fname = fname\n",
    "        self.lname = lname\n",
    "\n",
    "    def email(self):\n",
    "        return \"{}.{}@email.com\".format(self.fname, self.lname)"
   ]
  },
  {
   "cell_type": "raw",
   "metadata": {},
   "source": [
    "전자 메일 방법은 캡슐화 철학의 좋은 예입니다.\n",
    "액션에서 새로운 값을 도출하고자 할 때마다 객체의 메소드를 호출합니다.\n",
    "개체 내부에서 정보를 검색하고 개체 외부에서 작업을 수행하기 위해 별도의 코드를 작성하는 것은 나쁜 습관으로 간주됩니다."
   ]
  },
  {
   "cell_type": "raw",
   "metadata": {},
   "source": [
    "캡슐화가 필요한 이유\n",
    "    기능은 여러 곳이 아닌 한 곳에서 정의됩니다.\n",
    "    논리적 장소 (데이터가 보관되는 장소)에 정의됩니다.\n",
    "    우리 프로그램의 완전히 다른 부분에서 외부 코드에 의해 객체 내부의 데이터가 예기치 않게 수정되지 않습니다.\n",
    "    우리가 방법을 사용할 때, 우리는 그 방법으로 어떤 결과가 나올지 알아야합니다. (추출)\n",
    "    우리는 내부에서 완전히 다른 다른 객체를 사용하도록 전환 할 수 있으며 두 객체가 동일한 인터페이스를 가지고 있기 때문에 코드를 변경할 필요가 없습니다.\n",
    "    객체에 원하는 방식의 인터페이스 메소드가없는 경우 새 메소드를 추가하거나 기존 메소드를 업데이트해야합니다."
   ]
  },
  {
   "cell_type": "raw",
   "metadata": {},
   "source": [
    "파이썬에서는 언어에 의해 캡슐화가 시행되지 않습니다.\n",
    "그러나 변수가 비공개임을 나타 내기 위해 이름을 밑줄로 시작합니다."
   ]
  },
  {
   "cell_type": "markdown",
   "metadata": {},
   "source": [
    "# 다형성(Polymorphism)"
   ]
  },
  {
   "cell_type": "raw",
   "metadata": {},
   "source": [
    "파이썬은 암묵적으로 다형성이다"
   ]
  },
  {
   "cell_type": "code",
   "execution_count": 29,
   "metadata": {},
   "outputs": [
    {
     "name": "stdout",
     "output_type": "stream",
     "text": [
      "3\n",
      "Hello World\n",
      "[1, 2, 3, 3, 4, 5]\n"
     ]
    }
   ],
   "source": [
    "\n",
    "def func(x, y):\n",
    "    return x+y\n",
    "\n",
    "print(func(1,2))\n",
    "print(func(\"Hello \", \"World\"))\n",
    "print(func([1, 2, 3], [3, 4, 5]))"
   ]
  },
  {
   "cell_type": "code",
   "execution_count": 30,
   "metadata": {},
   "outputs": [
    {
     "name": "stdout",
     "output_type": "stream",
     "text": [
      "From A\n",
      "From B\n"
     ]
    }
   ],
   "source": [
    "class A():\n",
    "    def do_something(self):\n",
    "        print(\"From A\")\n",
    "\n",
    "class B():\n",
    "    def do_something(self):\n",
    "        print(\"From B\")\n",
    "\n",
    "a = A()\n",
    "b = B()\n",
    "for obj in (a, b):\n",
    "    obj.do_something()"
   ]
  },
  {
   "cell_type": "code",
   "execution_count": 31,
   "metadata": {},
   "outputs": [
    {
     "name": "stdout",
     "output_type": "stream",
     "text": [
      "From A\n",
      "From B\n"
     ]
    }
   ],
   "source": [
    "class A():\n",
    "    def do_something(self):\n",
    "        print(\"From A\")\n",
    "\n",
    "class B():\n",
    "    def do_something(self):\n",
    "        print(\"From B\")\n",
    "        \n",
    "def poly_imp(obj):\n",
    "    obj.do_something()\n",
    "a = A()\n",
    "b = B()\n",
    "poly_imp(a)\n",
    "poly_imp(b)"
   ]
  },
  {
   "cell_type": "markdown",
   "metadata": {},
   "source": [
    "# Relationships between objects"
   ]
  },
  {
   "cell_type": "raw",
   "metadata": {},
   "source": [
    "파이썬에는 클래스 사이에 두 가지 주요 유형의 관계가 있습니다.\n",
    "    composition\n",
    "    inheritance"
   ]
  },
  {
   "cell_type": "markdown",
   "metadata": {},
   "source": [
    "# Composition"
   ]
  },
  {
   "cell_type": "raw",
   "metadata": {},
   "source": [
    "컴포지션은 다른 클래스의 일부 기능을 그대로 이용하고 싶으나, 전체 기능 상속은 피하고 싶을 때 사용\n",
    "상속관계가 복잡할 경우, 코드 이해가 어려운 경우가 많음\n",
    "컴포지션은 명시적 선언, 상속은 암시적 선언\n",
    "다만, 컴포지션, 상속에 대한 개념 이해는 역시나 한번에 이해하고, 활용하기는 어려움"
   ]
  },
  {
   "cell_type": "code",
   "execution_count": 32,
   "metadata": {},
   "outputs": [
    {
     "name": "stdout",
     "output_type": "stream",
     "text": [
      "{'description': 'Mathematics 1000', 'course_code': 'MAM1000W', 'credits': 1, 'department': <__main__.Department object at 0x00000261289425C0>}\n"
     ]
    }
   ],
   "source": [
    "class Department:\n",
    "    def __init__(self, name, department_code):\n",
    "        self.name = name\n",
    "        self.department_code = department_code\n",
    "        self.courses = {}\n",
    "\n",
    "    def add_course(self, description, course_code, credits):\n",
    "        self.courses[course_code] = Course(description, course_code, credits, self)\n",
    "        return self.courses[course_code]\n",
    "\n",
    "\n",
    "class Course:\n",
    "    def __init__(self, description, course_code, credits, department):\n",
    "        self.description = description\n",
    "        self.course_code = course_code\n",
    "        self.credits = credits\n",
    "        self.department = department\n",
    "\n",
    "\n",
    "maths_dept = Department(\"Mathematics and Applied Mathematics\", \"MAM\")\n",
    "mam1000w = maths_dept.add_course(\"Mathematics 1000\", \"MAM1000W\", 1)\n",
    "\n",
    "print(mam1000w.__dict__)"
   ]
  },
  {
   "cell_type": "code",
   "execution_count": 1,
   "metadata": {},
   "outputs": [],
   "source": [
    "class Calc:\n",
    "    def __init__(self, x, y):\n",
    "        self.x = x\n",
    "        self.y = y\n",
    "    \n",
    "    def add(self):\n",
    "        return self.x + self.y\n",
    "\n",
    "    def subtract(self):\n",
    "        return self.x - self.y\n",
    "\n",
    "class Calc2:\n",
    "    def __init__(self, x, y):\n",
    "        self.x = x\n",
    "        self.y = y\n",
    "    \n",
    "    def add(self):\n",
    "        return self.x + self.y\n",
    "\n",
    "    def multiply(self):\n",
    "        return self.x * self.y"
   ]
  },
  {
   "cell_type": "code",
   "execution_count": 2,
   "metadata": {},
   "outputs": [],
   "source": [
    "class Calc:\n",
    "    def __init__(self, x, y):\n",
    "        self.x = x\n",
    "        self.y = y\n",
    "        self.calc2 = Calc2(x, y) # 해당 클래스의 객체를 명시적으로 가져옴\n",
    "    \n",
    "    def add(self):\n",
    "        return self.x + self.y\n",
    "\n",
    "    def subtract(self):\n",
    "        return self.x - self.y\n",
    "    \n",
    "    def multiply(self):\n",
    "        return self.calc2.multiply() # 해당 클래스의 객체에 있는 메서드를 명시적으로 활용함"
   ]
  },
  {
   "cell_type": "code",
   "execution_count": 3,
   "metadata": {},
   "outputs": [
    {
     "name": "stdout",
     "output_type": "stream",
     "text": [
      "2\n",
      "6\n"
     ]
    }
   ],
   "source": [
    "calc1 = Calc(1, 2)\n",
    "print(calc1.multiply())\n",
    "calc2 = Calc(x=2, y=3)  # 함수 인자와 마찬가지로 직접 인자명과 값을 써도 됨\n",
    "print(calc2.multiply())"
   ]
  },
  {
   "cell_type": "markdown",
   "metadata": {},
   "source": [
    "# 상속(Inheritance)"
   ]
  },
  {
   "cell_type": "raw",
   "metadata": {},
   "source": [
    "상속은 계층 구조에서 객체를 배열하는 방법입니다\n",
    "계층 구조가 가장 일반적입니다.\n",
    "    동물 (일반)-> 개 (약간 구체적)-> Labador (보다 구체적)-> 다른 유형의 Labador\n",
    "다른 객체에서 상속 된 객체는 해당 객체의 하위 유형으로 간주됩니다.\n",
    "IS-A라는 문구를 사용하여 두 객체 간의 관계를 설명 할 수 있습니다."
   ]
  },
  {
   "cell_type": "raw",
   "metadata": {},
   "source": [
    "서브 클래스 또는 자식은 상속하는 클래스입니다\n",
    "다른 클래스는 수퍼 클래스 또는 부모 클래스입니다.\n",
    "계층 구조의 기본에서 가장 일반적인 클래스를 기본 클래스라고 할 수 있습니다.\n",
    "    동물 (기본 클래스)\n",
    "    개 (동물 클래스의 하위 클래스 또는 하위 또는 Labador의 상위 클래스)\n",
    "    Labador (도그 클래스의 하위 클래스 또는 하위 클래스)"
   ]
  },
  {
   "cell_type": "raw",
   "metadata": {},
   "source": [
    "상속은 우리가 작동하는 방식에 약간의 차이점과 유사점이있는 객체를 표현하는 데 도움이 될 수 있습니다.\n",
    "기본 클래스에 객체의 공통 기능을 모두 넣은 다음 자체 사용자 지정 기능을 사용하여 하나 이상의 하위 클래스를 정의 할 수 있습니다."
   ]
  },
  {
   "cell_type": "raw",
   "metadata": {},
   "source": [
    "상속은 또한 기존 코드를 쉽게 재사용하는 방법입니다.\n",
    "우리가 원하는 것을 거의 수행하는 클래스가 이미 있다면, 우리는 서브 클래스를 생성하여 일부 동작을 부분적으로 무시하거나 새로운 기능을 추가 할 수 있습니다."
   ]
  },
  {
   "cell_type": "code",
   "execution_count": 33,
   "metadata": {},
   "outputs": [],
   "source": [
    "#구조\n",
    "class Parent:\n",
    "    pass\n",
    "class Child(Parent):\n",
    "    pass\n",
    "class AnotherChild(Child):\n",
    "    pass"
   ]
  },
  {
   "cell_type": "raw",
   "metadata": {},
   "source": [
    "상속을 사용하는 동안 파이썬에는 MRO (Method Resolution Order)가 있습니다.\n",
    "인스턴스를 만드는 동안 파생 클래스에서 메서드를 찾지 못하면 부모 클래스에서 해당 메서드를 찾습니다. 이 체인을 MRO라고합니다."
   ]
  },
  {
   "cell_type": "code",
   "execution_count": 34,
   "metadata": {},
   "outputs": [
    {
     "name": "stdout",
     "output_type": "stream",
     "text": [
      "{'first': 'Sagar', 'last': 'Giri', 'email': 'Sagar.Giri@deerwalk.com', 'prog_lang': 'Python'}\n",
      "{'first': 'Test', 'last': 'User', 'email': 'Test.User@deerwalk.com', 'prog_lang': 'Java'}\n",
      "True\n",
      "True\n",
      "True\n",
      "False\n",
      "True\n",
      "True\n"
     ]
    }
   ],
   "source": [
    "class Employee:\n",
    "\n",
    "    def __init__(self, first, last, pay):\n",
    "        self.first = first\n",
    "        self.last = last\n",
    "        self.email = self.first + \".\" + self.last + \"@deerwalk.com\"\n",
    "\n",
    "    def fullname(self):\n",
    "        return \"{} {}\".format(self.first, self.last)\n",
    "\n",
    "class Developer(Employee):\n",
    "\n",
    "    def __init__(self, first, last, pay, prog_lang):\n",
    "        Employee.__init__(self, first, last, pay) # calls Employee initializer\n",
    "        self.prog_lang = prog_lang\n",
    "\n",
    "\n",
    "dev_1 = Developer(\"Sagar\", \"Giri\", 50000, \"Python\")\n",
    "dev_2 = Developer(\"Test\", \"User\", 60000, \"Java\")\n",
    "\n",
    "print(dev_1.__dict__)\n",
    "print(dev_2.__dict__)\n",
    "\n",
    "print(isinstance(dev_1, Developer))\n",
    "print(isinstance(dev_1, Employee))\n",
    "\n",
    "print(issubclass(Developer, Employee))\n",
    "print(issubclass(Employee, Developer))\n",
    "\n",
    "print(issubclass(Developer, object))\n",
    "print(issubclass(Employee, object))"
   ]
  },
  {
   "cell_type": "code",
   "execution_count": 35,
   "metadata": {},
   "outputs": [
    {
     "name": "stdout",
     "output_type": "stream",
     "text": [
      "{'first': 'Rudra', 'last': 'Pandey', 'email': 'Rudra.Pandey@deerwalk.com', 'employees': [<__main__.Developer object at 0x0000026128961E48>]}\n",
      "{'first': 'Rudra', 'last': 'Pandey', 'email': 'Rudra.Pandey@deerwalk.com', 'employees': [<__main__.Developer object at 0x0000026128961E48>, <__main__.Developer object at 0x00000261289423C8>]}\n",
      "Developers under mgr_1 under\n",
      "---> Sagar Giri\n",
      "---> Test User\n",
      "After Removing dev_2 under mgr_1\n",
      "---> Sagar Giri\n"
     ]
    }
   ],
   "source": [
    "\n",
    "class Employee:\n",
    "\n",
    "    def __init__(self, first, last, pay):\n",
    "        self.first = first\n",
    "        self.last = last\n",
    "        self.email = self.first + \".\" + self.last + \"@deerwalk.com\"\n",
    "\n",
    "    def fullname(self):\n",
    "        return \"{} {}\".format(self.first, self.last)\n",
    "\n",
    "class Developer(Employee):\n",
    "\n",
    "    def __init__(self, first, last, pay, prog_lang):\n",
    "        super().__init__(first, last, pay) # calling super in python3 convention\n",
    "        self.prog_lang = prog_lang\n",
    "\n",
    "\n",
    "class Manager(Employee):\n",
    "\n",
    "    # here employees = None because it is a list and list is mutable. We never pass mutable data types as args\n",
    "    def __init__(self, first, last, pay, employees=None):\n",
    "        super().__init__(first, last, pay)\n",
    "        if employees is None:\n",
    "            self.employees = []\n",
    "        else:\n",
    "            self.employees = employees\n",
    "\n",
    "    def add_employee(self, emp):\n",
    "        if emp not in self.employees:\n",
    "            self.employees.append(emp)\n",
    "\n",
    "    def remove_employee(self, emp):\n",
    "        if emp in self.employees:\n",
    "            self.employees.remove(emp)\n",
    "\n",
    "    def print_emps(self):\n",
    "        for emp in self.employees:\n",
    "            print(\"--->\",emp.fullname())\n",
    "\n",
    "dev_1 = Developer(\"Sagar\", \"Giri\", 50000, \"Python\")\n",
    "dev_2 = Developer(\"Test\", \"User\", 60000, \"Java\")\n",
    "\n",
    "mgr_1 = Manager(\"Rudra\", \"Pandey\", 100000, [dev_1])\n",
    "print(mgr_1.__dict__)\n",
    "\n",
    "mgr_1.add_employee(dev_2)\n",
    "print(mgr_1.__dict__)\n",
    "\n",
    "print(\"Developers under mgr_1 under\")\n",
    "mgr_1.print_emps()\n",
    "\n",
    "mgr_1.remove_employee(dev_2)\n",
    "print(\"After Removing dev_2 under mgr_1\")\n",
    "mgr_1.print_emps()"
   ]
  },
  {
   "cell_type": "markdown",
   "metadata": {},
   "source": [
    "# 연습"
   ]
  },
  {
   "cell_type": "raw",
   "metadata": {},
   "source": [
    "상속 개념을 사용하여 묘사 : 동물 (일반)-> 개 (약간 구체적)-> Labador (보다 구체적)"
   ]
  },
  {
   "cell_type": "raw",
   "metadata": {},
   "source": [
    "다중 상속\n",
    "직원, 관리자 및 개발자 인 엔지니어링 관리자가 있다고 가정하십시오.\n",
    "이 경우 사용 사례에 따라 EM은 직원, 관리자 및 개발자로부터 상속받을 수 있습니다."
   ]
  },
  {
   "cell_type": "code",
   "execution_count": 36,
   "metadata": {},
   "outputs": [],
   "source": [
    "#구문\n",
    "class A: # parent\n",
    "    pass\n",
    "class B: # base\n",
    "    pass\n",
    "class C(A, B): # base that inherits from A and B\n",
    "    pass"
   ]
  },
  {
   "cell_type": "raw",
   "metadata": {},
   "source": [
    "클래스가 완전히 다른 속성을 가진 여러 클래스에서 상속되는 경우\n",
    "그러나 두 개의 상위 클래스가 동일한 메소드 또는 속성을 구현하면 상황이 복잡해집니다.\n",
    "MRO의 갈등"
   ]
  },
  {
   "cell_type": "raw",
   "metadata": {},
   "source": [
    "어느부분이 복잡해질까? \n",
    "\n",
    "클래스 B와 C는 A에서 상속\n",
    "클래스 D는 B와 C에서 상속받습니다.\n",
    "B와 C는 모두 do_something,\n",
    "D는 어떤 do_something을 상속합니까?\n",
    "이 모호성은 다이아몬드 문제로 알려져 있습니다\n",
    "클래스 __init__ 메소드에서이 문제가 발생합니다."
   ]
  },
  {
   "cell_type": "raw",
   "metadata": {},
   "source": [
    "다행히도 super 함수는 다중 상속을 정상적으로 처리하는 방법을 알고 있습니다."
   ]
  },
  {
   "cell_type": "code",
   "execution_count": 37,
   "metadata": {},
   "outputs": [],
   "source": [
    "class A:\n",
    "    def m(self):\n",
    "        print(\"m of A called\")\n",
    "\n",
    "class B(A):\n",
    "    def m(self):\n",
    "        print(\"m of B called\")\n",
    "    \n",
    "class C(A):\n",
    "    def m(self):\n",
    "        print(\"m of C called\")\n",
    "\n",
    "class D(B,C):\n",
    "    def m(self):\n",
    "        print(\"m of D called\")\n",
    "    \n",
    "x = D()\n",
    "# x.m() # Problem\n",
    "\n",
    "# print(D.mro())\n",
    "# print(C.mro())\n",
    "# print(B.mro())\n",
    "# print(A.mro())\n",
    "\n",
    "# Solution\n",
    "# A.m(x)\n",
    "# B.m(x)\n",
    "# C.m(x)\n",
    "# D.m(x)"
   ]
  },
  {
   "cell_type": "raw",
   "metadata": {},
   "source": [
    "D에서 A, B, C의 다른 메소드를 호출해야 한다면?"
   ]
  },
  {
   "cell_type": "code",
   "execution_count": 38,
   "metadata": {},
   "outputs": [
    {
     "name": "stdout",
     "output_type": "stream",
     "text": [
      "m of D called\n",
      "m of A called\n",
      "m of B called\n",
      "m of C called\n"
     ]
    }
   ],
   "source": [
    "class A:\n",
    "    def m(self):\n",
    "        print(\"m of A called\")\n",
    "\n",
    "class B(A):\n",
    "    def m(self):\n",
    "        print(\"m of B called\")\n",
    "    \n",
    "class C(A):\n",
    "    def m(self):\n",
    "        print(\"m of C called\")\n",
    "\n",
    "class D(B,C):\n",
    "    def m(self):\n",
    "        print(\"m of D called\")\n",
    "        A.m(self)\n",
    "        B.m(self)\n",
    "        C.m(self)\n",
    "    \n",
    "x = D()\n",
    "x.m()"
   ]
  },
  {
   "cell_type": "raw",
   "metadata": {},
   "source": [
    "그러나이 상황에 어떻게 대처할 수 있습니까?\n",
    "\n",
    "만약 m의 B와 m의 C 모두 m의 A를 호출해야한다면.\n",
    "우리는 D에서 m에서 A.m (self)을 제거 할 수 있습니다. 그러나 여전히 코드는 버그입니다."
   ]
  },
  {
   "cell_type": "code",
   "execution_count": 39,
   "metadata": {},
   "outputs": [
    {
     "name": "stdout",
     "output_type": "stream",
     "text": [
      "m of D called\n",
      "m of B called\n",
      "m of A called\n",
      "m of C called\n",
      "m of A called\n"
     ]
    }
   ],
   "source": [
    "class A:\n",
    "    def m(self):\n",
    "        print(\"m of A called\")\n",
    "\n",
    "class B(A):\n",
    "    def m(self):\n",
    "        print(\"m of B called\")\n",
    "        A.m(self)\n",
    "    \n",
    "class C(A):\n",
    "    def m(self):\n",
    "        print(\"m of C called\")\n",
    "        A.m(self)\n",
    "\n",
    "class D(B,C):\n",
    "    def m(self):\n",
    "        print(\"m of D called\")\n",
    "        B.m(self)\n",
    "        C.m(self)\n",
    "x = D()\n",
    "x.m() # m of A is called twice"
   ]
  },
  {
   "cell_type": "raw",
   "metadata": {},
   "source": [
    "\"super\"함수로 문제를 해결"
   ]
  },
  {
   "cell_type": "code",
   "execution_count": 40,
   "metadata": {},
   "outputs": [
    {
     "name": "stdout",
     "output_type": "stream",
     "text": [
      "m of D called\n",
      "m of B called\n",
      "m of C called\n",
      "m of A called\n"
     ]
    }
   ],
   "source": [
    "class A:\n",
    "    def m(self):\n",
    "        print(\"m of A called\")\n",
    "\n",
    "class B(A):\n",
    "    def m(self):\n",
    "        print(\"m of B called\")\n",
    "        super().m()\n",
    "    \n",
    "class C(A):\n",
    "    def m(self):\n",
    "        print(\"m of C called\")\n",
    "        super().m()\n",
    "\n",
    "class D(B,C):\n",
    "    def m(self):\n",
    "        print(\"m of D called\")\n",
    "        super().m()\n",
    "\n",
    "x = D()\n",
    "x.m()"
   ]
  },
  {
   "cell_type": "code",
   "execution_count": null,
   "metadata": {},
   "outputs": [],
   "source": [
    "## 각 클래스의 MRO도 알 수 있습니다\n",
    "print(D.mro())\n",
    "print(C.mro())\n",
    "print(B.mro())\n",
    "print(A.mro())\n",
    "print(object.mro())"
   ]
  },
  {
   "cell_type": "markdown",
   "metadata": {},
   "source": [
    "# 상속을 컴포지션으로 교체"
   ]
  },
  {
   "cell_type": "code",
   "execution_count": 41,
   "metadata": {},
   "outputs": [
    {
     "name": "stdout",
     "output_type": "stream",
     "text": [
      "{'name': 'Jane', 'surname': 'Smith', 'number': 'SMTJNX045', 'learner': <__main__.Learner object at 0x000002612896E550>, 'teacher': <__main__.Teacher object at 0x000002612896E5F8>}\n",
      "{'classes': ['a_postgrad_course']}\n",
      "{'courses_taught': ['an_undergrad_course']}\n"
     ]
    }
   ],
   "source": [
    "class Learner:\n",
    "    def __init__(self):\n",
    "        self.classes = []\n",
    "\n",
    "    def enrol(self, course):\n",
    "        self.classes.append(course)\n",
    "\n",
    "\n",
    "class Teacher:\n",
    "    def __init__(self):\n",
    "        self.courses_taught = []\n",
    "\n",
    "    def assign_teaching(self, course):\n",
    "        self.courses_taught.append(course)\n",
    "\n",
    "\n",
    "class Person:\n",
    "    def __init__(self, name, surname, number, learner=None, teacher=None):\n",
    "        self.name = name\n",
    "        self.surname = surname\n",
    "        self.number = number\n",
    "\n",
    "        self.learner = learner\n",
    "        self.teacher = teacher\n",
    "\n",
    "jane = Person(\"Jane\", \"Smith\", \"SMTJNX045\", Learner(), Teacher())\n",
    "jane.learner.enrol(\"a_postgrad_course\")\n",
    "jane.teacher.assign_teaching(\"an_undergrad_course\")\n",
    "\n",
    "print(jane.__dict__)\n",
    "print(jane.learner.__dict__)\n",
    "print(jane.teacher.__dict__)"
   ]
  },
  {
   "cell_type": "markdown",
   "metadata": {},
   "source": [
    "# 추상 클래스와 인터페이스"
   ]
  },
  {
   "cell_type": "raw",
   "metadata": {},
   "source": [
    "인스턴스화 할 수없는 클래스는 추상 클래스 또는 인터페이스 클래스입니다.\n",
    "Java와 같은 프로그래밍 언어 내장\n",
    "수업의 템플릿 역할을합니다.\n",
    "우리는 그들로부터 상속 받고 메소드를 재정의합니다.\n",
    "메소드의 모든 내부는 서브 클래스로 구현되어야합니다.\n",
    "인터페이스와 추상 클래스는 메소드의 구현을 가져서는 안되며 인스턴스화 할 수 없습니다"
   ]
  },
  {
   "cell_type": "raw",
   "metadata": {},
   "source": [
    "파이썬에서는 누구나 클래스를 인스턴스화하는 것을 막을 수 없습니다\n",
    "그러나 메소드 정의 내에서 NotImplementedError를 사용하여 추상 클래스와 유사한 것을 작성할 수 있습니다."
   ]
  },
  {
   "cell_type": "code",
   "execution_count": 45,
   "metadata": {},
   "outputs": [],
   "source": [
    "class Shape2D:\n",
    "    def area(self):\n",
    "        raise NotImplementedError() # 함수 호출을 막기 위해 스스로 예외를 제기하고 있습니다.\n",
    "\n",
    "class Shape3D:\n",
    "    def volume(self):\n",
    "        raise NotImplementedError()"
   ]
  },
  {
   "cell_type": "code",
   "execution_count": 46,
   "metadata": {},
   "outputs": [
    {
     "ename": "NotImplementedError",
     "evalue": "",
     "output_type": "error",
     "traceback": [
      "\u001b[1;31m---------------------------------------------------------------------------\u001b[0m",
      "\u001b[1;31mNotImplementedError\u001b[0m                       Traceback (most recent call last)",
      "\u001b[1;32m<ipython-input-46-0d43cca3b218>\u001b[0m in \u001b[0;36m<module>\u001b[1;34m\u001b[0m\n\u001b[0;32m      1\u001b[0m \u001b[0ms1\u001b[0m \u001b[1;33m=\u001b[0m \u001b[0mShape2D\u001b[0m\u001b[1;33m(\u001b[0m\u001b[1;33m)\u001b[0m\u001b[1;33m\u001b[0m\u001b[1;33m\u001b[0m\u001b[0m\n\u001b[0;32m      2\u001b[0m \u001b[0ms2\u001b[0m \u001b[1;33m=\u001b[0m \u001b[0mShape3D\u001b[0m\u001b[1;33m(\u001b[0m\u001b[1;33m)\u001b[0m\u001b[1;33m\u001b[0m\u001b[1;33m\u001b[0m\u001b[0m\n\u001b[1;32m----> 3\u001b[1;33m \u001b[0ms1\u001b[0m\u001b[1;33m.\u001b[0m\u001b[0marea\u001b[0m\u001b[1;33m(\u001b[0m\u001b[1;33m)\u001b[0m \u001b[1;31m# NotImplementedError 예외가 발생합니다.\u001b[0m\u001b[1;33m\u001b[0m\u001b[1;33m\u001b[0m\u001b[0m\n\u001b[0m",
      "\u001b[1;32m<ipython-input-45-1fa9ed18b784>\u001b[0m in \u001b[0;36marea\u001b[1;34m(self)\u001b[0m\n\u001b[0;32m      1\u001b[0m \u001b[1;32mclass\u001b[0m \u001b[0mShape2D\u001b[0m\u001b[1;33m:\u001b[0m\u001b[1;33m\u001b[0m\u001b[1;33m\u001b[0m\u001b[0m\n\u001b[0;32m      2\u001b[0m     \u001b[1;32mdef\u001b[0m \u001b[0marea\u001b[0m\u001b[1;33m(\u001b[0m\u001b[0mself\u001b[0m\u001b[1;33m)\u001b[0m\u001b[1;33m:\u001b[0m\u001b[1;33m\u001b[0m\u001b[1;33m\u001b[0m\u001b[0m\n\u001b[1;32m----> 3\u001b[1;33m         \u001b[1;32mraise\u001b[0m \u001b[0mNotImplementedError\u001b[0m\u001b[1;33m(\u001b[0m\u001b[1;33m)\u001b[0m \u001b[1;31m# 함수 호출을 막기 위해 스스로 예외를 제기하고 있습니다.\u001b[0m\u001b[1;33m\u001b[0m\u001b[1;33m\u001b[0m\u001b[0m\n\u001b[0m\u001b[0;32m      4\u001b[0m \u001b[1;33m\u001b[0m\u001b[0m\n\u001b[0;32m      5\u001b[0m \u001b[1;32mclass\u001b[0m \u001b[0mShape3D\u001b[0m\u001b[1;33m:\u001b[0m\u001b[1;33m\u001b[0m\u001b[1;33m\u001b[0m\u001b[0m\n",
      "\u001b[1;31mNotImplementedError\u001b[0m: "
     ]
    }
   ],
   "source": [
    "\n",
    "s1 = Shape2D()\n",
    "s2 = Shape3D()\n",
    "s1.area() # NotImplementedError 예외가 발생합니다."
   ]
  },
  {
   "cell_type": "code",
   "execution_count": 44,
   "metadata": {},
   "outputs": [
    {
     "name": "stdout",
     "output_type": "stream",
     "text": [
      "9\n",
      "64\n"
     ]
    }
   ],
   "source": [
    "class Square(Shape2D):\n",
    "    def __init__(self, width):\n",
    "        self.width = width\n",
    "\n",
    "    def area(self):\n",
    "        return self.width ** 2\n",
    "\n",
    "class Cube(Shape3D):\n",
    "    def __init__(self, width):\n",
    "        self.width = width\n",
    "\n",
    "    def volume(self):\n",
    "        return self.width ** 3\n",
    "\n",
    "sq = Square(3)\n",
    "print(sq.area())\n",
    "\n",
    "cu = Cube(4)\n",
    "print(cu.volume())"
   ]
  },
  {
   "cell_type": "markdown",
   "metadata": {},
   "source": [
    "# 복습"
   ]
  },
  {
   "cell_type": "code",
   "execution_count": 169,
   "metadata": {},
   "outputs": [
    {
     "name": "stdout",
     "output_type": "stream",
     "text": [
      "Bird is ready\n",
      "Penguin is ready\n",
      "Penguin\n",
      "Swim faster\n",
      "Run faster\n"
     ]
    }
   ],
   "source": [
    "# parent class\n",
    "class Bird:\n",
    "    \n",
    "    def __init__(self):\n",
    "        print(\"Bird is ready\")\n",
    "\n",
    "    def whoisThis(self):\n",
    "        print(\"Bird\")\n",
    "\n",
    "    def swim(self):\n",
    "        print(\"Swim faster\")\n",
    "\n",
    "# child class\n",
    "class Penguin(Bird):\n",
    "\n",
    "    def __init__(self):\n",
    "        # call super() function\n",
    "        super().__init__()\n",
    "        print(\"Penguin is ready\")\n",
    "\n",
    "    def whoisThis(self):\n",
    "        print(\"Penguin\")\n",
    "\n",
    "    def run(self):\n",
    "        print(\"Run faster\")\n",
    "\n",
    "peggy = Penguin()\n",
    "peggy.whoisThis()\n",
    "peggy.swim()\n",
    "peggy.run()"
   ]
  },
  {
   "cell_type": "code",
   "execution_count": 170,
   "metadata": {},
   "outputs": [
    {
     "name": "stdout",
     "output_type": "stream",
     "text": [
      "Selling Price: 900\n",
      "Selling Price: 900\n",
      "Selling Price: 1000\n"
     ]
    }
   ],
   "source": [
    "### Encapsulation\n",
    "class Computer:\n",
    "\n",
    "    def __init__(self):\n",
    "        self.__maxprice = 900\n",
    "\n",
    "    def sell(self):\n",
    "        print(\"Selling Price: {}\".format(self.__maxprice))\n",
    "\n",
    "    def setMaxPrice(self, price):\n",
    "        self.__maxprice = price\n",
    "\n",
    "c = Computer()\n",
    "c.sell()\n",
    "\n",
    "# change the price\n",
    "c.__maxprice = 1000\n",
    "c.sell()\n",
    "\n",
    "# using setter function\n",
    "c.setMaxPrice(1000)\n",
    "c.sell()"
   ]
  },
  {
   "cell_type": "code",
   "execution_count": 171,
   "metadata": {},
   "outputs": [
    {
     "name": "stdout",
     "output_type": "stream",
     "text": [
      "Parrot can fly\n",
      "Penguin can't fly\n"
     ]
    }
   ],
   "source": [
    "### Polymorphism \n",
    "class Parrot:\n",
    "\n",
    "    def fly(self):\n",
    "        print(\"Parrot can fly\")\n",
    "    \n",
    "    def swim(self):\n",
    "        print(\"Parrot can't swim\")\n",
    "\n",
    "class Penguin:\n",
    "\n",
    "    def fly(self):\n",
    "        print(\"Penguin can't fly\")\n",
    "    \n",
    "    def swim(self):\n",
    "        print(\"Penguin can swim\")\n",
    "\n",
    "# common interface\n",
    "def flying_test(bird):\n",
    "    bird.fly()\n",
    "\n",
    "#instantiate objects\n",
    "blu = Parrot()\n",
    "peggy = Penguin()\n",
    "\n",
    "# passing the object\n",
    "flying_test(blu)\n",
    "flying_test(peggy)"
   ]
  },
  {
   "cell_type": "code",
   "execution_count": 182,
   "metadata": {},
   "outputs": [
    {
     "name": "stdout",
     "output_type": "stream",
     "text": [
      "Rahul\n"
     ]
    }
   ],
   "source": [
    "# Python program to demonstrate error if we \n",
    "# forget to invoke __init__() of parent. \n",
    "\n",
    "class A: \n",
    "    def __init__(self, n = 'Rahul'): \n",
    "        self.name = n \n",
    "class B(A): \n",
    "    def __init__(self, roll): \n",
    "        A.__init__(self)\n",
    "        self.roll = roll \n",
    "\n",
    "object = B(23) \n",
    "print(object.name)"
   ]
  },
  {
   "cell_type": "code",
   "execution_count": 186,
   "metadata": {},
   "outputs": [
    {
     "name": "stdout",
     "output_type": "stream",
     "text": [
      "B\n"
     ]
    }
   ],
   "source": [
    "class A: \n",
    "    def __init__(self, n = 'A'): \n",
    "        self.name = n \n",
    "class B: \n",
    "    def __init__(self, n = 'B'): \n",
    "        self.name = n \n",
    "class D: \n",
    "    def __init__(self, n = 'D'): \n",
    "        self.name = n \n",
    "\n",
    "class C(A,B,D):\n",
    "#     def __init__(self): \n",
    "#         A.__init__(self)\n",
    "#         B.__init__(self)\n",
    "    pass\n",
    "    \n",
    "\n",
    "object = C()\n",
    "print(object.name)"
   ]
  },
  {
   "cell_type": "code",
   "execution_count": 187,
   "metadata": {},
   "outputs": [
    {
     "name": "stdout",
     "output_type": "stream",
     "text": [
      "1.04\n",
      "1.04\n",
      "Soumyadip\n",
      "Hello\n"
     ]
    },
    {
     "data": {
      "text/plain": [
       "'Soumyadip Chowdhury s.c@python.com 100000'"
      ]
     },
     "execution_count": 187,
     "metadata": {},
     "output_type": "execute_result"
    }
   ],
   "source": [
    "class Employee:\n",
    "    \n",
    "    no_empl=0;\n",
    "    raise_amount=1.04\n",
    "    \n",
    "    def __init__(self):\n",
    "        self.first=\"Soumyadip\"\n",
    "        self.last=\"Chowdhury\"\n",
    "        self.email=\"s.c@python.com\"\n",
    "        self.pay=100000\n",
    "        Employee.no_empl=Employee.no_empl+1\n",
    "        \n",
    "        \n",
    "    def print(self):\n",
    "        print(\"Hello\")\n",
    "        return \"{} {} {} {}\".format(self.first,self.last,self.email,self.pay)\n",
    "   \n",
    "        \n",
    "        \n",
    "emp_1=Employee()\n",
    "print(Employee.raise_amount)\n",
    "print(emp_1.raise_amount)\n",
    "\n",
    "print(emp_1.first)\n",
    "emp_1.print()"
   ]
  },
  {
   "cell_type": "code",
   "execution_count": 188,
   "metadata": {},
   "outputs": [
    {
     "name": "stdout",
     "output_type": "stream",
     "text": [
      "1.04\n",
      "1.04\n",
      "1.04\n",
      "1.04\n",
      "100\n",
      "1.04\n",
      "{'__module__': '__main__', 'no_empl': 2, 'raise_amount': 1.04, '__init__': <function Employee.__init__ at 0x00000251BB1809D8>, 'print': <function Employee.print at 0x00000251BB180950>, 'apply_raise': <function Employee.apply_raise at 0x00000251BB180EA0>, '__dict__': <attribute '__dict__' of 'Employee' objects>, '__weakref__': <attribute '__weakref__' of 'Employee' objects>, '__doc__': None}\n",
      "{'first': 'Soumyadip', 'last': 'Chowdhury', 'email': 'Soumyadip.Chowdhury@python.com', 'pay': 900000, 'raise_amount': 100}\n",
      "{'first': 'Soumyadip', 'last': 'Chowdhury', 'email': 'Soumyadip.Chowdhury@python.com', 'pay': 100000}\n",
      "Soumyadip Chowdhury Soumyadip.Chowdhury@python.com 90000000\n",
      "Soumyadip Chowdhury Soumyadip.Chowdhury@python.com 100000\n",
      "No Of Employees 2\n",
      "No Of Employees 2\n",
      "No Of Employees 2\n"
     ]
    }
   ],
   "source": [
    "class Employee:\n",
    "    \n",
    "    no_empl=0;\n",
    "    raise_amount=1.04\n",
    "    \n",
    "    def __init__(self,f ,l ,p ):\n",
    "        self.first=f\n",
    "        self.last=l\n",
    "        self.email=f+\".\"+l+\"@python.com\"\n",
    "        self.pay=p\n",
    "        Employee.no_empl=Employee.no_empl+1\n",
    "        \n",
    "        \n",
    "    def print(self):\n",
    "        return \"{} {} {} {}\".format(self.first,self.last,self.email,self.pay)\n",
    "   \n",
    "    def apply_raise(self):\n",
    "        self.pay=int(self.pay* self.raise_amount)\n",
    "    ## Can print using class,self and obj name    \n",
    "        \n",
    "emp_1=Employee(\"Soumyadip\",\"Chowdhury\",900000)\n",
    "emp_2=Employee(\"Soumyadip\",\"Chowdhury\",100000)\n",
    "\n",
    "print(Employee.raise_amount)\n",
    "print(emp_1.raise_amount)\n",
    "print(emp_2.raise_amount)\n",
    "\n",
    "emp_1.raise_amount=100\n",
    "\n",
    "print(Employee.raise_amount)\n",
    "print(emp_1.raise_amount)\n",
    "print(emp_2.raise_amount)\n",
    "\n",
    "\n",
    "print(Employee.__dict__)\n",
    "print(emp_1.__dict__)\n",
    "print(emp_2.__dict__)\n",
    "\n",
    "emp_1.apply_raise()\n",
    "\n",
    "print(emp_1.print())\n",
    "print(emp_2.print())\n",
    "\n",
    "print(\"No Of Employees\",emp_1.no_empl)\n",
    "print(\"No Of Employees\",emp_2.no_empl)\n",
    "print(\"No Of Employees\",Employee.no_empl)"
   ]
  },
  {
   "cell_type": "code",
   "execution_count": 189,
   "metadata": {},
   "outputs": [
    {
     "name": "stdout",
     "output_type": "stream",
     "text": [
      "Manager Overring : Soumyadip Chowdhury Soumyadip.Chowdhury@python.com 700000 [Developer Overring : Soumyadip Chowdhury Soumyadip.Chowdhury@python.com 700000 Python]\n",
      "Manager Overring : Soumyadip Chowdhury Soumyadip.Chowdhury@python.com 700000 [Developer Overring : Soumyadip Chowdhury Soumyadip.Chowdhury@python.com 700000 Python]\n"
     ]
    }
   ],
   "source": [
    "\n",
    "class Employee:\n",
    "    \n",
    "    def __init__(self,f ,l ,p ):\n",
    "        self.first=f\n",
    "        self.last=l\n",
    "        self.email=f+\".\"+l+\"@python.com\"\n",
    "        self.pay=p\n",
    "        \n",
    "    def __repr__(self):\n",
    "        return \"{} {} {} {}\".format(self.first,self.last,self.email,self.pay)\n",
    "\n",
    "    \n",
    "class Developer(Employee):\n",
    "    \n",
    "    \n",
    "     def __repr__(self):\n",
    "        return \"Developer Overring : {} {} {} {} {}\".format(self.first,self.last,self.email,self.pay,self.lang)\n",
    "    \n",
    "     def __init__(self,f ,l ,p ,lang ):\n",
    "        super().__init__(f,l,p)\n",
    "        self.lang=lang\n",
    "        \n",
    "class Manager(Employee):\n",
    "     \n",
    "    def __repr__(self):\n",
    "        return (\"Manager Overring : {} {} {} {} {}\".format(self.first,self.last,self.email,self.pay,self.employees))\n",
    "    \n",
    "    def __init__(self,f ,l ,p ,employees=None):\n",
    "        super().__init__(f,l,p)\n",
    "        if employees is None:\n",
    "            self.employees=[]\n",
    "        else:\n",
    "            self.employees=employees\n",
    "    \n",
    "    def add(self, emp):\n",
    "        if emp not in self.employees:\n",
    "            self.employees.append(emp)   \n",
    "            \n",
    "dev_1=Developer(\"Soumyadip\",\"Chowdhury\",700000,\"Python\")\n",
    "dev_2=Developer(\"Soumyadip\",\"Chowdhury\",900000,\"JAVA\")\n",
    "man_1=Manager(\"Soumyadip\",\"Chowdhury\",700000,[dev_1])\n",
    "\n",
    "print(repr(man_1))\n",
    "print(man_1.__repr__())"
   ]
  },
  {
   "cell_type": "code",
   "execution_count": 190,
   "metadata": {},
   "outputs": [
    {
     "name": "stdout",
     "output_type": "stream",
     "text": [
      "Soumyadip Chowdhury Soumyadip.Chowdhury@python.com 900000\n",
      "Soumyadip Chowdhury Soumyadip.Chowdhury@python.com 100000\n",
      "Soumya Dip Soumyadip.Chowdhury@python.com 900000\n",
      "Soumyadip Chowdhury Soumyadip.Chowdhury@python.com 100000\n",
      "Deleting\n",
      "None None Soumyadip.Chowdhury@python.com 900000\n",
      "Soumyadip Chowdhury Soumyadip.Chowdhury@python.com 100000\n"
     ]
    }
   ],
   "source": [
    "\n",
    "class Employee:\n",
    "    \n",
    "    def __init__(self,f ,l ,p ):\n",
    "        self.first=f\n",
    "        self.last=l\n",
    "        self.email=f+\".\"+l+\"@python.com\"\n",
    "        self.pay=p\n",
    "        \n",
    "    @property   # Getter\n",
    "    def setterEx(self):\n",
    "        return \"{} {} {} {}\".format(self.first,self.last,self.email,self.pay)\n",
    "        \n",
    "    @setterEx.setter \n",
    "    def setterEx(self, name):\n",
    "        first, last=name.split(' ')\n",
    "        self.first=first\n",
    "        self.last=last\n",
    "        \n",
    "    @setterEx.deleter \n",
    "    def setterEx(self):\n",
    "        print(\"Deleting\")\n",
    "        self.first=None\n",
    "        self.last=None\n",
    "    \n",
    "emp_1=Employee(\"Soumyadip\",\"Chowdhury\",900000)\n",
    "emp_2=Employee(\"Soumyadip\",\"Chowdhury\",100000)\n",
    "\n",
    "print(emp_1.setterEx)\n",
    "print(emp_2.setterEx)\n",
    "\n",
    "emp_1.setterEx=\"Soumya Dip\"\n",
    "\n",
    "print(emp_1.setterEx)\n",
    "print(emp_2.setterEx)\n",
    "\n",
    "del emp_1.setterEx\n",
    "\n",
    "print(emp_1.setterEx)\n",
    "print(emp_2.setterEx)"
   ]
  },
  {
   "cell_type": "code",
   "execution_count": 191,
   "metadata": {},
   "outputs": [
    {
     "name": "stdout",
     "output_type": "stream",
     "text": [
      "Developer Overring : Soumyadip Chowdhury Soumyadip.Chowdhury@python.com 700000 Python\n",
      "Developer Overring : Soumyadip Chowdhury Soumyadip.Chowdhury@python.com 900000 JAVA\n",
      "Manager\n",
      "Developer Overring : Soumyadip Chowdhury Soumyadip.Chowdhury@python.com 700000 Python\n",
      "Developer Overring : Soumyadip Chowdhury Soumyadip.Chowdhury@python.com 900000 JAVA\n",
      "Manager Overring : Soumyadip Chowdhury Soumyadip.Chowdhury@python.com 700000 [<__main__.Developer object at 0x00000251BB1AB6A0>, <__main__.Developer object at 0x00000251BB1AB6D8>]\n"
     ]
    }
   ],
   "source": [
    "class Employee:\n",
    "    \n",
    "    def __init__(self,f ,l ,p ):\n",
    "        self.first=f\n",
    "        self.last=l\n",
    "        self.email=f+\".\"+l+\"@python.com\"\n",
    "        self.pay=p\n",
    "        \n",
    "    def print(self):\n",
    "        return \"{} {} {} {}\".format(self.first,self.last,self.email,self.pay)\n",
    "\n",
    "    \n",
    "class Developer(Employee):\n",
    "    \n",
    "    \n",
    "     def print(self):\n",
    "        return \"Developer Overring : {} {} {} {} {}\".format(self.first,self.last,self.email,self.pay,self.lang)\n",
    "    \n",
    "     def __init__(self,f ,l ,p ,lang ):\n",
    "        super().__init__(f,l,p)\n",
    "        self.lang=lang\n",
    "        \n",
    "class Manager(Employee):\n",
    "     \n",
    "    def print(self):\n",
    "        print(\"Manager\")\n",
    "        for x in self.employees:\n",
    "            print(x.print())\n",
    "        print(\"Manager Overring : {} {} {} {} {}\".format(self.first,self.last,self.email,self.pay,self.employees))\n",
    "    \n",
    "    def __init__(self,f ,l ,p ,employees=None):\n",
    "        super().__init__(f,l,p)\n",
    "        if employees is None:\n",
    "            self.employees=[]\n",
    "        else:\n",
    "            self.employees=employees\n",
    "    \n",
    "    def add(self, emp):\n",
    "        if emp not in self.employees:\n",
    "            self.employees.append(emp)   \n",
    "            \n",
    "dev_1=Developer(\"Soumyadip\",\"Chowdhury\",700000,\"Python\")\n",
    "dev_2=Developer(\"Soumyadip\",\"Chowdhury\",900000,\"JAVA\")\n",
    "print(dev_1.print())\n",
    "print(dev_2.print())\n",
    "man_1=Manager(\"Soumyadip\",\"Chowdhury\",700000,[dev_1])\n",
    "man_1.add(dev_2)\n",
    "man_1.print()"
   ]
  },
  {
   "cell_type": "code",
   "execution_count": 192,
   "metadata": {},
   "outputs": [
    {
     "name": "stdout",
     "output_type": "stream",
     "text": [
      "Overring : Soumyadip Chowdhury Soumyadip.Chowdhury@python.com 700000 Python\n",
      "Overring : Soumyadip Chowdhury Soumyadip.Chowdhury@python.com 900000 JAVA\n",
      "Help on class Developer in module __main__:\n",
      "\n",
      "class Developer(Employee)\n",
      " |  Developer(f, l, p, lang)\n",
      " |  \n",
      " |  Method resolution order:\n",
      " |      Developer\n",
      " |      Employee\n",
      " |      builtins.object\n",
      " |  \n",
      " |  Methods defined here:\n",
      " |  \n",
      " |  __init__(self, f, l, p, lang)\n",
      " |      Initialize self.  See help(type(self)) for accurate signature.\n",
      " |  \n",
      " |  print(self)\n",
      " |  \n",
      " |  ----------------------------------------------------------------------\n",
      " |  Data descriptors inherited from Employee:\n",
      " |  \n",
      " |  __dict__\n",
      " |      dictionary for instance variables (if defined)\n",
      " |  \n",
      " |  __weakref__\n",
      " |      list of weak references to the object (if defined)\n",
      "\n",
      "None\n"
     ]
    }
   ],
   "source": [
    "\n",
    "class Employee:\n",
    "    \n",
    "    def __init__(self,f ,l ,p ):\n",
    "        self.first=f\n",
    "        self.last=l\n",
    "        self.email=f+\".\"+l+\"@python.com\"\n",
    "        self.pay=p\n",
    "        \n",
    "    def print(self):\n",
    "        return \"{} {} {} {}\".format(self.first,self.last,self.email,self.pay)\n",
    "\n",
    "    \n",
    "class Developer(Employee):\n",
    "     def print(self):\n",
    "        return \"Overring : {} {} {} {} {}\".format(self.first,self.last,self.email,self.pay,self.lang)\n",
    "    \n",
    "     def __init__(self,f ,l ,p ,lang ):\n",
    "        super().__init__(f,l,p)\n",
    "        #Employee.__init__(self,f,l,p)\n",
    "        self.lang=lang\n",
    "    \n",
    "dev_1=Developer(\"Soumyadip\",\"Chowdhury\",700000,\"Python\")\n",
    "dev_2=Developer(\"Soumyadip\",\"Chowdhury\",900000,\"JAVA\")\n",
    "print(dev_1.print())\n",
    "print(dev_2.print())\n",
    "print(help(Developer))"
   ]
  },
  {
   "cell_type": "code",
   "execution_count": 193,
   "metadata": {},
   "outputs": [
    {
     "name": "stdout",
     "output_type": "stream",
     "text": [
      "<__main__.Employee object at 0x00000251BB16AF60>\n",
      "Soumyadip\n",
      "Chowdhury\n",
      "Soumyadip.Chowdhury@python.com\n",
      "900000\n",
      "<__main__.Employee object at 0x00000251BB16ADA0>\n",
      "Soumyadip\n",
      "Chowdhury\n",
      "Soumyadip.Chowdhury@python.com\n",
      "100000\n"
     ]
    }
   ],
   "source": [
    "class Employee:\n",
    "    \n",
    "    def __init__(self,f ,l ,p ):\n",
    "        self.first=f\n",
    "        self.last=l\n",
    "        self.email=f+\".\"+l+\"@python.com\"\n",
    "        self.pay=p\n",
    "        \n",
    "    \n",
    "emp_1=Employee(\"Soumyadip\",\"Chowdhury\",900000)\n",
    "emp_2=Employee(\"Soumyadip\",\"Chowdhury\",100000)\n",
    "print(emp_1)\n",
    "print(emp_1.first)\n",
    "print(emp_1.last)\n",
    "print(emp_1.email)\n",
    "print(emp_1.pay )\n",
    "print(emp_2)\n",
    "print(emp_2.first)\n",
    "print(emp_2.last)\n",
    "print(emp_2.email)\n",
    "print(emp_2.pay )"
   ]
  },
  {
   "cell_type": "code",
   "execution_count": 194,
   "metadata": {},
   "outputs": [],
   "source": [
    "class Employee:\n",
    "    pass\n",
    "\n",
    "emp_1=Employee()\n",
    "emp_2=Employee()"
   ]
  },
  {
   "cell_type": "code",
   "execution_count": 195,
   "metadata": {},
   "outputs": [
    {
     "name": "stdout",
     "output_type": "stream",
     "text": [
      "<__main__.Employee object at 0x00000251BB186C88>\n",
      "<__main__.Employee object at 0x00000251BB186048>\n"
     ]
    }
   ],
   "source": [
    "\n",
    "print(emp_1)\n",
    "print(emp_2)"
   ]
  },
  {
   "cell_type": "code",
   "execution_count": 196,
   "metadata": {},
   "outputs": [],
   "source": [
    "emp_1.first=\"Soumyadip\"\n",
    "emp_1.last=\"Chowdhury\"\n",
    "emp_1.email=\"soumyadip.cmp@gmail.com\"\n",
    "emp_1.pay=90000"
   ]
  },
  {
   "cell_type": "code",
   "execution_count": 197,
   "metadata": {},
   "outputs": [
    {
     "name": "stdout",
     "output_type": "stream",
     "text": [
      "<__main__.Employee object at 0x00000251BB186C88>\n",
      "Soumyadip\n",
      "Chowdhury\n",
      "soumyadip.cmp@gmail.com\n",
      "90000\n"
     ]
    }
   ],
   "source": [
    "print(emp_1)\n",
    "print(emp_1.first)\n",
    "print(emp_1.last)\n",
    "print(emp_1.email)\n",
    "print(emp_1.pay )"
   ]
  },
  {
   "cell_type": "code",
   "execution_count": 198,
   "metadata": {},
   "outputs": [
    {
     "name": "stdout",
     "output_type": "stream",
     "text": [
      "Soumyadip Chowdhury Soumyadip.Chowdhury@python.com 900000\n",
      "Bristi Biswas Bristi.Biswas@python.com 100000\n",
      "True\n"
     ]
    }
   ],
   "source": [
    "class Employee:\n",
    "    \n",
    "    def __init__(self,f ,l ,p ):\n",
    "        self.first=f\n",
    "        self.last=l\n",
    "        self.email=f+\".\"+l+\"@python.com\"\n",
    "        self.pay=p\n",
    "        \n",
    "    def print(self):\n",
    "        return \"{} {} {} {}\".format(self.first,self.last,self.email,self.pay)\n",
    "  \n",
    "\n",
    "emp_1=Employee(\"Soumyadip\",\"Chowdhury\",900000)\n",
    "emp_2=Employee(\"Bristi\",\"Biswas\",100000)\n",
    "print(emp_1.print())\n",
    "print(emp_2.print())\n",
    "\n",
    "print(isinstance(emp_1,Employee))"
   ]
  },
  {
   "cell_type": "code",
   "execution_count": 199,
   "metadata": {},
   "outputs": [
    {
     "name": "stdout",
     "output_type": "stream",
     "text": [
      "True\n",
      "True\n",
      "True\n"
     ]
    }
   ],
   "source": [
    "class Employee:\n",
    "    \n",
    "    no_empl=0;\n",
    "    raise_amount=1.04\n",
    "    \n",
    "    def __init__(self,f ,l ,p ):\n",
    "        self.first=f\n",
    "        self.last=l\n",
    "        self.email=f+\".\"+l+\"@python.com\"\n",
    "        self.pay=p\n",
    "        Employee.no_empl=Employee.no_empl+1\n",
    "        \n",
    "        \n",
    "    def print(self):\n",
    "        return \"{} {} {} {}\".format(self.first,self.last,self.email,self.pay)\n",
    "   \n",
    "    def apply_raise(self):\n",
    "        self.pay=int(self.pay* self.raise_amount)\n",
    "    ## Can print using class,self and obj name    \n",
    " \n",
    "    @staticmethod\n",
    "    def is_workng(day):\n",
    "        if day.weekday() == 5 or day.weekday() == 6:\n",
    "            return False\n",
    "        return True\n",
    "        \n",
    "emp_1=Employee(\"Soumyadip\",\"Chowdhury\",900000)\n",
    "emp_2=Employee(\"Soumyadip\",\"Chowdhury\",100000)\n",
    "\n",
    "import datetime\n",
    "\n",
    "myBday=datetime.date(2020,3,19)\n",
    "print(Employee.is_workng(myBday))\n",
    "print(emp_1.is_workng(myBday))\n",
    "print(emp_2.is_workng(myBday))"
   ]
  },
  {
   "cell_type": "code",
   "execution_count": 200,
   "metadata": {},
   "outputs": [
    {
     "name": "stdout",
     "output_type": "stream",
     "text": [
      "True\n",
      "False\n",
      "True\n",
      "False\n",
      "True\n",
      "True\n",
      "True\n",
      "(<class '__main__.Manager'>, <class '__main__.Employee'>)\n",
      "False\n"
     ]
    }
   ],
   "source": [
    "\n",
    "class Employee:\n",
    "    \n",
    "    def __init__(self,f ,l ,p ):\n",
    "        self.first=f\n",
    "        self.last=l\n",
    "        self.email=f+\".\"+l+\"@python.com\"\n",
    "        self.pay=p\n",
    "        \n",
    "    def print(self):\n",
    "        return \"{} {} {} {}\".format(self.first,self.last,self.email,self.pay)\n",
    "\n",
    "    \n",
    "class Developer(Employee):\n",
    "    \n",
    "    \n",
    "     def print(self):\n",
    "        return \"Developer Overring : {} {} {} {} {}\".format(self.first,self.last,self.email,self.pay,self.lang)\n",
    "    \n",
    "     def __init__(self,f ,l ,p ,lang ):\n",
    "        super().__init__(f,l,p)\n",
    "        self.lang=lang\n",
    "        \n",
    "class Manager(Employee):\n",
    "     \n",
    "    def print(self):\n",
    "        for x in self.employees:\n",
    "            print(x.print())\n",
    "        print(\"Manager Overring : {} {} {} {} {}\".format(self.first,self.last,self.email,self.pay,self.employees))\n",
    "    \n",
    "    def __init__(self,f ,l ,p ,employees=None):\n",
    "        super().__init__(f,l,p)\n",
    "        if employees is None:\n",
    "            self.employees=[]\n",
    "        else:\n",
    "            self.employees=employees\n",
    "    \n",
    "    def add(self, emp):\n",
    "        if emp not in self.employees:\n",
    "            self.employees.append(emp)   \n",
    "            \n",
    "dev_1=Developer(\"Soumyadip\",\"Chowdhury\",700000,\"Python\")\n",
    "dev_2=Developer(\"Soumyadip\",\"Chowdhury\",900000,\"JAVA\")\n",
    "man_1=Manager(\"Soumyadip\",\"Chowdhury\",700000,[dev_1])\n",
    "\n",
    "print(isinstance(dev_1,Developer))\n",
    "print(isinstance(dev_1,Manager))\n",
    "print(isinstance(man_1,Manager))\n",
    "print(isinstance(man_1,Developer))\n",
    "print(isinstance(dev_1,Employee))\n",
    "print(isinstance(man_1,Employee))\n",
    "\n",
    "print(issubclass(Developer,Employee))\n",
    "print((Manager,Employee))\n",
    "print(issubclass(Manager,Developer))"
   ]
  },
  {
   "cell_type": "markdown",
   "metadata": {},
   "source": [
    "# 모듈"
   ]
  },
  {
   "cell_type": "raw",
   "metadata": {},
   "source": [
    "from <모듈> import <어트리뷰트>\n",
    "from <모듈> import *\n",
    "import <모듈> as <별칭>"
   ]
  },
  {
   "cell_type": "raw",
   "metadata": {},
   "source": [
    "모듈이 직접 실행 또는 다른곳에서 임포트되었는지를 구분해주는 __name__ 어트리뷰트"
   ]
  },
  {
   "cell_type": "code",
   "execution_count": 3,
   "metadata": {},
   "outputs": [
    {
     "name": "stdout",
     "output_type": "stream",
     "text": [
      "모듈임\n"
     ]
    }
   ],
   "source": [
    "if __name__ == '__main__':\n",
    "    print(\"모듈임\")\n",
    "else:\n",
    "    print('임포트임')"
   ]
  },
  {
   "cell_type": "markdown",
   "metadata": {},
   "source": [
    "# 패키지"
   ]
  },
  {
   "cell_type": "markdown",
   "metadata": {},
   "source": [
    "디렉토리 형태로 만들어진것"
   ]
  },
  {
   "cell_type": "markdown",
   "metadata": {},
   "source": [
    "![aa](0010.jpg)"
   ]
  },
  {
   "cell_type": "raw",
   "metadata": {},
   "source": [
    "from pear import * #pear.py외에도 같은디렉토리 하위디렉토리를 참조하는 경우 사용\n",
    "from food.plant.fruit.pear import pear #상위 디렉토리부터 찾아 사용하는 경우"
   ]
  },
  {
   "cell_type": "markdown",
   "metadata": {},
   "source": [
    "# 예외처리"
   ]
  },
  {
   "cell_type": "code",
   "execution_count": 7,
   "metadata": {},
   "outputs": [
    {
     "name": "stdout",
     "output_type": "stream",
     "text": [
      "Zero Exception\n"
     ]
    }
   ],
   "source": [
    "a, b = 2,0\n",
    "def div(a,b):\n",
    "    return a/b\n",
    "try:\n",
    "    c= div(a,b)\n",
    "except:\n",
    "    print(\"Zero Exception\")"
   ]
  },
  {
   "cell_type": "code",
   "execution_count": 14,
   "metadata": {},
   "outputs": [
    {
     "name": "stdout",
     "output_type": "stream",
     "text": [
      "all argument is equal type \n"
     ]
    }
   ],
   "source": [
    "a, b = 2,'str'\n",
    "def div(a,b):\n",
    "    return a/b\n",
    "\n",
    "try:\n",
    "    c= div(a,b)\n",
    "except ZeroDivisionError:\n",
    "    print(\"Zero Exception\")\n",
    "except TypeError:\n",
    "    print(\"all argument is equal type \")\n",
    "except:\n",
    "    print(\"any Error\")"
   ]
  },
  {
   "cell_type": "code",
   "execution_count": 17,
   "metadata": {},
   "outputs": [
    {
     "name": "stdout",
     "output_type": "stream",
     "text": [
      "2.0\n",
      "이건 무조건 수행\n"
     ]
    }
   ],
   "source": [
    "a, b = 2,1\n",
    "def div(a,b):\n",
    "    return a/b\n",
    "\n",
    "try:\n",
    "    c= div(a,b)\n",
    "except ZeroDivisionError:\n",
    "    print(\"Zero Exception\")\n",
    "except TypeError:\n",
    "    print(\"all argument is equal type \")\n",
    "except:\n",
    "    print(\"Zero,Type가 아닌 any Error\")\n",
    "else: #예외가 발생하지 않았을경우\n",
    "    print(f'{c}')\n",
    "finally:#예외발생유무와 상관없이 수행\n",
    "    print('이건 무조건 수행')"
   ]
  },
  {
   "cell_type": "code",
   "execution_count": 24,
   "metadata": {},
   "outputs": [
    {
     "name": "stdout",
     "output_type": "stream",
     "text": [
      "all argument is equal type unsupported operand type(s) for /: 'int' and 'str'\n"
     ]
    }
   ],
   "source": [
    "a, b = 2,'str'\n",
    "def div(a,b):\n",
    "    return a/b\n",
    "\n",
    "try:\n",
    "    c= div(a,b)\n",
    "except TypeError as e: #전달되는 예외 인스턴트 객체를 e로받아서 사용\n",
    "    print(\"all argument is equal type\", e.args[0])#추가적인 정보 제공\n",
    "except Exception:\n",
    "    print(\"any Error\")"
   ]
  },
  {
   "cell_type": "code",
   "execution_count": 25,
   "metadata": {},
   "outputs": [
    {
     "name": "stdout",
     "output_type": "stream",
     "text": [
      "all argument is equal type \n"
     ]
    }
   ],
   "source": [
    "a, b = 2,'str'\n",
    "def div(a,b):\n",
    "    return a/b\n",
    "\n",
    "try:\n",
    "    c= div(a,b)\n",
    "except (TypeError, ZeroDivisionError):\n",
    "    print(\"all argument is equal type \")\n",
    "except Exception:\n",
    "    print(\"any Error\")"
   ]
  },
  {
   "cell_type": "code",
   "execution_count": 27,
   "metadata": {},
   "outputs": [
    {
     "name": "stdout",
     "output_type": "stream",
     "text": [
      "all argument is equal type \n"
     ]
    }
   ],
   "source": [
    "a, b = 2,'str'\n",
    "def div(a,b):\n",
    "    return a/b\n",
    "\n",
    "try:\n",
    "    c= div(a,b)\n",
    "except ArithmeticError: #상위 클래스를 터리시 하위 모든 클래스도 이부분처리\n",
    "    print('수치에러')\n",
    "except TypeError:\n",
    "    print(\"all argument is equal type \")\n",
    "except Exception:\n",
    "    print(\"any Error\")"
   ]
  },
  {
   "cell_type": "markdown",
   "metadata": {},
   "source": [
    "try:\n",
    "    <예외 발생가능성이 있는 문장>\n",
    "finally:\n",
    "    <예외발생유무와 상관없이 수행하는 문장>"
   ]
  },
  {
   "cell_type": "code",
   "execution_count": 30,
   "metadata": {},
   "outputs": [
    {
     "name": "stdout",
     "output_type": "stream",
     "text": [
      "File not found\n"
     ]
    }
   ],
   "source": [
    "# FilePath ='./sample.txt'\n",
    "FilePath ='./sample1.txt'\n",
    "try:\n",
    "    f=open(FilePath,\"r\")\n",
    "    try:\n",
    "        data = f.read(128)\n",
    "        print(data)\n",
    "    finally:\n",
    "        f.close()\n",
    "except IOError:\n",
    "    print('File not found')"
   ]
  },
  {
   "cell_type": "markdown",
   "metadata": {},
   "source": [
    "# 사용자가 의도적으로 에러를 발생시키는 경우"
   ]
  },
  {
   "cell_type": "raw",
   "metadata": {},
   "source": [
    "raise[Exception]\n",
    "raise[Exception(data)]\n",
    "raise"
   ]
  },
  {
   "cell_type": "code",
   "execution_count": 32,
   "metadata": {},
   "outputs": [
    {
     "name": "stdout",
     "output_type": "stream",
     "text": [
      "Eroor\n"
     ]
    }
   ],
   "source": [
    "def dog():\n",
    "    raise NameError #내장예외인 NameError 발생시킴\n",
    "try:\n",
    "    dog()\n",
    "except:\n",
    "    print(\"Eroor\")"
   ]
  },
  {
   "cell_type": "markdown",
   "metadata": {},
   "source": [
    "# 내장예외가 부족하여 사용자가 직접예외정의"
   ]
  },
  {
   "cell_type": "code",
   "execution_count": null,
   "metadata": {},
   "outputs": [],
   "source": [
    "calss MyException(Exception):\n",
    "    def __init__(self,value):\n",
    "        self.value = value\n",
    "        "
   ]
  }
 ],
 "metadata": {
  "kernelspec": {
   "display_name": "Python 3",
   "language": "python",
   "name": "python3"
  },
  "language_info": {
   "codemirror_mode": {
    "name": "ipython",
    "version": 3
   },
   "file_extension": ".py",
   "mimetype": "text/x-python",
   "name": "python",
   "nbconvert_exporter": "python",
   "pygments_lexer": "ipython3",
   "version": "3.8.5"
  },
  "toc": {
   "base_numbering": 1,
   "nav_menu": {},
   "number_sections": true,
   "sideBar": true,
   "skip_h1_title": false,
   "title_cell": "Table of Contents",
   "title_sidebar": "Contents",
   "toc_cell": false,
   "toc_position": {},
   "toc_section_display": true,
   "toc_window_display": false
  },
  "varInspector": {
   "cols": {
    "lenName": 16,
    "lenType": 16,
    "lenVar": 40
   },
   "kernels_config": {
    "python": {
     "delete_cmd_postfix": "",
     "delete_cmd_prefix": "del ",
     "library": "var_list.py",
     "varRefreshCmd": "print(var_dic_list())"
    },
    "r": {
     "delete_cmd_postfix": ") ",
     "delete_cmd_prefix": "rm(",
     "library": "var_list.r",
     "varRefreshCmd": "cat(var_dic_list()) "
    }
   },
   "types_to_exclude": [
    "module",
    "function",
    "builtin_function_or_method",
    "instance",
    "_Feature"
   ],
   "window_display": false
  }
 },
 "nbformat": 4,
 "nbformat_minor": 1
}
